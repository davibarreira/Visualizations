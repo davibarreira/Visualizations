{
 "cells": [
  {
   "cell_type": "markdown",
   "metadata": {},
   "source": [
    "## Exercício 3 - Replicando o gráfico de Minard"
   ]
  },
  {
   "cell_type": "code",
   "execution_count": 3,
   "metadata": {},
   "outputs": [
    {
     "name": "stderr",
     "output_type": "stream",
     "text": [
      "┌ Info: Precompiling RDatasets [ce6b1742-4840-55fa-b093-852dadbb1d8b]\n",
      "└ @ Base loading.jl:1278\n"
     ]
    }
   ],
   "source": [
    "using DataFrames,Plots, VegaLite\n",
    "using FilePaths, RDatasets\n",
    "using CSV"
   ]
  },
  {
   "cell_type": "code",
   "execution_count": 4,
   "metadata": {},
   "outputs": [],
   "source": [
    "troops = RDatasets.dataset(\"HistData\", \"Minard.troops\")\n",
    "temp = RDatasets.dataset(\"HistData\", \"Minard.temp\")\n",
    "cities = RDatasets.dataset(\"HistData\", \"Minard.cities\");"
   ]
  },
  {
   "cell_type": "code",
   "execution_count": 5,
   "metadata": {},
   "outputs": [
    {
     "name": "stderr",
     "output_type": "stream",
     "text": [
      "WARN Missing type for channel \"order\", using \"quantitative\" instead.\n",
      "WARN Missing type for channel \"order\", using \"quantitative\" instead.\n",
      "WARN Missing type for channel \"order\", using \"quantitative\" instead.\n",
      "WARN Missing type for channel \"order\", using \"quantitative\" instead.\n"
     ]
    },
    {
     "data": {
      "application/vnd.vegalite.v4+json": {
       "vconcat": [
        {
         "height": 300,
         "layer": [
          {
           "data": {
            "values": [
             {
              "Direction": "A",
              "Group": 1,
              "Lat": 54.9,
              "Long": 24,
              "Survivors": 340000
             },
             {
              "Direction": "A",
              "Group": 1,
              "Lat": 55,
              "Long": 24.5,
              "Survivors": 340000
             },
             {
              "Direction": "A",
              "Group": 1,
              "Lat": 54.5,
              "Long": 25.5,
              "Survivors": 340000
             },
             {
              "Direction": "A",
              "Group": 1,
              "Lat": 54.7,
              "Long": 26,
              "Survivors": 320000
             },
             {
              "Direction": "A",
              "Group": 1,
              "Lat": 54.8,
              "Long": 27,
              "Survivors": 300000
             },
             {
              "Direction": "A",
              "Group": 1,
              "Lat": 54.9,
              "Long": 28,
              "Survivors": 280000
             },
             {
              "Direction": "A",
              "Group": 1,
              "Lat": 55,
              "Long": 28.5,
              "Survivors": 240000
             },
             {
              "Direction": "A",
              "Group": 1,
              "Lat": 55.1,
              "Long": 29,
              "Survivors": 210000
             },
             {
              "Direction": "A",
              "Group": 1,
              "Lat": 55.2,
              "Long": 30,
              "Survivors": 180000
             },
             {
              "Direction": "A",
              "Group": 1,
              "Lat": 55.3,
              "Long": 30.3,
              "Survivors": 175000
             },
             {
              "Direction": "A",
              "Group": 1,
              "Lat": 54.8,
              "Long": 32,
              "Survivors": 145000
             },
             {
              "Direction": "A",
              "Group": 1,
              "Lat": 54.9,
              "Long": 33.2,
              "Survivors": 140000
             },
             {
              "Direction": "A",
              "Group": 1,
              "Lat": 55.5,
              "Long": 34.4,
              "Survivors": 127100
             },
             {
              "Direction": "A",
              "Group": 1,
              "Lat": 55.4,
              "Long": 35.5,
              "Survivors": 100000
             },
             {
              "Direction": "A",
              "Group": 1,
              "Lat": 55.5,
              "Long": 36,
              "Survivors": 100000
             },
             {
              "Direction": "A",
              "Group": 1,
              "Lat": 55.8,
              "Long": 37.6,
              "Survivors": 100000
             },
             {
              "Direction": "R",
              "Group": 1,
              "Lat": 55.7,
              "Long": 37.7,
              "Survivors": 100000
             },
             {
              "Direction": "R",
              "Group": 1,
              "Lat": 55.7,
              "Long": 37.5,
              "Survivors": 98000
             },
             {
              "Direction": "R",
              "Group": 1,
              "Lat": 55,
              "Long": 37,
              "Survivors": 97000
             },
             {
              "Direction": "R",
              "Group": 1,
              "Lat": 55,
              "Long": 36.8,
              "Survivors": 96000
             },
             {
              "Direction": "R",
              "Group": 1,
              "Lat": 55.3,
              "Long": 35.4,
              "Survivors": 87000
             },
             {
              "Direction": "R",
              "Group": 1,
              "Lat": 55.2,
              "Long": 34.3,
              "Survivors": 55000
             },
             {
              "Direction": "R",
              "Group": 1,
              "Lat": 54.8,
              "Long": 33.3,
              "Survivors": 37000
             },
             {
              "Direction": "R",
              "Group": 1,
              "Lat": 54.6,
              "Long": 32,
              "Survivors": 24000
             },
             {
              "Direction": "R",
              "Group": 1,
              "Lat": 54.4,
              "Long": 30.4,
              "Survivors": 20000
             },
             {
              "Direction": "R",
              "Group": 1,
              "Lat": 54.3,
              "Long": 29.2,
              "Survivors": 20000
             },
             {
              "Direction": "R",
              "Group": 1,
              "Lat": 54.2,
              "Long": 28.5,
              "Survivors": 20000
             },
             {
              "Direction": "R",
              "Group": 1,
              "Lat": 54.3,
              "Long": 28.3,
              "Survivors": 20000
             },
             {
              "Direction": "R",
              "Group": 1,
              "Lat": 54.5,
              "Long": 27.5,
              "Survivors": 20000
             },
             {
              "Direction": "R",
              "Group": 1,
              "Lat": 54.3,
              "Long": 26.8,
              "Survivors": 12000
             },
             {
              "Direction": "R",
              "Group": 1,
              "Lat": 54.4,
              "Long": 26.4,
              "Survivors": 14000
             },
             {
              "Direction": "R",
              "Group": 1,
              "Lat": 54.4,
              "Long": 25,
              "Survivors": 8000
             },
             {
              "Direction": "R",
              "Group": 1,
              "Lat": 54.4,
              "Long": 24.4,
              "Survivors": 4000
             },
             {
              "Direction": "R",
              "Group": 1,
              "Lat": 54.4,
              "Long": 24.2,
              "Survivors": 4000
             },
             {
              "Direction": "R",
              "Group": 1,
              "Lat": 54.4,
              "Long": 24.1,
              "Survivors": 4000
             },
             {
              "Direction": "A",
              "Group": 2,
              "Lat": 55.1,
              "Long": 24,
              "Survivors": 60000
             },
             {
              "Direction": "A",
              "Group": 2,
              "Lat": 55.2,
              "Long": 24.5,
              "Survivors": 60000
             },
             {
              "Direction": "A",
              "Group": 2,
              "Lat": 54.7,
              "Long": 25.5,
              "Survivors": 60000
             },
             {
              "Direction": "A",
              "Group": 2,
              "Lat": 55.7,
              "Long": 26.6,
              "Survivors": 40000
             },
             {
              "Direction": "A",
              "Group": 2,
              "Lat": 55.6,
              "Long": 27.4,
              "Survivors": 33000
             },
             {
              "Direction": "A",
              "Group": 2,
              "Lat": 55.5,
              "Long": 28.7,
              "Survivors": 33000
             },
             {
              "Direction": "R",
              "Group": 2,
              "Lat": 55.5,
              "Long": 28.7,
              "Survivors": 33000
             },
             {
              "Direction": "R",
              "Group": 2,
              "Lat": 54.2,
              "Long": 29.2,
              "Survivors": 30000
             },
             {
              "Direction": "R",
              "Group": 2,
              "Lat": 54.1,
              "Long": 28.5,
              "Survivors": 30000
             },
             {
              "Direction": "R",
              "Group": 2,
              "Lat": 54.2,
              "Long": 28.3,
              "Survivors": 28000
             },
             {
              "Direction": "A",
              "Group": 3,
              "Lat": 55.2,
              "Long": 24,
              "Survivors": 22000
             },
             {
              "Direction": "A",
              "Group": 3,
              "Lat": 55.3,
              "Long": 24.5,
              "Survivors": 22000
             },
             {
              "Direction": "A",
              "Group": 3,
              "Lat": 55.8,
              "Long": 24.6,
              "Survivors": 6000
             },
             {
              "Direction": "R",
              "Group": 3,
              "Lat": 55.8,
              "Long": 24.6,
              "Survivors": 6000
             },
             {
              "Direction": "R",
              "Group": 3,
              "Lat": 54.4,
              "Long": 24.2,
              "Survivors": 6000
             },
             {
              "Direction": "R",
              "Group": 3,
              "Lat": 54.4,
              "Long": 24.1,
              "Survivors": 6000
             }
            ]
           },
           "encoding": {
            "color": {
             "field": "Direction",
             "scale": {
              "range": [
               "#bd9e39",
               "gray"
              ]
             },
             "type": "nominal"
            },
            "detail": {
             "field": "Group",
             "type": "nominal"
            },
            "order": {
             "field": "row",
             "typ": "q"
            },
            "size": {
             "field": "Survivors",
             "scale": {
              "range": [
               1,
               30
              ]
             },
             "type": "quantitative"
            },
            "x": {
             "field": "Long",
             "scale": {
              "domain": [
               23,
               39
              ]
             },
             "type": "quantitative"
            },
            "y": {
             "field": "Lat",
             "scale": {
              "domain": [
               53.8,
               56
              ]
             },
             "type": "quantitative"
            }
           },
           "mark": {
            "clip": true,
            "point": true,
            "type": "trail"
           }
          },
          {
           "data": {
            "values": [
             {
              "City": "Kowno",
              "Lat": 55,
              "Long": 24
             },
             {
              "City": "Wilna",
              "Lat": 54.7,
              "Long": 25.3
             },
             {
              "City": "Smorgoni",
              "Lat": 54.4,
              "Long": 26.4
             },
             {
              "City": "Moiodexno",
              "Lat": 54.3,
              "Long": 26.8
             },
             {
              "City": "Gloubokoe",
              "Lat": 55.2,
              "Long": 27.7
             },
             {
              "City": "Minsk",
              "Lat": 53.9,
              "Long": 27.6
             },
             {
              "City": "Studienska",
              "Lat": 54.3,
              "Long": 28.5
             },
             {
              "City": "Polotzk",
              "Lat": 55.5,
              "Long": 28.7
             },
             {
              "City": "Bobr",
              "Lat": 54.4,
              "Long": 29.2
             },
             {
              "City": "Witebsk",
              "Lat": 55.3,
              "Long": 30.2
             },
             {
              "City": "Orscha",
              "Lat": 54.5,
              "Long": 30.4
             },
             {
              "City": "Mohilow",
              "Lat": 53.9,
              "Long": 30.4
             },
             {
              "City": "Smolensk",
              "Lat": 54.8,
              "Long": 32
             },
             {
              "City": "Dorogobouge",
              "Lat": 54.9,
              "Long": 33.2
             },
             {
              "City": "Wixma",
              "Lat": 55.2,
              "Long": 34.3
             },
             {
              "City": "Chjat",
              "Lat": 55.5,
              "Long": 34.4
             },
             {
              "City": "Mojaisk",
              "Lat": 55.5,
              "Long": 36
             },
             {
              "City": "Moscou",
              "Lat": 55.8,
              "Long": 37.6
             },
             {
              "City": "Tarantino",
              "Lat": 55.3,
              "Long": 36.6
             },
             {
              "City": "Malo-Jarosewii",
              "Lat": 55,
              "Long": 36.5
             }
            ]
           },
           "encoding": {
            "size": {
             "value": 10
            },
            "text": {
             "field": "City",
             "type": "nominal"
            },
            "x": {
             "field": "Long",
             "scale": {
              "domain": [
               23,
               39
              ]
             },
             "type": "quantitative"
            },
            "y": {
             "field": "Lat",
             "scale": {
              "domain": [
               53.8,
               56
              ]
             },
             "type": "quantitative"
            }
           },
           "mark": {
            "type": "text"
           }
          }
         ],
         "width": 800
        },
        {
         "height": 100,
         "layer": [
          {
           "data": {
            "values": [
             {
              "Date": "Oct18",
              "Days": 6,
              "Long": 37.6,
              "Temp": 0
             },
             {
              "Date": "Oct24",
              "Days": 6,
              "Long": 36,
              "Temp": 0
             },
             {
              "Date": "Nov09",
              "Days": 16,
              "Long": 33.2,
              "Temp": -9
             },
             {
              "Date": "Nov14",
              "Days": 5,
              "Long": 32,
              "Temp": -21
             },
             {
              "Date": null,
              "Days": 10,
              "Long": 29.2,
              "Temp": -11
             },
             {
              "Date": "Nov28",
              "Days": 4,
              "Long": 28.5,
              "Temp": -20
             },
             {
              "Date": "Dec01",
              "Days": 3,
              "Long": 27.2,
              "Temp": -24
             },
             {
              "Date": "Dec06",
              "Days": 5,
              "Long": 26.7,
              "Temp": -30
             },
             {
              "Date": "Dec07",
              "Days": 1,
              "Long": 25.3,
              "Temp": -26
             }
            ]
           },
           "encoding": {
            "x": {
             "field": "Long",
             "scale": {
              "domain": [
               23,
               39
              ]
             },
             "type": "quantitative"
            },
            "y": {
             "field": "Temp",
             "scale": {
              "domain": [
               -31,
               5
              ]
             },
             "type": "quantitative"
            }
           },
           "mark": {
            "clip": false,
            "color": "black",
            "point": {
             "fill": "black"
            },
            "type": "line"
           }
          },
          {
           "data": {
            "values": [
             {
              "Date": "Oct18",
              "Days": 6,
              "Long": 37.6,
              "Temp": 0
             },
             {
              "Date": "Oct24",
              "Days": 6,
              "Long": 36,
              "Temp": 0
             },
             {
              "Date": "Nov09",
              "Days": 16,
              "Long": 33.2,
              "Temp": -9
             },
             {
              "Date": "Nov14",
              "Days": 5,
              "Long": 32,
              "Temp": -21
             },
             {
              "Date": null,
              "Days": 10,
              "Long": 29.2,
              "Temp": -11
             },
             {
              "Date": "Nov28",
              "Days": 4,
              "Long": 28.5,
              "Temp": -20
             },
             {
              "Date": "Dec01",
              "Days": 3,
              "Long": 27.2,
              "Temp": -24
             },
             {
              "Date": "Dec06",
              "Days": 5,
              "Long": 26.7,
              "Temp": -30
             },
             {
              "Date": "Dec07",
              "Days": 1,
              "Long": 25.3,
              "Temp": -26
             }
            ]
           },
           "encoding": {
            "size": {
             "value": 8
            },
            "text": {
             "field": "Date",
             "type": "nominal"
            },
            "x": {
             "field": "Long",
             "scale": {
              "domain": [
               23,
               39
              ]
             },
             "type": "quantitative"
            },
            "y": {
             "field": "Temp",
             "scale": {
              "domain": [
               -31,
               5
              ]
             },
             "type": "quantitative"
            }
           },
           "mark": {
            "dy": -10,
            "type": "text"
           },
           "transform": [
            {
             "filter": "datum.Date !== null"
            }
           ]
          }
         ],
         "width": 800
        }
       ]
      },
      "image/png": "[encoded data removed]",
      "image/svg+xml": [
       "<?xml version=\"1.0\" encoding=\"utf-8\"?>\n",
       "<!DOCTYPE svg PUBLIC \"-//W3C//DTD SVG 1.1//EN\" \"http://www.w3.org/Graphics/SVG/1.1/DTD/svg11.dtd\">\n",
       "<svg class=\"marks\" width=\"949\" height=\"505\" viewBox=\"0 0 949 505\" version=\"1.1\" xmlns=\"http://www.w3.org/2000/svg\" xmlns:xlink=\"http://www.w3.org/1999/xlink\"><defs><clipPath id=\"clip1\"><rect x=\"0\" y=\"0\" width=\"800\" height=\"300\"></rect></clipPath><clipPath id=\"clip2\"><rect x=\"0\" y=\"0\" width=\"800\" height=\"300\"></rect></clipPath><clipPath id=\"clip3\"><rect x=\"0\" y=\"0\" width=\"800\" height=\"300\"></rect></clipPath><clipPath id=\"clip4\"><rect x=\"0\" y=\"0\" width=\"800\" height=\"300\"></rect></clipPath><clipPath id=\"clip5\"><rect x=\"0\" y=\"0\" width=\"800\" height=\"300\"></rect></clipPath><clipPath id=\"clip6\"><rect x=\"0\" y=\"0\" width=\"800\" height=\"300\"></rect></clipPath><clipPath id=\"clip7\"><rect x=\"0\" y=\"0\" width=\"800\" height=\"300\"></rect></clipPath></defs><rect width=\"949\" height=\"505\" fill=\"white\"></rect><g fill=\"none\" stroke-miterlimit=\"10\" transform=\"translate(49,11)\"><g class=\"mark-group role-frame root\" role=\"graphics-object\" aria-roledescription=\"group mark container\"><g transform=\"translate(0,0)\"><path class=\"background\" aria-hidden=\"true\" d=\"M0,0h800v0h-800Z\"></path><g><g class=\"mark-group role-scope concat_0_group\" role=\"graphics-object\" aria-roledescription=\"group mark container\"><g transform=\"translate(0,0)\"><path class=\"background\" aria-hidden=\"true\" d=\"M0.5,0.5h800v300h-800Z\" stroke=\"#ddd\"></path><g><g class=\"mark-group role-axis\" aria-hidden=\"true\"><g transform=\"translate(0.5,300.5)\"><path class=\"background\" aria-hidden=\"true\" d=\"M0,0h0v0h0Z\" pointer-events=\"none\"></path><g><g class=\"mark-rule role-axis-grid\" pointer-events=\"none\"><line transform=\"translate(0,-300)\" x2=\"0\" y2=\"300\" stroke=\"#ddd\" stroke-width=\"1\" opacity=\"1\"></line><line transform=\"translate(44,-300)\" x2=\"0\" y2=\"300\" stroke=\"#ddd\" stroke-width=\"1\" opacity=\"1\"></line><line transform=\"translate(89,-300)\" x2=\"0\" y2=\"300\" stroke=\"#ddd\" stroke-width=\"1\" opacity=\"1\"></line><line transform=\"translate(133,-300)\" x2=\"0\" y2=\"300\" stroke=\"#ddd\" stroke-width=\"1\" opacity=\"1\"></line><line transform=\"translate(178,-300)\" x2=\"0\" y2=\"300\" stroke=\"#ddd\" stroke-width=\"1\" opacity=\"1\"></line><line transform=\"translate(222,-300)\" x2=\"0\" y2=\"300\" stroke=\"#ddd\" stroke-width=\"1\" opacity=\"1\"></line><line transform=\"translate(267,-300)\" x2=\"0\" y2=\"300\" stroke=\"#ddd\" stroke-width=\"1\" opacity=\"1\"></line><line transform=\"translate(311,-300)\" x2=\"0\" y2=\"300\" stroke=\"#ddd\" stroke-width=\"1\" opacity=\"1\"></line><line transform=\"translate(356,-300)\" x2=\"0\" y2=\"300\" stroke=\"#ddd\" stroke-width=\"1\" opacity=\"1\"></line><line transform=\"translate(400,-300)\" x2=\"0\" y2=\"300\" stroke=\"#ddd\" stroke-width=\"1\" opacity=\"1\"></line><line transform=\"translate(444,-300)\" x2=\"0\" y2=\"300\" stroke=\"#ddd\" stroke-width=\"1\" opacity=\"1\"></line><line transform=\"translate(489,-300)\" x2=\"0\" y2=\"300\" stroke=\"#ddd\" stroke-width=\"1\" opacity=\"1\"></line><line transform=\"translate(533,-300)\" x2=\"0\" y2=\"300\" stroke=\"#ddd\" stroke-width=\"1\" opacity=\"1\"></line><line transform=\"translate(578,-300)\" x2=\"0\" y2=\"300\" stroke=\"#ddd\" stroke-width=\"1\" opacity=\"1\"></line><line transform=\"translate(622,-300)\" x2=\"0\" y2=\"300\" stroke=\"#ddd\" stroke-width=\"1\" opacity=\"1\"></line><line transform=\"translate(667,-300)\" x2=\"0\" y2=\"300\" stroke=\"#ddd\" stroke-width=\"1\" opacity=\"1\"></line><line transform=\"translate(711,-300)\" x2=\"0\" y2=\"300\" stroke=\"#ddd\" stroke-width=\"1\" opacity=\"1\"></line><line transform=\"translate(756,-300)\" x2=\"0\" y2=\"300\" stroke=\"#ddd\" stroke-width=\"1\" opacity=\"1\"></line><line transform=\"translate(800,-300)\" x2=\"0\" y2=\"300\" stroke=\"#ddd\" stroke-width=\"1\" opacity=\"1\"></line></g></g><path class=\"foreground\" aria-hidden=\"true\" d=\"\" pointer-events=\"none\" display=\"none\"></path></g></g><g class=\"mark-group role-axis\" aria-hidden=\"true\"><g transform=\"translate(0.5,0.5)\"><path class=\"background\" aria-hidden=\"true\" d=\"M0,0h0v0h0Z\" pointer-events=\"none\"></path><g><g class=\"mark-rule role-axis-grid\" pointer-events=\"none\"><line transform=\"translate(0,300)\" x2=\"800\" y2=\"0\" stroke=\"#ddd\" stroke-width=\"1\" opacity=\"1\"></line><line transform=\"translate(0,273)\" x2=\"800\" y2=\"0\" stroke=\"#ddd\" stroke-width=\"1\" opacity=\"1\"></line><line transform=\"translate(0,245)\" x2=\"800\" y2=\"0\" stroke=\"#ddd\" stroke-width=\"1\" opacity=\"1\"></line><line transform=\"translate(0,218)\" x2=\"800\" y2=\"0\" stroke=\"#ddd\" stroke-width=\"1\" opacity=\"1\"></line><line transform=\"translate(0,191)\" x2=\"800\" y2=\"0\" stroke=\"#ddd\" stroke-width=\"1\" opacity=\"1\"></line><line transform=\"translate(0,164)\" x2=\"800\" y2=\"0\" stroke=\"#ddd\" stroke-width=\"1\" opacity=\"1\"></line><line transform=\"translate(0,136)\" x2=\"800\" y2=\"0\" stroke=\"#ddd\" stroke-width=\"1\" opacity=\"1\"></line><line transform=\"translate(0,109)\" x2=\"800\" y2=\"0\" stroke=\"#ddd\" stroke-width=\"1\" opacity=\"1\"></line><line transform=\"translate(0,82)\" x2=\"800\" y2=\"0\" stroke=\"#ddd\" stroke-width=\"1\" opacity=\"1\"></line><line transform=\"translate(0,55)\" x2=\"800\" y2=\"0\" stroke=\"#ddd\" stroke-width=\"1\" opacity=\"1\"></line><line transform=\"translate(0,27)\" x2=\"800\" y2=\"0\" stroke=\"#ddd\" stroke-width=\"1\" opacity=\"1\"></line><line transform=\"translate(0,0)\" x2=\"800\" y2=\"0\" stroke=\"#ddd\" stroke-width=\"1\" opacity=\"1\"></line></g></g><path class=\"foreground\" aria-hidden=\"true\" d=\"\" pointer-events=\"none\" display=\"none\"></path></g></g><g class=\"mark-group role-axis\" role=\"graphics-symbol\" aria-roledescription=\"axis\" aria-label=\"X-axis titled 'Long' for a linear scale with values from 22 to 40\"><g transform=\"translate(0.5,300.5)\"><path class=\"background\" aria-hidden=\"true\" d=\"M0,0h0v0h0Z\" pointer-events=\"none\"></path><g><g class=\"mark-rule role-axis-tick\" pointer-events=\"none\"><line transform=\"translate(0,0)\" x2=\"0\" y2=\"5\" stroke=\"#888\" stroke-width=\"1\" opacity=\"1\"></line><line transform=\"translate(44,0)\" x2=\"0\" y2=\"5\" stroke=\"#888\" stroke-width=\"1\" opacity=\"1\"></line><line transform=\"translate(89,0)\" x2=\"0\" y2=\"5\" stroke=\"#888\" stroke-width=\"1\" opacity=\"1\"></line><line transform=\"translate(133,0)\" x2=\"0\" y2=\"5\" stroke=\"#888\" stroke-width=\"1\" opacity=\"1\"></line><line transform=\"translate(178,0)\" x2=\"0\" y2=\"5\" stroke=\"#888\" stroke-width=\"1\" opacity=\"1\"></line><line transform=\"translate(222,0)\" x2=\"0\" y2=\"5\" stroke=\"#888\" stroke-width=\"1\" opacity=\"1\"></line><line transform=\"translate(267,0)\" x2=\"0\" y2=\"5\" stroke=\"#888\" stroke-width=\"1\" opacity=\"1\"></line><line transform=\"translate(311,0)\" x2=\"0\" y2=\"5\" stroke=\"#888\" stroke-width=\"1\" opacity=\"1\"></line><line transform=\"translate(356,0)\" x2=\"0\" y2=\"5\" stroke=\"#888\" stroke-width=\"1\" opacity=\"1\"></line><line transform=\"translate(400,0)\" x2=\"0\" y2=\"5\" stroke=\"#888\" stroke-width=\"1\" opacity=\"1\"></line><line transform=\"translate(444,0)\" x2=\"0\" y2=\"5\" stroke=\"#888\" stroke-width=\"1\" opacity=\"1\"></line><line transform=\"translate(489,0)\" x2=\"0\" y2=\"5\" stroke=\"#888\" stroke-width=\"1\" opacity=\"1\"></line><line transform=\"translate(533,0)\" x2=\"0\" y2=\"5\" stroke=\"#888\" stroke-width=\"1\" opacity=\"1\"></line><line transform=\"translate(578,0)\" x2=\"0\" y2=\"5\" stroke=\"#888\" stroke-width=\"1\" opacity=\"1\"></line><line transform=\"translate(622,0)\" x2=\"0\" y2=\"5\" stroke=\"#888\" stroke-width=\"1\" opacity=\"1\"></line><line transform=\"translate(667,0)\" x2=\"0\" y2=\"5\" stroke=\"#888\" stroke-width=\"1\" opacity=\"1\"></line><line transform=\"translate(711,0)\" x2=\"0\" y2=\"5\" stroke=\"#888\" stroke-width=\"1\" opacity=\"1\"></line><line transform=\"translate(756,0)\" x2=\"0\" y2=\"5\" stroke=\"#888\" stroke-width=\"1\" opacity=\"1\"></line><line transform=\"translate(800,0)\" x2=\"0\" y2=\"5\" stroke=\"#888\" stroke-width=\"1\" opacity=\"1\"></line></g><g class=\"mark-text role-axis-label\" pointer-events=\"none\"><text text-anchor=\"start\" transform=\"translate(0,15)\" font-family=\"sans-serif\" font-size=\"10px\" fill=\"#000\" opacity=\"1\">22</text><text text-anchor=\"middle\" transform=\"translate(44.44444444444444,15)\" font-family=\"sans-serif\" font-size=\"10px\" fill=\"#000\" opacity=\"1\">23</text><text text-anchor=\"middle\" transform=\"translate(88.88888888888889,15)\" font-family=\"sans-serif\" font-size=\"10px\" fill=\"#000\" opacity=\"1\">24</text><text text-anchor=\"middle\" transform=\"translate(133.33333333333331,15)\" font-family=\"sans-serif\" font-size=\"10px\" fill=\"#000\" opacity=\"1\">25</text><text text-anchor=\"middle\" transform=\"translate(177.77777777777777,15)\" font-family=\"sans-serif\" font-size=\"10px\" fill=\"#000\" opacity=\"1\">26</text><text text-anchor=\"middle\" transform=\"translate(222.22222222222223,15)\" font-family=\"sans-serif\" font-size=\"10px\" fill=\"#000\" opacity=\"1\">27</text><text text-anchor=\"middle\" transform=\"translate(266.66666666666663,15)\" font-family=\"sans-serif\" font-size=\"10px\" fill=\"#000\" opacity=\"1\">28</text><text text-anchor=\"middle\" transform=\"translate(311.11111111111114,15)\" font-family=\"sans-serif\" font-size=\"10px\" fill=\"#000\" opacity=\"1\">29</text><text text-anchor=\"middle\" transform=\"translate(355.55555555555554,15)\" font-family=\"sans-serif\" font-size=\"10px\" fill=\"#000\" opacity=\"1\">30</text><text text-anchor=\"middle\" transform=\"translate(400,15)\" font-family=\"sans-serif\" font-size=\"10px\" fill=\"#000\" opacity=\"1\">31</text><text text-anchor=\"middle\" transform=\"translate(444.44444444444446,15)\" font-family=\"sans-serif\" font-size=\"10px\" fill=\"#000\" opacity=\"1\">32</text><text text-anchor=\"middle\" transform=\"translate(488.8888888888889,15)\" font-family=\"sans-serif\" font-size=\"10px\" fill=\"#000\" opacity=\"1\">33</text><text text-anchor=\"middle\" transform=\"translate(533.3333333333333,15)\" font-family=\"sans-serif\" font-size=\"10px\" fill=\"#000\" opacity=\"1\">34</text><text text-anchor=\"middle\" transform=\"translate(577.7777777777777,15)\" font-family=\"sans-serif\" font-size=\"10px\" fill=\"#000\" opacity=\"1\">35</text><text text-anchor=\"middle\" transform=\"translate(622.2222222222223,15)\" font-family=\"sans-serif\" font-size=\"10px\" fill=\"#000\" opacity=\"1\">36</text><text text-anchor=\"middle\" transform=\"translate(666.6666666666667,15)\" font-family=\"sans-serif\" font-size=\"10px\" fill=\"#000\" opacity=\"1\">37</text><text text-anchor=\"middle\" transform=\"translate(711.1111111111111,15)\" font-family=\"sans-serif\" font-size=\"10px\" fill=\"#000\" opacity=\"1\">38</text><text text-anchor=\"middle\" transform=\"translate(755.5555555555555,15)\" font-family=\"sans-serif\" font-size=\"10px\" fill=\"#000\" opacity=\"1\">39</text><text text-anchor=\"end\" transform=\"translate(800,15)\" font-family=\"sans-serif\" font-size=\"10px\" fill=\"#000\" opacity=\"1\">40</text></g><g class=\"mark-rule role-axis-domain\" pointer-events=\"none\"><line transform=\"translate(0,0)\" x2=\"800\" y2=\"0\" stroke=\"#888\" stroke-width=\"1\" opacity=\"1\"></line></g><g class=\"mark-text role-axis-title\" pointer-events=\"none\"><text text-anchor=\"middle\" transform=\"translate(400,30)\" font-family=\"sans-serif\" font-size=\"11px\" font-weight=\"bold\" fill=\"#000\" opacity=\"1\">Long</text></g></g><path class=\"foreground\" aria-hidden=\"true\" d=\"\" pointer-events=\"none\" display=\"none\"></path></g></g><g class=\"mark-group role-axis\" role=\"graphics-symbol\" aria-roledescription=\"axis\" aria-label=\"Y-axis titled 'Lat' for a linear scale with values from 53.8 to 56.0\"><g transform=\"translate(0.5,0.5)\"><path class=\"background\" aria-hidden=\"true\" d=\"M0,0h0v0h0Z\" pointer-events=\"none\"></path><g><g class=\"mark-rule role-axis-tick\" pointer-events=\"none\"><line transform=\"translate(0,300)\" x2=\"-5\" y2=\"0\" stroke=\"#888\" stroke-width=\"1\" opacity=\"1\"></line><line transform=\"translate(0,273)\" x2=\"-5\" y2=\"0\" stroke=\"#888\" stroke-width=\"1\" opacity=\"1\"></line><line transform=\"translate(0,245)\" x2=\"-5\" y2=\"0\" stroke=\"#888\" stroke-width=\"1\" opacity=\"1\"></line><line transform=\"translate(0,218)\" x2=\"-5\" y2=\"0\" stroke=\"#888\" stroke-width=\"1\" opacity=\"1\"></line><line transform=\"translate(0,191)\" x2=\"-5\" y2=\"0\" stroke=\"#888\" stroke-width=\"1\" opacity=\"1\"></line><line transform=\"translate(0,164)\" x2=\"-5\" y2=\"0\" stroke=\"#888\" stroke-width=\"1\" opacity=\"1\"></line><line transform=\"translate(0,136)\" x2=\"-5\" y2=\"0\" stroke=\"#888\" stroke-width=\"1\" opacity=\"1\"></line><line transform=\"translate(0,109)\" x2=\"-5\" y2=\"0\" stroke=\"#888\" stroke-width=\"1\" opacity=\"1\"></line><line transform=\"translate(0,82)\" x2=\"-5\" y2=\"0\" stroke=\"#888\" stroke-width=\"1\" opacity=\"1\"></line><line transform=\"translate(0,55)\" x2=\"-5\" y2=\"0\" stroke=\"#888\" stroke-width=\"1\" opacity=\"1\"></line><line transform=\"translate(0,27)\" x2=\"-5\" y2=\"0\" stroke=\"#888\" stroke-width=\"1\" opacity=\"1\"></line><line transform=\"translate(0,0)\" x2=\"-5\" y2=\"0\" stroke=\"#888\" stroke-width=\"1\" opacity=\"1\"></line></g><g class=\"mark-text role-axis-label\" pointer-events=\"none\"><text text-anchor=\"end\" transform=\"translate(-7,303)\" font-family=\"sans-serif\" font-size=\"10px\" fill=\"#000\" opacity=\"1\">53.8</text><text text-anchor=\"end\" transform=\"translate(-7,275.7272727272724)\" font-family=\"sans-serif\" font-size=\"10px\" fill=\"#000\" opacity=\"1\">54.0</text><text text-anchor=\"end\" transform=\"translate(-7,248.45454545454476)\" font-family=\"sans-serif\" font-size=\"10px\" fill=\"#000\" opacity=\"1\">54.2</text><text text-anchor=\"end\" transform=\"translate(-7,221.1818181818181)\" font-family=\"sans-serif\" font-size=\"10px\" fill=\"#000\" opacity=\"1\">54.4</text><text text-anchor=\"end\" transform=\"translate(-7,193.90909090909048)\" font-family=\"sans-serif\" font-size=\"10px\" fill=\"#000\" opacity=\"1\">54.6</text><text text-anchor=\"end\" transform=\"translate(-7,166.63636363636382)\" font-family=\"sans-serif\" font-size=\"10px\" fill=\"#000\" opacity=\"1\">54.8</text><text text-anchor=\"end\" transform=\"translate(-7,139.36363636363618)\" font-family=\"sans-serif\" font-size=\"10px\" fill=\"#000\" opacity=\"1\">55.0</text><text text-anchor=\"end\" transform=\"translate(-7,112.09090909090857)\" font-family=\"sans-serif\" font-size=\"10px\" fill=\"#000\" opacity=\"1\">55.2</text><text text-anchor=\"end\" transform=\"translate(-7,84.81818181818191)\" font-family=\"sans-serif\" font-size=\"10px\" fill=\"#000\" opacity=\"1\">55.4</text><text text-anchor=\"end\" transform=\"translate(-7,57.5454545454543)\" font-family=\"sans-serif\" font-size=\"10px\" fill=\"#000\" opacity=\"1\">55.6</text><text text-anchor=\"end\" transform=\"translate(-7,30.272727272727614)\" font-family=\"sans-serif\" font-size=\"10px\" fill=\"#000\" opacity=\"1\">55.8</text><text text-anchor=\"end\" transform=\"translate(-7,3)\" font-family=\"sans-serif\" font-size=\"10px\" fill=\"#000\" opacity=\"1\">56.0</text></g><g class=\"mark-rule role-axis-domain\" pointer-events=\"none\"><line transform=\"translate(0,300)\" x2=\"0\" y2=\"-300\" stroke=\"#888\" stroke-width=\"1\" opacity=\"1\"></line></g><g class=\"mark-text role-axis-title\" pointer-events=\"none\"><text text-anchor=\"middle\" transform=\"translate(-32,150) rotate(-90) translate(0,-2)\" font-family=\"sans-serif\" font-size=\"11px\" font-weight=\"bold\" fill=\"#000\" opacity=\"1\">Lat</text></g></g><path class=\"foreground\" aria-hidden=\"true\" d=\"\" pointer-events=\"none\" display=\"none\"></path></g></g><g class=\"mark-group role-scope concat_0_layer_0_layer_0_pathgroup\" role=\"graphics-object\" aria-roledescription=\"group mark container\"><g transform=\"translate(0,0)\"><path class=\"background\" aria-hidden=\"true\" d=\"M0,0h800v300h-800Z\"></path><g><g class=\"mark-trail role-mark concat_0_layer_0_layer_0_marks\" clip-path=\"url(#clip1)\" role=\"graphics-object\" aria-roledescription=\"trail mark container\"><path aria-label=\"Long: 24; Lat: 54.9; Survivors: 340000; Direction: A; Group: 1; row: NaN\" role=\"graphics-symbol\" aria-roledescription=\"trail mark\" d=\"M81.04364559109996,137.21515907027006L103.26586781332219,123.57879543390624A15,15,0,1,1,118.95635440890004,149.1484772933661L96.73413218667781,162.78484092972994A15,15,0,1,1,81.04364559109996,137.21515907027006ZM123.67712149799993,128.17245922255307L168.1215659424444,196.3542774043712A15,15,0,1,1,142.98954516866675,212.7366316865374L98.5451007242223,144.55481350471928A15,15,0,1,1,123.67712149799993,128.17245922255307ZM143.92703077279617,195.07036027802084L166.81048283560665,168.33641287540217A14.147058823529411,14.147058823529411,0,1,1,188.7450727199489,186.20904167005114L167.18408033831497,214.02054881288777A15,15,0,1,1,143.92703077279617,195.07036027802084ZM173.62812918841774,163.74794668518203L218.32276034615,150.92700641064621A13.294117647058822,13.294117647058822,0,1,1,226.12168409829445,176.34572086208144L181.9274263671378,190.79750786027128A14.147058823529411,14.147058823529411,0,1,1,173.62812918841774,163.74794668518203ZM218.32276034614975,150.9270064106463L263.017391503882,138.1060661361095A12.441176470588234,12.441176470588234,0,1,1,270.3159418294513,161.8939338638905L226.1216840982947,176.34572086208135A13.294117647058822,13.294117647058822,0,1,1,218.32276034614975,150.9270064106463ZM260.1597295785005,139.3961025229887L283.2741559404713,127.2137011884373A10.73529411764706,10.73529411764706,0,1,1,294.5036218373064,145.51357153883507L273.17360375483275,160.6038974770113A12.441176470588234,12.441176470588234,0,1,1,260.1597295785005,139.3961025229887ZM283.2741559404713,127.21370118843728L306.165531267505,114.66780927843281A9.455882352941178,9.455882352941178,0,1,1,316.0566909547173,130.78673617611196L294.5036218373064,145.51357153883507A10.73529411764706,10.73529411764706,0,1,1,283.2741559404713,127.21370118843728ZM308.3374894448339,113.6873206297764L353.1572139592101,101.2740920361531A8.176470588235293,8.176470588235293,0,1,1,357.953897151901,116.90772614566403L313.88473277738836,131.76722482476836A9.455882352941178,9.455882352941178,0,0,1,308.3374894448339,113.6873206297764ZM349.70932455597836,103.37459433576609L363.1951225466748,89.88730725326936A7.963235294117647,7.963235294117647,0,1,1,374.58265523110305,101.02178365582206L361.40178655513273,114.80722384605104A8.176470588235293,8.176470588235293,0,1,1,349.70932455597836,103.37459433576609ZM374.22386775910076,89.54259849911097L448.92227989506546,158.674258574046A6.6838235294117645,6.6838235294117645,0,1,1,439.96660899382346,168.59846869868164L363.5539100186771,101.36649240998045A7.963235294117647,7.963235294117647,0,0,1,374.22386775910076,89.54259849911095ZM442.7887738385369,157.16085193325867L496.17492834631616,143.73107777917213A6.470588235294117,6.470588235294117,0,1,1,499.3806272092396,156.26892222082787L446.10011505035203,170.11187533946898A6.6838235294117645,6.6838235294117645,0,1,1,442.7887738385369,157.16085193325867ZM492.35714584617875,146.46655103717987L546.151356089878,64.9487926864959A5.920441176470589,5.920441176470589,0,1,1,556.0708661323439,71.41484367714027L503.198409709377,153.53344896282013A6.470588235294117,6.470588235294117,0,1,1,492.35714584617875,146.46655103717987ZM552.7017569296377,62.479058358359616L601.2801342437781,77.22866349234037A4.764705882352941,4.764705882352941,0,1,1,598.7198657562219,86.40770014402345L549.5204652925843,73.88457800527657A5.920441176470589,5.920441176470589,0,1,1,552.7017569296377,62.479058358359616ZM597.5079815407023,77.75711469932652L619.7302037629246,64.1207510629627A4.764705882352941,4.764705882352941,0,1,1,624.71424068152,72.24288530067348L602.4920184592977,85.8792489370373A4.764705882352941,4.764705882352941,0,1,1,597.5079815407023,77.75711469932652ZM619.8462722058167,64.05177173354765L690.9573833169278,23.142680824457187A4.764705882352941,4.764705882352941,0,1,1,695.7092833497389,31.40277372099804L624.5981722386279,72.31186463008852A4.764705882352941,4.764705882352941,0,1,1,619.8462722058167,64.05177173354765Z\" fill=\"#bd9e39\"></path></g></g><path class=\"foreground\" aria-hidden=\"true\" d=\"\" display=\"none\"></path></g><g transform=\"translate(0,0)\"><path class=\"background\" aria-hidden=\"true\" d=\"M0,0h800v300h-800Z\"></path><g><g class=\"mark-trail role-mark concat_0_layer_0_layer_0_marks\" clip-path=\"url(#clip2)\" role=\"graphics-object\" aria-roledescription=\"trail mark container\"><path aria-label=\"Long: 37.7; Lat: 55.7; Survivors: 100000; Direction: R; Group: 1; row: NaN\" role=\"graphics-symbol\" aria-roledescription=\"trail mark\" d=\"M697.7777777777778,45.673796791443415L688.8888888888889,45.588502673796356A4.679411764705882,4.679411764705882,0,1,1,688.8888888888889,36.22967914438459L697.7777777777778,36.14438502673753A4.764705882352941,4.764705882352941,0,1,1,697.7777777777778,45.673796791443415ZM693.4464259358446,41.97010482478384L671.1826673923271,137.41498044791686A4.636764705882353,4.636764705882353,0,0,1,662.1506659410064,135.3122922793555L684.3313518419333,39.84807699339711A4.679411764705882,4.679411764705882,0,1,1,693.4464259358446,41.97010482478384ZM666.6666666666667,141.00040106951852L657.7777777777777,140.957754010695A4.594117647058823,4.594117647058823,0,1,1,657.7777777777777,131.76951871657735L666.6666666666667,131.72687165775383A4.636764705882353,4.636764705882353,0,1,1,666.6666666666667,141.00040106951852ZM655.2539195669366,140.20239354358222L593.24255745772,98.97258700582147A4.2102941176470585,4.2102941176470585,0,0,1,597.8685536533909,91.93650390326995L660.3016359886188,132.52487918369013A4.594117647058823,4.594117647058823,0,1,1,655.2539195669366,140.20239354358222ZM596.6867359073877,99.51003649370756L547.4311912844784,111.83187142439728A2.8455882352941178,2.8455882352941178,0,1,1,545.9021420488547,106.34994675741986L594.4243752037231,91.39905441538386A4.2102941176470585,4.2102941176470585,0,1,1,596.6867359073877,99.51003649370756ZM548.8726662210429,110.88839020928933L503.8331149200691,164.94894287164652A2.0779411764705884,2.0779411764705884,0,0,1,500.61132952437515,162.32378440108113L544.4606671122901,107.29342797252781A2.8455882352941178,2.8455882352941178,0,1,1,548.8726662210429,110.88839020928933ZM503.10921773238465,165.51548005048602L445.09478227072077,192.28684363734993A1.5235294117647058,1.5235294117647058,0,1,1,443.79410661816814,189.53133818083103L501.3352267120596,161.75724722224163A2.0779411764705884,2.0779411764705884,0,1,1,503.10921773238465,165.51548005048602ZM444.9900053743867,192.33159051901401L373.81780829042486,219.4450417736421A1.3529411764705883,1.3529411764705883,0,1,1,372.84885837624165,216.91859458999411L443.8988835145022,189.48659129916695A1.5235294117647058,1.5235294117647058,0,1,1,444.9900053743867,192.33159051901401ZM373.6684745780934,219.49259282799122L320.33514124476017,233.128956464355A1.3529411764705883,1.3529411764705883,0,1,1,319.66485875523983,230.50740717200878L372.9981920885731,216.871043535645A1.3529411764705883,1.3529411764705883,0,1,1,373.6684745780934,219.49259282799122ZM320.5431283859159,233.0573191727161L289.43201727480476,246.69368280907895A1.3529411764705883,1.3529411764705883,0,1,1,288.34576050297295,244.21540810001056L319.4568716140841,230.5790444636477A1.3529411764705883,1.3529411764705883,0,1,1,320.5431283859159,233.0573191727161ZM287.7554840304636,246.19335751040717L278.86659514157475,232.5569938740443A1.3529411764705883,1.3529411764705883,0,1,1,281.13340485842525,231.0793697623195L290.0222937473141,244.71573339868235A1.3529411764705883,1.3529411764705883,0,1,1,287.7554840304636,246.19335751040717ZM279.17657183411745,232.89168816777695L243.62101627856188,205.61896089504936A1.3529411764705883,1.3529411764705883,0,1,1,245.26787261032703,203.47194819585926L280.82342816588255,230.74467546858685A1.3529411764705883,1.3529411764705883,0,1,1,279.17657183411745,232.89168816777695ZM245.33629747532186,205.56282763252926L214.00028429555474,232.57899995286402A1.011764705882353,1.011764705882353,0,1,1,212.666382371112,231.05736368349977L243.55259141356706,203.52808145837935A1.3529411764705883,1.3529411764705883,0,1,1,245.33629747532186,205.56282763252926ZM212.71755227015163,232.62097787092253L194.88786271669852,219.05229180877234A1.0970588235294119,1.0970588235294119,0,1,1,196.22324839441245,217.31134455486387L213.9491143965151,231.01538576544127A1.011764705882353,1.011764705882353,0,1,1,212.71755227015163,232.62097787092253ZM195.5555555555555,219.2788770053475L133.33333333333331,219.02299465240634A0.8411764705882352,0.8411764705882352,0,1,1,133.33333333333331,217.34064171122986L195.5555555555555,217.0847593582887A1.0970588235294119,1.0970588235294119,0,1,1,195.5555555555555,219.2788770053475ZM133.33333333333331,219.02299465240634L106.6666666666666,218.8524064171122A0.6705882352941177,0.6705882352941177,0,1,1,106.6666666666666,217.511229946524L133.33333333333331,217.34064171122986A0.8411764705882352,0.8411764705882352,0,1,1,133.33333333333331,219.02299465240634ZM106.6666666666666,218.8524064171122L97.77777777777774,218.8524064171122A0.6705882352941177,0.6705882352941177,0,1,1,97.77777777777774,217.511229946524L106.6666666666666,217.511229946524A0.6705882352941177,0.6705882352941177,0,1,1,106.6666666666666,218.8524064171122ZM97.77777777777774,218.8524064171122L93.3333333333334,218.8524064171122A0.6705882352941177,0.6705882352941177,0,1,1,93.3333333333334,217.511229946524L97.77777777777774,217.511229946524A0.6705882352941177,0.6705882352941177,0,1,1,97.77777777777774,218.8524064171122Z\" fill=\"gray\"></path></g></g><path class=\"foreground\" aria-hidden=\"true\" d=\"\" display=\"none\"></path></g><g transform=\"translate(0,0)\"><path class=\"background\" aria-hidden=\"true\" d=\"M0,0h800v300h-800Z\"></path><g><g class=\"mark-trail role-mark concat_0_layer_0_layer_0_marks\" clip-path=\"url(#clip3)\" role=\"graphics-object\" aria-roledescription=\"trail mark container\"><path aria-label=\"Long: 24; Lat: 55.1; Survivors: 60000; Direction: A; Group: 2; row: NaN\" role=\"graphics-symbol\" aria-roledescription=\"trail mark\" d=\"M87.28907456933977,120.12016791022941L109.511296791562,106.4838042738656A3.058823529411765,3.058823529411765,0,1,1,112.71092543066023,111.69801390795153L90.488703208438,125.33437754431534A3.058823529411765,3.058823529411765,0,1,1,87.28907456933977,120.12016791022941ZM113.67359166059433,107.42055139939359L158.11803610503878,175.60236958121166A3.058823529411765,3.058823529411765,0,1,1,152.99307500607236,178.94308496424165L108.5486305616279,110.76126678242355A3.058823529411765,3.058823529411765,0,1,1,113.67359166059433,107.42055139939359ZM152.67619000529092,176.24042140137252L202.3679789033883,40.164639559556235A2.2058823529411766,2.2058823529411766,0,1,1,206.52090998550074,41.65354225862471L158.43492110582022,178.3050331440808A3.058823529411765,3.058823529411765,0,1,1,152.67619000529092,176.24042140137252ZM205.23434926578952,38.849487226768744L240.68300436885625,52.764583894806776A1.9073529411764705,1.9073529411764705,0,1,1,239.31699563114364,56.32632519610182L203.6545396230995,42.9686945914122A2.2058823529411766,2.2058823529411766,0,1,1,205.23434926578952,38.849487226768744ZM240.43812497162148,52.68910281384303L298.2159027493993,66.32546645020682A1.9073529411764705,1.9073529411764705,0,1,1,297.33965280615615,70.03816991342936L239.5618750283784,56.40180627706557A1.9073529411764705,1.9073529411764705,0,1,1,240.43812497162148,52.68910281384303Z\" fill=\"#bd9e39\"></path></g></g><path class=\"foreground\" aria-hidden=\"true\" d=\"\" display=\"none\"></path></g><g transform=\"translate(0,0)\"><path class=\"background\" aria-hidden=\"true\" d=\"M0,0h800v300h-800Z\"></path><g><g class=\"mark-trail role-mark concat_0_layer_0_layer_0_marks\" clip-path=\"url(#clip4)\" role=\"graphics-object\" aria-roledescription=\"trail mark container\"><path aria-label=\"Long: 28.7; Lat: 55.5; Survivors: 33000; Direction: R; Group: 2; row: NaN\" role=\"graphics-symbol\" aria-roledescription=\"trail mark\" d=\"M299.6703188364368,67.9445765676272L321.7655934317483,245.23321750298658A1.7794117647058825,1.7794117647058825,0,1,1,318.2344065682517,245.67587340610294L295.8852367191186,68.41905979600898A1.9073529411764705,1.9073529411764705,0,0,1,299.6703188364368,67.9445765676272ZM320.7143318988677,247.08428045344297L289.6032207877566,260.72064408980674A1.7794117647058825,1.7794117647058825,0,1,1,288.17455699002113,257.46117409201037L319.2856681011323,243.82481045564654A1.7794117647058825,1.7794117647058825,0,1,1,320.7143318988677,247.08428045344297ZM287.3982151076991,260.0626075556841L278.58078000336315,246.37966663753767A1.6941176470588235,1.6941176470588235,0,1,1,281.41921999663685,244.52942427155185L290.3795626700786,258.119210626133A1.7794117647058825,1.7794117647058825,0,1,1,287.3982151076991,260.0626075556841Z\" fill=\"gray\"></path></g></g><path class=\"foreground\" aria-hidden=\"true\" d=\"\" display=\"none\"></path></g><g transform=\"translate(0,0)\"><path class=\"background\" aria-hidden=\"true\" d=\"M0,0h800v300h-800Z\"></path><g><g class=\"mark-trail role-mark concat_0_layer_0_layer_0_marks\" clip-path=\"url(#clip5)\" role=\"graphics-object\" aria-roledescription=\"trail mark container\"><path aria-label=\"Long: 24; Lat: 55.2; Survivors: 22000; Direction: A; Group: 3; row: NaN\" role=\"graphics-symbol\" aria-roledescription=\"trail mark\" d=\"M88.13666850210093,107.86506846058738L110.35889072432316,94.22870482422452A1.4382352941176473,1.4382352941176473,0,1,1,111.86333149789907,96.6803860848669L89.64110927567684,110.31674972122975A1.4382352941176473,1.4382352941176473,0,1,1,88.13666850210093,107.86506846058738ZM109.67592172244794,95.36099236846988L114.80127401591055,27.223559290884083A0.7558823529411764,0.7558823529411764,0,1,1,116.30983709520068,27.321895254571146L112.54630049977429,95.54809854062154A1.4382352941176473,1.4382352941176473,0,1,1,109.67592172244794,95.36099236846988Z\" fill=\"#bd9e39\"></path></g></g><path class=\"foreground\" aria-hidden=\"true\" d=\"\" display=\"none\"></path></g><g transform=\"translate(0,0)\"><path class=\"background\" aria-hidden=\"true\" d=\"M0,0h800v300h-800Z\"></path><g><g class=\"mark-trail role-mark concat_0_layer_0_layer_0_marks\" clip-path=\"url(#clip6)\" role=\"graphics-object\" aria-roledescription=\"trail mark container\"><path aria-label=\"Long: 24.6; Lat: 55.8; Survivors: 6000; Direction: R; Group: 3; row: NaN\" role=\"graphics-symbol\" aria-roledescription=\"trail mark\" d=\"M116.30818169730047,27.34281309333454L98.5304039195226,218.25190400242502A0.7558823529411764,0.7558823529411764,0,1,1,97.02515163603289,218.11173236121118L114.80292941381076,27.202641452120687A0.7558823529411764,0.7558823529411764,0,1,1,116.30818169730047,27.34281309333454ZM97.77777777777774,218.93770053475927L93.3333333333334,218.93770053475927A0.7558823529411764,0.7558823529411764,0,1,1,93.3333333333334,217.42593582887693L97.77777777777774,217.42593582887693A0.7558823529411764,0.7558823529411764,0,1,1,97.77777777777774,218.93770053475927Z\" fill=\"gray\"></path></g></g><path class=\"foreground\" aria-hidden=\"true\" d=\"\" display=\"none\"></path></g></g><g class=\"mark-symbol role-mark concat_0_layer_0_layer_1_marks\" clip-path=\"url(#clip7)\" role=\"graphics-object\" aria-roledescription=\"symbol mark container\"><path aria-label=\"Long: 24; Lat: 54.9; Survivors: 340000; Direction: A; Group: 1; row: NaN\" role=\"graphics-symbol\" aria-roledescription=\"point\" transform=\"translate(88.88888888888889,150)\" d=\"M2.7386127875258306,0A2.7386127875258306,2.7386127875258306,0,1,1,-2.7386127875258306,0A2.7386127875258306,2.7386127875258306,0,1,1,2.7386127875258306,0\" fill=\"#bd9e39\" stroke-width=\"2\" opacity=\"1\"></path><path aria-label=\"Long: 24.5; Lat: 55; Survivors: 340000; Direction: A; Group: 1; row: NaN\" role=\"graphics-symbol\" aria-roledescription=\"point\" transform=\"translate(111.11111111111111,136.36363636363618)\" d=\"M2.7386127875258306,0A2.7386127875258306,2.7386127875258306,0,1,1,-2.7386127875258306,0A2.7386127875258306,2.7386127875258306,0,1,1,2.7386127875258306,0\" fill=\"#bd9e39\" stroke-width=\"2\" opacity=\"1\"></path><path aria-label=\"Long: 25.5; Lat: 54.5; Survivors: 340000; Direction: A; Group: 1; row: NaN\" role=\"graphics-symbol\" aria-roledescription=\"point\" transform=\"translate(155.55555555555557,204.5454545454543)\" d=\"M2.7386127875258306,0A2.7386127875258306,2.7386127875258306,0,1,1,-2.7386127875258306,0A2.7386127875258306,2.7386127875258306,0,1,1,2.7386127875258306,0\" fill=\"#bd9e39\" stroke-width=\"2\" opacity=\"1\"></path><path aria-label=\"Long: 26; Lat: 54.7; Survivors: 320000; Direction: A; Group: 1; row: NaN\" role=\"graphics-symbol\" aria-roledescription=\"point\" transform=\"translate(177.77777777777777,177.27272727272666)\" d=\"M2.6596107632066586,0A2.6596107632066586,2.6596107632066586,0,1,1,-2.6596107632066586,0A2.6596107632066586,2.6596107632066586,0,1,1,2.6596107632066586,0\" fill=\"#bd9e39\" stroke-width=\"2\" opacity=\"1\"></path><path aria-label=\"Long: 27; Lat: 54.8; Survivors: 300000; Direction: A; Group: 1; row: NaN\" role=\"graphics-symbol\" aria-roledescription=\"point\" transform=\"translate(222.22222222222223,163.63636363636382)\" d=\"M2.578189058918956,0A2.578189058918956,2.578189058918956,0,1,1,-2.578189058918956,0A2.578189058918956,2.578189058918956,0,1,1,2.578189058918956,0\" fill=\"#bd9e39\" stroke-width=\"2\" opacity=\"1\"></path><path aria-label=\"Long: 28; Lat: 54.9; Survivors: 280000; Direction: A; Group: 1; row: NaN\" role=\"graphics-symbol\" aria-roledescription=\"point\" transform=\"translate(266.66666666666663,150)\" d=\"M2.494110710312218,0A2.494110710312218,2.494110710312218,0,1,1,-2.494110710312218,0A2.494110710312218,2.494110710312218,0,1,1,2.494110710312218,0\" fill=\"#bd9e39\" stroke-width=\"2\" opacity=\"1\"></path><path aria-label=\"Long: 28.5; Lat: 55; Survivors: 240000; Direction: A; Group: 1; row: NaN\" role=\"graphics-symbol\" aria-roledescription=\"point\" transform=\"translate(288.88888888888886,136.36363636363618)\" d=\"M2.3168183050950564,0A2.3168183050950564,2.3168183050950564,0,1,1,-2.3168183050950564,0A2.3168183050950564,2.3168183050950564,0,1,1,2.3168183050950564,0\" fill=\"#bd9e39\" stroke-width=\"2\" opacity=\"1\"></path><path aria-label=\"Long: 29; Lat: 55.1; Survivors: 210000; Direction: A; Group: 1; row: NaN\" role=\"graphics-symbol\" aria-roledescription=\"point\" transform=\"translate(311.11111111111114,122.72727272727238)\" d=\"M2.174382941542402,0A2.174382941542402,2.174382941542402,0,1,1,-2.174382941542402,0A2.174382941542402,2.174382941542402,0,1,1,2.174382941542402,0\" fill=\"#bd9e39\" stroke-width=\"2\" opacity=\"1\"></path><path aria-label=\"Long: 30; Lat: 55.2; Survivors: 180000; Direction: A; Group: 1; row: NaN\" role=\"graphics-symbol\" aria-roledescription=\"point\" transform=\"translate(355.55555555555554,109.09090909090857)\" d=\"M2.0219384990937894,0A2.0219384990937894,2.0219384990937894,0,1,1,-2.0219384990937894,0A2.0219384990937894,2.0219384990937894,0,1,1,2.0219384990937894,0\" fill=\"#bd9e39\" stroke-width=\"2\" opacity=\"1\"></path><path aria-label=\"Long: 30.3; Lat: 55.3; Survivors: 175000; Direction: A; Group: 1; row: NaN\" role=\"graphics-symbol\" aria-roledescription=\"point\" transform=\"translate(368.8888888888889,95.45454545454571)\" d=\"M1.995399119739914,0A1.995399119739914,1.995399119739914,0,1,1,-1.995399119739914,0A1.995399119739914,1.995399119739914,0,1,1,1.995399119739914,0\" fill=\"#bd9e39\" stroke-width=\"2\" opacity=\"1\"></path><path aria-label=\"Long: 32; Lat: 54.8; Survivors: 145000; Direction: A; Group: 1; row: NaN\" role=\"graphics-symbol\" aria-roledescription=\"point\" transform=\"translate(444.44444444444446,163.63636363636382)\" d=\"M1.82808964897947,0A1.82808964897947,1.82808964897947,0,1,1,-1.82808964897947,0A1.82808964897947,1.82808964897947,0,1,1,1.82808964897947,0\" fill=\"#bd9e39\" stroke-width=\"2\" opacity=\"1\"></path><path aria-label=\"Long: 33.2; Lat: 54.9; Survivors: 140000; Direction: A; Group: 1; row: NaN\" role=\"graphics-symbol\" aria-roledescription=\"point\" transform=\"translate(497.7777777777779,150)\" d=\"M1.7986923354612534,0A1.7986923354612534,1.7986923354612534,0,1,1,-1.7986923354612534,0A1.7986923354612534,1.7986923354612534,0,1,1,1.7986923354612534,0\" fill=\"#bd9e39\" stroke-width=\"2\" opacity=\"1\"></path><path aria-label=\"Long: 34.4; Lat: 55.5; Survivors: 127100; Direction: A; Group: 1; row: NaN\" role=\"graphics-symbol\" aria-roledescription=\"point\" transform=\"translate(551.111111111111,68.18181818181809)\" d=\"M1.7205291593679237,0A1.7205291593679237,1.7205291593679237,0,1,1,-1.7205291593679237,0A1.7205291593679237,1.7205291593679237,0,1,1,1.7205291593679237,0\" fill=\"#bd9e39\" stroke-width=\"2\" opacity=\"1\"></path><path aria-label=\"Long: 35.5; Lat: 55.4; Survivors: 100000; Direction: A; Group: 1; row: NaN\" role=\"graphics-symbol\" aria-roledescription=\"point\" transform=\"translate(600,81.81818181818191)\" d=\"M1.5434872662825796,0A1.5434872662825796,1.5434872662825796,0,1,1,-1.5434872662825796,0A1.5434872662825796,1.5434872662825796,0,1,1,1.5434872662825796,0\" fill=\"#bd9e39\" stroke-width=\"2\" opacity=\"1\"></path><path aria-label=\"Long: 36; Lat: 55.5; Survivors: 100000; Direction: A; Group: 1; row: NaN\" role=\"graphics-symbol\" aria-roledescription=\"point\" transform=\"translate(622.2222222222223,68.18181818181809)\" d=\"M1.5434872662825796,0A1.5434872662825796,1.5434872662825796,0,1,1,-1.5434872662825796,0A1.5434872662825796,1.5434872662825796,0,1,1,1.5434872662825796,0\" fill=\"#bd9e39\" stroke-width=\"2\" opacity=\"1\"></path><path aria-label=\"Long: 37.6; Lat: 55.8; Survivors: 100000; Direction: A; Group: 1; row: NaN\" role=\"graphics-symbol\" aria-roledescription=\"point\" transform=\"translate(693.3333333333334,27.272727272727614)\" d=\"M1.5434872662825796,0A1.5434872662825796,1.5434872662825796,0,1,1,-1.5434872662825796,0A1.5434872662825796,1.5434872662825796,0,1,1,1.5434872662825796,0\" fill=\"#bd9e39\" stroke-width=\"2\" opacity=\"1\"></path><path aria-label=\"Long: 37.7; Lat: 55.7; Survivors: 100000; Direction: R; Group: 1; row: NaN\" role=\"graphics-symbol\" aria-roledescription=\"point\" transform=\"translate(697.7777777777778,40.90909090909047)\" d=\"M1.5434872662825796,0A1.5434872662825796,1.5434872662825796,0,1,1,-1.5434872662825796,0A1.5434872662825796,1.5434872662825796,0,1,1,1.5434872662825796,0\" fill=\"gray\" stroke-width=\"2\" opacity=\"1\"></path><path aria-label=\"Long: 37.5; Lat: 55.7; Survivors: 98000; Direction: R; Group: 1; row: NaN\" role=\"graphics-symbol\" aria-roledescription=\"point\" transform=\"translate(688.8888888888889,40.90909090909047)\" d=\"M1.529609715696439,0A1.529609715696439,1.529609715696439,0,1,1,-1.529609715696439,0A1.529609715696439,1.529609715696439,0,1,1,1.529609715696439,0\" fill=\"gray\" stroke-width=\"2\" opacity=\"1\"></path><path aria-label=\"Long: 37; Lat: 55; Survivors: 97000; Direction: R; Group: 1; row: NaN\" role=\"graphics-symbol\" aria-roledescription=\"point\" transform=\"translate(666.6666666666667,136.36363636363618)\" d=\"M1.5226235099134573,0A1.5226235099134573,1.5226235099134573,0,1,1,-1.5226235099134573,0A1.5226235099134573,1.5226235099134573,0,1,1,1.5226235099134573,0\" fill=\"gray\" stroke-width=\"2\" opacity=\"1\"></path><path aria-label=\"Long: 36.8; Lat: 55; Survivors: 96000; Direction: R; Group: 1; row: NaN\" role=\"graphics-symbol\" aria-roledescription=\"point\" transform=\"translate(657.7777777777777,136.36363636363618)\" d=\"M1.5156051014460896,0A1.5156051014460896,1.5156051014460896,0,1,1,-1.5156051014460896,0A1.5156051014460896,1.5156051014460896,0,1,1,1.5156051014460896,0\" fill=\"gray\" stroke-width=\"2\" opacity=\"1\"></path><path aria-label=\"Long: 35.4; Lat: 55.3; Survivors: 87000; Direction: R; Group: 1; row: NaN\" role=\"graphics-symbol\" aria-roledescription=\"point\" transform=\"translate(595.5555555555554,95.45454545454571)\" d=\"M1.450912491786989,0A1.450912491786989,1.450912491786989,0,1,1,-1.450912491786989,0A1.450912491786989,1.450912491786989,0,1,1,1.450912491786989,0\" fill=\"gray\" stroke-width=\"2\" opacity=\"1\"></path><path aria-label=\"Long: 34.3; Lat: 55.2; Survivors: 55000; Direction: R; Group: 1; row: NaN\" role=\"graphics-symbol\" aria-roledescription=\"point\" transform=\"translate(546.6666666666665,109.09090909090857)\" d=\"M1.192809338346686,0A1.192809338346686,1.192809338346686,0,1,1,-1.192809338346686,0A1.192809338346686,1.192809338346686,0,1,1,1.192809338346686,0\" fill=\"gray\" stroke-width=\"2\" opacity=\"1\"></path><path aria-label=\"Long: 33.3; Lat: 54.8; Survivors: 37000; Direction: R; Group: 1; row: NaN\" role=\"graphics-symbol\" aria-roledescription=\"point\" transform=\"translate(502.2222222222221,163.63636363636382)\" d=\"M1.0192990671217619,0A1.0192990671217619,1.0192990671217619,0,1,1,-1.0192990671217619,0A1.0192990671217619,1.0192990671217619,0,1,1,1.0192990671217619,0\" fill=\"gray\" stroke-width=\"2\" opacity=\"1\"></path><path aria-label=\"Long: 32; Lat: 54.6; Survivors: 24000; Direction: R; Group: 1; row: NaN\" role=\"graphics-symbol\" aria-roledescription=\"point\" transform=\"translate(444.44444444444446,190.90909090909048)\" d=\"M0.8727913300911925,0A0.8727913300911925,0.8727913300911925,0,1,1,-0.8727913300911925,0A0.8727913300911925,0.8727913300911925,0,1,1,0.8727913300911925,0\" fill=\"gray\" stroke-width=\"2\" opacity=\"1\"></path><path aria-label=\"Long: 30.4; Lat: 54.4; Survivors: 20000; Direction: R; Group: 1; row: NaN\" role=\"graphics-symbol\" aria-roledescription=\"point\" transform=\"translate(373.33333333333326,218.1818181818181)\" d=\"M0.8224783208299743,0A0.8224783208299743,0.8224783208299743,0,1,1,-0.8224783208299743,0A0.8224783208299743,0.8224783208299743,0,1,1,0.8224783208299743,0\" fill=\"gray\" stroke-width=\"2\" opacity=\"1\"></path><path aria-label=\"Long: 29.2; Lat: 54.3; Survivors: 20000; Direction: R; Group: 1; row: NaN\" role=\"graphics-symbol\" aria-roledescription=\"point\" transform=\"translate(320,231.8181818181819)\" d=\"M0.8224783208299743,0A0.8224783208299743,0.8224783208299743,0,1,1,-0.8224783208299743,0A0.8224783208299743,0.8224783208299743,0,1,1,0.8224783208299743,0\" fill=\"gray\" stroke-width=\"2\" opacity=\"1\"></path><path aria-label=\"Long: 28.5; Lat: 54.2; Survivors: 20000; Direction: R; Group: 1; row: NaN\" role=\"graphics-symbol\" aria-roledescription=\"point\" transform=\"translate(288.88888888888886,245.45454545454476)\" d=\"M0.8224783208299743,0A0.8224783208299743,0.8224783208299743,0,1,1,-0.8224783208299743,0A0.8224783208299743,0.8224783208299743,0,1,1,0.8224783208299743,0\" fill=\"gray\" stroke-width=\"2\" opacity=\"1\"></path><path aria-label=\"Long: 28.3; Lat: 54.3; Survivors: 20000; Direction: R; Group: 1; row: NaN\" role=\"graphics-symbol\" aria-roledescription=\"point\" transform=\"translate(280,231.8181818181819)\" d=\"M0.8224783208299743,0A0.8224783208299743,0.8224783208299743,0,1,1,-0.8224783208299743,0A0.8224783208299743,0.8224783208299743,0,1,1,0.8224783208299743,0\" fill=\"gray\" stroke-width=\"2\" opacity=\"1\"></path><path aria-label=\"Long: 27.5; Lat: 54.5; Survivors: 20000; Direction: R; Group: 1; row: NaN\" role=\"graphics-symbol\" aria-roledescription=\"point\" transform=\"translate(244.44444444444446,204.5454545454543)\" d=\"M0.8224783208299743,0A0.8224783208299743,0.8224783208299743,0,1,1,-0.8224783208299743,0A0.8224783208299743,0.8224783208299743,0,1,1,0.8224783208299743,0\" fill=\"gray\" stroke-width=\"2\" opacity=\"1\"></path><path aria-label=\"Long: 26.8; Lat: 54.3; Survivors: 12000; Direction: R; Group: 1; row: NaN\" role=\"graphics-symbol\" aria-roledescription=\"point\" transform=\"translate(213.33333333333337,231.8181818181819)\" d=\"M0.7112540705972631,0A0.7112540705972631,0.7112540705972631,0,1,1,-0.7112540705972631,0A0.7112540705972631,0.7112540705972631,0,1,1,0.7112540705972631,0\" fill=\"gray\" stroke-width=\"2\" opacity=\"1\"></path><path aria-label=\"Long: 26.4; Lat: 54.4; Survivors: 14000; Direction: R; Group: 1; row: NaN\" role=\"graphics-symbol\" aria-roledescription=\"point\" transform=\"translate(195.5555555555555,218.1818181818181)\" d=\"M0.7406277146884972,0A0.7406277146884972,0.7406277146884972,0,1,1,-0.7406277146884972,0A0.7406277146884972,0.7406277146884972,0,1,1,0.7406277146884972,0\" fill=\"gray\" stroke-width=\"2\" opacity=\"1\"></path><path aria-label=\"Long: 25; Lat: 54.4; Survivors: 8000; Direction: R; Group: 1; row: NaN\" role=\"graphics-symbol\" aria-roledescription=\"point\" transform=\"translate(133.33333333333331,218.1818181818181)\" d=\"M0.6485277444289624,0A0.6485277444289624,0.6485277444289624,0,1,1,-0.6485277444289624,0A0.6485277444289624,0.6485277444289624,0,1,1,0.6485277444289624,0\" fill=\"gray\" stroke-width=\"2\" opacity=\"1\"></path><path aria-label=\"Long: 24.4; Lat: 54.4; Survivors: 4000; Direction: R; Group: 1; row: NaN\" role=\"graphics-symbol\" aria-roledescription=\"point\" transform=\"translate(106.6666666666666,218.1818181818181)\" d=\"M0.5790458683446924,0A0.5790458683446924,0.5790458683446924,0,1,1,-0.5790458683446924,0A0.5790458683446924,0.5790458683446924,0,1,1,0.5790458683446924,0\" fill=\"gray\" stroke-width=\"2\" opacity=\"1\"></path><path aria-label=\"Long: 24.2; Lat: 54.4; Survivors: 4000; Direction: R; Group: 1; row: NaN\" role=\"graphics-symbol\" aria-roledescription=\"point\" transform=\"translate(97.77777777777774,218.1818181818181)\" d=\"M0.5790458683446924,0A0.5790458683446924,0.5790458683446924,0,1,1,-0.5790458683446924,0A0.5790458683446924,0.5790458683446924,0,1,1,0.5790458683446924,0\" fill=\"gray\" stroke-width=\"2\" opacity=\"1\"></path><path aria-label=\"Long: 24.1; Lat: 54.4; Survivors: 4000; Direction: R; Group: 1; row: NaN\" role=\"graphics-symbol\" aria-roledescription=\"point\" transform=\"translate(93.3333333333334,218.1818181818181)\" d=\"M0.5790458683446924,0A0.5790458683446924,0.5790458683446924,0,1,1,-0.5790458683446924,0A0.5790458683446924,0.5790458683446924,0,1,1,0.5790458683446924,0\" fill=\"gray\" stroke-width=\"2\" opacity=\"1\"></path><path aria-label=\"Long: 24; Lat: 55.1; Survivors: 60000; Direction: A; Group: 2; row: NaN\" role=\"graphics-symbol\" aria-roledescription=\"point\" transform=\"translate(88.88888888888889,122.72727272727238)\" d=\"M1.2366938848016846,0A1.2366938848016846,1.2366938848016846,0,1,1,-1.2366938848016846,0A1.2366938848016846,1.2366938848016846,0,1,1,1.2366938848016846,0\" fill=\"#bd9e39\" stroke-width=\"2\" opacity=\"1\"></path><path aria-label=\"Long: 24.5; Lat: 55.2; Survivors: 60000; Direction: A; Group: 2; row: NaN\" role=\"graphics-symbol\" aria-roledescription=\"point\" transform=\"translate(111.11111111111111,109.09090909090857)\" d=\"M1.2366938848016846,0A1.2366938848016846,1.2366938848016846,0,1,1,-1.2366938848016846,0A1.2366938848016846,1.2366938848016846,0,1,1,1.2366938848016846,0\" fill=\"#bd9e39\" stroke-width=\"2\" opacity=\"1\"></path><path aria-label=\"Long: 25.5; Lat: 54.7; Survivors: 60000; Direction: A; Group: 2; row: NaN\" role=\"graphics-symbol\" aria-roledescription=\"point\" transform=\"translate(155.55555555555557,177.27272727272666)\" d=\"M1.2366938848016846,0A1.2366938848016846,1.2366938848016846,0,1,1,-1.2366938848016846,0A1.2366938848016846,1.2366938848016846,0,1,1,1.2366938848016846,0\" fill=\"#bd9e39\" stroke-width=\"2\" opacity=\"1\"></path><path aria-label=\"Long: 26.6; Lat: 55.7; Survivors: 40000; Direction: A; Group: 2; row: NaN\" role=\"graphics-symbol\" aria-roledescription=\"point\" transform=\"translate(204.4444444444445,40.90909090909047)\" d=\"M1.0502100630210074,0A1.0502100630210074,1.0502100630210074,0,1,1,-1.0502100630210074,0A1.0502100630210074,1.0502100630210074,0,1,1,1.0502100630210074,0\" fill=\"#bd9e39\" stroke-width=\"2\" opacity=\"1\"></path><path aria-label=\"Long: 27.4; Lat: 55.6; Survivors: 33000; Direction: A; Group: 2; row: NaN\" role=\"graphics-symbol\" aria-roledescription=\"point\" transform=\"translate(239.99999999999994,54.5454545454543)\" d=\"M0.9765636029405536,0A0.9765636029405536,0.9765636029405536,0,1,1,-0.9765636029405536,0A0.9765636029405536,0.9765636029405536,0,1,1,0.9765636029405536,0\" fill=\"#bd9e39\" stroke-width=\"2\" opacity=\"1\"></path><path aria-label=\"Long: 28.7; Lat: 55.5; Survivors: 33000; Direction: A; Group: 2; row: NaN\" role=\"graphics-symbol\" aria-roledescription=\"point\" transform=\"translate(297.7777777777777,68.18181818181809)\" d=\"M0.9765636029405536,0A0.9765636029405536,0.9765636029405536,0,1,1,-0.9765636029405536,0A0.9765636029405536,0.9765636029405536,0,1,1,0.9765636029405536,0\" fill=\"#bd9e39\" stroke-width=\"2\" opacity=\"1\"></path><path aria-label=\"Long: 28.7; Lat: 55.5; Survivors: 33000; Direction: R; Group: 2; row: NaN\" role=\"graphics-symbol\" aria-roledescription=\"point\" transform=\"translate(297.7777777777777,68.18181818181809)\" d=\"M0.9765636029405536,0A0.9765636029405536,0.9765636029405536,0,1,1,-0.9765636029405536,0A0.9765636029405536,0.9765636029405536,0,1,1,0.9765636029405536,0\" fill=\"gray\" stroke-width=\"2\" opacity=\"1\"></path><path aria-label=\"Long: 29.2; Lat: 54.2; Survivors: 30000; Direction: R; Group: 2; row: NaN\" role=\"graphics-symbol\" aria-roledescription=\"point\" transform=\"translate(320,245.45454545454476)\" d=\"M0.9432422182837986,0A0.9432422182837986,0.9432422182837986,0,1,1,-0.9432422182837986,0A0.9432422182837986,0.9432422182837986,0,1,1,0.9432422182837986,0\" fill=\"gray\" stroke-width=\"2\" opacity=\"1\"></path><path aria-label=\"Long: 28.5; Lat: 54.1; Survivors: 30000; Direction: R; Group: 2; row: NaN\" role=\"graphics-symbol\" aria-roledescription=\"point\" transform=\"translate(288.88888888888886,259.09090909090855)\" d=\"M0.9432422182837986,0A0.9432422182837986,0.9432422182837986,0,1,1,-0.9432422182837986,0A0.9432422182837986,0.9432422182837986,0,1,1,0.9432422182837986,0\" fill=\"gray\" stroke-width=\"2\" opacity=\"1\"></path><path aria-label=\"Long: 28.3; Lat: 54.2; Survivors: 28000; Direction: R; Group: 2; row: NaN\" role=\"graphics-symbol\" aria-roledescription=\"point\" transform=\"translate(280,245.45454545454476)\" d=\"M0.9203579866168445,0A0.9203579866168445,0.9203579866168445,0,1,1,-0.9203579866168445,0A0.9203579866168445,0.9203579866168445,0,1,1,0.9203579866168445,0\" fill=\"gray\" stroke-width=\"2\" opacity=\"1\"></path><path aria-label=\"Long: 24; Lat: 55.2; Survivors: 22000; Direction: A; Group: 3; row: NaN\" role=\"graphics-symbol\" aria-roledescription=\"point\" transform=\"translate(88.88888888888889,109.09090909090857)\" d=\"M0.8480080465766959,0A0.8480080465766959,0.8480080465766959,0,1,1,-0.8480080465766959,0A0.8480080465766959,0.8480080465766959,0,1,1,0.8480080465766959,0\" fill=\"#bd9e39\" stroke-width=\"2\" opacity=\"1\"></path><path aria-label=\"Long: 24.5; Lat: 55.3; Survivors: 22000; Direction: A; Group: 3; row: NaN\" role=\"graphics-symbol\" aria-roledescription=\"point\" transform=\"translate(111.11111111111111,95.45454545454571)\" d=\"M0.8480080465766959,0A0.8480080465766959,0.8480080465766959,0,1,1,-0.8480080465766959,0A0.8480080465766959,0.8480080465766959,0,1,1,0.8480080465766959,0\" fill=\"#bd9e39\" stroke-width=\"2\" opacity=\"1\"></path><path aria-label=\"Long: 24.6; Lat: 55.8; Survivors: 6000; Direction: A; Group: 3; row: NaN\" role=\"graphics-symbol\" aria-roledescription=\"point\" transform=\"translate(115.55555555555561,27.272727272727614)\" d=\"M0.6147692058574407,0A0.6147692058574407,0.6147692058574407,0,1,1,-0.6147692058574407,0A0.6147692058574407,0.6147692058574407,0,1,1,0.6147692058574407,0\" fill=\"#bd9e39\" stroke-width=\"2\" opacity=\"1\"></path><path aria-label=\"Long: 24.6; Lat: 55.8; Survivors: 6000; Direction: R; Group: 3; row: NaN\" role=\"graphics-symbol\" aria-roledescription=\"point\" transform=\"translate(115.55555555555561,27.272727272727614)\" d=\"M0.6147692058574407,0A0.6147692058574407,0.6147692058574407,0,1,1,-0.6147692058574407,0A0.6147692058574407,0.6147692058574407,0,1,1,0.6147692058574407,0\" fill=\"gray\" stroke-width=\"2\" opacity=\"1\"></path><path aria-label=\"Long: 24.2; Lat: 54.4; Survivors: 6000; Direction: R; Group: 3; row: NaN\" role=\"graphics-symbol\" aria-roledescription=\"point\" transform=\"translate(97.77777777777774,218.1818181818181)\" d=\"M0.6147692058574407,0A0.6147692058574407,0.6147692058574407,0,1,1,-0.6147692058574407,0A0.6147692058574407,0.6147692058574407,0,1,1,0.6147692058574407,0\" fill=\"gray\" stroke-width=\"2\" opacity=\"1\"></path><path aria-label=\"Long: 24.1; Lat: 54.4; Survivors: 6000; Direction: R; Group: 3; row: NaN\" role=\"graphics-symbol\" aria-roledescription=\"point\" transform=\"translate(93.3333333333334,218.1818181818181)\" d=\"M0.6147692058574407,0A0.6147692058574407,0.6147692058574407,0,1,1,-0.6147692058574407,0A0.6147692058574407,0.6147692058574407,0,1,1,0.6147692058574407,0\" fill=\"gray\" stroke-width=\"2\" opacity=\"1\"></path></g><g class=\"mark-text role-mark concat_0_layer_1_marks\" role=\"graphics-object\" aria-roledescription=\"text mark container\"><text aria-label=\"Long: 24; Lat: 55; City: Kowno\" role=\"graphics-symbol\" aria-roledescription=\"text mark\" text-anchor=\"middle\" transform=\"translate(88.88888888888889,139.36363636363618)\" font-family=\"sans-serif\" font-size=\"10px\" fill=\"black\">Kowno</text><text aria-label=\"Long: 25.3; Lat: 54.7; City: Wilna\" role=\"graphics-symbol\" aria-roledescription=\"text mark\" text-anchor=\"middle\" transform=\"translate(146.6666666666667,180.27272727272666)\" font-family=\"sans-serif\" font-size=\"10px\" fill=\"black\">Wilna</text><text aria-label=\"Long: 26.4; Lat: 54.4; City: Smorgoni\" role=\"graphics-symbol\" aria-roledescription=\"text mark\" text-anchor=\"middle\" transform=\"translate(195.5555555555555,221.1818181818181)\" font-family=\"sans-serif\" font-size=\"10px\" fill=\"black\">Smorgoni</text><text aria-label=\"Long: 26.8; Lat: 54.3; City: Moiodexno\" role=\"graphics-symbol\" aria-roledescription=\"text mark\" text-anchor=\"middle\" transform=\"translate(213.33333333333337,234.8181818181819)\" font-family=\"sans-serif\" font-size=\"10px\" fill=\"black\">Moiodexno</text><text aria-label=\"Long: 27.7; Lat: 55.2; City: Gloubokoe\" role=\"graphics-symbol\" aria-roledescription=\"text mark\" text-anchor=\"middle\" transform=\"translate(253.33333333333331,112.09090909090857)\" font-family=\"sans-serif\" font-size=\"10px\" fill=\"black\">Gloubokoe</text><text aria-label=\"Long: 27.6; Lat: 53.9; City: Minsk\" role=\"graphics-symbol\" aria-roledescription=\"text mark\" text-anchor=\"middle\" transform=\"translate(248.88888888888894,289.3636363636362)\" font-family=\"sans-serif\" font-size=\"10px\" fill=\"black\">Minsk</text><text aria-label=\"Long: 28.5; Lat: 54.3; City: Studienska\" role=\"graphics-symbol\" aria-roledescription=\"text mark\" text-anchor=\"middle\" transform=\"translate(288.88888888888886,234.8181818181819)\" font-family=\"sans-serif\" font-size=\"10px\" fill=\"black\">Studienska</text><text aria-label=\"Long: 28.7; Lat: 55.5; City: Polotzk\" role=\"graphics-symbol\" aria-roledescription=\"text mark\" text-anchor=\"middle\" transform=\"translate(297.7777777777777,71.18181818181809)\" font-family=\"sans-serif\" font-size=\"10px\" fill=\"black\">Polotzk</text><text aria-label=\"Long: 29.2; Lat: 54.4; City: Bobr\" role=\"graphics-symbol\" aria-roledescription=\"text mark\" text-anchor=\"middle\" transform=\"translate(320,221.1818181818181)\" font-family=\"sans-serif\" font-size=\"10px\" fill=\"black\">Bobr</text><text aria-label=\"Long: 30.2; Lat: 55.3; City: Witebsk\" role=\"graphics-symbol\" aria-roledescription=\"text mark\" text-anchor=\"middle\" transform=\"translate(364.4444444444444,98.45454545454571)\" font-family=\"sans-serif\" font-size=\"10px\" fill=\"black\">Witebsk</text><text aria-label=\"Long: 30.4; Lat: 54.5; City: Orscha\" role=\"graphics-symbol\" aria-roledescription=\"text mark\" text-anchor=\"middle\" transform=\"translate(373.33333333333326,207.5454545454543)\" font-family=\"sans-serif\" font-size=\"10px\" fill=\"black\">Orscha</text><text aria-label=\"Long: 30.4; Lat: 53.9; City: Mohilow\" role=\"graphics-symbol\" aria-roledescription=\"text mark\" text-anchor=\"middle\" transform=\"translate(373.33333333333326,289.3636363636362)\" font-family=\"sans-serif\" font-size=\"10px\" fill=\"black\">Mohilow</text><text aria-label=\"Long: 32; Lat: 54.8; City: Smolensk\" role=\"graphics-symbol\" aria-roledescription=\"text mark\" text-anchor=\"middle\" transform=\"translate(444.44444444444446,166.63636363636382)\" font-family=\"sans-serif\" font-size=\"10px\" fill=\"black\">Smolensk</text><text aria-label=\"Long: 33.2; Lat: 54.9; City: Dorogobouge\" role=\"graphics-symbol\" aria-roledescription=\"text mark\" text-anchor=\"middle\" transform=\"translate(497.7777777777779,153)\" font-family=\"sans-serif\" font-size=\"10px\" fill=\"black\">Dorogobouge</text><text aria-label=\"Long: 34.3; Lat: 55.2; City: Wixma\" role=\"graphics-symbol\" aria-roledescription=\"text mark\" text-anchor=\"middle\" transform=\"translate(546.6666666666665,112.09090909090857)\" font-family=\"sans-serif\" font-size=\"10px\" fill=\"black\">Wixma</text><text aria-label=\"Long: 34.4; Lat: 55.5; City: Chjat\" role=\"graphics-symbol\" aria-roledescription=\"text mark\" text-anchor=\"middle\" transform=\"translate(551.111111111111,71.18181818181809)\" font-family=\"sans-serif\" font-size=\"10px\" fill=\"black\">Chjat</text><text aria-label=\"Long: 36; Lat: 55.5; City: Mojaisk\" role=\"graphics-symbol\" aria-roledescription=\"text mark\" text-anchor=\"middle\" transform=\"translate(622.2222222222223,71.18181818181809)\" font-family=\"sans-serif\" font-size=\"10px\" fill=\"black\">Mojaisk</text><text aria-label=\"Long: 37.6; Lat: 55.8; City: Moscou\" role=\"graphics-symbol\" aria-roledescription=\"text mark\" text-anchor=\"middle\" transform=\"translate(693.3333333333334,30.272727272727614)\" font-family=\"sans-serif\" font-size=\"10px\" fill=\"black\">Moscou</text><text aria-label=\"Long: 36.6; Lat: 55.3; City: Tarantino\" role=\"graphics-symbol\" aria-roledescription=\"text mark\" text-anchor=\"middle\" transform=\"translate(648.888888888889,98.45454545454571)\" font-family=\"sans-serif\" font-size=\"10px\" fill=\"black\">Tarantino</text><text aria-label=\"Long: 36.5; Lat: 55; City: Malo-Jarosewii\" role=\"graphics-symbol\" aria-roledescription=\"text mark\" text-anchor=\"middle\" transform=\"translate(644.4444444444445,139.36363636363618)\" font-family=\"sans-serif\" font-size=\"10px\" fill=\"black\">Malo-Jarosewii</text></g></g><path class=\"foreground\" aria-hidden=\"true\" d=\"\" display=\"none\"></path></g></g><g class=\"mark-group role-scope concat_1_group\" role=\"graphics-object\" aria-roledescription=\"group mark container\"><g transform=\"translate(0,356)\"><path class=\"background\" aria-hidden=\"true\" d=\"M0.5,0.5h800v100h-800Z\" stroke=\"#ddd\"></path><g><g class=\"mark-group role-axis\" aria-hidden=\"true\"><g transform=\"translate(0.5,100.5)\"><path class=\"background\" aria-hidden=\"true\" d=\"M0,0h0v0h0Z\" pointer-events=\"none\"></path><g><g class=\"mark-rule role-axis-grid\" pointer-events=\"none\"><line transform=\"translate(0,-100)\" x2=\"0\" y2=\"100\" stroke=\"#ddd\" stroke-width=\"1\" opacity=\"1\"></line><line transform=\"translate(44,-100)\" x2=\"0\" y2=\"100\" stroke=\"#ddd\" stroke-width=\"1\" opacity=\"1\"></line><line transform=\"translate(89,-100)\" x2=\"0\" y2=\"100\" stroke=\"#ddd\" stroke-width=\"1\" opacity=\"1\"></line><line transform=\"translate(133,-100)\" x2=\"0\" y2=\"100\" stroke=\"#ddd\" stroke-width=\"1\" opacity=\"1\"></line><line transform=\"translate(178,-100)\" x2=\"0\" y2=\"100\" stroke=\"#ddd\" stroke-width=\"1\" opacity=\"1\"></line><line transform=\"translate(222,-100)\" x2=\"0\" y2=\"100\" stroke=\"#ddd\" stroke-width=\"1\" opacity=\"1\"></line><line transform=\"translate(267,-100)\" x2=\"0\" y2=\"100\" stroke=\"#ddd\" stroke-width=\"1\" opacity=\"1\"></line><line transform=\"translate(311,-100)\" x2=\"0\" y2=\"100\" stroke=\"#ddd\" stroke-width=\"1\" opacity=\"1\"></line><line transform=\"translate(356,-100)\" x2=\"0\" y2=\"100\" stroke=\"#ddd\" stroke-width=\"1\" opacity=\"1\"></line><line transform=\"translate(400,-100)\" x2=\"0\" y2=\"100\" stroke=\"#ddd\" stroke-width=\"1\" opacity=\"1\"></line><line transform=\"translate(444,-100)\" x2=\"0\" y2=\"100\" stroke=\"#ddd\" stroke-width=\"1\" opacity=\"1\"></line><line transform=\"translate(489,-100)\" x2=\"0\" y2=\"100\" stroke=\"#ddd\" stroke-width=\"1\" opacity=\"1\"></line><line transform=\"translate(533,-100)\" x2=\"0\" y2=\"100\" stroke=\"#ddd\" stroke-width=\"1\" opacity=\"1\"></line><line transform=\"translate(578,-100)\" x2=\"0\" y2=\"100\" stroke=\"#ddd\" stroke-width=\"1\" opacity=\"1\"></line><line transform=\"translate(622,-100)\" x2=\"0\" y2=\"100\" stroke=\"#ddd\" stroke-width=\"1\" opacity=\"1\"></line><line transform=\"translate(667,-100)\" x2=\"0\" y2=\"100\" stroke=\"#ddd\" stroke-width=\"1\" opacity=\"1\"></line><line transform=\"translate(711,-100)\" x2=\"0\" y2=\"100\" stroke=\"#ddd\" stroke-width=\"1\" opacity=\"1\"></line><line transform=\"translate(756,-100)\" x2=\"0\" y2=\"100\" stroke=\"#ddd\" stroke-width=\"1\" opacity=\"1\"></line><line transform=\"translate(800,-100)\" x2=\"0\" y2=\"100\" stroke=\"#ddd\" stroke-width=\"1\" opacity=\"1\"></line></g></g><path class=\"foreground\" aria-hidden=\"true\" d=\"\" pointer-events=\"none\" display=\"none\"></path></g></g><g class=\"mark-group role-axis\" aria-hidden=\"true\"><g transform=\"translate(0.5,0.5)\"><path class=\"background\" aria-hidden=\"true\" d=\"M0,0h0v0h0Z\" pointer-events=\"none\"></path><g><g class=\"mark-rule role-axis-grid\" pointer-events=\"none\"><line transform=\"translate(0,88)\" x2=\"800\" y2=\"0\" stroke=\"#ddd\" stroke-width=\"1\" opacity=\"1\"></line><line transform=\"translate(0,63)\" x2=\"800\" y2=\"0\" stroke=\"#ddd\" stroke-width=\"1\" opacity=\"1\"></line><line transform=\"translate(0,38)\" x2=\"800\" y2=\"0\" stroke=\"#ddd\" stroke-width=\"1\" opacity=\"1\"></line><line transform=\"translate(0,13)\" x2=\"800\" y2=\"0\" stroke=\"#ddd\" stroke-width=\"1\" opacity=\"1\"></line></g></g><path class=\"foreground\" aria-hidden=\"true\" d=\"\" pointer-events=\"none\" display=\"none\"></path></g></g><g class=\"mark-group role-axis\" role=\"graphics-symbol\" aria-roledescription=\"axis\" aria-label=\"X-axis titled 'Long' for a linear scale with values from 22 to 40\"><g transform=\"translate(0.5,100.5)\"><path class=\"background\" aria-hidden=\"true\" d=\"M0,0h0v0h0Z\" pointer-events=\"none\"></path><g><g class=\"mark-rule role-axis-tick\" pointer-events=\"none\"><line transform=\"translate(0,0)\" x2=\"0\" y2=\"5\" stroke=\"#888\" stroke-width=\"1\" opacity=\"1\"></line><line transform=\"translate(44,0)\" x2=\"0\" y2=\"5\" stroke=\"#888\" stroke-width=\"1\" opacity=\"1\"></line><line transform=\"translate(89,0)\" x2=\"0\" y2=\"5\" stroke=\"#888\" stroke-width=\"1\" opacity=\"1\"></line><line transform=\"translate(133,0)\" x2=\"0\" y2=\"5\" stroke=\"#888\" stroke-width=\"1\" opacity=\"1\"></line><line transform=\"translate(178,0)\" x2=\"0\" y2=\"5\" stroke=\"#888\" stroke-width=\"1\" opacity=\"1\"></line><line transform=\"translate(222,0)\" x2=\"0\" y2=\"5\" stroke=\"#888\" stroke-width=\"1\" opacity=\"1\"></line><line transform=\"translate(267,0)\" x2=\"0\" y2=\"5\" stroke=\"#888\" stroke-width=\"1\" opacity=\"1\"></line><line transform=\"translate(311,0)\" x2=\"0\" y2=\"5\" stroke=\"#888\" stroke-width=\"1\" opacity=\"1\"></line><line transform=\"translate(356,0)\" x2=\"0\" y2=\"5\" stroke=\"#888\" stroke-width=\"1\" opacity=\"1\"></line><line transform=\"translate(400,0)\" x2=\"0\" y2=\"5\" stroke=\"#888\" stroke-width=\"1\" opacity=\"1\"></line><line transform=\"translate(444,0)\" x2=\"0\" y2=\"5\" stroke=\"#888\" stroke-width=\"1\" opacity=\"1\"></line><line transform=\"translate(489,0)\" x2=\"0\" y2=\"5\" stroke=\"#888\" stroke-width=\"1\" opacity=\"1\"></line><line transform=\"translate(533,0)\" x2=\"0\" y2=\"5\" stroke=\"#888\" stroke-width=\"1\" opacity=\"1\"></line><line transform=\"translate(578,0)\" x2=\"0\" y2=\"5\" stroke=\"#888\" stroke-width=\"1\" opacity=\"1\"></line><line transform=\"translate(622,0)\" x2=\"0\" y2=\"5\" stroke=\"#888\" stroke-width=\"1\" opacity=\"1\"></line><line transform=\"translate(667,0)\" x2=\"0\" y2=\"5\" stroke=\"#888\" stroke-width=\"1\" opacity=\"1\"></line><line transform=\"translate(711,0)\" x2=\"0\" y2=\"5\" stroke=\"#888\" stroke-width=\"1\" opacity=\"1\"></line><line transform=\"translate(756,0)\" x2=\"0\" y2=\"5\" stroke=\"#888\" stroke-width=\"1\" opacity=\"1\"></line><line transform=\"translate(800,0)\" x2=\"0\" y2=\"5\" stroke=\"#888\" stroke-width=\"1\" opacity=\"1\"></line></g><g class=\"mark-text role-axis-label\" pointer-events=\"none\"><text text-anchor=\"start\" transform=\"translate(0,15)\" font-family=\"sans-serif\" font-size=\"10px\" fill=\"#000\" opacity=\"1\">22</text><text text-anchor=\"middle\" transform=\"translate(44.44444444444444,15)\" font-family=\"sans-serif\" font-size=\"10px\" fill=\"#000\" opacity=\"1\">23</text><text text-anchor=\"middle\" transform=\"translate(88.88888888888889,15)\" font-family=\"sans-serif\" font-size=\"10px\" fill=\"#000\" opacity=\"1\">24</text><text text-anchor=\"middle\" transform=\"translate(133.33333333333331,15)\" font-family=\"sans-serif\" font-size=\"10px\" fill=\"#000\" opacity=\"1\">25</text><text text-anchor=\"middle\" transform=\"translate(177.77777777777777,15)\" font-family=\"sans-serif\" font-size=\"10px\" fill=\"#000\" opacity=\"1\">26</text><text text-anchor=\"middle\" transform=\"translate(222.22222222222223,15)\" font-family=\"sans-serif\" font-size=\"10px\" fill=\"#000\" opacity=\"1\">27</text><text text-anchor=\"middle\" transform=\"translate(266.66666666666663,15)\" font-family=\"sans-serif\" font-size=\"10px\" fill=\"#000\" opacity=\"1\">28</text><text text-anchor=\"middle\" transform=\"translate(311.11111111111114,15)\" font-family=\"sans-serif\" font-size=\"10px\" fill=\"#000\" opacity=\"1\">29</text><text text-anchor=\"middle\" transform=\"translate(355.55555555555554,15)\" font-family=\"sans-serif\" font-size=\"10px\" fill=\"#000\" opacity=\"1\">30</text><text text-anchor=\"middle\" transform=\"translate(400,15)\" font-family=\"sans-serif\" font-size=\"10px\" fill=\"#000\" opacity=\"1\">31</text><text text-anchor=\"middle\" transform=\"translate(444.44444444444446,15)\" font-family=\"sans-serif\" font-size=\"10px\" fill=\"#000\" opacity=\"1\">32</text><text text-anchor=\"middle\" transform=\"translate(488.8888888888889,15)\" font-family=\"sans-serif\" font-size=\"10px\" fill=\"#000\" opacity=\"1\">33</text><text text-anchor=\"middle\" transform=\"translate(533.3333333333333,15)\" font-family=\"sans-serif\" font-size=\"10px\" fill=\"#000\" opacity=\"1\">34</text><text text-anchor=\"middle\" transform=\"translate(577.7777777777777,15)\" font-family=\"sans-serif\" font-size=\"10px\" fill=\"#000\" opacity=\"1\">35</text><text text-anchor=\"middle\" transform=\"translate(622.2222222222223,15)\" font-family=\"sans-serif\" font-size=\"10px\" fill=\"#000\" opacity=\"1\">36</text><text text-anchor=\"middle\" transform=\"translate(666.6666666666667,15)\" font-family=\"sans-serif\" font-size=\"10px\" fill=\"#000\" opacity=\"1\">37</text><text text-anchor=\"middle\" transform=\"translate(711.1111111111111,15)\" font-family=\"sans-serif\" font-size=\"10px\" fill=\"#000\" opacity=\"1\">38</text><text text-anchor=\"middle\" transform=\"translate(755.5555555555555,15)\" font-family=\"sans-serif\" font-size=\"10px\" fill=\"#000\" opacity=\"1\">39</text><text text-anchor=\"end\" transform=\"translate(800,15)\" font-family=\"sans-serif\" font-size=\"10px\" fill=\"#000\" opacity=\"1\">40</text></g><g class=\"mark-rule role-axis-domain\" pointer-events=\"none\"><line transform=\"translate(0,0)\" x2=\"800\" y2=\"0\" stroke=\"#888\" stroke-width=\"1\" opacity=\"1\"></line></g><g class=\"mark-text role-axis-title\" pointer-events=\"none\"><text text-anchor=\"middle\" transform=\"translate(400,30)\" font-family=\"sans-serif\" font-size=\"11px\" font-weight=\"bold\" fill=\"#000\" opacity=\"1\">Long</text></g></g><path class=\"foreground\" aria-hidden=\"true\" d=\"\" pointer-events=\"none\" display=\"none\"></path></g></g><g class=\"mark-group role-axis\" role=\"graphics-symbol\" aria-roledescription=\"axis\" aria-label=\"Y-axis titled 'Temp' for a linear scale with values from -35 to 5\"><g transform=\"translate(0.5,0.5)\"><path class=\"background\" aria-hidden=\"true\" d=\"M0,0h0v0h0Z\" pointer-events=\"none\"></path><g><g class=\"mark-rule role-axis-tick\" pointer-events=\"none\"><line transform=\"translate(0,88)\" x2=\"-5\" y2=\"0\" stroke=\"#888\" stroke-width=\"1\" opacity=\"1\"></line><line transform=\"translate(0,63)\" x2=\"-5\" y2=\"0\" stroke=\"#888\" stroke-width=\"1\" opacity=\"1\"></line><line transform=\"translate(0,38)\" x2=\"-5\" y2=\"0\" stroke=\"#888\" stroke-width=\"1\" opacity=\"1\"></line><line transform=\"translate(0,13)\" x2=\"-5\" y2=\"0\" stroke=\"#888\" stroke-width=\"1\" opacity=\"1\"></line></g><g class=\"mark-text role-axis-label\" pointer-events=\"none\"><text text-anchor=\"end\" transform=\"translate(-7,90.5)\" font-family=\"sans-serif\" font-size=\"10px\" fill=\"#000\" opacity=\"1\">-30</text><text text-anchor=\"end\" transform=\"translate(-7,65.5)\" font-family=\"sans-serif\" font-size=\"10px\" fill=\"#000\" opacity=\"1\">-20</text><text text-anchor=\"end\" transform=\"translate(-7,40.5)\" font-family=\"sans-serif\" font-size=\"10px\" fill=\"#000\" opacity=\"1\">-10</text><text text-anchor=\"end\" transform=\"translate(-7,15.5)\" font-family=\"sans-serif\" font-size=\"10px\" fill=\"#000\" opacity=\"1\">0</text></g><g class=\"mark-rule role-axis-domain\" pointer-events=\"none\"><line transform=\"translate(0,100)\" x2=\"0\" y2=\"-100\" stroke=\"#888\" stroke-width=\"1\" opacity=\"1\"></line></g><g class=\"mark-text role-axis-title\" pointer-events=\"none\"><text text-anchor=\"middle\" transform=\"translate(-27,50) rotate(-90) translate(0,-2)\" font-family=\"sans-serif\" font-size=\"11px\" font-weight=\"bold\" fill=\"#000\" opacity=\"1\">Temp</text></g></g><path class=\"foreground\" aria-hidden=\"true\" d=\"\" pointer-events=\"none\" display=\"none\"></path></g></g><g class=\"mark-line role-mark concat_1_layer_0_layer_0_marks\" role=\"graphics-object\" aria-roledescription=\"line mark container\"><path aria-label=\"Long: 25.3; Temp: -26\" role=\"graphics-symbol\" aria-roledescription=\"line mark\" d=\"M146.6666666666667,77.5L208.88888888888886,87.5L231.1111111111111,72.5L288.88888888888886,62.5L320,40L444.44444444444446,65L497.7777777777779,35L622.2222222222223,12.5L693.3333333333334,12.5\" stroke=\"black\" stroke-width=\"2\"></path></g><g class=\"mark-symbol role-mark concat_1_layer_0_layer_1_marks\" role=\"graphics-object\" aria-roledescription=\"symbol mark container\"><path aria-label=\"Long: 37.6; Temp: 0\" role=\"graphics-symbol\" aria-roledescription=\"point\" transform=\"translate(693.3333333333334,12.5)\" d=\"M2.7386127875258306,0A2.7386127875258306,2.7386127875258306,0,1,1,-2.7386127875258306,0A2.7386127875258306,2.7386127875258306,0,1,1,2.7386127875258306,0\" fill=\"black\" stroke-width=\"2\" opacity=\"1\"></path><path aria-label=\"Long: 36; Temp: 0\" role=\"graphics-symbol\" aria-roledescription=\"point\" transform=\"translate(622.2222222222223,12.5)\" d=\"M2.7386127875258306,0A2.7386127875258306,2.7386127875258306,0,1,1,-2.7386127875258306,0A2.7386127875258306,2.7386127875258306,0,1,1,2.7386127875258306,0\" fill=\"black\" stroke-width=\"2\" opacity=\"1\"></path><path aria-label=\"Long: 33.2; Temp: -9\" role=\"graphics-symbol\" aria-roledescription=\"point\" transform=\"translate(497.7777777777779,35)\" d=\"M2.7386127875258306,0A2.7386127875258306,2.7386127875258306,0,1,1,-2.7386127875258306,0A2.7386127875258306,2.7386127875258306,0,1,1,2.7386127875258306,0\" fill=\"black\" stroke-width=\"2\" opacity=\"1\"></path><path aria-label=\"Long: 32; Temp: -21\" role=\"graphics-symbol\" aria-roledescription=\"point\" transform=\"translate(444.44444444444446,65)\" d=\"M2.7386127875258306,0A2.7386127875258306,2.7386127875258306,0,1,1,-2.7386127875258306,0A2.7386127875258306,2.7386127875258306,0,1,1,2.7386127875258306,0\" fill=\"black\" stroke-width=\"2\" opacity=\"1\"></path><path aria-label=\"Long: 29.2; Temp: -11\" role=\"graphics-symbol\" aria-roledescription=\"point\" transform=\"translate(320,40)\" d=\"M2.7386127875258306,0A2.7386127875258306,2.7386127875258306,0,1,1,-2.7386127875258306,0A2.7386127875258306,2.7386127875258306,0,1,1,2.7386127875258306,0\" fill=\"black\" stroke-width=\"2\" opacity=\"1\"></path><path aria-label=\"Long: 28.5; Temp: -20\" role=\"graphics-symbol\" aria-roledescription=\"point\" transform=\"translate(288.88888888888886,62.5)\" d=\"M2.7386127875258306,0A2.7386127875258306,2.7386127875258306,0,1,1,-2.7386127875258306,0A2.7386127875258306,2.7386127875258306,0,1,1,2.7386127875258306,0\" fill=\"black\" stroke-width=\"2\" opacity=\"1\"></path><path aria-label=\"Long: 27.2; Temp: -24\" role=\"graphics-symbol\" aria-roledescription=\"point\" transform=\"translate(231.1111111111111,72.5)\" d=\"M2.7386127875258306,0A2.7386127875258306,2.7386127875258306,0,1,1,-2.7386127875258306,0A2.7386127875258306,2.7386127875258306,0,1,1,2.7386127875258306,0\" fill=\"black\" stroke-width=\"2\" opacity=\"1\"></path><path aria-label=\"Long: 26.7; Temp: -30\" role=\"graphics-symbol\" aria-roledescription=\"point\" transform=\"translate(208.88888888888886,87.5)\" d=\"M2.7386127875258306,0A2.7386127875258306,2.7386127875258306,0,1,1,-2.7386127875258306,0A2.7386127875258306,2.7386127875258306,0,1,1,2.7386127875258306,0\" fill=\"black\" stroke-width=\"2\" opacity=\"1\"></path><path aria-label=\"Long: 25.3; Temp: -26\" role=\"graphics-symbol\" aria-roledescription=\"point\" transform=\"translate(146.6666666666667,77.5)\" d=\"M2.7386127875258306,0A2.7386127875258306,2.7386127875258306,0,1,1,-2.7386127875258306,0A2.7386127875258306,2.7386127875258306,0,1,1,2.7386127875258306,0\" fill=\"black\" stroke-width=\"2\" opacity=\"1\"></path></g><g class=\"mark-text role-mark concat_1_layer_1_marks\" role=\"graphics-object\" aria-roledescription=\"text mark container\"><text aria-label=\"Long: 37.6; Temp: 0; Date: Oct18\" role=\"graphics-symbol\" aria-roledescription=\"text mark\" text-anchor=\"middle\" transform=\"translate(693.3333333333334,4.5)\" font-family=\"sans-serif\" font-size=\"8px\" fill=\"black\">Oct18</text><text aria-label=\"Long: 36; Temp: 0; Date: Oct24\" role=\"graphics-symbol\" aria-roledescription=\"text mark\" text-anchor=\"middle\" transform=\"translate(622.2222222222223,4.5)\" font-family=\"sans-serif\" font-size=\"8px\" fill=\"black\">Oct24</text><text aria-label=\"Long: 33.2; Temp: -9; Date: Nov09\" role=\"graphics-symbol\" aria-roledescription=\"text mark\" text-anchor=\"middle\" transform=\"translate(497.7777777777779,27)\" font-family=\"sans-serif\" font-size=\"8px\" fill=\"black\">Nov09</text><text aria-label=\"Long: 32; Temp: -21; Date: Nov14\" role=\"graphics-symbol\" aria-roledescription=\"text mark\" text-anchor=\"middle\" transform=\"translate(444.44444444444446,57)\" font-family=\"sans-serif\" font-size=\"8px\" fill=\"black\">Nov14</text><text aria-label=\"Long: 28.5; Temp: -20; Date: Nov28\" role=\"graphics-symbol\" aria-roledescription=\"text mark\" text-anchor=\"middle\" transform=\"translate(288.88888888888886,54.5)\" font-family=\"sans-serif\" font-size=\"8px\" fill=\"black\">Nov28</text><text aria-label=\"Long: 27.2; Temp: -24; Date: Dec01\" role=\"graphics-symbol\" aria-roledescription=\"text mark\" text-anchor=\"middle\" transform=\"translate(231.1111111111111,64.5)\" font-family=\"sans-serif\" font-size=\"8px\" fill=\"black\">Dec01</text><text aria-label=\"Long: 26.7; Temp: -30; Date: Dec06\" role=\"graphics-symbol\" aria-roledescription=\"text mark\" text-anchor=\"middle\" transform=\"translate(208.88888888888886,79.5)\" font-family=\"sans-serif\" font-size=\"8px\" fill=\"black\">Dec06</text><text aria-label=\"Long: 25.3; Temp: -26; Date: Dec07\" role=\"graphics-symbol\" aria-roledescription=\"text mark\" text-anchor=\"middle\" transform=\"translate(146.6666666666667,69.5)\" font-family=\"sans-serif\" font-size=\"8px\" fill=\"black\">Dec07</text></g></g><path class=\"foreground\" aria-hidden=\"true\" d=\"\" display=\"none\"></path></g></g><g class=\"mark-group role-legend\" role=\"graphics-symbol\" aria-roledescription=\"legend\" aria-label=\"Symbol legend titled 'Direction' for fill color and stroke color with 2 values: A, R\"><g transform=\"translate(820,0)\"><path class=\"background\" aria-hidden=\"true\" d=\"M0,0h57v45h-57Z\" pointer-events=\"none\"></path><g><g class=\"mark-group role-legend-entry\"><g transform=\"translate(0,16)\"><path class=\"background\" aria-hidden=\"true\" d=\"M0,0h0v0h0Z\" pointer-events=\"none\"></path><g><g class=\"mark-group role-scope\" role=\"graphics-object\" aria-roledescription=\"group mark container\"><g transform=\"translate(0,0)\"><path class=\"background\" aria-hidden=\"true\" d=\"M0,0h23v12.5h-23Z\" pointer-events=\"none\" opacity=\"1\"></path><g><g class=\"mark-symbol role-legend-symbol\" pointer-events=\"none\"><path transform=\"translate(6,6)\" d=\"M5,0A5,5,0,1,1,-5,0A5,5,0,1,1,5,0\" fill=\"#bd9e39\" stroke=\"#bd9e39\" stroke-width=\"1.5\" opacity=\"1\"></path></g><g class=\"mark-text role-legend-label\" pointer-events=\"none\"><text text-anchor=\"start\" transform=\"translate(16,9)\" font-family=\"sans-serif\" font-size=\"10px\" fill=\"#000\" opacity=\"1\">A</text></g></g><path class=\"foreground\" aria-hidden=\"true\" d=\"\" pointer-events=\"none\" display=\"none\"></path></g><g transform=\"translate(0,16)\"><path class=\"background\" aria-hidden=\"true\" d=\"M0,0h23v12.5h-23Z\" pointer-events=\"none\" opacity=\"1\"></path><g><g class=\"mark-symbol role-legend-symbol\" pointer-events=\"none\"><path transform=\"translate(6,6)\" d=\"M5,0A5,5,0,1,1,-5,0A5,5,0,1,1,5,0\" fill=\"gray\" stroke=\"gray\" stroke-width=\"1.5\" opacity=\"1\"></path></g><g class=\"mark-text role-legend-label\" pointer-events=\"none\"><text text-anchor=\"start\" transform=\"translate(16,9)\" font-family=\"sans-serif\" font-size=\"10px\" fill=\"#000\" opacity=\"1\">R</text></g></g><path class=\"foreground\" aria-hidden=\"true\" d=\"\" pointer-events=\"none\" display=\"none\"></path></g></g></g><path class=\"foreground\" aria-hidden=\"true\" d=\"\" pointer-events=\"none\" display=\"none\"></path></g></g><g class=\"mark-text role-legend-title\" pointer-events=\"none\"><text text-anchor=\"start\" transform=\"translate(0,9)\" font-family=\"sans-serif\" font-size=\"11px\" font-weight=\"bold\" fill=\"#000\" opacity=\"1\">Direction</text></g></g><path class=\"foreground\" aria-hidden=\"true\" d=\"\" pointer-events=\"none\" display=\"none\"></path></g></g><g class=\"mark-group role-legend\" role=\"graphics-symbol\" aria-roledescription=\"legend\" aria-label=\"Symbol legend titled 'Survivors' for size and strokeWidth with values from 0 to 340,000\"><g transform=\"translate(820,53)\"><path class=\"background\" aria-hidden=\"true\" d=\"M0,0h75v258h-75Z\" pointer-events=\"none\"></path><g><g class=\"mark-group role-legend-entry\"><g transform=\"translate(0,16)\"><path class=\"background\" aria-hidden=\"true\" d=\"M0,0h0v0h0Z\" pointer-events=\"none\"></path><g><g class=\"mark-group role-scope\" role=\"graphics-object\" aria-roledescription=\"group mark container\"><g transform=\"translate(0,0)\"><path class=\"background\" aria-hidden=\"true\" d=\"M0,0h75v10h-75Z\" pointer-events=\"none\" opacity=\"1\"></path><g><g class=\"mark-symbol role-legend-symbol\" pointer-events=\"none\"><path transform=\"translate(16,5)\" d=\"M0.5,0A0.5,0.5,0,1,1,-0.5,0A0.5,0.5,0,1,1,0.5,0\" fill=\"black\" fill-opacity=\"1\" stroke-width=\"1\" opacity=\"1\"></path></g><g class=\"mark-text role-legend-label\" pointer-events=\"none\"><text text-anchor=\"start\" transform=\"translate(36,8)\" font-family=\"sans-serif\" font-size=\"10px\" fill=\"#000\" opacity=\"1\">0</text></g></g><path class=\"foreground\" aria-hidden=\"true\" d=\"\" pointer-events=\"none\" display=\"none\"></path></g><g transform=\"translate(0,14)\"><path class=\"background\" aria-hidden=\"true\" d=\"M0,0h75v11.411953227343652h-75Z\" pointer-events=\"none\" opacity=\"1\"></path><g><g class=\"mark-symbol role-legend-symbol\" pointer-events=\"none\"><path transform=\"translate(16,5)\" d=\"M1.147247344990711,0A1.147247344990711,1.147247344990711,0,1,1,-1.147247344990711,0A1.147247344990711,1.147247344990711,0,1,1,1.147247344990711,0\" fill=\"black\" fill-opacity=\"1\" stroke-width=\"5.264705882352941\" opacity=\"1\"></path></g><g class=\"mark-text role-legend-label\" pointer-events=\"none\"><text text-anchor=\"start\" transform=\"translate(36,8)\" font-family=\"sans-serif\" font-size=\"10px\" fill=\"#000\" opacity=\"1\">50,000</text></g></g><path class=\"foreground\" aria-hidden=\"true\" d=\"\" pointer-events=\"none\" display=\"none\"></path></g><g transform=\"translate(0,33)\"><path class=\"background\" aria-hidden=\"true\" d=\"M0,0h75v17.57289903098846h-75Z\" pointer-events=\"none\" opacity=\"1\"></path><g><g class=\"mark-symbol role-legend-symbol\" pointer-events=\"none\"><path transform=\"translate(16,6.5)\" d=\"M1.5434872662825796,0A1.5434872662825796,1.5434872662825796,0,1,1,-1.5434872662825796,0A1.5434872662825796,1.5434872662825796,0,1,1,1.5434872662825796,0\" fill=\"black\" fill-opacity=\"1\" stroke-width=\"9.529411764705882\" opacity=\"1\"></path></g><g class=\"mark-text role-legend-label\" pointer-events=\"none\"><text text-anchor=\"start\" transform=\"translate(36,9.5)\" font-family=\"sans-serif\" font-size=\"10px\" fill=\"#000\" opacity=\"1\">100,000</text></g></g><path class=\"foreground\" aria-hidden=\"true\" d=\"\" pointer-events=\"none\" display=\"none\"></path></g><g transform=\"translate(0,60)\"><path class=\"background\" aria-hidden=\"true\" d=\"M0,0h75v24.651139297919343h-75Z\" pointer-events=\"none\" opacity=\"1\"></path><g><g class=\"mark-symbol role-legend-symbol\" pointer-events=\"none\"><path transform=\"translate(16,9)\" d=\"M1.857021650860513,0A1.857021650860513,1.857021650860513,0,1,1,-1.857021650860513,0A1.857021650860513,1.857021650860513,0,1,1,1.857021650860513,0\" fill=\"black\" fill-opacity=\"1\" stroke-width=\"13.794117647058822\" opacity=\"1\"></path></g><g class=\"mark-text role-legend-label\" pointer-events=\"none\"><text text-anchor=\"start\" transform=\"translate(36,12)\" font-family=\"sans-serif\" font-size=\"10px\" fill=\"#000\" opacity=\"1\">150,000</text></g></g><path class=\"foreground\" aria-hidden=\"true\" d=\"\" pointer-events=\"none\" display=\"none\"></path></g><g transform=\"translate(0,96)\"><path class=\"background\" aria-hidden=\"true\" d=\"M0,0h75v31.683607255430232h-75Z\" pointer-events=\"none\" opacity=\"1\"></path><g><g class=\"mark-symbol role-legend-symbol\" pointer-events=\"none\"><path transform=\"translate(16,11.5)\" d=\"M2.124783726018472,0A2.124783726018472,2.124783726018472,0,1,1,-2.124783726018472,0A2.124783726018472,2.124783726018472,0,1,1,2.124783726018472,0\" fill=\"black\" fill-opacity=\"1\" stroke-width=\"18.058823529411764\" opacity=\"1\"></path></g><g class=\"mark-text role-legend-label\" pointer-events=\"none\"><text text-anchor=\"start\" transform=\"translate(36,14.5)\" font-family=\"sans-serif\" font-size=\"10px\" fill=\"#000\" opacity=\"1\">200,000</text></g></g><path class=\"foreground\" aria-hidden=\"true\" d=\"\" pointer-events=\"none\" display=\"none\"></path></g><g transform=\"translate(0,141)\"><path class=\"background\" aria-hidden=\"true\" d=\"M0,0h75v38.68591853147831h-75Z\" pointer-events=\"none\" opacity=\"1\"></path><g><g class=\"mark-symbol role-legend-symbol\" pointer-events=\"none\"><path transform=\"translate(16,14)\" d=\"M2.3623891197135958,0A2.3623891197135958,2.3623891197135958,0,1,1,-2.3623891197135958,0A2.3623891197135958,2.3623891197135958,0,1,1,2.3623891197135958,0\" fill=\"black\" fill-opacity=\"1\" stroke-width=\"22.32352941176471\" opacity=\"1\"></path></g><g class=\"mark-text role-legend-label\" pointer-events=\"none\"><text text-anchor=\"start\" transform=\"translate(36,17)\" font-family=\"sans-serif\" font-size=\"10px\" fill=\"#000\" opacity=\"1\">250,000</text></g></g><path class=\"foreground\" aria-hidden=\"true\" d=\"\" pointer-events=\"none\" display=\"none\"></path></g><g transform=\"translate(0,196)\"><path class=\"background\" aria-hidden=\"true\" d=\"M0,0h75v45.166424353036604h-75Z\" pointer-events=\"none\" opacity=\"1\"></path><g><g class=\"mark-symbol role-legend-symbol\" pointer-events=\"none\"><path transform=\"translate(16,16)\" d=\"M2.578189058918956,0A2.578189058918956,2.578189058918956,0,1,1,-2.578189058918956,0A2.578189058918956,2.578189058918956,0,1,1,2.578189058918956,0\" fill=\"black\" fill-opacity=\"1\" stroke-width=\"26.588235294117645\" opacity=\"1\"></path></g><g class=\"mark-text role-legend-label\" pointer-events=\"none\"><text text-anchor=\"start\" transform=\"translate(36,19)\" font-family=\"sans-serif\" font-size=\"10px\" fill=\"#000\" opacity=\"1\">300,000</text></g></g><path class=\"foreground\" aria-hidden=\"true\" d=\"\" pointer-events=\"none\" display=\"none\"></path></g></g></g><path class=\"foreground\" aria-hidden=\"true\" d=\"\" pointer-events=\"none\" display=\"none\"></path></g></g><g class=\"mark-text role-legend-title\" pointer-events=\"none\"><text text-anchor=\"start\" transform=\"translate(0,9)\" font-family=\"sans-serif\" font-size=\"11px\" font-weight=\"bold\" fill=\"#000\" opacity=\"1\">Survivors</text></g></g><path class=\"foreground\" aria-hidden=\"true\" d=\"\" pointer-events=\"none\" display=\"none\"></path></g></g></g><path class=\"foreground\" aria-hidden=\"true\" d=\"\" display=\"none\"></path></g></g></g></svg>\n"
      ],
      "text/plain": [
       "@vlplot(\n",
       "    vconcat=[\n",
       "        {\n",
       "            width=800,\n",
       "            height=300,\n",
       "            layer=[\n",
       "                {\n",
       "                    data={\n",
       "                        values=...\n",
       "                    },\n",
       "                    mark={\n",
       "                        point=true,\n",
       "                        clip=true,\n",
       "                        type=\"trail\"\n",
       "                    },\n",
       "                    encoding={\n",
       "                        x={\n",
       "                            scale={\n",
       "                                domain=[\n",
       "                                    23,\n",
       "                                    39\n",
       "                                ]\n",
       "                            },\n",
       "                            field=\"Long\",\n",
       "                            type=\"quantitative\"\n",
       "                        },\n",
       "                        y={\n",
       "                            scale={\n",
       "                                domain=[\n",
       "                                    53.8,\n",
       "                                    56.0\n",
       "                                ]\n",
       "                            },\n",
       "                            field=\"Lat\",\n",
       "                            type=\"quantitative\"\n",
       "                        },\n",
       "                        size={\n",
       "                            scale={\n",
       "                                range=[\n",
       "                                    1,\n",
       "                                    30\n",
       "                                ]\n",
       "                            },\n",
       "                            field=\"Survivors\",\n",
       "                            type=\"quantitative\"\n",
       "                        },\n",
       "                        color={\n",
       "                            scale={\n",
       "                                range=[\n",
       "                                    \"#bd9e39\",\n",
       "                                    \"gray\"\n",
       "                                ]\n",
       "                            },\n",
       "                            field=\"Direction\",\n",
       "                            type=\"nominal\"\n",
       "                        },\n",
       "                        detail={\n",
       "                            field=\"Group\",\n",
       "                            type=\"nominal\"\n",
       "                        },\n",
       "                        order={\n",
       "                            field=\"row\",\n",
       "                            typ=\"q\"\n",
       "                        }\n",
       "                    }\n",
       "                },\n",
       "                {\n",
       "                    mark={\n",
       "                        type=\"text\"\n",
       "                    },\n",
       "                    data={\n",
       "                        values=...\n",
       "                    },\n",
       "                    encoding={\n",
       "                        size={\n",
       "                            value=10\n",
       "                        },\n",
       "                        x={\n",
       "                            scale={\n",
       "                                domain=[\n",
       "                                    23,\n",
       "                                    39\n",
       "                                ]\n",
       "                            },\n",
       "                            field=\"Long\",\n",
       "                            type=\"quantitative\"\n",
       "                        },\n",
       "                        y={\n",
       "                            scale={\n",
       "                                domain=[\n",
       "                                    53.8,\n",
       "                                    56.0\n",
       "                                ]\n",
       "                            },\n",
       "                            field=\"Lat\",\n",
       "                            type=\"quantitative\"\n",
       "                        },\n",
       "                        text={\n",
       "                            field=\"City\",\n",
       "                            type=\"nominal\"\n",
       "                        }\n",
       "                    }\n",
       "                }\n",
       "            ]\n",
       "        },\n",
       "        {\n",
       "            width=800,\n",
       "            height=100,\n",
       "            layer=[\n",
       "                {\n",
       "                    mark={\n",
       "                        type=\"line\",\n",
       "                        point={\n",
       "                            fill=\"black\"\n",
       "                        },\n",
       "                        color=\"black\",\n",
       "                        clip=false\n",
       "                    },\n",
       "                    data={\n",
       "                        values=...\n",
       "                    },\n",
       "                    encoding={\n",
       "                        x={\n",
       "                            scale={\n",
       "                                domain=[\n",
       "                                    23,\n",
       "                                    39\n",
       "                                ]\n",
       "                            },\n",
       "                            field=\"Long\",\n",
       "                            type=\"quantitative\"\n",
       "                        },\n",
       "                        y={\n",
       "                            scale={\n",
       "                                domain=[\n",
       "                                    -31,\n",
       "                                    5\n",
       "                                ]\n",
       "                            },\n",
       "                            field=\"Temp\",\n",
       "                            type=\"quantitative\"\n",
       "                        }\n",
       "                    }\n",
       "                },\n",
       "                {\n",
       "                    mark={\n",
       "                        dy=-10,\n",
       "                        type=\"text\"\n",
       "                    },\n",
       "                    data={\n",
       "                        values=...\n",
       "                    },\n",
       "                    transform=[\n",
       "                        {\n",
       "                            filter=\"datum.Date !== null\"\n",
       "                        }\n",
       "                    ],\n",
       "                    encoding={\n",
       "                        size={\n",
       "                            value=8\n",
       "                        },\n",
       "                        x={\n",
       "                            scale={\n",
       "                                domain=[\n",
       "                                    23,\n",
       "                                    39\n",
       "                                ]\n",
       "                            },\n",
       "                            field=\"Long\",\n",
       "                            type=\"quantitative\"\n",
       "                        },\n",
       "                        y={\n",
       "                            scale={\n",
       "                                domain=[\n",
       "                                    -31,\n",
       "                                    5\n",
       "                                ]\n",
       "                            },\n",
       "                            field=\"Temp\",\n",
       "                            type=\"quantitative\"\n",
       "                        },\n",
       "                        text={\n",
       "                            field=\"Date\",\n",
       "                            type=\"nominal\"\n",
       "                        }\n",
       "                    }\n",
       "                }\n",
       "            ]\n",
       "        }\n",
       "    ]\n",
       ")"
      ]
     },
     "execution_count": 5,
     "metadata": {},
     "output_type": "execute_result"
    }
   ],
   "source": [
    "spec = [\n",
    "@vlplot(width=800, height=300) +\n",
    "@vlplot(\n",
    "    data=troops,\n",
    "    mark={:trail,point=true,clip=true},\n",
    "    x={\"Long:q\", scale={domain=[23,39]}},\n",
    "    y={\"Lat:q\", scale ={domain = [53.8,56]}},\n",
    "    size = {\"Survivors:q\", scale={\"range\" = [1,30]}},\n",
    "    color={\"Direction:n\",\n",
    "                scale={range=[\"#bd9e39\",:gray]}},\n",
    "    detail=\"Group:n\",\n",
    "    order ={field =:row, typ=:q }\n",
    ") + \n",
    "@vlplot(mark={:text},\n",
    "    data=cities,\n",
    "    size={value=10},\n",
    "    x={\"Long:q\", scale={domain=[23,39]}},\n",
    "    y={\"Lat:q\", scale ={domain = [53.8,56]}},\n",
    "    text=\"City:n\") ;\n",
    "@vlplot(width=800, height=100) +\n",
    "@vlplot(mark={\"type\"=:line,point={fill=:black},color=:black,clip=false},\n",
    "    data=temp,\n",
    "    x={\"Long:q\", scale={domain=[23,39]}},\n",
    "    y={\"Temp:q\", scale={domain=[-31,5]}}\n",
    ") + \n",
    "# @vlplot(mark={:text,\"angle\"=-90,\"dx\"=+20},\n",
    "@vlplot(mark={:text,\"dy\"=-10},\n",
    "    data=temp,\n",
    "    size={value=8},\n",
    "    x={\"Long:q\", scale={domain=[23,39]}},\n",
    "    y={\"Temp:q\", scale={domain=[-31,5]}},\n",
    "    text=\"Date:n\",\n",
    "    transform=[\n",
    "        {filter=\"datum.Date !== null\"}\n",
    "    ]\n",
    ")\n",
    "    \n",
    "]"
   ]
  },
  {
   "cell_type": "code",
   "execution_count": 20,
   "metadata": {},
   "outputs": [
    {
     "data": {
      "application/vnd.vegalite.v4+json": {
       "vconcat": [
        {
         "height": 300,
         "layer": [
          {
           "data": {
            "values": [
             {
              "Direction": "A",
              "Group": 1,
              "Lat": 54.9,
              "Long": 24,
              "Survivors": 340000
             },
             {
              "Direction": "A",
              "Group": 1,
              "Lat": 55,
              "Long": 24.5,
              "Survivors": 340000
             },
             {
              "Direction": "A",
              "Group": 1,
              "Lat": 54.5,
              "Long": 25.5,
              "Survivors": 340000
             },
             {
              "Direction": "A",
              "Group": 1,
              "Lat": 54.7,
              "Long": 26,
              "Survivors": 320000
             },
             {
              "Direction": "A",
              "Group": 1,
              "Lat": 54.8,
              "Long": 27,
              "Survivors": 300000
             },
             {
              "Direction": "A",
              "Group": 1,
              "Lat": 54.9,
              "Long": 28,
              "Survivors": 280000
             },
             {
              "Direction": "A",
              "Group": 1,
              "Lat": 55,
              "Long": 28.5,
              "Survivors": 240000
             },
             {
              "Direction": "A",
              "Group": 1,
              "Lat": 55.1,
              "Long": 29,
              "Survivors": 210000
             },
             {
              "Direction": "A",
              "Group": 1,
              "Lat": 55.2,
              "Long": 30,
              "Survivors": 180000
             },
             {
              "Direction": "A",
              "Group": 1,
              "Lat": 55.3,
              "Long": 30.3,
              "Survivors": 175000
             },
             {
              "Direction": "A",
              "Group": 1,
              "Lat": 54.8,
              "Long": 32,
              "Survivors": 145000
             },
             {
              "Direction": "A",
              "Group": 1,
              "Lat": 54.9,
              "Long": 33.2,
              "Survivors": 140000
             },
             {
              "Direction": "A",
              "Group": 1,
              "Lat": 55.5,
              "Long": 34.4,
              "Survivors": 127100
             },
             {
              "Direction": "A",
              "Group": 1,
              "Lat": 55.4,
              "Long": 35.5,
              "Survivors": 100000
             },
             {
              "Direction": "A",
              "Group": 1,
              "Lat": 55.5,
              "Long": 36,
              "Survivors": 100000
             },
             {
              "Direction": "A",
              "Group": 1,
              "Lat": 55.8,
              "Long": 37.6,
              "Survivors": 100000
             },
             {
              "Direction": "R",
              "Group": 1,
              "Lat": 55.7,
              "Long": 37.7,
              "Survivors": 100000
             },
             {
              "Direction": "R",
              "Group": 1,
              "Lat": 55.7,
              "Long": 37.5,
              "Survivors": 98000
             },
             {
              "Direction": "R",
              "Group": 1,
              "Lat": 55,
              "Long": 37,
              "Survivors": 97000
             },
             {
              "Direction": "R",
              "Group": 1,
              "Lat": 55,
              "Long": 36.8,
              "Survivors": 96000
             },
             {
              "Direction": "R",
              "Group": 1,
              "Lat": 55.3,
              "Long": 35.4,
              "Survivors": 87000
             },
             {
              "Direction": "R",
              "Group": 1,
              "Lat": 55.2,
              "Long": 34.3,
              "Survivors": 55000
             },
             {
              "Direction": "R",
              "Group": 1,
              "Lat": 54.8,
              "Long": 33.3,
              "Survivors": 37000
             },
             {
              "Direction": "R",
              "Group": 1,
              "Lat": 54.6,
              "Long": 32,
              "Survivors": 24000
             },
             {
              "Direction": "R",
              "Group": 1,
              "Lat": 54.4,
              "Long": 30.4,
              "Survivors": 20000
             },
             {
              "Direction": "R",
              "Group": 1,
              "Lat": 54.3,
              "Long": 29.2,
              "Survivors": 20000
             },
             {
              "Direction": "R",
              "Group": 1,
              "Lat": 54.2,
              "Long": 28.5,
              "Survivors": 20000
             },
             {
              "Direction": "R",
              "Group": 1,
              "Lat": 54.3,
              "Long": 28.3,
              "Survivors": 20000
             },
             {
              "Direction": "R",
              "Group": 1,
              "Lat": 54.5,
              "Long": 27.5,
              "Survivors": 20000
             },
             {
              "Direction": "R",
              "Group": 1,
              "Lat": 54.3,
              "Long": 26.8,
              "Survivors": 12000
             },
             {
              "Direction": "R",
              "Group": 1,
              "Lat": 54.4,
              "Long": 26.4,
              "Survivors": 14000
             },
             {
              "Direction": "R",
              "Group": 1,
              "Lat": 54.4,
              "Long": 25,
              "Survivors": 8000
             },
             {
              "Direction": "R",
              "Group": 1,
              "Lat": 54.4,
              "Long": 24.4,
              "Survivors": 4000
             },
             {
              "Direction": "R",
              "Group": 1,
              "Lat": 54.4,
              "Long": 24.2,
              "Survivors": 4000
             },
             {
              "Direction": "R",
              "Group": 1,
              "Lat": 54.4,
              "Long": 24.1,
              "Survivors": 4000
             },
             {
              "Direction": "A",
              "Group": 2,
              "Lat": 55.1,
              "Long": 24,
              "Survivors": 60000
             },
             {
              "Direction": "A",
              "Group": 2,
              "Lat": 55.2,
              "Long": 24.5,
              "Survivors": 60000
             },
             {
              "Direction": "A",
              "Group": 2,
              "Lat": 54.7,
              "Long": 25.5,
              "Survivors": 60000
             },
             {
              "Direction": "A",
              "Group": 2,
              "Lat": 55.7,
              "Long": 26.6,
              "Survivors": 40000
             },
             {
              "Direction": "A",
              "Group": 2,
              "Lat": 55.6,
              "Long": 27.4,
              "Survivors": 33000
             },
             {
              "Direction": "A",
              "Group": 2,
              "Lat": 55.5,
              "Long": 28.7,
              "Survivors": 33000
             },
             {
              "Direction": "R",
              "Group": 2,
              "Lat": 55.5,
              "Long": 28.7,
              "Survivors": 33000
             },
             {
              "Direction": "R",
              "Group": 2,
              "Lat": 54.2,
              "Long": 29.2,
              "Survivors": 30000
             },
             {
              "Direction": "R",
              "Group": 2,
              "Lat": 54.1,
              "Long": 28.5,
              "Survivors": 30000
             },
             {
              "Direction": "R",
              "Group": 2,
              "Lat": 54.2,
              "Long": 28.3,
              "Survivors": 28000
             },
             {
              "Direction": "A",
              "Group": 3,
              "Lat": 55.2,
              "Long": 24,
              "Survivors": 22000
             },
             {
              "Direction": "A",
              "Group": 3,
              "Lat": 55.3,
              "Long": 24.5,
              "Survivors": 22000
             },
             {
              "Direction": "A",
              "Group": 3,
              "Lat": 55.8,
              "Long": 24.6,
              "Survivors": 6000
             },
             {
              "Direction": "R",
              "Group": 3,
              "Lat": 55.8,
              "Long": 24.6,
              "Survivors": 6000
             },
             {
              "Direction": "R",
              "Group": 3,
              "Lat": 54.4,
              "Long": 24.2,
              "Survivors": 6000
             },
             {
              "Direction": "R",
              "Group": 3,
              "Lat": 54.4,
              "Long": 24.1,
              "Survivors": 6000
             }
            ]
           },
           "encoding": {
            "color": {
             "field": "Direction",
             "scale": {
              "range": [
               "#bd9e39",
               "gray"
              ]
             },
             "type": "nominal"
            },
            "detail": {
             "field": "Group",
             "type": "nominal"
            },
            "order": {
             "field": "row",
             "type": "q"
            },
            "size": {
             "field": "Survivors",
             "scale": {
              "range": [
               1,
               30
              ]
             },
             "type": "quantitative"
            },
            "x": {
             "field": "Long",
             "scale": {
              "domain": [
               23,
               39
              ]
             },
             "type": "quantitative"
            },
            "y": {
             "field": "Lat",
             "scale": {
              "domain": [
               53.8,
               56
              ]
             },
             "type": "quantitative"
            }
           },
           "mark": {
            "clip": true,
            "point": true,
            "type": "trail"
           }
          },
          {
           "data": {
            "values": [
             {
              "City": "Kowno",
              "Lat": 55,
              "Long": 24
             },
             {
              "City": "Wilna",
              "Lat": 54.7,
              "Long": 25.3
             },
             {
              "City": "Smorgoni",
              "Lat": 54.4,
              "Long": 26.4
             },
             {
              "City": "Moiodexno",
              "Lat": 54.3,
              "Long": 26.8
             },
             {
              "City": "Gloubokoe",
              "Lat": 55.2,
              "Long": 27.7
             },
             {
              "City": "Minsk",
              "Lat": 53.9,
              "Long": 27.6
             },
             {
              "City": "Studienska",
              "Lat": 54.3,
              "Long": 28.5
             },
             {
              "City": "Polotzk",
              "Lat": 55.5,
              "Long": 28.7
             },
             {
              "City": "Bobr",
              "Lat": 54.4,
              "Long": 29.2
             },
             {
              "City": "Witebsk",
              "Lat": 55.3,
              "Long": 30.2
             },
             {
              "City": "Orscha",
              "Lat": 54.5,
              "Long": 30.4
             },
             {
              "City": "Mohilow",
              "Lat": 53.9,
              "Long": 30.4
             },
             {
              "City": "Smolensk",
              "Lat": 54.8,
              "Long": 32
             },
             {
              "City": "Dorogobouge",
              "Lat": 54.9,
              "Long": 33.2
             },
             {
              "City": "Wixma",
              "Lat": 55.2,
              "Long": 34.3
             },
             {
              "City": "Chjat",
              "Lat": 55.5,
              "Long": 34.4
             },
             {
              "City": "Mojaisk",
              "Lat": 55.5,
              "Long": 36
             },
             {
              "City": "Moscou",
              "Lat": 55.8,
              "Long": 37.6
             },
             {
              "City": "Tarantino",
              "Lat": 55.3,
              "Long": 36.6
             },
             {
              "City": "Malo-Jarosewii",
              "Lat": 55,
              "Long": 36.5
             }
            ]
           },
           "encoding": {
            "size": {
             "value": 10
            },
            "text": {
             "field": "City",
             "type": "nominal"
            },
            "x": {
             "field": "Long",
             "scale": {
              "domain": [
               23,
               39
              ]
             },
             "type": "quantitative"
            },
            "y": {
             "field": "Lat",
             "scale": {
              "domain": [
               53.8,
               56
              ]
             },
             "type": "quantitative"
            }
           },
           "mark": {
            "type": "text"
           }
          }
         ],
         "width": 800
        },
        {
         "height": 100,
         "layer": [
          {
           "data": {
            "values": [
             {
              "Date": "Oct18",
              "Days": 6,
              "Long": 37.6,
              "Temp": 0
             },
             {
              "Date": "Oct24",
              "Days": 6,
              "Long": 36,
              "Temp": 0
             },
             {
              "Date": "Nov09",
              "Days": 16,
              "Long": 33.2,
              "Temp": -9
             },
             {
              "Date": "Nov14",
              "Days": 5,
              "Long": 32,
              "Temp": -21
             },
             {
              "Date": null,
              "Days": 10,
              "Long": 29.2,
              "Temp": -11
             },
             {
              "Date": "Nov28",
              "Days": 4,
              "Long": 28.5,
              "Temp": -20
             },
             {
              "Date": "Dec01",
              "Days": 3,
              "Long": 27.2,
              "Temp": -24
             },
             {
              "Date": "Dec06",
              "Days": 5,
              "Long": 26.7,
              "Temp": -30
             },
             {
              "Date": "Dec07",
              "Days": 1,
              "Long": 25.3,
              "Temp": -26
             }
            ]
           },
           "encoding": {
            "x": {
             "field": "Long",
             "scale": {
              "domain": [
               23,
               39
              ]
             },
             "type": "quantitative"
            },
            "y": {
             "field": "Temp",
             "scale": {
              "domain": [
               -31,
               5
              ]
             },
             "type": "quantitative"
            }
           },
           "mark": {
            "clip": false,
            "color": "black",
            "point": {
             "fill": "black"
            },
            "type": "line"
           }
          },
          {
           "data": {
            "values": [
             {
              "Date": "Oct18",
              "Days": 6,
              "Long": 37.6,
              "Temp": 0
             },
             {
              "Date": "Oct24",
              "Days": 6,
              "Long": 36,
              "Temp": 0
             },
             {
              "Date": "Nov09",
              "Days": 16,
              "Long": 33.2,
              "Temp": -9
             },
             {
              "Date": "Nov14",
              "Days": 5,
              "Long": 32,
              "Temp": -21
             },
             {
              "Date": null,
              "Days": 10,
              "Long": 29.2,
              "Temp": -11
             },
             {
              "Date": "Nov28",
              "Days": 4,
              "Long": 28.5,
              "Temp": -20
             },
             {
              "Date": "Dec01",
              "Days": 3,
              "Long": 27.2,
              "Temp": -24
             },
             {
              "Date": "Dec06",
              "Days": 5,
              "Long": 26.7,
              "Temp": -30
             },
             {
              "Date": "Dec07",
              "Days": 1,
              "Long": 25.3,
              "Temp": -26
             }
            ]
           },
           "encoding": {
            "size": {
             "value": 8
            },
            "text": {
             "field": "Date",
             "type": "nominal"
            },
            "x": {
             "field": "Long",
             "scale": {
              "domain": [
               23,
               39
              ]
             },
             "type": "quantitative"
            },
            "y": {
             "field": "Temp",
             "scale": {
              "domain": [
               -31,
               5
              ]
             },
             "type": "quantitative"
            }
           },
           "mark": {
            "dy": -10,
            "type": "text"
           },
           "transform": [
            {
             "filter": "datum.Date !== null"
            }
           ]
          }
         ],
         "width": 800
        }
       ]
      },
      "image/png": "[encoded data removed]",
      "image/svg+xml": [
       "<?xml version=\"1.0\" encoding=\"utf-8\"?>\n",
       "<!DOCTYPE svg PUBLIC \"-//W3C//DTD SVG 1.1//EN\" \"http://www.w3.org/Graphics/SVG/1.1/DTD/svg11.dtd\">\n",
       "<svg class=\"marks\" width=\"949\" height=\"505\" viewBox=\"0 0 949 505\" version=\"1.1\" xmlns=\"http://www.w3.org/2000/svg\" xmlns:xlink=\"http://www.w3.org/1999/xlink\"><defs><clipPath id=\"clip1\"><rect x=\"0\" y=\"0\" width=\"800\" height=\"300\"></rect></clipPath><clipPath id=\"clip2\"><rect x=\"0\" y=\"0\" width=\"800\" height=\"300\"></rect></clipPath><clipPath id=\"clip3\"><rect x=\"0\" y=\"0\" width=\"800\" height=\"300\"></rect></clipPath><clipPath id=\"clip4\"><rect x=\"0\" y=\"0\" width=\"800\" height=\"300\"></rect></clipPath><clipPath id=\"clip5\"><rect x=\"0\" y=\"0\" width=\"800\" height=\"300\"></rect></clipPath><clipPath id=\"clip6\"><rect x=\"0\" y=\"0\" width=\"800\" height=\"300\"></rect></clipPath><clipPath id=\"clip7\"><rect x=\"0\" y=\"0\" width=\"800\" height=\"300\"></rect></clipPath></defs><rect width=\"949\" height=\"505\" fill=\"white\"></rect><g fill=\"none\" stroke-miterlimit=\"10\" transform=\"translate(49,11)\"><g class=\"mark-group role-frame root\" role=\"graphics-object\" aria-roledescription=\"group mark container\"><g transform=\"translate(0,0)\"><path class=\"background\" aria-hidden=\"true\" d=\"M0,0h800v0h-800Z\"></path><g><g class=\"mark-group role-scope concat_0_group\" role=\"graphics-object\" aria-roledescription=\"group mark container\"><g transform=\"translate(0,0)\"><path class=\"background\" aria-hidden=\"true\" d=\"M0.5,0.5h800v300h-800Z\" stroke=\"#ddd\"></path><g><g class=\"mark-group role-axis\" aria-hidden=\"true\"><g transform=\"translate(0.5,300.5)\"><path class=\"background\" aria-hidden=\"true\" d=\"M0,0h0v0h0Z\" pointer-events=\"none\"></path><g><g class=\"mark-rule role-axis-grid\" pointer-events=\"none\"><line transform=\"translate(0,-300)\" x2=\"0\" y2=\"300\" stroke=\"#ddd\" stroke-width=\"1\" opacity=\"1\"></line><line transform=\"translate(44,-300)\" x2=\"0\" y2=\"300\" stroke=\"#ddd\" stroke-width=\"1\" opacity=\"1\"></line><line transform=\"translate(89,-300)\" x2=\"0\" y2=\"300\" stroke=\"#ddd\" stroke-width=\"1\" opacity=\"1\"></line><line transform=\"translate(133,-300)\" x2=\"0\" y2=\"300\" stroke=\"#ddd\" stroke-width=\"1\" opacity=\"1\"></line><line transform=\"translate(178,-300)\" x2=\"0\" y2=\"300\" stroke=\"#ddd\" stroke-width=\"1\" opacity=\"1\"></line><line transform=\"translate(222,-300)\" x2=\"0\" y2=\"300\" stroke=\"#ddd\" stroke-width=\"1\" opacity=\"1\"></line><line transform=\"translate(267,-300)\" x2=\"0\" y2=\"300\" stroke=\"#ddd\" stroke-width=\"1\" opacity=\"1\"></line><line transform=\"translate(311,-300)\" x2=\"0\" y2=\"300\" stroke=\"#ddd\" stroke-width=\"1\" opacity=\"1\"></line><line transform=\"translate(356,-300)\" x2=\"0\" y2=\"300\" stroke=\"#ddd\" stroke-width=\"1\" opacity=\"1\"></line><line transform=\"translate(400,-300)\" x2=\"0\" y2=\"300\" stroke=\"#ddd\" stroke-width=\"1\" opacity=\"1\"></line><line transform=\"translate(444,-300)\" x2=\"0\" y2=\"300\" stroke=\"#ddd\" stroke-width=\"1\" opacity=\"1\"></line><line transform=\"translate(489,-300)\" x2=\"0\" y2=\"300\" stroke=\"#ddd\" stroke-width=\"1\" opacity=\"1\"></line><line transform=\"translate(533,-300)\" x2=\"0\" y2=\"300\" stroke=\"#ddd\" stroke-width=\"1\" opacity=\"1\"></line><line transform=\"translate(578,-300)\" x2=\"0\" y2=\"300\" stroke=\"#ddd\" stroke-width=\"1\" opacity=\"1\"></line><line transform=\"translate(622,-300)\" x2=\"0\" y2=\"300\" stroke=\"#ddd\" stroke-width=\"1\" opacity=\"1\"></line><line transform=\"translate(667,-300)\" x2=\"0\" y2=\"300\" stroke=\"#ddd\" stroke-width=\"1\" opacity=\"1\"></line><line transform=\"translate(711,-300)\" x2=\"0\" y2=\"300\" stroke=\"#ddd\" stroke-width=\"1\" opacity=\"1\"></line><line transform=\"translate(756,-300)\" x2=\"0\" y2=\"300\" stroke=\"#ddd\" stroke-width=\"1\" opacity=\"1\"></line><line transform=\"translate(800,-300)\" x2=\"0\" y2=\"300\" stroke=\"#ddd\" stroke-width=\"1\" opacity=\"1\"></line></g></g><path class=\"foreground\" aria-hidden=\"true\" d=\"\" pointer-events=\"none\" display=\"none\"></path></g></g><g class=\"mark-group role-axis\" aria-hidden=\"true\"><g transform=\"translate(0.5,0.5)\"><path class=\"background\" aria-hidden=\"true\" d=\"M0,0h0v0h0Z\" pointer-events=\"none\"></path><g><g class=\"mark-rule role-axis-grid\" pointer-events=\"none\"><line transform=\"translate(0,300)\" x2=\"800\" y2=\"0\" stroke=\"#ddd\" stroke-width=\"1\" opacity=\"1\"></line><line transform=\"translate(0,273)\" x2=\"800\" y2=\"0\" stroke=\"#ddd\" stroke-width=\"1\" opacity=\"1\"></line><line transform=\"translate(0,245)\" x2=\"800\" y2=\"0\" stroke=\"#ddd\" stroke-width=\"1\" opacity=\"1\"></line><line transform=\"translate(0,218)\" x2=\"800\" y2=\"0\" stroke=\"#ddd\" stroke-width=\"1\" opacity=\"1\"></line><line transform=\"translate(0,191)\" x2=\"800\" y2=\"0\" stroke=\"#ddd\" stroke-width=\"1\" opacity=\"1\"></line><line transform=\"translate(0,164)\" x2=\"800\" y2=\"0\" stroke=\"#ddd\" stroke-width=\"1\" opacity=\"1\"></line><line transform=\"translate(0,136)\" x2=\"800\" y2=\"0\" stroke=\"#ddd\" stroke-width=\"1\" opacity=\"1\"></line><line transform=\"translate(0,109)\" x2=\"800\" y2=\"0\" stroke=\"#ddd\" stroke-width=\"1\" opacity=\"1\"></line><line transform=\"translate(0,82)\" x2=\"800\" y2=\"0\" stroke=\"#ddd\" stroke-width=\"1\" opacity=\"1\"></line><line transform=\"translate(0,55)\" x2=\"800\" y2=\"0\" stroke=\"#ddd\" stroke-width=\"1\" opacity=\"1\"></line><line transform=\"translate(0,27)\" x2=\"800\" y2=\"0\" stroke=\"#ddd\" stroke-width=\"1\" opacity=\"1\"></line><line transform=\"translate(0,0)\" x2=\"800\" y2=\"0\" stroke=\"#ddd\" stroke-width=\"1\" opacity=\"1\"></line></g></g><path class=\"foreground\" aria-hidden=\"true\" d=\"\" pointer-events=\"none\" display=\"none\"></path></g></g><g class=\"mark-group role-axis\" role=\"graphics-symbol\" aria-roledescription=\"axis\" aria-label=\"X-axis titled 'Long' for a linear scale with values from 22 to 40\"><g transform=\"translate(0.5,300.5)\"><path class=\"background\" aria-hidden=\"true\" d=\"M0,0h0v0h0Z\" pointer-events=\"none\"></path><g><g class=\"mark-rule role-axis-tick\" pointer-events=\"none\"><line transform=\"translate(0,0)\" x2=\"0\" y2=\"5\" stroke=\"#888\" stroke-width=\"1\" opacity=\"1\"></line><line transform=\"translate(44,0)\" x2=\"0\" y2=\"5\" stroke=\"#888\" stroke-width=\"1\" opacity=\"1\"></line><line transform=\"translate(89,0)\" x2=\"0\" y2=\"5\" stroke=\"#888\" stroke-width=\"1\" opacity=\"1\"></line><line transform=\"translate(133,0)\" x2=\"0\" y2=\"5\" stroke=\"#888\" stroke-width=\"1\" opacity=\"1\"></line><line transform=\"translate(178,0)\" x2=\"0\" y2=\"5\" stroke=\"#888\" stroke-width=\"1\" opacity=\"1\"></line><line transform=\"translate(222,0)\" x2=\"0\" y2=\"5\" stroke=\"#888\" stroke-width=\"1\" opacity=\"1\"></line><line transform=\"translate(267,0)\" x2=\"0\" y2=\"5\" stroke=\"#888\" stroke-width=\"1\" opacity=\"1\"></line><line transform=\"translate(311,0)\" x2=\"0\" y2=\"5\" stroke=\"#888\" stroke-width=\"1\" opacity=\"1\"></line><line transform=\"translate(356,0)\" x2=\"0\" y2=\"5\" stroke=\"#888\" stroke-width=\"1\" opacity=\"1\"></line><line transform=\"translate(400,0)\" x2=\"0\" y2=\"5\" stroke=\"#888\" stroke-width=\"1\" opacity=\"1\"></line><line transform=\"translate(444,0)\" x2=\"0\" y2=\"5\" stroke=\"#888\" stroke-width=\"1\" opacity=\"1\"></line><line transform=\"translate(489,0)\" x2=\"0\" y2=\"5\" stroke=\"#888\" stroke-width=\"1\" opacity=\"1\"></line><line transform=\"translate(533,0)\" x2=\"0\" y2=\"5\" stroke=\"#888\" stroke-width=\"1\" opacity=\"1\"></line><line transform=\"translate(578,0)\" x2=\"0\" y2=\"5\" stroke=\"#888\" stroke-width=\"1\" opacity=\"1\"></line><line transform=\"translate(622,0)\" x2=\"0\" y2=\"5\" stroke=\"#888\" stroke-width=\"1\" opacity=\"1\"></line><line transform=\"translate(667,0)\" x2=\"0\" y2=\"5\" stroke=\"#888\" stroke-width=\"1\" opacity=\"1\"></line><line transform=\"translate(711,0)\" x2=\"0\" y2=\"5\" stroke=\"#888\" stroke-width=\"1\" opacity=\"1\"></line><line transform=\"translate(756,0)\" x2=\"0\" y2=\"5\" stroke=\"#888\" stroke-width=\"1\" opacity=\"1\"></line><line transform=\"translate(800,0)\" x2=\"0\" y2=\"5\" stroke=\"#888\" stroke-width=\"1\" opacity=\"1\"></line></g><g class=\"mark-text role-axis-label\" pointer-events=\"none\"><text text-anchor=\"start\" transform=\"translate(0,15)\" font-family=\"sans-serif\" font-size=\"10px\" fill=\"#000\" opacity=\"1\">22</text><text text-anchor=\"middle\" transform=\"translate(44.44444444444444,15)\" font-family=\"sans-serif\" font-size=\"10px\" fill=\"#000\" opacity=\"1\">23</text><text text-anchor=\"middle\" transform=\"translate(88.88888888888889,15)\" font-family=\"sans-serif\" font-size=\"10px\" fill=\"#000\" opacity=\"1\">24</text><text text-anchor=\"middle\" transform=\"translate(133.33333333333331,15)\" font-family=\"sans-serif\" font-size=\"10px\" fill=\"#000\" opacity=\"1\">25</text><text text-anchor=\"middle\" transform=\"translate(177.77777777777777,15)\" font-family=\"sans-serif\" font-size=\"10px\" fill=\"#000\" opacity=\"1\">26</text><text text-anchor=\"middle\" transform=\"translate(222.22222222222223,15)\" font-family=\"sans-serif\" font-size=\"10px\" fill=\"#000\" opacity=\"1\">27</text><text text-anchor=\"middle\" transform=\"translate(266.66666666666663,15)\" font-family=\"sans-serif\" font-size=\"10px\" fill=\"#000\" opacity=\"1\">28</text><text text-anchor=\"middle\" transform=\"translate(311.11111111111114,15)\" font-family=\"sans-serif\" font-size=\"10px\" fill=\"#000\" opacity=\"1\">29</text><text text-anchor=\"middle\" transform=\"translate(355.55555555555554,15)\" font-family=\"sans-serif\" font-size=\"10px\" fill=\"#000\" opacity=\"1\">30</text><text text-anchor=\"middle\" transform=\"translate(400,15)\" font-family=\"sans-serif\" font-size=\"10px\" fill=\"#000\" opacity=\"1\">31</text><text text-anchor=\"middle\" transform=\"translate(444.44444444444446,15)\" font-family=\"sans-serif\" font-size=\"10px\" fill=\"#000\" opacity=\"1\">32</text><text text-anchor=\"middle\" transform=\"translate(488.8888888888889,15)\" font-family=\"sans-serif\" font-size=\"10px\" fill=\"#000\" opacity=\"1\">33</text><text text-anchor=\"middle\" transform=\"translate(533.3333333333333,15)\" font-family=\"sans-serif\" font-size=\"10px\" fill=\"#000\" opacity=\"1\">34</text><text text-anchor=\"middle\" transform=\"translate(577.7777777777777,15)\" font-family=\"sans-serif\" font-size=\"10px\" fill=\"#000\" opacity=\"1\">35</text><text text-anchor=\"middle\" transform=\"translate(622.2222222222223,15)\" font-family=\"sans-serif\" font-size=\"10px\" fill=\"#000\" opacity=\"1\">36</text><text text-anchor=\"middle\" transform=\"translate(666.6666666666667,15)\" font-family=\"sans-serif\" font-size=\"10px\" fill=\"#000\" opacity=\"1\">37</text><text text-anchor=\"middle\" transform=\"translate(711.1111111111111,15)\" font-family=\"sans-serif\" font-size=\"10px\" fill=\"#000\" opacity=\"1\">38</text><text text-anchor=\"middle\" transform=\"translate(755.5555555555555,15)\" font-family=\"sans-serif\" font-size=\"10px\" fill=\"#000\" opacity=\"1\">39</text><text text-anchor=\"end\" transform=\"translate(800,15)\" font-family=\"sans-serif\" font-size=\"10px\" fill=\"#000\" opacity=\"1\">40</text></g><g class=\"mark-rule role-axis-domain\" pointer-events=\"none\"><line transform=\"translate(0,0)\" x2=\"800\" y2=\"0\" stroke=\"#888\" stroke-width=\"1\" opacity=\"1\"></line></g><g class=\"mark-text role-axis-title\" pointer-events=\"none\"><text text-anchor=\"middle\" transform=\"translate(400,30)\" font-family=\"sans-serif\" font-size=\"11px\" font-weight=\"bold\" fill=\"#000\" opacity=\"1\">Long</text></g></g><path class=\"foreground\" aria-hidden=\"true\" d=\"\" pointer-events=\"none\" display=\"none\"></path></g></g><g class=\"mark-group role-axis\" role=\"graphics-symbol\" aria-roledescription=\"axis\" aria-label=\"Y-axis titled 'Lat' for a linear scale with values from 53.8 to 56.0\"><g transform=\"translate(0.5,0.5)\"><path class=\"background\" aria-hidden=\"true\" d=\"M0,0h0v0h0Z\" pointer-events=\"none\"></path><g><g class=\"mark-rule role-axis-tick\" pointer-events=\"none\"><line transform=\"translate(0,300)\" x2=\"-5\" y2=\"0\" stroke=\"#888\" stroke-width=\"1\" opacity=\"1\"></line><line transform=\"translate(0,273)\" x2=\"-5\" y2=\"0\" stroke=\"#888\" stroke-width=\"1\" opacity=\"1\"></line><line transform=\"translate(0,245)\" x2=\"-5\" y2=\"0\" stroke=\"#888\" stroke-width=\"1\" opacity=\"1\"></line><line transform=\"translate(0,218)\" x2=\"-5\" y2=\"0\" stroke=\"#888\" stroke-width=\"1\" opacity=\"1\"></line><line transform=\"translate(0,191)\" x2=\"-5\" y2=\"0\" stroke=\"#888\" stroke-width=\"1\" opacity=\"1\"></line><line transform=\"translate(0,164)\" x2=\"-5\" y2=\"0\" stroke=\"#888\" stroke-width=\"1\" opacity=\"1\"></line><line transform=\"translate(0,136)\" x2=\"-5\" y2=\"0\" stroke=\"#888\" stroke-width=\"1\" opacity=\"1\"></line><line transform=\"translate(0,109)\" x2=\"-5\" y2=\"0\" stroke=\"#888\" stroke-width=\"1\" opacity=\"1\"></line><line transform=\"translate(0,82)\" x2=\"-5\" y2=\"0\" stroke=\"#888\" stroke-width=\"1\" opacity=\"1\"></line><line transform=\"translate(0,55)\" x2=\"-5\" y2=\"0\" stroke=\"#888\" stroke-width=\"1\" opacity=\"1\"></line><line transform=\"translate(0,27)\" x2=\"-5\" y2=\"0\" stroke=\"#888\" stroke-width=\"1\" opacity=\"1\"></line><line transform=\"translate(0,0)\" x2=\"-5\" y2=\"0\" stroke=\"#888\" stroke-width=\"1\" opacity=\"1\"></line></g><g class=\"mark-text role-axis-label\" pointer-events=\"none\"><text text-anchor=\"end\" transform=\"translate(-7,303)\" font-family=\"sans-serif\" font-size=\"10px\" fill=\"#000\" opacity=\"1\">53.8</text><text text-anchor=\"end\" transform=\"translate(-7,275.7272727272724)\" font-family=\"sans-serif\" font-size=\"10px\" fill=\"#000\" opacity=\"1\">54.0</text><text text-anchor=\"end\" transform=\"translate(-7,248.45454545454476)\" font-family=\"sans-serif\" font-size=\"10px\" fill=\"#000\" opacity=\"1\">54.2</text><text text-anchor=\"end\" transform=\"translate(-7,221.1818181818181)\" font-family=\"sans-serif\" font-size=\"10px\" fill=\"#000\" opacity=\"1\">54.4</text><text text-anchor=\"end\" transform=\"translate(-7,193.90909090909048)\" font-family=\"sans-serif\" font-size=\"10px\" fill=\"#000\" opacity=\"1\">54.6</text><text text-anchor=\"end\" transform=\"translate(-7,166.63636363636382)\" font-family=\"sans-serif\" font-size=\"10px\" fill=\"#000\" opacity=\"1\">54.8</text><text text-anchor=\"end\" transform=\"translate(-7,139.36363636363618)\" font-family=\"sans-serif\" font-size=\"10px\" fill=\"#000\" opacity=\"1\">55.0</text><text text-anchor=\"end\" transform=\"translate(-7,112.09090909090857)\" font-family=\"sans-serif\" font-size=\"10px\" fill=\"#000\" opacity=\"1\">55.2</text><text text-anchor=\"end\" transform=\"translate(-7,84.81818181818191)\" font-family=\"sans-serif\" font-size=\"10px\" fill=\"#000\" opacity=\"1\">55.4</text><text text-anchor=\"end\" transform=\"translate(-7,57.5454545454543)\" font-family=\"sans-serif\" font-size=\"10px\" fill=\"#000\" opacity=\"1\">55.6</text><text text-anchor=\"end\" transform=\"translate(-7,30.272727272727614)\" font-family=\"sans-serif\" font-size=\"10px\" fill=\"#000\" opacity=\"1\">55.8</text><text text-anchor=\"end\" transform=\"translate(-7,3)\" font-family=\"sans-serif\" font-size=\"10px\" fill=\"#000\" opacity=\"1\">56.0</text></g><g class=\"mark-rule role-axis-domain\" pointer-events=\"none\"><line transform=\"translate(0,300)\" x2=\"0\" y2=\"-300\" stroke=\"#888\" stroke-width=\"1\" opacity=\"1\"></line></g><g class=\"mark-text role-axis-title\" pointer-events=\"none\"><text text-anchor=\"middle\" transform=\"translate(-32,150) rotate(-90) translate(0,-2)\" font-family=\"sans-serif\" font-size=\"11px\" font-weight=\"bold\" fill=\"#000\" opacity=\"1\">Lat</text></g></g><path class=\"foreground\" aria-hidden=\"true\" d=\"\" pointer-events=\"none\" display=\"none\"></path></g></g><g class=\"mark-group role-scope concat_0_layer_0_layer_0_pathgroup\" role=\"graphics-object\" aria-roledescription=\"group mark container\"><g transform=\"translate(0,0)\"><path class=\"background\" aria-hidden=\"true\" d=\"M0,0h800v300h-800Z\"></path><g><g class=\"mark-trail role-mark concat_0_layer_0_layer_0_marks\" clip-path=\"url(#clip1)\" role=\"graphics-object\" aria-roledescription=\"trail mark container\"><path aria-label=\"Group: 1; row: NaN; Long: 24; Direction: A; Survivors: 340000; Lat: 54.9\" role=\"graphics-symbol\" aria-roledescription=\"trail mark\" d=\"M81.04364559109996,137.21515907027006L103.26586781332219,123.57879543390624A15,15,0,1,1,118.95635440890004,149.1484772933661L96.73413218667781,162.78484092972994A15,15,0,1,1,81.04364559109996,137.21515907027006ZM123.67712149799993,128.17245922255307L168.1215659424444,196.3542774043712A15,15,0,1,1,142.98954516866675,212.7366316865374L98.5451007242223,144.55481350471928A15,15,0,1,1,123.67712149799993,128.17245922255307ZM143.92703077279617,195.07036027802084L166.81048283560665,168.33641287540217A14.147058823529411,14.147058823529411,0,1,1,188.7450727199489,186.20904167005114L167.18408033831497,214.02054881288777A15,15,0,1,1,143.92703077279617,195.07036027802084ZM173.62812918841774,163.74794668518203L218.32276034615,150.92700641064621A13.294117647058822,13.294117647058822,0,1,1,226.12168409829445,176.34572086208144L181.9274263671378,190.79750786027128A14.147058823529411,14.147058823529411,0,1,1,173.62812918841774,163.74794668518203ZM218.32276034614975,150.9270064106463L263.017391503882,138.1060661361095A12.441176470588234,12.441176470588234,0,1,1,270.3159418294513,161.8939338638905L226.1216840982947,176.34572086208135A13.294117647058822,13.294117647058822,0,1,1,218.32276034614975,150.9270064106463ZM260.1597295785005,139.3961025229887L283.2741559404713,127.2137011884373A10.73529411764706,10.73529411764706,0,1,1,294.5036218373064,145.51357153883507L273.17360375483275,160.6038974770113A12.441176470588234,12.441176470588234,0,1,1,260.1597295785005,139.3961025229887ZM283.2741559404713,127.21370118843728L306.165531267505,114.66780927843281A9.455882352941178,9.455882352941178,0,1,1,316.0566909547173,130.78673617611196L294.5036218373064,145.51357153883507A10.73529411764706,10.73529411764706,0,1,1,283.2741559404713,127.21370118843728ZM308.3374894448339,113.6873206297764L353.1572139592101,101.2740920361531A8.176470588235293,8.176470588235293,0,1,1,357.953897151901,116.90772614566403L313.88473277738836,131.76722482476836A9.455882352941178,9.455882352941178,0,0,1,308.3374894448339,113.6873206297764ZM349.70932455597836,103.37459433576609L363.1951225466748,89.88730725326936A7.963235294117647,7.963235294117647,0,1,1,374.58265523110305,101.02178365582206L361.40178655513273,114.80722384605104A8.176470588235293,8.176470588235293,0,1,1,349.70932455597836,103.37459433576609ZM374.22386775910076,89.54259849911097L448.92227989506546,158.674258574046A6.6838235294117645,6.6838235294117645,0,1,1,439.96660899382346,168.59846869868164L363.5539100186771,101.36649240998045A7.963235294117647,7.963235294117647,0,0,1,374.22386775910076,89.54259849911095ZM442.7887738385369,157.16085193325867L496.17492834631616,143.73107777917213A6.470588235294117,6.470588235294117,0,1,1,499.3806272092396,156.26892222082787L446.10011505035203,170.11187533946898A6.6838235294117645,6.6838235294117645,0,1,1,442.7887738385369,157.16085193325867ZM492.35714584617875,146.46655103717987L546.151356089878,64.9487926864959A5.920441176470589,5.920441176470589,0,1,1,556.0708661323439,71.41484367714027L503.198409709377,153.53344896282013A6.470588235294117,6.470588235294117,0,1,1,492.35714584617875,146.46655103717987ZM552.7017569296377,62.479058358359616L601.2801342437781,77.22866349234037A4.764705882352941,4.764705882352941,0,1,1,598.7198657562219,86.40770014402345L549.5204652925843,73.88457800527657A5.920441176470589,5.920441176470589,0,1,1,552.7017569296377,62.479058358359616ZM597.5079815407023,77.75711469932652L619.7302037629246,64.1207510629627A4.764705882352941,4.764705882352941,0,1,1,624.71424068152,72.24288530067348L602.4920184592977,85.8792489370373A4.764705882352941,4.764705882352941,0,1,1,597.5079815407023,77.75711469932652ZM619.8462722058167,64.05177173354765L690.9573833169278,23.142680824457187A4.764705882352941,4.764705882352941,0,1,1,695.7092833497389,31.40277372099804L624.5981722386279,72.31186463008852A4.764705882352941,4.764705882352941,0,1,1,619.8462722058167,64.05177173354765Z\" fill=\"#bd9e39\"></path></g></g><path class=\"foreground\" aria-hidden=\"true\" d=\"\" display=\"none\"></path></g><g transform=\"translate(0,0)\"><path class=\"background\" aria-hidden=\"true\" d=\"M0,0h800v300h-800Z\"></path><g><g class=\"mark-trail role-mark concat_0_layer_0_layer_0_marks\" clip-path=\"url(#clip2)\" role=\"graphics-object\" aria-roledescription=\"trail mark container\"><path aria-label=\"Group: 1; row: NaN; Long: 37.7; Direction: R; Survivors: 100000; Lat: 55.7\" role=\"graphics-symbol\" aria-roledescription=\"trail mark\" d=\"M697.7777777777778,45.673796791443415L688.8888888888889,45.588502673796356A4.679411764705882,4.679411764705882,0,1,1,688.8888888888889,36.22967914438459L697.7777777777778,36.14438502673753A4.764705882352941,4.764705882352941,0,1,1,697.7777777777778,45.673796791443415ZM693.4464259358446,41.97010482478384L671.1826673923271,137.41498044791686A4.636764705882353,4.636764705882353,0,0,1,662.1506659410064,135.3122922793555L684.3313518419333,39.84807699339711A4.679411764705882,4.679411764705882,0,1,1,693.4464259358446,41.97010482478384ZM666.6666666666667,141.00040106951852L657.7777777777777,140.957754010695A4.594117647058823,4.594117647058823,0,1,1,657.7777777777777,131.76951871657735L666.6666666666667,131.72687165775383A4.636764705882353,4.636764705882353,0,1,1,666.6666666666667,141.00040106951852ZM655.2539195669366,140.20239354358222L593.24255745772,98.97258700582147A4.2102941176470585,4.2102941176470585,0,0,1,597.8685536533909,91.93650390326995L660.3016359886188,132.52487918369013A4.594117647058823,4.594117647058823,0,1,1,655.2539195669366,140.20239354358222ZM596.6867359073877,99.51003649370756L547.4311912844784,111.83187142439728A2.8455882352941178,2.8455882352941178,0,1,1,545.9021420488547,106.34994675741986L594.4243752037231,91.39905441538386A4.2102941176470585,4.2102941176470585,0,1,1,596.6867359073877,99.51003649370756ZM548.8726662210429,110.88839020928933L503.8331149200691,164.94894287164652A2.0779411764705884,2.0779411764705884,0,0,1,500.61132952437515,162.32378440108113L544.4606671122901,107.29342797252781A2.8455882352941178,2.8455882352941178,0,1,1,548.8726662210429,110.88839020928933ZM503.10921773238465,165.51548005048602L445.09478227072077,192.28684363734993A1.5235294117647058,1.5235294117647058,0,1,1,443.79410661816814,189.53133818083103L501.3352267120596,161.75724722224163A2.0779411764705884,2.0779411764705884,0,1,1,503.10921773238465,165.51548005048602ZM444.9900053743867,192.33159051901401L373.81780829042486,219.4450417736421A1.3529411764705883,1.3529411764705883,0,1,1,372.84885837624165,216.91859458999411L443.8988835145022,189.48659129916695A1.5235294117647058,1.5235294117647058,0,1,1,444.9900053743867,192.33159051901401ZM373.6684745780934,219.49259282799122L320.33514124476017,233.128956464355A1.3529411764705883,1.3529411764705883,0,1,1,319.66485875523983,230.50740717200878L372.9981920885731,216.871043535645A1.3529411764705883,1.3529411764705883,0,1,1,373.6684745780934,219.49259282799122ZM320.5431283859159,233.0573191727161L289.43201727480476,246.69368280907895A1.3529411764705883,1.3529411764705883,0,1,1,288.34576050297295,244.21540810001056L319.4568716140841,230.5790444636477A1.3529411764705883,1.3529411764705883,0,1,1,320.5431283859159,233.0573191727161ZM287.7554840304636,246.19335751040717L278.86659514157475,232.5569938740443A1.3529411764705883,1.3529411764705883,0,1,1,281.13340485842525,231.0793697623195L290.0222937473141,244.71573339868235A1.3529411764705883,1.3529411764705883,0,1,1,287.7554840304636,246.19335751040717ZM279.17657183411745,232.89168816777695L243.62101627856188,205.61896089504936A1.3529411764705883,1.3529411764705883,0,1,1,245.26787261032703,203.47194819585926L280.82342816588255,230.74467546858685A1.3529411764705883,1.3529411764705883,0,1,1,279.17657183411745,232.89168816777695ZM245.33629747532186,205.56282763252926L214.00028429555474,232.57899995286402A1.011764705882353,1.011764705882353,0,1,1,212.666382371112,231.05736368349977L243.55259141356706,203.52808145837935A1.3529411764705883,1.3529411764705883,0,1,1,245.33629747532186,205.56282763252926ZM212.71755227015163,232.62097787092253L194.88786271669852,219.05229180877234A1.0970588235294119,1.0970588235294119,0,1,1,196.22324839441245,217.31134455486387L213.9491143965151,231.01538576544127A1.011764705882353,1.011764705882353,0,1,1,212.71755227015163,232.62097787092253ZM195.5555555555555,219.2788770053475L133.33333333333331,219.02299465240634A0.8411764705882352,0.8411764705882352,0,1,1,133.33333333333331,217.34064171122986L195.5555555555555,217.0847593582887A1.0970588235294119,1.0970588235294119,0,1,1,195.5555555555555,219.2788770053475ZM133.33333333333331,219.02299465240634L106.6666666666666,218.8524064171122A0.6705882352941177,0.6705882352941177,0,1,1,106.6666666666666,217.511229946524L133.33333333333331,217.34064171122986A0.8411764705882352,0.8411764705882352,0,1,1,133.33333333333331,219.02299465240634ZM106.6666666666666,218.8524064171122L97.77777777777774,218.8524064171122A0.6705882352941177,0.6705882352941177,0,1,1,97.77777777777774,217.511229946524L106.6666666666666,217.511229946524A0.6705882352941177,0.6705882352941177,0,1,1,106.6666666666666,218.8524064171122ZM97.77777777777774,218.8524064171122L93.3333333333334,218.8524064171122A0.6705882352941177,0.6705882352941177,0,1,1,93.3333333333334,217.511229946524L97.77777777777774,217.511229946524A0.6705882352941177,0.6705882352941177,0,1,1,97.77777777777774,218.8524064171122Z\" fill=\"gray\"></path></g></g><path class=\"foreground\" aria-hidden=\"true\" d=\"\" display=\"none\"></path></g><g transform=\"translate(0,0)\"><path class=\"background\" aria-hidden=\"true\" d=\"M0,0h800v300h-800Z\"></path><g><g class=\"mark-trail role-mark concat_0_layer_0_layer_0_marks\" clip-path=\"url(#clip3)\" role=\"graphics-object\" aria-roledescription=\"trail mark container\"><path aria-label=\"Group: 2; row: NaN; Long: 24; Direction: A; Survivors: 60000; Lat: 55.1\" role=\"graphics-symbol\" aria-roledescription=\"trail mark\" d=\"M87.28907456933977,120.12016791022941L109.511296791562,106.4838042738656A3.058823529411765,3.058823529411765,0,1,1,112.71092543066023,111.69801390795153L90.488703208438,125.33437754431534A3.058823529411765,3.058823529411765,0,1,1,87.28907456933977,120.12016791022941ZM113.67359166059433,107.42055139939359L158.11803610503878,175.60236958121166A3.058823529411765,3.058823529411765,0,1,1,152.99307500607236,178.94308496424165L108.5486305616279,110.76126678242355A3.058823529411765,3.058823529411765,0,1,1,113.67359166059433,107.42055139939359ZM152.67619000529092,176.24042140137252L202.3679789033883,40.164639559556235A2.2058823529411766,2.2058823529411766,0,1,1,206.52090998550074,41.65354225862471L158.43492110582022,178.3050331440808A3.058823529411765,3.058823529411765,0,1,1,152.67619000529092,176.24042140137252ZM205.23434926578952,38.849487226768744L240.68300436885625,52.764583894806776A1.9073529411764705,1.9073529411764705,0,1,1,239.31699563114364,56.32632519610182L203.6545396230995,42.9686945914122A2.2058823529411766,2.2058823529411766,0,1,1,205.23434926578952,38.849487226768744ZM240.43812497162148,52.68910281384303L298.2159027493993,66.32546645020682A1.9073529411764705,1.9073529411764705,0,1,1,297.33965280615615,70.03816991342936L239.5618750283784,56.40180627706557A1.9073529411764705,1.9073529411764705,0,1,1,240.43812497162148,52.68910281384303Z\" fill=\"#bd9e39\"></path></g></g><path class=\"foreground\" aria-hidden=\"true\" d=\"\" display=\"none\"></path></g><g transform=\"translate(0,0)\"><path class=\"background\" aria-hidden=\"true\" d=\"M0,0h800v300h-800Z\"></path><g><g class=\"mark-trail role-mark concat_0_layer_0_layer_0_marks\" clip-path=\"url(#clip4)\" role=\"graphics-object\" aria-roledescription=\"trail mark container\"><path aria-label=\"Group: 2; row: NaN; Long: 28.7; Direction: R; Survivors: 33000; Lat: 55.5\" role=\"graphics-symbol\" aria-roledescription=\"trail mark\" d=\"M299.6703188364368,67.9445765676272L321.7655934317483,245.23321750298658A1.7794117647058825,1.7794117647058825,0,1,1,318.2344065682517,245.67587340610294L295.8852367191186,68.41905979600898A1.9073529411764705,1.9073529411764705,0,0,1,299.6703188364368,67.9445765676272ZM320.7143318988677,247.08428045344297L289.6032207877566,260.72064408980674A1.7794117647058825,1.7794117647058825,0,1,1,288.17455699002113,257.46117409201037L319.2856681011323,243.82481045564654A1.7794117647058825,1.7794117647058825,0,1,1,320.7143318988677,247.08428045344297ZM287.3982151076991,260.0626075556841L278.58078000336315,246.37966663753767A1.6941176470588235,1.6941176470588235,0,1,1,281.41921999663685,244.52942427155185L290.3795626700786,258.119210626133A1.7794117647058825,1.7794117647058825,0,1,1,287.3982151076991,260.0626075556841Z\" fill=\"gray\"></path></g></g><path class=\"foreground\" aria-hidden=\"true\" d=\"\" display=\"none\"></path></g><g transform=\"translate(0,0)\"><path class=\"background\" aria-hidden=\"true\" d=\"M0,0h800v300h-800Z\"></path><g><g class=\"mark-trail role-mark concat_0_layer_0_layer_0_marks\" clip-path=\"url(#clip5)\" role=\"graphics-object\" aria-roledescription=\"trail mark container\"><path aria-label=\"Group: 3; row: NaN; Long: 24; Direction: A; Survivors: 22000; Lat: 55.2\" role=\"graphics-symbol\" aria-roledescription=\"trail mark\" d=\"M88.13666850210093,107.86506846058738L110.35889072432316,94.22870482422452A1.4382352941176473,1.4382352941176473,0,1,1,111.86333149789907,96.6803860848669L89.64110927567684,110.31674972122975A1.4382352941176473,1.4382352941176473,0,1,1,88.13666850210093,107.86506846058738ZM109.67592172244794,95.36099236846988L114.80127401591055,27.223559290884083A0.7558823529411764,0.7558823529411764,0,1,1,116.30983709520068,27.321895254571146L112.54630049977429,95.54809854062154A1.4382352941176473,1.4382352941176473,0,1,1,109.67592172244794,95.36099236846988Z\" fill=\"#bd9e39\"></path></g></g><path class=\"foreground\" aria-hidden=\"true\" d=\"\" display=\"none\"></path></g><g transform=\"translate(0,0)\"><path class=\"background\" aria-hidden=\"true\" d=\"M0,0h800v300h-800Z\"></path><g><g class=\"mark-trail role-mark concat_0_layer_0_layer_0_marks\" clip-path=\"url(#clip6)\" role=\"graphics-object\" aria-roledescription=\"trail mark container\"><path aria-label=\"Group: 3; row: NaN; Long: 24.6; Direction: R; Survivors: 6000; Lat: 55.8\" role=\"graphics-symbol\" aria-roledescription=\"trail mark\" d=\"M116.30818169730047,27.34281309333454L98.5304039195226,218.25190400242502A0.7558823529411764,0.7558823529411764,0,1,1,97.02515163603289,218.11173236121118L114.80292941381076,27.202641452120687A0.7558823529411764,0.7558823529411764,0,1,1,116.30818169730047,27.34281309333454ZM97.77777777777774,218.93770053475927L93.3333333333334,218.93770053475927A0.7558823529411764,0.7558823529411764,0,1,1,93.3333333333334,217.42593582887693L97.77777777777774,217.42593582887693A0.7558823529411764,0.7558823529411764,0,1,1,97.77777777777774,218.93770053475927Z\" fill=\"gray\"></path></g></g><path class=\"foreground\" aria-hidden=\"true\" d=\"\" display=\"none\"></path></g></g><g class=\"mark-symbol role-mark concat_0_layer_0_layer_1_marks\" clip-path=\"url(#clip7)\" role=\"graphics-object\" aria-roledescription=\"symbol mark container\"><path aria-label=\"Group: 1; row: NaN; Long: 24; Direction: A; Survivors: 340000; Lat: 54.9\" role=\"graphics-symbol\" aria-roledescription=\"point\" transform=\"translate(88.88888888888889,150)\" d=\"M2.7386127875258306,0A2.7386127875258306,2.7386127875258306,0,1,1,-2.7386127875258306,0A2.7386127875258306,2.7386127875258306,0,1,1,2.7386127875258306,0\" fill=\"#bd9e39\" stroke-width=\"2\" opacity=\"1\"></path><path aria-label=\"Group: 1; row: NaN; Long: 24.5; Direction: A; Survivors: 340000; Lat: 55\" role=\"graphics-symbol\" aria-roledescription=\"point\" transform=\"translate(111.11111111111111,136.36363636363618)\" d=\"M2.7386127875258306,0A2.7386127875258306,2.7386127875258306,0,1,1,-2.7386127875258306,0A2.7386127875258306,2.7386127875258306,0,1,1,2.7386127875258306,0\" fill=\"#bd9e39\" stroke-width=\"2\" opacity=\"1\"></path><path aria-label=\"Group: 1; row: NaN; Long: 25.5; Direction: A; Survivors: 340000; Lat: 54.5\" role=\"graphics-symbol\" aria-roledescription=\"point\" transform=\"translate(155.55555555555557,204.5454545454543)\" d=\"M2.7386127875258306,0A2.7386127875258306,2.7386127875258306,0,1,1,-2.7386127875258306,0A2.7386127875258306,2.7386127875258306,0,1,1,2.7386127875258306,0\" fill=\"#bd9e39\" stroke-width=\"2\" opacity=\"1\"></path><path aria-label=\"Group: 1; row: NaN; Long: 26; Direction: A; Survivors: 320000; Lat: 54.7\" role=\"graphics-symbol\" aria-roledescription=\"point\" transform=\"translate(177.77777777777777,177.27272727272666)\" d=\"M2.6596107632066586,0A2.6596107632066586,2.6596107632066586,0,1,1,-2.6596107632066586,0A2.6596107632066586,2.6596107632066586,0,1,1,2.6596107632066586,0\" fill=\"#bd9e39\" stroke-width=\"2\" opacity=\"1\"></path><path aria-label=\"Group: 1; row: NaN; Long: 27; Direction: A; Survivors: 300000; Lat: 54.8\" role=\"graphics-symbol\" aria-roledescription=\"point\" transform=\"translate(222.22222222222223,163.63636363636382)\" d=\"M2.578189058918956,0A2.578189058918956,2.578189058918956,0,1,1,-2.578189058918956,0A2.578189058918956,2.578189058918956,0,1,1,2.578189058918956,0\" fill=\"#bd9e39\" stroke-width=\"2\" opacity=\"1\"></path><path aria-label=\"Group: 1; row: NaN; Long: 28; Direction: A; Survivors: 280000; Lat: 54.9\" role=\"graphics-symbol\" aria-roledescription=\"point\" transform=\"translate(266.66666666666663,150)\" d=\"M2.494110710312218,0A2.494110710312218,2.494110710312218,0,1,1,-2.494110710312218,0A2.494110710312218,2.494110710312218,0,1,1,2.494110710312218,0\" fill=\"#bd9e39\" stroke-width=\"2\" opacity=\"1\"></path><path aria-label=\"Group: 1; row: NaN; Long: 28.5; Direction: A; Survivors: 240000; Lat: 55\" role=\"graphics-symbol\" aria-roledescription=\"point\" transform=\"translate(288.88888888888886,136.36363636363618)\" d=\"M2.3168183050950564,0A2.3168183050950564,2.3168183050950564,0,1,1,-2.3168183050950564,0A2.3168183050950564,2.3168183050950564,0,1,1,2.3168183050950564,0\" fill=\"#bd9e39\" stroke-width=\"2\" opacity=\"1\"></path><path aria-label=\"Group: 1; row: NaN; Long: 29; Direction: A; Survivors: 210000; Lat: 55.1\" role=\"graphics-symbol\" aria-roledescription=\"point\" transform=\"translate(311.11111111111114,122.72727272727238)\" d=\"M2.174382941542402,0A2.174382941542402,2.174382941542402,0,1,1,-2.174382941542402,0A2.174382941542402,2.174382941542402,0,1,1,2.174382941542402,0\" fill=\"#bd9e39\" stroke-width=\"2\" opacity=\"1\"></path><path aria-label=\"Group: 1; row: NaN; Long: 30; Direction: A; Survivors: 180000; Lat: 55.2\" role=\"graphics-symbol\" aria-roledescription=\"point\" transform=\"translate(355.55555555555554,109.09090909090857)\" d=\"M2.0219384990937894,0A2.0219384990937894,2.0219384990937894,0,1,1,-2.0219384990937894,0A2.0219384990937894,2.0219384990937894,0,1,1,2.0219384990937894,0\" fill=\"#bd9e39\" stroke-width=\"2\" opacity=\"1\"></path><path aria-label=\"Group: 1; row: NaN; Long: 30.3; Direction: A; Survivors: 175000; Lat: 55.3\" role=\"graphics-symbol\" aria-roledescription=\"point\" transform=\"translate(368.8888888888889,95.45454545454571)\" d=\"M1.995399119739914,0A1.995399119739914,1.995399119739914,0,1,1,-1.995399119739914,0A1.995399119739914,1.995399119739914,0,1,1,1.995399119739914,0\" fill=\"#bd9e39\" stroke-width=\"2\" opacity=\"1\"></path><path aria-label=\"Group: 1; row: NaN; Long: 32; Direction: A; Survivors: 145000; Lat: 54.8\" role=\"graphics-symbol\" aria-roledescription=\"point\" transform=\"translate(444.44444444444446,163.63636363636382)\" d=\"M1.82808964897947,0A1.82808964897947,1.82808964897947,0,1,1,-1.82808964897947,0A1.82808964897947,1.82808964897947,0,1,1,1.82808964897947,0\" fill=\"#bd9e39\" stroke-width=\"2\" opacity=\"1\"></path><path aria-label=\"Group: 1; row: NaN; Long: 33.2; Direction: A; Survivors: 140000; Lat: 54.9\" role=\"graphics-symbol\" aria-roledescription=\"point\" transform=\"translate(497.7777777777779,150)\" d=\"M1.7986923354612534,0A1.7986923354612534,1.7986923354612534,0,1,1,-1.7986923354612534,0A1.7986923354612534,1.7986923354612534,0,1,1,1.7986923354612534,0\" fill=\"#bd9e39\" stroke-width=\"2\" opacity=\"1\"></path><path aria-label=\"Group: 1; row: NaN; Long: 34.4; Direction: A; Survivors: 127100; Lat: 55.5\" role=\"graphics-symbol\" aria-roledescription=\"point\" transform=\"translate(551.111111111111,68.18181818181809)\" d=\"M1.7205291593679237,0A1.7205291593679237,1.7205291593679237,0,1,1,-1.7205291593679237,0A1.7205291593679237,1.7205291593679237,0,1,1,1.7205291593679237,0\" fill=\"#bd9e39\" stroke-width=\"2\" opacity=\"1\"></path><path aria-label=\"Group: 1; row: NaN; Long: 35.5; Direction: A; Survivors: 100000; Lat: 55.4\" role=\"graphics-symbol\" aria-roledescription=\"point\" transform=\"translate(600,81.81818181818191)\" d=\"M1.5434872662825796,0A1.5434872662825796,1.5434872662825796,0,1,1,-1.5434872662825796,0A1.5434872662825796,1.5434872662825796,0,1,1,1.5434872662825796,0\" fill=\"#bd9e39\" stroke-width=\"2\" opacity=\"1\"></path><path aria-label=\"Group: 1; row: NaN; Long: 36; Direction: A; Survivors: 100000; Lat: 55.5\" role=\"graphics-symbol\" aria-roledescription=\"point\" transform=\"translate(622.2222222222223,68.18181818181809)\" d=\"M1.5434872662825796,0A1.5434872662825796,1.5434872662825796,0,1,1,-1.5434872662825796,0A1.5434872662825796,1.5434872662825796,0,1,1,1.5434872662825796,0\" fill=\"#bd9e39\" stroke-width=\"2\" opacity=\"1\"></path><path aria-label=\"Group: 1; row: NaN; Long: 37.6; Direction: A; Survivors: 100000; Lat: 55.8\" role=\"graphics-symbol\" aria-roledescription=\"point\" transform=\"translate(693.3333333333334,27.272727272727614)\" d=\"M1.5434872662825796,0A1.5434872662825796,1.5434872662825796,0,1,1,-1.5434872662825796,0A1.5434872662825796,1.5434872662825796,0,1,1,1.5434872662825796,0\" fill=\"#bd9e39\" stroke-width=\"2\" opacity=\"1\"></path><path aria-label=\"Group: 1; row: NaN; Long: 37.7; Direction: R; Survivors: 100000; Lat: 55.7\" role=\"graphics-symbol\" aria-roledescription=\"point\" transform=\"translate(697.7777777777778,40.90909090909047)\" d=\"M1.5434872662825796,0A1.5434872662825796,1.5434872662825796,0,1,1,-1.5434872662825796,0A1.5434872662825796,1.5434872662825796,0,1,1,1.5434872662825796,0\" fill=\"gray\" stroke-width=\"2\" opacity=\"1\"></path><path aria-label=\"Group: 1; row: NaN; Long: 37.5; Direction: R; Survivors: 98000; Lat: 55.7\" role=\"graphics-symbol\" aria-roledescription=\"point\" transform=\"translate(688.8888888888889,40.90909090909047)\" d=\"M1.529609715696439,0A1.529609715696439,1.529609715696439,0,1,1,-1.529609715696439,0A1.529609715696439,1.529609715696439,0,1,1,1.529609715696439,0\" fill=\"gray\" stroke-width=\"2\" opacity=\"1\"></path><path aria-label=\"Group: 1; row: NaN; Long: 37; Direction: R; Survivors: 97000; Lat: 55\" role=\"graphics-symbol\" aria-roledescription=\"point\" transform=\"translate(666.6666666666667,136.36363636363618)\" d=\"M1.5226235099134573,0A1.5226235099134573,1.5226235099134573,0,1,1,-1.5226235099134573,0A1.5226235099134573,1.5226235099134573,0,1,1,1.5226235099134573,0\" fill=\"gray\" stroke-width=\"2\" opacity=\"1\"></path><path aria-label=\"Group: 1; row: NaN; Long: 36.8; Direction: R; Survivors: 96000; Lat: 55\" role=\"graphics-symbol\" aria-roledescription=\"point\" transform=\"translate(657.7777777777777,136.36363636363618)\" d=\"M1.5156051014460896,0A1.5156051014460896,1.5156051014460896,0,1,1,-1.5156051014460896,0A1.5156051014460896,1.5156051014460896,0,1,1,1.5156051014460896,0\" fill=\"gray\" stroke-width=\"2\" opacity=\"1\"></path><path aria-label=\"Group: 1; row: NaN; Long: 35.4; Direction: R; Survivors: 87000; Lat: 55.3\" role=\"graphics-symbol\" aria-roledescription=\"point\" transform=\"translate(595.5555555555554,95.45454545454571)\" d=\"M1.450912491786989,0A1.450912491786989,1.450912491786989,0,1,1,-1.450912491786989,0A1.450912491786989,1.450912491786989,0,1,1,1.450912491786989,0\" fill=\"gray\" stroke-width=\"2\" opacity=\"1\"></path><path aria-label=\"Group: 1; row: NaN; Long: 34.3; Direction: R; Survivors: 55000; Lat: 55.2\" role=\"graphics-symbol\" aria-roledescription=\"point\" transform=\"translate(546.6666666666665,109.09090909090857)\" d=\"M1.192809338346686,0A1.192809338346686,1.192809338346686,0,1,1,-1.192809338346686,0A1.192809338346686,1.192809338346686,0,1,1,1.192809338346686,0\" fill=\"gray\" stroke-width=\"2\" opacity=\"1\"></path><path aria-label=\"Group: 1; row: NaN; Long: 33.3; Direction: R; Survivors: 37000; Lat: 54.8\" role=\"graphics-symbol\" aria-roledescription=\"point\" transform=\"translate(502.2222222222221,163.63636363636382)\" d=\"M1.0192990671217619,0A1.0192990671217619,1.0192990671217619,0,1,1,-1.0192990671217619,0A1.0192990671217619,1.0192990671217619,0,1,1,1.0192990671217619,0\" fill=\"gray\" stroke-width=\"2\" opacity=\"1\"></path><path aria-label=\"Group: 1; row: NaN; Long: 32; Direction: R; Survivors: 24000; Lat: 54.6\" role=\"graphics-symbol\" aria-roledescription=\"point\" transform=\"translate(444.44444444444446,190.90909090909048)\" d=\"M0.8727913300911925,0A0.8727913300911925,0.8727913300911925,0,1,1,-0.8727913300911925,0A0.8727913300911925,0.8727913300911925,0,1,1,0.8727913300911925,0\" fill=\"gray\" stroke-width=\"2\" opacity=\"1\"></path><path aria-label=\"Group: 1; row: NaN; Long: 30.4; Direction: R; Survivors: 20000; Lat: 54.4\" role=\"graphics-symbol\" aria-roledescription=\"point\" transform=\"translate(373.33333333333326,218.1818181818181)\" d=\"M0.8224783208299743,0A0.8224783208299743,0.8224783208299743,0,1,1,-0.8224783208299743,0A0.8224783208299743,0.8224783208299743,0,1,1,0.8224783208299743,0\" fill=\"gray\" stroke-width=\"2\" opacity=\"1\"></path><path aria-label=\"Group: 1; row: NaN; Long: 29.2; Direction: R; Survivors: 20000; Lat: 54.3\" role=\"graphics-symbol\" aria-roledescription=\"point\" transform=\"translate(320,231.8181818181819)\" d=\"M0.8224783208299743,0A0.8224783208299743,0.8224783208299743,0,1,1,-0.8224783208299743,0A0.8224783208299743,0.8224783208299743,0,1,1,0.8224783208299743,0\" fill=\"gray\" stroke-width=\"2\" opacity=\"1\"></path><path aria-label=\"Group: 1; row: NaN; Long: 28.5; Direction: R; Survivors: 20000; Lat: 54.2\" role=\"graphics-symbol\" aria-roledescription=\"point\" transform=\"translate(288.88888888888886,245.45454545454476)\" d=\"M0.8224783208299743,0A0.8224783208299743,0.8224783208299743,0,1,1,-0.8224783208299743,0A0.8224783208299743,0.8224783208299743,0,1,1,0.8224783208299743,0\" fill=\"gray\" stroke-width=\"2\" opacity=\"1\"></path><path aria-label=\"Group: 1; row: NaN; Long: 28.3; Direction: R; Survivors: 20000; Lat: 54.3\" role=\"graphics-symbol\" aria-roledescription=\"point\" transform=\"translate(280,231.8181818181819)\" d=\"M0.8224783208299743,0A0.8224783208299743,0.8224783208299743,0,1,1,-0.8224783208299743,0A0.8224783208299743,0.8224783208299743,0,1,1,0.8224783208299743,0\" fill=\"gray\" stroke-width=\"2\" opacity=\"1\"></path><path aria-label=\"Group: 1; row: NaN; Long: 27.5; Direction: R; Survivors: 20000; Lat: 54.5\" role=\"graphics-symbol\" aria-roledescription=\"point\" transform=\"translate(244.44444444444446,204.5454545454543)\" d=\"M0.8224783208299743,0A0.8224783208299743,0.8224783208299743,0,1,1,-0.8224783208299743,0A0.8224783208299743,0.8224783208299743,0,1,1,0.8224783208299743,0\" fill=\"gray\" stroke-width=\"2\" opacity=\"1\"></path><path aria-label=\"Group: 1; row: NaN; Long: 26.8; Direction: R; Survivors: 12000; Lat: 54.3\" role=\"graphics-symbol\" aria-roledescription=\"point\" transform=\"translate(213.33333333333337,231.8181818181819)\" d=\"M0.7112540705972631,0A0.7112540705972631,0.7112540705972631,0,1,1,-0.7112540705972631,0A0.7112540705972631,0.7112540705972631,0,1,1,0.7112540705972631,0\" fill=\"gray\" stroke-width=\"2\" opacity=\"1\"></path><path aria-label=\"Group: 1; row: NaN; Long: 26.4; Direction: R; Survivors: 14000; Lat: 54.4\" role=\"graphics-symbol\" aria-roledescription=\"point\" transform=\"translate(195.5555555555555,218.1818181818181)\" d=\"M0.7406277146884972,0A0.7406277146884972,0.7406277146884972,0,1,1,-0.7406277146884972,0A0.7406277146884972,0.7406277146884972,0,1,1,0.7406277146884972,0\" fill=\"gray\" stroke-width=\"2\" opacity=\"1\"></path><path aria-label=\"Group: 1; row: NaN; Long: 25; Direction: R; Survivors: 8000; Lat: 54.4\" role=\"graphics-symbol\" aria-roledescription=\"point\" transform=\"translate(133.33333333333331,218.1818181818181)\" d=\"M0.6485277444289624,0A0.6485277444289624,0.6485277444289624,0,1,1,-0.6485277444289624,0A0.6485277444289624,0.6485277444289624,0,1,1,0.6485277444289624,0\" fill=\"gray\" stroke-width=\"2\" opacity=\"1\"></path><path aria-label=\"Group: 1; row: NaN; Long: 24.4; Direction: R; Survivors: 4000; Lat: 54.4\" role=\"graphics-symbol\" aria-roledescription=\"point\" transform=\"translate(106.6666666666666,218.1818181818181)\" d=\"M0.5790458683446924,0A0.5790458683446924,0.5790458683446924,0,1,1,-0.5790458683446924,0A0.5790458683446924,0.5790458683446924,0,1,1,0.5790458683446924,0\" fill=\"gray\" stroke-width=\"2\" opacity=\"1\"></path><path aria-label=\"Group: 1; row: NaN; Long: 24.2; Direction: R; Survivors: 4000; Lat: 54.4\" role=\"graphics-symbol\" aria-roledescription=\"point\" transform=\"translate(97.77777777777774,218.1818181818181)\" d=\"M0.5790458683446924,0A0.5790458683446924,0.5790458683446924,0,1,1,-0.5790458683446924,0A0.5790458683446924,0.5790458683446924,0,1,1,0.5790458683446924,0\" fill=\"gray\" stroke-width=\"2\" opacity=\"1\"></path><path aria-label=\"Group: 1; row: NaN; Long: 24.1; Direction: R; Survivors: 4000; Lat: 54.4\" role=\"graphics-symbol\" aria-roledescription=\"point\" transform=\"translate(93.3333333333334,218.1818181818181)\" d=\"M0.5790458683446924,0A0.5790458683446924,0.5790458683446924,0,1,1,-0.5790458683446924,0A0.5790458683446924,0.5790458683446924,0,1,1,0.5790458683446924,0\" fill=\"gray\" stroke-width=\"2\" opacity=\"1\"></path><path aria-label=\"Group: 2; row: NaN; Long: 24; Direction: A; Survivors: 60000; Lat: 55.1\" role=\"graphics-symbol\" aria-roledescription=\"point\" transform=\"translate(88.88888888888889,122.72727272727238)\" d=\"M1.2366938848016846,0A1.2366938848016846,1.2366938848016846,0,1,1,-1.2366938848016846,0A1.2366938848016846,1.2366938848016846,0,1,1,1.2366938848016846,0\" fill=\"#bd9e39\" stroke-width=\"2\" opacity=\"1\"></path><path aria-label=\"Group: 2; row: NaN; Long: 24.5; Direction: A; Survivors: 60000; Lat: 55.2\" role=\"graphics-symbol\" aria-roledescription=\"point\" transform=\"translate(111.11111111111111,109.09090909090857)\" d=\"M1.2366938848016846,0A1.2366938848016846,1.2366938848016846,0,1,1,-1.2366938848016846,0A1.2366938848016846,1.2366938848016846,0,1,1,1.2366938848016846,0\" fill=\"#bd9e39\" stroke-width=\"2\" opacity=\"1\"></path><path aria-label=\"Group: 2; row: NaN; Long: 25.5; Direction: A; Survivors: 60000; Lat: 54.7\" role=\"graphics-symbol\" aria-roledescription=\"point\" transform=\"translate(155.55555555555557,177.27272727272666)\" d=\"M1.2366938848016846,0A1.2366938848016846,1.2366938848016846,0,1,1,-1.2366938848016846,0A1.2366938848016846,1.2366938848016846,0,1,1,1.2366938848016846,0\" fill=\"#bd9e39\" stroke-width=\"2\" opacity=\"1\"></path><path aria-label=\"Group: 2; row: NaN; Long: 26.6; Direction: A; Survivors: 40000; Lat: 55.7\" role=\"graphics-symbol\" aria-roledescription=\"point\" transform=\"translate(204.4444444444445,40.90909090909047)\" d=\"M1.0502100630210074,0A1.0502100630210074,1.0502100630210074,0,1,1,-1.0502100630210074,0A1.0502100630210074,1.0502100630210074,0,1,1,1.0502100630210074,0\" fill=\"#bd9e39\" stroke-width=\"2\" opacity=\"1\"></path><path aria-label=\"Group: 2; row: NaN; Long: 27.4; Direction: A; Survivors: 33000; Lat: 55.6\" role=\"graphics-symbol\" aria-roledescription=\"point\" transform=\"translate(239.99999999999994,54.5454545454543)\" d=\"M0.9765636029405536,0A0.9765636029405536,0.9765636029405536,0,1,1,-0.9765636029405536,0A0.9765636029405536,0.9765636029405536,0,1,1,0.9765636029405536,0\" fill=\"#bd9e39\" stroke-width=\"2\" opacity=\"1\"></path><path aria-label=\"Group: 2; row: NaN; Long: 28.7; Direction: A; Survivors: 33000; Lat: 55.5\" role=\"graphics-symbol\" aria-roledescription=\"point\" transform=\"translate(297.7777777777777,68.18181818181809)\" d=\"M0.9765636029405536,0A0.9765636029405536,0.9765636029405536,0,1,1,-0.9765636029405536,0A0.9765636029405536,0.9765636029405536,0,1,1,0.9765636029405536,0\" fill=\"#bd9e39\" stroke-width=\"2\" opacity=\"1\"></path><path aria-label=\"Group: 2; row: NaN; Long: 28.7; Direction: R; Survivors: 33000; Lat: 55.5\" role=\"graphics-symbol\" aria-roledescription=\"point\" transform=\"translate(297.7777777777777,68.18181818181809)\" d=\"M0.9765636029405536,0A0.9765636029405536,0.9765636029405536,0,1,1,-0.9765636029405536,0A0.9765636029405536,0.9765636029405536,0,1,1,0.9765636029405536,0\" fill=\"gray\" stroke-width=\"2\" opacity=\"1\"></path><path aria-label=\"Group: 2; row: NaN; Long: 29.2; Direction: R; Survivors: 30000; Lat: 54.2\" role=\"graphics-symbol\" aria-roledescription=\"point\" transform=\"translate(320,245.45454545454476)\" d=\"M0.9432422182837986,0A0.9432422182837986,0.9432422182837986,0,1,1,-0.9432422182837986,0A0.9432422182837986,0.9432422182837986,0,1,1,0.9432422182837986,0\" fill=\"gray\" stroke-width=\"2\" opacity=\"1\"></path><path aria-label=\"Group: 2; row: NaN; Long: 28.5; Direction: R; Survivors: 30000; Lat: 54.1\" role=\"graphics-symbol\" aria-roledescription=\"point\" transform=\"translate(288.88888888888886,259.09090909090855)\" d=\"M0.9432422182837986,0A0.9432422182837986,0.9432422182837986,0,1,1,-0.9432422182837986,0A0.9432422182837986,0.9432422182837986,0,1,1,0.9432422182837986,0\" fill=\"gray\" stroke-width=\"2\" opacity=\"1\"></path><path aria-label=\"Group: 2; row: NaN; Long: 28.3; Direction: R; Survivors: 28000; Lat: 54.2\" role=\"graphics-symbol\" aria-roledescription=\"point\" transform=\"translate(280,245.45454545454476)\" d=\"M0.9203579866168445,0A0.9203579866168445,0.9203579866168445,0,1,1,-0.9203579866168445,0A0.9203579866168445,0.9203579866168445,0,1,1,0.9203579866168445,0\" fill=\"gray\" stroke-width=\"2\" opacity=\"1\"></path><path aria-label=\"Group: 3; row: NaN; Long: 24; Direction: A; Survivors: 22000; Lat: 55.2\" role=\"graphics-symbol\" aria-roledescription=\"point\" transform=\"translate(88.88888888888889,109.09090909090857)\" d=\"M0.8480080465766959,0A0.8480080465766959,0.8480080465766959,0,1,1,-0.8480080465766959,0A0.8480080465766959,0.8480080465766959,0,1,1,0.8480080465766959,0\" fill=\"#bd9e39\" stroke-width=\"2\" opacity=\"1\"></path><path aria-label=\"Group: 3; row: NaN; Long: 24.5; Direction: A; Survivors: 22000; Lat: 55.3\" role=\"graphics-symbol\" aria-roledescription=\"point\" transform=\"translate(111.11111111111111,95.45454545454571)\" d=\"M0.8480080465766959,0A0.8480080465766959,0.8480080465766959,0,1,1,-0.8480080465766959,0A0.8480080465766959,0.8480080465766959,0,1,1,0.8480080465766959,0\" fill=\"#bd9e39\" stroke-width=\"2\" opacity=\"1\"></path><path aria-label=\"Group: 3; row: NaN; Long: 24.6; Direction: A; Survivors: 6000; Lat: 55.8\" role=\"graphics-symbol\" aria-roledescription=\"point\" transform=\"translate(115.55555555555561,27.272727272727614)\" d=\"M0.6147692058574407,0A0.6147692058574407,0.6147692058574407,0,1,1,-0.6147692058574407,0A0.6147692058574407,0.6147692058574407,0,1,1,0.6147692058574407,0\" fill=\"#bd9e39\" stroke-width=\"2\" opacity=\"1\"></path><path aria-label=\"Group: 3; row: NaN; Long: 24.6; Direction: R; Survivors: 6000; Lat: 55.8\" role=\"graphics-symbol\" aria-roledescription=\"point\" transform=\"translate(115.55555555555561,27.272727272727614)\" d=\"M0.6147692058574407,0A0.6147692058574407,0.6147692058574407,0,1,1,-0.6147692058574407,0A0.6147692058574407,0.6147692058574407,0,1,1,0.6147692058574407,0\" fill=\"gray\" stroke-width=\"2\" opacity=\"1\"></path><path aria-label=\"Group: 3; row: NaN; Long: 24.2; Direction: R; Survivors: 6000; Lat: 54.4\" role=\"graphics-symbol\" aria-roledescription=\"point\" transform=\"translate(97.77777777777774,218.1818181818181)\" d=\"M0.6147692058574407,0A0.6147692058574407,0.6147692058574407,0,1,1,-0.6147692058574407,0A0.6147692058574407,0.6147692058574407,0,1,1,0.6147692058574407,0\" fill=\"gray\" stroke-width=\"2\" opacity=\"1\"></path><path aria-label=\"Group: 3; row: NaN; Long: 24.1; Direction: R; Survivors: 6000; Lat: 54.4\" role=\"graphics-symbol\" aria-roledescription=\"point\" transform=\"translate(93.3333333333334,218.1818181818181)\" d=\"M0.6147692058574407,0A0.6147692058574407,0.6147692058574407,0,1,1,-0.6147692058574407,0A0.6147692058574407,0.6147692058574407,0,1,1,0.6147692058574407,0\" fill=\"gray\" stroke-width=\"2\" opacity=\"1\"></path></g><g class=\"mark-text role-mark concat_0_layer_1_marks\" role=\"graphics-object\" aria-roledescription=\"text mark container\"><text aria-label=\"Long: 24; City: Kowno; Lat: 55\" role=\"graphics-symbol\" aria-roledescription=\"text mark\" text-anchor=\"middle\" transform=\"translate(88.88888888888889,139.36363636363618)\" font-family=\"sans-serif\" font-size=\"10px\" fill=\"black\">Kowno</text><text aria-label=\"Long: 25.3; City: Wilna; Lat: 54.7\" role=\"graphics-symbol\" aria-roledescription=\"text mark\" text-anchor=\"middle\" transform=\"translate(146.6666666666667,180.27272727272666)\" font-family=\"sans-serif\" font-size=\"10px\" fill=\"black\">Wilna</text><text aria-label=\"Long: 26.4; City: Smorgoni; Lat: 54.4\" role=\"graphics-symbol\" aria-roledescription=\"text mark\" text-anchor=\"middle\" transform=\"translate(195.5555555555555,221.1818181818181)\" font-family=\"sans-serif\" font-size=\"10px\" fill=\"black\">Smorgoni</text><text aria-label=\"Long: 26.8; City: Moiodexno; Lat: 54.3\" role=\"graphics-symbol\" aria-roledescription=\"text mark\" text-anchor=\"middle\" transform=\"translate(213.33333333333337,234.8181818181819)\" font-family=\"sans-serif\" font-size=\"10px\" fill=\"black\">Moiodexno</text><text aria-label=\"Long: 27.7; City: Gloubokoe; Lat: 55.2\" role=\"graphics-symbol\" aria-roledescription=\"text mark\" text-anchor=\"middle\" transform=\"translate(253.33333333333331,112.09090909090857)\" font-family=\"sans-serif\" font-size=\"10px\" fill=\"black\">Gloubokoe</text><text aria-label=\"Long: 27.6; City: Minsk; Lat: 53.9\" role=\"graphics-symbol\" aria-roledescription=\"text mark\" text-anchor=\"middle\" transform=\"translate(248.88888888888894,289.3636363636362)\" font-family=\"sans-serif\" font-size=\"10px\" fill=\"black\">Minsk</text><text aria-label=\"Long: 28.5; City: Studienska; Lat: 54.3\" role=\"graphics-symbol\" aria-roledescription=\"text mark\" text-anchor=\"middle\" transform=\"translate(288.88888888888886,234.8181818181819)\" font-family=\"sans-serif\" font-size=\"10px\" fill=\"black\">Studienska</text><text aria-label=\"Long: 28.7; City: Polotzk; Lat: 55.5\" role=\"graphics-symbol\" aria-roledescription=\"text mark\" text-anchor=\"middle\" transform=\"translate(297.7777777777777,71.18181818181809)\" font-family=\"sans-serif\" font-size=\"10px\" fill=\"black\">Polotzk</text><text aria-label=\"Long: 29.2; City: Bobr; Lat: 54.4\" role=\"graphics-symbol\" aria-roledescription=\"text mark\" text-anchor=\"middle\" transform=\"translate(320,221.1818181818181)\" font-family=\"sans-serif\" font-size=\"10px\" fill=\"black\">Bobr</text><text aria-label=\"Long: 30.2; City: Witebsk; Lat: 55.3\" role=\"graphics-symbol\" aria-roledescription=\"text mark\" text-anchor=\"middle\" transform=\"translate(364.4444444444444,98.45454545454571)\" font-family=\"sans-serif\" font-size=\"10px\" fill=\"black\">Witebsk</text><text aria-label=\"Long: 30.4; City: Orscha; Lat: 54.5\" role=\"graphics-symbol\" aria-roledescription=\"text mark\" text-anchor=\"middle\" transform=\"translate(373.33333333333326,207.5454545454543)\" font-family=\"sans-serif\" font-size=\"10px\" fill=\"black\">Orscha</text><text aria-label=\"Long: 30.4; City: Mohilow; Lat: 53.9\" role=\"graphics-symbol\" aria-roledescription=\"text mark\" text-anchor=\"middle\" transform=\"translate(373.33333333333326,289.3636363636362)\" font-family=\"sans-serif\" font-size=\"10px\" fill=\"black\">Mohilow</text><text aria-label=\"Long: 32; City: Smolensk; Lat: 54.8\" role=\"graphics-symbol\" aria-roledescription=\"text mark\" text-anchor=\"middle\" transform=\"translate(444.44444444444446,166.63636363636382)\" font-family=\"sans-serif\" font-size=\"10px\" fill=\"black\">Smolensk</text><text aria-label=\"Long: 33.2; City: Dorogobouge; Lat: 54.9\" role=\"graphics-symbol\" aria-roledescription=\"text mark\" text-anchor=\"middle\" transform=\"translate(497.7777777777779,153)\" font-family=\"sans-serif\" font-size=\"10px\" fill=\"black\">Dorogobouge</text><text aria-label=\"Long: 34.3; City: Wixma; Lat: 55.2\" role=\"graphics-symbol\" aria-roledescription=\"text mark\" text-anchor=\"middle\" transform=\"translate(546.6666666666665,112.09090909090857)\" font-family=\"sans-serif\" font-size=\"10px\" fill=\"black\">Wixma</text><text aria-label=\"Long: 34.4; City: Chjat; Lat: 55.5\" role=\"graphics-symbol\" aria-roledescription=\"text mark\" text-anchor=\"middle\" transform=\"translate(551.111111111111,71.18181818181809)\" font-family=\"sans-serif\" font-size=\"10px\" fill=\"black\">Chjat</text><text aria-label=\"Long: 36; City: Mojaisk; Lat: 55.5\" role=\"graphics-symbol\" aria-roledescription=\"text mark\" text-anchor=\"middle\" transform=\"translate(622.2222222222223,71.18181818181809)\" font-family=\"sans-serif\" font-size=\"10px\" fill=\"black\">Mojaisk</text><text aria-label=\"Long: 37.6; City: Moscou; Lat: 55.8\" role=\"graphics-symbol\" aria-roledescription=\"text mark\" text-anchor=\"middle\" transform=\"translate(693.3333333333334,30.272727272727614)\" font-family=\"sans-serif\" font-size=\"10px\" fill=\"black\">Moscou</text><text aria-label=\"Long: 36.6; City: Tarantino; Lat: 55.3\" role=\"graphics-symbol\" aria-roledescription=\"text mark\" text-anchor=\"middle\" transform=\"translate(648.888888888889,98.45454545454571)\" font-family=\"sans-serif\" font-size=\"10px\" fill=\"black\">Tarantino</text><text aria-label=\"Long: 36.5; City: Malo-Jarosewii; Lat: 55\" role=\"graphics-symbol\" aria-roledescription=\"text mark\" text-anchor=\"middle\" transform=\"translate(644.4444444444445,139.36363636363618)\" font-family=\"sans-serif\" font-size=\"10px\" fill=\"black\">Malo-Jarosewii</text></g></g><path class=\"foreground\" aria-hidden=\"true\" d=\"\" display=\"none\"></path></g></g><g class=\"mark-group role-scope concat_1_group\" role=\"graphics-object\" aria-roledescription=\"group mark container\"><g transform=\"translate(0,356)\"><path class=\"background\" aria-hidden=\"true\" d=\"M0.5,0.5h800v100h-800Z\" stroke=\"#ddd\"></path><g><g class=\"mark-group role-axis\" aria-hidden=\"true\"><g transform=\"translate(0.5,100.5)\"><path class=\"background\" aria-hidden=\"true\" d=\"M0,0h0v0h0Z\" pointer-events=\"none\"></path><g><g class=\"mark-rule role-axis-grid\" pointer-events=\"none\"><line transform=\"translate(0,-100)\" x2=\"0\" y2=\"100\" stroke=\"#ddd\" stroke-width=\"1\" opacity=\"1\"></line><line transform=\"translate(44,-100)\" x2=\"0\" y2=\"100\" stroke=\"#ddd\" stroke-width=\"1\" opacity=\"1\"></line><line transform=\"translate(89,-100)\" x2=\"0\" y2=\"100\" stroke=\"#ddd\" stroke-width=\"1\" opacity=\"1\"></line><line transform=\"translate(133,-100)\" x2=\"0\" y2=\"100\" stroke=\"#ddd\" stroke-width=\"1\" opacity=\"1\"></line><line transform=\"translate(178,-100)\" x2=\"0\" y2=\"100\" stroke=\"#ddd\" stroke-width=\"1\" opacity=\"1\"></line><line transform=\"translate(222,-100)\" x2=\"0\" y2=\"100\" stroke=\"#ddd\" stroke-width=\"1\" opacity=\"1\"></line><line transform=\"translate(267,-100)\" x2=\"0\" y2=\"100\" stroke=\"#ddd\" stroke-width=\"1\" opacity=\"1\"></line><line transform=\"translate(311,-100)\" x2=\"0\" y2=\"100\" stroke=\"#ddd\" stroke-width=\"1\" opacity=\"1\"></line><line transform=\"translate(356,-100)\" x2=\"0\" y2=\"100\" stroke=\"#ddd\" stroke-width=\"1\" opacity=\"1\"></line><line transform=\"translate(400,-100)\" x2=\"0\" y2=\"100\" stroke=\"#ddd\" stroke-width=\"1\" opacity=\"1\"></line><line transform=\"translate(444,-100)\" x2=\"0\" y2=\"100\" stroke=\"#ddd\" stroke-width=\"1\" opacity=\"1\"></line><line transform=\"translate(489,-100)\" x2=\"0\" y2=\"100\" stroke=\"#ddd\" stroke-width=\"1\" opacity=\"1\"></line><line transform=\"translate(533,-100)\" x2=\"0\" y2=\"100\" stroke=\"#ddd\" stroke-width=\"1\" opacity=\"1\"></line><line transform=\"translate(578,-100)\" x2=\"0\" y2=\"100\" stroke=\"#ddd\" stroke-width=\"1\" opacity=\"1\"></line><line transform=\"translate(622,-100)\" x2=\"0\" y2=\"100\" stroke=\"#ddd\" stroke-width=\"1\" opacity=\"1\"></line><line transform=\"translate(667,-100)\" x2=\"0\" y2=\"100\" stroke=\"#ddd\" stroke-width=\"1\" opacity=\"1\"></line><line transform=\"translate(711,-100)\" x2=\"0\" y2=\"100\" stroke=\"#ddd\" stroke-width=\"1\" opacity=\"1\"></line><line transform=\"translate(756,-100)\" x2=\"0\" y2=\"100\" stroke=\"#ddd\" stroke-width=\"1\" opacity=\"1\"></line><line transform=\"translate(800,-100)\" x2=\"0\" y2=\"100\" stroke=\"#ddd\" stroke-width=\"1\" opacity=\"1\"></line></g></g><path class=\"foreground\" aria-hidden=\"true\" d=\"\" pointer-events=\"none\" display=\"none\"></path></g></g><g class=\"mark-group role-axis\" aria-hidden=\"true\"><g transform=\"translate(0.5,0.5)\"><path class=\"background\" aria-hidden=\"true\" d=\"M0,0h0v0h0Z\" pointer-events=\"none\"></path><g><g class=\"mark-rule role-axis-grid\" pointer-events=\"none\"><line transform=\"translate(0,88)\" x2=\"800\" y2=\"0\" stroke=\"#ddd\" stroke-width=\"1\" opacity=\"1\"></line><line transform=\"translate(0,63)\" x2=\"800\" y2=\"0\" stroke=\"#ddd\" stroke-width=\"1\" opacity=\"1\"></line><line transform=\"translate(0,38)\" x2=\"800\" y2=\"0\" stroke=\"#ddd\" stroke-width=\"1\" opacity=\"1\"></line><line transform=\"translate(0,13)\" x2=\"800\" y2=\"0\" stroke=\"#ddd\" stroke-width=\"1\" opacity=\"1\"></line></g></g><path class=\"foreground\" aria-hidden=\"true\" d=\"\" pointer-events=\"none\" display=\"none\"></path></g></g><g class=\"mark-group role-axis\" role=\"graphics-symbol\" aria-roledescription=\"axis\" aria-label=\"X-axis titled 'Long' for a linear scale with values from 22 to 40\"><g transform=\"translate(0.5,100.5)\"><path class=\"background\" aria-hidden=\"true\" d=\"M0,0h0v0h0Z\" pointer-events=\"none\"></path><g><g class=\"mark-rule role-axis-tick\" pointer-events=\"none\"><line transform=\"translate(0,0)\" x2=\"0\" y2=\"5\" stroke=\"#888\" stroke-width=\"1\" opacity=\"1\"></line><line transform=\"translate(44,0)\" x2=\"0\" y2=\"5\" stroke=\"#888\" stroke-width=\"1\" opacity=\"1\"></line><line transform=\"translate(89,0)\" x2=\"0\" y2=\"5\" stroke=\"#888\" stroke-width=\"1\" opacity=\"1\"></line><line transform=\"translate(133,0)\" x2=\"0\" y2=\"5\" stroke=\"#888\" stroke-width=\"1\" opacity=\"1\"></line><line transform=\"translate(178,0)\" x2=\"0\" y2=\"5\" stroke=\"#888\" stroke-width=\"1\" opacity=\"1\"></line><line transform=\"translate(222,0)\" x2=\"0\" y2=\"5\" stroke=\"#888\" stroke-width=\"1\" opacity=\"1\"></line><line transform=\"translate(267,0)\" x2=\"0\" y2=\"5\" stroke=\"#888\" stroke-width=\"1\" opacity=\"1\"></line><line transform=\"translate(311,0)\" x2=\"0\" y2=\"5\" stroke=\"#888\" stroke-width=\"1\" opacity=\"1\"></line><line transform=\"translate(356,0)\" x2=\"0\" y2=\"5\" stroke=\"#888\" stroke-width=\"1\" opacity=\"1\"></line><line transform=\"translate(400,0)\" x2=\"0\" y2=\"5\" stroke=\"#888\" stroke-width=\"1\" opacity=\"1\"></line><line transform=\"translate(444,0)\" x2=\"0\" y2=\"5\" stroke=\"#888\" stroke-width=\"1\" opacity=\"1\"></line><line transform=\"translate(489,0)\" x2=\"0\" y2=\"5\" stroke=\"#888\" stroke-width=\"1\" opacity=\"1\"></line><line transform=\"translate(533,0)\" x2=\"0\" y2=\"5\" stroke=\"#888\" stroke-width=\"1\" opacity=\"1\"></line><line transform=\"translate(578,0)\" x2=\"0\" y2=\"5\" stroke=\"#888\" stroke-width=\"1\" opacity=\"1\"></line><line transform=\"translate(622,0)\" x2=\"0\" y2=\"5\" stroke=\"#888\" stroke-width=\"1\" opacity=\"1\"></line><line transform=\"translate(667,0)\" x2=\"0\" y2=\"5\" stroke=\"#888\" stroke-width=\"1\" opacity=\"1\"></line><line transform=\"translate(711,0)\" x2=\"0\" y2=\"5\" stroke=\"#888\" stroke-width=\"1\" opacity=\"1\"></line><line transform=\"translate(756,0)\" x2=\"0\" y2=\"5\" stroke=\"#888\" stroke-width=\"1\" opacity=\"1\"></line><line transform=\"translate(800,0)\" x2=\"0\" y2=\"5\" stroke=\"#888\" stroke-width=\"1\" opacity=\"1\"></line></g><g class=\"mark-text role-axis-label\" pointer-events=\"none\"><text text-anchor=\"start\" transform=\"translate(0,15)\" font-family=\"sans-serif\" font-size=\"10px\" fill=\"#000\" opacity=\"1\">22</text><text text-anchor=\"middle\" transform=\"translate(44.44444444444444,15)\" font-family=\"sans-serif\" font-size=\"10px\" fill=\"#000\" opacity=\"1\">23</text><text text-anchor=\"middle\" transform=\"translate(88.88888888888889,15)\" font-family=\"sans-serif\" font-size=\"10px\" fill=\"#000\" opacity=\"1\">24</text><text text-anchor=\"middle\" transform=\"translate(133.33333333333331,15)\" font-family=\"sans-serif\" font-size=\"10px\" fill=\"#000\" opacity=\"1\">25</text><text text-anchor=\"middle\" transform=\"translate(177.77777777777777,15)\" font-family=\"sans-serif\" font-size=\"10px\" fill=\"#000\" opacity=\"1\">26</text><text text-anchor=\"middle\" transform=\"translate(222.22222222222223,15)\" font-family=\"sans-serif\" font-size=\"10px\" fill=\"#000\" opacity=\"1\">27</text><text text-anchor=\"middle\" transform=\"translate(266.66666666666663,15)\" font-family=\"sans-serif\" font-size=\"10px\" fill=\"#000\" opacity=\"1\">28</text><text text-anchor=\"middle\" transform=\"translate(311.11111111111114,15)\" font-family=\"sans-serif\" font-size=\"10px\" fill=\"#000\" opacity=\"1\">29</text><text text-anchor=\"middle\" transform=\"translate(355.55555555555554,15)\" font-family=\"sans-serif\" font-size=\"10px\" fill=\"#000\" opacity=\"1\">30</text><text text-anchor=\"middle\" transform=\"translate(400,15)\" font-family=\"sans-serif\" font-size=\"10px\" fill=\"#000\" opacity=\"1\">31</text><text text-anchor=\"middle\" transform=\"translate(444.44444444444446,15)\" font-family=\"sans-serif\" font-size=\"10px\" fill=\"#000\" opacity=\"1\">32</text><text text-anchor=\"middle\" transform=\"translate(488.8888888888889,15)\" font-family=\"sans-serif\" font-size=\"10px\" fill=\"#000\" opacity=\"1\">33</text><text text-anchor=\"middle\" transform=\"translate(533.3333333333333,15)\" font-family=\"sans-serif\" font-size=\"10px\" fill=\"#000\" opacity=\"1\">34</text><text text-anchor=\"middle\" transform=\"translate(577.7777777777777,15)\" font-family=\"sans-serif\" font-size=\"10px\" fill=\"#000\" opacity=\"1\">35</text><text text-anchor=\"middle\" transform=\"translate(622.2222222222223,15)\" font-family=\"sans-serif\" font-size=\"10px\" fill=\"#000\" opacity=\"1\">36</text><text text-anchor=\"middle\" transform=\"translate(666.6666666666667,15)\" font-family=\"sans-serif\" font-size=\"10px\" fill=\"#000\" opacity=\"1\">37</text><text text-anchor=\"middle\" transform=\"translate(711.1111111111111,15)\" font-family=\"sans-serif\" font-size=\"10px\" fill=\"#000\" opacity=\"1\">38</text><text text-anchor=\"middle\" transform=\"translate(755.5555555555555,15)\" font-family=\"sans-serif\" font-size=\"10px\" fill=\"#000\" opacity=\"1\">39</text><text text-anchor=\"end\" transform=\"translate(800,15)\" font-family=\"sans-serif\" font-size=\"10px\" fill=\"#000\" opacity=\"1\">40</text></g><g class=\"mark-rule role-axis-domain\" pointer-events=\"none\"><line transform=\"translate(0,0)\" x2=\"800\" y2=\"0\" stroke=\"#888\" stroke-width=\"1\" opacity=\"1\"></line></g><g class=\"mark-text role-axis-title\" pointer-events=\"none\"><text text-anchor=\"middle\" transform=\"translate(400,30)\" font-family=\"sans-serif\" font-size=\"11px\" font-weight=\"bold\" fill=\"#000\" opacity=\"1\">Long</text></g></g><path class=\"foreground\" aria-hidden=\"true\" d=\"\" pointer-events=\"none\" display=\"none\"></path></g></g><g class=\"mark-group role-axis\" role=\"graphics-symbol\" aria-roledescription=\"axis\" aria-label=\"Y-axis titled 'Temp' for a linear scale with values from -35 to 5\"><g transform=\"translate(0.5,0.5)\"><path class=\"background\" aria-hidden=\"true\" d=\"M0,0h0v0h0Z\" pointer-events=\"none\"></path><g><g class=\"mark-rule role-axis-tick\" pointer-events=\"none\"><line transform=\"translate(0,88)\" x2=\"-5\" y2=\"0\" stroke=\"#888\" stroke-width=\"1\" opacity=\"1\"></line><line transform=\"translate(0,63)\" x2=\"-5\" y2=\"0\" stroke=\"#888\" stroke-width=\"1\" opacity=\"1\"></line><line transform=\"translate(0,38)\" x2=\"-5\" y2=\"0\" stroke=\"#888\" stroke-width=\"1\" opacity=\"1\"></line><line transform=\"translate(0,13)\" x2=\"-5\" y2=\"0\" stroke=\"#888\" stroke-width=\"1\" opacity=\"1\"></line></g><g class=\"mark-text role-axis-label\" pointer-events=\"none\"><text text-anchor=\"end\" transform=\"translate(-7,90.5)\" font-family=\"sans-serif\" font-size=\"10px\" fill=\"#000\" opacity=\"1\">-30</text><text text-anchor=\"end\" transform=\"translate(-7,65.5)\" font-family=\"sans-serif\" font-size=\"10px\" fill=\"#000\" opacity=\"1\">-20</text><text text-anchor=\"end\" transform=\"translate(-7,40.5)\" font-family=\"sans-serif\" font-size=\"10px\" fill=\"#000\" opacity=\"1\">-10</text><text text-anchor=\"end\" transform=\"translate(-7,15.5)\" font-family=\"sans-serif\" font-size=\"10px\" fill=\"#000\" opacity=\"1\">0</text></g><g class=\"mark-rule role-axis-domain\" pointer-events=\"none\"><line transform=\"translate(0,100)\" x2=\"0\" y2=\"-100\" stroke=\"#888\" stroke-width=\"1\" opacity=\"1\"></line></g><g class=\"mark-text role-axis-title\" pointer-events=\"none\"><text text-anchor=\"middle\" transform=\"translate(-27,50) rotate(-90) translate(0,-2)\" font-family=\"sans-serif\" font-size=\"11px\" font-weight=\"bold\" fill=\"#000\" opacity=\"1\">Temp</text></g></g><path class=\"foreground\" aria-hidden=\"true\" d=\"\" pointer-events=\"none\" display=\"none\"></path></g></g><g class=\"mark-line role-mark concat_1_layer_0_layer_0_marks\" role=\"graphics-object\" aria-roledescription=\"line mark container\"><path aria-label=\"Long: 25.3; Temp: -26\" role=\"graphics-symbol\" aria-roledescription=\"line mark\" d=\"M146.6666666666667,77.5L208.88888888888886,87.5L231.1111111111111,72.5L288.88888888888886,62.5L320,40L444.44444444444446,65L497.7777777777779,35L622.2222222222223,12.5L693.3333333333334,12.5\" stroke=\"black\" stroke-width=\"2\"></path></g><g class=\"mark-symbol role-mark concat_1_layer_0_layer_1_marks\" role=\"graphics-object\" aria-roledescription=\"symbol mark container\"><path aria-label=\"Long: 37.6; Temp: 0\" role=\"graphics-symbol\" aria-roledescription=\"point\" transform=\"translate(693.3333333333334,12.5)\" d=\"M2.7386127875258306,0A2.7386127875258306,2.7386127875258306,0,1,1,-2.7386127875258306,0A2.7386127875258306,2.7386127875258306,0,1,1,2.7386127875258306,0\" fill=\"black\" stroke-width=\"2\" opacity=\"1\"></path><path aria-label=\"Long: 36; Temp: 0\" role=\"graphics-symbol\" aria-roledescription=\"point\" transform=\"translate(622.2222222222223,12.5)\" d=\"M2.7386127875258306,0A2.7386127875258306,2.7386127875258306,0,1,1,-2.7386127875258306,0A2.7386127875258306,2.7386127875258306,0,1,1,2.7386127875258306,0\" fill=\"black\" stroke-width=\"2\" opacity=\"1\"></path><path aria-label=\"Long: 33.2; Temp: -9\" role=\"graphics-symbol\" aria-roledescription=\"point\" transform=\"translate(497.7777777777779,35)\" d=\"M2.7386127875258306,0A2.7386127875258306,2.7386127875258306,0,1,1,-2.7386127875258306,0A2.7386127875258306,2.7386127875258306,0,1,1,2.7386127875258306,0\" fill=\"black\" stroke-width=\"2\" opacity=\"1\"></path><path aria-label=\"Long: 32; Temp: -21\" role=\"graphics-symbol\" aria-roledescription=\"point\" transform=\"translate(444.44444444444446,65)\" d=\"M2.7386127875258306,0A2.7386127875258306,2.7386127875258306,0,1,1,-2.7386127875258306,0A2.7386127875258306,2.7386127875258306,0,1,1,2.7386127875258306,0\" fill=\"black\" stroke-width=\"2\" opacity=\"1\"></path><path aria-label=\"Long: 29.2; Temp: -11\" role=\"graphics-symbol\" aria-roledescription=\"point\" transform=\"translate(320,40)\" d=\"M2.7386127875258306,0A2.7386127875258306,2.7386127875258306,0,1,1,-2.7386127875258306,0A2.7386127875258306,2.7386127875258306,0,1,1,2.7386127875258306,0\" fill=\"black\" stroke-width=\"2\" opacity=\"1\"></path><path aria-label=\"Long: 28.5; Temp: -20\" role=\"graphics-symbol\" aria-roledescription=\"point\" transform=\"translate(288.88888888888886,62.5)\" d=\"M2.7386127875258306,0A2.7386127875258306,2.7386127875258306,0,1,1,-2.7386127875258306,0A2.7386127875258306,2.7386127875258306,0,1,1,2.7386127875258306,0\" fill=\"black\" stroke-width=\"2\" opacity=\"1\"></path><path aria-label=\"Long: 27.2; Temp: -24\" role=\"graphics-symbol\" aria-roledescription=\"point\" transform=\"translate(231.1111111111111,72.5)\" d=\"M2.7386127875258306,0A2.7386127875258306,2.7386127875258306,0,1,1,-2.7386127875258306,0A2.7386127875258306,2.7386127875258306,0,1,1,2.7386127875258306,0\" fill=\"black\" stroke-width=\"2\" opacity=\"1\"></path><path aria-label=\"Long: 26.7; Temp: -30\" role=\"graphics-symbol\" aria-roledescription=\"point\" transform=\"translate(208.88888888888886,87.5)\" d=\"M2.7386127875258306,0A2.7386127875258306,2.7386127875258306,0,1,1,-2.7386127875258306,0A2.7386127875258306,2.7386127875258306,0,1,1,2.7386127875258306,0\" fill=\"black\" stroke-width=\"2\" opacity=\"1\"></path><path aria-label=\"Long: 25.3; Temp: -26\" role=\"graphics-symbol\" aria-roledescription=\"point\" transform=\"translate(146.6666666666667,77.5)\" d=\"M2.7386127875258306,0A2.7386127875258306,2.7386127875258306,0,1,1,-2.7386127875258306,0A2.7386127875258306,2.7386127875258306,0,1,1,2.7386127875258306,0\" fill=\"black\" stroke-width=\"2\" opacity=\"1\"></path></g><g class=\"mark-text role-mark concat_1_layer_1_marks\" role=\"graphics-object\" aria-roledescription=\"text mark container\"><text aria-label=\"Long: 37.6; Date: Oct18; Temp: 0\" role=\"graphics-symbol\" aria-roledescription=\"text mark\" text-anchor=\"middle\" transform=\"translate(693.3333333333334,4.5)\" font-family=\"sans-serif\" font-size=\"8px\" fill=\"black\">Oct18</text><text aria-label=\"Long: 36; Date: Oct24; Temp: 0\" role=\"graphics-symbol\" aria-roledescription=\"text mark\" text-anchor=\"middle\" transform=\"translate(622.2222222222223,4.5)\" font-family=\"sans-serif\" font-size=\"8px\" fill=\"black\">Oct24</text><text aria-label=\"Long: 33.2; Date: Nov09; Temp: -9\" role=\"graphics-symbol\" aria-roledescription=\"text mark\" text-anchor=\"middle\" transform=\"translate(497.7777777777779,27)\" font-family=\"sans-serif\" font-size=\"8px\" fill=\"black\">Nov09</text><text aria-label=\"Long: 32; Date: Nov14; Temp: -21\" role=\"graphics-symbol\" aria-roledescription=\"text mark\" text-anchor=\"middle\" transform=\"translate(444.44444444444446,57)\" font-family=\"sans-serif\" font-size=\"8px\" fill=\"black\">Nov14</text><text aria-label=\"Long: 28.5; Date: Nov28; Temp: -20\" role=\"graphics-symbol\" aria-roledescription=\"text mark\" text-anchor=\"middle\" transform=\"translate(288.88888888888886,54.5)\" font-family=\"sans-serif\" font-size=\"8px\" fill=\"black\">Nov28</text><text aria-label=\"Long: 27.2; Date: Dec01; Temp: -24\" role=\"graphics-symbol\" aria-roledescription=\"text mark\" text-anchor=\"middle\" transform=\"translate(231.1111111111111,64.5)\" font-family=\"sans-serif\" font-size=\"8px\" fill=\"black\">Dec01</text><text aria-label=\"Long: 26.7; Date: Dec06; Temp: -30\" role=\"graphics-symbol\" aria-roledescription=\"text mark\" text-anchor=\"middle\" transform=\"translate(208.88888888888886,79.5)\" font-family=\"sans-serif\" font-size=\"8px\" fill=\"black\">Dec06</text><text aria-label=\"Long: 25.3; Date: Dec07; Temp: -26\" role=\"graphics-symbol\" aria-roledescription=\"text mark\" text-anchor=\"middle\" transform=\"translate(146.6666666666667,69.5)\" font-family=\"sans-serif\" font-size=\"8px\" fill=\"black\">Dec07</text></g></g><path class=\"foreground\" aria-hidden=\"true\" d=\"\" display=\"none\"></path></g></g><g class=\"mark-group role-legend\" role=\"graphics-symbol\" aria-roledescription=\"legend\" aria-label=\"Symbol legend titled 'Direction' for fill color and stroke color with 2 values: A, R\"><g transform=\"translate(820,0)\"><path class=\"background\" aria-hidden=\"true\" d=\"M0,0h57v45h-57Z\" pointer-events=\"none\"></path><g><g class=\"mark-group role-legend-entry\"><g transform=\"translate(0,16)\"><path class=\"background\" aria-hidden=\"true\" d=\"M0,0h0v0h0Z\" pointer-events=\"none\"></path><g><g class=\"mark-group role-scope\" role=\"graphics-object\" aria-roledescription=\"group mark container\"><g transform=\"translate(0,0)\"><path class=\"background\" aria-hidden=\"true\" d=\"M0,0h23v12.5h-23Z\" pointer-events=\"none\" opacity=\"1\"></path><g><g class=\"mark-symbol role-legend-symbol\" pointer-events=\"none\"><path transform=\"translate(6,6)\" d=\"M5,0A5,5,0,1,1,-5,0A5,5,0,1,1,5,0\" fill=\"#bd9e39\" stroke=\"#bd9e39\" stroke-width=\"1.5\" opacity=\"1\"></path></g><g class=\"mark-text role-legend-label\" pointer-events=\"none\"><text text-anchor=\"start\" transform=\"translate(16,9)\" font-family=\"sans-serif\" font-size=\"10px\" fill=\"#000\" opacity=\"1\">A</text></g></g><path class=\"foreground\" aria-hidden=\"true\" d=\"\" pointer-events=\"none\" display=\"none\"></path></g><g transform=\"translate(0,16)\"><path class=\"background\" aria-hidden=\"true\" d=\"M0,0h23v12.5h-23Z\" pointer-events=\"none\" opacity=\"1\"></path><g><g class=\"mark-symbol role-legend-symbol\" pointer-events=\"none\"><path transform=\"translate(6,6)\" d=\"M5,0A5,5,0,1,1,-5,0A5,5,0,1,1,5,0\" fill=\"gray\" stroke=\"gray\" stroke-width=\"1.5\" opacity=\"1\"></path></g><g class=\"mark-text role-legend-label\" pointer-events=\"none\"><text text-anchor=\"start\" transform=\"translate(16,9)\" font-family=\"sans-serif\" font-size=\"10px\" fill=\"#000\" opacity=\"1\">R</text></g></g><path class=\"foreground\" aria-hidden=\"true\" d=\"\" pointer-events=\"none\" display=\"none\"></path></g></g></g><path class=\"foreground\" aria-hidden=\"true\" d=\"\" pointer-events=\"none\" display=\"none\"></path></g></g><g class=\"mark-text role-legend-title\" pointer-events=\"none\"><text text-anchor=\"start\" transform=\"translate(0,9)\" font-family=\"sans-serif\" font-size=\"11px\" font-weight=\"bold\" fill=\"#000\" opacity=\"1\">Direction</text></g></g><path class=\"foreground\" aria-hidden=\"true\" d=\"\" pointer-events=\"none\" display=\"none\"></path></g></g><g class=\"mark-group role-legend\" role=\"graphics-symbol\" aria-roledescription=\"legend\" aria-label=\"Symbol legend titled 'Survivors' for size and strokeWidth with values from 0 to 340,000\"><g transform=\"translate(820,53)\"><path class=\"background\" aria-hidden=\"true\" d=\"M0,0h75v258h-75Z\" pointer-events=\"none\"></path><g><g class=\"mark-group role-legend-entry\"><g transform=\"translate(0,16)\"><path class=\"background\" aria-hidden=\"true\" d=\"M0,0h0v0h0Z\" pointer-events=\"none\"></path><g><g class=\"mark-group role-scope\" role=\"graphics-object\" aria-roledescription=\"group mark container\"><g transform=\"translate(0,0)\"><path class=\"background\" aria-hidden=\"true\" d=\"M0,0h75v10h-75Z\" pointer-events=\"none\" opacity=\"1\"></path><g><g class=\"mark-symbol role-legend-symbol\" pointer-events=\"none\"><path transform=\"translate(16,5)\" d=\"M0.5,0A0.5,0.5,0,1,1,-0.5,0A0.5,0.5,0,1,1,0.5,0\" fill=\"black\" fill-opacity=\"1\" stroke-width=\"1\" opacity=\"1\"></path></g><g class=\"mark-text role-legend-label\" pointer-events=\"none\"><text text-anchor=\"start\" transform=\"translate(36,8)\" font-family=\"sans-serif\" font-size=\"10px\" fill=\"#000\" opacity=\"1\">0</text></g></g><path class=\"foreground\" aria-hidden=\"true\" d=\"\" pointer-events=\"none\" display=\"none\"></path></g><g transform=\"translate(0,14)\"><path class=\"background\" aria-hidden=\"true\" d=\"M0,0h75v11.411953227343652h-75Z\" pointer-events=\"none\" opacity=\"1\"></path><g><g class=\"mark-symbol role-legend-symbol\" pointer-events=\"none\"><path transform=\"translate(16,5)\" d=\"M1.147247344990711,0A1.147247344990711,1.147247344990711,0,1,1,-1.147247344990711,0A1.147247344990711,1.147247344990711,0,1,1,1.147247344990711,0\" fill=\"black\" fill-opacity=\"1\" stroke-width=\"5.264705882352941\" opacity=\"1\"></path></g><g class=\"mark-text role-legend-label\" pointer-events=\"none\"><text text-anchor=\"start\" transform=\"translate(36,8)\" font-family=\"sans-serif\" font-size=\"10px\" fill=\"#000\" opacity=\"1\">50,000</text></g></g><path class=\"foreground\" aria-hidden=\"true\" d=\"\" pointer-events=\"none\" display=\"none\"></path></g><g transform=\"translate(0,33)\"><path class=\"background\" aria-hidden=\"true\" d=\"M0,0h75v17.57289903098846h-75Z\" pointer-events=\"none\" opacity=\"1\"></path><g><g class=\"mark-symbol role-legend-symbol\" pointer-events=\"none\"><path transform=\"translate(16,6.5)\" d=\"M1.5434872662825796,0A1.5434872662825796,1.5434872662825796,0,1,1,-1.5434872662825796,0A1.5434872662825796,1.5434872662825796,0,1,1,1.5434872662825796,0\" fill=\"black\" fill-opacity=\"1\" stroke-width=\"9.529411764705882\" opacity=\"1\"></path></g><g class=\"mark-text role-legend-label\" pointer-events=\"none\"><text text-anchor=\"start\" transform=\"translate(36,9.5)\" font-family=\"sans-serif\" font-size=\"10px\" fill=\"#000\" opacity=\"1\">100,000</text></g></g><path class=\"foreground\" aria-hidden=\"true\" d=\"\" pointer-events=\"none\" display=\"none\"></path></g><g transform=\"translate(0,60)\"><path class=\"background\" aria-hidden=\"true\" d=\"M0,0h75v24.651139297919343h-75Z\" pointer-events=\"none\" opacity=\"1\"></path><g><g class=\"mark-symbol role-legend-symbol\" pointer-events=\"none\"><path transform=\"translate(16,9)\" d=\"M1.857021650860513,0A1.857021650860513,1.857021650860513,0,1,1,-1.857021650860513,0A1.857021650860513,1.857021650860513,0,1,1,1.857021650860513,0\" fill=\"black\" fill-opacity=\"1\" stroke-width=\"13.794117647058822\" opacity=\"1\"></path></g><g class=\"mark-text role-legend-label\" pointer-events=\"none\"><text text-anchor=\"start\" transform=\"translate(36,12)\" font-family=\"sans-serif\" font-size=\"10px\" fill=\"#000\" opacity=\"1\">150,000</text></g></g><path class=\"foreground\" aria-hidden=\"true\" d=\"\" pointer-events=\"none\" display=\"none\"></path></g><g transform=\"translate(0,96)\"><path class=\"background\" aria-hidden=\"true\" d=\"M0,0h75v31.683607255430232h-75Z\" pointer-events=\"none\" opacity=\"1\"></path><g><g class=\"mark-symbol role-legend-symbol\" pointer-events=\"none\"><path transform=\"translate(16,11.5)\" d=\"M2.124783726018472,0A2.124783726018472,2.124783726018472,0,1,1,-2.124783726018472,0A2.124783726018472,2.124783726018472,0,1,1,2.124783726018472,0\" fill=\"black\" fill-opacity=\"1\" stroke-width=\"18.058823529411764\" opacity=\"1\"></path></g><g class=\"mark-text role-legend-label\" pointer-events=\"none\"><text text-anchor=\"start\" transform=\"translate(36,14.5)\" font-family=\"sans-serif\" font-size=\"10px\" fill=\"#000\" opacity=\"1\">200,000</text></g></g><path class=\"foreground\" aria-hidden=\"true\" d=\"\" pointer-events=\"none\" display=\"none\"></path></g><g transform=\"translate(0,141)\"><path class=\"background\" aria-hidden=\"true\" d=\"M0,0h75v38.68591853147831h-75Z\" pointer-events=\"none\" opacity=\"1\"></path><g><g class=\"mark-symbol role-legend-symbol\" pointer-events=\"none\"><path transform=\"translate(16,14)\" d=\"M2.3623891197135958,0A2.3623891197135958,2.3623891197135958,0,1,1,-2.3623891197135958,0A2.3623891197135958,2.3623891197135958,0,1,1,2.3623891197135958,0\" fill=\"black\" fill-opacity=\"1\" stroke-width=\"22.32352941176471\" opacity=\"1\"></path></g><g class=\"mark-text role-legend-label\" pointer-events=\"none\"><text text-anchor=\"start\" transform=\"translate(36,17)\" font-family=\"sans-serif\" font-size=\"10px\" fill=\"#000\" opacity=\"1\">250,000</text></g></g><path class=\"foreground\" aria-hidden=\"true\" d=\"\" pointer-events=\"none\" display=\"none\"></path></g><g transform=\"translate(0,196)\"><path class=\"background\" aria-hidden=\"true\" d=\"M0,0h75v45.166424353036604h-75Z\" pointer-events=\"none\" opacity=\"1\"></path><g><g class=\"mark-symbol role-legend-symbol\" pointer-events=\"none\"><path transform=\"translate(16,16)\" d=\"M2.578189058918956,0A2.578189058918956,2.578189058918956,0,1,1,-2.578189058918956,0A2.578189058918956,2.578189058918956,0,1,1,2.578189058918956,0\" fill=\"black\" fill-opacity=\"1\" stroke-width=\"26.588235294117645\" opacity=\"1\"></path></g><g class=\"mark-text role-legend-label\" pointer-events=\"none\"><text text-anchor=\"start\" transform=\"translate(36,19)\" font-family=\"sans-serif\" font-size=\"10px\" fill=\"#000\" opacity=\"1\">300,000</text></g></g><path class=\"foreground\" aria-hidden=\"true\" d=\"\" pointer-events=\"none\" display=\"none\"></path></g></g></g><path class=\"foreground\" aria-hidden=\"true\" d=\"\" pointer-events=\"none\" display=\"none\"></path></g></g><g class=\"mark-text role-legend-title\" pointer-events=\"none\"><text text-anchor=\"start\" transform=\"translate(0,9)\" font-family=\"sans-serif\" font-size=\"11px\" font-weight=\"bold\" fill=\"#000\" opacity=\"1\">Survivors</text></g></g><path class=\"foreground\" aria-hidden=\"true\" d=\"\" pointer-events=\"none\" display=\"none\"></path></g></g></g><path class=\"foreground\" aria-hidden=\"true\" d=\"\" display=\"none\"></path></g></g></g></svg>\n"
      ],
      "text/plain": [
       "@vlplot(\n",
       "    vconcat=[\n",
       "        {\n",
       "            height=300,\n",
       "            layer=[\n",
       "                {\n",
       "                    encoding={\n",
       "                        detail={\n",
       "                            field=\"Group\",\n",
       "                            type=\"nominal\"\n",
       "                        },\n",
       "                        order={\n",
       "                            field=\"row\",\n",
       "                            type=\"q\"\n",
       "                        },\n",
       "                        x={\n",
       "                            field=\"Long\",\n",
       "                            type=\"quantitative\",\n",
       "                            scale={\n",
       "                                domain=[\n",
       "                                    23,\n",
       "                                    39\n",
       "                                ]\n",
       "                            }\n",
       "                        },\n",
       "                        color={\n",
       "                            field=\"Direction\",\n",
       "                            type=\"nominal\",\n",
       "                            scale={\n",
       "                                range=[\n",
       "                                    \"#bd9e39\",\n",
       "                                    \"gray\"\n",
       "                                ]\n",
       "                            }\n",
       "                        },\n",
       "                        size={\n",
       "                            field=\"Survivors\",\n",
       "                            type=\"quantitative\",\n",
       "                            scale={\n",
       "                                range=[\n",
       "                                    1,\n",
       "                                    30\n",
       "                                ]\n",
       "                            }\n",
       "                        },\n",
       "                        y={\n",
       "                            field=\"Lat\",\n",
       "                            type=\"quantitative\",\n",
       "                            scale={\n",
       "                                domain=[\n",
       "                                    53.8,\n",
       "                                    56.0\n",
       "                                ]\n",
       "                            }\n",
       "                        }\n",
       "                    },\n",
       "                    data={\n",
       "                        values=[\n",
       "                            {\n",
       "                                Survivors=340000,\n",
       "                                Group=1,\n",
       "                                Lat=54.9,\n",
       "                                Long=24.0,\n",
       "                                Direction=\"A\"\n",
       "                            },\n",
       "                            {\n",
       "                                Survivors=340000,\n",
       "                                Group=1,\n",
       "                                Lat=55.0,\n",
       "                                Long=24.5,\n",
       "                                Direction=\"A\"\n",
       "                            },\n",
       "                            {\n",
       "                                Survivors=340000,\n",
       "                                Group=1,\n",
       "                                Lat=54.5,\n",
       "                                Long=25.5,\n",
       "                                Direction=\"A\"\n",
       "                            },\n",
       "                            {\n",
       "                                Survivors=320000,\n",
       "                                Group=1,\n",
       "                                Lat=54.7,\n",
       "                                Long=26.0,\n",
       "                                Direction=\"A\"\n",
       "                            },\n",
       "                            {\n",
       "                                Survivors=300000,\n",
       "                                Group=1,\n",
       "                                Lat=54.8,\n",
       "                                Long=27.0,\n",
       "                                Direction=\"A\"\n",
       "                            },\n",
       "                            {\n",
       "                                Survivors=280000,\n",
       "                                Group=1,\n",
       "                                Lat=54.9,\n",
       "                                Long=28.0,\n",
       "                                Direction=\"A\"\n",
       "                            },\n",
       "                            {\n",
       "                                Survivors=240000,\n",
       "                                Group=1,\n",
       "                                Lat=55.0,\n",
       "                                Long=28.5,\n",
       "                                Direction=\"A\"\n",
       "                            },\n",
       "                            {\n",
       "                                Survivors=210000,\n",
       "                                Group=1,\n",
       "                                Lat=55.1,\n",
       "                                Long=29.0,\n",
       "                                Direction=\"A\"\n",
       "                            },\n",
       "                            {\n",
       "                                Survivors=180000,\n",
       "                                Group=1,\n",
       "                                Lat=55.2,\n",
       "                                Long=30.0,\n",
       "                                Direction=\"A\"\n",
       "                            },\n",
       "                            {\n",
       "                                Survivors=175000,\n",
       "                                Group=1,\n",
       "                                Lat=55.3,\n",
       "                                Long=30.3,\n",
       "                                Direction=\"A\"\n",
       "                            },\n",
       "                            {\n",
       "                                Survivors=145000,\n",
       "                                Group=1,\n",
       "                                Lat=54.8,\n",
       "                                Long=32.0,\n",
       "                                Direction=\"A\"\n",
       "                            },\n",
       "                            {\n",
       "                                Survivors=140000,\n",
       "                                Group=1,\n",
       "                                Lat=54.9,\n",
       "                                Long=33.2,\n",
       "                                Direction=\"A\"\n",
       "                            },\n",
       "                            {\n",
       "                                Survivors=127100,\n",
       "                                Group=1,\n",
       "                                Lat=55.5,\n",
       "                                Long=34.4,\n",
       "                                Direction=\"A\"\n",
       "                            },\n",
       "                            {\n",
       "                                Survivors=100000,\n",
       "                                Group=1,\n",
       "                                Lat=55.4,\n",
       "                                Long=35.5,\n",
       "                                Direction=\"A\"\n",
       "                            },\n",
       "                            {\n",
       "                                Survivors=100000,\n",
       "                                Group=1,\n",
       "                                Lat=55.5,\n",
       "                                Long=36.0,\n",
       "                                Direction=\"A\"\n",
       "                            },\n",
       "                            {\n",
       "                                Survivors=100000,\n",
       "                                Group=1,\n",
       "                                Lat=55.8,\n",
       "                                Long=37.6,\n",
       "                                Direction=\"A\"\n",
       "                            },\n",
       "                            {\n",
       "                                Survivors=100000,\n",
       "                                Group=1,\n",
       "                                Lat=55.7,\n",
       "                                Long=37.7,\n",
       "                                Direction=\"R\"\n",
       "                            },\n",
       "                            {\n",
       "                                Survivors=98000,\n",
       "                                Group=1,\n",
       "                                Lat=55.7,\n",
       "                                Long=37.5,\n",
       "                                Direction=\"R\"\n",
       "                            },\n",
       "                            {\n",
       "                                Survivors=97000,\n",
       "                                Group=1,\n",
       "                                Lat=55.0,\n",
       "                                Long=37.0,\n",
       "                                Direction=\"R\"\n",
       "                            },\n",
       "                            {\n",
       "                                Survivors=96000,\n",
       "                                Group=1,\n",
       "                                Lat=55.0,\n",
       "                                Long=36.8,\n",
       "                                Direction=\"R\"\n",
       "                            },\n",
       "                            {\n",
       "                                Survivors=87000,\n",
       "                                Group=1,\n",
       "                                Lat=55.3,\n",
       "                                Long=35.4,\n",
       "                                Direction=\"R\"\n",
       "                            },\n",
       "                            {\n",
       "                                Survivors=55000,\n",
       "                                Group=1,\n",
       "                                Lat=55.2,\n",
       "                                Long=34.3,\n",
       "                                Direction=\"R\"\n",
       "                            },\n",
       "                            {\n",
       "                                Survivors=37000,\n",
       "                                Group=1,\n",
       "                                Lat=54.8,\n",
       "                                Long=33.3,\n",
       "                                Direction=\"R\"\n",
       "                            },\n",
       "                            {\n",
       "                                Survivors=24000,\n",
       "                                Group=1,\n",
       "                                Lat=54.6,\n",
       "                                Long=32.0,\n",
       "                                Direction=\"R\"\n",
       "                            },\n",
       "                            {\n",
       "                                Survivors=20000,\n",
       "                                Group=1,\n",
       "                                Lat=54.4,\n",
       "                                Long=30.4,\n",
       "                                Direction=\"R\"\n",
       "                            },\n",
       "                            {\n",
       "                                Survivors=20000,\n",
       "                                Group=1,\n",
       "                                Lat=54.3,\n",
       "                                Long=29.2,\n",
       "                                Direction=\"R\"\n",
       "                            },\n",
       "                            {\n",
       "                                Survivors=20000,\n",
       "                                Group=1,\n",
       "                                Lat=54.2,\n",
       "                                Long=28.5,\n",
       "                                Direction=\"R\"\n",
       "                            },\n",
       "                            {\n",
       "                                Survivors=20000,\n",
       "                                Group=1,\n",
       "                                Lat=54.3,\n",
       "                                Long=28.3,\n",
       "                                Direction=\"R\"\n",
       "                            },\n",
       "                            {\n",
       "                                Survivors=20000,\n",
       "                                Group=1,\n",
       "                                Lat=54.5,\n",
       "                                Long=27.5,\n",
       "                                Direction=\"R\"\n",
       "                            },\n",
       "                            {\n",
       "                                Survivors=12000,\n",
       "                                Group=1,\n",
       "                                Lat=54.3,\n",
       "                                Long=26.8,\n",
       "                                Direction=\"R\"\n",
       "                            },\n",
       "                            {\n",
       "                                Survivors=14000,\n",
       "                                Group=1,\n",
       "                                Lat=54.4,\n",
       "                                Long=26.4,\n",
       "                                Direction=\"R\"\n",
       "                            },\n",
       "                            {\n",
       "                                Survivors=8000,\n",
       "                                Group=1,\n",
       "                                Lat=54.4,\n",
       "                                Long=25.0,\n",
       "                                Direction=\"R\"\n",
       "                            },\n",
       "                            {\n",
       "                                Survivors=4000,\n",
       "                                Group=1,\n",
       "                                Lat=54.4,\n",
       "                                Long=24.4,\n",
       "                                Direction=\"R\"\n",
       "                            },\n",
       "                            {\n",
       "                                Survivors=4000,\n",
       "                                Group=1,\n",
       "                                Lat=54.4,\n",
       "                                Long=24.2,\n",
       "                                Direction=\"R\"\n",
       "                            },\n",
       "                            {\n",
       "                                Survivors=4000,\n",
       "                                Group=1,\n",
       "                                Lat=54.4,\n",
       "                                Long=24.1,\n",
       "                                Direction=\"R\"\n",
       "                            },\n",
       "                            {\n",
       "                                Survivors=60000,\n",
       "                                Group=2,\n",
       "                                Lat=55.1,\n",
       "                                Long=24.0,\n",
       "                                Direction=\"A\"\n",
       "                            },\n",
       "                            {\n",
       "                                Survivors=60000,\n",
       "                                Group=2,\n",
       "                                Lat=55.2,\n",
       "                                Long=24.5,\n",
       "                                Direction=\"A\"\n",
       "                            },\n",
       "                            {\n",
       "                                Survivors=60000,\n",
       "                                Group=2,\n",
       "                                Lat=54.7,\n",
       "                                Long=25.5,\n",
       "                                Direction=\"A\"\n",
       "                            },\n",
       "                            {\n",
       "                                Survivors=40000,\n",
       "                                Group=2,\n",
       "                                Lat=55.7,\n",
       "                                Long=26.6,\n",
       "                                Direction=\"A\"\n",
       "                            },\n",
       "                            {\n",
       "                                Survivors=33000,\n",
       "                                Group=2,\n",
       "                                Lat=55.6,\n",
       "                                Long=27.4,\n",
       "                                Direction=\"A\"\n",
       "                            },\n",
       "                            {\n",
       "                                Survivors=33000,\n",
       "                                Group=2,\n",
       "                                Lat=55.5,\n",
       "                                Long=28.7,\n",
       "                                Direction=\"A\"\n",
       "                            },\n",
       "                            {\n",
       "                                Survivors=33000,\n",
       "                                Group=2,\n",
       "                                Lat=55.5,\n",
       "                                Long=28.7,\n",
       "                                Direction=\"R\"\n",
       "                            },\n",
       "                            {\n",
       "                                Survivors=30000,\n",
       "                                Group=2,\n",
       "                                Lat=54.2,\n",
       "                                Long=29.2,\n",
       "                                Direction=\"R\"\n",
       "                            },\n",
       "                            {\n",
       "                                Survivors=30000,\n",
       "                                Group=2,\n",
       "                                Lat=54.1,\n",
       "                                Long=28.5,\n",
       "                                Direction=\"R\"\n",
       "                            },\n",
       "                            {\n",
       "                                Survivors=28000,\n",
       "                                Group=2,\n",
       "                                Lat=54.2,\n",
       "                                Long=28.3,\n",
       "                                Direction=\"R\"\n",
       "                            },\n",
       "                            {\n",
       "                                Survivors=22000,\n",
       "                                Group=3,\n",
       "                                Lat=55.2,\n",
       "                                Long=24.0,\n",
       "                                Direction=\"A\"\n",
       "                            },\n",
       "                            {\n",
       "                                Survivors=22000,\n",
       "                                Group=3,\n",
       "                                Lat=55.3,\n",
       "                                Long=24.5,\n",
       "                                Direction=\"A\"\n",
       "                            },\n",
       "                            {\n",
       "                                Survivors=6000,\n",
       "                                Group=3,\n",
       "                                Lat=55.8,\n",
       "                                Long=24.6,\n",
       "                                Direction=\"A\"\n",
       "                            },\n",
       "                            {\n",
       "                                Survivors=6000,\n",
       "                                Group=3,\n",
       "                                Lat=55.8,\n",
       "                                Long=24.6,\n",
       "                                Direction=\"R\"\n",
       "                            },\n",
       "                            {\n",
       "                                Survivors=6000,\n",
       "                                Group=3,\n",
       "                                Lat=54.4,\n",
       "                                Long=24.2,\n",
       "                                Direction=\"R\"\n",
       "                            },\n",
       "                            {\n",
       "                                Survivors=6000,\n",
       "                                Group=3,\n",
       "                                Lat=54.4,\n",
       "                                Long=24.1,\n",
       "                                Direction=\"R\"\n",
       "                            }\n",
       "                        ]\n",
       "                    },\n",
       "                    mark={\n",
       "                        point=true,\n",
       "                        clip=true,\n",
       "                        type=\"trail\"\n",
       "                    }\n",
       "                },\n",
       "                {\n",
       "                    encoding={\n",
       "                        x={\n",
       "                            field=\"Long\",\n",
       "                            type=\"quantitative\",\n",
       "                            scale={\n",
       "                                domain=[\n",
       "                                    23,\n",
       "                                    39\n",
       "                                ]\n",
       "                            }\n",
       "                        },\n",
       "                        size={\n",
       "                            value=10\n",
       "                        },\n",
       "                        text={\n",
       "                            field=\"City\",\n",
       "                            type=\"nominal\"\n",
       "                        },\n",
       "                        y={\n",
       "                            field=\"Lat\",\n",
       "                            type=\"quantitative\",\n",
       "                            scale={\n",
       "                                domain=[\n",
       "                                    53.8,\n",
       "                                    56.0\n",
       "                                ]\n",
       "                            }\n",
       "                        }\n",
       "                    },\n",
       "                    data={\n",
       "                        values=[\n",
       "                            {\n",
       "                                City=\"Kowno\",\n",
       "                                Lat=55.0,\n",
       "                                Long=24.0\n",
       "                            },\n",
       "                            {\n",
       "                                City=\"Wilna\",\n",
       "                                Lat=54.7,\n",
       "                                Long=25.3\n",
       "                            },\n",
       "                            {\n",
       "                                City=\"Smorgoni\",\n",
       "                                Lat=54.4,\n",
       "                                Long=26.4\n",
       "                            },\n",
       "                            {\n",
       "                                City=\"Moiodexno\",\n",
       "                                Lat=54.3,\n",
       "                                Long=26.8\n",
       "                            },\n",
       "                            {\n",
       "                                City=\"Gloubokoe\",\n",
       "                                Lat=55.2,\n",
       "                                Long=27.7\n",
       "                            },\n",
       "                            {\n",
       "                                City=\"Minsk\",\n",
       "                                Lat=53.9,\n",
       "                                Long=27.6\n",
       "                            },\n",
       "                            {\n",
       "                                City=\"Studienska\",\n",
       "                                Lat=54.3,\n",
       "                                Long=28.5\n",
       "                            },\n",
       "                            {\n",
       "                                City=\"Polotzk\",\n",
       "                                Lat=55.5,\n",
       "                                Long=28.7\n",
       "                            },\n",
       "                            {\n",
       "                                City=\"Bobr\",\n",
       "                                Lat=54.4,\n",
       "                                Long=29.2\n",
       "                            },\n",
       "                            {\n",
       "                                City=\"Witebsk\",\n",
       "                                Lat=55.3,\n",
       "                                Long=30.2\n",
       "                            },\n",
       "                            {\n",
       "                                City=\"Orscha\",\n",
       "                                Lat=54.5,\n",
       "                                Long=30.4\n",
       "                            },\n",
       "                            {\n",
       "                                City=\"Mohilow\",\n",
       "                                Lat=53.9,\n",
       "                                Long=30.4\n",
       "                            },\n",
       "                            {\n",
       "                                City=\"Smolensk\",\n",
       "                                Lat=54.8,\n",
       "                                Long=32.0\n",
       "                            },\n",
       "                            {\n",
       "                                City=\"Dorogobouge\",\n",
       "                                Lat=54.9,\n",
       "                                Long=33.2\n",
       "                            },\n",
       "                            {\n",
       "                                City=\"Wixma\",\n",
       "                                Lat=55.2,\n",
       "                                Long=34.3\n",
       "                            },\n",
       "                            {\n",
       "                                City=\"Chjat\",\n",
       "                                Lat=55.5,\n",
       "                                Long=34.4\n",
       "                            },\n",
       "                            {\n",
       "                                City=\"Mojaisk\",\n",
       "                                Lat=55.5,\n",
       "                                Long=36.0\n",
       "                            },\n",
       "                            {\n",
       "                                City=\"Moscou\",\n",
       "                                Lat=55.8,\n",
       "                                Long=37.6\n",
       "                            },\n",
       "                            {\n",
       "                                City=\"Tarantino\",\n",
       "                                Lat=55.3,\n",
       "                                Long=36.6\n",
       "                            },\n",
       "                            {\n",
       "                                City=\"Malo-Jarosewii\",\n",
       "                                Lat=55.0,\n",
       "                                Long=36.5\n",
       "                            }\n",
       "                        ]\n",
       "                    },\n",
       "                    mark={\n",
       "                        type=\"text\"\n",
       "                    }\n",
       "                }\n",
       "            ],\n",
       "            width=800\n",
       "        },\n",
       "        {\n",
       "            height=100,\n",
       "            layer=[\n",
       "                {\n",
       "                    encoding={\n",
       "                        x={\n",
       "                            field=\"Long\",\n",
       "                            type=\"quantitative\",\n",
       "                            scale={\n",
       "                                domain=[\n",
       "                                    23,\n",
       "                                    39\n",
       "                                ]\n",
       "                            }\n",
       "                        },\n",
       "                        y={\n",
       "                            field=\"Temp\",\n",
       "                            type=\"quantitative\",\n",
       "                            scale={\n",
       "                                domain=[\n",
       "                                    -31,\n",
       "                                    5\n",
       "                                ]\n",
       "                            }\n",
       "                        }\n",
       "                    },\n",
       "                    data={\n",
       "                        values=[\n",
       "                            {\n",
       "                                Days=6,\n",
       "                                Long=37.6,\n",
       "                                Date=\"Oct18\",\n",
       "                                Temp=0\n",
       "                            },\n",
       "                            {\n",
       "                                Days=6,\n",
       "                                Long=36.0,\n",
       "                                Date=\"Oct24\",\n",
       "                                Temp=0\n",
       "                            },\n",
       "                            {\n",
       "                                Days=16,\n",
       "                                Long=33.2,\n",
       "                                Date=\"Nov09\",\n",
       "                                Temp=-9\n",
       "                            },\n",
       "                            {\n",
       "                                Days=5,\n",
       "                                Long=32.0,\n",
       "                                Date=\"Nov14\",\n",
       "                                Temp=-21\n",
       "                            },\n",
       "                            {\n",
       "                                Days=10,\n",
       "                                Long=29.2,\n",
       "                                Date=nothing,\n",
       "                                Temp=-11\n",
       "                            },\n",
       "                            {\n",
       "                                Days=4,\n",
       "                                Long=28.5,\n",
       "                                Date=\"Nov28\",\n",
       "                                Temp=-20\n",
       "                            },\n",
       "                            {\n",
       "                                Days=3,\n",
       "                                Long=27.2,\n",
       "                                Date=\"Dec01\",\n",
       "                                Temp=-24\n",
       "                            },\n",
       "                            {\n",
       "                                Days=5,\n",
       "                                Long=26.7,\n",
       "                                Date=\"Dec06\",\n",
       "                                Temp=-30\n",
       "                            },\n",
       "                            {\n",
       "                                Days=1,\n",
       "                                Long=25.3,\n",
       "                                Date=\"Dec07\",\n",
       "                                Temp=-26\n",
       "                            }\n",
       "                        ]\n",
       "                    },\n",
       "                    mark={\n",
       "                        point={\n",
       "                            fill=\"black\"\n",
       "                        },\n",
       "                        clip=false,\n",
       "                        color=\"black\",\n",
       "                        type=\"line\"\n",
       "                    }\n",
       "                },\n",
       "                {\n",
       "                    encoding={\n",
       "                        x={\n",
       "                            field=\"Long\",\n",
       "                            scale={\n",
       "                                domain=[\n",
       "                                    23,\n",
       "                                    39\n",
       "                                ]\n",
       "                            },\n",
       "                            type=\"quantitative\"\n",
       "                        },\n",
       "                        size={\n",
       "                            value=8\n",
       "                        },\n",
       "                        text={\n",
       "                            field=\"Date\",\n",
       "                            type=\"nominal\"\n",
       "                        },\n",
       "                        y={\n",
       "                            field=\"Temp\",\n",
       "                            scale={\n",
       "                                domain=[\n",
       "                                    -31,\n",
       "                                    5\n",
       "                                ]\n",
       "                            },\n",
       "                            type=\"quantitative\"\n",
       "                        }\n",
       "                    },\n",
       "                    data={\n",
       "                        values=[\n",
       "                            {\n",
       "                                Days=6,\n",
       "                                Long=37.6,\n",
       "                                Date=\"Oct18\",\n",
       "                                Temp=0\n",
       "                            },\n",
       "                            {\n",
       "                                Days=6,\n",
       "                                Long=36.0,\n",
       "                                Date=\"Oct24\",\n",
       "                                Temp=0\n",
       "                            },\n",
       "                            {\n",
       "                                Days=16,\n",
       "                                Long=33.2,\n",
       "                                Date=\"Nov09\",\n",
       "                                Temp=-9\n",
       "                            },\n",
       "                            {\n",
       "                                Days=5,\n",
       "                                Long=32.0,\n",
       "                                Date=\"Nov14\",\n",
       "                                Temp=-21\n",
       "                            },\n",
       "                            {\n",
       "                                Days=10,\n",
       "                                Long=29.2,\n",
       "                                Date=nothing,\n",
       "                                Temp=-11\n",
       "                            },\n",
       "                            {\n",
       "                                Days=4,\n",
       "                                Long=28.5,\n",
       "                                Date=\"Nov28\",\n",
       "                                Temp=-20\n",
       "                            },\n",
       "                            {\n",
       "                                Days=3,\n",
       "                                Long=27.2,\n",
       "                                Date=\"Dec01\",\n",
       "                                Temp=-24\n",
       "                            },\n",
       "                            {\n",
       "                                Days=5,\n",
       "                                Long=26.7,\n",
       "                                Date=\"Dec06\",\n",
       "                                Temp=-30\n",
       "                            },\n",
       "                            {\n",
       "                                Days=1,\n",
       "                                Long=25.3,\n",
       "                                Date=\"Dec07\",\n",
       "                                Temp=-26\n",
       "                            }\n",
       "                        ]\n",
       "                    },\n",
       "                    mark={\n",
       "                        dy=-10,\n",
       "                        type=\"text\"\n",
       "                    },\n",
       "                    transform=[\n",
       "                        {\n",
       "                            filter=\"datum.Date !== null\"\n",
       "                        }\n",
       "                    ]\n",
       "                }\n",
       "            ],\n",
       "            width=800\n",
       "        }\n",
       "    ]\n",
       ")"
      ]
     },
     "execution_count": 20,
     "metadata": {},
     "output_type": "execute_result"
    }
   ],
   "source": [
    "vl\"\"\"\n",
    "{\"vconcat\":\n",
    "    [{\"height\":300,\n",
    "    \"layer\":\n",
    "        [\n",
    "            {\"encoding\":\n",
    "                {\"detail\":{\"field\":\"Group\",\"type\":\"nominal\"},\n",
    "                \"order\":{\"field\":\"row\",\"type\":\"q\"},\n",
    "                \"x\":{\"field\":\"Long\",\"type\":\"quantitative\",\"scale\":{\"domain\":[23,39]}},\n",
    "                \"color\":{\"field\":\"Direction\",\"type\":\"nominal\",\"scale\":{\"range\":[\"#bd9e39\",\"gray\"]}},\n",
    "                \"size\":{\"field\":\"Survivors\",\"type\":\"quantitative\",\"scale\":{\"range\":[1,30]}},\n",
    "                \"y\":{\"field\":\"Lat\",\"type\":\"quantitative\",\"scale\":{\"domain\":[53.8,56.0]}}},\n",
    "            \"data\":{\"values\":[  {\"Survivors\":340000,\"Group\":1,\"Lat\":54.9,\"Long\":24.0,\"Direction\":\"A\"},\n",
    "                                {\"Survivors\":340000,\"Group\":1,\"Lat\":55.0,\"Long\":24.5,\"Direction\":\"A\"},\n",
    "                                {\"Survivors\":340000,\"Group\":1,\"Lat\":54.5,\"Long\":25.5,\"Direction\":\"A\"},\n",
    "                                {\"Survivors\":320000,\"Group\":1,\"Lat\":54.7,\"Long\":26.0,\"Direction\":\"A\"},\n",
    "                                {\"Survivors\":300000,\"Group\":1,\"Lat\":54.8,\"Long\":27.0,\"Direction\":\"A\"},\n",
    "                                {\"Survivors\":280000,\"Group\":1,\"Lat\":54.9,\"Long\":28.0,\"Direction\":\"A\"},\n",
    "                                {\"Survivors\":240000,\"Group\":1,\"Lat\":55.0,\"Long\":28.5,\"Direction\":\"A\"},\n",
    "                                {\"Survivors\":210000,\"Group\":1,\"Lat\":55.1,\"Long\":29.0,\"Direction\":\"A\"},\n",
    "                                {\"Survivors\":180000,\"Group\":1,\"Lat\":55.2,\"Long\":30.0,\"Direction\":\"A\"},\n",
    "                                {\"Survivors\":175000,\"Group\":1,\"Lat\":55.3,\"Long\":30.3,\"Direction\":\"A\"},\n",
    "                                {\"Survivors\":145000,\"Group\":1,\"Lat\":54.8,\"Long\":32.0,\"Direction\":\"A\"},\n",
    "                                {\"Survivors\":140000,\"Group\":1,\"Lat\":54.9,\"Long\":33.2,\"Direction\":\"A\"},\n",
    "                                {\"Survivors\":127100,\"Group\":1,\"Lat\":55.5,\"Long\":34.4,\"Direction\":\"A\"},\n",
    "                                {\"Survivors\":100000,\"Group\":1,\"Lat\":55.4,\"Long\":35.5,\"Direction\":\"A\"},\n",
    "                                {\"Survivors\":100000,\"Group\":1,\"Lat\":55.5,\"Long\":36.0,\"Direction\":\"A\"},\n",
    "                                {\"Survivors\":100000,\"Group\":1,\"Lat\":55.8,\"Long\":37.6,\"Direction\":\"A\"},\n",
    "                                {\"Survivors\":100000,\"Group\":1,\"Lat\":55.7,\"Long\":37.7,\"Direction\":\"R\"},\n",
    "                                {\"Survivors\":98000,\"Group\":1,\"Lat\":55.7,\"Long\":37.5,\"Direction\":\"R\"},\n",
    "                                {\"Survivors\":97000,\"Group\":1,\"Lat\":55.0,\"Long\":37.0,\"Direction\":\"R\"},\n",
    "                                {\"Survivors\":96000,\"Group\":1,\"Lat\":55.0,\"Long\":36.8,\"Direction\":\"R\"},\n",
    "                                {\"Survivors\":87000,\"Group\":1,\"Lat\":55.3,\"Long\":35.4,\"Direction\":\"R\"},\n",
    "                                {\"Survivors\":55000,\"Group\":1,\"Lat\":55.2,\"Long\":34.3,\"Direction\":\"R\"},\n",
    "                                {\"Survivors\":37000,\"Group\":1,\"Lat\":54.8,\"Long\":33.3,\"Direction\":\"R\"},\n",
    "                                {\"Survivors\":24000,\"Group\":1,\"Lat\":54.6,\"Long\":32.0,\"Direction\":\"R\"},\n",
    "                                {\"Survivors\":20000,\"Group\":1,\"Lat\":54.4,\"Long\":30.4,\"Direction\":\"R\"},\n",
    "                                {\"Survivors\":20000,\"Group\":1,\"Lat\":54.3,\"Long\":29.2,\"Direction\":\"R\"},\n",
    "                                {\"Survivors\":20000,\"Group\":1,\"Lat\":54.2,\"Long\":28.5,\"Direction\":\"R\"},\n",
    "                                {\"Survivors\":20000,\"Group\":1,\"Lat\":54.3,\"Long\":28.3,\"Direction\":\"R\"},\n",
    "                                {\"Survivors\":20000,\"Group\":1,\"Lat\":54.5,\"Long\":27.5,\"Direction\":\"R\"},\n",
    "                                {\"Survivors\":12000,\"Group\":1,\"Lat\":54.3,\"Long\":26.8,\"Direction\":\"R\"},\n",
    "                                {\"Survivors\":14000,\"Group\":1,\"Lat\":54.4,\"Long\":26.4,\"Direction\":\"R\"},\n",
    "                                {\"Survivors\":8000,\"Group\":1,\"Lat\":54.4,\"Long\":25.0,\"Direction\":\"R\"},\n",
    "                                {\"Survivors\":4000,\"Group\":1,\"Lat\":54.4,\"Long\":24.4,\"Direction\":\"R\"},\n",
    "                                {\"Survivors\":4000,\"Group\":1,\"Lat\":54.4,\"Long\":24.2,\"Direction\":\"R\"},\n",
    "                                {\"Survivors\":4000,\"Group\":1,\"Lat\":54.4,\"Long\":24.1,\"Direction\":\"R\"},\n",
    "                                {\"Survivors\":60000,\"Group\":2,\"Lat\":55.1,\"Long\":24.0,\"Direction\":\"A\"},\n",
    "                                {\"Survivors\":60000,\"Group\":2,\"Lat\":55.2,\"Long\":24.5,\"Direction\":\"A\"},\n",
    "                                {\"Survivors\":60000,\"Group\":2,\"Lat\":54.7,\"Long\":25.5,\"Direction\":\"A\"},\n",
    "                                {\"Survivors\":40000,\"Group\":2,\"Lat\":55.7,\"Long\":26.6,\"Direction\":\"A\"},\n",
    "                                {\"Survivors\":33000,\"Group\":2,\"Lat\":55.6,\"Long\":27.4,\"Direction\":\"A\"},\n",
    "                                {\"Survivors\":33000,\"Group\":2,\"Lat\":55.5,\"Long\":28.7,\"Direction\":\"A\"},\n",
    "                                {\"Survivors\":33000,\"Group\":2,\"Lat\":55.5,\"Long\":28.7,\"Direction\":\"R\"},\n",
    "                                {\"Survivors\":30000,\"Group\":2,\"Lat\":54.2,\"Long\":29.2,\"Direction\":\"R\"},\n",
    "                                {\"Survivors\":30000,\"Group\":2,\"Lat\":54.1,\"Long\":28.5,\"Direction\":\"R\"},\n",
    "                                {\"Survivors\":28000,\"Group\":2,\"Lat\":54.2,\"Long\":28.3,\"Direction\":\"R\"},\n",
    "                                {\"Survivors\":22000,\"Group\":3,\"Lat\":55.2,\"Long\":24.0,\"Direction\":\"A\"},\n",
    "                                {\"Survivors\":22000,\"Group\":3,\"Lat\":55.3,\"Long\":24.5,\"Direction\":\"A\"},\n",
    "                                {\"Survivors\":6000,\"Group\":3,\"Lat\":55.8,\"Long\":24.6,\"Direction\":\"A\"},\n",
    "                                {\"Survivors\":6000,\"Group\":3,\"Lat\":55.8,\"Long\":24.6,\"Direction\":\"R\"},\n",
    "                                {\"Survivors\":6000,\"Group\":3,\"Lat\":54.4,\"Long\":24.2,\"Direction\":\"R\"},\n",
    "                                {\"Survivors\":6000,\"Group\":3,\"Lat\":54.4,\"Long\":24.1,\"Direction\":\"R\"}]},\n",
    "            \"mark\":{\"point\":true,\"clip\":true,\"type\":\"trail\"}},\n",
    "\n",
    "        {\"encoding\":\n",
    "            {\"x\":{\"field\":\"Long\",\"type\":\"quantitative\",\"scale\":{\"domain\":[23,39]}},\n",
    "            \"size\":{\"value\":10},\n",
    "            \"text\":{\"field\":\"City\",\"type\":\"nominal\"},\n",
    "            \"y\":{\"field\":\"Lat\",\"type\":\"quantitative\",\n",
    "            \"scale\":{\"domain\":[53.8,56.0]}}},\n",
    "            \"data\":{\"values\":[  {\"City\":\"Kowno\",\"Lat\":55.0,\"Long\":24.0},\n",
    "                                {\"City\":\"Wilna\",\"Lat\":54.7,\"Long\":25.3},\n",
    "                                {\"City\":\"Smorgoni\",\"Lat\":54.4,\"Long\":26.4},\n",
    "                                {\"City\":\"Moiodexno\",\"Lat\":54.3,\"Long\":26.8},\n",
    "                                {\"City\":\"Gloubokoe\",\"Lat\":55.2,\"Long\":27.7},\n",
    "                                {\"City\":\"Minsk\",\"Lat\":53.9,\"Long\":27.6},\n",
    "                                {\"City\":\"Studienska\",\"Lat\":54.3,\"Long\":28.5},\n",
    "                                {\"City\":\"Polotzk\",\"Lat\":55.5,\"Long\":28.7},\n",
    "                                {\"City\":\"Bobr\",\"Lat\":54.4,\"Long\":29.2},\n",
    "                                {\"City\":\"Witebsk\",\"Lat\":55.3,\"Long\":30.2},\n",
    "                                {\"City\":\"Orscha\",\"Lat\":54.5,\"Long\":30.4},\n",
    "                                {\"City\":\"Mohilow\",\"Lat\":53.9,\"Long\":30.4},\n",
    "                                {\"City\":\"Smolensk\",\"Lat\":54.8,\"Long\":32.0},\n",
    "                                {\"City\":\"Dorogobouge\",\"Lat\":54.9,\"Long\":33.2},\n",
    "                                {\"City\":\"Wixma\",\"Lat\":55.2,\"Long\":34.3},\n",
    "                                {\"City\":\"Chjat\",\"Lat\":55.5,\"Long\":34.4},\n",
    "                                {\"City\":\"Mojaisk\",\"Lat\":55.5,\"Long\":36.0},\n",
    "                                {\"City\":\"Moscou\",\"Lat\":55.8,\"Long\":37.6},\n",
    "                                {\"City\":\"Tarantino\",\"Lat\":55.3,\"Long\":36.6},\n",
    "                                {\"City\":\"Malo-Jarosewii\",\"Lat\":55.0,\"Long\":36.5}]},\n",
    "            \"mark\":{\"type\":\"text\"}}],\"width\":800},\n",
    "\n",
    "        {\"height\":100,\"layer\":[\n",
    "                                {\"encoding\":\n",
    "                                    {\"x\":{\"field\":\"Long\",\"type\":\"quantitative\",\n",
    "                                    \"scale\":{\"domain\":[23,39]}},\n",
    "                                    \"y\":{\"field\":\"Temp\",\"type\":\"quantitative\",\"scale\":{\"domain\":[-31,5]}}},\n",
    "                                    \"data\":{\"values\":[  {\"Days\":6,\"Long\":37.6,\"Date\":\"Oct18\",\"Temp\":0},\n",
    "                                                        {\"Days\":6,\"Long\":36.0,\"Date\":\"Oct24\",\"Temp\":0},\n",
    "                                                        {\"Days\":16,\"Long\":33.2,\"Date\":\"Nov09\",\"Temp\":-9},\n",
    "                                                        {\"Days\":5,\"Long\":32.0,\"Date\":\"Nov14\",\"Temp\":-21},\n",
    "                                                        {\"Days\":10,\"Long\":29.2,\"Date\":null,\"Temp\":-11},\n",
    "                                                        {\"Days\":4,\"Long\":28.5,\"Date\":\"Nov28\",\"Temp\":-20},\n",
    "                                                        {\"Days\":3,\"Long\":27.2,\"Date\":\"Dec01\",\"Temp\":-24},\n",
    "                                                        {\"Days\":5,\"Long\":26.7,\"Date\":\"Dec06\",\"Temp\":-30},\n",
    "                                                        {\"Days\":1,\"Long\":25.3,\"Date\":\"Dec07\",\"Temp\":-26}]},\n",
    "                                    \"mark\":{\"point\":{\"fill\":\"black\"},\"clip\":false,\"color\":\"black\",\"type\":\"line\"}},\n",
    "\n",
    "        {\"encoding\":\n",
    "            {\"x\":{\"field\":\"Long\",\"scale\":{\"domain\":[23,39]},\"type\":\"quantitative\"},\n",
    "            \"size\":{\"value\":8},\"text\":{\"field\":\"Date\",\"type\":\"nominal\"},\n",
    "            \"y\":{\"field\":\"Temp\",\"scale\":{\"domain\":[-31,5]},\"type\":\"quantitative\"}},\n",
    "                                    \"data\":{\"values\":[  {\"Days\":6,\"Long\":37.6,\"Date\":\"Oct18\",\"Temp\":0},\n",
    "                                                        {\"Days\":6,\"Long\":36.0,\"Date\":\"Oct24\",\"Temp\":0},\n",
    "                                                        {\"Days\":16,\"Long\":33.2,\"Date\":\"Nov09\",\"Temp\":-9},\n",
    "                                                        {\"Days\":5,\"Long\":32.0,\"Date\":\"Nov14\",\"Temp\":-21},\n",
    "                                                        {\"Days\":10,\"Long\":29.2,\"Date\":null,\"Temp\":-11},\n",
    "                                                        {\"Days\":4,\"Long\":28.5,\"Date\":\"Nov28\",\"Temp\":-20},\n",
    "                                                        {\"Days\":3,\"Long\":27.2,\"Date\":\"Dec01\",\"Temp\":-24},\n",
    "                                                        {\"Days\":5,\"Long\":26.7,\"Date\":\"Dec06\",\"Temp\":-30},\n",
    "                                                        {\"Days\":1,\"Long\":25.3,\"Date\":\"Dec07\",\"Temp\":-26}]},\n",
    "            \"mark\":{\"dy\":-10,\"type\":\"text\"},\n",
    "            \"transform\":[{\"filter\":\"datum.Date !== null\"}]}],\n",
    "    \"width\":800}]}\n",
    "\"\"\""
   ]
  },
  {
   "cell_type": "code",
   "execution_count": 521,
   "metadata": {},
   "outputs": [],
   "source": [
    "VegaLite.savespec(\"MinardGraphic.vegalite\", spec)"
   ]
  }
 ],
 "metadata": {
  "kernelspec": {
   "display_name": "JuliaML 1.5.2",
   "language": "julia",
   "name": "juliaml-1.5"
  },
  "language_info": {
   "file_extension": ".jl",
   "mimetype": "application/julia",
   "name": "julia",
   "version": "1.5.2"
  }
 },
 "nbformat": 4,
 "nbformat_minor": 4
}
