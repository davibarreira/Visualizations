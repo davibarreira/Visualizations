{
 "cells": [
  {
   "cell_type": "markdown",
   "metadata": {},
   "source": [
    "## Exercício 3 - Replicando o gráfico de Minard"
   ]
  },
  {
   "cell_type": "code",
   "execution_count": 76,
   "metadata": {},
   "outputs": [],
   "source": [
    "using DataFrames,Plots, VegaLite\n",
    "using FilePaths"
   ]
  },
  {
   "cell_type": "code",
   "execution_count": 77,
   "metadata": {},
   "outputs": [],
   "source": [
    "cities = readtable(\"city.txt\", separator= ' ');\n",
    "temp   = readtable(\"temp.txt\", separator= ' ');\n",
    "troops = readtable(\"troops.txt\", separator= ' ');"
   ]
  },
  {
   "cell_type": "code",
   "execution_count": 238,
   "metadata": {},
   "outputs": [
    {
     "data": {
      "application/vnd.vegalite.v3+json": {
       "data": {
        "values": [
         {
          "direc": "A",
          "division": 1,
          "latp": 54.9,
          "lonp": 24,
          "surviv": 340000
         },
         {
          "direc": "A",
          "division": 1,
          "latp": 55,
          "lonp": 24.5,
          "surviv": 340000
         },
         {
          "direc": "A",
          "division": 1,
          "latp": 54.5,
          "lonp": 25.5,
          "surviv": 340000
         },
         {
          "direc": "A",
          "division": 1,
          "latp": 54.7,
          "lonp": 26,
          "surviv": 320000
         },
         {
          "direc": "A",
          "division": 1,
          "latp": 54.8,
          "lonp": 27,
          "surviv": 300000
         },
         {
          "direc": "A",
          "division": 1,
          "latp": 54.9,
          "lonp": 28,
          "surviv": 280000
         },
         {
          "direc": "A",
          "division": 1,
          "latp": 55,
          "lonp": 28.5,
          "surviv": 240000
         },
         {
          "direc": "A",
          "division": 1,
          "latp": 55.1,
          "lonp": 29,
          "surviv": 210000
         },
         {
          "direc": "A",
          "division": 1,
          "latp": 55.2,
          "lonp": 30,
          "surviv": 180000
         },
         {
          "direc": "A",
          "division": 1,
          "latp": 55.3,
          "lonp": 30.3,
          "surviv": 175000
         },
         {
          "direc": "A",
          "division": 1,
          "latp": 54.8,
          "lonp": 32,
          "surviv": 145000
         },
         {
          "direc": "A",
          "division": 1,
          "latp": 54.9,
          "lonp": 33.2,
          "surviv": 140000
         },
         {
          "direc": "A",
          "division": 1,
          "latp": 55.5,
          "lonp": 34.4,
          "surviv": 127100
         },
         {
          "direc": "A",
          "division": 1,
          "latp": 55.4,
          "lonp": 35.5,
          "surviv": 100000
         },
         {
          "direc": "A",
          "division": 1,
          "latp": 55.5,
          "lonp": 36,
          "surviv": 100000
         },
         {
          "direc": "R",
          "division": 1,
          "latp": 55.8,
          "lonp": 37.6,
          "surviv": 100000
         },
         {
          "direc": "R",
          "division": 1,
          "latp": 55.7,
          "lonp": 37.5,
          "surviv": 98000
         },
         {
          "direc": "R",
          "division": 1,
          "latp": 55,
          "lonp": 37,
          "surviv": 97000
         },
         {
          "direc": "R",
          "division": 1,
          "latp": 55,
          "lonp": 36.8,
          "surviv": 96000
         },
         {
          "direc": "R",
          "division": 1,
          "latp": 55.3,
          "lonp": 35.4,
          "surviv": 87000
         },
         {
          "direc": "R",
          "division": 1,
          "latp": 55.2,
          "lonp": 34.3,
          "surviv": 55000
         },
         {
          "direc": "R",
          "division": 1,
          "latp": 54.8,
          "lonp": 33.3,
          "surviv": 37000
         },
         {
          "direc": "R",
          "division": 1,
          "latp": 54.6,
          "lonp": 32,
          "surviv": 24000
         },
         {
          "direc": "R",
          "division": 1,
          "latp": 54.4,
          "lonp": 30.4,
          "surviv": 20000
         },
         {
          "direc": "R",
          "division": 1,
          "latp": 54.4,
          "lonp": 29.2,
          "surviv": 20000
         },
         {
          "direc": "R",
          "division": 1,
          "latp": 54.3,
          "lonp": 28.5,
          "surviv": 20000
         },
         {
          "direc": "R",
          "division": 1,
          "latp": 54.4,
          "lonp": 28.3,
          "surviv": 20000
         },
         {
          "direc": "A",
          "division": 2,
          "latp": 55.1,
          "lonp": 24,
          "surviv": 60000
         },
         {
          "direc": "A",
          "division": 2,
          "latp": 55.2,
          "lonp": 24.5,
          "surviv": 60000
         },
         {
          "direc": "A",
          "division": 2,
          "latp": 54.7,
          "lonp": 25.5,
          "surviv": 60000
         },
         {
          "direc": "A",
          "division": 2,
          "latp": 55.7,
          "lonp": 26.6,
          "surviv": 40000
         },
         {
          "direc": "A",
          "division": 2,
          "latp": 55.6,
          "lonp": 27.4,
          "surviv": 33000
         },
         {
          "direc": "R",
          "division": 2,
          "latp": 55.5,
          "lonp": 28.7,
          "surviv": 30000
         },
         {
          "direc": "R",
          "division": 2,
          "latp": 54.3,
          "lonp": 29.2,
          "surviv": 30000
         },
         {
          "direc": "R",
          "division": 2,
          "latp": 54.2,
          "lonp": 28.5,
          "surviv": 30000
         },
         {
          "direc": "R",
          "division": 2,
          "latp": 54.3,
          "lonp": 28.3,
          "surviv": 28000
         },
         {
          "direc": "R",
          "division": 2,
          "latp": 54.5,
          "lonp": 27.5,
          "surviv": 20000
         },
         {
          "direc": "R",
          "division": 2,
          "latp": 54.3,
          "lonp": 26.8,
          "surviv": 12000
         },
         {
          "direc": "R",
          "division": 2,
          "latp": 54.4,
          "lonp": 26.4,
          "surviv": 14000
         },
         {
          "direc": "R",
          "division": 2,
          "latp": 54.5,
          "lonp": 24.6,
          "surviv": 8000
         },
         {
          "direc": "R",
          "division": 2,
          "latp": 54.4,
          "lonp": 24.4,
          "surviv": 4000
         },
         {
          "direc": "R",
          "division": 2,
          "latp": 54.4,
          "lonp": 24.2,
          "surviv": 4000
         },
         {
          "direc": "R",
          "division": 2,
          "latp": 54.3,
          "lonp": 24.1,
          "surviv": 4000
         },
         {
          "direc": "A",
          "division": 3,
          "latp": 55.2,
          "lonp": 24,
          "surviv": 22000
         },
         {
          "direc": "A",
          "division": 3,
          "latp": 55.3,
          "lonp": 24.5,
          "surviv": 22000
         },
         {
          "direc": "R",
          "division": 3,
          "latp": 55.8,
          "lonp": 24.6,
          "surviv": 6000
         },
         {
          "direc": "R",
          "division": 3,
          "latp": 54.4,
          "lonp": 24.2,
          "surviv": 6000
         },
         {
          "direc": "R",
          "division": 3,
          "latp": 54.3,
          "lonp": 24.1,
          "surviv": 6000
         }
        ]
       },
       "encoding": {
        "color": {
         "field": "direc",
         "type": "nominal"
        },
        "detail": {
         "field": "division",
         "type": "nominal"
        },
        "latitude": {
         "field": "latp",
         "type": "quantitative"
        },
        "longitude": {
         "field": "lonp",
         "type": "quantitative"
        },
        "size": {
         "field": "surviv",
         "scale": {
          "domain": [
           1,
           50000
          ]
         },
         "type": "quantitative"
        }
       },
       "height": 300,
       "mark": {
        "clip": true,
        "point": false,
        "type": "trail"
       },
       "width": 500
      },
      "image/png": "[encoded data removed]",
      "image/svg+xml": [
       "<svg class=\"marks\" width=\"575\" height=\"310\" viewBox=\"0 0 575 310\" version=\"1.1\" xmlns=\"http://www.w3.org/2000/svg\" xmlns:xlink=\"http://www.w3.org/1999/xlink\"><defs><clipPath id=\"clip1\"><rect x=\"0\" y=\"0\" width=\"500\" height=\"300\"></rect></clipPath><clipPath id=\"clip2\"><rect x=\"0\" y=\"0\" width=\"500\" height=\"300\"></rect></clipPath><clipPath id=\"clip3\"><rect x=\"0\" y=\"0\" width=\"500\" height=\"300\"></rect></clipPath><clipPath id=\"clip4\"><rect x=\"0\" y=\"0\" width=\"500\" height=\"300\"></rect></clipPath><clipPath id=\"clip5\"><rect x=\"0\" y=\"0\" width=\"500\" height=\"300\"></rect></clipPath><clipPath id=\"clip6\"><rect x=\"0\" y=\"0\" width=\"500\" height=\"300\"></rect></clipPath></defs><g transform=\"translate(5,5)\"><g class=\"mark-group role-frame root\"><g transform=\"translate(0,0)\"><path class=\"background\" d=\"M0.5,0.5h500v300h-500Z\" style=\"fill: none; stroke: #ddd;\"></path><g><g class=\"mark-group role-scope pathgroup\"><g transform=\"translate(0,0)\"><path class=\"background\" d=\"M0,0h500v300h-500Z\" style=\"fill: none;\"></path><g><g class=\"mark-trail role-mark marks\" clip-path=\"url(#clip1)\"><path d=\"M-3.519100156075386,146.80822811073077L14.863252785101079,140.40646916131018A10.70017400348007,10.70017400348007,0,1,1,21.90145309725185,160.61633386113053L3.519100156075386,167.0180928105511A10.70017400348007,10.70017400348007,0,0,1,-3.519100156075391,146.80822811073077ZM25.388746691846144,142.42411702782746L62.15345257419907,174.27510558502226A10.70017400348007,10.70017400348007,0,1,1,48.14066507285971,190.44967455180804L11.375959190506785,158.59868599461325A10.70017400348007,10.70017400348007,0,1,1,25.388746691846144,142.42411702782746ZM49.06710159235952,173.55740035962526L67.79038798924078,161.3578917553158A10.100162003240065,10.100162003240065,0,1,1,79.26843554017115,177.98039200002506L61.22701605469926,191.16737977720504A10.70017400348007,10.70017400348007,0,1,1,49.06710159235953,173.55740035962526ZM71.80508162567463,159.7172597409426L108.67222336751786,153.9383623978117A9.50015000300006,9.50015000300006,0,1,1,111.91601192659971,172.65972015044215L75.2537419037373,179.62102401439824A10.100162003240065,10.100162003240065,0,1,1,71.80508162567463,159.7172597409426ZM108.66832308806954,153.93903902351485L145.5357111643889,148.1443187360066A8.900138002760055,8.900138002760055,0,1,1,148.5819358944345,165.68200218527528L111.91991220604802,172.659043524739A9.50015000300006,9.50015000300006,0,1,1,108.66832308806954,153.93903902351485ZM144.13172374351862,148.50812962716992L162.90874359815007,143.23963835537543A7.700114002280046,7.700114002280046,0,1,1,167.9736093430265,157.78316466706528L149.9859233153048,165.31819129411195A8.900138002760055,8.900138002760055,0,0,1,144.13172374351862,148.50812962716992ZM162.9031092965556,143.2416029811229L181.58212098097624,137.67358826584A6.800096001920037,6.800096001920037,0,1,1,186.0649378425535,150.51374307514328L167.97924364462096,157.78120004131782A7.700114002280046,7.700114002280046,0,0,1,162.9031092965556,143.24160298112292ZM182.6513285874823,137.3953635824338L219.57117960919675,131.84809645329292A5.900078001560031,5.900078001560031,0,1,1,221.6052909790384,143.47161023497924L184.99573023604742,150.7919677585495A6.800096001920037,6.800096001920037,0,1,1,182.6513285874823,137.3953635824338ZM217.6097890243823,132.56674248310108L228.71492451271686,126.24623997537229A5.75007500150003,5.75007500150003,0,1,1,234.52036960492998,136.17348820299313L223.56668156385282,142.75296420517108A5.900078001560031,5.900078001560031,0,1,1,217.6097890243823,132.56674248310108ZM234.2439573902685,126.0946068555902L296.332879870025,158.9844385686065A4.850057001140023,4.850057001140023,0,1,1,291.9024142476223,167.61364397964735L228.99133672737835,136.3251213227752A5.75007500150003,5.75007500150003,0,1,1,234.2439573902685,126.0946068555902ZM293.4228583772862,158.4990077740027L337.5619939230726,152.26158282922876A4.700054001080021,4.700054001080021,0,1,1,338.90859431222157,161.56473809205312L294.8124357403611,168.09907477425114A4.850057001140023,4.850057001140023,0,1,1,293.4228583772862,158.4990077740027ZM335.13805142565064,153.3779666441801L379.5107289361806,115.01684674326155A4.313046260925218,4.313046260925218,0,1,1,385.1951534167604,121.50505069505813L341.3325368096435,160.44835427710177A4.700054001080021,4.700054001080021,0,1,1,335.13805142565064,153.3779666441801ZM383.0355997361662,114.00226989354324L423.34809395395536,121.28768568857757A3.5000300006000122,3.5000300006000122,0,1,1,422.2401413401622,128.1995075197585L381.6702826167748,122.51962754477644A4.313046260925218,4.313046260925218,0,1,1,383.0355997361662,114.00226989354324ZM421.63007419536365,121.44280687326032L440.0124271365402,114.96015898825213A3.5000300006000122,3.5000300006000122,0,1,1,442.3405140399305,121.56173845006755L423.9581610987539,128.04438633507573A3.5000300006000122,3.5000300006000122,0,0,1,421.63007419536365,121.44280687326032Z\" style=\"fill: #4c78a8;\"></path></g></g></g><g transform=\"translate(0,0)\"><path class=\"background\" d=\"M0,0h500v300h-500Z\" style=\"fill: none;\"></path><g><g class=\"mark-trail role-mark marks\" clip-path=\"url(#clip2)\"><path d=\"M503.05014352084606,100.43032236979327L499.3213841603819,106.93330495314605A3.4400288005760116,3.4400288005760116,0,1,1,493.3256746631478,103.55889237909012L496.94985647915394,96.99705307808851A3.5000300006000122,3.5000300006000122,0,1,1,503.05014352084606,100.43032236979327ZM499.5107650173518,106.5404430342332L481.1006160936151,151.79445786114823A3.4100282005640112,3.4100282005640112,0,0,1,474.7817368475615,149.22834516129248L493.13629380617795,103.95175429800297A3.4400288005760116,3.4400288005760116,0,1,1,499.5107650173518,106.5404430342332ZM477.9411764705883,153.92142971178436L470.5882352941178,153.89142911177237A3.380027600552011,3.380027600552011,0,1,1,470.5882352941178,147.13137391066834L477.9411764705883,147.10137331065636A3.4100282005640112,3.4100282005640112,0,1,1,477.9411764705883,153.92142971178436ZM469.40142476752726,153.6762186235457L418.025642045369,134.12186737521193A3.110022200444009,3.110022200444009,0,1,1,420.20965207227783,128.29786080315347L471.7750458207083,147.346584398895A3.380027600552011,3.380027600552011,0,1,1,469.40142476752726,153.6762186235457ZM419.60747567254424,134.28107004392345L379.01509614173267,139.7830221162278A2.1500030000600012,2.1500030000600012,0,0,1,378.3378450347376,135.53668457204435L418.6278184451026,128.13865813444195A3.110022200444009,3.110022200444009,0,1,1,419.60747567254424,134.28107004392345ZM379.9063204994436,139.42336747681762L342.83271633430746,164.6196180351141A1.609992199843997,1.609992199843997,0,1,1,340.99081307745695,161.97846451313976L377.44662067702666,135.89633921145455A2.1500030000600012,2.1500030000600012,0,1,1,379.9063204994436,139.42336747681762ZM342.325974086449,164.85483864930436L294.43151751269596,177.20247721739025A1.2199843996879938,1.2199843996879938,0,0,1,293.80377660495134,174.84464153722246L341.49755532531543,161.7432438989495A1.609992199843997,1.609992199843997,0,1,1,342.325974086449,164.85483864930436ZM294.37437660596635,177.2162252463183L235.52559427963288,189.7610800705381A1.0999819996399929,1.0999819996399929,0,0,1,235.06264101448468,187.6103788192211L293.86091751168095,174.83089350829442A1.2199843996879938,1.2199843996879938,0,1,1,294.37437660596635,177.2162252463183ZM235.29411764705878,189.7857114445196L191.17647058823536,189.7857114445196A1.0999819996399929,1.0999819996399929,0,1,1,191.17647058823536,187.5857474452396L235.29411764705878,187.5857474452396A1.0999819996399929,1.0999819996399929,0,1,1,235.29411764705878,189.7857114445196ZM191.4383342436226,189.7540869812499L165.70304012597552,196.06202974450142A1.0999819996399929,1.0999819996399929,0,1,1,165.17931281520106,193.9253146717608L190.91460693284813,187.61737190850928A1.0999819996399929,1.0999819996399929,0,1,1,191.4383342436226,189.7540869812499ZM164.7249628667928,195.82853655236332L157.3720216903223,189.5205937891118A1.0999819996399929,1.0999819996399929,0,1,1,158.8044488979133,187.85086510064738L166.15739007438378,194.1588078638989A1.0999819996399929,1.0999819996399929,0,1,1,164.7249628667928,195.82853655236332Z\" style=\"fill: #f58518;\"></path></g></g></g><g transform=\"translate(0,0)\"><path class=\"background\" d=\"M0,0h500v300h-500Z\" style=\"fill: none;\"></path><g><g class=\"mark-trail role-mark marks\" clip-path=\"url(#clip3)\"><path d=\"M-0.7598067803665043,141.92278537505914L17.62254616080996,135.48897304870357A2.3000060001200024,2.3000060001200024,0,1,1,19.142159721542967,139.8307336395686L0.7598067803665043,146.26454596592416A2.3000060001200024,2.3000060001200024,0,1,1,-0.7598067803665037,141.92278537505914ZM19.89264176311542,135.92519047345652L56.65734764546835,167.93447900699087A2.3000060001200024,2.3000060001200024,0,1,1,53.636770001590435,171.40380474834998L16.872064119237507,139.39451621481564A2.3000060001200024,2.3000060001200024,0,0,1,19.89264176311542,135.92519047345652ZM53.1990637729206,168.44629974419954L94.14842170334526,104.34226437629775A1.6999939998799976,1.6999939998799976,0,1,1,97.0280488848901,106.14993295593843L57.09505387413818,170.89198401114132A2.3000060001200024,2.3000060001200024,0,1,1,53.1990637729206,168.44629974419954ZM95.9559278569545,103.58634513656544L125.32227064808839,110.30709705755427A1.4899897997959959,1.4899897997959959,0,1,1,124.67772935191161,113.21653771367826L95.22054273128086,106.90585219567073A1.6999939998799976,1.6999939998799976,0,1,1,95.9559278569545,103.58634513656544Z\" style=\"fill: #4c78a8;\"></path></g></g></g><g transform=\"translate(0,0)\"><path class=\"background\" d=\"M0,0h500v300h-500Z\" style=\"fill: none;\"></path><g><g class=\"mark-trail role-mark marks\" clip-path=\"url(#clip4)\"><path d=\"M174.15558297178023,117.93479144259973L192.5379359129568,194.667514931571A1.3999879997599953,1.3999879997599953,0,1,1,189.8150052635139,195.3198294846912L171.43265232233733,118.58710599571995A1.3999879997599953,1.3999879997599953,0,0,1,174.15558297178023,117.93479144259973ZM191.5089913397139,196.35359733449215L165.77369722206683,202.64623740242016A1.3999879997599953,1.3999879997599953,0,1,1,165.10865571910972,199.92638714969806L190.84394983675682,193.63374708177005A1.3999879997599953,1.3999879997599953,0,1,1,191.50899133971393,196.35359733449215ZM164.5309006090614,202.3499683555291L157.21697236988314,196.01174172457917A1.3399867997359947,1.3399867997359947,0,1,1,158.95949821835245,193.97560269168304L166.35145233211517,200.2226561965891A1.3999879997599953,1.3999879997599953,0,1,1,164.5309006090614,202.3499683555291ZM157.55946076432414,196.22491634318646L128.24240477150053,183.37310628292565A1.0999819996399929,1.0999819996399929,0,1,1,129.11053640496996,181.35167385390466L158.61700982391145,193.76242807307574A1.3399867997359947,1.3399867997359947,0,1,1,157.55946076432414,196.22491634318646ZM129.16112872168597,183.34984482343538L103.32008716592463,195.76567445469206A0.8599771995439909,0.8599771995439909,0,1,1,102.56226577525172,194.22166996157014L128.19181245478453,181.37493531339493A1.0999819996399929,1.0999819996399929,0,1,1,129.16112872168597,183.34984482343538ZM102.60216870475898,195.7840104385382L87.87263354709458,189.53121011659144A0.9199783995679913,0.9199783995679913,0,1,1,88.59795468819934,187.84024877316776L103.28018423641737,194.20333397772401A0.8599771995439909,0.8599771995439909,0,1,1,102.60216870475898,195.7840104385382ZM88.14778629173202,189.6015365403289L21.988437544299412,183.09900972399657A0.7399747994959899,0.7399747994959899,0,0,1,22.129209514524238,181.62577041283373L88.3228019435619,187.7699223494303A0.9199783995679913,0.9199783995679913,0,1,1,88.14778629173202,189.6015365403289ZM22.541307821266695,182.9234351753383L15.11012171936408,189.15578934607439A0.619972399447989,0.619972399447989,0,1,1,14.301642986518125,188.2156695436848L21.576339237556954,181.801344961492A0.7399747994959899,0.7399747994959899,0,1,1,22.541307821266695,182.9234351753383ZM14.705882352941103,189.3057018443276L7.352941176470495,189.3057018443276A0.619972399447989,0.619972399447989,0,1,1,7.352941176470495,188.0657570454316L14.705882352941103,188.0657570454316A0.619972399447989,0.619972399447989,0,1,1,14.705882352941103,189.3057018443276ZM7.888577102255799,188.99791517659298L4.2121065140206655,195.3058579398445A0.619972399447989,0.619972399447989,0,1,1,3.1408346624500565,194.68148647641772L6.81730525068519,188.3735437131662A0.619972399447989,0.619972399447989,0,1,1,7.888577102255799,188.99791517659298Z\" style=\"fill: #f58518;\"></path></g></g></g><g transform=\"translate(0,0)\"><path class=\"background\" d=\"M0,0h500v300h-500Z\" style=\"fill: none;\"></path><g><g class=\"mark-trail role-mark marks\" clip-path=\"url(#clip5)\"><path d=\"M-0.38405835070794786,136.56529397765374L17.998294590468515,130.11530472270036A1.1599831996639933,1.1599831996639933,0,1,1,18.766411291884413,132.30442345566505L0.38405835070794786,138.75441271061842A1.1599831996639933,1.1599831996639933,0,1,1,-0.38405835070794836,136.56529397765374Z\" style=\"fill: #4c78a8;\"></path></g></g></g><g transform=\"translate(0,0)\"><path class=\"background\" d=\"M0,0h500v300h-500Z\" style=\"fill: none;\"></path><g><g class=\"mark-trail role-mark marks\" clip-path=\"url(#clip6)\"><path d=\"M22.72989216868002,98.82337353601166L8.02400981573869,188.79541525695038A0.6799735994719894,0.6799735994719894,0,0,1,6.681872537202298,188.57604363280882L21.38775489014363,98.60400191187013A0.6799735994719894,0.6799735994719894,0,1,1,22.72989216868002,98.82337353601166ZM7.940416181465939,189.02812864827308L4.2639455932308055,195.33607141152459A0.6799735994719894,0.6799735994719894,0,1,1,3.0889955832399165,194.65127300473762L6.76546617147505,188.34333024148611A0.6799735994719894,0.6799735994719894,0,1,1,7.940416181465939,189.02812864827308Z\" style=\"fill: #f58518;\"></path></g></g></g></g><g class=\"mark-group role-legend\"><g transform=\"translate(518,0)\"><path class=\"background\" d=\"M0,0h31v40h-31Z\" style=\"pointer-events: none; fill: none;\"></path><g><g class=\"mark-group role-legend-entry\"><g transform=\"translate(0,16)\"><path class=\"background\" d=\"M0,0h0v0h0Z\" style=\"pointer-events: none; fill: none;\"></path><g><g class=\"mark-group role-scope\"><g transform=\"translate(0,0)\"><path class=\"background\" d=\"M0,0h23v11h-23Z\" style=\"pointer-events: none; fill: none; opacity: 1;\"></path><g><g class=\"mark-symbol role-legend-symbol\" style=\"pointer-events: none;\"><path transform=\"translate(6,6)\" d=\"M5,0A5,5,0,1,1,-5,0A5,5,0,1,1,5,0\" style=\"fill: #4c78a8; stroke-width: 1.5; opacity: 1;\"></path></g><g class=\"mark-text role-legend-label\" style=\"pointer-events: none;\"><text text-anchor=\"start\" transform=\"translate(16,9)\" style=\"font-family: sans-serif; font-size: 10px; fill: #000; opacity: 1;\">A</text></g></g></g><g transform=\"translate(0,13)\"><path class=\"background\" d=\"M0,0h23v11h-23Z\" style=\"pointer-events: none; fill: none; opacity: 1;\"></path><g><g class=\"mark-symbol role-legend-symbol\" style=\"pointer-events: none;\"><path transform=\"translate(6,6)\" d=\"M5,0A5,5,0,1,1,-5,0A5,5,0,1,1,5,0\" style=\"fill: #f58518; stroke-width: 1.5; opacity: 1;\"></path></g><g class=\"mark-text role-legend-label\" style=\"pointer-events: none;\"><text text-anchor=\"start\" transform=\"translate(16,9)\" style=\"font-family: sans-serif; font-size: 10px; fill: #000; opacity: 1;\">R</text></g></g></g></g></g></g></g><g class=\"mark-text role-legend-title\" style=\"pointer-events: none;\"><text text-anchor=\"start\" transform=\"translate(0,9)\" style=\"font-family: sans-serif; font-size: 11px; font-weight: bold; fill: #000; opacity: 1;\">direc</text></g></g></g></g><g class=\"mark-group role-legend\"><g transform=\"translate(518,48)\"><path class=\"background\" d=\"M0,0h47v74h-47Z\" style=\"pointer-events: none; fill: none;\"></path><g><g class=\"mark-group role-legend-entry\"><g transform=\"translate(0,16)\"><path class=\"background\" d=\"M0,0h0v0h0Z\" style=\"pointer-events: none; fill: none;\"></path><g><g class=\"mark-group role-scope\"><g transform=\"translate(0,0)\"><path class=\"background\" d=\"M0,0h47v10h-47Z\" style=\"pointer-events: none; fill: none; opacity: 1;\"></path><g><g class=\"mark-symbol role-legend-symbol\" style=\"pointer-events: none;\"><path transform=\"translate(5,5)\" d=\"M0.6324460449397997,0A0.6324460449397997,0.6324460449397997,0,1,1,-0.6324460449397997,0A0.6324460449397997,0.6324460449397997,0,1,1,0.6324460449397997,0\" style=\"fill: black; fill-opacity: 1; stroke: none; stroke-width: 1.5; opacity: 1;\"></path></g><g class=\"mark-text role-legend-label\" style=\"pointer-events: none;\"><text text-anchor=\"start\" transform=\"translate(14,8)\" style=\"font-family: sans-serif; font-size: 10px; fill: #000; opacity: 1;\">10,000</text></g></g></g><g transform=\"translate(0,12)\"><path class=\"background\" d=\"M0,0h47v10h-47Z\" style=\"pointer-events: none; fill: none; opacity: 1;\"></path><g><g class=\"mark-symbol role-legend-symbol\" style=\"pointer-events: none;\"><path transform=\"translate(5,5)\" d=\"M0.7416137807646217,0A0.7416137807646217,0.7416137807646217,0,1,1,-0.7416137807646217,0A0.7416137807646217,0.7416137807646217,0,1,1,0.7416137807646217,0\" style=\"fill: black; fill-opacity: 1; stroke: none; stroke-width: 1.5; opacity: 1;\"></path></g><g class=\"mark-text role-legend-label\" style=\"pointer-events: none;\"><text text-anchor=\"start\" transform=\"translate(14,8)\" style=\"font-family: sans-serif; font-size: 10px; fill: #000; opacity: 1;\">20,000</text></g></g></g><g transform=\"translate(0,24)\"><path class=\"background\" d=\"M0,0h47v10h-47Z\" style=\"pointer-events: none; fill: none; opacity: 1;\"></path><g><g class=\"mark-symbol role-legend-symbol\" style=\"pointer-events: none;\"><path transform=\"translate(5,5)\" d=\"M0.8366564407688485,0A0.8366564407688485,0.8366564407688485,0,1,1,-0.8366564407688485,0A0.8366564407688485,0.8366564407688485,0,1,1,0.8366564407688485,0\" style=\"fill: black; fill-opacity: 1; stroke: none; stroke-width: 1.5; opacity: 1;\"></path></g><g class=\"mark-text role-legend-label\" style=\"pointer-events: none;\"><text text-anchor=\"start\" transform=\"translate(14,8)\" style=\"font-family: sans-serif; font-size: 10px; fill: #000; opacity: 1;\">30,000</text></g></g></g><g transform=\"translate(0,36)\"><path class=\"background\" d=\"M0,0h47v10h-47Z\" style=\"pointer-events: none; fill: none; opacity: 1;\"></path><g><g class=\"mark-symbol role-legend-symbol\" style=\"pointer-events: none;\"><path transform=\"translate(5,5)\" d=\"M0.9219528187168792,0A0.9219528187168792,0.9219528187168792,0,1,1,-0.9219528187168792,0A0.9219528187168792,0.9219528187168792,0,1,1,0.9219528187168792,0\" style=\"fill: black; fill-opacity: 1; stroke: none; stroke-width: 1.5; opacity: 1;\"></path></g><g class=\"mark-text role-legend-label\" style=\"pointer-events: none;\"><text text-anchor=\"start\" transform=\"translate(14,8)\" style=\"font-family: sans-serif; font-size: 10px; fill: #000; opacity: 1;\">40,000</text></g></g></g><g transform=\"translate(0,48)\"><path class=\"background\" d=\"M0,0h47v10h-47Z\" style=\"pointer-events: none; fill: none; opacity: 1;\"></path><g><g class=\"mark-symbol role-legend-symbol\" style=\"pointer-events: none;\"><path transform=\"translate(5,5)\" d=\"M1,0A1,1,0,1,1,-1,0A1,1,0,1,1,1,0\" style=\"fill: black; fill-opacity: 1; stroke: none; stroke-width: 1.5; opacity: 1;\"></path></g><g class=\"mark-text role-legend-label\" style=\"pointer-events: none;\"><text text-anchor=\"start\" transform=\"translate(14,8)\" style=\"font-family: sans-serif; font-size: 10px; fill: #000; opacity: 1;\">50,000</text></g></g></g></g></g></g></g><g class=\"mark-text role-legend-title\" style=\"pointer-events: none;\"><text text-anchor=\"start\" transform=\"translate(0,9)\" style=\"font-family: sans-serif; font-size: 11px; font-weight: bold; fill: #000; opacity: 1;\">surviv</text></g></g></g></g></g></g></g></g></svg>"
      ],
      "text/plain": [
       "VegaLite.VLSpec{:plot}"
      ]
     },
     "execution_count": 238,
     "metadata": {},
     "output_type": "execute_result"
    }
   ],
   "source": [
    "troops |>\n",
    "@vlplot(\n",
    "    mark={:trail,point=false,clip=true},\n",
    "    width=500, height=300,\n",
    "    longitude=\"lonp:q\",\n",
    "    latitude=\"latp:q\",\n",
    "    size = {\"surviv:q\", scale={\"domain\" = [1,50_000]}},\n",
    "    color=\"direc:n\",\n",
    "    detail=\"division:n\",\n",
    ")"
   ]
  },
  {
   "cell_type": "code",
   "execution_count": 78,
   "metadata": {},
   "outputs": [
    {
     "data": {
      "text/html": [
       "<table class=\"data-frame\"><thead><tr><th></th><th>lonc</th><th>latc</th><th>city</th></tr><tr><th></th><th>Float64⍰</th><th>Float64⍰</th><th>String⍰</th></tr></thead><tbody><p>5 rows × 3 columns</p><tr><th>1</th><td>24.0</td><td>55.0</td><td>Kowno</td></tr><tr><th>2</th><td>25.3</td><td>54.7</td><td>Wilna</td></tr><tr><th>3</th><td>26.4</td><td>54.4</td><td>Smorgoni</td></tr><tr><th>4</th><td>26.8</td><td>54.3</td><td>Molodexno</td></tr><tr><th>5</th><td>27.7</td><td>55.2</td><td>Gloubokoe</td></tr></tbody></table>"
      ],
      "text/latex": [
       "\\begin{tabular}{r|ccc}\n",
       "\t& lonc & latc & city\\\\\n",
       "\t\\hline\n",
       "\t& Float64⍰ & Float64⍰ & String⍰\\\\\n",
       "\t\\hline\n",
       "\t1 & 24.0 & 55.0 & Kowno \\\\\n",
       "\t2 & 25.3 & 54.7 & Wilna \\\\\n",
       "\t3 & 26.4 & 54.4 & Smorgoni \\\\\n",
       "\t4 & 26.8 & 54.3 & Molodexno \\\\\n",
       "\t5 & 27.7 & 55.2 & Gloubokoe \\\\\n",
       "\\end{tabular}\n"
      ],
      "text/plain": [
       "5×3 DataFrame\n",
       "│ Row │ lonc     │ latc     │ city      │\n",
       "│     │ \u001b[90mFloat64⍰\u001b[39m │ \u001b[90mFloat64⍰\u001b[39m │ \u001b[90mString⍰\u001b[39m   │\n",
       "├─────┼──────────┼──────────┼───────────┤\n",
       "│ 1   │ 24.0     │ 55.0     │ Kowno     │\n",
       "│ 2   │ 25.3     │ 54.7     │ Wilna     │\n",
       "│ 3   │ 26.4     │ 54.4     │ Smorgoni  │\n",
       "│ 4   │ 26.8     │ 54.3     │ Molodexno │\n",
       "│ 5   │ 27.7     │ 55.2     │ Gloubokoe │"
      ]
     },
     "execution_count": 78,
     "metadata": {},
     "output_type": "execute_result"
    }
   ],
   "source": [
    "first(cities,5)"
   ]
  },
  {
   "cell_type": "code",
   "execution_count": 79,
   "metadata": {},
   "outputs": [
    {
     "data": {
      "text/html": [
       "<table class=\"data-frame\"><thead><tr><th></th><th>lont</th><th>temp</th><th>days</th><th>date_month</th><th>date_day</th></tr><tr><th></th><th>Float64⍰</th><th>Int64⍰</th><th>Int64⍰</th><th>String⍰</th><th>String⍰</th></tr></thead><tbody><p>5 rows × 5 columns</p><tr><th>1</th><td>37.6</td><td>0</td><td>6</td><td>Oct</td><td>18</td></tr><tr><th>2</th><td>36.0</td><td>0</td><td>6</td><td>Oct</td><td>24</td></tr><tr><th>3</th><td>33.2</td><td>-9</td><td>16</td><td>Nov</td><td>9</td></tr><tr><th>4</th><td>32.0</td><td>-21</td><td>5</td><td>Nov</td><td>14</td></tr><tr><th>5</th><td>29.2</td><td>-11</td><td>10</td><td>NULL</td><td>NULL</td></tr></tbody></table>"
      ],
      "text/latex": [
       "\\begin{tabular}{r|ccccc}\n",
       "\t& lont & temp & days & date\\_month & date\\_day\\\\\n",
       "\t\\hline\n",
       "\t& Float64⍰ & Int64⍰ & Int64⍰ & String⍰ & String⍰\\\\\n",
       "\t\\hline\n",
       "\t1 & 37.6 & 0 & 6 & Oct & 18 \\\\\n",
       "\t2 & 36.0 & 0 & 6 & Oct & 24 \\\\\n",
       "\t3 & 33.2 & -9 & 16 & Nov & 9 \\\\\n",
       "\t4 & 32.0 & -21 & 5 & Nov & 14 \\\\\n",
       "\t5 & 29.2 & -11 & 10 & NULL & NULL \\\\\n",
       "\\end{tabular}\n"
      ],
      "text/plain": [
       "5×5 DataFrame\n",
       "│ Row │ lont     │ temp   │ days   │ date_month │ date_day │\n",
       "│     │ \u001b[90mFloat64⍰\u001b[39m │ \u001b[90mInt64⍰\u001b[39m │ \u001b[90mInt64⍰\u001b[39m │ \u001b[90mString⍰\u001b[39m    │ \u001b[90mString⍰\u001b[39m  │\n",
       "├─────┼──────────┼────────┼────────┼────────────┼──────────┤\n",
       "│ 1   │ 37.6     │ 0      │ 6      │ Oct        │ 18       │\n",
       "│ 2   │ 36.0     │ 0      │ 6      │ Oct        │ 24       │\n",
       "│ 3   │ 33.2     │ -9     │ 16     │ Nov        │ 9        │\n",
       "│ 4   │ 32.0     │ -21    │ 5      │ Nov        │ 14       │\n",
       "│ 5   │ 29.2     │ -11    │ 10     │ NULL       │ NULL     │"
      ]
     },
     "execution_count": 79,
     "metadata": {},
     "output_type": "execute_result"
    }
   ],
   "source": [
    "first(temp,5)"
   ]
  },
  {
   "cell_type": "code",
   "execution_count": 80,
   "metadata": {},
   "outputs": [
    {
     "data": {
      "text/html": [
       "<table class=\"data-frame\"><thead><tr><th></th><th>lonp</th><th>latp</th><th>surviv</th><th>direc</th><th>division</th></tr><tr><th></th><th>Float64⍰</th><th>Float64⍰</th><th>Int64⍰</th><th>String⍰</th><th>Int64⍰</th></tr></thead><tbody><p>5 rows × 5 columns</p><tr><th>1</th><td>24.0</td><td>54.9</td><td>340000</td><td>A</td><td>1</td></tr><tr><th>2</th><td>24.5</td><td>55.0</td><td>340000</td><td>A</td><td>1</td></tr><tr><th>3</th><td>25.5</td><td>54.5</td><td>340000</td><td>A</td><td>1</td></tr><tr><th>4</th><td>26.0</td><td>54.7</td><td>320000</td><td>A</td><td>1</td></tr><tr><th>5</th><td>27.0</td><td>54.8</td><td>300000</td><td>A</td><td>1</td></tr></tbody></table>"
      ],
      "text/latex": [
       "\\begin{tabular}{r|ccccc}\n",
       "\t& lonp & latp & surviv & direc & division\\\\\n",
       "\t\\hline\n",
       "\t& Float64⍰ & Float64⍰ & Int64⍰ & String⍰ & Int64⍰\\\\\n",
       "\t\\hline\n",
       "\t1 & 24.0 & 54.9 & 340000 & A & 1 \\\\\n",
       "\t2 & 24.5 & 55.0 & 340000 & A & 1 \\\\\n",
       "\t3 & 25.5 & 54.5 & 340000 & A & 1 \\\\\n",
       "\t4 & 26.0 & 54.7 & 320000 & A & 1 \\\\\n",
       "\t5 & 27.0 & 54.8 & 300000 & A & 1 \\\\\n",
       "\\end{tabular}\n"
      ],
      "text/plain": [
       "5×5 DataFrame\n",
       "│ Row │ lonp     │ latp     │ surviv │ direc   │ division │\n",
       "│     │ \u001b[90mFloat64⍰\u001b[39m │ \u001b[90mFloat64⍰\u001b[39m │ \u001b[90mInt64⍰\u001b[39m │ \u001b[90mString⍰\u001b[39m │ \u001b[90mInt64⍰\u001b[39m   │\n",
       "├─────┼──────────┼──────────┼────────┼─────────┼──────────┤\n",
       "│ 1   │ 24.0     │ 54.9     │ 340000 │ A       │ 1        │\n",
       "│ 2   │ 24.5     │ 55.0     │ 340000 │ A       │ 1        │\n",
       "│ 3   │ 25.5     │ 54.5     │ 340000 │ A       │ 1        │\n",
       "│ 4   │ 26.0     │ 54.7     │ 320000 │ A       │ 1        │\n",
       "│ 5   │ 27.0     │ 54.8     │ 300000 │ A       │ 1        │"
      ]
     },
     "execution_count": 80,
     "metadata": {},
     "output_type": "execute_result"
    }
   ],
   "source": [
    "first(troops,5)"
   ]
  },
  {
   "cell_type": "code",
   "execution_count": 91,
   "metadata": {},
   "outputs": [
    {
     "data": {
      "application/vnd.vegalite.v3+json": {
       "data": {
        "values": [
         {
          "direc": "A",
          "division": 1,
          "latp": 54.9,
          "lonp": 24,
          "surviv": 340000
         },
         {
          "direc": "A",
          "division": 1,
          "latp": 55,
          "lonp": 24.5,
          "surviv": 340000
         },
         {
          "direc": "A",
          "division": 1,
          "latp": 54.5,
          "lonp": 25.5,
          "surviv": 340000
         },
         {
          "direc": "A",
          "division": 1,
          "latp": 54.7,
          "lonp": 26,
          "surviv": 320000
         },
         {
          "direc": "A",
          "division": 1,
          "latp": 54.8,
          "lonp": 27,
          "surviv": 300000
         },
         {
          "direc": "A",
          "division": 1,
          "latp": 54.9,
          "lonp": 28,
          "surviv": 280000
         },
         {
          "direc": "A",
          "division": 1,
          "latp": 55,
          "lonp": 28.5,
          "surviv": 240000
         },
         {
          "direc": "A",
          "division": 1,
          "latp": 55.1,
          "lonp": 29,
          "surviv": 210000
         },
         {
          "direc": "A",
          "division": 1,
          "latp": 55.2,
          "lonp": 30,
          "surviv": 180000
         },
         {
          "direc": "A",
          "division": 1,
          "latp": 55.3,
          "lonp": 30.3,
          "surviv": 175000
         },
         {
          "direc": "A",
          "division": 1,
          "latp": 54.8,
          "lonp": 32,
          "surviv": 145000
         },
         {
          "direc": "A",
          "division": 1,
          "latp": 54.9,
          "lonp": 33.2,
          "surviv": 140000
         },
         {
          "direc": "A",
          "division": 1,
          "latp": 55.5,
          "lonp": 34.4,
          "surviv": 127100
         },
         {
          "direc": "A",
          "division": 1,
          "latp": 55.4,
          "lonp": 35.5,
          "surviv": 100000
         },
         {
          "direc": "A",
          "division": 1,
          "latp": 55.5,
          "lonp": 36,
          "surviv": 100000
         },
         {
          "direc": "R",
          "division": 1,
          "latp": 55.8,
          "lonp": 37.6,
          "surviv": 100000
         },
         {
          "direc": "R",
          "division": 1,
          "latp": 55.7,
          "lonp": 37.5,
          "surviv": 98000
         },
         {
          "direc": "R",
          "division": 1,
          "latp": 55,
          "lonp": 37,
          "surviv": 97000
         },
         {
          "direc": "R",
          "division": 1,
          "latp": 55,
          "lonp": 36.8,
          "surviv": 96000
         },
         {
          "direc": "R",
          "division": 1,
          "latp": 55.3,
          "lonp": 35.4,
          "surviv": 87000
         },
         {
          "direc": "R",
          "division": 1,
          "latp": 55.2,
          "lonp": 34.3,
          "surviv": 55000
         },
         {
          "direc": "R",
          "division": 1,
          "latp": 54.8,
          "lonp": 33.3,
          "surviv": 37000
         },
         {
          "direc": "R",
          "division": 1,
          "latp": 54.6,
          "lonp": 32,
          "surviv": 24000
         },
         {
          "direc": "R",
          "division": 1,
          "latp": 54.4,
          "lonp": 30.4,
          "surviv": 20000
         },
         {
          "direc": "R",
          "division": 1,
          "latp": 54.4,
          "lonp": 29.2,
          "surviv": 20000
         },
         {
          "direc": "R",
          "division": 1,
          "latp": 54.3,
          "lonp": 28.5,
          "surviv": 20000
         },
         {
          "direc": "R",
          "division": 1,
          "latp": 54.4,
          "lonp": 28.3,
          "surviv": 20000
         },
         {
          "direc": "A",
          "division": 2,
          "latp": 55.1,
          "lonp": 24,
          "surviv": 60000
         },
         {
          "direc": "A",
          "division": 2,
          "latp": 55.2,
          "lonp": 24.5,
          "surviv": 60000
         },
         {
          "direc": "A",
          "division": 2,
          "latp": 54.7,
          "lonp": 25.5,
          "surviv": 60000
         },
         {
          "direc": "A",
          "division": 2,
          "latp": 55.7,
          "lonp": 26.6,
          "surviv": 40000
         },
         {
          "direc": "A",
          "division": 2,
          "latp": 55.6,
          "lonp": 27.4,
          "surviv": 33000
         },
         {
          "direc": "R",
          "division": 2,
          "latp": 55.5,
          "lonp": 28.7,
          "surviv": 30000
         },
         {
          "direc": "R",
          "division": 2,
          "latp": 54.3,
          "lonp": 29.2,
          "surviv": 30000
         },
         {
          "direc": "R",
          "division": 2,
          "latp": 54.2,
          "lonp": 28.5,
          "surviv": 30000
         },
         {
          "direc": "R",
          "division": 2,
          "latp": 54.3,
          "lonp": 28.3,
          "surviv": 28000
         },
         {
          "direc": "R",
          "division": 2,
          "latp": 54.5,
          "lonp": 27.5,
          "surviv": 20000
         },
         {
          "direc": "R",
          "division": 2,
          "latp": 54.3,
          "lonp": 26.8,
          "surviv": 12000
         },
         {
          "direc": "R",
          "division": 2,
          "latp": 54.4,
          "lonp": 26.4,
          "surviv": 14000
         },
         {
          "direc": "R",
          "division": 2,
          "latp": 54.5,
          "lonp": 24.6,
          "surviv": 8000
         },
         {
          "direc": "R",
          "division": 2,
          "latp": 54.4,
          "lonp": 24.4,
          "surviv": 4000
         },
         {
          "direc": "R",
          "division": 2,
          "latp": 54.4,
          "lonp": 24.2,
          "surviv": 4000
         },
         {
          "direc": "R",
          "division": 2,
          "latp": 54.3,
          "lonp": 24.1,
          "surviv": 4000
         },
         {
          "direc": "A",
          "division": 3,
          "latp": 55.2,
          "lonp": 24,
          "surviv": 22000
         },
         {
          "direc": "A",
          "division": 3,
          "latp": 55.3,
          "lonp": 24.5,
          "surviv": 22000
         },
         {
          "direc": "R",
          "division": 3,
          "latp": 55.8,
          "lonp": 24.6,
          "surviv": 6000
         },
         {
          "direc": "R",
          "division": 3,
          "latp": 54.4,
          "lonp": 24.2,
          "surviv": 6000
         },
         {
          "direc": "R",
          "division": 3,
          "latp": 54.3,
          "lonp": 24.1,
          "surviv": 6000
         }
        ]
       },
       "encoding": {
        "color": {
         "field": "direc",
         "type": "nominal"
        },
        "detail": {
         "field": "division",
         "type": "nominal"
        },
        "latitude": {
         "field": "latp",
         "type": "quantitative"
        },
        "longitude": {
         "field": "lonp",
         "type": "quantitative"
        }
       },
       "height": 300,
       "mark": {
        "point": true,
        "type": "line"
       },
       "width": 500
      },
      "image/png": "[encoded data removed]",
      "image/svg+xml": [
       "<svg class=\"marks\" width=\"564\" height=\"310\" viewBox=\"0 0 564 310\" version=\"1.1\" xmlns=\"http://www.w3.org/2000/svg\" xmlns:xlink=\"http://www.w3.org/1999/xlink\"><g transform=\"translate(8,5)\"><g class=\"mark-group role-frame root\"><g transform=\"translate(0,0)\"><path class=\"background\" d=\"M0.5,0.5h500v300h-500Z\" style=\"fill: none; stroke: #ddd;\"></path><g><g class=\"mark-group role-scope layer_0_pathgroup\"><g transform=\"translate(0,0)\"><path class=\"background\" d=\"M0,0h500v300h-500Z\" style=\"fill: none;\"></path><g><g class=\"mark-line role-mark layer_0_marks\"><path d=\"M0,156.91316046064094L18.382352941176464,150.51140151122036L55.14705882352939,182.36239006841515L73.52941176470597,169.66914187767043L110.29411764705878,163.29904127412692L147.0588235294117,156.91316046064094L165.4411764705883,150.51140151122036L183.82352941176487,144.09366567049165L220.58823529411757,137.65985334413608L231.61764705882342,131.2098640891827L294.11764705882365,163.29904127412692L338.2352941176471,156.91316046064094L382.3529411764705,118.26094871915984L422.7941176470588,124.74359660416803L441.17647058823536,118.26094871915984\" style=\"fill: none; stroke: #4c78a8; stroke-width: 2;\"></path></g></g></g><g transform=\"translate(0,0)\"><path class=\"background\" d=\"M0,0h500v300h-500Z\" style=\"fill: none;\"></path><g><g class=\"mark-line role-mark layer_0_marks\"><path d=\"M500,98.7136877239409L496.32352941176487,105.24609866611809L477.9411764705883,150.51140151122036L470.5882352941178,150.51140151122036L419.1176470588234,131.2098640891827L378.67647058823513,137.65985334413608L341.9117647058822,163.29904127412692L294.11764705882365,176.02355937730636L235.29411764705878,188.6857294448796L191.17647058823536,188.6857294448796L165.4411764705883,194.9936722081311L158.0882352941178,188.6857294448796\" style=\"fill: none; stroke: #f58518; stroke-width: 2;\"></path></g></g></g><g transform=\"translate(0,0)\"><path class=\"background\" d=\"M0,0h500v300h-500Z\" style=\"fill: none;\"></path><g><g class=\"mark-line role-mark layer_0_marks\"><path d=\"M0,144.09366567049165L18.382352941176464,137.65985334413608L55.14705882352939,169.66914187767043L95.58823529411768,105.24609866611809L125,111.76181738561627\" style=\"fill: none; stroke: #4c78a8; stroke-width: 2;\"></path></g></g></g><g transform=\"translate(0,0)\"><path class=\"background\" d=\"M0,0h500v300h-500Z\" style=\"fill: none;\"></path><g><g class=\"mark-line role-mark layer_0_marks\"><path d=\"M172.79411764705878,118.26094871915984L191.17647058823536,194.9936722081311L165.4411764705883,201.2863122760591L158.0882352941178,194.9936722081311L128.67647058823525,182.36239006841515L102.94117647058818,194.9936722081311L88.23529411764696,188.6857294448796L22.058823529411825,182.36239006841515L14.705882352941103,188.6857294448796L7.352941176470495,188.6857294448796L3.676470588235361,194.9936722081311\" style=\"fill: none; stroke: #f58518; stroke-width: 2;\"></path></g></g></g><g transform=\"translate(0,0)\"><path class=\"background\" d=\"M0,0h500v300h-500Z\" style=\"fill: none;\"></path><g><g class=\"mark-line role-mark layer_0_marks\"><path d=\"M0,137.65985334413608L18.382352941176464,131.2098640891827\" style=\"fill: none; stroke: #4c78a8; stroke-width: 2;\"></path></g></g></g><g transform=\"translate(0,0)\"><path class=\"background\" d=\"M0,0h500v300h-500Z\" style=\"fill: none;\"></path><g><g class=\"mark-line role-mark layer_0_marks\"><path d=\"M22.058823529411825,98.7136877239409L7.352941176470495,188.6857294448796L3.676470588235361,194.9936722081311\" style=\"fill: none; stroke: #f58518; stroke-width: 2;\"></path></g></g></g></g><g class=\"mark-symbol role-mark layer_1_marks\"><path transform=\"translate(0,156.91316046064094)\" d=\"M2.7386127875258306,0A2.7386127875258306,2.7386127875258306,0,1,1,-2.7386127875258306,0A2.7386127875258306,2.7386127875258306,0,1,1,2.7386127875258306,0\" style=\"fill: #4c78a8; stroke-width: 2; opacity: 1;\"></path><path transform=\"translate(18.382352941176464,150.51140151122036)\" d=\"M2.7386127875258306,0A2.7386127875258306,2.7386127875258306,0,1,1,-2.7386127875258306,0A2.7386127875258306,2.7386127875258306,0,1,1,2.7386127875258306,0\" style=\"fill: #4c78a8; stroke-width: 2; opacity: 1;\"></path><path transform=\"translate(55.14705882352939,182.36239006841515)\" d=\"M2.7386127875258306,0A2.7386127875258306,2.7386127875258306,0,1,1,-2.7386127875258306,0A2.7386127875258306,2.7386127875258306,0,1,1,2.7386127875258306,0\" style=\"fill: #4c78a8; stroke-width: 2; opacity: 1;\"></path><path transform=\"translate(73.52941176470597,169.66914187767043)\" d=\"M2.7386127875258306,0A2.7386127875258306,2.7386127875258306,0,1,1,-2.7386127875258306,0A2.7386127875258306,2.7386127875258306,0,1,1,2.7386127875258306,0\" style=\"fill: #4c78a8; stroke-width: 2; opacity: 1;\"></path><path transform=\"translate(110.29411764705878,163.29904127412692)\" d=\"M2.7386127875258306,0A2.7386127875258306,2.7386127875258306,0,1,1,-2.7386127875258306,0A2.7386127875258306,2.7386127875258306,0,1,1,2.7386127875258306,0\" style=\"fill: #4c78a8; stroke-width: 2; opacity: 1;\"></path><path transform=\"translate(147.0588235294117,156.91316046064094)\" d=\"M2.7386127875258306,0A2.7386127875258306,2.7386127875258306,0,1,1,-2.7386127875258306,0A2.7386127875258306,2.7386127875258306,0,1,1,2.7386127875258306,0\" style=\"fill: #4c78a8; stroke-width: 2; opacity: 1;\"></path><path transform=\"translate(165.4411764705883,150.51140151122036)\" d=\"M2.7386127875258306,0A2.7386127875258306,2.7386127875258306,0,1,1,-2.7386127875258306,0A2.7386127875258306,2.7386127875258306,0,1,1,2.7386127875258306,0\" style=\"fill: #4c78a8; stroke-width: 2; opacity: 1;\"></path><path transform=\"translate(183.82352941176487,144.09366567049165)\" d=\"M2.7386127875258306,0A2.7386127875258306,2.7386127875258306,0,1,1,-2.7386127875258306,0A2.7386127875258306,2.7386127875258306,0,1,1,2.7386127875258306,0\" style=\"fill: #4c78a8; stroke-width: 2; opacity: 1;\"></path><path transform=\"translate(220.58823529411757,137.65985334413608)\" d=\"M2.7386127875258306,0A2.7386127875258306,2.7386127875258306,0,1,1,-2.7386127875258306,0A2.7386127875258306,2.7386127875258306,0,1,1,2.7386127875258306,0\" style=\"fill: #4c78a8; stroke-width: 2; opacity: 1;\"></path><path transform=\"translate(231.61764705882342,131.2098640891827)\" d=\"M2.7386127875258306,0A2.7386127875258306,2.7386127875258306,0,1,1,-2.7386127875258306,0A2.7386127875258306,2.7386127875258306,0,1,1,2.7386127875258306,0\" style=\"fill: #4c78a8; stroke-width: 2; opacity: 1;\"></path><path transform=\"translate(294.11764705882365,163.29904127412692)\" d=\"M2.7386127875258306,0A2.7386127875258306,2.7386127875258306,0,1,1,-2.7386127875258306,0A2.7386127875258306,2.7386127875258306,0,1,1,2.7386127875258306,0\" style=\"fill: #4c78a8; stroke-width: 2; opacity: 1;\"></path><path transform=\"translate(338.2352941176471,156.91316046064094)\" d=\"M2.7386127875258306,0A2.7386127875258306,2.7386127875258306,0,1,1,-2.7386127875258306,0A2.7386127875258306,2.7386127875258306,0,1,1,2.7386127875258306,0\" style=\"fill: #4c78a8; stroke-width: 2; opacity: 1;\"></path><path transform=\"translate(382.3529411764705,118.26094871915984)\" d=\"M2.7386127875258306,0A2.7386127875258306,2.7386127875258306,0,1,1,-2.7386127875258306,0A2.7386127875258306,2.7386127875258306,0,1,1,2.7386127875258306,0\" style=\"fill: #4c78a8; stroke-width: 2; opacity: 1;\"></path><path transform=\"translate(422.7941176470588,124.74359660416803)\" d=\"M2.7386127875258306,0A2.7386127875258306,2.7386127875258306,0,1,1,-2.7386127875258306,0A2.7386127875258306,2.7386127875258306,0,1,1,2.7386127875258306,0\" style=\"fill: #4c78a8; stroke-width: 2; opacity: 1;\"></path><path transform=\"translate(441.17647058823536,118.26094871915984)\" d=\"M2.7386127875258306,0A2.7386127875258306,2.7386127875258306,0,1,1,-2.7386127875258306,0A2.7386127875258306,2.7386127875258306,0,1,1,2.7386127875258306,0\" style=\"fill: #4c78a8; stroke-width: 2; opacity: 1;\"></path><path transform=\"translate(500,98.7136877239409)\" d=\"M2.7386127875258306,0A2.7386127875258306,2.7386127875258306,0,1,1,-2.7386127875258306,0A2.7386127875258306,2.7386127875258306,0,1,1,2.7386127875258306,0\" style=\"fill: #f58518; stroke-width: 2; opacity: 1;\"></path><path transform=\"translate(496.32352941176487,105.24609866611809)\" d=\"M2.7386127875258306,0A2.7386127875258306,2.7386127875258306,0,1,1,-2.7386127875258306,0A2.7386127875258306,2.7386127875258306,0,1,1,2.7386127875258306,0\" style=\"fill: #f58518; stroke-width: 2; opacity: 1;\"></path><path transform=\"translate(477.9411764705883,150.51140151122036)\" d=\"M2.7386127875258306,0A2.7386127875258306,2.7386127875258306,0,1,1,-2.7386127875258306,0A2.7386127875258306,2.7386127875258306,0,1,1,2.7386127875258306,0\" style=\"fill: #f58518; stroke-width: 2; opacity: 1;\"></path><path transform=\"translate(470.5882352941178,150.51140151122036)\" d=\"M2.7386127875258306,0A2.7386127875258306,2.7386127875258306,0,1,1,-2.7386127875258306,0A2.7386127875258306,2.7386127875258306,0,1,1,2.7386127875258306,0\" style=\"fill: #f58518; stroke-width: 2; opacity: 1;\"></path><path transform=\"translate(419.1176470588234,131.2098640891827)\" d=\"M2.7386127875258306,0A2.7386127875258306,2.7386127875258306,0,1,1,-2.7386127875258306,0A2.7386127875258306,2.7386127875258306,0,1,1,2.7386127875258306,0\" style=\"fill: #f58518; stroke-width: 2; opacity: 1;\"></path><path transform=\"translate(378.67647058823513,137.65985334413608)\" d=\"M2.7386127875258306,0A2.7386127875258306,2.7386127875258306,0,1,1,-2.7386127875258306,0A2.7386127875258306,2.7386127875258306,0,1,1,2.7386127875258306,0\" style=\"fill: #f58518; stroke-width: 2; opacity: 1;\"></path><path transform=\"translate(341.9117647058822,163.29904127412692)\" d=\"M2.7386127875258306,0A2.7386127875258306,2.7386127875258306,0,1,1,-2.7386127875258306,0A2.7386127875258306,2.7386127875258306,0,1,1,2.7386127875258306,0\" style=\"fill: #f58518; stroke-width: 2; opacity: 1;\"></path><path transform=\"translate(294.11764705882365,176.02355937730636)\" d=\"M2.7386127875258306,0A2.7386127875258306,2.7386127875258306,0,1,1,-2.7386127875258306,0A2.7386127875258306,2.7386127875258306,0,1,1,2.7386127875258306,0\" style=\"fill: #f58518; stroke-width: 2; opacity: 1;\"></path><path transform=\"translate(235.29411764705878,188.6857294448796)\" d=\"M2.7386127875258306,0A2.7386127875258306,2.7386127875258306,0,1,1,-2.7386127875258306,0A2.7386127875258306,2.7386127875258306,0,1,1,2.7386127875258306,0\" style=\"fill: #f58518; stroke-width: 2; opacity: 1;\"></path><path transform=\"translate(191.17647058823536,188.6857294448796)\" d=\"M2.7386127875258306,0A2.7386127875258306,2.7386127875258306,0,1,1,-2.7386127875258306,0A2.7386127875258306,2.7386127875258306,0,1,1,2.7386127875258306,0\" style=\"fill: #f58518; stroke-width: 2; opacity: 1;\"></path><path transform=\"translate(165.4411764705883,194.9936722081311)\" d=\"M2.7386127875258306,0A2.7386127875258306,2.7386127875258306,0,1,1,-2.7386127875258306,0A2.7386127875258306,2.7386127875258306,0,1,1,2.7386127875258306,0\" style=\"fill: #f58518; stroke-width: 2; opacity: 1;\"></path><path transform=\"translate(158.0882352941178,188.6857294448796)\" d=\"M2.7386127875258306,0A2.7386127875258306,2.7386127875258306,0,1,1,-2.7386127875258306,0A2.7386127875258306,2.7386127875258306,0,1,1,2.7386127875258306,0\" style=\"fill: #f58518; stroke-width: 2; opacity: 1;\"></path><path transform=\"translate(0,144.09366567049165)\" d=\"M2.7386127875258306,0A2.7386127875258306,2.7386127875258306,0,1,1,-2.7386127875258306,0A2.7386127875258306,2.7386127875258306,0,1,1,2.7386127875258306,0\" style=\"fill: #4c78a8; stroke-width: 2; opacity: 1;\"></path><path transform=\"translate(18.382352941176464,137.65985334413608)\" d=\"M2.7386127875258306,0A2.7386127875258306,2.7386127875258306,0,1,1,-2.7386127875258306,0A2.7386127875258306,2.7386127875258306,0,1,1,2.7386127875258306,0\" style=\"fill: #4c78a8; stroke-width: 2; opacity: 1;\"></path><path transform=\"translate(55.14705882352939,169.66914187767043)\" d=\"M2.7386127875258306,0A2.7386127875258306,2.7386127875258306,0,1,1,-2.7386127875258306,0A2.7386127875258306,2.7386127875258306,0,1,1,2.7386127875258306,0\" style=\"fill: #4c78a8; stroke-width: 2; opacity: 1;\"></path><path transform=\"translate(95.58823529411768,105.24609866611809)\" d=\"M2.7386127875258306,0A2.7386127875258306,2.7386127875258306,0,1,1,-2.7386127875258306,0A2.7386127875258306,2.7386127875258306,0,1,1,2.7386127875258306,0\" style=\"fill: #4c78a8; stroke-width: 2; opacity: 1;\"></path><path transform=\"translate(125,111.76181738561627)\" d=\"M2.7386127875258306,0A2.7386127875258306,2.7386127875258306,0,1,1,-2.7386127875258306,0A2.7386127875258306,2.7386127875258306,0,1,1,2.7386127875258306,0\" style=\"fill: #4c78a8; stroke-width: 2; opacity: 1;\"></path><path transform=\"translate(172.79411764705878,118.26094871915984)\" d=\"M2.7386127875258306,0A2.7386127875258306,2.7386127875258306,0,1,1,-2.7386127875258306,0A2.7386127875258306,2.7386127875258306,0,1,1,2.7386127875258306,0\" style=\"fill: #f58518; stroke-width: 2; opacity: 1;\"></path><path transform=\"translate(191.17647058823536,194.9936722081311)\" d=\"M2.7386127875258306,0A2.7386127875258306,2.7386127875258306,0,1,1,-2.7386127875258306,0A2.7386127875258306,2.7386127875258306,0,1,1,2.7386127875258306,0\" style=\"fill: #f58518; stroke-width: 2; opacity: 1;\"></path><path transform=\"translate(165.4411764705883,201.2863122760591)\" d=\"M2.7386127875258306,0A2.7386127875258306,2.7386127875258306,0,1,1,-2.7386127875258306,0A2.7386127875258306,2.7386127875258306,0,1,1,2.7386127875258306,0\" style=\"fill: #f58518; stroke-width: 2; opacity: 1;\"></path><path transform=\"translate(158.0882352941178,194.9936722081311)\" d=\"M2.7386127875258306,0A2.7386127875258306,2.7386127875258306,0,1,1,-2.7386127875258306,0A2.7386127875258306,2.7386127875258306,0,1,1,2.7386127875258306,0\" style=\"fill: #f58518; stroke-width: 2; opacity: 1;\"></path><path transform=\"translate(128.67647058823525,182.36239006841515)\" d=\"M2.7386127875258306,0A2.7386127875258306,2.7386127875258306,0,1,1,-2.7386127875258306,0A2.7386127875258306,2.7386127875258306,0,1,1,2.7386127875258306,0\" style=\"fill: #f58518; stroke-width: 2; opacity: 1;\"></path><path transform=\"translate(102.94117647058818,194.9936722081311)\" d=\"M2.7386127875258306,0A2.7386127875258306,2.7386127875258306,0,1,1,-2.7386127875258306,0A2.7386127875258306,2.7386127875258306,0,1,1,2.7386127875258306,0\" style=\"fill: #f58518; stroke-width: 2; opacity: 1;\"></path><path transform=\"translate(88.23529411764696,188.6857294448796)\" d=\"M2.7386127875258306,0A2.7386127875258306,2.7386127875258306,0,1,1,-2.7386127875258306,0A2.7386127875258306,2.7386127875258306,0,1,1,2.7386127875258306,0\" style=\"fill: #f58518; stroke-width: 2; opacity: 1;\"></path><path transform=\"translate(22.058823529411825,182.36239006841515)\" d=\"M2.7386127875258306,0A2.7386127875258306,2.7386127875258306,0,1,1,-2.7386127875258306,0A2.7386127875258306,2.7386127875258306,0,1,1,2.7386127875258306,0\" style=\"fill: #f58518; stroke-width: 2; opacity: 1;\"></path><path transform=\"translate(14.705882352941103,188.6857294448796)\" d=\"M2.7386127875258306,0A2.7386127875258306,2.7386127875258306,0,1,1,-2.7386127875258306,0A2.7386127875258306,2.7386127875258306,0,1,1,2.7386127875258306,0\" style=\"fill: #f58518; stroke-width: 2; opacity: 1;\"></path><path transform=\"translate(7.352941176470495,188.6857294448796)\" d=\"M2.7386127875258306,0A2.7386127875258306,2.7386127875258306,0,1,1,-2.7386127875258306,0A2.7386127875258306,2.7386127875258306,0,1,1,2.7386127875258306,0\" style=\"fill: #f58518; stroke-width: 2; opacity: 1;\"></path><path transform=\"translate(3.676470588235361,194.9936722081311)\" d=\"M2.7386127875258306,0A2.7386127875258306,2.7386127875258306,0,1,1,-2.7386127875258306,0A2.7386127875258306,2.7386127875258306,0,1,1,2.7386127875258306,0\" style=\"fill: #f58518; stroke-width: 2; opacity: 1;\"></path><path transform=\"translate(0,137.65985334413608)\" d=\"M2.7386127875258306,0A2.7386127875258306,2.7386127875258306,0,1,1,-2.7386127875258306,0A2.7386127875258306,2.7386127875258306,0,1,1,2.7386127875258306,0\" style=\"fill: #4c78a8; stroke-width: 2; opacity: 1;\"></path><path transform=\"translate(18.382352941176464,131.2098640891827)\" d=\"M2.7386127875258306,0A2.7386127875258306,2.7386127875258306,0,1,1,-2.7386127875258306,0A2.7386127875258306,2.7386127875258306,0,1,1,2.7386127875258306,0\" style=\"fill: #4c78a8; stroke-width: 2; opacity: 1;\"></path><path transform=\"translate(22.058823529411825,98.7136877239409)\" d=\"M2.7386127875258306,0A2.7386127875258306,2.7386127875258306,0,1,1,-2.7386127875258306,0A2.7386127875258306,2.7386127875258306,0,1,1,2.7386127875258306,0\" style=\"fill: #f58518; stroke-width: 2; opacity: 1;\"></path><path transform=\"translate(7.352941176470495,188.6857294448796)\" d=\"M2.7386127875258306,0A2.7386127875258306,2.7386127875258306,0,1,1,-2.7386127875258306,0A2.7386127875258306,2.7386127875258306,0,1,1,2.7386127875258306,0\" style=\"fill: #f58518; stroke-width: 2; opacity: 1;\"></path><path transform=\"translate(3.676470588235361,194.9936722081311)\" d=\"M2.7386127875258306,0A2.7386127875258306,2.7386127875258306,0,1,1,-2.7386127875258306,0A2.7386127875258306,2.7386127875258306,0,1,1,2.7386127875258306,0\" style=\"fill: #f58518; stroke-width: 2; opacity: 1;\"></path></g><g class=\"mark-group role-legend\"><g transform=\"translate(520,0)\"><path class=\"background\" d=\"M0,0h31v45h-31Z\" style=\"pointer-events: none; fill: none;\"></path><g><g class=\"mark-group role-legend-entry\"><g transform=\"translate(0,16)\"><path class=\"background\" d=\"M0,0h0v0h0Z\" style=\"pointer-events: none; fill: none;\"></path><g><g class=\"mark-group role-scope\"><g transform=\"translate(0,0)\"><path class=\"background\" d=\"M0,0h23v12.5h-23Z\" style=\"pointer-events: none; fill: none; opacity: 1;\"></path><g><g class=\"mark-symbol role-legend-symbol\" style=\"pointer-events: none;\"><path transform=\"translate(6,6)\" d=\"M5,0A5,5,0,1,1,-5,0A5,5,0,1,1,5,0\" style=\"fill: #4c78a8; stroke: #4c78a8; stroke-width: 1.5; opacity: 1;\"></path></g><g class=\"mark-text role-legend-label\" style=\"pointer-events: none;\"><text text-anchor=\"start\" transform=\"translate(16,9)\" style=\"font-family: sans-serif; font-size: 10px; fill: #000; opacity: 1;\">A</text></g></g></g><g transform=\"translate(0,16)\"><path class=\"background\" d=\"M0,0h23v12.5h-23Z\" style=\"pointer-events: none; fill: none; opacity: 1;\"></path><g><g class=\"mark-symbol role-legend-symbol\" style=\"pointer-events: none;\"><path transform=\"translate(6,6)\" d=\"M5,0A5,5,0,1,1,-5,0A5,5,0,1,1,5,0\" style=\"fill: #f58518; stroke: #f58518; stroke-width: 1.5; opacity: 1;\"></path></g><g class=\"mark-text role-legend-label\" style=\"pointer-events: none;\"><text text-anchor=\"start\" transform=\"translate(16,9)\" style=\"font-family: sans-serif; font-size: 10px; fill: #000; opacity: 1;\">R</text></g></g></g></g></g></g></g><g class=\"mark-text role-legend-title\" style=\"pointer-events: none;\"><text text-anchor=\"start\" transform=\"translate(0,9)\" style=\"font-family: sans-serif; font-size: 11px; font-weight: bold; fill: #000; opacity: 1;\">direc</text></g></g></g></g></g></g></g></g></svg>"
      ],
      "text/plain": [
       "VegaLite.VLSpec{:plot}"
      ]
     },
     "execution_count": 91,
     "metadata": {},
     "output_type": "execute_result"
    }
   ],
   "source": [
    "troops |>\n",
    "@vlplot(\n",
    "    mark={:line,point=true},\n",
    "    width=500, height=300,\n",
    "    longitude=\"lonp:q\",\n",
    "    latitude=\"latp:q\",\n",
    "#     size=\"\",\n",
    "    color=\"direc:n\",\n",
    "    detail=\"division:n\",\n",
    "    \n",
    ")"
   ]
  }
 ],
 "metadata": {
  "kernelspec": {
   "display_name": "Julia 1.0.5",
   "language": "julia",
   "name": "julia-1.0"
  },
  "language_info": {
   "file_extension": ".jl",
   "mimetype": "application/julia",
   "name": "julia",
   "version": "1.0.5"
  }
 },
 "nbformat": 4,
 "nbformat_minor": 4
}
