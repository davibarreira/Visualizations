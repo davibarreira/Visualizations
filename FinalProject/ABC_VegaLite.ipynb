{
 "cells": [
  {
   "cell_type": "markdown",
   "metadata": {},
   "source": [
    "# Approximate Bayesian Computation"
   ]
  },
  {
   "cell_type": "code",
   "execution_count": 1,
   "metadata": {},
   "outputs": [
    {
     "data": {
      "text/plain": [
       "Plots.PyPlotBackend()"
      ]
     },
     "execution_count": 1,
     "metadata": {},
     "output_type": "execute_result"
    }
   ],
   "source": [
    "    using Distributions, StatsPlots, Plots, StatsBase, LinearAlgebra\n",
    "using LaTeXStrings\n",
    "using SymPy\n",
    "using VegaLite\n",
    "using DataFrames\n",
    "pyplot()"
   ]
  },
  {
   "cell_type": "code",
   "execution_count": 89,
   "metadata": {},
   "outputs": [],
   "source": [
    "n, x = 8, 6\n",
    "N = 1000\n",
    "\n",
    "# Sample θ' from prior π(θ)\n",
    "# Generate z from p(.|θ')\n",
    "theta_s = rand(Beta(1,1),N)\n",
    "z       = rand.(Binomial.(n,theta_s))\n",
    "theta_a = theta_s[z .== x];"
   ]
  },
  {
   "cell_type": "code",
   "execution_count": 90,
   "metadata": {},
   "outputs": [
    {
     "data": {
      "image/png": "[encoded data removed]"
     },
     "execution_count": 90,
     "metadata": {},
     "output_type": "execute_result"
    }
   ],
   "source": [
    "histogram(theta_a,normalize=true,alpha=0.5)\n",
    "plot!(Beta(x+1,n-x+1),label=L\"p(\\theta \\mid x)\")\n",
    "plot!(Beta(1,1), label =L\"\\pi(\\theta)\")"
   ]
  },
  {
   "cell_type": "code",
   "execution_count": 91,
   "metadata": {},
   "outputs": [],
   "source": [
    "cm = countmap(z)\n",
    "counter = zeros(length(cm))\n",
    "hdots = zeros(N)\n",
    "for (i,v) in enumerate(z)\n",
    "    counter[v+1]+=1\n",
    "    hdots[i] = counter[v+1]\n",
    "end\n",
    "\n"
   ]
  },
  {
   "cell_type": "code",
   "execution_count": 92,
   "metadata": {},
   "outputs": [],
   "source": [
    "df = DataFrame([z,hdots,theta_s]);"
   ]
  },
  {
   "cell_type": "code",
   "execution_count": 103,
   "metadata": {},
   "outputs": [
    {
     "data": {
      "application/vnd.vegalite.v3+json": {
       "data": {
        "values": [
         {
          "x1": 5,
          "x2": 1,
          "x3": 0.40649579595677493
         },
         {
          "x1": 7,
          "x2": 1,
          "x3": 0.6181876632040483
         },
         {
          "x1": 0,
          "x2": 1,
          "x3": 0.05039075502245223
         },
         {
          "x1": 3,
          "x2": 1,
          "x3": 0.10014294038470742
         },
         {
          "x1": 2,
          "x2": 1,
          "x3": 0.3053132586693447
         },
         {
          "x1": 0,
          "x2": 2,
          "x3": 0.21335843915036246
         },
         {
          "x1": 7,
          "x2": 2,
          "x3": 0.7861911430230467
         },
         {
          "x1": 3,
          "x2": 2,
          "x3": 0.26129077390959715
         },
         {
          "x1": 0,
          "x2": 3,
          "x3": 0.02592899979955954
         },
         {
          "x1": 0,
          "x2": 4,
          "x3": 0.011397993242451427
         },
         {
          "x1": 7,
          "x2": 3,
          "x3": 0.9369465761307089
         },
         {
          "x1": 7,
          "x2": 4,
          "x3": 0.5975085775175066
         },
         {
          "x1": 0,
          "x2": 5,
          "x3": 0.035393113507101996
         },
         {
          "x1": 2,
          "x2": 2,
          "x3": 0.5960644327907421
         },
         {
          "x1": 6,
          "x2": 1,
          "x3": 0.8797043672840015
         },
         {
          "x1": 0,
          "x2": 6,
          "x3": 0.16217427414153363
         },
         {
          "x1": 1,
          "x2": 1,
          "x3": 0.23886158080931702
         },
         {
          "x1": 0,
          "x2": 7,
          "x3": 0.01155805417032223
         },
         {
          "x1": 4,
          "x2": 1,
          "x3": 0.7275485429306879
         },
         {
          "x1": 1,
          "x2": 2,
          "x3": 0.3799247399431919
         },
         {
          "x1": 3,
          "x2": 3,
          "x3": 0.530249961167312
         },
         {
          "x1": 1,
          "x2": 3,
          "x3": 0.3140853984239075
         },
         {
          "x1": 5,
          "x2": 2,
          "x3": 0.6398732000867796
         },
         {
          "x1": 5,
          "x2": 3,
          "x3": 0.7811359249103668
         },
         {
          "x1": 4,
          "x2": 2,
          "x3": 0.45966576445066126
         },
         {
          "x1": 5,
          "x2": 4,
          "x3": 0.25566040146134417
         },
         {
          "x1": 0,
          "x2": 8,
          "x3": 0.05694733855872321
         },
         {
          "x1": 4,
          "x2": 3,
          "x3": 0.6079647688542478
         },
         {
          "x1": 4,
          "x2": 4,
          "x3": 0.7175474898895324
         },
         {
          "x1": 3,
          "x2": 4,
          "x3": 0.5797321360852103
         },
         {
          "x1": 6,
          "x2": 2,
          "x3": 0.8360778187978428
         },
         {
          "x1": 5,
          "x2": 5,
          "x3": 0.5841717473305915
         },
         {
          "x1": 7,
          "x2": 5,
          "x3": 0.8794383512960753
         },
         {
          "x1": 1,
          "x2": 4,
          "x3": 0.09584466133487347
         },
         {
          "x1": 7,
          "x2": 6,
          "x3": 0.7920525440555611
         },
         {
          "x1": 7,
          "x2": 7,
          "x3": 0.9901937015327411
         },
         {
          "x1": 0,
          "x2": 9,
          "x3": 0.14624159765592112
         },
         {
          "x1": 3,
          "x2": 5,
          "x3": 0.26070412870498033
         },
         {
          "x1": 7,
          "x2": 8,
          "x3": 0.8982113116720313
         },
         {
          "x1": 4,
          "x2": 5,
          "x3": 0.511052420654766
         },
         {
          "x1": 3,
          "x2": 6,
          "x3": 0.3592492736703753
         },
         {
          "x1": 8,
          "x2": 1,
          "x3": 0.9898500603962707
         },
         {
          "x1": 0,
          "x2": 10,
          "x3": 0.26441687954755794
         },
         {
          "x1": 3,
          "x2": 7,
          "x3": 0.5988013825027656
         },
         {
          "x1": 8,
          "x2": 2,
          "x3": 0.9617224360719923
         },
         {
          "x1": 6,
          "x2": 3,
          "x3": 0.8796683800568176
         },
         {
          "x1": 4,
          "x2": 6,
          "x3": 0.4904065503552066
         },
         {
          "x1": 5,
          "x2": 6,
          "x3": 0.771470431134413
         },
         {
          "x1": 8,
          "x2": 3,
          "x3": 0.9800699160315571
         },
         {
          "x1": 0,
          "x2": 11,
          "x3": 0.07809310187711611
         },
         {
          "x1": 7,
          "x2": 9,
          "x3": 0.9668533695177416
         },
         {
          "x1": 0,
          "x2": 12,
          "x3": 0.13526709821799526
         },
         {
          "x1": 0,
          "x2": 13,
          "x3": 0.01201995018652376
         },
         {
          "x1": 0,
          "x2": 14,
          "x3": 0.12162140848947713
         },
         {
          "x1": 0,
          "x2": 15,
          "x3": 0.10460452215820824
         },
         {
          "x1": 8,
          "x2": 4,
          "x3": 0.9719905313880158
         },
         {
          "x1": 0,
          "x2": 16,
          "x3": 0.04693337610257731
         },
         {
          "x1": 2,
          "x2": 3,
          "x3": 0.2537863848399558
         },
         {
          "x1": 3,
          "x2": 8,
          "x3": 0.23690348467681674
         },
         {
          "x1": 7,
          "x2": 10,
          "x3": 0.7540287465070078
         },
         {
          "x1": 2,
          "x2": 4,
          "x3": 0.07342887386038009
         },
         {
          "x1": 0,
          "x2": 17,
          "x3": 0.016917711052866904
         },
         {
          "x1": 8,
          "x2": 5,
          "x3": 0.98520052658278
         },
         {
          "x1": 3,
          "x2": 9,
          "x3": 0.22637739461200046
         },
         {
          "x1": 0,
          "x2": 18,
          "x3": 0.02116352408319515
         },
         {
          "x1": 5,
          "x2": 7,
          "x3": 0.5800319003764018
         },
         {
          "x1": 8,
          "x2": 6,
          "x3": 0.7587871526044774
         },
         {
          "x1": 1,
          "x2": 5,
          "x3": 0.06750787225764152
         },
         {
          "x1": 8,
          "x2": 7,
          "x3": 0.9287239029055124
         },
         {
          "x1": 5,
          "x2": 8,
          "x3": 0.4629034694962906
         },
         {
          "x1": 5,
          "x2": 9,
          "x3": 0.6694748272337734
         },
         {
          "x1": 3,
          "x2": 10,
          "x3": 0.3643424080734624
         },
         {
          "x1": 6,
          "x2": 4,
          "x3": 0.41954925475361976
         },
         {
          "x1": 8,
          "x2": 8,
          "x3": 0.9919526360830861
         },
         {
          "x1": 8,
          "x2": 9,
          "x3": 0.8530593385188533
         },
         {
          "x1": 2,
          "x2": 5,
          "x3": 0.259705328502487
         },
         {
          "x1": 3,
          "x2": 11,
          "x3": 0.41064737343313484
         },
         {
          "x1": 7,
          "x2": 11,
          "x3": 0.6936579306082752
         },
         {
          "x1": 0,
          "x2": 19,
          "x3": 0.1472687415694274
         },
         {
          "x1": 4,
          "x2": 7,
          "x3": 0.44957681812138317
         },
         {
          "x1": 3,
          "x2": 12,
          "x3": 0.3125681467252121
         },
         {
          "x1": 0,
          "x2": 20,
          "x3": 0.02691275066785085
         },
         {
          "x1": 6,
          "x2": 5,
          "x3": 0.7621682877339121
         },
         {
          "x1": 6,
          "x2": 6,
          "x3": 0.7573055820868662
         },
         {
          "x1": 3,
          "x2": 13,
          "x3": 0.41856033444903407
         },
         {
          "x1": 8,
          "x2": 10,
          "x3": 0.9497073493948978
         },
         {
          "x1": 7,
          "x2": 12,
          "x3": 0.95025224115611
         },
         {
          "x1": 1,
          "x2": 6,
          "x3": 0.3346893903868749
         },
         {
          "x1": 8,
          "x2": 11,
          "x3": 0.8821642644431589
         },
         {
          "x1": 7,
          "x2": 13,
          "x3": 0.8111214175682124
         },
         {
          "x1": 7,
          "x2": 14,
          "x3": 0.8988344116941637
         },
         {
          "x1": 0,
          "x2": 21,
          "x3": 0.04788046039720668
         },
         {
          "x1": 6,
          "x2": 7,
          "x3": 0.7108900385126241
         },
         {
          "x1": 5,
          "x2": 10,
          "x3": 0.4764693498389712
         },
         {
          "x1": 7,
          "x2": 15,
          "x3": 0.9280674783192242
         },
         {
          "x1": 7,
          "x2": 16,
          "x3": 0.6063215741779246
         },
         {
          "x1": 2,
          "x2": 6,
          "x3": 0.5122828773295508
         },
         {
          "x1": 4,
          "x2": 8,
          "x3": 0.2565832996820102
         },
         {
          "x1": 5,
          "x2": 11,
          "x3": 0.5173687979263453
         },
         {
          "x1": 8,
          "x2": 12,
          "x3": 0.9905247511064418
         },
         {
          "x1": 4,
          "x2": 9,
          "x3": 0.603399320886732
         },
         {
          "x1": 3,
          "x2": 14,
          "x3": 0.40340898956755056
         },
         {
          "x1": 0,
          "x2": 22,
          "x3": 0.014755126598872051
         },
         {
          "x1": 3,
          "x2": 15,
          "x3": 0.20919900261219382
         },
         {
          "x1": 4,
          "x2": 10,
          "x3": 0.3767020845944021
         },
         {
          "x1": 2,
          "x2": 7,
          "x3": 0.1951102579280963
         },
         {
          "x1": 7,
          "x2": 17,
          "x3": 0.754648564935462
         },
         {
          "x1": 1,
          "x2": 7,
          "x3": 0.24627248588490636
         },
         {
          "x1": 2,
          "x2": 8,
          "x3": 0.36650601148914436
         },
         {
          "x1": 0,
          "x2": 23,
          "x3": 0.2124402978344975
         },
         {
          "x1": 8,
          "x2": 13,
          "x3": 0.9510501614689159
         },
         {
          "x1": 3,
          "x2": 16,
          "x3": 0.4819734004578711
         },
         {
          "x1": 5,
          "x2": 12,
          "x3": 0.3794217931932986
         },
         {
          "x1": 4,
          "x2": 11,
          "x3": 0.5924326446132787
         },
         {
          "x1": 8,
          "x2": 14,
          "x3": 0.8554372277428837
         },
         {
          "x1": 5,
          "x2": 13,
          "x3": 0.6194955043828635
         },
         {
          "x1": 0,
          "x2": 24,
          "x3": 0.04991291568982315
         },
         {
          "x1": 1,
          "x2": 8,
          "x3": 0.09035424562941627
         },
         {
          "x1": 3,
          "x2": 17,
          "x3": 0.173496137171272
         },
         {
          "x1": 3,
          "x2": 18,
          "x3": 0.15176743269439494
         },
         {
          "x1": 7,
          "x2": 18,
          "x3": 0.9012237867146918
         },
         {
          "x1": 4,
          "x2": 12,
          "x3": 0.4824245709614095
         },
         {
          "x1": 5,
          "x2": 14,
          "x3": 0.6394548580637072
         },
         {
          "x1": 0,
          "x2": 25,
          "x3": 0.21014776436420882
         },
         {
          "x1": 1,
          "x2": 9,
          "x3": 0.10909350971952021
         },
         {
          "x1": 8,
          "x2": 15,
          "x3": 0.9660195612501439
         },
         {
          "x1": 3,
          "x2": 19,
          "x3": 0.5102704743436658
         },
         {
          "x1": 4,
          "x2": 13,
          "x3": 0.3656634260933534
         },
         {
          "x1": 6,
          "x2": 8,
          "x3": 0.5222615955035574
         },
         {
          "x1": 5,
          "x2": 15,
          "x3": 0.4798984065765334
         },
         {
          "x1": 4,
          "x2": 14,
          "x3": 0.44422615397775245
         },
         {
          "x1": 4,
          "x2": 15,
          "x3": 0.691147756798993
         },
         {
          "x1": 0,
          "x2": 26,
          "x3": 0.13455090024121924
         },
         {
          "x1": 0,
          "x2": 27,
          "x3": 0.004399303512010584
         },
         {
          "x1": 4,
          "x2": 16,
          "x3": 0.3410985163453404
         },
         {
          "x1": 0,
          "x2": 28,
          "x3": 0.065192597314787
         },
         {
          "x1": 4,
          "x2": 17,
          "x3": 0.36508538933058127
         },
         {
          "x1": 5,
          "x2": 16,
          "x3": 0.6105129349015018
         },
         {
          "x1": 5,
          "x2": 17,
          "x3": 0.7537664976032638
         },
         {
          "x1": 6,
          "x2": 9,
          "x3": 0.6343570797119387
         },
         {
          "x1": 0,
          "x2": 29,
          "x3": 0.13003932812071559
         },
         {
          "x1": 0,
          "x2": 30,
          "x3": 0.03018093129236783
         },
         {
          "x1": 5,
          "x2": 18,
          "x3": 0.604499426667516
         },
         {
          "x1": 0,
          "x2": 31,
          "x3": 0.03462070391632781
         },
         {
          "x1": 4,
          "x2": 18,
          "x3": 0.5968222315269411
         },
         {
          "x1": 7,
          "x2": 19,
          "x3": 0.8530981552363068
         },
         {
          "x1": 3,
          "x2": 20,
          "x3": 0.4577003039338125
         },
         {
          "x1": 5,
          "x2": 19,
          "x3": 0.40379853043104497
         },
         {
          "x1": 5,
          "x2": 20,
          "x3": 0.7504510596570679
         },
         {
          "x1": 5,
          "x2": 21,
          "x3": 0.7490817648836255
         },
         {
          "x1": 4,
          "x2": 19,
          "x3": 0.3600657027353362
         },
         {
          "x1": 7,
          "x2": 20,
          "x3": 0.7238863245552095
         },
         {
          "x1": 4,
          "x2": 20,
          "x3": 0.800320114899224
         },
         {
          "x1": 2,
          "x2": 9,
          "x3": 0.27738437039282815
         },
         {
          "x1": 0,
          "x2": 32,
          "x3": 0.2854747129605517
         },
         {
          "x1": 7,
          "x2": 21,
          "x3": 0.8609240163206205
         },
         {
          "x1": 4,
          "x2": 21,
          "x3": 0.7060886300578028
         },
         {
          "x1": 7,
          "x2": 22,
          "x3": 0.737056325216505
         },
         {
          "x1": 1,
          "x2": 10,
          "x3": 0.22122420165036277
         },
         {
          "x1": 6,
          "x2": 10,
          "x3": 0.6747852602358156
         },
         {
          "x1": 6,
          "x2": 11,
          "x3": 0.8604340698814157
         },
         {
          "x1": 1,
          "x2": 11,
          "x3": 0.1736912031200288
         },
         {
          "x1": 1,
          "x2": 12,
          "x3": 0.1618923700404201
         },
         {
          "x1": 8,
          "x2": 16,
          "x3": 0.8666799581720761
         },
         {
          "x1": 4,
          "x2": 22,
          "x3": 0.45518805949656255
         },
         {
          "x1": 4,
          "x2": 23,
          "x3": 0.5843810267643237
         },
         {
          "x1": 2,
          "x2": 10,
          "x3": 0.18330828621811107
         },
         {
          "x1": 8,
          "x2": 17,
          "x3": 0.913855326753082
         },
         {
          "x1": 3,
          "x2": 21,
          "x3": 0.5665436518504822
         },
         {
          "x1": 5,
          "x2": 22,
          "x3": 0.6983352045466973
         },
         {
          "x1": 0,
          "x2": 33,
          "x3": 0.15127226702357743
         },
         {
          "x1": 4,
          "x2": 24,
          "x3": 0.7195902736502711
         },
         {
          "x1": 6,
          "x2": 12,
          "x3": 0.5859594550635078
         },
         {
          "x1": 2,
          "x2": 11,
          "x3": 0.35074843902896863
         },
         {
          "x1": 4,
          "x2": 25,
          "x3": 0.7239386380429385
         },
         {
          "x1": 2,
          "x2": 12,
          "x3": 0.09407498841180495
         },
         {
          "x1": 1,
          "x2": 13,
          "x3": 0.22690990421115947
         },
         {
          "x1": 4,
          "x2": 26,
          "x3": 0.2657913262874325
         },
         {
          "x1": 3,
          "x2": 22,
          "x3": 0.405591361545036
         },
         {
          "x1": 3,
          "x2": 23,
          "x3": 0.5718146841591836
         },
         {
          "x1": 4,
          "x2": 27,
          "x3": 0.7015602421144299
         },
         {
          "x1": 5,
          "x2": 23,
          "x3": 0.7122139156931803
         },
         {
          "x1": 1,
          "x2": 14,
          "x3": 0.4330312780013345
         },
         {
          "x1": 7,
          "x2": 23,
          "x3": 0.7542060988815321
         },
         {
          "x1": 1,
          "x2": 15,
          "x3": 0.18656060490451998
         },
         {
          "x1": 0,
          "x2": 34,
          "x3": 0.17515793675163538
         },
         {
          "x1": 1,
          "x2": 16,
          "x3": 0.12247026550142785
         },
         {
          "x1": 3,
          "x2": 24,
          "x3": 0.49496580945528673
         },
         {
          "x1": 2,
          "x2": 13,
          "x3": 0.24476837631897913
         },
         {
          "x1": 7,
          "x2": 24,
          "x3": 0.9216849393467658
         },
         {
          "x1": 6,
          "x2": 13,
          "x3": 0.3182751669863384
         },
         {
          "x1": 0,
          "x2": 35,
          "x3": 0.029109621288480218
         },
         {
          "x1": 0,
          "x2": 36,
          "x3": 0.09969663227328834
         },
         {
          "x1": 2,
          "x2": 14,
          "x3": 0.3153240412259104
         },
         {
          "x1": 0,
          "x2": 37,
          "x3": 0.056824729972676465
         },
         {
          "x1": 3,
          "x2": 25,
          "x3": 0.24390537967226925
         },
         {
          "x1": 5,
          "x2": 24,
          "x3": 0.7581509864703362
         },
         {
          "x1": 6,
          "x2": 14,
          "x3": 0.6311978505281707
         },
         {
          "x1": 2,
          "x2": 15,
          "x3": 0.01854701193645649
         },
         {
          "x1": 4,
          "x2": 28,
          "x3": 0.1765190094518109
         },
         {
          "x1": 1,
          "x2": 17,
          "x3": 0.190956845772818
         },
         {
          "x1": 8,
          "x2": 18,
          "x3": 0.9809032893918571
         },
         {
          "x1": 4,
          "x2": 29,
          "x3": 0.5995148804357878
         },
         {
          "x1": 7,
          "x2": 25,
          "x3": 0.9114530070411537
         },
         {
          "x1": 4,
          "x2": 30,
          "x3": 0.557792835937702
         },
         {
          "x1": 3,
          "x2": 26,
          "x3": 0.629478712763377
         },
         {
          "x1": 0,
          "x2": 38,
          "x3": 0.030704602551165975
         },
         {
          "x1": 2,
          "x2": 16,
          "x3": 0.3713528852578667
         },
         {
          "x1": 8,
          "x2": 19,
          "x3": 0.9249667286739546
         },
         {
          "x1": 3,
          "x2": 27,
          "x3": 0.42078114665599625
         },
         {
          "x1": 3,
          "x2": 28,
          "x3": 0.268424256803308
         },
         {
          "x1": 6,
          "x2": 15,
          "x3": 0.8941126266498917
         },
         {
          "x1": 2,
          "x2": 17,
          "x3": 0.300289522990612
         },
         {
          "x1": 6,
          "x2": 16,
          "x3": 0.5077259648264357
         },
         {
          "x1": 6,
          "x2": 17,
          "x3": 0.5495474941916854
         },
         {
          "x1": 1,
          "x2": 18,
          "x3": 0.24304516442459556
         },
         {
          "x1": 1,
          "x2": 19,
          "x3": 0.08951705368823278
         },
         {
          "x1": 3,
          "x2": 29,
          "x3": 0.3037768978563119
         },
         {
          "x1": 5,
          "x2": 25,
          "x3": 0.6207161470400102
         },
         {
          "x1": 5,
          "x2": 26,
          "x3": 0.6722715503510768
         },
         {
          "x1": 6,
          "x2": 18,
          "x3": 0.7404269470443379
         },
         {
          "x1": 6,
          "x2": 19,
          "x3": 0.7268747831111843
         },
         {
          "x1": 8,
          "x2": 20,
          "x3": 0.9515114837104993
         },
         {
          "x1": 8,
          "x2": 21,
          "x3": 0.9442456084624812
         },
         {
          "x1": 6,
          "x2": 20,
          "x3": 0.797622621447886
         },
         {
          "x1": 5,
          "x2": 27,
          "x3": 0.44498354557996067
         },
         {
          "x1": 2,
          "x2": 18,
          "x3": 0.25219686466500313
         },
         {
          "x1": 7,
          "x2": 26,
          "x3": 0.8306948160307209
         },
         {
          "x1": 5,
          "x2": 28,
          "x3": 0.6661259896862217
         },
         {
          "x1": 1,
          "x2": 20,
          "x3": 0.3608666956664573
         },
         {
          "x1": 6,
          "x2": 21,
          "x3": 0.6728583283649834
         },
         {
          "x1": 7,
          "x2": 27,
          "x3": 0.8421939552152166
         },
         {
          "x1": 0,
          "x2": 39,
          "x3": 0.007063873979581546
         },
         {
          "x1": 4,
          "x2": 31,
          "x3": 0.4941307329767851
         },
         {
          "x1": 6,
          "x2": 22,
          "x3": 0.8782785894508581
         },
         {
          "x1": 4,
          "x2": 32,
          "x3": 0.5261384933031533
         },
         {
          "x1": 6,
          "x2": 23,
          "x3": 0.7432639464819106
         },
         {
          "x1": 7,
          "x2": 28,
          "x3": 0.7605077526723867
         },
         {
          "x1": 8,
          "x2": 22,
          "x3": 0.8252813421273385
         },
         {
          "x1": 4,
          "x2": 33,
          "x3": 0.317046662192098
         },
         {
          "x1": 1,
          "x2": 21,
          "x3": 0.28151481079296753
         },
         {
          "x1": 7,
          "x2": 29,
          "x3": 0.9065491206358844
         },
         {
          "x1": 0,
          "x2": 40,
          "x3": 0.08694317767711074
         },
         {
          "x1": 6,
          "x2": 24,
          "x3": 0.7235557345978268
         },
         {
          "x1": 0,
          "x2": 41,
          "x3": 0.04056274106799435
         },
         {
          "x1": 7,
          "x2": 30,
          "x3": 0.9419850662572582
         },
         {
          "x1": 7,
          "x2": 31,
          "x3": 0.8851624827155634
         },
         {
          "x1": 5,
          "x2": 29,
          "x3": 0.7618010082655116
         },
         {
          "x1": 6,
          "x2": 25,
          "x3": 0.7342878571321311
         },
         {
          "x1": 4,
          "x2": 34,
          "x3": 0.5451030896032075
         },
         {
          "x1": 4,
          "x2": 35,
          "x3": 0.19543921969178038
         },
         {
          "x1": 7,
          "x2": 32,
          "x3": 0.6884608084348194
         },
         {
          "x1": 6,
          "x2": 26,
          "x3": 0.7286556474533991
         },
         {
          "x1": 3,
          "x2": 30,
          "x3": 0.29802977445047274
         },
         {
          "x1": 3,
          "x2": 31,
          "x3": 0.34535275404390164
         },
         {
          "x1": 0,
          "x2": 42,
          "x3": 0.272573745128626
         },
         {
          "x1": 2,
          "x2": 19,
          "x3": 0.16335383109755724
         },
         {
          "x1": 3,
          "x2": 32,
          "x3": 0.3350131185353848
         },
         {
          "x1": 0,
          "x2": 43,
          "x3": 0.07220401886336768
         },
         {
          "x1": 4,
          "x2": 36,
          "x3": 0.6457344959841111
         },
         {
          "x1": 8,
          "x2": 23,
          "x3": 0.724054351568828
         },
         {
          "x1": 3,
          "x2": 33,
          "x3": 0.3918577196780633
         },
         {
          "x1": 0,
          "x2": 44,
          "x3": 0.14148033402682902
         },
         {
          "x1": 4,
          "x2": 37,
          "x3": 0.2927964043043428
         },
         {
          "x1": 7,
          "x2": 33,
          "x3": 0.7097407662330235
         },
         {
          "x1": 1,
          "x2": 22,
          "x3": 0.32945885473855113
         },
         {
          "x1": 8,
          "x2": 24,
          "x3": 0.9913422167948053
         },
         {
          "x1": 1,
          "x2": 23,
          "x3": 0.4020987383434134
         },
         {
          "x1": 3,
          "x2": 34,
          "x3": 0.5726741025857774
         },
         {
          "x1": 7,
          "x2": 34,
          "x3": 0.7379897000216099
         },
         {
          "x1": 3,
          "x2": 35,
          "x3": 0.47904831338435494
         },
         {
          "x1": 7,
          "x2": 35,
          "x3": 0.8398193713640225
         },
         {
          "x1": 8,
          "x2": 25,
          "x3": 0.7864963543129705
         },
         {
          "x1": 1,
          "x2": 24,
          "x3": 0.03806302182013188
         },
         {
          "x1": 4,
          "x2": 38,
          "x3": 0.27665600238846333
         },
         {
          "x1": 5,
          "x2": 30,
          "x3": 0.7045189145219277
         },
         {
          "x1": 1,
          "x2": 25,
          "x3": 0.32122347142702046
         },
         {
          "x1": 7,
          "x2": 36,
          "x3": 0.8274889851973098
         },
         {
          "x1": 3,
          "x2": 36,
          "x3": 0.5551726295477813
         },
         {
          "x1": 1,
          "x2": 26,
          "x3": 0.1859671768104443
         },
         {
          "x1": 8,
          "x2": 26,
          "x3": 0.9386586518098208
         },
         {
          "x1": 7,
          "x2": 37,
          "x3": 0.9379950932478417
         },
         {
          "x1": 6,
          "x2": 27,
          "x3": 0.4240388803199921
         },
         {
          "x1": 4,
          "x2": 39,
          "x3": 0.13870367725836058
         },
         {
          "x1": 5,
          "x2": 31,
          "x3": 0.5848773913212515
         },
         {
          "x1": 1,
          "x2": 27,
          "x3": 0.22561351631841123
         },
         {
          "x1": 5,
          "x2": 32,
          "x3": 0.5822630880528694
         },
         {
          "x1": 1,
          "x2": 28,
          "x3": 0.22152376235504226
         },
         {
          "x1": 3,
          "x2": 37,
          "x3": 0.45630772661181523
         },
         {
          "x1": 3,
          "x2": 38,
          "x3": 0.24413139814803592
         },
         {
          "x1": 4,
          "x2": 40,
          "x3": 0.5093728606216059
         },
         {
          "x1": 3,
          "x2": 39,
          "x3": 0.5195508549803353
         },
         {
          "x1": 4,
          "x2": 41,
          "x3": 0.6217893902403724
         },
         {
          "x1": 0,
          "x2": 45,
          "x3": 0.008360634165880646
         },
         {
          "x1": 6,
          "x2": 28,
          "x3": 0.8539608138276922
         },
         {
          "x1": 6,
          "x2": 29,
          "x3": 0.5302574939755162
         },
         {
          "x1": 8,
          "x2": 27,
          "x3": 0.9970842671948974
         },
         {
          "x1": 6,
          "x2": 30,
          "x3": 0.4864665982834344
         },
         {
          "x1": 4,
          "x2": 42,
          "x3": 0.6366447297919057
         },
         {
          "x1": 2,
          "x2": 20,
          "x3": 0.0835543245695826
         },
         {
          "x1": 3,
          "x2": 40,
          "x3": 0.7132542367881332
         },
         {
          "x1": 8,
          "x2": 28,
          "x3": 0.7466434990986272
         },
         {
          "x1": 2,
          "x2": 21,
          "x3": 0.18506925551509149
         },
         {
          "x1": 0,
          "x2": 46,
          "x3": 0.08788646402452198
         },
         {
          "x1": 4,
          "x2": 43,
          "x3": 0.27076746815498354
         },
         {
          "x1": 8,
          "x2": 29,
          "x3": 0.9961055755341394
         },
         {
          "x1": 3,
          "x2": 41,
          "x3": 0.512536169216078
         },
         {
          "x1": 6,
          "x2": 31,
          "x3": 0.8026223069452981
         },
         {
          "x1": 3,
          "x2": 42,
          "x3": 0.5137418982405748
         },
         {
          "x1": 6,
          "x2": 32,
          "x3": 0.86091469124847
         },
         {
          "x1": 1,
          "x2": 29,
          "x3": 0.23129548697728264
         },
         {
          "x1": 4,
          "x2": 44,
          "x3": 0.5136643499489899
         },
         {
          "x1": 0,
          "x2": 47,
          "x3": 0.001326597675434824
         },
         {
          "x1": 4,
          "x2": 45,
          "x3": 0.4282372477221193
         },
         {
          "x1": 0,
          "x2": 48,
          "x3": 0.08468606844364807
         },
         {
          "x1": 6,
          "x2": 33,
          "x3": 0.7567290399979902
         },
         {
          "x1": 1,
          "x2": 30,
          "x3": 0.31269246424947306
         },
         {
          "x1": 0,
          "x2": 49,
          "x3": 0.04036458138255192
         },
         {
          "x1": 7,
          "x2": 38,
          "x3": 0.4731120184707703
         },
         {
          "x1": 6,
          "x2": 34,
          "x3": 0.7013413276664915
         },
         {
          "x1": 4,
          "x2": 46,
          "x3": 0.6292788753675427
         },
         {
          "x1": 8,
          "x2": 30,
          "x3": 0.9837390820700166
         },
         {
          "x1": 2,
          "x2": 22,
          "x3": 0.4230556362506654
         },
         {
          "x1": 5,
          "x2": 33,
          "x3": 0.6382368547522634
         },
         {
          "x1": 8,
          "x2": 31,
          "x3": 0.984080401575674
         },
         {
          "x1": 0,
          "x2": 50,
          "x3": 0.028983923134126083
         },
         {
          "x1": 0,
          "x2": 51,
          "x3": 0.18899236497643185
         },
         {
          "x1": 1,
          "x2": 31,
          "x3": 0.42484091023788384
         },
         {
          "x1": 1,
          "x2": 32,
          "x3": 0.28633894268250715
         },
         {
          "x1": 5,
          "x2": 34,
          "x3": 0.5933310105749762
         },
         {
          "x1": 5,
          "x2": 35,
          "x3": 0.4303300836690932
         },
         {
          "x1": 2,
          "x2": 23,
          "x3": 0.1233205928799472
         },
         {
          "x1": 8,
          "x2": 32,
          "x3": 0.9171904887627362
         },
         {
          "x1": 4,
          "x2": 47,
          "x3": 0.4550600271022518
         },
         {
          "x1": 3,
          "x2": 43,
          "x3": 0.36773544236872713
         },
         {
          "x1": 4,
          "x2": 48,
          "x3": 0.35413049431529053
         },
         {
          "x1": 0,
          "x2": 52,
          "x3": 0.016174321324467666
         },
         {
          "x1": 6,
          "x2": 35,
          "x3": 0.6785284893410215
         },
         {
          "x1": 4,
          "x2": 49,
          "x3": 0.7170995539147678
         },
         {
          "x1": 0,
          "x2": 53,
          "x3": 0.08946317288132205
         },
         {
          "x1": 8,
          "x2": 33,
          "x3": 0.8753459589272992
         },
         {
          "x1": 3,
          "x2": 44,
          "x3": 0.4754647968391788
         },
         {
          "x1": 4,
          "x2": 50,
          "x3": 0.3346441838905766
         },
         {
          "x1": 7,
          "x2": 39,
          "x3": 0.8793259726378964
         },
         {
          "x1": 4,
          "x2": 51,
          "x3": 0.5474698986627714
         },
         {
          "x1": 8,
          "x2": 34,
          "x3": 0.9587832879145666
         },
         {
          "x1": 7,
          "x2": 40,
          "x3": 0.9522371592298072
         },
         {
          "x1": 2,
          "x2": 24,
          "x3": 0.1510381477231174
         },
         {
          "x1": 5,
          "x2": 36,
          "x3": 0.561150005985355
         },
         {
          "x1": 8,
          "x2": 35,
          "x3": 0.7754692937908821
         },
         {
          "x1": 6,
          "x2": 36,
          "x3": 0.6828889759858826
         },
         {
          "x1": 8,
          "x2": 36,
          "x3": 0.9105644535017767
         },
         {
          "x1": 8,
          "x2": 37,
          "x3": 0.8055929284310689
         },
         {
          "x1": 4,
          "x2": 52,
          "x3": 0.40277534882719296
         },
         {
          "x1": 3,
          "x2": 45,
          "x3": 0.3889633786018878
         },
         {
          "x1": 4,
          "x2": 53,
          "x3": 0.5502473903740933
         },
         {
          "x1": 7,
          "x2": 41,
          "x3": 0.9185650218508932
         },
         {
          "x1": 0,
          "x2": 54,
          "x3": 0.08886823716812035
         },
         {
          "x1": 0,
          "x2": 55,
          "x3": 0.1873188954321533
         },
         {
          "x1": 4,
          "x2": 54,
          "x3": 0.45815447374472995
         },
         {
          "x1": 7,
          "x2": 42,
          "x3": 0.7325099056985387
         },
         {
          "x1": 2,
          "x2": 25,
          "x3": 0.2775928314604649
         },
         {
          "x1": 8,
          "x2": 38,
          "x3": 0.9633985471532073
         },
         {
          "x1": 4,
          "x2": 55,
          "x3": 0.5057765415649743
         },
         {
          "x1": 5,
          "x2": 37,
          "x3": 0.5554089444519621
         },
         {
          "x1": 6,
          "x2": 37,
          "x3": 0.5652294524648304
         },
         {
          "x1": 3,
          "x2": 46,
          "x3": 0.5655132974381192
         },
         {
          "x1": 0,
          "x2": 56,
          "x3": 0.009013888053825867
         },
         {
          "x1": 7,
          "x2": 43,
          "x3": 0.5925949218363116
         },
         {
          "x1": 7,
          "x2": 44,
          "x3": 0.6832848440107476
         },
         {
          "x1": 1,
          "x2": 33,
          "x3": 0.15047530134332268
         },
         {
          "x1": 6,
          "x2": 38,
          "x3": 0.8137002640318682
         },
         {
          "x1": 4,
          "x2": 56,
          "x3": 0.7707250679497033
         },
         {
          "x1": 7,
          "x2": 45,
          "x3": 0.48742371864071377
         },
         {
          "x1": 3,
          "x2": 47,
          "x3": 0.5860814991796957
         },
         {
          "x1": 5,
          "x2": 38,
          "x3": 0.6781985465307256
         },
         {
          "x1": 4,
          "x2": 57,
          "x3": 0.779442681190562
         },
         {
          "x1": 3,
          "x2": 48,
          "x3": 0.41548319758878216
         },
         {
          "x1": 6,
          "x2": 39,
          "x3": 0.7055123313801342
         },
         {
          "x1": 3,
          "x2": 49,
          "x3": 0.42954267611830715
         },
         {
          "x1": 2,
          "x2": 26,
          "x3": 0.24923010748271487
         },
         {
          "x1": 0,
          "x2": 57,
          "x3": 0.21706996362392877
         },
         {
          "x1": 3,
          "x2": 50,
          "x3": 0.4974487284200852
         },
         {
          "x1": 6,
          "x2": 40,
          "x3": 0.9517222461260832
         },
         {
          "x1": 4,
          "x2": 58,
          "x3": 0.44322273388601624
         },
         {
          "x1": 7,
          "x2": 46,
          "x3": 0.8916105378046482
         },
         {
          "x1": 3,
          "x2": 51,
          "x3": 0.3131301296391281
         },
         {
          "x1": 2,
          "x2": 27,
          "x3": 0.1985542768444195
         },
         {
          "x1": 6,
          "x2": 41,
          "x3": 0.49712999555316445
         },
         {
          "x1": 0,
          "x2": 58,
          "x3": 0.003562309487071774
         },
         {
          "x1": 8,
          "x2": 39,
          "x3": 0.9473185665963778
         },
         {
          "x1": 5,
          "x2": 39,
          "x3": 0.7691876686920265
         },
         {
          "x1": 8,
          "x2": 40,
          "x3": 0.8649156086967086
         },
         {
          "x1": 7,
          "x2": 47,
          "x3": 0.902302330287371
         },
         {
          "x1": 2,
          "x2": 28,
          "x3": 0.26589424234881465
         },
         {
          "x1": 8,
          "x2": 41,
          "x3": 0.9928915935372025
         },
         {
          "x1": 6,
          "x2": 42,
          "x3": 0.7760518375648865
         },
         {
          "x1": 2,
          "x2": 29,
          "x3": 0.28835781066218613
         },
         {
          "x1": 0,
          "x2": 59,
          "x3": 0.22263840103621574
         },
         {
          "x1": 4,
          "x2": 59,
          "x3": 0.4857660912337626
         },
         {
          "x1": 5,
          "x2": 40,
          "x3": 0.6103384324127169
         },
         {
          "x1": 0,
          "x2": 60,
          "x3": 0.020555289740650275
         },
         {
          "x1": 3,
          "x2": 52,
          "x3": 0.2524175354211141
         },
         {
          "x1": 2,
          "x2": 30,
          "x3": 0.15034019628108708
         },
         {
          "x1": 5,
          "x2": 41,
          "x3": 0.42068382051655234
         },
         {
          "x1": 4,
          "x2": 60,
          "x3": 0.48961730111776053
         },
         {
          "x1": 7,
          "x2": 48,
          "x3": 0.7660830566266978
         },
         {
          "x1": 5,
          "x2": 42,
          "x3": 0.6525448636152612
         },
         {
          "x1": 2,
          "x2": 31,
          "x3": 0.5189464413199499
         },
         {
          "x1": 3,
          "x2": 53,
          "x3": 0.5038776135094997
         },
         {
          "x1": 1,
          "x2": 34,
          "x3": 0.34509030220168335
         },
         {
          "x1": 5,
          "x2": 43,
          "x3": 0.4322722321397581
         },
         {
          "x1": 4,
          "x2": 61,
          "x3": 0.6559461448239354
         },
         {
          "x1": 7,
          "x2": 49,
          "x3": 0.6916290512562489
         },
         {
          "x1": 0,
          "x2": 61,
          "x3": 0.27741914370341725
         },
         {
          "x1": 5,
          "x2": 44,
          "x3": 0.6117714296822149
         },
         {
          "x1": 8,
          "x2": 42,
          "x3": 0.8575633310290055
         },
         {
          "x1": 0,
          "x2": 62,
          "x3": 0.20939610624334537
         },
         {
          "x1": 4,
          "x2": 62,
          "x3": 0.49565625757031223
         },
         {
          "x1": 4,
          "x2": 63,
          "x3": 0.6724301417163409
         },
         {
          "x1": 2,
          "x2": 32,
          "x3": 0.22540084446459036
         },
         {
          "x1": 6,
          "x2": 43,
          "x3": 0.6469709468041066
         },
         {
          "x1": 3,
          "x2": 54,
          "x3": 0.5391433225715335
         },
         {
          "x1": 7,
          "x2": 50,
          "x3": 0.9773218484966332
         },
         {
          "x1": 8,
          "x2": 43,
          "x3": 0.691465926472435
         },
         {
          "x1": 2,
          "x2": 33,
          "x3": 0.46483545147115113
         },
         {
          "x1": 5,
          "x2": 45,
          "x3": 0.8581991702968874
         },
         {
          "x1": 1,
          "x2": 35,
          "x3": 0.03972667736279775
         },
         {
          "x1": 5,
          "x2": 46,
          "x3": 0.5655324160548468
         },
         {
          "x1": 7,
          "x2": 51,
          "x3": 0.9280966356130665
         },
         {
          "x1": 2,
          "x2": 34,
          "x3": 0.17649183165286936
         },
         {
          "x1": 1,
          "x2": 36,
          "x3": 0.20208706058877832
         },
         {
          "x1": 1,
          "x2": 37,
          "x3": 0.18689674872265855
         },
         {
          "x1": 2,
          "x2": 35,
          "x3": 0.3533009933263592
         },
         {
          "x1": 5,
          "x2": 47,
          "x3": 0.5531034311164611
         },
         {
          "x1": 4,
          "x2": 64,
          "x3": 0.5947185438286167
         },
         {
          "x1": 0,
          "x2": 63,
          "x3": 0.013531320899572614
         },
         {
          "x1": 3,
          "x2": 55,
          "x3": 0.41863907381067306
         },
         {
          "x1": 5,
          "x2": 48,
          "x3": 0.3717065966943621
         },
         {
          "x1": 3,
          "x2": 56,
          "x3": 0.4045524280992139
         },
         {
          "x1": 7,
          "x2": 52,
          "x3": 0.8087827821277603
         },
         {
          "x1": 5,
          "x2": 49,
          "x3": 0.71593545589206
         },
         {
          "x1": 0,
          "x2": 64,
          "x3": 0.05290936884710495
         },
         {
          "x1": 7,
          "x2": 53,
          "x3": 0.6254985830640858
         },
         {
          "x1": 8,
          "x2": 44,
          "x3": 0.9865517320254489
         },
         {
          "x1": 3,
          "x2": 57,
          "x3": 0.4189217704254471
         },
         {
          "x1": 0,
          "x2": 65,
          "x3": 0.04204685979423911
         },
         {
          "x1": 5,
          "x2": 50,
          "x3": 0.6867515034192285
         },
         {
          "x1": 0,
          "x2": 66,
          "x3": 0.0007627020088425791
         },
         {
          "x1": 7,
          "x2": 54,
          "x3": 0.8697829074745457
         },
         {
          "x1": 0,
          "x2": 67,
          "x3": 0.21430246162941685
         },
         {
          "x1": 5,
          "x2": 51,
          "x3": 0.6989319975700914
         },
         {
          "x1": 6,
          "x2": 44,
          "x3": 0.5882141298824807
         },
         {
          "x1": 5,
          "x2": 52,
          "x3": 0.6081746756324065
         },
         {
          "x1": 6,
          "x2": 45,
          "x3": 0.9128104020996141
         },
         {
          "x1": 5,
          "x2": 53,
          "x3": 0.6317091585173366
         },
         {
          "x1": 8,
          "x2": 45,
          "x3": 0.89436561539665
         },
         {
          "x1": 2,
          "x2": 36,
          "x3": 0.2666033749483454
         },
         {
          "x1": 1,
          "x2": 38,
          "x3": 0.21218766445458623
         },
         {
          "x1": 6,
          "x2": 46,
          "x3": 0.828303153425824
         },
         {
          "x1": 8,
          "x2": 46,
          "x3": 0.7004238737545918
         },
         {
          "x1": 0,
          "x2": 68,
          "x3": 0.096393891605335
         },
         {
          "x1": 2,
          "x2": 37,
          "x3": 0.39948652105215793
         },
         {
          "x1": 0,
          "x2": 69,
          "x3": 0.01608943630341941
         },
         {
          "x1": 4,
          "x2": 65,
          "x3": 0.40466638590744347
         },
         {
          "x1": 3,
          "x2": 58,
          "x3": 0.4274381203790176
         },
         {
          "x1": 4,
          "x2": 66,
          "x3": 0.2917991756060529
         },
         {
          "x1": 4,
          "x2": 67,
          "x3": 0.5917401814122677
         },
         {
          "x1": 2,
          "x2": 38,
          "x3": 0.26631320556652355
         },
         {
          "x1": 2,
          "x2": 39,
          "x3": 0.4527900395334897
         },
         {
          "x1": 6,
          "x2": 47,
          "x3": 0.9076502923440675
         },
         {
          "x1": 2,
          "x2": 40,
          "x3": 0.10832291139699833
         },
         {
          "x1": 7,
          "x2": 55,
          "x3": 0.9277196493392948
         },
         {
          "x1": 3,
          "x2": 59,
          "x3": 0.21803852377126076
         },
         {
          "x1": 8,
          "x2": 47,
          "x3": 0.9154456960716354
         },
         {
          "x1": 2,
          "x2": 41,
          "x3": 0.24874035032223676
         },
         {
          "x1": 1,
          "x2": 39,
          "x3": 0.050083166758920876
         },
         {
          "x1": 2,
          "x2": 42,
          "x3": 0.17429844333285116
         },
         {
          "x1": 5,
          "x2": 54,
          "x3": 0.5772676667648474
         },
         {
          "x1": 0,
          "x2": 70,
          "x3": 0.001976257908843188
         },
         {
          "x1": 4,
          "x2": 68,
          "x3": 0.6408558088012861
         },
         {
          "x1": 7,
          "x2": 56,
          "x3": 0.9304721317815494
         },
         {
          "x1": 0,
          "x2": 71,
          "x3": 0.08663476254064782
         },
         {
          "x1": 0,
          "x2": 72,
          "x3": 0.039892574705435016
         },
         {
          "x1": 4,
          "x2": 69,
          "x3": 0.16627200934721587
         },
         {
          "x1": 7,
          "x2": 57,
          "x3": 0.9601076859257452
         },
         {
          "x1": 4,
          "x2": 70,
          "x3": 0.8713410417131894
         },
         {
          "x1": 0,
          "x2": 73,
          "x3": 0.32576588357765246
         },
         {
          "x1": 0,
          "x2": 74,
          "x3": 0.11633343049402861
         },
         {
          "x1": 2,
          "x2": 43,
          "x3": 0.17279576662709778
         },
         {
          "x1": 8,
          "x2": 48,
          "x3": 0.7051718448057922
         },
         {
          "x1": 1,
          "x2": 40,
          "x3": 0.348405452206253
         },
         {
          "x1": 4,
          "x2": 71,
          "x3": 0.525854958620051
         },
         {
          "x1": 4,
          "x2": 72,
          "x3": 0.7250999452105344
         },
         {
          "x1": 7,
          "x2": 58,
          "x3": 0.9484836401027021
         },
         {
          "x1": 0,
          "x2": 75,
          "x3": 0.1298213276436809
         },
         {
          "x1": 4,
          "x2": 73,
          "x3": 0.5057502175293344
         },
         {
          "x1": 0,
          "x2": 76,
          "x3": 0.022899494743103654
         },
         {
          "x1": 7,
          "x2": 59,
          "x3": 0.9596155568294436
         },
         {
          "x1": 4,
          "x2": 74,
          "x3": 0.5470191163620705
         },
         {
          "x1": 2,
          "x2": 44,
          "x3": 0.14895616727230343
         },
         {
          "x1": 3,
          "x2": 60,
          "x3": 0.6208534752594849
         },
         {
          "x1": 5,
          "x2": 55,
          "x3": 0.7201982266632153
         },
         {
          "x1": 3,
          "x2": 61,
          "x3": 0.5013899469941082
         },
         {
          "x1": 0,
          "x2": 77,
          "x3": 0.010133622808230497
         },
         {
          "x1": 2,
          "x2": 45,
          "x3": 0.39990283928114845
         },
         {
          "x1": 7,
          "x2": 60,
          "x3": 0.8719884742915179
         },
         {
          "x1": 1,
          "x2": 41,
          "x3": 0.15321812258638215
         },
         {
          "x1": 4,
          "x2": 75,
          "x3": 0.680927032388518
         },
         {
          "x1": 8,
          "x2": 49,
          "x3": 0.9614298557694327
         },
         {
          "x1": 0,
          "x2": 78,
          "x3": 0.03285466555423659
         },
         {
          "x1": 3,
          "x2": 62,
          "x3": 0.49192977706089297
         },
         {
          "x1": 1,
          "x2": 42,
          "x3": 0.0679176964578178
         },
         {
          "x1": 6,
          "x2": 48,
          "x3": 0.8253780753469632
         },
         {
          "x1": 2,
          "x2": 46,
          "x3": 0.3483337152480067
         },
         {
          "x1": 4,
          "x2": 76,
          "x3": 0.4275357222220469
         },
         {
          "x1": 2,
          "x2": 47,
          "x3": 0.06806207402201116
         },
         {
          "x1": 6,
          "x2": 49,
          "x3": 0.8069749798129973
         },
         {
          "x1": 4,
          "x2": 77,
          "x3": 0.5851578003620227
         },
         {
          "x1": 5,
          "x2": 56,
          "x3": 0.7146426428709295
         },
         {
          "x1": 4,
          "x2": 78,
          "x3": 0.6730153695601998
         },
         {
          "x1": 3,
          "x2": 63,
          "x3": 0.46642294368703957
         },
         {
          "x1": 5,
          "x2": 57,
          "x3": 0.5044331523946017
         },
         {
          "x1": 7,
          "x2": 61,
          "x3": 0.6785479307656798
         },
         {
          "x1": 0,
          "x2": 79,
          "x3": 0.09637279282864748
         },
         {
          "x1": 2,
          "x2": 48,
          "x3": 0.12099861930662384
         },
         {
          "x1": 7,
          "x2": 62,
          "x3": 0.9566130856545909
         },
         {
          "x1": 6,
          "x2": 50,
          "x3": 0.45388286680716994
         },
         {
          "x1": 3,
          "x2": 64,
          "x3": 0.349019144797297
         },
         {
          "x1": 7,
          "x2": 63,
          "x3": 0.7034702140532761
         },
         {
          "x1": 6,
          "x2": 51,
          "x3": 0.626396304137845
         },
         {
          "x1": 7,
          "x2": 64,
          "x3": 0.9569239730878779
         },
         {
          "x1": 2,
          "x2": 49,
          "x3": 0.38127547913366855
         },
         {
          "x1": 1,
          "x2": 43,
          "x3": 0.03653106801665491
         },
         {
          "x1": 7,
          "x2": 65,
          "x3": 0.7739605573905399
         },
         {
          "x1": 6,
          "x2": 52,
          "x3": 0.8742162436353906
         },
         {
          "x1": 5,
          "x2": 58,
          "x3": 0.6730155684165703
         },
         {
          "x1": 3,
          "x2": 65,
          "x3": 0.40025905922163546
         },
         {
          "x1": 0,
          "x2": 80,
          "x3": 0.22254520408050693
         },
         {
          "x1": 3,
          "x2": 66,
          "x3": 0.5042885168217881
         },
         {
          "x1": 5,
          "x2": 59,
          "x3": 0.6812314785930594
         },
         {
          "x1": 0,
          "x2": 81,
          "x3": 0.12648597853202734
         },
         {
          "x1": 1,
          "x2": 44,
          "x3": 0.43077302188477434
         },
         {
          "x1": 2,
          "x2": 50,
          "x3": 0.3625325198527388
         },
         {
          "x1": 2,
          "x2": 51,
          "x3": 0.1388262493460318
         },
         {
          "x1": 1,
          "x2": 45,
          "x3": 0.07870974118896416
         },
         {
          "x1": 3,
          "x2": 67,
          "x3": 0.6963574726461296
         },
         {
          "x1": 7,
          "x2": 66,
          "x3": 0.9645087195215201
         },
         {
          "x1": 3,
          "x2": 68,
          "x3": 0.5634171348451149
         },
         {
          "x1": 6,
          "x2": 53,
          "x3": 0.8253885452190235
         },
         {
          "x1": 0,
          "x2": 82,
          "x3": 0.015107538141643766
         },
         {
          "x1": 4,
          "x2": 79,
          "x3": 0.6339006312811365
         },
         {
          "x1": 3,
          "x2": 69,
          "x3": 0.2209283705238591
         },
         {
          "x1": 7,
          "x2": 67,
          "x3": 0.9622904201468768
         },
         {
          "x1": 6,
          "x2": 54,
          "x3": 0.7210322529384702
         },
         {
          "x1": 0,
          "x2": 83,
          "x3": 0.19541924865321922
         },
         {
          "x1": 6,
          "x2": 55,
          "x3": 0.5629341991459152
         },
         {
          "x1": 6,
          "x2": 56,
          "x3": 0.800651443352184
         },
         {
          "x1": 0,
          "x2": 84,
          "x3": 0.04321914047590829
         },
         {
          "x1": 2,
          "x2": 52,
          "x3": 0.34997248675805886
         },
         {
          "x1": 8,
          "x2": 50,
          "x3": 0.9499974985023536
         },
         {
          "x1": 8,
          "x2": 51,
          "x3": 0.9032472179962424
         },
         {
          "x1": 4,
          "x2": 80,
          "x3": 0.4909195283762796
         },
         {
          "x1": 4,
          "x2": 81,
          "x3": 0.33443707261916084
         },
         {
          "x1": 8,
          "x2": 52,
          "x3": 0.9135640313303434
         },
         {
          "x1": 2,
          "x2": 53,
          "x3": 0.19979825387868422
         },
         {
          "x1": 6,
          "x2": 57,
          "x3": 0.7636659162416783
         },
         {
          "x1": 7,
          "x2": 68,
          "x3": 0.8903586179623206
         },
         {
          "x1": 1,
          "x2": 46,
          "x3": 0.03905734468948393
         },
         {
          "x1": 4,
          "x2": 82,
          "x3": 0.49191538278194974
         },
         {
          "x1": 0,
          "x2": 85,
          "x3": 0.31363007310686986
         },
         {
          "x1": 6,
          "x2": 58,
          "x3": 0.5403980028251948
         },
         {
          "x1": 8,
          "x2": 53,
          "x3": 0.9947460250911948
         },
         {
          "x1": 6,
          "x2": 59,
          "x3": 0.7215268425306772
         },
         {
          "x1": 8,
          "x2": 54,
          "x3": 0.7639345985042151
         },
         {
          "x1": 6,
          "x2": 60,
          "x3": 0.4966445440940579
         },
         {
          "x1": 7,
          "x2": 69,
          "x3": 0.8828306086249795
         },
         {
          "x1": 5,
          "x2": 60,
          "x3": 0.23452446982815287
         },
         {
          "x1": 8,
          "x2": 55,
          "x3": 0.9383519184451539
         },
         {
          "x1": 0,
          "x2": 86,
          "x3": 0.027578736335629565
         },
         {
          "x1": 6,
          "x2": 61,
          "x3": 0.3711712154245395
         },
         {
          "x1": 0,
          "x2": 87,
          "x3": 0.25000309416462824
         },
         {
          "x1": 6,
          "x2": 62,
          "x3": 0.7080001936442423
         },
         {
          "x1": 8,
          "x2": 56,
          "x3": 0.9584614774229409
         },
         {
          "x1": 0,
          "x2": 88,
          "x3": 0.037890804776127905
         },
         {
          "x1": 8,
          "x2": 57,
          "x3": 0.9765559899494861
         },
         {
          "x1": 7,
          "x2": 70,
          "x3": 0.800790379875961
         },
         {
          "x1": 1,
          "x2": 47,
          "x3": 0.22625193940729948
         },
         {
          "x1": 7,
          "x2": 71,
          "x3": 0.8534447464129814
         },
         {
          "x1": 2,
          "x2": 54,
          "x3": 0.11287573373749163
         },
         {
          "x1": 0,
          "x2": 89,
          "x3": 0.11909882316750799
         },
         {
          "x1": 2,
          "x2": 55,
          "x3": 0.26768112615060596
         },
         {
          "x1": 8,
          "x2": 58,
          "x3": 0.8016986552315053
         },
         {
          "x1": 1,
          "x2": 48,
          "x3": 0.3058560648715516
         },
         {
          "x1": 8,
          "x2": 59,
          "x3": 0.6070111005037274
         },
         {
          "x1": 7,
          "x2": 72,
          "x3": 0.8927586178175945
         },
         {
          "x1": 6,
          "x2": 63,
          "x3": 0.7666033847412059
         },
         {
          "x1": 4,
          "x2": 83,
          "x3": 0.3112352742722516
         },
         {
          "x1": 0,
          "x2": 90,
          "x3": 0.035401119139981445
         },
         {
          "x1": 1,
          "x2": 49,
          "x3": 0.408284869978702
         },
         {
          "x1": 2,
          "x2": 56,
          "x3": 0.2863820149851964
         },
         {
          "x1": 6,
          "x2": 64,
          "x3": 0.7316174274628715
         },
         {
          "x1": 2,
          "x2": 57,
          "x3": 0.3297872242402876
         },
         {
          "x1": 8,
          "x2": 60,
          "x3": 0.956160818878839
         },
         {
          "x1": 5,
          "x2": 61,
          "x3": 0.4883292113874611
         },
         {
          "x1": 6,
          "x2": 65,
          "x3": 0.8784027708640276
         },
         {
          "x1": 1,
          "x2": 50,
          "x3": 0.41093485930878054
         },
         {
          "x1": 6,
          "x2": 66,
          "x3": 0.6648756098839766
         },
         {
          "x1": 7,
          "x2": 73,
          "x3": 0.8074568080633443
         },
         {
          "x1": 1,
          "x2": 51,
          "x3": 0.23529254358376686
         },
         {
          "x1": 5,
          "x2": 62,
          "x3": 0.5524146116909204
         },
         {
          "x1": 0,
          "x2": 91,
          "x3": 0.07069928702631662
         },
         {
          "x1": 1,
          "x2": 52,
          "x3": 0.21371172730621693
         },
         {
          "x1": 2,
          "x2": 58,
          "x3": 0.2620048082775571
         },
         {
          "x1": 3,
          "x2": 70,
          "x3": 0.3593661319502644
         },
         {
          "x1": 4,
          "x2": 84,
          "x3": 0.43461073729831895
         },
         {
          "x1": 5,
          "x2": 63,
          "x3": 0.7254276370569314
         },
         {
          "x1": 3,
          "x2": 71,
          "x3": 0.7979277851366673
         },
         {
          "x1": 4,
          "x2": 85,
          "x3": 0.5140305164691563
         },
         {
          "x1": 2,
          "x2": 59,
          "x3": 0.30487583369975657
         },
         {
          "x1": 2,
          "x2": 60,
          "x3": 0.5371597628615914
         },
         {
          "x1": 2,
          "x2": 61,
          "x3": 0.16776337829702012
         },
         {
          "x1": 1,
          "x2": 53,
          "x3": 0.12313308414560784
         },
         {
          "x1": 0,
          "x2": 92,
          "x3": 0.03877741628475127
         },
         {
          "x1": 4,
          "x2": 86,
          "x3": 0.5998569227332552
         },
         {
          "x1": 5,
          "x2": 64,
          "x3": 0.4834896503240492
         },
         {
          "x1": 1,
          "x2": 54,
          "x3": 0.14420794214273894
         },
         {
          "x1": 6,
          "x2": 67,
          "x3": 0.7799132882453432
         },
         {
          "x1": 4,
          "x2": 87,
          "x3": 0.40221232003911384
         },
         {
          "x1": 2,
          "x2": 62,
          "x3": 0.4911540227820472
         },
         {
          "x1": 0,
          "x2": 93,
          "x3": 0.03086569584210426
         },
         {
          "x1": 2,
          "x2": 63,
          "x3": 0.3384043894814425
         },
         {
          "x1": 0,
          "x2": 94,
          "x3": 0.05867736428415921
         },
         {
          "x1": 5,
          "x2": 65,
          "x3": 0.5575486398215354
         },
         {
          "x1": 4,
          "x2": 88,
          "x3": 0.6334542242118633
         },
         {
          "x1": 3,
          "x2": 72,
          "x3": 0.32077804006142424
         },
         {
          "x1": 0,
          "x2": 95,
          "x3": 0.004557689654610937
         },
         {
          "x1": 8,
          "x2": 61,
          "x3": 0.9766754407570934
         },
         {
          "x1": 1,
          "x2": 55,
          "x3": 0.2847602335324527
         },
         {
          "x1": 3,
          "x2": 73,
          "x3": 0.4680606856604888
         },
         {
          "x1": 8,
          "x2": 62,
          "x3": 0.965113593615516
         },
         {
          "x1": 6,
          "x2": 68,
          "x3": 0.8163294149358307
         },
         {
          "x1": 5,
          "x2": 66,
          "x3": 0.5396662433667514
         },
         {
          "x1": 6,
          "x2": 69,
          "x3": 0.619520337088789
         },
         {
          "x1": 8,
          "x2": 63,
          "x3": 0.9484325442384137
         },
         {
          "x1": 2,
          "x2": 64,
          "x3": 0.28536567088647946
         },
         {
          "x1": 2,
          "x2": 65,
          "x3": 0.0971154645313918
         },
         {
          "x1": 0,
          "x2": 96,
          "x3": 0.24211674282545564
         },
         {
          "x1": 8,
          "x2": 64,
          "x3": 0.8222458200850388
         },
         {
          "x1": 5,
          "x2": 67,
          "x3": 0.556082627231615
         },
         {
          "x1": 3,
          "x2": 74,
          "x3": 0.4522055310964095
         },
         {
          "x1": 8,
          "x2": 65,
          "x3": 0.695071208919209
         },
         {
          "x1": 0,
          "x2": 97,
          "x3": 0.045935858731588404
         },
         {
          "x1": 6,
          "x2": 70,
          "x3": 0.8133708244061293
         },
         {
          "x1": 2,
          "x2": 66,
          "x3": 0.11140922901901049
         },
         {
          "x1": 7,
          "x2": 74,
          "x3": 0.873874690942015
         },
         {
          "x1": 3,
          "x2": 75,
          "x3": 0.33551580095390593
         },
         {
          "x1": 3,
          "x2": 76,
          "x3": 0.76996654869066
         },
         {
          "x1": 6,
          "x2": 71,
          "x3": 0.39770668389963
         },
         {
          "x1": 8,
          "x2": 66,
          "x3": 0.953444354851585
         },
         {
          "x1": 6,
          "x2": 72,
          "x3": 0.7526955986384912
         },
         {
          "x1": 8,
          "x2": 67,
          "x3": 0.6266678179109701
         },
         {
          "x1": 7,
          "x2": 75,
          "x3": 0.6371306663551004
         },
         {
          "x1": 0,
          "x2": 98,
          "x3": 0.0017681593382032302
         },
         {
          "x1": 4,
          "x2": 89,
          "x3": 0.490012146836796
         },
         {
          "x1": 5,
          "x2": 68,
          "x3": 0.6127383236496308
         },
         {
          "x1": 3,
          "x2": 77,
          "x3": 0.3102970371067673
         },
         {
          "x1": 8,
          "x2": 68,
          "x3": 0.8183643160346082
         },
         {
          "x1": 7,
          "x2": 76,
          "x3": 0.8451809864325096
         },
         {
          "x1": 8,
          "x2": 69,
          "x3": 0.9996698398603999
         },
         {
          "x1": 3,
          "x2": 78,
          "x3": 0.6233487400297203
         },
         {
          "x1": 7,
          "x2": 77,
          "x3": 0.8922589375989005
         },
         {
          "x1": 4,
          "x2": 90,
          "x3": 0.5670463271850006
         },
         {
          "x1": 3,
          "x2": 79,
          "x3": 0.30390587479567854
         },
         {
          "x1": 2,
          "x2": 67,
          "x3": 0.2106498184123601
         },
         {
          "x1": 0,
          "x2": 99,
          "x3": 0.0059668803029094795
         },
         {
          "x1": 1,
          "x2": 56,
          "x3": 0.29840777643093874
         },
         {
          "x1": 6,
          "x2": 73,
          "x3": 0.6707080027520639
         },
         {
          "x1": 0,
          "x2": 100,
          "x3": 0.033435046185786625
         },
         {
          "x1": 1,
          "x2": 57,
          "x3": 0.19638642717505062
         },
         {
          "x1": 6,
          "x2": 74,
          "x3": 0.46493633456059164
         },
         {
          "x1": 2,
          "x2": 68,
          "x3": 0.12528015888554153
         },
         {
          "x1": 1,
          "x2": 58,
          "x3": 0.34039179509326356
         },
         {
          "x1": 6,
          "x2": 75,
          "x3": 0.7393598398629909
         },
         {
          "x1": 3,
          "x2": 80,
          "x3": 0.47473274344798655
         },
         {
          "x1": 5,
          "x2": 69,
          "x3": 0.5203010404572794
         },
         {
          "x1": 3,
          "x2": 81,
          "x3": 0.4031180796659853
         },
         {
          "x1": 0,
          "x2": 101,
          "x3": 0.11520322390528405
         },
         {
          "x1": 6,
          "x2": 76,
          "x3": 0.7163614575676897
         },
         {
          "x1": 1,
          "x2": 59,
          "x3": 0.25204352247809547
         },
         {
          "x1": 5,
          "x2": 70,
          "x3": 0.7315592554582852
         },
         {
          "x1": 3,
          "x2": 82,
          "x3": 0.37145125785100036
         },
         {
          "x1": 2,
          "x2": 69,
          "x3": 0.12699975232473618
         },
         {
          "x1": 1,
          "x2": 60,
          "x3": 0.26107089856731897
         },
         {
          "x1": 5,
          "x2": 71,
          "x3": 0.2196013435394039
         },
         {
          "x1": 0,
          "x2": 102,
          "x3": 0.14688973357290705
         },
         {
          "x1": 1,
          "x2": 61,
          "x3": 0.046000685444661155
         },
         {
          "x1": 7,
          "x2": 78,
          "x3": 0.8783963265233623
         },
         {
          "x1": 8,
          "x2": 70,
          "x3": 0.8576859904746286
         },
         {
          "x1": 2,
          "x2": 70,
          "x3": 0.3315318350672739
         },
         {
          "x1": 7,
          "x2": 79,
          "x3": 0.6180592244501071
         },
         {
          "x1": 2,
          "x2": 71,
          "x3": 0.12105914266754654
         },
         {
          "x1": 3,
          "x2": 83,
          "x3": 0.5610133753717439
         },
         {
          "x1": 7,
          "x2": 80,
          "x3": 0.9059288557952101
         },
         {
          "x1": 8,
          "x2": 71,
          "x3": 0.8805250834108272
         },
         {
          "x1": 7,
          "x2": 81,
          "x3": 0.4852144223318911
         },
         {
          "x1": 4,
          "x2": 91,
          "x3": 0.3147675873015623
         },
         {
          "x1": 8,
          "x2": 72,
          "x3": 0.7793320426222332
         },
         {
          "x1": 8,
          "x2": 73,
          "x3": 0.9452495341246935
         },
         {
          "x1": 5,
          "x2": 72,
          "x3": 0.715541093590079
         },
         {
          "x1": 8,
          "x2": 74,
          "x3": 0.8795559684448013
         },
         {
          "x1": 7,
          "x2": 82,
          "x3": 0.8820225301848938
         },
         {
          "x1": 0,
          "x2": 103,
          "x3": 0.006663436401902133
         },
         {
          "x1": 3,
          "x2": 84,
          "x3": 0.585158560053752
         },
         {
          "x1": 7,
          "x2": 83,
          "x3": 0.7756676782036227
         },
         {
          "x1": 2,
          "x2": 72,
          "x3": 0.10616647290792984
         },
         {
          "x1": 0,
          "x2": 104,
          "x3": 0.07240343029231232
         },
         {
          "x1": 8,
          "x2": 75,
          "x3": 0.9967991431324386
         },
         {
          "x1": 1,
          "x2": 62,
          "x3": 0.232099875523391
         },
         {
          "x1": 5,
          "x2": 73,
          "x3": 0.7602702240091012
         },
         {
          "x1": 1,
          "x2": 63,
          "x3": 0.17178698418291796
         },
         {
          "x1": 6,
          "x2": 77,
          "x3": 0.8686637266337657
         },
         {
          "x1": 5,
          "x2": 74,
          "x3": 0.7430964312367239
         },
         {
          "x1": 0,
          "x2": 105,
          "x3": 0.04210573586152287
         },
         {
          "x1": 6,
          "x2": 78,
          "x3": 0.6828004981121965
         },
         {
          "x1": 8,
          "x2": 76,
          "x3": 0.7925790470873916
         },
         {
          "x1": 7,
          "x2": 84,
          "x3": 0.8836930950216005
         },
         {
          "x1": 3,
          "x2": 85,
          "x3": 0.40637565098141604
         },
         {
          "x1": 0,
          "x2": 106,
          "x3": 0.10112744581712989
         },
         {
          "x1": 0,
          "x2": 107,
          "x3": 0.004511820345014663
         },
         {
          "x1": 5,
          "x2": 75,
          "x3": 0.32517715849065837
         },
         {
          "x1": 6,
          "x2": 79,
          "x3": 0.5832691996413348
         },
         {
          "x1": 6,
          "x2": 80,
          "x3": 0.8534079519636015
         },
         {
          "x1": 0,
          "x2": 108,
          "x3": 0.007284997121693469
         },
         {
          "x1": 6,
          "x2": 81,
          "x3": 0.757116816851843
         },
         {
          "x1": 0,
          "x2": 109,
          "x3": 0.14209927954264887
         },
         {
          "x1": 0,
          "x2": 110,
          "x3": 0.08547788986592496
         },
         {
          "x1": 5,
          "x2": 76,
          "x3": 0.49136826916987775
         },
         {
          "x1": 4,
          "x2": 92,
          "x3": 0.5741729415539824
         },
         {
          "x1": 5,
          "x2": 77,
          "x3": 0.6694317023926368
         },
         {
          "x1": 4,
          "x2": 93,
          "x3": 0.5900763770783292
         },
         {
          "x1": 3,
          "x2": 86,
          "x3": 0.4429393805830909
         },
         {
          "x1": 1,
          "x2": 64,
          "x3": 0.4368030876412799
         },
         {
          "x1": 6,
          "x2": 82,
          "x3": 0.6865573237353589
         },
         {
          "x1": 8,
          "x2": 77,
          "x3": 0.9137546047208714
         },
         {
          "x1": 5,
          "x2": 78,
          "x3": 0.5211758971499191
         },
         {
          "x1": 7,
          "x2": 85,
          "x3": 0.5104397823210748
         },
         {
          "x1": 1,
          "x2": 65,
          "x3": 0.07258241854478675
         },
         {
          "x1": 1,
          "x2": 66,
          "x3": 0.21982090850486
         },
         {
          "x1": 4,
          "x2": 94,
          "x3": 0.4052486159285701
         },
         {
          "x1": 5,
          "x2": 79,
          "x3": 0.4683691571737387
         },
         {
          "x1": 8,
          "x2": 78,
          "x3": 0.9662437672333463
         },
         {
          "x1": 4,
          "x2": 95,
          "x3": 0.5521152566063847
         },
         {
          "x1": 2,
          "x2": 73,
          "x3": 0.28072676671633234
         },
         {
          "x1": 4,
          "x2": 96,
          "x3": 0.3949080935851677
         },
         {
          "x1": 4,
          "x2": 97,
          "x3": 0.6108494144383285
         },
         {
          "x1": 6,
          "x2": 83,
          "x3": 0.5548690660620346
         },
         {
          "x1": 4,
          "x2": 98,
          "x3": 0.6857657384377822
         },
         {
          "x1": 2,
          "x2": 74,
          "x3": 0.497191470892216
         },
         {
          "x1": 1,
          "x2": 67,
          "x3": 0.3970343963375114
         },
         {
          "x1": 4,
          "x2": 99,
          "x3": 0.7794698715985097
         },
         {
          "x1": 1,
          "x2": 68,
          "x3": 0.22621695752680585
         },
         {
          "x1": 8,
          "x2": 79,
          "x3": 0.9514040840857617
         },
         {
          "x1": 6,
          "x2": 84,
          "x3": 0.6909801707660935
         },
         {
          "x1": 6,
          "x2": 85,
          "x3": 0.622435444872162
         },
         {
          "x1": 3,
          "x2": 87,
          "x3": 0.48781878554506364
         },
         {
          "x1": 3,
          "x2": 88,
          "x3": 0.4944685768194497
         },
         {
          "x1": 6,
          "x2": 86,
          "x3": 0.7870008090831548
         },
         {
          "x1": 4,
          "x2": 100,
          "x3": 0.45705032614743546
         },
         {
          "x1": 1,
          "x2": 69,
          "x3": 0.3043248833475732
         },
         {
          "x1": 1,
          "x2": 70,
          "x3": 0.3154097983000081
         },
         {
          "x1": 1,
          "x2": 71,
          "x3": 0.18000671704185825
         },
         {
          "x1": 0,
          "x2": 111,
          "x3": 0.09368786283449132
         },
         {
          "x1": 7,
          "x2": 86,
          "x3": 0.9140224997065787
         },
         {
          "x1": 3,
          "x2": 89,
          "x3": 0.32039586935753894
         },
         {
          "x1": 6,
          "x2": 87,
          "x3": 0.8321124125927998
         },
         {
          "x1": 1,
          "x2": 72,
          "x3": 0.4077672989794858
         },
         {
          "x1": 6,
          "x2": 88,
          "x3": 0.8608790333527077
         },
         {
          "x1": 1,
          "x2": 73,
          "x3": 0.18048432164687245
         },
         {
          "x1": 2,
          "x2": 75,
          "x3": 0.30494695360267987
         },
         {
          "x1": 5,
          "x2": 80,
          "x3": 0.45657113248900716
         },
         {
          "x1": 0,
          "x2": 112,
          "x3": 0.03941399606368478
         },
         {
          "x1": 6,
          "x2": 89,
          "x3": 0.5793154156049896
         },
         {
          "x1": 7,
          "x2": 87,
          "x3": 0.9654616281831385
         },
         {
          "x1": 2,
          "x2": 76,
          "x3": 0.15075298245980562
         },
         {
          "x1": 5,
          "x2": 81,
          "x3": 0.4980675430752684
         },
         {
          "x1": 1,
          "x2": 74,
          "x3": 0.3684612619176341
         },
         {
          "x1": 7,
          "x2": 88,
          "x3": 0.8749813798009525
         },
         {
          "x1": 3,
          "x2": 90,
          "x3": 0.291961408633358
         },
         {
          "x1": 4,
          "x2": 101,
          "x3": 0.5939683919547414
         },
         {
          "x1": 1,
          "x2": 75,
          "x3": 0.3039112772358752
         },
         {
          "x1": 8,
          "x2": 80,
          "x3": 0.9808609583191269
         },
         {
          "x1": 2,
          "x2": 77,
          "x3": 0.12804146347834286
         },
         {
          "x1": 0,
          "x2": 113,
          "x3": 0.03736009620794076
         },
         {
          "x1": 4,
          "x2": 102,
          "x3": 0.6334456121875331
         },
         {
          "x1": 4,
          "x2": 103,
          "x3": 0.3648151357929632
         },
         {
          "x1": 2,
          "x2": 78,
          "x3": 0.30350852213280777
         },
         {
          "x1": 6,
          "x2": 90,
          "x3": 0.525241003724085
         },
         {
          "x1": 6,
          "x2": 91,
          "x3": 0.4413895247042706
         },
         {
          "x1": 4,
          "x2": 104,
          "x3": 0.5232623136117668
         },
         {
          "x1": 2,
          "x2": 79,
          "x3": 0.162602480229258
         },
         {
          "x1": 5,
          "x2": 82,
          "x3": 0.5649899773468396
         },
         {
          "x1": 0,
          "x2": 114,
          "x3": 0.07584448058570999
         },
         {
          "x1": 6,
          "x2": 92,
          "x3": 0.6457755148383986
         },
         {
          "x1": 7,
          "x2": 89,
          "x3": 0.7225035125187601
         },
         {
          "x1": 0,
          "x2": 115,
          "x3": 0.19086344804753938
         },
         {
          "x1": 6,
          "x2": 93,
          "x3": 0.8429802384736825
         },
         {
          "x1": 6,
          "x2": 94,
          "x3": 0.5175259555800726
         },
         {
          "x1": 5,
          "x2": 83,
          "x3": 0.6557242905585093
         },
         {
          "x1": 2,
          "x2": 80,
          "x3": 0.14386705751543905
         },
         {
          "x1": 1,
          "x2": 76,
          "x3": 0.213186621815525
         },
         {
          "x1": 8,
          "x2": 81,
          "x3": 0.9533503424012414
         },
         {
          "x1": 7,
          "x2": 90,
          "x3": 0.7626914465866421
         },
         {
          "x1": 1,
          "x2": 77,
          "x3": 0.22361899908085525
         },
         {
          "x1": 7,
          "x2": 91,
          "x3": 0.9065306813334034
         },
         {
          "x1": 0,
          "x2": 116,
          "x3": 0.31184596128426734
         },
         {
          "x1": 7,
          "x2": 92,
          "x3": 0.8163838201302158
         },
         {
          "x1": 4,
          "x2": 105,
          "x3": 0.1876954987508562
         },
         {
          "x1": 1,
          "x2": 78,
          "x3": 0.08507315754571482
         },
         {
          "x1": 4,
          "x2": 106,
          "x3": 0.6212150265563596
         },
         {
          "x1": 5,
          "x2": 84,
          "x3": 0.6754054895985282
         },
         {
          "x1": 4,
          "x2": 107,
          "x3": 0.39938735349003884
         },
         {
          "x1": 4,
          "x2": 108,
          "x3": 0.4358580151394297
         },
         {
          "x1": 3,
          "x2": 91,
          "x3": 0.09294164958106416
         },
         {
          "x1": 1,
          "x2": 79,
          "x3": 0.029921275776126428
         },
         {
          "x1": 2,
          "x2": 81,
          "x3": 0.298833804081976
         },
         {
          "x1": 5,
          "x2": 85,
          "x3": 0.5628352854008288
         },
         {
          "x1": 5,
          "x2": 86,
          "x3": 0.5362710616298211
         },
         {
          "x1": 1,
          "x2": 80,
          "x3": 0.10275241521326153
         },
         {
          "x1": 5,
          "x2": 87,
          "x3": 0.5654704291804322
         },
         {
          "x1": 4,
          "x2": 109,
          "x3": 0.2923246161422933
         },
         {
          "x1": 6,
          "x2": 95,
          "x3": 0.6837117963401482
         },
         {
          "x1": 8,
          "x2": 82,
          "x3": 0.9146318598569544
         },
         {
          "x1": 6,
          "x2": 96,
          "x3": 0.7469439132358995
         },
         {
          "x1": 3,
          "x2": 92,
          "x3": 0.46024186824987684
         },
         {
          "x1": 0,
          "x2": 117,
          "x3": 0.13921337397206066
         },
         {
          "x1": 8,
          "x2": 83,
          "x3": 0.808651561499636
         },
         {
          "x1": 5,
          "x2": 88,
          "x3": 0.8014497846201459
         },
         {
          "x1": 3,
          "x2": 93,
          "x3": 0.42298715137771725
         },
         {
          "x1": 4,
          "x2": 110,
          "x3": 0.41373452195456545
         },
         {
          "x1": 5,
          "x2": 89,
          "x3": 0.2615225840324369
         },
         {
          "x1": 2,
          "x2": 82,
          "x3": 0.37278188027863496
         },
         {
          "x1": 2,
          "x2": 83,
          "x3": 0.22015772801800215
         },
         {
          "x1": 5,
          "x2": 90,
          "x3": 0.7648466594042425
         },
         {
          "x1": 8,
          "x2": 84,
          "x3": 0.7512096209382434
         },
         {
          "x1": 7,
          "x2": 93,
          "x3": 0.5999922052451843
         },
         {
          "x1": 7,
          "x2": 94,
          "x3": 0.8239414231106783
         },
         {
          "x1": 0,
          "x2": 118,
          "x3": 0.08124395614388055
         },
         {
          "x1": 7,
          "x2": 95,
          "x3": 0.6454679547284806
         },
         {
          "x1": 7,
          "x2": 96,
          "x3": 0.8128319828567231
         },
         {
          "x1": 4,
          "x2": 111,
          "x3": 0.8017489892818089
         },
         {
          "x1": 6,
          "x2": 97,
          "x3": 0.5694600808779636
         },
         {
          "x1": 4,
          "x2": 112,
          "x3": 0.37183559559432944
         },
         {
          "x1": 4,
          "x2": 113,
          "x3": 0.5555279728890659
         },
         {
          "x1": 5,
          "x2": 91,
          "x3": 0.5929244369136135
         },
         {
          "x1": 5,
          "x2": 92,
          "x3": 0.5357249310765559
         },
         {
          "x1": 2,
          "x2": 84,
          "x3": 0.151385413076522
         },
         {
          "x1": 7,
          "x2": 97,
          "x3": 0.7720941846758843
         },
         {
          "x1": 8,
          "x2": 85,
          "x3": 0.9675345669614618
         },
         {
          "x1": 1,
          "x2": 81,
          "x3": 0.10565947712925679
         },
         {
          "x1": 5,
          "x2": 93,
          "x3": 0.4633535954841011
         },
         {
          "x1": 7,
          "x2": 98,
          "x3": 0.7623210695488641
         },
         {
          "x1": 6,
          "x2": 98,
          "x3": 0.6593474426930469
         },
         {
          "x1": 2,
          "x2": 85,
          "x3": 0.4021107222596025
         },
         {
          "x1": 4,
          "x2": 114,
          "x3": 0.47932757667089676
         },
         {
          "x1": 8,
          "x2": 86,
          "x3": 0.9875732120136108
         },
         {
          "x1": 5,
          "x2": 94,
          "x3": 0.7651920331800321
         },
         {
          "x1": 8,
          "x2": 87,
          "x3": 0.76489859463313
         },
         {
          "x1": 3,
          "x2": 94,
          "x3": 0.545694873467087
         },
         {
          "x1": 7,
          "x2": 99,
          "x3": 0.8655938632184794
         },
         {
          "x1": 0,
          "x2": 119,
          "x3": 0.07221312365947129
         },
         {
          "x1": 5,
          "x2": 95,
          "x3": 0.719299769300365
         },
         {
          "x1": 8,
          "x2": 88,
          "x3": 0.9345407831965262
         },
         {
          "x1": 5,
          "x2": 96,
          "x3": 0.6177375502207256
         },
         {
          "x1": 3,
          "x2": 95,
          "x3": 0.580908333610921
         },
         {
          "x1": 5,
          "x2": 97,
          "x3": 0.3867280038902198
         },
         {
          "x1": 0,
          "x2": 120,
          "x3": 0.09911530017095817
         },
         {
          "x1": 2,
          "x2": 86,
          "x3": 0.239407949326769
         },
         {
          "x1": 3,
          "x2": 96,
          "x3": 0.6287867959524633
         },
         {
          "x1": 1,
          "x2": 82,
          "x3": 0.09948618337097011
         },
         {
          "x1": 7,
          "x2": 100,
          "x3": 0.7639398844035291
         },
         {
          "x1": 8,
          "x2": 89,
          "x3": 0.9778887671243855
         },
         {
          "x1": 2,
          "x2": 87,
          "x3": 0.28708770121204563
         },
         {
          "x1": 6,
          "x2": 99,
          "x3": 0.48075522382384983
         },
         {
          "x1": 3,
          "x2": 97,
          "x3": 0.27548124014242803
         },
         {
          "x1": 2,
          "x2": 88,
          "x3": 0.33019508736818015
         },
         {
          "x1": 4,
          "x2": 115,
          "x3": 0.6520499163572059
         },
         {
          "x1": 6,
          "x2": 100,
          "x3": 0.8108547970263352
         },
         {
          "x1": 1,
          "x2": 83,
          "x3": 0.21447530629188893
         },
         {
          "x1": 8,
          "x2": 90,
          "x3": 0.8894766932533416
         },
         {
          "x1": 0,
          "x2": 121,
          "x3": 0.16733896243505467
         },
         {
          "x1": 3,
          "x2": 98,
          "x3": 0.29060533208872047
         },
         {
          "x1": 4,
          "x2": 116,
          "x3": 0.6118721392221844
         },
         {
          "x1": 6,
          "x2": 101,
          "x3": 0.49071649748581747
         },
         {
          "x1": 4,
          "x2": 117,
          "x3": 0.48176580745425274
         },
         {
          "x1": 8,
          "x2": 91,
          "x3": 0.8858952482084864
         },
         {
          "x1": 5,
          "x2": 98,
          "x3": 0.6092430314449789
         },
         {
          "x1": 2,
          "x2": 89,
          "x3": 0.13887875803106625
         },
         {
          "x1": 2,
          "x2": 90,
          "x3": 0.35214814368288405
         },
         {
          "x1": 0,
          "x2": 122,
          "x3": 0.08936675222635176
         },
         {
          "x1": 3,
          "x2": 99,
          "x3": 0.5622675803790786
         },
         {
          "x1": 0,
          "x2": 123,
          "x3": 0.13001708370578036
         },
         {
          "x1": 7,
          "x2": 101,
          "x3": 0.7198174839367054
         },
         {
          "x1": 2,
          "x2": 91,
          "x3": 0.38755768170538024
         },
         {
          "x1": 4,
          "x2": 118,
          "x3": 0.3667254182916258
         },
         {
          "x1": 5,
          "x2": 99,
          "x3": 0.8732217469314056
         },
         {
          "x1": 4,
          "x2": 119,
          "x3": 0.48300341823150356
         },
         {
          "x1": 6,
          "x2": 102,
          "x3": 0.8713969613870292
         },
         {
          "x1": 6,
          "x2": 103,
          "x3": 0.6793228413594091
         },
         {
          "x1": 8,
          "x2": 92,
          "x3": 0.9423609679643795
         },
         {
          "x1": 8,
          "x2": 93,
          "x3": 0.9914165663750956
         },
         {
          "x1": 0,
          "x2": 124,
          "x3": 0.09008503964126902
         },
         {
          "x1": 3,
          "x2": 100,
          "x3": 0.32808883428301905
         },
         {
          "x1": 7,
          "x2": 102,
          "x3": 0.9033046583768994
         },
         {
          "x1": 0,
          "x2": 125,
          "x3": 0.2547039139952296
         },
         {
          "x1": 5,
          "x2": 100,
          "x3": 0.45679903341553507
         },
         {
          "x1": 8,
          "x2": 94,
          "x3": 0.899533783579295
         },
         {
          "x1": 3,
          "x2": 101,
          "x3": 0.3475398143720458
         },
         {
          "x1": 8,
          "x2": 95,
          "x3": 0.9225436641771476
         },
         {
          "x1": 4,
          "x2": 120,
          "x3": 0.3302444294405663
         },
         {
          "x1": 6,
          "x2": 104,
          "x3": 0.760861656770987
         },
         {
          "x1": 3,
          "x2": 102,
          "x3": 0.6215890736665068
         },
         {
          "x1": 7,
          "x2": 103,
          "x3": 0.6462841773616094
         },
         {
          "x1": 5,
          "x2": 101,
          "x3": 0.23264031167479823
         },
         {
          "x1": 7,
          "x2": 104,
          "x3": 0.628615698808432
         },
         {
          "x1": 7,
          "x2": 105,
          "x3": 0.8148760082325227
         },
         {
          "x1": 3,
          "x2": 103,
          "x3": 0.23512311595879617
         },
         {
          "x1": 4,
          "x2": 121,
          "x3": 0.8162721040738615
         },
         {
          "x1": 4,
          "x2": 122,
          "x3": 0.6603747202636284
         },
         {
          "x1": 3,
          "x2": 104,
          "x3": 0.28185890901028926
         },
         {
          "x1": 6,
          "x2": 105,
          "x3": 0.5848280255843696
         },
         {
          "x1": 5,
          "x2": 102,
          "x3": 0.7992716635629573
         },
         {
          "x1": 8,
          "x2": 96,
          "x3": 0.9395212851665039
         },
         {
          "x1": 2,
          "x2": 92,
          "x3": 0.3709157283991994
         },
         {
          "x1": 3,
          "x2": 105,
          "x3": 0.3500358572335151
         },
         {
          "x1": 8,
          "x2": 97,
          "x3": 0.9305713667605289
         },
         {
          "x1": 6,
          "x2": 106,
          "x3": 0.5575204814686613
         },
         {
          "x1": 0,
          "x2": 126,
          "x3": 0.02797430613914294
         },
         {
          "x1": 2,
          "x2": 93,
          "x3": 0.3696685532114309
         },
         {
          "x1": 5,
          "x2": 103,
          "x3": 0.3361267347893865
         },
         {
          "x1": 3,
          "x2": 106,
          "x3": 0.2696913196346912
         },
         {
          "x1": 0,
          "x2": 127,
          "x3": 0.03161896106990719
         },
         {
          "x1": 6,
          "x2": 107,
          "x3": 0.8517184039908405
         },
         {
          "x1": 2,
          "x2": 94,
          "x3": 0.18442974676102084
         },
         {
          "x1": 7,
          "x2": 106,
          "x3": 0.7459338976358163
         },
         {
          "x1": 4,
          "x2": 123,
          "x3": 0.5815840165650454
         },
         {
          "x1": 8,
          "x2": 98,
          "x3": 0.8584845118991143
         },
         {
          "x1": 8,
          "x2": 99,
          "x3": 0.9659753603531844
         },
         {
          "x1": 4,
          "x2": 124,
          "x3": 0.4387141156208252
         },
         {
          "x1": 5,
          "x2": 104,
          "x3": 0.4394940310255306
         },
         {
          "x1": 8,
          "x2": 100,
          "x3": 0.8947393566813804
         },
         {
          "x1": 4,
          "x2": 125,
          "x3": 0.5566339176486137
         },
         {
          "x1": 6,
          "x2": 108,
          "x3": 0.7688637291914673
         },
         {
          "x1": 1,
          "x2": 84,
          "x3": 0.2385371708765589
         },
         {
          "x1": 6,
          "x2": 109,
          "x3": 0.7592353373063475
         },
         {
          "x1": 4,
          "x2": 126,
          "x3": 0.4316130262664365
         },
         {
          "x1": 1,
          "x2": 85,
          "x3": 0.44296305484761767
         },
         {
          "x1": 2,
          "x2": 95,
          "x3": 0.2429158041435451
         },
         {
          "x1": 3,
          "x2": 107,
          "x3": 0.28433540838146876
         },
         {
          "x1": 6,
          "x2": 110,
          "x3": 0.9070094081848777
         },
         {
          "x1": 7,
          "x2": 107,
          "x3": 0.8693730542231353
         },
         {
          "x1": 6,
          "x2": 111,
          "x3": 0.5095941612703639
         },
         {
          "x1": 2,
          "x2": 96,
          "x3": 0.4414611250554964
         },
         {
          "x1": 4,
          "x2": 127,
          "x3": 0.24157823315524346
         },
         {
          "x1": 0,
          "x2": 128,
          "x3": 0.23648716808300718
         },
         {
          "x1": 5,
          "x2": 105,
          "x3": 0.5165254218685055
         },
         {
          "x1": 3,
          "x2": 108,
          "x3": 0.23046312778725017
         },
         {
          "x1": 5,
          "x2": 106,
          "x3": 0.8489772924023727
         },
         {
          "x1": 7,
          "x2": 108,
          "x3": 0.534575853833757
         },
         {
          "x1": 8,
          "x2": 101,
          "x3": 0.8145751527478529
         },
         {
          "x1": 3,
          "x2": 109,
          "x3": 0.2964514027259403
         },
         {
          "x1": 4,
          "x2": 128,
          "x3": 0.40085847384323453
         },
         {
          "x1": 4,
          "x2": 129,
          "x3": 0.48156388440807313
         },
         {
          "x1": 4,
          "x2": 130,
          "x3": 0.7300915922301505
         },
         {
          "x1": 2,
          "x2": 97,
          "x3": 0.4039412657898543
         },
         {
          "x1": 5,
          "x2": 107,
          "x3": 0.7701655858366501
         },
         {
          "x1": 3,
          "x2": 110,
          "x3": 0.4307301934145272
         },
         {
          "x1": 8,
          "x2": 102,
          "x3": 0.8418235291722604
         },
         {
          "x1": 7,
          "x2": 109,
          "x3": 0.8778554659678186
         },
         {
          "x1": 1,
          "x2": 86,
          "x3": 0.100236572222214
         },
         {
          "x1": 7,
          "x2": 110,
          "x3": 0.5789063913302337
         },
         {
          "x1": 8,
          "x2": 103,
          "x3": 0.924610267997808
         },
         {
          "x1": 4,
          "x2": 131,
          "x3": 0.38864788790433363
         },
         {
          "x1": 6,
          "x2": 112,
          "x3": 0.7025183538842266
         },
         {
          "x1": 4,
          "x2": 132,
          "x3": 0.7208602514326606
         },
         {
          "x1": 7,
          "x2": 111,
          "x3": 0.8944180709619012
         },
         {
          "x1": 4,
          "x2": 133,
          "x3": 0.28700784344871766
         },
         {
          "x1": 3,
          "x2": 111,
          "x3": 0.441499441025103
         },
         {
          "x1": 2,
          "x2": 98,
          "x3": 0.3409608202145781
         },
         {
          "x1": 4,
          "x2": 134,
          "x3": 0.3806116572244729
         },
         {
          "x1": 1,
          "x2": 87,
          "x3": 0.23726478705229048
         },
         {
          "x1": 7,
          "x2": 112,
          "x3": 0.8764554933511063
         },
         {
          "x1": 1,
          "x2": 88,
          "x3": 0.1654983797067611
         },
         {
          "x1": 5,
          "x2": 108,
          "x3": 0.305037224385395
         },
         {
          "x1": 5,
          "x2": 109,
          "x3": 0.6865383262379172
         },
         {
          "x1": 1,
          "x2": 89,
          "x3": 0.2472098768500312
         },
         {
          "x1": 0,
          "x2": 129,
          "x3": 0.1630052026637722
         },
         {
          "x1": 4,
          "x2": 135,
          "x3": 0.47661585117042243
         },
         {
          "x1": 5,
          "x2": 110,
          "x3": 0.74699008982694
         },
         {
          "x1": 2,
          "x2": 99,
          "x3": 0.12214692349200272
         }
        ]
       },
       "encoding": {
        "x": {
         "bin": true,
         "field": "x3",
         "type": "quantitative"
        },
        "y": {
         "aggregate": "count",
         "type": "quantitative"
        }
       },
       "mark": "bar"
      },
      "image/png": "[encoded data removed]",
      "image/svg+xml": [
       "<svg class=\"marks\" width=\"251\" height=\"247\" viewBox=\"0 0 251 247\" version=\"1.1\" xmlns=\"http://www.w3.org/2000/svg\" xmlns:xlink=\"http://www.w3.org/1999/xlink\"><g transform=\"translate(45,10)\"><g class=\"mark-group role-frame root\"><g transform=\"translate(0,0)\"><path class=\"background\" d=\"M0.5,0.5h200v200h-200Z\" style=\"fill: none; stroke: #ddd;\"></path><g><g class=\"mark-group role-axis\"><g transform=\"translate(0.5,0.5)\"><path class=\"background\" d=\"M0,0h0v0h0Z\" style=\"pointer-events: none; fill: none;\"></path><g><g class=\"mark-rule role-axis-grid\" style=\"pointer-events: none;\"><line transform=\"translate(0,200)\" x2=\"200\" y2=\"0\" style=\"fill: none; stroke: #ddd; stroke-width: 1; opacity: 1;\"></line><line transform=\"translate(0,167)\" x2=\"200\" y2=\"0\" style=\"fill: none; stroke: #ddd; stroke-width: 1; opacity: 1;\"></line><line transform=\"translate(0,133)\" x2=\"200\" y2=\"0\" style=\"fill: none; stroke: #ddd; stroke-width: 1; opacity: 1;\"></line><line transform=\"translate(0,100)\" x2=\"200\" y2=\"0\" style=\"fill: none; stroke: #ddd; stroke-width: 1; opacity: 1;\"></line><line transform=\"translate(0,67)\" x2=\"200\" y2=\"0\" style=\"fill: none; stroke: #ddd; stroke-width: 1; opacity: 1;\"></line><line transform=\"translate(0,33)\" x2=\"200\" y2=\"0\" style=\"fill: none; stroke: #ddd; stroke-width: 1; opacity: 1;\"></line><line transform=\"translate(0,0)\" x2=\"200\" y2=\"0\" style=\"fill: none; stroke: #ddd; stroke-width: 1; opacity: 1;\"></line></g></g></g></g><g class=\"mark-rect role-mark marks\"><path d=\"M81,8.333333333333314h19v191.66666666666669h-19Z\" style=\"fill: #4c78a8;\"></path><path d=\"M121.00000000000001,48.33333333333334h19.000000000000014v151.66666666666666h-19.000000000000014Z\" style=\"fill: #4c78a8;\"></path><path d=\"M1,23.333333333333343h19v176.66666666666666h-19Z\" style=\"fill: #4c78a8;\"></path><path d=\"M21,56.66666666666666h19v143.33333333333334h-19Z\" style=\"fill: #4c78a8;\"></path><path d=\"M61.00000000000001,43.33333333333334h18.999999999999993v156.66666666666666h-18.999999999999993Z\" style=\"fill: #4c78a8;\"></path><path d=\"M41,28.333333333333343h19.000000000000007v171.66666666666666h-19.000000000000007Z\" style=\"fill: #4c78a8;\"></path><path d=\"M141,25h19v175h-19Z\" style=\"fill: #4c78a8;\"></path><path d=\"M181,38.33333333333334h19v161.66666666666666h-19Z\" style=\"fill: #4c78a8;\"></path><path d=\"M101,23.333333333333343h19.000000000000014v176.66666666666666h-19.000000000000014Z\" style=\"fill: #4c78a8;\"></path><path d=\"M161,38.33333333333334h19v161.66666666666666h-19Z\" style=\"fill: #4c78a8;\"></path></g><g class=\"mark-group role-axis\"><g transform=\"translate(0.5,200.5)\"><path class=\"background\" d=\"M0,0h0v0h0Z\" style=\"pointer-events: none; fill: none;\"></path><g><g class=\"mark-rule role-axis-tick\" style=\"pointer-events: none;\"><line transform=\"translate(0,0)\" x2=\"0\" y2=\"5\" style=\"fill: none; stroke: #888; stroke-width: 1; opacity: 1;\"></line><line transform=\"translate(20,0)\" x2=\"0\" y2=\"5\" style=\"fill: none; stroke: #888; stroke-width: 1; opacity: 1;\"></line><line transform=\"translate(40,0)\" x2=\"0\" y2=\"5\" style=\"fill: none; stroke: #888; stroke-width: 1; opacity: 1;\"></line><line transform=\"translate(60,0)\" x2=\"0\" y2=\"5\" style=\"fill: none; stroke: #888; stroke-width: 1; opacity: 1;\"></line><line transform=\"translate(80,0)\" x2=\"0\" y2=\"5\" style=\"fill: none; stroke: #888; stroke-width: 1; opacity: 1;\"></line><line transform=\"translate(100,0)\" x2=\"0\" y2=\"5\" style=\"fill: none; stroke: #888; stroke-width: 1; opacity: 1;\"></line><line transform=\"translate(120,0)\" x2=\"0\" y2=\"5\" style=\"fill: none; stroke: #888; stroke-width: 1; opacity: 1;\"></line><line transform=\"translate(140,0)\" x2=\"0\" y2=\"5\" style=\"fill: none; stroke: #888; stroke-width: 1; opacity: 1;\"></line><line transform=\"translate(160,0)\" x2=\"0\" y2=\"5\" style=\"fill: none; stroke: #888; stroke-width: 1; opacity: 1;\"></line><line transform=\"translate(180,0)\" x2=\"0\" y2=\"5\" style=\"fill: none; stroke: #888; stroke-width: 1; opacity: 1;\"></line><line transform=\"translate(200,0)\" x2=\"0\" y2=\"5\" style=\"fill: none; stroke: #888; stroke-width: 1; opacity: 1;\"></line></g><g class=\"mark-text role-axis-label\" style=\"pointer-events: none;\"><text text-anchor=\"start\" transform=\"translate(0,15)\" style=\"font-family: sans-serif; font-size: 10px; fill: #000; opacity: 1;\">0.00</text><text text-anchor=\"middle\" transform=\"translate(20,15)\" style=\"font-family: sans-serif; font-size: 10px; fill: #000; opacity: 0;\">0.10</text><text text-anchor=\"middle\" transform=\"translate(40,15)\" style=\"font-family: sans-serif; font-size: 10px; fill: #000; opacity: 1;\">0.20</text><text text-anchor=\"middle\" transform=\"translate(60.00000000000001,15)\" style=\"font-family: sans-serif; font-size: 10px; fill: #000; opacity: 0;\">0.30</text><text text-anchor=\"middle\" transform=\"translate(80,15)\" style=\"font-family: sans-serif; font-size: 10px; fill: #000; opacity: 1;\">0.40</text><text text-anchor=\"middle\" transform=\"translate(100,15)\" style=\"font-family: sans-serif; font-size: 10px; fill: #000; opacity: 0;\">0.50</text><text text-anchor=\"middle\" transform=\"translate(120.00000000000001,15)\" style=\"font-family: sans-serif; font-size: 10px; fill: #000; opacity: 1;\">0.60</text><text text-anchor=\"middle\" transform=\"translate(140,15)\" style=\"font-family: sans-serif; font-size: 10px; fill: #000; opacity: 0;\">0.70</text><text text-anchor=\"middle\" transform=\"translate(160,15)\" style=\"font-family: sans-serif; font-size: 10px; fill: #000; opacity: 1;\">0.80</text><text text-anchor=\"middle\" transform=\"translate(180,15)\" style=\"font-family: sans-serif; font-size: 10px; fill: #000; opacity: 0;\">0.90</text><text text-anchor=\"end\" transform=\"translate(200,15)\" style=\"font-family: sans-serif; font-size: 10px; fill: #000; opacity: 1;\">1.00</text></g><g class=\"mark-rule role-axis-domain\" style=\"pointer-events: none;\"><line transform=\"translate(0,0)\" x2=\"200\" y2=\"0\" style=\"fill: none; stroke: #888; stroke-width: 1; opacity: 1;\"></line></g><g class=\"mark-text role-axis-title\" style=\"pointer-events: none;\"><text text-anchor=\"middle\" transform=\"translate(100,30)\" style=\"font-family: sans-serif; font-size: 11px; font-weight: bold; fill: #000; opacity: 1;\">x3 (binned)</text></g></g></g></g><g class=\"mark-group role-axis\"><g transform=\"translate(0.5,0.5)\"><path class=\"background\" d=\"M0,0h0v0h0Z\" style=\"pointer-events: none; fill: none;\"></path><g><g class=\"mark-rule role-axis-tick\" style=\"pointer-events: none;\"><line transform=\"translate(0,200)\" x2=\"-5\" y2=\"0\" style=\"fill: none; stroke: #888; stroke-width: 1; opacity: 1;\"></line><line transform=\"translate(0,167)\" x2=\"-5\" y2=\"0\" style=\"fill: none; stroke: #888; stroke-width: 1; opacity: 1;\"></line><line transform=\"translate(0,133)\" x2=\"-5\" y2=\"0\" style=\"fill: none; stroke: #888; stroke-width: 1; opacity: 1;\"></line><line transform=\"translate(0,100)\" x2=\"-5\" y2=\"0\" style=\"fill: none; stroke: #888; stroke-width: 1; opacity: 1;\"></line><line transform=\"translate(0,67)\" x2=\"-5\" y2=\"0\" style=\"fill: none; stroke: #888; stroke-width: 1; opacity: 1;\"></line><line transform=\"translate(0,33)\" x2=\"-5\" y2=\"0\" style=\"fill: none; stroke: #888; stroke-width: 1; opacity: 1;\"></line><line transform=\"translate(0,0)\" x2=\"-5\" y2=\"0\" style=\"fill: none; stroke: #888; stroke-width: 1; opacity: 1;\"></line></g><g class=\"mark-text role-axis-label\" style=\"pointer-events: none;\"><text text-anchor=\"end\" transform=\"translate(-7,203)\" style=\"font-family: sans-serif; font-size: 10px; fill: #000; opacity: 1;\">0</text><text text-anchor=\"end\" transform=\"translate(-7,169.66666666666669)\" style=\"font-family: sans-serif; font-size: 10px; fill: #000; opacity: 1;\">20</text><text text-anchor=\"end\" transform=\"translate(-7,136.33333333333334)\" style=\"font-family: sans-serif; font-size: 10px; fill: #000; opacity: 1;\">40</text><text text-anchor=\"end\" transform=\"translate(-7,103)\" style=\"font-family: sans-serif; font-size: 10px; fill: #000; opacity: 1;\">60</text><text text-anchor=\"end\" transform=\"translate(-7,69.66666666666669)\" style=\"font-family: sans-serif; font-size: 10px; fill: #000; opacity: 1;\">80</text><text text-anchor=\"end\" transform=\"translate(-7,36.333333333333314)\" style=\"font-family: sans-serif; font-size: 10px; fill: #000; opacity: 1;\">100</text><text text-anchor=\"end\" transform=\"translate(-7,3)\" style=\"font-family: sans-serif; font-size: 10px; fill: #000; opacity: 1;\">120</text></g><g class=\"mark-rule role-axis-domain\" style=\"pointer-events: none;\"><line transform=\"translate(0,200)\" x2=\"0\" y2=\"-200\" style=\"fill: none; stroke: #888; stroke-width: 1; opacity: 1;\"></line></g><g class=\"mark-text role-axis-title\" style=\"pointer-events: none;\"><text text-anchor=\"middle\" transform=\"translate(-29,100) rotate(-90) translate(0,-2)\" style=\"font-family: sans-serif; font-size: 11px; font-weight: bold; fill: #000; opacity: 1;\">Count of Records</text></g></g></g></g></g></g></g></g></svg>"
      ],
      "text/plain": [
       "VegaLite.VLSpec{:plot}"
      ]
     },
     "execution_count": 103,
     "metadata": {},
     "output_type": "execute_result"
    }
   ],
   "source": [
    "hist = df |> vl\"\"\"{\n",
    "  \"mark\": \"bar\",\n",
    "  \"encoding\": {\n",
    "    \"x\": {\n",
    "      \"bin\": true,\n",
    "      \"field\": \"x3\",\n",
    "      \"type\": \"quantitative\"\n",
    "    },\n",
    "    \"y\": {\n",
    "      \"aggregate\": \"count\",\n",
    "      \"type\": \"quantitative\"\n",
    "    }\n",
    "  }\n",
    "}\"\"\""
   ]
  },
  {
   "cell_type": "code",
   "execution_count": 94,
   "metadata": {},
   "outputs": [
    {
     "data": {
      "application/vnd.vegalite.v3+json": {
       "data": {
        "values": [
         {
          "x1": 5,
          "x2": 1,
          "x3": 0.40649579595677493
         },
         {
          "x1": 7,
          "x2": 1,
          "x3": 0.6181876632040483
         },
         {
          "x1": 0,
          "x2": 1,
          "x3": 0.05039075502245223
         },
         {
          "x1": 3,
          "x2": 1,
          "x3": 0.10014294038470742
         },
         {
          "x1": 2,
          "x2": 1,
          "x3": 0.3053132586693447
         },
         {
          "x1": 0,
          "x2": 2,
          "x3": 0.21335843915036246
         },
         {
          "x1": 7,
          "x2": 2,
          "x3": 0.7861911430230467
         },
         {
          "x1": 3,
          "x2": 2,
          "x3": 0.26129077390959715
         },
         {
          "x1": 0,
          "x2": 3,
          "x3": 0.02592899979955954
         },
         {
          "x1": 0,
          "x2": 4,
          "x3": 0.011397993242451427
         },
         {
          "x1": 7,
          "x2": 3,
          "x3": 0.9369465761307089
         },
         {
          "x1": 7,
          "x2": 4,
          "x3": 0.5975085775175066
         },
         {
          "x1": 0,
          "x2": 5,
          "x3": 0.035393113507101996
         },
         {
          "x1": 2,
          "x2": 2,
          "x3": 0.5960644327907421
         },
         {
          "x1": 6,
          "x2": 1,
          "x3": 0.8797043672840015
         },
         {
          "x1": 0,
          "x2": 6,
          "x3": 0.16217427414153363
         },
         {
          "x1": 1,
          "x2": 1,
          "x3": 0.23886158080931702
         },
         {
          "x1": 0,
          "x2": 7,
          "x3": 0.01155805417032223
         },
         {
          "x1": 4,
          "x2": 1,
          "x3": 0.7275485429306879
         },
         {
          "x1": 1,
          "x2": 2,
          "x3": 0.3799247399431919
         },
         {
          "x1": 3,
          "x2": 3,
          "x3": 0.530249961167312
         },
         {
          "x1": 1,
          "x2": 3,
          "x3": 0.3140853984239075
         },
         {
          "x1": 5,
          "x2": 2,
          "x3": 0.6398732000867796
         },
         {
          "x1": 5,
          "x2": 3,
          "x3": 0.7811359249103668
         },
         {
          "x1": 4,
          "x2": 2,
          "x3": 0.45966576445066126
         },
         {
          "x1": 5,
          "x2": 4,
          "x3": 0.25566040146134417
         },
         {
          "x1": 0,
          "x2": 8,
          "x3": 0.05694733855872321
         },
         {
          "x1": 4,
          "x2": 3,
          "x3": 0.6079647688542478
         },
         {
          "x1": 4,
          "x2": 4,
          "x3": 0.7175474898895324
         },
         {
          "x1": 3,
          "x2": 4,
          "x3": 0.5797321360852103
         },
         {
          "x1": 6,
          "x2": 2,
          "x3": 0.8360778187978428
         },
         {
          "x1": 5,
          "x2": 5,
          "x3": 0.5841717473305915
         },
         {
          "x1": 7,
          "x2": 5,
          "x3": 0.8794383512960753
         },
         {
          "x1": 1,
          "x2": 4,
          "x3": 0.09584466133487347
         },
         {
          "x1": 7,
          "x2": 6,
          "x3": 0.7920525440555611
         },
         {
          "x1": 7,
          "x2": 7,
          "x3": 0.9901937015327411
         },
         {
          "x1": 0,
          "x2": 9,
          "x3": 0.14624159765592112
         },
         {
          "x1": 3,
          "x2": 5,
          "x3": 0.26070412870498033
         },
         {
          "x1": 7,
          "x2": 8,
          "x3": 0.8982113116720313
         },
         {
          "x1": 4,
          "x2": 5,
          "x3": 0.511052420654766
         },
         {
          "x1": 3,
          "x2": 6,
          "x3": 0.3592492736703753
         },
         {
          "x1": 8,
          "x2": 1,
          "x3": 0.9898500603962707
         },
         {
          "x1": 0,
          "x2": 10,
          "x3": 0.26441687954755794
         },
         {
          "x1": 3,
          "x2": 7,
          "x3": 0.5988013825027656
         },
         {
          "x1": 8,
          "x2": 2,
          "x3": 0.9617224360719923
         },
         {
          "x1": 6,
          "x2": 3,
          "x3": 0.8796683800568176
         },
         {
          "x1": 4,
          "x2": 6,
          "x3": 0.4904065503552066
         },
         {
          "x1": 5,
          "x2": 6,
          "x3": 0.771470431134413
         },
         {
          "x1": 8,
          "x2": 3,
          "x3": 0.9800699160315571
         },
         {
          "x1": 0,
          "x2": 11,
          "x3": 0.07809310187711611
         },
         {
          "x1": 7,
          "x2": 9,
          "x3": 0.9668533695177416
         },
         {
          "x1": 0,
          "x2": 12,
          "x3": 0.13526709821799526
         },
         {
          "x1": 0,
          "x2": 13,
          "x3": 0.01201995018652376
         },
         {
          "x1": 0,
          "x2": 14,
          "x3": 0.12162140848947713
         },
         {
          "x1": 0,
          "x2": 15,
          "x3": 0.10460452215820824
         },
         {
          "x1": 8,
          "x2": 4,
          "x3": 0.9719905313880158
         },
         {
          "x1": 0,
          "x2": 16,
          "x3": 0.04693337610257731
         },
         {
          "x1": 2,
          "x2": 3,
          "x3": 0.2537863848399558
         },
         {
          "x1": 3,
          "x2": 8,
          "x3": 0.23690348467681674
         },
         {
          "x1": 7,
          "x2": 10,
          "x3": 0.7540287465070078
         },
         {
          "x1": 2,
          "x2": 4,
          "x3": 0.07342887386038009
         },
         {
          "x1": 0,
          "x2": 17,
          "x3": 0.016917711052866904
         },
         {
          "x1": 8,
          "x2": 5,
          "x3": 0.98520052658278
         },
         {
          "x1": 3,
          "x2": 9,
          "x3": 0.22637739461200046
         },
         {
          "x1": 0,
          "x2": 18,
          "x3": 0.02116352408319515
         },
         {
          "x1": 5,
          "x2": 7,
          "x3": 0.5800319003764018
         },
         {
          "x1": 8,
          "x2": 6,
          "x3": 0.7587871526044774
         },
         {
          "x1": 1,
          "x2": 5,
          "x3": 0.06750787225764152
         },
         {
          "x1": 8,
          "x2": 7,
          "x3": 0.9287239029055124
         },
         {
          "x1": 5,
          "x2": 8,
          "x3": 0.4629034694962906
         },
         {
          "x1": 5,
          "x2": 9,
          "x3": 0.6694748272337734
         },
         {
          "x1": 3,
          "x2": 10,
          "x3": 0.3643424080734624
         },
         {
          "x1": 6,
          "x2": 4,
          "x3": 0.41954925475361976
         },
         {
          "x1": 8,
          "x2": 8,
          "x3": 0.9919526360830861
         },
         {
          "x1": 8,
          "x2": 9,
          "x3": 0.8530593385188533
         },
         {
          "x1": 2,
          "x2": 5,
          "x3": 0.259705328502487
         },
         {
          "x1": 3,
          "x2": 11,
          "x3": 0.41064737343313484
         },
         {
          "x1": 7,
          "x2": 11,
          "x3": 0.6936579306082752
         },
         {
          "x1": 0,
          "x2": 19,
          "x3": 0.1472687415694274
         },
         {
          "x1": 4,
          "x2": 7,
          "x3": 0.44957681812138317
         },
         {
          "x1": 3,
          "x2": 12,
          "x3": 0.3125681467252121
         },
         {
          "x1": 0,
          "x2": 20,
          "x3": 0.02691275066785085
         },
         {
          "x1": 6,
          "x2": 5,
          "x3": 0.7621682877339121
         },
         {
          "x1": 6,
          "x2": 6,
          "x3": 0.7573055820868662
         },
         {
          "x1": 3,
          "x2": 13,
          "x3": 0.41856033444903407
         },
         {
          "x1": 8,
          "x2": 10,
          "x3": 0.9497073493948978
         },
         {
          "x1": 7,
          "x2": 12,
          "x3": 0.95025224115611
         },
         {
          "x1": 1,
          "x2": 6,
          "x3": 0.3346893903868749
         },
         {
          "x1": 8,
          "x2": 11,
          "x3": 0.8821642644431589
         },
         {
          "x1": 7,
          "x2": 13,
          "x3": 0.8111214175682124
         },
         {
          "x1": 7,
          "x2": 14,
          "x3": 0.8988344116941637
         },
         {
          "x1": 0,
          "x2": 21,
          "x3": 0.04788046039720668
         },
         {
          "x1": 6,
          "x2": 7,
          "x3": 0.7108900385126241
         },
         {
          "x1": 5,
          "x2": 10,
          "x3": 0.4764693498389712
         },
         {
          "x1": 7,
          "x2": 15,
          "x3": 0.9280674783192242
         },
         {
          "x1": 7,
          "x2": 16,
          "x3": 0.6063215741779246
         },
         {
          "x1": 2,
          "x2": 6,
          "x3": 0.5122828773295508
         },
         {
          "x1": 4,
          "x2": 8,
          "x3": 0.2565832996820102
         },
         {
          "x1": 5,
          "x2": 11,
          "x3": 0.5173687979263453
         },
         {
          "x1": 8,
          "x2": 12,
          "x3": 0.9905247511064418
         },
         {
          "x1": 4,
          "x2": 9,
          "x3": 0.603399320886732
         },
         {
          "x1": 3,
          "x2": 14,
          "x3": 0.40340898956755056
         },
         {
          "x1": 0,
          "x2": 22,
          "x3": 0.014755126598872051
         },
         {
          "x1": 3,
          "x2": 15,
          "x3": 0.20919900261219382
         },
         {
          "x1": 4,
          "x2": 10,
          "x3": 0.3767020845944021
         },
         {
          "x1": 2,
          "x2": 7,
          "x3": 0.1951102579280963
         },
         {
          "x1": 7,
          "x2": 17,
          "x3": 0.754648564935462
         },
         {
          "x1": 1,
          "x2": 7,
          "x3": 0.24627248588490636
         },
         {
          "x1": 2,
          "x2": 8,
          "x3": 0.36650601148914436
         },
         {
          "x1": 0,
          "x2": 23,
          "x3": 0.2124402978344975
         },
         {
          "x1": 8,
          "x2": 13,
          "x3": 0.9510501614689159
         },
         {
          "x1": 3,
          "x2": 16,
          "x3": 0.4819734004578711
         },
         {
          "x1": 5,
          "x2": 12,
          "x3": 0.3794217931932986
         },
         {
          "x1": 4,
          "x2": 11,
          "x3": 0.5924326446132787
         },
         {
          "x1": 8,
          "x2": 14,
          "x3": 0.8554372277428837
         },
         {
          "x1": 5,
          "x2": 13,
          "x3": 0.6194955043828635
         },
         {
          "x1": 0,
          "x2": 24,
          "x3": 0.04991291568982315
         },
         {
          "x1": 1,
          "x2": 8,
          "x3": 0.09035424562941627
         },
         {
          "x1": 3,
          "x2": 17,
          "x3": 0.173496137171272
         },
         {
          "x1": 3,
          "x2": 18,
          "x3": 0.15176743269439494
         },
         {
          "x1": 7,
          "x2": 18,
          "x3": 0.9012237867146918
         },
         {
          "x1": 4,
          "x2": 12,
          "x3": 0.4824245709614095
         },
         {
          "x1": 5,
          "x2": 14,
          "x3": 0.6394548580637072
         },
         {
          "x1": 0,
          "x2": 25,
          "x3": 0.21014776436420882
         },
         {
          "x1": 1,
          "x2": 9,
          "x3": 0.10909350971952021
         },
         {
          "x1": 8,
          "x2": 15,
          "x3": 0.9660195612501439
         },
         {
          "x1": 3,
          "x2": 19,
          "x3": 0.5102704743436658
         },
         {
          "x1": 4,
          "x2": 13,
          "x3": 0.3656634260933534
         },
         {
          "x1": 6,
          "x2": 8,
          "x3": 0.5222615955035574
         },
         {
          "x1": 5,
          "x2": 15,
          "x3": 0.4798984065765334
         },
         {
          "x1": 4,
          "x2": 14,
          "x3": 0.44422615397775245
         },
         {
          "x1": 4,
          "x2": 15,
          "x3": 0.691147756798993
         },
         {
          "x1": 0,
          "x2": 26,
          "x3": 0.13455090024121924
         },
         {
          "x1": 0,
          "x2": 27,
          "x3": 0.004399303512010584
         },
         {
          "x1": 4,
          "x2": 16,
          "x3": 0.3410985163453404
         },
         {
          "x1": 0,
          "x2": 28,
          "x3": 0.065192597314787
         },
         {
          "x1": 4,
          "x2": 17,
          "x3": 0.36508538933058127
         },
         {
          "x1": 5,
          "x2": 16,
          "x3": 0.6105129349015018
         },
         {
          "x1": 5,
          "x2": 17,
          "x3": 0.7537664976032638
         },
         {
          "x1": 6,
          "x2": 9,
          "x3": 0.6343570797119387
         },
         {
          "x1": 0,
          "x2": 29,
          "x3": 0.13003932812071559
         },
         {
          "x1": 0,
          "x2": 30,
          "x3": 0.03018093129236783
         },
         {
          "x1": 5,
          "x2": 18,
          "x3": 0.604499426667516
         },
         {
          "x1": 0,
          "x2": 31,
          "x3": 0.03462070391632781
         },
         {
          "x1": 4,
          "x2": 18,
          "x3": 0.5968222315269411
         },
         {
          "x1": 7,
          "x2": 19,
          "x3": 0.8530981552363068
         },
         {
          "x1": 3,
          "x2": 20,
          "x3": 0.4577003039338125
         },
         {
          "x1": 5,
          "x2": 19,
          "x3": 0.40379853043104497
         },
         {
          "x1": 5,
          "x2": 20,
          "x3": 0.7504510596570679
         },
         {
          "x1": 5,
          "x2": 21,
          "x3": 0.7490817648836255
         },
         {
          "x1": 4,
          "x2": 19,
          "x3": 0.3600657027353362
         },
         {
          "x1": 7,
          "x2": 20,
          "x3": 0.7238863245552095
         },
         {
          "x1": 4,
          "x2": 20,
          "x3": 0.800320114899224
         },
         {
          "x1": 2,
          "x2": 9,
          "x3": 0.27738437039282815
         },
         {
          "x1": 0,
          "x2": 32,
          "x3": 0.2854747129605517
         },
         {
          "x1": 7,
          "x2": 21,
          "x3": 0.8609240163206205
         },
         {
          "x1": 4,
          "x2": 21,
          "x3": 0.7060886300578028
         },
         {
          "x1": 7,
          "x2": 22,
          "x3": 0.737056325216505
         },
         {
          "x1": 1,
          "x2": 10,
          "x3": 0.22122420165036277
         },
         {
          "x1": 6,
          "x2": 10,
          "x3": 0.6747852602358156
         },
         {
          "x1": 6,
          "x2": 11,
          "x3": 0.8604340698814157
         },
         {
          "x1": 1,
          "x2": 11,
          "x3": 0.1736912031200288
         },
         {
          "x1": 1,
          "x2": 12,
          "x3": 0.1618923700404201
         },
         {
          "x1": 8,
          "x2": 16,
          "x3": 0.8666799581720761
         },
         {
          "x1": 4,
          "x2": 22,
          "x3": 0.45518805949656255
         },
         {
          "x1": 4,
          "x2": 23,
          "x3": 0.5843810267643237
         },
         {
          "x1": 2,
          "x2": 10,
          "x3": 0.18330828621811107
         },
         {
          "x1": 8,
          "x2": 17,
          "x3": 0.913855326753082
         },
         {
          "x1": 3,
          "x2": 21,
          "x3": 0.5665436518504822
         },
         {
          "x1": 5,
          "x2": 22,
          "x3": 0.6983352045466973
         },
         {
          "x1": 0,
          "x2": 33,
          "x3": 0.15127226702357743
         },
         {
          "x1": 4,
          "x2": 24,
          "x3": 0.7195902736502711
         },
         {
          "x1": 6,
          "x2": 12,
          "x3": 0.5859594550635078
         },
         {
          "x1": 2,
          "x2": 11,
          "x3": 0.35074843902896863
         },
         {
          "x1": 4,
          "x2": 25,
          "x3": 0.7239386380429385
         },
         {
          "x1": 2,
          "x2": 12,
          "x3": 0.09407498841180495
         },
         {
          "x1": 1,
          "x2": 13,
          "x3": 0.22690990421115947
         },
         {
          "x1": 4,
          "x2": 26,
          "x3": 0.2657913262874325
         },
         {
          "x1": 3,
          "x2": 22,
          "x3": 0.405591361545036
         },
         {
          "x1": 3,
          "x2": 23,
          "x3": 0.5718146841591836
         },
         {
          "x1": 4,
          "x2": 27,
          "x3": 0.7015602421144299
         },
         {
          "x1": 5,
          "x2": 23,
          "x3": 0.7122139156931803
         },
         {
          "x1": 1,
          "x2": 14,
          "x3": 0.4330312780013345
         },
         {
          "x1": 7,
          "x2": 23,
          "x3": 0.7542060988815321
         },
         {
          "x1": 1,
          "x2": 15,
          "x3": 0.18656060490451998
         },
         {
          "x1": 0,
          "x2": 34,
          "x3": 0.17515793675163538
         },
         {
          "x1": 1,
          "x2": 16,
          "x3": 0.12247026550142785
         },
         {
          "x1": 3,
          "x2": 24,
          "x3": 0.49496580945528673
         },
         {
          "x1": 2,
          "x2": 13,
          "x3": 0.24476837631897913
         },
         {
          "x1": 7,
          "x2": 24,
          "x3": 0.9216849393467658
         },
         {
          "x1": 6,
          "x2": 13,
          "x3": 0.3182751669863384
         },
         {
          "x1": 0,
          "x2": 35,
          "x3": 0.029109621288480218
         },
         {
          "x1": 0,
          "x2": 36,
          "x3": 0.09969663227328834
         },
         {
          "x1": 2,
          "x2": 14,
          "x3": 0.3153240412259104
         },
         {
          "x1": 0,
          "x2": 37,
          "x3": 0.056824729972676465
         },
         {
          "x1": 3,
          "x2": 25,
          "x3": 0.24390537967226925
         },
         {
          "x1": 5,
          "x2": 24,
          "x3": 0.7581509864703362
         },
         {
          "x1": 6,
          "x2": 14,
          "x3": 0.6311978505281707
         },
         {
          "x1": 2,
          "x2": 15,
          "x3": 0.01854701193645649
         },
         {
          "x1": 4,
          "x2": 28,
          "x3": 0.1765190094518109
         },
         {
          "x1": 1,
          "x2": 17,
          "x3": 0.190956845772818
         },
         {
          "x1": 8,
          "x2": 18,
          "x3": 0.9809032893918571
         },
         {
          "x1": 4,
          "x2": 29,
          "x3": 0.5995148804357878
         },
         {
          "x1": 7,
          "x2": 25,
          "x3": 0.9114530070411537
         },
         {
          "x1": 4,
          "x2": 30,
          "x3": 0.557792835937702
         },
         {
          "x1": 3,
          "x2": 26,
          "x3": 0.629478712763377
         },
         {
          "x1": 0,
          "x2": 38,
          "x3": 0.030704602551165975
         },
         {
          "x1": 2,
          "x2": 16,
          "x3": 0.3713528852578667
         },
         {
          "x1": 8,
          "x2": 19,
          "x3": 0.9249667286739546
         },
         {
          "x1": 3,
          "x2": 27,
          "x3": 0.42078114665599625
         },
         {
          "x1": 3,
          "x2": 28,
          "x3": 0.268424256803308
         },
         {
          "x1": 6,
          "x2": 15,
          "x3": 0.8941126266498917
         },
         {
          "x1": 2,
          "x2": 17,
          "x3": 0.300289522990612
         },
         {
          "x1": 6,
          "x2": 16,
          "x3": 0.5077259648264357
         },
         {
          "x1": 6,
          "x2": 17,
          "x3": 0.5495474941916854
         },
         {
          "x1": 1,
          "x2": 18,
          "x3": 0.24304516442459556
         },
         {
          "x1": 1,
          "x2": 19,
          "x3": 0.08951705368823278
         },
         {
          "x1": 3,
          "x2": 29,
          "x3": 0.3037768978563119
         },
         {
          "x1": 5,
          "x2": 25,
          "x3": 0.6207161470400102
         },
         {
          "x1": 5,
          "x2": 26,
          "x3": 0.6722715503510768
         },
         {
          "x1": 6,
          "x2": 18,
          "x3": 0.7404269470443379
         },
         {
          "x1": 6,
          "x2": 19,
          "x3": 0.7268747831111843
         },
         {
          "x1": 8,
          "x2": 20,
          "x3": 0.9515114837104993
         },
         {
          "x1": 8,
          "x2": 21,
          "x3": 0.9442456084624812
         },
         {
          "x1": 6,
          "x2": 20,
          "x3": 0.797622621447886
         },
         {
          "x1": 5,
          "x2": 27,
          "x3": 0.44498354557996067
         },
         {
          "x1": 2,
          "x2": 18,
          "x3": 0.25219686466500313
         },
         {
          "x1": 7,
          "x2": 26,
          "x3": 0.8306948160307209
         },
         {
          "x1": 5,
          "x2": 28,
          "x3": 0.6661259896862217
         },
         {
          "x1": 1,
          "x2": 20,
          "x3": 0.3608666956664573
         },
         {
          "x1": 6,
          "x2": 21,
          "x3": 0.6728583283649834
         },
         {
          "x1": 7,
          "x2": 27,
          "x3": 0.8421939552152166
         },
         {
          "x1": 0,
          "x2": 39,
          "x3": 0.007063873979581546
         },
         {
          "x1": 4,
          "x2": 31,
          "x3": 0.4941307329767851
         },
         {
          "x1": 6,
          "x2": 22,
          "x3": 0.8782785894508581
         },
         {
          "x1": 4,
          "x2": 32,
          "x3": 0.5261384933031533
         },
         {
          "x1": 6,
          "x2": 23,
          "x3": 0.7432639464819106
         },
         {
          "x1": 7,
          "x2": 28,
          "x3": 0.7605077526723867
         },
         {
          "x1": 8,
          "x2": 22,
          "x3": 0.8252813421273385
         },
         {
          "x1": 4,
          "x2": 33,
          "x3": 0.317046662192098
         },
         {
          "x1": 1,
          "x2": 21,
          "x3": 0.28151481079296753
         },
         {
          "x1": 7,
          "x2": 29,
          "x3": 0.9065491206358844
         },
         {
          "x1": 0,
          "x2": 40,
          "x3": 0.08694317767711074
         },
         {
          "x1": 6,
          "x2": 24,
          "x3": 0.7235557345978268
         },
         {
          "x1": 0,
          "x2": 41,
          "x3": 0.04056274106799435
         },
         {
          "x1": 7,
          "x2": 30,
          "x3": 0.9419850662572582
         },
         {
          "x1": 7,
          "x2": 31,
          "x3": 0.8851624827155634
         },
         {
          "x1": 5,
          "x2": 29,
          "x3": 0.7618010082655116
         },
         {
          "x1": 6,
          "x2": 25,
          "x3": 0.7342878571321311
         },
         {
          "x1": 4,
          "x2": 34,
          "x3": 0.5451030896032075
         },
         {
          "x1": 4,
          "x2": 35,
          "x3": 0.19543921969178038
         },
         {
          "x1": 7,
          "x2": 32,
          "x3": 0.6884608084348194
         },
         {
          "x1": 6,
          "x2": 26,
          "x3": 0.7286556474533991
         },
         {
          "x1": 3,
          "x2": 30,
          "x3": 0.29802977445047274
         },
         {
          "x1": 3,
          "x2": 31,
          "x3": 0.34535275404390164
         },
         {
          "x1": 0,
          "x2": 42,
          "x3": 0.272573745128626
         },
         {
          "x1": 2,
          "x2": 19,
          "x3": 0.16335383109755724
         },
         {
          "x1": 3,
          "x2": 32,
          "x3": 0.3350131185353848
         },
         {
          "x1": 0,
          "x2": 43,
          "x3": 0.07220401886336768
         },
         {
          "x1": 4,
          "x2": 36,
          "x3": 0.6457344959841111
         },
         {
          "x1": 8,
          "x2": 23,
          "x3": 0.724054351568828
         },
         {
          "x1": 3,
          "x2": 33,
          "x3": 0.3918577196780633
         },
         {
          "x1": 0,
          "x2": 44,
          "x3": 0.14148033402682902
         },
         {
          "x1": 4,
          "x2": 37,
          "x3": 0.2927964043043428
         },
         {
          "x1": 7,
          "x2": 33,
          "x3": 0.7097407662330235
         },
         {
          "x1": 1,
          "x2": 22,
          "x3": 0.32945885473855113
         },
         {
          "x1": 8,
          "x2": 24,
          "x3": 0.9913422167948053
         },
         {
          "x1": 1,
          "x2": 23,
          "x3": 0.4020987383434134
         },
         {
          "x1": 3,
          "x2": 34,
          "x3": 0.5726741025857774
         },
         {
          "x1": 7,
          "x2": 34,
          "x3": 0.7379897000216099
         },
         {
          "x1": 3,
          "x2": 35,
          "x3": 0.47904831338435494
         },
         {
          "x1": 7,
          "x2": 35,
          "x3": 0.8398193713640225
         },
         {
          "x1": 8,
          "x2": 25,
          "x3": 0.7864963543129705
         },
         {
          "x1": 1,
          "x2": 24,
          "x3": 0.03806302182013188
         },
         {
          "x1": 4,
          "x2": 38,
          "x3": 0.27665600238846333
         },
         {
          "x1": 5,
          "x2": 30,
          "x3": 0.7045189145219277
         },
         {
          "x1": 1,
          "x2": 25,
          "x3": 0.32122347142702046
         },
         {
          "x1": 7,
          "x2": 36,
          "x3": 0.8274889851973098
         },
         {
          "x1": 3,
          "x2": 36,
          "x3": 0.5551726295477813
         },
         {
          "x1": 1,
          "x2": 26,
          "x3": 0.1859671768104443
         },
         {
          "x1": 8,
          "x2": 26,
          "x3": 0.9386586518098208
         },
         {
          "x1": 7,
          "x2": 37,
          "x3": 0.9379950932478417
         },
         {
          "x1": 6,
          "x2": 27,
          "x3": 0.4240388803199921
         },
         {
          "x1": 4,
          "x2": 39,
          "x3": 0.13870367725836058
         },
         {
          "x1": 5,
          "x2": 31,
          "x3": 0.5848773913212515
         },
         {
          "x1": 1,
          "x2": 27,
          "x3": 0.22561351631841123
         },
         {
          "x1": 5,
          "x2": 32,
          "x3": 0.5822630880528694
         },
         {
          "x1": 1,
          "x2": 28,
          "x3": 0.22152376235504226
         },
         {
          "x1": 3,
          "x2": 37,
          "x3": 0.45630772661181523
         },
         {
          "x1": 3,
          "x2": 38,
          "x3": 0.24413139814803592
         },
         {
          "x1": 4,
          "x2": 40,
          "x3": 0.5093728606216059
         },
         {
          "x1": 3,
          "x2": 39,
          "x3": 0.5195508549803353
         },
         {
          "x1": 4,
          "x2": 41,
          "x3": 0.6217893902403724
         },
         {
          "x1": 0,
          "x2": 45,
          "x3": 0.008360634165880646
         },
         {
          "x1": 6,
          "x2": 28,
          "x3": 0.8539608138276922
         },
         {
          "x1": 6,
          "x2": 29,
          "x3": 0.5302574939755162
         },
         {
          "x1": 8,
          "x2": 27,
          "x3": 0.9970842671948974
         },
         {
          "x1": 6,
          "x2": 30,
          "x3": 0.4864665982834344
         },
         {
          "x1": 4,
          "x2": 42,
          "x3": 0.6366447297919057
         },
         {
          "x1": 2,
          "x2": 20,
          "x3": 0.0835543245695826
         },
         {
          "x1": 3,
          "x2": 40,
          "x3": 0.7132542367881332
         },
         {
          "x1": 8,
          "x2": 28,
          "x3": 0.7466434990986272
         },
         {
          "x1": 2,
          "x2": 21,
          "x3": 0.18506925551509149
         },
         {
          "x1": 0,
          "x2": 46,
          "x3": 0.08788646402452198
         },
         {
          "x1": 4,
          "x2": 43,
          "x3": 0.27076746815498354
         },
         {
          "x1": 8,
          "x2": 29,
          "x3": 0.9961055755341394
         },
         {
          "x1": 3,
          "x2": 41,
          "x3": 0.512536169216078
         },
         {
          "x1": 6,
          "x2": 31,
          "x3": 0.8026223069452981
         },
         {
          "x1": 3,
          "x2": 42,
          "x3": 0.5137418982405748
         },
         {
          "x1": 6,
          "x2": 32,
          "x3": 0.86091469124847
         },
         {
          "x1": 1,
          "x2": 29,
          "x3": 0.23129548697728264
         },
         {
          "x1": 4,
          "x2": 44,
          "x3": 0.5136643499489899
         },
         {
          "x1": 0,
          "x2": 47,
          "x3": 0.001326597675434824
         },
         {
          "x1": 4,
          "x2": 45,
          "x3": 0.4282372477221193
         },
         {
          "x1": 0,
          "x2": 48,
          "x3": 0.08468606844364807
         },
         {
          "x1": 6,
          "x2": 33,
          "x3": 0.7567290399979902
         },
         {
          "x1": 1,
          "x2": 30,
          "x3": 0.31269246424947306
         },
         {
          "x1": 0,
          "x2": 49,
          "x3": 0.04036458138255192
         },
         {
          "x1": 7,
          "x2": 38,
          "x3": 0.4731120184707703
         },
         {
          "x1": 6,
          "x2": 34,
          "x3": 0.7013413276664915
         },
         {
          "x1": 4,
          "x2": 46,
          "x3": 0.6292788753675427
         },
         {
          "x1": 8,
          "x2": 30,
          "x3": 0.9837390820700166
         },
         {
          "x1": 2,
          "x2": 22,
          "x3": 0.4230556362506654
         },
         {
          "x1": 5,
          "x2": 33,
          "x3": 0.6382368547522634
         },
         {
          "x1": 8,
          "x2": 31,
          "x3": 0.984080401575674
         },
         {
          "x1": 0,
          "x2": 50,
          "x3": 0.028983923134126083
         },
         {
          "x1": 0,
          "x2": 51,
          "x3": 0.18899236497643185
         },
         {
          "x1": 1,
          "x2": 31,
          "x3": 0.42484091023788384
         },
         {
          "x1": 1,
          "x2": 32,
          "x3": 0.28633894268250715
         },
         {
          "x1": 5,
          "x2": 34,
          "x3": 0.5933310105749762
         },
         {
          "x1": 5,
          "x2": 35,
          "x3": 0.4303300836690932
         },
         {
          "x1": 2,
          "x2": 23,
          "x3": 0.1233205928799472
         },
         {
          "x1": 8,
          "x2": 32,
          "x3": 0.9171904887627362
         },
         {
          "x1": 4,
          "x2": 47,
          "x3": 0.4550600271022518
         },
         {
          "x1": 3,
          "x2": 43,
          "x3": 0.36773544236872713
         },
         {
          "x1": 4,
          "x2": 48,
          "x3": 0.35413049431529053
         },
         {
          "x1": 0,
          "x2": 52,
          "x3": 0.016174321324467666
         },
         {
          "x1": 6,
          "x2": 35,
          "x3": 0.6785284893410215
         },
         {
          "x1": 4,
          "x2": 49,
          "x3": 0.7170995539147678
         },
         {
          "x1": 0,
          "x2": 53,
          "x3": 0.08946317288132205
         },
         {
          "x1": 8,
          "x2": 33,
          "x3": 0.8753459589272992
         },
         {
          "x1": 3,
          "x2": 44,
          "x3": 0.4754647968391788
         },
         {
          "x1": 4,
          "x2": 50,
          "x3": 0.3346441838905766
         },
         {
          "x1": 7,
          "x2": 39,
          "x3": 0.8793259726378964
         },
         {
          "x1": 4,
          "x2": 51,
          "x3": 0.5474698986627714
         },
         {
          "x1": 8,
          "x2": 34,
          "x3": 0.9587832879145666
         },
         {
          "x1": 7,
          "x2": 40,
          "x3": 0.9522371592298072
         },
         {
          "x1": 2,
          "x2": 24,
          "x3": 0.1510381477231174
         },
         {
          "x1": 5,
          "x2": 36,
          "x3": 0.561150005985355
         },
         {
          "x1": 8,
          "x2": 35,
          "x3": 0.7754692937908821
         },
         {
          "x1": 6,
          "x2": 36,
          "x3": 0.6828889759858826
         },
         {
          "x1": 8,
          "x2": 36,
          "x3": 0.9105644535017767
         },
         {
          "x1": 8,
          "x2": 37,
          "x3": 0.8055929284310689
         },
         {
          "x1": 4,
          "x2": 52,
          "x3": 0.40277534882719296
         },
         {
          "x1": 3,
          "x2": 45,
          "x3": 0.3889633786018878
         },
         {
          "x1": 4,
          "x2": 53,
          "x3": 0.5502473903740933
         },
         {
          "x1": 7,
          "x2": 41,
          "x3": 0.9185650218508932
         },
         {
          "x1": 0,
          "x2": 54,
          "x3": 0.08886823716812035
         },
         {
          "x1": 0,
          "x2": 55,
          "x3": 0.1873188954321533
         },
         {
          "x1": 4,
          "x2": 54,
          "x3": 0.45815447374472995
         },
         {
          "x1": 7,
          "x2": 42,
          "x3": 0.7325099056985387
         },
         {
          "x1": 2,
          "x2": 25,
          "x3": 0.2775928314604649
         },
         {
          "x1": 8,
          "x2": 38,
          "x3": 0.9633985471532073
         },
         {
          "x1": 4,
          "x2": 55,
          "x3": 0.5057765415649743
         },
         {
          "x1": 5,
          "x2": 37,
          "x3": 0.5554089444519621
         },
         {
          "x1": 6,
          "x2": 37,
          "x3": 0.5652294524648304
         },
         {
          "x1": 3,
          "x2": 46,
          "x3": 0.5655132974381192
         },
         {
          "x1": 0,
          "x2": 56,
          "x3": 0.009013888053825867
         },
         {
          "x1": 7,
          "x2": 43,
          "x3": 0.5925949218363116
         },
         {
          "x1": 7,
          "x2": 44,
          "x3": 0.6832848440107476
         },
         {
          "x1": 1,
          "x2": 33,
          "x3": 0.15047530134332268
         },
         {
          "x1": 6,
          "x2": 38,
          "x3": 0.8137002640318682
         },
         {
          "x1": 4,
          "x2": 56,
          "x3": 0.7707250679497033
         },
         {
          "x1": 7,
          "x2": 45,
          "x3": 0.48742371864071377
         },
         {
          "x1": 3,
          "x2": 47,
          "x3": 0.5860814991796957
         },
         {
          "x1": 5,
          "x2": 38,
          "x3": 0.6781985465307256
         },
         {
          "x1": 4,
          "x2": 57,
          "x3": 0.779442681190562
         },
         {
          "x1": 3,
          "x2": 48,
          "x3": 0.41548319758878216
         },
         {
          "x1": 6,
          "x2": 39,
          "x3": 0.7055123313801342
         },
         {
          "x1": 3,
          "x2": 49,
          "x3": 0.42954267611830715
         },
         {
          "x1": 2,
          "x2": 26,
          "x3": 0.24923010748271487
         },
         {
          "x1": 0,
          "x2": 57,
          "x3": 0.21706996362392877
         },
         {
          "x1": 3,
          "x2": 50,
          "x3": 0.4974487284200852
         },
         {
          "x1": 6,
          "x2": 40,
          "x3": 0.9517222461260832
         },
         {
          "x1": 4,
          "x2": 58,
          "x3": 0.44322273388601624
         },
         {
          "x1": 7,
          "x2": 46,
          "x3": 0.8916105378046482
         },
         {
          "x1": 3,
          "x2": 51,
          "x3": 0.3131301296391281
         },
         {
          "x1": 2,
          "x2": 27,
          "x3": 0.1985542768444195
         },
         {
          "x1": 6,
          "x2": 41,
          "x3": 0.49712999555316445
         },
         {
          "x1": 0,
          "x2": 58,
          "x3": 0.003562309487071774
         },
         {
          "x1": 8,
          "x2": 39,
          "x3": 0.9473185665963778
         },
         {
          "x1": 5,
          "x2": 39,
          "x3": 0.7691876686920265
         },
         {
          "x1": 8,
          "x2": 40,
          "x3": 0.8649156086967086
         },
         {
          "x1": 7,
          "x2": 47,
          "x3": 0.902302330287371
         },
         {
          "x1": 2,
          "x2": 28,
          "x3": 0.26589424234881465
         },
         {
          "x1": 8,
          "x2": 41,
          "x3": 0.9928915935372025
         },
         {
          "x1": 6,
          "x2": 42,
          "x3": 0.7760518375648865
         },
         {
          "x1": 2,
          "x2": 29,
          "x3": 0.28835781066218613
         },
         {
          "x1": 0,
          "x2": 59,
          "x3": 0.22263840103621574
         },
         {
          "x1": 4,
          "x2": 59,
          "x3": 0.4857660912337626
         },
         {
          "x1": 5,
          "x2": 40,
          "x3": 0.6103384324127169
         },
         {
          "x1": 0,
          "x2": 60,
          "x3": 0.020555289740650275
         },
         {
          "x1": 3,
          "x2": 52,
          "x3": 0.2524175354211141
         },
         {
          "x1": 2,
          "x2": 30,
          "x3": 0.15034019628108708
         },
         {
          "x1": 5,
          "x2": 41,
          "x3": 0.42068382051655234
         },
         {
          "x1": 4,
          "x2": 60,
          "x3": 0.48961730111776053
         },
         {
          "x1": 7,
          "x2": 48,
          "x3": 0.7660830566266978
         },
         {
          "x1": 5,
          "x2": 42,
          "x3": 0.6525448636152612
         },
         {
          "x1": 2,
          "x2": 31,
          "x3": 0.5189464413199499
         },
         {
          "x1": 3,
          "x2": 53,
          "x3": 0.5038776135094997
         },
         {
          "x1": 1,
          "x2": 34,
          "x3": 0.34509030220168335
         },
         {
          "x1": 5,
          "x2": 43,
          "x3": 0.4322722321397581
         },
         {
          "x1": 4,
          "x2": 61,
          "x3": 0.6559461448239354
         },
         {
          "x1": 7,
          "x2": 49,
          "x3": 0.6916290512562489
         },
         {
          "x1": 0,
          "x2": 61,
          "x3": 0.27741914370341725
         },
         {
          "x1": 5,
          "x2": 44,
          "x3": 0.6117714296822149
         },
         {
          "x1": 8,
          "x2": 42,
          "x3": 0.8575633310290055
         },
         {
          "x1": 0,
          "x2": 62,
          "x3": 0.20939610624334537
         },
         {
          "x1": 4,
          "x2": 62,
          "x3": 0.49565625757031223
         },
         {
          "x1": 4,
          "x2": 63,
          "x3": 0.6724301417163409
         },
         {
          "x1": 2,
          "x2": 32,
          "x3": 0.22540084446459036
         },
         {
          "x1": 6,
          "x2": 43,
          "x3": 0.6469709468041066
         },
         {
          "x1": 3,
          "x2": 54,
          "x3": 0.5391433225715335
         },
         {
          "x1": 7,
          "x2": 50,
          "x3": 0.9773218484966332
         },
         {
          "x1": 8,
          "x2": 43,
          "x3": 0.691465926472435
         },
         {
          "x1": 2,
          "x2": 33,
          "x3": 0.46483545147115113
         },
         {
          "x1": 5,
          "x2": 45,
          "x3": 0.8581991702968874
         },
         {
          "x1": 1,
          "x2": 35,
          "x3": 0.03972667736279775
         },
         {
          "x1": 5,
          "x2": 46,
          "x3": 0.5655324160548468
         },
         {
          "x1": 7,
          "x2": 51,
          "x3": 0.9280966356130665
         },
         {
          "x1": 2,
          "x2": 34,
          "x3": 0.17649183165286936
         },
         {
          "x1": 1,
          "x2": 36,
          "x3": 0.20208706058877832
         },
         {
          "x1": 1,
          "x2": 37,
          "x3": 0.18689674872265855
         },
         {
          "x1": 2,
          "x2": 35,
          "x3": 0.3533009933263592
         },
         {
          "x1": 5,
          "x2": 47,
          "x3": 0.5531034311164611
         },
         {
          "x1": 4,
          "x2": 64,
          "x3": 0.5947185438286167
         },
         {
          "x1": 0,
          "x2": 63,
          "x3": 0.013531320899572614
         },
         {
          "x1": 3,
          "x2": 55,
          "x3": 0.41863907381067306
         },
         {
          "x1": 5,
          "x2": 48,
          "x3": 0.3717065966943621
         },
         {
          "x1": 3,
          "x2": 56,
          "x3": 0.4045524280992139
         },
         {
          "x1": 7,
          "x2": 52,
          "x3": 0.8087827821277603
         },
         {
          "x1": 5,
          "x2": 49,
          "x3": 0.71593545589206
         },
         {
          "x1": 0,
          "x2": 64,
          "x3": 0.05290936884710495
         },
         {
          "x1": 7,
          "x2": 53,
          "x3": 0.6254985830640858
         },
         {
          "x1": 8,
          "x2": 44,
          "x3": 0.9865517320254489
         },
         {
          "x1": 3,
          "x2": 57,
          "x3": 0.4189217704254471
         },
         {
          "x1": 0,
          "x2": 65,
          "x3": 0.04204685979423911
         },
         {
          "x1": 5,
          "x2": 50,
          "x3": 0.6867515034192285
         },
         {
          "x1": 0,
          "x2": 66,
          "x3": 0.0007627020088425791
         },
         {
          "x1": 7,
          "x2": 54,
          "x3": 0.8697829074745457
         },
         {
          "x1": 0,
          "x2": 67,
          "x3": 0.21430246162941685
         },
         {
          "x1": 5,
          "x2": 51,
          "x3": 0.6989319975700914
         },
         {
          "x1": 6,
          "x2": 44,
          "x3": 0.5882141298824807
         },
         {
          "x1": 5,
          "x2": 52,
          "x3": 0.6081746756324065
         },
         {
          "x1": 6,
          "x2": 45,
          "x3": 0.9128104020996141
         },
         {
          "x1": 5,
          "x2": 53,
          "x3": 0.6317091585173366
         },
         {
          "x1": 8,
          "x2": 45,
          "x3": 0.89436561539665
         },
         {
          "x1": 2,
          "x2": 36,
          "x3": 0.2666033749483454
         },
         {
          "x1": 1,
          "x2": 38,
          "x3": 0.21218766445458623
         },
         {
          "x1": 6,
          "x2": 46,
          "x3": 0.828303153425824
         },
         {
          "x1": 8,
          "x2": 46,
          "x3": 0.7004238737545918
         },
         {
          "x1": 0,
          "x2": 68,
          "x3": 0.096393891605335
         },
         {
          "x1": 2,
          "x2": 37,
          "x3": 0.39948652105215793
         },
         {
          "x1": 0,
          "x2": 69,
          "x3": 0.01608943630341941
         },
         {
          "x1": 4,
          "x2": 65,
          "x3": 0.40466638590744347
         },
         {
          "x1": 3,
          "x2": 58,
          "x3": 0.4274381203790176
         },
         {
          "x1": 4,
          "x2": 66,
          "x3": 0.2917991756060529
         },
         {
          "x1": 4,
          "x2": 67,
          "x3": 0.5917401814122677
         },
         {
          "x1": 2,
          "x2": 38,
          "x3": 0.26631320556652355
         },
         {
          "x1": 2,
          "x2": 39,
          "x3": 0.4527900395334897
         },
         {
          "x1": 6,
          "x2": 47,
          "x3": 0.9076502923440675
         },
         {
          "x1": 2,
          "x2": 40,
          "x3": 0.10832291139699833
         },
         {
          "x1": 7,
          "x2": 55,
          "x3": 0.9277196493392948
         },
         {
          "x1": 3,
          "x2": 59,
          "x3": 0.21803852377126076
         },
         {
          "x1": 8,
          "x2": 47,
          "x3": 0.9154456960716354
         },
         {
          "x1": 2,
          "x2": 41,
          "x3": 0.24874035032223676
         },
         {
          "x1": 1,
          "x2": 39,
          "x3": 0.050083166758920876
         },
         {
          "x1": 2,
          "x2": 42,
          "x3": 0.17429844333285116
         },
         {
          "x1": 5,
          "x2": 54,
          "x3": 0.5772676667648474
         },
         {
          "x1": 0,
          "x2": 70,
          "x3": 0.001976257908843188
         },
         {
          "x1": 4,
          "x2": 68,
          "x3": 0.6408558088012861
         },
         {
          "x1": 7,
          "x2": 56,
          "x3": 0.9304721317815494
         },
         {
          "x1": 0,
          "x2": 71,
          "x3": 0.08663476254064782
         },
         {
          "x1": 0,
          "x2": 72,
          "x3": 0.039892574705435016
         },
         {
          "x1": 4,
          "x2": 69,
          "x3": 0.16627200934721587
         },
         {
          "x1": 7,
          "x2": 57,
          "x3": 0.9601076859257452
         },
         {
          "x1": 4,
          "x2": 70,
          "x3": 0.8713410417131894
         },
         {
          "x1": 0,
          "x2": 73,
          "x3": 0.32576588357765246
         },
         {
          "x1": 0,
          "x2": 74,
          "x3": 0.11633343049402861
         },
         {
          "x1": 2,
          "x2": 43,
          "x3": 0.17279576662709778
         },
         {
          "x1": 8,
          "x2": 48,
          "x3": 0.7051718448057922
         },
         {
          "x1": 1,
          "x2": 40,
          "x3": 0.348405452206253
         },
         {
          "x1": 4,
          "x2": 71,
          "x3": 0.525854958620051
         },
         {
          "x1": 4,
          "x2": 72,
          "x3": 0.7250999452105344
         },
         {
          "x1": 7,
          "x2": 58,
          "x3": 0.9484836401027021
         },
         {
          "x1": 0,
          "x2": 75,
          "x3": 0.1298213276436809
         },
         {
          "x1": 4,
          "x2": 73,
          "x3": 0.5057502175293344
         },
         {
          "x1": 0,
          "x2": 76,
          "x3": 0.022899494743103654
         },
         {
          "x1": 7,
          "x2": 59,
          "x3": 0.9596155568294436
         },
         {
          "x1": 4,
          "x2": 74,
          "x3": 0.5470191163620705
         },
         {
          "x1": 2,
          "x2": 44,
          "x3": 0.14895616727230343
         },
         {
          "x1": 3,
          "x2": 60,
          "x3": 0.6208534752594849
         },
         {
          "x1": 5,
          "x2": 55,
          "x3": 0.7201982266632153
         },
         {
          "x1": 3,
          "x2": 61,
          "x3": 0.5013899469941082
         },
         {
          "x1": 0,
          "x2": 77,
          "x3": 0.010133622808230497
         },
         {
          "x1": 2,
          "x2": 45,
          "x3": 0.39990283928114845
         },
         {
          "x1": 7,
          "x2": 60,
          "x3": 0.8719884742915179
         },
         {
          "x1": 1,
          "x2": 41,
          "x3": 0.15321812258638215
         },
         {
          "x1": 4,
          "x2": 75,
          "x3": 0.680927032388518
         },
         {
          "x1": 8,
          "x2": 49,
          "x3": 0.9614298557694327
         },
         {
          "x1": 0,
          "x2": 78,
          "x3": 0.03285466555423659
         },
         {
          "x1": 3,
          "x2": 62,
          "x3": 0.49192977706089297
         },
         {
          "x1": 1,
          "x2": 42,
          "x3": 0.0679176964578178
         },
         {
          "x1": 6,
          "x2": 48,
          "x3": 0.8253780753469632
         },
         {
          "x1": 2,
          "x2": 46,
          "x3": 0.3483337152480067
         },
         {
          "x1": 4,
          "x2": 76,
          "x3": 0.4275357222220469
         },
         {
          "x1": 2,
          "x2": 47,
          "x3": 0.06806207402201116
         },
         {
          "x1": 6,
          "x2": 49,
          "x3": 0.8069749798129973
         },
         {
          "x1": 4,
          "x2": 77,
          "x3": 0.5851578003620227
         },
         {
          "x1": 5,
          "x2": 56,
          "x3": 0.7146426428709295
         },
         {
          "x1": 4,
          "x2": 78,
          "x3": 0.6730153695601998
         },
         {
          "x1": 3,
          "x2": 63,
          "x3": 0.46642294368703957
         },
         {
          "x1": 5,
          "x2": 57,
          "x3": 0.5044331523946017
         },
         {
          "x1": 7,
          "x2": 61,
          "x3": 0.6785479307656798
         },
         {
          "x1": 0,
          "x2": 79,
          "x3": 0.09637279282864748
         },
         {
          "x1": 2,
          "x2": 48,
          "x3": 0.12099861930662384
         },
         {
          "x1": 7,
          "x2": 62,
          "x3": 0.9566130856545909
         },
         {
          "x1": 6,
          "x2": 50,
          "x3": 0.45388286680716994
         },
         {
          "x1": 3,
          "x2": 64,
          "x3": 0.349019144797297
         },
         {
          "x1": 7,
          "x2": 63,
          "x3": 0.7034702140532761
         },
         {
          "x1": 6,
          "x2": 51,
          "x3": 0.626396304137845
         },
         {
          "x1": 7,
          "x2": 64,
          "x3": 0.9569239730878779
         },
         {
          "x1": 2,
          "x2": 49,
          "x3": 0.38127547913366855
         },
         {
          "x1": 1,
          "x2": 43,
          "x3": 0.03653106801665491
         },
         {
          "x1": 7,
          "x2": 65,
          "x3": 0.7739605573905399
         },
         {
          "x1": 6,
          "x2": 52,
          "x3": 0.8742162436353906
         },
         {
          "x1": 5,
          "x2": 58,
          "x3": 0.6730155684165703
         },
         {
          "x1": 3,
          "x2": 65,
          "x3": 0.40025905922163546
         },
         {
          "x1": 0,
          "x2": 80,
          "x3": 0.22254520408050693
         },
         {
          "x1": 3,
          "x2": 66,
          "x3": 0.5042885168217881
         },
         {
          "x1": 5,
          "x2": 59,
          "x3": 0.6812314785930594
         },
         {
          "x1": 0,
          "x2": 81,
          "x3": 0.12648597853202734
         },
         {
          "x1": 1,
          "x2": 44,
          "x3": 0.43077302188477434
         },
         {
          "x1": 2,
          "x2": 50,
          "x3": 0.3625325198527388
         },
         {
          "x1": 2,
          "x2": 51,
          "x3": 0.1388262493460318
         },
         {
          "x1": 1,
          "x2": 45,
          "x3": 0.07870974118896416
         },
         {
          "x1": 3,
          "x2": 67,
          "x3": 0.6963574726461296
         },
         {
          "x1": 7,
          "x2": 66,
          "x3": 0.9645087195215201
         },
         {
          "x1": 3,
          "x2": 68,
          "x3": 0.5634171348451149
         },
         {
          "x1": 6,
          "x2": 53,
          "x3": 0.8253885452190235
         },
         {
          "x1": 0,
          "x2": 82,
          "x3": 0.015107538141643766
         },
         {
          "x1": 4,
          "x2": 79,
          "x3": 0.6339006312811365
         },
         {
          "x1": 3,
          "x2": 69,
          "x3": 0.2209283705238591
         },
         {
          "x1": 7,
          "x2": 67,
          "x3": 0.9622904201468768
         },
         {
          "x1": 6,
          "x2": 54,
          "x3": 0.7210322529384702
         },
         {
          "x1": 0,
          "x2": 83,
          "x3": 0.19541924865321922
         },
         {
          "x1": 6,
          "x2": 55,
          "x3": 0.5629341991459152
         },
         {
          "x1": 6,
          "x2": 56,
          "x3": 0.800651443352184
         },
         {
          "x1": 0,
          "x2": 84,
          "x3": 0.04321914047590829
         },
         {
          "x1": 2,
          "x2": 52,
          "x3": 0.34997248675805886
         },
         {
          "x1": 8,
          "x2": 50,
          "x3": 0.9499974985023536
         },
         {
          "x1": 8,
          "x2": 51,
          "x3": 0.9032472179962424
         },
         {
          "x1": 4,
          "x2": 80,
          "x3": 0.4909195283762796
         },
         {
          "x1": 4,
          "x2": 81,
          "x3": 0.33443707261916084
         },
         {
          "x1": 8,
          "x2": 52,
          "x3": 0.9135640313303434
         },
         {
          "x1": 2,
          "x2": 53,
          "x3": 0.19979825387868422
         },
         {
          "x1": 6,
          "x2": 57,
          "x3": 0.7636659162416783
         },
         {
          "x1": 7,
          "x2": 68,
          "x3": 0.8903586179623206
         },
         {
          "x1": 1,
          "x2": 46,
          "x3": 0.03905734468948393
         },
         {
          "x1": 4,
          "x2": 82,
          "x3": 0.49191538278194974
         },
         {
          "x1": 0,
          "x2": 85,
          "x3": 0.31363007310686986
         },
         {
          "x1": 6,
          "x2": 58,
          "x3": 0.5403980028251948
         },
         {
          "x1": 8,
          "x2": 53,
          "x3": 0.9947460250911948
         },
         {
          "x1": 6,
          "x2": 59,
          "x3": 0.7215268425306772
         },
         {
          "x1": 8,
          "x2": 54,
          "x3": 0.7639345985042151
         },
         {
          "x1": 6,
          "x2": 60,
          "x3": 0.4966445440940579
         },
         {
          "x1": 7,
          "x2": 69,
          "x3": 0.8828306086249795
         },
         {
          "x1": 5,
          "x2": 60,
          "x3": 0.23452446982815287
         },
         {
          "x1": 8,
          "x2": 55,
          "x3": 0.9383519184451539
         },
         {
          "x1": 0,
          "x2": 86,
          "x3": 0.027578736335629565
         },
         {
          "x1": 6,
          "x2": 61,
          "x3": 0.3711712154245395
         },
         {
          "x1": 0,
          "x2": 87,
          "x3": 0.25000309416462824
         },
         {
          "x1": 6,
          "x2": 62,
          "x3": 0.7080001936442423
         },
         {
          "x1": 8,
          "x2": 56,
          "x3": 0.9584614774229409
         },
         {
          "x1": 0,
          "x2": 88,
          "x3": 0.037890804776127905
         },
         {
          "x1": 8,
          "x2": 57,
          "x3": 0.9765559899494861
         },
         {
          "x1": 7,
          "x2": 70,
          "x3": 0.800790379875961
         },
         {
          "x1": 1,
          "x2": 47,
          "x3": 0.22625193940729948
         },
         {
          "x1": 7,
          "x2": 71,
          "x3": 0.8534447464129814
         },
         {
          "x1": 2,
          "x2": 54,
          "x3": 0.11287573373749163
         },
         {
          "x1": 0,
          "x2": 89,
          "x3": 0.11909882316750799
         },
         {
          "x1": 2,
          "x2": 55,
          "x3": 0.26768112615060596
         },
         {
          "x1": 8,
          "x2": 58,
          "x3": 0.8016986552315053
         },
         {
          "x1": 1,
          "x2": 48,
          "x3": 0.3058560648715516
         },
         {
          "x1": 8,
          "x2": 59,
          "x3": 0.6070111005037274
         },
         {
          "x1": 7,
          "x2": 72,
          "x3": 0.8927586178175945
         },
         {
          "x1": 6,
          "x2": 63,
          "x3": 0.7666033847412059
         },
         {
          "x1": 4,
          "x2": 83,
          "x3": 0.3112352742722516
         },
         {
          "x1": 0,
          "x2": 90,
          "x3": 0.035401119139981445
         },
         {
          "x1": 1,
          "x2": 49,
          "x3": 0.408284869978702
         },
         {
          "x1": 2,
          "x2": 56,
          "x3": 0.2863820149851964
         },
         {
          "x1": 6,
          "x2": 64,
          "x3": 0.7316174274628715
         },
         {
          "x1": 2,
          "x2": 57,
          "x3": 0.3297872242402876
         },
         {
          "x1": 8,
          "x2": 60,
          "x3": 0.956160818878839
         },
         {
          "x1": 5,
          "x2": 61,
          "x3": 0.4883292113874611
         },
         {
          "x1": 6,
          "x2": 65,
          "x3": 0.8784027708640276
         },
         {
          "x1": 1,
          "x2": 50,
          "x3": 0.41093485930878054
         },
         {
          "x1": 6,
          "x2": 66,
          "x3": 0.6648756098839766
         },
         {
          "x1": 7,
          "x2": 73,
          "x3": 0.8074568080633443
         },
         {
          "x1": 1,
          "x2": 51,
          "x3": 0.23529254358376686
         },
         {
          "x1": 5,
          "x2": 62,
          "x3": 0.5524146116909204
         },
         {
          "x1": 0,
          "x2": 91,
          "x3": 0.07069928702631662
         },
         {
          "x1": 1,
          "x2": 52,
          "x3": 0.21371172730621693
         },
         {
          "x1": 2,
          "x2": 58,
          "x3": 0.2620048082775571
         },
         {
          "x1": 3,
          "x2": 70,
          "x3": 0.3593661319502644
         },
         {
          "x1": 4,
          "x2": 84,
          "x3": 0.43461073729831895
         },
         {
          "x1": 5,
          "x2": 63,
          "x3": 0.7254276370569314
         },
         {
          "x1": 3,
          "x2": 71,
          "x3": 0.7979277851366673
         },
         {
          "x1": 4,
          "x2": 85,
          "x3": 0.5140305164691563
         },
         {
          "x1": 2,
          "x2": 59,
          "x3": 0.30487583369975657
         },
         {
          "x1": 2,
          "x2": 60,
          "x3": 0.5371597628615914
         },
         {
          "x1": 2,
          "x2": 61,
          "x3": 0.16776337829702012
         },
         {
          "x1": 1,
          "x2": 53,
          "x3": 0.12313308414560784
         },
         {
          "x1": 0,
          "x2": 92,
          "x3": 0.03877741628475127
         },
         {
          "x1": 4,
          "x2": 86,
          "x3": 0.5998569227332552
         },
         {
          "x1": 5,
          "x2": 64,
          "x3": 0.4834896503240492
         },
         {
          "x1": 1,
          "x2": 54,
          "x3": 0.14420794214273894
         },
         {
          "x1": 6,
          "x2": 67,
          "x3": 0.7799132882453432
         },
         {
          "x1": 4,
          "x2": 87,
          "x3": 0.40221232003911384
         },
         {
          "x1": 2,
          "x2": 62,
          "x3": 0.4911540227820472
         },
         {
          "x1": 0,
          "x2": 93,
          "x3": 0.03086569584210426
         },
         {
          "x1": 2,
          "x2": 63,
          "x3": 0.3384043894814425
         },
         {
          "x1": 0,
          "x2": 94,
          "x3": 0.05867736428415921
         },
         {
          "x1": 5,
          "x2": 65,
          "x3": 0.5575486398215354
         },
         {
          "x1": 4,
          "x2": 88,
          "x3": 0.6334542242118633
         },
         {
          "x1": 3,
          "x2": 72,
          "x3": 0.32077804006142424
         },
         {
          "x1": 0,
          "x2": 95,
          "x3": 0.004557689654610937
         },
         {
          "x1": 8,
          "x2": 61,
          "x3": 0.9766754407570934
         },
         {
          "x1": 1,
          "x2": 55,
          "x3": 0.2847602335324527
         },
         {
          "x1": 3,
          "x2": 73,
          "x3": 0.4680606856604888
         },
         {
          "x1": 8,
          "x2": 62,
          "x3": 0.965113593615516
         },
         {
          "x1": 6,
          "x2": 68,
          "x3": 0.8163294149358307
         },
         {
          "x1": 5,
          "x2": 66,
          "x3": 0.5396662433667514
         },
         {
          "x1": 6,
          "x2": 69,
          "x3": 0.619520337088789
         },
         {
          "x1": 8,
          "x2": 63,
          "x3": 0.9484325442384137
         },
         {
          "x1": 2,
          "x2": 64,
          "x3": 0.28536567088647946
         },
         {
          "x1": 2,
          "x2": 65,
          "x3": 0.0971154645313918
         },
         {
          "x1": 0,
          "x2": 96,
          "x3": 0.24211674282545564
         },
         {
          "x1": 8,
          "x2": 64,
          "x3": 0.8222458200850388
         },
         {
          "x1": 5,
          "x2": 67,
          "x3": 0.556082627231615
         },
         {
          "x1": 3,
          "x2": 74,
          "x3": 0.4522055310964095
         },
         {
          "x1": 8,
          "x2": 65,
          "x3": 0.695071208919209
         },
         {
          "x1": 0,
          "x2": 97,
          "x3": 0.045935858731588404
         },
         {
          "x1": 6,
          "x2": 70,
          "x3": 0.8133708244061293
         },
         {
          "x1": 2,
          "x2": 66,
          "x3": 0.11140922901901049
         },
         {
          "x1": 7,
          "x2": 74,
          "x3": 0.873874690942015
         },
         {
          "x1": 3,
          "x2": 75,
          "x3": 0.33551580095390593
         },
         {
          "x1": 3,
          "x2": 76,
          "x3": 0.76996654869066
         },
         {
          "x1": 6,
          "x2": 71,
          "x3": 0.39770668389963
         },
         {
          "x1": 8,
          "x2": 66,
          "x3": 0.953444354851585
         },
         {
          "x1": 6,
          "x2": 72,
          "x3": 0.7526955986384912
         },
         {
          "x1": 8,
          "x2": 67,
          "x3": 0.6266678179109701
         },
         {
          "x1": 7,
          "x2": 75,
          "x3": 0.6371306663551004
         },
         {
          "x1": 0,
          "x2": 98,
          "x3": 0.0017681593382032302
         },
         {
          "x1": 4,
          "x2": 89,
          "x3": 0.490012146836796
         },
         {
          "x1": 5,
          "x2": 68,
          "x3": 0.6127383236496308
         },
         {
          "x1": 3,
          "x2": 77,
          "x3": 0.3102970371067673
         },
         {
          "x1": 8,
          "x2": 68,
          "x3": 0.8183643160346082
         },
         {
          "x1": 7,
          "x2": 76,
          "x3": 0.8451809864325096
         },
         {
          "x1": 8,
          "x2": 69,
          "x3": 0.9996698398603999
         },
         {
          "x1": 3,
          "x2": 78,
          "x3": 0.6233487400297203
         },
         {
          "x1": 7,
          "x2": 77,
          "x3": 0.8922589375989005
         },
         {
          "x1": 4,
          "x2": 90,
          "x3": 0.5670463271850006
         },
         {
          "x1": 3,
          "x2": 79,
          "x3": 0.30390587479567854
         },
         {
          "x1": 2,
          "x2": 67,
          "x3": 0.2106498184123601
         },
         {
          "x1": 0,
          "x2": 99,
          "x3": 0.0059668803029094795
         },
         {
          "x1": 1,
          "x2": 56,
          "x3": 0.29840777643093874
         },
         {
          "x1": 6,
          "x2": 73,
          "x3": 0.6707080027520639
         },
         {
          "x1": 0,
          "x2": 100,
          "x3": 0.033435046185786625
         },
         {
          "x1": 1,
          "x2": 57,
          "x3": 0.19638642717505062
         },
         {
          "x1": 6,
          "x2": 74,
          "x3": 0.46493633456059164
         },
         {
          "x1": 2,
          "x2": 68,
          "x3": 0.12528015888554153
         },
         {
          "x1": 1,
          "x2": 58,
          "x3": 0.34039179509326356
         },
         {
          "x1": 6,
          "x2": 75,
          "x3": 0.7393598398629909
         },
         {
          "x1": 3,
          "x2": 80,
          "x3": 0.47473274344798655
         },
         {
          "x1": 5,
          "x2": 69,
          "x3": 0.5203010404572794
         },
         {
          "x1": 3,
          "x2": 81,
          "x3": 0.4031180796659853
         },
         {
          "x1": 0,
          "x2": 101,
          "x3": 0.11520322390528405
         },
         {
          "x1": 6,
          "x2": 76,
          "x3": 0.7163614575676897
         },
         {
          "x1": 1,
          "x2": 59,
          "x3": 0.25204352247809547
         },
         {
          "x1": 5,
          "x2": 70,
          "x3": 0.7315592554582852
         },
         {
          "x1": 3,
          "x2": 82,
          "x3": 0.37145125785100036
         },
         {
          "x1": 2,
          "x2": 69,
          "x3": 0.12699975232473618
         },
         {
          "x1": 1,
          "x2": 60,
          "x3": 0.26107089856731897
         },
         {
          "x1": 5,
          "x2": 71,
          "x3": 0.2196013435394039
         },
         {
          "x1": 0,
          "x2": 102,
          "x3": 0.14688973357290705
         },
         {
          "x1": 1,
          "x2": 61,
          "x3": 0.046000685444661155
         },
         {
          "x1": 7,
          "x2": 78,
          "x3": 0.8783963265233623
         },
         {
          "x1": 8,
          "x2": 70,
          "x3": 0.8576859904746286
         },
         {
          "x1": 2,
          "x2": 70,
          "x3": 0.3315318350672739
         },
         {
          "x1": 7,
          "x2": 79,
          "x3": 0.6180592244501071
         },
         {
          "x1": 2,
          "x2": 71,
          "x3": 0.12105914266754654
         },
         {
          "x1": 3,
          "x2": 83,
          "x3": 0.5610133753717439
         },
         {
          "x1": 7,
          "x2": 80,
          "x3": 0.9059288557952101
         },
         {
          "x1": 8,
          "x2": 71,
          "x3": 0.8805250834108272
         },
         {
          "x1": 7,
          "x2": 81,
          "x3": 0.4852144223318911
         },
         {
          "x1": 4,
          "x2": 91,
          "x3": 0.3147675873015623
         },
         {
          "x1": 8,
          "x2": 72,
          "x3": 0.7793320426222332
         },
         {
          "x1": 8,
          "x2": 73,
          "x3": 0.9452495341246935
         },
         {
          "x1": 5,
          "x2": 72,
          "x3": 0.715541093590079
         },
         {
          "x1": 8,
          "x2": 74,
          "x3": 0.8795559684448013
         },
         {
          "x1": 7,
          "x2": 82,
          "x3": 0.8820225301848938
         },
         {
          "x1": 0,
          "x2": 103,
          "x3": 0.006663436401902133
         },
         {
          "x1": 3,
          "x2": 84,
          "x3": 0.585158560053752
         },
         {
          "x1": 7,
          "x2": 83,
          "x3": 0.7756676782036227
         },
         {
          "x1": 2,
          "x2": 72,
          "x3": 0.10616647290792984
         },
         {
          "x1": 0,
          "x2": 104,
          "x3": 0.07240343029231232
         },
         {
          "x1": 8,
          "x2": 75,
          "x3": 0.9967991431324386
         },
         {
          "x1": 1,
          "x2": 62,
          "x3": 0.232099875523391
         },
         {
          "x1": 5,
          "x2": 73,
          "x3": 0.7602702240091012
         },
         {
          "x1": 1,
          "x2": 63,
          "x3": 0.17178698418291796
         },
         {
          "x1": 6,
          "x2": 77,
          "x3": 0.8686637266337657
         },
         {
          "x1": 5,
          "x2": 74,
          "x3": 0.7430964312367239
         },
         {
          "x1": 0,
          "x2": 105,
          "x3": 0.04210573586152287
         },
         {
          "x1": 6,
          "x2": 78,
          "x3": 0.6828004981121965
         },
         {
          "x1": 8,
          "x2": 76,
          "x3": 0.7925790470873916
         },
         {
          "x1": 7,
          "x2": 84,
          "x3": 0.8836930950216005
         },
         {
          "x1": 3,
          "x2": 85,
          "x3": 0.40637565098141604
         },
         {
          "x1": 0,
          "x2": 106,
          "x3": 0.10112744581712989
         },
         {
          "x1": 0,
          "x2": 107,
          "x3": 0.004511820345014663
         },
         {
          "x1": 5,
          "x2": 75,
          "x3": 0.32517715849065837
         },
         {
          "x1": 6,
          "x2": 79,
          "x3": 0.5832691996413348
         },
         {
          "x1": 6,
          "x2": 80,
          "x3": 0.8534079519636015
         },
         {
          "x1": 0,
          "x2": 108,
          "x3": 0.007284997121693469
         },
         {
          "x1": 6,
          "x2": 81,
          "x3": 0.757116816851843
         },
         {
          "x1": 0,
          "x2": 109,
          "x3": 0.14209927954264887
         },
         {
          "x1": 0,
          "x2": 110,
          "x3": 0.08547788986592496
         },
         {
          "x1": 5,
          "x2": 76,
          "x3": 0.49136826916987775
         },
         {
          "x1": 4,
          "x2": 92,
          "x3": 0.5741729415539824
         },
         {
          "x1": 5,
          "x2": 77,
          "x3": 0.6694317023926368
         },
         {
          "x1": 4,
          "x2": 93,
          "x3": 0.5900763770783292
         },
         {
          "x1": 3,
          "x2": 86,
          "x3": 0.4429393805830909
         },
         {
          "x1": 1,
          "x2": 64,
          "x3": 0.4368030876412799
         },
         {
          "x1": 6,
          "x2": 82,
          "x3": 0.6865573237353589
         },
         {
          "x1": 8,
          "x2": 77,
          "x3": 0.9137546047208714
         },
         {
          "x1": 5,
          "x2": 78,
          "x3": 0.5211758971499191
         },
         {
          "x1": 7,
          "x2": 85,
          "x3": 0.5104397823210748
         },
         {
          "x1": 1,
          "x2": 65,
          "x3": 0.07258241854478675
         },
         {
          "x1": 1,
          "x2": 66,
          "x3": 0.21982090850486
         },
         {
          "x1": 4,
          "x2": 94,
          "x3": 0.4052486159285701
         },
         {
          "x1": 5,
          "x2": 79,
          "x3": 0.4683691571737387
         },
         {
          "x1": 8,
          "x2": 78,
          "x3": 0.9662437672333463
         },
         {
          "x1": 4,
          "x2": 95,
          "x3": 0.5521152566063847
         },
         {
          "x1": 2,
          "x2": 73,
          "x3": 0.28072676671633234
         },
         {
          "x1": 4,
          "x2": 96,
          "x3": 0.3949080935851677
         },
         {
          "x1": 4,
          "x2": 97,
          "x3": 0.6108494144383285
         },
         {
          "x1": 6,
          "x2": 83,
          "x3": 0.5548690660620346
         },
         {
          "x1": 4,
          "x2": 98,
          "x3": 0.6857657384377822
         },
         {
          "x1": 2,
          "x2": 74,
          "x3": 0.497191470892216
         },
         {
          "x1": 1,
          "x2": 67,
          "x3": 0.3970343963375114
         },
         {
          "x1": 4,
          "x2": 99,
          "x3": 0.7794698715985097
         },
         {
          "x1": 1,
          "x2": 68,
          "x3": 0.22621695752680585
         },
         {
          "x1": 8,
          "x2": 79,
          "x3": 0.9514040840857617
         },
         {
          "x1": 6,
          "x2": 84,
          "x3": 0.6909801707660935
         },
         {
          "x1": 6,
          "x2": 85,
          "x3": 0.622435444872162
         },
         {
          "x1": 3,
          "x2": 87,
          "x3": 0.48781878554506364
         },
         {
          "x1": 3,
          "x2": 88,
          "x3": 0.4944685768194497
         },
         {
          "x1": 6,
          "x2": 86,
          "x3": 0.7870008090831548
         },
         {
          "x1": 4,
          "x2": 100,
          "x3": 0.45705032614743546
         },
         {
          "x1": 1,
          "x2": 69,
          "x3": 0.3043248833475732
         },
         {
          "x1": 1,
          "x2": 70,
          "x3": 0.3154097983000081
         },
         {
          "x1": 1,
          "x2": 71,
          "x3": 0.18000671704185825
         },
         {
          "x1": 0,
          "x2": 111,
          "x3": 0.09368786283449132
         },
         {
          "x1": 7,
          "x2": 86,
          "x3": 0.9140224997065787
         },
         {
          "x1": 3,
          "x2": 89,
          "x3": 0.32039586935753894
         },
         {
          "x1": 6,
          "x2": 87,
          "x3": 0.8321124125927998
         },
         {
          "x1": 1,
          "x2": 72,
          "x3": 0.4077672989794858
         },
         {
          "x1": 6,
          "x2": 88,
          "x3": 0.8608790333527077
         },
         {
          "x1": 1,
          "x2": 73,
          "x3": 0.18048432164687245
         },
         {
          "x1": 2,
          "x2": 75,
          "x3": 0.30494695360267987
         },
         {
          "x1": 5,
          "x2": 80,
          "x3": 0.45657113248900716
         },
         {
          "x1": 0,
          "x2": 112,
          "x3": 0.03941399606368478
         },
         {
          "x1": 6,
          "x2": 89,
          "x3": 0.5793154156049896
         },
         {
          "x1": 7,
          "x2": 87,
          "x3": 0.9654616281831385
         },
         {
          "x1": 2,
          "x2": 76,
          "x3": 0.15075298245980562
         },
         {
          "x1": 5,
          "x2": 81,
          "x3": 0.4980675430752684
         },
         {
          "x1": 1,
          "x2": 74,
          "x3": 0.3684612619176341
         },
         {
          "x1": 7,
          "x2": 88,
          "x3": 0.8749813798009525
         },
         {
          "x1": 3,
          "x2": 90,
          "x3": 0.291961408633358
         },
         {
          "x1": 4,
          "x2": 101,
          "x3": 0.5939683919547414
         },
         {
          "x1": 1,
          "x2": 75,
          "x3": 0.3039112772358752
         },
         {
          "x1": 8,
          "x2": 80,
          "x3": 0.9808609583191269
         },
         {
          "x1": 2,
          "x2": 77,
          "x3": 0.12804146347834286
         },
         {
          "x1": 0,
          "x2": 113,
          "x3": 0.03736009620794076
         },
         {
          "x1": 4,
          "x2": 102,
          "x3": 0.6334456121875331
         },
         {
          "x1": 4,
          "x2": 103,
          "x3": 0.3648151357929632
         },
         {
          "x1": 2,
          "x2": 78,
          "x3": 0.30350852213280777
         },
         {
          "x1": 6,
          "x2": 90,
          "x3": 0.525241003724085
         },
         {
          "x1": 6,
          "x2": 91,
          "x3": 0.4413895247042706
         },
         {
          "x1": 4,
          "x2": 104,
          "x3": 0.5232623136117668
         },
         {
          "x1": 2,
          "x2": 79,
          "x3": 0.162602480229258
         },
         {
          "x1": 5,
          "x2": 82,
          "x3": 0.5649899773468396
         },
         {
          "x1": 0,
          "x2": 114,
          "x3": 0.07584448058570999
         },
         {
          "x1": 6,
          "x2": 92,
          "x3": 0.6457755148383986
         },
         {
          "x1": 7,
          "x2": 89,
          "x3": 0.7225035125187601
         },
         {
          "x1": 0,
          "x2": 115,
          "x3": 0.19086344804753938
         },
         {
          "x1": 6,
          "x2": 93,
          "x3": 0.8429802384736825
         },
         {
          "x1": 6,
          "x2": 94,
          "x3": 0.5175259555800726
         },
         {
          "x1": 5,
          "x2": 83,
          "x3": 0.6557242905585093
         },
         {
          "x1": 2,
          "x2": 80,
          "x3": 0.14386705751543905
         },
         {
          "x1": 1,
          "x2": 76,
          "x3": 0.213186621815525
         },
         {
          "x1": 8,
          "x2": 81,
          "x3": 0.9533503424012414
         },
         {
          "x1": 7,
          "x2": 90,
          "x3": 0.7626914465866421
         },
         {
          "x1": 1,
          "x2": 77,
          "x3": 0.22361899908085525
         },
         {
          "x1": 7,
          "x2": 91,
          "x3": 0.9065306813334034
         },
         {
          "x1": 0,
          "x2": 116,
          "x3": 0.31184596128426734
         },
         {
          "x1": 7,
          "x2": 92,
          "x3": 0.8163838201302158
         },
         {
          "x1": 4,
          "x2": 105,
          "x3": 0.1876954987508562
         },
         {
          "x1": 1,
          "x2": 78,
          "x3": 0.08507315754571482
         },
         {
          "x1": 4,
          "x2": 106,
          "x3": 0.6212150265563596
         },
         {
          "x1": 5,
          "x2": 84,
          "x3": 0.6754054895985282
         },
         {
          "x1": 4,
          "x2": 107,
          "x3": 0.39938735349003884
         },
         {
          "x1": 4,
          "x2": 108,
          "x3": 0.4358580151394297
         },
         {
          "x1": 3,
          "x2": 91,
          "x3": 0.09294164958106416
         },
         {
          "x1": 1,
          "x2": 79,
          "x3": 0.029921275776126428
         },
         {
          "x1": 2,
          "x2": 81,
          "x3": 0.298833804081976
         },
         {
          "x1": 5,
          "x2": 85,
          "x3": 0.5628352854008288
         },
         {
          "x1": 5,
          "x2": 86,
          "x3": 0.5362710616298211
         },
         {
          "x1": 1,
          "x2": 80,
          "x3": 0.10275241521326153
         },
         {
          "x1": 5,
          "x2": 87,
          "x3": 0.5654704291804322
         },
         {
          "x1": 4,
          "x2": 109,
          "x3": 0.2923246161422933
         },
         {
          "x1": 6,
          "x2": 95,
          "x3": 0.6837117963401482
         },
         {
          "x1": 8,
          "x2": 82,
          "x3": 0.9146318598569544
         },
         {
          "x1": 6,
          "x2": 96,
          "x3": 0.7469439132358995
         },
         {
          "x1": 3,
          "x2": 92,
          "x3": 0.46024186824987684
         },
         {
          "x1": 0,
          "x2": 117,
          "x3": 0.13921337397206066
         },
         {
          "x1": 8,
          "x2": 83,
          "x3": 0.808651561499636
         },
         {
          "x1": 5,
          "x2": 88,
          "x3": 0.8014497846201459
         },
         {
          "x1": 3,
          "x2": 93,
          "x3": 0.42298715137771725
         },
         {
          "x1": 4,
          "x2": 110,
          "x3": 0.41373452195456545
         },
         {
          "x1": 5,
          "x2": 89,
          "x3": 0.2615225840324369
         },
         {
          "x1": 2,
          "x2": 82,
          "x3": 0.37278188027863496
         },
         {
          "x1": 2,
          "x2": 83,
          "x3": 0.22015772801800215
         },
         {
          "x1": 5,
          "x2": 90,
          "x3": 0.7648466594042425
         },
         {
          "x1": 8,
          "x2": 84,
          "x3": 0.7512096209382434
         },
         {
          "x1": 7,
          "x2": 93,
          "x3": 0.5999922052451843
         },
         {
          "x1": 7,
          "x2": 94,
          "x3": 0.8239414231106783
         },
         {
          "x1": 0,
          "x2": 118,
          "x3": 0.08124395614388055
         },
         {
          "x1": 7,
          "x2": 95,
          "x3": 0.6454679547284806
         },
         {
          "x1": 7,
          "x2": 96,
          "x3": 0.8128319828567231
         },
         {
          "x1": 4,
          "x2": 111,
          "x3": 0.8017489892818089
         },
         {
          "x1": 6,
          "x2": 97,
          "x3": 0.5694600808779636
         },
         {
          "x1": 4,
          "x2": 112,
          "x3": 0.37183559559432944
         },
         {
          "x1": 4,
          "x2": 113,
          "x3": 0.5555279728890659
         },
         {
          "x1": 5,
          "x2": 91,
          "x3": 0.5929244369136135
         },
         {
          "x1": 5,
          "x2": 92,
          "x3": 0.5357249310765559
         },
         {
          "x1": 2,
          "x2": 84,
          "x3": 0.151385413076522
         },
         {
          "x1": 7,
          "x2": 97,
          "x3": 0.7720941846758843
         },
         {
          "x1": 8,
          "x2": 85,
          "x3": 0.9675345669614618
         },
         {
          "x1": 1,
          "x2": 81,
          "x3": 0.10565947712925679
         },
         {
          "x1": 5,
          "x2": 93,
          "x3": 0.4633535954841011
         },
         {
          "x1": 7,
          "x2": 98,
          "x3": 0.7623210695488641
         },
         {
          "x1": 6,
          "x2": 98,
          "x3": 0.6593474426930469
         },
         {
          "x1": 2,
          "x2": 85,
          "x3": 0.4021107222596025
         },
         {
          "x1": 4,
          "x2": 114,
          "x3": 0.47932757667089676
         },
         {
          "x1": 8,
          "x2": 86,
          "x3": 0.9875732120136108
         },
         {
          "x1": 5,
          "x2": 94,
          "x3": 0.7651920331800321
         },
         {
          "x1": 8,
          "x2": 87,
          "x3": 0.76489859463313
         },
         {
          "x1": 3,
          "x2": 94,
          "x3": 0.545694873467087
         },
         {
          "x1": 7,
          "x2": 99,
          "x3": 0.8655938632184794
         },
         {
          "x1": 0,
          "x2": 119,
          "x3": 0.07221312365947129
         },
         {
          "x1": 5,
          "x2": 95,
          "x3": 0.719299769300365
         },
         {
          "x1": 8,
          "x2": 88,
          "x3": 0.9345407831965262
         },
         {
          "x1": 5,
          "x2": 96,
          "x3": 0.6177375502207256
         },
         {
          "x1": 3,
          "x2": 95,
          "x3": 0.580908333610921
         },
         {
          "x1": 5,
          "x2": 97,
          "x3": 0.3867280038902198
         },
         {
          "x1": 0,
          "x2": 120,
          "x3": 0.09911530017095817
         },
         {
          "x1": 2,
          "x2": 86,
          "x3": 0.239407949326769
         },
         {
          "x1": 3,
          "x2": 96,
          "x3": 0.6287867959524633
         },
         {
          "x1": 1,
          "x2": 82,
          "x3": 0.09948618337097011
         },
         {
          "x1": 7,
          "x2": 100,
          "x3": 0.7639398844035291
         },
         {
          "x1": 8,
          "x2": 89,
          "x3": 0.9778887671243855
         },
         {
          "x1": 2,
          "x2": 87,
          "x3": 0.28708770121204563
         },
         {
          "x1": 6,
          "x2": 99,
          "x3": 0.48075522382384983
         },
         {
          "x1": 3,
          "x2": 97,
          "x3": 0.27548124014242803
         },
         {
          "x1": 2,
          "x2": 88,
          "x3": 0.33019508736818015
         },
         {
          "x1": 4,
          "x2": 115,
          "x3": 0.6520499163572059
         },
         {
          "x1": 6,
          "x2": 100,
          "x3": 0.8108547970263352
         },
         {
          "x1": 1,
          "x2": 83,
          "x3": 0.21447530629188893
         },
         {
          "x1": 8,
          "x2": 90,
          "x3": 0.8894766932533416
         },
         {
          "x1": 0,
          "x2": 121,
          "x3": 0.16733896243505467
         },
         {
          "x1": 3,
          "x2": 98,
          "x3": 0.29060533208872047
         },
         {
          "x1": 4,
          "x2": 116,
          "x3": 0.6118721392221844
         },
         {
          "x1": 6,
          "x2": 101,
          "x3": 0.49071649748581747
         },
         {
          "x1": 4,
          "x2": 117,
          "x3": 0.48176580745425274
         },
         {
          "x1": 8,
          "x2": 91,
          "x3": 0.8858952482084864
         },
         {
          "x1": 5,
          "x2": 98,
          "x3": 0.6092430314449789
         },
         {
          "x1": 2,
          "x2": 89,
          "x3": 0.13887875803106625
         },
         {
          "x1": 2,
          "x2": 90,
          "x3": 0.35214814368288405
         },
         {
          "x1": 0,
          "x2": 122,
          "x3": 0.08936675222635176
         },
         {
          "x1": 3,
          "x2": 99,
          "x3": 0.5622675803790786
         },
         {
          "x1": 0,
          "x2": 123,
          "x3": 0.13001708370578036
         },
         {
          "x1": 7,
          "x2": 101,
          "x3": 0.7198174839367054
         },
         {
          "x1": 2,
          "x2": 91,
          "x3": 0.38755768170538024
         },
         {
          "x1": 4,
          "x2": 118,
          "x3": 0.3667254182916258
         },
         {
          "x1": 5,
          "x2": 99,
          "x3": 0.8732217469314056
         },
         {
          "x1": 4,
          "x2": 119,
          "x3": 0.48300341823150356
         },
         {
          "x1": 6,
          "x2": 102,
          "x3": 0.8713969613870292
         },
         {
          "x1": 6,
          "x2": 103,
          "x3": 0.6793228413594091
         },
         {
          "x1": 8,
          "x2": 92,
          "x3": 0.9423609679643795
         },
         {
          "x1": 8,
          "x2": 93,
          "x3": 0.9914165663750956
         },
         {
          "x1": 0,
          "x2": 124,
          "x3": 0.09008503964126902
         },
         {
          "x1": 3,
          "x2": 100,
          "x3": 0.32808883428301905
         },
         {
          "x1": 7,
          "x2": 102,
          "x3": 0.9033046583768994
         },
         {
          "x1": 0,
          "x2": 125,
          "x3": 0.2547039139952296
         },
         {
          "x1": 5,
          "x2": 100,
          "x3": 0.45679903341553507
         },
         {
          "x1": 8,
          "x2": 94,
          "x3": 0.899533783579295
         },
         {
          "x1": 3,
          "x2": 101,
          "x3": 0.3475398143720458
         },
         {
          "x1": 8,
          "x2": 95,
          "x3": 0.9225436641771476
         },
         {
          "x1": 4,
          "x2": 120,
          "x3": 0.3302444294405663
         },
         {
          "x1": 6,
          "x2": 104,
          "x3": 0.760861656770987
         },
         {
          "x1": 3,
          "x2": 102,
          "x3": 0.6215890736665068
         },
         {
          "x1": 7,
          "x2": 103,
          "x3": 0.6462841773616094
         },
         {
          "x1": 5,
          "x2": 101,
          "x3": 0.23264031167479823
         },
         {
          "x1": 7,
          "x2": 104,
          "x3": 0.628615698808432
         },
         {
          "x1": 7,
          "x2": 105,
          "x3": 0.8148760082325227
         },
         {
          "x1": 3,
          "x2": 103,
          "x3": 0.23512311595879617
         },
         {
          "x1": 4,
          "x2": 121,
          "x3": 0.8162721040738615
         },
         {
          "x1": 4,
          "x2": 122,
          "x3": 0.6603747202636284
         },
         {
          "x1": 3,
          "x2": 104,
          "x3": 0.28185890901028926
         },
         {
          "x1": 6,
          "x2": 105,
          "x3": 0.5848280255843696
         },
         {
          "x1": 5,
          "x2": 102,
          "x3": 0.7992716635629573
         },
         {
          "x1": 8,
          "x2": 96,
          "x3": 0.9395212851665039
         },
         {
          "x1": 2,
          "x2": 92,
          "x3": 0.3709157283991994
         },
         {
          "x1": 3,
          "x2": 105,
          "x3": 0.3500358572335151
         },
         {
          "x1": 8,
          "x2": 97,
          "x3": 0.9305713667605289
         },
         {
          "x1": 6,
          "x2": 106,
          "x3": 0.5575204814686613
         },
         {
          "x1": 0,
          "x2": 126,
          "x3": 0.02797430613914294
         },
         {
          "x1": 2,
          "x2": 93,
          "x3": 0.3696685532114309
         },
         {
          "x1": 5,
          "x2": 103,
          "x3": 0.3361267347893865
         },
         {
          "x1": 3,
          "x2": 106,
          "x3": 0.2696913196346912
         },
         {
          "x1": 0,
          "x2": 127,
          "x3": 0.03161896106990719
         },
         {
          "x1": 6,
          "x2": 107,
          "x3": 0.8517184039908405
         },
         {
          "x1": 2,
          "x2": 94,
          "x3": 0.18442974676102084
         },
         {
          "x1": 7,
          "x2": 106,
          "x3": 0.7459338976358163
         },
         {
          "x1": 4,
          "x2": 123,
          "x3": 0.5815840165650454
         },
         {
          "x1": 8,
          "x2": 98,
          "x3": 0.8584845118991143
         },
         {
          "x1": 8,
          "x2": 99,
          "x3": 0.9659753603531844
         },
         {
          "x1": 4,
          "x2": 124,
          "x3": 0.4387141156208252
         },
         {
          "x1": 5,
          "x2": 104,
          "x3": 0.4394940310255306
         },
         {
          "x1": 8,
          "x2": 100,
          "x3": 0.8947393566813804
         },
         {
          "x1": 4,
          "x2": 125,
          "x3": 0.5566339176486137
         },
         {
          "x1": 6,
          "x2": 108,
          "x3": 0.7688637291914673
         },
         {
          "x1": 1,
          "x2": 84,
          "x3": 0.2385371708765589
         },
         {
          "x1": 6,
          "x2": 109,
          "x3": 0.7592353373063475
         },
         {
          "x1": 4,
          "x2": 126,
          "x3": 0.4316130262664365
         },
         {
          "x1": 1,
          "x2": 85,
          "x3": 0.44296305484761767
         },
         {
          "x1": 2,
          "x2": 95,
          "x3": 0.2429158041435451
         },
         {
          "x1": 3,
          "x2": 107,
          "x3": 0.28433540838146876
         },
         {
          "x1": 6,
          "x2": 110,
          "x3": 0.9070094081848777
         },
         {
          "x1": 7,
          "x2": 107,
          "x3": 0.8693730542231353
         },
         {
          "x1": 6,
          "x2": 111,
          "x3": 0.5095941612703639
         },
         {
          "x1": 2,
          "x2": 96,
          "x3": 0.4414611250554964
         },
         {
          "x1": 4,
          "x2": 127,
          "x3": 0.24157823315524346
         },
         {
          "x1": 0,
          "x2": 128,
          "x3": 0.23648716808300718
         },
         {
          "x1": 5,
          "x2": 105,
          "x3": 0.5165254218685055
         },
         {
          "x1": 3,
          "x2": 108,
          "x3": 0.23046312778725017
         },
         {
          "x1": 5,
          "x2": 106,
          "x3": 0.8489772924023727
         },
         {
          "x1": 7,
          "x2": 108,
          "x3": 0.534575853833757
         },
         {
          "x1": 8,
          "x2": 101,
          "x3": 0.8145751527478529
         },
         {
          "x1": 3,
          "x2": 109,
          "x3": 0.2964514027259403
         },
         {
          "x1": 4,
          "x2": 128,
          "x3": 0.40085847384323453
         },
         {
          "x1": 4,
          "x2": 129,
          "x3": 0.48156388440807313
         },
         {
          "x1": 4,
          "x2": 130,
          "x3": 0.7300915922301505
         },
         {
          "x1": 2,
          "x2": 97,
          "x3": 0.4039412657898543
         },
         {
          "x1": 5,
          "x2": 107,
          "x3": 0.7701655858366501
         },
         {
          "x1": 3,
          "x2": 110,
          "x3": 0.4307301934145272
         },
         {
          "x1": 8,
          "x2": 102,
          "x3": 0.8418235291722604
         },
         {
          "x1": 7,
          "x2": 109,
          "x3": 0.8778554659678186
         },
         {
          "x1": 1,
          "x2": 86,
          "x3": 0.100236572222214
         },
         {
          "x1": 7,
          "x2": 110,
          "x3": 0.5789063913302337
         },
         {
          "x1": 8,
          "x2": 103,
          "x3": 0.924610267997808
         },
         {
          "x1": 4,
          "x2": 131,
          "x3": 0.38864788790433363
         },
         {
          "x1": 6,
          "x2": 112,
          "x3": 0.7025183538842266
         },
         {
          "x1": 4,
          "x2": 132,
          "x3": 0.7208602514326606
         },
         {
          "x1": 7,
          "x2": 111,
          "x3": 0.8944180709619012
         },
         {
          "x1": 4,
          "x2": 133,
          "x3": 0.28700784344871766
         },
         {
          "x1": 3,
          "x2": 111,
          "x3": 0.441499441025103
         },
         {
          "x1": 2,
          "x2": 98,
          "x3": 0.3409608202145781
         },
         {
          "x1": 4,
          "x2": 134,
          "x3": 0.3806116572244729
         },
         {
          "x1": 1,
          "x2": 87,
          "x3": 0.23726478705229048
         },
         {
          "x1": 7,
          "x2": 112,
          "x3": 0.8764554933511063
         },
         {
          "x1": 1,
          "x2": 88,
          "x3": 0.1654983797067611
         },
         {
          "x1": 5,
          "x2": 108,
          "x3": 0.305037224385395
         },
         {
          "x1": 5,
          "x2": 109,
          "x3": 0.6865383262379172
         },
         {
          "x1": 1,
          "x2": 89,
          "x3": 0.2472098768500312
         },
         {
          "x1": 0,
          "x2": 129,
          "x3": 0.1630052026637722
         },
         {
          "x1": 4,
          "x2": 135,
          "x3": 0.47661585117042243
         },
         {
          "x1": 5,
          "x2": 110,
          "x3": 0.74699008982694
         },
         {
          "x1": 2,
          "x2": 99,
          "x3": 0.12214692349200272
         }
        ]
       },
       "encoding": {
        "x": {
         "field": "x1",
         "type": "quantitative"
        },
        "y": {
         "field": "x2",
         "type": "quantitative"
        }
       },
       "mark": "circle"
      },
      "image/png": "[encoded data removed]",
      "image/svg+xml": [
       "<svg class=\"marks\" width=\"253\" height=\"247\" viewBox=\"0 0 253 247\" version=\"1.1\" xmlns=\"http://www.w3.org/2000/svg\" xmlns:xlink=\"http://www.w3.org/1999/xlink\"><g transform=\"translate(45,10)\"><g class=\"mark-group role-frame root\"><g transform=\"translate(0,0)\"><path class=\"background\" d=\"M0.5,0.5h200v200h-200Z\" style=\"fill: none; stroke: #ddd;\"></path><g><g class=\"mark-group role-axis\"><g transform=\"translate(0.5,200.5)\"><path class=\"background\" d=\"M0,0h0v0h0Z\" style=\"pointer-events: none; fill: none;\"></path><g><g class=\"mark-rule role-axis-grid\" style=\"pointer-events: none;\"><line transform=\"translate(0,-200)\" x2=\"0\" y2=\"200\" style=\"fill: none; stroke: #ddd; stroke-width: 1; opacity: 1;\"></line><line transform=\"translate(50,-200)\" x2=\"0\" y2=\"200\" style=\"fill: none; stroke: #ddd; stroke-width: 1; opacity: 1;\"></line><line transform=\"translate(100,-200)\" x2=\"0\" y2=\"200\" style=\"fill: none; stroke: #ddd; stroke-width: 1; opacity: 1;\"></line><line transform=\"translate(150,-200)\" x2=\"0\" y2=\"200\" style=\"fill: none; stroke: #ddd; stroke-width: 1; opacity: 1;\"></line><line transform=\"translate(200,-200)\" x2=\"0\" y2=\"200\" style=\"fill: none; stroke: #ddd; stroke-width: 1; opacity: 1;\"></line></g></g></g></g><g class=\"mark-group role-axis\"><g transform=\"translate(0.5,0.5)\"><path class=\"background\" d=\"M0,0h0v0h0Z\" style=\"pointer-events: none; fill: none;\"></path><g><g class=\"mark-rule role-axis-grid\" style=\"pointer-events: none;\"><line transform=\"translate(0,200)\" x2=\"200\" y2=\"0\" style=\"fill: none; stroke: #ddd; stroke-width: 1; opacity: 1;\"></line><line transform=\"translate(0,171)\" x2=\"200\" y2=\"0\" style=\"fill: none; stroke: #ddd; stroke-width: 1; opacity: 1;\"></line><line transform=\"translate(0,143)\" x2=\"200\" y2=\"0\" style=\"fill: none; stroke: #ddd; stroke-width: 1; opacity: 1;\"></line><line transform=\"translate(0,114)\" x2=\"200\" y2=\"0\" style=\"fill: none; stroke: #ddd; stroke-width: 1; opacity: 1;\"></line><line transform=\"translate(0,86)\" x2=\"200\" y2=\"0\" style=\"fill: none; stroke: #ddd; stroke-width: 1; opacity: 1;\"></line><line transform=\"translate(0,57)\" x2=\"200\" y2=\"0\" style=\"fill: none; stroke: #ddd; stroke-width: 1; opacity: 1;\"></line><line transform=\"translate(0,29)\" x2=\"200\" y2=\"0\" style=\"fill: none; stroke: #ddd; stroke-width: 1; opacity: 1;\"></line><line transform=\"translate(0,0)\" x2=\"200\" y2=\"0\" style=\"fill: none; stroke: #ddd; stroke-width: 1; opacity: 1;\"></line></g></g></g></g><g class=\"mark-symbol role-mark marks\"><path transform=\"translate(125,198.57142857142858)\" d=\"M2.7386127875258306,0A2.7386127875258306,2.7386127875258306,0,1,1,-2.7386127875258306,0A2.7386127875258306,2.7386127875258306,0,1,1,2.7386127875258306,0\" style=\"fill: #4c78a8; stroke-width: 2; opacity: 0.7;\"></path><path transform=\"translate(175,198.57142857142858)\" d=\"M2.7386127875258306,0A2.7386127875258306,2.7386127875258306,0,1,1,-2.7386127875258306,0A2.7386127875258306,2.7386127875258306,0,1,1,2.7386127875258306,0\" style=\"fill: #4c78a8; stroke-width: 2; opacity: 0.7;\"></path><path transform=\"translate(0,198.57142857142858)\" d=\"M2.7386127875258306,0A2.7386127875258306,2.7386127875258306,0,1,1,-2.7386127875258306,0A2.7386127875258306,2.7386127875258306,0,1,1,2.7386127875258306,0\" style=\"fill: #4c78a8; stroke-width: 2; opacity: 0.7;\"></path><path transform=\"translate(75,198.57142857142858)\" d=\"M2.7386127875258306,0A2.7386127875258306,2.7386127875258306,0,1,1,-2.7386127875258306,0A2.7386127875258306,2.7386127875258306,0,1,1,2.7386127875258306,0\" style=\"fill: #4c78a8; stroke-width: 2; opacity: 0.7;\"></path><path transform=\"translate(50,198.57142857142858)\" d=\"M2.7386127875258306,0A2.7386127875258306,2.7386127875258306,0,1,1,-2.7386127875258306,0A2.7386127875258306,2.7386127875258306,0,1,1,2.7386127875258306,0\" style=\"fill: #4c78a8; stroke-width: 2; opacity: 0.7;\"></path><path transform=\"translate(0,197.14285714285714)\" d=\"M2.7386127875258306,0A2.7386127875258306,2.7386127875258306,0,1,1,-2.7386127875258306,0A2.7386127875258306,2.7386127875258306,0,1,1,2.7386127875258306,0\" style=\"fill: #4c78a8; stroke-width: 2; opacity: 0.7;\"></path><path transform=\"translate(175,197.14285714285714)\" d=\"M2.7386127875258306,0A2.7386127875258306,2.7386127875258306,0,1,1,-2.7386127875258306,0A2.7386127875258306,2.7386127875258306,0,1,1,2.7386127875258306,0\" style=\"fill: #4c78a8; stroke-width: 2; opacity: 0.7;\"></path><path transform=\"translate(75,197.14285714285714)\" d=\"M2.7386127875258306,0A2.7386127875258306,2.7386127875258306,0,1,1,-2.7386127875258306,0A2.7386127875258306,2.7386127875258306,0,1,1,2.7386127875258306,0\" style=\"fill: #4c78a8; stroke-width: 2; opacity: 0.7;\"></path><path transform=\"translate(0,195.71428571428572)\" d=\"M2.7386127875258306,0A2.7386127875258306,2.7386127875258306,0,1,1,-2.7386127875258306,0A2.7386127875258306,2.7386127875258306,0,1,1,2.7386127875258306,0\" style=\"fill: #4c78a8; stroke-width: 2; opacity: 0.7;\"></path><path transform=\"translate(0,194.28571428571428)\" d=\"M2.7386127875258306,0A2.7386127875258306,2.7386127875258306,0,1,1,-2.7386127875258306,0A2.7386127875258306,2.7386127875258306,0,1,1,2.7386127875258306,0\" style=\"fill: #4c78a8; stroke-width: 2; opacity: 0.7;\"></path><path transform=\"translate(175,195.71428571428572)\" d=\"M2.7386127875258306,0A2.7386127875258306,2.7386127875258306,0,1,1,-2.7386127875258306,0A2.7386127875258306,2.7386127875258306,0,1,1,2.7386127875258306,0\" style=\"fill: #4c78a8; stroke-width: 2; opacity: 0.7;\"></path><path transform=\"translate(175,194.28571428571428)\" d=\"M2.7386127875258306,0A2.7386127875258306,2.7386127875258306,0,1,1,-2.7386127875258306,0A2.7386127875258306,2.7386127875258306,0,1,1,2.7386127875258306,0\" style=\"fill: #4c78a8; stroke-width: 2; opacity: 0.7;\"></path><path transform=\"translate(0,192.85714285714286)\" d=\"M2.7386127875258306,0A2.7386127875258306,2.7386127875258306,0,1,1,-2.7386127875258306,0A2.7386127875258306,2.7386127875258306,0,1,1,2.7386127875258306,0\" style=\"fill: #4c78a8; stroke-width: 2; opacity: 0.7;\"></path><path transform=\"translate(50,197.14285714285714)\" d=\"M2.7386127875258306,0A2.7386127875258306,2.7386127875258306,0,1,1,-2.7386127875258306,0A2.7386127875258306,2.7386127875258306,0,1,1,2.7386127875258306,0\" style=\"fill: #4c78a8; stroke-width: 2; opacity: 0.7;\"></path><path transform=\"translate(150,198.57142857142858)\" d=\"M2.7386127875258306,0A2.7386127875258306,2.7386127875258306,0,1,1,-2.7386127875258306,0A2.7386127875258306,2.7386127875258306,0,1,1,2.7386127875258306,0\" style=\"fill: #4c78a8; stroke-width: 2; opacity: 0.7;\"></path><path transform=\"translate(0,191.42857142857142)\" d=\"M2.7386127875258306,0A2.7386127875258306,2.7386127875258306,0,1,1,-2.7386127875258306,0A2.7386127875258306,2.7386127875258306,0,1,1,2.7386127875258306,0\" style=\"fill: #4c78a8; stroke-width: 2; opacity: 0.7;\"></path><path transform=\"translate(25,198.57142857142858)\" d=\"M2.7386127875258306,0A2.7386127875258306,2.7386127875258306,0,1,1,-2.7386127875258306,0A2.7386127875258306,2.7386127875258306,0,1,1,2.7386127875258306,0\" style=\"fill: #4c78a8; stroke-width: 2; opacity: 0.7;\"></path><path transform=\"translate(0,190)\" d=\"M2.7386127875258306,0A2.7386127875258306,2.7386127875258306,0,1,1,-2.7386127875258306,0A2.7386127875258306,2.7386127875258306,0,1,1,2.7386127875258306,0\" style=\"fill: #4c78a8; stroke-width: 2; opacity: 0.7;\"></path><path transform=\"translate(100,198.57142857142858)\" d=\"M2.7386127875258306,0A2.7386127875258306,2.7386127875258306,0,1,1,-2.7386127875258306,0A2.7386127875258306,2.7386127875258306,0,1,1,2.7386127875258306,0\" style=\"fill: #4c78a8; stroke-width: 2; opacity: 0.7;\"></path><path transform=\"translate(25,197.14285714285714)\" d=\"M2.7386127875258306,0A2.7386127875258306,2.7386127875258306,0,1,1,-2.7386127875258306,0A2.7386127875258306,2.7386127875258306,0,1,1,2.7386127875258306,0\" style=\"fill: #4c78a8; stroke-width: 2; opacity: 0.7;\"></path><path transform=\"translate(75,195.71428571428572)\" d=\"M2.7386127875258306,0A2.7386127875258306,2.7386127875258306,0,1,1,-2.7386127875258306,0A2.7386127875258306,2.7386127875258306,0,1,1,2.7386127875258306,0\" style=\"fill: #4c78a8; stroke-width: 2; opacity: 0.7;\"></path><path transform=\"translate(25,195.71428571428572)\" d=\"M2.7386127875258306,0A2.7386127875258306,2.7386127875258306,0,1,1,-2.7386127875258306,0A2.7386127875258306,2.7386127875258306,0,1,1,2.7386127875258306,0\" style=\"fill: #4c78a8; stroke-width: 2; opacity: 0.7;\"></path><path transform=\"translate(125,197.14285714285714)\" d=\"M2.7386127875258306,0A2.7386127875258306,2.7386127875258306,0,1,1,-2.7386127875258306,0A2.7386127875258306,2.7386127875258306,0,1,1,2.7386127875258306,0\" style=\"fill: #4c78a8; stroke-width: 2; opacity: 0.7;\"></path><path transform=\"translate(125,195.71428571428572)\" d=\"M2.7386127875258306,0A2.7386127875258306,2.7386127875258306,0,1,1,-2.7386127875258306,0A2.7386127875258306,2.7386127875258306,0,1,1,2.7386127875258306,0\" style=\"fill: #4c78a8; stroke-width: 2; opacity: 0.7;\"></path><path transform=\"translate(100,197.14285714285714)\" d=\"M2.7386127875258306,0A2.7386127875258306,2.7386127875258306,0,1,1,-2.7386127875258306,0A2.7386127875258306,2.7386127875258306,0,1,1,2.7386127875258306,0\" style=\"fill: #4c78a8; stroke-width: 2; opacity: 0.7;\"></path><path transform=\"translate(125,194.28571428571428)\" d=\"M2.7386127875258306,0A2.7386127875258306,2.7386127875258306,0,1,1,-2.7386127875258306,0A2.7386127875258306,2.7386127875258306,0,1,1,2.7386127875258306,0\" style=\"fill: #4c78a8; stroke-width: 2; opacity: 0.7;\"></path><path transform=\"translate(0,188.57142857142858)\" d=\"M2.7386127875258306,0A2.7386127875258306,2.7386127875258306,0,1,1,-2.7386127875258306,0A2.7386127875258306,2.7386127875258306,0,1,1,2.7386127875258306,0\" style=\"fill: #4c78a8; stroke-width: 2; opacity: 0.7;\"></path><path transform=\"translate(100,195.71428571428572)\" d=\"M2.7386127875258306,0A2.7386127875258306,2.7386127875258306,0,1,1,-2.7386127875258306,0A2.7386127875258306,2.7386127875258306,0,1,1,2.7386127875258306,0\" style=\"fill: #4c78a8; stroke-width: 2; opacity: 0.7;\"></path><path transform=\"translate(100,194.28571428571428)\" d=\"M2.7386127875258306,0A2.7386127875258306,2.7386127875258306,0,1,1,-2.7386127875258306,0A2.7386127875258306,2.7386127875258306,0,1,1,2.7386127875258306,0\" style=\"fill: #4c78a8; stroke-width: 2; opacity: 0.7;\"></path><path transform=\"translate(75,194.28571428571428)\" d=\"M2.7386127875258306,0A2.7386127875258306,2.7386127875258306,0,1,1,-2.7386127875258306,0A2.7386127875258306,2.7386127875258306,0,1,1,2.7386127875258306,0\" style=\"fill: #4c78a8; stroke-width: 2; opacity: 0.7;\"></path><path transform=\"translate(150,197.14285714285714)\" d=\"M2.7386127875258306,0A2.7386127875258306,2.7386127875258306,0,1,1,-2.7386127875258306,0A2.7386127875258306,2.7386127875258306,0,1,1,2.7386127875258306,0\" style=\"fill: #4c78a8; stroke-width: 2; opacity: 0.7;\"></path><path transform=\"translate(125,192.85714285714286)\" d=\"M2.7386127875258306,0A2.7386127875258306,2.7386127875258306,0,1,1,-2.7386127875258306,0A2.7386127875258306,2.7386127875258306,0,1,1,2.7386127875258306,0\" style=\"fill: #4c78a8; stroke-width: 2; opacity: 0.7;\"></path><path transform=\"translate(175,192.85714285714286)\" d=\"M2.7386127875258306,0A2.7386127875258306,2.7386127875258306,0,1,1,-2.7386127875258306,0A2.7386127875258306,2.7386127875258306,0,1,1,2.7386127875258306,0\" style=\"fill: #4c78a8; stroke-width: 2; opacity: 0.7;\"></path><path transform=\"translate(25,194.28571428571428)\" d=\"M2.7386127875258306,0A2.7386127875258306,2.7386127875258306,0,1,1,-2.7386127875258306,0A2.7386127875258306,2.7386127875258306,0,1,1,2.7386127875258306,0\" style=\"fill: #4c78a8; stroke-width: 2; opacity: 0.7;\"></path><path transform=\"translate(175,191.42857142857142)\" d=\"M2.7386127875258306,0A2.7386127875258306,2.7386127875258306,0,1,1,-2.7386127875258306,0A2.7386127875258306,2.7386127875258306,0,1,1,2.7386127875258306,0\" style=\"fill: #4c78a8; stroke-width: 2; opacity: 0.7;\"></path><path transform=\"translate(175,190)\" d=\"M2.7386127875258306,0A2.7386127875258306,2.7386127875258306,0,1,1,-2.7386127875258306,0A2.7386127875258306,2.7386127875258306,0,1,1,2.7386127875258306,0\" style=\"fill: #4c78a8; stroke-width: 2; opacity: 0.7;\"></path><path transform=\"translate(0,187.14285714285714)\" d=\"M2.7386127875258306,0A2.7386127875258306,2.7386127875258306,0,1,1,-2.7386127875258306,0A2.7386127875258306,2.7386127875258306,0,1,1,2.7386127875258306,0\" style=\"fill: #4c78a8; stroke-width: 2; opacity: 0.7;\"></path><path transform=\"translate(75,192.85714285714286)\" d=\"M2.7386127875258306,0A2.7386127875258306,2.7386127875258306,0,1,1,-2.7386127875258306,0A2.7386127875258306,2.7386127875258306,0,1,1,2.7386127875258306,0\" style=\"fill: #4c78a8; stroke-width: 2; opacity: 0.7;\"></path><path transform=\"translate(175,188.57142857142858)\" d=\"M2.7386127875258306,0A2.7386127875258306,2.7386127875258306,0,1,1,-2.7386127875258306,0A2.7386127875258306,2.7386127875258306,0,1,1,2.7386127875258306,0\" style=\"fill: #4c78a8; stroke-width: 2; opacity: 0.7;\"></path><path transform=\"translate(100,192.85714285714286)\" d=\"M2.7386127875258306,0A2.7386127875258306,2.7386127875258306,0,1,1,-2.7386127875258306,0A2.7386127875258306,2.7386127875258306,0,1,1,2.7386127875258306,0\" style=\"fill: #4c78a8; stroke-width: 2; opacity: 0.7;\"></path><path transform=\"translate(75,191.42857142857142)\" d=\"M2.7386127875258306,0A2.7386127875258306,2.7386127875258306,0,1,1,-2.7386127875258306,0A2.7386127875258306,2.7386127875258306,0,1,1,2.7386127875258306,0\" style=\"fill: #4c78a8; stroke-width: 2; opacity: 0.7;\"></path><path transform=\"translate(200,198.57142857142858)\" d=\"M2.7386127875258306,0A2.7386127875258306,2.7386127875258306,0,1,1,-2.7386127875258306,0A2.7386127875258306,2.7386127875258306,0,1,1,2.7386127875258306,0\" style=\"fill: #4c78a8; stroke-width: 2; opacity: 0.7;\"></path><path transform=\"translate(0,185.71428571428572)\" d=\"M2.7386127875258306,0A2.7386127875258306,2.7386127875258306,0,1,1,-2.7386127875258306,0A2.7386127875258306,2.7386127875258306,0,1,1,2.7386127875258306,0\" style=\"fill: #4c78a8; stroke-width: 2; opacity: 0.7;\"></path><path transform=\"translate(75,190)\" d=\"M2.7386127875258306,0A2.7386127875258306,2.7386127875258306,0,1,1,-2.7386127875258306,0A2.7386127875258306,2.7386127875258306,0,1,1,2.7386127875258306,0\" style=\"fill: #4c78a8; stroke-width: 2; opacity: 0.7;\"></path><path transform=\"translate(200,197.14285714285714)\" d=\"M2.7386127875258306,0A2.7386127875258306,2.7386127875258306,0,1,1,-2.7386127875258306,0A2.7386127875258306,2.7386127875258306,0,1,1,2.7386127875258306,0\" style=\"fill: #4c78a8; stroke-width: 2; opacity: 0.7;\"></path><path transform=\"translate(150,195.71428571428572)\" d=\"M2.7386127875258306,0A2.7386127875258306,2.7386127875258306,0,1,1,-2.7386127875258306,0A2.7386127875258306,2.7386127875258306,0,1,1,2.7386127875258306,0\" style=\"fill: #4c78a8; stroke-width: 2; opacity: 0.7;\"></path><path transform=\"translate(100,191.42857142857142)\" d=\"M2.7386127875258306,0A2.7386127875258306,2.7386127875258306,0,1,1,-2.7386127875258306,0A2.7386127875258306,2.7386127875258306,0,1,1,2.7386127875258306,0\" style=\"fill: #4c78a8; stroke-width: 2; opacity: 0.7;\"></path><path transform=\"translate(125,191.42857142857142)\" d=\"M2.7386127875258306,0A2.7386127875258306,2.7386127875258306,0,1,1,-2.7386127875258306,0A2.7386127875258306,2.7386127875258306,0,1,1,2.7386127875258306,0\" style=\"fill: #4c78a8; stroke-width: 2; opacity: 0.7;\"></path><path transform=\"translate(200,195.71428571428572)\" d=\"M2.7386127875258306,0A2.7386127875258306,2.7386127875258306,0,1,1,-2.7386127875258306,0A2.7386127875258306,2.7386127875258306,0,1,1,2.7386127875258306,0\" style=\"fill: #4c78a8; stroke-width: 2; opacity: 0.7;\"></path><path transform=\"translate(0,184.28571428571428)\" d=\"M2.7386127875258306,0A2.7386127875258306,2.7386127875258306,0,1,1,-2.7386127875258306,0A2.7386127875258306,2.7386127875258306,0,1,1,2.7386127875258306,0\" style=\"fill: #4c78a8; stroke-width: 2; opacity: 0.7;\"></path><path transform=\"translate(175,187.14285714285714)\" d=\"M2.7386127875258306,0A2.7386127875258306,2.7386127875258306,0,1,1,-2.7386127875258306,0A2.7386127875258306,2.7386127875258306,0,1,1,2.7386127875258306,0\" style=\"fill: #4c78a8; stroke-width: 2; opacity: 0.7;\"></path><path transform=\"translate(0,182.85714285714286)\" d=\"M2.7386127875258306,0A2.7386127875258306,2.7386127875258306,0,1,1,-2.7386127875258306,0A2.7386127875258306,2.7386127875258306,0,1,1,2.7386127875258306,0\" style=\"fill: #4c78a8; stroke-width: 2; opacity: 0.7;\"></path><path transform=\"translate(0,181.42857142857142)\" d=\"M2.7386127875258306,0A2.7386127875258306,2.7386127875258306,0,1,1,-2.7386127875258306,0A2.7386127875258306,2.7386127875258306,0,1,1,2.7386127875258306,0\" style=\"fill: #4c78a8; stroke-width: 2; opacity: 0.7;\"></path><path transform=\"translate(0,180)\" d=\"M2.7386127875258306,0A2.7386127875258306,2.7386127875258306,0,1,1,-2.7386127875258306,0A2.7386127875258306,2.7386127875258306,0,1,1,2.7386127875258306,0\" style=\"fill: #4c78a8; stroke-width: 2; opacity: 0.7;\"></path><path transform=\"translate(0,178.57142857142858)\" d=\"M2.7386127875258306,0A2.7386127875258306,2.7386127875258306,0,1,1,-2.7386127875258306,0A2.7386127875258306,2.7386127875258306,0,1,1,2.7386127875258306,0\" style=\"fill: #4c78a8; stroke-width: 2; opacity: 0.7;\"></path><path transform=\"translate(200,194.28571428571428)\" d=\"M2.7386127875258306,0A2.7386127875258306,2.7386127875258306,0,1,1,-2.7386127875258306,0A2.7386127875258306,2.7386127875258306,0,1,1,2.7386127875258306,0\" style=\"fill: #4c78a8; stroke-width: 2; opacity: 0.7;\"></path><path transform=\"translate(0,177.14285714285714)\" d=\"M2.7386127875258306,0A2.7386127875258306,2.7386127875258306,0,1,1,-2.7386127875258306,0A2.7386127875258306,2.7386127875258306,0,1,1,2.7386127875258306,0\" style=\"fill: #4c78a8; stroke-width: 2; opacity: 0.7;\"></path><path transform=\"translate(50,195.71428571428572)\" d=\"M2.7386127875258306,0A2.7386127875258306,2.7386127875258306,0,1,1,-2.7386127875258306,0A2.7386127875258306,2.7386127875258306,0,1,1,2.7386127875258306,0\" style=\"fill: #4c78a8; stroke-width: 2; opacity: 0.7;\"></path><path transform=\"translate(75,188.57142857142858)\" d=\"M2.7386127875258306,0A2.7386127875258306,2.7386127875258306,0,1,1,-2.7386127875258306,0A2.7386127875258306,2.7386127875258306,0,1,1,2.7386127875258306,0\" style=\"fill: #4c78a8; stroke-width: 2; opacity: 0.7;\"></path><path transform=\"translate(175,185.71428571428572)\" d=\"M2.7386127875258306,0A2.7386127875258306,2.7386127875258306,0,1,1,-2.7386127875258306,0A2.7386127875258306,2.7386127875258306,0,1,1,2.7386127875258306,0\" style=\"fill: #4c78a8; stroke-width: 2; opacity: 0.7;\"></path><path transform=\"translate(50,194.28571428571428)\" d=\"M2.7386127875258306,0A2.7386127875258306,2.7386127875258306,0,1,1,-2.7386127875258306,0A2.7386127875258306,2.7386127875258306,0,1,1,2.7386127875258306,0\" style=\"fill: #4c78a8; stroke-width: 2; opacity: 0.7;\"></path><path transform=\"translate(0,175.71428571428572)\" d=\"M2.7386127875258306,0A2.7386127875258306,2.7386127875258306,0,1,1,-2.7386127875258306,0A2.7386127875258306,2.7386127875258306,0,1,1,2.7386127875258306,0\" style=\"fill: #4c78a8; stroke-width: 2; opacity: 0.7;\"></path><path transform=\"translate(200,192.85714285714286)\" d=\"M2.7386127875258306,0A2.7386127875258306,2.7386127875258306,0,1,1,-2.7386127875258306,0A2.7386127875258306,2.7386127875258306,0,1,1,2.7386127875258306,0\" style=\"fill: #4c78a8; stroke-width: 2; opacity: 0.7;\"></path><path transform=\"translate(75,187.14285714285714)\" d=\"M2.7386127875258306,0A2.7386127875258306,2.7386127875258306,0,1,1,-2.7386127875258306,0A2.7386127875258306,2.7386127875258306,0,1,1,2.7386127875258306,0\" style=\"fill: #4c78a8; stroke-width: 2; opacity: 0.7;\"></path><path transform=\"translate(0,174.28571428571428)\" d=\"M2.7386127875258306,0A2.7386127875258306,2.7386127875258306,0,1,1,-2.7386127875258306,0A2.7386127875258306,2.7386127875258306,0,1,1,2.7386127875258306,0\" style=\"fill: #4c78a8; stroke-width: 2; opacity: 0.7;\"></path><path transform=\"translate(125,190)\" d=\"M2.7386127875258306,0A2.7386127875258306,2.7386127875258306,0,1,1,-2.7386127875258306,0A2.7386127875258306,2.7386127875258306,0,1,1,2.7386127875258306,0\" style=\"fill: #4c78a8; stroke-width: 2; opacity: 0.7;\"></path><path transform=\"translate(200,191.42857142857142)\" d=\"M2.7386127875258306,0A2.7386127875258306,2.7386127875258306,0,1,1,-2.7386127875258306,0A2.7386127875258306,2.7386127875258306,0,1,1,2.7386127875258306,0\" style=\"fill: #4c78a8; stroke-width: 2; opacity: 0.7;\"></path><path transform=\"translate(25,192.85714285714286)\" d=\"M2.7386127875258306,0A2.7386127875258306,2.7386127875258306,0,1,1,-2.7386127875258306,0A2.7386127875258306,2.7386127875258306,0,1,1,2.7386127875258306,0\" style=\"fill: #4c78a8; stroke-width: 2; opacity: 0.7;\"></path><path transform=\"translate(200,190)\" d=\"M2.7386127875258306,0A2.7386127875258306,2.7386127875258306,0,1,1,-2.7386127875258306,0A2.7386127875258306,2.7386127875258306,0,1,1,2.7386127875258306,0\" style=\"fill: #4c78a8; stroke-width: 2; opacity: 0.7;\"></path><path transform=\"translate(125,188.57142857142858)\" d=\"M2.7386127875258306,0A2.7386127875258306,2.7386127875258306,0,1,1,-2.7386127875258306,0A2.7386127875258306,2.7386127875258306,0,1,1,2.7386127875258306,0\" style=\"fill: #4c78a8; stroke-width: 2; opacity: 0.7;\"></path><path transform=\"translate(125,187.14285714285714)\" d=\"M2.7386127875258306,0A2.7386127875258306,2.7386127875258306,0,1,1,-2.7386127875258306,0A2.7386127875258306,2.7386127875258306,0,1,1,2.7386127875258306,0\" style=\"fill: #4c78a8; stroke-width: 2; opacity: 0.7;\"></path><path transform=\"translate(75,185.71428571428572)\" d=\"M2.7386127875258306,0A2.7386127875258306,2.7386127875258306,0,1,1,-2.7386127875258306,0A2.7386127875258306,2.7386127875258306,0,1,1,2.7386127875258306,0\" style=\"fill: #4c78a8; stroke-width: 2; opacity: 0.7;\"></path><path transform=\"translate(150,194.28571428571428)\" d=\"M2.7386127875258306,0A2.7386127875258306,2.7386127875258306,0,1,1,-2.7386127875258306,0A2.7386127875258306,2.7386127875258306,0,1,1,2.7386127875258306,0\" style=\"fill: #4c78a8; stroke-width: 2; opacity: 0.7;\"></path><path transform=\"translate(200,188.57142857142858)\" d=\"M2.7386127875258306,0A2.7386127875258306,2.7386127875258306,0,1,1,-2.7386127875258306,0A2.7386127875258306,2.7386127875258306,0,1,1,2.7386127875258306,0\" style=\"fill: #4c78a8; stroke-width: 2; opacity: 0.7;\"></path><path transform=\"translate(200,187.14285714285714)\" d=\"M2.7386127875258306,0A2.7386127875258306,2.7386127875258306,0,1,1,-2.7386127875258306,0A2.7386127875258306,2.7386127875258306,0,1,1,2.7386127875258306,0\" style=\"fill: #4c78a8; stroke-width: 2; opacity: 0.7;\"></path><path transform=\"translate(50,192.85714285714286)\" d=\"M2.7386127875258306,0A2.7386127875258306,2.7386127875258306,0,1,1,-2.7386127875258306,0A2.7386127875258306,2.7386127875258306,0,1,1,2.7386127875258306,0\" style=\"fill: #4c78a8; stroke-width: 2; opacity: 0.7;\"></path><path transform=\"translate(75,184.28571428571428)\" d=\"M2.7386127875258306,0A2.7386127875258306,2.7386127875258306,0,1,1,-2.7386127875258306,0A2.7386127875258306,2.7386127875258306,0,1,1,2.7386127875258306,0\" style=\"fill: #4c78a8; stroke-width: 2; opacity: 0.7;\"></path><path transform=\"translate(175,184.28571428571428)\" d=\"M2.7386127875258306,0A2.7386127875258306,2.7386127875258306,0,1,1,-2.7386127875258306,0A2.7386127875258306,2.7386127875258306,0,1,1,2.7386127875258306,0\" style=\"fill: #4c78a8; stroke-width: 2; opacity: 0.7;\"></path><path transform=\"translate(0,172.85714285714286)\" d=\"M2.7386127875258306,0A2.7386127875258306,2.7386127875258306,0,1,1,-2.7386127875258306,0A2.7386127875258306,2.7386127875258306,0,1,1,2.7386127875258306,0\" style=\"fill: #4c78a8; stroke-width: 2; opacity: 0.7;\"></path><path transform=\"translate(100,190)\" d=\"M2.7386127875258306,0A2.7386127875258306,2.7386127875258306,0,1,1,-2.7386127875258306,0A2.7386127875258306,2.7386127875258306,0,1,1,2.7386127875258306,0\" style=\"fill: #4c78a8; stroke-width: 2; opacity: 0.7;\"></path><path transform=\"translate(75,182.85714285714286)\" d=\"M2.7386127875258306,0A2.7386127875258306,2.7386127875258306,0,1,1,-2.7386127875258306,0A2.7386127875258306,2.7386127875258306,0,1,1,2.7386127875258306,0\" style=\"fill: #4c78a8; stroke-width: 2; opacity: 0.7;\"></path><path transform=\"translate(0,171.42857142857144)\" d=\"M2.7386127875258306,0A2.7386127875258306,2.7386127875258306,0,1,1,-2.7386127875258306,0A2.7386127875258306,2.7386127875258306,0,1,1,2.7386127875258306,0\" style=\"fill: #4c78a8; stroke-width: 2; opacity: 0.7;\"></path><path transform=\"translate(150,192.85714285714286)\" d=\"M2.7386127875258306,0A2.7386127875258306,2.7386127875258306,0,1,1,-2.7386127875258306,0A2.7386127875258306,2.7386127875258306,0,1,1,2.7386127875258306,0\" style=\"fill: #4c78a8; stroke-width: 2; opacity: 0.7;\"></path><path transform=\"translate(150,191.42857142857142)\" d=\"M2.7386127875258306,0A2.7386127875258306,2.7386127875258306,0,1,1,-2.7386127875258306,0A2.7386127875258306,2.7386127875258306,0,1,1,2.7386127875258306,0\" style=\"fill: #4c78a8; stroke-width: 2; opacity: 0.7;\"></path><path transform=\"translate(75,181.42857142857142)\" d=\"M2.7386127875258306,0A2.7386127875258306,2.7386127875258306,0,1,1,-2.7386127875258306,0A2.7386127875258306,2.7386127875258306,0,1,1,2.7386127875258306,0\" style=\"fill: #4c78a8; stroke-width: 2; opacity: 0.7;\"></path><path transform=\"translate(200,185.71428571428572)\" d=\"M2.7386127875258306,0A2.7386127875258306,2.7386127875258306,0,1,1,-2.7386127875258306,0A2.7386127875258306,2.7386127875258306,0,1,1,2.7386127875258306,0\" style=\"fill: #4c78a8; stroke-width: 2; opacity: 0.7;\"></path><path transform=\"translate(175,182.85714285714286)\" d=\"M2.7386127875258306,0A2.7386127875258306,2.7386127875258306,0,1,1,-2.7386127875258306,0A2.7386127875258306,2.7386127875258306,0,1,1,2.7386127875258306,0\" style=\"fill: #4c78a8; stroke-width: 2; opacity: 0.7;\"></path><path transform=\"translate(25,191.42857142857142)\" d=\"M2.7386127875258306,0A2.7386127875258306,2.7386127875258306,0,1,1,-2.7386127875258306,0A2.7386127875258306,2.7386127875258306,0,1,1,2.7386127875258306,0\" style=\"fill: #4c78a8; stroke-width: 2; opacity: 0.7;\"></path><path transform=\"translate(200,184.28571428571428)\" d=\"M2.7386127875258306,0A2.7386127875258306,2.7386127875258306,0,1,1,-2.7386127875258306,0A2.7386127875258306,2.7386127875258306,0,1,1,2.7386127875258306,0\" style=\"fill: #4c78a8; stroke-width: 2; opacity: 0.7;\"></path><path transform=\"translate(175,181.42857142857142)\" d=\"M2.7386127875258306,0A2.7386127875258306,2.7386127875258306,0,1,1,-2.7386127875258306,0A2.7386127875258306,2.7386127875258306,0,1,1,2.7386127875258306,0\" style=\"fill: #4c78a8; stroke-width: 2; opacity: 0.7;\"></path><path transform=\"translate(175,180)\" d=\"M2.7386127875258306,0A2.7386127875258306,2.7386127875258306,0,1,1,-2.7386127875258306,0A2.7386127875258306,2.7386127875258306,0,1,1,2.7386127875258306,0\" style=\"fill: #4c78a8; stroke-width: 2; opacity: 0.7;\"></path><path transform=\"translate(0,170)\" d=\"M2.7386127875258306,0A2.7386127875258306,2.7386127875258306,0,1,1,-2.7386127875258306,0A2.7386127875258306,2.7386127875258306,0,1,1,2.7386127875258306,0\" style=\"fill: #4c78a8; stroke-width: 2; opacity: 0.7;\"></path><path transform=\"translate(150,190)\" d=\"M2.7386127875258306,0A2.7386127875258306,2.7386127875258306,0,1,1,-2.7386127875258306,0A2.7386127875258306,2.7386127875258306,0,1,1,2.7386127875258306,0\" style=\"fill: #4c78a8; stroke-width: 2; opacity: 0.7;\"></path><path transform=\"translate(125,185.71428571428572)\" d=\"M2.7386127875258306,0A2.7386127875258306,2.7386127875258306,0,1,1,-2.7386127875258306,0A2.7386127875258306,2.7386127875258306,0,1,1,2.7386127875258306,0\" style=\"fill: #4c78a8; stroke-width: 2; opacity: 0.7;\"></path><path transform=\"translate(175,178.57142857142858)\" d=\"M2.7386127875258306,0A2.7386127875258306,2.7386127875258306,0,1,1,-2.7386127875258306,0A2.7386127875258306,2.7386127875258306,0,1,1,2.7386127875258306,0\" style=\"fill: #4c78a8; stroke-width: 2; opacity: 0.7;\"></path><path transform=\"translate(175,177.14285714285714)\" d=\"M2.7386127875258306,0A2.7386127875258306,2.7386127875258306,0,1,1,-2.7386127875258306,0A2.7386127875258306,2.7386127875258306,0,1,1,2.7386127875258306,0\" style=\"fill: #4c78a8; stroke-width: 2; opacity: 0.7;\"></path><path transform=\"translate(50,191.42857142857142)\" d=\"M2.7386127875258306,0A2.7386127875258306,2.7386127875258306,0,1,1,-2.7386127875258306,0A2.7386127875258306,2.7386127875258306,0,1,1,2.7386127875258306,0\" style=\"fill: #4c78a8; stroke-width: 2; opacity: 0.7;\"></path><path transform=\"translate(100,188.57142857142858)\" d=\"M2.7386127875258306,0A2.7386127875258306,2.7386127875258306,0,1,1,-2.7386127875258306,0A2.7386127875258306,2.7386127875258306,0,1,1,2.7386127875258306,0\" style=\"fill: #4c78a8; stroke-width: 2; opacity: 0.7;\"></path><path transform=\"translate(125,184.28571428571428)\" d=\"M2.7386127875258306,0A2.7386127875258306,2.7386127875258306,0,1,1,-2.7386127875258306,0A2.7386127875258306,2.7386127875258306,0,1,1,2.7386127875258306,0\" style=\"fill: #4c78a8; stroke-width: 2; opacity: 0.7;\"></path><path transform=\"translate(200,182.85714285714286)\" d=\"M2.7386127875258306,0A2.7386127875258306,2.7386127875258306,0,1,1,-2.7386127875258306,0A2.7386127875258306,2.7386127875258306,0,1,1,2.7386127875258306,0\" style=\"fill: #4c78a8; stroke-width: 2; opacity: 0.7;\"></path><path transform=\"translate(100,187.14285714285714)\" d=\"M2.7386127875258306,0A2.7386127875258306,2.7386127875258306,0,1,1,-2.7386127875258306,0A2.7386127875258306,2.7386127875258306,0,1,1,2.7386127875258306,0\" style=\"fill: #4c78a8; stroke-width: 2; opacity: 0.7;\"></path><path transform=\"translate(75,180)\" d=\"M2.7386127875258306,0A2.7386127875258306,2.7386127875258306,0,1,1,-2.7386127875258306,0A2.7386127875258306,2.7386127875258306,0,1,1,2.7386127875258306,0\" style=\"fill: #4c78a8; stroke-width: 2; opacity: 0.7;\"></path><path transform=\"translate(0,168.57142857142858)\" d=\"M2.7386127875258306,0A2.7386127875258306,2.7386127875258306,0,1,1,-2.7386127875258306,0A2.7386127875258306,2.7386127875258306,0,1,1,2.7386127875258306,0\" style=\"fill: #4c78a8; stroke-width: 2; opacity: 0.7;\"></path><path transform=\"translate(75,178.57142857142858)\" d=\"M2.7386127875258306,0A2.7386127875258306,2.7386127875258306,0,1,1,-2.7386127875258306,0A2.7386127875258306,2.7386127875258306,0,1,1,2.7386127875258306,0\" style=\"fill: #4c78a8; stroke-width: 2; opacity: 0.7;\"></path><path transform=\"translate(100,185.71428571428572)\" d=\"M2.7386127875258306,0A2.7386127875258306,2.7386127875258306,0,1,1,-2.7386127875258306,0A2.7386127875258306,2.7386127875258306,0,1,1,2.7386127875258306,0\" style=\"fill: #4c78a8; stroke-width: 2; opacity: 0.7;\"></path><path transform=\"translate(50,190)\" d=\"M2.7386127875258306,0A2.7386127875258306,2.7386127875258306,0,1,1,-2.7386127875258306,0A2.7386127875258306,2.7386127875258306,0,1,1,2.7386127875258306,0\" style=\"fill: #4c78a8; stroke-width: 2; opacity: 0.7;\"></path><path transform=\"translate(175,175.71428571428572)\" d=\"M2.7386127875258306,0A2.7386127875258306,2.7386127875258306,0,1,1,-2.7386127875258306,0A2.7386127875258306,2.7386127875258306,0,1,1,2.7386127875258306,0\" style=\"fill: #4c78a8; stroke-width: 2; opacity: 0.7;\"></path><path transform=\"translate(25,190)\" d=\"M2.7386127875258306,0A2.7386127875258306,2.7386127875258306,0,1,1,-2.7386127875258306,0A2.7386127875258306,2.7386127875258306,0,1,1,2.7386127875258306,0\" style=\"fill: #4c78a8; stroke-width: 2; opacity: 0.7;\"></path><path transform=\"translate(50,188.57142857142858)\" d=\"M2.7386127875258306,0A2.7386127875258306,2.7386127875258306,0,1,1,-2.7386127875258306,0A2.7386127875258306,2.7386127875258306,0,1,1,2.7386127875258306,0\" style=\"fill: #4c78a8; stroke-width: 2; opacity: 0.7;\"></path><path transform=\"translate(0,167.14285714285714)\" d=\"M2.7386127875258306,0A2.7386127875258306,2.7386127875258306,0,1,1,-2.7386127875258306,0A2.7386127875258306,2.7386127875258306,0,1,1,2.7386127875258306,0\" style=\"fill: #4c78a8; stroke-width: 2; opacity: 0.7;\"></path><path transform=\"translate(200,181.42857142857142)\" d=\"M2.7386127875258306,0A2.7386127875258306,2.7386127875258306,0,1,1,-2.7386127875258306,0A2.7386127875258306,2.7386127875258306,0,1,1,2.7386127875258306,0\" style=\"fill: #4c78a8; stroke-width: 2; opacity: 0.7;\"></path><path transform=\"translate(75,177.14285714285714)\" d=\"M2.7386127875258306,0A2.7386127875258306,2.7386127875258306,0,1,1,-2.7386127875258306,0A2.7386127875258306,2.7386127875258306,0,1,1,2.7386127875258306,0\" style=\"fill: #4c78a8; stroke-width: 2; opacity: 0.7;\"></path><path transform=\"translate(125,182.85714285714286)\" d=\"M2.7386127875258306,0A2.7386127875258306,2.7386127875258306,0,1,1,-2.7386127875258306,0A2.7386127875258306,2.7386127875258306,0,1,1,2.7386127875258306,0\" style=\"fill: #4c78a8; stroke-width: 2; opacity: 0.7;\"></path><path transform=\"translate(100,184.28571428571428)\" d=\"M2.7386127875258306,0A2.7386127875258306,2.7386127875258306,0,1,1,-2.7386127875258306,0A2.7386127875258306,2.7386127875258306,0,1,1,2.7386127875258306,0\" style=\"fill: #4c78a8; stroke-width: 2; opacity: 0.7;\"></path><path transform=\"translate(200,180)\" d=\"M2.7386127875258306,0A2.7386127875258306,2.7386127875258306,0,1,1,-2.7386127875258306,0A2.7386127875258306,2.7386127875258306,0,1,1,2.7386127875258306,0\" style=\"fill: #4c78a8; stroke-width: 2; opacity: 0.7;\"></path><path transform=\"translate(125,181.42857142857142)\" d=\"M2.7386127875258306,0A2.7386127875258306,2.7386127875258306,0,1,1,-2.7386127875258306,0A2.7386127875258306,2.7386127875258306,0,1,1,2.7386127875258306,0\" style=\"fill: #4c78a8; stroke-width: 2; opacity: 0.7;\"></path><path transform=\"translate(0,165.71428571428572)\" d=\"M2.7386127875258306,0A2.7386127875258306,2.7386127875258306,0,1,1,-2.7386127875258306,0A2.7386127875258306,2.7386127875258306,0,1,1,2.7386127875258306,0\" style=\"fill: #4c78a8; stroke-width: 2; opacity: 0.7;\"></path><path transform=\"translate(25,188.57142857142858)\" d=\"M2.7386127875258306,0A2.7386127875258306,2.7386127875258306,0,1,1,-2.7386127875258306,0A2.7386127875258306,2.7386127875258306,0,1,1,2.7386127875258306,0\" style=\"fill: #4c78a8; stroke-width: 2; opacity: 0.7;\"></path><path transform=\"translate(75,175.71428571428572)\" d=\"M2.7386127875258306,0A2.7386127875258306,2.7386127875258306,0,1,1,-2.7386127875258306,0A2.7386127875258306,2.7386127875258306,0,1,1,2.7386127875258306,0\" style=\"fill: #4c78a8; stroke-width: 2; opacity: 0.7;\"></path><path transform=\"translate(75,174.28571428571428)\" d=\"M2.7386127875258306,0A2.7386127875258306,2.7386127875258306,0,1,1,-2.7386127875258306,0A2.7386127875258306,2.7386127875258306,0,1,1,2.7386127875258306,0\" style=\"fill: #4c78a8; stroke-width: 2; opacity: 0.7;\"></path><path transform=\"translate(175,174.28571428571428)\" d=\"M2.7386127875258306,0A2.7386127875258306,2.7386127875258306,0,1,1,-2.7386127875258306,0A2.7386127875258306,2.7386127875258306,0,1,1,2.7386127875258306,0\" style=\"fill: #4c78a8; stroke-width: 2; opacity: 0.7;\"></path><path transform=\"translate(100,182.85714285714286)\" d=\"M2.7386127875258306,0A2.7386127875258306,2.7386127875258306,0,1,1,-2.7386127875258306,0A2.7386127875258306,2.7386127875258306,0,1,1,2.7386127875258306,0\" style=\"fill: #4c78a8; stroke-width: 2; opacity: 0.7;\"></path><path transform=\"translate(125,180)\" d=\"M2.7386127875258306,0A2.7386127875258306,2.7386127875258306,0,1,1,-2.7386127875258306,0A2.7386127875258306,2.7386127875258306,0,1,1,2.7386127875258306,0\" style=\"fill: #4c78a8; stroke-width: 2; opacity: 0.7;\"></path><path transform=\"translate(0,164.28571428571428)\" d=\"M2.7386127875258306,0A2.7386127875258306,2.7386127875258306,0,1,1,-2.7386127875258306,0A2.7386127875258306,2.7386127875258306,0,1,1,2.7386127875258306,0\" style=\"fill: #4c78a8; stroke-width: 2; opacity: 0.7;\"></path><path transform=\"translate(25,187.14285714285714)\" d=\"M2.7386127875258306,0A2.7386127875258306,2.7386127875258306,0,1,1,-2.7386127875258306,0A2.7386127875258306,2.7386127875258306,0,1,1,2.7386127875258306,0\" style=\"fill: #4c78a8; stroke-width: 2; opacity: 0.7;\"></path><path transform=\"translate(200,178.57142857142858)\" d=\"M2.7386127875258306,0A2.7386127875258306,2.7386127875258306,0,1,1,-2.7386127875258306,0A2.7386127875258306,2.7386127875258306,0,1,1,2.7386127875258306,0\" style=\"fill: #4c78a8; stroke-width: 2; opacity: 0.7;\"></path><path transform=\"translate(75,172.85714285714286)\" d=\"M2.7386127875258306,0A2.7386127875258306,2.7386127875258306,0,1,1,-2.7386127875258306,0A2.7386127875258306,2.7386127875258306,0,1,1,2.7386127875258306,0\" style=\"fill: #4c78a8; stroke-width: 2; opacity: 0.7;\"></path><path transform=\"translate(100,181.42857142857142)\" d=\"M2.7386127875258306,0A2.7386127875258306,2.7386127875258306,0,1,1,-2.7386127875258306,0A2.7386127875258306,2.7386127875258306,0,1,1,2.7386127875258306,0\" style=\"fill: #4c78a8; stroke-width: 2; opacity: 0.7;\"></path><path transform=\"translate(150,188.57142857142858)\" d=\"M2.7386127875258306,0A2.7386127875258306,2.7386127875258306,0,1,1,-2.7386127875258306,0A2.7386127875258306,2.7386127875258306,0,1,1,2.7386127875258306,0\" style=\"fill: #4c78a8; stroke-width: 2; opacity: 0.7;\"></path><path transform=\"translate(125,178.57142857142858)\" d=\"M2.7386127875258306,0A2.7386127875258306,2.7386127875258306,0,1,1,-2.7386127875258306,0A2.7386127875258306,2.7386127875258306,0,1,1,2.7386127875258306,0\" style=\"fill: #4c78a8; stroke-width: 2; opacity: 0.7;\"></path><path transform=\"translate(100,180)\" d=\"M2.7386127875258306,0A2.7386127875258306,2.7386127875258306,0,1,1,-2.7386127875258306,0A2.7386127875258306,2.7386127875258306,0,1,1,2.7386127875258306,0\" style=\"fill: #4c78a8; stroke-width: 2; opacity: 0.7;\"></path><path transform=\"translate(100,178.57142857142858)\" d=\"M2.7386127875258306,0A2.7386127875258306,2.7386127875258306,0,1,1,-2.7386127875258306,0A2.7386127875258306,2.7386127875258306,0,1,1,2.7386127875258306,0\" style=\"fill: #4c78a8; stroke-width: 2; opacity: 0.7;\"></path><path transform=\"translate(0,162.85714285714286)\" d=\"M2.7386127875258306,0A2.7386127875258306,2.7386127875258306,0,1,1,-2.7386127875258306,0A2.7386127875258306,2.7386127875258306,0,1,1,2.7386127875258306,0\" style=\"fill: #4c78a8; stroke-width: 2; opacity: 0.7;\"></path><path transform=\"translate(0,161.42857142857142)\" d=\"M2.7386127875258306,0A2.7386127875258306,2.7386127875258306,0,1,1,-2.7386127875258306,0A2.7386127875258306,2.7386127875258306,0,1,1,2.7386127875258306,0\" style=\"fill: #4c78a8; stroke-width: 2; opacity: 0.7;\"></path><path transform=\"translate(100,177.14285714285714)\" d=\"M2.7386127875258306,0A2.7386127875258306,2.7386127875258306,0,1,1,-2.7386127875258306,0A2.7386127875258306,2.7386127875258306,0,1,1,2.7386127875258306,0\" style=\"fill: #4c78a8; stroke-width: 2; opacity: 0.7;\"></path><path transform=\"translate(0,160)\" d=\"M2.7386127875258306,0A2.7386127875258306,2.7386127875258306,0,1,1,-2.7386127875258306,0A2.7386127875258306,2.7386127875258306,0,1,1,2.7386127875258306,0\" style=\"fill: #4c78a8; stroke-width: 2; opacity: 0.7;\"></path><path transform=\"translate(100,175.71428571428572)\" d=\"M2.7386127875258306,0A2.7386127875258306,2.7386127875258306,0,1,1,-2.7386127875258306,0A2.7386127875258306,2.7386127875258306,0,1,1,2.7386127875258306,0\" style=\"fill: #4c78a8; stroke-width: 2; opacity: 0.7;\"></path><path transform=\"translate(125,177.14285714285714)\" d=\"M2.7386127875258306,0A2.7386127875258306,2.7386127875258306,0,1,1,-2.7386127875258306,0A2.7386127875258306,2.7386127875258306,0,1,1,2.7386127875258306,0\" style=\"fill: #4c78a8; stroke-width: 2; opacity: 0.7;\"></path><path transform=\"translate(125,175.71428571428572)\" d=\"M2.7386127875258306,0A2.7386127875258306,2.7386127875258306,0,1,1,-2.7386127875258306,0A2.7386127875258306,2.7386127875258306,0,1,1,2.7386127875258306,0\" style=\"fill: #4c78a8; stroke-width: 2; opacity: 0.7;\"></path><path transform=\"translate(150,187.14285714285714)\" d=\"M2.7386127875258306,0A2.7386127875258306,2.7386127875258306,0,1,1,-2.7386127875258306,0A2.7386127875258306,2.7386127875258306,0,1,1,2.7386127875258306,0\" style=\"fill: #4c78a8; stroke-width: 2; opacity: 0.7;\"></path><path transform=\"translate(0,158.57142857142856)\" d=\"M2.7386127875258306,0A2.7386127875258306,2.7386127875258306,0,1,1,-2.7386127875258306,0A2.7386127875258306,2.7386127875258306,0,1,1,2.7386127875258306,0\" style=\"fill: #4c78a8; stroke-width: 2; opacity: 0.7;\"></path><path transform=\"translate(0,157.14285714285714)\" d=\"M2.7386127875258306,0A2.7386127875258306,2.7386127875258306,0,1,1,-2.7386127875258306,0A2.7386127875258306,2.7386127875258306,0,1,1,2.7386127875258306,0\" style=\"fill: #4c78a8; stroke-width: 2; opacity: 0.7;\"></path><path transform=\"translate(125,174.28571428571428)\" d=\"M2.7386127875258306,0A2.7386127875258306,2.7386127875258306,0,1,1,-2.7386127875258306,0A2.7386127875258306,2.7386127875258306,0,1,1,2.7386127875258306,0\" style=\"fill: #4c78a8; stroke-width: 2; opacity: 0.7;\"></path><path transform=\"translate(0,155.71428571428572)\" d=\"M2.7386127875258306,0A2.7386127875258306,2.7386127875258306,0,1,1,-2.7386127875258306,0A2.7386127875258306,2.7386127875258306,0,1,1,2.7386127875258306,0\" style=\"fill: #4c78a8; stroke-width: 2; opacity: 0.7;\"></path><path transform=\"translate(100,174.28571428571428)\" d=\"M2.7386127875258306,0A2.7386127875258306,2.7386127875258306,0,1,1,-2.7386127875258306,0A2.7386127875258306,2.7386127875258306,0,1,1,2.7386127875258306,0\" style=\"fill: #4c78a8; stroke-width: 2; opacity: 0.7;\"></path><path transform=\"translate(175,172.85714285714286)\" d=\"M2.7386127875258306,0A2.7386127875258306,2.7386127875258306,0,1,1,-2.7386127875258306,0A2.7386127875258306,2.7386127875258306,0,1,1,2.7386127875258306,0\" style=\"fill: #4c78a8; stroke-width: 2; opacity: 0.7;\"></path><path transform=\"translate(75,171.42857142857144)\" d=\"M2.7386127875258306,0A2.7386127875258306,2.7386127875258306,0,1,1,-2.7386127875258306,0A2.7386127875258306,2.7386127875258306,0,1,1,2.7386127875258306,0\" style=\"fill: #4c78a8; stroke-width: 2; opacity: 0.7;\"></path><path transform=\"translate(125,172.85714285714286)\" d=\"M2.7386127875258306,0A2.7386127875258306,2.7386127875258306,0,1,1,-2.7386127875258306,0A2.7386127875258306,2.7386127875258306,0,1,1,2.7386127875258306,0\" style=\"fill: #4c78a8; stroke-width: 2; opacity: 0.7;\"></path><path transform=\"translate(125,171.42857142857144)\" d=\"M2.7386127875258306,0A2.7386127875258306,2.7386127875258306,0,1,1,-2.7386127875258306,0A2.7386127875258306,2.7386127875258306,0,1,1,2.7386127875258306,0\" style=\"fill: #4c78a8; stroke-width: 2; opacity: 0.7;\"></path><path transform=\"translate(125,170)\" d=\"M2.7386127875258306,0A2.7386127875258306,2.7386127875258306,0,1,1,-2.7386127875258306,0A2.7386127875258306,2.7386127875258306,0,1,1,2.7386127875258306,0\" style=\"fill: #4c78a8; stroke-width: 2; opacity: 0.7;\"></path><path transform=\"translate(100,172.85714285714286)\" d=\"M2.7386127875258306,0A2.7386127875258306,2.7386127875258306,0,1,1,-2.7386127875258306,0A2.7386127875258306,2.7386127875258306,0,1,1,2.7386127875258306,0\" style=\"fill: #4c78a8; stroke-width: 2; opacity: 0.7;\"></path><path transform=\"translate(175,171.42857142857144)\" d=\"M2.7386127875258306,0A2.7386127875258306,2.7386127875258306,0,1,1,-2.7386127875258306,0A2.7386127875258306,2.7386127875258306,0,1,1,2.7386127875258306,0\" style=\"fill: #4c78a8; stroke-width: 2; opacity: 0.7;\"></path><path transform=\"translate(100,171.42857142857144)\" d=\"M2.7386127875258306,0A2.7386127875258306,2.7386127875258306,0,1,1,-2.7386127875258306,0A2.7386127875258306,2.7386127875258306,0,1,1,2.7386127875258306,0\" style=\"fill: #4c78a8; stroke-width: 2; opacity: 0.7;\"></path><path transform=\"translate(50,187.14285714285714)\" d=\"M2.7386127875258306,0A2.7386127875258306,2.7386127875258306,0,1,1,-2.7386127875258306,0A2.7386127875258306,2.7386127875258306,0,1,1,2.7386127875258306,0\" style=\"fill: #4c78a8; stroke-width: 2; opacity: 0.7;\"></path><path transform=\"translate(0,154.28571428571428)\" d=\"M2.7386127875258306,0A2.7386127875258306,2.7386127875258306,0,1,1,-2.7386127875258306,0A2.7386127875258306,2.7386127875258306,0,1,1,2.7386127875258306,0\" style=\"fill: #4c78a8; stroke-width: 2; opacity: 0.7;\"></path><path transform=\"translate(175,170)\" d=\"M2.7386127875258306,0A2.7386127875258306,2.7386127875258306,0,1,1,-2.7386127875258306,0A2.7386127875258306,2.7386127875258306,0,1,1,2.7386127875258306,0\" style=\"fill: #4c78a8; stroke-width: 2; opacity: 0.7;\"></path><path transform=\"translate(100,170)\" d=\"M2.7386127875258306,0A2.7386127875258306,2.7386127875258306,0,1,1,-2.7386127875258306,0A2.7386127875258306,2.7386127875258306,0,1,1,2.7386127875258306,0\" style=\"fill: #4c78a8; stroke-width: 2; opacity: 0.7;\"></path><path transform=\"translate(175,168.57142857142858)\" d=\"M2.7386127875258306,0A2.7386127875258306,2.7386127875258306,0,1,1,-2.7386127875258306,0A2.7386127875258306,2.7386127875258306,0,1,1,2.7386127875258306,0\" style=\"fill: #4c78a8; stroke-width: 2; opacity: 0.7;\"></path><path transform=\"translate(25,185.71428571428572)\" d=\"M2.7386127875258306,0A2.7386127875258306,2.7386127875258306,0,1,1,-2.7386127875258306,0A2.7386127875258306,2.7386127875258306,0,1,1,2.7386127875258306,0\" style=\"fill: #4c78a8; stroke-width: 2; opacity: 0.7;\"></path><path transform=\"translate(150,185.71428571428572)\" d=\"M2.7386127875258306,0A2.7386127875258306,2.7386127875258306,0,1,1,-2.7386127875258306,0A2.7386127875258306,2.7386127875258306,0,1,1,2.7386127875258306,0\" style=\"fill: #4c78a8; stroke-width: 2; opacity: 0.7;\"></path><path transform=\"translate(150,184.28571428571428)\" d=\"M2.7386127875258306,0A2.7386127875258306,2.7386127875258306,0,1,1,-2.7386127875258306,0A2.7386127875258306,2.7386127875258306,0,1,1,2.7386127875258306,0\" style=\"fill: #4c78a8; stroke-width: 2; opacity: 0.7;\"></path><path transform=\"translate(25,184.28571428571428)\" d=\"M2.7386127875258306,0A2.7386127875258306,2.7386127875258306,0,1,1,-2.7386127875258306,0A2.7386127875258306,2.7386127875258306,0,1,1,2.7386127875258306,0\" style=\"fill: #4c78a8; stroke-width: 2; opacity: 0.7;\"></path><path transform=\"translate(25,182.85714285714286)\" d=\"M2.7386127875258306,0A2.7386127875258306,2.7386127875258306,0,1,1,-2.7386127875258306,0A2.7386127875258306,2.7386127875258306,0,1,1,2.7386127875258306,0\" style=\"fill: #4c78a8; stroke-width: 2; opacity: 0.7;\"></path><path transform=\"translate(200,177.14285714285714)\" d=\"M2.7386127875258306,0A2.7386127875258306,2.7386127875258306,0,1,1,-2.7386127875258306,0A2.7386127875258306,2.7386127875258306,0,1,1,2.7386127875258306,0\" style=\"fill: #4c78a8; stroke-width: 2; opacity: 0.7;\"></path><path transform=\"translate(100,168.57142857142858)\" d=\"M2.7386127875258306,0A2.7386127875258306,2.7386127875258306,0,1,1,-2.7386127875258306,0A2.7386127875258306,2.7386127875258306,0,1,1,2.7386127875258306,0\" style=\"fill: #4c78a8; stroke-width: 2; opacity: 0.7;\"></path><path transform=\"translate(100,167.14285714285714)\" d=\"M2.7386127875258306,0A2.7386127875258306,2.7386127875258306,0,1,1,-2.7386127875258306,0A2.7386127875258306,2.7386127875258306,0,1,1,2.7386127875258306,0\" style=\"fill: #4c78a8; stroke-width: 2; opacity: 0.7;\"></path><path transform=\"translate(50,185.71428571428572)\" d=\"M2.7386127875258306,0A2.7386127875258306,2.7386127875258306,0,1,1,-2.7386127875258306,0A2.7386127875258306,2.7386127875258306,0,1,1,2.7386127875258306,0\" style=\"fill: #4c78a8; stroke-width: 2; opacity: 0.7;\"></path><path transform=\"translate(200,175.71428571428572)\" d=\"M2.7386127875258306,0A2.7386127875258306,2.7386127875258306,0,1,1,-2.7386127875258306,0A2.7386127875258306,2.7386127875258306,0,1,1,2.7386127875258306,0\" style=\"fill: #4c78a8; stroke-width: 2; opacity: 0.7;\"></path><path transform=\"translate(75,170)\" d=\"M2.7386127875258306,0A2.7386127875258306,2.7386127875258306,0,1,1,-2.7386127875258306,0A2.7386127875258306,2.7386127875258306,0,1,1,2.7386127875258306,0\" style=\"fill: #4c78a8; stroke-width: 2; opacity: 0.7;\"></path><path transform=\"translate(125,168.57142857142858)\" d=\"M2.7386127875258306,0A2.7386127875258306,2.7386127875258306,0,1,1,-2.7386127875258306,0A2.7386127875258306,2.7386127875258306,0,1,1,2.7386127875258306,0\" style=\"fill: #4c78a8; stroke-width: 2; opacity: 0.7;\"></path><path transform=\"translate(0,152.85714285714286)\" d=\"M2.7386127875258306,0A2.7386127875258306,2.7386127875258306,0,1,1,-2.7386127875258306,0A2.7386127875258306,2.7386127875258306,0,1,1,2.7386127875258306,0\" style=\"fill: #4c78a8; stroke-width: 2; opacity: 0.7;\"></path><path transform=\"translate(100,165.71428571428572)\" d=\"M2.7386127875258306,0A2.7386127875258306,2.7386127875258306,0,1,1,-2.7386127875258306,0A2.7386127875258306,2.7386127875258306,0,1,1,2.7386127875258306,0\" style=\"fill: #4c78a8; stroke-width: 2; opacity: 0.7;\"></path><path transform=\"translate(150,182.85714285714286)\" d=\"M2.7386127875258306,0A2.7386127875258306,2.7386127875258306,0,1,1,-2.7386127875258306,0A2.7386127875258306,2.7386127875258306,0,1,1,2.7386127875258306,0\" style=\"fill: #4c78a8; stroke-width: 2; opacity: 0.7;\"></path><path transform=\"translate(50,184.28571428571428)\" d=\"M2.7386127875258306,0A2.7386127875258306,2.7386127875258306,0,1,1,-2.7386127875258306,0A2.7386127875258306,2.7386127875258306,0,1,1,2.7386127875258306,0\" style=\"fill: #4c78a8; stroke-width: 2; opacity: 0.7;\"></path><path transform=\"translate(100,164.28571428571428)\" d=\"M2.7386127875258306,0A2.7386127875258306,2.7386127875258306,0,1,1,-2.7386127875258306,0A2.7386127875258306,2.7386127875258306,0,1,1,2.7386127875258306,0\" style=\"fill: #4c78a8; stroke-width: 2; opacity: 0.7;\"></path><path transform=\"translate(50,182.85714285714286)\" d=\"M2.7386127875258306,0A2.7386127875258306,2.7386127875258306,0,1,1,-2.7386127875258306,0A2.7386127875258306,2.7386127875258306,0,1,1,2.7386127875258306,0\" style=\"fill: #4c78a8; stroke-width: 2; opacity: 0.7;\"></path><path transform=\"translate(25,181.42857142857142)\" d=\"M2.7386127875258306,0A2.7386127875258306,2.7386127875258306,0,1,1,-2.7386127875258306,0A2.7386127875258306,2.7386127875258306,0,1,1,2.7386127875258306,0\" style=\"fill: #4c78a8; stroke-width: 2; opacity: 0.7;\"></path><path transform=\"translate(100,162.85714285714286)\" d=\"M2.7386127875258306,0A2.7386127875258306,2.7386127875258306,0,1,1,-2.7386127875258306,0A2.7386127875258306,2.7386127875258306,0,1,1,2.7386127875258306,0\" style=\"fill: #4c78a8; stroke-width: 2; opacity: 0.7;\"></path><path transform=\"translate(75,168.57142857142858)\" d=\"M2.7386127875258306,0A2.7386127875258306,2.7386127875258306,0,1,1,-2.7386127875258306,0A2.7386127875258306,2.7386127875258306,0,1,1,2.7386127875258306,0\" style=\"fill: #4c78a8; stroke-width: 2; opacity: 0.7;\"></path><path transform=\"translate(75,167.14285714285714)\" d=\"M2.7386127875258306,0A2.7386127875258306,2.7386127875258306,0,1,1,-2.7386127875258306,0A2.7386127875258306,2.7386127875258306,0,1,1,2.7386127875258306,0\" style=\"fill: #4c78a8; stroke-width: 2; opacity: 0.7;\"></path><path transform=\"translate(100,161.42857142857142)\" d=\"M2.7386127875258306,0A2.7386127875258306,2.7386127875258306,0,1,1,-2.7386127875258306,0A2.7386127875258306,2.7386127875258306,0,1,1,2.7386127875258306,0\" style=\"fill: #4c78a8; stroke-width: 2; opacity: 0.7;\"></path><path transform=\"translate(125,167.14285714285714)\" d=\"M2.7386127875258306,0A2.7386127875258306,2.7386127875258306,0,1,1,-2.7386127875258306,0A2.7386127875258306,2.7386127875258306,0,1,1,2.7386127875258306,0\" style=\"fill: #4c78a8; stroke-width: 2; opacity: 0.7;\"></path><path transform=\"translate(25,180)\" d=\"M2.7386127875258306,0A2.7386127875258306,2.7386127875258306,0,1,1,-2.7386127875258306,0A2.7386127875258306,2.7386127875258306,0,1,1,2.7386127875258306,0\" style=\"fill: #4c78a8; stroke-width: 2; opacity: 0.7;\"></path><path transform=\"translate(175,167.14285714285714)\" d=\"M2.7386127875258306,0A2.7386127875258306,2.7386127875258306,0,1,1,-2.7386127875258306,0A2.7386127875258306,2.7386127875258306,0,1,1,2.7386127875258306,0\" style=\"fill: #4c78a8; stroke-width: 2; opacity: 0.7;\"></path><path transform=\"translate(25,178.57142857142858)\" d=\"M2.7386127875258306,0A2.7386127875258306,2.7386127875258306,0,1,1,-2.7386127875258306,0A2.7386127875258306,2.7386127875258306,0,1,1,2.7386127875258306,0\" style=\"fill: #4c78a8; stroke-width: 2; opacity: 0.7;\"></path><path transform=\"translate(0,151.42857142857144)\" d=\"M2.7386127875258306,0A2.7386127875258306,2.7386127875258306,0,1,1,-2.7386127875258306,0A2.7386127875258306,2.7386127875258306,0,1,1,2.7386127875258306,0\" style=\"fill: #4c78a8; stroke-width: 2; opacity: 0.7;\"></path><path transform=\"translate(25,177.14285714285714)\" d=\"M2.7386127875258306,0A2.7386127875258306,2.7386127875258306,0,1,1,-2.7386127875258306,0A2.7386127875258306,2.7386127875258306,0,1,1,2.7386127875258306,0\" style=\"fill: #4c78a8; stroke-width: 2; opacity: 0.7;\"></path><path transform=\"translate(75,165.71428571428572)\" d=\"M2.7386127875258306,0A2.7386127875258306,2.7386127875258306,0,1,1,-2.7386127875258306,0A2.7386127875258306,2.7386127875258306,0,1,1,2.7386127875258306,0\" style=\"fill: #4c78a8; stroke-width: 2; opacity: 0.7;\"></path><path transform=\"translate(50,181.42857142857142)\" d=\"M2.7386127875258306,0A2.7386127875258306,2.7386127875258306,0,1,1,-2.7386127875258306,0A2.7386127875258306,2.7386127875258306,0,1,1,2.7386127875258306,0\" style=\"fill: #4c78a8; stroke-width: 2; opacity: 0.7;\"></path><path transform=\"translate(175,165.71428571428572)\" d=\"M2.7386127875258306,0A2.7386127875258306,2.7386127875258306,0,1,1,-2.7386127875258306,0A2.7386127875258306,2.7386127875258306,0,1,1,2.7386127875258306,0\" style=\"fill: #4c78a8; stroke-width: 2; opacity: 0.7;\"></path><path transform=\"translate(150,181.42857142857142)\" d=\"M2.7386127875258306,0A2.7386127875258306,2.7386127875258306,0,1,1,-2.7386127875258306,0A2.7386127875258306,2.7386127875258306,0,1,1,2.7386127875258306,0\" style=\"fill: #4c78a8; stroke-width: 2; opacity: 0.7;\"></path><path transform=\"translate(0,150)\" d=\"M2.7386127875258306,0A2.7386127875258306,2.7386127875258306,0,1,1,-2.7386127875258306,0A2.7386127875258306,2.7386127875258306,0,1,1,2.7386127875258306,0\" style=\"fill: #4c78a8; stroke-width: 2; opacity: 0.7;\"></path><path transform=\"translate(0,148.57142857142858)\" d=\"M2.7386127875258306,0A2.7386127875258306,2.7386127875258306,0,1,1,-2.7386127875258306,0A2.7386127875258306,2.7386127875258306,0,1,1,2.7386127875258306,0\" style=\"fill: #4c78a8; stroke-width: 2; opacity: 0.7;\"></path><path transform=\"translate(50,180)\" d=\"M2.7386127875258306,0A2.7386127875258306,2.7386127875258306,0,1,1,-2.7386127875258306,0A2.7386127875258306,2.7386127875258306,0,1,1,2.7386127875258306,0\" style=\"fill: #4c78a8; stroke-width: 2; opacity: 0.7;\"></path><path transform=\"translate(0,147.14285714285714)\" d=\"M2.7386127875258306,0A2.7386127875258306,2.7386127875258306,0,1,1,-2.7386127875258306,0A2.7386127875258306,2.7386127875258306,0,1,1,2.7386127875258306,0\" style=\"fill: #4c78a8; stroke-width: 2; opacity: 0.7;\"></path><path transform=\"translate(75,164.28571428571428)\" d=\"M2.7386127875258306,0A2.7386127875258306,2.7386127875258306,0,1,1,-2.7386127875258306,0A2.7386127875258306,2.7386127875258306,0,1,1,2.7386127875258306,0\" style=\"fill: #4c78a8; stroke-width: 2; opacity: 0.7;\"></path><path transform=\"translate(125,165.71428571428572)\" d=\"M2.7386127875258306,0A2.7386127875258306,2.7386127875258306,0,1,1,-2.7386127875258306,0A2.7386127875258306,2.7386127875258306,0,1,1,2.7386127875258306,0\" style=\"fill: #4c78a8; stroke-width: 2; opacity: 0.7;\"></path><path transform=\"translate(150,180)\" d=\"M2.7386127875258306,0A2.7386127875258306,2.7386127875258306,0,1,1,-2.7386127875258306,0A2.7386127875258306,2.7386127875258306,0,1,1,2.7386127875258306,0\" style=\"fill: #4c78a8; stroke-width: 2; opacity: 0.7;\"></path><path transform=\"translate(50,178.57142857142858)\" d=\"M2.7386127875258306,0A2.7386127875258306,2.7386127875258306,0,1,1,-2.7386127875258306,0A2.7386127875258306,2.7386127875258306,0,1,1,2.7386127875258306,0\" style=\"fill: #4c78a8; stroke-width: 2; opacity: 0.7;\"></path><path transform=\"translate(100,160)\" d=\"M2.7386127875258306,0A2.7386127875258306,2.7386127875258306,0,1,1,-2.7386127875258306,0A2.7386127875258306,2.7386127875258306,0,1,1,2.7386127875258306,0\" style=\"fill: #4c78a8; stroke-width: 2; opacity: 0.7;\"></path><path transform=\"translate(25,175.71428571428572)\" d=\"M2.7386127875258306,0A2.7386127875258306,2.7386127875258306,0,1,1,-2.7386127875258306,0A2.7386127875258306,2.7386127875258306,0,1,1,2.7386127875258306,0\" style=\"fill: #4c78a8; stroke-width: 2; opacity: 0.7;\"></path><path transform=\"translate(200,174.28571428571428)\" d=\"M2.7386127875258306,0A2.7386127875258306,2.7386127875258306,0,1,1,-2.7386127875258306,0A2.7386127875258306,2.7386127875258306,0,1,1,2.7386127875258306,0\" style=\"fill: #4c78a8; stroke-width: 2; opacity: 0.7;\"></path><path transform=\"translate(100,158.57142857142856)\" d=\"M2.7386127875258306,0A2.7386127875258306,2.7386127875258306,0,1,1,-2.7386127875258306,0A2.7386127875258306,2.7386127875258306,0,1,1,2.7386127875258306,0\" style=\"fill: #4c78a8; stroke-width: 2; opacity: 0.7;\"></path><path transform=\"translate(175,164.28571428571428)\" d=\"M2.7386127875258306,0A2.7386127875258306,2.7386127875258306,0,1,1,-2.7386127875258306,0A2.7386127875258306,2.7386127875258306,0,1,1,2.7386127875258306,0\" style=\"fill: #4c78a8; stroke-width: 2; opacity: 0.7;\"></path><path transform=\"translate(100,157.14285714285714)\" d=\"M2.7386127875258306,0A2.7386127875258306,2.7386127875258306,0,1,1,-2.7386127875258306,0A2.7386127875258306,2.7386127875258306,0,1,1,2.7386127875258306,0\" style=\"fill: #4c78a8; stroke-width: 2; opacity: 0.7;\"></path><path transform=\"translate(75,162.85714285714286)\" d=\"M2.7386127875258306,0A2.7386127875258306,2.7386127875258306,0,1,1,-2.7386127875258306,0A2.7386127875258306,2.7386127875258306,0,1,1,2.7386127875258306,0\" style=\"fill: #4c78a8; stroke-width: 2; opacity: 0.7;\"></path><path transform=\"translate(0,145.71428571428572)\" d=\"M2.7386127875258306,0A2.7386127875258306,2.7386127875258306,0,1,1,-2.7386127875258306,0A2.7386127875258306,2.7386127875258306,0,1,1,2.7386127875258306,0\" style=\"fill: #4c78a8; stroke-width: 2; opacity: 0.7;\"></path><path transform=\"translate(50,177.14285714285714)\" d=\"M2.7386127875258306,0A2.7386127875258306,2.7386127875258306,0,1,1,-2.7386127875258306,0A2.7386127875258306,2.7386127875258306,0,1,1,2.7386127875258306,0\" style=\"fill: #4c78a8; stroke-width: 2; opacity: 0.7;\"></path><path transform=\"translate(200,172.85714285714286)\" d=\"M2.7386127875258306,0A2.7386127875258306,2.7386127875258306,0,1,1,-2.7386127875258306,0A2.7386127875258306,2.7386127875258306,0,1,1,2.7386127875258306,0\" style=\"fill: #4c78a8; stroke-width: 2; opacity: 0.7;\"></path><path transform=\"translate(75,161.42857142857142)\" d=\"M2.7386127875258306,0A2.7386127875258306,2.7386127875258306,0,1,1,-2.7386127875258306,0A2.7386127875258306,2.7386127875258306,0,1,1,2.7386127875258306,0\" style=\"fill: #4c78a8; stroke-width: 2; opacity: 0.7;\"></path><path transform=\"translate(75,160)\" d=\"M2.7386127875258306,0A2.7386127875258306,2.7386127875258306,0,1,1,-2.7386127875258306,0A2.7386127875258306,2.7386127875258306,0,1,1,2.7386127875258306,0\" style=\"fill: #4c78a8; stroke-width: 2; opacity: 0.7;\"></path><path transform=\"translate(150,178.57142857142858)\" d=\"M2.7386127875258306,0A2.7386127875258306,2.7386127875258306,0,1,1,-2.7386127875258306,0A2.7386127875258306,2.7386127875258306,0,1,1,2.7386127875258306,0\" style=\"fill: #4c78a8; stroke-width: 2; opacity: 0.7;\"></path><path transform=\"translate(50,175.71428571428572)\" d=\"M2.7386127875258306,0A2.7386127875258306,2.7386127875258306,0,1,1,-2.7386127875258306,0A2.7386127875258306,2.7386127875258306,0,1,1,2.7386127875258306,0\" style=\"fill: #4c78a8; stroke-width: 2; opacity: 0.7;\"></path><path transform=\"translate(150,177.14285714285714)\" d=\"M2.7386127875258306,0A2.7386127875258306,2.7386127875258306,0,1,1,-2.7386127875258306,0A2.7386127875258306,2.7386127875258306,0,1,1,2.7386127875258306,0\" style=\"fill: #4c78a8; stroke-width: 2; opacity: 0.7;\"></path><path transform=\"translate(150,175.71428571428572)\" d=\"M2.7386127875258306,0A2.7386127875258306,2.7386127875258306,0,1,1,-2.7386127875258306,0A2.7386127875258306,2.7386127875258306,0,1,1,2.7386127875258306,0\" style=\"fill: #4c78a8; stroke-width: 2; opacity: 0.7;\"></path><path transform=\"translate(25,174.28571428571428)\" d=\"M2.7386127875258306,0A2.7386127875258306,2.7386127875258306,0,1,1,-2.7386127875258306,0A2.7386127875258306,2.7386127875258306,0,1,1,2.7386127875258306,0\" style=\"fill: #4c78a8; stroke-width: 2; opacity: 0.7;\"></path><path transform=\"translate(25,172.85714285714286)\" d=\"M2.7386127875258306,0A2.7386127875258306,2.7386127875258306,0,1,1,-2.7386127875258306,0A2.7386127875258306,2.7386127875258306,0,1,1,2.7386127875258306,0\" style=\"fill: #4c78a8; stroke-width: 2; opacity: 0.7;\"></path><path transform=\"translate(75,158.57142857142856)\" d=\"M2.7386127875258306,0A2.7386127875258306,2.7386127875258306,0,1,1,-2.7386127875258306,0A2.7386127875258306,2.7386127875258306,0,1,1,2.7386127875258306,0\" style=\"fill: #4c78a8; stroke-width: 2; opacity: 0.7;\"></path><path transform=\"translate(125,164.28571428571428)\" d=\"M2.7386127875258306,0A2.7386127875258306,2.7386127875258306,0,1,1,-2.7386127875258306,0A2.7386127875258306,2.7386127875258306,0,1,1,2.7386127875258306,0\" style=\"fill: #4c78a8; stroke-width: 2; opacity: 0.7;\"></path><path transform=\"translate(125,162.85714285714286)\" d=\"M2.7386127875258306,0A2.7386127875258306,2.7386127875258306,0,1,1,-2.7386127875258306,0A2.7386127875258306,2.7386127875258306,0,1,1,2.7386127875258306,0\" style=\"fill: #4c78a8; stroke-width: 2; opacity: 0.7;\"></path><path transform=\"translate(150,174.28571428571428)\" d=\"M2.7386127875258306,0A2.7386127875258306,2.7386127875258306,0,1,1,-2.7386127875258306,0A2.7386127875258306,2.7386127875258306,0,1,1,2.7386127875258306,0\" style=\"fill: #4c78a8; stroke-width: 2; opacity: 0.7;\"></path><path transform=\"translate(150,172.85714285714286)\" d=\"M2.7386127875258306,0A2.7386127875258306,2.7386127875258306,0,1,1,-2.7386127875258306,0A2.7386127875258306,2.7386127875258306,0,1,1,2.7386127875258306,0\" style=\"fill: #4c78a8; stroke-width: 2; opacity: 0.7;\"></path><path transform=\"translate(200,171.42857142857144)\" d=\"M2.7386127875258306,0A2.7386127875258306,2.7386127875258306,0,1,1,-2.7386127875258306,0A2.7386127875258306,2.7386127875258306,0,1,1,2.7386127875258306,0\" style=\"fill: #4c78a8; stroke-width: 2; opacity: 0.7;\"></path><path transform=\"translate(200,170)\" d=\"M2.7386127875258306,0A2.7386127875258306,2.7386127875258306,0,1,1,-2.7386127875258306,0A2.7386127875258306,2.7386127875258306,0,1,1,2.7386127875258306,0\" style=\"fill: #4c78a8; stroke-width: 2; opacity: 0.7;\"></path><path transform=\"translate(150,171.42857142857144)\" d=\"M2.7386127875258306,0A2.7386127875258306,2.7386127875258306,0,1,1,-2.7386127875258306,0A2.7386127875258306,2.7386127875258306,0,1,1,2.7386127875258306,0\" style=\"fill: #4c78a8; stroke-width: 2; opacity: 0.7;\"></path><path transform=\"translate(125,161.42857142857142)\" d=\"M2.7386127875258306,0A2.7386127875258306,2.7386127875258306,0,1,1,-2.7386127875258306,0A2.7386127875258306,2.7386127875258306,0,1,1,2.7386127875258306,0\" style=\"fill: #4c78a8; stroke-width: 2; opacity: 0.7;\"></path><path transform=\"translate(50,174.28571428571428)\" d=\"M2.7386127875258306,0A2.7386127875258306,2.7386127875258306,0,1,1,-2.7386127875258306,0A2.7386127875258306,2.7386127875258306,0,1,1,2.7386127875258306,0\" style=\"fill: #4c78a8; stroke-width: 2; opacity: 0.7;\"></path><path transform=\"translate(175,162.85714285714286)\" d=\"M2.7386127875258306,0A2.7386127875258306,2.7386127875258306,0,1,1,-2.7386127875258306,0A2.7386127875258306,2.7386127875258306,0,1,1,2.7386127875258306,0\" style=\"fill: #4c78a8; stroke-width: 2; opacity: 0.7;\"></path><path transform=\"translate(125,160)\" d=\"M2.7386127875258306,0A2.7386127875258306,2.7386127875258306,0,1,1,-2.7386127875258306,0A2.7386127875258306,2.7386127875258306,0,1,1,2.7386127875258306,0\" style=\"fill: #4c78a8; stroke-width: 2; opacity: 0.7;\"></path><path transform=\"translate(25,171.42857142857144)\" d=\"M2.7386127875258306,0A2.7386127875258306,2.7386127875258306,0,1,1,-2.7386127875258306,0A2.7386127875258306,2.7386127875258306,0,1,1,2.7386127875258306,0\" style=\"fill: #4c78a8; stroke-width: 2; opacity: 0.7;\"></path><path transform=\"translate(150,170)\" d=\"M2.7386127875258306,0A2.7386127875258306,2.7386127875258306,0,1,1,-2.7386127875258306,0A2.7386127875258306,2.7386127875258306,0,1,1,2.7386127875258306,0\" style=\"fill: #4c78a8; stroke-width: 2; opacity: 0.7;\"></path><path transform=\"translate(175,161.42857142857142)\" d=\"M2.7386127875258306,0A2.7386127875258306,2.7386127875258306,0,1,1,-2.7386127875258306,0A2.7386127875258306,2.7386127875258306,0,1,1,2.7386127875258306,0\" style=\"fill: #4c78a8; stroke-width: 2; opacity: 0.7;\"></path><path transform=\"translate(0,144.28571428571428)\" d=\"M2.7386127875258306,0A2.7386127875258306,2.7386127875258306,0,1,1,-2.7386127875258306,0A2.7386127875258306,2.7386127875258306,0,1,1,2.7386127875258306,0\" style=\"fill: #4c78a8; stroke-width: 2; opacity: 0.7;\"></path><path transform=\"translate(100,155.71428571428572)\" d=\"M2.7386127875258306,0A2.7386127875258306,2.7386127875258306,0,1,1,-2.7386127875258306,0A2.7386127875258306,2.7386127875258306,0,1,1,2.7386127875258306,0\" style=\"fill: #4c78a8; stroke-width: 2; opacity: 0.7;\"></path><path transform=\"translate(150,168.57142857142858)\" d=\"M2.7386127875258306,0A2.7386127875258306,2.7386127875258306,0,1,1,-2.7386127875258306,0A2.7386127875258306,2.7386127875258306,0,1,1,2.7386127875258306,0\" style=\"fill: #4c78a8; stroke-width: 2; opacity: 0.7;\"></path><path transform=\"translate(100,154.28571428571428)\" d=\"M2.7386127875258306,0A2.7386127875258306,2.7386127875258306,0,1,1,-2.7386127875258306,0A2.7386127875258306,2.7386127875258306,0,1,1,2.7386127875258306,0\" style=\"fill: #4c78a8; stroke-width: 2; opacity: 0.7;\"></path><path transform=\"translate(150,167.14285714285714)\" d=\"M2.7386127875258306,0A2.7386127875258306,2.7386127875258306,0,1,1,-2.7386127875258306,0A2.7386127875258306,2.7386127875258306,0,1,1,2.7386127875258306,0\" style=\"fill: #4c78a8; stroke-width: 2; opacity: 0.7;\"></path><path transform=\"translate(175,160)\" d=\"M2.7386127875258306,0A2.7386127875258306,2.7386127875258306,0,1,1,-2.7386127875258306,0A2.7386127875258306,2.7386127875258306,0,1,1,2.7386127875258306,0\" style=\"fill: #4c78a8; stroke-width: 2; opacity: 0.7;\"></path><path transform=\"translate(200,168.57142857142858)\" d=\"M2.7386127875258306,0A2.7386127875258306,2.7386127875258306,0,1,1,-2.7386127875258306,0A2.7386127875258306,2.7386127875258306,0,1,1,2.7386127875258306,0\" style=\"fill: #4c78a8; stroke-width: 2; opacity: 0.7;\"></path><path transform=\"translate(100,152.85714285714286)\" d=\"M2.7386127875258306,0A2.7386127875258306,2.7386127875258306,0,1,1,-2.7386127875258306,0A2.7386127875258306,2.7386127875258306,0,1,1,2.7386127875258306,0\" style=\"fill: #4c78a8; stroke-width: 2; opacity: 0.7;\"></path><path transform=\"translate(25,170)\" d=\"M2.7386127875258306,0A2.7386127875258306,2.7386127875258306,0,1,1,-2.7386127875258306,0A2.7386127875258306,2.7386127875258306,0,1,1,2.7386127875258306,0\" style=\"fill: #4c78a8; stroke-width: 2; opacity: 0.7;\"></path><path transform=\"translate(175,158.57142857142856)\" d=\"M2.7386127875258306,0A2.7386127875258306,2.7386127875258306,0,1,1,-2.7386127875258306,0A2.7386127875258306,2.7386127875258306,0,1,1,2.7386127875258306,0\" style=\"fill: #4c78a8; stroke-width: 2; opacity: 0.7;\"></path><path transform=\"translate(0,142.85714285714286)\" d=\"M2.7386127875258306,0A2.7386127875258306,2.7386127875258306,0,1,1,-2.7386127875258306,0A2.7386127875258306,2.7386127875258306,0,1,1,2.7386127875258306,0\" style=\"fill: #4c78a8; stroke-width: 2; opacity: 0.7;\"></path><path transform=\"translate(150,165.71428571428572)\" d=\"M2.7386127875258306,0A2.7386127875258306,2.7386127875258306,0,1,1,-2.7386127875258306,0A2.7386127875258306,2.7386127875258306,0,1,1,2.7386127875258306,0\" style=\"fill: #4c78a8; stroke-width: 2; opacity: 0.7;\"></path><path transform=\"translate(0,141.42857142857142)\" d=\"M2.7386127875258306,0A2.7386127875258306,2.7386127875258306,0,1,1,-2.7386127875258306,0A2.7386127875258306,2.7386127875258306,0,1,1,2.7386127875258306,0\" style=\"fill: #4c78a8; stroke-width: 2; opacity: 0.7;\"></path><path transform=\"translate(175,157.14285714285714)\" d=\"M2.7386127875258306,0A2.7386127875258306,2.7386127875258306,0,1,1,-2.7386127875258306,0A2.7386127875258306,2.7386127875258306,0,1,1,2.7386127875258306,0\" style=\"fill: #4c78a8; stroke-width: 2; opacity: 0.7;\"></path><path transform=\"translate(175,155.71428571428572)\" d=\"M2.7386127875258306,0A2.7386127875258306,2.7386127875258306,0,1,1,-2.7386127875258306,0A2.7386127875258306,2.7386127875258306,0,1,1,2.7386127875258306,0\" style=\"fill: #4c78a8; stroke-width: 2; opacity: 0.7;\"></path><path transform=\"translate(125,158.57142857142856)\" d=\"M2.7386127875258306,0A2.7386127875258306,2.7386127875258306,0,1,1,-2.7386127875258306,0A2.7386127875258306,2.7386127875258306,0,1,1,2.7386127875258306,0\" style=\"fill: #4c78a8; stroke-width: 2; opacity: 0.7;\"></path><path transform=\"translate(150,164.28571428571428)\" d=\"M2.7386127875258306,0A2.7386127875258306,2.7386127875258306,0,1,1,-2.7386127875258306,0A2.7386127875258306,2.7386127875258306,0,1,1,2.7386127875258306,0\" style=\"fill: #4c78a8; stroke-width: 2; opacity: 0.7;\"></path><path transform=\"translate(100,151.42857142857144)\" d=\"M2.7386127875258306,0A2.7386127875258306,2.7386127875258306,0,1,1,-2.7386127875258306,0A2.7386127875258306,2.7386127875258306,0,1,1,2.7386127875258306,0\" style=\"fill: #4c78a8; stroke-width: 2; opacity: 0.7;\"></path><path transform=\"translate(100,150)\" d=\"M2.7386127875258306,0A2.7386127875258306,2.7386127875258306,0,1,1,-2.7386127875258306,0A2.7386127875258306,2.7386127875258306,0,1,1,2.7386127875258306,0\" style=\"fill: #4c78a8; stroke-width: 2; opacity: 0.7;\"></path><path transform=\"translate(175,154.28571428571428)\" d=\"M2.7386127875258306,0A2.7386127875258306,2.7386127875258306,0,1,1,-2.7386127875258306,0A2.7386127875258306,2.7386127875258306,0,1,1,2.7386127875258306,0\" style=\"fill: #4c78a8; stroke-width: 2; opacity: 0.7;\"></path><path transform=\"translate(150,162.85714285714286)\" d=\"M2.7386127875258306,0A2.7386127875258306,2.7386127875258306,0,1,1,-2.7386127875258306,0A2.7386127875258306,2.7386127875258306,0,1,1,2.7386127875258306,0\" style=\"fill: #4c78a8; stroke-width: 2; opacity: 0.7;\"></path><path transform=\"translate(75,157.14285714285714)\" d=\"M2.7386127875258306,0A2.7386127875258306,2.7386127875258306,0,1,1,-2.7386127875258306,0A2.7386127875258306,2.7386127875258306,0,1,1,2.7386127875258306,0\" style=\"fill: #4c78a8; stroke-width: 2; opacity: 0.7;\"></path><path transform=\"translate(75,155.71428571428572)\" d=\"M2.7386127875258306,0A2.7386127875258306,2.7386127875258306,0,1,1,-2.7386127875258306,0A2.7386127875258306,2.7386127875258306,0,1,1,2.7386127875258306,0\" style=\"fill: #4c78a8; stroke-width: 2; opacity: 0.7;\"></path><path transform=\"translate(0,140)\" d=\"M2.7386127875258306,0A2.7386127875258306,2.7386127875258306,0,1,1,-2.7386127875258306,0A2.7386127875258306,2.7386127875258306,0,1,1,2.7386127875258306,0\" style=\"fill: #4c78a8; stroke-width: 2; opacity: 0.7;\"></path><path transform=\"translate(50,172.85714285714286)\" d=\"M2.7386127875258306,0A2.7386127875258306,2.7386127875258306,0,1,1,-2.7386127875258306,0A2.7386127875258306,2.7386127875258306,0,1,1,2.7386127875258306,0\" style=\"fill: #4c78a8; stroke-width: 2; opacity: 0.7;\"></path><path transform=\"translate(75,154.28571428571428)\" d=\"M2.7386127875258306,0A2.7386127875258306,2.7386127875258306,0,1,1,-2.7386127875258306,0A2.7386127875258306,2.7386127875258306,0,1,1,2.7386127875258306,0\" style=\"fill: #4c78a8; stroke-width: 2; opacity: 0.7;\"></path><path transform=\"translate(0,138.57142857142856)\" d=\"M2.7386127875258306,0A2.7386127875258306,2.7386127875258306,0,1,1,-2.7386127875258306,0A2.7386127875258306,2.7386127875258306,0,1,1,2.7386127875258306,0\" style=\"fill: #4c78a8; stroke-width: 2; opacity: 0.7;\"></path><path transform=\"translate(100,148.57142857142858)\" d=\"M2.7386127875258306,0A2.7386127875258306,2.7386127875258306,0,1,1,-2.7386127875258306,0A2.7386127875258306,2.7386127875258306,0,1,1,2.7386127875258306,0\" style=\"fill: #4c78a8; stroke-width: 2; opacity: 0.7;\"></path><path transform=\"translate(200,167.14285714285714)\" d=\"M2.7386127875258306,0A2.7386127875258306,2.7386127875258306,0,1,1,-2.7386127875258306,0A2.7386127875258306,2.7386127875258306,0,1,1,2.7386127875258306,0\" style=\"fill: #4c78a8; stroke-width: 2; opacity: 0.7;\"></path><path transform=\"translate(75,152.85714285714286)\" d=\"M2.7386127875258306,0A2.7386127875258306,2.7386127875258306,0,1,1,-2.7386127875258306,0A2.7386127875258306,2.7386127875258306,0,1,1,2.7386127875258306,0\" style=\"fill: #4c78a8; stroke-width: 2; opacity: 0.7;\"></path><path transform=\"translate(0,137.14285714285714)\" d=\"M2.7386127875258306,0A2.7386127875258306,2.7386127875258306,0,1,1,-2.7386127875258306,0A2.7386127875258306,2.7386127875258306,0,1,1,2.7386127875258306,0\" style=\"fill: #4c78a8; stroke-width: 2; opacity: 0.7;\"></path><path transform=\"translate(100,147.14285714285714)\" d=\"M2.7386127875258306,0A2.7386127875258306,2.7386127875258306,0,1,1,-2.7386127875258306,0A2.7386127875258306,2.7386127875258306,0,1,1,2.7386127875258306,0\" style=\"fill: #4c78a8; stroke-width: 2; opacity: 0.7;\"></path><path transform=\"translate(175,152.85714285714286)\" d=\"M2.7386127875258306,0A2.7386127875258306,2.7386127875258306,0,1,1,-2.7386127875258306,0A2.7386127875258306,2.7386127875258306,0,1,1,2.7386127875258306,0\" style=\"fill: #4c78a8; stroke-width: 2; opacity: 0.7;\"></path><path transform=\"translate(25,168.57142857142858)\" d=\"M2.7386127875258306,0A2.7386127875258306,2.7386127875258306,0,1,1,-2.7386127875258306,0A2.7386127875258306,2.7386127875258306,0,1,1,2.7386127875258306,0\" style=\"fill: #4c78a8; stroke-width: 2; opacity: 0.7;\"></path><path transform=\"translate(200,165.71428571428572)\" d=\"M2.7386127875258306,0A2.7386127875258306,2.7386127875258306,0,1,1,-2.7386127875258306,0A2.7386127875258306,2.7386127875258306,0,1,1,2.7386127875258306,0\" style=\"fill: #4c78a8; stroke-width: 2; opacity: 0.7;\"></path><path transform=\"translate(25,167.14285714285714)\" d=\"M2.7386127875258306,0A2.7386127875258306,2.7386127875258306,0,1,1,-2.7386127875258306,0A2.7386127875258306,2.7386127875258306,0,1,1,2.7386127875258306,0\" style=\"fill: #4c78a8; stroke-width: 2; opacity: 0.7;\"></path><path transform=\"translate(75,151.42857142857144)\" d=\"M2.7386127875258306,0A2.7386127875258306,2.7386127875258306,0,1,1,-2.7386127875258306,0A2.7386127875258306,2.7386127875258306,0,1,1,2.7386127875258306,0\" style=\"fill: #4c78a8; stroke-width: 2; opacity: 0.7;\"></path><path transform=\"translate(175,151.42857142857144)\" d=\"M2.7386127875258306,0A2.7386127875258306,2.7386127875258306,0,1,1,-2.7386127875258306,0A2.7386127875258306,2.7386127875258306,0,1,1,2.7386127875258306,0\" style=\"fill: #4c78a8; stroke-width: 2; opacity: 0.7;\"></path><path transform=\"translate(75,150)\" d=\"M2.7386127875258306,0A2.7386127875258306,2.7386127875258306,0,1,1,-2.7386127875258306,0A2.7386127875258306,2.7386127875258306,0,1,1,2.7386127875258306,0\" style=\"fill: #4c78a8; stroke-width: 2; opacity: 0.7;\"></path><path transform=\"translate(175,150)\" d=\"M2.7386127875258306,0A2.7386127875258306,2.7386127875258306,0,1,1,-2.7386127875258306,0A2.7386127875258306,2.7386127875258306,0,1,1,2.7386127875258306,0\" style=\"fill: #4c78a8; stroke-width: 2; opacity: 0.7;\"></path><path transform=\"translate(200,164.28571428571428)\" d=\"M2.7386127875258306,0A2.7386127875258306,2.7386127875258306,0,1,1,-2.7386127875258306,0A2.7386127875258306,2.7386127875258306,0,1,1,2.7386127875258306,0\" style=\"fill: #4c78a8; stroke-width: 2; opacity: 0.7;\"></path><path transform=\"translate(25,165.71428571428572)\" d=\"M2.7386127875258306,0A2.7386127875258306,2.7386127875258306,0,1,1,-2.7386127875258306,0A2.7386127875258306,2.7386127875258306,0,1,1,2.7386127875258306,0\" style=\"fill: #4c78a8; stroke-width: 2; opacity: 0.7;\"></path><path transform=\"translate(100,145.71428571428572)\" d=\"M2.7386127875258306,0A2.7386127875258306,2.7386127875258306,0,1,1,-2.7386127875258306,0A2.7386127875258306,2.7386127875258306,0,1,1,2.7386127875258306,0\" style=\"fill: #4c78a8; stroke-width: 2; opacity: 0.7;\"></path><path transform=\"translate(125,157.14285714285714)\" d=\"M2.7386127875258306,0A2.7386127875258306,2.7386127875258306,0,1,1,-2.7386127875258306,0A2.7386127875258306,2.7386127875258306,0,1,1,2.7386127875258306,0\" style=\"fill: #4c78a8; stroke-width: 2; opacity: 0.7;\"></path><path transform=\"translate(25,164.28571428571428)\" d=\"M2.7386127875258306,0A2.7386127875258306,2.7386127875258306,0,1,1,-2.7386127875258306,0A2.7386127875258306,2.7386127875258306,0,1,1,2.7386127875258306,0\" style=\"fill: #4c78a8; stroke-width: 2; opacity: 0.7;\"></path><path transform=\"translate(175,148.57142857142858)\" d=\"M2.7386127875258306,0A2.7386127875258306,2.7386127875258306,0,1,1,-2.7386127875258306,0A2.7386127875258306,2.7386127875258306,0,1,1,2.7386127875258306,0\" style=\"fill: #4c78a8; stroke-width: 2; opacity: 0.7;\"></path><path transform=\"translate(75,148.57142857142858)\" d=\"M2.7386127875258306,0A2.7386127875258306,2.7386127875258306,0,1,1,-2.7386127875258306,0A2.7386127875258306,2.7386127875258306,0,1,1,2.7386127875258306,0\" style=\"fill: #4c78a8; stroke-width: 2; opacity: 0.7;\"></path><path transform=\"translate(25,162.85714285714286)\" d=\"M2.7386127875258306,0A2.7386127875258306,2.7386127875258306,0,1,1,-2.7386127875258306,0A2.7386127875258306,2.7386127875258306,0,1,1,2.7386127875258306,0\" style=\"fill: #4c78a8; stroke-width: 2; opacity: 0.7;\"></path><path transform=\"translate(200,162.85714285714286)\" d=\"M2.7386127875258306,0A2.7386127875258306,2.7386127875258306,0,1,1,-2.7386127875258306,0A2.7386127875258306,2.7386127875258306,0,1,1,2.7386127875258306,0\" style=\"fill: #4c78a8; stroke-width: 2; opacity: 0.7;\"></path><path transform=\"translate(175,147.14285714285714)\" d=\"M2.7386127875258306,0A2.7386127875258306,2.7386127875258306,0,1,1,-2.7386127875258306,0A2.7386127875258306,2.7386127875258306,0,1,1,2.7386127875258306,0\" style=\"fill: #4c78a8; stroke-width: 2; opacity: 0.7;\"></path><path transform=\"translate(150,161.42857142857142)\" d=\"M2.7386127875258306,0A2.7386127875258306,2.7386127875258306,0,1,1,-2.7386127875258306,0A2.7386127875258306,2.7386127875258306,0,1,1,2.7386127875258306,0\" style=\"fill: #4c78a8; stroke-width: 2; opacity: 0.7;\"></path><path transform=\"translate(100,144.28571428571428)\" d=\"M2.7386127875258306,0A2.7386127875258306,2.7386127875258306,0,1,1,-2.7386127875258306,0A2.7386127875258306,2.7386127875258306,0,1,1,2.7386127875258306,0\" style=\"fill: #4c78a8; stroke-width: 2; opacity: 0.7;\"></path><path transform=\"translate(125,155.71428571428572)\" d=\"M2.7386127875258306,0A2.7386127875258306,2.7386127875258306,0,1,1,-2.7386127875258306,0A2.7386127875258306,2.7386127875258306,0,1,1,2.7386127875258306,0\" style=\"fill: #4c78a8; stroke-width: 2; opacity: 0.7;\"></path><path transform=\"translate(25,161.42857142857142)\" d=\"M2.7386127875258306,0A2.7386127875258306,2.7386127875258306,0,1,1,-2.7386127875258306,0A2.7386127875258306,2.7386127875258306,0,1,1,2.7386127875258306,0\" style=\"fill: #4c78a8; stroke-width: 2; opacity: 0.7;\"></path><path transform=\"translate(125,154.28571428571428)\" d=\"M2.7386127875258306,0A2.7386127875258306,2.7386127875258306,0,1,1,-2.7386127875258306,0A2.7386127875258306,2.7386127875258306,0,1,1,2.7386127875258306,0\" style=\"fill: #4c78a8; stroke-width: 2; opacity: 0.7;\"></path><path transform=\"translate(25,160)\" d=\"M2.7386127875258306,0A2.7386127875258306,2.7386127875258306,0,1,1,-2.7386127875258306,0A2.7386127875258306,2.7386127875258306,0,1,1,2.7386127875258306,0\" style=\"fill: #4c78a8; stroke-width: 2; opacity: 0.7;\"></path><path transform=\"translate(75,147.14285714285714)\" d=\"M2.7386127875258306,0A2.7386127875258306,2.7386127875258306,0,1,1,-2.7386127875258306,0A2.7386127875258306,2.7386127875258306,0,1,1,2.7386127875258306,0\" style=\"fill: #4c78a8; stroke-width: 2; opacity: 0.7;\"></path><path transform=\"translate(75,145.71428571428572)\" d=\"M2.7386127875258306,0A2.7386127875258306,2.7386127875258306,0,1,1,-2.7386127875258306,0A2.7386127875258306,2.7386127875258306,0,1,1,2.7386127875258306,0\" style=\"fill: #4c78a8; stroke-width: 2; opacity: 0.7;\"></path><path transform=\"translate(100,142.85714285714286)\" d=\"M2.7386127875258306,0A2.7386127875258306,2.7386127875258306,0,1,1,-2.7386127875258306,0A2.7386127875258306,2.7386127875258306,0,1,1,2.7386127875258306,0\" style=\"fill: #4c78a8; stroke-width: 2; opacity: 0.7;\"></path><path transform=\"translate(75,144.28571428571428)\" d=\"M2.7386127875258306,0A2.7386127875258306,2.7386127875258306,0,1,1,-2.7386127875258306,0A2.7386127875258306,2.7386127875258306,0,1,1,2.7386127875258306,0\" style=\"fill: #4c78a8; stroke-width: 2; opacity: 0.7;\"></path><path transform=\"translate(100,141.42857142857142)\" d=\"M2.7386127875258306,0A2.7386127875258306,2.7386127875258306,0,1,1,-2.7386127875258306,0A2.7386127875258306,2.7386127875258306,0,1,1,2.7386127875258306,0\" style=\"fill: #4c78a8; stroke-width: 2; opacity: 0.7;\"></path><path transform=\"translate(0,135.71428571428572)\" d=\"M2.7386127875258306,0A2.7386127875258306,2.7386127875258306,0,1,1,-2.7386127875258306,0A2.7386127875258306,2.7386127875258306,0,1,1,2.7386127875258306,0\" style=\"fill: #4c78a8; stroke-width: 2; opacity: 0.7;\"></path><path transform=\"translate(150,160)\" d=\"M2.7386127875258306,0A2.7386127875258306,2.7386127875258306,0,1,1,-2.7386127875258306,0A2.7386127875258306,2.7386127875258306,0,1,1,2.7386127875258306,0\" style=\"fill: #4c78a8; stroke-width: 2; opacity: 0.7;\"></path><path transform=\"translate(150,158.57142857142856)\" d=\"M2.7386127875258306,0A2.7386127875258306,2.7386127875258306,0,1,1,-2.7386127875258306,0A2.7386127875258306,2.7386127875258306,0,1,1,2.7386127875258306,0\" style=\"fill: #4c78a8; stroke-width: 2; opacity: 0.7;\"></path><path transform=\"translate(200,161.42857142857142)\" d=\"M2.7386127875258306,0A2.7386127875258306,2.7386127875258306,0,1,1,-2.7386127875258306,0A2.7386127875258306,2.7386127875258306,0,1,1,2.7386127875258306,0\" style=\"fill: #4c78a8; stroke-width: 2; opacity: 0.7;\"></path><path transform=\"translate(150,157.14285714285714)\" d=\"M2.7386127875258306,0A2.7386127875258306,2.7386127875258306,0,1,1,-2.7386127875258306,0A2.7386127875258306,2.7386127875258306,0,1,1,2.7386127875258306,0\" style=\"fill: #4c78a8; stroke-width: 2; opacity: 0.7;\"></path><path transform=\"translate(100,140)\" d=\"M2.7386127875258306,0A2.7386127875258306,2.7386127875258306,0,1,1,-2.7386127875258306,0A2.7386127875258306,2.7386127875258306,0,1,1,2.7386127875258306,0\" style=\"fill: #4c78a8; stroke-width: 2; opacity: 0.7;\"></path><path transform=\"translate(50,171.42857142857144)\" d=\"M2.7386127875258306,0A2.7386127875258306,2.7386127875258306,0,1,1,-2.7386127875258306,0A2.7386127875258306,2.7386127875258306,0,1,1,2.7386127875258306,0\" style=\"fill: #4c78a8; stroke-width: 2; opacity: 0.7;\"></path><path transform=\"translate(75,142.85714285714286)\" d=\"M2.7386127875258306,0A2.7386127875258306,2.7386127875258306,0,1,1,-2.7386127875258306,0A2.7386127875258306,2.7386127875258306,0,1,1,2.7386127875258306,0\" style=\"fill: #4c78a8; stroke-width: 2; opacity: 0.7;\"></path><path transform=\"translate(200,160)\" d=\"M2.7386127875258306,0A2.7386127875258306,2.7386127875258306,0,1,1,-2.7386127875258306,0A2.7386127875258306,2.7386127875258306,0,1,1,2.7386127875258306,0\" style=\"fill: #4c78a8; stroke-width: 2; opacity: 0.7;\"></path><path transform=\"translate(50,170)\" d=\"M2.7386127875258306,0A2.7386127875258306,2.7386127875258306,0,1,1,-2.7386127875258306,0A2.7386127875258306,2.7386127875258306,0,1,1,2.7386127875258306,0\" style=\"fill: #4c78a8; stroke-width: 2; opacity: 0.7;\"></path><path transform=\"translate(0,134.28571428571428)\" d=\"M2.7386127875258306,0A2.7386127875258306,2.7386127875258306,0,1,1,-2.7386127875258306,0A2.7386127875258306,2.7386127875258306,0,1,1,2.7386127875258306,0\" style=\"fill: #4c78a8; stroke-width: 2; opacity: 0.7;\"></path><path transform=\"translate(100,138.57142857142856)\" d=\"M2.7386127875258306,0A2.7386127875258306,2.7386127875258306,0,1,1,-2.7386127875258306,0A2.7386127875258306,2.7386127875258306,0,1,1,2.7386127875258306,0\" style=\"fill: #4c78a8; stroke-width: 2; opacity: 0.7;\"></path><path transform=\"translate(200,158.57142857142856)\" d=\"M2.7386127875258306,0A2.7386127875258306,2.7386127875258306,0,1,1,-2.7386127875258306,0A2.7386127875258306,2.7386127875258306,0,1,1,2.7386127875258306,0\" style=\"fill: #4c78a8; stroke-width: 2; opacity: 0.7;\"></path><path transform=\"translate(75,141.42857142857142)\" d=\"M2.7386127875258306,0A2.7386127875258306,2.7386127875258306,0,1,1,-2.7386127875258306,0A2.7386127875258306,2.7386127875258306,0,1,1,2.7386127875258306,0\" style=\"fill: #4c78a8; stroke-width: 2; opacity: 0.7;\"></path><path transform=\"translate(150,155.71428571428572)\" d=\"M2.7386127875258306,0A2.7386127875258306,2.7386127875258306,0,1,1,-2.7386127875258306,0A2.7386127875258306,2.7386127875258306,0,1,1,2.7386127875258306,0\" style=\"fill: #4c78a8; stroke-width: 2; opacity: 0.7;\"></path><path transform=\"translate(75,140)\" d=\"M2.7386127875258306,0A2.7386127875258306,2.7386127875258306,0,1,1,-2.7386127875258306,0A2.7386127875258306,2.7386127875258306,0,1,1,2.7386127875258306,0\" style=\"fill: #4c78a8; stroke-width: 2; opacity: 0.7;\"></path><path transform=\"translate(150,154.28571428571428)\" d=\"M2.7386127875258306,0A2.7386127875258306,2.7386127875258306,0,1,1,-2.7386127875258306,0A2.7386127875258306,2.7386127875258306,0,1,1,2.7386127875258306,0\" style=\"fill: #4c78a8; stroke-width: 2; opacity: 0.7;\"></path><path transform=\"translate(25,158.57142857142856)\" d=\"M2.7386127875258306,0A2.7386127875258306,2.7386127875258306,0,1,1,-2.7386127875258306,0A2.7386127875258306,2.7386127875258306,0,1,1,2.7386127875258306,0\" style=\"fill: #4c78a8; stroke-width: 2; opacity: 0.7;\"></path><path transform=\"translate(100,137.14285714285714)\" d=\"M2.7386127875258306,0A2.7386127875258306,2.7386127875258306,0,1,1,-2.7386127875258306,0A2.7386127875258306,2.7386127875258306,0,1,1,2.7386127875258306,0\" style=\"fill: #4c78a8; stroke-width: 2; opacity: 0.7;\"></path><path transform=\"translate(0,132.85714285714286)\" d=\"M2.7386127875258306,0A2.7386127875258306,2.7386127875258306,0,1,1,-2.7386127875258306,0A2.7386127875258306,2.7386127875258306,0,1,1,2.7386127875258306,0\" style=\"fill: #4c78a8; stroke-width: 2; opacity: 0.7;\"></path><path transform=\"translate(100,135.71428571428572)\" d=\"M2.7386127875258306,0A2.7386127875258306,2.7386127875258306,0,1,1,-2.7386127875258306,0A2.7386127875258306,2.7386127875258306,0,1,1,2.7386127875258306,0\" style=\"fill: #4c78a8; stroke-width: 2; opacity: 0.7;\"></path><path transform=\"translate(0,131.42857142857144)\" d=\"M2.7386127875258306,0A2.7386127875258306,2.7386127875258306,0,1,1,-2.7386127875258306,0A2.7386127875258306,2.7386127875258306,0,1,1,2.7386127875258306,0\" style=\"fill: #4c78a8; stroke-width: 2; opacity: 0.7;\"></path><path transform=\"translate(150,152.85714285714286)\" d=\"M2.7386127875258306,0A2.7386127875258306,2.7386127875258306,0,1,1,-2.7386127875258306,0A2.7386127875258306,2.7386127875258306,0,1,1,2.7386127875258306,0\" style=\"fill: #4c78a8; stroke-width: 2; opacity: 0.7;\"></path><path transform=\"translate(25,157.14285714285714)\" d=\"M2.7386127875258306,0A2.7386127875258306,2.7386127875258306,0,1,1,-2.7386127875258306,0A2.7386127875258306,2.7386127875258306,0,1,1,2.7386127875258306,0\" style=\"fill: #4c78a8; stroke-width: 2; opacity: 0.7;\"></path><path transform=\"translate(0,130)\" d=\"M2.7386127875258306,0A2.7386127875258306,2.7386127875258306,0,1,1,-2.7386127875258306,0A2.7386127875258306,2.7386127875258306,0,1,1,2.7386127875258306,0\" style=\"fill: #4c78a8; stroke-width: 2; opacity: 0.7;\"></path><path transform=\"translate(175,145.71428571428572)\" d=\"M2.7386127875258306,0A2.7386127875258306,2.7386127875258306,0,1,1,-2.7386127875258306,0A2.7386127875258306,2.7386127875258306,0,1,1,2.7386127875258306,0\" style=\"fill: #4c78a8; stroke-width: 2; opacity: 0.7;\"></path><path transform=\"translate(150,151.42857142857144)\" d=\"M2.7386127875258306,0A2.7386127875258306,2.7386127875258306,0,1,1,-2.7386127875258306,0A2.7386127875258306,2.7386127875258306,0,1,1,2.7386127875258306,0\" style=\"fill: #4c78a8; stroke-width: 2; opacity: 0.7;\"></path><path transform=\"translate(100,134.28571428571428)\" d=\"M2.7386127875258306,0A2.7386127875258306,2.7386127875258306,0,1,1,-2.7386127875258306,0A2.7386127875258306,2.7386127875258306,0,1,1,2.7386127875258306,0\" style=\"fill: #4c78a8; stroke-width: 2; opacity: 0.7;\"></path><path transform=\"translate(200,157.14285714285714)\" d=\"M2.7386127875258306,0A2.7386127875258306,2.7386127875258306,0,1,1,-2.7386127875258306,0A2.7386127875258306,2.7386127875258306,0,1,1,2.7386127875258306,0\" style=\"fill: #4c78a8; stroke-width: 2; opacity: 0.7;\"></path><path transform=\"translate(50,168.57142857142858)\" d=\"M2.7386127875258306,0A2.7386127875258306,2.7386127875258306,0,1,1,-2.7386127875258306,0A2.7386127875258306,2.7386127875258306,0,1,1,2.7386127875258306,0\" style=\"fill: #4c78a8; stroke-width: 2; opacity: 0.7;\"></path><path transform=\"translate(125,152.85714285714286)\" d=\"M2.7386127875258306,0A2.7386127875258306,2.7386127875258306,0,1,1,-2.7386127875258306,0A2.7386127875258306,2.7386127875258306,0,1,1,2.7386127875258306,0\" style=\"fill: #4c78a8; stroke-width: 2; opacity: 0.7;\"></path><path transform=\"translate(200,155.71428571428572)\" d=\"M2.7386127875258306,0A2.7386127875258306,2.7386127875258306,0,1,1,-2.7386127875258306,0A2.7386127875258306,2.7386127875258306,0,1,1,2.7386127875258306,0\" style=\"fill: #4c78a8; stroke-width: 2; opacity: 0.7;\"></path><path transform=\"translate(0,128.57142857142856)\" d=\"M2.7386127875258306,0A2.7386127875258306,2.7386127875258306,0,1,1,-2.7386127875258306,0A2.7386127875258306,2.7386127875258306,0,1,1,2.7386127875258306,0\" style=\"fill: #4c78a8; stroke-width: 2; opacity: 0.7;\"></path><path transform=\"translate(0,127.14285714285715)\" d=\"M2.7386127875258306,0A2.7386127875258306,2.7386127875258306,0,1,1,-2.7386127875258306,0A2.7386127875258306,2.7386127875258306,0,1,1,2.7386127875258306,0\" style=\"fill: #4c78a8; stroke-width: 2; opacity: 0.7;\"></path><path transform=\"translate(25,155.71428571428572)\" d=\"M2.7386127875258306,0A2.7386127875258306,2.7386127875258306,0,1,1,-2.7386127875258306,0A2.7386127875258306,2.7386127875258306,0,1,1,2.7386127875258306,0\" style=\"fill: #4c78a8; stroke-width: 2; opacity: 0.7;\"></path><path transform=\"translate(25,154.28571428571428)\" d=\"M2.7386127875258306,0A2.7386127875258306,2.7386127875258306,0,1,1,-2.7386127875258306,0A2.7386127875258306,2.7386127875258306,0,1,1,2.7386127875258306,0\" style=\"fill: #4c78a8; stroke-width: 2; opacity: 0.7;\"></path><path transform=\"translate(125,151.42857142857144)\" d=\"M2.7386127875258306,0A2.7386127875258306,2.7386127875258306,0,1,1,-2.7386127875258306,0A2.7386127875258306,2.7386127875258306,0,1,1,2.7386127875258306,0\" style=\"fill: #4c78a8; stroke-width: 2; opacity: 0.7;\"></path><path transform=\"translate(125,150)\" d=\"M2.7386127875258306,0A2.7386127875258306,2.7386127875258306,0,1,1,-2.7386127875258306,0A2.7386127875258306,2.7386127875258306,0,1,1,2.7386127875258306,0\" style=\"fill: #4c78a8; stroke-width: 2; opacity: 0.7;\"></path><path transform=\"translate(50,167.14285714285714)\" d=\"M2.7386127875258306,0A2.7386127875258306,2.7386127875258306,0,1,1,-2.7386127875258306,0A2.7386127875258306,2.7386127875258306,0,1,1,2.7386127875258306,0\" style=\"fill: #4c78a8; stroke-width: 2; opacity: 0.7;\"></path><path transform=\"translate(200,154.28571428571428)\" d=\"M2.7386127875258306,0A2.7386127875258306,2.7386127875258306,0,1,1,-2.7386127875258306,0A2.7386127875258306,2.7386127875258306,0,1,1,2.7386127875258306,0\" style=\"fill: #4c78a8; stroke-width: 2; opacity: 0.7;\"></path><path transform=\"translate(100,132.85714285714286)\" d=\"M2.7386127875258306,0A2.7386127875258306,2.7386127875258306,0,1,1,-2.7386127875258306,0A2.7386127875258306,2.7386127875258306,0,1,1,2.7386127875258306,0\" style=\"fill: #4c78a8; stroke-width: 2; opacity: 0.7;\"></path><path transform=\"translate(75,138.57142857142856)\" d=\"M2.7386127875258306,0A2.7386127875258306,2.7386127875258306,0,1,1,-2.7386127875258306,0A2.7386127875258306,2.7386127875258306,0,1,1,2.7386127875258306,0\" style=\"fill: #4c78a8; stroke-width: 2; opacity: 0.7;\"></path><path transform=\"translate(100,131.42857142857144)\" d=\"M2.7386127875258306,0A2.7386127875258306,2.7386127875258306,0,1,1,-2.7386127875258306,0A2.7386127875258306,2.7386127875258306,0,1,1,2.7386127875258306,0\" style=\"fill: #4c78a8; stroke-width: 2; opacity: 0.7;\"></path><path transform=\"translate(0,125.71428571428571)\" d=\"M2.7386127875258306,0A2.7386127875258306,2.7386127875258306,0,1,1,-2.7386127875258306,0A2.7386127875258306,2.7386127875258306,0,1,1,2.7386127875258306,0\" style=\"fill: #4c78a8; stroke-width: 2; opacity: 0.7;\"></path><path transform=\"translate(150,150)\" d=\"M2.7386127875258306,0A2.7386127875258306,2.7386127875258306,0,1,1,-2.7386127875258306,0A2.7386127875258306,2.7386127875258306,0,1,1,2.7386127875258306,0\" style=\"fill: #4c78a8; stroke-width: 2; opacity: 0.7;\"></path><path transform=\"translate(100,130)\" d=\"M2.7386127875258306,0A2.7386127875258306,2.7386127875258306,0,1,1,-2.7386127875258306,0A2.7386127875258306,2.7386127875258306,0,1,1,2.7386127875258306,0\" style=\"fill: #4c78a8; stroke-width: 2; opacity: 0.7;\"></path><path transform=\"translate(0,124.28571428571429)\" d=\"M2.7386127875258306,0A2.7386127875258306,2.7386127875258306,0,1,1,-2.7386127875258306,0A2.7386127875258306,2.7386127875258306,0,1,1,2.7386127875258306,0\" style=\"fill: #4c78a8; stroke-width: 2; opacity: 0.7;\"></path><path transform=\"translate(200,152.85714285714286)\" d=\"M2.7386127875258306,0A2.7386127875258306,2.7386127875258306,0,1,1,-2.7386127875258306,0A2.7386127875258306,2.7386127875258306,0,1,1,2.7386127875258306,0\" style=\"fill: #4c78a8; stroke-width: 2; opacity: 0.7;\"></path><path transform=\"translate(75,137.14285714285714)\" d=\"M2.7386127875258306,0A2.7386127875258306,2.7386127875258306,0,1,1,-2.7386127875258306,0A2.7386127875258306,2.7386127875258306,0,1,1,2.7386127875258306,0\" style=\"fill: #4c78a8; stroke-width: 2; opacity: 0.7;\"></path><path transform=\"translate(100,128.57142857142856)\" d=\"M2.7386127875258306,0A2.7386127875258306,2.7386127875258306,0,1,1,-2.7386127875258306,0A2.7386127875258306,2.7386127875258306,0,1,1,2.7386127875258306,0\" style=\"fill: #4c78a8; stroke-width: 2; opacity: 0.7;\"></path><path transform=\"translate(175,144.28571428571428)\" d=\"M2.7386127875258306,0A2.7386127875258306,2.7386127875258306,0,1,1,-2.7386127875258306,0A2.7386127875258306,2.7386127875258306,0,1,1,2.7386127875258306,0\" style=\"fill: #4c78a8; stroke-width: 2; opacity: 0.7;\"></path><path transform=\"translate(100,127.14285714285715)\" d=\"M2.7386127875258306,0A2.7386127875258306,2.7386127875258306,0,1,1,-2.7386127875258306,0A2.7386127875258306,2.7386127875258306,0,1,1,2.7386127875258306,0\" style=\"fill: #4c78a8; stroke-width: 2; opacity: 0.7;\"></path><path transform=\"translate(200,151.42857142857144)\" d=\"M2.7386127875258306,0A2.7386127875258306,2.7386127875258306,0,1,1,-2.7386127875258306,0A2.7386127875258306,2.7386127875258306,0,1,1,2.7386127875258306,0\" style=\"fill: #4c78a8; stroke-width: 2; opacity: 0.7;\"></path><path transform=\"translate(175,142.85714285714286)\" d=\"M2.7386127875258306,0A2.7386127875258306,2.7386127875258306,0,1,1,-2.7386127875258306,0A2.7386127875258306,2.7386127875258306,0,1,1,2.7386127875258306,0\" style=\"fill: #4c78a8; stroke-width: 2; opacity: 0.7;\"></path><path transform=\"translate(50,165.71428571428572)\" d=\"M2.7386127875258306,0A2.7386127875258306,2.7386127875258306,0,1,1,-2.7386127875258306,0A2.7386127875258306,2.7386127875258306,0,1,1,2.7386127875258306,0\" style=\"fill: #4c78a8; stroke-width: 2; opacity: 0.7;\"></path><path transform=\"translate(125,148.57142857142858)\" d=\"M2.7386127875258306,0A2.7386127875258306,2.7386127875258306,0,1,1,-2.7386127875258306,0A2.7386127875258306,2.7386127875258306,0,1,1,2.7386127875258306,0\" style=\"fill: #4c78a8; stroke-width: 2; opacity: 0.7;\"></path><path transform=\"translate(200,150)\" d=\"M2.7386127875258306,0A2.7386127875258306,2.7386127875258306,0,1,1,-2.7386127875258306,0A2.7386127875258306,2.7386127875258306,0,1,1,2.7386127875258306,0\" style=\"fill: #4c78a8; stroke-width: 2; opacity: 0.7;\"></path><path transform=\"translate(150,148.57142857142858)\" d=\"M2.7386127875258306,0A2.7386127875258306,2.7386127875258306,0,1,1,-2.7386127875258306,0A2.7386127875258306,2.7386127875258306,0,1,1,2.7386127875258306,0\" style=\"fill: #4c78a8; stroke-width: 2; opacity: 0.7;\"></path><path transform=\"translate(200,148.57142857142858)\" d=\"M2.7386127875258306,0A2.7386127875258306,2.7386127875258306,0,1,1,-2.7386127875258306,0A2.7386127875258306,2.7386127875258306,0,1,1,2.7386127875258306,0\" style=\"fill: #4c78a8; stroke-width: 2; opacity: 0.7;\"></path><path transform=\"translate(200,147.14285714285714)\" d=\"M2.7386127875258306,0A2.7386127875258306,2.7386127875258306,0,1,1,-2.7386127875258306,0A2.7386127875258306,2.7386127875258306,0,1,1,2.7386127875258306,0\" style=\"fill: #4c78a8; stroke-width: 2; opacity: 0.7;\"></path><path transform=\"translate(100,125.71428571428571)\" d=\"M2.7386127875258306,0A2.7386127875258306,2.7386127875258306,0,1,1,-2.7386127875258306,0A2.7386127875258306,2.7386127875258306,0,1,1,2.7386127875258306,0\" style=\"fill: #4c78a8; stroke-width: 2; opacity: 0.7;\"></path><path transform=\"translate(75,135.71428571428572)\" d=\"M2.7386127875258306,0A2.7386127875258306,2.7386127875258306,0,1,1,-2.7386127875258306,0A2.7386127875258306,2.7386127875258306,0,1,1,2.7386127875258306,0\" style=\"fill: #4c78a8; stroke-width: 2; opacity: 0.7;\"></path><path transform=\"translate(100,124.28571428571429)\" d=\"M2.7386127875258306,0A2.7386127875258306,2.7386127875258306,0,1,1,-2.7386127875258306,0A2.7386127875258306,2.7386127875258306,0,1,1,2.7386127875258306,0\" style=\"fill: #4c78a8; stroke-width: 2; opacity: 0.7;\"></path><path transform=\"translate(175,141.42857142857142)\" d=\"M2.7386127875258306,0A2.7386127875258306,2.7386127875258306,0,1,1,-2.7386127875258306,0A2.7386127875258306,2.7386127875258306,0,1,1,2.7386127875258306,0\" style=\"fill: #4c78a8; stroke-width: 2; opacity: 0.7;\"></path><path transform=\"translate(0,122.85714285714285)\" d=\"M2.7386127875258306,0A2.7386127875258306,2.7386127875258306,0,1,1,-2.7386127875258306,0A2.7386127875258306,2.7386127875258306,0,1,1,2.7386127875258306,0\" style=\"fill: #4c78a8; stroke-width: 2; opacity: 0.7;\"></path><path transform=\"translate(0,121.42857142857143)\" d=\"M2.7386127875258306,0A2.7386127875258306,2.7386127875258306,0,1,1,-2.7386127875258306,0A2.7386127875258306,2.7386127875258306,0,1,1,2.7386127875258306,0\" style=\"fill: #4c78a8; stroke-width: 2; opacity: 0.7;\"></path><path transform=\"translate(100,122.85714285714285)\" d=\"M2.7386127875258306,0A2.7386127875258306,2.7386127875258306,0,1,1,-2.7386127875258306,0A2.7386127875258306,2.7386127875258306,0,1,1,2.7386127875258306,0\" style=\"fill: #4c78a8; stroke-width: 2; opacity: 0.7;\"></path><path transform=\"translate(175,140)\" d=\"M2.7386127875258306,0A2.7386127875258306,2.7386127875258306,0,1,1,-2.7386127875258306,0A2.7386127875258306,2.7386127875258306,0,1,1,2.7386127875258306,0\" style=\"fill: #4c78a8; stroke-width: 2; opacity: 0.7;\"></path><path transform=\"translate(50,164.28571428571428)\" d=\"M2.7386127875258306,0A2.7386127875258306,2.7386127875258306,0,1,1,-2.7386127875258306,0A2.7386127875258306,2.7386127875258306,0,1,1,2.7386127875258306,0\" style=\"fill: #4c78a8; stroke-width: 2; opacity: 0.7;\"></path><path transform=\"translate(200,145.71428571428572)\" d=\"M2.7386127875258306,0A2.7386127875258306,2.7386127875258306,0,1,1,-2.7386127875258306,0A2.7386127875258306,2.7386127875258306,0,1,1,2.7386127875258306,0\" style=\"fill: #4c78a8; stroke-width: 2; opacity: 0.7;\"></path><path transform=\"translate(100,121.42857142857143)\" d=\"M2.7386127875258306,0A2.7386127875258306,2.7386127875258306,0,1,1,-2.7386127875258306,0A2.7386127875258306,2.7386127875258306,0,1,1,2.7386127875258306,0\" style=\"fill: #4c78a8; stroke-width: 2; opacity: 0.7;\"></path><path transform=\"translate(125,147.14285714285714)\" d=\"M2.7386127875258306,0A2.7386127875258306,2.7386127875258306,0,1,1,-2.7386127875258306,0A2.7386127875258306,2.7386127875258306,0,1,1,2.7386127875258306,0\" style=\"fill: #4c78a8; stroke-width: 2; opacity: 0.7;\"></path><path transform=\"translate(150,147.14285714285714)\" d=\"M2.7386127875258306,0A2.7386127875258306,2.7386127875258306,0,1,1,-2.7386127875258306,0A2.7386127875258306,2.7386127875258306,0,1,1,2.7386127875258306,0\" style=\"fill: #4c78a8; stroke-width: 2; opacity: 0.7;\"></path><path transform=\"translate(75,134.28571428571428)\" d=\"M2.7386127875258306,0A2.7386127875258306,2.7386127875258306,0,1,1,-2.7386127875258306,0A2.7386127875258306,2.7386127875258306,0,1,1,2.7386127875258306,0\" style=\"fill: #4c78a8; stroke-width: 2; opacity: 0.7;\"></path><path transform=\"translate(0,120)\" d=\"M2.7386127875258306,0A2.7386127875258306,2.7386127875258306,0,1,1,-2.7386127875258306,0A2.7386127875258306,2.7386127875258306,0,1,1,2.7386127875258306,0\" style=\"fill: #4c78a8; stroke-width: 2; opacity: 0.7;\"></path><path transform=\"translate(175,138.57142857142856)\" d=\"M2.7386127875258306,0A2.7386127875258306,2.7386127875258306,0,1,1,-2.7386127875258306,0A2.7386127875258306,2.7386127875258306,0,1,1,2.7386127875258306,0\" style=\"fill: #4c78a8; stroke-width: 2; opacity: 0.7;\"></path><path transform=\"translate(175,137.14285714285714)\" d=\"M2.7386127875258306,0A2.7386127875258306,2.7386127875258306,0,1,1,-2.7386127875258306,0A2.7386127875258306,2.7386127875258306,0,1,1,2.7386127875258306,0\" style=\"fill: #4c78a8; stroke-width: 2; opacity: 0.7;\"></path><path transform=\"translate(25,152.85714285714286)\" d=\"M2.7386127875258306,0A2.7386127875258306,2.7386127875258306,0,1,1,-2.7386127875258306,0A2.7386127875258306,2.7386127875258306,0,1,1,2.7386127875258306,0\" style=\"fill: #4c78a8; stroke-width: 2; opacity: 0.7;\"></path><path transform=\"translate(150,145.71428571428572)\" d=\"M2.7386127875258306,0A2.7386127875258306,2.7386127875258306,0,1,1,-2.7386127875258306,0A2.7386127875258306,2.7386127875258306,0,1,1,2.7386127875258306,0\" style=\"fill: #4c78a8; stroke-width: 2; opacity: 0.7;\"></path><path transform=\"translate(100,120)\" d=\"M2.7386127875258306,0A2.7386127875258306,2.7386127875258306,0,1,1,-2.7386127875258306,0A2.7386127875258306,2.7386127875258306,0,1,1,2.7386127875258306,0\" style=\"fill: #4c78a8; stroke-width: 2; opacity: 0.7;\"></path><path transform=\"translate(175,135.71428571428572)\" d=\"M2.7386127875258306,0A2.7386127875258306,2.7386127875258306,0,1,1,-2.7386127875258306,0A2.7386127875258306,2.7386127875258306,0,1,1,2.7386127875258306,0\" style=\"fill: #4c78a8; stroke-width: 2; opacity: 0.7;\"></path><path transform=\"translate(75,132.85714285714286)\" d=\"M2.7386127875258306,0A2.7386127875258306,2.7386127875258306,0,1,1,-2.7386127875258306,0A2.7386127875258306,2.7386127875258306,0,1,1,2.7386127875258306,0\" style=\"fill: #4c78a8; stroke-width: 2; opacity: 0.7;\"></path><path transform=\"translate(125,145.71428571428572)\" d=\"M2.7386127875258306,0A2.7386127875258306,2.7386127875258306,0,1,1,-2.7386127875258306,0A2.7386127875258306,2.7386127875258306,0,1,1,2.7386127875258306,0\" style=\"fill: #4c78a8; stroke-width: 2; opacity: 0.7;\"></path><path transform=\"translate(100,118.57142857142857)\" d=\"M2.7386127875258306,0A2.7386127875258306,2.7386127875258306,0,1,1,-2.7386127875258306,0A2.7386127875258306,2.7386127875258306,0,1,1,2.7386127875258306,0\" style=\"fill: #4c78a8; stroke-width: 2; opacity: 0.7;\"></path><path transform=\"translate(75,131.42857142857144)\" d=\"M2.7386127875258306,0A2.7386127875258306,2.7386127875258306,0,1,1,-2.7386127875258306,0A2.7386127875258306,2.7386127875258306,0,1,1,2.7386127875258306,0\" style=\"fill: #4c78a8; stroke-width: 2; opacity: 0.7;\"></path><path transform=\"translate(150,144.28571428571428)\" d=\"M2.7386127875258306,0A2.7386127875258306,2.7386127875258306,0,1,1,-2.7386127875258306,0A2.7386127875258306,2.7386127875258306,0,1,1,2.7386127875258306,0\" style=\"fill: #4c78a8; stroke-width: 2; opacity: 0.7;\"></path><path transform=\"translate(75,130)\" d=\"M2.7386127875258306,0A2.7386127875258306,2.7386127875258306,0,1,1,-2.7386127875258306,0A2.7386127875258306,2.7386127875258306,0,1,1,2.7386127875258306,0\" style=\"fill: #4c78a8; stroke-width: 2; opacity: 0.7;\"></path><path transform=\"translate(50,162.85714285714286)\" d=\"M2.7386127875258306,0A2.7386127875258306,2.7386127875258306,0,1,1,-2.7386127875258306,0A2.7386127875258306,2.7386127875258306,0,1,1,2.7386127875258306,0\" style=\"fill: #4c78a8; stroke-width: 2; opacity: 0.7;\"></path><path transform=\"translate(0,118.57142857142857)\" d=\"M2.7386127875258306,0A2.7386127875258306,2.7386127875258306,0,1,1,-2.7386127875258306,0A2.7386127875258306,2.7386127875258306,0,1,1,2.7386127875258306,0\" style=\"fill: #4c78a8; stroke-width: 2; opacity: 0.7;\"></path><path transform=\"translate(75,128.57142857142856)\" d=\"M2.7386127875258306,0A2.7386127875258306,2.7386127875258306,0,1,1,-2.7386127875258306,0A2.7386127875258306,2.7386127875258306,0,1,1,2.7386127875258306,0\" style=\"fill: #4c78a8; stroke-width: 2; opacity: 0.7;\"></path><path transform=\"translate(150,142.85714285714286)\" d=\"M2.7386127875258306,0A2.7386127875258306,2.7386127875258306,0,1,1,-2.7386127875258306,0A2.7386127875258306,2.7386127875258306,0,1,1,2.7386127875258306,0\" style=\"fill: #4c78a8; stroke-width: 2; opacity: 0.7;\"></path><path transform=\"translate(100,117.14285714285714)\" d=\"M2.7386127875258306,0A2.7386127875258306,2.7386127875258306,0,1,1,-2.7386127875258306,0A2.7386127875258306,2.7386127875258306,0,1,1,2.7386127875258306,0\" style=\"fill: #4c78a8; stroke-width: 2; opacity: 0.7;\"></path><path transform=\"translate(175,134.28571428571428)\" d=\"M2.7386127875258306,0A2.7386127875258306,2.7386127875258306,0,1,1,-2.7386127875258306,0A2.7386127875258306,2.7386127875258306,0,1,1,2.7386127875258306,0\" style=\"fill: #4c78a8; stroke-width: 2; opacity: 0.7;\"></path><path transform=\"translate(75,127.14285714285715)\" d=\"M2.7386127875258306,0A2.7386127875258306,2.7386127875258306,0,1,1,-2.7386127875258306,0A2.7386127875258306,2.7386127875258306,0,1,1,2.7386127875258306,0\" style=\"fill: #4c78a8; stroke-width: 2; opacity: 0.7;\"></path><path transform=\"translate(50,161.42857142857142)\" d=\"M2.7386127875258306,0A2.7386127875258306,2.7386127875258306,0,1,1,-2.7386127875258306,0A2.7386127875258306,2.7386127875258306,0,1,1,2.7386127875258306,0\" style=\"fill: #4c78a8; stroke-width: 2; opacity: 0.7;\"></path><path transform=\"translate(150,141.42857142857142)\" d=\"M2.7386127875258306,0A2.7386127875258306,2.7386127875258306,0,1,1,-2.7386127875258306,0A2.7386127875258306,2.7386127875258306,0,1,1,2.7386127875258306,0\" style=\"fill: #4c78a8; stroke-width: 2; opacity: 0.7;\"></path><path transform=\"translate(0,117.14285714285714)\" d=\"M2.7386127875258306,0A2.7386127875258306,2.7386127875258306,0,1,1,-2.7386127875258306,0A2.7386127875258306,2.7386127875258306,0,1,1,2.7386127875258306,0\" style=\"fill: #4c78a8; stroke-width: 2; opacity: 0.7;\"></path><path transform=\"translate(200,144.28571428571428)\" d=\"M2.7386127875258306,0A2.7386127875258306,2.7386127875258306,0,1,1,-2.7386127875258306,0A2.7386127875258306,2.7386127875258306,0,1,1,2.7386127875258306,0\" style=\"fill: #4c78a8; stroke-width: 2; opacity: 0.7;\"></path><path transform=\"translate(125,144.28571428571428)\" d=\"M2.7386127875258306,0A2.7386127875258306,2.7386127875258306,0,1,1,-2.7386127875258306,0A2.7386127875258306,2.7386127875258306,0,1,1,2.7386127875258306,0\" style=\"fill: #4c78a8; stroke-width: 2; opacity: 0.7;\"></path><path transform=\"translate(200,142.85714285714286)\" d=\"M2.7386127875258306,0A2.7386127875258306,2.7386127875258306,0,1,1,-2.7386127875258306,0A2.7386127875258306,2.7386127875258306,0,1,1,2.7386127875258306,0\" style=\"fill: #4c78a8; stroke-width: 2; opacity: 0.7;\"></path><path transform=\"translate(175,132.85714285714286)\" d=\"M2.7386127875258306,0A2.7386127875258306,2.7386127875258306,0,1,1,-2.7386127875258306,0A2.7386127875258306,2.7386127875258306,0,1,1,2.7386127875258306,0\" style=\"fill: #4c78a8; stroke-width: 2; opacity: 0.7;\"></path><path transform=\"translate(50,160)\" d=\"M2.7386127875258306,0A2.7386127875258306,2.7386127875258306,0,1,1,-2.7386127875258306,0A2.7386127875258306,2.7386127875258306,0,1,1,2.7386127875258306,0\" style=\"fill: #4c78a8; stroke-width: 2; opacity: 0.7;\"></path><path transform=\"translate(200,141.42857142857142)\" d=\"M2.7386127875258306,0A2.7386127875258306,2.7386127875258306,0,1,1,-2.7386127875258306,0A2.7386127875258306,2.7386127875258306,0,1,1,2.7386127875258306,0\" style=\"fill: #4c78a8; stroke-width: 2; opacity: 0.7;\"></path><path transform=\"translate(150,140)\" d=\"M2.7386127875258306,0A2.7386127875258306,2.7386127875258306,0,1,1,-2.7386127875258306,0A2.7386127875258306,2.7386127875258306,0,1,1,2.7386127875258306,0\" style=\"fill: #4c78a8; stroke-width: 2; opacity: 0.7;\"></path><path transform=\"translate(50,158.57142857142856)\" d=\"M2.7386127875258306,0A2.7386127875258306,2.7386127875258306,0,1,1,-2.7386127875258306,0A2.7386127875258306,2.7386127875258306,0,1,1,2.7386127875258306,0\" style=\"fill: #4c78a8; stroke-width: 2; opacity: 0.7;\"></path><path transform=\"translate(0,115.71428571428571)\" d=\"M2.7386127875258306,0A2.7386127875258306,2.7386127875258306,0,1,1,-2.7386127875258306,0A2.7386127875258306,2.7386127875258306,0,1,1,2.7386127875258306,0\" style=\"fill: #4c78a8; stroke-width: 2; opacity: 0.7;\"></path><path transform=\"translate(100,115.71428571428571)\" d=\"M2.7386127875258306,0A2.7386127875258306,2.7386127875258306,0,1,1,-2.7386127875258306,0A2.7386127875258306,2.7386127875258306,0,1,1,2.7386127875258306,0\" style=\"fill: #4c78a8; stroke-width: 2; opacity: 0.7;\"></path><path transform=\"translate(125,142.85714285714286)\" d=\"M2.7386127875258306,0A2.7386127875258306,2.7386127875258306,0,1,1,-2.7386127875258306,0A2.7386127875258306,2.7386127875258306,0,1,1,2.7386127875258306,0\" style=\"fill: #4c78a8; stroke-width: 2; opacity: 0.7;\"></path><path transform=\"translate(0,114.28571428571429)\" d=\"M2.7386127875258306,0A2.7386127875258306,2.7386127875258306,0,1,1,-2.7386127875258306,0A2.7386127875258306,2.7386127875258306,0,1,1,2.7386127875258306,0\" style=\"fill: #4c78a8; stroke-width: 2; opacity: 0.7;\"></path><path transform=\"translate(75,125.71428571428571)\" d=\"M2.7386127875258306,0A2.7386127875258306,2.7386127875258306,0,1,1,-2.7386127875258306,0A2.7386127875258306,2.7386127875258306,0,1,1,2.7386127875258306,0\" style=\"fill: #4c78a8; stroke-width: 2; opacity: 0.7;\"></path><path transform=\"translate(50,157.14285714285714)\" d=\"M2.7386127875258306,0A2.7386127875258306,2.7386127875258306,0,1,1,-2.7386127875258306,0A2.7386127875258306,2.7386127875258306,0,1,1,2.7386127875258306,0\" style=\"fill: #4c78a8; stroke-width: 2; opacity: 0.7;\"></path><path transform=\"translate(125,141.42857142857142)\" d=\"M2.7386127875258306,0A2.7386127875258306,2.7386127875258306,0,1,1,-2.7386127875258306,0A2.7386127875258306,2.7386127875258306,0,1,1,2.7386127875258306,0\" style=\"fill: #4c78a8; stroke-width: 2; opacity: 0.7;\"></path><path transform=\"translate(100,114.28571428571429)\" d=\"M2.7386127875258306,0A2.7386127875258306,2.7386127875258306,0,1,1,-2.7386127875258306,0A2.7386127875258306,2.7386127875258306,0,1,1,2.7386127875258306,0\" style=\"fill: #4c78a8; stroke-width: 2; opacity: 0.7;\"></path><path transform=\"translate(175,131.42857142857144)\" d=\"M2.7386127875258306,0A2.7386127875258306,2.7386127875258306,0,1,1,-2.7386127875258306,0A2.7386127875258306,2.7386127875258306,0,1,1,2.7386127875258306,0\" style=\"fill: #4c78a8; stroke-width: 2; opacity: 0.7;\"></path><path transform=\"translate(125,140)\" d=\"M2.7386127875258306,0A2.7386127875258306,2.7386127875258306,0,1,1,-2.7386127875258306,0A2.7386127875258306,2.7386127875258306,0,1,1,2.7386127875258306,0\" style=\"fill: #4c78a8; stroke-width: 2; opacity: 0.7;\"></path><path transform=\"translate(50,155.71428571428572)\" d=\"M2.7386127875258306,0A2.7386127875258306,2.7386127875258306,0,1,1,-2.7386127875258306,0A2.7386127875258306,2.7386127875258306,0,1,1,2.7386127875258306,0\" style=\"fill: #4c78a8; stroke-width: 2; opacity: 0.7;\"></path><path transform=\"translate(75,124.28571428571429)\" d=\"M2.7386127875258306,0A2.7386127875258306,2.7386127875258306,0,1,1,-2.7386127875258306,0A2.7386127875258306,2.7386127875258306,0,1,1,2.7386127875258306,0\" style=\"fill: #4c78a8; stroke-width: 2; opacity: 0.7;\"></path><path transform=\"translate(25,151.42857142857144)\" d=\"M2.7386127875258306,0A2.7386127875258306,2.7386127875258306,0,1,1,-2.7386127875258306,0A2.7386127875258306,2.7386127875258306,0,1,1,2.7386127875258306,0\" style=\"fill: #4c78a8; stroke-width: 2; opacity: 0.7;\"></path><path transform=\"translate(125,138.57142857142856)\" d=\"M2.7386127875258306,0A2.7386127875258306,2.7386127875258306,0,1,1,-2.7386127875258306,0A2.7386127875258306,2.7386127875258306,0,1,1,2.7386127875258306,0\" style=\"fill: #4c78a8; stroke-width: 2; opacity: 0.7;\"></path><path transform=\"translate(100,112.85714285714286)\" d=\"M2.7386127875258306,0A2.7386127875258306,2.7386127875258306,0,1,1,-2.7386127875258306,0A2.7386127875258306,2.7386127875258306,0,1,1,2.7386127875258306,0\" style=\"fill: #4c78a8; stroke-width: 2; opacity: 0.7;\"></path><path transform=\"translate(175,130)\" d=\"M2.7386127875258306,0A2.7386127875258306,2.7386127875258306,0,1,1,-2.7386127875258306,0A2.7386127875258306,2.7386127875258306,0,1,1,2.7386127875258306,0\" style=\"fill: #4c78a8; stroke-width: 2; opacity: 0.7;\"></path><path transform=\"translate(0,112.85714285714286)\" d=\"M2.7386127875258306,0A2.7386127875258306,2.7386127875258306,0,1,1,-2.7386127875258306,0A2.7386127875258306,2.7386127875258306,0,1,1,2.7386127875258306,0\" style=\"fill: #4c78a8; stroke-width: 2; opacity: 0.7;\"></path><path transform=\"translate(125,137.14285714285714)\" d=\"M2.7386127875258306,0A2.7386127875258306,2.7386127875258306,0,1,1,-2.7386127875258306,0A2.7386127875258306,2.7386127875258306,0,1,1,2.7386127875258306,0\" style=\"fill: #4c78a8; stroke-width: 2; opacity: 0.7;\"></path><path transform=\"translate(200,140)\" d=\"M2.7386127875258306,0A2.7386127875258306,2.7386127875258306,0,1,1,-2.7386127875258306,0A2.7386127875258306,2.7386127875258306,0,1,1,2.7386127875258306,0\" style=\"fill: #4c78a8; stroke-width: 2; opacity: 0.7;\"></path><path transform=\"translate(0,111.42857142857143)\" d=\"M2.7386127875258306,0A2.7386127875258306,2.7386127875258306,0,1,1,-2.7386127875258306,0A2.7386127875258306,2.7386127875258306,0,1,1,2.7386127875258306,0\" style=\"fill: #4c78a8; stroke-width: 2; opacity: 0.7;\"></path><path transform=\"translate(100,111.42857142857143)\" d=\"M2.7386127875258306,0A2.7386127875258306,2.7386127875258306,0,1,1,-2.7386127875258306,0A2.7386127875258306,2.7386127875258306,0,1,1,2.7386127875258306,0\" style=\"fill: #4c78a8; stroke-width: 2; opacity: 0.7;\"></path><path transform=\"translate(100,110)\" d=\"M2.7386127875258306,0A2.7386127875258306,2.7386127875258306,0,1,1,-2.7386127875258306,0A2.7386127875258306,2.7386127875258306,0,1,1,2.7386127875258306,0\" style=\"fill: #4c78a8; stroke-width: 2; opacity: 0.7;\"></path><path transform=\"translate(50,154.28571428571428)\" d=\"M2.7386127875258306,0A2.7386127875258306,2.7386127875258306,0,1,1,-2.7386127875258306,0A2.7386127875258306,2.7386127875258306,0,1,1,2.7386127875258306,0\" style=\"fill: #4c78a8; stroke-width: 2; opacity: 0.7;\"></path><path transform=\"translate(150,138.57142857142856)\" d=\"M2.7386127875258306,0A2.7386127875258306,2.7386127875258306,0,1,1,-2.7386127875258306,0A2.7386127875258306,2.7386127875258306,0,1,1,2.7386127875258306,0\" style=\"fill: #4c78a8; stroke-width: 2; opacity: 0.7;\"></path><path transform=\"translate(75,122.85714285714285)\" d=\"M2.7386127875258306,0A2.7386127875258306,2.7386127875258306,0,1,1,-2.7386127875258306,0A2.7386127875258306,2.7386127875258306,0,1,1,2.7386127875258306,0\" style=\"fill: #4c78a8; stroke-width: 2; opacity: 0.7;\"></path><path transform=\"translate(175,128.57142857142856)\" d=\"M2.7386127875258306,0A2.7386127875258306,2.7386127875258306,0,1,1,-2.7386127875258306,0A2.7386127875258306,2.7386127875258306,0,1,1,2.7386127875258306,0\" style=\"fill: #4c78a8; stroke-width: 2; opacity: 0.7;\"></path><path transform=\"translate(200,138.57142857142856)\" d=\"M2.7386127875258306,0A2.7386127875258306,2.7386127875258306,0,1,1,-2.7386127875258306,0A2.7386127875258306,2.7386127875258306,0,1,1,2.7386127875258306,0\" style=\"fill: #4c78a8; stroke-width: 2; opacity: 0.7;\"></path><path transform=\"translate(50,152.85714285714286)\" d=\"M2.7386127875258306,0A2.7386127875258306,2.7386127875258306,0,1,1,-2.7386127875258306,0A2.7386127875258306,2.7386127875258306,0,1,1,2.7386127875258306,0\" style=\"fill: #4c78a8; stroke-width: 2; opacity: 0.7;\"></path><path transform=\"translate(125,135.71428571428572)\" d=\"M2.7386127875258306,0A2.7386127875258306,2.7386127875258306,0,1,1,-2.7386127875258306,0A2.7386127875258306,2.7386127875258306,0,1,1,2.7386127875258306,0\" style=\"fill: #4c78a8; stroke-width: 2; opacity: 0.7;\"></path><path transform=\"translate(25,150)\" d=\"M2.7386127875258306,0A2.7386127875258306,2.7386127875258306,0,1,1,-2.7386127875258306,0A2.7386127875258306,2.7386127875258306,0,1,1,2.7386127875258306,0\" style=\"fill: #4c78a8; stroke-width: 2; opacity: 0.7;\"></path><path transform=\"translate(125,134.28571428571428)\" d=\"M2.7386127875258306,0A2.7386127875258306,2.7386127875258306,0,1,1,-2.7386127875258306,0A2.7386127875258306,2.7386127875258306,0,1,1,2.7386127875258306,0\" style=\"fill: #4c78a8; stroke-width: 2; opacity: 0.7;\"></path><path transform=\"translate(175,127.14285714285715)\" d=\"M2.7386127875258306,0A2.7386127875258306,2.7386127875258306,0,1,1,-2.7386127875258306,0A2.7386127875258306,2.7386127875258306,0,1,1,2.7386127875258306,0\" style=\"fill: #4c78a8; stroke-width: 2; opacity: 0.7;\"></path><path transform=\"translate(50,151.42857142857144)\" d=\"M2.7386127875258306,0A2.7386127875258306,2.7386127875258306,0,1,1,-2.7386127875258306,0A2.7386127875258306,2.7386127875258306,0,1,1,2.7386127875258306,0\" style=\"fill: #4c78a8; stroke-width: 2; opacity: 0.7;\"></path><path transform=\"translate(25,148.57142857142858)\" d=\"M2.7386127875258306,0A2.7386127875258306,2.7386127875258306,0,1,1,-2.7386127875258306,0A2.7386127875258306,2.7386127875258306,0,1,1,2.7386127875258306,0\" style=\"fill: #4c78a8; stroke-width: 2; opacity: 0.7;\"></path><path transform=\"translate(25,147.14285714285714)\" d=\"M2.7386127875258306,0A2.7386127875258306,2.7386127875258306,0,1,1,-2.7386127875258306,0A2.7386127875258306,2.7386127875258306,0,1,1,2.7386127875258306,0\" style=\"fill: #4c78a8; stroke-width: 2; opacity: 0.7;\"></path><path transform=\"translate(50,150)\" d=\"M2.7386127875258306,0A2.7386127875258306,2.7386127875258306,0,1,1,-2.7386127875258306,0A2.7386127875258306,2.7386127875258306,0,1,1,2.7386127875258306,0\" style=\"fill: #4c78a8; stroke-width: 2; opacity: 0.7;\"></path><path transform=\"translate(125,132.85714285714286)\" d=\"M2.7386127875258306,0A2.7386127875258306,2.7386127875258306,0,1,1,-2.7386127875258306,0A2.7386127875258306,2.7386127875258306,0,1,1,2.7386127875258306,0\" style=\"fill: #4c78a8; stroke-width: 2; opacity: 0.7;\"></path><path transform=\"translate(100,108.57142857142857)\" d=\"M2.7386127875258306,0A2.7386127875258306,2.7386127875258306,0,1,1,-2.7386127875258306,0A2.7386127875258306,2.7386127875258306,0,1,1,2.7386127875258306,0\" style=\"fill: #4c78a8; stroke-width: 2; opacity: 0.7;\"></path><path transform=\"translate(0,110)\" d=\"M2.7386127875258306,0A2.7386127875258306,2.7386127875258306,0,1,1,-2.7386127875258306,0A2.7386127875258306,2.7386127875258306,0,1,1,2.7386127875258306,0\" style=\"fill: #4c78a8; stroke-width: 2; opacity: 0.7;\"></path><path transform=\"translate(75,121.42857142857143)\" d=\"M2.7386127875258306,0A2.7386127875258306,2.7386127875258306,0,1,1,-2.7386127875258306,0A2.7386127875258306,2.7386127875258306,0,1,1,2.7386127875258306,0\" style=\"fill: #4c78a8; stroke-width: 2; opacity: 0.7;\"></path><path transform=\"translate(125,131.42857142857144)\" d=\"M2.7386127875258306,0A2.7386127875258306,2.7386127875258306,0,1,1,-2.7386127875258306,0A2.7386127875258306,2.7386127875258306,0,1,1,2.7386127875258306,0\" style=\"fill: #4c78a8; stroke-width: 2; opacity: 0.7;\"></path><path transform=\"translate(75,120)\" d=\"M2.7386127875258306,0A2.7386127875258306,2.7386127875258306,0,1,1,-2.7386127875258306,0A2.7386127875258306,2.7386127875258306,0,1,1,2.7386127875258306,0\" style=\"fill: #4c78a8; stroke-width: 2; opacity: 0.7;\"></path><path transform=\"translate(175,125.71428571428571)\" d=\"M2.7386127875258306,0A2.7386127875258306,2.7386127875258306,0,1,1,-2.7386127875258306,0A2.7386127875258306,2.7386127875258306,0,1,1,2.7386127875258306,0\" style=\"fill: #4c78a8; stroke-width: 2; opacity: 0.7;\"></path><path transform=\"translate(125,130)\" d=\"M2.7386127875258306,0A2.7386127875258306,2.7386127875258306,0,1,1,-2.7386127875258306,0A2.7386127875258306,2.7386127875258306,0,1,1,2.7386127875258306,0\" style=\"fill: #4c78a8; stroke-width: 2; opacity: 0.7;\"></path><path transform=\"translate(0,108.57142857142857)\" d=\"M2.7386127875258306,0A2.7386127875258306,2.7386127875258306,0,1,1,-2.7386127875258306,0A2.7386127875258306,2.7386127875258306,0,1,1,2.7386127875258306,0\" style=\"fill: #4c78a8; stroke-width: 2; opacity: 0.7;\"></path><path transform=\"translate(175,124.28571428571429)\" d=\"M2.7386127875258306,0A2.7386127875258306,2.7386127875258306,0,1,1,-2.7386127875258306,0A2.7386127875258306,2.7386127875258306,0,1,1,2.7386127875258306,0\" style=\"fill: #4c78a8; stroke-width: 2; opacity: 0.7;\"></path><path transform=\"translate(200,137.14285714285714)\" d=\"M2.7386127875258306,0A2.7386127875258306,2.7386127875258306,0,1,1,-2.7386127875258306,0A2.7386127875258306,2.7386127875258306,0,1,1,2.7386127875258306,0\" style=\"fill: #4c78a8; stroke-width: 2; opacity: 0.7;\"></path><path transform=\"translate(75,118.57142857142857)\" d=\"M2.7386127875258306,0A2.7386127875258306,2.7386127875258306,0,1,1,-2.7386127875258306,0A2.7386127875258306,2.7386127875258306,0,1,1,2.7386127875258306,0\" style=\"fill: #4c78a8; stroke-width: 2; opacity: 0.7;\"></path><path transform=\"translate(0,107.14285714285714)\" d=\"M2.7386127875258306,0A2.7386127875258306,2.7386127875258306,0,1,1,-2.7386127875258306,0A2.7386127875258306,2.7386127875258306,0,1,1,2.7386127875258306,0\" style=\"fill: #4c78a8; stroke-width: 2; opacity: 0.7;\"></path><path transform=\"translate(125,128.57142857142856)\" d=\"M2.7386127875258306,0A2.7386127875258306,2.7386127875258306,0,1,1,-2.7386127875258306,0A2.7386127875258306,2.7386127875258306,0,1,1,2.7386127875258306,0\" style=\"fill: #4c78a8; stroke-width: 2; opacity: 0.7;\"></path><path transform=\"translate(0,105.71428571428572)\" d=\"M2.7386127875258306,0A2.7386127875258306,2.7386127875258306,0,1,1,-2.7386127875258306,0A2.7386127875258306,2.7386127875258306,0,1,1,2.7386127875258306,0\" style=\"fill: #4c78a8; stroke-width: 2; opacity: 0.7;\"></path><path transform=\"translate(175,122.85714285714285)\" d=\"M2.7386127875258306,0A2.7386127875258306,2.7386127875258306,0,1,1,-2.7386127875258306,0A2.7386127875258306,2.7386127875258306,0,1,1,2.7386127875258306,0\" style=\"fill: #4c78a8; stroke-width: 2; opacity: 0.7;\"></path><path transform=\"translate(0,104.28571428571428)\" d=\"M2.7386127875258306,0A2.7386127875258306,2.7386127875258306,0,1,1,-2.7386127875258306,0A2.7386127875258306,2.7386127875258306,0,1,1,2.7386127875258306,0\" style=\"fill: #4c78a8; stroke-width: 2; opacity: 0.7;\"></path><path transform=\"translate(125,127.14285714285715)\" d=\"M2.7386127875258306,0A2.7386127875258306,2.7386127875258306,0,1,1,-2.7386127875258306,0A2.7386127875258306,2.7386127875258306,0,1,1,2.7386127875258306,0\" style=\"fill: #4c78a8; stroke-width: 2; opacity: 0.7;\"></path><path transform=\"translate(150,137.14285714285714)\" d=\"M2.7386127875258306,0A2.7386127875258306,2.7386127875258306,0,1,1,-2.7386127875258306,0A2.7386127875258306,2.7386127875258306,0,1,1,2.7386127875258306,0\" style=\"fill: #4c78a8; stroke-width: 2; opacity: 0.7;\"></path><path transform=\"translate(125,125.71428571428571)\" d=\"M2.7386127875258306,0A2.7386127875258306,2.7386127875258306,0,1,1,-2.7386127875258306,0A2.7386127875258306,2.7386127875258306,0,1,1,2.7386127875258306,0\" style=\"fill: #4c78a8; stroke-width: 2; opacity: 0.7;\"></path><path transform=\"translate(150,135.71428571428572)\" d=\"M2.7386127875258306,0A2.7386127875258306,2.7386127875258306,0,1,1,-2.7386127875258306,0A2.7386127875258306,2.7386127875258306,0,1,1,2.7386127875258306,0\" style=\"fill: #4c78a8; stroke-width: 2; opacity: 0.7;\"></path><path transform=\"translate(125,124.28571428571429)\" d=\"M2.7386127875258306,0A2.7386127875258306,2.7386127875258306,0,1,1,-2.7386127875258306,0A2.7386127875258306,2.7386127875258306,0,1,1,2.7386127875258306,0\" style=\"fill: #4c78a8; stroke-width: 2; opacity: 0.7;\"></path><path transform=\"translate(200,135.71428571428572)\" d=\"M2.7386127875258306,0A2.7386127875258306,2.7386127875258306,0,1,1,-2.7386127875258306,0A2.7386127875258306,2.7386127875258306,0,1,1,2.7386127875258306,0\" style=\"fill: #4c78a8; stroke-width: 2; opacity: 0.7;\"></path><path transform=\"translate(50,148.57142857142858)\" d=\"M2.7386127875258306,0A2.7386127875258306,2.7386127875258306,0,1,1,-2.7386127875258306,0A2.7386127875258306,2.7386127875258306,0,1,1,2.7386127875258306,0\" style=\"fill: #4c78a8; stroke-width: 2; opacity: 0.7;\"></path><path transform=\"translate(25,145.71428571428572)\" d=\"M2.7386127875258306,0A2.7386127875258306,2.7386127875258306,0,1,1,-2.7386127875258306,0A2.7386127875258306,2.7386127875258306,0,1,1,2.7386127875258306,0\" style=\"fill: #4c78a8; stroke-width: 2; opacity: 0.7;\"></path><path transform=\"translate(150,134.28571428571428)\" d=\"M2.7386127875258306,0A2.7386127875258306,2.7386127875258306,0,1,1,-2.7386127875258306,0A2.7386127875258306,2.7386127875258306,0,1,1,2.7386127875258306,0\" style=\"fill: #4c78a8; stroke-width: 2; opacity: 0.7;\"></path><path transform=\"translate(200,134.28571428571428)\" d=\"M2.7386127875258306,0A2.7386127875258306,2.7386127875258306,0,1,1,-2.7386127875258306,0A2.7386127875258306,2.7386127875258306,0,1,1,2.7386127875258306,0\" style=\"fill: #4c78a8; stroke-width: 2; opacity: 0.7;\"></path><path transform=\"translate(0,102.85714285714286)\" d=\"M2.7386127875258306,0A2.7386127875258306,2.7386127875258306,0,1,1,-2.7386127875258306,0A2.7386127875258306,2.7386127875258306,0,1,1,2.7386127875258306,0\" style=\"fill: #4c78a8; stroke-width: 2; opacity: 0.7;\"></path><path transform=\"translate(50,147.14285714285714)\" d=\"M2.7386127875258306,0A2.7386127875258306,2.7386127875258306,0,1,1,-2.7386127875258306,0A2.7386127875258306,2.7386127875258306,0,1,1,2.7386127875258306,0\" style=\"fill: #4c78a8; stroke-width: 2; opacity: 0.7;\"></path><path transform=\"translate(0,101.42857142857142)\" d=\"M2.7386127875258306,0A2.7386127875258306,2.7386127875258306,0,1,1,-2.7386127875258306,0A2.7386127875258306,2.7386127875258306,0,1,1,2.7386127875258306,0\" style=\"fill: #4c78a8; stroke-width: 2; opacity: 0.7;\"></path><path transform=\"translate(100,107.14285714285714)\" d=\"M2.7386127875258306,0A2.7386127875258306,2.7386127875258306,0,1,1,-2.7386127875258306,0A2.7386127875258306,2.7386127875258306,0,1,1,2.7386127875258306,0\" style=\"fill: #4c78a8; stroke-width: 2; opacity: 0.7;\"></path><path transform=\"translate(75,117.14285714285714)\" d=\"M2.7386127875258306,0A2.7386127875258306,2.7386127875258306,0,1,1,-2.7386127875258306,0A2.7386127875258306,2.7386127875258306,0,1,1,2.7386127875258306,0\" style=\"fill: #4c78a8; stroke-width: 2; opacity: 0.7;\"></path><path transform=\"translate(100,105.71428571428572)\" d=\"M2.7386127875258306,0A2.7386127875258306,2.7386127875258306,0,1,1,-2.7386127875258306,0A2.7386127875258306,2.7386127875258306,0,1,1,2.7386127875258306,0\" style=\"fill: #4c78a8; stroke-width: 2; opacity: 0.7;\"></path><path transform=\"translate(100,104.28571428571428)\" d=\"M2.7386127875258306,0A2.7386127875258306,2.7386127875258306,0,1,1,-2.7386127875258306,0A2.7386127875258306,2.7386127875258306,0,1,1,2.7386127875258306,0\" style=\"fill: #4c78a8; stroke-width: 2; opacity: 0.7;\"></path><path transform=\"translate(50,145.71428571428572)\" d=\"M2.7386127875258306,0A2.7386127875258306,2.7386127875258306,0,1,1,-2.7386127875258306,0A2.7386127875258306,2.7386127875258306,0,1,1,2.7386127875258306,0\" style=\"fill: #4c78a8; stroke-width: 2; opacity: 0.7;\"></path><path transform=\"translate(50,144.28571428571428)\" d=\"M2.7386127875258306,0A2.7386127875258306,2.7386127875258306,0,1,1,-2.7386127875258306,0A2.7386127875258306,2.7386127875258306,0,1,1,2.7386127875258306,0\" style=\"fill: #4c78a8; stroke-width: 2; opacity: 0.7;\"></path><path transform=\"translate(150,132.85714285714286)\" d=\"M2.7386127875258306,0A2.7386127875258306,2.7386127875258306,0,1,1,-2.7386127875258306,0A2.7386127875258306,2.7386127875258306,0,1,1,2.7386127875258306,0\" style=\"fill: #4c78a8; stroke-width: 2; opacity: 0.7;\"></path><path transform=\"translate(50,142.85714285714286)\" d=\"M2.7386127875258306,0A2.7386127875258306,2.7386127875258306,0,1,1,-2.7386127875258306,0A2.7386127875258306,2.7386127875258306,0,1,1,2.7386127875258306,0\" style=\"fill: #4c78a8; stroke-width: 2; opacity: 0.7;\"></path><path transform=\"translate(175,121.42857142857143)\" d=\"M2.7386127875258306,0A2.7386127875258306,2.7386127875258306,0,1,1,-2.7386127875258306,0A2.7386127875258306,2.7386127875258306,0,1,1,2.7386127875258306,0\" style=\"fill: #4c78a8; stroke-width: 2; opacity: 0.7;\"></path><path transform=\"translate(75,115.71428571428571)\" d=\"M2.7386127875258306,0A2.7386127875258306,2.7386127875258306,0,1,1,-2.7386127875258306,0A2.7386127875258306,2.7386127875258306,0,1,1,2.7386127875258306,0\" style=\"fill: #4c78a8; stroke-width: 2; opacity: 0.7;\"></path><path transform=\"translate(200,132.85714285714286)\" d=\"M2.7386127875258306,0A2.7386127875258306,2.7386127875258306,0,1,1,-2.7386127875258306,0A2.7386127875258306,2.7386127875258306,0,1,1,2.7386127875258306,0\" style=\"fill: #4c78a8; stroke-width: 2; opacity: 0.7;\"></path><path transform=\"translate(50,141.42857142857142)\" d=\"M2.7386127875258306,0A2.7386127875258306,2.7386127875258306,0,1,1,-2.7386127875258306,0A2.7386127875258306,2.7386127875258306,0,1,1,2.7386127875258306,0\" style=\"fill: #4c78a8; stroke-width: 2; opacity: 0.7;\"></path><path transform=\"translate(25,144.28571428571428)\" d=\"M2.7386127875258306,0A2.7386127875258306,2.7386127875258306,0,1,1,-2.7386127875258306,0A2.7386127875258306,2.7386127875258306,0,1,1,2.7386127875258306,0\" style=\"fill: #4c78a8; stroke-width: 2; opacity: 0.7;\"></path><path transform=\"translate(50,140)\" d=\"M2.7386127875258306,0A2.7386127875258306,2.7386127875258306,0,1,1,-2.7386127875258306,0A2.7386127875258306,2.7386127875258306,0,1,1,2.7386127875258306,0\" style=\"fill: #4c78a8; stroke-width: 2; opacity: 0.7;\"></path><path transform=\"translate(125,122.85714285714285)\" d=\"M2.7386127875258306,0A2.7386127875258306,2.7386127875258306,0,1,1,-2.7386127875258306,0A2.7386127875258306,2.7386127875258306,0,1,1,2.7386127875258306,0\" style=\"fill: #4c78a8; stroke-width: 2; opacity: 0.7;\"></path><path transform=\"translate(0,100)\" d=\"M2.7386127875258306,0A2.7386127875258306,2.7386127875258306,0,1,1,-2.7386127875258306,0A2.7386127875258306,2.7386127875258306,0,1,1,2.7386127875258306,0\" style=\"fill: #4c78a8; stroke-width: 2; opacity: 0.7;\"></path><path transform=\"translate(100,102.85714285714286)\" d=\"M2.7386127875258306,0A2.7386127875258306,2.7386127875258306,0,1,1,-2.7386127875258306,0A2.7386127875258306,2.7386127875258306,0,1,1,2.7386127875258306,0\" style=\"fill: #4c78a8; stroke-width: 2; opacity: 0.7;\"></path><path transform=\"translate(175,120)\" d=\"M2.7386127875258306,0A2.7386127875258306,2.7386127875258306,0,1,1,-2.7386127875258306,0A2.7386127875258306,2.7386127875258306,0,1,1,2.7386127875258306,0\" style=\"fill: #4c78a8; stroke-width: 2; opacity: 0.7;\"></path><path transform=\"translate(0,98.57142857142858)\" d=\"M2.7386127875258306,0A2.7386127875258306,2.7386127875258306,0,1,1,-2.7386127875258306,0A2.7386127875258306,2.7386127875258306,0,1,1,2.7386127875258306,0\" style=\"fill: #4c78a8; stroke-width: 2; opacity: 0.7;\"></path><path transform=\"translate(0,97.14285714285715)\" d=\"M2.7386127875258306,0A2.7386127875258306,2.7386127875258306,0,1,1,-2.7386127875258306,0A2.7386127875258306,2.7386127875258306,0,1,1,2.7386127875258306,0\" style=\"fill: #4c78a8; stroke-width: 2; opacity: 0.7;\"></path><path transform=\"translate(100,101.42857142857142)\" d=\"M2.7386127875258306,0A2.7386127875258306,2.7386127875258306,0,1,1,-2.7386127875258306,0A2.7386127875258306,2.7386127875258306,0,1,1,2.7386127875258306,0\" style=\"fill: #4c78a8; stroke-width: 2; opacity: 0.7;\"></path><path transform=\"translate(175,118.57142857142857)\" d=\"M2.7386127875258306,0A2.7386127875258306,2.7386127875258306,0,1,1,-2.7386127875258306,0A2.7386127875258306,2.7386127875258306,0,1,1,2.7386127875258306,0\" style=\"fill: #4c78a8; stroke-width: 2; opacity: 0.7;\"></path><path transform=\"translate(100,100)\" d=\"M2.7386127875258306,0A2.7386127875258306,2.7386127875258306,0,1,1,-2.7386127875258306,0A2.7386127875258306,2.7386127875258306,0,1,1,2.7386127875258306,0\" style=\"fill: #4c78a8; stroke-width: 2; opacity: 0.7;\"></path><path transform=\"translate(0,95.71428571428571)\" d=\"M2.7386127875258306,0A2.7386127875258306,2.7386127875258306,0,1,1,-2.7386127875258306,0A2.7386127875258306,2.7386127875258306,0,1,1,2.7386127875258306,0\" style=\"fill: #4c78a8; stroke-width: 2; opacity: 0.7;\"></path><path transform=\"translate(0,94.28571428571428)\" d=\"M2.7386127875258306,0A2.7386127875258306,2.7386127875258306,0,1,1,-2.7386127875258306,0A2.7386127875258306,2.7386127875258306,0,1,1,2.7386127875258306,0\" style=\"fill: #4c78a8; stroke-width: 2; opacity: 0.7;\"></path><path transform=\"translate(50,138.57142857142856)\" d=\"M2.7386127875258306,0A2.7386127875258306,2.7386127875258306,0,1,1,-2.7386127875258306,0A2.7386127875258306,2.7386127875258306,0,1,1,2.7386127875258306,0\" style=\"fill: #4c78a8; stroke-width: 2; opacity: 0.7;\"></path><path transform=\"translate(200,131.42857142857144)\" d=\"M2.7386127875258306,0A2.7386127875258306,2.7386127875258306,0,1,1,-2.7386127875258306,0A2.7386127875258306,2.7386127875258306,0,1,1,2.7386127875258306,0\" style=\"fill: #4c78a8; stroke-width: 2; opacity: 0.7;\"></path><path transform=\"translate(25,142.85714285714286)\" d=\"M2.7386127875258306,0A2.7386127875258306,2.7386127875258306,0,1,1,-2.7386127875258306,0A2.7386127875258306,2.7386127875258306,0,1,1,2.7386127875258306,0\" style=\"fill: #4c78a8; stroke-width: 2; opacity: 0.7;\"></path><path transform=\"translate(100,98.57142857142858)\" d=\"M2.7386127875258306,0A2.7386127875258306,2.7386127875258306,0,1,1,-2.7386127875258306,0A2.7386127875258306,2.7386127875258306,0,1,1,2.7386127875258306,0\" style=\"fill: #4c78a8; stroke-width: 2; opacity: 0.7;\"></path><path transform=\"translate(100,97.14285714285715)\" d=\"M2.7386127875258306,0A2.7386127875258306,2.7386127875258306,0,1,1,-2.7386127875258306,0A2.7386127875258306,2.7386127875258306,0,1,1,2.7386127875258306,0\" style=\"fill: #4c78a8; stroke-width: 2; opacity: 0.7;\"></path><path transform=\"translate(175,117.14285714285714)\" d=\"M2.7386127875258306,0A2.7386127875258306,2.7386127875258306,0,1,1,-2.7386127875258306,0A2.7386127875258306,2.7386127875258306,0,1,1,2.7386127875258306,0\" style=\"fill: #4c78a8; stroke-width: 2; opacity: 0.7;\"></path><path transform=\"translate(0,92.85714285714286)\" d=\"M2.7386127875258306,0A2.7386127875258306,2.7386127875258306,0,1,1,-2.7386127875258306,0A2.7386127875258306,2.7386127875258306,0,1,1,2.7386127875258306,0\" style=\"fill: #4c78a8; stroke-width: 2; opacity: 0.7;\"></path><path transform=\"translate(100,95.71428571428571)\" d=\"M2.7386127875258306,0A2.7386127875258306,2.7386127875258306,0,1,1,-2.7386127875258306,0A2.7386127875258306,2.7386127875258306,0,1,1,2.7386127875258306,0\" style=\"fill: #4c78a8; stroke-width: 2; opacity: 0.7;\"></path><path transform=\"translate(0,91.42857142857143)\" d=\"M2.7386127875258306,0A2.7386127875258306,2.7386127875258306,0,1,1,-2.7386127875258306,0A2.7386127875258306,2.7386127875258306,0,1,1,2.7386127875258306,0\" style=\"fill: #4c78a8; stroke-width: 2; opacity: 0.7;\"></path><path transform=\"translate(175,115.71428571428571)\" d=\"M2.7386127875258306,0A2.7386127875258306,2.7386127875258306,0,1,1,-2.7386127875258306,0A2.7386127875258306,2.7386127875258306,0,1,1,2.7386127875258306,0\" style=\"fill: #4c78a8; stroke-width: 2; opacity: 0.7;\"></path><path transform=\"translate(100,94.28571428571428)\" d=\"M2.7386127875258306,0A2.7386127875258306,2.7386127875258306,0,1,1,-2.7386127875258306,0A2.7386127875258306,2.7386127875258306,0,1,1,2.7386127875258306,0\" style=\"fill: #4c78a8; stroke-width: 2; opacity: 0.7;\"></path><path transform=\"translate(50,137.14285714285714)\" d=\"M2.7386127875258306,0A2.7386127875258306,2.7386127875258306,0,1,1,-2.7386127875258306,0A2.7386127875258306,2.7386127875258306,0,1,1,2.7386127875258306,0\" style=\"fill: #4c78a8; stroke-width: 2; opacity: 0.7;\"></path><path transform=\"translate(75,114.28571428571429)\" d=\"M2.7386127875258306,0A2.7386127875258306,2.7386127875258306,0,1,1,-2.7386127875258306,0A2.7386127875258306,2.7386127875258306,0,1,1,2.7386127875258306,0\" style=\"fill: #4c78a8; stroke-width: 2; opacity: 0.7;\"></path><path transform=\"translate(125,121.42857142857143)\" d=\"M2.7386127875258306,0A2.7386127875258306,2.7386127875258306,0,1,1,-2.7386127875258306,0A2.7386127875258306,2.7386127875258306,0,1,1,2.7386127875258306,0\" style=\"fill: #4c78a8; stroke-width: 2; opacity: 0.7;\"></path><path transform=\"translate(75,112.85714285714286)\" d=\"M2.7386127875258306,0A2.7386127875258306,2.7386127875258306,0,1,1,-2.7386127875258306,0A2.7386127875258306,2.7386127875258306,0,1,1,2.7386127875258306,0\" style=\"fill: #4c78a8; stroke-width: 2; opacity: 0.7;\"></path><path transform=\"translate(0,89.99999999999999)\" d=\"M2.7386127875258306,0A2.7386127875258306,2.7386127875258306,0,1,1,-2.7386127875258306,0A2.7386127875258306,2.7386127875258306,0,1,1,2.7386127875258306,0\" style=\"fill: #4c78a8; stroke-width: 2; opacity: 0.7;\"></path><path transform=\"translate(50,135.71428571428572)\" d=\"M2.7386127875258306,0A2.7386127875258306,2.7386127875258306,0,1,1,-2.7386127875258306,0A2.7386127875258306,2.7386127875258306,0,1,1,2.7386127875258306,0\" style=\"fill: #4c78a8; stroke-width: 2; opacity: 0.7;\"></path><path transform=\"translate(175,114.28571428571429)\" d=\"M2.7386127875258306,0A2.7386127875258306,2.7386127875258306,0,1,1,-2.7386127875258306,0A2.7386127875258306,2.7386127875258306,0,1,1,2.7386127875258306,0\" style=\"fill: #4c78a8; stroke-width: 2; opacity: 0.7;\"></path><path transform=\"translate(25,141.42857142857142)\" d=\"M2.7386127875258306,0A2.7386127875258306,2.7386127875258306,0,1,1,-2.7386127875258306,0A2.7386127875258306,2.7386127875258306,0,1,1,2.7386127875258306,0\" style=\"fill: #4c78a8; stroke-width: 2; opacity: 0.7;\"></path><path transform=\"translate(100,92.85714285714286)\" d=\"M2.7386127875258306,0A2.7386127875258306,2.7386127875258306,0,1,1,-2.7386127875258306,0A2.7386127875258306,2.7386127875258306,0,1,1,2.7386127875258306,0\" style=\"fill: #4c78a8; stroke-width: 2; opacity: 0.7;\"></path><path transform=\"translate(200,130)\" d=\"M2.7386127875258306,0A2.7386127875258306,2.7386127875258306,0,1,1,-2.7386127875258306,0A2.7386127875258306,2.7386127875258306,0,1,1,2.7386127875258306,0\" style=\"fill: #4c78a8; stroke-width: 2; opacity: 0.7;\"></path><path transform=\"translate(0,88.57142857142857)\" d=\"M2.7386127875258306,0A2.7386127875258306,2.7386127875258306,0,1,1,-2.7386127875258306,0A2.7386127875258306,2.7386127875258306,0,1,1,2.7386127875258306,0\" style=\"fill: #4c78a8; stroke-width: 2; opacity: 0.7;\"></path><path transform=\"translate(75,111.42857142857143)\" d=\"M2.7386127875258306,0A2.7386127875258306,2.7386127875258306,0,1,1,-2.7386127875258306,0A2.7386127875258306,2.7386127875258306,0,1,1,2.7386127875258306,0\" style=\"fill: #4c78a8; stroke-width: 2; opacity: 0.7;\"></path><path transform=\"translate(25,140)\" d=\"M2.7386127875258306,0A2.7386127875258306,2.7386127875258306,0,1,1,-2.7386127875258306,0A2.7386127875258306,2.7386127875258306,0,1,1,2.7386127875258306,0\" style=\"fill: #4c78a8; stroke-width: 2; opacity: 0.7;\"></path><path transform=\"translate(150,131.42857142857144)\" d=\"M2.7386127875258306,0A2.7386127875258306,2.7386127875258306,0,1,1,-2.7386127875258306,0A2.7386127875258306,2.7386127875258306,0,1,1,2.7386127875258306,0\" style=\"fill: #4c78a8; stroke-width: 2; opacity: 0.7;\"></path><path transform=\"translate(50,134.28571428571428)\" d=\"M2.7386127875258306,0A2.7386127875258306,2.7386127875258306,0,1,1,-2.7386127875258306,0A2.7386127875258306,2.7386127875258306,0,1,1,2.7386127875258306,0\" style=\"fill: #4c78a8; stroke-width: 2; opacity: 0.7;\"></path><path transform=\"translate(100,91.42857142857143)\" d=\"M2.7386127875258306,0A2.7386127875258306,2.7386127875258306,0,1,1,-2.7386127875258306,0A2.7386127875258306,2.7386127875258306,0,1,1,2.7386127875258306,0\" style=\"fill: #4c78a8; stroke-width: 2; opacity: 0.7;\"></path><path transform=\"translate(50,132.85714285714286)\" d=\"M2.7386127875258306,0A2.7386127875258306,2.7386127875258306,0,1,1,-2.7386127875258306,0A2.7386127875258306,2.7386127875258306,0,1,1,2.7386127875258306,0\" style=\"fill: #4c78a8; stroke-width: 2; opacity: 0.7;\"></path><path transform=\"translate(150,130)\" d=\"M2.7386127875258306,0A2.7386127875258306,2.7386127875258306,0,1,1,-2.7386127875258306,0A2.7386127875258306,2.7386127875258306,0,1,1,2.7386127875258306,0\" style=\"fill: #4c78a8; stroke-width: 2; opacity: 0.7;\"></path><path transform=\"translate(100,89.99999999999999)\" d=\"M2.7386127875258306,0A2.7386127875258306,2.7386127875258306,0,1,1,-2.7386127875258306,0A2.7386127875258306,2.7386127875258306,0,1,1,2.7386127875258306,0\" style=\"fill: #4c78a8; stroke-width: 2; opacity: 0.7;\"></path><path transform=\"translate(125,120)\" d=\"M2.7386127875258306,0A2.7386127875258306,2.7386127875258306,0,1,1,-2.7386127875258306,0A2.7386127875258306,2.7386127875258306,0,1,1,2.7386127875258306,0\" style=\"fill: #4c78a8; stroke-width: 2; opacity: 0.7;\"></path><path transform=\"translate(100,88.57142857142857)\" d=\"M2.7386127875258306,0A2.7386127875258306,2.7386127875258306,0,1,1,-2.7386127875258306,0A2.7386127875258306,2.7386127875258306,0,1,1,2.7386127875258306,0\" style=\"fill: #4c78a8; stroke-width: 2; opacity: 0.7;\"></path><path transform=\"translate(75,110)\" d=\"M2.7386127875258306,0A2.7386127875258306,2.7386127875258306,0,1,1,-2.7386127875258306,0A2.7386127875258306,2.7386127875258306,0,1,1,2.7386127875258306,0\" style=\"fill: #4c78a8; stroke-width: 2; opacity: 0.7;\"></path><path transform=\"translate(125,118.57142857142857)\" d=\"M2.7386127875258306,0A2.7386127875258306,2.7386127875258306,0,1,1,-2.7386127875258306,0A2.7386127875258306,2.7386127875258306,0,1,1,2.7386127875258306,0\" style=\"fill: #4c78a8; stroke-width: 2; opacity: 0.7;\"></path><path transform=\"translate(175,112.85714285714286)\" d=\"M2.7386127875258306,0A2.7386127875258306,2.7386127875258306,0,1,1,-2.7386127875258306,0A2.7386127875258306,2.7386127875258306,0,1,1,2.7386127875258306,0\" style=\"fill: #4c78a8; stroke-width: 2; opacity: 0.7;\"></path><path transform=\"translate(0,87.14285714285714)\" d=\"M2.7386127875258306,0A2.7386127875258306,2.7386127875258306,0,1,1,-2.7386127875258306,0A2.7386127875258306,2.7386127875258306,0,1,1,2.7386127875258306,0\" style=\"fill: #4c78a8; stroke-width: 2; opacity: 0.7;\"></path><path transform=\"translate(50,131.42857142857144)\" d=\"M2.7386127875258306,0A2.7386127875258306,2.7386127875258306,0,1,1,-2.7386127875258306,0A2.7386127875258306,2.7386127875258306,0,1,1,2.7386127875258306,0\" style=\"fill: #4c78a8; stroke-width: 2; opacity: 0.7;\"></path><path transform=\"translate(175,111.42857142857143)\" d=\"M2.7386127875258306,0A2.7386127875258306,2.7386127875258306,0,1,1,-2.7386127875258306,0A2.7386127875258306,2.7386127875258306,0,1,1,2.7386127875258306,0\" style=\"fill: #4c78a8; stroke-width: 2; opacity: 0.7;\"></path><path transform=\"translate(150,128.57142857142856)\" d=\"M2.7386127875258306,0A2.7386127875258306,2.7386127875258306,0,1,1,-2.7386127875258306,0A2.7386127875258306,2.7386127875258306,0,1,1,2.7386127875258306,0\" style=\"fill: #4c78a8; stroke-width: 2; opacity: 0.7;\"></path><path transform=\"translate(75,108.57142857142857)\" d=\"M2.7386127875258306,0A2.7386127875258306,2.7386127875258306,0,1,1,-2.7386127875258306,0A2.7386127875258306,2.7386127875258306,0,1,1,2.7386127875258306,0\" style=\"fill: #4c78a8; stroke-width: 2; opacity: 0.7;\"></path><path transform=\"translate(175,110)\" d=\"M2.7386127875258306,0A2.7386127875258306,2.7386127875258306,0,1,1,-2.7386127875258306,0A2.7386127875258306,2.7386127875258306,0,1,1,2.7386127875258306,0\" style=\"fill: #4c78a8; stroke-width: 2; opacity: 0.7;\"></path><path transform=\"translate(150,127.14285714285715)\" d=\"M2.7386127875258306,0A2.7386127875258306,2.7386127875258306,0,1,1,-2.7386127875258306,0A2.7386127875258306,2.7386127875258306,0,1,1,2.7386127875258306,0\" style=\"fill: #4c78a8; stroke-width: 2; opacity: 0.7;\"></path><path transform=\"translate(175,108.57142857142857)\" d=\"M2.7386127875258306,0A2.7386127875258306,2.7386127875258306,0,1,1,-2.7386127875258306,0A2.7386127875258306,2.7386127875258306,0,1,1,2.7386127875258306,0\" style=\"fill: #4c78a8; stroke-width: 2; opacity: 0.7;\"></path><path transform=\"translate(50,130)\" d=\"M2.7386127875258306,0A2.7386127875258306,2.7386127875258306,0,1,1,-2.7386127875258306,0A2.7386127875258306,2.7386127875258306,0,1,1,2.7386127875258306,0\" style=\"fill: #4c78a8; stroke-width: 2; opacity: 0.7;\"></path><path transform=\"translate(25,138.57142857142856)\" d=\"M2.7386127875258306,0A2.7386127875258306,2.7386127875258306,0,1,1,-2.7386127875258306,0A2.7386127875258306,2.7386127875258306,0,1,1,2.7386127875258306,0\" style=\"fill: #4c78a8; stroke-width: 2; opacity: 0.7;\"></path><path transform=\"translate(175,107.14285714285714)\" d=\"M2.7386127875258306,0A2.7386127875258306,2.7386127875258306,0,1,1,-2.7386127875258306,0A2.7386127875258306,2.7386127875258306,0,1,1,2.7386127875258306,0\" style=\"fill: #4c78a8; stroke-width: 2; opacity: 0.7;\"></path><path transform=\"translate(150,125.71428571428571)\" d=\"M2.7386127875258306,0A2.7386127875258306,2.7386127875258306,0,1,1,-2.7386127875258306,0A2.7386127875258306,2.7386127875258306,0,1,1,2.7386127875258306,0\" style=\"fill: #4c78a8; stroke-width: 2; opacity: 0.7;\"></path><path transform=\"translate(125,117.14285714285714)\" d=\"M2.7386127875258306,0A2.7386127875258306,2.7386127875258306,0,1,1,-2.7386127875258306,0A2.7386127875258306,2.7386127875258306,0,1,1,2.7386127875258306,0\" style=\"fill: #4c78a8; stroke-width: 2; opacity: 0.7;\"></path><path transform=\"translate(75,107.14285714285714)\" d=\"M2.7386127875258306,0A2.7386127875258306,2.7386127875258306,0,1,1,-2.7386127875258306,0A2.7386127875258306,2.7386127875258306,0,1,1,2.7386127875258306,0\" style=\"fill: #4c78a8; stroke-width: 2; opacity: 0.7;\"></path><path transform=\"translate(0,85.71428571428572)\" d=\"M2.7386127875258306,0A2.7386127875258306,2.7386127875258306,0,1,1,-2.7386127875258306,0A2.7386127875258306,2.7386127875258306,0,1,1,2.7386127875258306,0\" style=\"fill: #4c78a8; stroke-width: 2; opacity: 0.7;\"></path><path transform=\"translate(75,105.71428571428572)\" d=\"M2.7386127875258306,0A2.7386127875258306,2.7386127875258306,0,1,1,-2.7386127875258306,0A2.7386127875258306,2.7386127875258306,0,1,1,2.7386127875258306,0\" style=\"fill: #4c78a8; stroke-width: 2; opacity: 0.7;\"></path><path transform=\"translate(125,115.71428571428571)\" d=\"M2.7386127875258306,0A2.7386127875258306,2.7386127875258306,0,1,1,-2.7386127875258306,0A2.7386127875258306,2.7386127875258306,0,1,1,2.7386127875258306,0\" style=\"fill: #4c78a8; stroke-width: 2; opacity: 0.7;\"></path><path transform=\"translate(0,84.28571428571428)\" d=\"M2.7386127875258306,0A2.7386127875258306,2.7386127875258306,0,1,1,-2.7386127875258306,0A2.7386127875258306,2.7386127875258306,0,1,1,2.7386127875258306,0\" style=\"fill: #4c78a8; stroke-width: 2; opacity: 0.7;\"></path><path transform=\"translate(25,137.14285714285714)\" d=\"M2.7386127875258306,0A2.7386127875258306,2.7386127875258306,0,1,1,-2.7386127875258306,0A2.7386127875258306,2.7386127875258306,0,1,1,2.7386127875258306,0\" style=\"fill: #4c78a8; stroke-width: 2; opacity: 0.7;\"></path><path transform=\"translate(50,128.57142857142856)\" d=\"M2.7386127875258306,0A2.7386127875258306,2.7386127875258306,0,1,1,-2.7386127875258306,0A2.7386127875258306,2.7386127875258306,0,1,1,2.7386127875258306,0\" style=\"fill: #4c78a8; stroke-width: 2; opacity: 0.7;\"></path><path transform=\"translate(50,127.14285714285715)\" d=\"M2.7386127875258306,0A2.7386127875258306,2.7386127875258306,0,1,1,-2.7386127875258306,0A2.7386127875258306,2.7386127875258306,0,1,1,2.7386127875258306,0\" style=\"fill: #4c78a8; stroke-width: 2; opacity: 0.7;\"></path><path transform=\"translate(25,135.71428571428572)\" d=\"M2.7386127875258306,0A2.7386127875258306,2.7386127875258306,0,1,1,-2.7386127875258306,0A2.7386127875258306,2.7386127875258306,0,1,1,2.7386127875258306,0\" style=\"fill: #4c78a8; stroke-width: 2; opacity: 0.7;\"></path><path transform=\"translate(75,104.28571428571428)\" d=\"M2.7386127875258306,0A2.7386127875258306,2.7386127875258306,0,1,1,-2.7386127875258306,0A2.7386127875258306,2.7386127875258306,0,1,1,2.7386127875258306,0\" style=\"fill: #4c78a8; stroke-width: 2; opacity: 0.7;\"></path><path transform=\"translate(175,105.71428571428572)\" d=\"M2.7386127875258306,0A2.7386127875258306,2.7386127875258306,0,1,1,-2.7386127875258306,0A2.7386127875258306,2.7386127875258306,0,1,1,2.7386127875258306,0\" style=\"fill: #4c78a8; stroke-width: 2; opacity: 0.7;\"></path><path transform=\"translate(75,102.85714285714286)\" d=\"M2.7386127875258306,0A2.7386127875258306,2.7386127875258306,0,1,1,-2.7386127875258306,0A2.7386127875258306,2.7386127875258306,0,1,1,2.7386127875258306,0\" style=\"fill: #4c78a8; stroke-width: 2; opacity: 0.7;\"></path><path transform=\"translate(150,124.28571428571429)\" d=\"M2.7386127875258306,0A2.7386127875258306,2.7386127875258306,0,1,1,-2.7386127875258306,0A2.7386127875258306,2.7386127875258306,0,1,1,2.7386127875258306,0\" style=\"fill: #4c78a8; stroke-width: 2; opacity: 0.7;\"></path><path transform=\"translate(0,82.85714285714285)\" d=\"M2.7386127875258306,0A2.7386127875258306,2.7386127875258306,0,1,1,-2.7386127875258306,0A2.7386127875258306,2.7386127875258306,0,1,1,2.7386127875258306,0\" style=\"fill: #4c78a8; stroke-width: 2; opacity: 0.7;\"></path><path transform=\"translate(100,87.14285714285714)\" d=\"M2.7386127875258306,0A2.7386127875258306,2.7386127875258306,0,1,1,-2.7386127875258306,0A2.7386127875258306,2.7386127875258306,0,1,1,2.7386127875258306,0\" style=\"fill: #4c78a8; stroke-width: 2; opacity: 0.7;\"></path><path transform=\"translate(75,101.42857142857142)\" d=\"M2.7386127875258306,0A2.7386127875258306,2.7386127875258306,0,1,1,-2.7386127875258306,0A2.7386127875258306,2.7386127875258306,0,1,1,2.7386127875258306,0\" style=\"fill: #4c78a8; stroke-width: 2; opacity: 0.7;\"></path><path transform=\"translate(175,104.28571428571428)\" d=\"M2.7386127875258306,0A2.7386127875258306,2.7386127875258306,0,1,1,-2.7386127875258306,0A2.7386127875258306,2.7386127875258306,0,1,1,2.7386127875258306,0\" style=\"fill: #4c78a8; stroke-width: 2; opacity: 0.7;\"></path><path transform=\"translate(150,122.85714285714285)\" d=\"M2.7386127875258306,0A2.7386127875258306,2.7386127875258306,0,1,1,-2.7386127875258306,0A2.7386127875258306,2.7386127875258306,0,1,1,2.7386127875258306,0\" style=\"fill: #4c78a8; stroke-width: 2; opacity: 0.7;\"></path><path transform=\"translate(0,81.42857142857143)\" d=\"M2.7386127875258306,0A2.7386127875258306,2.7386127875258306,0,1,1,-2.7386127875258306,0A2.7386127875258306,2.7386127875258306,0,1,1,2.7386127875258306,0\" style=\"fill: #4c78a8; stroke-width: 2; opacity: 0.7;\"></path><path transform=\"translate(150,121.42857142857143)\" d=\"M2.7386127875258306,0A2.7386127875258306,2.7386127875258306,0,1,1,-2.7386127875258306,0A2.7386127875258306,2.7386127875258306,0,1,1,2.7386127875258306,0\" style=\"fill: #4c78a8; stroke-width: 2; opacity: 0.7;\"></path><path transform=\"translate(150,120)\" d=\"M2.7386127875258306,0A2.7386127875258306,2.7386127875258306,0,1,1,-2.7386127875258306,0A2.7386127875258306,2.7386127875258306,0,1,1,2.7386127875258306,0\" style=\"fill: #4c78a8; stroke-width: 2; opacity: 0.7;\"></path><path transform=\"translate(0,80)\" d=\"M2.7386127875258306,0A2.7386127875258306,2.7386127875258306,0,1,1,-2.7386127875258306,0A2.7386127875258306,2.7386127875258306,0,1,1,2.7386127875258306,0\" style=\"fill: #4c78a8; stroke-width: 2; opacity: 0.7;\"></path><path transform=\"translate(50,125.71428571428571)\" d=\"M2.7386127875258306,0A2.7386127875258306,2.7386127875258306,0,1,1,-2.7386127875258306,0A2.7386127875258306,2.7386127875258306,0,1,1,2.7386127875258306,0\" style=\"fill: #4c78a8; stroke-width: 2; opacity: 0.7;\"></path><path transform=\"translate(200,128.57142857142856)\" d=\"M2.7386127875258306,0A2.7386127875258306,2.7386127875258306,0,1,1,-2.7386127875258306,0A2.7386127875258306,2.7386127875258306,0,1,1,2.7386127875258306,0\" style=\"fill: #4c78a8; stroke-width: 2; opacity: 0.7;\"></path><path transform=\"translate(200,127.14285714285715)\" d=\"M2.7386127875258306,0A2.7386127875258306,2.7386127875258306,0,1,1,-2.7386127875258306,0A2.7386127875258306,2.7386127875258306,0,1,1,2.7386127875258306,0\" style=\"fill: #4c78a8; stroke-width: 2; opacity: 0.7;\"></path><path transform=\"translate(100,85.71428571428572)\" d=\"M2.7386127875258306,0A2.7386127875258306,2.7386127875258306,0,1,1,-2.7386127875258306,0A2.7386127875258306,2.7386127875258306,0,1,1,2.7386127875258306,0\" style=\"fill: #4c78a8; stroke-width: 2; opacity: 0.7;\"></path><path transform=\"translate(100,84.28571428571428)\" d=\"M2.7386127875258306,0A2.7386127875258306,2.7386127875258306,0,1,1,-2.7386127875258306,0A2.7386127875258306,2.7386127875258306,0,1,1,2.7386127875258306,0\" style=\"fill: #4c78a8; stroke-width: 2; opacity: 0.7;\"></path><path transform=\"translate(200,125.71428571428571)\" d=\"M2.7386127875258306,0A2.7386127875258306,2.7386127875258306,0,1,1,-2.7386127875258306,0A2.7386127875258306,2.7386127875258306,0,1,1,2.7386127875258306,0\" style=\"fill: #4c78a8; stroke-width: 2; opacity: 0.7;\"></path><path transform=\"translate(50,124.28571428571429)\" d=\"M2.7386127875258306,0A2.7386127875258306,2.7386127875258306,0,1,1,-2.7386127875258306,0A2.7386127875258306,2.7386127875258306,0,1,1,2.7386127875258306,0\" style=\"fill: #4c78a8; stroke-width: 2; opacity: 0.7;\"></path><path transform=\"translate(150,118.57142857142857)\" d=\"M2.7386127875258306,0A2.7386127875258306,2.7386127875258306,0,1,1,-2.7386127875258306,0A2.7386127875258306,2.7386127875258306,0,1,1,2.7386127875258306,0\" style=\"fill: #4c78a8; stroke-width: 2; opacity: 0.7;\"></path><path transform=\"translate(175,102.85714285714286)\" d=\"M2.7386127875258306,0A2.7386127875258306,2.7386127875258306,0,1,1,-2.7386127875258306,0A2.7386127875258306,2.7386127875258306,0,1,1,2.7386127875258306,0\" style=\"fill: #4c78a8; stroke-width: 2; opacity: 0.7;\"></path><path transform=\"translate(25,134.28571428571428)\" d=\"M2.7386127875258306,0A2.7386127875258306,2.7386127875258306,0,1,1,-2.7386127875258306,0A2.7386127875258306,2.7386127875258306,0,1,1,2.7386127875258306,0\" style=\"fill: #4c78a8; stroke-width: 2; opacity: 0.7;\"></path><path transform=\"translate(100,82.85714285714285)\" d=\"M2.7386127875258306,0A2.7386127875258306,2.7386127875258306,0,1,1,-2.7386127875258306,0A2.7386127875258306,2.7386127875258306,0,1,1,2.7386127875258306,0\" style=\"fill: #4c78a8; stroke-width: 2; opacity: 0.7;\"></path><path transform=\"translate(0,78.57142857142858)\" d=\"M2.7386127875258306,0A2.7386127875258306,2.7386127875258306,0,1,1,-2.7386127875258306,0A2.7386127875258306,2.7386127875258306,0,1,1,2.7386127875258306,0\" style=\"fill: #4c78a8; stroke-width: 2; opacity: 0.7;\"></path><path transform=\"translate(150,117.14285714285714)\" d=\"M2.7386127875258306,0A2.7386127875258306,2.7386127875258306,0,1,1,-2.7386127875258306,0A2.7386127875258306,2.7386127875258306,0,1,1,2.7386127875258306,0\" style=\"fill: #4c78a8; stroke-width: 2; opacity: 0.7;\"></path><path transform=\"translate(200,124.28571428571429)\" d=\"M2.7386127875258306,0A2.7386127875258306,2.7386127875258306,0,1,1,-2.7386127875258306,0A2.7386127875258306,2.7386127875258306,0,1,1,2.7386127875258306,0\" style=\"fill: #4c78a8; stroke-width: 2; opacity: 0.7;\"></path><path transform=\"translate(150,115.71428571428571)\" d=\"M2.7386127875258306,0A2.7386127875258306,2.7386127875258306,0,1,1,-2.7386127875258306,0A2.7386127875258306,2.7386127875258306,0,1,1,2.7386127875258306,0\" style=\"fill: #4c78a8; stroke-width: 2; opacity: 0.7;\"></path><path transform=\"translate(200,122.85714285714285)\" d=\"M2.7386127875258306,0A2.7386127875258306,2.7386127875258306,0,1,1,-2.7386127875258306,0A2.7386127875258306,2.7386127875258306,0,1,1,2.7386127875258306,0\" style=\"fill: #4c78a8; stroke-width: 2; opacity: 0.7;\"></path><path transform=\"translate(150,114.28571428571429)\" d=\"M2.7386127875258306,0A2.7386127875258306,2.7386127875258306,0,1,1,-2.7386127875258306,0A2.7386127875258306,2.7386127875258306,0,1,1,2.7386127875258306,0\" style=\"fill: #4c78a8; stroke-width: 2; opacity: 0.7;\"></path><path transform=\"translate(175,101.42857142857142)\" d=\"M2.7386127875258306,0A2.7386127875258306,2.7386127875258306,0,1,1,-2.7386127875258306,0A2.7386127875258306,2.7386127875258306,0,1,1,2.7386127875258306,0\" style=\"fill: #4c78a8; stroke-width: 2; opacity: 0.7;\"></path><path transform=\"translate(125,114.28571428571429)\" d=\"M2.7386127875258306,0A2.7386127875258306,2.7386127875258306,0,1,1,-2.7386127875258306,0A2.7386127875258306,2.7386127875258306,0,1,1,2.7386127875258306,0\" style=\"fill: #4c78a8; stroke-width: 2; opacity: 0.7;\"></path><path transform=\"translate(200,121.42857142857143)\" d=\"M2.7386127875258306,0A2.7386127875258306,2.7386127875258306,0,1,1,-2.7386127875258306,0A2.7386127875258306,2.7386127875258306,0,1,1,2.7386127875258306,0\" style=\"fill: #4c78a8; stroke-width: 2; opacity: 0.7;\"></path><path transform=\"translate(0,77.14285714285714)\" d=\"M2.7386127875258306,0A2.7386127875258306,2.7386127875258306,0,1,1,-2.7386127875258306,0A2.7386127875258306,2.7386127875258306,0,1,1,2.7386127875258306,0\" style=\"fill: #4c78a8; stroke-width: 2; opacity: 0.7;\"></path><path transform=\"translate(150,112.85714285714286)\" d=\"M2.7386127875258306,0A2.7386127875258306,2.7386127875258306,0,1,1,-2.7386127875258306,0A2.7386127875258306,2.7386127875258306,0,1,1,2.7386127875258306,0\" style=\"fill: #4c78a8; stroke-width: 2; opacity: 0.7;\"></path><path transform=\"translate(0,75.71428571428571)\" d=\"M2.7386127875258306,0A2.7386127875258306,2.7386127875258306,0,1,1,-2.7386127875258306,0A2.7386127875258306,2.7386127875258306,0,1,1,2.7386127875258306,0\" style=\"fill: #4c78a8; stroke-width: 2; opacity: 0.7;\"></path><path transform=\"translate(150,111.42857142857143)\" d=\"M2.7386127875258306,0A2.7386127875258306,2.7386127875258306,0,1,1,-2.7386127875258306,0A2.7386127875258306,2.7386127875258306,0,1,1,2.7386127875258306,0\" style=\"fill: #4c78a8; stroke-width: 2; opacity: 0.7;\"></path><path transform=\"translate(200,120)\" d=\"M2.7386127875258306,0A2.7386127875258306,2.7386127875258306,0,1,1,-2.7386127875258306,0A2.7386127875258306,2.7386127875258306,0,1,1,2.7386127875258306,0\" style=\"fill: #4c78a8; stroke-width: 2; opacity: 0.7;\"></path><path transform=\"translate(0,74.28571428571429)\" d=\"M2.7386127875258306,0A2.7386127875258306,2.7386127875258306,0,1,1,-2.7386127875258306,0A2.7386127875258306,2.7386127875258306,0,1,1,2.7386127875258306,0\" style=\"fill: #4c78a8; stroke-width: 2; opacity: 0.7;\"></path><path transform=\"translate(200,118.57142857142857)\" d=\"M2.7386127875258306,0A2.7386127875258306,2.7386127875258306,0,1,1,-2.7386127875258306,0A2.7386127875258306,2.7386127875258306,0,1,1,2.7386127875258306,0\" style=\"fill: #4c78a8; stroke-width: 2; opacity: 0.7;\"></path><path transform=\"translate(175,100)\" d=\"M2.7386127875258306,0A2.7386127875258306,2.7386127875258306,0,1,1,-2.7386127875258306,0A2.7386127875258306,2.7386127875258306,0,1,1,2.7386127875258306,0\" style=\"fill: #4c78a8; stroke-width: 2; opacity: 0.7;\"></path><path transform=\"translate(25,132.85714285714286)\" d=\"M2.7386127875258306,0A2.7386127875258306,2.7386127875258306,0,1,1,-2.7386127875258306,0A2.7386127875258306,2.7386127875258306,0,1,1,2.7386127875258306,0\" style=\"fill: #4c78a8; stroke-width: 2; opacity: 0.7;\"></path><path transform=\"translate(175,98.57142857142858)\" d=\"M2.7386127875258306,0A2.7386127875258306,2.7386127875258306,0,1,1,-2.7386127875258306,0A2.7386127875258306,2.7386127875258306,0,1,1,2.7386127875258306,0\" style=\"fill: #4c78a8; stroke-width: 2; opacity: 0.7;\"></path><path transform=\"translate(50,122.85714285714285)\" d=\"M2.7386127875258306,0A2.7386127875258306,2.7386127875258306,0,1,1,-2.7386127875258306,0A2.7386127875258306,2.7386127875258306,0,1,1,2.7386127875258306,0\" style=\"fill: #4c78a8; stroke-width: 2; opacity: 0.7;\"></path><path transform=\"translate(0,72.85714285714286)\" d=\"M2.7386127875258306,0A2.7386127875258306,2.7386127875258306,0,1,1,-2.7386127875258306,0A2.7386127875258306,2.7386127875258306,0,1,1,2.7386127875258306,0\" style=\"fill: #4c78a8; stroke-width: 2; opacity: 0.7;\"></path><path transform=\"translate(50,121.42857142857143)\" d=\"M2.7386127875258306,0A2.7386127875258306,2.7386127875258306,0,1,1,-2.7386127875258306,0A2.7386127875258306,2.7386127875258306,0,1,1,2.7386127875258306,0\" style=\"fill: #4c78a8; stroke-width: 2; opacity: 0.7;\"></path><path transform=\"translate(200,117.14285714285714)\" d=\"M2.7386127875258306,0A2.7386127875258306,2.7386127875258306,0,1,1,-2.7386127875258306,0A2.7386127875258306,2.7386127875258306,0,1,1,2.7386127875258306,0\" style=\"fill: #4c78a8; stroke-width: 2; opacity: 0.7;\"></path><path transform=\"translate(25,131.42857142857144)\" d=\"M2.7386127875258306,0A2.7386127875258306,2.7386127875258306,0,1,1,-2.7386127875258306,0A2.7386127875258306,2.7386127875258306,0,1,1,2.7386127875258306,0\" style=\"fill: #4c78a8; stroke-width: 2; opacity: 0.7;\"></path><path transform=\"translate(200,115.71428571428571)\" d=\"M2.7386127875258306,0A2.7386127875258306,2.7386127875258306,0,1,1,-2.7386127875258306,0A2.7386127875258306,2.7386127875258306,0,1,1,2.7386127875258306,0\" style=\"fill: #4c78a8; stroke-width: 2; opacity: 0.7;\"></path><path transform=\"translate(175,97.14285714285715)\" d=\"M2.7386127875258306,0A2.7386127875258306,2.7386127875258306,0,1,1,-2.7386127875258306,0A2.7386127875258306,2.7386127875258306,0,1,1,2.7386127875258306,0\" style=\"fill: #4c78a8; stroke-width: 2; opacity: 0.7;\"></path><path transform=\"translate(150,110)\" d=\"M2.7386127875258306,0A2.7386127875258306,2.7386127875258306,0,1,1,-2.7386127875258306,0A2.7386127875258306,2.7386127875258306,0,1,1,2.7386127875258306,0\" style=\"fill: #4c78a8; stroke-width: 2; opacity: 0.7;\"></path><path transform=\"translate(100,81.42857142857143)\" d=\"M2.7386127875258306,0A2.7386127875258306,2.7386127875258306,0,1,1,-2.7386127875258306,0A2.7386127875258306,2.7386127875258306,0,1,1,2.7386127875258306,0\" style=\"fill: #4c78a8; stroke-width: 2; opacity: 0.7;\"></path><path transform=\"translate(0,71.42857142857142)\" d=\"M2.7386127875258306,0A2.7386127875258306,2.7386127875258306,0,1,1,-2.7386127875258306,0A2.7386127875258306,2.7386127875258306,0,1,1,2.7386127875258306,0\" style=\"fill: #4c78a8; stroke-width: 2; opacity: 0.7;\"></path><path transform=\"translate(25,130)\" d=\"M2.7386127875258306,0A2.7386127875258306,2.7386127875258306,0,1,1,-2.7386127875258306,0A2.7386127875258306,2.7386127875258306,0,1,1,2.7386127875258306,0\" style=\"fill: #4c78a8; stroke-width: 2; opacity: 0.7;\"></path><path transform=\"translate(50,120)\" d=\"M2.7386127875258306,0A2.7386127875258306,2.7386127875258306,0,1,1,-2.7386127875258306,0A2.7386127875258306,2.7386127875258306,0,1,1,2.7386127875258306,0\" style=\"fill: #4c78a8; stroke-width: 2; opacity: 0.7;\"></path><path transform=\"translate(150,108.57142857142857)\" d=\"M2.7386127875258306,0A2.7386127875258306,2.7386127875258306,0,1,1,-2.7386127875258306,0A2.7386127875258306,2.7386127875258306,0,1,1,2.7386127875258306,0\" style=\"fill: #4c78a8; stroke-width: 2; opacity: 0.7;\"></path><path transform=\"translate(50,118.57142857142857)\" d=\"M2.7386127875258306,0A2.7386127875258306,2.7386127875258306,0,1,1,-2.7386127875258306,0A2.7386127875258306,2.7386127875258306,0,1,1,2.7386127875258306,0\" style=\"fill: #4c78a8; stroke-width: 2; opacity: 0.7;\"></path><path transform=\"translate(200,114.28571428571429)\" d=\"M2.7386127875258306,0A2.7386127875258306,2.7386127875258306,0,1,1,-2.7386127875258306,0A2.7386127875258306,2.7386127875258306,0,1,1,2.7386127875258306,0\" style=\"fill: #4c78a8; stroke-width: 2; opacity: 0.7;\"></path><path transform=\"translate(125,112.85714285714286)\" d=\"M2.7386127875258306,0A2.7386127875258306,2.7386127875258306,0,1,1,-2.7386127875258306,0A2.7386127875258306,2.7386127875258306,0,1,1,2.7386127875258306,0\" style=\"fill: #4c78a8; stroke-width: 2; opacity: 0.7;\"></path><path transform=\"translate(150,107.14285714285714)\" d=\"M2.7386127875258306,0A2.7386127875258306,2.7386127875258306,0,1,1,-2.7386127875258306,0A2.7386127875258306,2.7386127875258306,0,1,1,2.7386127875258306,0\" style=\"fill: #4c78a8; stroke-width: 2; opacity: 0.7;\"></path><path transform=\"translate(25,128.57142857142856)\" d=\"M2.7386127875258306,0A2.7386127875258306,2.7386127875258306,0,1,1,-2.7386127875258306,0A2.7386127875258306,2.7386127875258306,0,1,1,2.7386127875258306,0\" style=\"fill: #4c78a8; stroke-width: 2; opacity: 0.7;\"></path><path transform=\"translate(150,105.71428571428572)\" d=\"M2.7386127875258306,0A2.7386127875258306,2.7386127875258306,0,1,1,-2.7386127875258306,0A2.7386127875258306,2.7386127875258306,0,1,1,2.7386127875258306,0\" style=\"fill: #4c78a8; stroke-width: 2; opacity: 0.7;\"></path><path transform=\"translate(175,95.71428571428571)\" d=\"M2.7386127875258306,0A2.7386127875258306,2.7386127875258306,0,1,1,-2.7386127875258306,0A2.7386127875258306,2.7386127875258306,0,1,1,2.7386127875258306,0\" style=\"fill: #4c78a8; stroke-width: 2; opacity: 0.7;\"></path><path transform=\"translate(25,127.14285714285715)\" d=\"M2.7386127875258306,0A2.7386127875258306,2.7386127875258306,0,1,1,-2.7386127875258306,0A2.7386127875258306,2.7386127875258306,0,1,1,2.7386127875258306,0\" style=\"fill: #4c78a8; stroke-width: 2; opacity: 0.7;\"></path><path transform=\"translate(125,111.42857142857143)\" d=\"M2.7386127875258306,0A2.7386127875258306,2.7386127875258306,0,1,1,-2.7386127875258306,0A2.7386127875258306,2.7386127875258306,0,1,1,2.7386127875258306,0\" style=\"fill: #4c78a8; stroke-width: 2; opacity: 0.7;\"></path><path transform=\"translate(0,70)\" d=\"M2.7386127875258306,0A2.7386127875258306,2.7386127875258306,0,1,1,-2.7386127875258306,0A2.7386127875258306,2.7386127875258306,0,1,1,2.7386127875258306,0\" style=\"fill: #4c78a8; stroke-width: 2; opacity: 0.7;\"></path><path transform=\"translate(25,125.71428571428571)\" d=\"M2.7386127875258306,0A2.7386127875258306,2.7386127875258306,0,1,1,-2.7386127875258306,0A2.7386127875258306,2.7386127875258306,0,1,1,2.7386127875258306,0\" style=\"fill: #4c78a8; stroke-width: 2; opacity: 0.7;\"></path><path transform=\"translate(50,117.14285714285714)\" d=\"M2.7386127875258306,0A2.7386127875258306,2.7386127875258306,0,1,1,-2.7386127875258306,0A2.7386127875258306,2.7386127875258306,0,1,1,2.7386127875258306,0\" style=\"fill: #4c78a8; stroke-width: 2; opacity: 0.7;\"></path><path transform=\"translate(75,100)\" d=\"M2.7386127875258306,0A2.7386127875258306,2.7386127875258306,0,1,1,-2.7386127875258306,0A2.7386127875258306,2.7386127875258306,0,1,1,2.7386127875258306,0\" style=\"fill: #4c78a8; stroke-width: 2; opacity: 0.7;\"></path><path transform=\"translate(100,80)\" d=\"M2.7386127875258306,0A2.7386127875258306,2.7386127875258306,0,1,1,-2.7386127875258306,0A2.7386127875258306,2.7386127875258306,0,1,1,2.7386127875258306,0\" style=\"fill: #4c78a8; stroke-width: 2; opacity: 0.7;\"></path><path transform=\"translate(125,110)\" d=\"M2.7386127875258306,0A2.7386127875258306,2.7386127875258306,0,1,1,-2.7386127875258306,0A2.7386127875258306,2.7386127875258306,0,1,1,2.7386127875258306,0\" style=\"fill: #4c78a8; stroke-width: 2; opacity: 0.7;\"></path><path transform=\"translate(75,98.57142857142858)\" d=\"M2.7386127875258306,0A2.7386127875258306,2.7386127875258306,0,1,1,-2.7386127875258306,0A2.7386127875258306,2.7386127875258306,0,1,1,2.7386127875258306,0\" style=\"fill: #4c78a8; stroke-width: 2; opacity: 0.7;\"></path><path transform=\"translate(100,78.57142857142858)\" d=\"M2.7386127875258306,0A2.7386127875258306,2.7386127875258306,0,1,1,-2.7386127875258306,0A2.7386127875258306,2.7386127875258306,0,1,1,2.7386127875258306,0\" style=\"fill: #4c78a8; stroke-width: 2; opacity: 0.7;\"></path><path transform=\"translate(50,115.71428571428571)\" d=\"M2.7386127875258306,0A2.7386127875258306,2.7386127875258306,0,1,1,-2.7386127875258306,0A2.7386127875258306,2.7386127875258306,0,1,1,2.7386127875258306,0\" style=\"fill: #4c78a8; stroke-width: 2; opacity: 0.7;\"></path><path transform=\"translate(50,114.28571428571429)\" d=\"M2.7386127875258306,0A2.7386127875258306,2.7386127875258306,0,1,1,-2.7386127875258306,0A2.7386127875258306,2.7386127875258306,0,1,1,2.7386127875258306,0\" style=\"fill: #4c78a8; stroke-width: 2; opacity: 0.7;\"></path><path transform=\"translate(50,112.85714285714286)\" d=\"M2.7386127875258306,0A2.7386127875258306,2.7386127875258306,0,1,1,-2.7386127875258306,0A2.7386127875258306,2.7386127875258306,0,1,1,2.7386127875258306,0\" style=\"fill: #4c78a8; stroke-width: 2; opacity: 0.7;\"></path><path transform=\"translate(25,124.28571428571429)\" d=\"M2.7386127875258306,0A2.7386127875258306,2.7386127875258306,0,1,1,-2.7386127875258306,0A2.7386127875258306,2.7386127875258306,0,1,1,2.7386127875258306,0\" style=\"fill: #4c78a8; stroke-width: 2; opacity: 0.7;\"></path><path transform=\"translate(0,68.57142857142858)\" d=\"M2.7386127875258306,0A2.7386127875258306,2.7386127875258306,0,1,1,-2.7386127875258306,0A2.7386127875258306,2.7386127875258306,0,1,1,2.7386127875258306,0\" style=\"fill: #4c78a8; stroke-width: 2; opacity: 0.7;\"></path><path transform=\"translate(100,77.14285714285714)\" d=\"M2.7386127875258306,0A2.7386127875258306,2.7386127875258306,0,1,1,-2.7386127875258306,0A2.7386127875258306,2.7386127875258306,0,1,1,2.7386127875258306,0\" style=\"fill: #4c78a8; stroke-width: 2; opacity: 0.7;\"></path><path transform=\"translate(125,108.57142857142857)\" d=\"M2.7386127875258306,0A2.7386127875258306,2.7386127875258306,0,1,1,-2.7386127875258306,0A2.7386127875258306,2.7386127875258306,0,1,1,2.7386127875258306,0\" style=\"fill: #4c78a8; stroke-width: 2; opacity: 0.7;\"></path><path transform=\"translate(25,122.85714285714285)\" d=\"M2.7386127875258306,0A2.7386127875258306,2.7386127875258306,0,1,1,-2.7386127875258306,0A2.7386127875258306,2.7386127875258306,0,1,1,2.7386127875258306,0\" style=\"fill: #4c78a8; stroke-width: 2; opacity: 0.7;\"></path><path transform=\"translate(150,104.28571428571428)\" d=\"M2.7386127875258306,0A2.7386127875258306,2.7386127875258306,0,1,1,-2.7386127875258306,0A2.7386127875258306,2.7386127875258306,0,1,1,2.7386127875258306,0\" style=\"fill: #4c78a8; stroke-width: 2; opacity: 0.7;\"></path><path transform=\"translate(100,75.71428571428571)\" d=\"M2.7386127875258306,0A2.7386127875258306,2.7386127875258306,0,1,1,-2.7386127875258306,0A2.7386127875258306,2.7386127875258306,0,1,1,2.7386127875258306,0\" style=\"fill: #4c78a8; stroke-width: 2; opacity: 0.7;\"></path><path transform=\"translate(50,111.42857142857143)\" d=\"M2.7386127875258306,0A2.7386127875258306,2.7386127875258306,0,1,1,-2.7386127875258306,0A2.7386127875258306,2.7386127875258306,0,1,1,2.7386127875258306,0\" style=\"fill: #4c78a8; stroke-width: 2; opacity: 0.7;\"></path><path transform=\"translate(0,67.14285714285714)\" d=\"M2.7386127875258306,0A2.7386127875258306,2.7386127875258306,0,1,1,-2.7386127875258306,0A2.7386127875258306,2.7386127875258306,0,1,1,2.7386127875258306,0\" style=\"fill: #4c78a8; stroke-width: 2; opacity: 0.7;\"></path><path transform=\"translate(50,110)\" d=\"M2.7386127875258306,0A2.7386127875258306,2.7386127875258306,0,1,1,-2.7386127875258306,0A2.7386127875258306,2.7386127875258306,0,1,1,2.7386127875258306,0\" style=\"fill: #4c78a8; stroke-width: 2; opacity: 0.7;\"></path><path transform=\"translate(0,65.71428571428572)\" d=\"M2.7386127875258306,0A2.7386127875258306,2.7386127875258306,0,1,1,-2.7386127875258306,0A2.7386127875258306,2.7386127875258306,0,1,1,2.7386127875258306,0\" style=\"fill: #4c78a8; stroke-width: 2; opacity: 0.7;\"></path><path transform=\"translate(125,107.14285714285714)\" d=\"M2.7386127875258306,0A2.7386127875258306,2.7386127875258306,0,1,1,-2.7386127875258306,0A2.7386127875258306,2.7386127875258306,0,1,1,2.7386127875258306,0\" style=\"fill: #4c78a8; stroke-width: 2; opacity: 0.7;\"></path><path transform=\"translate(100,74.28571428571429)\" d=\"M2.7386127875258306,0A2.7386127875258306,2.7386127875258306,0,1,1,-2.7386127875258306,0A2.7386127875258306,2.7386127875258306,0,1,1,2.7386127875258306,0\" style=\"fill: #4c78a8; stroke-width: 2; opacity: 0.7;\"></path><path transform=\"translate(75,97.14285714285715)\" d=\"M2.7386127875258306,0A2.7386127875258306,2.7386127875258306,0,1,1,-2.7386127875258306,0A2.7386127875258306,2.7386127875258306,0,1,1,2.7386127875258306,0\" style=\"fill: #4c78a8; stroke-width: 2; opacity: 0.7;\"></path><path transform=\"translate(0,64.28571428571428)\" d=\"M2.7386127875258306,0A2.7386127875258306,2.7386127875258306,0,1,1,-2.7386127875258306,0A2.7386127875258306,2.7386127875258306,0,1,1,2.7386127875258306,0\" style=\"fill: #4c78a8; stroke-width: 2; opacity: 0.7;\"></path><path transform=\"translate(200,112.85714285714286)\" d=\"M2.7386127875258306,0A2.7386127875258306,2.7386127875258306,0,1,1,-2.7386127875258306,0A2.7386127875258306,2.7386127875258306,0,1,1,2.7386127875258306,0\" style=\"fill: #4c78a8; stroke-width: 2; opacity: 0.7;\"></path><path transform=\"translate(25,121.42857142857143)\" d=\"M2.7386127875258306,0A2.7386127875258306,2.7386127875258306,0,1,1,-2.7386127875258306,0A2.7386127875258306,2.7386127875258306,0,1,1,2.7386127875258306,0\" style=\"fill: #4c78a8; stroke-width: 2; opacity: 0.7;\"></path><path transform=\"translate(75,95.71428571428571)\" d=\"M2.7386127875258306,0A2.7386127875258306,2.7386127875258306,0,1,1,-2.7386127875258306,0A2.7386127875258306,2.7386127875258306,0,1,1,2.7386127875258306,0\" style=\"fill: #4c78a8; stroke-width: 2; opacity: 0.7;\"></path><path transform=\"translate(200,111.42857142857143)\" d=\"M2.7386127875258306,0A2.7386127875258306,2.7386127875258306,0,1,1,-2.7386127875258306,0A2.7386127875258306,2.7386127875258306,0,1,1,2.7386127875258306,0\" style=\"fill: #4c78a8; stroke-width: 2; opacity: 0.7;\"></path><path transform=\"translate(150,102.85714285714286)\" d=\"M2.7386127875258306,0A2.7386127875258306,2.7386127875258306,0,1,1,-2.7386127875258306,0A2.7386127875258306,2.7386127875258306,0,1,1,2.7386127875258306,0\" style=\"fill: #4c78a8; stroke-width: 2; opacity: 0.7;\"></path><path transform=\"translate(125,105.71428571428572)\" d=\"M2.7386127875258306,0A2.7386127875258306,2.7386127875258306,0,1,1,-2.7386127875258306,0A2.7386127875258306,2.7386127875258306,0,1,1,2.7386127875258306,0\" style=\"fill: #4c78a8; stroke-width: 2; opacity: 0.7;\"></path><path transform=\"translate(150,101.42857142857142)\" d=\"M2.7386127875258306,0A2.7386127875258306,2.7386127875258306,0,1,1,-2.7386127875258306,0A2.7386127875258306,2.7386127875258306,0,1,1,2.7386127875258306,0\" style=\"fill: #4c78a8; stroke-width: 2; opacity: 0.7;\"></path><path transform=\"translate(200,110)\" d=\"M2.7386127875258306,0A2.7386127875258306,2.7386127875258306,0,1,1,-2.7386127875258306,0A2.7386127875258306,2.7386127875258306,0,1,1,2.7386127875258306,0\" style=\"fill: #4c78a8; stroke-width: 2; opacity: 0.7;\"></path><path transform=\"translate(50,108.57142857142857)\" d=\"M2.7386127875258306,0A2.7386127875258306,2.7386127875258306,0,1,1,-2.7386127875258306,0A2.7386127875258306,2.7386127875258306,0,1,1,2.7386127875258306,0\" style=\"fill: #4c78a8; stroke-width: 2; opacity: 0.7;\"></path><path transform=\"translate(50,107.14285714285714)\" d=\"M2.7386127875258306,0A2.7386127875258306,2.7386127875258306,0,1,1,-2.7386127875258306,0A2.7386127875258306,2.7386127875258306,0,1,1,2.7386127875258306,0\" style=\"fill: #4c78a8; stroke-width: 2; opacity: 0.7;\"></path><path transform=\"translate(0,62.85714285714286)\" d=\"M2.7386127875258306,0A2.7386127875258306,2.7386127875258306,0,1,1,-2.7386127875258306,0A2.7386127875258306,2.7386127875258306,0,1,1,2.7386127875258306,0\" style=\"fill: #4c78a8; stroke-width: 2; opacity: 0.7;\"></path><path transform=\"translate(200,108.57142857142857)\" d=\"M2.7386127875258306,0A2.7386127875258306,2.7386127875258306,0,1,1,-2.7386127875258306,0A2.7386127875258306,2.7386127875258306,0,1,1,2.7386127875258306,0\" style=\"fill: #4c78a8; stroke-width: 2; opacity: 0.7;\"></path><path transform=\"translate(125,104.28571428571428)\" d=\"M2.7386127875258306,0A2.7386127875258306,2.7386127875258306,0,1,1,-2.7386127875258306,0A2.7386127875258306,2.7386127875258306,0,1,1,2.7386127875258306,0\" style=\"fill: #4c78a8; stroke-width: 2; opacity: 0.7;\"></path><path transform=\"translate(75,94.28571428571428)\" d=\"M2.7386127875258306,0A2.7386127875258306,2.7386127875258306,0,1,1,-2.7386127875258306,0A2.7386127875258306,2.7386127875258306,0,1,1,2.7386127875258306,0\" style=\"fill: #4c78a8; stroke-width: 2; opacity: 0.7;\"></path><path transform=\"translate(200,107.14285714285714)\" d=\"M2.7386127875258306,0A2.7386127875258306,2.7386127875258306,0,1,1,-2.7386127875258306,0A2.7386127875258306,2.7386127875258306,0,1,1,2.7386127875258306,0\" style=\"fill: #4c78a8; stroke-width: 2; opacity: 0.7;\"></path><path transform=\"translate(0,61.428571428571445)\" d=\"M2.7386127875258306,0A2.7386127875258306,2.7386127875258306,0,1,1,-2.7386127875258306,0A2.7386127875258306,2.7386127875258306,0,1,1,2.7386127875258306,0\" style=\"fill: #4c78a8; stroke-width: 2; opacity: 0.7;\"></path><path transform=\"translate(150,100)\" d=\"M2.7386127875258306,0A2.7386127875258306,2.7386127875258306,0,1,1,-2.7386127875258306,0A2.7386127875258306,2.7386127875258306,0,1,1,2.7386127875258306,0\" style=\"fill: #4c78a8; stroke-width: 2; opacity: 0.7;\"></path><path transform=\"translate(50,105.71428571428572)\" d=\"M2.7386127875258306,0A2.7386127875258306,2.7386127875258306,0,1,1,-2.7386127875258306,0A2.7386127875258306,2.7386127875258306,0,1,1,2.7386127875258306,0\" style=\"fill: #4c78a8; stroke-width: 2; opacity: 0.7;\"></path><path transform=\"translate(175,94.28571428571428)\" d=\"M2.7386127875258306,0A2.7386127875258306,2.7386127875258306,0,1,1,-2.7386127875258306,0A2.7386127875258306,2.7386127875258306,0,1,1,2.7386127875258306,0\" style=\"fill: #4c78a8; stroke-width: 2; opacity: 0.7;\"></path><path transform=\"translate(75,92.85714285714286)\" d=\"M2.7386127875258306,0A2.7386127875258306,2.7386127875258306,0,1,1,-2.7386127875258306,0A2.7386127875258306,2.7386127875258306,0,1,1,2.7386127875258306,0\" style=\"fill: #4c78a8; stroke-width: 2; opacity: 0.7;\"></path><path transform=\"translate(75,91.42857142857143)\" d=\"M2.7386127875258306,0A2.7386127875258306,2.7386127875258306,0,1,1,-2.7386127875258306,0A2.7386127875258306,2.7386127875258306,0,1,1,2.7386127875258306,0\" style=\"fill: #4c78a8; stroke-width: 2; opacity: 0.7;\"></path><path transform=\"translate(150,98.57142857142858)\" d=\"M2.7386127875258306,0A2.7386127875258306,2.7386127875258306,0,1,1,-2.7386127875258306,0A2.7386127875258306,2.7386127875258306,0,1,1,2.7386127875258306,0\" style=\"fill: #4c78a8; stroke-width: 2; opacity: 0.7;\"></path><path transform=\"translate(200,105.71428571428572)\" d=\"M2.7386127875258306,0A2.7386127875258306,2.7386127875258306,0,1,1,-2.7386127875258306,0A2.7386127875258306,2.7386127875258306,0,1,1,2.7386127875258306,0\" style=\"fill: #4c78a8; stroke-width: 2; opacity: 0.7;\"></path><path transform=\"translate(150,97.14285714285715)\" d=\"M2.7386127875258306,0A2.7386127875258306,2.7386127875258306,0,1,1,-2.7386127875258306,0A2.7386127875258306,2.7386127875258306,0,1,1,2.7386127875258306,0\" style=\"fill: #4c78a8; stroke-width: 2; opacity: 0.7;\"></path><path transform=\"translate(200,104.28571428571428)\" d=\"M2.7386127875258306,0A2.7386127875258306,2.7386127875258306,0,1,1,-2.7386127875258306,0A2.7386127875258306,2.7386127875258306,0,1,1,2.7386127875258306,0\" style=\"fill: #4c78a8; stroke-width: 2; opacity: 0.7;\"></path><path transform=\"translate(175,92.85714285714286)\" d=\"M2.7386127875258306,0A2.7386127875258306,2.7386127875258306,0,1,1,-2.7386127875258306,0A2.7386127875258306,2.7386127875258306,0,1,1,2.7386127875258306,0\" style=\"fill: #4c78a8; stroke-width: 2; opacity: 0.7;\"></path><path transform=\"translate(0,60)\" d=\"M2.7386127875258306,0A2.7386127875258306,2.7386127875258306,0,1,1,-2.7386127875258306,0A2.7386127875258306,2.7386127875258306,0,1,1,2.7386127875258306,0\" style=\"fill: #4c78a8; stroke-width: 2; opacity: 0.7;\"></path><path transform=\"translate(100,72.85714285714286)\" d=\"M2.7386127875258306,0A2.7386127875258306,2.7386127875258306,0,1,1,-2.7386127875258306,0A2.7386127875258306,2.7386127875258306,0,1,1,2.7386127875258306,0\" style=\"fill: #4c78a8; stroke-width: 2; opacity: 0.7;\"></path><path transform=\"translate(125,102.85714285714286)\" d=\"M2.7386127875258306,0A2.7386127875258306,2.7386127875258306,0,1,1,-2.7386127875258306,0A2.7386127875258306,2.7386127875258306,0,1,1,2.7386127875258306,0\" style=\"fill: #4c78a8; stroke-width: 2; opacity: 0.7;\"></path><path transform=\"translate(75,89.99999999999999)\" d=\"M2.7386127875258306,0A2.7386127875258306,2.7386127875258306,0,1,1,-2.7386127875258306,0A2.7386127875258306,2.7386127875258306,0,1,1,2.7386127875258306,0\" style=\"fill: #4c78a8; stroke-width: 2; opacity: 0.7;\"></path><path transform=\"translate(200,102.85714285714286)\" d=\"M2.7386127875258306,0A2.7386127875258306,2.7386127875258306,0,1,1,-2.7386127875258306,0A2.7386127875258306,2.7386127875258306,0,1,1,2.7386127875258306,0\" style=\"fill: #4c78a8; stroke-width: 2; opacity: 0.7;\"></path><path transform=\"translate(175,91.42857142857143)\" d=\"M2.7386127875258306,0A2.7386127875258306,2.7386127875258306,0,1,1,-2.7386127875258306,0A2.7386127875258306,2.7386127875258306,0,1,1,2.7386127875258306,0\" style=\"fill: #4c78a8; stroke-width: 2; opacity: 0.7;\"></path><path transform=\"translate(200,101.42857142857142)\" d=\"M2.7386127875258306,0A2.7386127875258306,2.7386127875258306,0,1,1,-2.7386127875258306,0A2.7386127875258306,2.7386127875258306,0,1,1,2.7386127875258306,0\" style=\"fill: #4c78a8; stroke-width: 2; opacity: 0.7;\"></path><path transform=\"translate(75,88.57142857142857)\" d=\"M2.7386127875258306,0A2.7386127875258306,2.7386127875258306,0,1,1,-2.7386127875258306,0A2.7386127875258306,2.7386127875258306,0,1,1,2.7386127875258306,0\" style=\"fill: #4c78a8; stroke-width: 2; opacity: 0.7;\"></path><path transform=\"translate(175,89.99999999999999)\" d=\"M2.7386127875258306,0A2.7386127875258306,2.7386127875258306,0,1,1,-2.7386127875258306,0A2.7386127875258306,2.7386127875258306,0,1,1,2.7386127875258306,0\" style=\"fill: #4c78a8; stroke-width: 2; opacity: 0.7;\"></path><path transform=\"translate(100,71.42857142857142)\" d=\"M2.7386127875258306,0A2.7386127875258306,2.7386127875258306,0,1,1,-2.7386127875258306,0A2.7386127875258306,2.7386127875258306,0,1,1,2.7386127875258306,0\" style=\"fill: #4c78a8; stroke-width: 2; opacity: 0.7;\"></path><path transform=\"translate(75,87.14285714285714)\" d=\"M2.7386127875258306,0A2.7386127875258306,2.7386127875258306,0,1,1,-2.7386127875258306,0A2.7386127875258306,2.7386127875258306,0,1,1,2.7386127875258306,0\" style=\"fill: #4c78a8; stroke-width: 2; opacity: 0.7;\"></path><path transform=\"translate(50,104.28571428571428)\" d=\"M2.7386127875258306,0A2.7386127875258306,2.7386127875258306,0,1,1,-2.7386127875258306,0A2.7386127875258306,2.7386127875258306,0,1,1,2.7386127875258306,0\" style=\"fill: #4c78a8; stroke-width: 2; opacity: 0.7;\"></path><path transform=\"translate(0,58.571428571428555)\" d=\"M2.7386127875258306,0A2.7386127875258306,2.7386127875258306,0,1,1,-2.7386127875258306,0A2.7386127875258306,2.7386127875258306,0,1,1,2.7386127875258306,0\" style=\"fill: #4c78a8; stroke-width: 2; opacity: 0.7;\"></path><path transform=\"translate(25,120)\" d=\"M2.7386127875258306,0A2.7386127875258306,2.7386127875258306,0,1,1,-2.7386127875258306,0A2.7386127875258306,2.7386127875258306,0,1,1,2.7386127875258306,0\" style=\"fill: #4c78a8; stroke-width: 2; opacity: 0.7;\"></path><path transform=\"translate(150,95.71428571428571)\" d=\"M2.7386127875258306,0A2.7386127875258306,2.7386127875258306,0,1,1,-2.7386127875258306,0A2.7386127875258306,2.7386127875258306,0,1,1,2.7386127875258306,0\" style=\"fill: #4c78a8; stroke-width: 2; opacity: 0.7;\"></path><path transform=\"translate(0,57.14285714285714)\" d=\"M2.7386127875258306,0A2.7386127875258306,2.7386127875258306,0,1,1,-2.7386127875258306,0A2.7386127875258306,2.7386127875258306,0,1,1,2.7386127875258306,0\" style=\"fill: #4c78a8; stroke-width: 2; opacity: 0.7;\"></path><path transform=\"translate(25,118.57142857142857)\" d=\"M2.7386127875258306,0A2.7386127875258306,2.7386127875258306,0,1,1,-2.7386127875258306,0A2.7386127875258306,2.7386127875258306,0,1,1,2.7386127875258306,0\" style=\"fill: #4c78a8; stroke-width: 2; opacity: 0.7;\"></path><path transform=\"translate(150,94.28571428571428)\" d=\"M2.7386127875258306,0A2.7386127875258306,2.7386127875258306,0,1,1,-2.7386127875258306,0A2.7386127875258306,2.7386127875258306,0,1,1,2.7386127875258306,0\" style=\"fill: #4c78a8; stroke-width: 2; opacity: 0.7;\"></path><path transform=\"translate(50,102.85714285714286)\" d=\"M2.7386127875258306,0A2.7386127875258306,2.7386127875258306,0,1,1,-2.7386127875258306,0A2.7386127875258306,2.7386127875258306,0,1,1,2.7386127875258306,0\" style=\"fill: #4c78a8; stroke-width: 2; opacity: 0.7;\"></path><path transform=\"translate(25,117.14285714285714)\" d=\"M2.7386127875258306,0A2.7386127875258306,2.7386127875258306,0,1,1,-2.7386127875258306,0A2.7386127875258306,2.7386127875258306,0,1,1,2.7386127875258306,0\" style=\"fill: #4c78a8; stroke-width: 2; opacity: 0.7;\"></path><path transform=\"translate(150,92.85714285714286)\" d=\"M2.7386127875258306,0A2.7386127875258306,2.7386127875258306,0,1,1,-2.7386127875258306,0A2.7386127875258306,2.7386127875258306,0,1,1,2.7386127875258306,0\" style=\"fill: #4c78a8; stroke-width: 2; opacity: 0.7;\"></path><path transform=\"translate(75,85.71428571428572)\" d=\"M2.7386127875258306,0A2.7386127875258306,2.7386127875258306,0,1,1,-2.7386127875258306,0A2.7386127875258306,2.7386127875258306,0,1,1,2.7386127875258306,0\" style=\"fill: #4c78a8; stroke-width: 2; opacity: 0.7;\"></path><path transform=\"translate(125,101.42857142857142)\" d=\"M2.7386127875258306,0A2.7386127875258306,2.7386127875258306,0,1,1,-2.7386127875258306,0A2.7386127875258306,2.7386127875258306,0,1,1,2.7386127875258306,0\" style=\"fill: #4c78a8; stroke-width: 2; opacity: 0.7;\"></path><path transform=\"translate(75,84.28571428571428)\" d=\"M2.7386127875258306,0A2.7386127875258306,2.7386127875258306,0,1,1,-2.7386127875258306,0A2.7386127875258306,2.7386127875258306,0,1,1,2.7386127875258306,0\" style=\"fill: #4c78a8; stroke-width: 2; opacity: 0.7;\"></path><path transform=\"translate(0,55.71428571428572)\" d=\"M2.7386127875258306,0A2.7386127875258306,2.7386127875258306,0,1,1,-2.7386127875258306,0A2.7386127875258306,2.7386127875258306,0,1,1,2.7386127875258306,0\" style=\"fill: #4c78a8; stroke-width: 2; opacity: 0.7;\"></path><path transform=\"translate(150,91.42857142857143)\" d=\"M2.7386127875258306,0A2.7386127875258306,2.7386127875258306,0,1,1,-2.7386127875258306,0A2.7386127875258306,2.7386127875258306,0,1,1,2.7386127875258306,0\" style=\"fill: #4c78a8; stroke-width: 2; opacity: 0.7;\"></path><path transform=\"translate(25,115.71428571428571)\" d=\"M2.7386127875258306,0A2.7386127875258306,2.7386127875258306,0,1,1,-2.7386127875258306,0A2.7386127875258306,2.7386127875258306,0,1,1,2.7386127875258306,0\" style=\"fill: #4c78a8; stroke-width: 2; opacity: 0.7;\"></path><path transform=\"translate(125,100)\" d=\"M2.7386127875258306,0A2.7386127875258306,2.7386127875258306,0,1,1,-2.7386127875258306,0A2.7386127875258306,2.7386127875258306,0,1,1,2.7386127875258306,0\" style=\"fill: #4c78a8; stroke-width: 2; opacity: 0.7;\"></path><path transform=\"translate(75,82.85714285714285)\" d=\"M2.7386127875258306,0A2.7386127875258306,2.7386127875258306,0,1,1,-2.7386127875258306,0A2.7386127875258306,2.7386127875258306,0,1,1,2.7386127875258306,0\" style=\"fill: #4c78a8; stroke-width: 2; opacity: 0.7;\"></path><path transform=\"translate(50,101.42857142857142)\" d=\"M2.7386127875258306,0A2.7386127875258306,2.7386127875258306,0,1,1,-2.7386127875258306,0A2.7386127875258306,2.7386127875258306,0,1,1,2.7386127875258306,0\" style=\"fill: #4c78a8; stroke-width: 2; opacity: 0.7;\"></path><path transform=\"translate(25,114.28571428571429)\" d=\"M2.7386127875258306,0A2.7386127875258306,2.7386127875258306,0,1,1,-2.7386127875258306,0A2.7386127875258306,2.7386127875258306,0,1,1,2.7386127875258306,0\" style=\"fill: #4c78a8; stroke-width: 2; opacity: 0.7;\"></path><path transform=\"translate(125,98.57142857142858)\" d=\"M2.7386127875258306,0A2.7386127875258306,2.7386127875258306,0,1,1,-2.7386127875258306,0A2.7386127875258306,2.7386127875258306,0,1,1,2.7386127875258306,0\" style=\"fill: #4c78a8; stroke-width: 2; opacity: 0.7;\"></path><path transform=\"translate(0,54.285714285714306)\" d=\"M2.7386127875258306,0A2.7386127875258306,2.7386127875258306,0,1,1,-2.7386127875258306,0A2.7386127875258306,2.7386127875258306,0,1,1,2.7386127875258306,0\" style=\"fill: #4c78a8; stroke-width: 2; opacity: 0.7;\"></path><path transform=\"translate(25,112.85714285714286)\" d=\"M2.7386127875258306,0A2.7386127875258306,2.7386127875258306,0,1,1,-2.7386127875258306,0A2.7386127875258306,2.7386127875258306,0,1,1,2.7386127875258306,0\" style=\"fill: #4c78a8; stroke-width: 2; opacity: 0.7;\"></path><path transform=\"translate(175,88.57142857142857)\" d=\"M2.7386127875258306,0A2.7386127875258306,2.7386127875258306,0,1,1,-2.7386127875258306,0A2.7386127875258306,2.7386127875258306,0,1,1,2.7386127875258306,0\" style=\"fill: #4c78a8; stroke-width: 2; opacity: 0.7;\"></path><path transform=\"translate(200,100)\" d=\"M2.7386127875258306,0A2.7386127875258306,2.7386127875258306,0,1,1,-2.7386127875258306,0A2.7386127875258306,2.7386127875258306,0,1,1,2.7386127875258306,0\" style=\"fill: #4c78a8; stroke-width: 2; opacity: 0.7;\"></path><path transform=\"translate(50,100)\" d=\"M2.7386127875258306,0A2.7386127875258306,2.7386127875258306,0,1,1,-2.7386127875258306,0A2.7386127875258306,2.7386127875258306,0,1,1,2.7386127875258306,0\" style=\"fill: #4c78a8; stroke-width: 2; opacity: 0.7;\"></path><path transform=\"translate(175,87.14285714285714)\" d=\"M2.7386127875258306,0A2.7386127875258306,2.7386127875258306,0,1,1,-2.7386127875258306,0A2.7386127875258306,2.7386127875258306,0,1,1,2.7386127875258306,0\" style=\"fill: #4c78a8; stroke-width: 2; opacity: 0.7;\"></path><path transform=\"translate(50,98.57142857142858)\" d=\"M2.7386127875258306,0A2.7386127875258306,2.7386127875258306,0,1,1,-2.7386127875258306,0A2.7386127875258306,2.7386127875258306,0,1,1,2.7386127875258306,0\" style=\"fill: #4c78a8; stroke-width: 2; opacity: 0.7;\"></path><path transform=\"translate(75,81.42857142857143)\" d=\"M2.7386127875258306,0A2.7386127875258306,2.7386127875258306,0,1,1,-2.7386127875258306,0A2.7386127875258306,2.7386127875258306,0,1,1,2.7386127875258306,0\" style=\"fill: #4c78a8; stroke-width: 2; opacity: 0.7;\"></path><path transform=\"translate(175,85.71428571428572)\" d=\"M2.7386127875258306,0A2.7386127875258306,2.7386127875258306,0,1,1,-2.7386127875258306,0A2.7386127875258306,2.7386127875258306,0,1,1,2.7386127875258306,0\" style=\"fill: #4c78a8; stroke-width: 2; opacity: 0.7;\"></path><path transform=\"translate(200,98.57142857142858)\" d=\"M2.7386127875258306,0A2.7386127875258306,2.7386127875258306,0,1,1,-2.7386127875258306,0A2.7386127875258306,2.7386127875258306,0,1,1,2.7386127875258306,0\" style=\"fill: #4c78a8; stroke-width: 2; opacity: 0.7;\"></path><path transform=\"translate(175,84.28571428571428)\" d=\"M2.7386127875258306,0A2.7386127875258306,2.7386127875258306,0,1,1,-2.7386127875258306,0A2.7386127875258306,2.7386127875258306,0,1,1,2.7386127875258306,0\" style=\"fill: #4c78a8; stroke-width: 2; opacity: 0.7;\"></path><path transform=\"translate(100,70)\" d=\"M2.7386127875258306,0A2.7386127875258306,2.7386127875258306,0,1,1,-2.7386127875258306,0A2.7386127875258306,2.7386127875258306,0,1,1,2.7386127875258306,0\" style=\"fill: #4c78a8; stroke-width: 2; opacity: 0.7;\"></path><path transform=\"translate(200,97.14285714285715)\" d=\"M2.7386127875258306,0A2.7386127875258306,2.7386127875258306,0,1,1,-2.7386127875258306,0A2.7386127875258306,2.7386127875258306,0,1,1,2.7386127875258306,0\" style=\"fill: #4c78a8; stroke-width: 2; opacity: 0.7;\"></path><path transform=\"translate(200,95.71428571428571)\" d=\"M2.7386127875258306,0A2.7386127875258306,2.7386127875258306,0,1,1,-2.7386127875258306,0A2.7386127875258306,2.7386127875258306,0,1,1,2.7386127875258306,0\" style=\"fill: #4c78a8; stroke-width: 2; opacity: 0.7;\"></path><path transform=\"translate(125,97.14285714285715)\" d=\"M2.7386127875258306,0A2.7386127875258306,2.7386127875258306,0,1,1,-2.7386127875258306,0A2.7386127875258306,2.7386127875258306,0,1,1,2.7386127875258306,0\" style=\"fill: #4c78a8; stroke-width: 2; opacity: 0.7;\"></path><path transform=\"translate(200,94.28571428571428)\" d=\"M2.7386127875258306,0A2.7386127875258306,2.7386127875258306,0,1,1,-2.7386127875258306,0A2.7386127875258306,2.7386127875258306,0,1,1,2.7386127875258306,0\" style=\"fill: #4c78a8; stroke-width: 2; opacity: 0.7;\"></path><path transform=\"translate(175,82.85714285714285)\" d=\"M2.7386127875258306,0A2.7386127875258306,2.7386127875258306,0,1,1,-2.7386127875258306,0A2.7386127875258306,2.7386127875258306,0,1,1,2.7386127875258306,0\" style=\"fill: #4c78a8; stroke-width: 2; opacity: 0.7;\"></path><path transform=\"translate(0,52.85714285714283)\" d=\"M2.7386127875258306,0A2.7386127875258306,2.7386127875258306,0,1,1,-2.7386127875258306,0A2.7386127875258306,2.7386127875258306,0,1,1,2.7386127875258306,0\" style=\"fill: #4c78a8; stroke-width: 2; opacity: 0.7;\"></path><path transform=\"translate(75,80)\" d=\"M2.7386127875258306,0A2.7386127875258306,2.7386127875258306,0,1,1,-2.7386127875258306,0A2.7386127875258306,2.7386127875258306,0,1,1,2.7386127875258306,0\" style=\"fill: #4c78a8; stroke-width: 2; opacity: 0.7;\"></path><path transform=\"translate(175,81.42857142857143)\" d=\"M2.7386127875258306,0A2.7386127875258306,2.7386127875258306,0,1,1,-2.7386127875258306,0A2.7386127875258306,2.7386127875258306,0,1,1,2.7386127875258306,0\" style=\"fill: #4c78a8; stroke-width: 2; opacity: 0.7;\"></path><path transform=\"translate(50,97.14285714285715)\" d=\"M2.7386127875258306,0A2.7386127875258306,2.7386127875258306,0,1,1,-2.7386127875258306,0A2.7386127875258306,2.7386127875258306,0,1,1,2.7386127875258306,0\" style=\"fill: #4c78a8; stroke-width: 2; opacity: 0.7;\"></path><path transform=\"translate(0,51.428571428571416)\" d=\"M2.7386127875258306,0A2.7386127875258306,2.7386127875258306,0,1,1,-2.7386127875258306,0A2.7386127875258306,2.7386127875258306,0,1,1,2.7386127875258306,0\" style=\"fill: #4c78a8; stroke-width: 2; opacity: 0.7;\"></path><path transform=\"translate(200,92.85714285714286)\" d=\"M2.7386127875258306,0A2.7386127875258306,2.7386127875258306,0,1,1,-2.7386127875258306,0A2.7386127875258306,2.7386127875258306,0,1,1,2.7386127875258306,0\" style=\"fill: #4c78a8; stroke-width: 2; opacity: 0.7;\"></path><path transform=\"translate(25,111.42857142857143)\" d=\"M2.7386127875258306,0A2.7386127875258306,2.7386127875258306,0,1,1,-2.7386127875258306,0A2.7386127875258306,2.7386127875258306,0,1,1,2.7386127875258306,0\" style=\"fill: #4c78a8; stroke-width: 2; opacity: 0.7;\"></path><path transform=\"translate(125,95.71428571428571)\" d=\"M2.7386127875258306,0A2.7386127875258306,2.7386127875258306,0,1,1,-2.7386127875258306,0A2.7386127875258306,2.7386127875258306,0,1,1,2.7386127875258306,0\" style=\"fill: #4c78a8; stroke-width: 2; opacity: 0.7;\"></path><path transform=\"translate(25,110)\" d=\"M2.7386127875258306,0A2.7386127875258306,2.7386127875258306,0,1,1,-2.7386127875258306,0A2.7386127875258306,2.7386127875258306,0,1,1,2.7386127875258306,0\" style=\"fill: #4c78a8; stroke-width: 2; opacity: 0.7;\"></path><path transform=\"translate(150,89.99999999999999)\" d=\"M2.7386127875258306,0A2.7386127875258306,2.7386127875258306,0,1,1,-2.7386127875258306,0A2.7386127875258306,2.7386127875258306,0,1,1,2.7386127875258306,0\" style=\"fill: #4c78a8; stroke-width: 2; opacity: 0.7;\"></path><path transform=\"translate(125,94.28571428571428)\" d=\"M2.7386127875258306,0A2.7386127875258306,2.7386127875258306,0,1,1,-2.7386127875258306,0A2.7386127875258306,2.7386127875258306,0,1,1,2.7386127875258306,0\" style=\"fill: #4c78a8; stroke-width: 2; opacity: 0.7;\"></path><path transform=\"translate(0,50)\" d=\"M2.7386127875258306,0A2.7386127875258306,2.7386127875258306,0,1,1,-2.7386127875258306,0A2.7386127875258306,2.7386127875258306,0,1,1,2.7386127875258306,0\" style=\"fill: #4c78a8; stroke-width: 2; opacity: 0.7;\"></path><path transform=\"translate(150,88.57142857142857)\" d=\"M2.7386127875258306,0A2.7386127875258306,2.7386127875258306,0,1,1,-2.7386127875258306,0A2.7386127875258306,2.7386127875258306,0,1,1,2.7386127875258306,0\" style=\"fill: #4c78a8; stroke-width: 2; opacity: 0.7;\"></path><path transform=\"translate(200,91.42857142857143)\" d=\"M2.7386127875258306,0A2.7386127875258306,2.7386127875258306,0,1,1,-2.7386127875258306,0A2.7386127875258306,2.7386127875258306,0,1,1,2.7386127875258306,0\" style=\"fill: #4c78a8; stroke-width: 2; opacity: 0.7;\"></path><path transform=\"translate(175,80)\" d=\"M2.7386127875258306,0A2.7386127875258306,2.7386127875258306,0,1,1,-2.7386127875258306,0A2.7386127875258306,2.7386127875258306,0,1,1,2.7386127875258306,0\" style=\"fill: #4c78a8; stroke-width: 2; opacity: 0.7;\"></path><path transform=\"translate(75,78.57142857142858)\" d=\"M2.7386127875258306,0A2.7386127875258306,2.7386127875258306,0,1,1,-2.7386127875258306,0A2.7386127875258306,2.7386127875258306,0,1,1,2.7386127875258306,0\" style=\"fill: #4c78a8; stroke-width: 2; opacity: 0.7;\"></path><path transform=\"translate(0,48.571428571428584)\" d=\"M2.7386127875258306,0A2.7386127875258306,2.7386127875258306,0,1,1,-2.7386127875258306,0A2.7386127875258306,2.7386127875258306,0,1,1,2.7386127875258306,0\" style=\"fill: #4c78a8; stroke-width: 2; opacity: 0.7;\"></path><path transform=\"translate(0,47.14285714285717)\" d=\"M2.7386127875258306,0A2.7386127875258306,2.7386127875258306,0,1,1,-2.7386127875258306,0A2.7386127875258306,2.7386127875258306,0,1,1,2.7386127875258306,0\" style=\"fill: #4c78a8; stroke-width: 2; opacity: 0.7;\"></path><path transform=\"translate(125,92.85714285714286)\" d=\"M2.7386127875258306,0A2.7386127875258306,2.7386127875258306,0,1,1,-2.7386127875258306,0A2.7386127875258306,2.7386127875258306,0,1,1,2.7386127875258306,0\" style=\"fill: #4c78a8; stroke-width: 2; opacity: 0.7;\"></path><path transform=\"translate(150,87.14285714285714)\" d=\"M2.7386127875258306,0A2.7386127875258306,2.7386127875258306,0,1,1,-2.7386127875258306,0A2.7386127875258306,2.7386127875258306,0,1,1,2.7386127875258306,0\" style=\"fill: #4c78a8; stroke-width: 2; opacity: 0.7;\"></path><path transform=\"translate(150,85.71428571428572)\" d=\"M2.7386127875258306,0A2.7386127875258306,2.7386127875258306,0,1,1,-2.7386127875258306,0A2.7386127875258306,2.7386127875258306,0,1,1,2.7386127875258306,0\" style=\"fill: #4c78a8; stroke-width: 2; opacity: 0.7;\"></path><path transform=\"translate(0,45.714285714285694)\" d=\"M2.7386127875258306,0A2.7386127875258306,2.7386127875258306,0,1,1,-2.7386127875258306,0A2.7386127875258306,2.7386127875258306,0,1,1,2.7386127875258306,0\" style=\"fill: #4c78a8; stroke-width: 2; opacity: 0.7;\"></path><path transform=\"translate(150,84.28571428571428)\" d=\"M2.7386127875258306,0A2.7386127875258306,2.7386127875258306,0,1,1,-2.7386127875258306,0A2.7386127875258306,2.7386127875258306,0,1,1,2.7386127875258306,0\" style=\"fill: #4c78a8; stroke-width: 2; opacity: 0.7;\"></path><path transform=\"translate(0,44.28571428571428)\" d=\"M2.7386127875258306,0A2.7386127875258306,2.7386127875258306,0,1,1,-2.7386127875258306,0A2.7386127875258306,2.7386127875258306,0,1,1,2.7386127875258306,0\" style=\"fill: #4c78a8; stroke-width: 2; opacity: 0.7;\"></path><path transform=\"translate(0,42.85714285714286)\" d=\"M2.7386127875258306,0A2.7386127875258306,2.7386127875258306,0,1,1,-2.7386127875258306,0A2.7386127875258306,2.7386127875258306,0,1,1,2.7386127875258306,0\" style=\"fill: #4c78a8; stroke-width: 2; opacity: 0.7;\"></path><path transform=\"translate(125,91.42857142857143)\" d=\"M2.7386127875258306,0A2.7386127875258306,2.7386127875258306,0,1,1,-2.7386127875258306,0A2.7386127875258306,2.7386127875258306,0,1,1,2.7386127875258306,0\" style=\"fill: #4c78a8; stroke-width: 2; opacity: 0.7;\"></path><path transform=\"translate(100,68.57142857142858)\" d=\"M2.7386127875258306,0A2.7386127875258306,2.7386127875258306,0,1,1,-2.7386127875258306,0A2.7386127875258306,2.7386127875258306,0,1,1,2.7386127875258306,0\" style=\"fill: #4c78a8; stroke-width: 2; opacity: 0.7;\"></path><path transform=\"translate(125,89.99999999999999)\" d=\"M2.7386127875258306,0A2.7386127875258306,2.7386127875258306,0,1,1,-2.7386127875258306,0A2.7386127875258306,2.7386127875258306,0,1,1,2.7386127875258306,0\" style=\"fill: #4c78a8; stroke-width: 2; opacity: 0.7;\"></path><path transform=\"translate(100,67.14285714285714)\" d=\"M2.7386127875258306,0A2.7386127875258306,2.7386127875258306,0,1,1,-2.7386127875258306,0A2.7386127875258306,2.7386127875258306,0,1,1,2.7386127875258306,0\" style=\"fill: #4c78a8; stroke-width: 2; opacity: 0.7;\"></path><path transform=\"translate(75,77.14285714285714)\" d=\"M2.7386127875258306,0A2.7386127875258306,2.7386127875258306,0,1,1,-2.7386127875258306,0A2.7386127875258306,2.7386127875258306,0,1,1,2.7386127875258306,0\" style=\"fill: #4c78a8; stroke-width: 2; opacity: 0.7;\"></path><path transform=\"translate(25,108.57142857142857)\" d=\"M2.7386127875258306,0A2.7386127875258306,2.7386127875258306,0,1,1,-2.7386127875258306,0A2.7386127875258306,2.7386127875258306,0,1,1,2.7386127875258306,0\" style=\"fill: #4c78a8; stroke-width: 2; opacity: 0.7;\"></path><path transform=\"translate(150,82.85714285714285)\" d=\"M2.7386127875258306,0A2.7386127875258306,2.7386127875258306,0,1,1,-2.7386127875258306,0A2.7386127875258306,2.7386127875258306,0,1,1,2.7386127875258306,0\" style=\"fill: #4c78a8; stroke-width: 2; opacity: 0.7;\"></path><path transform=\"translate(200,89.99999999999999)\" d=\"M2.7386127875258306,0A2.7386127875258306,2.7386127875258306,0,1,1,-2.7386127875258306,0A2.7386127875258306,2.7386127875258306,0,1,1,2.7386127875258306,0\" style=\"fill: #4c78a8; stroke-width: 2; opacity: 0.7;\"></path><path transform=\"translate(125,88.57142857142857)\" d=\"M2.7386127875258306,0A2.7386127875258306,2.7386127875258306,0,1,1,-2.7386127875258306,0A2.7386127875258306,2.7386127875258306,0,1,1,2.7386127875258306,0\" style=\"fill: #4c78a8; stroke-width: 2; opacity: 0.7;\"></path><path transform=\"translate(175,78.57142857142858)\" d=\"M2.7386127875258306,0A2.7386127875258306,2.7386127875258306,0,1,1,-2.7386127875258306,0A2.7386127875258306,2.7386127875258306,0,1,1,2.7386127875258306,0\" style=\"fill: #4c78a8; stroke-width: 2; opacity: 0.7;\"></path><path transform=\"translate(25,107.14285714285714)\" d=\"M2.7386127875258306,0A2.7386127875258306,2.7386127875258306,0,1,1,-2.7386127875258306,0A2.7386127875258306,2.7386127875258306,0,1,1,2.7386127875258306,0\" style=\"fill: #4c78a8; stroke-width: 2; opacity: 0.7;\"></path><path transform=\"translate(25,105.71428571428572)\" d=\"M2.7386127875258306,0A2.7386127875258306,2.7386127875258306,0,1,1,-2.7386127875258306,0A2.7386127875258306,2.7386127875258306,0,1,1,2.7386127875258306,0\" style=\"fill: #4c78a8; stroke-width: 2; opacity: 0.7;\"></path><path transform=\"translate(100,65.71428571428572)\" d=\"M2.7386127875258306,0A2.7386127875258306,2.7386127875258306,0,1,1,-2.7386127875258306,0A2.7386127875258306,2.7386127875258306,0,1,1,2.7386127875258306,0\" style=\"fill: #4c78a8; stroke-width: 2; opacity: 0.7;\"></path><path transform=\"translate(125,87.14285714285714)\" d=\"M2.7386127875258306,0A2.7386127875258306,2.7386127875258306,0,1,1,-2.7386127875258306,0A2.7386127875258306,2.7386127875258306,0,1,1,2.7386127875258306,0\" style=\"fill: #4c78a8; stroke-width: 2; opacity: 0.7;\"></path><path transform=\"translate(200,88.57142857142857)\" d=\"M2.7386127875258306,0A2.7386127875258306,2.7386127875258306,0,1,1,-2.7386127875258306,0A2.7386127875258306,2.7386127875258306,0,1,1,2.7386127875258306,0\" style=\"fill: #4c78a8; stroke-width: 2; opacity: 0.7;\"></path><path transform=\"translate(100,64.28571428571428)\" d=\"M2.7386127875258306,0A2.7386127875258306,2.7386127875258306,0,1,1,-2.7386127875258306,0A2.7386127875258306,2.7386127875258306,0,1,1,2.7386127875258306,0\" style=\"fill: #4c78a8; stroke-width: 2; opacity: 0.7;\"></path><path transform=\"translate(50,95.71428571428571)\" d=\"M2.7386127875258306,0A2.7386127875258306,2.7386127875258306,0,1,1,-2.7386127875258306,0A2.7386127875258306,2.7386127875258306,0,1,1,2.7386127875258306,0\" style=\"fill: #4c78a8; stroke-width: 2; opacity: 0.7;\"></path><path transform=\"translate(100,62.85714285714286)\" d=\"M2.7386127875258306,0A2.7386127875258306,2.7386127875258306,0,1,1,-2.7386127875258306,0A2.7386127875258306,2.7386127875258306,0,1,1,2.7386127875258306,0\" style=\"fill: #4c78a8; stroke-width: 2; opacity: 0.7;\"></path><path transform=\"translate(100,61.428571428571445)\" d=\"M2.7386127875258306,0A2.7386127875258306,2.7386127875258306,0,1,1,-2.7386127875258306,0A2.7386127875258306,2.7386127875258306,0,1,1,2.7386127875258306,0\" style=\"fill: #4c78a8; stroke-width: 2; opacity: 0.7;\"></path><path transform=\"translate(150,81.42857142857143)\" d=\"M2.7386127875258306,0A2.7386127875258306,2.7386127875258306,0,1,1,-2.7386127875258306,0A2.7386127875258306,2.7386127875258306,0,1,1,2.7386127875258306,0\" style=\"fill: #4c78a8; stroke-width: 2; opacity: 0.7;\"></path><path transform=\"translate(100,60)\" d=\"M2.7386127875258306,0A2.7386127875258306,2.7386127875258306,0,1,1,-2.7386127875258306,0A2.7386127875258306,2.7386127875258306,0,1,1,2.7386127875258306,0\" style=\"fill: #4c78a8; stroke-width: 2; opacity: 0.7;\"></path><path transform=\"translate(50,94.28571428571428)\" d=\"M2.7386127875258306,0A2.7386127875258306,2.7386127875258306,0,1,1,-2.7386127875258306,0A2.7386127875258306,2.7386127875258306,0,1,1,2.7386127875258306,0\" style=\"fill: #4c78a8; stroke-width: 2; opacity: 0.7;\"></path><path transform=\"translate(25,104.28571428571428)\" d=\"M2.7386127875258306,0A2.7386127875258306,2.7386127875258306,0,1,1,-2.7386127875258306,0A2.7386127875258306,2.7386127875258306,0,1,1,2.7386127875258306,0\" style=\"fill: #4c78a8; stroke-width: 2; opacity: 0.7;\"></path><path transform=\"translate(100,58.571428571428555)\" d=\"M2.7386127875258306,0A2.7386127875258306,2.7386127875258306,0,1,1,-2.7386127875258306,0A2.7386127875258306,2.7386127875258306,0,1,1,2.7386127875258306,0\" style=\"fill: #4c78a8; stroke-width: 2; opacity: 0.7;\"></path><path transform=\"translate(25,102.85714285714286)\" d=\"M2.7386127875258306,0A2.7386127875258306,2.7386127875258306,0,1,1,-2.7386127875258306,0A2.7386127875258306,2.7386127875258306,0,1,1,2.7386127875258306,0\" style=\"fill: #4c78a8; stroke-width: 2; opacity: 0.7;\"></path><path transform=\"translate(200,87.14285714285714)\" d=\"M2.7386127875258306,0A2.7386127875258306,2.7386127875258306,0,1,1,-2.7386127875258306,0A2.7386127875258306,2.7386127875258306,0,1,1,2.7386127875258306,0\" style=\"fill: #4c78a8; stroke-width: 2; opacity: 0.7;\"></path><path transform=\"translate(150,80)\" d=\"M2.7386127875258306,0A2.7386127875258306,2.7386127875258306,0,1,1,-2.7386127875258306,0A2.7386127875258306,2.7386127875258306,0,1,1,2.7386127875258306,0\" style=\"fill: #4c78a8; stroke-width: 2; opacity: 0.7;\"></path><path transform=\"translate(150,78.57142857142858)\" d=\"M2.7386127875258306,0A2.7386127875258306,2.7386127875258306,0,1,1,-2.7386127875258306,0A2.7386127875258306,2.7386127875258306,0,1,1,2.7386127875258306,0\" style=\"fill: #4c78a8; stroke-width: 2; opacity: 0.7;\"></path><path transform=\"translate(75,75.71428571428571)\" d=\"M2.7386127875258306,0A2.7386127875258306,2.7386127875258306,0,1,1,-2.7386127875258306,0A2.7386127875258306,2.7386127875258306,0,1,1,2.7386127875258306,0\" style=\"fill: #4c78a8; stroke-width: 2; opacity: 0.7;\"></path><path transform=\"translate(75,74.28571428571429)\" d=\"M2.7386127875258306,0A2.7386127875258306,2.7386127875258306,0,1,1,-2.7386127875258306,0A2.7386127875258306,2.7386127875258306,0,1,1,2.7386127875258306,0\" style=\"fill: #4c78a8; stroke-width: 2; opacity: 0.7;\"></path><path transform=\"translate(150,77.14285714285714)\" d=\"M2.7386127875258306,0A2.7386127875258306,2.7386127875258306,0,1,1,-2.7386127875258306,0A2.7386127875258306,2.7386127875258306,0,1,1,2.7386127875258306,0\" style=\"fill: #4c78a8; stroke-width: 2; opacity: 0.7;\"></path><path transform=\"translate(100,57.14285714285714)\" d=\"M2.7386127875258306,0A2.7386127875258306,2.7386127875258306,0,1,1,-2.7386127875258306,0A2.7386127875258306,2.7386127875258306,0,1,1,2.7386127875258306,0\" style=\"fill: #4c78a8; stroke-width: 2; opacity: 0.7;\"></path><path transform=\"translate(25,101.42857142857142)\" d=\"M2.7386127875258306,0A2.7386127875258306,2.7386127875258306,0,1,1,-2.7386127875258306,0A2.7386127875258306,2.7386127875258306,0,1,1,2.7386127875258306,0\" style=\"fill: #4c78a8; stroke-width: 2; opacity: 0.7;\"></path><path transform=\"translate(25,100)\" d=\"M2.7386127875258306,0A2.7386127875258306,2.7386127875258306,0,1,1,-2.7386127875258306,0A2.7386127875258306,2.7386127875258306,0,1,1,2.7386127875258306,0\" style=\"fill: #4c78a8; stroke-width: 2; opacity: 0.7;\"></path><path transform=\"translate(25,98.57142857142858)\" d=\"M2.7386127875258306,0A2.7386127875258306,2.7386127875258306,0,1,1,-2.7386127875258306,0A2.7386127875258306,2.7386127875258306,0,1,1,2.7386127875258306,0\" style=\"fill: #4c78a8; stroke-width: 2; opacity: 0.7;\"></path><path transform=\"translate(0,41.428571428571445)\" d=\"M2.7386127875258306,0A2.7386127875258306,2.7386127875258306,0,1,1,-2.7386127875258306,0A2.7386127875258306,2.7386127875258306,0,1,1,2.7386127875258306,0\" style=\"fill: #4c78a8; stroke-width: 2; opacity: 0.7;\"></path><path transform=\"translate(175,77.14285714285714)\" d=\"M2.7386127875258306,0A2.7386127875258306,2.7386127875258306,0,1,1,-2.7386127875258306,0A2.7386127875258306,2.7386127875258306,0,1,1,2.7386127875258306,0\" style=\"fill: #4c78a8; stroke-width: 2; opacity: 0.7;\"></path><path transform=\"translate(75,72.85714285714286)\" d=\"M2.7386127875258306,0A2.7386127875258306,2.7386127875258306,0,1,1,-2.7386127875258306,0A2.7386127875258306,2.7386127875258306,0,1,1,2.7386127875258306,0\" style=\"fill: #4c78a8; stroke-width: 2; opacity: 0.7;\"></path><path transform=\"translate(150,75.71428571428571)\" d=\"M2.7386127875258306,0A2.7386127875258306,2.7386127875258306,0,1,1,-2.7386127875258306,0A2.7386127875258306,2.7386127875258306,0,1,1,2.7386127875258306,0\" style=\"fill: #4c78a8; stroke-width: 2; opacity: 0.7;\"></path><path transform=\"translate(25,97.14285714285715)\" d=\"M2.7386127875258306,0A2.7386127875258306,2.7386127875258306,0,1,1,-2.7386127875258306,0A2.7386127875258306,2.7386127875258306,0,1,1,2.7386127875258306,0\" style=\"fill: #4c78a8; stroke-width: 2; opacity: 0.7;\"></path><path transform=\"translate(150,74.28571428571429)\" d=\"M2.7386127875258306,0A2.7386127875258306,2.7386127875258306,0,1,1,-2.7386127875258306,0A2.7386127875258306,2.7386127875258306,0,1,1,2.7386127875258306,0\" style=\"fill: #4c78a8; stroke-width: 2; opacity: 0.7;\"></path><path transform=\"translate(25,95.71428571428571)\" d=\"M2.7386127875258306,0A2.7386127875258306,2.7386127875258306,0,1,1,-2.7386127875258306,0A2.7386127875258306,2.7386127875258306,0,1,1,2.7386127875258306,0\" style=\"fill: #4c78a8; stroke-width: 2; opacity: 0.7;\"></path><path transform=\"translate(50,92.85714285714286)\" d=\"M2.7386127875258306,0A2.7386127875258306,2.7386127875258306,0,1,1,-2.7386127875258306,0A2.7386127875258306,2.7386127875258306,0,1,1,2.7386127875258306,0\" style=\"fill: #4c78a8; stroke-width: 2; opacity: 0.7;\"></path><path transform=\"translate(125,85.71428571428572)\" d=\"M2.7386127875258306,0A2.7386127875258306,2.7386127875258306,0,1,1,-2.7386127875258306,0A2.7386127875258306,2.7386127875258306,0,1,1,2.7386127875258306,0\" style=\"fill: #4c78a8; stroke-width: 2; opacity: 0.7;\"></path><path transform=\"translate(0,40)\" d=\"M2.7386127875258306,0A2.7386127875258306,2.7386127875258306,0,1,1,-2.7386127875258306,0A2.7386127875258306,2.7386127875258306,0,1,1,2.7386127875258306,0\" style=\"fill: #4c78a8; stroke-width: 2; opacity: 0.7;\"></path><path transform=\"translate(150,72.85714285714286)\" d=\"M2.7386127875258306,0A2.7386127875258306,2.7386127875258306,0,1,1,-2.7386127875258306,0A2.7386127875258306,2.7386127875258306,0,1,1,2.7386127875258306,0\" style=\"fill: #4c78a8; stroke-width: 2; opacity: 0.7;\"></path><path transform=\"translate(175,75.71428571428571)\" d=\"M2.7386127875258306,0A2.7386127875258306,2.7386127875258306,0,1,1,-2.7386127875258306,0A2.7386127875258306,2.7386127875258306,0,1,1,2.7386127875258306,0\" style=\"fill: #4c78a8; stroke-width: 2; opacity: 0.7;\"></path><path transform=\"translate(50,91.42857142857143)\" d=\"M2.7386127875258306,0A2.7386127875258306,2.7386127875258306,0,1,1,-2.7386127875258306,0A2.7386127875258306,2.7386127875258306,0,1,1,2.7386127875258306,0\" style=\"fill: #4c78a8; stroke-width: 2; opacity: 0.7;\"></path><path transform=\"translate(125,84.28571428571428)\" d=\"M2.7386127875258306,0A2.7386127875258306,2.7386127875258306,0,1,1,-2.7386127875258306,0A2.7386127875258306,2.7386127875258306,0,1,1,2.7386127875258306,0\" style=\"fill: #4c78a8; stroke-width: 2; opacity: 0.7;\"></path><path transform=\"translate(25,94.28571428571428)\" d=\"M2.7386127875258306,0A2.7386127875258306,2.7386127875258306,0,1,1,-2.7386127875258306,0A2.7386127875258306,2.7386127875258306,0,1,1,2.7386127875258306,0\" style=\"fill: #4c78a8; stroke-width: 2; opacity: 0.7;\"></path><path transform=\"translate(175,74.28571428571429)\" d=\"M2.7386127875258306,0A2.7386127875258306,2.7386127875258306,0,1,1,-2.7386127875258306,0A2.7386127875258306,2.7386127875258306,0,1,1,2.7386127875258306,0\" style=\"fill: #4c78a8; stroke-width: 2; opacity: 0.7;\"></path><path transform=\"translate(75,71.42857142857142)\" d=\"M2.7386127875258306,0A2.7386127875258306,2.7386127875258306,0,1,1,-2.7386127875258306,0A2.7386127875258306,2.7386127875258306,0,1,1,2.7386127875258306,0\" style=\"fill: #4c78a8; stroke-width: 2; opacity: 0.7;\"></path><path transform=\"translate(100,55.71428571428572)\" d=\"M2.7386127875258306,0A2.7386127875258306,2.7386127875258306,0,1,1,-2.7386127875258306,0A2.7386127875258306,2.7386127875258306,0,1,1,2.7386127875258306,0\" style=\"fill: #4c78a8; stroke-width: 2; opacity: 0.7;\"></path><path transform=\"translate(25,92.85714285714286)\" d=\"M2.7386127875258306,0A2.7386127875258306,2.7386127875258306,0,1,1,-2.7386127875258306,0A2.7386127875258306,2.7386127875258306,0,1,1,2.7386127875258306,0\" style=\"fill: #4c78a8; stroke-width: 2; opacity: 0.7;\"></path><path transform=\"translate(200,85.71428571428572)\" d=\"M2.7386127875258306,0A2.7386127875258306,2.7386127875258306,0,1,1,-2.7386127875258306,0A2.7386127875258306,2.7386127875258306,0,1,1,2.7386127875258306,0\" style=\"fill: #4c78a8; stroke-width: 2; opacity: 0.7;\"></path><path transform=\"translate(50,89.99999999999999)\" d=\"M2.7386127875258306,0A2.7386127875258306,2.7386127875258306,0,1,1,-2.7386127875258306,0A2.7386127875258306,2.7386127875258306,0,1,1,2.7386127875258306,0\" style=\"fill: #4c78a8; stroke-width: 2; opacity: 0.7;\"></path><path transform=\"translate(0,38.571428571428555)\" d=\"M2.7386127875258306,0A2.7386127875258306,2.7386127875258306,0,1,1,-2.7386127875258306,0A2.7386127875258306,2.7386127875258306,0,1,1,2.7386127875258306,0\" style=\"fill: #4c78a8; stroke-width: 2; opacity: 0.7;\"></path><path transform=\"translate(100,54.285714285714306)\" d=\"M2.7386127875258306,0A2.7386127875258306,2.7386127875258306,0,1,1,-2.7386127875258306,0A2.7386127875258306,2.7386127875258306,0,1,1,2.7386127875258306,0\" style=\"fill: #4c78a8; stroke-width: 2; opacity: 0.7;\"></path><path transform=\"translate(100,52.85714285714283)\" d=\"M2.7386127875258306,0A2.7386127875258306,2.7386127875258306,0,1,1,-2.7386127875258306,0A2.7386127875258306,2.7386127875258306,0,1,1,2.7386127875258306,0\" style=\"fill: #4c78a8; stroke-width: 2; opacity: 0.7;\"></path><path transform=\"translate(50,88.57142857142857)\" d=\"M2.7386127875258306,0A2.7386127875258306,2.7386127875258306,0,1,1,-2.7386127875258306,0A2.7386127875258306,2.7386127875258306,0,1,1,2.7386127875258306,0\" style=\"fill: #4c78a8; stroke-width: 2; opacity: 0.7;\"></path><path transform=\"translate(150,71.42857142857142)\" d=\"M2.7386127875258306,0A2.7386127875258306,2.7386127875258306,0,1,1,-2.7386127875258306,0A2.7386127875258306,2.7386127875258306,0,1,1,2.7386127875258306,0\" style=\"fill: #4c78a8; stroke-width: 2; opacity: 0.7;\"></path><path transform=\"translate(150,70)\" d=\"M2.7386127875258306,0A2.7386127875258306,2.7386127875258306,0,1,1,-2.7386127875258306,0A2.7386127875258306,2.7386127875258306,0,1,1,2.7386127875258306,0\" style=\"fill: #4c78a8; stroke-width: 2; opacity: 0.7;\"></path><path transform=\"translate(100,51.428571428571416)\" d=\"M2.7386127875258306,0A2.7386127875258306,2.7386127875258306,0,1,1,-2.7386127875258306,0A2.7386127875258306,2.7386127875258306,0,1,1,2.7386127875258306,0\" style=\"fill: #4c78a8; stroke-width: 2; opacity: 0.7;\"></path><path transform=\"translate(50,87.14285714285714)\" d=\"M2.7386127875258306,0A2.7386127875258306,2.7386127875258306,0,1,1,-2.7386127875258306,0A2.7386127875258306,2.7386127875258306,0,1,1,2.7386127875258306,0\" style=\"fill: #4c78a8; stroke-width: 2; opacity: 0.7;\"></path><path transform=\"translate(125,82.85714285714285)\" d=\"M2.7386127875258306,0A2.7386127875258306,2.7386127875258306,0,1,1,-2.7386127875258306,0A2.7386127875258306,2.7386127875258306,0,1,1,2.7386127875258306,0\" style=\"fill: #4c78a8; stroke-width: 2; opacity: 0.7;\"></path><path transform=\"translate(0,37.14285714285714)\" d=\"M2.7386127875258306,0A2.7386127875258306,2.7386127875258306,0,1,1,-2.7386127875258306,0A2.7386127875258306,2.7386127875258306,0,1,1,2.7386127875258306,0\" style=\"fill: #4c78a8; stroke-width: 2; opacity: 0.7;\"></path><path transform=\"translate(150,68.57142857142858)\" d=\"M2.7386127875258306,0A2.7386127875258306,2.7386127875258306,0,1,1,-2.7386127875258306,0A2.7386127875258306,2.7386127875258306,0,1,1,2.7386127875258306,0\" style=\"fill: #4c78a8; stroke-width: 2; opacity: 0.7;\"></path><path transform=\"translate(175,72.85714285714286)\" d=\"M2.7386127875258306,0A2.7386127875258306,2.7386127875258306,0,1,1,-2.7386127875258306,0A2.7386127875258306,2.7386127875258306,0,1,1,2.7386127875258306,0\" style=\"fill: #4c78a8; stroke-width: 2; opacity: 0.7;\"></path><path transform=\"translate(0,35.71428571428572)\" d=\"M2.7386127875258306,0A2.7386127875258306,2.7386127875258306,0,1,1,-2.7386127875258306,0A2.7386127875258306,2.7386127875258306,0,1,1,2.7386127875258306,0\" style=\"fill: #4c78a8; stroke-width: 2; opacity: 0.7;\"></path><path transform=\"translate(150,67.14285714285714)\" d=\"M2.7386127875258306,0A2.7386127875258306,2.7386127875258306,0,1,1,-2.7386127875258306,0A2.7386127875258306,2.7386127875258306,0,1,1,2.7386127875258306,0\" style=\"fill: #4c78a8; stroke-width: 2; opacity: 0.7;\"></path><path transform=\"translate(150,65.71428571428572)\" d=\"M2.7386127875258306,0A2.7386127875258306,2.7386127875258306,0,1,1,-2.7386127875258306,0A2.7386127875258306,2.7386127875258306,0,1,1,2.7386127875258306,0\" style=\"fill: #4c78a8; stroke-width: 2; opacity: 0.7;\"></path><path transform=\"translate(125,81.42857142857143)\" d=\"M2.7386127875258306,0A2.7386127875258306,2.7386127875258306,0,1,1,-2.7386127875258306,0A2.7386127875258306,2.7386127875258306,0,1,1,2.7386127875258306,0\" style=\"fill: #4c78a8; stroke-width: 2; opacity: 0.7;\"></path><path transform=\"translate(50,85.71428571428572)\" d=\"M2.7386127875258306,0A2.7386127875258306,2.7386127875258306,0,1,1,-2.7386127875258306,0A2.7386127875258306,2.7386127875258306,0,1,1,2.7386127875258306,0\" style=\"fill: #4c78a8; stroke-width: 2; opacity: 0.7;\"></path><path transform=\"translate(25,91.42857142857143)\" d=\"M2.7386127875258306,0A2.7386127875258306,2.7386127875258306,0,1,1,-2.7386127875258306,0A2.7386127875258306,2.7386127875258306,0,1,1,2.7386127875258306,0\" style=\"fill: #4c78a8; stroke-width: 2; opacity: 0.7;\"></path><path transform=\"translate(200,84.28571428571428)\" d=\"M2.7386127875258306,0A2.7386127875258306,2.7386127875258306,0,1,1,-2.7386127875258306,0A2.7386127875258306,2.7386127875258306,0,1,1,2.7386127875258306,0\" style=\"fill: #4c78a8; stroke-width: 2; opacity: 0.7;\"></path><path transform=\"translate(175,71.42857142857142)\" d=\"M2.7386127875258306,0A2.7386127875258306,2.7386127875258306,0,1,1,-2.7386127875258306,0A2.7386127875258306,2.7386127875258306,0,1,1,2.7386127875258306,0\" style=\"fill: #4c78a8; stroke-width: 2; opacity: 0.7;\"></path><path transform=\"translate(25,89.99999999999999)\" d=\"M2.7386127875258306,0A2.7386127875258306,2.7386127875258306,0,1,1,-2.7386127875258306,0A2.7386127875258306,2.7386127875258306,0,1,1,2.7386127875258306,0\" style=\"fill: #4c78a8; stroke-width: 2; opacity: 0.7;\"></path><path transform=\"translate(175,70)\" d=\"M2.7386127875258306,0A2.7386127875258306,2.7386127875258306,0,1,1,-2.7386127875258306,0A2.7386127875258306,2.7386127875258306,0,1,1,2.7386127875258306,0\" style=\"fill: #4c78a8; stroke-width: 2; opacity: 0.7;\"></path><path transform=\"translate(0,34.28571428571428)\" d=\"M2.7386127875258306,0A2.7386127875258306,2.7386127875258306,0,1,1,-2.7386127875258306,0A2.7386127875258306,2.7386127875258306,0,1,1,2.7386127875258306,0\" style=\"fill: #4c78a8; stroke-width: 2; opacity: 0.7;\"></path><path transform=\"translate(175,68.57142857142858)\" d=\"M2.7386127875258306,0A2.7386127875258306,2.7386127875258306,0,1,1,-2.7386127875258306,0A2.7386127875258306,2.7386127875258306,0,1,1,2.7386127875258306,0\" style=\"fill: #4c78a8; stroke-width: 2; opacity: 0.7;\"></path><path transform=\"translate(100,50)\" d=\"M2.7386127875258306,0A2.7386127875258306,2.7386127875258306,0,1,1,-2.7386127875258306,0A2.7386127875258306,2.7386127875258306,0,1,1,2.7386127875258306,0\" style=\"fill: #4c78a8; stroke-width: 2; opacity: 0.7;\"></path><path transform=\"translate(25,88.57142857142857)\" d=\"M2.7386127875258306,0A2.7386127875258306,2.7386127875258306,0,1,1,-2.7386127875258306,0A2.7386127875258306,2.7386127875258306,0,1,1,2.7386127875258306,0\" style=\"fill: #4c78a8; stroke-width: 2; opacity: 0.7;\"></path><path transform=\"translate(100,48.571428571428584)\" d=\"M2.7386127875258306,0A2.7386127875258306,2.7386127875258306,0,1,1,-2.7386127875258306,0A2.7386127875258306,2.7386127875258306,0,1,1,2.7386127875258306,0\" style=\"fill: #4c78a8; stroke-width: 2; opacity: 0.7;\"></path><path transform=\"translate(125,80)\" d=\"M2.7386127875258306,0A2.7386127875258306,2.7386127875258306,0,1,1,-2.7386127875258306,0A2.7386127875258306,2.7386127875258306,0,1,1,2.7386127875258306,0\" style=\"fill: #4c78a8; stroke-width: 2; opacity: 0.7;\"></path><path transform=\"translate(100,47.14285714285717)\" d=\"M2.7386127875258306,0A2.7386127875258306,2.7386127875258306,0,1,1,-2.7386127875258306,0A2.7386127875258306,2.7386127875258306,0,1,1,2.7386127875258306,0\" style=\"fill: #4c78a8; stroke-width: 2; opacity: 0.7;\"></path><path transform=\"translate(100,45.714285714285694)\" d=\"M2.7386127875258306,0A2.7386127875258306,2.7386127875258306,0,1,1,-2.7386127875258306,0A2.7386127875258306,2.7386127875258306,0,1,1,2.7386127875258306,0\" style=\"fill: #4c78a8; stroke-width: 2; opacity: 0.7;\"></path><path transform=\"translate(75,70)\" d=\"M2.7386127875258306,0A2.7386127875258306,2.7386127875258306,0,1,1,-2.7386127875258306,0A2.7386127875258306,2.7386127875258306,0,1,1,2.7386127875258306,0\" style=\"fill: #4c78a8; stroke-width: 2; opacity: 0.7;\"></path><path transform=\"translate(25,87.14285714285714)\" d=\"M2.7386127875258306,0A2.7386127875258306,2.7386127875258306,0,1,1,-2.7386127875258306,0A2.7386127875258306,2.7386127875258306,0,1,1,2.7386127875258306,0\" style=\"fill: #4c78a8; stroke-width: 2; opacity: 0.7;\"></path><path transform=\"translate(50,84.28571428571428)\" d=\"M2.7386127875258306,0A2.7386127875258306,2.7386127875258306,0,1,1,-2.7386127875258306,0A2.7386127875258306,2.7386127875258306,0,1,1,2.7386127875258306,0\" style=\"fill: #4c78a8; stroke-width: 2; opacity: 0.7;\"></path><path transform=\"translate(125,78.57142857142858)\" d=\"M2.7386127875258306,0A2.7386127875258306,2.7386127875258306,0,1,1,-2.7386127875258306,0A2.7386127875258306,2.7386127875258306,0,1,1,2.7386127875258306,0\" style=\"fill: #4c78a8; stroke-width: 2; opacity: 0.7;\"></path><path transform=\"translate(125,77.14285714285714)\" d=\"M2.7386127875258306,0A2.7386127875258306,2.7386127875258306,0,1,1,-2.7386127875258306,0A2.7386127875258306,2.7386127875258306,0,1,1,2.7386127875258306,0\" style=\"fill: #4c78a8; stroke-width: 2; opacity: 0.7;\"></path><path transform=\"translate(25,85.71428571428572)\" d=\"M2.7386127875258306,0A2.7386127875258306,2.7386127875258306,0,1,1,-2.7386127875258306,0A2.7386127875258306,2.7386127875258306,0,1,1,2.7386127875258306,0\" style=\"fill: #4c78a8; stroke-width: 2; opacity: 0.7;\"></path><path transform=\"translate(125,75.71428571428571)\" d=\"M2.7386127875258306,0A2.7386127875258306,2.7386127875258306,0,1,1,-2.7386127875258306,0A2.7386127875258306,2.7386127875258306,0,1,1,2.7386127875258306,0\" style=\"fill: #4c78a8; stroke-width: 2; opacity: 0.7;\"></path><path transform=\"translate(100,44.28571428571428)\" d=\"M2.7386127875258306,0A2.7386127875258306,2.7386127875258306,0,1,1,-2.7386127875258306,0A2.7386127875258306,2.7386127875258306,0,1,1,2.7386127875258306,0\" style=\"fill: #4c78a8; stroke-width: 2; opacity: 0.7;\"></path><path transform=\"translate(150,64.28571428571428)\" d=\"M2.7386127875258306,0A2.7386127875258306,2.7386127875258306,0,1,1,-2.7386127875258306,0A2.7386127875258306,2.7386127875258306,0,1,1,2.7386127875258306,0\" style=\"fill: #4c78a8; stroke-width: 2; opacity: 0.7;\"></path><path transform=\"translate(200,82.85714285714285)\" d=\"M2.7386127875258306,0A2.7386127875258306,2.7386127875258306,0,1,1,-2.7386127875258306,0A2.7386127875258306,2.7386127875258306,0,1,1,2.7386127875258306,0\" style=\"fill: #4c78a8; stroke-width: 2; opacity: 0.7;\"></path><path transform=\"translate(150,62.85714285714286)\" d=\"M2.7386127875258306,0A2.7386127875258306,2.7386127875258306,0,1,1,-2.7386127875258306,0A2.7386127875258306,2.7386127875258306,0,1,1,2.7386127875258306,0\" style=\"fill: #4c78a8; stroke-width: 2; opacity: 0.7;\"></path><path transform=\"translate(75,68.57142857142858)\" d=\"M2.7386127875258306,0A2.7386127875258306,2.7386127875258306,0,1,1,-2.7386127875258306,0A2.7386127875258306,2.7386127875258306,0,1,1,2.7386127875258306,0\" style=\"fill: #4c78a8; stroke-width: 2; opacity: 0.7;\"></path><path transform=\"translate(0,32.85714285714286)\" d=\"M2.7386127875258306,0A2.7386127875258306,2.7386127875258306,0,1,1,-2.7386127875258306,0A2.7386127875258306,2.7386127875258306,0,1,1,2.7386127875258306,0\" style=\"fill: #4c78a8; stroke-width: 2; opacity: 0.7;\"></path><path transform=\"translate(200,81.42857142857143)\" d=\"M2.7386127875258306,0A2.7386127875258306,2.7386127875258306,0,1,1,-2.7386127875258306,0A2.7386127875258306,2.7386127875258306,0,1,1,2.7386127875258306,0\" style=\"fill: #4c78a8; stroke-width: 2; opacity: 0.7;\"></path><path transform=\"translate(125,74.28571428571429)\" d=\"M2.7386127875258306,0A2.7386127875258306,2.7386127875258306,0,1,1,-2.7386127875258306,0A2.7386127875258306,2.7386127875258306,0,1,1,2.7386127875258306,0\" style=\"fill: #4c78a8; stroke-width: 2; opacity: 0.7;\"></path><path transform=\"translate(75,67.14285714285714)\" d=\"M2.7386127875258306,0A2.7386127875258306,2.7386127875258306,0,1,1,-2.7386127875258306,0A2.7386127875258306,2.7386127875258306,0,1,1,2.7386127875258306,0\" style=\"fill: #4c78a8; stroke-width: 2; opacity: 0.7;\"></path><path transform=\"translate(100,42.85714285714286)\" d=\"M2.7386127875258306,0A2.7386127875258306,2.7386127875258306,0,1,1,-2.7386127875258306,0A2.7386127875258306,2.7386127875258306,0,1,1,2.7386127875258306,0\" style=\"fill: #4c78a8; stroke-width: 2; opacity: 0.7;\"></path><path transform=\"translate(125,72.85714285714286)\" d=\"M2.7386127875258306,0A2.7386127875258306,2.7386127875258306,0,1,1,-2.7386127875258306,0A2.7386127875258306,2.7386127875258306,0,1,1,2.7386127875258306,0\" style=\"fill: #4c78a8; stroke-width: 2; opacity: 0.7;\"></path><path transform=\"translate(50,82.85714285714285)\" d=\"M2.7386127875258306,0A2.7386127875258306,2.7386127875258306,0,1,1,-2.7386127875258306,0A2.7386127875258306,2.7386127875258306,0,1,1,2.7386127875258306,0\" style=\"fill: #4c78a8; stroke-width: 2; opacity: 0.7;\"></path><path transform=\"translate(50,81.42857142857143)\" d=\"M2.7386127875258306,0A2.7386127875258306,2.7386127875258306,0,1,1,-2.7386127875258306,0A2.7386127875258306,2.7386127875258306,0,1,1,2.7386127875258306,0\" style=\"fill: #4c78a8; stroke-width: 2; opacity: 0.7;\"></path><path transform=\"translate(125,71.42857142857142)\" d=\"M2.7386127875258306,0A2.7386127875258306,2.7386127875258306,0,1,1,-2.7386127875258306,0A2.7386127875258306,2.7386127875258306,0,1,1,2.7386127875258306,0\" style=\"fill: #4c78a8; stroke-width: 2; opacity: 0.7;\"></path><path transform=\"translate(200,80)\" d=\"M2.7386127875258306,0A2.7386127875258306,2.7386127875258306,0,1,1,-2.7386127875258306,0A2.7386127875258306,2.7386127875258306,0,1,1,2.7386127875258306,0\" style=\"fill: #4c78a8; stroke-width: 2; opacity: 0.7;\"></path><path transform=\"translate(175,67.14285714285714)\" d=\"M2.7386127875258306,0A2.7386127875258306,2.7386127875258306,0,1,1,-2.7386127875258306,0A2.7386127875258306,2.7386127875258306,0,1,1,2.7386127875258306,0\" style=\"fill: #4c78a8; stroke-width: 2; opacity: 0.7;\"></path><path transform=\"translate(175,65.71428571428572)\" d=\"M2.7386127875258306,0A2.7386127875258306,2.7386127875258306,0,1,1,-2.7386127875258306,0A2.7386127875258306,2.7386127875258306,0,1,1,2.7386127875258306,0\" style=\"fill: #4c78a8; stroke-width: 2; opacity: 0.7;\"></path><path transform=\"translate(0,31.428571428571416)\" d=\"M2.7386127875258306,0A2.7386127875258306,2.7386127875258306,0,1,1,-2.7386127875258306,0A2.7386127875258306,2.7386127875258306,0,1,1,2.7386127875258306,0\" style=\"fill: #4c78a8; stroke-width: 2; opacity: 0.7;\"></path><path transform=\"translate(175,64.28571428571428)\" d=\"M2.7386127875258306,0A2.7386127875258306,2.7386127875258306,0,1,1,-2.7386127875258306,0A2.7386127875258306,2.7386127875258306,0,1,1,2.7386127875258306,0\" style=\"fill: #4c78a8; stroke-width: 2; opacity: 0.7;\"></path><path transform=\"translate(175,62.85714285714286)\" d=\"M2.7386127875258306,0A2.7386127875258306,2.7386127875258306,0,1,1,-2.7386127875258306,0A2.7386127875258306,2.7386127875258306,0,1,1,2.7386127875258306,0\" style=\"fill: #4c78a8; stroke-width: 2; opacity: 0.7;\"></path><path transform=\"translate(100,41.428571428571445)\" d=\"M2.7386127875258306,0A2.7386127875258306,2.7386127875258306,0,1,1,-2.7386127875258306,0A2.7386127875258306,2.7386127875258306,0,1,1,2.7386127875258306,0\" style=\"fill: #4c78a8; stroke-width: 2; opacity: 0.7;\"></path><path transform=\"translate(150,61.428571428571445)\" d=\"M2.7386127875258306,0A2.7386127875258306,2.7386127875258306,0,1,1,-2.7386127875258306,0A2.7386127875258306,2.7386127875258306,0,1,1,2.7386127875258306,0\" style=\"fill: #4c78a8; stroke-width: 2; opacity: 0.7;\"></path><path transform=\"translate(100,40)\" d=\"M2.7386127875258306,0A2.7386127875258306,2.7386127875258306,0,1,1,-2.7386127875258306,0A2.7386127875258306,2.7386127875258306,0,1,1,2.7386127875258306,0\" style=\"fill: #4c78a8; stroke-width: 2; opacity: 0.7;\"></path><path transform=\"translate(100,38.571428571428555)\" d=\"M2.7386127875258306,0A2.7386127875258306,2.7386127875258306,0,1,1,-2.7386127875258306,0A2.7386127875258306,2.7386127875258306,0,1,1,2.7386127875258306,0\" style=\"fill: #4c78a8; stroke-width: 2; opacity: 0.7;\"></path><path transform=\"translate(125,70)\" d=\"M2.7386127875258306,0A2.7386127875258306,2.7386127875258306,0,1,1,-2.7386127875258306,0A2.7386127875258306,2.7386127875258306,0,1,1,2.7386127875258306,0\" style=\"fill: #4c78a8; stroke-width: 2; opacity: 0.7;\"></path><path transform=\"translate(125,68.57142857142858)\" d=\"M2.7386127875258306,0A2.7386127875258306,2.7386127875258306,0,1,1,-2.7386127875258306,0A2.7386127875258306,2.7386127875258306,0,1,1,2.7386127875258306,0\" style=\"fill: #4c78a8; stroke-width: 2; opacity: 0.7;\"></path><path transform=\"translate(50,80)\" d=\"M2.7386127875258306,0A2.7386127875258306,2.7386127875258306,0,1,1,-2.7386127875258306,0A2.7386127875258306,2.7386127875258306,0,1,1,2.7386127875258306,0\" style=\"fill: #4c78a8; stroke-width: 2; opacity: 0.7;\"></path><path transform=\"translate(175,61.428571428571445)\" d=\"M2.7386127875258306,0A2.7386127875258306,2.7386127875258306,0,1,1,-2.7386127875258306,0A2.7386127875258306,2.7386127875258306,0,1,1,2.7386127875258306,0\" style=\"fill: #4c78a8; stroke-width: 2; opacity: 0.7;\"></path><path transform=\"translate(200,78.57142857142858)\" d=\"M2.7386127875258306,0A2.7386127875258306,2.7386127875258306,0,1,1,-2.7386127875258306,0A2.7386127875258306,2.7386127875258306,0,1,1,2.7386127875258306,0\" style=\"fill: #4c78a8; stroke-width: 2; opacity: 0.7;\"></path><path transform=\"translate(25,84.28571428571428)\" d=\"M2.7386127875258306,0A2.7386127875258306,2.7386127875258306,0,1,1,-2.7386127875258306,0A2.7386127875258306,2.7386127875258306,0,1,1,2.7386127875258306,0\" style=\"fill: #4c78a8; stroke-width: 2; opacity: 0.7;\"></path><path transform=\"translate(125,67.14285714285714)\" d=\"M2.7386127875258306,0A2.7386127875258306,2.7386127875258306,0,1,1,-2.7386127875258306,0A2.7386127875258306,2.7386127875258306,0,1,1,2.7386127875258306,0\" style=\"fill: #4c78a8; stroke-width: 2; opacity: 0.7;\"></path><path transform=\"translate(175,60)\" d=\"M2.7386127875258306,0A2.7386127875258306,2.7386127875258306,0,1,1,-2.7386127875258306,0A2.7386127875258306,2.7386127875258306,0,1,1,2.7386127875258306,0\" style=\"fill: #4c78a8; stroke-width: 2; opacity: 0.7;\"></path><path transform=\"translate(150,60)\" d=\"M2.7386127875258306,0A2.7386127875258306,2.7386127875258306,0,1,1,-2.7386127875258306,0A2.7386127875258306,2.7386127875258306,0,1,1,2.7386127875258306,0\" style=\"fill: #4c78a8; stroke-width: 2; opacity: 0.7;\"></path><path transform=\"translate(50,78.57142857142858)\" d=\"M2.7386127875258306,0A2.7386127875258306,2.7386127875258306,0,1,1,-2.7386127875258306,0A2.7386127875258306,2.7386127875258306,0,1,1,2.7386127875258306,0\" style=\"fill: #4c78a8; stroke-width: 2; opacity: 0.7;\"></path><path transform=\"translate(100,37.14285714285714)\" d=\"M2.7386127875258306,0A2.7386127875258306,2.7386127875258306,0,1,1,-2.7386127875258306,0A2.7386127875258306,2.7386127875258306,0,1,1,2.7386127875258306,0\" style=\"fill: #4c78a8; stroke-width: 2; opacity: 0.7;\"></path><path transform=\"translate(200,77.14285714285714)\" d=\"M2.7386127875258306,0A2.7386127875258306,2.7386127875258306,0,1,1,-2.7386127875258306,0A2.7386127875258306,2.7386127875258306,0,1,1,2.7386127875258306,0\" style=\"fill: #4c78a8; stroke-width: 2; opacity: 0.7;\"></path><path transform=\"translate(125,65.71428571428572)\" d=\"M2.7386127875258306,0A2.7386127875258306,2.7386127875258306,0,1,1,-2.7386127875258306,0A2.7386127875258306,2.7386127875258306,0,1,1,2.7386127875258306,0\" style=\"fill: #4c78a8; stroke-width: 2; opacity: 0.7;\"></path><path transform=\"translate(200,75.71428571428571)\" d=\"M2.7386127875258306,0A2.7386127875258306,2.7386127875258306,0,1,1,-2.7386127875258306,0A2.7386127875258306,2.7386127875258306,0,1,1,2.7386127875258306,0\" style=\"fill: #4c78a8; stroke-width: 2; opacity: 0.7;\"></path><path transform=\"translate(75,65.71428571428572)\" d=\"M2.7386127875258306,0A2.7386127875258306,2.7386127875258306,0,1,1,-2.7386127875258306,0A2.7386127875258306,2.7386127875258306,0,1,1,2.7386127875258306,0\" style=\"fill: #4c78a8; stroke-width: 2; opacity: 0.7;\"></path><path transform=\"translate(175,58.571428571428555)\" d=\"M2.7386127875258306,0A2.7386127875258306,2.7386127875258306,0,1,1,-2.7386127875258306,0A2.7386127875258306,2.7386127875258306,0,1,1,2.7386127875258306,0\" style=\"fill: #4c78a8; stroke-width: 2; opacity: 0.7;\"></path><path transform=\"translate(0,30)\" d=\"M2.7386127875258306,0A2.7386127875258306,2.7386127875258306,0,1,1,-2.7386127875258306,0A2.7386127875258306,2.7386127875258306,0,1,1,2.7386127875258306,0\" style=\"fill: #4c78a8; stroke-width: 2; opacity: 0.7;\"></path><path transform=\"translate(125,64.28571428571428)\" d=\"M2.7386127875258306,0A2.7386127875258306,2.7386127875258306,0,1,1,-2.7386127875258306,0A2.7386127875258306,2.7386127875258306,0,1,1,2.7386127875258306,0\" style=\"fill: #4c78a8; stroke-width: 2; opacity: 0.7;\"></path><path transform=\"translate(200,74.28571428571429)\" d=\"M2.7386127875258306,0A2.7386127875258306,2.7386127875258306,0,1,1,-2.7386127875258306,0A2.7386127875258306,2.7386127875258306,0,1,1,2.7386127875258306,0\" style=\"fill: #4c78a8; stroke-width: 2; opacity: 0.7;\"></path><path transform=\"translate(125,62.85714285714286)\" d=\"M2.7386127875258306,0A2.7386127875258306,2.7386127875258306,0,1,1,-2.7386127875258306,0A2.7386127875258306,2.7386127875258306,0,1,1,2.7386127875258306,0\" style=\"fill: #4c78a8; stroke-width: 2; opacity: 0.7;\"></path><path transform=\"translate(75,64.28571428571428)\" d=\"M2.7386127875258306,0A2.7386127875258306,2.7386127875258306,0,1,1,-2.7386127875258306,0A2.7386127875258306,2.7386127875258306,0,1,1,2.7386127875258306,0\" style=\"fill: #4c78a8; stroke-width: 2; opacity: 0.7;\"></path><path transform=\"translate(125,61.428571428571445)\" d=\"M2.7386127875258306,0A2.7386127875258306,2.7386127875258306,0,1,1,-2.7386127875258306,0A2.7386127875258306,2.7386127875258306,0,1,1,2.7386127875258306,0\" style=\"fill: #4c78a8; stroke-width: 2; opacity: 0.7;\"></path><path transform=\"translate(0,28.571428571428584)\" d=\"M2.7386127875258306,0A2.7386127875258306,2.7386127875258306,0,1,1,-2.7386127875258306,0A2.7386127875258306,2.7386127875258306,0,1,1,2.7386127875258306,0\" style=\"fill: #4c78a8; stroke-width: 2; opacity: 0.7;\"></path><path transform=\"translate(50,77.14285714285714)\" d=\"M2.7386127875258306,0A2.7386127875258306,2.7386127875258306,0,1,1,-2.7386127875258306,0A2.7386127875258306,2.7386127875258306,0,1,1,2.7386127875258306,0\" style=\"fill: #4c78a8; stroke-width: 2; opacity: 0.7;\"></path><path transform=\"translate(75,62.85714285714286)\" d=\"M2.7386127875258306,0A2.7386127875258306,2.7386127875258306,0,1,1,-2.7386127875258306,0A2.7386127875258306,2.7386127875258306,0,1,1,2.7386127875258306,0\" style=\"fill: #4c78a8; stroke-width: 2; opacity: 0.7;\"></path><path transform=\"translate(25,82.85714285714285)\" d=\"M2.7386127875258306,0A2.7386127875258306,2.7386127875258306,0,1,1,-2.7386127875258306,0A2.7386127875258306,2.7386127875258306,0,1,1,2.7386127875258306,0\" style=\"fill: #4c78a8; stroke-width: 2; opacity: 0.7;\"></path><path transform=\"translate(175,57.14285714285714)\" d=\"M2.7386127875258306,0A2.7386127875258306,2.7386127875258306,0,1,1,-2.7386127875258306,0A2.7386127875258306,2.7386127875258306,0,1,1,2.7386127875258306,0\" style=\"fill: #4c78a8; stroke-width: 2; opacity: 0.7;\"></path><path transform=\"translate(200,72.85714285714286)\" d=\"M2.7386127875258306,0A2.7386127875258306,2.7386127875258306,0,1,1,-2.7386127875258306,0A2.7386127875258306,2.7386127875258306,0,1,1,2.7386127875258306,0\" style=\"fill: #4c78a8; stroke-width: 2; opacity: 0.7;\"></path><path transform=\"translate(50,75.71428571428571)\" d=\"M2.7386127875258306,0A2.7386127875258306,2.7386127875258306,0,1,1,-2.7386127875258306,0A2.7386127875258306,2.7386127875258306,0,1,1,2.7386127875258306,0\" style=\"fill: #4c78a8; stroke-width: 2; opacity: 0.7;\"></path><path transform=\"translate(150,58.571428571428555)\" d=\"M2.7386127875258306,0A2.7386127875258306,2.7386127875258306,0,1,1,-2.7386127875258306,0A2.7386127875258306,2.7386127875258306,0,1,1,2.7386127875258306,0\" style=\"fill: #4c78a8; stroke-width: 2; opacity: 0.7;\"></path><path transform=\"translate(75,61.428571428571445)\" d=\"M2.7386127875258306,0A2.7386127875258306,2.7386127875258306,0,1,1,-2.7386127875258306,0A2.7386127875258306,2.7386127875258306,0,1,1,2.7386127875258306,0\" style=\"fill: #4c78a8; stroke-width: 2; opacity: 0.7;\"></path><path transform=\"translate(50,74.28571428571429)\" d=\"M2.7386127875258306,0A2.7386127875258306,2.7386127875258306,0,1,1,-2.7386127875258306,0A2.7386127875258306,2.7386127875258306,0,1,1,2.7386127875258306,0\" style=\"fill: #4c78a8; stroke-width: 2; opacity: 0.7;\"></path><path transform=\"translate(100,35.71428571428572)\" d=\"M2.7386127875258306,0A2.7386127875258306,2.7386127875258306,0,1,1,-2.7386127875258306,0A2.7386127875258306,2.7386127875258306,0,1,1,2.7386127875258306,0\" style=\"fill: #4c78a8; stroke-width: 2; opacity: 0.7;\"></path><path transform=\"translate(150,57.14285714285714)\" d=\"M2.7386127875258306,0A2.7386127875258306,2.7386127875258306,0,1,1,-2.7386127875258306,0A2.7386127875258306,2.7386127875258306,0,1,1,2.7386127875258306,0\" style=\"fill: #4c78a8; stroke-width: 2; opacity: 0.7;\"></path><path transform=\"translate(25,81.42857142857143)\" d=\"M2.7386127875258306,0A2.7386127875258306,2.7386127875258306,0,1,1,-2.7386127875258306,0A2.7386127875258306,2.7386127875258306,0,1,1,2.7386127875258306,0\" style=\"fill: #4c78a8; stroke-width: 2; opacity: 0.7;\"></path><path transform=\"translate(200,71.42857142857142)\" d=\"M2.7386127875258306,0A2.7386127875258306,2.7386127875258306,0,1,1,-2.7386127875258306,0A2.7386127875258306,2.7386127875258306,0,1,1,2.7386127875258306,0\" style=\"fill: #4c78a8; stroke-width: 2; opacity: 0.7;\"></path><path transform=\"translate(0,27.14285714285714)\" d=\"M2.7386127875258306,0A2.7386127875258306,2.7386127875258306,0,1,1,-2.7386127875258306,0A2.7386127875258306,2.7386127875258306,0,1,1,2.7386127875258306,0\" style=\"fill: #4c78a8; stroke-width: 2; opacity: 0.7;\"></path><path transform=\"translate(75,60)\" d=\"M2.7386127875258306,0A2.7386127875258306,2.7386127875258306,0,1,1,-2.7386127875258306,0A2.7386127875258306,2.7386127875258306,0,1,1,2.7386127875258306,0\" style=\"fill: #4c78a8; stroke-width: 2; opacity: 0.7;\"></path><path transform=\"translate(100,34.28571428571428)\" d=\"M2.7386127875258306,0A2.7386127875258306,2.7386127875258306,0,1,1,-2.7386127875258306,0A2.7386127875258306,2.7386127875258306,0,1,1,2.7386127875258306,0\" style=\"fill: #4c78a8; stroke-width: 2; opacity: 0.7;\"></path><path transform=\"translate(150,55.71428571428572)\" d=\"M2.7386127875258306,0A2.7386127875258306,2.7386127875258306,0,1,1,-2.7386127875258306,0A2.7386127875258306,2.7386127875258306,0,1,1,2.7386127875258306,0\" style=\"fill: #4c78a8; stroke-width: 2; opacity: 0.7;\"></path><path transform=\"translate(100,32.85714285714286)\" d=\"M2.7386127875258306,0A2.7386127875258306,2.7386127875258306,0,1,1,-2.7386127875258306,0A2.7386127875258306,2.7386127875258306,0,1,1,2.7386127875258306,0\" style=\"fill: #4c78a8; stroke-width: 2; opacity: 0.7;\"></path><path transform=\"translate(200,70)\" d=\"M2.7386127875258306,0A2.7386127875258306,2.7386127875258306,0,1,1,-2.7386127875258306,0A2.7386127875258306,2.7386127875258306,0,1,1,2.7386127875258306,0\" style=\"fill: #4c78a8; stroke-width: 2; opacity: 0.7;\"></path><path transform=\"translate(125,60)\" d=\"M2.7386127875258306,0A2.7386127875258306,2.7386127875258306,0,1,1,-2.7386127875258306,0A2.7386127875258306,2.7386127875258306,0,1,1,2.7386127875258306,0\" style=\"fill: #4c78a8; stroke-width: 2; opacity: 0.7;\"></path><path transform=\"translate(50,72.85714285714286)\" d=\"M2.7386127875258306,0A2.7386127875258306,2.7386127875258306,0,1,1,-2.7386127875258306,0A2.7386127875258306,2.7386127875258306,0,1,1,2.7386127875258306,0\" style=\"fill: #4c78a8; stroke-width: 2; opacity: 0.7;\"></path><path transform=\"translate(50,71.42857142857142)\" d=\"M2.7386127875258306,0A2.7386127875258306,2.7386127875258306,0,1,1,-2.7386127875258306,0A2.7386127875258306,2.7386127875258306,0,1,1,2.7386127875258306,0\" style=\"fill: #4c78a8; stroke-width: 2; opacity: 0.7;\"></path><path transform=\"translate(0,25.714285714285722)\" d=\"M2.7386127875258306,0A2.7386127875258306,2.7386127875258306,0,1,1,-2.7386127875258306,0A2.7386127875258306,2.7386127875258306,0,1,1,2.7386127875258306,0\" style=\"fill: #4c78a8; stroke-width: 2; opacity: 0.7;\"></path><path transform=\"translate(75,58.571428571428555)\" d=\"M2.7386127875258306,0A2.7386127875258306,2.7386127875258306,0,1,1,-2.7386127875258306,0A2.7386127875258306,2.7386127875258306,0,1,1,2.7386127875258306,0\" style=\"fill: #4c78a8; stroke-width: 2; opacity: 0.7;\"></path><path transform=\"translate(0,24.285714285714278)\" d=\"M2.7386127875258306,0A2.7386127875258306,2.7386127875258306,0,1,1,-2.7386127875258306,0A2.7386127875258306,2.7386127875258306,0,1,1,2.7386127875258306,0\" style=\"fill: #4c78a8; stroke-width: 2; opacity: 0.7;\"></path><path transform=\"translate(175,55.71428571428572)\" d=\"M2.7386127875258306,0A2.7386127875258306,2.7386127875258306,0,1,1,-2.7386127875258306,0A2.7386127875258306,2.7386127875258306,0,1,1,2.7386127875258306,0\" style=\"fill: #4c78a8; stroke-width: 2; opacity: 0.7;\"></path><path transform=\"translate(50,70)\" d=\"M2.7386127875258306,0A2.7386127875258306,2.7386127875258306,0,1,1,-2.7386127875258306,0A2.7386127875258306,2.7386127875258306,0,1,1,2.7386127875258306,0\" style=\"fill: #4c78a8; stroke-width: 2; opacity: 0.7;\"></path><path transform=\"translate(100,31.428571428571416)\" d=\"M2.7386127875258306,0A2.7386127875258306,2.7386127875258306,0,1,1,-2.7386127875258306,0A2.7386127875258306,2.7386127875258306,0,1,1,2.7386127875258306,0\" style=\"fill: #4c78a8; stroke-width: 2; opacity: 0.7;\"></path><path transform=\"translate(125,58.571428571428555)\" d=\"M2.7386127875258306,0A2.7386127875258306,2.7386127875258306,0,1,1,-2.7386127875258306,0A2.7386127875258306,2.7386127875258306,0,1,1,2.7386127875258306,0\" style=\"fill: #4c78a8; stroke-width: 2; opacity: 0.7;\"></path><path transform=\"translate(100,30)\" d=\"M2.7386127875258306,0A2.7386127875258306,2.7386127875258306,0,1,1,-2.7386127875258306,0A2.7386127875258306,2.7386127875258306,0,1,1,2.7386127875258306,0\" style=\"fill: #4c78a8; stroke-width: 2; opacity: 0.7;\"></path><path transform=\"translate(150,54.285714285714306)\" d=\"M2.7386127875258306,0A2.7386127875258306,2.7386127875258306,0,1,1,-2.7386127875258306,0A2.7386127875258306,2.7386127875258306,0,1,1,2.7386127875258306,0\" style=\"fill: #4c78a8; stroke-width: 2; opacity: 0.7;\"></path><path transform=\"translate(150,52.85714285714283)\" d=\"M2.7386127875258306,0A2.7386127875258306,2.7386127875258306,0,1,1,-2.7386127875258306,0A2.7386127875258306,2.7386127875258306,0,1,1,2.7386127875258306,0\" style=\"fill: #4c78a8; stroke-width: 2; opacity: 0.7;\"></path><path transform=\"translate(200,68.57142857142858)\" d=\"M2.7386127875258306,0A2.7386127875258306,2.7386127875258306,0,1,1,-2.7386127875258306,0A2.7386127875258306,2.7386127875258306,0,1,1,2.7386127875258306,0\" style=\"fill: #4c78a8; stroke-width: 2; opacity: 0.7;\"></path><path transform=\"translate(200,67.14285714285714)\" d=\"M2.7386127875258306,0A2.7386127875258306,2.7386127875258306,0,1,1,-2.7386127875258306,0A2.7386127875258306,2.7386127875258306,0,1,1,2.7386127875258306,0\" style=\"fill: #4c78a8; stroke-width: 2; opacity: 0.7;\"></path><path transform=\"translate(0,22.85714285714286)\" d=\"M2.7386127875258306,0A2.7386127875258306,2.7386127875258306,0,1,1,-2.7386127875258306,0A2.7386127875258306,2.7386127875258306,0,1,1,2.7386127875258306,0\" style=\"fill: #4c78a8; stroke-width: 2; opacity: 0.7;\"></path><path transform=\"translate(75,57.14285714285714)\" d=\"M2.7386127875258306,0A2.7386127875258306,2.7386127875258306,0,1,1,-2.7386127875258306,0A2.7386127875258306,2.7386127875258306,0,1,1,2.7386127875258306,0\" style=\"fill: #4c78a8; stroke-width: 2; opacity: 0.7;\"></path><path transform=\"translate(175,54.285714285714306)\" d=\"M2.7386127875258306,0A2.7386127875258306,2.7386127875258306,0,1,1,-2.7386127875258306,0A2.7386127875258306,2.7386127875258306,0,1,1,2.7386127875258306,0\" style=\"fill: #4c78a8; stroke-width: 2; opacity: 0.7;\"></path><path transform=\"translate(0,21.428571428571416)\" d=\"M2.7386127875258306,0A2.7386127875258306,2.7386127875258306,0,1,1,-2.7386127875258306,0A2.7386127875258306,2.7386127875258306,0,1,1,2.7386127875258306,0\" style=\"fill: #4c78a8; stroke-width: 2; opacity: 0.7;\"></path><path transform=\"translate(125,57.14285714285714)\" d=\"M2.7386127875258306,0A2.7386127875258306,2.7386127875258306,0,1,1,-2.7386127875258306,0A2.7386127875258306,2.7386127875258306,0,1,1,2.7386127875258306,0\" style=\"fill: #4c78a8; stroke-width: 2; opacity: 0.7;\"></path><path transform=\"translate(200,65.71428571428572)\" d=\"M2.7386127875258306,0A2.7386127875258306,2.7386127875258306,0,1,1,-2.7386127875258306,0A2.7386127875258306,2.7386127875258306,0,1,1,2.7386127875258306,0\" style=\"fill: #4c78a8; stroke-width: 2; opacity: 0.7;\"></path><path transform=\"translate(75,55.71428571428572)\" d=\"M2.7386127875258306,0A2.7386127875258306,2.7386127875258306,0,1,1,-2.7386127875258306,0A2.7386127875258306,2.7386127875258306,0,1,1,2.7386127875258306,0\" style=\"fill: #4c78a8; stroke-width: 2; opacity: 0.7;\"></path><path transform=\"translate(200,64.28571428571428)\" d=\"M2.7386127875258306,0A2.7386127875258306,2.7386127875258306,0,1,1,-2.7386127875258306,0A2.7386127875258306,2.7386127875258306,0,1,1,2.7386127875258306,0\" style=\"fill: #4c78a8; stroke-width: 2; opacity: 0.7;\"></path><path transform=\"translate(100,28.571428571428584)\" d=\"M2.7386127875258306,0A2.7386127875258306,2.7386127875258306,0,1,1,-2.7386127875258306,0A2.7386127875258306,2.7386127875258306,0,1,1,2.7386127875258306,0\" style=\"fill: #4c78a8; stroke-width: 2; opacity: 0.7;\"></path><path transform=\"translate(150,51.428571428571416)\" d=\"M2.7386127875258306,0A2.7386127875258306,2.7386127875258306,0,1,1,-2.7386127875258306,0A2.7386127875258306,2.7386127875258306,0,1,1,2.7386127875258306,0\" style=\"fill: #4c78a8; stroke-width: 2; opacity: 0.7;\"></path><path transform=\"translate(75,54.285714285714306)\" d=\"M2.7386127875258306,0A2.7386127875258306,2.7386127875258306,0,1,1,-2.7386127875258306,0A2.7386127875258306,2.7386127875258306,0,1,1,2.7386127875258306,0\" style=\"fill: #4c78a8; stroke-width: 2; opacity: 0.7;\"></path><path transform=\"translate(175,52.85714285714283)\" d=\"M2.7386127875258306,0A2.7386127875258306,2.7386127875258306,0,1,1,-2.7386127875258306,0A2.7386127875258306,2.7386127875258306,0,1,1,2.7386127875258306,0\" style=\"fill: #4c78a8; stroke-width: 2; opacity: 0.7;\"></path><path transform=\"translate(125,55.71428571428572)\" d=\"M2.7386127875258306,0A2.7386127875258306,2.7386127875258306,0,1,1,-2.7386127875258306,0A2.7386127875258306,2.7386127875258306,0,1,1,2.7386127875258306,0\" style=\"fill: #4c78a8; stroke-width: 2; opacity: 0.7;\"></path><path transform=\"translate(175,51.428571428571416)\" d=\"M2.7386127875258306,0A2.7386127875258306,2.7386127875258306,0,1,1,-2.7386127875258306,0A2.7386127875258306,2.7386127875258306,0,1,1,2.7386127875258306,0\" style=\"fill: #4c78a8; stroke-width: 2; opacity: 0.7;\"></path><path transform=\"translate(175,50)\" d=\"M2.7386127875258306,0A2.7386127875258306,2.7386127875258306,0,1,1,-2.7386127875258306,0A2.7386127875258306,2.7386127875258306,0,1,1,2.7386127875258306,0\" style=\"fill: #4c78a8; stroke-width: 2; opacity: 0.7;\"></path><path transform=\"translate(75,52.85714285714283)\" d=\"M2.7386127875258306,0A2.7386127875258306,2.7386127875258306,0,1,1,-2.7386127875258306,0A2.7386127875258306,2.7386127875258306,0,1,1,2.7386127875258306,0\" style=\"fill: #4c78a8; stroke-width: 2; opacity: 0.7;\"></path><path transform=\"translate(100,27.14285714285714)\" d=\"M2.7386127875258306,0A2.7386127875258306,2.7386127875258306,0,1,1,-2.7386127875258306,0A2.7386127875258306,2.7386127875258306,0,1,1,2.7386127875258306,0\" style=\"fill: #4c78a8; stroke-width: 2; opacity: 0.7;\"></path><path transform=\"translate(100,25.714285714285722)\" d=\"M2.7386127875258306,0A2.7386127875258306,2.7386127875258306,0,1,1,-2.7386127875258306,0A2.7386127875258306,2.7386127875258306,0,1,1,2.7386127875258306,0\" style=\"fill: #4c78a8; stroke-width: 2; opacity: 0.7;\"></path><path transform=\"translate(75,51.428571428571416)\" d=\"M2.7386127875258306,0A2.7386127875258306,2.7386127875258306,0,1,1,-2.7386127875258306,0A2.7386127875258306,2.7386127875258306,0,1,1,2.7386127875258306,0\" style=\"fill: #4c78a8; stroke-width: 2; opacity: 0.7;\"></path><path transform=\"translate(150,50)\" d=\"M2.7386127875258306,0A2.7386127875258306,2.7386127875258306,0,1,1,-2.7386127875258306,0A2.7386127875258306,2.7386127875258306,0,1,1,2.7386127875258306,0\" style=\"fill: #4c78a8; stroke-width: 2; opacity: 0.7;\"></path><path transform=\"translate(125,54.285714285714306)\" d=\"M2.7386127875258306,0A2.7386127875258306,2.7386127875258306,0,1,1,-2.7386127875258306,0A2.7386127875258306,2.7386127875258306,0,1,1,2.7386127875258306,0\" style=\"fill: #4c78a8; stroke-width: 2; opacity: 0.7;\"></path><path transform=\"translate(200,62.85714285714286)\" d=\"M2.7386127875258306,0A2.7386127875258306,2.7386127875258306,0,1,1,-2.7386127875258306,0A2.7386127875258306,2.7386127875258306,0,1,1,2.7386127875258306,0\" style=\"fill: #4c78a8; stroke-width: 2; opacity: 0.7;\"></path><path transform=\"translate(50,68.57142857142858)\" d=\"M2.7386127875258306,0A2.7386127875258306,2.7386127875258306,0,1,1,-2.7386127875258306,0A2.7386127875258306,2.7386127875258306,0,1,1,2.7386127875258306,0\" style=\"fill: #4c78a8; stroke-width: 2; opacity: 0.7;\"></path><path transform=\"translate(75,50)\" d=\"M2.7386127875258306,0A2.7386127875258306,2.7386127875258306,0,1,1,-2.7386127875258306,0A2.7386127875258306,2.7386127875258306,0,1,1,2.7386127875258306,0\" style=\"fill: #4c78a8; stroke-width: 2; opacity: 0.7;\"></path><path transform=\"translate(200,61.428571428571445)\" d=\"M2.7386127875258306,0A2.7386127875258306,2.7386127875258306,0,1,1,-2.7386127875258306,0A2.7386127875258306,2.7386127875258306,0,1,1,2.7386127875258306,0\" style=\"fill: #4c78a8; stroke-width: 2; opacity: 0.7;\"></path><path transform=\"translate(150,48.571428571428584)\" d=\"M2.7386127875258306,0A2.7386127875258306,2.7386127875258306,0,1,1,-2.7386127875258306,0A2.7386127875258306,2.7386127875258306,0,1,1,2.7386127875258306,0\" style=\"fill: #4c78a8; stroke-width: 2; opacity: 0.7;\"></path><path transform=\"translate(0,20)\" d=\"M2.7386127875258306,0A2.7386127875258306,2.7386127875258306,0,1,1,-2.7386127875258306,0A2.7386127875258306,2.7386127875258306,0,1,1,2.7386127875258306,0\" style=\"fill: #4c78a8; stroke-width: 2; opacity: 0.7;\"></path><path transform=\"translate(50,67.14285714285714)\" d=\"M2.7386127875258306,0A2.7386127875258306,2.7386127875258306,0,1,1,-2.7386127875258306,0A2.7386127875258306,2.7386127875258306,0,1,1,2.7386127875258306,0\" style=\"fill: #4c78a8; stroke-width: 2; opacity: 0.7;\"></path><path transform=\"translate(125,52.85714285714283)\" d=\"M2.7386127875258306,0A2.7386127875258306,2.7386127875258306,0,1,1,-2.7386127875258306,0A2.7386127875258306,2.7386127875258306,0,1,1,2.7386127875258306,0\" style=\"fill: #4c78a8; stroke-width: 2; opacity: 0.7;\"></path><path transform=\"translate(75,48.571428571428584)\" d=\"M2.7386127875258306,0A2.7386127875258306,2.7386127875258306,0,1,1,-2.7386127875258306,0A2.7386127875258306,2.7386127875258306,0,1,1,2.7386127875258306,0\" style=\"fill: #4c78a8; stroke-width: 2; opacity: 0.7;\"></path><path transform=\"translate(0,18.571428571428584)\" d=\"M2.7386127875258306,0A2.7386127875258306,2.7386127875258306,0,1,1,-2.7386127875258306,0A2.7386127875258306,2.7386127875258306,0,1,1,2.7386127875258306,0\" style=\"fill: #4c78a8; stroke-width: 2; opacity: 0.7;\"></path><path transform=\"translate(150,47.14285714285717)\" d=\"M2.7386127875258306,0A2.7386127875258306,2.7386127875258306,0,1,1,-2.7386127875258306,0A2.7386127875258306,2.7386127875258306,0,1,1,2.7386127875258306,0\" style=\"fill: #4c78a8; stroke-width: 2; opacity: 0.7;\"></path><path transform=\"translate(50,65.71428571428572)\" d=\"M2.7386127875258306,0A2.7386127875258306,2.7386127875258306,0,1,1,-2.7386127875258306,0A2.7386127875258306,2.7386127875258306,0,1,1,2.7386127875258306,0\" style=\"fill: #4c78a8; stroke-width: 2; opacity: 0.7;\"></path><path transform=\"translate(175,48.571428571428584)\" d=\"M2.7386127875258306,0A2.7386127875258306,2.7386127875258306,0,1,1,-2.7386127875258306,0A2.7386127875258306,2.7386127875258306,0,1,1,2.7386127875258306,0\" style=\"fill: #4c78a8; stroke-width: 2; opacity: 0.7;\"></path><path transform=\"translate(100,24.285714285714278)\" d=\"M2.7386127875258306,0A2.7386127875258306,2.7386127875258306,0,1,1,-2.7386127875258306,0A2.7386127875258306,2.7386127875258306,0,1,1,2.7386127875258306,0\" style=\"fill: #4c78a8; stroke-width: 2; opacity: 0.7;\"></path><path transform=\"translate(200,60)\" d=\"M2.7386127875258306,0A2.7386127875258306,2.7386127875258306,0,1,1,-2.7386127875258306,0A2.7386127875258306,2.7386127875258306,0,1,1,2.7386127875258306,0\" style=\"fill: #4c78a8; stroke-width: 2; opacity: 0.7;\"></path><path transform=\"translate(200,58.571428571428555)\" d=\"M2.7386127875258306,0A2.7386127875258306,2.7386127875258306,0,1,1,-2.7386127875258306,0A2.7386127875258306,2.7386127875258306,0,1,1,2.7386127875258306,0\" style=\"fill: #4c78a8; stroke-width: 2; opacity: 0.7;\"></path><path transform=\"translate(100,22.85714285714286)\" d=\"M2.7386127875258306,0A2.7386127875258306,2.7386127875258306,0,1,1,-2.7386127875258306,0A2.7386127875258306,2.7386127875258306,0,1,1,2.7386127875258306,0\" style=\"fill: #4c78a8; stroke-width: 2; opacity: 0.7;\"></path><path transform=\"translate(125,51.428571428571416)\" d=\"M2.7386127875258306,0A2.7386127875258306,2.7386127875258306,0,1,1,-2.7386127875258306,0A2.7386127875258306,2.7386127875258306,0,1,1,2.7386127875258306,0\" style=\"fill: #4c78a8; stroke-width: 2; opacity: 0.7;\"></path><path transform=\"translate(200,57.14285714285714)\" d=\"M2.7386127875258306,0A2.7386127875258306,2.7386127875258306,0,1,1,-2.7386127875258306,0A2.7386127875258306,2.7386127875258306,0,1,1,2.7386127875258306,0\" style=\"fill: #4c78a8; stroke-width: 2; opacity: 0.7;\"></path><path transform=\"translate(100,21.428571428571416)\" d=\"M2.7386127875258306,0A2.7386127875258306,2.7386127875258306,0,1,1,-2.7386127875258306,0A2.7386127875258306,2.7386127875258306,0,1,1,2.7386127875258306,0\" style=\"fill: #4c78a8; stroke-width: 2; opacity: 0.7;\"></path><path transform=\"translate(150,45.714285714285694)\" d=\"M2.7386127875258306,0A2.7386127875258306,2.7386127875258306,0,1,1,-2.7386127875258306,0A2.7386127875258306,2.7386127875258306,0,1,1,2.7386127875258306,0\" style=\"fill: #4c78a8; stroke-width: 2; opacity: 0.7;\"></path><path transform=\"translate(25,80)\" d=\"M2.7386127875258306,0A2.7386127875258306,2.7386127875258306,0,1,1,-2.7386127875258306,0A2.7386127875258306,2.7386127875258306,0,1,1,2.7386127875258306,0\" style=\"fill: #4c78a8; stroke-width: 2; opacity: 0.7;\"></path><path transform=\"translate(150,44.28571428571428)\" d=\"M2.7386127875258306,0A2.7386127875258306,2.7386127875258306,0,1,1,-2.7386127875258306,0A2.7386127875258306,2.7386127875258306,0,1,1,2.7386127875258306,0\" style=\"fill: #4c78a8; stroke-width: 2; opacity: 0.7;\"></path><path transform=\"translate(100,20)\" d=\"M2.7386127875258306,0A2.7386127875258306,2.7386127875258306,0,1,1,-2.7386127875258306,0A2.7386127875258306,2.7386127875258306,0,1,1,2.7386127875258306,0\" style=\"fill: #4c78a8; stroke-width: 2; opacity: 0.7;\"></path><path transform=\"translate(25,78.57142857142858)\" d=\"M2.7386127875258306,0A2.7386127875258306,2.7386127875258306,0,1,1,-2.7386127875258306,0A2.7386127875258306,2.7386127875258306,0,1,1,2.7386127875258306,0\" style=\"fill: #4c78a8; stroke-width: 2; opacity: 0.7;\"></path><path transform=\"translate(50,64.28571428571428)\" d=\"M2.7386127875258306,0A2.7386127875258306,2.7386127875258306,0,1,1,-2.7386127875258306,0A2.7386127875258306,2.7386127875258306,0,1,1,2.7386127875258306,0\" style=\"fill: #4c78a8; stroke-width: 2; opacity: 0.7;\"></path><path transform=\"translate(75,47.14285714285717)\" d=\"M2.7386127875258306,0A2.7386127875258306,2.7386127875258306,0,1,1,-2.7386127875258306,0A2.7386127875258306,2.7386127875258306,0,1,1,2.7386127875258306,0\" style=\"fill: #4c78a8; stroke-width: 2; opacity: 0.7;\"></path><path transform=\"translate(150,42.85714285714286)\" d=\"M2.7386127875258306,0A2.7386127875258306,2.7386127875258306,0,1,1,-2.7386127875258306,0A2.7386127875258306,2.7386127875258306,0,1,1,2.7386127875258306,0\" style=\"fill: #4c78a8; stroke-width: 2; opacity: 0.7;\"></path><path transform=\"translate(175,47.14285714285717)\" d=\"M2.7386127875258306,0A2.7386127875258306,2.7386127875258306,0,1,1,-2.7386127875258306,0A2.7386127875258306,2.7386127875258306,0,1,1,2.7386127875258306,0\" style=\"fill: #4c78a8; stroke-width: 2; opacity: 0.7;\"></path><path transform=\"translate(150,41.428571428571445)\" d=\"M2.7386127875258306,0A2.7386127875258306,2.7386127875258306,0,1,1,-2.7386127875258306,0A2.7386127875258306,2.7386127875258306,0,1,1,2.7386127875258306,0\" style=\"fill: #4c78a8; stroke-width: 2; opacity: 0.7;\"></path><path transform=\"translate(50,62.85714285714286)\" d=\"M2.7386127875258306,0A2.7386127875258306,2.7386127875258306,0,1,1,-2.7386127875258306,0A2.7386127875258306,2.7386127875258306,0,1,1,2.7386127875258306,0\" style=\"fill: #4c78a8; stroke-width: 2; opacity: 0.7;\"></path><path transform=\"translate(100,18.571428571428584)\" d=\"M2.7386127875258306,0A2.7386127875258306,2.7386127875258306,0,1,1,-2.7386127875258306,0A2.7386127875258306,2.7386127875258306,0,1,1,2.7386127875258306,0\" style=\"fill: #4c78a8; stroke-width: 2; opacity: 0.7;\"></path><path transform=\"translate(0,17.14285714285714)\" d=\"M2.7386127875258306,0A2.7386127875258306,2.7386127875258306,0,1,1,-2.7386127875258306,0A2.7386127875258306,2.7386127875258306,0,1,1,2.7386127875258306,0\" style=\"fill: #4c78a8; stroke-width: 2; opacity: 0.7;\"></path><path transform=\"translate(125,50)\" d=\"M2.7386127875258306,0A2.7386127875258306,2.7386127875258306,0,1,1,-2.7386127875258306,0A2.7386127875258306,2.7386127875258306,0,1,1,2.7386127875258306,0\" style=\"fill: #4c78a8; stroke-width: 2; opacity: 0.7;\"></path><path transform=\"translate(75,45.714285714285694)\" d=\"M2.7386127875258306,0A2.7386127875258306,2.7386127875258306,0,1,1,-2.7386127875258306,0A2.7386127875258306,2.7386127875258306,0,1,1,2.7386127875258306,0\" style=\"fill: #4c78a8; stroke-width: 2; opacity: 0.7;\"></path><path transform=\"translate(125,48.571428571428584)\" d=\"M2.7386127875258306,0A2.7386127875258306,2.7386127875258306,0,1,1,-2.7386127875258306,0A2.7386127875258306,2.7386127875258306,0,1,1,2.7386127875258306,0\" style=\"fill: #4c78a8; stroke-width: 2; opacity: 0.7;\"></path><path transform=\"translate(175,45.714285714285694)\" d=\"M2.7386127875258306,0A2.7386127875258306,2.7386127875258306,0,1,1,-2.7386127875258306,0A2.7386127875258306,2.7386127875258306,0,1,1,2.7386127875258306,0\" style=\"fill: #4c78a8; stroke-width: 2; opacity: 0.7;\"></path><path transform=\"translate(200,55.71428571428572)\" d=\"M2.7386127875258306,0A2.7386127875258306,2.7386127875258306,0,1,1,-2.7386127875258306,0A2.7386127875258306,2.7386127875258306,0,1,1,2.7386127875258306,0\" style=\"fill: #4c78a8; stroke-width: 2; opacity: 0.7;\"></path><path transform=\"translate(75,44.28571428571428)\" d=\"M2.7386127875258306,0A2.7386127875258306,2.7386127875258306,0,1,1,-2.7386127875258306,0A2.7386127875258306,2.7386127875258306,0,1,1,2.7386127875258306,0\" style=\"fill: #4c78a8; stroke-width: 2; opacity: 0.7;\"></path><path transform=\"translate(100,17.14285714285714)\" d=\"M2.7386127875258306,0A2.7386127875258306,2.7386127875258306,0,1,1,-2.7386127875258306,0A2.7386127875258306,2.7386127875258306,0,1,1,2.7386127875258306,0\" style=\"fill: #4c78a8; stroke-width: 2; opacity: 0.7;\"></path><path transform=\"translate(100,15.714285714285722)\" d=\"M2.7386127875258306,0A2.7386127875258306,2.7386127875258306,0,1,1,-2.7386127875258306,0A2.7386127875258306,2.7386127875258306,0,1,1,2.7386127875258306,0\" style=\"fill: #4c78a8; stroke-width: 2; opacity: 0.7;\"></path><path transform=\"translate(100,14.285714285714278)\" d=\"M2.7386127875258306,0A2.7386127875258306,2.7386127875258306,0,1,1,-2.7386127875258306,0A2.7386127875258306,2.7386127875258306,0,1,1,2.7386127875258306,0\" style=\"fill: #4c78a8; stroke-width: 2; opacity: 0.7;\"></path><path transform=\"translate(50,61.428571428571445)\" d=\"M2.7386127875258306,0A2.7386127875258306,2.7386127875258306,0,1,1,-2.7386127875258306,0A2.7386127875258306,2.7386127875258306,0,1,1,2.7386127875258306,0\" style=\"fill: #4c78a8; stroke-width: 2; opacity: 0.7;\"></path><path transform=\"translate(125,47.14285714285717)\" d=\"M2.7386127875258306,0A2.7386127875258306,2.7386127875258306,0,1,1,-2.7386127875258306,0A2.7386127875258306,2.7386127875258306,0,1,1,2.7386127875258306,0\" style=\"fill: #4c78a8; stroke-width: 2; opacity: 0.7;\"></path><path transform=\"translate(75,42.85714285714286)\" d=\"M2.7386127875258306,0A2.7386127875258306,2.7386127875258306,0,1,1,-2.7386127875258306,0A2.7386127875258306,2.7386127875258306,0,1,1,2.7386127875258306,0\" style=\"fill: #4c78a8; stroke-width: 2; opacity: 0.7;\"></path><path transform=\"translate(200,54.285714285714306)\" d=\"M2.7386127875258306,0A2.7386127875258306,2.7386127875258306,0,1,1,-2.7386127875258306,0A2.7386127875258306,2.7386127875258306,0,1,1,2.7386127875258306,0\" style=\"fill: #4c78a8; stroke-width: 2; opacity: 0.7;\"></path><path transform=\"translate(175,44.28571428571428)\" d=\"M2.7386127875258306,0A2.7386127875258306,2.7386127875258306,0,1,1,-2.7386127875258306,0A2.7386127875258306,2.7386127875258306,0,1,1,2.7386127875258306,0\" style=\"fill: #4c78a8; stroke-width: 2; opacity: 0.7;\"></path><path transform=\"translate(25,77.14285714285714)\" d=\"M2.7386127875258306,0A2.7386127875258306,2.7386127875258306,0,1,1,-2.7386127875258306,0A2.7386127875258306,2.7386127875258306,0,1,1,2.7386127875258306,0\" style=\"fill: #4c78a8; stroke-width: 2; opacity: 0.7;\"></path><path transform=\"translate(175,42.85714285714286)\" d=\"M2.7386127875258306,0A2.7386127875258306,2.7386127875258306,0,1,1,-2.7386127875258306,0A2.7386127875258306,2.7386127875258306,0,1,1,2.7386127875258306,0\" style=\"fill: #4c78a8; stroke-width: 2; opacity: 0.7;\"></path><path transform=\"translate(200,52.85714285714283)\" d=\"M2.7386127875258306,0A2.7386127875258306,2.7386127875258306,0,1,1,-2.7386127875258306,0A2.7386127875258306,2.7386127875258306,0,1,1,2.7386127875258306,0\" style=\"fill: #4c78a8; stroke-width: 2; opacity: 0.7;\"></path><path transform=\"translate(100,12.857142857142861)\" d=\"M2.7386127875258306,0A2.7386127875258306,2.7386127875258306,0,1,1,-2.7386127875258306,0A2.7386127875258306,2.7386127875258306,0,1,1,2.7386127875258306,0\" style=\"fill: #4c78a8; stroke-width: 2; opacity: 0.7;\"></path><path transform=\"translate(150,40)\" d=\"M2.7386127875258306,0A2.7386127875258306,2.7386127875258306,0,1,1,-2.7386127875258306,0A2.7386127875258306,2.7386127875258306,0,1,1,2.7386127875258306,0\" style=\"fill: #4c78a8; stroke-width: 2; opacity: 0.7;\"></path><path transform=\"translate(100,11.428571428571445)\" d=\"M2.7386127875258306,0A2.7386127875258306,2.7386127875258306,0,1,1,-2.7386127875258306,0A2.7386127875258306,2.7386127875258306,0,1,1,2.7386127875258306,0\" style=\"fill: #4c78a8; stroke-width: 2; opacity: 0.7;\"></path><path transform=\"translate(175,41.428571428571445)\" d=\"M2.7386127875258306,0A2.7386127875258306,2.7386127875258306,0,1,1,-2.7386127875258306,0A2.7386127875258306,2.7386127875258306,0,1,1,2.7386127875258306,0\" style=\"fill: #4c78a8; stroke-width: 2; opacity: 0.7;\"></path><path transform=\"translate(100,10)\" d=\"M2.7386127875258306,0A2.7386127875258306,2.7386127875258306,0,1,1,-2.7386127875258306,0A2.7386127875258306,2.7386127875258306,0,1,1,2.7386127875258306,0\" style=\"fill: #4c78a8; stroke-width: 2; opacity: 0.7;\"></path><path transform=\"translate(75,41.428571428571445)\" d=\"M2.7386127875258306,0A2.7386127875258306,2.7386127875258306,0,1,1,-2.7386127875258306,0A2.7386127875258306,2.7386127875258306,0,1,1,2.7386127875258306,0\" style=\"fill: #4c78a8; stroke-width: 2; opacity: 0.7;\"></path><path transform=\"translate(50,60)\" d=\"M2.7386127875258306,0A2.7386127875258306,2.7386127875258306,0,1,1,-2.7386127875258306,0A2.7386127875258306,2.7386127875258306,0,1,1,2.7386127875258306,0\" style=\"fill: #4c78a8; stroke-width: 2; opacity: 0.7;\"></path><path transform=\"translate(100,8.571428571428555)\" d=\"M2.7386127875258306,0A2.7386127875258306,2.7386127875258306,0,1,1,-2.7386127875258306,0A2.7386127875258306,2.7386127875258306,0,1,1,2.7386127875258306,0\" style=\"fill: #4c78a8; stroke-width: 2; opacity: 0.7;\"></path><path transform=\"translate(25,75.71428571428571)\" d=\"M2.7386127875258306,0A2.7386127875258306,2.7386127875258306,0,1,1,-2.7386127875258306,0A2.7386127875258306,2.7386127875258306,0,1,1,2.7386127875258306,0\" style=\"fill: #4c78a8; stroke-width: 2; opacity: 0.7;\"></path><path transform=\"translate(175,40)\" d=\"M2.7386127875258306,0A2.7386127875258306,2.7386127875258306,0,1,1,-2.7386127875258306,0A2.7386127875258306,2.7386127875258306,0,1,1,2.7386127875258306,0\" style=\"fill: #4c78a8; stroke-width: 2; opacity: 0.7;\"></path><path transform=\"translate(25,74.28571428571429)\" d=\"M2.7386127875258306,0A2.7386127875258306,2.7386127875258306,0,1,1,-2.7386127875258306,0A2.7386127875258306,2.7386127875258306,0,1,1,2.7386127875258306,0\" style=\"fill: #4c78a8; stroke-width: 2; opacity: 0.7;\"></path><path transform=\"translate(125,45.714285714285694)\" d=\"M2.7386127875258306,0A2.7386127875258306,2.7386127875258306,0,1,1,-2.7386127875258306,0A2.7386127875258306,2.7386127875258306,0,1,1,2.7386127875258306,0\" style=\"fill: #4c78a8; stroke-width: 2; opacity: 0.7;\"></path><path transform=\"translate(125,44.28571428571428)\" d=\"M2.7386127875258306,0A2.7386127875258306,2.7386127875258306,0,1,1,-2.7386127875258306,0A2.7386127875258306,2.7386127875258306,0,1,1,2.7386127875258306,0\" style=\"fill: #4c78a8; stroke-width: 2; opacity: 0.7;\"></path><path transform=\"translate(25,72.85714285714286)\" d=\"M2.7386127875258306,0A2.7386127875258306,2.7386127875258306,0,1,1,-2.7386127875258306,0A2.7386127875258306,2.7386127875258306,0,1,1,2.7386127875258306,0\" style=\"fill: #4c78a8; stroke-width: 2; opacity: 0.7;\"></path><path transform=\"translate(0,15.714285714285722)\" d=\"M2.7386127875258306,0A2.7386127875258306,2.7386127875258306,0,1,1,-2.7386127875258306,0A2.7386127875258306,2.7386127875258306,0,1,1,2.7386127875258306,0\" style=\"fill: #4c78a8; stroke-width: 2; opacity: 0.7;\"></path><path transform=\"translate(100,7.142857142857139)\" d=\"M2.7386127875258306,0A2.7386127875258306,2.7386127875258306,0,1,1,-2.7386127875258306,0A2.7386127875258306,2.7386127875258306,0,1,1,2.7386127875258306,0\" style=\"fill: #4c78a8; stroke-width: 2; opacity: 0.7;\"></path><path transform=\"translate(125,42.85714285714286)\" d=\"M2.7386127875258306,0A2.7386127875258306,2.7386127875258306,0,1,1,-2.7386127875258306,0A2.7386127875258306,2.7386127875258306,0,1,1,2.7386127875258306,0\" style=\"fill: #4c78a8; stroke-width: 2; opacity: 0.7;\"></path><path transform=\"translate(50,58.571428571428555)\" d=\"M2.7386127875258306,0A2.7386127875258306,2.7386127875258306,0,1,1,-2.7386127875258306,0A2.7386127875258306,2.7386127875258306,0,1,1,2.7386127875258306,0\" style=\"fill: #4c78a8; stroke-width: 2; opacity: 0.7;\"></path></g><g class=\"mark-group role-axis\"><g transform=\"translate(0.5,200.5)\"><path class=\"background\" d=\"M0,0h0v0h0Z\" style=\"pointer-events: none; fill: none;\"></path><g><g class=\"mark-rule role-axis-tick\" style=\"pointer-events: none;\"><line transform=\"translate(0,0)\" x2=\"0\" y2=\"5\" style=\"fill: none; stroke: #888; stroke-width: 1; opacity: 1;\"></line><line transform=\"translate(50,0)\" x2=\"0\" y2=\"5\" style=\"fill: none; stroke: #888; stroke-width: 1; opacity: 1;\"></line><line transform=\"translate(100,0)\" x2=\"0\" y2=\"5\" style=\"fill: none; stroke: #888; stroke-width: 1; opacity: 1;\"></line><line transform=\"translate(150,0)\" x2=\"0\" y2=\"5\" style=\"fill: none; stroke: #888; stroke-width: 1; opacity: 1;\"></line><line transform=\"translate(200,0)\" x2=\"0\" y2=\"5\" style=\"fill: none; stroke: #888; stroke-width: 1; opacity: 1;\"></line></g><g class=\"mark-text role-axis-label\" style=\"pointer-events: none;\"><text text-anchor=\"start\" transform=\"translate(0,15)\" style=\"font-family: sans-serif; font-size: 10px; fill: #000; opacity: 1;\">0</text><text text-anchor=\"middle\" transform=\"translate(50,15)\" style=\"font-family: sans-serif; font-size: 10px; fill: #000; opacity: 1;\">2</text><text text-anchor=\"middle\" transform=\"translate(100,15)\" style=\"font-family: sans-serif; font-size: 10px; fill: #000; opacity: 1;\">4</text><text text-anchor=\"middle\" transform=\"translate(150,15)\" style=\"font-family: sans-serif; font-size: 10px; fill: #000; opacity: 1;\">6</text><text text-anchor=\"end\" transform=\"translate(200,15)\" style=\"font-family: sans-serif; font-size: 10px; fill: #000; opacity: 1;\">8</text></g><g class=\"mark-rule role-axis-domain\" style=\"pointer-events: none;\"><line transform=\"translate(0,0)\" x2=\"200\" y2=\"0\" style=\"fill: none; stroke: #888; stroke-width: 1; opacity: 1;\"></line></g><g class=\"mark-text role-axis-title\" style=\"pointer-events: none;\"><text text-anchor=\"middle\" transform=\"translate(100,30)\" style=\"font-family: sans-serif; font-size: 11px; font-weight: bold; fill: #000; opacity: 1;\">x1</text></g></g></g></g><g class=\"mark-group role-axis\"><g transform=\"translate(0.5,0.5)\"><path class=\"background\" d=\"M0,0h0v0h0Z\" style=\"pointer-events: none; fill: none;\"></path><g><g class=\"mark-rule role-axis-tick\" style=\"pointer-events: none;\"><line transform=\"translate(0,200)\" x2=\"-5\" y2=\"0\" style=\"fill: none; stroke: #888; stroke-width: 1; opacity: 1;\"></line><line transform=\"translate(0,171)\" x2=\"-5\" y2=\"0\" style=\"fill: none; stroke: #888; stroke-width: 1; opacity: 1;\"></line><line transform=\"translate(0,143)\" x2=\"-5\" y2=\"0\" style=\"fill: none; stroke: #888; stroke-width: 1; opacity: 1;\"></line><line transform=\"translate(0,114)\" x2=\"-5\" y2=\"0\" style=\"fill: none; stroke: #888; stroke-width: 1; opacity: 1;\"></line><line transform=\"translate(0,86)\" x2=\"-5\" y2=\"0\" style=\"fill: none; stroke: #888; stroke-width: 1; opacity: 1;\"></line><line transform=\"translate(0,57)\" x2=\"-5\" y2=\"0\" style=\"fill: none; stroke: #888; stroke-width: 1; opacity: 1;\"></line><line transform=\"translate(0,29)\" x2=\"-5\" y2=\"0\" style=\"fill: none; stroke: #888; stroke-width: 1; opacity: 1;\"></line><line transform=\"translate(0,0)\" x2=\"-5\" y2=\"0\" style=\"fill: none; stroke: #888; stroke-width: 1; opacity: 1;\"></line></g><g class=\"mark-text role-axis-label\" style=\"pointer-events: none;\"><text text-anchor=\"end\" transform=\"translate(-7,203)\" style=\"font-family: sans-serif; font-size: 10px; fill: #000; opacity: 1;\">0</text><text text-anchor=\"end\" transform=\"translate(-7,174.42857142857144)\" style=\"font-family: sans-serif; font-size: 10px; fill: #000; opacity: 1;\">20</text><text text-anchor=\"end\" transform=\"translate(-7,145.85714285714286)\" style=\"font-family: sans-serif; font-size: 10px; fill: #000; opacity: 1;\">40</text><text text-anchor=\"end\" transform=\"translate(-7,117.28571428571429)\" style=\"font-family: sans-serif; font-size: 10px; fill: #000; opacity: 1;\">60</text><text text-anchor=\"end\" transform=\"translate(-7,88.71428571428572)\" style=\"font-family: sans-serif; font-size: 10px; fill: #000; opacity: 1;\">80</text><text text-anchor=\"end\" transform=\"translate(-7,60.14285714285714)\" style=\"font-family: sans-serif; font-size: 10px; fill: #000; opacity: 1;\">100</text><text text-anchor=\"end\" transform=\"translate(-7,31.571428571428584)\" style=\"font-family: sans-serif; font-size: 10px; fill: #000; opacity: 1;\">120</text><text text-anchor=\"end\" transform=\"translate(-7,3)\" style=\"font-family: sans-serif; font-size: 10px; fill: #000; opacity: 1;\">140</text></g><g class=\"mark-rule role-axis-domain\" style=\"pointer-events: none;\"><line transform=\"translate(0,200)\" x2=\"0\" y2=\"-200\" style=\"fill: none; stroke: #888; stroke-width: 1; opacity: 1;\"></line></g><g class=\"mark-text role-axis-title\" style=\"pointer-events: none;\"><text text-anchor=\"middle\" transform=\"translate(-29,100) rotate(-90) translate(0,-2)\" style=\"font-family: sans-serif; font-size: 11px; font-weight: bold; fill: #000; opacity: 1;\">x2</text></g></g></g></g></g></g></g></g></svg>"
      ],
      "text/plain": [
       "VegaLite.VLSpec{:plot}"
      ]
     },
     "execution_count": 94,
     "metadata": {},
     "output_type": "execute_result"
    }
   ],
   "source": [
    "points = df |> vl\"\"\"\n",
    "{\n",
    "  \"mark\": \"circle\",\n",
    "  \"encoding\": {\n",
    "    \"x\": {\"field\": \"x1\", \"type\": \"quantitative\"},\n",
    "    \"y\": {\"field\": \"x2\", \"type\": \"quantitative\"}\n",
    "  }\n",
    "}\"\"\""
   ]
  },
  {
   "cell_type": "code",
   "execution_count": 105,
   "metadata": {},
   "outputs": [
    {
     "ename": "LoadError",
     "evalue": "Invalid object key\nLine: 18\nAround: ...yer\":[{  {     \"transform\": [ ...\n                    ^\n",
     "output_type": "error",
     "traceback": [
      "Invalid object key\nLine: 18\nAround: ...yer\":[{  {     \"transform\": [ ...\n                    ^\n",
      "",
      "Stacktrace:",
      " [1] error(::String) at ./error.jl:33",
      " [2] _error(::String, ::JSON.Parser.MemoryParserState) at /home/davi/.julia/packages/JSON/d89fA/src/Parser.jl:142",
      " [3] parse_object(::JSON.Parser.ParserContext{Dict{String,Any},Int64,true,nothing}, ::JSON.Parser.MemoryParserState) at /home/davi/.julia/packages/JSON/d89fA/src/Parser.jl:227",
      " [4] parse_value(::JSON.Parser.ParserContext{Dict{String,Any},Int64,true,nothing}, ::JSON.Parser.MemoryParserState) at /home/davi/.julia/packages/JSON/d89fA/src/Parser.jl:168",
      " [5] parse_array(::JSON.Parser.ParserContext{Dict{String,Any},Int64,true,nothing}, ::JSON.Parser.MemoryParserState) at /home/davi/.julia/packages/JSON/d89fA/src/Parser.jl:205",
      " [6] parse_value(::JSON.Parser.ParserContext{Dict{String,Any},Int64,true,nothing}, ::JSON.Parser.MemoryParserState) at /home/davi/.julia/packages/JSON/d89fA/src/Parser.jl:170",
      " [7] parse_object(::JSON.Parser.ParserContext{Dict{String,Any},Int64,true,nothing}, ::JSON.Parser.MemoryParserState) at /home/davi/.julia/packages/JSON/d89fA/src/Parser.jl:232",
      " [8] parse_value(::JSON.Parser.ParserContext{Dict{String,Any},Int64,true,nothing}, ::JSON.Parser.MemoryParserState) at /home/davi/.julia/packages/JSON/d89fA/src/Parser.jl:168",
      " [9] parse_array(::JSON.Parser.ParserContext{Dict{String,Any},Int64,true,nothing}, ::JSON.Parser.MemoryParserState) at /home/davi/.julia/packages/JSON/d89fA/src/Parser.jl:205",
      " [10] parse_value(::JSON.Parser.ParserContext{Dict{String,Any},Int64,true,nothing}, ::JSON.Parser.MemoryParserState) at /home/davi/.julia/packages/JSON/d89fA/src/Parser.jl:170",
      " [11] parse_object(::JSON.Parser.ParserContext{Dict{String,Any},Int64,true,nothing}, ::JSON.Parser.MemoryParserState) at /home/davi/.julia/packages/JSON/d89fA/src/Parser.jl:232",
      " [12] parse_value(::JSON.Parser.ParserContext{Dict{String,Any},Int64,true,nothing}, ::JSON.Parser.MemoryParserState) at /home/davi/.julia/packages/JSON/d89fA/src/Parser.jl:168",
      " [13] #parse#1(::Type, ::Type{Int64}, ::Bool, ::Nothing, ::Function, ::String) at /home/davi/.julia/packages/JSON/d89fA/src/Parser.jl:463",
      " [14] parse(::String) at /home/davi/.julia/packages/JSON/d89fA/src/Parser.jl:461",
      " [15] @vl_str(::LineNumberNode, ::Module, ::Any) at /home/davi/.julia/packages/VegaLite/sHyyT/src/dsl_str_macro/dsl_str_macro.jl:2"
     ]
    }
   ],
   "source": [
    "points = df |> vl\"\"\"\n",
    "{\n",
    "\"hconcat\" : [\n",
    "  {\n",
    "    \"selection\": {\n",
    "      \"brush\": {\"type\": \"interval\",\"encodings\": [\"x\"]}\n",
    "    },\n",
    "    \"view\":{\"stroke\" : null},\n",
    "    \"width\": 500,\n",
    "    \"height\": 300,\n",
    "    \"mark\": \"circle\",\n",
    "    \"encoding\": {\n",
    "        \"x\": {\"field\": \"x1\", \"type\": \"quantitative\",\"axis\": {\"grid\":false, \"title\":\"Samples\"}},\n",
    "        \"y\": {\"field\": \"x2\", \"type\": \"quantitative\", \"axis\": null},\n",
    "        \"size\":{\"value\":200}\n",
    "        }\n",
    "    },\n",
    "  {\n",
    "    \"layer\":[{\n",
    " {\n",
    "    \"transform\": [\n",
    "      {\"filter\": {\"selection\": \"brush\"}}\n",
    "    ],\n",
    "    \"width\": 500,\n",
    "    \"height\": 300,\n",
    "    \"mark\": \"bar\",\n",
    "    \"encoding\": {\n",
    "    \"x\": {\n",
    "        \"bin\":true,\n",
    "        \"field\": \"x3\",\n",
    "        \"type\": \"quantitative\"\n",
    "    },\n",
    "    \"y\": {\n",
    "        \"aggregate\": \"count\",\n",
    "        \"type\": \"quantitative\"\n",
    "      }\n",
    "    }}\n",
    "    ]\n",
    "}]\n",
    "}\n",
    "\"\"\""
   ]
  },
  {
   "cell_type": "code",
   "execution_count": 69,
   "metadata": {},
   "outputs": [
    {
     "data": {
      "application/vnd.vegalite.v3+json": {
       "vconcat": [
        {
         "height": 300,
         "layer": [
          {
           "data": {
            "values": {
             "Event": "Acceptance Region",
             "finish": 6.3,
             "start": 5.7
            }
           },
           "encoding": {
            "color": {
             "field": "Event",
             "scale": {
              "range": [
               "green"
              ]
             },
             "type": "nominal"
            },
            "opacity": {
             "value": 0.3
            },
            "x": {
             "axis": {
              "title": ""
             },
             "field": "start",
             "type": "quantitative"
            },
            "x2": {
             "field": "finish",
             "type": "quantitative"
            },
            "y": {
             "axis": {
              "ticks": false
             },
             "value": 1
            }
           },
           "mark": {
            "color": "green",
            "type": "rect"
           }
          },
          {
           "data": {
            "values": [
             {
              "x1": 6,
              "x2": 1
             },
             {
              "x1": 5,
              "x2": 1
             },
             {
              "x1": 5,
              "x2": 2
             },
             {
              "x1": 4,
              "x2": 1
             },
             {
              "x1": 2,
              "x2": 1
             },
             {
              "x1": 1,
              "x2": 1
             },
             {
              "x1": 4,
              "x2": 2
             },
             {
              "x1": 2,
              "x2": 2
             },
             {
              "x1": 8,
              "x2": 1
             },
             {
              "x1": 3,
              "x2": 1
             },
             {
              "x1": 1,
              "x2": 2
             },
             {
              "x1": 8,
              "x2": 2
             },
             {
              "x1": 1,
              "x2": 3
             },
             {
              "x1": 0,
              "x2": 1
             },
             {
              "x1": 8,
              "x2": 3
             },
             {
              "x1": 5,
              "x2": 3
             },
             {
              "x1": 2,
              "x2": 3
             },
             {
              "x1": 7,
              "x2": 1
             },
             {
              "x1": 1,
              "x2": 4
             },
             {
              "x1": 5,
              "x2": 4
             },
             {
              "x1": 5,
              "x2": 5
             },
             {
              "x1": 1,
              "x2": 5
             },
             {
              "x1": 2,
              "x2": 4
             },
             {
              "x1": 4,
              "x2": 3
             },
             {
              "x1": 2,
              "x2": 5
             },
             {
              "x1": 8,
              "x2": 4
             },
             {
              "x1": 7,
              "x2": 2
             },
             {
              "x1": 5,
              "x2": 6
             },
             {
              "x1": 8,
              "x2": 5
             },
             {
              "x1": 1,
              "x2": 6
             },
             {
              "x1": 3,
              "x2": 2
             },
             {
              "x1": 4,
              "x2": 4
             },
             {
              "x1": 0,
              "x2": 2
             },
             {
              "x1": 2,
              "x2": 6
             },
             {
              "x1": 2,
              "x2": 7
             },
             {
              "x1": 0,
              "x2": 3
             },
             {
              "x1": 3,
              "x2": 3
             },
             {
              "x1": 0,
              "x2": 4
             },
             {
              "x1": 1,
              "x2": 7
             },
             {
              "x1": 3,
              "x2": 4
             },
             {
              "x1": 7,
              "x2": 3
             },
             {
              "x1": 2,
              "x2": 8
             },
             {
              "x1": 1,
              "x2": 8
             },
             {
              "x1": 2,
              "x2": 9
             },
             {
              "x1": 1,
              "x2": 9
             },
             {
              "x1": 6,
              "x2": 2
             },
             {
              "x1": 3,
              "x2": 5
             },
             {
              "x1": 4,
              "x2": 5
             },
             {
              "x1": 2,
              "x2": 10
             },
             {
              "x1": 0,
              "x2": 5
             },
             {
              "x1": 4,
              "x2": 6
             },
             {
              "x1": 5,
              "x2": 7
             },
             {
              "x1": 7,
              "x2": 4
             },
             {
              "x1": 4,
              "x2": 7
             },
             {
              "x1": 0,
              "x2": 6
             },
             {
              "x1": 2,
              "x2": 11
             },
             {
              "x1": 6,
              "x2": 3
             },
             {
              "x1": 8,
              "x2": 6
             },
             {
              "x1": 7,
              "x2": 5
             },
             {
              "x1": 5,
              "x2": 8
             },
             {
              "x1": 4,
              "x2": 8
             },
             {
              "x1": 4,
              "x2": 9
             },
             {
              "x1": 5,
              "x2": 9
             },
             {
              "x1": 2,
              "x2": 12
             },
             {
              "x1": 0,
              "x2": 7
             },
             {
              "x1": 6,
              "x2": 4
             },
             {
              "x1": 0,
              "x2": 8
             },
             {
              "x1": 3,
              "x2": 6
             },
             {
              "x1": 3,
              "x2": 7
             },
             {
              "x1": 3,
              "x2": 8
             },
             {
              "x1": 8,
              "x2": 7
             },
             {
              "x1": 4,
              "x2": 10
             },
             {
              "x1": 7,
              "x2": 6
             },
             {
              "x1": 5,
              "x2": 10
             },
             {
              "x1": 6,
              "x2": 5
             },
             {
              "x1": 2,
              "x2": 13
             },
             {
              "x1": 3,
              "x2": 9
             },
             {
              "x1": 0,
              "x2": 9
             },
             {
              "x1": 4,
              "x2": 11
             },
             {
              "x1": 3,
              "x2": 10
             },
             {
              "x1": 3,
              "x2": 11
             },
             {
              "x1": 8,
              "x2": 8
             },
             {
              "x1": 8,
              "x2": 9
             },
             {
              "x1": 0,
              "x2": 10
             },
             {
              "x1": 0,
              "x2": 11
             },
             {
              "x1": 8,
              "x2": 10
             },
             {
              "x1": 6,
              "x2": 6
             },
             {
              "x1": 6,
              "x2": 7
             },
             {
              "x1": 6,
              "x2": 8
             },
             {
              "x1": 2,
              "x2": 14
             },
             {
              "x1": 3,
              "x2": 12
             },
             {
              "x1": 2,
              "x2": 15
             },
             {
              "x1": 2,
              "x2": 16
             },
             {
              "x1": 1,
              "x2": 10
             },
             {
              "x1": 5,
              "x2": 11
             },
             {
              "x1": 3,
              "x2": 13
             },
             {
              "x1": 3,
              "x2": 14
             },
             {
              "x1": 0,
              "x2": 12
             },
             {
              "x1": 2,
              "x2": 17
             },
             {
              "x1": 1,
              "x2": 11
             }
            ]
           },
           "encoding": {
            "color": {
             "value": "#4682b4"
            },
            "size": {
             "value": 200
            },
            "x": {
             "axis": {
              "grid": false,
              "title": "Sample Values"
             },
             "field": "x1",
             "type": "quantitative"
            },
            "y": {
             "axis": null,
             "field": "x2",
             "type": "quantitative"
            }
           },
           "mark": {
            "clip": false,
            "stroke": "black",
            "strokeWidth": 1,
            "type": "circle"
           }
          }
         ],
         "width": 800
        }
       ]
      },
      "image/png": "[encoded data removed]",
      "image/svg+xml": [
       "<svg class=\"marks\" width=\"960\" height=\"344\" viewBox=\"0 0 960 344\" version=\"1.1\" xmlns=\"http://www.w3.org/2000/svg\" xmlns:xlink=\"http://www.w3.org/1999/xlink\"><g transform=\"translate(15,6)\"><g class=\"mark-group role-frame root\"><g transform=\"translate(0,0)\"><path class=\"background\" d=\"M0,0h800v0h-800Z\" style=\"fill: none;\"></path><g><g class=\"mark-group role-scope concat_0_group\"><g transform=\"translate(0,0)\"><path class=\"background\" d=\"M0.5,0.5h800v300h-800Z\" style=\"fill: none; stroke: #ddd;\"></path><g><g class=\"mark-rect role-mark concat_0_layer_0_marks\"><path d=\"M570,1h60v299h-60Z\" style=\"fill: green; opacity: 0.3;\"></path></g><g class=\"mark-symbol role-mark concat_0_layer_1_marks\"><path transform=\"translate(600,283.3333333333333)\" d=\"M7.0710678118654755,0A7.0710678118654755,7.0710678118654755,0,1,1,-7.0710678118654755,0A7.0710678118654755,7.0710678118654755,0,1,1,7.0710678118654755,0\" style=\"fill: #4682b4; stroke: black; stroke-width: 1; opacity: 0.7;\"></path><path transform=\"translate(500,283.3333333333333)\" d=\"M7.0710678118654755,0A7.0710678118654755,7.0710678118654755,0,1,1,-7.0710678118654755,0A7.0710678118654755,7.0710678118654755,0,1,1,7.0710678118654755,0\" style=\"fill: #4682b4; stroke: black; stroke-width: 1; opacity: 0.7;\"></path><path transform=\"translate(500,266.6666666666667)\" d=\"M7.0710678118654755,0A7.0710678118654755,7.0710678118654755,0,1,1,-7.0710678118654755,0A7.0710678118654755,7.0710678118654755,0,1,1,7.0710678118654755,0\" style=\"fill: #4682b4; stroke: black; stroke-width: 1; opacity: 0.7;\"></path><path transform=\"translate(400,283.3333333333333)\" d=\"M7.0710678118654755,0A7.0710678118654755,7.0710678118654755,0,1,1,-7.0710678118654755,0A7.0710678118654755,7.0710678118654755,0,1,1,7.0710678118654755,0\" style=\"fill: #4682b4; stroke: black; stroke-width: 1; opacity: 0.7;\"></path><path transform=\"translate(200,283.3333333333333)\" d=\"M7.0710678118654755,0A7.0710678118654755,7.0710678118654755,0,1,1,-7.0710678118654755,0A7.0710678118654755,7.0710678118654755,0,1,1,7.0710678118654755,0\" style=\"fill: #4682b4; stroke: black; stroke-width: 1; opacity: 0.7;\"></path><path transform=\"translate(100,283.3333333333333)\" d=\"M7.0710678118654755,0A7.0710678118654755,7.0710678118654755,0,1,1,-7.0710678118654755,0A7.0710678118654755,7.0710678118654755,0,1,1,7.0710678118654755,0\" style=\"fill: #4682b4; stroke: black; stroke-width: 1; opacity: 0.7;\"></path><path transform=\"translate(400,266.6666666666667)\" d=\"M7.0710678118654755,0A7.0710678118654755,7.0710678118654755,0,1,1,-7.0710678118654755,0A7.0710678118654755,7.0710678118654755,0,1,1,7.0710678118654755,0\" style=\"fill: #4682b4; stroke: black; stroke-width: 1; opacity: 0.7;\"></path><path transform=\"translate(200,266.6666666666667)\" d=\"M7.0710678118654755,0A7.0710678118654755,7.0710678118654755,0,1,1,-7.0710678118654755,0A7.0710678118654755,7.0710678118654755,0,1,1,7.0710678118654755,0\" style=\"fill: #4682b4; stroke: black; stroke-width: 1; opacity: 0.7;\"></path><path transform=\"translate(800,283.3333333333333)\" d=\"M7.0710678118654755,0A7.0710678118654755,7.0710678118654755,0,1,1,-7.0710678118654755,0A7.0710678118654755,7.0710678118654755,0,1,1,7.0710678118654755,0\" style=\"fill: #4682b4; stroke: black; stroke-width: 1; opacity: 0.7;\"></path><path transform=\"translate(300,283.3333333333333)\" d=\"M7.0710678118654755,0A7.0710678118654755,7.0710678118654755,0,1,1,-7.0710678118654755,0A7.0710678118654755,7.0710678118654755,0,1,1,7.0710678118654755,0\" style=\"fill: #4682b4; stroke: black; stroke-width: 1; opacity: 0.7;\"></path><path transform=\"translate(100,266.6666666666667)\" d=\"M7.0710678118654755,0A7.0710678118654755,7.0710678118654755,0,1,1,-7.0710678118654755,0A7.0710678118654755,7.0710678118654755,0,1,1,7.0710678118654755,0\" style=\"fill: #4682b4; stroke: black; stroke-width: 1; opacity: 0.7;\"></path><path transform=\"translate(800,266.6666666666667)\" d=\"M7.0710678118654755,0A7.0710678118654755,7.0710678118654755,0,1,1,-7.0710678118654755,0A7.0710678118654755,7.0710678118654755,0,1,1,7.0710678118654755,0\" style=\"fill: #4682b4; stroke: black; stroke-width: 1; opacity: 0.7;\"></path><path transform=\"translate(100,250)\" d=\"M7.0710678118654755,0A7.0710678118654755,7.0710678118654755,0,1,1,-7.0710678118654755,0A7.0710678118654755,7.0710678118654755,0,1,1,7.0710678118654755,0\" style=\"fill: #4682b4; stroke: black; stroke-width: 1; opacity: 0.7;\"></path><path transform=\"translate(0,283.3333333333333)\" d=\"M7.0710678118654755,0A7.0710678118654755,7.0710678118654755,0,1,1,-7.0710678118654755,0A7.0710678118654755,7.0710678118654755,0,1,1,7.0710678118654755,0\" style=\"fill: #4682b4; stroke: black; stroke-width: 1; opacity: 0.7;\"></path><path transform=\"translate(800,250)\" d=\"M7.0710678118654755,0A7.0710678118654755,7.0710678118654755,0,1,1,-7.0710678118654755,0A7.0710678118654755,7.0710678118654755,0,1,1,7.0710678118654755,0\" style=\"fill: #4682b4; stroke: black; stroke-width: 1; opacity: 0.7;\"></path><path transform=\"translate(500,250)\" d=\"M7.0710678118654755,0A7.0710678118654755,7.0710678118654755,0,1,1,-7.0710678118654755,0A7.0710678118654755,7.0710678118654755,0,1,1,7.0710678118654755,0\" style=\"fill: #4682b4; stroke: black; stroke-width: 1; opacity: 0.7;\"></path><path transform=\"translate(200,250)\" d=\"M7.0710678118654755,0A7.0710678118654755,7.0710678118654755,0,1,1,-7.0710678118654755,0A7.0710678118654755,7.0710678118654755,0,1,1,7.0710678118654755,0\" style=\"fill: #4682b4; stroke: black; stroke-width: 1; opacity: 0.7;\"></path><path transform=\"translate(700,283.3333333333333)\" d=\"M7.0710678118654755,0A7.0710678118654755,7.0710678118654755,0,1,1,-7.0710678118654755,0A7.0710678118654755,7.0710678118654755,0,1,1,7.0710678118654755,0\" style=\"fill: #4682b4; stroke: black; stroke-width: 1; opacity: 0.7;\"></path><path transform=\"translate(100,233.33333333333334)\" d=\"M7.0710678118654755,0A7.0710678118654755,7.0710678118654755,0,1,1,-7.0710678118654755,0A7.0710678118654755,7.0710678118654755,0,1,1,7.0710678118654755,0\" style=\"fill: #4682b4; stroke: black; stroke-width: 1; opacity: 0.7;\"></path><path transform=\"translate(500,233.33333333333334)\" d=\"M7.0710678118654755,0A7.0710678118654755,7.0710678118654755,0,1,1,-7.0710678118654755,0A7.0710678118654755,7.0710678118654755,0,1,1,7.0710678118654755,0\" style=\"fill: #4682b4; stroke: black; stroke-width: 1; opacity: 0.7;\"></path><path transform=\"translate(500,216.66666666666666)\" d=\"M7.0710678118654755,0A7.0710678118654755,7.0710678118654755,0,1,1,-7.0710678118654755,0A7.0710678118654755,7.0710678118654755,0,1,1,7.0710678118654755,0\" style=\"fill: #4682b4; stroke: black; stroke-width: 1; opacity: 0.7;\"></path><path transform=\"translate(100,216.66666666666666)\" d=\"M7.0710678118654755,0A7.0710678118654755,7.0710678118654755,0,1,1,-7.0710678118654755,0A7.0710678118654755,7.0710678118654755,0,1,1,7.0710678118654755,0\" style=\"fill: #4682b4; stroke: black; stroke-width: 1; opacity: 0.7;\"></path><path transform=\"translate(200,233.33333333333334)\" d=\"M7.0710678118654755,0A7.0710678118654755,7.0710678118654755,0,1,1,-7.0710678118654755,0A7.0710678118654755,7.0710678118654755,0,1,1,7.0710678118654755,0\" style=\"fill: #4682b4; stroke: black; stroke-width: 1; opacity: 0.7;\"></path><path transform=\"translate(400,250)\" d=\"M7.0710678118654755,0A7.0710678118654755,7.0710678118654755,0,1,1,-7.0710678118654755,0A7.0710678118654755,7.0710678118654755,0,1,1,7.0710678118654755,0\" style=\"fill: #4682b4; stroke: black; stroke-width: 1; opacity: 0.7;\"></path><path transform=\"translate(200,216.66666666666666)\" d=\"M7.0710678118654755,0A7.0710678118654755,7.0710678118654755,0,1,1,-7.0710678118654755,0A7.0710678118654755,7.0710678118654755,0,1,1,7.0710678118654755,0\" style=\"fill: #4682b4; stroke: black; stroke-width: 1; opacity: 0.7;\"></path><path transform=\"translate(800,233.33333333333334)\" d=\"M7.0710678118654755,0A7.0710678118654755,7.0710678118654755,0,1,1,-7.0710678118654755,0A7.0710678118654755,7.0710678118654755,0,1,1,7.0710678118654755,0\" style=\"fill: #4682b4; stroke: black; stroke-width: 1; opacity: 0.7;\"></path><path transform=\"translate(700,266.6666666666667)\" d=\"M7.0710678118654755,0A7.0710678118654755,7.0710678118654755,0,1,1,-7.0710678118654755,0A7.0710678118654755,7.0710678118654755,0,1,1,7.0710678118654755,0\" style=\"fill: #4682b4; stroke: black; stroke-width: 1; opacity: 0.7;\"></path><path transform=\"translate(500,200)\" d=\"M7.0710678118654755,0A7.0710678118654755,7.0710678118654755,0,1,1,-7.0710678118654755,0A7.0710678118654755,7.0710678118654755,0,1,1,7.0710678118654755,0\" style=\"fill: #4682b4; stroke: black; stroke-width: 1; opacity: 0.7;\"></path><path transform=\"translate(800,216.66666666666666)\" d=\"M7.0710678118654755,0A7.0710678118654755,7.0710678118654755,0,1,1,-7.0710678118654755,0A7.0710678118654755,7.0710678118654755,0,1,1,7.0710678118654755,0\" style=\"fill: #4682b4; stroke: black; stroke-width: 1; opacity: 0.7;\"></path><path transform=\"translate(100,200)\" d=\"M7.0710678118654755,0A7.0710678118654755,7.0710678118654755,0,1,1,-7.0710678118654755,0A7.0710678118654755,7.0710678118654755,0,1,1,7.0710678118654755,0\" style=\"fill: #4682b4; stroke: black; stroke-width: 1; opacity: 0.7;\"></path><path transform=\"translate(300,266.6666666666667)\" d=\"M7.0710678118654755,0A7.0710678118654755,7.0710678118654755,0,1,1,-7.0710678118654755,0A7.0710678118654755,7.0710678118654755,0,1,1,7.0710678118654755,0\" style=\"fill: #4682b4; stroke: black; stroke-width: 1; opacity: 0.7;\"></path><path transform=\"translate(400,233.33333333333334)\" d=\"M7.0710678118654755,0A7.0710678118654755,7.0710678118654755,0,1,1,-7.0710678118654755,0A7.0710678118654755,7.0710678118654755,0,1,1,7.0710678118654755,0\" style=\"fill: #4682b4; stroke: black; stroke-width: 1; opacity: 0.7;\"></path><path transform=\"translate(0,266.6666666666667)\" d=\"M7.0710678118654755,0A7.0710678118654755,7.0710678118654755,0,1,1,-7.0710678118654755,0A7.0710678118654755,7.0710678118654755,0,1,1,7.0710678118654755,0\" style=\"fill: #4682b4; stroke: black; stroke-width: 1; opacity: 0.7;\"></path><path transform=\"translate(200,200)\" d=\"M7.0710678118654755,0A7.0710678118654755,7.0710678118654755,0,1,1,-7.0710678118654755,0A7.0710678118654755,7.0710678118654755,0,1,1,7.0710678118654755,0\" style=\"fill: #4682b4; stroke: black; stroke-width: 1; opacity: 0.7;\"></path><path transform=\"translate(200,183.33333333333331)\" d=\"M7.0710678118654755,0A7.0710678118654755,7.0710678118654755,0,1,1,-7.0710678118654755,0A7.0710678118654755,7.0710678118654755,0,1,1,7.0710678118654755,0\" style=\"fill: #4682b4; stroke: black; stroke-width: 1; opacity: 0.7;\"></path><path transform=\"translate(0,250)\" d=\"M7.0710678118654755,0A7.0710678118654755,7.0710678118654755,0,1,1,-7.0710678118654755,0A7.0710678118654755,7.0710678118654755,0,1,1,7.0710678118654755,0\" style=\"fill: #4682b4; stroke: black; stroke-width: 1; opacity: 0.7;\"></path><path transform=\"translate(300,250)\" d=\"M7.0710678118654755,0A7.0710678118654755,7.0710678118654755,0,1,1,-7.0710678118654755,0A7.0710678118654755,7.0710678118654755,0,1,1,7.0710678118654755,0\" style=\"fill: #4682b4; stroke: black; stroke-width: 1; opacity: 0.7;\"></path><path transform=\"translate(0,233.33333333333334)\" d=\"M7.0710678118654755,0A7.0710678118654755,7.0710678118654755,0,1,1,-7.0710678118654755,0A7.0710678118654755,7.0710678118654755,0,1,1,7.0710678118654755,0\" style=\"fill: #4682b4; stroke: black; stroke-width: 1; opacity: 0.7;\"></path><path transform=\"translate(100,183.33333333333331)\" d=\"M7.0710678118654755,0A7.0710678118654755,7.0710678118654755,0,1,1,-7.0710678118654755,0A7.0710678118654755,7.0710678118654755,0,1,1,7.0710678118654755,0\" style=\"fill: #4682b4; stroke: black; stroke-width: 1; opacity: 0.7;\"></path><path transform=\"translate(300,233.33333333333334)\" d=\"M7.0710678118654755,0A7.0710678118654755,7.0710678118654755,0,1,1,-7.0710678118654755,0A7.0710678118654755,7.0710678118654755,0,1,1,7.0710678118654755,0\" style=\"fill: #4682b4; stroke: black; stroke-width: 1; opacity: 0.7;\"></path><path transform=\"translate(700,250)\" d=\"M7.0710678118654755,0A7.0710678118654755,7.0710678118654755,0,1,1,-7.0710678118654755,0A7.0710678118654755,7.0710678118654755,0,1,1,7.0710678118654755,0\" style=\"fill: #4682b4; stroke: black; stroke-width: 1; opacity: 0.7;\"></path><path transform=\"translate(200,166.66666666666669)\" d=\"M7.0710678118654755,0A7.0710678118654755,7.0710678118654755,0,1,1,-7.0710678118654755,0A7.0710678118654755,7.0710678118654755,0,1,1,7.0710678118654755,0\" style=\"fill: #4682b4; stroke: black; stroke-width: 1; opacity: 0.7;\"></path><path transform=\"translate(100,166.66666666666669)\" d=\"M7.0710678118654755,0A7.0710678118654755,7.0710678118654755,0,1,1,-7.0710678118654755,0A7.0710678118654755,7.0710678118654755,0,1,1,7.0710678118654755,0\" style=\"fill: #4682b4; stroke: black; stroke-width: 1; opacity: 0.7;\"></path><path transform=\"translate(200,150)\" d=\"M7.0710678118654755,0A7.0710678118654755,7.0710678118654755,0,1,1,-7.0710678118654755,0A7.0710678118654755,7.0710678118654755,0,1,1,7.0710678118654755,0\" style=\"fill: #4682b4; stroke: black; stroke-width: 1; opacity: 0.7;\"></path><path transform=\"translate(100,150)\" d=\"M7.0710678118654755,0A7.0710678118654755,7.0710678118654755,0,1,1,-7.0710678118654755,0A7.0710678118654755,7.0710678118654755,0,1,1,7.0710678118654755,0\" style=\"fill: #4682b4; stroke: black; stroke-width: 1; opacity: 0.7;\"></path><path transform=\"translate(600,266.6666666666667)\" d=\"M7.0710678118654755,0A7.0710678118654755,7.0710678118654755,0,1,1,-7.0710678118654755,0A7.0710678118654755,7.0710678118654755,0,1,1,7.0710678118654755,0\" style=\"fill: #4682b4; stroke: black; stroke-width: 1; opacity: 0.7;\"></path><path transform=\"translate(300,216.66666666666666)\" d=\"M7.0710678118654755,0A7.0710678118654755,7.0710678118654755,0,1,1,-7.0710678118654755,0A7.0710678118654755,7.0710678118654755,0,1,1,7.0710678118654755,0\" style=\"fill: #4682b4; stroke: black; stroke-width: 1; opacity: 0.7;\"></path><path transform=\"translate(400,216.66666666666666)\" d=\"M7.0710678118654755,0A7.0710678118654755,7.0710678118654755,0,1,1,-7.0710678118654755,0A7.0710678118654755,7.0710678118654755,0,1,1,7.0710678118654755,0\" style=\"fill: #4682b4; stroke: black; stroke-width: 1; opacity: 0.7;\"></path><path transform=\"translate(200,133.33333333333331)\" d=\"M7.0710678118654755,0A7.0710678118654755,7.0710678118654755,0,1,1,-7.0710678118654755,0A7.0710678118654755,7.0710678118654755,0,1,1,7.0710678118654755,0\" style=\"fill: #4682b4; stroke: black; stroke-width: 1; opacity: 0.7;\"></path><path transform=\"translate(0,216.66666666666666)\" d=\"M7.0710678118654755,0A7.0710678118654755,7.0710678118654755,0,1,1,-7.0710678118654755,0A7.0710678118654755,7.0710678118654755,0,1,1,7.0710678118654755,0\" style=\"fill: #4682b4; stroke: black; stroke-width: 1; opacity: 0.7;\"></path><path transform=\"translate(400,200)\" d=\"M7.0710678118654755,0A7.0710678118654755,7.0710678118654755,0,1,1,-7.0710678118654755,0A7.0710678118654755,7.0710678118654755,0,1,1,7.0710678118654755,0\" style=\"fill: #4682b4; stroke: black; stroke-width: 1; opacity: 0.7;\"></path><path transform=\"translate(500,183.33333333333331)\" d=\"M7.0710678118654755,0A7.0710678118654755,7.0710678118654755,0,1,1,-7.0710678118654755,0A7.0710678118654755,7.0710678118654755,0,1,1,7.0710678118654755,0\" style=\"fill: #4682b4; stroke: black; stroke-width: 1; opacity: 0.7;\"></path><path transform=\"translate(700,233.33333333333334)\" d=\"M7.0710678118654755,0A7.0710678118654755,7.0710678118654755,0,1,1,-7.0710678118654755,0A7.0710678118654755,7.0710678118654755,0,1,1,7.0710678118654755,0\" style=\"fill: #4682b4; stroke: black; stroke-width: 1; opacity: 0.7;\"></path><path transform=\"translate(400,183.33333333333331)\" d=\"M7.0710678118654755,0A7.0710678118654755,7.0710678118654755,0,1,1,-7.0710678118654755,0A7.0710678118654755,7.0710678118654755,0,1,1,7.0710678118654755,0\" style=\"fill: #4682b4; stroke: black; stroke-width: 1; opacity: 0.7;\"></path><path transform=\"translate(0,200)\" d=\"M7.0710678118654755,0A7.0710678118654755,7.0710678118654755,0,1,1,-7.0710678118654755,0A7.0710678118654755,7.0710678118654755,0,1,1,7.0710678118654755,0\" style=\"fill: #4682b4; stroke: black; stroke-width: 1; opacity: 0.7;\"></path><path transform=\"translate(200,116.66666666666666)\" d=\"M7.0710678118654755,0A7.0710678118654755,7.0710678118654755,0,1,1,-7.0710678118654755,0A7.0710678118654755,7.0710678118654755,0,1,1,7.0710678118654755,0\" style=\"fill: #4682b4; stroke: black; stroke-width: 1; opacity: 0.7;\"></path><path transform=\"translate(600,250)\" d=\"M7.0710678118654755,0A7.0710678118654755,7.0710678118654755,0,1,1,-7.0710678118654755,0A7.0710678118654755,7.0710678118654755,0,1,1,7.0710678118654755,0\" style=\"fill: #4682b4; stroke: black; stroke-width: 1; opacity: 0.7;\"></path><path transform=\"translate(800,200)\" d=\"M7.0710678118654755,0A7.0710678118654755,7.0710678118654755,0,1,1,-7.0710678118654755,0A7.0710678118654755,7.0710678118654755,0,1,1,7.0710678118654755,0\" style=\"fill: #4682b4; stroke: black; stroke-width: 1; opacity: 0.7;\"></path><path transform=\"translate(700,216.66666666666666)\" d=\"M7.0710678118654755,0A7.0710678118654755,7.0710678118654755,0,1,1,-7.0710678118654755,0A7.0710678118654755,7.0710678118654755,0,1,1,7.0710678118654755,0\" style=\"fill: #4682b4; stroke: black; stroke-width: 1; opacity: 0.7;\"></path><path transform=\"translate(500,166.66666666666669)\" d=\"M7.0710678118654755,0A7.0710678118654755,7.0710678118654755,0,1,1,-7.0710678118654755,0A7.0710678118654755,7.0710678118654755,0,1,1,7.0710678118654755,0\" style=\"fill: #4682b4; stroke: black; stroke-width: 1; opacity: 0.7;\"></path><path transform=\"translate(400,166.66666666666669)\" d=\"M7.0710678118654755,0A7.0710678118654755,7.0710678118654755,0,1,1,-7.0710678118654755,0A7.0710678118654755,7.0710678118654755,0,1,1,7.0710678118654755,0\" style=\"fill: #4682b4; stroke: black; stroke-width: 1; opacity: 0.7;\"></path><path transform=\"translate(400,150)\" d=\"M7.0710678118654755,0A7.0710678118654755,7.0710678118654755,0,1,1,-7.0710678118654755,0A7.0710678118654755,7.0710678118654755,0,1,1,7.0710678118654755,0\" style=\"fill: #4682b4; stroke: black; stroke-width: 1; opacity: 0.7;\"></path><path transform=\"translate(500,150)\" d=\"M7.0710678118654755,0A7.0710678118654755,7.0710678118654755,0,1,1,-7.0710678118654755,0A7.0710678118654755,7.0710678118654755,0,1,1,7.0710678118654755,0\" style=\"fill: #4682b4; stroke: black; stroke-width: 1; opacity: 0.7;\"></path><path transform=\"translate(200,100)\" d=\"M7.0710678118654755,0A7.0710678118654755,7.0710678118654755,0,1,1,-7.0710678118654755,0A7.0710678118654755,7.0710678118654755,0,1,1,7.0710678118654755,0\" style=\"fill: #4682b4; stroke: black; stroke-width: 1; opacity: 0.7;\"></path><path transform=\"translate(0,183.33333333333331)\" d=\"M7.0710678118654755,0A7.0710678118654755,7.0710678118654755,0,1,1,-7.0710678118654755,0A7.0710678118654755,7.0710678118654755,0,1,1,7.0710678118654755,0\" style=\"fill: #4682b4; stroke: black; stroke-width: 1; opacity: 0.7;\"></path><path transform=\"translate(600,233.33333333333334)\" d=\"M7.0710678118654755,0A7.0710678118654755,7.0710678118654755,0,1,1,-7.0710678118654755,0A7.0710678118654755,7.0710678118654755,0,1,1,7.0710678118654755,0\" style=\"fill: #4682b4; stroke: black; stroke-width: 1; opacity: 0.7;\"></path><path transform=\"translate(0,166.66666666666669)\" d=\"M7.0710678118654755,0A7.0710678118654755,7.0710678118654755,0,1,1,-7.0710678118654755,0A7.0710678118654755,7.0710678118654755,0,1,1,7.0710678118654755,0\" style=\"fill: #4682b4; stroke: black; stroke-width: 1; opacity: 0.7;\"></path><path transform=\"translate(300,200)\" d=\"M7.0710678118654755,0A7.0710678118654755,7.0710678118654755,0,1,1,-7.0710678118654755,0A7.0710678118654755,7.0710678118654755,0,1,1,7.0710678118654755,0\" style=\"fill: #4682b4; stroke: black; stroke-width: 1; opacity: 0.7;\"></path><path transform=\"translate(300,183.33333333333331)\" d=\"M7.0710678118654755,0A7.0710678118654755,7.0710678118654755,0,1,1,-7.0710678118654755,0A7.0710678118654755,7.0710678118654755,0,1,1,7.0710678118654755,0\" style=\"fill: #4682b4; stroke: black; stroke-width: 1; opacity: 0.7;\"></path><path transform=\"translate(300,166.66666666666669)\" d=\"M7.0710678118654755,0A7.0710678118654755,7.0710678118654755,0,1,1,-7.0710678118654755,0A7.0710678118654755,7.0710678118654755,0,1,1,7.0710678118654755,0\" style=\"fill: #4682b4; stroke: black; stroke-width: 1; opacity: 0.7;\"></path><path transform=\"translate(800,183.33333333333331)\" d=\"M7.0710678118654755,0A7.0710678118654755,7.0710678118654755,0,1,1,-7.0710678118654755,0A7.0710678118654755,7.0710678118654755,0,1,1,7.0710678118654755,0\" style=\"fill: #4682b4; stroke: black; stroke-width: 1; opacity: 0.7;\"></path><path transform=\"translate(400,133.33333333333331)\" d=\"M7.0710678118654755,0A7.0710678118654755,7.0710678118654755,0,1,1,-7.0710678118654755,0A7.0710678118654755,7.0710678118654755,0,1,1,7.0710678118654755,0\" style=\"fill: #4682b4; stroke: black; stroke-width: 1; opacity: 0.7;\"></path><path transform=\"translate(700,200)\" d=\"M7.0710678118654755,0A7.0710678118654755,7.0710678118654755,0,1,1,-7.0710678118654755,0A7.0710678118654755,7.0710678118654755,0,1,1,7.0710678118654755,0\" style=\"fill: #4682b4; stroke: black; stroke-width: 1; opacity: 0.7;\"></path><path transform=\"translate(500,133.33333333333331)\" d=\"M7.0710678118654755,0A7.0710678118654755,7.0710678118654755,0,1,1,-7.0710678118654755,0A7.0710678118654755,7.0710678118654755,0,1,1,7.0710678118654755,0\" style=\"fill: #4682b4; stroke: black; stroke-width: 1; opacity: 0.7;\"></path><path transform=\"translate(600,216.66666666666666)\" d=\"M7.0710678118654755,0A7.0710678118654755,7.0710678118654755,0,1,1,-7.0710678118654755,0A7.0710678118654755,7.0710678118654755,0,1,1,7.0710678118654755,0\" style=\"fill: #4682b4; stroke: black; stroke-width: 1; opacity: 0.7;\"></path><path transform=\"translate(200,83.33333333333334)\" d=\"M7.0710678118654755,0A7.0710678118654755,7.0710678118654755,0,1,1,-7.0710678118654755,0A7.0710678118654755,7.0710678118654755,0,1,1,7.0710678118654755,0\" style=\"fill: #4682b4; stroke: black; stroke-width: 1; opacity: 0.7;\"></path><path transform=\"translate(300,150)\" d=\"M7.0710678118654755,0A7.0710678118654755,7.0710678118654755,0,1,1,-7.0710678118654755,0A7.0710678118654755,7.0710678118654755,0,1,1,7.0710678118654755,0\" style=\"fill: #4682b4; stroke: black; stroke-width: 1; opacity: 0.7;\"></path><path transform=\"translate(0,150)\" d=\"M7.0710678118654755,0A7.0710678118654755,7.0710678118654755,0,1,1,-7.0710678118654755,0A7.0710678118654755,7.0710678118654755,0,1,1,7.0710678118654755,0\" style=\"fill: #4682b4; stroke: black; stroke-width: 1; opacity: 0.7;\"></path><path transform=\"translate(400,116.66666666666666)\" d=\"M7.0710678118654755,0A7.0710678118654755,7.0710678118654755,0,1,1,-7.0710678118654755,0A7.0710678118654755,7.0710678118654755,0,1,1,7.0710678118654755,0\" style=\"fill: #4682b4; stroke: black; stroke-width: 1; opacity: 0.7;\"></path><path transform=\"translate(300,133.33333333333331)\" d=\"M7.0710678118654755,0A7.0710678118654755,7.0710678118654755,0,1,1,-7.0710678118654755,0A7.0710678118654755,7.0710678118654755,0,1,1,7.0710678118654755,0\" style=\"fill: #4682b4; stroke: black; stroke-width: 1; opacity: 0.7;\"></path><path transform=\"translate(300,116.66666666666666)\" d=\"M7.0710678118654755,0A7.0710678118654755,7.0710678118654755,0,1,1,-7.0710678118654755,0A7.0710678118654755,7.0710678118654755,0,1,1,7.0710678118654755,0\" style=\"fill: #4682b4; stroke: black; stroke-width: 1; opacity: 0.7;\"></path><path transform=\"translate(800,166.66666666666669)\" d=\"M7.0710678118654755,0A7.0710678118654755,7.0710678118654755,0,1,1,-7.0710678118654755,0A7.0710678118654755,7.0710678118654755,0,1,1,7.0710678118654755,0\" style=\"fill: #4682b4; stroke: black; stroke-width: 1; opacity: 0.7;\"></path><path transform=\"translate(800,150)\" d=\"M7.0710678118654755,0A7.0710678118654755,7.0710678118654755,0,1,1,-7.0710678118654755,0A7.0710678118654755,7.0710678118654755,0,1,1,7.0710678118654755,0\" style=\"fill: #4682b4; stroke: black; stroke-width: 1; opacity: 0.7;\"></path><path transform=\"translate(0,133.33333333333331)\" d=\"M7.0710678118654755,0A7.0710678118654755,7.0710678118654755,0,1,1,-7.0710678118654755,0A7.0710678118654755,7.0710678118654755,0,1,1,7.0710678118654755,0\" style=\"fill: #4682b4; stroke: black; stroke-width: 1; opacity: 0.7;\"></path><path transform=\"translate(0,116.66666666666666)\" d=\"M7.0710678118654755,0A7.0710678118654755,7.0710678118654755,0,1,1,-7.0710678118654755,0A7.0710678118654755,7.0710678118654755,0,1,1,7.0710678118654755,0\" style=\"fill: #4682b4; stroke: black; stroke-width: 1; opacity: 0.7;\"></path><path transform=\"translate(800,133.33333333333331)\" d=\"M7.0710678118654755,0A7.0710678118654755,7.0710678118654755,0,1,1,-7.0710678118654755,0A7.0710678118654755,7.0710678118654755,0,1,1,7.0710678118654755,0\" style=\"fill: #4682b4; stroke: black; stroke-width: 1; opacity: 0.7;\"></path><path transform=\"translate(600,200)\" d=\"M7.0710678118654755,0A7.0710678118654755,7.0710678118654755,0,1,1,-7.0710678118654755,0A7.0710678118654755,7.0710678118654755,0,1,1,7.0710678118654755,0\" style=\"fill: #4682b4; stroke: black; stroke-width: 1; opacity: 0.7;\"></path><path transform=\"translate(600,183.33333333333331)\" d=\"M7.0710678118654755,0A7.0710678118654755,7.0710678118654755,0,1,1,-7.0710678118654755,0A7.0710678118654755,7.0710678118654755,0,1,1,7.0710678118654755,0\" style=\"fill: #4682b4; stroke: black; stroke-width: 1; opacity: 0.7;\"></path><path transform=\"translate(600,166.66666666666669)\" d=\"M7.0710678118654755,0A7.0710678118654755,7.0710678118654755,0,1,1,-7.0710678118654755,0A7.0710678118654755,7.0710678118654755,0,1,1,7.0710678118654755,0\" style=\"fill: #4682b4; stroke: black; stroke-width: 1; opacity: 0.7;\"></path><path transform=\"translate(200,66.66666666666666)\" d=\"M7.0710678118654755,0A7.0710678118654755,7.0710678118654755,0,1,1,-7.0710678118654755,0A7.0710678118654755,7.0710678118654755,0,1,1,7.0710678118654755,0\" style=\"fill: #4682b4; stroke: black; stroke-width: 1; opacity: 0.7;\"></path><path transform=\"translate(300,100)\" d=\"M7.0710678118654755,0A7.0710678118654755,7.0710678118654755,0,1,1,-7.0710678118654755,0A7.0710678118654755,7.0710678118654755,0,1,1,7.0710678118654755,0\" style=\"fill: #4682b4; stroke: black; stroke-width: 1; opacity: 0.7;\"></path><path transform=\"translate(200,50)\" d=\"M7.0710678118654755,0A7.0710678118654755,7.0710678118654755,0,1,1,-7.0710678118654755,0A7.0710678118654755,7.0710678118654755,0,1,1,7.0710678118654755,0\" style=\"fill: #4682b4; stroke: black; stroke-width: 1; opacity: 0.7;\"></path><path transform=\"translate(200,33.33333333333337)\" d=\"M7.0710678118654755,0A7.0710678118654755,7.0710678118654755,0,1,1,-7.0710678118654755,0A7.0710678118654755,7.0710678118654755,0,1,1,7.0710678118654755,0\" style=\"fill: #4682b4; stroke: black; stroke-width: 1; opacity: 0.7;\"></path><path transform=\"translate(100,133.33333333333331)\" d=\"M7.0710678118654755,0A7.0710678118654755,7.0710678118654755,0,1,1,-7.0710678118654755,0A7.0710678118654755,7.0710678118654755,0,1,1,7.0710678118654755,0\" style=\"fill: #4682b4; stroke: black; stroke-width: 1; opacity: 0.7;\"></path><path transform=\"translate(500,116.66666666666666)\" d=\"M7.0710678118654755,0A7.0710678118654755,7.0710678118654755,0,1,1,-7.0710678118654755,0A7.0710678118654755,7.0710678118654755,0,1,1,7.0710678118654755,0\" style=\"fill: #4682b4; stroke: black; stroke-width: 1; opacity: 0.7;\"></path><path transform=\"translate(300,83.33333333333334)\" d=\"M7.0710678118654755,0A7.0710678118654755,7.0710678118654755,0,1,1,-7.0710678118654755,0A7.0710678118654755,7.0710678118654755,0,1,1,7.0710678118654755,0\" style=\"fill: #4682b4; stroke: black; stroke-width: 1; opacity: 0.7;\"></path><path transform=\"translate(300,66.66666666666666)\" d=\"M7.0710678118654755,0A7.0710678118654755,7.0710678118654755,0,1,1,-7.0710678118654755,0A7.0710678118654755,7.0710678118654755,0,1,1,7.0710678118654755,0\" style=\"fill: #4682b4; stroke: black; stroke-width: 1; opacity: 0.7;\"></path><path transform=\"translate(0,100)\" d=\"M7.0710678118654755,0A7.0710678118654755,7.0710678118654755,0,1,1,-7.0710678118654755,0A7.0710678118654755,7.0710678118654755,0,1,1,7.0710678118654755,0\" style=\"fill: #4682b4; stroke: black; stroke-width: 1; opacity: 0.7;\"></path><path transform=\"translate(200,16.666666666666686)\" d=\"M7.0710678118654755,0A7.0710678118654755,7.0710678118654755,0,1,1,-7.0710678118654755,0A7.0710678118654755,7.0710678118654755,0,1,1,7.0710678118654755,0\" style=\"fill: #4682b4; stroke: black; stroke-width: 1; opacity: 0.7;\"></path><path transform=\"translate(100,116.66666666666666)\" d=\"M7.0710678118654755,0A7.0710678118654755,7.0710678118654755,0,1,1,-7.0710678118654755,0A7.0710678118654755,7.0710678118654755,0,1,1,7.0710678118654755,0\" style=\"fill: #4682b4; stroke: black; stroke-width: 1; opacity: 0.7;\"></path></g><g class=\"mark-group role-axis\"><g transform=\"translate(0.5,300.5)\"><path class=\"background\" d=\"M0,0h0v0h0Z\" style=\"pointer-events: none; fill: none;\"></path><g><g class=\"mark-rule role-axis-tick\" style=\"pointer-events: none;\"><line transform=\"translate(0,0)\" x2=\"0\" y2=\"5\" style=\"fill: none; stroke: #888; stroke-width: 1; opacity: 1;\"></line><line transform=\"translate(50,0)\" x2=\"0\" y2=\"5\" style=\"fill: none; stroke: #888; stroke-width: 1; opacity: 1;\"></line><line transform=\"translate(100,0)\" x2=\"0\" y2=\"5\" style=\"fill: none; stroke: #888; stroke-width: 1; opacity: 1;\"></line><line transform=\"translate(150,0)\" x2=\"0\" y2=\"5\" style=\"fill: none; stroke: #888; stroke-width: 1; opacity: 1;\"></line><line transform=\"translate(200,0)\" x2=\"0\" y2=\"5\" style=\"fill: none; stroke: #888; stroke-width: 1; opacity: 1;\"></line><line transform=\"translate(250,0)\" x2=\"0\" y2=\"5\" style=\"fill: none; stroke: #888; stroke-width: 1; opacity: 1;\"></line><line transform=\"translate(300,0)\" x2=\"0\" y2=\"5\" style=\"fill: none; stroke: #888; stroke-width: 1; opacity: 1;\"></line><line transform=\"translate(350,0)\" x2=\"0\" y2=\"5\" style=\"fill: none; stroke: #888; stroke-width: 1; opacity: 1;\"></line><line transform=\"translate(400,0)\" x2=\"0\" y2=\"5\" style=\"fill: none; stroke: #888; stroke-width: 1; opacity: 1;\"></line><line transform=\"translate(450,0)\" x2=\"0\" y2=\"5\" style=\"fill: none; stroke: #888; stroke-width: 1; opacity: 1;\"></line><line transform=\"translate(500,0)\" x2=\"0\" y2=\"5\" style=\"fill: none; stroke: #888; stroke-width: 1; opacity: 1;\"></line><line transform=\"translate(550,0)\" x2=\"0\" y2=\"5\" style=\"fill: none; stroke: #888; stroke-width: 1; opacity: 1;\"></line><line transform=\"translate(600,0)\" x2=\"0\" y2=\"5\" style=\"fill: none; stroke: #888; stroke-width: 1; opacity: 1;\"></line><line transform=\"translate(650,0)\" x2=\"0\" y2=\"5\" style=\"fill: none; stroke: #888; stroke-width: 1; opacity: 1;\"></line><line transform=\"translate(700,0)\" x2=\"0\" y2=\"5\" style=\"fill: none; stroke: #888; stroke-width: 1; opacity: 1;\"></line><line transform=\"translate(750,0)\" x2=\"0\" y2=\"5\" style=\"fill: none; stroke: #888; stroke-width: 1; opacity: 1;\"></line><line transform=\"translate(800,0)\" x2=\"0\" y2=\"5\" style=\"fill: none; stroke: #888; stroke-width: 1; opacity: 1;\"></line></g><g class=\"mark-text role-axis-label\" style=\"pointer-events: none;\"><text text-anchor=\"start\" transform=\"translate(0,15)\" style=\"font-family: sans-serif; font-size: 10px; fill: #000; opacity: 1;\">0.0</text><text text-anchor=\"middle\" transform=\"translate(50,15)\" style=\"font-family: sans-serif; font-size: 10px; fill: #000; opacity: 1;\">0.5</text><text text-anchor=\"middle\" transform=\"translate(100,15)\" style=\"font-family: sans-serif; font-size: 10px; fill: #000; opacity: 1;\">1.0</text><text text-anchor=\"middle\" transform=\"translate(150,15)\" style=\"font-family: sans-serif; font-size: 10px; fill: #000; opacity: 1;\">1.5</text><text text-anchor=\"middle\" transform=\"translate(200,15)\" style=\"font-family: sans-serif; font-size: 10px; fill: #000; opacity: 1;\">2.0</text><text text-anchor=\"middle\" transform=\"translate(250,15)\" style=\"font-family: sans-serif; font-size: 10px; fill: #000; opacity: 1;\">2.5</text><text text-anchor=\"middle\" transform=\"translate(300,15)\" style=\"font-family: sans-serif; font-size: 10px; fill: #000; opacity: 1;\">3.0</text><text text-anchor=\"middle\" transform=\"translate(350,15)\" style=\"font-family: sans-serif; font-size: 10px; fill: #000; opacity: 1;\">3.5</text><text text-anchor=\"middle\" transform=\"translate(400,15)\" style=\"font-family: sans-serif; font-size: 10px; fill: #000; opacity: 1;\">4.0</text><text text-anchor=\"middle\" transform=\"translate(450,15)\" style=\"font-family: sans-serif; font-size: 10px; fill: #000; opacity: 1;\">4.5</text><text text-anchor=\"middle\" transform=\"translate(500,15)\" style=\"font-family: sans-serif; font-size: 10px; fill: #000; opacity: 1;\">5.0</text><text text-anchor=\"middle\" transform=\"translate(550,15)\" style=\"font-family: sans-serif; font-size: 10px; fill: #000; opacity: 1;\">5.5</text><text text-anchor=\"middle\" transform=\"translate(600,15)\" style=\"font-family: sans-serif; font-size: 10px; fill: #000; opacity: 1;\">6.0</text><text text-anchor=\"middle\" transform=\"translate(650,15)\" style=\"font-family: sans-serif; font-size: 10px; fill: #000; opacity: 1;\">6.5</text><text text-anchor=\"middle\" transform=\"translate(700,15)\" style=\"font-family: sans-serif; font-size: 10px; fill: #000; opacity: 1;\">7.0</text><text text-anchor=\"middle\" transform=\"translate(750,15)\" style=\"font-family: sans-serif; font-size: 10px; fill: #000; opacity: 1;\">7.5</text><text text-anchor=\"end\" transform=\"translate(800,15)\" style=\"font-family: sans-serif; font-size: 10px; fill: #000; opacity: 1;\">8.0</text></g><g class=\"mark-rule role-axis-domain\" style=\"pointer-events: none;\"><line transform=\"translate(0,0)\" x2=\"800\" y2=\"0\" style=\"fill: none; stroke: #888; stroke-width: 1; opacity: 1;\"></line></g><g class=\"mark-text role-axis-title\" style=\"pointer-events: none;\"><text text-anchor=\"middle\" transform=\"translate(400,30)\" style=\"font-family: sans-serif; font-size: 11px; font-weight: bold; fill: #000; opacity: 1;\">Sample Values</text></g></g></g></g></g></g></g><g class=\"mark-group role-legend\"><g transform=\"translate(828,0)\"><path class=\"background\" d=\"M0,0h112v27h-112Z\" style=\"pointer-events: none; fill: none;\"></path><g><g class=\"mark-group role-legend-entry\"><g transform=\"translate(0,16)\"><path class=\"background\" d=\"M0,0h0v0h0Z\" style=\"pointer-events: none; fill: none;\"></path><g><g class=\"mark-group role-scope\"><g transform=\"translate(0,0)\"><path class=\"background\" d=\"M0,0h112v11h-112Z\" style=\"pointer-events: none; fill: none; opacity: 1;\"></path><g><g class=\"mark-symbol role-legend-symbol\" style=\"pointer-events: none;\"><path transform=\"translate(6,6)\" d=\"M5,0A5,5,0,1,1,-5,0A5,5,0,1,1,5,0\" style=\"fill: green; stroke-width: 1.5; opacity: 0.3;\"></path></g><g class=\"mark-text role-legend-label\" style=\"pointer-events: none;\"><text text-anchor=\"start\" transform=\"translate(16,9)\" style=\"font-family: sans-serif; font-size: 10px; fill: #000; opacity: 1;\">Acceptance Region</text></g></g></g></g></g></g></g><g class=\"mark-text role-legend-title\" style=\"pointer-events: none;\"><text text-anchor=\"start\" transform=\"translate(0,9)\" style=\"font-family: sans-serif; font-size: 11px; font-weight: bold; fill: #000; opacity: 1;\">Event</text></g></g></g></g></g></g></g></g></svg>"
      ],
      "text/plain": [
       "VegaLite.VLSpec{:plot}"
      ]
     },
     "execution_count": 69,
     "metadata": {},
     "output_type": "execute_result"
    }
   ],
   "source": [
    "spec = [\n",
    "@vlplot(width=800, height=300, view={stroke=nothing}) + \n",
    "@vlplot(\n",
    "    data={values={\"start\"=5.7,\"finish\"=6.3, \"Event\"=\"Acceptance Region\"}},\n",
    "    mark={:rect, color=:green},\n",
    "    x={\"start:q\",axis={title=\"\"}},\n",
    "    x2=\"finish:q\",\n",
    "    y={value=1,axis={ticks=false}},\n",
    "    color={\"Event:n\",scale={range=[\"green\"]}},\n",
    "    opacity={value=0.3})+\n",
    "@vlplot(\n",
    "    data=df,\n",
    "    mark={:circle,strokeWidth=1,stroke=:black,clip=false},\n",
    "    size={value=200},\n",
    "    color={value=\"#4682b4\"},\n",
    "    x={\"x1:q\",axis={title=\"Sample Values\",grid=false}},\n",
    "#     y={\"x2:q\",axis={title=\"count\",ticks=false,grid=false}})\n",
    "    y={\"x2:q\",axis=nothing})\n",
    "\n",
    "]\n",
    "# histog = @vlplot(data=df,:bar, x={:x1, bin=true}, y=\"count()\")\n"
   ]
  },
  {
   "cell_type": "code",
   "execution_count": 459,
   "metadata": {},
   "outputs": [
    {
     "data": {
      "application/vnd.vegalite.v3+json": {
       "data": {
        "values": [
         {
          "x1": 0,
          "x2": 1
         },
         {
          "x1": 6,
          "x2": 1
         },
         {
          "x1": 8,
          "x2": 1
         },
         {
          "x1": 4,
          "x2": 1
         },
         {
          "x1": 1,
          "x2": 1
         },
         {
          "x1": 8,
          "x2": 2
         },
         {
          "x1": 4,
          "x2": 2
         },
         {
          "x1": 2,
          "x2": 1
         },
         {
          "x1": 0,
          "x2": 2
         },
         {
          "x1": 7,
          "x2": 1
         },
         {
          "x1": 6,
          "x2": 2
         },
         {
          "x1": 7,
          "x2": 2
         },
         {
          "x1": 0,
          "x2": 3
         },
         {
          "x1": 6,
          "x2": 3
         },
         {
          "x1": 8,
          "x2": 3
         },
         {
          "x1": 6,
          "x2": 4
         },
         {
          "x1": 3,
          "x2": 1
         },
         {
          "x1": 8,
          "x2": 4
         },
         {
          "x1": 5,
          "x2": 1
         },
         {
          "x1": 0,
          "x2": 4
         },
         {
          "x1": 6,
          "x2": 5
         },
         {
          "x1": 0,
          "x2": 5
         },
         {
          "x1": 4,
          "x2": 3
         },
         {
          "x1": 8,
          "x2": 5
         },
         {
          "x1": 8,
          "x2": 6
         },
         {
          "x1": 4,
          "x2": 4
         },
         {
          "x1": 1,
          "x2": 2
         },
         {
          "x1": 0,
          "x2": 6
         },
         {
          "x1": 6,
          "x2": 6
         },
         {
          "x1": 7,
          "x2": 3
         },
         {
          "x1": 6,
          "x2": 7
         },
         {
          "x1": 8,
          "x2": 7
         },
         {
          "x1": 3,
          "x2": 2
         },
         {
          "x1": 4,
          "x2": 5
         },
         {
          "x1": 5,
          "x2": 2
         },
         {
          "x1": 4,
          "x2": 6
         },
         {
          "x1": 6,
          "x2": 8
         },
         {
          "x1": 3,
          "x2": 3
         },
         {
          "x1": 5,
          "x2": 3
         },
         {
          "x1": 3,
          "x2": 4
         },
         {
          "x1": 4,
          "x2": 7
         },
         {
          "x1": 0,
          "x2": 7
         },
         {
          "x1": 3,
          "x2": 5
         },
         {
          "x1": 1,
          "x2": 3
         },
         {
          "x1": 1,
          "x2": 4
         },
         {
          "x1": 6,
          "x2": 9
         },
         {
          "x1": 8,
          "x2": 8
         },
         {
          "x1": 6,
          "x2": 10
         },
         {
          "x1": 2,
          "x2": 2
         },
         {
          "x1": 0,
          "x2": 8
         },
         {
          "x1": 1,
          "x2": 5
         },
         {
          "x1": 4,
          "x2": 8
         },
         {
          "x1": 3,
          "x2": 6
         },
         {
          "x1": 0,
          "x2": 9
         },
         {
          "x1": 3,
          "x2": 7
         },
         {
          "x1": 6,
          "x2": 11
         },
         {
          "x1": 7,
          "x2": 4
         },
         {
          "x1": 3,
          "x2": 8
         },
         {
          "x1": 6,
          "x2": 12
         },
         {
          "x1": 5,
          "x2": 4
         },
         {
          "x1": 4,
          "x2": 9
         },
         {
          "x1": 1,
          "x2": 6
         },
         {
          "x1": 8,
          "x2": 9
         },
         {
          "x1": 8,
          "x2": 10
         },
         {
          "x1": 5,
          "x2": 5
         },
         {
          "x1": 0,
          "x2": 10
         },
         {
          "x1": 0,
          "x2": 11
         },
         {
          "x1": 0,
          "x2": 12
         },
         {
          "x1": 2,
          "x2": 3
         },
         {
          "x1": 6,
          "x2": 13
         },
         {
          "x1": 7,
          "x2": 5
         },
         {
          "x1": 3,
          "x2": 9
         },
         {
          "x1": 8,
          "x2": 11
         },
         {
          "x1": 8,
          "x2": 12
         },
         {
          "x1": 4,
          "x2": 10
         },
         {
          "x1": 8,
          "x2": 13
         },
         {
          "x1": 2,
          "x2": 4
         },
         {
          "x1": 7,
          "x2": 6
         },
         {
          "x1": 5,
          "x2": 6
         },
         {
          "x1": 6,
          "x2": 14
         },
         {
          "x1": 8,
          "x2": 14
         },
         {
          "x1": 3,
          "x2": 10
         },
         {
          "x1": 1,
          "x2": 7
         },
         {
          "x1": 5,
          "x2": 7
         },
         {
          "x1": 8,
          "x2": 15
         },
         {
          "x1": 6,
          "x2": 15
         },
         {
          "x1": 4,
          "x2": 11
         },
         {
          "x1": 5,
          "x2": 8
         },
         {
          "x1": 7,
          "x2": 7
         },
         {
          "x1": 3,
          "x2": 11
         },
         {
          "x1": 4,
          "x2": 12
         },
         {
          "x1": 8,
          "x2": 16
         },
         {
          "x1": 7,
          "x2": 8
         },
         {
          "x1": 7,
          "x2": 9
         },
         {
          "x1": 2,
          "x2": 5
         },
         {
          "x1": 6,
          "x2": 16
         },
         {
          "x1": 2,
          "x2": 6
         },
         {
          "x1": 4,
          "x2": 13
         },
         {
          "x1": 1,
          "x2": 8
         },
         {
          "x1": 1,
          "x2": 9
         }
        ]
       },
       "encoding": {
        "x": {
         "field": "x1",
         "type": "ordinal"
        },
        "y": {
         "axis": "null",
         "field": "id",
         "sort": "descending",
         "type": "ordinal"
        }
       },
       "mark": {
        "type": "circle"
       },
       "transform": [
        {
         "groupby": [
          "x1"
         ],
         "window": [
          {
           "as": "id",
           "op": "rank"
          }
         ]
        }
       ]
      },
      "image/png": "[encoded data removed]",
      "image/svg+xml": [
       "<svg class=\"marks\" width=\"224\" height=\"358\" viewBox=\"0 0 224 358\" version=\"1.1\" xmlns=\"http://www.w3.org/2000/svg\" xmlns:xlink=\"http://www.w3.org/1999/xlink\"><g transform=\"translate(39,5)\"><g class=\"mark-group role-frame root\"><g transform=\"translate(0,0)\"><path class=\"background\" d=\"M0.5,0.5h180v320h-180Z\" style=\"fill: none; stroke: #ddd;\"></path><g><g class=\"mark-symbol role-mark marks\"><path transform=\"translate(10,310)\" d=\"M2.7386127875258306,0A2.7386127875258306,2.7386127875258306,0,1,1,-2.7386127875258306,0A2.7386127875258306,2.7386127875258306,0,1,1,2.7386127875258306,0\" style=\"fill: #4c78a8; stroke-width: 2; opacity: 0.7;\"></path><path transform=\"translate(130,310)\" d=\"M2.7386127875258306,0A2.7386127875258306,2.7386127875258306,0,1,1,-2.7386127875258306,0A2.7386127875258306,2.7386127875258306,0,1,1,2.7386127875258306,0\" style=\"fill: #4c78a8; stroke-width: 2; opacity: 0.7;\"></path><path transform=\"translate(170,310)\" d=\"M2.7386127875258306,0A2.7386127875258306,2.7386127875258306,0,1,1,-2.7386127875258306,0A2.7386127875258306,2.7386127875258306,0,1,1,2.7386127875258306,0\" style=\"fill: #4c78a8; stroke-width: 2; opacity: 0.7;\"></path><path transform=\"translate(90,310)\" d=\"M2.7386127875258306,0A2.7386127875258306,2.7386127875258306,0,1,1,-2.7386127875258306,0A2.7386127875258306,2.7386127875258306,0,1,1,2.7386127875258306,0\" style=\"fill: #4c78a8; stroke-width: 2; opacity: 0.7;\"></path><path transform=\"translate(30,310)\" d=\"M2.7386127875258306,0A2.7386127875258306,2.7386127875258306,0,1,1,-2.7386127875258306,0A2.7386127875258306,2.7386127875258306,0,1,1,2.7386127875258306,0\" style=\"fill: #4c78a8; stroke-width: 2; opacity: 0.7;\"></path><path transform=\"translate(170,290)\" d=\"M2.7386127875258306,0A2.7386127875258306,2.7386127875258306,0,1,1,-2.7386127875258306,0A2.7386127875258306,2.7386127875258306,0,1,1,2.7386127875258306,0\" style=\"fill: #4c78a8; stroke-width: 2; opacity: 0.7;\"></path><path transform=\"translate(90,290)\" d=\"M2.7386127875258306,0A2.7386127875258306,2.7386127875258306,0,1,1,-2.7386127875258306,0A2.7386127875258306,2.7386127875258306,0,1,1,2.7386127875258306,0\" style=\"fill: #4c78a8; stroke-width: 2; opacity: 0.7;\"></path><path transform=\"translate(50,310)\" d=\"M2.7386127875258306,0A2.7386127875258306,2.7386127875258306,0,1,1,-2.7386127875258306,0A2.7386127875258306,2.7386127875258306,0,1,1,2.7386127875258306,0\" style=\"fill: #4c78a8; stroke-width: 2; opacity: 0.7;\"></path><path transform=\"translate(10,290)\" d=\"M2.7386127875258306,0A2.7386127875258306,2.7386127875258306,0,1,1,-2.7386127875258306,0A2.7386127875258306,2.7386127875258306,0,1,1,2.7386127875258306,0\" style=\"fill: #4c78a8; stroke-width: 2; opacity: 0.7;\"></path><path transform=\"translate(150,310)\" d=\"M2.7386127875258306,0A2.7386127875258306,2.7386127875258306,0,1,1,-2.7386127875258306,0A2.7386127875258306,2.7386127875258306,0,1,1,2.7386127875258306,0\" style=\"fill: #4c78a8; stroke-width: 2; opacity: 0.7;\"></path><path transform=\"translate(130,290)\" d=\"M2.7386127875258306,0A2.7386127875258306,2.7386127875258306,0,1,1,-2.7386127875258306,0A2.7386127875258306,2.7386127875258306,0,1,1,2.7386127875258306,0\" style=\"fill: #4c78a8; stroke-width: 2; opacity: 0.7;\"></path><path transform=\"translate(150,290)\" d=\"M2.7386127875258306,0A2.7386127875258306,2.7386127875258306,0,1,1,-2.7386127875258306,0A2.7386127875258306,2.7386127875258306,0,1,1,2.7386127875258306,0\" style=\"fill: #4c78a8; stroke-width: 2; opacity: 0.7;\"></path><path transform=\"translate(10,270)\" d=\"M2.7386127875258306,0A2.7386127875258306,2.7386127875258306,0,1,1,-2.7386127875258306,0A2.7386127875258306,2.7386127875258306,0,1,1,2.7386127875258306,0\" style=\"fill: #4c78a8; stroke-width: 2; opacity: 0.7;\"></path><path transform=\"translate(130,270)\" d=\"M2.7386127875258306,0A2.7386127875258306,2.7386127875258306,0,1,1,-2.7386127875258306,0A2.7386127875258306,2.7386127875258306,0,1,1,2.7386127875258306,0\" style=\"fill: #4c78a8; stroke-width: 2; opacity: 0.7;\"></path><path transform=\"translate(170,270)\" d=\"M2.7386127875258306,0A2.7386127875258306,2.7386127875258306,0,1,1,-2.7386127875258306,0A2.7386127875258306,2.7386127875258306,0,1,1,2.7386127875258306,0\" style=\"fill: #4c78a8; stroke-width: 2; opacity: 0.7;\"></path><path transform=\"translate(130,250)\" d=\"M2.7386127875258306,0A2.7386127875258306,2.7386127875258306,0,1,1,-2.7386127875258306,0A2.7386127875258306,2.7386127875258306,0,1,1,2.7386127875258306,0\" style=\"fill: #4c78a8; stroke-width: 2; opacity: 0.7;\"></path><path transform=\"translate(70,310)\" d=\"M2.7386127875258306,0A2.7386127875258306,2.7386127875258306,0,1,1,-2.7386127875258306,0A2.7386127875258306,2.7386127875258306,0,1,1,2.7386127875258306,0\" style=\"fill: #4c78a8; stroke-width: 2; opacity: 0.7;\"></path><path transform=\"translate(170,250)\" d=\"M2.7386127875258306,0A2.7386127875258306,2.7386127875258306,0,1,1,-2.7386127875258306,0A2.7386127875258306,2.7386127875258306,0,1,1,2.7386127875258306,0\" style=\"fill: #4c78a8; stroke-width: 2; opacity: 0.7;\"></path><path transform=\"translate(110,310)\" d=\"M2.7386127875258306,0A2.7386127875258306,2.7386127875258306,0,1,1,-2.7386127875258306,0A2.7386127875258306,2.7386127875258306,0,1,1,2.7386127875258306,0\" style=\"fill: #4c78a8; stroke-width: 2; opacity: 0.7;\"></path><path transform=\"translate(10,250)\" d=\"M2.7386127875258306,0A2.7386127875258306,2.7386127875258306,0,1,1,-2.7386127875258306,0A2.7386127875258306,2.7386127875258306,0,1,1,2.7386127875258306,0\" style=\"fill: #4c78a8; stroke-width: 2; opacity: 0.7;\"></path><path transform=\"translate(130,230)\" d=\"M2.7386127875258306,0A2.7386127875258306,2.7386127875258306,0,1,1,-2.7386127875258306,0A2.7386127875258306,2.7386127875258306,0,1,1,2.7386127875258306,0\" style=\"fill: #4c78a8; stroke-width: 2; opacity: 0.7;\"></path><path transform=\"translate(10,230)\" d=\"M2.7386127875258306,0A2.7386127875258306,2.7386127875258306,0,1,1,-2.7386127875258306,0A2.7386127875258306,2.7386127875258306,0,1,1,2.7386127875258306,0\" style=\"fill: #4c78a8; stroke-width: 2; opacity: 0.7;\"></path><path transform=\"translate(90,270)\" d=\"M2.7386127875258306,0A2.7386127875258306,2.7386127875258306,0,1,1,-2.7386127875258306,0A2.7386127875258306,2.7386127875258306,0,1,1,2.7386127875258306,0\" style=\"fill: #4c78a8; stroke-width: 2; opacity: 0.7;\"></path><path transform=\"translate(170,230)\" d=\"M2.7386127875258306,0A2.7386127875258306,2.7386127875258306,0,1,1,-2.7386127875258306,0A2.7386127875258306,2.7386127875258306,0,1,1,2.7386127875258306,0\" style=\"fill: #4c78a8; stroke-width: 2; opacity: 0.7;\"></path><path transform=\"translate(170,210)\" d=\"M2.7386127875258306,0A2.7386127875258306,2.7386127875258306,0,1,1,-2.7386127875258306,0A2.7386127875258306,2.7386127875258306,0,1,1,2.7386127875258306,0\" style=\"fill: #4c78a8; stroke-width: 2; opacity: 0.7;\"></path><path transform=\"translate(90,250)\" d=\"M2.7386127875258306,0A2.7386127875258306,2.7386127875258306,0,1,1,-2.7386127875258306,0A2.7386127875258306,2.7386127875258306,0,1,1,2.7386127875258306,0\" style=\"fill: #4c78a8; stroke-width: 2; opacity: 0.7;\"></path><path transform=\"translate(30,290)\" d=\"M2.7386127875258306,0A2.7386127875258306,2.7386127875258306,0,1,1,-2.7386127875258306,0A2.7386127875258306,2.7386127875258306,0,1,1,2.7386127875258306,0\" style=\"fill: #4c78a8; stroke-width: 2; opacity: 0.7;\"></path><path transform=\"translate(10,210)\" d=\"M2.7386127875258306,0A2.7386127875258306,2.7386127875258306,0,1,1,-2.7386127875258306,0A2.7386127875258306,2.7386127875258306,0,1,1,2.7386127875258306,0\" style=\"fill: #4c78a8; stroke-width: 2; opacity: 0.7;\"></path><path transform=\"translate(130,210)\" d=\"M2.7386127875258306,0A2.7386127875258306,2.7386127875258306,0,1,1,-2.7386127875258306,0A2.7386127875258306,2.7386127875258306,0,1,1,2.7386127875258306,0\" style=\"fill: #4c78a8; stroke-width: 2; opacity: 0.7;\"></path><path transform=\"translate(150,270)\" d=\"M2.7386127875258306,0A2.7386127875258306,2.7386127875258306,0,1,1,-2.7386127875258306,0A2.7386127875258306,2.7386127875258306,0,1,1,2.7386127875258306,0\" style=\"fill: #4c78a8; stroke-width: 2; opacity: 0.7;\"></path><path transform=\"translate(130,190)\" d=\"M2.7386127875258306,0A2.7386127875258306,2.7386127875258306,0,1,1,-2.7386127875258306,0A2.7386127875258306,2.7386127875258306,0,1,1,2.7386127875258306,0\" style=\"fill: #4c78a8; stroke-width: 2; opacity: 0.7;\"></path><path transform=\"translate(170,190)\" d=\"M2.7386127875258306,0A2.7386127875258306,2.7386127875258306,0,1,1,-2.7386127875258306,0A2.7386127875258306,2.7386127875258306,0,1,1,2.7386127875258306,0\" style=\"fill: #4c78a8; stroke-width: 2; opacity: 0.7;\"></path><path transform=\"translate(70,290)\" d=\"M2.7386127875258306,0A2.7386127875258306,2.7386127875258306,0,1,1,-2.7386127875258306,0A2.7386127875258306,2.7386127875258306,0,1,1,2.7386127875258306,0\" style=\"fill: #4c78a8; stroke-width: 2; opacity: 0.7;\"></path><path transform=\"translate(90,230)\" d=\"M2.7386127875258306,0A2.7386127875258306,2.7386127875258306,0,1,1,-2.7386127875258306,0A2.7386127875258306,2.7386127875258306,0,1,1,2.7386127875258306,0\" style=\"fill: #4c78a8; stroke-width: 2; opacity: 0.7;\"></path><path transform=\"translate(110,290)\" d=\"M2.7386127875258306,0A2.7386127875258306,2.7386127875258306,0,1,1,-2.7386127875258306,0A2.7386127875258306,2.7386127875258306,0,1,1,2.7386127875258306,0\" style=\"fill: #4c78a8; stroke-width: 2; opacity: 0.7;\"></path><path transform=\"translate(90,210)\" d=\"M2.7386127875258306,0A2.7386127875258306,2.7386127875258306,0,1,1,-2.7386127875258306,0A2.7386127875258306,2.7386127875258306,0,1,1,2.7386127875258306,0\" style=\"fill: #4c78a8; stroke-width: 2; opacity: 0.7;\"></path><path transform=\"translate(130,170)\" d=\"M2.7386127875258306,0A2.7386127875258306,2.7386127875258306,0,1,1,-2.7386127875258306,0A2.7386127875258306,2.7386127875258306,0,1,1,2.7386127875258306,0\" style=\"fill: #4c78a8; stroke-width: 2; opacity: 0.7;\"></path><path transform=\"translate(70,270)\" d=\"M2.7386127875258306,0A2.7386127875258306,2.7386127875258306,0,1,1,-2.7386127875258306,0A2.7386127875258306,2.7386127875258306,0,1,1,2.7386127875258306,0\" style=\"fill: #4c78a8; stroke-width: 2; opacity: 0.7;\"></path><path transform=\"translate(110,270)\" d=\"M2.7386127875258306,0A2.7386127875258306,2.7386127875258306,0,1,1,-2.7386127875258306,0A2.7386127875258306,2.7386127875258306,0,1,1,2.7386127875258306,0\" style=\"fill: #4c78a8; stroke-width: 2; opacity: 0.7;\"></path><path transform=\"translate(70,250)\" d=\"M2.7386127875258306,0A2.7386127875258306,2.7386127875258306,0,1,1,-2.7386127875258306,0A2.7386127875258306,2.7386127875258306,0,1,1,2.7386127875258306,0\" style=\"fill: #4c78a8; stroke-width: 2; opacity: 0.7;\"></path><path transform=\"translate(90,190)\" d=\"M2.7386127875258306,0A2.7386127875258306,2.7386127875258306,0,1,1,-2.7386127875258306,0A2.7386127875258306,2.7386127875258306,0,1,1,2.7386127875258306,0\" style=\"fill: #4c78a8; stroke-width: 2; opacity: 0.7;\"></path><path transform=\"translate(10,190)\" d=\"M2.7386127875258306,0A2.7386127875258306,2.7386127875258306,0,1,1,-2.7386127875258306,0A2.7386127875258306,2.7386127875258306,0,1,1,2.7386127875258306,0\" style=\"fill: #4c78a8; stroke-width: 2; opacity: 0.7;\"></path><path transform=\"translate(70,230)\" d=\"M2.7386127875258306,0A2.7386127875258306,2.7386127875258306,0,1,1,-2.7386127875258306,0A2.7386127875258306,2.7386127875258306,0,1,1,2.7386127875258306,0\" style=\"fill: #4c78a8; stroke-width: 2; opacity: 0.7;\"></path><path transform=\"translate(30,270)\" d=\"M2.7386127875258306,0A2.7386127875258306,2.7386127875258306,0,1,1,-2.7386127875258306,0A2.7386127875258306,2.7386127875258306,0,1,1,2.7386127875258306,0\" style=\"fill: #4c78a8; stroke-width: 2; opacity: 0.7;\"></path><path transform=\"translate(30,250)\" d=\"M2.7386127875258306,0A2.7386127875258306,2.7386127875258306,0,1,1,-2.7386127875258306,0A2.7386127875258306,2.7386127875258306,0,1,1,2.7386127875258306,0\" style=\"fill: #4c78a8; stroke-width: 2; opacity: 0.7;\"></path><path transform=\"translate(130,150)\" d=\"M2.7386127875258306,0A2.7386127875258306,2.7386127875258306,0,1,1,-2.7386127875258306,0A2.7386127875258306,2.7386127875258306,0,1,1,2.7386127875258306,0\" style=\"fill: #4c78a8; stroke-width: 2; opacity: 0.7;\"></path><path transform=\"translate(170,170)\" d=\"M2.7386127875258306,0A2.7386127875258306,2.7386127875258306,0,1,1,-2.7386127875258306,0A2.7386127875258306,2.7386127875258306,0,1,1,2.7386127875258306,0\" style=\"fill: #4c78a8; stroke-width: 2; opacity: 0.7;\"></path><path transform=\"translate(130,130)\" d=\"M2.7386127875258306,0A2.7386127875258306,2.7386127875258306,0,1,1,-2.7386127875258306,0A2.7386127875258306,2.7386127875258306,0,1,1,2.7386127875258306,0\" style=\"fill: #4c78a8; stroke-width: 2; opacity: 0.7;\"></path><path transform=\"translate(50,290)\" d=\"M2.7386127875258306,0A2.7386127875258306,2.7386127875258306,0,1,1,-2.7386127875258306,0A2.7386127875258306,2.7386127875258306,0,1,1,2.7386127875258306,0\" style=\"fill: #4c78a8; stroke-width: 2; opacity: 0.7;\"></path><path transform=\"translate(10,170)\" d=\"M2.7386127875258306,0A2.7386127875258306,2.7386127875258306,0,1,1,-2.7386127875258306,0A2.7386127875258306,2.7386127875258306,0,1,1,2.7386127875258306,0\" style=\"fill: #4c78a8; stroke-width: 2; opacity: 0.7;\"></path><path transform=\"translate(30,230)\" d=\"M2.7386127875258306,0A2.7386127875258306,2.7386127875258306,0,1,1,-2.7386127875258306,0A2.7386127875258306,2.7386127875258306,0,1,1,2.7386127875258306,0\" style=\"fill: #4c78a8; stroke-width: 2; opacity: 0.7;\"></path><path transform=\"translate(90,170)\" d=\"M2.7386127875258306,0A2.7386127875258306,2.7386127875258306,0,1,1,-2.7386127875258306,0A2.7386127875258306,2.7386127875258306,0,1,1,2.7386127875258306,0\" style=\"fill: #4c78a8; stroke-width: 2; opacity: 0.7;\"></path><path transform=\"translate(70,210)\" d=\"M2.7386127875258306,0A2.7386127875258306,2.7386127875258306,0,1,1,-2.7386127875258306,0A2.7386127875258306,2.7386127875258306,0,1,1,2.7386127875258306,0\" style=\"fill: #4c78a8; stroke-width: 2; opacity: 0.7;\"></path><path transform=\"translate(10,150)\" d=\"M2.7386127875258306,0A2.7386127875258306,2.7386127875258306,0,1,1,-2.7386127875258306,0A2.7386127875258306,2.7386127875258306,0,1,1,2.7386127875258306,0\" style=\"fill: #4c78a8; stroke-width: 2; opacity: 0.7;\"></path><path transform=\"translate(70,190)\" d=\"M2.7386127875258306,0A2.7386127875258306,2.7386127875258306,0,1,1,-2.7386127875258306,0A2.7386127875258306,2.7386127875258306,0,1,1,2.7386127875258306,0\" style=\"fill: #4c78a8; stroke-width: 2; opacity: 0.7;\"></path><path transform=\"translate(130,110)\" d=\"M2.7386127875258306,0A2.7386127875258306,2.7386127875258306,0,1,1,-2.7386127875258306,0A2.7386127875258306,2.7386127875258306,0,1,1,2.7386127875258306,0\" style=\"fill: #4c78a8; stroke-width: 2; opacity: 0.7;\"></path><path transform=\"translate(150,250)\" d=\"M2.7386127875258306,0A2.7386127875258306,2.7386127875258306,0,1,1,-2.7386127875258306,0A2.7386127875258306,2.7386127875258306,0,1,1,2.7386127875258306,0\" style=\"fill: #4c78a8; stroke-width: 2; opacity: 0.7;\"></path><path transform=\"translate(70,170)\" d=\"M2.7386127875258306,0A2.7386127875258306,2.7386127875258306,0,1,1,-2.7386127875258306,0A2.7386127875258306,2.7386127875258306,0,1,1,2.7386127875258306,0\" style=\"fill: #4c78a8; stroke-width: 2; opacity: 0.7;\"></path><path transform=\"translate(130,90)\" d=\"M2.7386127875258306,0A2.7386127875258306,2.7386127875258306,0,1,1,-2.7386127875258306,0A2.7386127875258306,2.7386127875258306,0,1,1,2.7386127875258306,0\" style=\"fill: #4c78a8; stroke-width: 2; opacity: 0.7;\"></path><path transform=\"translate(110,250)\" d=\"M2.7386127875258306,0A2.7386127875258306,2.7386127875258306,0,1,1,-2.7386127875258306,0A2.7386127875258306,2.7386127875258306,0,1,1,2.7386127875258306,0\" style=\"fill: #4c78a8; stroke-width: 2; opacity: 0.7;\"></path><path transform=\"translate(90,150)\" d=\"M2.7386127875258306,0A2.7386127875258306,2.7386127875258306,0,1,1,-2.7386127875258306,0A2.7386127875258306,2.7386127875258306,0,1,1,2.7386127875258306,0\" style=\"fill: #4c78a8; stroke-width: 2; opacity: 0.7;\"></path><path transform=\"translate(30,210)\" d=\"M2.7386127875258306,0A2.7386127875258306,2.7386127875258306,0,1,1,-2.7386127875258306,0A2.7386127875258306,2.7386127875258306,0,1,1,2.7386127875258306,0\" style=\"fill: #4c78a8; stroke-width: 2; opacity: 0.7;\"></path><path transform=\"translate(170,150)\" d=\"M2.7386127875258306,0A2.7386127875258306,2.7386127875258306,0,1,1,-2.7386127875258306,0A2.7386127875258306,2.7386127875258306,0,1,1,2.7386127875258306,0\" style=\"fill: #4c78a8; stroke-width: 2; opacity: 0.7;\"></path><path transform=\"translate(170,130)\" d=\"M2.7386127875258306,0A2.7386127875258306,2.7386127875258306,0,1,1,-2.7386127875258306,0A2.7386127875258306,2.7386127875258306,0,1,1,2.7386127875258306,0\" style=\"fill: #4c78a8; stroke-width: 2; opacity: 0.7;\"></path><path transform=\"translate(110,230)\" d=\"M2.7386127875258306,0A2.7386127875258306,2.7386127875258306,0,1,1,-2.7386127875258306,0A2.7386127875258306,2.7386127875258306,0,1,1,2.7386127875258306,0\" style=\"fill: #4c78a8; stroke-width: 2; opacity: 0.7;\"></path><path transform=\"translate(10,130)\" d=\"M2.7386127875258306,0A2.7386127875258306,2.7386127875258306,0,1,1,-2.7386127875258306,0A2.7386127875258306,2.7386127875258306,0,1,1,2.7386127875258306,0\" style=\"fill: #4c78a8; stroke-width: 2; opacity: 0.7;\"></path><path transform=\"translate(10,110)\" d=\"M2.7386127875258306,0A2.7386127875258306,2.7386127875258306,0,1,1,-2.7386127875258306,0A2.7386127875258306,2.7386127875258306,0,1,1,2.7386127875258306,0\" style=\"fill: #4c78a8; stroke-width: 2; opacity: 0.7;\"></path><path transform=\"translate(10,90)\" d=\"M2.7386127875258306,0A2.7386127875258306,2.7386127875258306,0,1,1,-2.7386127875258306,0A2.7386127875258306,2.7386127875258306,0,1,1,2.7386127875258306,0\" style=\"fill: #4c78a8; stroke-width: 2; opacity: 0.7;\"></path><path transform=\"translate(50,270)\" d=\"M2.7386127875258306,0A2.7386127875258306,2.7386127875258306,0,1,1,-2.7386127875258306,0A2.7386127875258306,2.7386127875258306,0,1,1,2.7386127875258306,0\" style=\"fill: #4c78a8; stroke-width: 2; opacity: 0.7;\"></path><path transform=\"translate(130,70)\" d=\"M2.7386127875258306,0A2.7386127875258306,2.7386127875258306,0,1,1,-2.7386127875258306,0A2.7386127875258306,2.7386127875258306,0,1,1,2.7386127875258306,0\" style=\"fill: #4c78a8; stroke-width: 2; opacity: 0.7;\"></path><path transform=\"translate(150,230)\" d=\"M2.7386127875258306,0A2.7386127875258306,2.7386127875258306,0,1,1,-2.7386127875258306,0A2.7386127875258306,2.7386127875258306,0,1,1,2.7386127875258306,0\" style=\"fill: #4c78a8; stroke-width: 2; opacity: 0.7;\"></path><path transform=\"translate(70,150)\" d=\"M2.7386127875258306,0A2.7386127875258306,2.7386127875258306,0,1,1,-2.7386127875258306,0A2.7386127875258306,2.7386127875258306,0,1,1,2.7386127875258306,0\" style=\"fill: #4c78a8; stroke-width: 2; opacity: 0.7;\"></path><path transform=\"translate(170,110)\" d=\"M2.7386127875258306,0A2.7386127875258306,2.7386127875258306,0,1,1,-2.7386127875258306,0A2.7386127875258306,2.7386127875258306,0,1,1,2.7386127875258306,0\" style=\"fill: #4c78a8; stroke-width: 2; opacity: 0.7;\"></path><path transform=\"translate(170,90)\" d=\"M2.7386127875258306,0A2.7386127875258306,2.7386127875258306,0,1,1,-2.7386127875258306,0A2.7386127875258306,2.7386127875258306,0,1,1,2.7386127875258306,0\" style=\"fill: #4c78a8; stroke-width: 2; opacity: 0.7;\"></path><path transform=\"translate(90,130)\" d=\"M2.7386127875258306,0A2.7386127875258306,2.7386127875258306,0,1,1,-2.7386127875258306,0A2.7386127875258306,2.7386127875258306,0,1,1,2.7386127875258306,0\" style=\"fill: #4c78a8; stroke-width: 2; opacity: 0.7;\"></path><path transform=\"translate(170,70)\" d=\"M2.7386127875258306,0A2.7386127875258306,2.7386127875258306,0,1,1,-2.7386127875258306,0A2.7386127875258306,2.7386127875258306,0,1,1,2.7386127875258306,0\" style=\"fill: #4c78a8; stroke-width: 2; opacity: 0.7;\"></path><path transform=\"translate(50,250)\" d=\"M2.7386127875258306,0A2.7386127875258306,2.7386127875258306,0,1,1,-2.7386127875258306,0A2.7386127875258306,2.7386127875258306,0,1,1,2.7386127875258306,0\" style=\"fill: #4c78a8; stroke-width: 2; opacity: 0.7;\"></path><path transform=\"translate(150,210)\" d=\"M2.7386127875258306,0A2.7386127875258306,2.7386127875258306,0,1,1,-2.7386127875258306,0A2.7386127875258306,2.7386127875258306,0,1,1,2.7386127875258306,0\" style=\"fill: #4c78a8; stroke-width: 2; opacity: 0.7;\"></path><path transform=\"translate(110,210)\" d=\"M2.7386127875258306,0A2.7386127875258306,2.7386127875258306,0,1,1,-2.7386127875258306,0A2.7386127875258306,2.7386127875258306,0,1,1,2.7386127875258306,0\" style=\"fill: #4c78a8; stroke-width: 2; opacity: 0.7;\"></path><path transform=\"translate(130,50)\" d=\"M2.7386127875258306,0A2.7386127875258306,2.7386127875258306,0,1,1,-2.7386127875258306,0A2.7386127875258306,2.7386127875258306,0,1,1,2.7386127875258306,0\" style=\"fill: #4c78a8; stroke-width: 2; opacity: 0.7;\"></path><path transform=\"translate(170,50)\" d=\"M2.7386127875258306,0A2.7386127875258306,2.7386127875258306,0,1,1,-2.7386127875258306,0A2.7386127875258306,2.7386127875258306,0,1,1,2.7386127875258306,0\" style=\"fill: #4c78a8; stroke-width: 2; opacity: 0.7;\"></path><path transform=\"translate(70,130)\" d=\"M2.7386127875258306,0A2.7386127875258306,2.7386127875258306,0,1,1,-2.7386127875258306,0A2.7386127875258306,2.7386127875258306,0,1,1,2.7386127875258306,0\" style=\"fill: #4c78a8; stroke-width: 2; opacity: 0.7;\"></path><path transform=\"translate(30,190)\" d=\"M2.7386127875258306,0A2.7386127875258306,2.7386127875258306,0,1,1,-2.7386127875258306,0A2.7386127875258306,2.7386127875258306,0,1,1,2.7386127875258306,0\" style=\"fill: #4c78a8; stroke-width: 2; opacity: 0.7;\"></path><path transform=\"translate(110,190)\" d=\"M2.7386127875258306,0A2.7386127875258306,2.7386127875258306,0,1,1,-2.7386127875258306,0A2.7386127875258306,2.7386127875258306,0,1,1,2.7386127875258306,0\" style=\"fill: #4c78a8; stroke-width: 2; opacity: 0.7;\"></path><path transform=\"translate(170,30)\" d=\"M2.7386127875258306,0A2.7386127875258306,2.7386127875258306,0,1,1,-2.7386127875258306,0A2.7386127875258306,2.7386127875258306,0,1,1,2.7386127875258306,0\" style=\"fill: #4c78a8; stroke-width: 2; opacity: 0.7;\"></path><path transform=\"translate(130,30)\" d=\"M2.7386127875258306,0A2.7386127875258306,2.7386127875258306,0,1,1,-2.7386127875258306,0A2.7386127875258306,2.7386127875258306,0,1,1,2.7386127875258306,0\" style=\"fill: #4c78a8; stroke-width: 2; opacity: 0.7;\"></path><path transform=\"translate(90,110)\" d=\"M2.7386127875258306,0A2.7386127875258306,2.7386127875258306,0,1,1,-2.7386127875258306,0A2.7386127875258306,2.7386127875258306,0,1,1,2.7386127875258306,0\" style=\"fill: #4c78a8; stroke-width: 2; opacity: 0.7;\"></path><path transform=\"translate(110,170)\" d=\"M2.7386127875258306,0A2.7386127875258306,2.7386127875258306,0,1,1,-2.7386127875258306,0A2.7386127875258306,2.7386127875258306,0,1,1,2.7386127875258306,0\" style=\"fill: #4c78a8; stroke-width: 2; opacity: 0.7;\"></path><path transform=\"translate(150,190)\" d=\"M2.7386127875258306,0A2.7386127875258306,2.7386127875258306,0,1,1,-2.7386127875258306,0A2.7386127875258306,2.7386127875258306,0,1,1,2.7386127875258306,0\" style=\"fill: #4c78a8; stroke-width: 2; opacity: 0.7;\"></path><path transform=\"translate(70,110)\" d=\"M2.7386127875258306,0A2.7386127875258306,2.7386127875258306,0,1,1,-2.7386127875258306,0A2.7386127875258306,2.7386127875258306,0,1,1,2.7386127875258306,0\" style=\"fill: #4c78a8; stroke-width: 2; opacity: 0.7;\"></path><path transform=\"translate(90,90)\" d=\"M2.7386127875258306,0A2.7386127875258306,2.7386127875258306,0,1,1,-2.7386127875258306,0A2.7386127875258306,2.7386127875258306,0,1,1,2.7386127875258306,0\" style=\"fill: #4c78a8; stroke-width: 2; opacity: 0.7;\"></path><path transform=\"translate(170,10)\" d=\"M2.7386127875258306,0A2.7386127875258306,2.7386127875258306,0,1,1,-2.7386127875258306,0A2.7386127875258306,2.7386127875258306,0,1,1,2.7386127875258306,0\" style=\"fill: #4c78a8; stroke-width: 2; opacity: 0.7;\"></path><path transform=\"translate(150,170)\" d=\"M2.7386127875258306,0A2.7386127875258306,2.7386127875258306,0,1,1,-2.7386127875258306,0A2.7386127875258306,2.7386127875258306,0,1,1,2.7386127875258306,0\" style=\"fill: #4c78a8; stroke-width: 2; opacity: 0.7;\"></path><path transform=\"translate(150,150)\" d=\"M2.7386127875258306,0A2.7386127875258306,2.7386127875258306,0,1,1,-2.7386127875258306,0A2.7386127875258306,2.7386127875258306,0,1,1,2.7386127875258306,0\" style=\"fill: #4c78a8; stroke-width: 2; opacity: 0.7;\"></path><path transform=\"translate(50,230)\" d=\"M2.7386127875258306,0A2.7386127875258306,2.7386127875258306,0,1,1,-2.7386127875258306,0A2.7386127875258306,2.7386127875258306,0,1,1,2.7386127875258306,0\" style=\"fill: #4c78a8; stroke-width: 2; opacity: 0.7;\"></path><path transform=\"translate(130,10)\" d=\"M2.7386127875258306,0A2.7386127875258306,2.7386127875258306,0,1,1,-2.7386127875258306,0A2.7386127875258306,2.7386127875258306,0,1,1,2.7386127875258306,0\" style=\"fill: #4c78a8; stroke-width: 2; opacity: 0.7;\"></path><path transform=\"translate(50,210)\" d=\"M2.7386127875258306,0A2.7386127875258306,2.7386127875258306,0,1,1,-2.7386127875258306,0A2.7386127875258306,2.7386127875258306,0,1,1,2.7386127875258306,0\" style=\"fill: #4c78a8; stroke-width: 2; opacity: 0.7;\"></path><path transform=\"translate(90,70)\" d=\"M2.7386127875258306,0A2.7386127875258306,2.7386127875258306,0,1,1,-2.7386127875258306,0A2.7386127875258306,2.7386127875258306,0,1,1,2.7386127875258306,0\" style=\"fill: #4c78a8; stroke-width: 2; opacity: 0.7;\"></path><path transform=\"translate(30,170)\" d=\"M2.7386127875258306,0A2.7386127875258306,2.7386127875258306,0,1,1,-2.7386127875258306,0A2.7386127875258306,2.7386127875258306,0,1,1,2.7386127875258306,0\" style=\"fill: #4c78a8; stroke-width: 2; opacity: 0.7;\"></path><path transform=\"translate(30,150)\" d=\"M2.7386127875258306,0A2.7386127875258306,2.7386127875258306,0,1,1,-2.7386127875258306,0A2.7386127875258306,2.7386127875258306,0,1,1,2.7386127875258306,0\" style=\"fill: #4c78a8; stroke-width: 2; opacity: 0.7;\"></path></g><g class=\"mark-group role-axis\"><g transform=\"translate(0.5,320.5)\"><path class=\"background\" d=\"M0,0h0v0h0Z\" style=\"pointer-events: none; fill: none;\"></path><g><g class=\"mark-rule role-axis-tick\" style=\"pointer-events: none;\"><line transform=\"translate(10,0)\" x2=\"0\" y2=\"5\" style=\"fill: none; stroke: #888; stroke-width: 1; opacity: 1;\"></line><line transform=\"translate(30,0)\" x2=\"0\" y2=\"5\" style=\"fill: none; stroke: #888; stroke-width: 1; opacity: 1;\"></line><line transform=\"translate(50,0)\" x2=\"0\" y2=\"5\" style=\"fill: none; stroke: #888; stroke-width: 1; opacity: 1;\"></line><line transform=\"translate(70,0)\" x2=\"0\" y2=\"5\" style=\"fill: none; stroke: #888; stroke-width: 1; opacity: 1;\"></line><line transform=\"translate(90,0)\" x2=\"0\" y2=\"5\" style=\"fill: none; stroke: #888; stroke-width: 1; opacity: 1;\"></line><line transform=\"translate(110,0)\" x2=\"0\" y2=\"5\" style=\"fill: none; stroke: #888; stroke-width: 1; opacity: 1;\"></line><line transform=\"translate(130,0)\" x2=\"0\" y2=\"5\" style=\"fill: none; stroke: #888; stroke-width: 1; opacity: 1;\"></line><line transform=\"translate(150,0)\" x2=\"0\" y2=\"5\" style=\"fill: none; stroke: #888; stroke-width: 1; opacity: 1;\"></line><line transform=\"translate(170,0)\" x2=\"0\" y2=\"5\" style=\"fill: none; stroke: #888; stroke-width: 1; opacity: 1;\"></line></g><g class=\"mark-text role-axis-label\" style=\"pointer-events: none;\"><text text-anchor=\"end\" transform=\"translate(10,7) rotate(270) translate(0,3)\" style=\"font-family: sans-serif; font-size: 10px; fill: #000; opacity: 1;\">0</text><text text-anchor=\"end\" transform=\"translate(30,7) rotate(270) translate(0,3)\" style=\"font-family: sans-serif; font-size: 10px; fill: #000; opacity: 1;\">1</text><text text-anchor=\"end\" transform=\"translate(50,7) rotate(270) translate(0,3)\" style=\"font-family: sans-serif; font-size: 10px; fill: #000; opacity: 1;\">2</text><text text-anchor=\"end\" transform=\"translate(70,7) rotate(270) translate(0,3)\" style=\"font-family: sans-serif; font-size: 10px; fill: #000; opacity: 1;\">3</text><text text-anchor=\"end\" transform=\"translate(90,7) rotate(270) translate(0,3)\" style=\"font-family: sans-serif; font-size: 10px; fill: #000; opacity: 1;\">4</text><text text-anchor=\"end\" transform=\"translate(110,7) rotate(270) translate(0,3)\" style=\"font-family: sans-serif; font-size: 10px; fill: #000; opacity: 1;\">5</text><text text-anchor=\"end\" transform=\"translate(130,7) rotate(270) translate(0,3)\" style=\"font-family: sans-serif; font-size: 10px; fill: #000; opacity: 1;\">6</text><text text-anchor=\"end\" transform=\"translate(150,7) rotate(270) translate(0,3)\" style=\"font-family: sans-serif; font-size: 10px; fill: #000; opacity: 1;\">7</text><text text-anchor=\"end\" transform=\"translate(170,7) rotate(270) translate(0,3)\" style=\"font-family: sans-serif; font-size: 10px; fill: #000; opacity: 1;\">8</text></g><g class=\"mark-rule role-axis-domain\" style=\"pointer-events: none;\"><line transform=\"translate(0,0)\" x2=\"180\" y2=\"0\" style=\"fill: none; stroke: #888; stroke-width: 1; opacity: 1;\"></line></g><g class=\"mark-text role-axis-title\" style=\"pointer-events: none;\"><text text-anchor=\"middle\" transform=\"translate(90,26)\" style=\"font-family: sans-serif; font-size: 11px; font-weight: bold; fill: #000; opacity: 1;\">x1</text></g></g></g></g><g class=\"mark-group role-axis\"><g transform=\"translate(0.5,0.5)\"><path class=\"background\" d=\"M0,0h0v0h0Z\" style=\"pointer-events: none; fill: none;\"></path><g><g class=\"mark-rule role-axis-tick\" style=\"pointer-events: none;\"><line transform=\"translate(0,10)\" x2=\"-5\" y2=\"0\" style=\"fill: none; stroke: #888; stroke-width: 1; opacity: 1;\"></line><line transform=\"translate(0,30)\" x2=\"-5\" y2=\"0\" style=\"fill: none; stroke: #888; stroke-width: 1; opacity: 1;\"></line><line transform=\"translate(0,50)\" x2=\"-5\" y2=\"0\" style=\"fill: none; stroke: #888; stroke-width: 1; opacity: 1;\"></line><line transform=\"translate(0,70)\" x2=\"-5\" y2=\"0\" style=\"fill: none; stroke: #888; stroke-width: 1; opacity: 1;\"></line><line transform=\"translate(0,90)\" x2=\"-5\" y2=\"0\" style=\"fill: none; stroke: #888; stroke-width: 1; opacity: 1;\"></line><line transform=\"translate(0,110)\" x2=\"-5\" y2=\"0\" style=\"fill: none; stroke: #888; stroke-width: 1; opacity: 1;\"></line><line transform=\"translate(0,130)\" x2=\"-5\" y2=\"0\" style=\"fill: none; stroke: #888; stroke-width: 1; opacity: 1;\"></line><line transform=\"translate(0,150)\" x2=\"-5\" y2=\"0\" style=\"fill: none; stroke: #888; stroke-width: 1; opacity: 1;\"></line><line transform=\"translate(0,170)\" x2=\"-5\" y2=\"0\" style=\"fill: none; stroke: #888; stroke-width: 1; opacity: 1;\"></line><line transform=\"translate(0,190)\" x2=\"-5\" y2=\"0\" style=\"fill: none; stroke: #888; stroke-width: 1; opacity: 1;\"></line><line transform=\"translate(0,210)\" x2=\"-5\" y2=\"0\" style=\"fill: none; stroke: #888; stroke-width: 1; opacity: 1;\"></line><line transform=\"translate(0,230)\" x2=\"-5\" y2=\"0\" style=\"fill: none; stroke: #888; stroke-width: 1; opacity: 1;\"></line><line transform=\"translate(0,250)\" x2=\"-5\" y2=\"0\" style=\"fill: none; stroke: #888; stroke-width: 1; opacity: 1;\"></line><line transform=\"translate(0,270)\" x2=\"-5\" y2=\"0\" style=\"fill: none; stroke: #888; stroke-width: 1; opacity: 1;\"></line><line transform=\"translate(0,290)\" x2=\"-5\" y2=\"0\" style=\"fill: none; stroke: #888; stroke-width: 1; opacity: 1;\"></line><line transform=\"translate(0,310)\" x2=\"-5\" y2=\"0\" style=\"fill: none; stroke: #888; stroke-width: 1; opacity: 1;\"></line></g><g class=\"mark-text role-axis-label\" style=\"pointer-events: none;\"><text text-anchor=\"end\" transform=\"translate(-7,13)\" style=\"font-family: sans-serif; font-size: 10px; fill: #000; opacity: 1;\">16</text><text text-anchor=\"end\" transform=\"translate(-7,33)\" style=\"font-family: sans-serif; font-size: 10px; fill: #000; opacity: 1;\">15</text><text text-anchor=\"end\" transform=\"translate(-7,53)\" style=\"font-family: sans-serif; font-size: 10px; fill: #000; opacity: 1;\">14</text><text text-anchor=\"end\" transform=\"translate(-7,73)\" style=\"font-family: sans-serif; font-size: 10px; fill: #000; opacity: 1;\">13</text><text text-anchor=\"end\" transform=\"translate(-7,93)\" style=\"font-family: sans-serif; font-size: 10px; fill: #000; opacity: 1;\">12</text><text text-anchor=\"end\" transform=\"translate(-7,113)\" style=\"font-family: sans-serif; font-size: 10px; fill: #000; opacity: 1;\">11</text><text text-anchor=\"end\" transform=\"translate(-7,133)\" style=\"font-family: sans-serif; font-size: 10px; fill: #000; opacity: 1;\">10</text><text text-anchor=\"end\" transform=\"translate(-7,153)\" style=\"font-family: sans-serif; font-size: 10px; fill: #000; opacity: 1;\">9</text><text text-anchor=\"end\" transform=\"translate(-7,173)\" style=\"font-family: sans-serif; font-size: 10px; fill: #000; opacity: 1;\">8</text><text text-anchor=\"end\" transform=\"translate(-7,193)\" style=\"font-family: sans-serif; font-size: 10px; fill: #000; opacity: 1;\">7</text><text text-anchor=\"end\" transform=\"translate(-7,213)\" style=\"font-family: sans-serif; font-size: 10px; fill: #000; opacity: 1;\">6</text><text text-anchor=\"end\" transform=\"translate(-7,233)\" style=\"font-family: sans-serif; font-size: 10px; fill: #000; opacity: 1;\">5</text><text text-anchor=\"end\" transform=\"translate(-7,253)\" style=\"font-family: sans-serif; font-size: 10px; fill: #000; opacity: 1;\">4</text><text text-anchor=\"end\" transform=\"translate(-7,273)\" style=\"font-family: sans-serif; font-size: 10px; fill: #000; opacity: 1;\">3</text><text text-anchor=\"end\" transform=\"translate(-7,293)\" style=\"font-family: sans-serif; font-size: 10px; fill: #000; opacity: 1;\">2</text><text text-anchor=\"end\" transform=\"translate(-7,313)\" style=\"font-family: sans-serif; font-size: 10px; fill: #000; opacity: 1;\">1</text></g><g class=\"mark-rule role-axis-domain\" style=\"pointer-events: none;\"><line transform=\"translate(0,0)\" x2=\"0\" y2=\"320\" style=\"fill: none; stroke: #888; stroke-width: 1; opacity: 1;\"></line></g><g class=\"mark-text role-axis-title\" style=\"pointer-events: none;\"><text text-anchor=\"middle\" transform=\"translate(-23,160) rotate(-90) translate(0,-2)\" style=\"font-family: sans-serif; font-size: 11px; font-weight: bold; fill: #000; opacity: 1;\">id</text></g></g></g></g></g></g></g></g></svg>"
      ],
      "text/plain": [
       "VegaLite.VLSpec{:plot}"
      ]
     },
     "execution_count": 459,
     "metadata": {},
     "output_type": "execute_result"
    }
   ],
   "source": [
    "@vlplot(\n",
    "    data=df,\n",
    "    transform=[{\n",
    "        window=[{op=\"rank\",\"as\"=\"id\"}],\n",
    "        groupby=[\"x1\"]\n",
    "    }],\n",
    "    mark={:circle},\n",
    "    encoding={\n",
    "        x=\"x1:o\",\n",
    "        y={\"id:o\", \"axis\"=:null, \"sort\"=\"descending\"}\n",
    "    }\n",
    "    )\n"
   ]
  },
  {
   "cell_type": "code",
   "execution_count": 2,
   "metadata": {},
   "outputs": [
    {
     "data": {
      "application/vnd.dataresource+json": {
       "data": [
        {
         "Acceleration": 12,
         "Cylinders": 8,
         "Displacement": 307,
         "Horsepower": 130,
         "Miles_per_Gallon": 18,
         "Name": "chevrolet chevelle malibu",
         "Origin": "USA",
         "Weight_in_lbs": 3504,
         "Year": "1970-01-01"
        },
        {
         "Acceleration": 11.5,
         "Cylinders": 8,
         "Displacement": 350,
         "Horsepower": 165,
         "Miles_per_Gallon": 15,
         "Name": "buick skylark 320",
         "Origin": "USA",
         "Weight_in_lbs": 3693,
         "Year": "1970-01-01"
        },
        {
         "Acceleration": 11,
         "Cylinders": 8,
         "Displacement": 318,
         "Horsepower": 150,
         "Miles_per_Gallon": 18,
         "Name": "plymouth satellite",
         "Origin": "USA",
         "Weight_in_lbs": 3436,
         "Year": "1970-01-01"
        },
        {
         "Acceleration": 12,
         "Cylinders": 8,
         "Displacement": 304,
         "Horsepower": 150,
         "Miles_per_Gallon": 16,
         "Name": "amc rebel sst",
         "Origin": "USA",
         "Weight_in_lbs": 3433,
         "Year": "1970-01-01"
        },
        {
         "Acceleration": 10.5,
         "Cylinders": 8,
         "Displacement": 302,
         "Horsepower": 140,
         "Miles_per_Gallon": 17,
         "Name": "ford torino",
         "Origin": "USA",
         "Weight_in_lbs": 3449,
         "Year": "1970-01-01"
        },
        {
         "Acceleration": 10,
         "Cylinders": 8,
         "Displacement": 429,
         "Horsepower": 198,
         "Miles_per_Gallon": 15,
         "Name": "ford galaxie 500",
         "Origin": "USA",
         "Weight_in_lbs": 4341,
         "Year": "1970-01-01"
        },
        {
         "Acceleration": 9,
         "Cylinders": 8,
         "Displacement": 454,
         "Horsepower": 220,
         "Miles_per_Gallon": 14,
         "Name": "chevrolet impala",
         "Origin": "USA",
         "Weight_in_lbs": 4354,
         "Year": "1970-01-01"
        },
        {
         "Acceleration": 8.5,
         "Cylinders": 8,
         "Displacement": 440,
         "Horsepower": 215,
         "Miles_per_Gallon": 14,
         "Name": "plymouth fury iii",
         "Origin": "USA",
         "Weight_in_lbs": 4312,
         "Year": "1970-01-01"
        },
        {
         "Acceleration": 10,
         "Cylinders": 8,
         "Displacement": 455,
         "Horsepower": 225,
         "Miles_per_Gallon": 14,
         "Name": "pontiac catalina",
         "Origin": "USA",
         "Weight_in_lbs": 4425,
         "Year": "1970-01-01"
        },
        {
         "Acceleration": 8.5,
         "Cylinders": 8,
         "Displacement": 390,
         "Horsepower": 190,
         "Miles_per_Gallon": 15,
         "Name": "amc ambassador dpl",
         "Origin": "USA",
         "Weight_in_lbs": 3850,
         "Year": "1970-01-01"
        },
        {
         "Acceleration": 17.5,
         "Cylinders": 4,
         "Displacement": 133,
         "Horsepower": 115,
         "Miles_per_Gallon": null,
         "Name": "citroen ds-21 pallas",
         "Origin": "Europe",
         "Weight_in_lbs": 3090,
         "Year": "1970-01-01"
        },
        {
         "Acceleration": 11.5,
         "Cylinders": 8,
         "Displacement": 350,
         "Horsepower": 165,
         "Miles_per_Gallon": null,
         "Name": "chevrolet chevelle concours (sw)",
         "Origin": "USA",
         "Weight_in_lbs": 4142,
         "Year": "1970-01-01"
        },
        {
         "Acceleration": 11,
         "Cylinders": 8,
         "Displacement": 351,
         "Horsepower": 153,
         "Miles_per_Gallon": null,
         "Name": "ford torino (sw)",
         "Origin": "USA",
         "Weight_in_lbs": 4034,
         "Year": "1970-01-01"
        },
        {
         "Acceleration": 10.5,
         "Cylinders": 8,
         "Displacement": 383,
         "Horsepower": 175,
         "Miles_per_Gallon": null,
         "Name": "plymouth satellite (sw)",
         "Origin": "USA",
         "Weight_in_lbs": 4166,
         "Year": "1970-01-01"
        },
        {
         "Acceleration": 11,
         "Cylinders": 8,
         "Displacement": 360,
         "Horsepower": 175,
         "Miles_per_Gallon": null,
         "Name": "amc rebel sst (sw)",
         "Origin": "USA",
         "Weight_in_lbs": 3850,
         "Year": "1970-01-01"
        },
        {
         "Acceleration": 10,
         "Cylinders": 8,
         "Displacement": 383,
         "Horsepower": 170,
         "Miles_per_Gallon": 15,
         "Name": "dodge challenger se",
         "Origin": "USA",
         "Weight_in_lbs": 3563,
         "Year": "1970-01-01"
        },
        {
         "Acceleration": 8,
         "Cylinders": 8,
         "Displacement": 340,
         "Horsepower": 160,
         "Miles_per_Gallon": 14,
         "Name": "plymouth 'cuda 340",
         "Origin": "USA",
         "Weight_in_lbs": 3609,
         "Year": "1970-01-01"
        },
        {
         "Acceleration": 8,
         "Cylinders": 8,
         "Displacement": 302,
         "Horsepower": 140,
         "Miles_per_Gallon": null,
         "Name": "ford mustang boss 302",
         "Origin": "USA",
         "Weight_in_lbs": 3353,
         "Year": "1970-01-01"
        },
        {
         "Acceleration": 9.5,
         "Cylinders": 8,
         "Displacement": 400,
         "Horsepower": 150,
         "Miles_per_Gallon": 15,
         "Name": "chevrolet monte carlo",
         "Origin": "USA",
         "Weight_in_lbs": 3761,
         "Year": "1970-01-01"
        },
        {
         "Acceleration": 10,
         "Cylinders": 8,
         "Displacement": 455,
         "Horsepower": 225,
         "Miles_per_Gallon": 14,
         "Name": "buick estate wagon (sw)",
         "Origin": "USA",
         "Weight_in_lbs": 3086,
         "Year": "1970-01-01"
        },
        {
         "Acceleration": 15,
         "Cylinders": 4,
         "Displacement": 113,
         "Horsepower": 95,
         "Miles_per_Gallon": 24,
         "Name": "toyota corona mark ii",
         "Origin": "Japan",
         "Weight_in_lbs": 2372,
         "Year": "1970-01-01"
        },
        {
         "Acceleration": 15.5,
         "Cylinders": 6,
         "Displacement": 198,
         "Horsepower": 95,
         "Miles_per_Gallon": 22,
         "Name": "plymouth duster",
         "Origin": "USA",
         "Weight_in_lbs": 2833,
         "Year": "1970-01-01"
        },
        {
         "Acceleration": 15.5,
         "Cylinders": 6,
         "Displacement": 199,
         "Horsepower": 97,
         "Miles_per_Gallon": 18,
         "Name": "amc hornet",
         "Origin": "USA",
         "Weight_in_lbs": 2774,
         "Year": "1970-01-01"
        },
        {
         "Acceleration": 16,
         "Cylinders": 6,
         "Displacement": 200,
         "Horsepower": 85,
         "Miles_per_Gallon": 21,
         "Name": "ford maverick",
         "Origin": "USA",
         "Weight_in_lbs": 2587,
         "Year": "1970-01-01"
        },
        {
         "Acceleration": 14.5,
         "Cylinders": 4,
         "Displacement": 97,
         "Horsepower": 88,
         "Miles_per_Gallon": 27,
         "Name": "datsun pl510",
         "Origin": "Japan",
         "Weight_in_lbs": 2130,
         "Year": "1970-01-01"
        },
        {
         "Acceleration": 20.5,
         "Cylinders": 4,
         "Displacement": 97,
         "Horsepower": 46,
         "Miles_per_Gallon": 26,
         "Name": "volkswagen 1131 deluxe sedan",
         "Origin": "Europe",
         "Weight_in_lbs": 1835,
         "Year": "1970-01-01"
        },
        {
         "Acceleration": 17.5,
         "Cylinders": 4,
         "Displacement": 110,
         "Horsepower": 87,
         "Miles_per_Gallon": 25,
         "Name": "peugeot 504",
         "Origin": "Europe",
         "Weight_in_lbs": 2672,
         "Year": "1970-01-01"
        },
        {
         "Acceleration": 14.5,
         "Cylinders": 4,
         "Displacement": 107,
         "Horsepower": 90,
         "Miles_per_Gallon": 24,
         "Name": "audi 100 ls",
         "Origin": "Europe",
         "Weight_in_lbs": 2430,
         "Year": "1970-01-01"
        },
        {
         "Acceleration": 17.5,
         "Cylinders": 4,
         "Displacement": 104,
         "Horsepower": 95,
         "Miles_per_Gallon": 25,
         "Name": "saab 99e",
         "Origin": "Europe",
         "Weight_in_lbs": 2375,
         "Year": "1970-01-01"
        },
        {
         "Acceleration": 12.5,
         "Cylinders": 4,
         "Displacement": 121,
         "Horsepower": 113,
         "Miles_per_Gallon": 26,
         "Name": "bmw 2002",
         "Origin": "Europe",
         "Weight_in_lbs": 2234,
         "Year": "1970-01-01"
        },
        {
         "Acceleration": 15,
         "Cylinders": 6,
         "Displacement": 199,
         "Horsepower": 90,
         "Miles_per_Gallon": 21,
         "Name": "amc gremlin",
         "Origin": "USA",
         "Weight_in_lbs": 2648,
         "Year": "1970-01-01"
        },
        {
         "Acceleration": 14,
         "Cylinders": 8,
         "Displacement": 360,
         "Horsepower": 215,
         "Miles_per_Gallon": 10,
         "Name": "ford f250",
         "Origin": "USA",
         "Weight_in_lbs": 4615,
         "Year": "1970-01-01"
        },
        {
         "Acceleration": 15,
         "Cylinders": 8,
         "Displacement": 307,
         "Horsepower": 200,
         "Miles_per_Gallon": 10,
         "Name": "chevy c20",
         "Origin": "USA",
         "Weight_in_lbs": 4376,
         "Year": "1970-01-01"
        },
        {
         "Acceleration": 13.5,
         "Cylinders": 8,
         "Displacement": 318,
         "Horsepower": 210,
         "Miles_per_Gallon": 11,
         "Name": "dodge d200",
         "Origin": "USA",
         "Weight_in_lbs": 4382,
         "Year": "1970-01-01"
        },
        {
         "Acceleration": 18.5,
         "Cylinders": 8,
         "Displacement": 304,
         "Horsepower": 193,
         "Miles_per_Gallon": 9,
         "Name": "hi 1200d",
         "Origin": "USA",
         "Weight_in_lbs": 4732,
         "Year": "1970-01-01"
        },
        {
         "Acceleration": 14.5,
         "Cylinders": 4,
         "Displacement": 97,
         "Horsepower": 88,
         "Miles_per_Gallon": 27,
         "Name": "datsun pl510",
         "Origin": "Japan",
         "Weight_in_lbs": 2130,
         "Year": "1971-01-01"
        },
        {
         "Acceleration": 15.5,
         "Cylinders": 4,
         "Displacement": 140,
         "Horsepower": 90,
         "Miles_per_Gallon": 28,
         "Name": "chevrolet vega 2300",
         "Origin": "USA",
         "Weight_in_lbs": 2264,
         "Year": "1971-01-01"
        },
        {
         "Acceleration": 14,
         "Cylinders": 4,
         "Displacement": 113,
         "Horsepower": 95,
         "Miles_per_Gallon": 25,
         "Name": "toyota corona",
         "Origin": "Japan",
         "Weight_in_lbs": 2228,
         "Year": "1971-01-01"
        },
        {
         "Acceleration": 19,
         "Cylinders": 4,
         "Displacement": 98,
         "Horsepower": null,
         "Miles_per_Gallon": 25,
         "Name": "ford pinto",
         "Origin": "USA",
         "Weight_in_lbs": 2046,
         "Year": "1971-01-01"
        },
        {
         "Acceleration": 20,
         "Cylinders": 4,
         "Displacement": 97,
         "Horsepower": 48,
         "Miles_per_Gallon": null,
         "Name": "volkswagen super beetle 117",
         "Origin": "Europe",
         "Weight_in_lbs": 1978,
         "Year": "1971-01-01"
        },
        {
         "Acceleration": 13,
         "Cylinders": 6,
         "Displacement": 232,
         "Horsepower": 100,
         "Miles_per_Gallon": 19,
         "Name": "amc gremlin",
         "Origin": "USA",
         "Weight_in_lbs": 2634,
         "Year": "1971-01-01"
        },
        {
         "Acceleration": 15.5,
         "Cylinders": 6,
         "Displacement": 225,
         "Horsepower": 105,
         "Miles_per_Gallon": 16,
         "Name": "plymouth satellite custom",
         "Origin": "USA",
         "Weight_in_lbs": 3439,
         "Year": "1971-01-01"
        },
        {
         "Acceleration": 15.5,
         "Cylinders": 6,
         "Displacement": 250,
         "Horsepower": 100,
         "Miles_per_Gallon": 17,
         "Name": "chevrolet chevelle malibu",
         "Origin": "USA",
         "Weight_in_lbs": 3329,
         "Year": "1971-01-01"
        },
        {
         "Acceleration": 15.5,
         "Cylinders": 6,
         "Displacement": 250,
         "Horsepower": 88,
         "Miles_per_Gallon": 19,
         "Name": "ford torino 500",
         "Origin": "USA",
         "Weight_in_lbs": 3302,
         "Year": "1971-01-01"
        },
        {
         "Acceleration": 15.5,
         "Cylinders": 6,
         "Displacement": 232,
         "Horsepower": 100,
         "Miles_per_Gallon": 18,
         "Name": "amc matador",
         "Origin": "USA",
         "Weight_in_lbs": 3288,
         "Year": "1971-01-01"
        },
        {
         "Acceleration": 12,
         "Cylinders": 8,
         "Displacement": 350,
         "Horsepower": 165,
         "Miles_per_Gallon": 14,
         "Name": "chevrolet impala",
         "Origin": "USA",
         "Weight_in_lbs": 4209,
         "Year": "1971-01-01"
        },
        {
         "Acceleration": 11.5,
         "Cylinders": 8,
         "Displacement": 400,
         "Horsepower": 175,
         "Miles_per_Gallon": 14,
         "Name": "pontiac catalina brougham",
         "Origin": "USA",
         "Weight_in_lbs": 4464,
         "Year": "1971-01-01"
        },
        {
         "Acceleration": 13.5,
         "Cylinders": 8,
         "Displacement": 351,
         "Horsepower": 153,
         "Miles_per_Gallon": 14,
         "Name": "ford galaxie 500",
         "Origin": "USA",
         "Weight_in_lbs": 4154,
         "Year": "1971-01-01"
        },
        {
         "Acceleration": 13,
         "Cylinders": 8,
         "Displacement": 318,
         "Horsepower": 150,
         "Miles_per_Gallon": 14,
         "Name": "plymouth fury iii",
         "Origin": "USA",
         "Weight_in_lbs": 4096,
         "Year": "1971-01-01"
        },
        {
         "Acceleration": 11.5,
         "Cylinders": 8,
         "Displacement": 383,
         "Horsepower": 180,
         "Miles_per_Gallon": 12,
         "Name": "dodge monaco (sw)",
         "Origin": "USA",
         "Weight_in_lbs": 4955,
         "Year": "1971-01-01"
        },
        {
         "Acceleration": 12,
         "Cylinders": 8,
         "Displacement": 400,
         "Horsepower": 170,
         "Miles_per_Gallon": 13,
         "Name": "ford country squire (sw)",
         "Origin": "USA",
         "Weight_in_lbs": 4746,
         "Year": "1971-01-01"
        },
        {
         "Acceleration": 12,
         "Cylinders": 8,
         "Displacement": 400,
         "Horsepower": 175,
         "Miles_per_Gallon": 13,
         "Name": "pontiac safari (sw)",
         "Origin": "USA",
         "Weight_in_lbs": 5140,
         "Year": "1971-01-01"
        },
        {
         "Acceleration": 13.5,
         "Cylinders": 6,
         "Displacement": 258,
         "Horsepower": 110,
         "Miles_per_Gallon": 18,
         "Name": "amc hornet sportabout (sw)",
         "Origin": "USA",
         "Weight_in_lbs": 2962,
         "Year": "1971-01-01"
        },
        {
         "Acceleration": 19,
         "Cylinders": 4,
         "Displacement": 140,
         "Horsepower": 72,
         "Miles_per_Gallon": 22,
         "Name": "chevrolet vega (sw)",
         "Origin": "USA",
         "Weight_in_lbs": 2408,
         "Year": "1971-01-01"
        },
        {
         "Acceleration": 15,
         "Cylinders": 6,
         "Displacement": 250,
         "Horsepower": 100,
         "Miles_per_Gallon": 19,
         "Name": "pontiac firebird",
         "Origin": "USA",
         "Weight_in_lbs": 3282,
         "Year": "1971-01-01"
        },
        {
         "Acceleration": 14.5,
         "Cylinders": 6,
         "Displacement": 250,
         "Horsepower": 88,
         "Miles_per_Gallon": 18,
         "Name": "ford mustang",
         "Origin": "USA",
         "Weight_in_lbs": 3139,
         "Year": "1971-01-01"
        },
        {
         "Acceleration": 14,
         "Cylinders": 4,
         "Displacement": 122,
         "Horsepower": 86,
         "Miles_per_Gallon": 23,
         "Name": "mercury capri 2000",
         "Origin": "USA",
         "Weight_in_lbs": 2220,
         "Year": "1971-01-01"
        },
        {
         "Acceleration": 14,
         "Cylinders": 4,
         "Displacement": 116,
         "Horsepower": 90,
         "Miles_per_Gallon": 28,
         "Name": "opel 1900",
         "Origin": "Europe",
         "Weight_in_lbs": 2123,
         "Year": "1971-01-01"
        },
        {
         "Acceleration": 19.5,
         "Cylinders": 4,
         "Displacement": 79,
         "Horsepower": 70,
         "Miles_per_Gallon": 30,
         "Name": "peugeot 304",
         "Origin": "Europe",
         "Weight_in_lbs": 2074,
         "Year": "1971-01-01"
        },
        {
         "Acceleration": 14.5,
         "Cylinders": 4,
         "Displacement": 88,
         "Horsepower": 76,
         "Miles_per_Gallon": 30,
         "Name": "fiat 124b",
         "Origin": "Europe",
         "Weight_in_lbs": 2065,
         "Year": "1971-01-01"
        },
        {
         "Acceleration": 19,
         "Cylinders": 4,
         "Displacement": 71,
         "Horsepower": 65,
         "Miles_per_Gallon": 31,
         "Name": "toyota corolla 1200",
         "Origin": "Japan",
         "Weight_in_lbs": 1773,
         "Year": "1971-01-01"
        },
        {
         "Acceleration": 18,
         "Cylinders": 4,
         "Displacement": 72,
         "Horsepower": 69,
         "Miles_per_Gallon": 35,
         "Name": "datsun 1200",
         "Origin": "Japan",
         "Weight_in_lbs": 1613,
         "Year": "1971-01-01"
        },
        {
         "Acceleration": 19,
         "Cylinders": 4,
         "Displacement": 97,
         "Horsepower": 60,
         "Miles_per_Gallon": 27,
         "Name": "volkswagen model 111",
         "Origin": "Europe",
         "Weight_in_lbs": 1834,
         "Year": "1971-01-01"
        },
        {
         "Acceleration": 20.5,
         "Cylinders": 4,
         "Displacement": 91,
         "Horsepower": 70,
         "Miles_per_Gallon": 26,
         "Name": "plymouth cricket",
         "Origin": "USA",
         "Weight_in_lbs": 1955,
         "Year": "1971-01-01"
        },
        {
         "Acceleration": 15.5,
         "Cylinders": 4,
         "Displacement": 113,
         "Horsepower": 95,
         "Miles_per_Gallon": 24,
         "Name": "toyota corona hardtop",
         "Origin": "Japan",
         "Weight_in_lbs": 2278,
         "Year": "1972-01-01"
        },
        {
         "Acceleration": 17,
         "Cylinders": 4,
         "Displacement": 97.5,
         "Horsepower": 80,
         "Miles_per_Gallon": 25,
         "Name": "dodge colt hardtop",
         "Origin": "USA",
         "Weight_in_lbs": 2126,
         "Year": "1972-01-01"
        },
        {
         "Acceleration": 23.5,
         "Cylinders": 4,
         "Displacement": 97,
         "Horsepower": 54,
         "Miles_per_Gallon": 23,
         "Name": "volkswagen type 3",
         "Origin": "Europe",
         "Weight_in_lbs": 2254,
         "Year": "1972-01-01"
        },
        {
         "Acceleration": 19.5,
         "Cylinders": 4,
         "Displacement": 140,
         "Horsepower": 90,
         "Miles_per_Gallon": 20,
         "Name": "chevrolet vega",
         "Origin": "USA",
         "Weight_in_lbs": 2408,
         "Year": "1972-01-01"
        },
        {
         "Acceleration": 16.5,
         "Cylinders": 4,
         "Displacement": 122,
         "Horsepower": 86,
         "Miles_per_Gallon": 21,
         "Name": "ford pinto runabout",
         "Origin": "USA",
         "Weight_in_lbs": 2226,
         "Year": "1972-01-01"
        },
        {
         "Acceleration": 12,
         "Cylinders": 8,
         "Displacement": 350,
         "Horsepower": 165,
         "Miles_per_Gallon": 13,
         "Name": "chevrolet impala",
         "Origin": "USA",
         "Weight_in_lbs": 4274,
         "Year": "1972-01-01"
        },
        {
         "Acceleration": 12,
         "Cylinders": 8,
         "Displacement": 400,
         "Horsepower": 175,
         "Miles_per_Gallon": 14,
         "Name": "pontiac catalina",
         "Origin": "USA",
         "Weight_in_lbs": 4385,
         "Year": "1972-01-01"
        },
        {
         "Acceleration": 13.5,
         "Cylinders": 8,
         "Displacement": 318,
         "Horsepower": 150,
         "Miles_per_Gallon": 15,
         "Name": "plymouth fury iii",
         "Origin": "USA",
         "Weight_in_lbs": 4135,
         "Year": "1972-01-01"
        },
        {
         "Acceleration": 13,
         "Cylinders": 8,
         "Displacement": 351,
         "Horsepower": 153,
         "Miles_per_Gallon": 14,
         "Name": "ford galaxie 500",
         "Origin": "USA",
         "Weight_in_lbs": 4129,
         "Year": "1972-01-01"
        },
        {
         "Acceleration": 11.5,
         "Cylinders": 8,
         "Displacement": 304,
         "Horsepower": 150,
         "Miles_per_Gallon": 17,
         "Name": "amc ambassador sst",
         "Origin": "USA",
         "Weight_in_lbs": 3672,
         "Year": "1972-01-01"
        },
        {
         "Acceleration": 11,
         "Cylinders": 8,
         "Displacement": 429,
         "Horsepower": 208,
         "Miles_per_Gallon": 11,
         "Name": "mercury marquis",
         "Origin": "USA",
         "Weight_in_lbs": 4633,
         "Year": "1972-01-01"
        },
        {
         "Acceleration": 13.5,
         "Cylinders": 8,
         "Displacement": 350,
         "Horsepower": 155,
         "Miles_per_Gallon": 13,
         "Name": "buick lesabre custom",
         "Origin": "USA",
         "Weight_in_lbs": 4502,
         "Year": "1972-01-01"
        },
        {
         "Acceleration": 13.5,
         "Cylinders": 8,
         "Displacement": 350,
         "Horsepower": 160,
         "Miles_per_Gallon": 12,
         "Name": "oldsmobile delta 88 royale",
         "Origin": "USA",
         "Weight_in_lbs": 4456,
         "Year": "1972-01-01"
        },
        {
         "Acceleration": 12.5,
         "Cylinders": 8,
         "Displacement": 400,
         "Horsepower": 190,
         "Miles_per_Gallon": 13,
         "Name": "chrysler newport royal",
         "Origin": "USA",
         "Weight_in_lbs": 4422,
         "Year": "1972-01-01"
        },
        {
         "Acceleration": 13.5,
         "Cylinders": 3,
         "Displacement": 70,
         "Horsepower": 97,
         "Miles_per_Gallon": 19,
         "Name": "mazda rx2 coupe",
         "Origin": "Japan",
         "Weight_in_lbs": 2330,
         "Year": "1972-01-01"
        },
        {
         "Acceleration": 12.5,
         "Cylinders": 8,
         "Displacement": 304,
         "Horsepower": 150,
         "Miles_per_Gallon": 15,
         "Name": "amc matador (sw)",
         "Origin": "USA",
         "Weight_in_lbs": 3892,
         "Year": "1972-01-01"
        },
        {
         "Acceleration": 14,
         "Cylinders": 8,
         "Displacement": 307,
         "Horsepower": 130,
         "Miles_per_Gallon": 13,
         "Name": "chevrolet chevelle concours (sw)",
         "Origin": "USA",
         "Weight_in_lbs": 4098,
         "Year": "1972-01-01"
        },
        {
         "Acceleration": 16,
         "Cylinders": 8,
         "Displacement": 302,
         "Horsepower": 140,
         "Miles_per_Gallon": 13,
         "Name": "ford gran torino (sw)",
         "Origin": "USA",
         "Weight_in_lbs": 4294,
         "Year": "1972-01-01"
        },
        {
         "Acceleration": 14,
         "Cylinders": 8,
         "Displacement": 318,
         "Horsepower": 150,
         "Miles_per_Gallon": 14,
         "Name": "plymouth satellite custom (sw)",
         "Origin": "USA",
         "Weight_in_lbs": 4077,
         "Year": "1972-01-01"
        },
        {
         "Acceleration": 14.5,
         "Cylinders": 4,
         "Displacement": 121,
         "Horsepower": 112,
         "Miles_per_Gallon": 18,
         "Name": "volvo 145e (sw)",
         "Origin": "Europe",
         "Weight_in_lbs": 2933,
         "Year": "1972-01-01"
        },
        {
         "Acceleration": 18,
         "Cylinders": 4,
         "Displacement": 121,
         "Horsepower": 76,
         "Miles_per_Gallon": 22,
         "Name": "volkswagen 411 (sw)",
         "Origin": "Europe",
         "Weight_in_lbs": 2511,
         "Year": "1972-01-01"
        },
        {
         "Acceleration": 19.5,
         "Cylinders": 4,
         "Displacement": 120,
         "Horsepower": 87,
         "Miles_per_Gallon": 21,
         "Name": "peugeot 504 (sw)",
         "Origin": "Europe",
         "Weight_in_lbs": 2979,
         "Year": "1972-01-01"
        },
        {
         "Acceleration": 18,
         "Cylinders": 4,
         "Displacement": 96,
         "Horsepower": 69,
         "Miles_per_Gallon": 26,
         "Name": "renault 12 (sw)",
         "Origin": "Europe",
         "Weight_in_lbs": 2189,
         "Year": "1972-01-01"
        },
        {
         "Acceleration": 16,
         "Cylinders": 4,
         "Displacement": 122,
         "Horsepower": 86,
         "Miles_per_Gallon": 22,
         "Name": "ford pinto (sw)",
         "Origin": "USA",
         "Weight_in_lbs": 2395,
         "Year": "1972-01-01"
        },
        {
         "Acceleration": 17,
         "Cylinders": 4,
         "Displacement": 97,
         "Horsepower": 92,
         "Miles_per_Gallon": 28,
         "Name": "datsun 510 (sw)",
         "Origin": "Japan",
         "Weight_in_lbs": 2288,
         "Year": "1972-01-01"
        },
        {
         "Acceleration": 14.5,
         "Cylinders": 4,
         "Displacement": 120,
         "Horsepower": 97,
         "Miles_per_Gallon": 23,
         "Name": "toyouta corona mark ii (sw)",
         "Origin": "Japan",
         "Weight_in_lbs": 2506,
         "Year": "1972-01-01"
        },
        {
         "Acceleration": 15,
         "Cylinders": 4,
         "Displacement": 98,
         "Horsepower": 80,
         "Miles_per_Gallon": 28,
         "Name": "dodge colt (sw)",
         "Origin": "USA",
         "Weight_in_lbs": 2164,
         "Year": "1972-01-01"
        },
        {
         "Acceleration": 16.5,
         "Cylinders": 4,
         "Displacement": 97,
         "Horsepower": 88,
         "Miles_per_Gallon": 27,
         "Name": "toyota corolla 1600 (sw)",
         "Origin": "Japan",
         "Weight_in_lbs": 2100,
         "Year": "1972-01-01"
        },
        {
         "Acceleration": 13,
         "Cylinders": 8,
         "Displacement": 350,
         "Horsepower": 175,
         "Miles_per_Gallon": 13,
         "Name": "buick century 350",
         "Origin": "USA",
         "Weight_in_lbs": 4100,
         "Year": "1973-01-01"
        },
        {
         "Acceleration": 11.5,
         "Cylinders": 8,
         "Displacement": 304,
         "Horsepower": 150,
         "Miles_per_Gallon": 14,
         "Name": "amc matador",
         "Origin": "USA",
         "Weight_in_lbs": 3672,
         "Year": "1973-01-01"
        },
        {
         "Acceleration": 13,
         "Cylinders": 8,
         "Displacement": 350,
         "Horsepower": 145,
         "Miles_per_Gallon": 13,
         "Name": "chevrolet malibu",
         "Origin": "USA",
         "Weight_in_lbs": 3988,
         "Year": "1973-01-01"
        },
        {
         "Acceleration": 14.5,
         "Cylinders": 8,
         "Displacement": 302,
         "Horsepower": 137,
         "Miles_per_Gallon": 14,
         "Name": "ford gran torino",
         "Origin": "USA",
         "Weight_in_lbs": 4042,
         "Year": "1973-01-01"
        },
        {
         "Acceleration": 12.5,
         "Cylinders": 8,
         "Displacement": 318,
         "Horsepower": 150,
         "Miles_per_Gallon": 15,
         "Name": "dodge coronet custom",
         "Origin": "USA",
         "Weight_in_lbs": 3777,
         "Year": "1973-01-01"
        },
        {
         "Acceleration": 11.5,
         "Cylinders": 8,
         "Displacement": 429,
         "Horsepower": 198,
         "Miles_per_Gallon": 12,
         "Name": "mercury marquis brougham",
         "Origin": "USA",
         "Weight_in_lbs": 4952,
         "Year": "1973-01-01"
        },
        {
         "Acceleration": 12,
         "Cylinders": 8,
         "Displacement": 400,
         "Horsepower": 150,
         "Miles_per_Gallon": 13,
         "Name": "chevrolet caprice classic",
         "Origin": "USA",
         "Weight_in_lbs": 4464,
         "Year": "1973-01-01"
        },
        {
         "Acceleration": 13,
         "Cylinders": 8,
         "Displacement": 351,
         "Horsepower": 158,
         "Miles_per_Gallon": 13,
         "Name": "ford ltd",
         "Origin": "USA",
         "Weight_in_lbs": 4363,
         "Year": "1973-01-01"
        },
        {
         "Acceleration": 14.5,
         "Cylinders": 8,
         "Displacement": 318,
         "Horsepower": 150,
         "Miles_per_Gallon": 14,
         "Name": "plymouth fury gran sedan",
         "Origin": "USA",
         "Weight_in_lbs": 4237,
         "Year": "1973-01-01"
        },
        {
         "Acceleration": 11,
         "Cylinders": 8,
         "Displacement": 440,
         "Horsepower": 215,
         "Miles_per_Gallon": 13,
         "Name": "chrysler new yorker brougham",
         "Origin": "USA",
         "Weight_in_lbs": 4735,
         "Year": "1973-01-01"
        },
        {
         "Acceleration": 11,
         "Cylinders": 8,
         "Displacement": 455,
         "Horsepower": 225,
         "Miles_per_Gallon": 12,
         "Name": "buick electra 225 custom",
         "Origin": "USA",
         "Weight_in_lbs": 4951,
         "Year": "1973-01-01"
        },
        {
         "Acceleration": 11,
         "Cylinders": 8,
         "Displacement": 360,
         "Horsepower": 175,
         "Miles_per_Gallon": 13,
         "Name": "amc ambassador brougham",
         "Origin": "USA",
         "Weight_in_lbs": 3821,
         "Year": "1973-01-01"
        },
        {
         "Acceleration": 16.5,
         "Cylinders": 6,
         "Displacement": 225,
         "Horsepower": 105,
         "Miles_per_Gallon": 18,
         "Name": "plymouth valiant",
         "Origin": "USA",
         "Weight_in_lbs": 3121,
         "Year": "1973-01-01"
        },
        {
         "Acceleration": 18,
         "Cylinders": 6,
         "Displacement": 250,
         "Horsepower": 100,
         "Miles_per_Gallon": 16,
         "Name": "chevrolet nova custom",
         "Origin": "USA",
         "Weight_in_lbs": 3278,
         "Year": "1973-01-01"
        },
        {
         "Acceleration": 16,
         "Cylinders": 6,
         "Displacement": 232,
         "Horsepower": 100,
         "Miles_per_Gallon": 18,
         "Name": "amc hornet",
         "Origin": "USA",
         "Weight_in_lbs": 2945,
         "Year": "1973-01-01"
        },
        {
         "Acceleration": 16.5,
         "Cylinders": 6,
         "Displacement": 250,
         "Horsepower": 88,
         "Miles_per_Gallon": 18,
         "Name": "ford maverick",
         "Origin": "USA",
         "Weight_in_lbs": 3021,
         "Year": "1973-01-01"
        },
        {
         "Acceleration": 16,
         "Cylinders": 6,
         "Displacement": 198,
         "Horsepower": 95,
         "Miles_per_Gallon": 23,
         "Name": "plymouth duster",
         "Origin": "USA",
         "Weight_in_lbs": 2904,
         "Year": "1973-01-01"
        },
        {
         "Acceleration": 21,
         "Cylinders": 4,
         "Displacement": 97,
         "Horsepower": 46,
         "Miles_per_Gallon": 26,
         "Name": "volkswagen super beetle",
         "Origin": "Europe",
         "Weight_in_lbs": 1950,
         "Year": "1973-01-01"
        },
        {
         "Acceleration": 14,
         "Cylinders": 8,
         "Displacement": 400,
         "Horsepower": 150,
         "Miles_per_Gallon": 11,
         "Name": "chevrolet impala",
         "Origin": "USA",
         "Weight_in_lbs": 4997,
         "Year": "1973-01-01"
        },
        {
         "Acceleration": 12.5,
         "Cylinders": 8,
         "Displacement": 400,
         "Horsepower": 167,
         "Miles_per_Gallon": 12,
         "Name": "ford country",
         "Origin": "USA",
         "Weight_in_lbs": 4906,
         "Year": "1973-01-01"
        },
        {
         "Acceleration": 13,
         "Cylinders": 8,
         "Displacement": 360,
         "Horsepower": 170,
         "Miles_per_Gallon": 13,
         "Name": "plymouth custom suburb",
         "Origin": "USA",
         "Weight_in_lbs": 4654,
         "Year": "1973-01-01"
        },
        {
         "Acceleration": 12.5,
         "Cylinders": 8,
         "Displacement": 350,
         "Horsepower": 180,
         "Miles_per_Gallon": 12,
         "Name": "oldsmobile vista cruiser",
         "Origin": "USA",
         "Weight_in_lbs": 4499,
         "Year": "1973-01-01"
        },
        {
         "Acceleration": 15,
         "Cylinders": 6,
         "Displacement": 232,
         "Horsepower": 100,
         "Miles_per_Gallon": 18,
         "Name": "amc gremlin",
         "Origin": "USA",
         "Weight_in_lbs": 2789,
         "Year": "1973-01-01"
        },
        {
         "Acceleration": 19,
         "Cylinders": 4,
         "Displacement": 97,
         "Horsepower": 88,
         "Miles_per_Gallon": 20,
         "Name": "toyota carina",
         "Origin": "Japan",
         "Weight_in_lbs": 2279,
         "Year": "1973-01-01"
        },
        {
         "Acceleration": 19.5,
         "Cylinders": 4,
         "Displacement": 140,
         "Horsepower": 72,
         "Miles_per_Gallon": 21,
         "Name": "chevrolet vega",
         "Origin": "USA",
         "Weight_in_lbs": 2401,
         "Year": "1973-01-01"
        },
        {
         "Acceleration": 16.5,
         "Cylinders": 4,
         "Displacement": 108,
         "Horsepower": 94,
         "Miles_per_Gallon": 22,
         "Name": "datsun 610",
         "Origin": "Japan",
         "Weight_in_lbs": 2379,
         "Year": "1973-01-01"
        },
        {
         "Acceleration": 13.5,
         "Cylinders": 3,
         "Displacement": 70,
         "Horsepower": 90,
         "Miles_per_Gallon": 18,
         "Name": "maxda rx3",
         "Origin": "Japan",
         "Weight_in_lbs": 2124,
         "Year": "1973-01-01"
        },
        {
         "Acceleration": 18.5,
         "Cylinders": 4,
         "Displacement": 122,
         "Horsepower": 85,
         "Miles_per_Gallon": 19,
         "Name": "ford pinto",
         "Origin": "USA",
         "Weight_in_lbs": 2310,
         "Year": "1973-01-01"
        },
        {
         "Acceleration": 14,
         "Cylinders": 6,
         "Displacement": 155,
         "Horsepower": 107,
         "Miles_per_Gallon": 21,
         "Name": "mercury capri v6",
         "Origin": "USA",
         "Weight_in_lbs": 2472,
         "Year": "1973-01-01"
        },
        {
         "Acceleration": 15.5,
         "Cylinders": 4,
         "Displacement": 98,
         "Horsepower": 90,
         "Miles_per_Gallon": 26,
         "Name": "fiat 124 sport coupe",
         "Origin": "Europe",
         "Weight_in_lbs": 2265,
         "Year": "1973-01-01"
        },
        {
         "Acceleration": 13,
         "Cylinders": 8,
         "Displacement": 350,
         "Horsepower": 145,
         "Miles_per_Gallon": 15,
         "Name": "chevrolet monte carlo s",
         "Origin": "USA",
         "Weight_in_lbs": 4082,
         "Year": "1973-01-01"
        },
        {
         "Acceleration": 9.5,
         "Cylinders": 8,
         "Displacement": 400,
         "Horsepower": 230,
         "Miles_per_Gallon": 16,
         "Name": "pontiac grand prix",
         "Origin": "USA",
         "Weight_in_lbs": 4278,
         "Year": "1973-01-01"
        },
        {
         "Acceleration": 19.5,
         "Cylinders": 4,
         "Displacement": 68,
         "Horsepower": 49,
         "Miles_per_Gallon": 29,
         "Name": "fiat 128",
         "Origin": "Europe",
         "Weight_in_lbs": 1867,
         "Year": "1973-01-01"
        },
        {
         "Acceleration": 15.5,
         "Cylinders": 4,
         "Displacement": 116,
         "Horsepower": 75,
         "Miles_per_Gallon": 24,
         "Name": "opel manta",
         "Origin": "Europe",
         "Weight_in_lbs": 2158,
         "Year": "1973-01-01"
        },
        {
         "Acceleration": 14,
         "Cylinders": 4,
         "Displacement": 114,
         "Horsepower": 91,
         "Miles_per_Gallon": 20,
         "Name": "audi 100ls",
         "Origin": "Europe",
         "Weight_in_lbs": 2582,
         "Year": "1973-01-01"
        },
        {
         "Acceleration": 15.5,
         "Cylinders": 4,
         "Displacement": 121,
         "Horsepower": 112,
         "Miles_per_Gallon": 19,
         "Name": "volvo 144ea",
         "Origin": "Europe",
         "Weight_in_lbs": 2868,
         "Year": "1973-01-01"
        },
        {
         "Acceleration": 11,
         "Cylinders": 8,
         "Displacement": 318,
         "Horsepower": 150,
         "Miles_per_Gallon": 15,
         "Name": "dodge dart custom",
         "Origin": "USA",
         "Weight_in_lbs": 3399,
         "Year": "1973-01-01"
        },
        {
         "Acceleration": 14,
         "Cylinders": 4,
         "Displacement": 121,
         "Horsepower": 110,
         "Miles_per_Gallon": 24,
         "Name": "saab 99le",
         "Origin": "Europe",
         "Weight_in_lbs": 2660,
         "Year": "1973-01-01"
        },
        {
         "Acceleration": 13.5,
         "Cylinders": 6,
         "Displacement": 156,
         "Horsepower": 122,
         "Miles_per_Gallon": 20,
         "Name": "toyota mark ii",
         "Origin": "Japan",
         "Weight_in_lbs": 2807,
         "Year": "1973-01-01"
        },
        {
         "Acceleration": 11,
         "Cylinders": 8,
         "Displacement": 350,
         "Horsepower": 180,
         "Miles_per_Gallon": 11,
         "Name": "oldsmobile omega",
         "Origin": "USA",
         "Weight_in_lbs": 3664,
         "Year": "1973-01-01"
        },
        {
         "Acceleration": 16.5,
         "Cylinders": 6,
         "Displacement": 198,
         "Horsepower": 95,
         "Miles_per_Gallon": 20,
         "Name": "plymouth duster",
         "Origin": "USA",
         "Weight_in_lbs": 3102,
         "Year": "1974-01-01"
        },
        {
         "Acceleration": 17,
         "Cylinders": 6,
         "Displacement": 200,
         "Horsepower": null,
         "Miles_per_Gallon": 21,
         "Name": "ford maverick",
         "Origin": "USA",
         "Weight_in_lbs": 2875,
         "Year": "1974-01-01"
        },
        {
         "Acceleration": 16,
         "Cylinders": 6,
         "Displacement": 232,
         "Horsepower": 100,
         "Miles_per_Gallon": 19,
         "Name": "amc hornet",
         "Origin": "USA",
         "Weight_in_lbs": 2901,
         "Year": "1974-01-01"
        },
        {
         "Acceleration": 17,
         "Cylinders": 6,
         "Displacement": 250,
         "Horsepower": 100,
         "Miles_per_Gallon": 15,
         "Name": "chevrolet nova",
         "Origin": "USA",
         "Weight_in_lbs": 3336,
         "Year": "1974-01-01"
        },
        {
         "Acceleration": 19,
         "Cylinders": 4,
         "Displacement": 79,
         "Horsepower": 67,
         "Miles_per_Gallon": 31,
         "Name": "datsun b210",
         "Origin": "Japan",
         "Weight_in_lbs": 1950,
         "Year": "1974-01-01"
        },
        {
         "Acceleration": 16.5,
         "Cylinders": 4,
         "Displacement": 122,
         "Horsepower": 80,
         "Miles_per_Gallon": 26,
         "Name": "ford pinto",
         "Origin": "USA",
         "Weight_in_lbs": 2451,
         "Year": "1974-01-01"
        },
        {
         "Acceleration": 21,
         "Cylinders": 4,
         "Displacement": 71,
         "Horsepower": 65,
         "Miles_per_Gallon": 32,
         "Name": "toyota corolla 1200",
         "Origin": "Japan",
         "Weight_in_lbs": 1836,
         "Year": "1974-01-01"
        },
        {
         "Acceleration": 17,
         "Cylinders": 4,
         "Displacement": 140,
         "Horsepower": 75,
         "Miles_per_Gallon": 25,
         "Name": "chevrolet vega",
         "Origin": "USA",
         "Weight_in_lbs": 2542,
         "Year": "1974-01-01"
        },
        {
         "Acceleration": 17,
         "Cylinders": 6,
         "Displacement": 250,
         "Horsepower": 100,
         "Miles_per_Gallon": 16,
         "Name": "chevrolet chevelle malibu classic",
         "Origin": "USA",
         "Weight_in_lbs": 3781,
         "Year": "1974-01-01"
        },
        {
         "Acceleration": 18,
         "Cylinders": 6,
         "Displacement": 258,
         "Horsepower": 110,
         "Miles_per_Gallon": 16,
         "Name": "amc matador",
         "Origin": "USA",
         "Weight_in_lbs": 3632,
         "Year": "1974-01-01"
        },
        {
         "Acceleration": 16.5,
         "Cylinders": 6,
         "Displacement": 225,
         "Horsepower": 105,
         "Miles_per_Gallon": 18,
         "Name": "plymouth satellite sebring",
         "Origin": "USA",
         "Weight_in_lbs": 3613,
         "Year": "1974-01-01"
        },
        {
         "Acceleration": 14,
         "Cylinders": 8,
         "Displacement": 302,
         "Horsepower": 140,
         "Miles_per_Gallon": 16,
         "Name": "ford gran torino",
         "Origin": "USA",
         "Weight_in_lbs": 4141,
         "Year": "1974-01-01"
        },
        {
         "Acceleration": 14.5,
         "Cylinders": 8,
         "Displacement": 350,
         "Horsepower": 150,
         "Miles_per_Gallon": 13,
         "Name": "buick century luxus (sw)",
         "Origin": "USA",
         "Weight_in_lbs": 4699,
         "Year": "1974-01-01"
        },
        {
         "Acceleration": 13.5,
         "Cylinders": 8,
         "Displacement": 318,
         "Horsepower": 150,
         "Miles_per_Gallon": 14,
         "Name": "dodge coronet custom (sw)",
         "Origin": "USA",
         "Weight_in_lbs": 4457,
         "Year": "1974-01-01"
        },
        {
         "Acceleration": 16,
         "Cylinders": 8,
         "Displacement": 302,
         "Horsepower": 140,
         "Miles_per_Gallon": 14,
         "Name": "ford gran torino (sw)",
         "Origin": "USA",
         "Weight_in_lbs": 4638,
         "Year": "1974-01-01"
        },
        {
         "Acceleration": 15.5,
         "Cylinders": 8,
         "Displacement": 304,
         "Horsepower": 150,
         "Miles_per_Gallon": 14,
         "Name": "amc matador (sw)",
         "Origin": "USA",
         "Weight_in_lbs": 4257,
         "Year": "1974-01-01"
        },
        {
         "Acceleration": 16.5,
         "Cylinders": 4,
         "Displacement": 98,
         "Horsepower": 83,
         "Miles_per_Gallon": 29,
         "Name": "audi fox",
         "Origin": "Europe",
         "Weight_in_lbs": 2219,
         "Year": "1974-01-01"
        },
        {
         "Acceleration": 15.5,
         "Cylinders": 4,
         "Displacement": 79,
         "Horsepower": 67,
         "Miles_per_Gallon": 26,
         "Name": "volkswagen dasher",
         "Origin": "Europe",
         "Weight_in_lbs": 1963,
         "Year": "1974-01-01"
        },
        {
         "Acceleration": 14.5,
         "Cylinders": 4,
         "Displacement": 97,
         "Horsepower": 78,
         "Miles_per_Gallon": 26,
         "Name": "opel manta",
         "Origin": "Europe",
         "Weight_in_lbs": 2300,
         "Year": "1974-01-01"
        },
        {
         "Acceleration": 16.5,
         "Cylinders": 4,
         "Displacement": 76,
         "Horsepower": 52,
         "Miles_per_Gallon": 31,
         "Name": "toyota corona",
         "Origin": "Japan",
         "Weight_in_lbs": 1649,
         "Year": "1974-01-01"
        },
        {
         "Acceleration": 19,
         "Cylinders": 4,
         "Displacement": 83,
         "Horsepower": 61,
         "Miles_per_Gallon": 32,
         "Name": "datsun 710",
         "Origin": "Japan",
         "Weight_in_lbs": 2003,
         "Year": "1974-01-01"
        },
        {
         "Acceleration": 14.5,
         "Cylinders": 4,
         "Displacement": 90,
         "Horsepower": 75,
         "Miles_per_Gallon": 28,
         "Name": "dodge colt",
         "Origin": "USA",
         "Weight_in_lbs": 2125,
         "Year": "1974-01-01"
        },
        {
         "Acceleration": 15.5,
         "Cylinders": 4,
         "Displacement": 90,
         "Horsepower": 75,
         "Miles_per_Gallon": 24,
         "Name": "fiat 128",
         "Origin": "Europe",
         "Weight_in_lbs": 2108,
         "Year": "1974-01-01"
        },
        {
         "Acceleration": 14,
         "Cylinders": 4,
         "Displacement": 116,
         "Horsepower": 75,
         "Miles_per_Gallon": 26,
         "Name": "fiat 124 tc",
         "Origin": "Europe",
         "Weight_in_lbs": 2246,
         "Year": "1974-01-01"
        },
        {
         "Acceleration": 15,
         "Cylinders": 4,
         "Displacement": 120,
         "Horsepower": 97,
         "Miles_per_Gallon": 24,
         "Name": "honda civic",
         "Origin": "Japan",
         "Weight_in_lbs": 2489,
         "Year": "1974-01-01"
        },
        {
         "Acceleration": 15.5,
         "Cylinders": 4,
         "Displacement": 108,
         "Horsepower": 93,
         "Miles_per_Gallon": 26,
         "Name": "subaru",
         "Origin": "Japan",
         "Weight_in_lbs": 2391,
         "Year": "1974-01-01"
        },
        {
         "Acceleration": 16,
         "Cylinders": 4,
         "Displacement": 79,
         "Horsepower": 67,
         "Miles_per_Gallon": 31,
         "Name": "fiat x1.9",
         "Origin": "Europe",
         "Weight_in_lbs": 2000,
         "Year": "1974-01-01"
        },
        {
         "Acceleration": 16,
         "Cylinders": 6,
         "Displacement": 225,
         "Horsepower": 95,
         "Miles_per_Gallon": 19,
         "Name": "plymouth valiant custom",
         "Origin": "USA",
         "Weight_in_lbs": 3264,
         "Year": "1975-01-01"
        },
        {
         "Acceleration": 16,
         "Cylinders": 6,
         "Displacement": 250,
         "Horsepower": 105,
         "Miles_per_Gallon": 18,
         "Name": "chevrolet nova",
         "Origin": "USA",
         "Weight_in_lbs": 3459,
         "Year": "1975-01-01"
        },
        {
         "Acceleration": 21,
         "Cylinders": 6,
         "Displacement": 250,
         "Horsepower": 72,
         "Miles_per_Gallon": 15,
         "Name": "mercury monarch",
         "Origin": "USA",
         "Weight_in_lbs": 3432,
         "Year": "1975-01-01"
        },
        {
         "Acceleration": 19.5,
         "Cylinders": 6,
         "Displacement": 250,
         "Horsepower": 72,
         "Miles_per_Gallon": 15,
         "Name": "ford maverick",
         "Origin": "USA",
         "Weight_in_lbs": 3158,
         "Year": "1975-01-01"
        },
        {
         "Acceleration": 11.5,
         "Cylinders": 8,
         "Displacement": 400,
         "Horsepower": 170,
         "Miles_per_Gallon": 16,
         "Name": "pontiac catalina",
         "Origin": "USA",
         "Weight_in_lbs": 4668,
         "Year": "1975-01-01"
        },
        {
         "Acceleration": 14,
         "Cylinders": 8,
         "Displacement": 350,
         "Horsepower": 145,
         "Miles_per_Gallon": 15,
         "Name": "chevrolet bel air",
         "Origin": "USA",
         "Weight_in_lbs": 4440,
         "Year": "1975-01-01"
        },
        {
         "Acceleration": 14.5,
         "Cylinders": 8,
         "Displacement": 318,
         "Horsepower": 150,
         "Miles_per_Gallon": 16,
         "Name": "plymouth grand fury",
         "Origin": "USA",
         "Weight_in_lbs": 4498,
         "Year": "1975-01-01"
        },
        {
         "Acceleration": 13.5,
         "Cylinders": 8,
         "Displacement": 351,
         "Horsepower": 148,
         "Miles_per_Gallon": 14,
         "Name": "ford ltd",
         "Origin": "USA",
         "Weight_in_lbs": 4657,
         "Year": "1975-01-01"
        },
        {
         "Acceleration": 21,
         "Cylinders": 6,
         "Displacement": 231,
         "Horsepower": 110,
         "Miles_per_Gallon": 17,
         "Name": "buick century",
         "Origin": "USA",
         "Weight_in_lbs": 3907,
         "Year": "1975-01-01"
        },
        {
         "Acceleration": 18.5,
         "Cylinders": 6,
         "Displacement": 250,
         "Horsepower": 105,
         "Miles_per_Gallon": 16,
         "Name": "chevroelt chevelle malibu",
         "Origin": "USA",
         "Weight_in_lbs": 3897,
         "Year": "1975-01-01"
        },
        {
         "Acceleration": 19,
         "Cylinders": 6,
         "Displacement": 258,
         "Horsepower": 110,
         "Miles_per_Gallon": 15,
         "Name": "amc matador",
         "Origin": "USA",
         "Weight_in_lbs": 3730,
         "Year": "1975-01-01"
        },
        {
         "Acceleration": 19,
         "Cylinders": 6,
         "Displacement": 225,
         "Horsepower": 95,
         "Miles_per_Gallon": 18,
         "Name": "plymouth fury",
         "Origin": "USA",
         "Weight_in_lbs": 3785,
         "Year": "1975-01-01"
        },
        {
         "Acceleration": 15,
         "Cylinders": 6,
         "Displacement": 231,
         "Horsepower": 110,
         "Miles_per_Gallon": 21,
         "Name": "buick skyhawk",
         "Origin": "USA",
         "Weight_in_lbs": 3039,
         "Year": "1975-01-01"
        },
        {
         "Acceleration": 13.5,
         "Cylinders": 8,
         "Displacement": 262,
         "Horsepower": 110,
         "Miles_per_Gallon": 20,
         "Name": "chevrolet monza 2+2",
         "Origin": "USA",
         "Weight_in_lbs": 3221,
         "Year": "1975-01-01"
        },
        {
         "Acceleration": 12,
         "Cylinders": 8,
         "Displacement": 302,
         "Horsepower": 129,
         "Miles_per_Gallon": 13,
         "Name": "ford mustang ii",
         "Origin": "USA",
         "Weight_in_lbs": 3169,
         "Year": "1975-01-01"
        },
        {
         "Acceleration": 16,
         "Cylinders": 4,
         "Displacement": 97,
         "Horsepower": 75,
         "Miles_per_Gallon": 29,
         "Name": "toyota corolla",
         "Origin": "Japan",
         "Weight_in_lbs": 2171,
         "Year": "1975-01-01"
        },
        {
         "Acceleration": 17,
         "Cylinders": 4,
         "Displacement": 140,
         "Horsepower": 83,
         "Miles_per_Gallon": 23,
         "Name": "ford pinto",
         "Origin": "USA",
         "Weight_in_lbs": 2639,
         "Year": "1975-01-01"
        },
        {
         "Acceleration": 16,
         "Cylinders": 6,
         "Displacement": 232,
         "Horsepower": 100,
         "Miles_per_Gallon": 20,
         "Name": "amc gremlin",
         "Origin": "USA",
         "Weight_in_lbs": 2914,
         "Year": "1975-01-01"
        },
        {
         "Acceleration": 18.5,
         "Cylinders": 4,
         "Displacement": 140,
         "Horsepower": 78,
         "Miles_per_Gallon": 23,
         "Name": "pontiac astro",
         "Origin": "USA",
         "Weight_in_lbs": 2592,
         "Year": "1975-01-01"
        },
        {
         "Acceleration": 13.5,
         "Cylinders": 4,
         "Displacement": 134,
         "Horsepower": 96,
         "Miles_per_Gallon": 24,
         "Name": "toyota corona",
         "Origin": "Japan",
         "Weight_in_lbs": 2702,
         "Year": "1975-01-01"
        },
        {
         "Acceleration": 16.5,
         "Cylinders": 4,
         "Displacement": 90,
         "Horsepower": 71,
         "Miles_per_Gallon": 25,
         "Name": "volkswagen dasher",
         "Origin": "Europe",
         "Weight_in_lbs": 2223,
         "Year": "1975-01-01"
        },
        {
         "Acceleration": 17,
         "Cylinders": 4,
         "Displacement": 119,
         "Horsepower": 97,
         "Miles_per_Gallon": 24,
         "Name": "datsun 710",
         "Origin": "Japan",
         "Weight_in_lbs": 2545,
         "Year": "1975-01-01"
        },
        {
         "Acceleration": 14.5,
         "Cylinders": 6,
         "Displacement": 171,
         "Horsepower": 97,
         "Miles_per_Gallon": 18,
         "Name": "ford pinto",
         "Origin": "USA",
         "Weight_in_lbs": 2984,
         "Year": "1975-01-01"
        },
        {
         "Acceleration": 14,
         "Cylinders": 4,
         "Displacement": 90,
         "Horsepower": 70,
         "Miles_per_Gallon": 29,
         "Name": "volkswagen rabbit",
         "Origin": "Europe",
         "Weight_in_lbs": 1937,
         "Year": "1975-01-01"
        },
        {
         "Acceleration": 17,
         "Cylinders": 6,
         "Displacement": 232,
         "Horsepower": 90,
         "Miles_per_Gallon": 19,
         "Name": "amc pacer",
         "Origin": "USA",
         "Weight_in_lbs": 3211,
         "Year": "1975-01-01"
        },
        {
         "Acceleration": 15,
         "Cylinders": 4,
         "Displacement": 115,
         "Horsepower": 95,
         "Miles_per_Gallon": 23,
         "Name": "audi 100ls",
         "Origin": "Europe",
         "Weight_in_lbs": 2694,
         "Year": "1975-01-01"
        },
        {
         "Acceleration": 17,
         "Cylinders": 4,
         "Displacement": 120,
         "Horsepower": 88,
         "Miles_per_Gallon": 23,
         "Name": "peugeot 504",
         "Origin": "Europe",
         "Weight_in_lbs": 2957,
         "Year": "1975-01-01"
        },
        {
         "Acceleration": 14.5,
         "Cylinders": 4,
         "Displacement": 121,
         "Horsepower": 98,
         "Miles_per_Gallon": 22,
         "Name": "volvo 244dl",
         "Origin": "Europe",
         "Weight_in_lbs": 2945,
         "Year": "1975-01-01"
        },
        {
         "Acceleration": 13.5,
         "Cylinders": 4,
         "Displacement": 121,
         "Horsepower": 115,
         "Miles_per_Gallon": 25,
         "Name": "saab 99le",
         "Origin": "Europe",
         "Weight_in_lbs": 2671,
         "Year": "1975-01-01"
        },
        {
         "Acceleration": 17.5,
         "Cylinders": 4,
         "Displacement": 91,
         "Horsepower": 53,
         "Miles_per_Gallon": 33,
         "Name": "honda civic cvcc",
         "Origin": "Japan",
         "Weight_in_lbs": 1795,
         "Year": "1975-01-01"
        },
        {
         "Acceleration": 15.5,
         "Cylinders": 4,
         "Displacement": 107,
         "Horsepower": 86,
         "Miles_per_Gallon": 28,
         "Name": "fiat 131",
         "Origin": "Europe",
         "Weight_in_lbs": 2464,
         "Year": "1976-01-01"
        },
        {
         "Acceleration": 16.9,
         "Cylinders": 4,
         "Displacement": 116,
         "Horsepower": 81,
         "Miles_per_Gallon": 25,
         "Name": "opel 1900",
         "Origin": "Europe",
         "Weight_in_lbs": 2220,
         "Year": "1976-01-01"
        },
        {
         "Acceleration": 14.9,
         "Cylinders": 4,
         "Displacement": 140,
         "Horsepower": 92,
         "Miles_per_Gallon": 25,
         "Name": "capri ii",
         "Origin": "USA",
         "Weight_in_lbs": 2572,
         "Year": "1976-01-01"
        },
        {
         "Acceleration": 17.7,
         "Cylinders": 4,
         "Displacement": 98,
         "Horsepower": 79,
         "Miles_per_Gallon": 26,
         "Name": "dodge colt",
         "Origin": "USA",
         "Weight_in_lbs": 2255,
         "Year": "1976-01-01"
        },
        {
         "Acceleration": 15.3,
         "Cylinders": 4,
         "Displacement": 101,
         "Horsepower": 83,
         "Miles_per_Gallon": 27,
         "Name": "renault 12tl",
         "Origin": "Europe",
         "Weight_in_lbs": 2202,
         "Year": "1976-01-01"
        },
        {
         "Acceleration": 13,
         "Cylinders": 8,
         "Displacement": 305,
         "Horsepower": 140,
         "Miles_per_Gallon": 17.5,
         "Name": "chevrolet chevelle malibu classic",
         "Origin": "USA",
         "Weight_in_lbs": 4215,
         "Year": "1976-01-01"
        },
        {
         "Acceleration": 13,
         "Cylinders": 8,
         "Displacement": 318,
         "Horsepower": 150,
         "Miles_per_Gallon": 16,
         "Name": "dodge coronet brougham",
         "Origin": "USA",
         "Weight_in_lbs": 4190,
         "Year": "1976-01-01"
        },
        {
         "Acceleration": 13.9,
         "Cylinders": 8,
         "Displacement": 304,
         "Horsepower": 120,
         "Miles_per_Gallon": 15.5,
         "Name": "amc matador",
         "Origin": "USA",
         "Weight_in_lbs": 3962,
         "Year": "1976-01-01"
        },
        {
         "Acceleration": 12.8,
         "Cylinders": 8,
         "Displacement": 351,
         "Horsepower": 152,
         "Miles_per_Gallon": 14.5,
         "Name": "ford gran torino",
         "Origin": "USA",
         "Weight_in_lbs": 4215,
         "Year": "1976-01-01"
        },
        {
         "Acceleration": 15.4,
         "Cylinders": 6,
         "Displacement": 225,
         "Horsepower": 100,
         "Miles_per_Gallon": 22,
         "Name": "plymouth valiant",
         "Origin": "USA",
         "Weight_in_lbs": 3233,
         "Year": "1976-01-01"
        },
        {
         "Acceleration": 14.5,
         "Cylinders": 6,
         "Displacement": 250,
         "Horsepower": 105,
         "Miles_per_Gallon": 22,
         "Name": "chevrolet nova",
         "Origin": "USA",
         "Weight_in_lbs": 3353,
         "Year": "1976-01-01"
        },
        {
         "Acceleration": 17.6,
         "Cylinders": 6,
         "Displacement": 200,
         "Horsepower": 81,
         "Miles_per_Gallon": 24,
         "Name": "ford maverick",
         "Origin": "USA",
         "Weight_in_lbs": 3012,
         "Year": "1976-01-01"
        },
        {
         "Acceleration": 17.6,
         "Cylinders": 6,
         "Displacement": 232,
         "Horsepower": 90,
         "Miles_per_Gallon": 22.5,
         "Name": "amc hornet",
         "Origin": "USA",
         "Weight_in_lbs": 3085,
         "Year": "1976-01-01"
        },
        {
         "Acceleration": 22.2,
         "Cylinders": 4,
         "Displacement": 85,
         "Horsepower": 52,
         "Miles_per_Gallon": 29,
         "Name": "chevrolet chevette",
         "Origin": "USA",
         "Weight_in_lbs": 2035,
         "Year": "1976-01-01"
        },
        {
         "Acceleration": 22.1,
         "Cylinders": 4,
         "Displacement": 98,
         "Horsepower": 60,
         "Miles_per_Gallon": 24.5,
         "Name": "chevrolet woody",
         "Origin": "USA",
         "Weight_in_lbs": 2164,
         "Year": "1976-01-01"
        },
        {
         "Acceleration": 14.2,
         "Cylinders": 4,
         "Displacement": 90,
         "Horsepower": 70,
         "Miles_per_Gallon": 29,
         "Name": "vw rabbit",
         "Origin": "Europe",
         "Weight_in_lbs": 1937,
         "Year": "1976-01-01"
        },
        {
         "Acceleration": 17.4,
         "Cylinders": 4,
         "Displacement": 91,
         "Horsepower": 53,
         "Miles_per_Gallon": 33,
         "Name": "honda civic",
         "Origin": "Japan",
         "Weight_in_lbs": 1795,
         "Year": "1976-01-01"
        },
        {
         "Acceleration": 17.7,
         "Cylinders": 6,
         "Displacement": 225,
         "Horsepower": 100,
         "Miles_per_Gallon": 20,
         "Name": "dodge aspen se",
         "Origin": "USA",
         "Weight_in_lbs": 3651,
         "Year": "1976-01-01"
        },
        {
         "Acceleration": 21,
         "Cylinders": 6,
         "Displacement": 250,
         "Horsepower": 78,
         "Miles_per_Gallon": 18,
         "Name": "ford granada ghia",
         "Origin": "USA",
         "Weight_in_lbs": 3574,
         "Year": "1976-01-01"
        },
        {
         "Acceleration": 16.2,
         "Cylinders": 6,
         "Displacement": 250,
         "Horsepower": 110,
         "Miles_per_Gallon": 18.5,
         "Name": "pontiac ventura sj",
         "Origin": "USA",
         "Weight_in_lbs": 3645,
         "Year": "1976-01-01"
        },
        {
         "Acceleration": 17.8,
         "Cylinders": 6,
         "Displacement": 258,
         "Horsepower": 95,
         "Miles_per_Gallon": 17.5,
         "Name": "amc pacer d/l",
         "Origin": "USA",
         "Weight_in_lbs": 3193,
         "Year": "1976-01-01"
        },
        {
         "Acceleration": 12.2,
         "Cylinders": 4,
         "Displacement": 97,
         "Horsepower": 71,
         "Miles_per_Gallon": 29.5,
         "Name": "volkswagen rabbit",
         "Origin": "Europe",
         "Weight_in_lbs": 1825,
         "Year": "1976-01-01"
        },
        {
         "Acceleration": 17,
         "Cylinders": 4,
         "Displacement": 85,
         "Horsepower": 70,
         "Miles_per_Gallon": 32,
         "Name": "datsun b-210",
         "Origin": "Japan",
         "Weight_in_lbs": 1990,
         "Year": "1976-01-01"
        },
        {
         "Acceleration": 16.4,
         "Cylinders": 4,
         "Displacement": 97,
         "Horsepower": 75,
         "Miles_per_Gallon": 28,
         "Name": "toyota corolla",
         "Origin": "Japan",
         "Weight_in_lbs": 2155,
         "Year": "1976-01-01"
        },
        {
         "Acceleration": 13.6,
         "Cylinders": 4,
         "Displacement": 140,
         "Horsepower": 72,
         "Miles_per_Gallon": 26.5,
         "Name": "ford pinto",
         "Origin": "USA",
         "Weight_in_lbs": 2565,
         "Year": "1976-01-01"
        },
        {
         "Acceleration": 15.7,
         "Cylinders": 4,
         "Displacement": 130,
         "Horsepower": 102,
         "Miles_per_Gallon": 20,
         "Name": "volvo 245",
         "Origin": "Europe",
         "Weight_in_lbs": 3150,
         "Year": "1976-01-01"
        },
        {
         "Acceleration": 13.2,
         "Cylinders": 8,
         "Displacement": 318,
         "Horsepower": 150,
         "Miles_per_Gallon": 13,
         "Name": "plymouth volare premier v8",
         "Origin": "USA",
         "Weight_in_lbs": 3940,
         "Year": "1976-01-01"
        },
        {
         "Acceleration": 21.9,
         "Cylinders": 4,
         "Displacement": 120,
         "Horsepower": 88,
         "Miles_per_Gallon": 19,
         "Name": "peugeot 504",
         "Origin": "Europe",
         "Weight_in_lbs": 3270,
         "Year": "1976-01-01"
        },
        {
         "Acceleration": 15.5,
         "Cylinders": 6,
         "Displacement": 156,
         "Horsepower": 108,
         "Miles_per_Gallon": 19,
         "Name": "toyota mark ii",
         "Origin": "Japan",
         "Weight_in_lbs": 2930,
         "Year": "1976-01-01"
        },
        {
         "Acceleration": 16.7,
         "Cylinders": 6,
         "Displacement": 168,
         "Horsepower": 120,
         "Miles_per_Gallon": 16.5,
         "Name": "mercedes-benz 280s",
         "Origin": "Europe",
         "Weight_in_lbs": 3820,
         "Year": "1976-01-01"
        },
        {
         "Acceleration": 12.1,
         "Cylinders": 8,
         "Displacement": 350,
         "Horsepower": 180,
         "Miles_per_Gallon": 16.5,
         "Name": "cadillac seville",
         "Origin": "USA",
         "Weight_in_lbs": 4380,
         "Year": "1976-01-01"
        },
        {
         "Acceleration": 12,
         "Cylinders": 8,
         "Displacement": 350,
         "Horsepower": 145,
         "Miles_per_Gallon": 13,
         "Name": "chevy c10",
         "Origin": "USA",
         "Weight_in_lbs": 4055,
         "Year": "1976-01-01"
        },
        {
         "Acceleration": 15,
         "Cylinders": 8,
         "Displacement": 302,
         "Horsepower": 130,
         "Miles_per_Gallon": 13,
         "Name": "ford f108",
         "Origin": "USA",
         "Weight_in_lbs": 3870,
         "Year": "1976-01-01"
        },
        {
         "Acceleration": 14,
         "Cylinders": 8,
         "Displacement": 318,
         "Horsepower": 150,
         "Miles_per_Gallon": 13,
         "Name": "dodge d100",
         "Origin": "USA",
         "Weight_in_lbs": 3755,
         "Year": "1976-01-01"
        },
        {
         "Acceleration": 18.5,
         "Cylinders": 4,
         "Displacement": 98,
         "Horsepower": 68,
         "Miles_per_Gallon": 31.5,
         "Name": "honda Accelerationord cvcc",
         "Origin": "Japan",
         "Weight_in_lbs": 2045,
         "Year": "1977-01-01"
        },
        {
         "Acceleration": 14.8,
         "Cylinders": 4,
         "Displacement": 111,
         "Horsepower": 80,
         "Miles_per_Gallon": 30,
         "Name": "buick opel isuzu deluxe",
         "Origin": "USA",
         "Weight_in_lbs": 2155,
         "Year": "1977-01-01"
        },
        {
         "Acceleration": 18.6,
         "Cylinders": 4,
         "Displacement": 79,
         "Horsepower": 58,
         "Miles_per_Gallon": 36,
         "Name": "renault 5 gtl",
         "Origin": "Europe",
         "Weight_in_lbs": 1825,
         "Year": "1977-01-01"
        },
        {
         "Acceleration": 15.5,
         "Cylinders": 4,
         "Displacement": 122,
         "Horsepower": 96,
         "Miles_per_Gallon": 25.5,
         "Name": "plymouth arrow gs",
         "Origin": "USA",
         "Weight_in_lbs": 2300,
         "Year": "1977-01-01"
        },
        {
         "Acceleration": 16.8,
         "Cylinders": 4,
         "Displacement": 85,
         "Horsepower": 70,
         "Miles_per_Gallon": 33.5,
         "Name": "datsun f-10 hatchback",
         "Origin": "Japan",
         "Weight_in_lbs": 1945,
         "Year": "1977-01-01"
        },
        {
         "Acceleration": 12.5,
         "Cylinders": 8,
         "Displacement": 305,
         "Horsepower": 145,
         "Miles_per_Gallon": 17.5,
         "Name": "chevrolet caprice classic",
         "Origin": "USA",
         "Weight_in_lbs": 3880,
         "Year": "1977-01-01"
        },
        {
         "Acceleration": 19,
         "Cylinders": 8,
         "Displacement": 260,
         "Horsepower": 110,
         "Miles_per_Gallon": 17,
         "Name": "oldsmobile cutlass supreme",
         "Origin": "USA",
         "Weight_in_lbs": 4060,
         "Year": "1977-01-01"
        },
        {
         "Acceleration": 13.7,
         "Cylinders": 8,
         "Displacement": 318,
         "Horsepower": 145,
         "Miles_per_Gallon": 15.5,
         "Name": "dodge monaco brougham",
         "Origin": "USA",
         "Weight_in_lbs": 4140,
         "Year": "1977-01-01"
        },
        {
         "Acceleration": 14.9,
         "Cylinders": 8,
         "Displacement": 302,
         "Horsepower": 130,
         "Miles_per_Gallon": 15,
         "Name": "mercury cougar brougham",
         "Origin": "USA",
         "Weight_in_lbs": 4295,
         "Year": "1977-01-01"
        },
        {
         "Acceleration": 16.4,
         "Cylinders": 6,
         "Displacement": 250,
         "Horsepower": 110,
         "Miles_per_Gallon": 17.5,
         "Name": "chevrolet concours",
         "Origin": "USA",
         "Weight_in_lbs": 3520,
         "Year": "1977-01-01"
        },
        {
         "Acceleration": 16.9,
         "Cylinders": 6,
         "Displacement": 231,
         "Horsepower": 105,
         "Miles_per_Gallon": 20.5,
         "Name": "buick skylark",
         "Origin": "USA",
         "Weight_in_lbs": 3425,
         "Year": "1977-01-01"
        },
        {
         "Acceleration": 17.7,
         "Cylinders": 6,
         "Displacement": 225,
         "Horsepower": 100,
         "Miles_per_Gallon": 19,
         "Name": "plymouth volare custom",
         "Origin": "USA",
         "Weight_in_lbs": 3630,
         "Year": "1977-01-01"
        },
        {
         "Acceleration": 19,
         "Cylinders": 6,
         "Displacement": 250,
         "Horsepower": 98,
         "Miles_per_Gallon": 18.5,
         "Name": "ford granada",
         "Origin": "USA",
         "Weight_in_lbs": 3525,
         "Year": "1977-01-01"
        },
        {
         "Acceleration": 11.1,
         "Cylinders": 8,
         "Displacement": 400,
         "Horsepower": 180,
         "Miles_per_Gallon": 16,
         "Name": "pontiac grand prix lj",
         "Origin": "USA",
         "Weight_in_lbs": 4220,
         "Year": "1977-01-01"
        },
        {
         "Acceleration": 11.4,
         "Cylinders": 8,
         "Displacement": 350,
         "Horsepower": 170,
         "Miles_per_Gallon": 15.5,
         "Name": "chevrolet monte carlo landau",
         "Origin": "USA",
         "Weight_in_lbs": 4165,
         "Year": "1977-01-01"
        },
        {
         "Acceleration": 12.2,
         "Cylinders": 8,
         "Displacement": 400,
         "Horsepower": 190,
         "Miles_per_Gallon": 15.5,
         "Name": "chrysler cordoba",
         "Origin": "USA",
         "Weight_in_lbs": 4325,
         "Year": "1977-01-01"
        },
        {
         "Acceleration": 14.5,
         "Cylinders": 8,
         "Displacement": 351,
         "Horsepower": 149,
         "Miles_per_Gallon": 16,
         "Name": "ford thunderbird",
         "Origin": "USA",
         "Weight_in_lbs": 4335,
         "Year": "1977-01-01"
        },
        {
         "Acceleration": 14.5,
         "Cylinders": 4,
         "Displacement": 97,
         "Horsepower": 78,
         "Miles_per_Gallon": 29,
         "Name": "volkswagen rabbit custom",
         "Origin": "Europe",
         "Weight_in_lbs": 1940,
         "Year": "1977-01-01"
        },
        {
         "Acceleration": 16,
         "Cylinders": 4,
         "Displacement": 151,
         "Horsepower": 88,
         "Miles_per_Gallon": 24.5,
         "Name": "pontiac sunbird coupe",
         "Origin": "USA",
         "Weight_in_lbs": 2740,
         "Year": "1977-01-01"
        },
        {
         "Acceleration": 18.2,
         "Cylinders": 4,
         "Displacement": 97,
         "Horsepower": 75,
         "Miles_per_Gallon": 26,
         "Name": "toyota corolla liftback",
         "Origin": "Japan",
         "Weight_in_lbs": 2265,
         "Year": "1977-01-01"
        },
        {
         "Acceleration": 15.8,
         "Cylinders": 4,
         "Displacement": 140,
         "Horsepower": 89,
         "Miles_per_Gallon": 25.5,
         "Name": "ford mustang ii 2+2",
         "Origin": "USA",
         "Weight_in_lbs": 2755,
         "Year": "1977-01-01"
        },
        {
         "Acceleration": 17,
         "Cylinders": 4,
         "Displacement": 98,
         "Horsepower": 63,
         "Miles_per_Gallon": 30.5,
         "Name": "chevrolet chevette",
         "Origin": "USA",
         "Weight_in_lbs": 2051,
         "Year": "1977-01-01"
        },
        {
         "Acceleration": 15.9,
         "Cylinders": 4,
         "Displacement": 98,
         "Horsepower": 83,
         "Miles_per_Gallon": 33.5,
         "Name": "dodge colt m/m",
         "Origin": "USA",
         "Weight_in_lbs": 2075,
         "Year": "1977-01-01"
        },
        {
         "Acceleration": 16.4,
         "Cylinders": 4,
         "Displacement": 97,
         "Horsepower": 67,
         "Miles_per_Gallon": 30,
         "Name": "subaru dl",
         "Origin": "Japan",
         "Weight_in_lbs": 1985,
         "Year": "1977-01-01"
        },
        {
         "Acceleration": 14.1,
         "Cylinders": 4,
         "Displacement": 97,
         "Horsepower": 78,
         "Miles_per_Gallon": 30.5,
         "Name": "volkswagen dasher",
         "Origin": "Europe",
         "Weight_in_lbs": 2190,
         "Year": "1977-01-01"
        },
        {
         "Acceleration": 14.5,
         "Cylinders": 6,
         "Displacement": 146,
         "Horsepower": 97,
         "Miles_per_Gallon": 22,
         "Name": "datsun 810",
         "Origin": "Japan",
         "Weight_in_lbs": 2815,
         "Year": "1977-01-01"
        },
        {
         "Acceleration": 12.8,
         "Cylinders": 4,
         "Displacement": 121,
         "Horsepower": 110,
         "Miles_per_Gallon": 21.5,
         "Name": "bmw 320i",
         "Origin": "Europe",
         "Weight_in_lbs": 2600,
         "Year": "1977-01-01"
        },
        {
         "Acceleration": 13.5,
         "Cylinders": 3,
         "Displacement": 80,
         "Horsepower": 110,
         "Miles_per_Gallon": 21.5,
         "Name": "mazda rx-4",
         "Origin": "Japan",
         "Weight_in_lbs": 2720,
         "Year": "1977-01-01"
        },
        {
         "Acceleration": 21.5,
         "Cylinders": 4,
         "Displacement": 90,
         "Horsepower": 48,
         "Miles_per_Gallon": 43.1,
         "Name": "volkswagen rabbit custom diesel",
         "Origin": "Europe",
         "Weight_in_lbs": 1985,
         "Year": "1978-01-01"
        },
        {
         "Acceleration": 14.4,
         "Cylinders": 4,
         "Displacement": 98,
         "Horsepower": 66,
         "Miles_per_Gallon": 36.1,
         "Name": "ford fiesta",
         "Origin": "USA",
         "Weight_in_lbs": 1800,
         "Year": "1978-01-01"
        },
        {
         "Acceleration": 19.4,
         "Cylinders": 4,
         "Displacement": 78,
         "Horsepower": 52,
         "Miles_per_Gallon": 32.8,
         "Name": "mazda glc deluxe",
         "Origin": "Japan",
         "Weight_in_lbs": 1985,
         "Year": "1978-01-01"
        },
        {
         "Acceleration": 18.6,
         "Cylinders": 4,
         "Displacement": 85,
         "Horsepower": 70,
         "Miles_per_Gallon": 39.4,
         "Name": "datsun b210 gx",
         "Origin": "Japan",
         "Weight_in_lbs": 2070,
         "Year": "1978-01-01"
        },
        {
         "Acceleration": 16.4,
         "Cylinders": 4,
         "Displacement": 91,
         "Horsepower": 60,
         "Miles_per_Gallon": 36.1,
         "Name": "honda civic cvcc",
         "Origin": "Japan",
         "Weight_in_lbs": 1800,
         "Year": "1978-01-01"
        },
        {
         "Acceleration": 15.5,
         "Cylinders": 8,
         "Displacement": 260,
         "Horsepower": 110,
         "Miles_per_Gallon": 19.9,
         "Name": "oldsmobile cutlass salon brougham",
         "Origin": "USA",
         "Weight_in_lbs": 3365,
         "Year": "1978-01-01"
        },
        {
         "Acceleration": 13.2,
         "Cylinders": 8,
         "Displacement": 318,
         "Horsepower": 140,
         "Miles_per_Gallon": 19.4,
         "Name": "dodge diplomat",
         "Origin": "USA",
         "Weight_in_lbs": 3735,
         "Year": "1978-01-01"
        },
        {
         "Acceleration": 12.8,
         "Cylinders": 8,
         "Displacement": 302,
         "Horsepower": 139,
         "Miles_per_Gallon": 20.2,
         "Name": "mercury monarch ghia",
         "Origin": "USA",
         "Weight_in_lbs": 3570,
         "Year": "1978-01-01"
        },
        {
         "Acceleration": 19.2,
         "Cylinders": 6,
         "Displacement": 231,
         "Horsepower": 105,
         "Miles_per_Gallon": 19.2,
         "Name": "pontiac phoenix lj",
         "Origin": "USA",
         "Weight_in_lbs": 3535,
         "Year": "1978-01-01"
        },
        {
         "Acceleration": 18.2,
         "Cylinders": 6,
         "Displacement": 200,
         "Horsepower": 95,
         "Miles_per_Gallon": 20.5,
         "Name": "chevrolet malibu",
         "Origin": "USA",
         "Weight_in_lbs": 3155,
         "Year": "1978-01-01"
        },
        {
         "Acceleration": 15.8,
         "Cylinders": 6,
         "Displacement": 200,
         "Horsepower": 85,
         "Miles_per_Gallon": 20.2,
         "Name": "ford fairmont (auto)",
         "Origin": "USA",
         "Weight_in_lbs": 2965,
         "Year": "1978-01-01"
        },
        {
         "Acceleration": 15.4,
         "Cylinders": 4,
         "Displacement": 140,
         "Horsepower": 88,
         "Miles_per_Gallon": 25.1,
         "Name": "ford fairmont (man)",
         "Origin": "USA",
         "Weight_in_lbs": 2720,
         "Year": "1978-01-01"
        },
        {
         "Acceleration": 17.2,
         "Cylinders": 6,
         "Displacement": 225,
         "Horsepower": 100,
         "Miles_per_Gallon": 20.5,
         "Name": "plymouth volare",
         "Origin": "USA",
         "Weight_in_lbs": 3430,
         "Year": "1978-01-01"
        },
        {
         "Acceleration": 17.2,
         "Cylinders": 6,
         "Displacement": 232,
         "Horsepower": 90,
         "Miles_per_Gallon": 19.4,
         "Name": "amc concord",
         "Origin": "USA",
         "Weight_in_lbs": 3210,
         "Year": "1978-01-01"
        },
        {
         "Acceleration": 15.8,
         "Cylinders": 6,
         "Displacement": 231,
         "Horsepower": 105,
         "Miles_per_Gallon": 20.6,
         "Name": "buick century special",
         "Origin": "USA",
         "Weight_in_lbs": 3380,
         "Year": "1978-01-01"
        },
        {
         "Acceleration": 16.7,
         "Cylinders": 6,
         "Displacement": 200,
         "Horsepower": 85,
         "Miles_per_Gallon": 20.8,
         "Name": "mercury zephyr",
         "Origin": "USA",
         "Weight_in_lbs": 3070,
         "Year": "1978-01-01"
        },
        {
         "Acceleration": 18.7,
         "Cylinders": 6,
         "Displacement": 225,
         "Horsepower": 110,
         "Miles_per_Gallon": 18.6,
         "Name": "dodge aspen",
         "Origin": "USA",
         "Weight_in_lbs": 3620,
         "Year": "1978-01-01"
        },
        {
         "Acceleration": 15.1,
         "Cylinders": 6,
         "Displacement": 258,
         "Horsepower": 120,
         "Miles_per_Gallon": 18.1,
         "Name": "amc concord d/l",
         "Origin": "USA",
         "Weight_in_lbs": 3410,
         "Year": "1978-01-01"
        },
        {
         "Acceleration": 13.2,
         "Cylinders": 8,
         "Displacement": 305,
         "Horsepower": 145,
         "Miles_per_Gallon": 19.2,
         "Name": "chevrolet monte carlo landau",
         "Origin": "USA",
         "Weight_in_lbs": 3425,
         "Year": "1978-01-01"
        },
        {
         "Acceleration": 13.4,
         "Cylinders": 6,
         "Displacement": 231,
         "Horsepower": 165,
         "Miles_per_Gallon": 17.7,
         "Name": "buick regal sport coupe (turbo)",
         "Origin": "USA",
         "Weight_in_lbs": 3445,
         "Year": "1978-01-01"
        },
        {
         "Acceleration": 11.2,
         "Cylinders": 8,
         "Displacement": 302,
         "Horsepower": 139,
         "Miles_per_Gallon": 18.1,
         "Name": "ford futura",
         "Origin": "USA",
         "Weight_in_lbs": 3205,
         "Year": "1978-01-01"
        },
        {
         "Acceleration": 13.7,
         "Cylinders": 8,
         "Displacement": 318,
         "Horsepower": 140,
         "Miles_per_Gallon": 17.5,
         "Name": "dodge magnum xe",
         "Origin": "USA",
         "Weight_in_lbs": 4080,
         "Year": "1978-01-01"
        },
        {
         "Acceleration": 16.5,
         "Cylinders": 4,
         "Displacement": 98,
         "Horsepower": 68,
         "Miles_per_Gallon": 30,
         "Name": "chevrolet chevette",
         "Origin": "USA",
         "Weight_in_lbs": 2155,
         "Year": "1978-01-01"
        },
        {
         "Acceleration": 14.2,
         "Cylinders": 4,
         "Displacement": 134,
         "Horsepower": 95,
         "Miles_per_Gallon": 27.5,
         "Name": "toyota corona",
         "Origin": "Japan",
         "Weight_in_lbs": 2560,
         "Year": "1978-01-01"
        },
        {
         "Acceleration": 14.7,
         "Cylinders": 4,
         "Displacement": 119,
         "Horsepower": 97,
         "Miles_per_Gallon": 27.2,
         "Name": "datsun 510",
         "Origin": "Japan",
         "Weight_in_lbs": 2300,
         "Year": "1978-01-01"
        },
        {
         "Acceleration": 14.5,
         "Cylinders": 4,
         "Displacement": 105,
         "Horsepower": 75,
         "Miles_per_Gallon": 30.9,
         "Name": "dodge omni",
         "Origin": "USA",
         "Weight_in_lbs": 2230,
         "Year": "1978-01-01"
        },
        {
         "Acceleration": 14.8,
         "Cylinders": 4,
         "Displacement": 134,
         "Horsepower": 95,
         "Miles_per_Gallon": 21.1,
         "Name": "toyota celica gt liftback",
         "Origin": "Japan",
         "Weight_in_lbs": 2515,
         "Year": "1978-01-01"
        },
        {
         "Acceleration": 16.7,
         "Cylinders": 4,
         "Displacement": 156,
         "Horsepower": 105,
         "Miles_per_Gallon": 23.2,
         "Name": "plymouth sapporo",
         "Origin": "USA",
         "Weight_in_lbs": 2745,
         "Year": "1978-01-01"
        },
        {
         "Acceleration": 17.6,
         "Cylinders": 4,
         "Displacement": 151,
         "Horsepower": 85,
         "Miles_per_Gallon": 23.8,
         "Name": "oldsmobile starfire sx",
         "Origin": "USA",
         "Weight_in_lbs": 2855,
         "Year": "1978-01-01"
        },
        {
         "Acceleration": 14.9,
         "Cylinders": 4,
         "Displacement": 119,
         "Horsepower": 97,
         "Miles_per_Gallon": 23.9,
         "Name": "datsun 200-sx",
         "Origin": "Japan",
         "Weight_in_lbs": 2405,
         "Year": "1978-01-01"
        },
        {
         "Acceleration": 15.9,
         "Cylinders": 5,
         "Displacement": 131,
         "Horsepower": 103,
         "Miles_per_Gallon": 20.3,
         "Name": "audi 5000",
         "Origin": "Europe",
         "Weight_in_lbs": 2830,
         "Year": "1978-01-01"
        },
        {
         "Acceleration": 13.6,
         "Cylinders": 6,
         "Displacement": 163,
         "Horsepower": 125,
         "Miles_per_Gallon": 17,
         "Name": "volvo 264gl",
         "Origin": "Europe",
         "Weight_in_lbs": 3140,
         "Year": "1978-01-01"
        },
        {
         "Acceleration": 15.7,
         "Cylinders": 4,
         "Displacement": 121,
         "Horsepower": 115,
         "Miles_per_Gallon": 21.6,
         "Name": "saab 99gle",
         "Origin": "Europe",
         "Weight_in_lbs": 2795,
         "Year": "1978-01-01"
        },
        {
         "Acceleration": 15.8,
         "Cylinders": 6,
         "Displacement": 163,
         "Horsepower": 133,
         "Miles_per_Gallon": 16.2,
         "Name": "peugeot 604sl",
         "Origin": "Europe",
         "Weight_in_lbs": 3410,
         "Year": "1978-01-01"
        },
        {
         "Acceleration": 14.9,
         "Cylinders": 4,
         "Displacement": 89,
         "Horsepower": 71,
         "Miles_per_Gallon": 31.5,
         "Name": "volkswagen scirocco",
         "Origin": "Europe",
         "Weight_in_lbs": 1990,
         "Year": "1978-01-01"
        },
        {
         "Acceleration": 16.6,
         "Cylinders": 4,
         "Displacement": 98,
         "Horsepower": 68,
         "Miles_per_Gallon": 29.5,
         "Name": "honda Accelerationord lx",
         "Origin": "Japan",
         "Weight_in_lbs": 2135,
         "Year": "1978-01-01"
        },
        {
         "Acceleration": 15.4,
         "Cylinders": 6,
         "Displacement": 231,
         "Horsepower": 115,
         "Miles_per_Gallon": 21.5,
         "Name": "pontiac lemans v6",
         "Origin": "USA",
         "Weight_in_lbs": 3245,
         "Year": "1979-01-01"
        },
        {
         "Acceleration": 18.2,
         "Cylinders": 6,
         "Displacement": 200,
         "Horsepower": 85,
         "Miles_per_Gallon": 19.8,
         "Name": "mercury zephyr 6",
         "Origin": "USA",
         "Weight_in_lbs": 2990,
         "Year": "1979-01-01"
        },
        {
         "Acceleration": 17.3,
         "Cylinders": 4,
         "Displacement": 140,
         "Horsepower": 88,
         "Miles_per_Gallon": 22.3,
         "Name": "ford fairmont 4",
         "Origin": "USA",
         "Weight_in_lbs": 2890,
         "Year": "1979-01-01"
        },
        {
         "Acceleration": 18.2,
         "Cylinders": 6,
         "Displacement": 232,
         "Horsepower": 90,
         "Miles_per_Gallon": 20.2,
         "Name": "amc concord dl 6",
         "Origin": "USA",
         "Weight_in_lbs": 3265,
         "Year": "1979-01-01"
        },
        {
         "Acceleration": 16.6,
         "Cylinders": 6,
         "Displacement": 225,
         "Horsepower": 110,
         "Miles_per_Gallon": 20.6,
         "Name": "dodge aspen 6",
         "Origin": "USA",
         "Weight_in_lbs": 3360,
         "Year": "1979-01-01"
        },
        {
         "Acceleration": 15.4,
         "Cylinders": 8,
         "Displacement": 305,
         "Horsepower": 130,
         "Miles_per_Gallon": 17,
         "Name": "chevrolet caprice classic",
         "Origin": "USA",
         "Weight_in_lbs": 3840,
         "Year": "1979-01-01"
        },
        {
         "Acceleration": 13.4,
         "Cylinders": 8,
         "Displacement": 302,
         "Horsepower": 129,
         "Miles_per_Gallon": 17.6,
         "Name": "ford ltd landau",
         "Origin": "USA",
         "Weight_in_lbs": 3725,
         "Year": "1979-01-01"
        },
        {
         "Acceleration": 13.2,
         "Cylinders": 8,
         "Displacement": 351,
         "Horsepower": 138,
         "Miles_per_Gallon": 16.5,
         "Name": "mercury grand marquis",
         "Origin": "USA",
         "Weight_in_lbs": 3955,
         "Year": "1979-01-01"
        },
        {
         "Acceleration": 15.2,
         "Cylinders": 8,
         "Displacement": 318,
         "Horsepower": 135,
         "Miles_per_Gallon": 18.2,
         "Name": "dodge st. regis",
         "Origin": "USA",
         "Weight_in_lbs": 3830,
         "Year": "1979-01-01"
        },
        {
         "Acceleration": 14.9,
         "Cylinders": 8,
         "Displacement": 350,
         "Horsepower": 155,
         "Miles_per_Gallon": 16.9,
         "Name": "buick estate wagon (sw)",
         "Origin": "USA",
         "Weight_in_lbs": 4360,
         "Year": "1979-01-01"
        },
        {
         "Acceleration": 14.3,
         "Cylinders": 8,
         "Displacement": 351,
         "Horsepower": 142,
         "Miles_per_Gallon": 15.5,
         "Name": "ford country squire (sw)",
         "Origin": "USA",
         "Weight_in_lbs": 4054,
         "Year": "1979-01-01"
        },
        {
         "Acceleration": 15,
         "Cylinders": 8,
         "Displacement": 267,
         "Horsepower": 125,
         "Miles_per_Gallon": 19.2,
         "Name": "chevrolet malibu classic (sw)",
         "Origin": "USA",
         "Weight_in_lbs": 3605,
         "Year": "1979-01-01"
        },
        {
         "Acceleration": 13,
         "Cylinders": 8,
         "Displacement": 360,
         "Horsepower": 150,
         "Miles_per_Gallon": 18.5,
         "Name": "chrysler lebaron town @ country (sw)",
         "Origin": "USA",
         "Weight_in_lbs": 3940,
         "Year": "1979-01-01"
        },
        {
         "Acceleration": 14,
         "Cylinders": 4,
         "Displacement": 89,
         "Horsepower": 71,
         "Miles_per_Gallon": 31.9,
         "Name": "vw rabbit custom",
         "Origin": "Europe",
         "Weight_in_lbs": 1925,
         "Year": "1979-01-01"
        },
        {
         "Acceleration": 15.2,
         "Cylinders": 4,
         "Displacement": 86,
         "Horsepower": 65,
         "Miles_per_Gallon": 34.1,
         "Name": "maxda glc deluxe",
         "Origin": "Japan",
         "Weight_in_lbs": 1975,
         "Year": "1979-01-01"
        },
        {
         "Acceleration": 14.4,
         "Cylinders": 4,
         "Displacement": 98,
         "Horsepower": 80,
         "Miles_per_Gallon": 35.7,
         "Name": "dodge colt hatchback custom",
         "Origin": "USA",
         "Weight_in_lbs": 1915,
         "Year": "1979-01-01"
        },
        {
         "Acceleration": 15,
         "Cylinders": 4,
         "Displacement": 121,
         "Horsepower": 80,
         "Miles_per_Gallon": 27.4,
         "Name": "amc spirit dl",
         "Origin": "USA",
         "Weight_in_lbs": 2670,
         "Year": "1979-01-01"
        },
        {
         "Acceleration": 20.1,
         "Cylinders": 5,
         "Displacement": 183,
         "Horsepower": 77,
         "Miles_per_Gallon": 25.4,
         "Name": "mercedes benz 300d",
         "Origin": "Europe",
         "Weight_in_lbs": 3530,
         "Year": "1979-01-01"
        },
        {
         "Acceleration": 17.4,
         "Cylinders": 8,
         "Displacement": 350,
         "Horsepower": 125,
         "Miles_per_Gallon": 23,
         "Name": "cadillac eldorado",
         "Origin": "USA",
         "Weight_in_lbs": 3900,
         "Year": "1979-01-01"
        },
        {
         "Acceleration": 24.8,
         "Cylinders": 4,
         "Displacement": 141,
         "Horsepower": 71,
         "Miles_per_Gallon": 27.2,
         "Name": "peugeot 504",
         "Origin": "Europe",
         "Weight_in_lbs": 3190,
         "Year": "1979-01-01"
        },
        {
         "Acceleration": 22.2,
         "Cylinders": 8,
         "Displacement": 260,
         "Horsepower": 90,
         "Miles_per_Gallon": 23.9,
         "Name": "oldsmobile cutlass salon brougham",
         "Origin": "USA",
         "Weight_in_lbs": 3420,
         "Year": "1979-01-01"
        },
        {
         "Acceleration": 13.2,
         "Cylinders": 4,
         "Displacement": 105,
         "Horsepower": 70,
         "Miles_per_Gallon": 34.2,
         "Name": "plymouth horizon",
         "Origin": "USA",
         "Weight_in_lbs": 2200,
         "Year": "1979-01-01"
        },
        {
         "Acceleration": 14.9,
         "Cylinders": 4,
         "Displacement": 105,
         "Horsepower": 70,
         "Miles_per_Gallon": 34.5,
         "Name": "plymouth horizon tc3",
         "Origin": "USA",
         "Weight_in_lbs": 2150,
         "Year": "1979-01-01"
        },
        {
         "Acceleration": 19.2,
         "Cylinders": 4,
         "Displacement": 85,
         "Horsepower": 65,
         "Miles_per_Gallon": 31.8,
         "Name": "datsun 210",
         "Origin": "Japan",
         "Weight_in_lbs": 2020,
         "Year": "1979-01-01"
        },
        {
         "Acceleration": 14.7,
         "Cylinders": 4,
         "Displacement": 91,
         "Horsepower": 69,
         "Miles_per_Gallon": 37.3,
         "Name": "fiat strada custom",
         "Origin": "Europe",
         "Weight_in_lbs": 2130,
         "Year": "1979-01-01"
        },
        {
         "Acceleration": 16,
         "Cylinders": 4,
         "Displacement": 151,
         "Horsepower": 90,
         "Miles_per_Gallon": 28.4,
         "Name": "buick skylark limited",
         "Origin": "USA",
         "Weight_in_lbs": 2670,
         "Year": "1979-01-01"
        },
        {
         "Acceleration": 11.3,
         "Cylinders": 6,
         "Displacement": 173,
         "Horsepower": 115,
         "Miles_per_Gallon": 28.8,
         "Name": "chevrolet citation",
         "Origin": "USA",
         "Weight_in_lbs": 2595,
         "Year": "1979-01-01"
        },
        {
         "Acceleration": 12.9,
         "Cylinders": 6,
         "Displacement": 173,
         "Horsepower": 115,
         "Miles_per_Gallon": 26.8,
         "Name": "oldsmobile omega brougham",
         "Origin": "USA",
         "Weight_in_lbs": 2700,
         "Year": "1979-01-01"
        },
        {
         "Acceleration": 13.2,
         "Cylinders": 4,
         "Displacement": 151,
         "Horsepower": 90,
         "Miles_per_Gallon": 33.5,
         "Name": "pontiac phoenix",
         "Origin": "USA",
         "Weight_in_lbs": 2556,
         "Year": "1979-01-01"
        },
        {
         "Acceleration": 14.7,
         "Cylinders": 4,
         "Displacement": 98,
         "Horsepower": 76,
         "Miles_per_Gallon": 41.5,
         "Name": "vw rabbit",
         "Origin": "Europe",
         "Weight_in_lbs": 2144,
         "Year": "1980-01-01"
        },
        {
         "Acceleration": 18.8,
         "Cylinders": 4,
         "Displacement": 89,
         "Horsepower": 60,
         "Miles_per_Gallon": 38.1,
         "Name": "toyota corolla tercel",
         "Origin": "Japan",
         "Weight_in_lbs": 1968,
         "Year": "1980-01-01"
        },
        {
         "Acceleration": 15.5,
         "Cylinders": 4,
         "Displacement": 98,
         "Horsepower": 70,
         "Miles_per_Gallon": 32.1,
         "Name": "chevrolet chevette",
         "Origin": "USA",
         "Weight_in_lbs": 2120,
         "Year": "1980-01-01"
        },
        {
         "Acceleration": 16.4,
         "Cylinders": 4,
         "Displacement": 86,
         "Horsepower": 65,
         "Miles_per_Gallon": 37.2,
         "Name": "datsun 310",
         "Origin": "Japan",
         "Weight_in_lbs": 2019,
         "Year": "1980-01-01"
        },
        {
         "Acceleration": 16.5,
         "Cylinders": 4,
         "Displacement": 151,
         "Horsepower": 90,
         "Miles_per_Gallon": 28,
         "Name": "chevrolet citation",
         "Origin": "USA",
         "Weight_in_lbs": 2678,
         "Year": "1980-01-01"
        },
        {
         "Acceleration": 18.1,
         "Cylinders": 4,
         "Displacement": 140,
         "Horsepower": 88,
         "Miles_per_Gallon": 26.4,
         "Name": "ford fairmont",
         "Origin": "USA",
         "Weight_in_lbs": 2870,
         "Year": "1980-01-01"
        },
        {
         "Acceleration": 20.1,
         "Cylinders": 4,
         "Displacement": 151,
         "Horsepower": 90,
         "Miles_per_Gallon": 24.3,
         "Name": "amc concord",
         "Origin": "USA",
         "Weight_in_lbs": 3003,
         "Year": "1980-01-01"
        },
        {
         "Acceleration": 18.7,
         "Cylinders": 6,
         "Displacement": 225,
         "Horsepower": 90,
         "Miles_per_Gallon": 19.1,
         "Name": "dodge aspen",
         "Origin": "USA",
         "Weight_in_lbs": 3381,
         "Year": "1980-01-01"
        },
        {
         "Acceleration": 15.8,
         "Cylinders": 4,
         "Displacement": 97,
         "Horsepower": 78,
         "Miles_per_Gallon": 34.3,
         "Name": "audi 4000",
         "Origin": "Europe",
         "Weight_in_lbs": 2188,
         "Year": "1980-01-01"
        },
        {
         "Acceleration": 15.5,
         "Cylinders": 4,
         "Displacement": 134,
         "Horsepower": 90,
         "Miles_per_Gallon": 29.8,
         "Name": "toyota corona liftback",
         "Origin": "Japan",
         "Weight_in_lbs": 2711,
         "Year": "1980-01-01"
        },
        {
         "Acceleration": 17.5,
         "Cylinders": 4,
         "Displacement": 120,
         "Horsepower": 75,
         "Miles_per_Gallon": 31.3,
         "Name": "mazda 626",
         "Origin": "Japan",
         "Weight_in_lbs": 2542,
         "Year": "1980-01-01"
        },
        {
         "Acceleration": 15,
         "Cylinders": 4,
         "Displacement": 119,
         "Horsepower": 92,
         "Miles_per_Gallon": 37,
         "Name": "datsun 510 hatchback",
         "Origin": "Japan",
         "Weight_in_lbs": 2434,
         "Year": "1980-01-01"
        },
        {
         "Acceleration": 15.2,
         "Cylinders": 4,
         "Displacement": 108,
         "Horsepower": 75,
         "Miles_per_Gallon": 32.2,
         "Name": "toyota corolla",
         "Origin": "Japan",
         "Weight_in_lbs": 2265,
         "Year": "1980-01-01"
        },
        {
         "Acceleration": 17.9,
         "Cylinders": 4,
         "Displacement": 86,
         "Horsepower": 65,
         "Miles_per_Gallon": 46.6,
         "Name": "mazda glc",
         "Origin": "Japan",
         "Weight_in_lbs": 2110,
         "Year": "1980-01-01"
        },
        {
         "Acceleration": 14.4,
         "Cylinders": 4,
         "Displacement": 156,
         "Horsepower": 105,
         "Miles_per_Gallon": 27.9,
         "Name": "dodge colt",
         "Origin": "USA",
         "Weight_in_lbs": 2800,
         "Year": "1980-01-01"
        },
        {
         "Acceleration": 19.2,
         "Cylinders": 4,
         "Displacement": 85,
         "Horsepower": 65,
         "Miles_per_Gallon": 40.8,
         "Name": "datsun 210",
         "Origin": "Japan",
         "Weight_in_lbs": 2110,
         "Year": "1980-01-01"
        },
        {
         "Acceleration": 21.7,
         "Cylinders": 4,
         "Displacement": 90,
         "Horsepower": 48,
         "Miles_per_Gallon": 44.3,
         "Name": "vw rabbit c (diesel)",
         "Origin": "Europe",
         "Weight_in_lbs": 2085,
         "Year": "1980-01-01"
        },
        {
         "Acceleration": 23.7,
         "Cylinders": 4,
         "Displacement": 90,
         "Horsepower": 48,
         "Miles_per_Gallon": 43.4,
         "Name": "vw dasher (diesel)",
         "Origin": "Europe",
         "Weight_in_lbs": 2335,
         "Year": "1980-01-01"
        },
        {
         "Acceleration": 19.9,
         "Cylinders": 5,
         "Displacement": 121,
         "Horsepower": 67,
         "Miles_per_Gallon": 36.4,
         "Name": "audi 5000s (diesel)",
         "Origin": "Europe",
         "Weight_in_lbs": 2950,
         "Year": "1980-01-01"
        },
        {
         "Acceleration": 21.8,
         "Cylinders": 4,
         "Displacement": 146,
         "Horsepower": 67,
         "Miles_per_Gallon": 30,
         "Name": "mercedes-benz 240d",
         "Origin": "Europe",
         "Weight_in_lbs": 3250,
         "Year": "1980-01-01"
        },
        {
         "Acceleration": 13.8,
         "Cylinders": 4,
         "Displacement": 91,
         "Horsepower": 67,
         "Miles_per_Gallon": 44.6,
         "Name": "honda civic 1500 gl",
         "Origin": "Japan",
         "Weight_in_lbs": 1850,
         "Year": "1980-01-01"
        },
        {
         "Acceleration": 17.3,
         "Cylinders": 4,
         "Displacement": 85,
         "Horsepower": null,
         "Miles_per_Gallon": 40.9,
         "Name": "renault lecar deluxe",
         "Origin": "Europe",
         "Weight_in_lbs": 1835,
         "Year": "1980-01-01"
        },
        {
         "Acceleration": 18,
         "Cylinders": 4,
         "Displacement": 97,
         "Horsepower": 67,
         "Miles_per_Gallon": 33.8,
         "Name": "subaru dl",
         "Origin": "Japan",
         "Weight_in_lbs": 2145,
         "Year": "1980-01-01"
        },
        {
         "Acceleration": 15.3,
         "Cylinders": 4,
         "Displacement": 89,
         "Horsepower": 62,
         "Miles_per_Gallon": 29.8,
         "Name": "vokswagen rabbit",
         "Origin": "Europe",
         "Weight_in_lbs": 1845,
         "Year": "1980-01-01"
        },
        {
         "Acceleration": 11.4,
         "Cylinders": 6,
         "Displacement": 168,
         "Horsepower": 132,
         "Miles_per_Gallon": 32.7,
         "Name": "datsun 280-zx",
         "Origin": "Japan",
         "Weight_in_lbs": 2910,
         "Year": "1980-01-01"
        },
        {
         "Acceleration": 12.5,
         "Cylinders": 3,
         "Displacement": 70,
         "Horsepower": 100,
         "Miles_per_Gallon": 23.7,
         "Name": "mazda rx-7 gs",
         "Origin": "Japan",
         "Weight_in_lbs": 2420,
         "Year": "1980-01-01"
        },
        {
         "Acceleration": 15.1,
         "Cylinders": 4,
         "Displacement": 122,
         "Horsepower": 88,
         "Miles_per_Gallon": 35,
         "Name": "triumph tr7 coupe",
         "Origin": "Europe",
         "Weight_in_lbs": 2500,
         "Year": "1980-01-01"
        },
        {
         "Acceleration": 14.3,
         "Cylinders": 4,
         "Displacement": 140,
         "Horsepower": null,
         "Miles_per_Gallon": 23.6,
         "Name": "ford mustang cobra",
         "Origin": "USA",
         "Weight_in_lbs": 2905,
         "Year": "1980-01-01"
        },
        {
         "Acceleration": 17,
         "Cylinders": 4,
         "Displacement": 107,
         "Horsepower": 72,
         "Miles_per_Gallon": 32.4,
         "Name": "honda Accelerationord",
         "Origin": "Japan",
         "Weight_in_lbs": 2290,
         "Year": "1980-01-01"
        },
        {
         "Acceleration": 15.7,
         "Cylinders": 4,
         "Displacement": 135,
         "Horsepower": 84,
         "Miles_per_Gallon": 27.2,
         "Name": "plymouth reliant",
         "Origin": "USA",
         "Weight_in_lbs": 2490,
         "Year": "1982-01-01"
        },
        {
         "Acceleration": 16.4,
         "Cylinders": 4,
         "Displacement": 151,
         "Horsepower": 84,
         "Miles_per_Gallon": 26.6,
         "Name": "buick skylark",
         "Origin": "USA",
         "Weight_in_lbs": 2635,
         "Year": "1982-01-01"
        },
        {
         "Acceleration": 14.4,
         "Cylinders": 4,
         "Displacement": 156,
         "Horsepower": 92,
         "Miles_per_Gallon": 25.8,
         "Name": "dodge aries wagon (sw)",
         "Origin": "USA",
         "Weight_in_lbs": 2620,
         "Year": "1982-01-01"
        },
        {
         "Acceleration": 12.6,
         "Cylinders": 6,
         "Displacement": 173,
         "Horsepower": 110,
         "Miles_per_Gallon": 23.5,
         "Name": "chevrolet citation",
         "Origin": "USA",
         "Weight_in_lbs": 2725,
         "Year": "1982-01-01"
        },
        {
         "Acceleration": 12.9,
         "Cylinders": 4,
         "Displacement": 135,
         "Horsepower": 84,
         "Miles_per_Gallon": 30,
         "Name": "plymouth reliant",
         "Origin": "USA",
         "Weight_in_lbs": 2385,
         "Year": "1982-01-01"
        },
        {
         "Acceleration": 16.9,
         "Cylinders": 4,
         "Displacement": 79,
         "Horsepower": 58,
         "Miles_per_Gallon": 39.1,
         "Name": "toyota starlet",
         "Origin": "Japan",
         "Weight_in_lbs": 1755,
         "Year": "1982-01-01"
        },
        {
         "Acceleration": 16.4,
         "Cylinders": 4,
         "Displacement": 86,
         "Horsepower": 64,
         "Miles_per_Gallon": 39,
         "Name": "plymouth champ",
         "Origin": "USA",
         "Weight_in_lbs": 1875,
         "Year": "1982-01-01"
        },
        {
         "Acceleration": 16.1,
         "Cylinders": 4,
         "Displacement": 81,
         "Horsepower": 60,
         "Miles_per_Gallon": 35.1,
         "Name": "honda civic 1300",
         "Origin": "Japan",
         "Weight_in_lbs": 1760,
         "Year": "1982-01-01"
        },
        {
         "Acceleration": 17.8,
         "Cylinders": 4,
         "Displacement": 97,
         "Horsepower": 67,
         "Miles_per_Gallon": 32.3,
         "Name": "subaru",
         "Origin": "Japan",
         "Weight_in_lbs": 2065,
         "Year": "1982-01-01"
        },
        {
         "Acceleration": 19.4,
         "Cylinders": 4,
         "Displacement": 85,
         "Horsepower": 65,
         "Miles_per_Gallon": 37,
         "Name": "datsun 210",
         "Origin": "Japan",
         "Weight_in_lbs": 1975,
         "Year": "1982-01-01"
        },
        {
         "Acceleration": 17.3,
         "Cylinders": 4,
         "Displacement": 89,
         "Horsepower": 62,
         "Miles_per_Gallon": 37.7,
         "Name": "toyota tercel",
         "Origin": "Japan",
         "Weight_in_lbs": 2050,
         "Year": "1982-01-01"
        },
        {
         "Acceleration": 16,
         "Cylinders": 4,
         "Displacement": 91,
         "Horsepower": 68,
         "Miles_per_Gallon": 34.1,
         "Name": "mazda glc 4",
         "Origin": "Japan",
         "Weight_in_lbs": 1985,
         "Year": "1982-01-01"
        },
        {
         "Acceleration": 14.9,
         "Cylinders": 4,
         "Displacement": 105,
         "Horsepower": 63,
         "Miles_per_Gallon": 34.7,
         "Name": "plymouth horizon 4",
         "Origin": "USA",
         "Weight_in_lbs": 2215,
         "Year": "1982-01-01"
        },
        {
         "Acceleration": 16.2,
         "Cylinders": 4,
         "Displacement": 98,
         "Horsepower": 65,
         "Miles_per_Gallon": 34.4,
         "Name": "ford escort 4w",
         "Origin": "USA",
         "Weight_in_lbs": 2045,
         "Year": "1982-01-01"
        },
        {
         "Acceleration": 20.7,
         "Cylinders": 4,
         "Displacement": 98,
         "Horsepower": 65,
         "Miles_per_Gallon": 29.9,
         "Name": "ford escort 2h",
         "Origin": "USA",
         "Weight_in_lbs": 2380,
         "Year": "1982-01-01"
        },
        {
         "Acceleration": 14.2,
         "Cylinders": 4,
         "Displacement": 105,
         "Horsepower": 74,
         "Miles_per_Gallon": 33,
         "Name": "volkswagen jetta",
         "Origin": "Europe",
         "Weight_in_lbs": 2190,
         "Year": "1982-01-01"
        },
        {
         "Acceleration": 15.8,
         "Cylinders": 4,
         "Displacement": 100,
         "Horsepower": null,
         "Miles_per_Gallon": 34.5,
         "Name": "renault 18i",
         "Origin": "Europe",
         "Weight_in_lbs": 2320,
         "Year": "1982-01-01"
        },
        {
         "Acceleration": 14.4,
         "Cylinders": 4,
         "Displacement": 107,
         "Horsepower": 75,
         "Miles_per_Gallon": 33.7,
         "Name": "honda prelude",
         "Origin": "Japan",
         "Weight_in_lbs": 2210,
         "Year": "1982-01-01"
        },
        {
         "Acceleration": 16.8,
         "Cylinders": 4,
         "Displacement": 108,
         "Horsepower": 75,
         "Miles_per_Gallon": 32.4,
         "Name": "toyota corolla",
         "Origin": "Japan",
         "Weight_in_lbs": 2350,
         "Year": "1982-01-01"
        },
        {
         "Acceleration": 14.8,
         "Cylinders": 4,
         "Displacement": 119,
         "Horsepower": 100,
         "Miles_per_Gallon": 32.9,
         "Name": "datsun 200sx",
         "Origin": "Japan",
         "Weight_in_lbs": 2615,
         "Year": "1982-01-01"
        },
        {
         "Acceleration": 18.3,
         "Cylinders": 4,
         "Displacement": 120,
         "Horsepower": 74,
         "Miles_per_Gallon": 31.6,
         "Name": "mazda 626",
         "Origin": "Japan",
         "Weight_in_lbs": 2635,
         "Year": "1982-01-01"
        },
        {
         "Acceleration": 20.4,
         "Cylinders": 4,
         "Displacement": 141,
         "Horsepower": 80,
         "Miles_per_Gallon": 28.1,
         "Name": "peugeot 505s turbo diesel",
         "Origin": "Europe",
         "Weight_in_lbs": 3230,
         "Year": "1982-01-01"
        },
        {
         "Acceleration": 15.4,
         "Cylinders": 4,
         "Displacement": 121,
         "Horsepower": 110,
         "Miles_per_Gallon": null,
         "Name": "saab 900s",
         "Origin": "Europe",
         "Weight_in_lbs": 2800,
         "Year": "1982-01-01"
        },
        {
         "Acceleration": 19.6,
         "Cylinders": 6,
         "Displacement": 145,
         "Horsepower": 76,
         "Miles_per_Gallon": 30.7,
         "Name": "volvo diesel",
         "Origin": "Europe",
         "Weight_in_lbs": 3160,
         "Year": "1982-01-01"
        },
        {
         "Acceleration": 12.6,
         "Cylinders": 6,
         "Displacement": 168,
         "Horsepower": 116,
         "Miles_per_Gallon": 25.4,
         "Name": "toyota cressida",
         "Origin": "Japan",
         "Weight_in_lbs": 2900,
         "Year": "1982-01-01"
        },
        {
         "Acceleration": 13.8,
         "Cylinders": 6,
         "Displacement": 146,
         "Horsepower": 120,
         "Miles_per_Gallon": 24.2,
         "Name": "datsun 810 maxima",
         "Origin": "Japan",
         "Weight_in_lbs": 2930,
         "Year": "1982-01-01"
        },
        {
         "Acceleration": 15.8,
         "Cylinders": 6,
         "Displacement": 231,
         "Horsepower": 110,
         "Miles_per_Gallon": 22.4,
         "Name": "buick century",
         "Origin": "USA",
         "Weight_in_lbs": 3415,
         "Year": "1982-01-01"
        },
        {
         "Acceleration": 19,
         "Cylinders": 8,
         "Displacement": 350,
         "Horsepower": 105,
         "Miles_per_Gallon": 26.6,
         "Name": "oldsmobile cutlass ls",
         "Origin": "USA",
         "Weight_in_lbs": 3725,
         "Year": "1982-01-01"
        },
        {
         "Acceleration": 17.1,
         "Cylinders": 6,
         "Displacement": 200,
         "Horsepower": 88,
         "Miles_per_Gallon": 20.2,
         "Name": "ford granada gl",
         "Origin": "USA",
         "Weight_in_lbs": 3060,
         "Year": "1982-01-01"
        },
        {
         "Acceleration": 16.6,
         "Cylinders": 6,
         "Displacement": 225,
         "Horsepower": 85,
         "Miles_per_Gallon": 17.6,
         "Name": "chrysler lebaron salon",
         "Origin": "USA",
         "Weight_in_lbs": 3465,
         "Year": "1982-01-01"
        },
        {
         "Acceleration": 19.6,
         "Cylinders": 4,
         "Displacement": 112,
         "Horsepower": 88,
         "Miles_per_Gallon": 28,
         "Name": "chevrolet cavalier",
         "Origin": "USA",
         "Weight_in_lbs": 2605,
         "Year": "1982-01-01"
        },
        {
         "Acceleration": 18.6,
         "Cylinders": 4,
         "Displacement": 112,
         "Horsepower": 88,
         "Miles_per_Gallon": 27,
         "Name": "chevrolet cavalier wagon",
         "Origin": "USA",
         "Weight_in_lbs": 2640,
         "Year": "1982-01-01"
        },
        {
         "Acceleration": 18,
         "Cylinders": 4,
         "Displacement": 112,
         "Horsepower": 88,
         "Miles_per_Gallon": 34,
         "Name": "chevrolet cavalier 2-door",
         "Origin": "USA",
         "Weight_in_lbs": 2395,
         "Year": "1982-01-01"
        },
        {
         "Acceleration": 16.2,
         "Cylinders": 4,
         "Displacement": 112,
         "Horsepower": 85,
         "Miles_per_Gallon": 31,
         "Name": "pontiac j2000 se hatchback",
         "Origin": "USA",
         "Weight_in_lbs": 2575,
         "Year": "1982-01-01"
        },
        {
         "Acceleration": 16,
         "Cylinders": 4,
         "Displacement": 135,
         "Horsepower": 84,
         "Miles_per_Gallon": 29,
         "Name": "dodge aries se",
         "Origin": "USA",
         "Weight_in_lbs": 2525,
         "Year": "1982-01-01"
        },
        {
         "Acceleration": 18,
         "Cylinders": 4,
         "Displacement": 151,
         "Horsepower": 90,
         "Miles_per_Gallon": 27,
         "Name": "pontiac phoenix",
         "Origin": "USA",
         "Weight_in_lbs": 2735,
         "Year": "1982-01-01"
        },
        {
         "Acceleration": 16.4,
         "Cylinders": 4,
         "Displacement": 140,
         "Horsepower": 92,
         "Miles_per_Gallon": 24,
         "Name": "ford fairmont futura",
         "Origin": "USA",
         "Weight_in_lbs": 2865,
         "Year": "1982-01-01"
        },
        {
         "Acceleration": 20.5,
         "Cylinders": 4,
         "Displacement": 151,
         "Horsepower": null,
         "Miles_per_Gallon": 23,
         "Name": "amc concord dl",
         "Origin": "USA",
         "Weight_in_lbs": 3035,
         "Year": "1982-01-01"
        },
        {
         "Acceleration": 15.3,
         "Cylinders": 4,
         "Displacement": 105,
         "Horsepower": 74,
         "Miles_per_Gallon": 36,
         "Name": "volkswagen rabbit l",
         "Origin": "Europe",
         "Weight_in_lbs": 1980,
         "Year": "1982-01-01"
        },
        {
         "Acceleration": 18.2,
         "Cylinders": 4,
         "Displacement": 91,
         "Horsepower": 68,
         "Miles_per_Gallon": 37,
         "Name": "mazda glc custom l",
         "Origin": "Japan",
         "Weight_in_lbs": 2025,
         "Year": "1982-01-01"
        },
        {
         "Acceleration": 17.6,
         "Cylinders": 4,
         "Displacement": 91,
         "Horsepower": 68,
         "Miles_per_Gallon": 31,
         "Name": "mazda glc custom",
         "Origin": "Japan",
         "Weight_in_lbs": 1970,
         "Year": "1982-01-01"
        },
        {
         "Acceleration": 14.7,
         "Cylinders": 4,
         "Displacement": 105,
         "Horsepower": 63,
         "Miles_per_Gallon": 38,
         "Name": "plymouth horizon miser",
         "Origin": "USA",
         "Weight_in_lbs": 2125,
         "Year": "1982-01-01"
        },
        {
         "Acceleration": 17.3,
         "Cylinders": 4,
         "Displacement": 98,
         "Horsepower": 70,
         "Miles_per_Gallon": 36,
         "Name": "mercury lynx l",
         "Origin": "USA",
         "Weight_in_lbs": 2125,
         "Year": "1982-01-01"
        },
        {
         "Acceleration": 14.5,
         "Cylinders": 4,
         "Displacement": 120,
         "Horsepower": 88,
         "Miles_per_Gallon": 36,
         "Name": "nissan stanza xe",
         "Origin": "Japan",
         "Weight_in_lbs": 2160,
         "Year": "1982-01-01"
        },
        {
         "Acceleration": 14.5,
         "Cylinders": 4,
         "Displacement": 107,
         "Horsepower": 75,
         "Miles_per_Gallon": 36,
         "Name": "honda Accelerationord",
         "Origin": "Japan",
         "Weight_in_lbs": 2205,
         "Year": "1982-01-01"
        },
        {
         "Acceleration": 16.9,
         "Cylinders": 4,
         "Displacement": 108,
         "Horsepower": 70,
         "Miles_per_Gallon": 34,
         "Name": "toyota corolla",
         "Origin": "Japan",
         "Weight_in_lbs": 2245,
         "Year": "1982-01-01"
        },
        {
         "Acceleration": 15,
         "Cylinders": 4,
         "Displacement": 91,
         "Horsepower": 67,
         "Miles_per_Gallon": 38,
         "Name": "honda civic",
         "Origin": "Japan",
         "Weight_in_lbs": 1965,
         "Year": "1982-01-01"
        },
        {
         "Acceleration": 15.7,
         "Cylinders": 4,
         "Displacement": 91,
         "Horsepower": 67,
         "Miles_per_Gallon": 32,
         "Name": "honda civic (auto)",
         "Origin": "Japan",
         "Weight_in_lbs": 1965,
         "Year": "1982-01-01"
        },
        {
         "Acceleration": 16.2,
         "Cylinders": 4,
         "Displacement": 91,
         "Horsepower": 67,
         "Miles_per_Gallon": 38,
         "Name": "datsun 310 gx",
         "Origin": "Japan",
         "Weight_in_lbs": 1995,
         "Year": "1982-01-01"
        },
        {
         "Acceleration": 16.4,
         "Cylinders": 6,
         "Displacement": 181,
         "Horsepower": 110,
         "Miles_per_Gallon": 25,
         "Name": "buick century limited",
         "Origin": "USA",
         "Weight_in_lbs": 2945,
         "Year": "1982-01-01"
        },
        {
         "Acceleration": 17,
         "Cylinders": 6,
         "Displacement": 262,
         "Horsepower": 85,
         "Miles_per_Gallon": 38,
         "Name": "oldsmobile cutlass ciera (diesel)",
         "Origin": "USA",
         "Weight_in_lbs": 3015,
         "Year": "1982-01-01"
        },
        {
         "Acceleration": 14.5,
         "Cylinders": 4,
         "Displacement": 156,
         "Horsepower": 92,
         "Miles_per_Gallon": 26,
         "Name": "chrysler lebaron medallion",
         "Origin": "USA",
         "Weight_in_lbs": 2585,
         "Year": "1982-01-01"
        },
        {
         "Acceleration": 14.7,
         "Cylinders": 6,
         "Displacement": 232,
         "Horsepower": 112,
         "Miles_per_Gallon": 22,
         "Name": "ford granada l",
         "Origin": "USA",
         "Weight_in_lbs": 2835,
         "Year": "1982-01-01"
        },
        {
         "Acceleration": 13.9,
         "Cylinders": 4,
         "Displacement": 144,
         "Horsepower": 96,
         "Miles_per_Gallon": 32,
         "Name": "toyota celica gt",
         "Origin": "Japan",
         "Weight_in_lbs": 2665,
         "Year": "1982-01-01"
        },
        {
         "Acceleration": 13,
         "Cylinders": 4,
         "Displacement": 135,
         "Horsepower": 84,
         "Miles_per_Gallon": 36,
         "Name": "dodge charger 2.2",
         "Origin": "USA",
         "Weight_in_lbs": 2370,
         "Year": "1982-01-01"
        },
        {
         "Acceleration": 17.3,
         "Cylinders": 4,
         "Displacement": 151,
         "Horsepower": 90,
         "Miles_per_Gallon": 27,
         "Name": "chevrolet camaro",
         "Origin": "USA",
         "Weight_in_lbs": 2950,
         "Year": "1982-01-01"
        },
        {
         "Acceleration": 15.6,
         "Cylinders": 4,
         "Displacement": 140,
         "Horsepower": 86,
         "Miles_per_Gallon": 27,
         "Name": "ford mustang gl",
         "Origin": "USA",
         "Weight_in_lbs": 2790,
         "Year": "1982-01-01"
        },
        {
         "Acceleration": 24.6,
         "Cylinders": 4,
         "Displacement": 97,
         "Horsepower": 52,
         "Miles_per_Gallon": 44,
         "Name": "vw pickup",
         "Origin": "Europe",
         "Weight_in_lbs": 2130,
         "Year": "1982-01-01"
        },
        {
         "Acceleration": 11.6,
         "Cylinders": 4,
         "Displacement": 135,
         "Horsepower": 84,
         "Miles_per_Gallon": 32,
         "Name": "dodge rampage",
         "Origin": "USA",
         "Weight_in_lbs": 2295,
         "Year": "1982-01-01"
        },
        {
         "Acceleration": 18.6,
         "Cylinders": 4,
         "Displacement": 120,
         "Horsepower": 79,
         "Miles_per_Gallon": 28,
         "Name": "ford ranger",
         "Origin": "USA",
         "Weight_in_lbs": 2625,
         "Year": "1982-01-01"
        },
        {
         "Acceleration": 19.4,
         "Cylinders": 4,
         "Displacement": 119,
         "Horsepower": 82,
         "Miles_per_Gallon": 31,
         "Name": "chevy s-10",
         "Origin": "USA",
         "Weight_in_lbs": 2720,
         "Year": "1982-01-01"
        }
       ],
       "schema": {
        "fields": [
         {
          "name": "Name",
          "type": "string"
         },
         {
          "name": "Miles_per_Gallon",
          "type": "number"
         },
         {
          "name": "Cylinders",
          "type": "integer"
         },
         {
          "name": "Displacement",
          "type": "number"
         },
         {
          "name": "Horsepower",
          "type": "integer"
         },
         {
          "name": "Weight_in_lbs",
          "type": "integer"
         },
         {
          "name": "Acceleration",
          "type": "number"
         },
         {
          "name": "Year",
          "type": "string"
         },
         {
          "name": "Origin",
          "type": "string"
         }
        ]
       }
      },
      "text/html": [
       "<table><thead><tr><th>Name</th><th>Miles_per_Gallon</th><th>Cylinders</th><th>Displacement</th><th>Horsepower</th><th>Weight_in_lbs</th><th>Acceleration</th><th>Year</th><th>Origin</th></tr></thead><tbody><tr><td>&quot;chevrolet chevelle malibu&quot;</td><td>18.0</td><td>8</td><td>307.0</td><td>130</td><td>3504</td><td>12.0</td><td>&quot;1970-01-01&quot;</td><td>&quot;USA&quot;</td></tr><tr><td>&quot;buick skylark 320&quot;</td><td>15.0</td><td>8</td><td>350.0</td><td>165</td><td>3693</td><td>11.5</td><td>&quot;1970-01-01&quot;</td><td>&quot;USA&quot;</td></tr><tr><td>&quot;plymouth satellite&quot;</td><td>18.0</td><td>8</td><td>318.0</td><td>150</td><td>3436</td><td>11.0</td><td>&quot;1970-01-01&quot;</td><td>&quot;USA&quot;</td></tr><tr><td>&quot;amc rebel sst&quot;</td><td>16.0</td><td>8</td><td>304.0</td><td>150</td><td>3433</td><td>12.0</td><td>&quot;1970-01-01&quot;</td><td>&quot;USA&quot;</td></tr><tr><td>&quot;ford torino&quot;</td><td>17.0</td><td>8</td><td>302.0</td><td>140</td><td>3449</td><td>10.5</td><td>&quot;1970-01-01&quot;</td><td>&quot;USA&quot;</td></tr><tr><td>&quot;ford galaxie 500&quot;</td><td>15.0</td><td>8</td><td>429.0</td><td>198</td><td>4341</td><td>10.0</td><td>&quot;1970-01-01&quot;</td><td>&quot;USA&quot;</td></tr><tr><td>&quot;chevrolet impala&quot;</td><td>14.0</td><td>8</td><td>454.0</td><td>220</td><td>4354</td><td>9.0</td><td>&quot;1970-01-01&quot;</td><td>&quot;USA&quot;</td></tr><tr><td>&quot;plymouth fury iii&quot;</td><td>14.0</td><td>8</td><td>440.0</td><td>215</td><td>4312</td><td>8.5</td><td>&quot;1970-01-01&quot;</td><td>&quot;USA&quot;</td></tr><tr><td>&quot;pontiac catalina&quot;</td><td>14.0</td><td>8</td><td>455.0</td><td>225</td><td>4425</td><td>10.0</td><td>&quot;1970-01-01&quot;</td><td>&quot;USA&quot;</td></tr><tr><td>&quot;amc ambassador dpl&quot;</td><td>15.0</td><td>8</td><td>390.0</td><td>190</td><td>3850</td><td>8.5</td><td>&quot;1970-01-01&quot;</td><td>&quot;USA&quot;</td></tr><tr><td>&vellip;</td><td>&vellip;</td><td>&vellip;</td><td>&vellip;</td><td>&vellip;</td><td>&vellip;</td><td>&vellip;</td><td>&vellip;</td><td>&vellip;</td></tr></tbody></table><p>... with 396 more rows.</p>"
      ],
      "text/plain": [
       "406x9 Vega dataset\n",
       "Name                      │ Miles_per_Gallon │ Cylinders │ Displacement\n",
       "──────────────────────────┼──────────────────┼───────────┼─────────────\n",
       "chevrolet chevelle malibu │ 18.0             │ 8         │ 307.0       \n",
       "buick skylark 320         │ 15.0             │ 8         │ 350.0       \n",
       "plymouth satellite        │ 18.0             │ 8         │ 318.0       \n",
       "amc rebel sst             │ 16.0             │ 8         │ 304.0       \n",
       "ford torino               │ 17.0             │ 8         │ 302.0       \n",
       "ford galaxie 500          │ 15.0             │ 8         │ 429.0       \n",
       "chevrolet impala          │ 14.0             │ 8         │ 454.0       \n",
       "plymouth fury iii         │ 14.0             │ 8         │ 440.0       \n",
       "pontiac catalina          │ 14.0             │ 8         │ 455.0       \n",
       "amc ambassador dpl        │ 15.0             │ 8         │ 390.0       \n",
       "... with 396 more rows, and 5 more columns: Horsepower, Weight_in_lbs, Acceleration, Year, Origin"
      ]
     },
     "execution_count": 2,
     "metadata": {},
     "output_type": "execute_result"
    }
   ],
   "source": [
    "using VegaDatasets\n",
    "df = dataset(\"cars\")"
   ]
  },
  {
   "cell_type": "code",
   "execution_count": 3,
   "metadata": {},
   "outputs": [
    {
     "ename": "LoadError",
     "evalue": "UndefVarError: @vl_str not defined",
     "output_type": "error",
     "traceback": [
      "UndefVarError: @vl_str not defined",
      ""
     ]
    }
   ],
   "source": [
    "df |> vl\"\"\"{\n",
    "  \"transform\": [{\"calculate\": \"year(datum.Year)\", \"as\": \"Year\"}],\n",
    "  \"layer\": [{\n",
    "    \"selection\": {\n",
    "      \"CylYr\": {\n",
    "        \"type\": \"single\", \"fields\": [\"Cylinders\", \"Year\"],\n",
    "        \"init\": {\"Cylinders\": 4, \"Year\": 1977},\n",
    "        \"bind\": {\n",
    "          \"Cylinders\": {\"input\": \"range\", \"min\": 3, \"max\": 8, \"step\": 1},\n",
    "          \"Year\": {\"input\": \"range\", \"min\": 1969, \"max\": 1981, \"step\": 1}\n",
    "        }\n",
    "      }\n",
    "    },\n",
    "    \"mark\": \"circle\",\n",
    "    \"encoding\": {\n",
    "      \"x\": {\"field\": \"Horsepower\", \"type\": \"quantitative\"},\n",
    "      \"y\": {\"field\": \"Miles_per_Gallon\", \"type\": \"quantitative\"},\n",
    "      \"color\": {\n",
    "        \"condition\": {\"selection\": \"CylYr\", \"field\": \"Origin\", \"type\": \"nominal\"},\n",
    "        \"value\": \"grey\"\n",
    "      }\n",
    "    }\n",
    "  }, {\n",
    "    \"transform\": [{\"filter\": {\"selection\": \"CylYr\"}}],\n",
    "    \"mark\": \"circle\",\n",
    "    \"encoding\": {\n",
    "      \"x\": {\"field\": \"Horsepower\", \"type\": \"quantitative\"},\n",
    "      \"y\": {\"field\": \"Miles_per_Gallon\", \"type\": \"quantitative\"},\n",
    "      \"color\": {\"field\": \"Origin\", \"type\": \"nominal\"},\n",
    "      \"size\": {\"value\": 100}\n",
    "    }\n",
    "  }]\n",
    "}\n",
    "\"\"\""
   ]
  },
  {
   "cell_type": "code",
   "execution_count": null,
   "metadata": {},
   "outputs": [],
   "source": []
  }
 ],
 "metadata": {
  "kernelspec": {
   "display_name": "Julia 1.0.5",
   "language": "julia",
   "name": "julia-1.0"
  },
  "language_info": {
   "file_extension": ".jl",
   "mimetype": "application/julia",
   "name": "julia",
   "version": "1.0.5"
  }
 },
 "nbformat": 4,
 "nbformat_minor": 4
}
