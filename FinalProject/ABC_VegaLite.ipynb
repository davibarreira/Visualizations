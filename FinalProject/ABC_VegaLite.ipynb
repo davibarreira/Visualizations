{
 "cells": [
  {
   "cell_type": "markdown",
   "metadata": {},
   "source": [
    "# Approximate Bayesian Computation"
   ]
  },
  {
   "cell_type": "code",
   "execution_count": 1,
   "metadata": {},
   "outputs": [
    {
     "data": {
      "text/plain": [
       "Plots.PyPlotBackend()"
      ]
     },
     "execution_count": 1,
     "metadata": {},
     "output_type": "execute_result"
    }
   ],
   "source": [
    "    using Distributions, StatsPlots, Plots, StatsBase, LinearAlgebra\n",
    "using LaTeXStrings\n",
    "using SymPy\n",
    "using VegaLite\n",
    "using DataFrames\n",
    "pyplot()"
   ]
  },
  {
   "cell_type": "code",
   "execution_count": 147,
   "metadata": {},
   "outputs": [],
   "source": [
    "n, x = 8, 6\n",
    "N = 1000\n",
    "\n",
    "# Sample θ' from prior π(θ)\n",
    "# Generate z from p(.|θ')\n",
    "theta_s = rand(Beta(1,1),N)\n",
    "z       = rand.(Binomial.(n,theta_s))\n",
    "theta_a = theta_s[z .== x];"
   ]
  },
  {
   "cell_type": "code",
   "execution_count": 148,
   "metadata": {},
   "outputs": [
    {
     "data": {
      "image/png": "[encoded data removed]"
     },
     "execution_count": 148,
     "metadata": {},
     "output_type": "execute_result"
    }
   ],
   "source": [
    "histogram(theta_a,normalize=true,alpha=0.5)\n",
    "plot!(Beta(x+1,n-x+1),label=L\"p(\\theta \\mid x)\")\n",
    "plot!(Beta(1,1), label =L\"\\pi(\\theta)\")"
   ]
  },
  {
   "cell_type": "code",
   "execution_count": 151,
   "metadata": {},
   "outputs": [],
   "source": [
    "cm = countmap(z)\n",
    "counter = zeros(length(cm))\n",
    "hdots = zeros(N)\n",
    "for (i,v) in enumerate(z)\n",
    "    counter[v+1]+=1\n",
    "    hdots[i] = counter[v+1]\n",
    "end\n",
    "\n",
    "\n",
    "df = DataFrame([z,hdots,theta_s,collect(1:length(z))]);"
   ]
  },
  {
   "cell_type": "code",
   "execution_count": 171,
   "metadata": {},
   "outputs": [
    {
     "data": {
      "application/vnd.vegalite.v3+json": {
       "data": {
        "values": [
         {
          "x1": 1,
          "x2": 1,
          "x3": 0.41039464198256,
          "x4": 1
         },
         {
          "x1": 1,
          "x2": 2,
          "x3": 0.035893958114488186,
          "x4": 2
         },
         {
          "x1": 2,
          "x2": 1,
          "x3": 0.23605120635800597,
          "x4": 3
         },
         {
          "x1": 5,
          "x2": 1,
          "x3": 0.5220802358892339,
          "x4": 4
         },
         {
          "x1": 4,
          "x2": 1,
          "x3": 0.3397386191210684,
          "x4": 5
         },
         {
          "x1": 6,
          "x2": 1,
          "x3": 0.6055513372757636,
          "x4": 6
         },
         {
          "x1": 7,
          "x2": 1,
          "x3": 0.9454554993167452,
          "x4": 7
         },
         {
          "x1": 5,
          "x2": 2,
          "x3": 0.31538759978719727,
          "x4": 8
         },
         {
          "x1": 8,
          "x2": 1,
          "x3": 0.7657173253075447,
          "x4": 9
         },
         {
          "x1": 0,
          "x2": 1,
          "x3": 0.3301561505917441,
          "x4": 10
         },
         {
          "x1": 3,
          "x2": 1,
          "x3": 0.4429212449360217,
          "x4": 11
         },
         {
          "x1": 7,
          "x2": 2,
          "x3": 0.871511649557838,
          "x4": 12
         },
         {
          "x1": 8,
          "x2": 2,
          "x3": 0.8969791400288285,
          "x4": 13
         },
         {
          "x1": 1,
          "x2": 3,
          "x3": 0.4137706943002067,
          "x4": 14
         },
         {
          "x1": 7,
          "x2": 3,
          "x3": 0.8484596098930685,
          "x4": 15
         },
         {
          "x1": 7,
          "x2": 4,
          "x3": 0.8004278655342186,
          "x4": 16
         },
         {
          "x1": 5,
          "x2": 3,
          "x3": 0.605354973387846,
          "x4": 17
         },
         {
          "x1": 1,
          "x2": 4,
          "x3": 0.08368592600187462,
          "x4": 18
         },
         {
          "x1": 4,
          "x2": 2,
          "x3": 0.49811916215671603,
          "x4": 19
         },
         {
          "x1": 8,
          "x2": 3,
          "x3": 0.8739592085713419,
          "x4": 20
         },
         {
          "x1": 1,
          "x2": 5,
          "x3": 0.3736664448881187,
          "x4": 21
         },
         {
          "x1": 4,
          "x2": 3,
          "x3": 0.6873834582721848,
          "x4": 22
         },
         {
          "x1": 3,
          "x2": 2,
          "x3": 0.4245856349498138,
          "x4": 23
         },
         {
          "x1": 2,
          "x2": 2,
          "x3": 0.23697411415711347,
          "x4": 24
         },
         {
          "x1": 0,
          "x2": 2,
          "x3": 0.046272449383808714,
          "x4": 25
         },
         {
          "x1": 1,
          "x2": 6,
          "x3": 0.02979471409111791,
          "x4": 26
         },
         {
          "x1": 7,
          "x2": 5,
          "x3": 0.6894107810051686,
          "x4": 27
         },
         {
          "x1": 5,
          "x2": 4,
          "x3": 0.32086307680982495,
          "x4": 28
         },
         {
          "x1": 6,
          "x2": 2,
          "x3": 0.8344593433328001,
          "x4": 29
         },
         {
          "x1": 2,
          "x2": 3,
          "x3": 0.3345547519653152,
          "x4": 30
         },
         {
          "x1": 8,
          "x2": 4,
          "x3": 0.9491854769853885,
          "x4": 31
         },
         {
          "x1": 3,
          "x2": 3,
          "x3": 0.3215930497461361,
          "x4": 32
         },
         {
          "x1": 8,
          "x2": 5,
          "x3": 0.9049577635993126,
          "x4": 33
         },
         {
          "x1": 5,
          "x2": 5,
          "x3": 0.6442465459019631,
          "x4": 34
         },
         {
          "x1": 2,
          "x2": 4,
          "x3": 0.597559804055801,
          "x4": 35
         },
         {
          "x1": 5,
          "x2": 6,
          "x3": 0.4568443565815918,
          "x4": 36
         },
         {
          "x1": 5,
          "x2": 7,
          "x3": 0.1347383032944244,
          "x4": 37
         },
         {
          "x1": 0,
          "x2": 3,
          "x3": 0.22373193758137447,
          "x4": 38
         },
         {
          "x1": 4,
          "x2": 4,
          "x3": 0.2335661275021885,
          "x4": 39
         },
         {
          "x1": 0,
          "x2": 4,
          "x3": 0.16690870875528285,
          "x4": 40
         },
         {
          "x1": 7,
          "x2": 6,
          "x3": 0.8428753715621453,
          "x4": 41
         },
         {
          "x1": 3,
          "x2": 4,
          "x3": 0.6532139836711581,
          "x4": 42
         },
         {
          "x1": 0,
          "x2": 5,
          "x3": 0.01729873830329999,
          "x4": 43
         },
         {
          "x1": 5,
          "x2": 8,
          "x3": 0.5547335472619639,
          "x4": 44
         },
         {
          "x1": 6,
          "x2": 3,
          "x3": 0.5292648629637304,
          "x4": 45
         },
         {
          "x1": 5,
          "x2": 9,
          "x3": 0.7557440510768301,
          "x4": 46
         },
         {
          "x1": 8,
          "x2": 6,
          "x3": 0.7897373291037815,
          "x4": 47
         },
         {
          "x1": 1,
          "x2": 7,
          "x3": 0.02756597690717197,
          "x4": 48
         },
         {
          "x1": 0,
          "x2": 6,
          "x3": 0.25668557170354506,
          "x4": 49
         },
         {
          "x1": 6,
          "x2": 4,
          "x3": 0.942375380264199,
          "x4": 50
         },
         {
          "x1": 4,
          "x2": 5,
          "x3": 0.47075393797307186,
          "x4": 51
         },
         {
          "x1": 0,
          "x2": 7,
          "x3": 0.1796517032774493,
          "x4": 52
         },
         {
          "x1": 8,
          "x2": 7,
          "x3": 0.9525534922378991,
          "x4": 53
         },
         {
          "x1": 4,
          "x2": 6,
          "x3": 0.596188265653336,
          "x4": 54
         },
         {
          "x1": 8,
          "x2": 8,
          "x3": 0.7992648937966151,
          "x4": 55
         },
         {
          "x1": 8,
          "x2": 9,
          "x3": 0.9608941619396658,
          "x4": 56
         },
         {
          "x1": 2,
          "x2": 5,
          "x3": 0.13130689045020127,
          "x4": 57
         },
         {
          "x1": 4,
          "x2": 7,
          "x3": 0.41447345044492834,
          "x4": 58
         },
         {
          "x1": 4,
          "x2": 8,
          "x3": 0.5546427977214173,
          "x4": 59
         },
         {
          "x1": 4,
          "x2": 9,
          "x3": 0.5161783820771342,
          "x4": 60
         },
         {
          "x1": 0,
          "x2": 8,
          "x3": 0.30135832557911024,
          "x4": 61
         },
         {
          "x1": 1,
          "x2": 8,
          "x3": 0.2018646806785006,
          "x4": 62
         },
         {
          "x1": 6,
          "x2": 5,
          "x3": 0.6160438639725087,
          "x4": 63
         },
         {
          "x1": 1,
          "x2": 9,
          "x3": 0.30529687233499253,
          "x4": 64
         },
         {
          "x1": 3,
          "x2": 5,
          "x3": 0.2888773184174057,
          "x4": 65
         },
         {
          "x1": 4,
          "x2": 10,
          "x3": 0.7284502702112867,
          "x4": 66
         },
         {
          "x1": 3,
          "x2": 6,
          "x3": 0.39276048712661116,
          "x4": 67
         },
         {
          "x1": 2,
          "x2": 6,
          "x3": 0.3817996930620232,
          "x4": 68
         },
         {
          "x1": 6,
          "x2": 6,
          "x3": 0.819258680230376,
          "x4": 69
         },
         {
          "x1": 7,
          "x2": 7,
          "x3": 0.9251208134390335,
          "x4": 70
         },
         {
          "x1": 2,
          "x2": 7,
          "x3": 0.34877561338658025,
          "x4": 71
         },
         {
          "x1": 1,
          "x2": 10,
          "x3": 0.06581484005067165,
          "x4": 72
         },
         {
          "x1": 8,
          "x2": 10,
          "x3": 0.8992307681212816,
          "x4": 73
         },
         {
          "x1": 5,
          "x2": 10,
          "x3": 0.9058710815059716,
          "x4": 74
         },
         {
          "x1": 8,
          "x2": 11,
          "x3": 0.5945851600389559,
          "x4": 75
         },
         {
          "x1": 6,
          "x2": 7,
          "x3": 0.7103029389704195,
          "x4": 76
         },
         {
          "x1": 5,
          "x2": 11,
          "x3": 0.40974435099673445,
          "x4": 77
         },
         {
          "x1": 5,
          "x2": 12,
          "x3": 0.8059132001224699,
          "x4": 78
         },
         {
          "x1": 3,
          "x2": 7,
          "x3": 0.2823740172464055,
          "x4": 79
         },
         {
          "x1": 6,
          "x2": 8,
          "x3": 0.805113560442386,
          "x4": 80
         },
         {
          "x1": 3,
          "x2": 8,
          "x3": 0.4143596660878268,
          "x4": 81
         },
         {
          "x1": 5,
          "x2": 13,
          "x3": 0.7012103321314658,
          "x4": 82
         },
         {
          "x1": 4,
          "x2": 11,
          "x3": 0.3643934288210039,
          "x4": 83
         },
         {
          "x1": 5,
          "x2": 14,
          "x3": 0.4711038308556843,
          "x4": 84
         },
         {
          "x1": 7,
          "x2": 8,
          "x3": 0.6947707025819058,
          "x4": 85
         },
         {
          "x1": 2,
          "x2": 8,
          "x3": 0.2529420995523982,
          "x4": 86
         },
         {
          "x1": 1,
          "x2": 11,
          "x3": 0.07300168405032595,
          "x4": 87
         },
         {
          "x1": 2,
          "x2": 9,
          "x3": 0.4149653419898082,
          "x4": 88
         },
         {
          "x1": 3,
          "x2": 9,
          "x3": 0.20020599736763656,
          "x4": 89
         },
         {
          "x1": 5,
          "x2": 15,
          "x3": 0.6128033970238317,
          "x4": 90
         },
         {
          "x1": 8,
          "x2": 12,
          "x3": 0.9811118128552813,
          "x4": 91
         },
         {
          "x1": 0,
          "x2": 9,
          "x3": 0.032301969796108526,
          "x4": 92
         },
         {
          "x1": 7,
          "x2": 9,
          "x3": 0.74015841439966,
          "x4": 93
         },
         {
          "x1": 5,
          "x2": 16,
          "x3": 0.707284644610676,
          "x4": 94
         },
         {
          "x1": 4,
          "x2": 12,
          "x3": 0.5648857222861977,
          "x4": 95
         },
         {
          "x1": 5,
          "x2": 17,
          "x3": 0.6216583202893811,
          "x4": 96
         },
         {
          "x1": 7,
          "x2": 10,
          "x3": 0.5123104912254016,
          "x4": 97
         },
         {
          "x1": 5,
          "x2": 18,
          "x3": 0.645601333463134,
          "x4": 98
         },
         {
          "x1": 1,
          "x2": 12,
          "x3": 0.13330317070479167,
          "x4": 99
         },
         {
          "x1": 1,
          "x2": 13,
          "x3": 0.20424888653234335,
          "x4": 100
         },
         {
          "x1": 5,
          "x2": 19,
          "x3": 0.774215035781151,
          "x4": 101
         },
         {
          "x1": 2,
          "x2": 10,
          "x3": 0.25690822829481985,
          "x4": 102
         },
         {
          "x1": 7,
          "x2": 11,
          "x3": 0.8844545378176571,
          "x4": 103
         },
         {
          "x1": 7,
          "x2": 12,
          "x3": 0.6912562493973075,
          "x4": 104
         },
         {
          "x1": 1,
          "x2": 14,
          "x3": 0.15038984627781143,
          "x4": 105
         },
         {
          "x1": 7,
          "x2": 13,
          "x3": 0.735578463417631,
          "x4": 106
         },
         {
          "x1": 5,
          "x2": 20,
          "x3": 0.5590264109801079,
          "x4": 107
         },
         {
          "x1": 2,
          "x2": 11,
          "x3": 0.20728008411022997,
          "x4": 108
         },
         {
          "x1": 7,
          "x2": 14,
          "x3": 0.7553247420609079,
          "x4": 109
         },
         {
          "x1": 7,
          "x2": 15,
          "x3": 0.8281660507111647,
          "x4": 110
         },
         {
          "x1": 4,
          "x2": 13,
          "x3": 0.6908142745809837,
          "x4": 111
         },
         {
          "x1": 7,
          "x2": 16,
          "x3": 0.5957137437116284,
          "x4": 112
         },
         {
          "x1": 0,
          "x2": 10,
          "x3": 0.01434953562590231,
          "x4": 113
         },
         {
          "x1": 3,
          "x2": 10,
          "x3": 0.4442076283513998,
          "x4": 114
         },
         {
          "x1": 1,
          "x2": 15,
          "x3": 0.03229940092463927,
          "x4": 115
         },
         {
          "x1": 5,
          "x2": 21,
          "x3": 0.7562400342695882,
          "x4": 116
         },
         {
          "x1": 6,
          "x2": 9,
          "x3": 0.682486317744169,
          "x4": 117
         },
         {
          "x1": 8,
          "x2": 13,
          "x3": 0.9660813337277309,
          "x4": 118
         },
         {
          "x1": 8,
          "x2": 14,
          "x3": 0.9079423057090084,
          "x4": 119
         },
         {
          "x1": 5,
          "x2": 22,
          "x3": 0.5823016489363586,
          "x4": 120
         },
         {
          "x1": 1,
          "x2": 16,
          "x3": 0.26902515752590966,
          "x4": 121
         },
         {
          "x1": 0,
          "x2": 11,
          "x3": 0.11711390983280226,
          "x4": 122
         },
         {
          "x1": 1,
          "x2": 17,
          "x3": 0.1826906334049908,
          "x4": 123
         },
         {
          "x1": 6,
          "x2": 10,
          "x3": 0.6980903156753404,
          "x4": 124
         },
         {
          "x1": 7,
          "x2": 17,
          "x3": 0.9103534245294342,
          "x4": 125
         },
         {
          "x1": 2,
          "x2": 12,
          "x3": 0.3432626000527763,
          "x4": 126
         },
         {
          "x1": 6,
          "x2": 11,
          "x3": 0.8032692972987203,
          "x4": 127
         },
         {
          "x1": 8,
          "x2": 15,
          "x3": 0.8117635528746473,
          "x4": 128
         },
         {
          "x1": 6,
          "x2": 12,
          "x3": 0.5977630582242143,
          "x4": 129
         },
         {
          "x1": 1,
          "x2": 18,
          "x3": 0.4195066550587791,
          "x4": 130
         },
         {
          "x1": 5,
          "x2": 23,
          "x3": 0.8061283960640344,
          "x4": 131
         },
         {
          "x1": 4,
          "x2": 14,
          "x3": 0.7005960858498871,
          "x4": 132
         },
         {
          "x1": 3,
          "x2": 11,
          "x3": 0.5002171558026792,
          "x4": 133
         },
         {
          "x1": 1,
          "x2": 19,
          "x3": 0.0996602864777919,
          "x4": 134
         },
         {
          "x1": 1,
          "x2": 20,
          "x3": 0.0399290834759932,
          "x4": 135
         },
         {
          "x1": 8,
          "x2": 16,
          "x3": 0.9650167363612231,
          "x4": 136
         },
         {
          "x1": 0,
          "x2": 12,
          "x3": 0.34264514899176685,
          "x4": 137
         },
         {
          "x1": 6,
          "x2": 13,
          "x3": 0.8424410142608707,
          "x4": 138
         },
         {
          "x1": 1,
          "x2": 21,
          "x3": 0.07273517644260703,
          "x4": 139
         },
         {
          "x1": 2,
          "x2": 13,
          "x3": 0.3207919321964463,
          "x4": 140
         },
         {
          "x1": 3,
          "x2": 12,
          "x3": 0.22176011696264628,
          "x4": 141
         },
         {
          "x1": 4,
          "x2": 15,
          "x3": 0.590854546215412,
          "x4": 142
         },
         {
          "x1": 6,
          "x2": 14,
          "x3": 0.7004793320082523,
          "x4": 143
         },
         {
          "x1": 1,
          "x2": 22,
          "x3": 0.11732580774511261,
          "x4": 144
         },
         {
          "x1": 3,
          "x2": 13,
          "x3": 0.3351245996458893,
          "x4": 145
         },
         {
          "x1": 8,
          "x2": 17,
          "x3": 0.9204698051880296,
          "x4": 146
         },
         {
          "x1": 7,
          "x2": 18,
          "x3": 0.9100368189493149,
          "x4": 147
         },
         {
          "x1": 3,
          "x2": 14,
          "x3": 0.3705626552249931,
          "x4": 148
         },
         {
          "x1": 1,
          "x2": 23,
          "x3": 0.24353232836622105,
          "x4": 149
         },
         {
          "x1": 6,
          "x2": 15,
          "x3": 0.5757138868237857,
          "x4": 150
         },
         {
          "x1": 4,
          "x2": 16,
          "x3": 0.5663492955373864,
          "x4": 151
         },
         {
          "x1": 3,
          "x2": 15,
          "x3": 0.24373434649732456,
          "x4": 152
         },
         {
          "x1": 3,
          "x2": 16,
          "x3": 0.4230334754564425,
          "x4": 153
         },
         {
          "x1": 2,
          "x2": 14,
          "x3": 0.5216145849204769,
          "x4": 154
         },
         {
          "x1": 4,
          "x2": 17,
          "x3": 0.7467387138257775,
          "x4": 155
         },
         {
          "x1": 3,
          "x2": 17,
          "x3": 0.5575706300787863,
          "x4": 156
         },
         {
          "x1": 5,
          "x2": 24,
          "x3": 0.7272083681253889,
          "x4": 157
         },
         {
          "x1": 3,
          "x2": 18,
          "x3": 0.16756782976016954,
          "x4": 158
         },
         {
          "x1": 4,
          "x2": 18,
          "x3": 0.5687763823366617,
          "x4": 159
         },
         {
          "x1": 2,
          "x2": 15,
          "x3": 0.16627967274377345,
          "x4": 160
         },
         {
          "x1": 3,
          "x2": 19,
          "x3": 0.25624779755798344,
          "x4": 161
         },
         {
          "x1": 4,
          "x2": 19,
          "x3": 0.3649598580652326,
          "x4": 162
         },
         {
          "x1": 8,
          "x2": 18,
          "x3": 0.9796839223987905,
          "x4": 163
         },
         {
          "x1": 4,
          "x2": 20,
          "x3": 0.41703597834902995,
          "x4": 164
         },
         {
          "x1": 5,
          "x2": 25,
          "x3": 0.752370426222642,
          "x4": 165
         },
         {
          "x1": 2,
          "x2": 16,
          "x3": 0.4945013919554539,
          "x4": 166
         },
         {
          "x1": 4,
          "x2": 21,
          "x3": 0.6614216887115878,
          "x4": 167
         },
         {
          "x1": 5,
          "x2": 26,
          "x3": 0.40262373816683666,
          "x4": 168
         },
         {
          "x1": 6,
          "x2": 16,
          "x3": 0.6300316871516334,
          "x4": 169
         },
         {
          "x1": 3,
          "x2": 20,
          "x3": 0.4476313345727889,
          "x4": 170
         },
         {
          "x1": 7,
          "x2": 19,
          "x3": 0.7867501522810396,
          "x4": 171
         },
         {
          "x1": 0,
          "x2": 13,
          "x3": 0.38248767407346485,
          "x4": 172
         },
         {
          "x1": 6,
          "x2": 17,
          "x3": 0.7448989052099242,
          "x4": 173
         },
         {
          "x1": 5,
          "x2": 27,
          "x3": 0.7587145573003053,
          "x4": 174
         },
         {
          "x1": 3,
          "x2": 21,
          "x3": 0.31851115635344207,
          "x4": 175
         },
         {
          "x1": 3,
          "x2": 22,
          "x3": 0.3957924431837768,
          "x4": 176
         },
         {
          "x1": 1,
          "x2": 24,
          "x3": 0.13032967400411546,
          "x4": 177
         },
         {
          "x1": 5,
          "x2": 28,
          "x3": 0.13346726056140698,
          "x4": 178
         },
         {
          "x1": 4,
          "x2": 22,
          "x3": 0.38550195747603166,
          "x4": 179
         },
         {
          "x1": 1,
          "x2": 25,
          "x3": 0.4513042434156557,
          "x4": 180
         },
         {
          "x1": 1,
          "x2": 26,
          "x3": 0.017220753460680863,
          "x4": 181
         },
         {
          "x1": 5,
          "x2": 29,
          "x3": 0.8981909497051853,
          "x4": 182
         },
         {
          "x1": 8,
          "x2": 19,
          "x3": 0.9622620253053643,
          "x4": 183
         },
         {
          "x1": 3,
          "x2": 23,
          "x3": 0.4108508989779045,
          "x4": 184
         },
         {
          "x1": 0,
          "x2": 14,
          "x3": 0.07613327822222365,
          "x4": 185
         },
         {
          "x1": 3,
          "x2": 24,
          "x3": 0.3536117882638307,
          "x4": 186
         },
         {
          "x1": 7,
          "x2": 20,
          "x3": 0.7262334967278744,
          "x4": 187
         },
         {
          "x1": 2,
          "x2": 17,
          "x3": 0.3907048622158855,
          "x4": 188
         },
         {
          "x1": 5,
          "x2": 30,
          "x3": 0.7244088406277266,
          "x4": 189
         },
         {
          "x1": 8,
          "x2": 20,
          "x3": 0.8775437963319298,
          "x4": 190
         },
         {
          "x1": 0,
          "x2": 15,
          "x3": 0.10754178985303106,
          "x4": 191
         },
         {
          "x1": 5,
          "x2": 31,
          "x3": 0.510309240161514,
          "x4": 192
         },
         {
          "x1": 5,
          "x2": 32,
          "x3": 0.7306880045874358,
          "x4": 193
         },
         {
          "x1": 5,
          "x2": 33,
          "x3": 0.7130289128020778,
          "x4": 194
         },
         {
          "x1": 1,
          "x2": 27,
          "x3": 0.17010538470634753,
          "x4": 195
         },
         {
          "x1": 2,
          "x2": 18,
          "x3": 0.29492632260529733,
          "x4": 196
         },
         {
          "x1": 4,
          "x2": 23,
          "x3": 0.5346185235139607,
          "x4": 197
         },
         {
          "x1": 6,
          "x2": 18,
          "x3": 0.6681335302217367,
          "x4": 198
         },
         {
          "x1": 6,
          "x2": 19,
          "x3": 0.7847414397273936,
          "x4": 199
         },
         {
          "x1": 0,
          "x2": 16,
          "x3": 0.014045823907803632,
          "x4": 200
         },
         {
          "x1": 8,
          "x2": 21,
          "x3": 0.836476276724654,
          "x4": 201
         },
         {
          "x1": 5,
          "x2": 34,
          "x3": 0.5174503151560936,
          "x4": 202
         },
         {
          "x1": 1,
          "x2": 28,
          "x3": 0.38869575907763365,
          "x4": 203
         },
         {
          "x1": 7,
          "x2": 21,
          "x3": 0.8963354592810379,
          "x4": 204
         },
         {
          "x1": 3,
          "x2": 25,
          "x3": 0.5133740892325971,
          "x4": 205
         },
         {
          "x1": 1,
          "x2": 29,
          "x3": 0.2689630586694199,
          "x4": 206
         },
         {
          "x1": 0,
          "x2": 17,
          "x3": 0.1278024893806179,
          "x4": 207
         },
         {
          "x1": 5,
          "x2": 35,
          "x3": 0.7004751890013933,
          "x4": 208
         },
         {
          "x1": 1,
          "x2": 30,
          "x3": 0.24132218169999806,
          "x4": 209
         },
         {
          "x1": 0,
          "x2": 18,
          "x3": 0.00583421211561219,
          "x4": 210
         },
         {
          "x1": 1,
          "x2": 31,
          "x3": 0.1414194341932036,
          "x4": 211
         },
         {
          "x1": 5,
          "x2": 36,
          "x3": 0.6693977236858799,
          "x4": 212
         },
         {
          "x1": 0,
          "x2": 19,
          "x3": 0.03190752364627156,
          "x4": 213
         },
         {
          "x1": 5,
          "x2": 37,
          "x3": 0.6696489475353723,
          "x4": 214
         },
         {
          "x1": 5,
          "x2": 38,
          "x3": 0.43803804029450333,
          "x4": 215
         },
         {
          "x1": 7,
          "x2": 22,
          "x3": 0.7634631489134891,
          "x4": 216
         },
         {
          "x1": 3,
          "x2": 26,
          "x3": 0.3830144253731048,
          "x4": 217
         },
         {
          "x1": 5,
          "x2": 39,
          "x3": 0.6785955245343623,
          "x4": 218
         },
         {
          "x1": 8,
          "x2": 22,
          "x3": 0.994212530104825,
          "x4": 219
         },
         {
          "x1": 8,
          "x2": 23,
          "x3": 0.9814657388976181,
          "x4": 220
         },
         {
          "x1": 4,
          "x2": 24,
          "x3": 0.8047094976318236,
          "x4": 221
         },
         {
          "x1": 6,
          "x2": 20,
          "x3": 0.46514636613661225,
          "x4": 222
         },
         {
          "x1": 6,
          "x2": 21,
          "x3": 0.9204256968571517,
          "x4": 223
         },
         {
          "x1": 5,
          "x2": 40,
          "x3": 0.7905085328628728,
          "x4": 224
         },
         {
          "x1": 7,
          "x2": 23,
          "x3": 0.9395999117267811,
          "x4": 225
         },
         {
          "x1": 3,
          "x2": 27,
          "x3": 0.79236416616348,
          "x4": 226
         },
         {
          "x1": 2,
          "x2": 19,
          "x3": 0.6778014722611657,
          "x4": 227
         },
         {
          "x1": 6,
          "x2": 22,
          "x3": 0.7619349200328901,
          "x4": 228
         },
         {
          "x1": 8,
          "x2": 24,
          "x3": 0.9591416712972833,
          "x4": 229
         },
         {
          "x1": 2,
          "x2": 20,
          "x3": 0.16032244932168893,
          "x4": 230
         },
         {
          "x1": 0,
          "x2": 20,
          "x3": 0.11556117746810192,
          "x4": 231
         },
         {
          "x1": 2,
          "x2": 21,
          "x3": 0.172948899577769,
          "x4": 232
         },
         {
          "x1": 0,
          "x2": 21,
          "x3": 0.05602120648185265,
          "x4": 233
         },
         {
          "x1": 3,
          "x2": 28,
          "x3": 0.18762630173149167,
          "x4": 234
         },
         {
          "x1": 4,
          "x2": 25,
          "x3": 0.27601878901032795,
          "x4": 235
         },
         {
          "x1": 2,
          "x2": 22,
          "x3": 0.24678232742785902,
          "x4": 236
         },
         {
          "x1": 6,
          "x2": 23,
          "x3": 0.5084865805416448,
          "x4": 237
         },
         {
          "x1": 3,
          "x2": 29,
          "x3": 0.5568264066916077,
          "x4": 238
         },
         {
          "x1": 8,
          "x2": 25,
          "x3": 0.9466004399759643,
          "x4": 239
         },
         {
          "x1": 7,
          "x2": 24,
          "x3": 0.9484155760059071,
          "x4": 240
         },
         {
          "x1": 7,
          "x2": 25,
          "x3": 0.8901060558952866,
          "x4": 241
         },
         {
          "x1": 1,
          "x2": 32,
          "x3": 0.1530167294992985,
          "x4": 242
         },
         {
          "x1": 6,
          "x2": 24,
          "x3": 0.7630049279575861,
          "x4": 243
         },
         {
          "x1": 3,
          "x2": 30,
          "x3": 0.3666487987921001,
          "x4": 244
         },
         {
          "x1": 5,
          "x2": 41,
          "x3": 0.6346863082436812,
          "x4": 245
         },
         {
          "x1": 1,
          "x2": 33,
          "x3": 0.1033492759184464,
          "x4": 246
         },
         {
          "x1": 0,
          "x2": 22,
          "x3": 0.07863280034855659,
          "x4": 247
         },
         {
          "x1": 6,
          "x2": 25,
          "x3": 0.658632646524187,
          "x4": 248
         },
         {
          "x1": 4,
          "x2": 26,
          "x3": 0.48831308733089135,
          "x4": 249
         },
         {
          "x1": 6,
          "x2": 26,
          "x3": 0.6776852861754648,
          "x4": 250
         },
         {
          "x1": 1,
          "x2": 34,
          "x3": 0.0961754497294702,
          "x4": 251
         },
         {
          "x1": 6,
          "x2": 27,
          "x3": 0.7595403925415792,
          "x4": 252
         },
         {
          "x1": 2,
          "x2": 23,
          "x3": 0.2909497366654916,
          "x4": 253
         },
         {
          "x1": 0,
          "x2": 23,
          "x3": 0.11862926262098127,
          "x4": 254
         },
         {
          "x1": 4,
          "x2": 27,
          "x3": 0.5021761277172193,
          "x4": 255
         },
         {
          "x1": 4,
          "x2": 28,
          "x3": 0.45693470052721835,
          "x4": 256
         },
         {
          "x1": 8,
          "x2": 26,
          "x3": 0.785700900085179,
          "x4": 257
         },
         {
          "x1": 5,
          "x2": 42,
          "x3": 0.7779277808744843,
          "x4": 258
         },
         {
          "x1": 6,
          "x2": 28,
          "x3": 0.5411437073992377,
          "x4": 259
         },
         {
          "x1": 3,
          "x2": 31,
          "x3": 0.549309008703392,
          "x4": 260
         },
         {
          "x1": 6,
          "x2": 29,
          "x3": 0.7483347031973822,
          "x4": 261
         },
         {
          "x1": 4,
          "x2": 29,
          "x3": 0.5521299739791038,
          "x4": 262
         },
         {
          "x1": 2,
          "x2": 24,
          "x3": 0.2150750452744563,
          "x4": 263
         },
         {
          "x1": 1,
          "x2": 35,
          "x3": 0.17353562712610407,
          "x4": 264
         },
         {
          "x1": 8,
          "x2": 27,
          "x3": 0.9462756062426124,
          "x4": 265
         },
         {
          "x1": 7,
          "x2": 26,
          "x3": 0.6126105284672161,
          "x4": 266
         },
         {
          "x1": 1,
          "x2": 36,
          "x3": 0.44835478060293976,
          "x4": 267
         },
         {
          "x1": 6,
          "x2": 30,
          "x3": 0.898977236368776,
          "x4": 268
         },
         {
          "x1": 8,
          "x2": 28,
          "x3": 0.8668036103183926,
          "x4": 269
         },
         {
          "x1": 6,
          "x2": 31,
          "x3": 0.8663975683396447,
          "x4": 270
         },
         {
          "x1": 5,
          "x2": 43,
          "x3": 0.4093114208034975,
          "x4": 271
         },
         {
          "x1": 4,
          "x2": 30,
          "x3": 0.38300919366249636,
          "x4": 272
         },
         {
          "x1": 4,
          "x2": 31,
          "x3": 0.6927034417886544,
          "x4": 273
         },
         {
          "x1": 7,
          "x2": 27,
          "x3": 0.8391199523031603,
          "x4": 274
         },
         {
          "x1": 6,
          "x2": 32,
          "x3": 0.8035622842714332,
          "x4": 275
         },
         {
          "x1": 5,
          "x2": 44,
          "x3": 0.5887621172185042,
          "x4": 276
         },
         {
          "x1": 0,
          "x2": 24,
          "x3": 0.1088587390467163,
          "x4": 277
         },
         {
          "x1": 2,
          "x2": 25,
          "x3": 0.47431111759785094,
          "x4": 278
         },
         {
          "x1": 0,
          "x2": 25,
          "x3": 0.05530495707827424,
          "x4": 279
         },
         {
          "x1": 3,
          "x2": 32,
          "x3": 0.4939141094734914,
          "x4": 280
         },
         {
          "x1": 0,
          "x2": 26,
          "x3": 0.013110792745642147,
          "x4": 281
         },
         {
          "x1": 7,
          "x2": 28,
          "x3": 0.8387321337003115,
          "x4": 282
         },
         {
          "x1": 8,
          "x2": 29,
          "x3": 0.9406009656068626,
          "x4": 283
         },
         {
          "x1": 4,
          "x2": 32,
          "x3": 0.3718106115287093,
          "x4": 284
         },
         {
          "x1": 3,
          "x2": 33,
          "x3": 0.31566343228995564,
          "x4": 285
         },
         {
          "x1": 4,
          "x2": 33,
          "x3": 0.44486424499633076,
          "x4": 286
         },
         {
          "x1": 1,
          "x2": 37,
          "x3": 0.045372366576720134,
          "x4": 287
         },
         {
          "x1": 7,
          "x2": 29,
          "x3": 0.7642499501515582,
          "x4": 288
         },
         {
          "x1": 6,
          "x2": 33,
          "x3": 0.8695096991676087,
          "x4": 289
         },
         {
          "x1": 0,
          "x2": 27,
          "x3": 0.01819779759945102,
          "x4": 290
         },
         {
          "x1": 1,
          "x2": 38,
          "x3": 0.0593661044845821,
          "x4": 291
         },
         {
          "x1": 6,
          "x2": 34,
          "x3": 0.8892181099496561,
          "x4": 292
         },
         {
          "x1": 6,
          "x2": 35,
          "x3": 0.312213286004588,
          "x4": 293
         },
         {
          "x1": 2,
          "x2": 26,
          "x3": 0.4984686337899509,
          "x4": 294
         },
         {
          "x1": 5,
          "x2": 45,
          "x3": 0.6160485179293791,
          "x4": 295
         },
         {
          "x1": 5,
          "x2": 46,
          "x3": 0.8484003109258489,
          "x4": 296
         },
         {
          "x1": 7,
          "x2": 30,
          "x3": 0.8353023212562904,
          "x4": 297
         },
         {
          "x1": 7,
          "x2": 31,
          "x3": 0.8493888198095007,
          "x4": 298
         },
         {
          "x1": 8,
          "x2": 30,
          "x3": 0.9813789879017856,
          "x4": 299
         },
         {
          "x1": 7,
          "x2": 32,
          "x3": 0.8589948749472469,
          "x4": 300
         },
         {
          "x1": 4,
          "x2": 34,
          "x3": 0.5128958143996422,
          "x4": 301
         },
         {
          "x1": 0,
          "x2": 28,
          "x3": 0.03144301859890665,
          "x4": 302
         },
         {
          "x1": 7,
          "x2": 33,
          "x3": 0.8104559455641983,
          "x4": 303
         },
         {
          "x1": 8,
          "x2": 31,
          "x3": 0.9755967388995116,
          "x4": 304
         },
         {
          "x1": 4,
          "x2": 35,
          "x3": 0.5322911454590624,
          "x4": 305
         },
         {
          "x1": 0,
          "x2": 29,
          "x3": 0.1471551526958845,
          "x4": 306
         },
         {
          "x1": 7,
          "x2": 34,
          "x3": 0.70596776119436,
          "x4": 307
         },
         {
          "x1": 2,
          "x2": 27,
          "x3": 0.1376203309676132,
          "x4": 308
         },
         {
          "x1": 8,
          "x2": 32,
          "x3": 0.9629372951911734,
          "x4": 309
         },
         {
          "x1": 0,
          "x2": 30,
          "x3": 0.07295082385367906,
          "x4": 310
         },
         {
          "x1": 6,
          "x2": 36,
          "x3": 0.7632936151617783,
          "x4": 311
         },
         {
          "x1": 2,
          "x2": 28,
          "x3": 0.7814264555717556,
          "x4": 312
         },
         {
          "x1": 4,
          "x2": 36,
          "x3": 0.23818444975596553,
          "x4": 313
         },
         {
          "x1": 6,
          "x2": 37,
          "x3": 0.9289334073429121,
          "x4": 314
         },
         {
          "x1": 4,
          "x2": 37,
          "x3": 0.5915627046986736,
          "x4": 315
         },
         {
          "x1": 1,
          "x2": 39,
          "x3": 0.2007085173356643,
          "x4": 316
         },
         {
          "x1": 6,
          "x2": 38,
          "x3": 0.8138637135448744,
          "x4": 317
         },
         {
          "x1": 2,
          "x2": 29,
          "x3": 0.5481047373380391,
          "x4": 318
         },
         {
          "x1": 3,
          "x2": 34,
          "x3": 0.6610790669602681,
          "x4": 319
         },
         {
          "x1": 2,
          "x2": 30,
          "x3": 0.24751664950886434,
          "x4": 320
         },
         {
          "x1": 3,
          "x2": 35,
          "x3": 0.4445520582958434,
          "x4": 321
         },
         {
          "x1": 4,
          "x2": 38,
          "x3": 0.6287564309891808,
          "x4": 322
         },
         {
          "x1": 6,
          "x2": 39,
          "x3": 0.5837713870321168,
          "x4": 323
         },
         {
          "x1": 1,
          "x2": 40,
          "x3": 0.09037904500134956,
          "x4": 324
         },
         {
          "x1": 4,
          "x2": 39,
          "x3": 0.3468394874581733,
          "x4": 325
         },
         {
          "x1": 2,
          "x2": 31,
          "x3": 0.4506048887502506,
          "x4": 326
         },
         {
          "x1": 4,
          "x2": 40,
          "x3": 0.3855468176478537,
          "x4": 327
         },
         {
          "x1": 8,
          "x2": 33,
          "x3": 0.9544098202386241,
          "x4": 328
         },
         {
          "x1": 0,
          "x2": 31,
          "x3": 0.10168635484195994,
          "x4": 329
         },
         {
          "x1": 1,
          "x2": 41,
          "x3": 0.19857305895856198,
          "x4": 330
         },
         {
          "x1": 4,
          "x2": 41,
          "x3": 0.7013850364713217,
          "x4": 331
         },
         {
          "x1": 3,
          "x2": 36,
          "x3": 0.24941190635252622,
          "x4": 332
         },
         {
          "x1": 2,
          "x2": 32,
          "x3": 0.30084924066151214,
          "x4": 333
         },
         {
          "x1": 2,
          "x2": 33,
          "x3": 0.286530890443262,
          "x4": 334
         },
         {
          "x1": 5,
          "x2": 47,
          "x3": 0.9178034228494496,
          "x4": 335
         },
         {
          "x1": 0,
          "x2": 32,
          "x3": 0.11985118280102752,
          "x4": 336
         },
         {
          "x1": 1,
          "x2": 42,
          "x3": 0.16476302508374308,
          "x4": 337
         },
         {
          "x1": 4,
          "x2": 42,
          "x3": 0.34928515730815374,
          "x4": 338
         },
         {
          "x1": 6,
          "x2": 40,
          "x3": 0.7033336320415546,
          "x4": 339
         },
         {
          "x1": 7,
          "x2": 35,
          "x3": 0.7341025794036338,
          "x4": 340
         },
         {
          "x1": 2,
          "x2": 34,
          "x3": 0.349585524922925,
          "x4": 341
         },
         {
          "x1": 5,
          "x2": 48,
          "x3": 0.5780956190270469,
          "x4": 342
         },
         {
          "x1": 7,
          "x2": 36,
          "x3": 0.826485916266136,
          "x4": 343
         },
         {
          "x1": 0,
          "x2": 33,
          "x3": 0.05183597938268578,
          "x4": 344
         },
         {
          "x1": 5,
          "x2": 49,
          "x3": 0.4625789199160663,
          "x4": 345
         },
         {
          "x1": 4,
          "x2": 43,
          "x3": 0.39210760247731014,
          "x4": 346
         },
         {
          "x1": 6,
          "x2": 41,
          "x3": 0.4460770208083732,
          "x4": 347
         },
         {
          "x1": 6,
          "x2": 42,
          "x3": 0.8948744726956784,
          "x4": 348
         },
         {
          "x1": 7,
          "x2": 37,
          "x3": 0.8114016076562452,
          "x4": 349
         },
         {
          "x1": 5,
          "x2": 50,
          "x3": 0.5787172802594163,
          "x4": 350
         },
         {
          "x1": 6,
          "x2": 43,
          "x3": 0.753547686575887,
          "x4": 351
         },
         {
          "x1": 3,
          "x2": 37,
          "x3": 0.38606591393382755,
          "x4": 352
         },
         {
          "x1": 7,
          "x2": 38,
          "x3": 0.9398735806608652,
          "x4": 353
         },
         {
          "x1": 4,
          "x2": 44,
          "x3": 0.4027201526903636,
          "x4": 354
         },
         {
          "x1": 0,
          "x2": 34,
          "x3": 0.2256809956785499,
          "x4": 355
         },
         {
          "x1": 7,
          "x2": 39,
          "x3": 0.9204532230902216,
          "x4": 356
         },
         {
          "x1": 8,
          "x2": 34,
          "x3": 0.8034054908104133,
          "x4": 357
         },
         {
          "x1": 2,
          "x2": 35,
          "x3": 0.3599515099514759,
          "x4": 358
         },
         {
          "x1": 2,
          "x2": 36,
          "x3": 0.1084853218594161,
          "x4": 359
         },
         {
          "x1": 2,
          "x2": 37,
          "x3": 0.3486347767324022,
          "x4": 360
         },
         {
          "x1": 3,
          "x2": 38,
          "x3": 0.07280213293824818,
          "x4": 361
         },
         {
          "x1": 0,
          "x2": 35,
          "x3": 0.04506356655417568,
          "x4": 362
         },
         {
          "x1": 5,
          "x2": 51,
          "x3": 0.4870170506815216,
          "x4": 363
         },
         {
          "x1": 1,
          "x2": 43,
          "x3": 0.14636989284549504,
          "x4": 364
         },
         {
          "x1": 2,
          "x2": 38,
          "x3": 0.3636569772889099,
          "x4": 365
         },
         {
          "x1": 7,
          "x2": 40,
          "x3": 0.9095411507698089,
          "x4": 366
         },
         {
          "x1": 1,
          "x2": 44,
          "x3": 0.09557699327116873,
          "x4": 367
         },
         {
          "x1": 3,
          "x2": 39,
          "x3": 0.3722221693058056,
          "x4": 368
         },
         {
          "x1": 4,
          "x2": 45,
          "x3": 0.5459071283245337,
          "x4": 369
         },
         {
          "x1": 5,
          "x2": 52,
          "x3": 0.6795702178109032,
          "x4": 370
         },
         {
          "x1": 5,
          "x2": 53,
          "x3": 0.7043010269166186,
          "x4": 371
         },
         {
          "x1": 7,
          "x2": 41,
          "x3": 0.7860478608738133,
          "x4": 372
         },
         {
          "x1": 8,
          "x2": 35,
          "x3": 0.9384626681591263,
          "x4": 373
         },
         {
          "x1": 1,
          "x2": 45,
          "x3": 0.04311321221652647,
          "x4": 374
         },
         {
          "x1": 6,
          "x2": 44,
          "x3": 0.7424935984707229,
          "x4": 375
         },
         {
          "x1": 7,
          "x2": 42,
          "x3": 0.86043930133305,
          "x4": 376
         },
         {
          "x1": 3,
          "x2": 40,
          "x3": 0.321710985154805,
          "x4": 377
         },
         {
          "x1": 4,
          "x2": 46,
          "x3": 0.5152035634257112,
          "x4": 378
         },
         {
          "x1": 4,
          "x2": 47,
          "x3": 0.46819709234681284,
          "x4": 379
         },
         {
          "x1": 7,
          "x2": 43,
          "x3": 0.613804892018251,
          "x4": 380
         },
         {
          "x1": 7,
          "x2": 44,
          "x3": 0.9182969354573748,
          "x4": 381
         },
         {
          "x1": 1,
          "x2": 46,
          "x3": 0.3527783406619758,
          "x4": 382
         },
         {
          "x1": 7,
          "x2": 45,
          "x3": 0.8998547055728401,
          "x4": 383
         },
         {
          "x1": 4,
          "x2": 48,
          "x3": 0.27975208494022974,
          "x4": 384
         },
         {
          "x1": 0,
          "x2": 36,
          "x3": 0.2987768056807391,
          "x4": 385
         },
         {
          "x1": 3,
          "x2": 41,
          "x3": 0.37611296246451137,
          "x4": 386
         },
         {
          "x1": 6,
          "x2": 45,
          "x3": 0.5881675173034769,
          "x4": 387
         },
         {
          "x1": 5,
          "x2": 54,
          "x3": 0.26628710875784056,
          "x4": 388
         },
         {
          "x1": 5,
          "x2": 55,
          "x3": 0.4557791291463735,
          "x4": 389
         },
         {
          "x1": 4,
          "x2": 49,
          "x3": 0.3573870332597431,
          "x4": 390
         },
         {
          "x1": 6,
          "x2": 46,
          "x3": 0.910675089897026,
          "x4": 391
         },
         {
          "x1": 8,
          "x2": 36,
          "x3": 0.7177601224357423,
          "x4": 392
         },
         {
          "x1": 6,
          "x2": 47,
          "x3": 0.529194662087657,
          "x4": 393
         },
         {
          "x1": 8,
          "x2": 37,
          "x3": 0.9663922290273309,
          "x4": 394
         },
         {
          "x1": 0,
          "x2": 37,
          "x3": 0.04807725355207703,
          "x4": 395
         },
         {
          "x1": 2,
          "x2": 39,
          "x3": 0.2318216241335826,
          "x4": 396
         },
         {
          "x1": 5,
          "x2": 56,
          "x3": 0.5177198718161546,
          "x4": 397
         },
         {
          "x1": 0,
          "x2": 38,
          "x3": 0.009432248919081504,
          "x4": 398
         },
         {
          "x1": 8,
          "x2": 38,
          "x3": 0.9103514377440884,
          "x4": 399
         },
         {
          "x1": 6,
          "x2": 48,
          "x3": 0.863534674360373,
          "x4": 400
         },
         {
          "x1": 0,
          "x2": 39,
          "x3": 0.03922322367732102,
          "x4": 401
         },
         {
          "x1": 5,
          "x2": 57,
          "x3": 0.5332369739837594,
          "x4": 402
         },
         {
          "x1": 3,
          "x2": 42,
          "x3": 0.48033188270721755,
          "x4": 403
         },
         {
          "x1": 2,
          "x2": 40,
          "x3": 0.41535855967063257,
          "x4": 404
         },
         {
          "x1": 7,
          "x2": 46,
          "x3": 0.8889393799766634,
          "x4": 405
         },
         {
          "x1": 5,
          "x2": 58,
          "x3": 0.7293183308589138,
          "x4": 406
         },
         {
          "x1": 7,
          "x2": 47,
          "x3": 0.674484848575244,
          "x4": 407
         },
         {
          "x1": 8,
          "x2": 39,
          "x3": 0.6706865605687109,
          "x4": 408
         },
         {
          "x1": 3,
          "x2": 43,
          "x3": 0.5933830393329653,
          "x4": 409
         },
         {
          "x1": 8,
          "x2": 40,
          "x3": 0.6942001673700193,
          "x4": 410
         },
         {
          "x1": 4,
          "x2": 50,
          "x3": 0.5796836308707234,
          "x4": 411
         },
         {
          "x1": 0,
          "x2": 40,
          "x3": 0.04510332589036209,
          "x4": 412
         },
         {
          "x1": 0,
          "x2": 41,
          "x3": 0.09637529979142566,
          "x4": 413
         },
         {
          "x1": 7,
          "x2": 48,
          "x3": 0.9198933943461332,
          "x4": 414
         },
         {
          "x1": 4,
          "x2": 51,
          "x3": 0.5037720867264496,
          "x4": 415
         },
         {
          "x1": 5,
          "x2": 59,
          "x3": 0.6996992845826085,
          "x4": 416
         },
         {
          "x1": 5,
          "x2": 60,
          "x3": 0.6697853900811866,
          "x4": 417
         },
         {
          "x1": 0,
          "x2": 42,
          "x3": 0.011221504385059715,
          "x4": 418
         },
         {
          "x1": 5,
          "x2": 61,
          "x3": 0.5234300254282273,
          "x4": 419
         },
         {
          "x1": 1,
          "x2": 47,
          "x3": 0.13974687284220771,
          "x4": 420
         },
         {
          "x1": 2,
          "x2": 41,
          "x3": 0.4861994279885787,
          "x4": 421
         },
         {
          "x1": 7,
          "x2": 49,
          "x3": 0.8495571033640141,
          "x4": 422
         },
         {
          "x1": 1,
          "x2": 48,
          "x3": 0.33933677094052117,
          "x4": 423
         },
         {
          "x1": 2,
          "x2": 42,
          "x3": 0.30323567796991147,
          "x4": 424
         },
         {
          "x1": 3,
          "x2": 44,
          "x3": 0.3272631991133757,
          "x4": 425
         },
         {
          "x1": 7,
          "x2": 50,
          "x3": 0.9111551923920953,
          "x4": 426
         },
         {
          "x1": 7,
          "x2": 51,
          "x3": 0.46683165351190686,
          "x4": 427
         },
         {
          "x1": 6,
          "x2": 49,
          "x3": 0.6610507888762552,
          "x4": 428
         },
         {
          "x1": 4,
          "x2": 52,
          "x3": 0.6752482446738032,
          "x4": 429
         },
         {
          "x1": 4,
          "x2": 53,
          "x3": 0.5867088675581347,
          "x4": 430
         },
         {
          "x1": 1,
          "x2": 49,
          "x3": 0.3491012059414921,
          "x4": 431
         },
         {
          "x1": 4,
          "x2": 54,
          "x3": 0.7129490486493921,
          "x4": 432
         },
         {
          "x1": 5,
          "x2": 62,
          "x3": 0.671512960588406,
          "x4": 433
         },
         {
          "x1": 0,
          "x2": 43,
          "x3": 0.10061129549320814,
          "x4": 434
         },
         {
          "x1": 7,
          "x2": 52,
          "x3": 0.9790092215289127,
          "x4": 435
         },
         {
          "x1": 1,
          "x2": 50,
          "x3": 0.15094943162877927,
          "x4": 436
         },
         {
          "x1": 8,
          "x2": 41,
          "x3": 0.8946420662490177,
          "x4": 437
         },
         {
          "x1": 8,
          "x2": 42,
          "x3": 0.9491455838610953,
          "x4": 438
         },
         {
          "x1": 7,
          "x2": 53,
          "x3": 0.8738683652680079,
          "x4": 439
         },
         {
          "x1": 8,
          "x2": 43,
          "x3": 0.8609415683633774,
          "x4": 440
         },
         {
          "x1": 1,
          "x2": 51,
          "x3": 0.06347537156678391,
          "x4": 441
         },
         {
          "x1": 2,
          "x2": 43,
          "x3": 0.3541567219442493,
          "x4": 442
         },
         {
          "x1": 6,
          "x2": 50,
          "x3": 0.6255172326435375,
          "x4": 443
         },
         {
          "x1": 1,
          "x2": 52,
          "x3": 0.1559276389453236,
          "x4": 444
         },
         {
          "x1": 2,
          "x2": 44,
          "x3": 0.6333025039473128,
          "x4": 445
         },
         {
          "x1": 2,
          "x2": 45,
          "x3": 0.35258119009320915,
          "x4": 446
         },
         {
          "x1": 1,
          "x2": 53,
          "x3": 0.09837136908684047,
          "x4": 447
         },
         {
          "x1": 4,
          "x2": 55,
          "x3": 0.6275402162846502,
          "x4": 448
         },
         {
          "x1": 3,
          "x2": 45,
          "x3": 0.16008198681506697,
          "x4": 449
         },
         {
          "x1": 8,
          "x2": 44,
          "x3": 0.9612457790320255,
          "x4": 450
         },
         {
          "x1": 7,
          "x2": 54,
          "x3": 0.9362154943842804,
          "x4": 451
         },
         {
          "x1": 6,
          "x2": 51,
          "x3": 0.8518347054691111,
          "x4": 452
         },
         {
          "x1": 1,
          "x2": 54,
          "x3": 0.11727677811505334,
          "x4": 453
         },
         {
          "x1": 0,
          "x2": 44,
          "x3": 0.17862972802860616,
          "x4": 454
         },
         {
          "x1": 5,
          "x2": 63,
          "x3": 0.5587852619776568,
          "x4": 455
         },
         {
          "x1": 4,
          "x2": 56,
          "x3": 0.43114331733358796,
          "x4": 456
         },
         {
          "x1": 4,
          "x2": 57,
          "x3": 0.744972207721725,
          "x4": 457
         },
         {
          "x1": 3,
          "x2": 46,
          "x3": 0.5571979794827481,
          "x4": 458
         },
         {
          "x1": 4,
          "x2": 58,
          "x3": 0.7501211569576723,
          "x4": 459
         },
         {
          "x1": 5,
          "x2": 64,
          "x3": 0.46109989896423853,
          "x4": 460
         },
         {
          "x1": 2,
          "x2": 46,
          "x3": 0.3435606952398219,
          "x4": 461
         },
         {
          "x1": 7,
          "x2": 55,
          "x3": 0.6362754687010465,
          "x4": 462
         },
         {
          "x1": 5,
          "x2": 65,
          "x3": 0.5014235069082463,
          "x4": 463
         },
         {
          "x1": 7,
          "x2": 56,
          "x3": 0.9470975410541606,
          "x4": 464
         },
         {
          "x1": 3,
          "x2": 47,
          "x3": 0.6320511677915283,
          "x4": 465
         },
         {
          "x1": 7,
          "x2": 57,
          "x3": 0.8740912907602885,
          "x4": 466
         },
         {
          "x1": 5,
          "x2": 66,
          "x3": 0.7292772231835126,
          "x4": 467
         },
         {
          "x1": 6,
          "x2": 52,
          "x3": 0.9265390888021704,
          "x4": 468
         },
         {
          "x1": 7,
          "x2": 58,
          "x3": 0.7353588960486502,
          "x4": 469
         },
         {
          "x1": 5,
          "x2": 67,
          "x3": 0.6567895869376742,
          "x4": 470
         },
         {
          "x1": 8,
          "x2": 45,
          "x3": 0.9528479999726553,
          "x4": 471
         },
         {
          "x1": 1,
          "x2": 55,
          "x3": 0.38817852708072703,
          "x4": 472
         },
         {
          "x1": 3,
          "x2": 48,
          "x3": 0.44053701824831426,
          "x4": 473
         },
         {
          "x1": 8,
          "x2": 46,
          "x3": 0.9848197831351392,
          "x4": 474
         },
         {
          "x1": 2,
          "x2": 47,
          "x3": 0.15759232538682863,
          "x4": 475
         },
         {
          "x1": 6,
          "x2": 53,
          "x3": 0.7432128536503487,
          "x4": 476
         },
         {
          "x1": 0,
          "x2": 45,
          "x3": 0.04834870834975101,
          "x4": 477
         },
         {
          "x1": 1,
          "x2": 56,
          "x3": 0.2219586453367603,
          "x4": 478
         },
         {
          "x1": 8,
          "x2": 47,
          "x3": 0.9723227805746649,
          "x4": 479
         },
         {
          "x1": 1,
          "x2": 57,
          "x3": 0.07134360382020959,
          "x4": 480
         },
         {
          "x1": 7,
          "x2": 59,
          "x3": 0.8701263390442,
          "x4": 481
         },
         {
          "x1": 8,
          "x2": 48,
          "x3": 0.8835046203405699,
          "x4": 482
         },
         {
          "x1": 8,
          "x2": 49,
          "x3": 0.9376573459639778,
          "x4": 483
         },
         {
          "x1": 4,
          "x2": 59,
          "x3": 0.5356864044733185,
          "x4": 484
         },
         {
          "x1": 7,
          "x2": 60,
          "x3": 0.9842253321985301,
          "x4": 485
         },
         {
          "x1": 1,
          "x2": 58,
          "x3": 0.040693733244647604,
          "x4": 486
         },
         {
          "x1": 5,
          "x2": 68,
          "x3": 0.5979556153274067,
          "x4": 487
         },
         {
          "x1": 3,
          "x2": 49,
          "x3": 0.3754892269407346,
          "x4": 488
         },
         {
          "x1": 2,
          "x2": 48,
          "x3": 0.4189412531680331,
          "x4": 489
         },
         {
          "x1": 8,
          "x2": 50,
          "x3": 0.9355202798735923,
          "x4": 490
         },
         {
          "x1": 0,
          "x2": 46,
          "x3": 0.2067353996371137,
          "x4": 491
         },
         {
          "x1": 7,
          "x2": 61,
          "x3": 0.7738472309836433,
          "x4": 492
         },
         {
          "x1": 6,
          "x2": 54,
          "x3": 0.6987491683183135,
          "x4": 493
         },
         {
          "x1": 4,
          "x2": 60,
          "x3": 0.28430822217339136,
          "x4": 494
         },
         {
          "x1": 1,
          "x2": 59,
          "x3": 0.5898811733090373,
          "x4": 495
         },
         {
          "x1": 4,
          "x2": 61,
          "x3": 0.5650434468584258,
          "x4": 496
         },
         {
          "x1": 6,
          "x2": 55,
          "x3": 0.8177552292655709,
          "x4": 497
         },
         {
          "x1": 4,
          "x2": 62,
          "x3": 0.36493131681639573,
          "x4": 498
         },
         {
          "x1": 5,
          "x2": 69,
          "x3": 0.7174211318485817,
          "x4": 499
         },
         {
          "x1": 7,
          "x2": 62,
          "x3": 0.7644042824612557,
          "x4": 500
         },
         {
          "x1": 3,
          "x2": 50,
          "x3": 0.27251315954399064,
          "x4": 501
         },
         {
          "x1": 2,
          "x2": 49,
          "x3": 0.15276132645751334,
          "x4": 502
         },
         {
          "x1": 7,
          "x2": 63,
          "x3": 0.7893884724439713,
          "x4": 503
         },
         {
          "x1": 4,
          "x2": 63,
          "x3": 0.27023598777876023,
          "x4": 504
         },
         {
          "x1": 8,
          "x2": 51,
          "x3": 0.9687422482246433,
          "x4": 505
         },
         {
          "x1": 7,
          "x2": 64,
          "x3": 0.6777177768695682,
          "x4": 506
         },
         {
          "x1": 0,
          "x2": 47,
          "x3": 0.05383477683971679,
          "x4": 507
         },
         {
          "x1": 7,
          "x2": 65,
          "x3": 0.911052406236089,
          "x4": 508
         },
         {
          "x1": 2,
          "x2": 50,
          "x3": 0.29767951843908164,
          "x4": 509
         },
         {
          "x1": 3,
          "x2": 51,
          "x3": 0.486956991083102,
          "x4": 510
         },
         {
          "x1": 7,
          "x2": 66,
          "x3": 0.81175702760461,
          "x4": 511
         },
         {
          "x1": 3,
          "x2": 52,
          "x3": 0.4073064270284293,
          "x4": 512
         },
         {
          "x1": 1,
          "x2": 60,
          "x3": 0.34474258646920947,
          "x4": 513
         },
         {
          "x1": 8,
          "x2": 52,
          "x3": 0.6862409900551426,
          "x4": 514
         },
         {
          "x1": 8,
          "x2": 53,
          "x3": 0.9568816945010665,
          "x4": 515
         },
         {
          "x1": 8,
          "x2": 54,
          "x3": 0.8654127498979114,
          "x4": 516
         },
         {
          "x1": 4,
          "x2": 64,
          "x3": 0.5261151790208276,
          "x4": 517
         },
         {
          "x1": 7,
          "x2": 67,
          "x3": 0.7651412659059845,
          "x4": 518
         },
         {
          "x1": 2,
          "x2": 51,
          "x3": 0.4958184558102645,
          "x4": 519
         },
         {
          "x1": 5,
          "x2": 70,
          "x3": 0.5419014063253461,
          "x4": 520
         },
         {
          "x1": 3,
          "x2": 53,
          "x3": 0.4099018850819324,
          "x4": 521
         },
         {
          "x1": 1,
          "x2": 61,
          "x3": 0.33105581377318904,
          "x4": 522
         },
         {
          "x1": 3,
          "x2": 54,
          "x3": 0.3982321633424201,
          "x4": 523
         },
         {
          "x1": 1,
          "x2": 62,
          "x3": 0.20758599266400285,
          "x4": 524
         },
         {
          "x1": 2,
          "x2": 52,
          "x3": 0.1402553621944397,
          "x4": 525
         },
         {
          "x1": 1,
          "x2": 63,
          "x3": 0.0857982868589953,
          "x4": 526
         },
         {
          "x1": 5,
          "x2": 71,
          "x3": 0.5735112676522255,
          "x4": 527
         },
         {
          "x1": 1,
          "x2": 64,
          "x3": 0.10669101433307128,
          "x4": 528
         },
         {
          "x1": 4,
          "x2": 65,
          "x3": 0.7346705203309831,
          "x4": 529
         },
         {
          "x1": 3,
          "x2": 55,
          "x3": 0.22388207800204757,
          "x4": 530
         },
         {
          "x1": 5,
          "x2": 72,
          "x3": 0.6619362015942288,
          "x4": 531
         },
         {
          "x1": 2,
          "x2": 53,
          "x3": 0.22992431537268102,
          "x4": 532
         },
         {
          "x1": 0,
          "x2": 48,
          "x3": 0.14358344444733673,
          "x4": 533
         },
         {
          "x1": 2,
          "x2": 54,
          "x3": 0.13768188975532436,
          "x4": 534
         },
         {
          "x1": 8,
          "x2": 55,
          "x3": 0.969043744807362,
          "x4": 535
         },
         {
          "x1": 4,
          "x2": 66,
          "x3": 0.47303222500943776,
          "x4": 536
         },
         {
          "x1": 7,
          "x2": 68,
          "x3": 0.8467896901388866,
          "x4": 537
         },
         {
          "x1": 4,
          "x2": 67,
          "x3": 0.40741002094702766,
          "x4": 538
         },
         {
          "x1": 1,
          "x2": 65,
          "x3": 0.016849035738781316,
          "x4": 539
         },
         {
          "x1": 7,
          "x2": 69,
          "x3": 0.6125515937369477,
          "x4": 540
         },
         {
          "x1": 0,
          "x2": 49,
          "x3": 0.014880953946132367,
          "x4": 541
         },
         {
          "x1": 6,
          "x2": 56,
          "x3": 0.6276914231914353,
          "x4": 542
         },
         {
          "x1": 7,
          "x2": 70,
          "x3": 0.751440740655262,
          "x4": 543
         },
         {
          "x1": 5,
          "x2": 73,
          "x3": 0.6908601391430489,
          "x4": 544
         },
         {
          "x1": 4,
          "x2": 68,
          "x3": 0.7578844120381435,
          "x4": 545
         },
         {
          "x1": 3,
          "x2": 56,
          "x3": 0.531537751110643,
          "x4": 546
         },
         {
          "x1": 7,
          "x2": 71,
          "x3": 0.5856455161072356,
          "x4": 547
         },
         {
          "x1": 8,
          "x2": 56,
          "x3": 0.8848592116119511,
          "x4": 548
         },
         {
          "x1": 2,
          "x2": 55,
          "x3": 0.20088144345663148,
          "x4": 549
         },
         {
          "x1": 3,
          "x2": 57,
          "x3": 0.3773328767314702,
          "x4": 550
         },
         {
          "x1": 6,
          "x2": 57,
          "x3": 0.8751328275872348,
          "x4": 551
         },
         {
          "x1": 8,
          "x2": 57,
          "x3": 0.9538574975626131,
          "x4": 552
         },
         {
          "x1": 4,
          "x2": 69,
          "x3": 0.5588609770775966,
          "x4": 553
         },
         {
          "x1": 3,
          "x2": 58,
          "x3": 0.3719242611954876,
          "x4": 554
         },
         {
          "x1": 8,
          "x2": 58,
          "x3": 0.9903750123073962,
          "x4": 555
         },
         {
          "x1": 6,
          "x2": 58,
          "x3": 0.6827373842457171,
          "x4": 556
         },
         {
          "x1": 7,
          "x2": 72,
          "x3": 0.836487617173302,
          "x4": 557
         },
         {
          "x1": 1,
          "x2": 66,
          "x3": 0.3656251582547707,
          "x4": 558
         },
         {
          "x1": 4,
          "x2": 70,
          "x3": 0.6089138920615518,
          "x4": 559
         },
         {
          "x1": 3,
          "x2": 59,
          "x3": 0.39284137121731894,
          "x4": 560
         },
         {
          "x1": 6,
          "x2": 59,
          "x3": 0.6802250479668402,
          "x4": 561
         },
         {
          "x1": 0,
          "x2": 50,
          "x3": 0.16522788973759092,
          "x4": 562
         },
         {
          "x1": 0,
          "x2": 51,
          "x3": 0.14835314684068715,
          "x4": 563
         },
         {
          "x1": 5,
          "x2": 74,
          "x3": 0.7255374642629336,
          "x4": 564
         },
         {
          "x1": 7,
          "x2": 73,
          "x3": 0.8911779478721591,
          "x4": 565
         },
         {
          "x1": 4,
          "x2": 71,
          "x3": 0.2237538565903233,
          "x4": 566
         },
         {
          "x1": 1,
          "x2": 67,
          "x3": 0.058239873353916054,
          "x4": 567
         },
         {
          "x1": 4,
          "x2": 72,
          "x3": 0.4728382272827465,
          "x4": 568
         },
         {
          "x1": 5,
          "x2": 75,
          "x3": 0.6309398399168875,
          "x4": 569
         },
         {
          "x1": 0,
          "x2": 52,
          "x3": 0.008054398991925794,
          "x4": 570
         },
         {
          "x1": 7,
          "x2": 74,
          "x3": 0.914306044897626,
          "x4": 571
         },
         {
          "x1": 5,
          "x2": 76,
          "x3": 0.4742316770909875,
          "x4": 572
         },
         {
          "x1": 0,
          "x2": 53,
          "x3": 0.18979448485889425,
          "x4": 573
         },
         {
          "x1": 3,
          "x2": 60,
          "x3": 0.31870771079845694,
          "x4": 574
         },
         {
          "x1": 0,
          "x2": 54,
          "x3": 0.040497092178948826,
          "x4": 575
         },
         {
          "x1": 0,
          "x2": 55,
          "x3": 0.009585289559914528,
          "x4": 576
         },
         {
          "x1": 3,
          "x2": 61,
          "x3": 0.321457137473356,
          "x4": 577
         },
         {
          "x1": 7,
          "x2": 75,
          "x3": 0.7957520547227948,
          "x4": 578
         },
         {
          "x1": 0,
          "x2": 56,
          "x3": 0.05940783567051699,
          "x4": 579
         },
         {
          "x1": 5,
          "x2": 77,
          "x3": 0.6022372859124365,
          "x4": 580
         },
         {
          "x1": 2,
          "x2": 56,
          "x3": 0.20870791587663207,
          "x4": 581
         },
         {
          "x1": 2,
          "x2": 57,
          "x3": 0.18698781325077343,
          "x4": 582
         },
         {
          "x1": 2,
          "x2": 58,
          "x3": 0.22373906054143988,
          "x4": 583
         },
         {
          "x1": 8,
          "x2": 59,
          "x3": 0.9633711978189031,
          "x4": 584
         },
         {
          "x1": 1,
          "x2": 68,
          "x3": 0.21644633953235773,
          "x4": 585
         },
         {
          "x1": 5,
          "x2": 78,
          "x3": 0.8090337162157797,
          "x4": 586
         },
         {
          "x1": 3,
          "x2": 62,
          "x3": 0.503085211439058,
          "x4": 587
         },
         {
          "x1": 7,
          "x2": 76,
          "x3": 0.7069636442798873,
          "x4": 588
         },
         {
          "x1": 8,
          "x2": 60,
          "x3": 0.9582829205231811,
          "x4": 589
         },
         {
          "x1": 7,
          "x2": 77,
          "x3": 0.8331757082896478,
          "x4": 590
         },
         {
          "x1": 4,
          "x2": 73,
          "x3": 0.7595868709185597,
          "x4": 591
         },
         {
          "x1": 1,
          "x2": 69,
          "x3": 0.013523628757781039,
          "x4": 592
         },
         {
          "x1": 6,
          "x2": 60,
          "x3": 0.6673862112661213,
          "x4": 593
         },
         {
          "x1": 5,
          "x2": 79,
          "x3": 0.6481005596124132,
          "x4": 594
         },
         {
          "x1": 5,
          "x2": 80,
          "x3": 0.7355447736125519,
          "x4": 595
         },
         {
          "x1": 8,
          "x2": 61,
          "x3": 0.9132212905287782,
          "x4": 596
         },
         {
          "x1": 0,
          "x2": 57,
          "x3": 0.008887123823610824,
          "x4": 597
         },
         {
          "x1": 3,
          "x2": 63,
          "x3": 0.21103018858093234,
          "x4": 598
         },
         {
          "x1": 3,
          "x2": 64,
          "x3": 0.23336281061412095,
          "x4": 599
         },
         {
          "x1": 2,
          "x2": 59,
          "x3": 0.32812379719377743,
          "x4": 600
         },
         {
          "x1": 4,
          "x2": 74,
          "x3": 0.5448521606793406,
          "x4": 601
         },
         {
          "x1": 3,
          "x2": 65,
          "x3": 0.24336690792264237,
          "x4": 602
         },
         {
          "x1": 6,
          "x2": 61,
          "x3": 0.8699387236222529,
          "x4": 603
         },
         {
          "x1": 1,
          "x2": 70,
          "x3": 0.19592127114335692,
          "x4": 604
         },
         {
          "x1": 6,
          "x2": 62,
          "x3": 0.7655117608691357,
          "x4": 605
         },
         {
          "x1": 2,
          "x2": 60,
          "x3": 0.042527751930625794,
          "x4": 606
         },
         {
          "x1": 8,
          "x2": 62,
          "x3": 0.9590884570550862,
          "x4": 607
         },
         {
          "x1": 7,
          "x2": 78,
          "x3": 0.8025389189895238,
          "x4": 608
         },
         {
          "x1": 3,
          "x2": 66,
          "x3": 0.526993002007127,
          "x4": 609
         },
         {
          "x1": 2,
          "x2": 61,
          "x3": 0.2221622672068296,
          "x4": 610
         },
         {
          "x1": 0,
          "x2": 58,
          "x3": 0.32113639538785527,
          "x4": 611
         },
         {
          "x1": 8,
          "x2": 63,
          "x3": 0.9545778992952324,
          "x4": 612
         },
         {
          "x1": 7,
          "x2": 79,
          "x3": 0.5829762581501238,
          "x4": 613
         },
         {
          "x1": 4,
          "x2": 75,
          "x3": 0.22334532843555183,
          "x4": 614
         },
         {
          "x1": 5,
          "x2": 81,
          "x3": 0.724666872676932,
          "x4": 615
         },
         {
          "x1": 5,
          "x2": 82,
          "x3": 0.687740882336526,
          "x4": 616
         },
         {
          "x1": 6,
          "x2": 63,
          "x3": 0.5071960270300742,
          "x4": 617
         },
         {
          "x1": 2,
          "x2": 62,
          "x3": 0.20859604288858272,
          "x4": 618
         },
         {
          "x1": 1,
          "x2": 71,
          "x3": 0.19478394222689283,
          "x4": 619
         },
         {
          "x1": 7,
          "x2": 80,
          "x3": 0.9661957581299788,
          "x4": 620
         },
         {
          "x1": 2,
          "x2": 63,
          "x3": 0.31975033809015974,
          "x4": 621
         },
         {
          "x1": 5,
          "x2": 83,
          "x3": 0.4137324406427342,
          "x4": 622
         },
         {
          "x1": 1,
          "x2": 72,
          "x3": 0.2876381562606656,
          "x4": 623
         },
         {
          "x1": 0,
          "x2": 59,
          "x3": 0.07344824926721338,
          "x4": 624
         },
         {
          "x1": 3,
          "x2": 67,
          "x3": 0.38075898439262695,
          "x4": 625
         },
         {
          "x1": 1,
          "x2": 73,
          "x3": 0.06442443544103127,
          "x4": 626
         },
         {
          "x1": 8,
          "x2": 64,
          "x3": 0.9901771688266472,
          "x4": 627
         },
         {
          "x1": 8,
          "x2": 65,
          "x3": 0.9870333947566762,
          "x4": 628
         },
         {
          "x1": 7,
          "x2": 81,
          "x3": 0.9501829135348696,
          "x4": 629
         },
         {
          "x1": 0,
          "x2": 60,
          "x3": 0.009734423732845658,
          "x4": 630
         },
         {
          "x1": 0,
          "x2": 61,
          "x3": 0.008412706453104697,
          "x4": 631
         },
         {
          "x1": 3,
          "x2": 68,
          "x3": 0.35743054286671244,
          "x4": 632
         },
         {
          "x1": 0,
          "x2": 62,
          "x3": 0.08513799916672601,
          "x4": 633
         },
         {
          "x1": 1,
          "x2": 74,
          "x3": 0.10686555854716102,
          "x4": 634
         },
         {
          "x1": 2,
          "x2": 64,
          "x3": 0.2417775060428603,
          "x4": 635
         },
         {
          "x1": 4,
          "x2": 76,
          "x3": 0.7394064299577785,
          "x4": 636
         },
         {
          "x1": 5,
          "x2": 84,
          "x3": 0.5352201954489998,
          "x4": 637
         },
         {
          "x1": 6,
          "x2": 64,
          "x3": 0.5376727808683602,
          "x4": 638
         },
         {
          "x1": 6,
          "x2": 65,
          "x3": 0.7585397306714455,
          "x4": 639
         },
         {
          "x1": 3,
          "x2": 69,
          "x3": 0.723572595739527,
          "x4": 640
         },
         {
          "x1": 5,
          "x2": 85,
          "x3": 0.35778590026218826,
          "x4": 641
         },
         {
          "x1": 0,
          "x2": 63,
          "x3": 0.11360898319839202,
          "x4": 642
         },
         {
          "x1": 2,
          "x2": 65,
          "x3": 0.4098818896589983,
          "x4": 643
         },
         {
          "x1": 6,
          "x2": 66,
          "x3": 0.781284642861187,
          "x4": 644
         },
         {
          "x1": 2,
          "x2": 66,
          "x3": 0.27235370324211744,
          "x4": 645
         },
         {
          "x1": 5,
          "x2": 86,
          "x3": 0.4167749768755905,
          "x4": 646
         },
         {
          "x1": 4,
          "x2": 77,
          "x3": 0.6098911381762165,
          "x4": 647
         },
         {
          "x1": 3,
          "x2": 70,
          "x3": 0.4779367282393931,
          "x4": 648
         },
         {
          "x1": 0,
          "x2": 64,
          "x3": 0.4659103075356703,
          "x4": 649
         },
         {
          "x1": 2,
          "x2": 67,
          "x3": 0.3060135639957884,
          "x4": 650
         },
         {
          "x1": 7,
          "x2": 82,
          "x3": 0.8604491130661825,
          "x4": 651
         },
         {
          "x1": 5,
          "x2": 87,
          "x3": 0.5311518188890934,
          "x4": 652
         },
         {
          "x1": 0,
          "x2": 65,
          "x3": 0.05745976760509336,
          "x4": 653
         },
         {
          "x1": 1,
          "x2": 75,
          "x3": 0.10498777930408876,
          "x4": 654
         },
         {
          "x1": 8,
          "x2": 66,
          "x3": 0.9233882804168084,
          "x4": 655
         },
         {
          "x1": 1,
          "x2": 76,
          "x3": 0.17808653077267064,
          "x4": 656
         },
         {
          "x1": 2,
          "x2": 68,
          "x3": 0.44440198738717,
          "x4": 657
         },
         {
          "x1": 7,
          "x2": 83,
          "x3": 0.9798628059153353,
          "x4": 658
         },
         {
          "x1": 0,
          "x2": 66,
          "x3": 0.11628785854622926,
          "x4": 659
         },
         {
          "x1": 3,
          "x2": 71,
          "x3": 0.37872422435108954,
          "x4": 660
         },
         {
          "x1": 6,
          "x2": 67,
          "x3": 0.5064149939971435,
          "x4": 661
         },
         {
          "x1": 7,
          "x2": 84,
          "x3": 0.606327106444762,
          "x4": 662
         },
         {
          "x1": 8,
          "x2": 67,
          "x3": 0.9341270995118065,
          "x4": 663
         },
         {
          "x1": 3,
          "x2": 72,
          "x3": 0.2801311345152844,
          "x4": 664
         },
         {
          "x1": 4,
          "x2": 78,
          "x3": 0.36018995243703245,
          "x4": 665
         },
         {
          "x1": 7,
          "x2": 85,
          "x3": 0.6785450503355419,
          "x4": 666
         },
         {
          "x1": 4,
          "x2": 79,
          "x3": 0.4818198079388809,
          "x4": 667
         },
         {
          "x1": 8,
          "x2": 68,
          "x3": 0.9722161840555604,
          "x4": 668
         },
         {
          "x1": 7,
          "x2": 86,
          "x3": 0.8664604284934175,
          "x4": 669
         },
         {
          "x1": 6,
          "x2": 68,
          "x3": 0.8169049763685212,
          "x4": 670
         },
         {
          "x1": 8,
          "x2": 69,
          "x3": 0.8913168567648657,
          "x4": 671
         },
         {
          "x1": 8,
          "x2": 70,
          "x3": 0.9304530003213458,
          "x4": 672
         },
         {
          "x1": 5,
          "x2": 88,
          "x3": 0.6267522324997766,
          "x4": 673
         },
         {
          "x1": 4,
          "x2": 80,
          "x3": 0.4276807765633074,
          "x4": 674
         },
         {
          "x1": 1,
          "x2": 77,
          "x3": 0.1986306689057119,
          "x4": 675
         },
         {
          "x1": 4,
          "x2": 81,
          "x3": 0.658723462425289,
          "x4": 676
         },
         {
          "x1": 5,
          "x2": 89,
          "x3": 0.7774236166151138,
          "x4": 677
         },
         {
          "x1": 2,
          "x2": 69,
          "x3": 0.30820543170145415,
          "x4": 678
         },
         {
          "x1": 7,
          "x2": 87,
          "x3": 0.892127578043754,
          "x4": 679
         },
         {
          "x1": 8,
          "x2": 71,
          "x3": 0.8118848799928089,
          "x4": 680
         },
         {
          "x1": 1,
          "x2": 78,
          "x3": 0.018683526008802413,
          "x4": 681
         },
         {
          "x1": 1,
          "x2": 79,
          "x3": 0.30624060926506397,
          "x4": 682
         },
         {
          "x1": 8,
          "x2": 72,
          "x3": 0.8642610773672269,
          "x4": 683
         },
         {
          "x1": 6,
          "x2": 69,
          "x3": 0.7347366423092475,
          "x4": 684
         },
         {
          "x1": 6,
          "x2": 70,
          "x3": 0.7052584341470771,
          "x4": 685
         },
         {
          "x1": 5,
          "x2": 90,
          "x3": 0.6878018467757102,
          "x4": 686
         },
         {
          "x1": 4,
          "x2": 82,
          "x3": 0.6116394846968964,
          "x4": 687
         },
         {
          "x1": 5,
          "x2": 91,
          "x3": 0.7095833909877829,
          "x4": 688
         },
         {
          "x1": 2,
          "x2": 70,
          "x3": 0.05697438504398063,
          "x4": 689
         },
         {
          "x1": 0,
          "x2": 67,
          "x3": 0.08259951123517895,
          "x4": 690
         },
         {
          "x1": 1,
          "x2": 80,
          "x3": 0.20417547865646313,
          "x4": 691
         },
         {
          "x1": 2,
          "x2": 71,
          "x3": 0.43776227307221066,
          "x4": 692
         },
         {
          "x1": 7,
          "x2": 88,
          "x3": 0.5154121137655824,
          "x4": 693
         },
         {
          "x1": 1,
          "x2": 81,
          "x3": 0.17127581890436674,
          "x4": 694
         },
         {
          "x1": 0,
          "x2": 68,
          "x3": 0.11939247994522602,
          "x4": 695
         },
         {
          "x1": 7,
          "x2": 89,
          "x3": 0.9648017494857163,
          "x4": 696
         },
         {
          "x1": 4,
          "x2": 83,
          "x3": 0.6738788115813258,
          "x4": 697
         },
         {
          "x1": 4,
          "x2": 84,
          "x3": 0.19817642574601507,
          "x4": 698
         },
         {
          "x1": 6,
          "x2": 71,
          "x3": 0.623539905476721,
          "x4": 699
         },
         {
          "x1": 8,
          "x2": 73,
          "x3": 0.9786651749479708,
          "x4": 700
         },
         {
          "x1": 8,
          "x2": 74,
          "x3": 0.9141054549010469,
          "x4": 701
         },
         {
          "x1": 3,
          "x2": 73,
          "x3": 0.6787376792504229,
          "x4": 702
         },
         {
          "x1": 4,
          "x2": 85,
          "x3": 0.3219796649009495,
          "x4": 703
         },
         {
          "x1": 0,
          "x2": 69,
          "x3": 0.09221478974055125,
          "x4": 704
         },
         {
          "x1": 6,
          "x2": 72,
          "x3": 0.7104150406968804,
          "x4": 705
         },
         {
          "x1": 2,
          "x2": 72,
          "x3": 0.08226005269285332,
          "x4": 706
         },
         {
          "x1": 7,
          "x2": 90,
          "x3": 0.7937075567536833,
          "x4": 707
         },
         {
          "x1": 0,
          "x2": 70,
          "x3": 0.030620610993000365,
          "x4": 708
         },
         {
          "x1": 6,
          "x2": 73,
          "x3": 0.693483974391156,
          "x4": 709
         },
         {
          "x1": 5,
          "x2": 92,
          "x3": 0.9152013930936923,
          "x4": 710
         },
         {
          "x1": 0,
          "x2": 71,
          "x3": 0.10809341595049914,
          "x4": 711
         },
         {
          "x1": 2,
          "x2": 73,
          "x3": 0.2083967351435342,
          "x4": 712
         },
         {
          "x1": 0,
          "x2": 72,
          "x3": 0.14841427567660603,
          "x4": 713
         },
         {
          "x1": 8,
          "x2": 75,
          "x3": 0.7178219134905309,
          "x4": 714
         },
         {
          "x1": 7,
          "x2": 91,
          "x3": 0.8810088982738566,
          "x4": 715
         },
         {
          "x1": 1,
          "x2": 82,
          "x3": 0.323267356692234,
          "x4": 716
         },
         {
          "x1": 4,
          "x2": 86,
          "x3": 0.4429874376271053,
          "x4": 717
         },
         {
          "x1": 0,
          "x2": 73,
          "x3": 0.057323018134460495,
          "x4": 718
         },
         {
          "x1": 1,
          "x2": 83,
          "x3": 0.10432017966729742,
          "x4": 719
         },
         {
          "x1": 0,
          "x2": 74,
          "x3": 0.07757788591469562,
          "x4": 720
         },
         {
          "x1": 5,
          "x2": 93,
          "x3": 0.7474766363461521,
          "x4": 721
         },
         {
          "x1": 6,
          "x2": 74,
          "x3": 0.5399801779977469,
          "x4": 722
         },
         {
          "x1": 1,
          "x2": 84,
          "x3": 0.23831830312319555,
          "x4": 723
         },
         {
          "x1": 5,
          "x2": 94,
          "x3": 0.6838401561437969,
          "x4": 724
         },
         {
          "x1": 4,
          "x2": 87,
          "x3": 0.36999201361049205,
          "x4": 725
         },
         {
          "x1": 5,
          "x2": 95,
          "x3": 0.313065066473536,
          "x4": 726
         },
         {
          "x1": 6,
          "x2": 75,
          "x3": 0.6485745848351435,
          "x4": 727
         },
         {
          "x1": 5,
          "x2": 96,
          "x3": 0.7468851021018028,
          "x4": 728
         },
         {
          "x1": 1,
          "x2": 85,
          "x3": 0.19080719654732234,
          "x4": 729
         },
         {
          "x1": 0,
          "x2": 75,
          "x3": 0.04824037151784052,
          "x4": 730
         },
         {
          "x1": 7,
          "x2": 92,
          "x3": 0.7519242831330348,
          "x4": 731
         },
         {
          "x1": 4,
          "x2": 88,
          "x3": 0.6696638425339609,
          "x4": 732
         },
         {
          "x1": 7,
          "x2": 93,
          "x3": 0.76404988170267,
          "x4": 733
         },
         {
          "x1": 4,
          "x2": 89,
          "x3": 0.40855993704983057,
          "x4": 734
         },
         {
          "x1": 1,
          "x2": 86,
          "x3": 0.23568094857436592,
          "x4": 735
         },
         {
          "x1": 5,
          "x2": 97,
          "x3": 0.543120399650291,
          "x4": 736
         },
         {
          "x1": 5,
          "x2": 98,
          "x3": 0.6704392493353432,
          "x4": 737
         },
         {
          "x1": 2,
          "x2": 74,
          "x3": 0.2079681551589095,
          "x4": 738
         },
         {
          "x1": 1,
          "x2": 87,
          "x3": 0.13577153347122894,
          "x4": 739
         },
         {
          "x1": 5,
          "x2": 99,
          "x3": 0.5887644739853606,
          "x4": 740
         },
         {
          "x1": 1,
          "x2": 88,
          "x3": 0.26396472334362847,
          "x4": 741
         },
         {
          "x1": 5,
          "x2": 100,
          "x3": 0.614206443393432,
          "x4": 742
         },
         {
          "x1": 4,
          "x2": 90,
          "x3": 0.3131385434135104,
          "x4": 743
         },
         {
          "x1": 8,
          "x2": 76,
          "x3": 0.8665247809406722,
          "x4": 744
         },
         {
          "x1": 4,
          "x2": 91,
          "x3": 0.6748563876632739,
          "x4": 745
         },
         {
          "x1": 7,
          "x2": 94,
          "x3": 0.9679880753706316,
          "x4": 746
         },
         {
          "x1": 7,
          "x2": 95,
          "x3": 0.9044380270427378,
          "x4": 747
         },
         {
          "x1": 2,
          "x2": 75,
          "x3": 0.43932154131160445,
          "x4": 748
         },
         {
          "x1": 0,
          "x2": 76,
          "x3": 0.004385934957700257,
          "x4": 749
         },
         {
          "x1": 3,
          "x2": 74,
          "x3": 0.19988452845149468,
          "x4": 750
         },
         {
          "x1": 7,
          "x2": 96,
          "x3": 0.6175077376688896,
          "x4": 751
         },
         {
          "x1": 0,
          "x2": 77,
          "x3": 0.08550718378575337,
          "x4": 752
         },
         {
          "x1": 5,
          "x2": 101,
          "x3": 0.682065598979365,
          "x4": 753
         },
         {
          "x1": 4,
          "x2": 92,
          "x3": 0.3881186714921721,
          "x4": 754
         },
         {
          "x1": 5,
          "x2": 102,
          "x3": 0.6433927777863778,
          "x4": 755
         },
         {
          "x1": 7,
          "x2": 97,
          "x3": 0.7133723829202623,
          "x4": 756
         },
         {
          "x1": 7,
          "x2": 98,
          "x3": 0.7755042652179465,
          "x4": 757
         },
         {
          "x1": 2,
          "x2": 76,
          "x3": 0.5631037307319816,
          "x4": 758
         },
         {
          "x1": 4,
          "x2": 93,
          "x3": 0.7059163939375933,
          "x4": 759
         },
         {
          "x1": 4,
          "x2": 94,
          "x3": 0.7016979961487002,
          "x4": 760
         },
         {
          "x1": 6,
          "x2": 76,
          "x3": 0.702158644018082,
          "x4": 761
         },
         {
          "x1": 2,
          "x2": 77,
          "x3": 0.07140119071877468,
          "x4": 762
         },
         {
          "x1": 0,
          "x2": 78,
          "x3": 0.018602762891036875,
          "x4": 763
         },
         {
          "x1": 8,
          "x2": 77,
          "x3": 0.992331951348389,
          "x4": 764
         },
         {
          "x1": 5,
          "x2": 103,
          "x3": 0.5944319637059683,
          "x4": 765
         },
         {
          "x1": 1,
          "x2": 89,
          "x3": 0.12147958655401157,
          "x4": 766
         },
         {
          "x1": 5,
          "x2": 104,
          "x3": 0.4847553971369381,
          "x4": 767
         },
         {
          "x1": 5,
          "x2": 105,
          "x3": 0.6346473430628129,
          "x4": 768
         },
         {
          "x1": 5,
          "x2": 106,
          "x3": 0.20254528617312337,
          "x4": 769
         },
         {
          "x1": 0,
          "x2": 79,
          "x3": 0.0671222697127725,
          "x4": 770
         },
         {
          "x1": 4,
          "x2": 95,
          "x3": 0.7126749743078217,
          "x4": 771
         },
         {
          "x1": 0,
          "x2": 80,
          "x3": 0.2824889757323746,
          "x4": 772
         },
         {
          "x1": 0,
          "x2": 81,
          "x3": 0.23199664395062675,
          "x4": 773
         },
         {
          "x1": 6,
          "x2": 77,
          "x3": 0.690884139777258,
          "x4": 774
         },
         {
          "x1": 6,
          "x2": 78,
          "x3": 0.8313951273661238,
          "x4": 775
         },
         {
          "x1": 1,
          "x2": 90,
          "x3": 0.29918236680270893,
          "x4": 776
         },
         {
          "x1": 5,
          "x2": 107,
          "x3": 0.5952760288681126,
          "x4": 777
         },
         {
          "x1": 8,
          "x2": 78,
          "x3": 0.8621816889737952,
          "x4": 778
         },
         {
          "x1": 0,
          "x2": 82,
          "x3": 0.1768672842969476,
          "x4": 779
         },
         {
          "x1": 8,
          "x2": 79,
          "x3": 0.9899057348343241,
          "x4": 780
         },
         {
          "x1": 6,
          "x2": 79,
          "x3": 0.8109223875985364,
          "x4": 781
         },
         {
          "x1": 7,
          "x2": 99,
          "x3": 0.9310665199044811,
          "x4": 782
         },
         {
          "x1": 4,
          "x2": 96,
          "x3": 0.19548542060963825,
          "x4": 783
         },
         {
          "x1": 3,
          "x2": 75,
          "x3": 0.2153064154927995,
          "x4": 784
         },
         {
          "x1": 5,
          "x2": 108,
          "x3": 0.26832755036138717,
          "x4": 785
         },
         {
          "x1": 8,
          "x2": 80,
          "x3": 0.9503286606749728,
          "x4": 786
         },
         {
          "x1": 4,
          "x2": 97,
          "x3": 0.5445373379188845,
          "x4": 787
         },
         {
          "x1": 2,
          "x2": 78,
          "x3": 0.40084869451350386,
          "x4": 788
         },
         {
          "x1": 5,
          "x2": 109,
          "x3": 0.5694139327689204,
          "x4": 789
         },
         {
          "x1": 3,
          "x2": 76,
          "x3": 0.33764256429217604,
          "x4": 790
         },
         {
          "x1": 0,
          "x2": 83,
          "x3": 0.14752687936127876,
          "x4": 791
         },
         {
          "x1": 0,
          "x2": 84,
          "x3": 0.027675119557151136,
          "x4": 792
         },
         {
          "x1": 5,
          "x2": 110,
          "x3": 0.5822753632436826,
          "x4": 793
         },
         {
          "x1": 0,
          "x2": 85,
          "x3": 0.00037263895328217835,
          "x4": 794
         },
         {
          "x1": 5,
          "x2": 111,
          "x3": 0.6695955024360761,
          "x4": 795
         },
         {
          "x1": 8,
          "x2": 81,
          "x3": 0.9987043514612125,
          "x4": 796
         },
         {
          "x1": 8,
          "x2": 82,
          "x3": 0.8047534064439508,
          "x4": 797
         },
         {
          "x1": 1,
          "x2": 91,
          "x3": 0.12449691977249411,
          "x4": 798
         },
         {
          "x1": 6,
          "x2": 80,
          "x3": 0.8812172445931616,
          "x4": 799
         },
         {
          "x1": 6,
          "x2": 81,
          "x3": 0.5726147556532989,
          "x4": 800
         },
         {
          "x1": 7,
          "x2": 100,
          "x3": 0.8794496406125021,
          "x4": 801
         },
         {
          "x1": 7,
          "x2": 101,
          "x3": 0.7196686824514806,
          "x4": 802
         },
         {
          "x1": 3,
          "x2": 77,
          "x3": 0.6800887040640125,
          "x4": 803
         },
         {
          "x1": 6,
          "x2": 82,
          "x3": 0.4932938272716618,
          "x4": 804
         },
         {
          "x1": 0,
          "x2": 86,
          "x3": 0.18764282837337234,
          "x4": 805
         },
         {
          "x1": 3,
          "x2": 78,
          "x3": 0.37737989513576975,
          "x4": 806
         },
         {
          "x1": 7,
          "x2": 102,
          "x3": 0.9433252517944246,
          "x4": 807
         },
         {
          "x1": 5,
          "x2": 112,
          "x3": 0.5038291788684429,
          "x4": 808
         },
         {
          "x1": 3,
          "x2": 79,
          "x3": 0.46724929238450746,
          "x4": 809
         },
         {
          "x1": 2,
          "x2": 79,
          "x3": 0.29118365753639786,
          "x4": 810
         },
         {
          "x1": 2,
          "x2": 80,
          "x3": 0.3755271588860569,
          "x4": 811
         },
         {
          "x1": 1,
          "x2": 92,
          "x3": 0.11643259473785715,
          "x4": 812
         },
         {
          "x1": 6,
          "x2": 83,
          "x3": 0.8365178063566744,
          "x4": 813
         },
         {
          "x1": 5,
          "x2": 113,
          "x3": 0.4841588199908945,
          "x4": 814
         },
         {
          "x1": 3,
          "x2": 80,
          "x3": 0.585079997426209,
          "x4": 815
         },
         {
          "x1": 6,
          "x2": 84,
          "x3": 0.6385481056848531,
          "x4": 816
         },
         {
          "x1": 3,
          "x2": 81,
          "x3": 0.6448221005837275,
          "x4": 817
         },
         {
          "x1": 3,
          "x2": 82,
          "x3": 0.3989731787748001,
          "x4": 818
         },
         {
          "x1": 6,
          "x2": 85,
          "x3": 0.6057595699777303,
          "x4": 819
         },
         {
          "x1": 8,
          "x2": 83,
          "x3": 0.8755511376537743,
          "x4": 820
         },
         {
          "x1": 4,
          "x2": 98,
          "x3": 0.38196383745141904,
          "x4": 821
         },
         {
          "x1": 5,
          "x2": 114,
          "x3": 0.8186016212539913,
          "x4": 822
         },
         {
          "x1": 0,
          "x2": 87,
          "x3": 0.0695513190468589,
          "x4": 823
         },
         {
          "x1": 7,
          "x2": 103,
          "x3": 0.8981934374050208,
          "x4": 824
         },
         {
          "x1": 3,
          "x2": 83,
          "x3": 0.5309122961206936,
          "x4": 825
         },
         {
          "x1": 6,
          "x2": 86,
          "x3": 0.7896103680493426,
          "x4": 826
         },
         {
          "x1": 2,
          "x2": 81,
          "x3": 0.07650422777682961,
          "x4": 827
         },
         {
          "x1": 7,
          "x2": 104,
          "x3": 0.8813847432254115,
          "x4": 828
         },
         {
          "x1": 0,
          "x2": 88,
          "x3": 0.01684649740684465,
          "x4": 829
         },
         {
          "x1": 7,
          "x2": 105,
          "x3": 0.5854564001455305,
          "x4": 830
         },
         {
          "x1": 0,
          "x2": 89,
          "x3": 0.21344435870862322,
          "x4": 831
         },
         {
          "x1": 4,
          "x2": 99,
          "x3": 0.3310816704202318,
          "x4": 832
         },
         {
          "x1": 1,
          "x2": 93,
          "x3": 0.15993864204964475,
          "x4": 833
         },
         {
          "x1": 6,
          "x2": 87,
          "x3": 0.7531010905416877,
          "x4": 834
         },
         {
          "x1": 2,
          "x2": 82,
          "x3": 0.6244853064766873,
          "x4": 835
         },
         {
          "x1": 8,
          "x2": 84,
          "x3": 0.9079725626871678,
          "x4": 836
         },
         {
          "x1": 7,
          "x2": 106,
          "x3": 0.5854661482758312,
          "x4": 837
         },
         {
          "x1": 6,
          "x2": 88,
          "x3": 0.9513885924810623,
          "x4": 838
         },
         {
          "x1": 5,
          "x2": 115,
          "x3": 0.45845703186262776,
          "x4": 839
         },
         {
          "x1": 6,
          "x2": 89,
          "x3": 0.9011863354747157,
          "x4": 840
         },
         {
          "x1": 2,
          "x2": 83,
          "x3": 0.11704505192867105,
          "x4": 841
         },
         {
          "x1": 8,
          "x2": 85,
          "x3": 0.9908001682770543,
          "x4": 842
         },
         {
          "x1": 5,
          "x2": 116,
          "x3": 0.7569269065191734,
          "x4": 843
         },
         {
          "x1": 3,
          "x2": 84,
          "x3": 0.35150577671974215,
          "x4": 844
         },
         {
          "x1": 4,
          "x2": 100,
          "x3": 0.6766794661476973,
          "x4": 845
         },
         {
          "x1": 8,
          "x2": 86,
          "x3": 0.9990511980359555,
          "x4": 846
         },
         {
          "x1": 4,
          "x2": 101,
          "x3": 0.15145968273854502,
          "x4": 847
         },
         {
          "x1": 2,
          "x2": 84,
          "x3": 0.38280511011392465,
          "x4": 848
         },
         {
          "x1": 1,
          "x2": 94,
          "x3": 0.400061617725787,
          "x4": 849
         },
         {
          "x1": 3,
          "x2": 85,
          "x3": 0.618092791331174,
          "x4": 850
         },
         {
          "x1": 2,
          "x2": 85,
          "x3": 0.262499732671214,
          "x4": 851
         },
         {
          "x1": 5,
          "x2": 117,
          "x3": 0.3917553155857228,
          "x4": 852
         },
         {
          "x1": 3,
          "x2": 86,
          "x3": 0.2288632717101742,
          "x4": 853
         },
         {
          "x1": 6,
          "x2": 90,
          "x3": 0.5307135753879183,
          "x4": 854
         },
         {
          "x1": 3,
          "x2": 87,
          "x3": 0.6132653524026817,
          "x4": 855
         },
         {
          "x1": 8,
          "x2": 87,
          "x3": 0.9870010752602146,
          "x4": 856
         },
         {
          "x1": 5,
          "x2": 118,
          "x3": 0.6738033645422143,
          "x4": 857
         },
         {
          "x1": 4,
          "x2": 102,
          "x3": 0.6908998210915539,
          "x4": 858
         },
         {
          "x1": 0,
          "x2": 90,
          "x3": 0.10190210294587386,
          "x4": 859
         },
         {
          "x1": 7,
          "x2": 107,
          "x3": 0.7955193740895479,
          "x4": 860
         },
         {
          "x1": 8,
          "x2": 88,
          "x3": 0.9909000345259794,
          "x4": 861
         },
         {
          "x1": 2,
          "x2": 86,
          "x3": 0.35097669250513885,
          "x4": 862
         },
         {
          "x1": 6,
          "x2": 91,
          "x3": 0.5558356381169284,
          "x4": 863
         },
         {
          "x1": 4,
          "x2": 103,
          "x3": 0.36172214998721025,
          "x4": 864
         },
         {
          "x1": 3,
          "x2": 88,
          "x3": 0.33388364667890164,
          "x4": 865
         },
         {
          "x1": 1,
          "x2": 95,
          "x3": 0.6898854400411413,
          "x4": 866
         },
         {
          "x1": 8,
          "x2": 89,
          "x3": 0.7666013537437866,
          "x4": 867
         },
         {
          "x1": 0,
          "x2": 91,
          "x3": 0.14616327401535334,
          "x4": 868
         },
         {
          "x1": 3,
          "x2": 89,
          "x3": 0.6921982685632859,
          "x4": 869
         },
         {
          "x1": 7,
          "x2": 108,
          "x3": 0.9800599172674707,
          "x4": 870
         },
         {
          "x1": 3,
          "x2": 90,
          "x3": 0.3971210058593701,
          "x4": 871
         },
         {
          "x1": 3,
          "x2": 91,
          "x3": 0.5177395123097905,
          "x4": 872
         },
         {
          "x1": 4,
          "x2": 104,
          "x3": 0.49801213246044773,
          "x4": 873
         },
         {
          "x1": 8,
          "x2": 90,
          "x3": 0.9820280018902675,
          "x4": 874
         },
         {
          "x1": 5,
          "x2": 119,
          "x3": 0.7128876774804733,
          "x4": 875
         },
         {
          "x1": 8,
          "x2": 91,
          "x3": 0.9547627088514543,
          "x4": 876
         },
         {
          "x1": 7,
          "x2": 109,
          "x3": 0.7459899753321213,
          "x4": 877
         },
         {
          "x1": 0,
          "x2": 92,
          "x3": 0.20490715442611218,
          "x4": 878
         },
         {
          "x1": 3,
          "x2": 92,
          "x3": 0.5285079694705981,
          "x4": 879
         },
         {
          "x1": 3,
          "x2": 93,
          "x3": 0.28733912551746676,
          "x4": 880
         },
         {
          "x1": 7,
          "x2": 110,
          "x3": 0.8148985042262674,
          "x4": 881
         },
         {
          "x1": 5,
          "x2": 120,
          "x3": 0.5173669123699967,
          "x4": 882
         },
         {
          "x1": 7,
          "x2": 111,
          "x3": 0.8905312509451169,
          "x4": 883
         },
         {
          "x1": 1,
          "x2": 96,
          "x3": 0.14732701042180293,
          "x4": 884
         },
         {
          "x1": 0,
          "x2": 93,
          "x3": 0.2733705315369629,
          "x4": 885
         },
         {
          "x1": 0,
          "x2": 94,
          "x3": 0.047350678376958825,
          "x4": 886
         },
         {
          "x1": 5,
          "x2": 121,
          "x3": 0.6848341988956482,
          "x4": 887
         },
         {
          "x1": 8,
          "x2": 92,
          "x3": 0.6316906347486659,
          "x4": 888
         },
         {
          "x1": 7,
          "x2": 112,
          "x3": 0.9268285128143045,
          "x4": 889
         },
         {
          "x1": 5,
          "x2": 122,
          "x3": 0.4374983712109518,
          "x4": 890
         },
         {
          "x1": 3,
          "x2": 94,
          "x3": 0.37873389007199865,
          "x4": 891
         },
         {
          "x1": 1,
          "x2": 97,
          "x3": 0.13081242418703393,
          "x4": 892
         },
         {
          "x1": 8,
          "x2": 93,
          "x3": 0.9599713241231304,
          "x4": 893
         },
         {
          "x1": 1,
          "x2": 98,
          "x3": 0.07218426133355148,
          "x4": 894
         },
         {
          "x1": 3,
          "x2": 95,
          "x3": 0.3056527051534886,
          "x4": 895
         },
         {
          "x1": 8,
          "x2": 94,
          "x3": 0.9657648211054407,
          "x4": 896
         },
         {
          "x1": 3,
          "x2": 96,
          "x3": 0.38153770030690065,
          "x4": 897
         },
         {
          "x1": 4,
          "x2": 105,
          "x3": 0.6074978390377902,
          "x4": 898
         },
         {
          "x1": 0,
          "x2": 95,
          "x3": 0.02548995506302099,
          "x4": 899
         },
         {
          "x1": 2,
          "x2": 87,
          "x3": 0.09939024352798718,
          "x4": 900
         },
         {
          "x1": 1,
          "x2": 99,
          "x3": 0.42748214144629876,
          "x4": 901
         },
         {
          "x1": 0,
          "x2": 96,
          "x3": 0.02126807255734764,
          "x4": 902
         },
         {
          "x1": 5,
          "x2": 123,
          "x3": 0.5826389922143231,
          "x4": 903
         },
         {
          "x1": 8,
          "x2": 95,
          "x3": 0.9781620166410605,
          "x4": 904
         },
         {
          "x1": 3,
          "x2": 97,
          "x3": 0.3161430747962104,
          "x4": 905
         },
         {
          "x1": 2,
          "x2": 88,
          "x3": 0.1305973790461209,
          "x4": 906
         },
         {
          "x1": 1,
          "x2": 100,
          "x3": 0.3952901295353795,
          "x4": 907
         },
         {
          "x1": 8,
          "x2": 96,
          "x3": 0.8536830328119352,
          "x4": 908
         },
         {
          "x1": 5,
          "x2": 124,
          "x3": 0.6845020325287505,
          "x4": 909
         },
         {
          "x1": 7,
          "x2": 113,
          "x3": 0.5943200028882053,
          "x4": 910
         },
         {
          "x1": 1,
          "x2": 101,
          "x3": 0.06477984026334332,
          "x4": 911
         },
         {
          "x1": 3,
          "x2": 98,
          "x3": 0.3496339152766912,
          "x4": 912
         },
         {
          "x1": 4,
          "x2": 106,
          "x3": 0.6757156550858611,
          "x4": 913
         },
         {
          "x1": 7,
          "x2": 114,
          "x3": 0.9052445270915295,
          "x4": 914
         },
         {
          "x1": 3,
          "x2": 99,
          "x3": 0.6779823439326026,
          "x4": 915
         },
         {
          "x1": 5,
          "x2": 125,
          "x3": 0.5909405668612976,
          "x4": 916
         },
         {
          "x1": 1,
          "x2": 102,
          "x3": 0.19309300050688052,
          "x4": 917
         },
         {
          "x1": 1,
          "x2": 103,
          "x3": 0.06428635313622987,
          "x4": 918
         },
         {
          "x1": 6,
          "x2": 92,
          "x3": 0.7616028661013238,
          "x4": 919
         },
         {
          "x1": 7,
          "x2": 115,
          "x3": 0.7445016426211137,
          "x4": 920
         },
         {
          "x1": 7,
          "x2": 116,
          "x3": 0.7307702619099202,
          "x4": 921
         },
         {
          "x1": 4,
          "x2": 107,
          "x3": 0.45953402971344093,
          "x4": 922
         },
         {
          "x1": 7,
          "x2": 117,
          "x3": 0.9210601174253787,
          "x4": 923
         },
         {
          "x1": 2,
          "x2": 89,
          "x3": 0.5452918450512353,
          "x4": 924
         },
         {
          "x1": 3,
          "x2": 100,
          "x3": 0.39568626840506493,
          "x4": 925
         },
         {
          "x1": 5,
          "x2": 126,
          "x3": 0.5803209092639439,
          "x4": 926
         },
         {
          "x1": 7,
          "x2": 118,
          "x3": 0.8264664266366626,
          "x4": 927
         },
         {
          "x1": 2,
          "x2": 90,
          "x3": 0.48935878267421073,
          "x4": 928
         },
         {
          "x1": 2,
          "x2": 91,
          "x3": 0.15993942322396157,
          "x4": 929
         },
         {
          "x1": 7,
          "x2": 119,
          "x3": 0.9189947815955694,
          "x4": 930
         },
         {
          "x1": 2,
          "x2": 92,
          "x3": 0.2792338730008791,
          "x4": 931
         },
         {
          "x1": 8,
          "x2": 97,
          "x3": 0.7465452989538001,
          "x4": 932
         },
         {
          "x1": 4,
          "x2": 108,
          "x3": 0.3834490754644727,
          "x4": 933
         },
         {
          "x1": 4,
          "x2": 109,
          "x3": 0.2327730570166321,
          "x4": 934
         },
         {
          "x1": 3,
          "x2": 101,
          "x3": 0.2779571539826868,
          "x4": 935
         },
         {
          "x1": 4,
          "x2": 110,
          "x3": 0.6278556107001584,
          "x4": 936
         },
         {
          "x1": 3,
          "x2": 102,
          "x3": 0.19167486429700448,
          "x4": 937
         },
         {
          "x1": 4,
          "x2": 111,
          "x3": 0.3470402706098468,
          "x4": 938
         },
         {
          "x1": 8,
          "x2": 98,
          "x3": 0.6401271380952841,
          "x4": 939
         },
         {
          "x1": 8,
          "x2": 99,
          "x3": 0.9415380386554263,
          "x4": 940
         },
         {
          "x1": 3,
          "x2": 103,
          "x3": 0.19234178232760793,
          "x4": 941
         },
         {
          "x1": 4,
          "x2": 112,
          "x3": 0.4265750673797312,
          "x4": 942
         },
         {
          "x1": 0,
          "x2": 97,
          "x3": 0.037517180807765026,
          "x4": 943
         },
         {
          "x1": 2,
          "x2": 93,
          "x3": 0.2330598276054472,
          "x4": 944
         },
         {
          "x1": 6,
          "x2": 93,
          "x3": 0.4330783349207878,
          "x4": 945
         },
         {
          "x1": 1,
          "x2": 104,
          "x3": 0.41000088490766257,
          "x4": 946
         },
         {
          "x1": 5,
          "x2": 127,
          "x3": 0.7228653789109875,
          "x4": 947
         },
         {
          "x1": 2,
          "x2": 94,
          "x3": 0.43306343706600503,
          "x4": 948
         },
         {
          "x1": 4,
          "x2": 113,
          "x3": 0.4357097286287153,
          "x4": 949
         },
         {
          "x1": 5,
          "x2": 128,
          "x3": 0.590185343181416,
          "x4": 950
         },
         {
          "x1": 7,
          "x2": 120,
          "x3": 0.9283292639361966,
          "x4": 951
         },
         {
          "x1": 6,
          "x2": 94,
          "x3": 0.4731131161324234,
          "x4": 952
         },
         {
          "x1": 8,
          "x2": 100,
          "x3": 0.9650251337269933,
          "x4": 953
         },
         {
          "x1": 6,
          "x2": 95,
          "x3": 0.7476045486060178,
          "x4": 954
         },
         {
          "x1": 7,
          "x2": 121,
          "x3": 0.9169465752120368,
          "x4": 955
         },
         {
          "x1": 3,
          "x2": 104,
          "x3": 0.1826080782797801,
          "x4": 956
         },
         {
          "x1": 6,
          "x2": 96,
          "x3": 0.7937899345973691,
          "x4": 957
         },
         {
          "x1": 1,
          "x2": 105,
          "x3": 0.14559527127177474,
          "x4": 958
         },
         {
          "x1": 4,
          "x2": 114,
          "x3": 0.36326338508876943,
          "x4": 959
         },
         {
          "x1": 5,
          "x2": 129,
          "x3": 0.6132277681788423,
          "x4": 960
         },
         {
          "x1": 5,
          "x2": 130,
          "x3": 0.6604728595606131,
          "x4": 961
         },
         {
          "x1": 2,
          "x2": 95,
          "x3": 0.2820991569596034,
          "x4": 962
         },
         {
          "x1": 5,
          "x2": 131,
          "x3": 0.7501402114483926,
          "x4": 963
         },
         {
          "x1": 8,
          "x2": 101,
          "x3": 0.9278116889164227,
          "x4": 964
         },
         {
          "x1": 8,
          "x2": 102,
          "x3": 0.8261862246376686,
          "x4": 965
         },
         {
          "x1": 7,
          "x2": 122,
          "x3": 0.7757233686225922,
          "x4": 966
         },
         {
          "x1": 0,
          "x2": 98,
          "x3": 0.06629794721762183,
          "x4": 967
         },
         {
          "x1": 0,
          "x2": 99,
          "x3": 0.1100361191220119,
          "x4": 968
         },
         {
          "x1": 3,
          "x2": 105,
          "x3": 0.4614741149083591,
          "x4": 969
         },
         {
          "x1": 5,
          "x2": 132,
          "x3": 0.7435879840892672,
          "x4": 970
         },
         {
          "x1": 5,
          "x2": 133,
          "x3": 0.5498227135190762,
          "x4": 971
         },
         {
          "x1": 8,
          "x2": 103,
          "x3": 0.8117365761637507,
          "x4": 972
         },
         {
          "x1": 8,
          "x2": 104,
          "x3": 0.9849093163578487,
          "x4": 973
         },
         {
          "x1": 6,
          "x2": 97,
          "x3": 0.860402026746931,
          "x4": 974
         },
         {
          "x1": 7,
          "x2": 123,
          "x3": 0.7564867945763557,
          "x4": 975
         },
         {
          "x1": 6,
          "x2": 98,
          "x3": 0.6767316441378726,
          "x4": 976
         },
         {
          "x1": 0,
          "x2": 100,
          "x3": 0.04600504298443516,
          "x4": 977
         },
         {
          "x1": 2,
          "x2": 96,
          "x3": 0.4065462854398961,
          "x4": 978
         },
         {
          "x1": 7,
          "x2": 124,
          "x3": 0.7188322269486139,
          "x4": 979
         },
         {
          "x1": 0,
          "x2": 101,
          "x3": 0.012959642289508789,
          "x4": 980
         },
         {
          "x1": 8,
          "x2": 105,
          "x3": 0.9578769550705794,
          "x4": 981
         },
         {
          "x1": 0,
          "x2": 102,
          "x3": 0.008984465215256265,
          "x4": 982
         },
         {
          "x1": 4,
          "x2": 115,
          "x3": 0.550536957901456,
          "x4": 983
         },
         {
          "x1": 1,
          "x2": 106,
          "x3": 0.25811176822236814,
          "x4": 984
         },
         {
          "x1": 8,
          "x2": 106,
          "x3": 0.7090047545920106,
          "x4": 985
         },
         {
          "x1": 8,
          "x2": 107,
          "x3": 0.9730379293629782,
          "x4": 986
         },
         {
          "x1": 8,
          "x2": 108,
          "x3": 0.9442548586483439,
          "x4": 987
         },
         {
          "x1": 2,
          "x2": 97,
          "x3": 0.18102241105483008,
          "x4": 988
         },
         {
          "x1": 4,
          "x2": 116,
          "x3": 0.3901628917640213,
          "x4": 989
         },
         {
          "x1": 0,
          "x2": 103,
          "x3": 0.11583266307479845,
          "x4": 990
         },
         {
          "x1": 4,
          "x2": 117,
          "x3": 0.6889790648968602,
          "x4": 991
         },
         {
          "x1": 7,
          "x2": 125,
          "x3": 0.8413621456523637,
          "x4": 992
         },
         {
          "x1": 6,
          "x2": 99,
          "x3": 0.6741765973526253,
          "x4": 993
         },
         {
          "x1": 7,
          "x2": 126,
          "x3": 0.8152007378149243,
          "x4": 994
         },
         {
          "x1": 4,
          "x2": 118,
          "x3": 0.5221361700552974,
          "x4": 995
         },
         {
          "x1": 6,
          "x2": 100,
          "x3": 0.4456125192550356,
          "x4": 996
         },
         {
          "x1": 6,
          "x2": 101,
          "x3": 0.8184028226855902,
          "x4": 997
         },
         {
          "x1": 8,
          "x2": 109,
          "x3": 0.888024793158333,
          "x4": 998
         },
         {
          "x1": 4,
          "x2": 119,
          "x3": 0.552022361762787,
          "x4": 999
         },
         {
          "x1": 5,
          "x2": 134,
          "x3": 0.3809398606173968,
          "x4": 1000
         }
        ]
       },
       "hconcat": [
        {
         "layer": [
          {
           "encoding": {
            "color": {
             "condition": {
              "field": "x3",
              "selection": "brush",
              "type": "quantitative"
             },
             "value": "grey"
            },
            "size": {
             "value": 200
            },
            "x": {
             "axis": {
              "grid": false,
              "title": "Samples"
             },
             "field": "x1",
             "type": "quantitative"
            },
            "y": {
             "axis": null,
             "field": "x2",
             "type": "quantitative"
            }
           },
           "height": 300,
           "mark": "circle",
           "selection": {
            "brush": {
             "encodings": [
              "x"
             ],
             "init": {
              "x": [
               3.6,
               4.4
              ]
             },
             "type": "interval"
            }
           },
           "view": {
            "stroke": null
           },
           "width": 500
          }
         ],
         "view": {
          "stroke": null
         }
        },
        {
         "layer": [
          {
           "encoding": {
            "x": {
             "bin": {
              "maxbins": 20
             },
             "field": "x3",
             "type": "quantitative"
            },
            "y": {
             "aggregate": "count",
             "type": "quantitative"
            }
           },
           "height": 300,
           "mark": "bar",
           "transform": [
            {
             "filter": {
              "selection": "brush"
             }
            }
           ],
           "width": 500
          }
         ]
        }
       ]
      },
      "image/png": "[encoded data removed]",
      "image/svg+xml": [
       "<svg class=\"marks\" width=\"1134\" height=\"344\" viewBox=\"0 0 1134 344\" version=\"1.1\" xmlns=\"http://www.w3.org/2000/svg\" xmlns:xlink=\"http://www.w3.org/1999/xlink\"><defs><linearGradient id=\"gradient_0\" x1=\"0\" x2=\"0\" y1=\"1\" y2=\"0\"><stop offset=\"0\" stop-color=\"rgb(207, 225, 242)\"></stop><stop offset=\"0.049693027446491456\" stop-color=\"rgb(199, 221, 239)\"></stop><stop offset=\"0.09975918691819076\" stop-color=\"rgb(190, 216, 236)\"></stop><stop offset=\"0.14982534638989006\" stop-color=\"rgb(179, 211, 233)\"></stop><stop offset=\"0.19989150586158938\" stop-color=\"rgb(168, 206, 229)\"></stop><stop offset=\"0.24995766533328867\" stop-color=\"rgb(156, 200, 226)\"></stop><stop offset=\"0.300023824804988\" stop-color=\"rgb(143, 193, 222)\"></stop><stop offset=\"0.3500899842766873\" stop-color=\"rgb(129, 185, 218)\"></stop><stop offset=\"0.40015614374838665\" stop-color=\"rgb(116, 178, 215)\"></stop><stop offset=\"0.45022230322008594\" stop-color=\"rgb(103, 170, 211)\"></stop><stop offset=\"0.5002884626917852\" stop-color=\"rgb(91, 163, 207)\"></stop><stop offset=\"0.5503546221634845\" stop-color=\"rgb(80, 154, 202)\"></stop><stop offset=\"0.6004207816351838\" stop-color=\"rgb(69, 146, 198)\"></stop><stop offset=\"0.6504869411068831\" stop-color=\"rgb(59, 137, 193)\"></stop><stop offset=\"0.7005531005785823\" stop-color=\"rgb(49, 129, 189)\"></stop><stop offset=\"0.7506192600502817\" stop-color=\"rgb(40, 120, 183)\"></stop><stop offset=\"0.800685419521981\" stop-color=\"rgb(32, 111, 178)\"></stop><stop offset=\"0.8507515789936803\" stop-color=\"rgb(25, 101, 171)\"></stop><stop offset=\"0.9008177384653796\" stop-color=\"rgb(18, 92, 164)\"></stop><stop offset=\"0.9508838979370788\" stop-color=\"rgb(14, 83, 154)\"></stop><stop offset=\"1\" stop-color=\"rgb(10, 74, 144)\"></stop></linearGradient><clipPath id=\"clip1\"><rect x=\"0\" y=\"0\" width=\"500\" height=\"300\"></rect></clipPath><clipPath id=\"clip2\"><rect x=\"0\" y=\"0\" width=\"500\" height=\"300\"></rect></clipPath></defs><g transform=\"translate(13,6)\"><g class=\"mark-group role-frame root\"><g transform=\"translate(0,0)\"><path class=\"background\" d=\"M0,0h0v300h0Z\" style=\"fill: none;\"></path><g><g class=\"mark-group role-scope concat_0_group\"><g transform=\"translate(0,0)\"><path class=\"background\" d=\"M0,0h500v300h-500Z\" style=\"fill: none;\"></path><g><g class=\"mark-rect role-mark brush_brush_bg\" clip-path=\"url(#clip1)\"><path d=\"M225,0h50v300h-50Z\" style=\"fill: #333; fill-opacity: 0.125;\"></path></g><g class=\"mark-symbol role-mark concat_0_layer_0_marks\"><path transform=\"translate(62.5,297.85714285714283)\" d=\"M7.0710678118654755,0A7.0710678118654755,7.0710678118654755,0,1,1,-7.0710678118654755,0A7.0710678118654755,7.0710678118654755,0,1,1,7.0710678118654755,0\" style=\"fill: grey; stroke-width: 2; opacity: 0.7;\"></path><path transform=\"translate(62.5,295.7142857142857)\" d=\"M7.0710678118654755,0A7.0710678118654755,7.0710678118654755,0,1,1,-7.0710678118654755,0A7.0710678118654755,7.0710678118654755,0,1,1,7.0710678118654755,0\" style=\"fill: grey; stroke-width: 2; opacity: 0.7;\"></path><path transform=\"translate(125,297.85714285714283)\" d=\"M7.0710678118654755,0A7.0710678118654755,7.0710678118654755,0,1,1,-7.0710678118654755,0A7.0710678118654755,7.0710678118654755,0,1,1,7.0710678118654755,0\" style=\"fill: grey; stroke-width: 2; opacity: 0.7;\"></path><path transform=\"translate(312.5,297.85714285714283)\" d=\"M7.0710678118654755,0A7.0710678118654755,7.0710678118654755,0,1,1,-7.0710678118654755,0A7.0710678118654755,7.0710678118654755,0,1,1,7.0710678118654755,0\" style=\"fill: grey; stroke-width: 2; opacity: 0.7;\"></path><path transform=\"translate(250,297.85714285714283)\" d=\"M7.0710678118654755,0A7.0710678118654755,7.0710678118654755,0,1,1,-7.0710678118654755,0A7.0710678118654755,7.0710678118654755,0,1,1,7.0710678118654755,0\" style=\"fill: rgb(132, 187, 219); stroke-width: 2; opacity: 0.7;\"></path><path transform=\"translate(375,297.85714285714283)\" d=\"M7.0710678118654755,0A7.0710678118654755,7.0710678118654755,0,1,1,-7.0710678118654755,0A7.0710678118654755,7.0710678118654755,0,1,1,7.0710678118654755,0\" style=\"fill: grey; stroke-width: 2; opacity: 0.7;\"></path><path transform=\"translate(437.5,297.85714285714283)\" d=\"M7.0710678118654755,0A7.0710678118654755,7.0710678118654755,0,1,1,-7.0710678118654755,0A7.0710678118654755,7.0710678118654755,0,1,1,7.0710678118654755,0\" style=\"fill: grey; stroke-width: 2; opacity: 0.7;\"></path><path transform=\"translate(312.5,295.7142857142857)\" d=\"M7.0710678118654755,0A7.0710678118654755,7.0710678118654755,0,1,1,-7.0710678118654755,0A7.0710678118654755,7.0710678118654755,0,1,1,7.0710678118654755,0\" style=\"fill: grey; stroke-width: 2; opacity: 0.7;\"></path><path transform=\"translate(500,297.85714285714283)\" d=\"M7.0710678118654755,0A7.0710678118654755,7.0710678118654755,0,1,1,-7.0710678118654755,0A7.0710678118654755,7.0710678118654755,0,1,1,7.0710678118654755,0\" style=\"fill: grey; stroke-width: 2; opacity: 0.7;\"></path><path transform=\"translate(0,297.85714285714283)\" d=\"M7.0710678118654755,0A7.0710678118654755,7.0710678118654755,0,1,1,-7.0710678118654755,0A7.0710678118654755,7.0710678118654755,0,1,1,7.0710678118654755,0\" style=\"fill: grey; stroke-width: 2; opacity: 0.7;\"></path><path transform=\"translate(187.5,297.85714285714283)\" d=\"M7.0710678118654755,0A7.0710678118654755,7.0710678118654755,0,1,1,-7.0710678118654755,0A7.0710678118654755,7.0710678118654755,0,1,1,7.0710678118654755,0\" style=\"fill: grey; stroke-width: 2; opacity: 0.7;\"></path><path transform=\"translate(437.5,295.7142857142857)\" d=\"M7.0710678118654755,0A7.0710678118654755,7.0710678118654755,0,1,1,-7.0710678118654755,0A7.0710678118654755,7.0710678118654755,0,1,1,7.0710678118654755,0\" style=\"fill: grey; stroke-width: 2; opacity: 0.7;\"></path><path transform=\"translate(500,295.7142857142857)\" d=\"M7.0710678118654755,0A7.0710678118654755,7.0710678118654755,0,1,1,-7.0710678118654755,0A7.0710678118654755,7.0710678118654755,0,1,1,7.0710678118654755,0\" style=\"fill: grey; stroke-width: 2; opacity: 0.7;\"></path><path transform=\"translate(62.5,293.57142857142856)\" d=\"M7.0710678118654755,0A7.0710678118654755,7.0710678118654755,0,1,1,-7.0710678118654755,0A7.0710678118654755,7.0710678118654755,0,1,1,7.0710678118654755,0\" style=\"fill: grey; stroke-width: 2; opacity: 0.7;\"></path><path transform=\"translate(437.5,293.57142857142856)\" d=\"M7.0710678118654755,0A7.0710678118654755,7.0710678118654755,0,1,1,-7.0710678118654755,0A7.0710678118654755,7.0710678118654755,0,1,1,7.0710678118654755,0\" style=\"fill: grey; stroke-width: 2; opacity: 0.7;\"></path><path transform=\"translate(437.5,291.42857142857144)\" d=\"M7.0710678118654755,0A7.0710678118654755,7.0710678118654755,0,1,1,-7.0710678118654755,0A7.0710678118654755,7.0710678118654755,0,1,1,7.0710678118654755,0\" style=\"fill: grey; stroke-width: 2; opacity: 0.7;\"></path><path transform=\"translate(312.5,293.57142857142856)\" d=\"M7.0710678118654755,0A7.0710678118654755,7.0710678118654755,0,1,1,-7.0710678118654755,0A7.0710678118654755,7.0710678118654755,0,1,1,7.0710678118654755,0\" style=\"fill: grey; stroke-width: 2; opacity: 0.7;\"></path><path transform=\"translate(62.5,291.42857142857144)\" d=\"M7.0710678118654755,0A7.0710678118654755,7.0710678118654755,0,1,1,-7.0710678118654755,0A7.0710678118654755,7.0710678118654755,0,1,1,7.0710678118654755,0\" style=\"fill: grey; stroke-width: 2; opacity: 0.7;\"></path><path transform=\"translate(250,295.7142857142857)\" d=\"M7.0710678118654755,0A7.0710678118654755,7.0710678118654755,0,1,1,-7.0710678118654755,0A7.0710678118654755,7.0710678118654755,0,1,1,7.0710678118654755,0\" style=\"fill: rgb(91, 163, 207); stroke-width: 2; opacity: 0.7;\"></path><path transform=\"translate(500,293.57142857142856)\" d=\"M7.0710678118654755,0A7.0710678118654755,7.0710678118654755,0,1,1,-7.0710678118654755,0A7.0710678118654755,7.0710678118654755,0,1,1,7.0710678118654755,0\" style=\"fill: grey; stroke-width: 2; opacity: 0.7;\"></path><path transform=\"translate(62.5,289.2857142857143)\" d=\"M7.0710678118654755,0A7.0710678118654755,7.0710678118654755,0,1,1,-7.0710678118654755,0A7.0710678118654755,7.0710678118654755,0,1,1,7.0710678118654755,0\" style=\"fill: grey; stroke-width: 2; opacity: 0.7;\"></path><path transform=\"translate(250,293.57142857142856)\" d=\"M7.0710678118654755,0A7.0710678118654755,7.0710678118654755,0,1,1,-7.0710678118654755,0A7.0710678118654755,7.0710678118654755,0,1,1,7.0710678118654755,0\" style=\"fill: rgb(51, 131, 190); stroke-width: 2; opacity: 0.7;\"></path><path transform=\"translate(187.5,295.7142857142857)\" d=\"M7.0710678118654755,0A7.0710678118654755,7.0710678118654755,0,1,1,-7.0710678118654755,0A7.0710678118654755,7.0710678118654755,0,1,1,7.0710678118654755,0\" style=\"fill: grey; stroke-width: 2; opacity: 0.7;\"></path><path transform=\"translate(125,295.7142857142857)\" d=\"M7.0710678118654755,0A7.0710678118654755,7.0710678118654755,0,1,1,-7.0710678118654755,0A7.0710678118654755,7.0710678118654755,0,1,1,7.0710678118654755,0\" style=\"fill: grey; stroke-width: 2; opacity: 0.7;\"></path><path transform=\"translate(0,295.7142857142857)\" d=\"M7.0710678118654755,0A7.0710678118654755,7.0710678118654755,0,1,1,-7.0710678118654755,0A7.0710678118654755,7.0710678118654755,0,1,1,7.0710678118654755,0\" style=\"fill: grey; stroke-width: 2; opacity: 0.7;\"></path><path transform=\"translate(62.5,287.14285714285717)\" d=\"M7.0710678118654755,0A7.0710678118654755,7.0710678118654755,0,1,1,-7.0710678118654755,0A7.0710678118654755,7.0710678118654755,0,1,1,7.0710678118654755,0\" style=\"fill: grey; stroke-width: 2; opacity: 0.7;\"></path><path transform=\"translate(437.5,289.2857142857143)\" d=\"M7.0710678118654755,0A7.0710678118654755,7.0710678118654755,0,1,1,-7.0710678118654755,0A7.0710678118654755,7.0710678118654755,0,1,1,7.0710678118654755,0\" style=\"fill: grey; stroke-width: 2; opacity: 0.7;\"></path><path transform=\"translate(312.5,291.42857142857144)\" d=\"M7.0710678118654755,0A7.0710678118654755,7.0710678118654755,0,1,1,-7.0710678118654755,0A7.0710678118654755,7.0710678118654755,0,1,1,7.0710678118654755,0\" style=\"fill: grey; stroke-width: 2; opacity: 0.7;\"></path><path transform=\"translate(375,295.7142857142857)\" d=\"M7.0710678118654755,0A7.0710678118654755,7.0710678118654755,0,1,1,-7.0710678118654755,0A7.0710678118654755,7.0710678118654755,0,1,1,7.0710678118654755,0\" style=\"fill: grey; stroke-width: 2; opacity: 0.7;\"></path><path transform=\"translate(125,293.57142857142856)\" d=\"M7.0710678118654755,0A7.0710678118654755,7.0710678118654755,0,1,1,-7.0710678118654755,0A7.0710678118654755,7.0710678118654755,0,1,1,7.0710678118654755,0\" style=\"fill: grey; stroke-width: 2; opacity: 0.7;\"></path><path transform=\"translate(500,291.42857142857144)\" d=\"M7.0710678118654755,0A7.0710678118654755,7.0710678118654755,0,1,1,-7.0710678118654755,0A7.0710678118654755,7.0710678118654755,0,1,1,7.0710678118654755,0\" style=\"fill: grey; stroke-width: 2; opacity: 0.7;\"></path><path transform=\"translate(187.5,293.57142857142856)\" d=\"M7.0710678118654755,0A7.0710678118654755,7.0710678118654755,0,1,1,-7.0710678118654755,0A7.0710678118654755,7.0710678118654755,0,1,1,7.0710678118654755,0\" style=\"fill: grey; stroke-width: 2; opacity: 0.7;\"></path><path transform=\"translate(500,289.2857142857143)\" d=\"M7.0710678118654755,0A7.0710678118654755,7.0710678118654755,0,1,1,-7.0710678118654755,0A7.0710678118654755,7.0710678118654755,0,1,1,7.0710678118654755,0\" style=\"fill: grey; stroke-width: 2; opacity: 0.7;\"></path><path transform=\"translate(312.5,289.2857142857143)\" d=\"M7.0710678118654755,0A7.0710678118654755,7.0710678118654755,0,1,1,-7.0710678118654755,0A7.0710678118654755,7.0710678118654755,0,1,1,7.0710678118654755,0\" style=\"fill: grey; stroke-width: 2; opacity: 0.7;\"></path><path transform=\"translate(125,291.42857142857144)\" d=\"M7.0710678118654755,0A7.0710678118654755,7.0710678118654755,0,1,1,-7.0710678118654755,0A7.0710678118654755,7.0710678118654755,0,1,1,7.0710678118654755,0\" style=\"fill: grey; stroke-width: 2; opacity: 0.7;\"></path><path transform=\"translate(312.5,287.14285714285717)\" d=\"M7.0710678118654755,0A7.0710678118654755,7.0710678118654755,0,1,1,-7.0710678118654755,0A7.0710678118654755,7.0710678118654755,0,1,1,7.0710678118654755,0\" style=\"fill: grey; stroke-width: 2; opacity: 0.7;\"></path><path transform=\"translate(312.5,285)\" d=\"M7.0710678118654755,0A7.0710678118654755,7.0710678118654755,0,1,1,-7.0710678118654755,0A7.0710678118654755,7.0710678118654755,0,1,1,7.0710678118654755,0\" style=\"fill: grey; stroke-width: 2; opacity: 0.7;\"></path><path transform=\"translate(0,293.57142857142856)\" d=\"M7.0710678118654755,0A7.0710678118654755,7.0710678118654755,0,1,1,-7.0710678118654755,0A7.0710678118654755,7.0710678118654755,0,1,1,7.0710678118654755,0\" style=\"fill: grey; stroke-width: 2; opacity: 0.7;\"></path><path transform=\"translate(250,291.42857142857144)\" d=\"M7.0710678118654755,0A7.0710678118654755,7.0710678118654755,0,1,1,-7.0710678118654755,0A7.0710678118654755,7.0710678118654755,0,1,1,7.0710678118654755,0\" style=\"fill: rgb(160, 202, 227); stroke-width: 2; opacity: 0.7;\"></path><path transform=\"translate(0,291.42857142857144)\" d=\"M7.0710678118654755,0A7.0710678118654755,7.0710678118654755,0,1,1,-7.0710678118654755,0A7.0710678118654755,7.0710678118654755,0,1,1,7.0710678118654755,0\" style=\"fill: grey; stroke-width: 2; opacity: 0.7;\"></path><path transform=\"translate(437.5,287.14285714285717)\" d=\"M7.0710678118654755,0A7.0710678118654755,7.0710678118654755,0,1,1,-7.0710678118654755,0A7.0710678118654755,7.0710678118654755,0,1,1,7.0710678118654755,0\" style=\"fill: grey; stroke-width: 2; opacity: 0.7;\"></path><path transform=\"translate(187.5,291.42857142857144)\" d=\"M7.0710678118654755,0A7.0710678118654755,7.0710678118654755,0,1,1,-7.0710678118654755,0A7.0710678118654755,7.0710678118654755,0,1,1,7.0710678118654755,0\" style=\"fill: grey; stroke-width: 2; opacity: 0.7;\"></path><path transform=\"translate(0,289.2857142857143)\" d=\"M7.0710678118654755,0A7.0710678118654755,7.0710678118654755,0,1,1,-7.0710678118654755,0A7.0710678118654755,7.0710678118654755,0,1,1,7.0710678118654755,0\" style=\"fill: grey; stroke-width: 2; opacity: 0.7;\"></path><path transform=\"translate(312.5,282.85714285714283)\" d=\"M7.0710678118654755,0A7.0710678118654755,7.0710678118654755,0,1,1,-7.0710678118654755,0A7.0710678118654755,7.0710678118654755,0,1,1,7.0710678118654755,0\" style=\"fill: grey; stroke-width: 2; opacity: 0.7;\"></path><path transform=\"translate(375,293.57142857142856)\" d=\"M7.0710678118654755,0A7.0710678118654755,7.0710678118654755,0,1,1,-7.0710678118654755,0A7.0710678118654755,7.0710678118654755,0,1,1,7.0710678118654755,0\" style=\"fill: grey; stroke-width: 2; opacity: 0.7;\"></path><path transform=\"translate(312.5,280.7142857142857)\" d=\"M7.0710678118654755,0A7.0710678118654755,7.0710678118654755,0,1,1,-7.0710678118654755,0A7.0710678118654755,7.0710678118654755,0,1,1,7.0710678118654755,0\" style=\"fill: grey; stroke-width: 2; opacity: 0.7;\"></path><path transform=\"translate(500,287.14285714285717)\" d=\"M7.0710678118654755,0A7.0710678118654755,7.0710678118654755,0,1,1,-7.0710678118654755,0A7.0710678118654755,7.0710678118654755,0,1,1,7.0710678118654755,0\" style=\"fill: grey; stroke-width: 2; opacity: 0.7;\"></path><path transform=\"translate(62.5,285)\" d=\"M7.0710678118654755,0A7.0710678118654755,7.0710678118654755,0,1,1,-7.0710678118654755,0A7.0710678118654755,7.0710678118654755,0,1,1,7.0710678118654755,0\" style=\"fill: grey; stroke-width: 2; opacity: 0.7;\"></path><path transform=\"translate(0,287.14285714285717)\" d=\"M7.0710678118654755,0A7.0710678118654755,7.0710678118654755,0,1,1,-7.0710678118654755,0A7.0710678118654755,7.0710678118654755,0,1,1,7.0710678118654755,0\" style=\"fill: grey; stroke-width: 2; opacity: 0.7;\"></path><path transform=\"translate(375,291.42857142857144)\" d=\"M7.0710678118654755,0A7.0710678118654755,7.0710678118654755,0,1,1,-7.0710678118654755,0A7.0710678118654755,7.0710678118654755,0,1,1,7.0710678118654755,0\" style=\"fill: grey; stroke-width: 2; opacity: 0.7;\"></path><path transform=\"translate(250,289.2857142857143)\" d=\"M7.0710678118654755,0A7.0710678118654755,7.0710678118654755,0,1,1,-7.0710678118654755,0A7.0710678118654755,7.0710678118654755,0,1,1,7.0710678118654755,0\" style=\"fill: rgb(98, 167, 209); stroke-width: 2; opacity: 0.7;\"></path><path transform=\"translate(0,285)\" d=\"M7.0710678118654755,0A7.0710678118654755,7.0710678118654755,0,1,1,-7.0710678118654755,0A7.0710678118654755,7.0710678118654755,0,1,1,7.0710678118654755,0\" style=\"fill: grey; stroke-width: 2; opacity: 0.7;\"></path><path transform=\"translate(500,285)\" d=\"M7.0710678118654755,0A7.0710678118654755,7.0710678118654755,0,1,1,-7.0710678118654755,0A7.0710678118654755,7.0710678118654755,0,1,1,7.0710678118654755,0\" style=\"fill: grey; stroke-width: 2; opacity: 0.7;\"></path><path transform=\"translate(250,287.14285714285717)\" d=\"M7.0710678118654755,0A7.0710678118654755,7.0710678118654755,0,1,1,-7.0710678118654755,0A7.0710678118654755,7.0710678118654755,0,1,1,7.0710678118654755,0\" style=\"fill: rgb(70, 147, 198); stroke-width: 2; opacity: 0.7;\"></path><path transform=\"translate(500,282.85714285714283)\" d=\"M7.0710678118654755,0A7.0710678118654755,7.0710678118654755,0,1,1,-7.0710678118654755,0A7.0710678118654755,7.0710678118654755,0,1,1,7.0710678118654755,0\" style=\"fill: grey; stroke-width: 2; opacity: 0.7;\"></path><path transform=\"translate(500,280.7142857142857)\" d=\"M7.0710678118654755,0A7.0710678118654755,7.0710678118654755,0,1,1,-7.0710678118654755,0A7.0710678118654755,7.0710678118654755,0,1,1,7.0710678118654755,0\" style=\"fill: grey; stroke-width: 2; opacity: 0.7;\"></path><path transform=\"translate(125,289.2857142857143)\" d=\"M7.0710678118654755,0A7.0710678118654755,7.0710678118654755,0,1,1,-7.0710678118654755,0A7.0710678118654755,7.0710678118654755,0,1,1,7.0710678118654755,0\" style=\"fill: grey; stroke-width: 2; opacity: 0.7;\"></path><path transform=\"translate(250,285)\" d=\"M7.0710678118654755,0A7.0710678118654755,7.0710678118654755,0,1,1,-7.0710678118654755,0A7.0710678118654755,7.0710678118654755,0,1,1,7.0710678118654755,0\" style=\"fill: rgb(112, 176, 214); stroke-width: 2; opacity: 0.7;\"></path><path transform=\"translate(250,282.85714285714283)\" d=\"M7.0710678118654755,0A7.0710678118654755,7.0710678118654755,0,1,1,-7.0710678118654755,0A7.0710678118654755,7.0710678118654755,0,1,1,7.0710678118654755,0\" style=\"fill: rgb(79, 154, 202); stroke-width: 2; opacity: 0.7;\"></path><path transform=\"translate(250,280.7142857142857)\" d=\"M7.0710678118654755,0A7.0710678118654755,7.0710678118654755,0,1,1,-7.0710678118654755,0A7.0710678118654755,7.0710678118654755,0,1,1,7.0710678118654755,0\" style=\"fill: rgb(87, 160, 206); stroke-width: 2; opacity: 0.7;\"></path><path transform=\"translate(0,282.85714285714283)\" d=\"M7.0710678118654755,0A7.0710678118654755,7.0710678118654755,0,1,1,-7.0710678118654755,0A7.0710678118654755,7.0710678118654755,0,1,1,7.0710678118654755,0\" style=\"fill: grey; stroke-width: 2; opacity: 0.7;\"></path><path transform=\"translate(62.5,282.85714285714283)\" d=\"M7.0710678118654755,0A7.0710678118654755,7.0710678118654755,0,1,1,-7.0710678118654755,0A7.0710678118654755,7.0710678118654755,0,1,1,7.0710678118654755,0\" style=\"fill: grey; stroke-width: 2; opacity: 0.7;\"></path><path transform=\"translate(375,289.2857142857143)\" d=\"M7.0710678118654755,0A7.0710678118654755,7.0710678118654755,0,1,1,-7.0710678118654755,0A7.0710678118654755,7.0710678118654755,0,1,1,7.0710678118654755,0\" style=\"fill: grey; stroke-width: 2; opacity: 0.7;\"></path><path transform=\"translate(62.5,280.7142857142857)\" d=\"M7.0710678118654755,0A7.0710678118654755,7.0710678118654755,0,1,1,-7.0710678118654755,0A7.0710678118654755,7.0710678118654755,0,1,1,7.0710678118654755,0\" style=\"fill: grey; stroke-width: 2; opacity: 0.7;\"></path><path transform=\"translate(187.5,289.2857142857143)\" d=\"M7.0710678118654755,0A7.0710678118654755,7.0710678118654755,0,1,1,-7.0710678118654755,0A7.0710678118654755,7.0710678118654755,0,1,1,7.0710678118654755,0\" style=\"fill: grey; stroke-width: 2; opacity: 0.7;\"></path><path transform=\"translate(250,278.57142857142856)\" d=\"M7.0710678118654755,0A7.0710678118654755,7.0710678118654755,0,1,1,-7.0710678118654755,0A7.0710678118654755,7.0710678118654755,0,1,1,7.0710678118654755,0\" style=\"fill: rgb(44, 124, 186); stroke-width: 2; opacity: 0.7;\"></path><path transform=\"translate(187.5,287.14285714285717)\" d=\"M7.0710678118654755,0A7.0710678118654755,7.0710678118654755,0,1,1,-7.0710678118654755,0A7.0710678118654755,7.0710678118654755,0,1,1,7.0710678118654755,0\" style=\"fill: grey; stroke-width: 2; opacity: 0.7;\"></path><path transform=\"translate(125,287.14285714285717)\" d=\"M7.0710678118654755,0A7.0710678118654755,7.0710678118654755,0,1,1,-7.0710678118654755,0A7.0710678118654755,7.0710678118654755,0,1,1,7.0710678118654755,0\" style=\"fill: grey; stroke-width: 2; opacity: 0.7;\"></path><path transform=\"translate(375,287.14285714285717)\" d=\"M7.0710678118654755,0A7.0710678118654755,7.0710678118654755,0,1,1,-7.0710678118654755,0A7.0710678118654755,7.0710678118654755,0,1,1,7.0710678118654755,0\" style=\"fill: grey; stroke-width: 2; opacity: 0.7;\"></path><path transform=\"translate(437.5,285)\" d=\"M7.0710678118654755,0A7.0710678118654755,7.0710678118654755,0,1,1,-7.0710678118654755,0A7.0710678118654755,7.0710678118654755,0,1,1,7.0710678118654755,0\" style=\"fill: grey; stroke-width: 2; opacity: 0.7;\"></path><path transform=\"translate(125,285)\" d=\"M7.0710678118654755,0A7.0710678118654755,7.0710678118654755,0,1,1,-7.0710678118654755,0A7.0710678118654755,7.0710678118654755,0,1,1,7.0710678118654755,0\" style=\"fill: grey; stroke-width: 2; opacity: 0.7;\"></path><path transform=\"translate(62.5,278.57142857142856)\" d=\"M7.0710678118654755,0A7.0710678118654755,7.0710678118654755,0,1,1,-7.0710678118654755,0A7.0710678118654755,7.0710678118654755,0,1,1,7.0710678118654755,0\" style=\"fill: grey; stroke-width: 2; opacity: 0.7;\"></path><path transform=\"translate(500,278.57142857142856)\" d=\"M7.0710678118654755,0A7.0710678118654755,7.0710678118654755,0,1,1,-7.0710678118654755,0A7.0710678118654755,7.0710678118654755,0,1,1,7.0710678118654755,0\" style=\"fill: grey; stroke-width: 2; opacity: 0.7;\"></path><path transform=\"translate(312.5,278.57142857142856)\" d=\"M7.0710678118654755,0A7.0710678118654755,7.0710678118654755,0,1,1,-7.0710678118654755,0A7.0710678118654755,7.0710678118654755,0,1,1,7.0710678118654755,0\" style=\"fill: grey; stroke-width: 2; opacity: 0.7;\"></path><path transform=\"translate(500,276.42857142857144)\" d=\"M7.0710678118654755,0A7.0710678118654755,7.0710678118654755,0,1,1,-7.0710678118654755,0A7.0710678118654755,7.0710678118654755,0,1,1,7.0710678118654755,0\" style=\"fill: grey; stroke-width: 2; opacity: 0.7;\"></path><path transform=\"translate(375,285)\" d=\"M7.0710678118654755,0A7.0710678118654755,7.0710678118654755,0,1,1,-7.0710678118654755,0A7.0710678118654755,7.0710678118654755,0,1,1,7.0710678118654755,0\" style=\"fill: grey; stroke-width: 2; opacity: 0.7;\"></path><path transform=\"translate(312.5,276.42857142857144)\" d=\"M7.0710678118654755,0A7.0710678118654755,7.0710678118654755,0,1,1,-7.0710678118654755,0A7.0710678118654755,7.0710678118654755,0,1,1,7.0710678118654755,0\" style=\"fill: grey; stroke-width: 2; opacity: 0.7;\"></path><path transform=\"translate(312.5,274.2857142857143)\" d=\"M7.0710678118654755,0A7.0710678118654755,7.0710678118654755,0,1,1,-7.0710678118654755,0A7.0710678118654755,7.0710678118654755,0,1,1,7.0710678118654755,0\" style=\"fill: grey; stroke-width: 2; opacity: 0.7;\"></path><path transform=\"translate(187.5,285)\" d=\"M7.0710678118654755,0A7.0710678118654755,7.0710678118654755,0,1,1,-7.0710678118654755,0A7.0710678118654755,7.0710678118654755,0,1,1,7.0710678118654755,0\" style=\"fill: grey; stroke-width: 2; opacity: 0.7;\"></path><path transform=\"translate(375,282.85714285714283)\" d=\"M7.0710678118654755,0A7.0710678118654755,7.0710678118654755,0,1,1,-7.0710678118654755,0A7.0710678118654755,7.0710678118654755,0,1,1,7.0710678118654755,0\" style=\"fill: grey; stroke-width: 2; opacity: 0.7;\"></path><path transform=\"translate(187.5,282.85714285714283)\" d=\"M7.0710678118654755,0A7.0710678118654755,7.0710678118654755,0,1,1,-7.0710678118654755,0A7.0710678118654755,7.0710678118654755,0,1,1,7.0710678118654755,0\" style=\"fill: grey; stroke-width: 2; opacity: 0.7;\"></path><path transform=\"translate(312.5,272.14285714285717)\" d=\"M7.0710678118654755,0A7.0710678118654755,7.0710678118654755,0,1,1,-7.0710678118654755,0A7.0710678118654755,7.0710678118654755,0,1,1,7.0710678118654755,0\" style=\"fill: grey; stroke-width: 2; opacity: 0.7;\"></path><path transform=\"translate(250,276.42857142857144)\" d=\"M7.0710678118654755,0A7.0710678118654755,7.0710678118654755,0,1,1,-7.0710678118654755,0A7.0710678118654755,7.0710678118654755,0,1,1,7.0710678118654755,0\" style=\"fill: rgb(126, 183, 217); stroke-width: 2; opacity: 0.7;\"></path><path transform=\"translate(312.5,270)\" d=\"M7.0710678118654755,0A7.0710678118654755,7.0710678118654755,0,1,1,-7.0710678118654755,0A7.0710678118654755,7.0710678118654755,0,1,1,7.0710678118654755,0\" style=\"fill: grey; stroke-width: 2; opacity: 0.7;\"></path><path transform=\"translate(437.5,282.85714285714283)\" d=\"M7.0710678118654755,0A7.0710678118654755,7.0710678118654755,0,1,1,-7.0710678118654755,0A7.0710678118654755,7.0710678118654755,0,1,1,7.0710678118654755,0\" style=\"fill: grey; stroke-width: 2; opacity: 0.7;\"></path><path transform=\"translate(125,282.85714285714283)\" d=\"M7.0710678118654755,0A7.0710678118654755,7.0710678118654755,0,1,1,-7.0710678118654755,0A7.0710678118654755,7.0710678118654755,0,1,1,7.0710678118654755,0\" style=\"fill: grey; stroke-width: 2; opacity: 0.7;\"></path><path transform=\"translate(62.5,276.42857142857144)\" d=\"M7.0710678118654755,0A7.0710678118654755,7.0710678118654755,0,1,1,-7.0710678118654755,0A7.0710678118654755,7.0710678118654755,0,1,1,7.0710678118654755,0\" style=\"fill: grey; stroke-width: 2; opacity: 0.7;\"></path><path transform=\"translate(125,280.7142857142857)\" d=\"M7.0710678118654755,0A7.0710678118654755,7.0710678118654755,0,1,1,-7.0710678118654755,0A7.0710678118654755,7.0710678118654755,0,1,1,7.0710678118654755,0\" style=\"fill: grey; stroke-width: 2; opacity: 0.7;\"></path><path transform=\"translate(187.5,280.7142857142857)\" d=\"M7.0710678118654755,0A7.0710678118654755,7.0710678118654755,0,1,1,-7.0710678118654755,0A7.0710678118654755,7.0710678118654755,0,1,1,7.0710678118654755,0\" style=\"fill: grey; stroke-width: 2; opacity: 0.7;\"></path><path transform=\"translate(312.5,267.8571428571429)\" d=\"M7.0710678118654755,0A7.0710678118654755,7.0710678118654755,0,1,1,-7.0710678118654755,0A7.0710678118654755,7.0710678118654755,0,1,1,7.0710678118654755,0\" style=\"fill: grey; stroke-width: 2; opacity: 0.7;\"></path><path transform=\"translate(500,274.2857142857143)\" d=\"M7.0710678118654755,0A7.0710678118654755,7.0710678118654755,0,1,1,-7.0710678118654755,0A7.0710678118654755,7.0710678118654755,0,1,1,7.0710678118654755,0\" style=\"fill: grey; stroke-width: 2; opacity: 0.7;\"></path><path transform=\"translate(0,280.7142857142857)\" d=\"M7.0710678118654755,0A7.0710678118654755,7.0710678118654755,0,1,1,-7.0710678118654755,0A7.0710678118654755,7.0710678118654755,0,1,1,7.0710678118654755,0\" style=\"fill: grey; stroke-width: 2; opacity: 0.7;\"></path><path transform=\"translate(437.5,280.7142857142857)\" d=\"M7.0710678118654755,0A7.0710678118654755,7.0710678118654755,0,1,1,-7.0710678118654755,0A7.0710678118654755,7.0710678118654755,0,1,1,7.0710678118654755,0\" style=\"fill: grey; stroke-width: 2; opacity: 0.7;\"></path><path transform=\"translate(312.5,265.7142857142857)\" d=\"M7.0710678118654755,0A7.0710678118654755,7.0710678118654755,0,1,1,-7.0710678118654755,0A7.0710678118654755,7.0710678118654755,0,1,1,7.0710678118654755,0\" style=\"fill: grey; stroke-width: 2; opacity: 0.7;\"></path><path transform=\"translate(250,274.2857142857143)\" d=\"M7.0710678118654755,0A7.0710678118654755,7.0710678118654755,0,1,1,-7.0710678118654755,0A7.0710678118654755,7.0710678118654755,0,1,1,7.0710678118654755,0\" style=\"fill: rgb(77, 152, 201); stroke-width: 2; opacity: 0.7;\"></path><path transform=\"translate(312.5,263.57142857142856)\" d=\"M7.0710678118654755,0A7.0710678118654755,7.0710678118654755,0,1,1,-7.0710678118654755,0A7.0710678118654755,7.0710678118654755,0,1,1,7.0710678118654755,0\" style=\"fill: grey; stroke-width: 2; opacity: 0.7;\"></path><path transform=\"translate(437.5,278.57142857142856)\" d=\"M7.0710678118654755,0A7.0710678118654755,7.0710678118654755,0,1,1,-7.0710678118654755,0A7.0710678118654755,7.0710678118654755,0,1,1,7.0710678118654755,0\" style=\"fill: grey; stroke-width: 2; opacity: 0.7;\"></path><path transform=\"translate(312.5,261.42857142857144)\" d=\"M7.0710678118654755,0A7.0710678118654755,7.0710678118654755,0,1,1,-7.0710678118654755,0A7.0710678118654755,7.0710678118654755,0,1,1,7.0710678118654755,0\" style=\"fill: grey; stroke-width: 2; opacity: 0.7;\"></path><path transform=\"translate(62.5,274.2857142857143)\" d=\"M7.0710678118654755,0A7.0710678118654755,7.0710678118654755,0,1,1,-7.0710678118654755,0A7.0710678118654755,7.0710678118654755,0,1,1,7.0710678118654755,0\" style=\"fill: grey; stroke-width: 2; opacity: 0.7;\"></path><path transform=\"translate(62.5,272.14285714285717)\" d=\"M7.0710678118654755,0A7.0710678118654755,7.0710678118654755,0,1,1,-7.0710678118654755,0A7.0710678118654755,7.0710678118654755,0,1,1,7.0710678118654755,0\" style=\"fill: grey; stroke-width: 2; opacity: 0.7;\"></path><path transform=\"translate(312.5,259.2857142857143)\" d=\"M7.0710678118654755,0A7.0710678118654755,7.0710678118654755,0,1,1,-7.0710678118654755,0A7.0710678118654755,7.0710678118654755,0,1,1,7.0710678118654755,0\" style=\"fill: grey; stroke-width: 2; opacity: 0.7;\"></path><path transform=\"translate(125,278.57142857142856)\" d=\"M7.0710678118654755,0A7.0710678118654755,7.0710678118654755,0,1,1,-7.0710678118654755,0A7.0710678118654755,7.0710678118654755,0,1,1,7.0710678118654755,0\" style=\"fill: grey; stroke-width: 2; opacity: 0.7;\"></path><path transform=\"translate(437.5,276.42857142857144)\" d=\"M7.0710678118654755,0A7.0710678118654755,7.0710678118654755,0,1,1,-7.0710678118654755,0A7.0710678118654755,7.0710678118654755,0,1,1,7.0710678118654755,0\" style=\"fill: grey; stroke-width: 2; opacity: 0.7;\"></path><path transform=\"translate(437.5,274.2857142857143)\" d=\"M7.0710678118654755,0A7.0710678118654755,7.0710678118654755,0,1,1,-7.0710678118654755,0A7.0710678118654755,7.0710678118654755,0,1,1,7.0710678118654755,0\" style=\"fill: grey; stroke-width: 2; opacity: 0.7;\"></path><path transform=\"translate(62.5,270)\" d=\"M7.0710678118654755,0A7.0710678118654755,7.0710678118654755,0,1,1,-7.0710678118654755,0A7.0710678118654755,7.0710678118654755,0,1,1,7.0710678118654755,0\" style=\"fill: grey; stroke-width: 2; opacity: 0.7;\"></path><path transform=\"translate(437.5,272.14285714285717)\" d=\"M7.0710678118654755,0A7.0710678118654755,7.0710678118654755,0,1,1,-7.0710678118654755,0A7.0710678118654755,7.0710678118654755,0,1,1,7.0710678118654755,0\" style=\"fill: grey; stroke-width: 2; opacity: 0.7;\"></path><path transform=\"translate(312.5,257.14285714285717)\" d=\"M7.0710678118654755,0A7.0710678118654755,7.0710678118654755,0,1,1,-7.0710678118654755,0A7.0710678118654755,7.0710678118654755,0,1,1,7.0710678118654755,0\" style=\"fill: grey; stroke-width: 2; opacity: 0.7;\"></path><path transform=\"translate(125,276.42857142857144)\" d=\"M7.0710678118654755,0A7.0710678118654755,7.0710678118654755,0,1,1,-7.0710678118654755,0A7.0710678118654755,7.0710678118654755,0,1,1,7.0710678118654755,0\" style=\"fill: grey; stroke-width: 2; opacity: 0.7;\"></path><path transform=\"translate(437.5,270)\" d=\"M7.0710678118654755,0A7.0710678118654755,7.0710678118654755,0,1,1,-7.0710678118654755,0A7.0710678118654755,7.0710678118654755,0,1,1,7.0710678118654755,0\" style=\"fill: grey; stroke-width: 2; opacity: 0.7;\"></path><path transform=\"translate(437.5,267.8571428571429)\" d=\"M7.0710678118654755,0A7.0710678118654755,7.0710678118654755,0,1,1,-7.0710678118654755,0A7.0710678118654755,7.0710678118654755,0,1,1,7.0710678118654755,0\" style=\"fill: grey; stroke-width: 2; opacity: 0.7;\"></path><path transform=\"translate(250,272.14285714285717)\" d=\"M7.0710678118654755,0A7.0710678118654755,7.0710678118654755,0,1,1,-7.0710678118654755,0A7.0710678118654755,7.0710678118654755,0,1,1,7.0710678118654755,0\" style=\"fill: rgb(51, 130, 190); stroke-width: 2; opacity: 0.7;\"></path><path transform=\"translate(437.5,265.7142857142857)\" d=\"M7.0710678118654755,0A7.0710678118654755,7.0710678118654755,0,1,1,-7.0710678118654755,0A7.0710678118654755,7.0710678118654755,0,1,1,7.0710678118654755,0\" style=\"fill: grey; stroke-width: 2; opacity: 0.7;\"></path><path transform=\"translate(0,278.57142857142856)\" d=\"M7.0710678118654755,0A7.0710678118654755,7.0710678118654755,0,1,1,-7.0710678118654755,0A7.0710678118654755,7.0710678118654755,0,1,1,7.0710678118654755,0\" style=\"fill: grey; stroke-width: 2; opacity: 0.7;\"></path><path transform=\"translate(187.5,278.57142857142856)\" d=\"M7.0710678118654755,0A7.0710678118654755,7.0710678118654755,0,1,1,-7.0710678118654755,0A7.0710678118654755,7.0710678118654755,0,1,1,7.0710678118654755,0\" style=\"fill: grey; stroke-width: 2; opacity: 0.7;\"></path><path transform=\"translate(62.5,267.8571428571429)\" d=\"M7.0710678118654755,0A7.0710678118654755,7.0710678118654755,0,1,1,-7.0710678118654755,0A7.0710678118654755,7.0710678118654755,0,1,1,7.0710678118654755,0\" style=\"fill: grey; stroke-width: 2; opacity: 0.7;\"></path><path transform=\"translate(312.5,255)\" d=\"M7.0710678118654755,0A7.0710678118654755,7.0710678118654755,0,1,1,-7.0710678118654755,0A7.0710678118654755,7.0710678118654755,0,1,1,7.0710678118654755,0\" style=\"fill: grey; stroke-width: 2; opacity: 0.7;\"></path><path transform=\"translate(375,280.7142857142857)\" d=\"M7.0710678118654755,0A7.0710678118654755,7.0710678118654755,0,1,1,-7.0710678118654755,0A7.0710678118654755,7.0710678118654755,0,1,1,7.0710678118654755,0\" style=\"fill: grey; stroke-width: 2; opacity: 0.7;\"></path><path transform=\"translate(500,272.14285714285717)\" d=\"M7.0710678118654755,0A7.0710678118654755,7.0710678118654755,0,1,1,-7.0710678118654755,0A7.0710678118654755,7.0710678118654755,0,1,1,7.0710678118654755,0\" style=\"fill: grey; stroke-width: 2; opacity: 0.7;\"></path><path transform=\"translate(500,270)\" d=\"M7.0710678118654755,0A7.0710678118654755,7.0710678118654755,0,1,1,-7.0710678118654755,0A7.0710678118654755,7.0710678118654755,0,1,1,7.0710678118654755,0\" style=\"fill: grey; stroke-width: 2; opacity: 0.7;\"></path><path transform=\"translate(312.5,252.85714285714286)\" d=\"M7.0710678118654755,0A7.0710678118654755,7.0710678118654755,0,1,1,-7.0710678118654755,0A7.0710678118654755,7.0710678118654755,0,1,1,7.0710678118654755,0\" style=\"fill: grey; stroke-width: 2; opacity: 0.7;\"></path><path transform=\"translate(62.5,265.7142857142857)\" d=\"M7.0710678118654755,0A7.0710678118654755,7.0710678118654755,0,1,1,-7.0710678118654755,0A7.0710678118654755,7.0710678118654755,0,1,1,7.0710678118654755,0\" style=\"fill: grey; stroke-width: 2; opacity: 0.7;\"></path><path transform=\"translate(0,276.42857142857144)\" d=\"M7.0710678118654755,0A7.0710678118654755,7.0710678118654755,0,1,1,-7.0710678118654755,0A7.0710678118654755,7.0710678118654755,0,1,1,7.0710678118654755,0\" style=\"fill: grey; stroke-width: 2; opacity: 0.7;\"></path><path transform=\"translate(62.5,263.57142857142856)\" d=\"M7.0710678118654755,0A7.0710678118654755,7.0710678118654755,0,1,1,-7.0710678118654755,0A7.0710678118654755,7.0710678118654755,0,1,1,7.0710678118654755,0\" style=\"fill: grey; stroke-width: 2; opacity: 0.7;\"></path><path transform=\"translate(375,278.57142857142856)\" d=\"M7.0710678118654755,0A7.0710678118654755,7.0710678118654755,0,1,1,-7.0710678118654755,0A7.0710678118654755,7.0710678118654755,0,1,1,7.0710678118654755,0\" style=\"fill: grey; stroke-width: 2; opacity: 0.7;\"></path><path transform=\"translate(437.5,263.57142857142856)\" d=\"M7.0710678118654755,0A7.0710678118654755,7.0710678118654755,0,1,1,-7.0710678118654755,0A7.0710678118654755,7.0710678118654755,0,1,1,7.0710678118654755,0\" style=\"fill: grey; stroke-width: 2; opacity: 0.7;\"></path><path transform=\"translate(125,274.2857142857143)\" d=\"M7.0710678118654755,0A7.0710678118654755,7.0710678118654755,0,1,1,-7.0710678118654755,0A7.0710678118654755,7.0710678118654755,0,1,1,7.0710678118654755,0\" style=\"fill: grey; stroke-width: 2; opacity: 0.7;\"></path><path transform=\"translate(375,276.42857142857144)\" d=\"M7.0710678118654755,0A7.0710678118654755,7.0710678118654755,0,1,1,-7.0710678118654755,0A7.0710678118654755,7.0710678118654755,0,1,1,7.0710678118654755,0\" style=\"fill: grey; stroke-width: 2; opacity: 0.7;\"></path><path transform=\"translate(500,267.8571428571429)\" d=\"M7.0710678118654755,0A7.0710678118654755,7.0710678118654755,0,1,1,-7.0710678118654755,0A7.0710678118654755,7.0710678118654755,0,1,1,7.0710678118654755,0\" style=\"fill: grey; stroke-width: 2; opacity: 0.7;\"></path><path transform=\"translate(375,274.2857142857143)\" d=\"M7.0710678118654755,0A7.0710678118654755,7.0710678118654755,0,1,1,-7.0710678118654755,0A7.0710678118654755,7.0710678118654755,0,1,1,7.0710678118654755,0\" style=\"fill: grey; stroke-width: 2; opacity: 0.7;\"></path><path transform=\"translate(62.5,261.42857142857144)\" d=\"M7.0710678118654755,0A7.0710678118654755,7.0710678118654755,0,1,1,-7.0710678118654755,0A7.0710678118654755,7.0710678118654755,0,1,1,7.0710678118654755,0\" style=\"fill: grey; stroke-width: 2; opacity: 0.7;\"></path><path transform=\"translate(312.5,250.71428571428572)\" d=\"M7.0710678118654755,0A7.0710678118654755,7.0710678118654755,0,1,1,-7.0710678118654755,0A7.0710678118654755,7.0710678118654755,0,1,1,7.0710678118654755,0\" style=\"fill: grey; stroke-width: 2; opacity: 0.7;\"></path><path transform=\"translate(250,270)\" d=\"M7.0710678118654755,0A7.0710678118654755,7.0710678118654755,0,1,1,-7.0710678118654755,0A7.0710678118654755,7.0710678118654755,0,1,1,7.0710678118654755,0\" style=\"fill: rgb(49, 129, 189); stroke-width: 2; opacity: 0.7;\"></path><path transform=\"translate(187.5,276.42857142857144)\" d=\"M7.0710678118654755,0A7.0710678118654755,7.0710678118654755,0,1,1,-7.0710678118654755,0A7.0710678118654755,7.0710678118654755,0,1,1,7.0710678118654755,0\" style=\"fill: grey; stroke-width: 2; opacity: 0.7;\"></path><path transform=\"translate(62.5,259.2857142857143)\" d=\"M7.0710678118654755,0A7.0710678118654755,7.0710678118654755,0,1,1,-7.0710678118654755,0A7.0710678118654755,7.0710678118654755,0,1,1,7.0710678118654755,0\" style=\"fill: grey; stroke-width: 2; opacity: 0.7;\"></path><path transform=\"translate(62.5,257.14285714285717)\" d=\"M7.0710678118654755,0A7.0710678118654755,7.0710678118654755,0,1,1,-7.0710678118654755,0A7.0710678118654755,7.0710678118654755,0,1,1,7.0710678118654755,0\" style=\"fill: grey; stroke-width: 2; opacity: 0.7;\"></path><path transform=\"translate(500,265.7142857142857)\" d=\"M7.0710678118654755,0A7.0710678118654755,7.0710678118654755,0,1,1,-7.0710678118654755,0A7.0710678118654755,7.0710678118654755,0,1,1,7.0710678118654755,0\" style=\"fill: grey; stroke-width: 2; opacity: 0.7;\"></path><path transform=\"translate(0,274.2857142857143)\" d=\"M7.0710678118654755,0A7.0710678118654755,7.0710678118654755,0,1,1,-7.0710678118654755,0A7.0710678118654755,7.0710678118654755,0,1,1,7.0710678118654755,0\" style=\"fill: grey; stroke-width: 2; opacity: 0.7;\"></path><path transform=\"translate(375,272.14285714285717)\" d=\"M7.0710678118654755,0A7.0710678118654755,7.0710678118654755,0,1,1,-7.0710678118654755,0A7.0710678118654755,7.0710678118654755,0,1,1,7.0710678118654755,0\" style=\"fill: grey; stroke-width: 2; opacity: 0.7;\"></path><path transform=\"translate(62.5,255)\" d=\"M7.0710678118654755,0A7.0710678118654755,7.0710678118654755,0,1,1,-7.0710678118654755,0A7.0710678118654755,7.0710678118654755,0,1,1,7.0710678118654755,0\" style=\"fill: grey; stroke-width: 2; opacity: 0.7;\"></path><path transform=\"translate(125,272.14285714285717)\" d=\"M7.0710678118654755,0A7.0710678118654755,7.0710678118654755,0,1,1,-7.0710678118654755,0A7.0710678118654755,7.0710678118654755,0,1,1,7.0710678118654755,0\" style=\"fill: grey; stroke-width: 2; opacity: 0.7;\"></path><path transform=\"translate(187.5,274.2857142857143)\" d=\"M7.0710678118654755,0A7.0710678118654755,7.0710678118654755,0,1,1,-7.0710678118654755,0A7.0710678118654755,7.0710678118654755,0,1,1,7.0710678118654755,0\" style=\"fill: grey; stroke-width: 2; opacity: 0.7;\"></path><path transform=\"translate(250,267.8571428571429)\" d=\"M7.0710678118654755,0A7.0710678118654755,7.0710678118654755,0,1,1,-7.0710678118654755,0A7.0710678118654755,7.0710678118654755,0,1,1,7.0710678118654755,0\" style=\"fill: rgb(71, 147, 199); stroke-width: 2; opacity: 0.7;\"></path><path transform=\"translate(375,270)\" d=\"M7.0710678118654755,0A7.0710678118654755,7.0710678118654755,0,1,1,-7.0710678118654755,0A7.0710678118654755,7.0710678118654755,0,1,1,7.0710678118654755,0\" style=\"fill: grey; stroke-width: 2; opacity: 0.7;\"></path><path transform=\"translate(62.5,252.85714285714286)\" d=\"M7.0710678118654755,0A7.0710678118654755,7.0710678118654755,0,1,1,-7.0710678118654755,0A7.0710678118654755,7.0710678118654755,0,1,1,7.0710678118654755,0\" style=\"fill: grey; stroke-width: 2; opacity: 0.7;\"></path><path transform=\"translate(187.5,272.14285714285717)\" d=\"M7.0710678118654755,0A7.0710678118654755,7.0710678118654755,0,1,1,-7.0710678118654755,0A7.0710678118654755,7.0710678118654755,0,1,1,7.0710678118654755,0\" style=\"fill: grey; stroke-width: 2; opacity: 0.7;\"></path><path transform=\"translate(500,263.57142857142856)\" d=\"M7.0710678118654755,0A7.0710678118654755,7.0710678118654755,0,1,1,-7.0710678118654755,0A7.0710678118654755,7.0710678118654755,0,1,1,7.0710678118654755,0\" style=\"fill: grey; stroke-width: 2; opacity: 0.7;\"></path><path transform=\"translate(437.5,261.42857142857144)\" d=\"M7.0710678118654755,0A7.0710678118654755,7.0710678118654755,0,1,1,-7.0710678118654755,0A7.0710678118654755,7.0710678118654755,0,1,1,7.0710678118654755,0\" style=\"fill: grey; stroke-width: 2; opacity: 0.7;\"></path><path transform=\"translate(187.5,270)\" d=\"M7.0710678118654755,0A7.0710678118654755,7.0710678118654755,0,1,1,-7.0710678118654755,0A7.0710678118654755,7.0710678118654755,0,1,1,7.0710678118654755,0\" style=\"fill: grey; stroke-width: 2; opacity: 0.7;\"></path><path transform=\"translate(62.5,250.71428571428572)\" d=\"M7.0710678118654755,0A7.0710678118654755,7.0710678118654755,0,1,1,-7.0710678118654755,0A7.0710678118654755,7.0710678118654755,0,1,1,7.0710678118654755,0\" style=\"fill: grey; stroke-width: 2; opacity: 0.7;\"></path><path transform=\"translate(375,267.8571428571429)\" d=\"M7.0710678118654755,0A7.0710678118654755,7.0710678118654755,0,1,1,-7.0710678118654755,0A7.0710678118654755,7.0710678118654755,0,1,1,7.0710678118654755,0\" style=\"fill: grey; stroke-width: 2; opacity: 0.7;\"></path><path transform=\"translate(250,265.7142857142857)\" d=\"M7.0710678118654755,0A7.0710678118654755,7.0710678118654755,0,1,1,-7.0710678118654755,0A7.0710678118654755,7.0710678118654755,0,1,1,7.0710678118654755,0\" style=\"fill: rgb(76, 152, 201); stroke-width: 2; opacity: 0.7;\"></path><path transform=\"translate(187.5,267.8571428571429)\" d=\"M7.0710678118654755,0A7.0710678118654755,7.0710678118654755,0,1,1,-7.0710678118654755,0A7.0710678118654755,7.0710678118654755,0,1,1,7.0710678118654755,0\" style=\"fill: grey; stroke-width: 2; opacity: 0.7;\"></path><path transform=\"translate(187.5,265.7142857142857)\" d=\"M7.0710678118654755,0A7.0710678118654755,7.0710678118654755,0,1,1,-7.0710678118654755,0A7.0710678118654755,7.0710678118654755,0,1,1,7.0710678118654755,0\" style=\"fill: grey; stroke-width: 2; opacity: 0.7;\"></path><path transform=\"translate(125,270)\" d=\"M7.0710678118654755,0A7.0710678118654755,7.0710678118654755,0,1,1,-7.0710678118654755,0A7.0710678118654755,7.0710678118654755,0,1,1,7.0710678118654755,0\" style=\"fill: grey; stroke-width: 2; opacity: 0.7;\"></path><path transform=\"translate(250,263.57142857142856)\" d=\"M7.0710678118654755,0A7.0710678118654755,7.0710678118654755,0,1,1,-7.0710678118654755,0A7.0710678118654755,7.0710678118654755,0,1,1,7.0710678118654755,0\" style=\"fill: rgb(41, 120, 184); stroke-width: 2; opacity: 0.7;\"></path><path transform=\"translate(187.5,263.57142857142856)\" d=\"M7.0710678118654755,0A7.0710678118654755,7.0710678118654755,0,1,1,-7.0710678118654755,0A7.0710678118654755,7.0710678118654755,0,1,1,7.0710678118654755,0\" style=\"fill: grey; stroke-width: 2; opacity: 0.7;\"></path><path transform=\"translate(312.5,248.57142857142856)\" d=\"M7.0710678118654755,0A7.0710678118654755,7.0710678118654755,0,1,1,-7.0710678118654755,0A7.0710678118654755,7.0710678118654755,0,1,1,7.0710678118654755,0\" style=\"fill: grey; stroke-width: 2; opacity: 0.7;\"></path><path transform=\"translate(187.5,261.42857142857144)\" d=\"M7.0710678118654755,0A7.0710678118654755,7.0710678118654755,0,1,1,-7.0710678118654755,0A7.0710678118654755,7.0710678118654755,0,1,1,7.0710678118654755,0\" style=\"fill: grey; stroke-width: 2; opacity: 0.7;\"></path><path transform=\"translate(250,261.42857142857144)\" d=\"M7.0710678118654755,0A7.0710678118654755,7.0710678118654755,0,1,1,-7.0710678118654755,0A7.0710678118654755,7.0710678118654755,0,1,1,7.0710678118654755,0\" style=\"fill: rgb(76, 151, 201); stroke-width: 2; opacity: 0.7;\"></path><path transform=\"translate(125,267.8571428571429)\" d=\"M7.0710678118654755,0A7.0710678118654755,7.0710678118654755,0,1,1,-7.0710678118654755,0A7.0710678118654755,7.0710678118654755,0,1,1,7.0710678118654755,0\" style=\"fill: grey; stroke-width: 2; opacity: 0.7;\"></path><path transform=\"translate(187.5,259.2857142857143)\" d=\"M7.0710678118654755,0A7.0710678118654755,7.0710678118654755,0,1,1,-7.0710678118654755,0A7.0710678118654755,7.0710678118654755,0,1,1,7.0710678118654755,0\" style=\"fill: grey; stroke-width: 2; opacity: 0.7;\"></path><path transform=\"translate(250,259.2857142857143)\" d=\"M7.0710678118654755,0A7.0710678118654755,7.0710678118654755,0,1,1,-7.0710678118654755,0A7.0710678118654755,7.0710678118654755,0,1,1,7.0710678118654755,0\" style=\"fill: rgb(125, 183, 217); stroke-width: 2; opacity: 0.7;\"></path><path transform=\"translate(500,261.42857142857144)\" d=\"M7.0710678118654755,0A7.0710678118654755,7.0710678118654755,0,1,1,-7.0710678118654755,0A7.0710678118654755,7.0710678118654755,0,1,1,7.0710678118654755,0\" style=\"fill: grey; stroke-width: 2; opacity: 0.7;\"></path><path transform=\"translate(250,257.14285714285717)\" d=\"M7.0710678118654755,0A7.0710678118654755,7.0710678118654755,0,1,1,-7.0710678118654755,0A7.0710678118654755,7.0710678118654755,0,1,1,7.0710678118654755,0\" style=\"fill: rgb(112, 175, 214); stroke-width: 2; opacity: 0.7;\"></path><path transform=\"translate(312.5,246.42857142857144)\" d=\"M7.0710678118654755,0A7.0710678118654755,7.0710678118654755,0,1,1,-7.0710678118654755,0A7.0710678118654755,7.0710678118654755,0,1,1,7.0710678118654755,0\" style=\"fill: grey; stroke-width: 2; opacity: 0.7;\"></path><path transform=\"translate(125,265.7142857142857)\" d=\"M7.0710678118654755,0A7.0710678118654755,7.0710678118654755,0,1,1,-7.0710678118654755,0A7.0710678118654755,7.0710678118654755,0,1,1,7.0710678118654755,0\" style=\"fill: grey; stroke-width: 2; opacity: 0.7;\"></path><path transform=\"translate(250,255)\" d=\"M7.0710678118654755,0A7.0710678118654755,7.0710678118654755,0,1,1,-7.0710678118654755,0A7.0710678118654755,7.0710678118654755,0,1,1,7.0710678118654755,0\" style=\"fill: rgb(57, 135, 192); stroke-width: 2; opacity: 0.7;\"></path><path transform=\"translate(312.5,244.28571428571428)\" d=\"M7.0710678118654755,0A7.0710678118654755,7.0710678118654755,0,1,1,-7.0710678118654755,0A7.0710678118654755,7.0710678118654755,0,1,1,7.0710678118654755,0\" style=\"fill: grey; stroke-width: 2; opacity: 0.7;\"></path><path transform=\"translate(375,265.7142857142857)\" d=\"M7.0710678118654755,0A7.0710678118654755,7.0710678118654755,0,1,1,-7.0710678118654755,0A7.0710678118654755,7.0710678118654755,0,1,1,7.0710678118654755,0\" style=\"fill: grey; stroke-width: 2; opacity: 0.7;\"></path><path transform=\"translate(187.5,257.14285714285717)\" d=\"M7.0710678118654755,0A7.0710678118654755,7.0710678118654755,0,1,1,-7.0710678118654755,0A7.0710678118654755,7.0710678118654755,0,1,1,7.0710678118654755,0\" style=\"fill: grey; stroke-width: 2; opacity: 0.7;\"></path><path transform=\"translate(437.5,259.2857142857143)\" d=\"M7.0710678118654755,0A7.0710678118654755,7.0710678118654755,0,1,1,-7.0710678118654755,0A7.0710678118654755,7.0710678118654755,0,1,1,7.0710678118654755,0\" style=\"fill: grey; stroke-width: 2; opacity: 0.7;\"></path><path transform=\"translate(0,272.14285714285717)\" d=\"M7.0710678118654755,0A7.0710678118654755,7.0710678118654755,0,1,1,-7.0710678118654755,0A7.0710678118654755,7.0710678118654755,0,1,1,7.0710678118654755,0\" style=\"fill: grey; stroke-width: 2; opacity: 0.7;\"></path><path transform=\"translate(375,263.57142857142856)\" d=\"M7.0710678118654755,0A7.0710678118654755,7.0710678118654755,0,1,1,-7.0710678118654755,0A7.0710678118654755,7.0710678118654755,0,1,1,7.0710678118654755,0\" style=\"fill: grey; stroke-width: 2; opacity: 0.7;\"></path><path transform=\"translate(312.5,242.14285714285714)\" d=\"M7.0710678118654755,0A7.0710678118654755,7.0710678118654755,0,1,1,-7.0710678118654755,0A7.0710678118654755,7.0710678118654755,0,1,1,7.0710678118654755,0\" style=\"fill: grey; stroke-width: 2; opacity: 0.7;\"></path><path transform=\"translate(187.5,255)\" d=\"M7.0710678118654755,0A7.0710678118654755,7.0710678118654755,0,1,1,-7.0710678118654755,0A7.0710678118654755,7.0710678118654755,0,1,1,7.0710678118654755,0\" style=\"fill: grey; stroke-width: 2; opacity: 0.7;\"></path><path transform=\"translate(187.5,252.85714285714286)\" d=\"M7.0710678118654755,0A7.0710678118654755,7.0710678118654755,0,1,1,-7.0710678118654755,0A7.0710678118654755,7.0710678118654755,0,1,1,7.0710678118654755,0\" style=\"fill: grey; stroke-width: 2; opacity: 0.7;\"></path><path transform=\"translate(62.5,248.57142857142856)\" d=\"M7.0710678118654755,0A7.0710678118654755,7.0710678118654755,0,1,1,-7.0710678118654755,0A7.0710678118654755,7.0710678118654755,0,1,1,7.0710678118654755,0\" style=\"fill: grey; stroke-width: 2; opacity: 0.7;\"></path><path transform=\"translate(312.5,240)\" d=\"M7.0710678118654755,0A7.0710678118654755,7.0710678118654755,0,1,1,-7.0710678118654755,0A7.0710678118654755,7.0710678118654755,0,1,1,7.0710678118654755,0\" style=\"fill: grey; stroke-width: 2; opacity: 0.7;\"></path><path transform=\"translate(250,252.85714285714286)\" d=\"M7.0710678118654755,0A7.0710678118654755,7.0710678118654755,0,1,1,-7.0710678118654755,0A7.0710678118654755,7.0710678118654755,0,1,1,7.0710678118654755,0\" style=\"fill: rgb(120, 180, 216); stroke-width: 2; opacity: 0.7;\"></path><path transform=\"translate(62.5,246.42857142857144)\" d=\"M7.0710678118654755,0A7.0710678118654755,7.0710678118654755,0,1,1,-7.0710678118654755,0A7.0710678118654755,7.0710678118654755,0,1,1,7.0710678118654755,0\" style=\"fill: grey; stroke-width: 2; opacity: 0.7;\"></path><path transform=\"translate(62.5,244.28571428571428)\" d=\"M7.0710678118654755,0A7.0710678118654755,7.0710678118654755,0,1,1,-7.0710678118654755,0A7.0710678118654755,7.0710678118654755,0,1,1,7.0710678118654755,0\" style=\"fill: grey; stroke-width: 2; opacity: 0.7;\"></path><path transform=\"translate(312.5,237.85714285714286)\" d=\"M7.0710678118654755,0A7.0710678118654755,7.0710678118654755,0,1,1,-7.0710678118654755,0A7.0710678118654755,7.0710678118654755,0,1,1,7.0710678118654755,0\" style=\"fill: grey; stroke-width: 2; opacity: 0.7;\"></path><path transform=\"translate(500,259.2857142857143)\" d=\"M7.0710678118654755,0A7.0710678118654755,7.0710678118654755,0,1,1,-7.0710678118654755,0A7.0710678118654755,7.0710678118654755,0,1,1,7.0710678118654755,0\" style=\"fill: grey; stroke-width: 2; opacity: 0.7;\"></path><path transform=\"translate(187.5,250.71428571428572)\" d=\"M7.0710678118654755,0A7.0710678118654755,7.0710678118654755,0,1,1,-7.0710678118654755,0A7.0710678118654755,7.0710678118654755,0,1,1,7.0710678118654755,0\" style=\"fill: grey; stroke-width: 2; opacity: 0.7;\"></path><path transform=\"translate(0,270)\" d=\"M7.0710678118654755,0A7.0710678118654755,7.0710678118654755,0,1,1,-7.0710678118654755,0A7.0710678118654755,7.0710678118654755,0,1,1,7.0710678118654755,0\" style=\"fill: grey; stroke-width: 2; opacity: 0.7;\"></path><path transform=\"translate(187.5,248.57142857142856)\" d=\"M7.0710678118654755,0A7.0710678118654755,7.0710678118654755,0,1,1,-7.0710678118654755,0A7.0710678118654755,7.0710678118654755,0,1,1,7.0710678118654755,0\" style=\"fill: grey; stroke-width: 2; opacity: 0.7;\"></path><path transform=\"translate(437.5,257.14285714285717)\" d=\"M7.0710678118654755,0A7.0710678118654755,7.0710678118654755,0,1,1,-7.0710678118654755,0A7.0710678118654755,7.0710678118654755,0,1,1,7.0710678118654755,0\" style=\"fill: grey; stroke-width: 2; opacity: 0.7;\"></path><path transform=\"translate(125,263.57142857142856)\" d=\"M7.0710678118654755,0A7.0710678118654755,7.0710678118654755,0,1,1,-7.0710678118654755,0A7.0710678118654755,7.0710678118654755,0,1,1,7.0710678118654755,0\" style=\"fill: grey; stroke-width: 2; opacity: 0.7;\"></path><path transform=\"translate(312.5,235.71428571428572)\" d=\"M7.0710678118654755,0A7.0710678118654755,7.0710678118654755,0,1,1,-7.0710678118654755,0A7.0710678118654755,7.0710678118654755,0,1,1,7.0710678118654755,0\" style=\"fill: grey; stroke-width: 2; opacity: 0.7;\"></path><path transform=\"translate(500,257.14285714285717)\" d=\"M7.0710678118654755,0A7.0710678118654755,7.0710678118654755,0,1,1,-7.0710678118654755,0A7.0710678118654755,7.0710678118654755,0,1,1,7.0710678118654755,0\" style=\"fill: grey; stroke-width: 2; opacity: 0.7;\"></path><path transform=\"translate(0,267.8571428571429)\" d=\"M7.0710678118654755,0A7.0710678118654755,7.0710678118654755,0,1,1,-7.0710678118654755,0A7.0710678118654755,7.0710678118654755,0,1,1,7.0710678118654755,0\" style=\"fill: grey; stroke-width: 2; opacity: 0.7;\"></path><path transform=\"translate(312.5,233.57142857142856)\" d=\"M7.0710678118654755,0A7.0710678118654755,7.0710678118654755,0,1,1,-7.0710678118654755,0A7.0710678118654755,7.0710678118654755,0,1,1,7.0710678118654755,0\" style=\"fill: grey; stroke-width: 2; opacity: 0.7;\"></path><path transform=\"translate(312.5,231.42857142857144)\" d=\"M7.0710678118654755,0A7.0710678118654755,7.0710678118654755,0,1,1,-7.0710678118654755,0A7.0710678118654755,7.0710678118654755,0,1,1,7.0710678118654755,0\" style=\"fill: grey; stroke-width: 2; opacity: 0.7;\"></path><path transform=\"translate(312.5,229.28571428571428)\" d=\"M7.0710678118654755,0A7.0710678118654755,7.0710678118654755,0,1,1,-7.0710678118654755,0A7.0710678118654755,7.0710678118654755,0,1,1,7.0710678118654755,0\" style=\"fill: grey; stroke-width: 2; opacity: 0.7;\"></path><path transform=\"translate(62.5,242.14285714285714)\" d=\"M7.0710678118654755,0A7.0710678118654755,7.0710678118654755,0,1,1,-7.0710678118654755,0A7.0710678118654755,7.0710678118654755,0,1,1,7.0710678118654755,0\" style=\"fill: grey; stroke-width: 2; opacity: 0.7;\"></path><path transform=\"translate(125,261.42857142857144)\" d=\"M7.0710678118654755,0A7.0710678118654755,7.0710678118654755,0,1,1,-7.0710678118654755,0A7.0710678118654755,7.0710678118654755,0,1,1,7.0710678118654755,0\" style=\"fill: grey; stroke-width: 2; opacity: 0.7;\"></path><path transform=\"translate(250,250.71428571428572)\" d=\"M7.0710678118654755,0A7.0710678118654755,7.0710678118654755,0,1,1,-7.0710678118654755,0A7.0710678118654755,7.0710678118654755,0,1,1,7.0710678118654755,0\" style=\"fill: rgb(83, 157, 204); stroke-width: 2; opacity: 0.7;\"></path><path transform=\"translate(375,261.42857142857144)\" d=\"M7.0710678118654755,0A7.0710678118654755,7.0710678118654755,0,1,1,-7.0710678118654755,0A7.0710678118654755,7.0710678118654755,0,1,1,7.0710678118654755,0\" style=\"fill: grey; stroke-width: 2; opacity: 0.7;\"></path><path transform=\"translate(375,259.2857142857143)\" d=\"M7.0710678118654755,0A7.0710678118654755,7.0710678118654755,0,1,1,-7.0710678118654755,0A7.0710678118654755,7.0710678118654755,0,1,1,7.0710678118654755,0\" style=\"fill: grey; stroke-width: 2; opacity: 0.7;\"></path><path transform=\"translate(0,265.7142857142857)\" d=\"M7.0710678118654755,0A7.0710678118654755,7.0710678118654755,0,1,1,-7.0710678118654755,0A7.0710678118654755,7.0710678118654755,0,1,1,7.0710678118654755,0\" style=\"fill: grey; stroke-width: 2; opacity: 0.7;\"></path><path transform=\"translate(500,255)\" d=\"M7.0710678118654755,0A7.0710678118654755,7.0710678118654755,0,1,1,-7.0710678118654755,0A7.0710678118654755,7.0710678118654755,0,1,1,7.0710678118654755,0\" style=\"fill: grey; stroke-width: 2; opacity: 0.7;\"></path><path transform=\"translate(312.5,227.14285714285714)\" d=\"M7.0710678118654755,0A7.0710678118654755,7.0710678118654755,0,1,1,-7.0710678118654755,0A7.0710678118654755,7.0710678118654755,0,1,1,7.0710678118654755,0\" style=\"fill: grey; stroke-width: 2; opacity: 0.7;\"></path><path transform=\"translate(62.5,240)\" d=\"M7.0710678118654755,0A7.0710678118654755,7.0710678118654755,0,1,1,-7.0710678118654755,0A7.0710678118654755,7.0710678118654755,0,1,1,7.0710678118654755,0\" style=\"fill: grey; stroke-width: 2; opacity: 0.7;\"></path><path transform=\"translate(437.5,255)\" d=\"M7.0710678118654755,0A7.0710678118654755,7.0710678118654755,0,1,1,-7.0710678118654755,0A7.0710678118654755,7.0710678118654755,0,1,1,7.0710678118654755,0\" style=\"fill: grey; stroke-width: 2; opacity: 0.7;\"></path><path transform=\"translate(187.5,246.42857142857144)\" d=\"M7.0710678118654755,0A7.0710678118654755,7.0710678118654755,0,1,1,-7.0710678118654755,0A7.0710678118654755,7.0710678118654755,0,1,1,7.0710678118654755,0\" style=\"fill: grey; stroke-width: 2; opacity: 0.7;\"></path><path transform=\"translate(62.5,237.85714285714286)\" d=\"M7.0710678118654755,0A7.0710678118654755,7.0710678118654755,0,1,1,-7.0710678118654755,0A7.0710678118654755,7.0710678118654755,0,1,1,7.0710678118654755,0\" style=\"fill: grey; stroke-width: 2; opacity: 0.7;\"></path><path transform=\"translate(0,263.57142857142856)\" d=\"M7.0710678118654755,0A7.0710678118654755,7.0710678118654755,0,1,1,-7.0710678118654755,0A7.0710678118654755,7.0710678118654755,0,1,1,7.0710678118654755,0\" style=\"fill: grey; stroke-width: 2; opacity: 0.7;\"></path><path transform=\"translate(312.5,225)\" d=\"M7.0710678118654755,0A7.0710678118654755,7.0710678118654755,0,1,1,-7.0710678118654755,0A7.0710678118654755,7.0710678118654755,0,1,1,7.0710678118654755,0\" style=\"fill: grey; stroke-width: 2; opacity: 0.7;\"></path><path transform=\"translate(62.5,235.71428571428572)\" d=\"M7.0710678118654755,0A7.0710678118654755,7.0710678118654755,0,1,1,-7.0710678118654755,0A7.0710678118654755,7.0710678118654755,0,1,1,7.0710678118654755,0\" style=\"fill: grey; stroke-width: 2; opacity: 0.7;\"></path><path transform=\"translate(0,261.42857142857144)\" d=\"M7.0710678118654755,0A7.0710678118654755,7.0710678118654755,0,1,1,-7.0710678118654755,0A7.0710678118654755,7.0710678118654755,0,1,1,7.0710678118654755,0\" style=\"fill: grey; stroke-width: 2; opacity: 0.7;\"></path><path transform=\"translate(62.5,233.57142857142856)\" d=\"M7.0710678118654755,0A7.0710678118654755,7.0710678118654755,0,1,1,-7.0710678118654755,0A7.0710678118654755,7.0710678118654755,0,1,1,7.0710678118654755,0\" style=\"fill: grey; stroke-width: 2; opacity: 0.7;\"></path><path transform=\"translate(312.5,222.85714285714286)\" d=\"M7.0710678118654755,0A7.0710678118654755,7.0710678118654755,0,1,1,-7.0710678118654755,0A7.0710678118654755,7.0710678118654755,0,1,1,7.0710678118654755,0\" style=\"fill: grey; stroke-width: 2; opacity: 0.7;\"></path><path transform=\"translate(0,259.2857142857143)\" d=\"M7.0710678118654755,0A7.0710678118654755,7.0710678118654755,0,1,1,-7.0710678118654755,0A7.0710678118654755,7.0710678118654755,0,1,1,7.0710678118654755,0\" style=\"fill: grey; stroke-width: 2; opacity: 0.7;\"></path><path transform=\"translate(312.5,220.71428571428572)\" d=\"M7.0710678118654755,0A7.0710678118654755,7.0710678118654755,0,1,1,-7.0710678118654755,0A7.0710678118654755,7.0710678118654755,0,1,1,7.0710678118654755,0\" style=\"fill: grey; stroke-width: 2; opacity: 0.7;\"></path><path transform=\"translate(312.5,218.57142857142858)\" d=\"M7.0710678118654755,0A7.0710678118654755,7.0710678118654755,0,1,1,-7.0710678118654755,0A7.0710678118654755,7.0710678118654755,0,1,1,7.0710678118654755,0\" style=\"fill: grey; stroke-width: 2; opacity: 0.7;\"></path><path transform=\"translate(437.5,252.85714285714286)\" d=\"M7.0710678118654755,0A7.0710678118654755,7.0710678118654755,0,1,1,-7.0710678118654755,0A7.0710678118654755,7.0710678118654755,0,1,1,7.0710678118654755,0\" style=\"fill: grey; stroke-width: 2; opacity: 0.7;\"></path><path transform=\"translate(187.5,244.28571428571428)\" d=\"M7.0710678118654755,0A7.0710678118654755,7.0710678118654755,0,1,1,-7.0710678118654755,0A7.0710678118654755,7.0710678118654755,0,1,1,7.0710678118654755,0\" style=\"fill: grey; stroke-width: 2; opacity: 0.7;\"></path><path transform=\"translate(312.5,216.42857142857144)\" d=\"M7.0710678118654755,0A7.0710678118654755,7.0710678118654755,0,1,1,-7.0710678118654755,0A7.0710678118654755,7.0710678118654755,0,1,1,7.0710678118654755,0\" style=\"fill: grey; stroke-width: 2; opacity: 0.7;\"></path><path transform=\"translate(500,252.85714285714286)\" d=\"M7.0710678118654755,0A7.0710678118654755,7.0710678118654755,0,1,1,-7.0710678118654755,0A7.0710678118654755,7.0710678118654755,0,1,1,7.0710678118654755,0\" style=\"fill: grey; stroke-width: 2; opacity: 0.7;\"></path><path transform=\"translate(500,250.71428571428572)\" d=\"M7.0710678118654755,0A7.0710678118654755,7.0710678118654755,0,1,1,-7.0710678118654755,0A7.0710678118654755,7.0710678118654755,0,1,1,7.0710678118654755,0\" style=\"fill: grey; stroke-width: 2; opacity: 0.7;\"></path><path transform=\"translate(250,248.57142857142856)\" d=\"M7.0710678118654755,0A7.0710678118654755,7.0710678118654755,0,1,1,-7.0710678118654755,0A7.0710678118654755,7.0710678118654755,0,1,1,7.0710678118654755,0\" style=\"fill: rgb(31, 110, 177); stroke-width: 2; opacity: 0.7;\"></path><path transform=\"translate(375,257.14285714285717)\" d=\"M7.0710678118654755,0A7.0710678118654755,7.0710678118654755,0,1,1,-7.0710678118654755,0A7.0710678118654755,7.0710678118654755,0,1,1,7.0710678118654755,0\" style=\"fill: grey; stroke-width: 2; opacity: 0.7;\"></path><path transform=\"translate(375,255)\" d=\"M7.0710678118654755,0A7.0710678118654755,7.0710678118654755,0,1,1,-7.0710678118654755,0A7.0710678118654755,7.0710678118654755,0,1,1,7.0710678118654755,0\" style=\"fill: grey; stroke-width: 2; opacity: 0.7;\"></path><path transform=\"translate(312.5,214.28571428571428)\" d=\"M7.0710678118654755,0A7.0710678118654755,7.0710678118654755,0,1,1,-7.0710678118654755,0A7.0710678118654755,7.0710678118654755,0,1,1,7.0710678118654755,0\" style=\"fill: grey; stroke-width: 2; opacity: 0.7;\"></path><path transform=\"translate(437.5,250.71428571428572)\" d=\"M7.0710678118654755,0A7.0710678118654755,7.0710678118654755,0,1,1,-7.0710678118654755,0A7.0710678118654755,7.0710678118654755,0,1,1,7.0710678118654755,0\" style=\"fill: grey; stroke-width: 2; opacity: 0.7;\"></path><path transform=\"translate(187.5,242.14285714285714)\" d=\"M7.0710678118654755,0A7.0710678118654755,7.0710678118654755,0,1,1,-7.0710678118654755,0A7.0710678118654755,7.0710678118654755,0,1,1,7.0710678118654755,0\" style=\"fill: grey; stroke-width: 2; opacity: 0.7;\"></path><path transform=\"translate(125,259.2857142857143)\" d=\"M7.0710678118654755,0A7.0710678118654755,7.0710678118654755,0,1,1,-7.0710678118654755,0A7.0710678118654755,7.0710678118654755,0,1,1,7.0710678118654755,0\" style=\"fill: grey; stroke-width: 2; opacity: 0.7;\"></path><path transform=\"translate(375,252.85714285714286)\" d=\"M7.0710678118654755,0A7.0710678118654755,7.0710678118654755,0,1,1,-7.0710678118654755,0A7.0710678118654755,7.0710678118654755,0,1,1,7.0710678118654755,0\" style=\"fill: grey; stroke-width: 2; opacity: 0.7;\"></path><path transform=\"translate(500,248.57142857142856)\" d=\"M7.0710678118654755,0A7.0710678118654755,7.0710678118654755,0,1,1,-7.0710678118654755,0A7.0710678118654755,7.0710678118654755,0,1,1,7.0710678118654755,0\" style=\"fill: grey; stroke-width: 2; opacity: 0.7;\"></path><path transform=\"translate(125,257.14285714285717)\" d=\"M7.0710678118654755,0A7.0710678118654755,7.0710678118654755,0,1,1,-7.0710678118654755,0A7.0710678118654755,7.0710678118654755,0,1,1,7.0710678118654755,0\" style=\"fill: grey; stroke-width: 2; opacity: 0.7;\"></path><path transform=\"translate(0,257.14285714285717)\" d=\"M7.0710678118654755,0A7.0710678118654755,7.0710678118654755,0,1,1,-7.0710678118654755,0A7.0710678118654755,7.0710678118654755,0,1,1,7.0710678118654755,0\" style=\"fill: grey; stroke-width: 2; opacity: 0.7;\"></path><path transform=\"translate(125,255)\" d=\"M7.0710678118654755,0A7.0710678118654755,7.0710678118654755,0,1,1,-7.0710678118654755,0A7.0710678118654755,7.0710678118654755,0,1,1,7.0710678118654755,0\" style=\"fill: grey; stroke-width: 2; opacity: 0.7;\"></path><path transform=\"translate(0,255)\" d=\"M7.0710678118654755,0A7.0710678118654755,7.0710678118654755,0,1,1,-7.0710678118654755,0A7.0710678118654755,7.0710678118654755,0,1,1,7.0710678118654755,0\" style=\"fill: grey; stroke-width: 2; opacity: 0.7;\"></path><path transform=\"translate(187.5,240)\" d=\"M7.0710678118654755,0A7.0710678118654755,7.0710678118654755,0,1,1,-7.0710678118654755,0A7.0710678118654755,7.0710678118654755,0,1,1,7.0710678118654755,0\" style=\"fill: grey; stroke-width: 2; opacity: 0.7;\"></path><path transform=\"translate(250,246.42857142857144)\" d=\"M7.0710678118654755,0A7.0710678118654755,7.0710678118654755,0,1,1,-7.0710678118654755,0A7.0710678118654755,7.0710678118654755,0,1,1,7.0710678118654755,0\" style=\"fill: rgb(149, 196, 224); stroke-width: 2; opacity: 0.7;\"></path><path transform=\"translate(125,252.85714285714286)\" d=\"M7.0710678118654755,0A7.0710678118654755,7.0710678118654755,0,1,1,-7.0710678118654755,0A7.0710678118654755,7.0710678118654755,0,1,1,7.0710678118654755,0\" style=\"fill: grey; stroke-width: 2; opacity: 0.7;\"></path><path transform=\"translate(375,250.71428571428572)\" d=\"M7.0710678118654755,0A7.0710678118654755,7.0710678118654755,0,1,1,-7.0710678118654755,0A7.0710678118654755,7.0710678118654755,0,1,1,7.0710678118654755,0\" style=\"fill: grey; stroke-width: 2; opacity: 0.7;\"></path><path transform=\"translate(187.5,237.85714285714286)\" d=\"M7.0710678118654755,0A7.0710678118654755,7.0710678118654755,0,1,1,-7.0710678118654755,0A7.0710678118654755,7.0710678118654755,0,1,1,7.0710678118654755,0\" style=\"fill: grey; stroke-width: 2; opacity: 0.7;\"></path><path transform=\"translate(500,246.42857142857144)\" d=\"M7.0710678118654755,0A7.0710678118654755,7.0710678118654755,0,1,1,-7.0710678118654755,0A7.0710678118654755,7.0710678118654755,0,1,1,7.0710678118654755,0\" style=\"fill: grey; stroke-width: 2; opacity: 0.7;\"></path><path transform=\"translate(437.5,248.57142857142856)\" d=\"M7.0710678118654755,0A7.0710678118654755,7.0710678118654755,0,1,1,-7.0710678118654755,0A7.0710678118654755,7.0710678118654755,0,1,1,7.0710678118654755,0\" style=\"fill: grey; stroke-width: 2; opacity: 0.7;\"></path><path transform=\"translate(437.5,246.42857142857144)\" d=\"M7.0710678118654755,0A7.0710678118654755,7.0710678118654755,0,1,1,-7.0710678118654755,0A7.0710678118654755,7.0710678118654755,0,1,1,7.0710678118654755,0\" style=\"fill: grey; stroke-width: 2; opacity: 0.7;\"></path><path transform=\"translate(62.5,231.42857142857144)\" d=\"M7.0710678118654755,0A7.0710678118654755,7.0710678118654755,0,1,1,-7.0710678118654755,0A7.0710678118654755,7.0710678118654755,0,1,1,7.0710678118654755,0\" style=\"fill: grey; stroke-width: 2; opacity: 0.7;\"></path><path transform=\"translate(375,248.57142857142856)\" d=\"M7.0710678118654755,0A7.0710678118654755,7.0710678118654755,0,1,1,-7.0710678118654755,0A7.0710678118654755,7.0710678118654755,0,1,1,7.0710678118654755,0\" style=\"fill: grey; stroke-width: 2; opacity: 0.7;\"></path><path transform=\"translate(187.5,235.71428571428572)\" d=\"M7.0710678118654755,0A7.0710678118654755,7.0710678118654755,0,1,1,-7.0710678118654755,0A7.0710678118654755,7.0710678118654755,0,1,1,7.0710678118654755,0\" style=\"fill: grey; stroke-width: 2; opacity: 0.7;\"></path><path transform=\"translate(312.5,212.14285714285714)\" d=\"M7.0710678118654755,0A7.0710678118654755,7.0710678118654755,0,1,1,-7.0710678118654755,0A7.0710678118654755,7.0710678118654755,0,1,1,7.0710678118654755,0\" style=\"fill: grey; stroke-width: 2; opacity: 0.7;\"></path><path transform=\"translate(62.5,229.28571428571428)\" d=\"M7.0710678118654755,0A7.0710678118654755,7.0710678118654755,0,1,1,-7.0710678118654755,0A7.0710678118654755,7.0710678118654755,0,1,1,7.0710678118654755,0\" style=\"fill: grey; stroke-width: 2; opacity: 0.7;\"></path><path transform=\"translate(0,252.85714285714286)\" d=\"M7.0710678118654755,0A7.0710678118654755,7.0710678118654755,0,1,1,-7.0710678118654755,0A7.0710678118654755,7.0710678118654755,0,1,1,7.0710678118654755,0\" style=\"fill: grey; stroke-width: 2; opacity: 0.7;\"></path><path transform=\"translate(375,246.42857142857144)\" d=\"M7.0710678118654755,0A7.0710678118654755,7.0710678118654755,0,1,1,-7.0710678118654755,0A7.0710678118654755,7.0710678118654755,0,1,1,7.0710678118654755,0\" style=\"fill: grey; stroke-width: 2; opacity: 0.7;\"></path><path transform=\"translate(250,244.28571428571428)\" d=\"M7.0710678118654755,0A7.0710678118654755,7.0710678118654755,0,1,1,-7.0710678118654755,0A7.0710678118654755,7.0710678118654755,0,1,1,7.0710678118654755,0\" style=\"fill: rgb(94, 165, 208); stroke-width: 2; opacity: 0.7;\"></path><path transform=\"translate(375,244.28571428571428)\" d=\"M7.0710678118654755,0A7.0710678118654755,7.0710678118654755,0,1,1,-7.0710678118654755,0A7.0710678118654755,7.0710678118654755,0,1,1,7.0710678118654755,0\" style=\"fill: grey; stroke-width: 2; opacity: 0.7;\"></path><path transform=\"translate(62.5,227.14285714285714)\" d=\"M7.0710678118654755,0A7.0710678118654755,7.0710678118654755,0,1,1,-7.0710678118654755,0A7.0710678118654755,7.0710678118654755,0,1,1,7.0710678118654755,0\" style=\"fill: grey; stroke-width: 2; opacity: 0.7;\"></path><path transform=\"translate(375,242.14285714285714)\" d=\"M7.0710678118654755,0A7.0710678118654755,7.0710678118654755,0,1,1,-7.0710678118654755,0A7.0710678118654755,7.0710678118654755,0,1,1,7.0710678118654755,0\" style=\"fill: grey; stroke-width: 2; opacity: 0.7;\"></path><path transform=\"translate(125,250.71428571428572)\" d=\"M7.0710678118654755,0A7.0710678118654755,7.0710678118654755,0,1,1,-7.0710678118654755,0A7.0710678118654755,7.0710678118654755,0,1,1,7.0710678118654755,0\" style=\"fill: grey; stroke-width: 2; opacity: 0.7;\"></path><path transform=\"translate(0,250.71428571428572)\" d=\"M7.0710678118654755,0A7.0710678118654755,7.0710678118654755,0,1,1,-7.0710678118654755,0A7.0710678118654755,7.0710678118654755,0,1,1,7.0710678118654755,0\" style=\"fill: grey; stroke-width: 2; opacity: 0.7;\"></path><path transform=\"translate(250,242.14285714285714)\" d=\"M7.0710678118654755,0A7.0710678118654755,7.0710678118654755,0,1,1,-7.0710678118654755,0A7.0710678118654755,7.0710678118654755,0,1,1,7.0710678118654755,0\" style=\"fill: rgb(90, 163, 207); stroke-width: 2; opacity: 0.7;\"></path><path transform=\"translate(250,240)\" d=\"M7.0710678118654755,0A7.0710678118654755,7.0710678118654755,0,1,1,-7.0710678118654755,0A7.0710678118654755,7.0710678118654755,0,1,1,7.0710678118654755,0\" style=\"fill: rgb(102, 169, 210); stroke-width: 2; opacity: 0.7;\"></path><path transform=\"translate(500,244.28571428571428)\" d=\"M7.0710678118654755,0A7.0710678118654755,7.0710678118654755,0,1,1,-7.0710678118654755,0A7.0710678118654755,7.0710678118654755,0,1,1,7.0710678118654755,0\" style=\"fill: grey; stroke-width: 2; opacity: 0.7;\"></path><path transform=\"translate(312.5,210)\" d=\"M7.0710678118654755,0A7.0710678118654755,7.0710678118654755,0,1,1,-7.0710678118654755,0A7.0710678118654755,7.0710678118654755,0,1,1,7.0710678118654755,0\" style=\"fill: grey; stroke-width: 2; opacity: 0.7;\"></path><path transform=\"translate(375,240)\" d=\"M7.0710678118654755,0A7.0710678118654755,7.0710678118654755,0,1,1,-7.0710678118654755,0A7.0710678118654755,7.0710678118654755,0,1,1,7.0710678118654755,0\" style=\"fill: grey; stroke-width: 2; opacity: 0.7;\"></path><path transform=\"translate(187.5,233.57142857142856)\" d=\"M7.0710678118654755,0A7.0710678118654755,7.0710678118654755,0,1,1,-7.0710678118654755,0A7.0710678118654755,7.0710678118654755,0,1,1,7.0710678118654755,0\" style=\"fill: grey; stroke-width: 2; opacity: 0.7;\"></path><path transform=\"translate(375,237.85714285714286)\" d=\"M7.0710678118654755,0A7.0710678118654755,7.0710678118654755,0,1,1,-7.0710678118654755,0A7.0710678118654755,7.0710678118654755,0,1,1,7.0710678118654755,0\" style=\"fill: grey; stroke-width: 2; opacity: 0.7;\"></path><path transform=\"translate(250,237.85714285714286)\" d=\"M7.0710678118654755,0A7.0710678118654755,7.0710678118654755,0,1,1,-7.0710678118654755,0A7.0710678118654755,7.0710678118654755,0,1,1,7.0710678118654755,0\" style=\"fill: rgb(79, 154, 202); stroke-width: 2; opacity: 0.7;\"></path><path transform=\"translate(125,248.57142857142856)\" d=\"M7.0710678118654755,0A7.0710678118654755,7.0710678118654755,0,1,1,-7.0710678118654755,0A7.0710678118654755,7.0710678118654755,0,1,1,7.0710678118654755,0\" style=\"fill: grey; stroke-width: 2; opacity: 0.7;\"></path><path transform=\"translate(62.5,225)\" d=\"M7.0710678118654755,0A7.0710678118654755,7.0710678118654755,0,1,1,-7.0710678118654755,0A7.0710678118654755,7.0710678118654755,0,1,1,7.0710678118654755,0\" style=\"fill: grey; stroke-width: 2; opacity: 0.7;\"></path><path transform=\"translate(500,242.14285714285714)\" d=\"M7.0710678118654755,0A7.0710678118654755,7.0710678118654755,0,1,1,-7.0710678118654755,0A7.0710678118654755,7.0710678118654755,0,1,1,7.0710678118654755,0\" style=\"fill: grey; stroke-width: 2; opacity: 0.7;\"></path><path transform=\"translate(437.5,244.28571428571428)\" d=\"M7.0710678118654755,0A7.0710678118654755,7.0710678118654755,0,1,1,-7.0710678118654755,0A7.0710678118654755,7.0710678118654755,0,1,1,7.0710678118654755,0\" style=\"fill: grey; stroke-width: 2; opacity: 0.7;\"></path><path transform=\"translate(62.5,222.85714285714286)\" d=\"M7.0710678118654755,0A7.0710678118654755,7.0710678118654755,0,1,1,-7.0710678118654755,0A7.0710678118654755,7.0710678118654755,0,1,1,7.0710678118654755,0\" style=\"fill: grey; stroke-width: 2; opacity: 0.7;\"></path><path transform=\"translate(375,235.71428571428572)\" d=\"M7.0710678118654755,0A7.0710678118654755,7.0710678118654755,0,1,1,-7.0710678118654755,0A7.0710678118654755,7.0710678118654755,0,1,1,7.0710678118654755,0\" style=\"fill: grey; stroke-width: 2; opacity: 0.7;\"></path><path transform=\"translate(500,240)\" d=\"M7.0710678118654755,0A7.0710678118654755,7.0710678118654755,0,1,1,-7.0710678118654755,0A7.0710678118654755,7.0710678118654755,0,1,1,7.0710678118654755,0\" style=\"fill: grey; stroke-width: 2; opacity: 0.7;\"></path><path transform=\"translate(375,233.57142857142856)\" d=\"M7.0710678118654755,0A7.0710678118654755,7.0710678118654755,0,1,1,-7.0710678118654755,0A7.0710678118654755,7.0710678118654755,0,1,1,7.0710678118654755,0\" style=\"fill: grey; stroke-width: 2; opacity: 0.7;\"></path><path transform=\"translate(312.5,207.85714285714283)\" d=\"M7.0710678118654755,0A7.0710678118654755,7.0710678118654755,0,1,1,-7.0710678118654755,0A7.0710678118654755,7.0710678118654755,0,1,1,7.0710678118654755,0\" style=\"fill: grey; stroke-width: 2; opacity: 0.7;\"></path><path transform=\"translate(250,235.71428571428572)\" d=\"M7.0710678118654755,0A7.0710678118654755,7.0710678118654755,0,1,1,-7.0710678118654755,0A7.0710678118654755,7.0710678118654755,0,1,1,7.0710678118654755,0\" style=\"fill: rgb(121, 181, 216); stroke-width: 2; opacity: 0.7;\"></path><path transform=\"translate(250,233.57142857142856)\" d=\"M7.0710678118654755,0A7.0710678118654755,7.0710678118654755,0,1,1,-7.0710678118654755,0A7.0710678118654755,7.0710678118654755,0,1,1,7.0710678118654755,0\" style=\"fill: rgb(50, 130, 190); stroke-width: 2; opacity: 0.7;\"></path><path transform=\"translate(437.5,242.14285714285714)\" d=\"M7.0710678118654755,0A7.0710678118654755,7.0710678118654755,0,1,1,-7.0710678118654755,0A7.0710678118654755,7.0710678118654755,0,1,1,7.0710678118654755,0\" style=\"fill: grey; stroke-width: 2; opacity: 0.7;\"></path><path transform=\"translate(375,231.42857142857144)\" d=\"M7.0710678118654755,0A7.0710678118654755,7.0710678118654755,0,1,1,-7.0710678118654755,0A7.0710678118654755,7.0710678118654755,0,1,1,7.0710678118654755,0\" style=\"fill: grey; stroke-width: 2; opacity: 0.7;\"></path><path transform=\"translate(312.5,205.71428571428572)\" d=\"M7.0710678118654755,0A7.0710678118654755,7.0710678118654755,0,1,1,-7.0710678118654755,0A7.0710678118654755,7.0710678118654755,0,1,1,7.0710678118654755,0\" style=\"fill: grey; stroke-width: 2; opacity: 0.7;\"></path><path transform=\"translate(0,248.57142857142856)\" d=\"M7.0710678118654755,0A7.0710678118654755,7.0710678118654755,0,1,1,-7.0710678118654755,0A7.0710678118654755,7.0710678118654755,0,1,1,7.0710678118654755,0\" style=\"fill: grey; stroke-width: 2; opacity: 0.7;\"></path><path transform=\"translate(125,246.42857142857144)\" d=\"M7.0710678118654755,0A7.0710678118654755,7.0710678118654755,0,1,1,-7.0710678118654755,0A7.0710678118654755,7.0710678118654755,0,1,1,7.0710678118654755,0\" style=\"fill: grey; stroke-width: 2; opacity: 0.7;\"></path><path transform=\"translate(0,246.42857142857144)\" d=\"M7.0710678118654755,0A7.0710678118654755,7.0710678118654755,0,1,1,-7.0710678118654755,0A7.0710678118654755,7.0710678118654755,0,1,1,7.0710678118654755,0\" style=\"fill: grey; stroke-width: 2; opacity: 0.7;\"></path><path transform=\"translate(187.5,231.42857142857144)\" d=\"M7.0710678118654755,0A7.0710678118654755,7.0710678118654755,0,1,1,-7.0710678118654755,0A7.0710678118654755,7.0710678118654755,0,1,1,7.0710678118654755,0\" style=\"fill: grey; stroke-width: 2; opacity: 0.7;\"></path><path transform=\"translate(0,244.28571428571428)\" d=\"M7.0710678118654755,0A7.0710678118654755,7.0710678118654755,0,1,1,-7.0710678118654755,0A7.0710678118654755,7.0710678118654755,0,1,1,7.0710678118654755,0\" style=\"fill: grey; stroke-width: 2; opacity: 0.7;\"></path><path transform=\"translate(437.5,240)\" d=\"M7.0710678118654755,0A7.0710678118654755,7.0710678118654755,0,1,1,-7.0710678118654755,0A7.0710678118654755,7.0710678118654755,0,1,1,7.0710678118654755,0\" style=\"fill: grey; stroke-width: 2; opacity: 0.7;\"></path><path transform=\"translate(500,237.85714285714286)\" d=\"M7.0710678118654755,0A7.0710678118654755,7.0710678118654755,0,1,1,-7.0710678118654755,0A7.0710678118654755,7.0710678118654755,0,1,1,7.0710678118654755,0\" style=\"fill: grey; stroke-width: 2; opacity: 0.7;\"></path><path transform=\"translate(250,231.42857142857144)\" d=\"M7.0710678118654755,0A7.0710678118654755,7.0710678118654755,0,1,1,-7.0710678118654755,0A7.0710678118654755,7.0710678118654755,0,1,1,7.0710678118654755,0\" style=\"fill: rgb(124, 182, 217); stroke-width: 2; opacity: 0.7;\"></path><path transform=\"translate(187.5,229.28571428571428)\" d=\"M7.0710678118654755,0A7.0710678118654755,7.0710678118654755,0,1,1,-7.0710678118654755,0A7.0710678118654755,7.0710678118654755,0,1,1,7.0710678118654755,0\" style=\"fill: grey; stroke-width: 2; opacity: 0.7;\"></path><path transform=\"translate(250,229.28571428571428)\" d=\"M7.0710678118654755,0A7.0710678118654755,7.0710678118654755,0,1,1,-7.0710678118654755,0A7.0710678118654755,7.0710678118654755,0,1,1,7.0710678118654755,0\" style=\"fill: rgb(105, 171, 211); stroke-width: 2; opacity: 0.7;\"></path><path transform=\"translate(62.5,220.71428571428572)\" d=\"M7.0710678118654755,0A7.0710678118654755,7.0710678118654755,0,1,1,-7.0710678118654755,0A7.0710678118654755,7.0710678118654755,0,1,1,7.0710678118654755,0\" style=\"fill: grey; stroke-width: 2; opacity: 0.7;\"></path><path transform=\"translate(437.5,237.85714285714286)\" d=\"M7.0710678118654755,0A7.0710678118654755,7.0710678118654755,0,1,1,-7.0710678118654755,0A7.0710678118654755,7.0710678118654755,0,1,1,7.0710678118654755,0\" style=\"fill: grey; stroke-width: 2; opacity: 0.7;\"></path><path transform=\"translate(375,229.28571428571428)\" d=\"M7.0710678118654755,0A7.0710678118654755,7.0710678118654755,0,1,1,-7.0710678118654755,0A7.0710678118654755,7.0710678118654755,0,1,1,7.0710678118654755,0\" style=\"fill: grey; stroke-width: 2; opacity: 0.7;\"></path><path transform=\"translate(0,242.14285714285714)\" d=\"M7.0710678118654755,0A7.0710678118654755,7.0710678118654755,0,1,1,-7.0710678118654755,0A7.0710678118654755,7.0710678118654755,0,1,1,7.0710678118654755,0\" style=\"fill: grey; stroke-width: 2; opacity: 0.7;\"></path><path transform=\"translate(62.5,218.57142857142858)\" d=\"M7.0710678118654755,0A7.0710678118654755,7.0710678118654755,0,1,1,-7.0710678118654755,0A7.0710678118654755,7.0710678118654755,0,1,1,7.0710678118654755,0\" style=\"fill: grey; stroke-width: 2; opacity: 0.7;\"></path><path transform=\"translate(375,227.14285714285714)\" d=\"M7.0710678118654755,0A7.0710678118654755,7.0710678118654755,0,1,1,-7.0710678118654755,0A7.0710678118654755,7.0710678118654755,0,1,1,7.0710678118654755,0\" style=\"fill: grey; stroke-width: 2; opacity: 0.7;\"></path><path transform=\"translate(375,225)\" d=\"M7.0710678118654755,0A7.0710678118654755,7.0710678118654755,0,1,1,-7.0710678118654755,0A7.0710678118654755,7.0710678118654755,0,1,1,7.0710678118654755,0\" style=\"fill: grey; stroke-width: 2; opacity: 0.7;\"></path><path transform=\"translate(125,244.28571428571428)\" d=\"M7.0710678118654755,0A7.0710678118654755,7.0710678118654755,0,1,1,-7.0710678118654755,0A7.0710678118654755,7.0710678118654755,0,1,1,7.0710678118654755,0\" style=\"fill: grey; stroke-width: 2; opacity: 0.7;\"></path><path transform=\"translate(312.5,203.57142857142856)\" d=\"M7.0710678118654755,0A7.0710678118654755,7.0710678118654755,0,1,1,-7.0710678118654755,0A7.0710678118654755,7.0710678118654755,0,1,1,7.0710678118654755,0\" style=\"fill: grey; stroke-width: 2; opacity: 0.7;\"></path><path transform=\"translate(312.5,201.42857142857144)\" d=\"M7.0710678118654755,0A7.0710678118654755,7.0710678118654755,0,1,1,-7.0710678118654755,0A7.0710678118654755,7.0710678118654755,0,1,1,7.0710678118654755,0\" style=\"fill: grey; stroke-width: 2; opacity: 0.7;\"></path><path transform=\"translate(437.5,235.71428571428572)\" d=\"M7.0710678118654755,0A7.0710678118654755,7.0710678118654755,0,1,1,-7.0710678118654755,0A7.0710678118654755,7.0710678118654755,0,1,1,7.0710678118654755,0\" style=\"fill: grey; stroke-width: 2; opacity: 0.7;\"></path><path transform=\"translate(437.5,233.57142857142856)\" d=\"M7.0710678118654755,0A7.0710678118654755,7.0710678118654755,0,1,1,-7.0710678118654755,0A7.0710678118654755,7.0710678118654755,0,1,1,7.0710678118654755,0\" style=\"fill: grey; stroke-width: 2; opacity: 0.7;\"></path><path transform=\"translate(500,235.71428571428572)\" d=\"M7.0710678118654755,0A7.0710678118654755,7.0710678118654755,0,1,1,-7.0710678118654755,0A7.0710678118654755,7.0710678118654755,0,1,1,7.0710678118654755,0\" style=\"fill: grey; stroke-width: 2; opacity: 0.7;\"></path><path transform=\"translate(437.5,231.42857142857144)\" d=\"M7.0710678118654755,0A7.0710678118654755,7.0710678118654755,0,1,1,-7.0710678118654755,0A7.0710678118654755,7.0710678118654755,0,1,1,7.0710678118654755,0\" style=\"fill: grey; stroke-width: 2; opacity: 0.7;\"></path><path transform=\"translate(250,227.14285714285714)\" d=\"M7.0710678118654755,0A7.0710678118654755,7.0710678118654755,0,1,1,-7.0710678118654755,0A7.0710678118654755,7.0710678118654755,0,1,1,7.0710678118654755,0\" style=\"fill: rgb(88, 161, 206); stroke-width: 2; opacity: 0.7;\"></path><path transform=\"translate(0,240)\" d=\"M7.0710678118654755,0A7.0710678118654755,7.0710678118654755,0,1,1,-7.0710678118654755,0A7.0710678118654755,7.0710678118654755,0,1,1,7.0710678118654755,0\" style=\"fill: grey; stroke-width: 2; opacity: 0.7;\"></path><path transform=\"translate(437.5,229.28571428571428)\" d=\"M7.0710678118654755,0A7.0710678118654755,7.0710678118654755,0,1,1,-7.0710678118654755,0A7.0710678118654755,7.0710678118654755,0,1,1,7.0710678118654755,0\" style=\"fill: grey; stroke-width: 2; opacity: 0.7;\"></path><path transform=\"translate(500,233.57142857142856)\" d=\"M7.0710678118654755,0A7.0710678118654755,7.0710678118654755,0,1,1,-7.0710678118654755,0A7.0710678118654755,7.0710678118654755,0,1,1,7.0710678118654755,0\" style=\"fill: grey; stroke-width: 2; opacity: 0.7;\"></path><path transform=\"translate(250,225)\" d=\"M7.0710678118654755,0A7.0710678118654755,7.0710678118654755,0,1,1,-7.0710678118654755,0A7.0710678118654755,7.0710678118654755,0,1,1,7.0710678118654755,0\" style=\"fill: rgb(84, 157, 204); stroke-width: 2; opacity: 0.7;\"></path><path transform=\"translate(0,237.85714285714286)\" d=\"M7.0710678118654755,0A7.0710678118654755,7.0710678118654755,0,1,1,-7.0710678118654755,0A7.0710678118654755,7.0710678118654755,0,1,1,7.0710678118654755,0\" style=\"fill: grey; stroke-width: 2; opacity: 0.7;\"></path><path transform=\"translate(437.5,227.14285714285714)\" d=\"M7.0710678118654755,0A7.0710678118654755,7.0710678118654755,0,1,1,-7.0710678118654755,0A7.0710678118654755,7.0710678118654755,0,1,1,7.0710678118654755,0\" style=\"fill: grey; stroke-width: 2; opacity: 0.7;\"></path><path transform=\"translate(125,242.14285714285714)\" d=\"M7.0710678118654755,0A7.0710678118654755,7.0710678118654755,0,1,1,-7.0710678118654755,0A7.0710678118654755,7.0710678118654755,0,1,1,7.0710678118654755,0\" style=\"fill: grey; stroke-width: 2; opacity: 0.7;\"></path><path transform=\"translate(500,231.42857142857144)\" d=\"M7.0710678118654755,0A7.0710678118654755,7.0710678118654755,0,1,1,-7.0710678118654755,0A7.0710678118654755,7.0710678118654755,0,1,1,7.0710678118654755,0\" style=\"fill: grey; stroke-width: 2; opacity: 0.7;\"></path><path transform=\"translate(0,235.71428571428572)\" d=\"M7.0710678118654755,0A7.0710678118654755,7.0710678118654755,0,1,1,-7.0710678118654755,0A7.0710678118654755,7.0710678118654755,0,1,1,7.0710678118654755,0\" style=\"fill: grey; stroke-width: 2; opacity: 0.7;\"></path><path transform=\"translate(375,222.85714285714286)\" d=\"M7.0710678118654755,0A7.0710678118654755,7.0710678118654755,0,1,1,-7.0710678118654755,0A7.0710678118654755,7.0710678118654755,0,1,1,7.0710678118654755,0\" style=\"fill: grey; stroke-width: 2; opacity: 0.7;\"></path><path transform=\"translate(125,240)\" d=\"M7.0710678118654755,0A7.0710678118654755,7.0710678118654755,0,1,1,-7.0710678118654755,0A7.0710678118654755,7.0710678118654755,0,1,1,7.0710678118654755,0\" style=\"fill: grey; stroke-width: 2; opacity: 0.7;\"></path><path transform=\"translate(250,222.85714285714286)\" d=\"M7.0710678118654755,0A7.0710678118654755,7.0710678118654755,0,1,1,-7.0710678118654755,0A7.0710678118654755,7.0710678118654755,0,1,1,7.0710678118654755,0\" style=\"fill: rgb(158, 201, 226); stroke-width: 2; opacity: 0.7;\"></path><path transform=\"translate(375,220.71428571428572)\" d=\"M7.0710678118654755,0A7.0710678118654755,7.0710678118654755,0,1,1,-7.0710678118654755,0A7.0710678118654755,7.0710678118654755,0,1,1,7.0710678118654755,0\" style=\"fill: grey; stroke-width: 2; opacity: 0.7;\"></path><path transform=\"translate(250,220.71428571428572)\" d=\"M7.0710678118654755,0A7.0710678118654755,7.0710678118654755,0,1,1,-7.0710678118654755,0A7.0710678118654755,7.0710678118654755,0,1,1,7.0710678118654755,0\" style=\"fill: rgb(71, 147, 199); stroke-width: 2; opacity: 0.7;\"></path><path transform=\"translate(62.5,216.42857142857144)\" d=\"M7.0710678118654755,0A7.0710678118654755,7.0710678118654755,0,1,1,-7.0710678118654755,0A7.0710678118654755,7.0710678118654755,0,1,1,7.0710678118654755,0\" style=\"fill: grey; stroke-width: 2; opacity: 0.7;\"></path><path transform=\"translate(375,218.57142857142858)\" d=\"M7.0710678118654755,0A7.0710678118654755,7.0710678118654755,0,1,1,-7.0710678118654755,0A7.0710678118654755,7.0710678118654755,0,1,1,7.0710678118654755,0\" style=\"fill: grey; stroke-width: 2; opacity: 0.7;\"></path><path transform=\"translate(125,237.85714285714286)\" d=\"M7.0710678118654755,0A7.0710678118654755,7.0710678118654755,0,1,1,-7.0710678118654755,0A7.0710678118654755,7.0710678118654755,0,1,1,7.0710678118654755,0\" style=\"fill: grey; stroke-width: 2; opacity: 0.7;\"></path><path transform=\"translate(187.5,227.14285714285714)\" d=\"M7.0710678118654755,0A7.0710678118654755,7.0710678118654755,0,1,1,-7.0710678118654755,0A7.0710678118654755,7.0710678118654755,0,1,1,7.0710678118654755,0\" style=\"fill: grey; stroke-width: 2; opacity: 0.7;\"></path><path transform=\"translate(125,235.71428571428572)\" d=\"M7.0710678118654755,0A7.0710678118654755,7.0710678118654755,0,1,1,-7.0710678118654755,0A7.0710678118654755,7.0710678118654755,0,1,1,7.0710678118654755,0\" style=\"fill: grey; stroke-width: 2; opacity: 0.7;\"></path><path transform=\"translate(187.5,225)\" d=\"M7.0710678118654755,0A7.0710678118654755,7.0710678118654755,0,1,1,-7.0710678118654755,0A7.0710678118654755,7.0710678118654755,0,1,1,7.0710678118654755,0\" style=\"fill: grey; stroke-width: 2; opacity: 0.7;\"></path><path transform=\"translate(250,218.57142857142858)\" d=\"M7.0710678118654755,0A7.0710678118654755,7.0710678118654755,0,1,1,-7.0710678118654755,0A7.0710678118654755,7.0710678118654755,0,1,1,7.0710678118654755,0\" style=\"fill: rgb(63, 141, 195); stroke-width: 2; opacity: 0.7;\"></path><path transform=\"translate(375,216.42857142857144)\" d=\"M7.0710678118654755,0A7.0710678118654755,7.0710678118654755,0,1,1,-7.0710678118654755,0A7.0710678118654755,7.0710678118654755,0,1,1,7.0710678118654755,0\" style=\"fill: grey; stroke-width: 2; opacity: 0.7;\"></path><path transform=\"translate(62.5,214.28571428571428)\" d=\"M7.0710678118654755,0A7.0710678118654755,7.0710678118654755,0,1,1,-7.0710678118654755,0A7.0710678118654755,7.0710678118654755,0,1,1,7.0710678118654755,0\" style=\"fill: grey; stroke-width: 2; opacity: 0.7;\"></path><path transform=\"translate(250,216.42857142857144)\" d=\"M7.0710678118654755,0A7.0710678118654755,7.0710678118654755,0,1,1,-7.0710678118654755,0A7.0710678118654755,7.0710678118654755,0,1,1,7.0710678118654755,0\" style=\"fill: rgb(130, 186, 219); stroke-width: 2; opacity: 0.7;\"></path><path transform=\"translate(125,233.57142857142856)\" d=\"M7.0710678118654755,0A7.0710678118654755,7.0710678118654755,0,1,1,-7.0710678118654755,0A7.0710678118654755,7.0710678118654755,0,1,1,7.0710678118654755,0\" style=\"fill: grey; stroke-width: 2; opacity: 0.7;\"></path><path transform=\"translate(250,214.28571428571428)\" d=\"M7.0710678118654755,0A7.0710678118654755,7.0710678118654755,0,1,1,-7.0710678118654755,0A7.0710678118654755,7.0710678118654755,0,1,1,7.0710678118654755,0\" style=\"fill: rgb(120, 180, 216); stroke-width: 2; opacity: 0.7;\"></path><path transform=\"translate(500,229.28571428571428)\" d=\"M7.0710678118654755,0A7.0710678118654755,7.0710678118654755,0,1,1,-7.0710678118654755,0A7.0710678118654755,7.0710678118654755,0,1,1,7.0710678118654755,0\" style=\"fill: grey; stroke-width: 2; opacity: 0.7;\"></path><path transform=\"translate(0,233.57142857142856)\" d=\"M7.0710678118654755,0A7.0710678118654755,7.0710678118654755,0,1,1,-7.0710678118654755,0A7.0710678118654755,7.0710678118654755,0,1,1,7.0710678118654755,0\" style=\"fill: grey; stroke-width: 2; opacity: 0.7;\"></path><path transform=\"translate(62.5,212.14285714285714)\" d=\"M7.0710678118654755,0A7.0710678118654755,7.0710678118654755,0,1,1,-7.0710678118654755,0A7.0710678118654755,7.0710678118654755,0,1,1,7.0710678118654755,0\" style=\"fill: grey; stroke-width: 2; opacity: 0.7;\"></path><path transform=\"translate(250,212.14285714285714)\" d=\"M7.0710678118654755,0A7.0710678118654755,7.0710678118654755,0,1,1,-7.0710678118654755,0A7.0710678118654755,7.0710678118654755,0,1,1,7.0710678118654755,0\" style=\"fill: rgb(49, 129, 189); stroke-width: 2; opacity: 0.7;\"></path><path transform=\"translate(187.5,222.85714285714286)\" d=\"M7.0710678118654755,0A7.0710678118654755,7.0710678118654755,0,1,1,-7.0710678118654755,0A7.0710678118654755,7.0710678118654755,0,1,1,7.0710678118654755,0\" style=\"fill: grey; stroke-width: 2; opacity: 0.7;\"></path><path transform=\"translate(125,231.42857142857144)\" d=\"M7.0710678118654755,0A7.0710678118654755,7.0710678118654755,0,1,1,-7.0710678118654755,0A7.0710678118654755,7.0710678118654755,0,1,1,7.0710678118654755,0\" style=\"fill: grey; stroke-width: 2; opacity: 0.7;\"></path><path transform=\"translate(125,229.28571428571428)\" d=\"M7.0710678118654755,0A7.0710678118654755,7.0710678118654755,0,1,1,-7.0710678118654755,0A7.0710678118654755,7.0710678118654755,0,1,1,7.0710678118654755,0\" style=\"fill: grey; stroke-width: 2; opacity: 0.7;\"></path><path transform=\"translate(312.5,199.28571428571428)\" d=\"M7.0710678118654755,0A7.0710678118654755,7.0710678118654755,0,1,1,-7.0710678118654755,0A7.0710678118654755,7.0710678118654755,0,1,1,7.0710678118654755,0\" style=\"fill: grey; stroke-width: 2; opacity: 0.7;\"></path><path transform=\"translate(0,231.42857142857144)\" d=\"M7.0710678118654755,0A7.0710678118654755,7.0710678118654755,0,1,1,-7.0710678118654755,0A7.0710678118654755,7.0710678118654755,0,1,1,7.0710678118654755,0\" style=\"fill: grey; stroke-width: 2; opacity: 0.7;\"></path><path transform=\"translate(62.5,210)\" d=\"M7.0710678118654755,0A7.0710678118654755,7.0710678118654755,0,1,1,-7.0710678118654755,0A7.0710678118654755,7.0710678118654755,0,1,1,7.0710678118654755,0\" style=\"fill: grey; stroke-width: 2; opacity: 0.7;\"></path><path transform=\"translate(250,210)\" d=\"M7.0710678118654755,0A7.0710678118654755,7.0710678118654755,0,1,1,-7.0710678118654755,0A7.0710678118654755,7.0710678118654755,0,1,1,7.0710678118654755,0\" style=\"fill: rgb(130, 186, 219); stroke-width: 2; opacity: 0.7;\"></path><path transform=\"translate(375,214.28571428571428)\" d=\"M7.0710678118654755,0A7.0710678118654755,7.0710678118654755,0,1,1,-7.0710678118654755,0A7.0710678118654755,7.0710678118654755,0,1,1,7.0710678118654755,0\" style=\"fill: grey; stroke-width: 2; opacity: 0.7;\"></path><path transform=\"translate(437.5,225)\" d=\"M7.0710678118654755,0A7.0710678118654755,7.0710678118654755,0,1,1,-7.0710678118654755,0A7.0710678118654755,7.0710678118654755,0,1,1,7.0710678118654755,0\" style=\"fill: grey; stroke-width: 2; opacity: 0.7;\"></path><path transform=\"translate(125,227.14285714285714)\" d=\"M7.0710678118654755,0A7.0710678118654755,7.0710678118654755,0,1,1,-7.0710678118654755,0A7.0710678118654755,7.0710678118654755,0,1,1,7.0710678118654755,0\" style=\"fill: grey; stroke-width: 2; opacity: 0.7;\"></path><path transform=\"translate(312.5,197.14285714285714)\" d=\"M7.0710678118654755,0A7.0710678118654755,7.0710678118654755,0,1,1,-7.0710678118654755,0A7.0710678118654755,7.0710678118654755,0,1,1,7.0710678118654755,0\" style=\"fill: grey; stroke-width: 2; opacity: 0.7;\"></path><path transform=\"translate(437.5,222.85714285714286)\" d=\"M7.0710678118654755,0A7.0710678118654755,7.0710678118654755,0,1,1,-7.0710678118654755,0A7.0710678118654755,7.0710678118654755,0,1,1,7.0710678118654755,0\" style=\"fill: grey; stroke-width: 2; opacity: 0.7;\"></path><path transform=\"translate(0,229.28571428571428)\" d=\"M7.0710678118654755,0A7.0710678118654755,7.0710678118654755,0,1,1,-7.0710678118654755,0A7.0710678118654755,7.0710678118654755,0,1,1,7.0710678118654755,0\" style=\"fill: grey; stroke-width: 2; opacity: 0.7;\"></path><path transform=\"translate(312.5,195)\" d=\"M7.0710678118654755,0A7.0710678118654755,7.0710678118654755,0,1,1,-7.0710678118654755,0A7.0710678118654755,7.0710678118654755,0,1,1,7.0710678118654755,0\" style=\"fill: grey; stroke-width: 2; opacity: 0.7;\"></path><path transform=\"translate(250,207.85714285714283)\" d=\"M7.0710678118654755,0A7.0710678118654755,7.0710678118654755,0,1,1,-7.0710678118654755,0A7.0710678118654755,7.0710678118654755,0,1,1,7.0710678118654755,0\" style=\"fill: rgb(118, 179, 216); stroke-width: 2; opacity: 0.7;\"></path><path transform=\"translate(375,212.14285714285714)\" d=\"M7.0710678118654755,0A7.0710678118654755,7.0710678118654755,0,1,1,-7.0710678118654755,0A7.0710678118654755,7.0710678118654755,0,1,1,7.0710678118654755,0\" style=\"fill: grey; stroke-width: 2; opacity: 0.7;\"></path><path transform=\"translate(375,210)\" d=\"M7.0710678118654755,0A7.0710678118654755,7.0710678118654755,0,1,1,-7.0710678118654755,0A7.0710678118654755,7.0710678118654755,0,1,1,7.0710678118654755,0\" style=\"fill: grey; stroke-width: 2; opacity: 0.7;\"></path><path transform=\"translate(437.5,220.71428571428572)\" d=\"M7.0710678118654755,0A7.0710678118654755,7.0710678118654755,0,1,1,-7.0710678118654755,0A7.0710678118654755,7.0710678118654755,0,1,1,7.0710678118654755,0\" style=\"fill: grey; stroke-width: 2; opacity: 0.7;\"></path><path transform=\"translate(312.5,192.85714285714286)\" d=\"M7.0710678118654755,0A7.0710678118654755,7.0710678118654755,0,1,1,-7.0710678118654755,0A7.0710678118654755,7.0710678118654755,0,1,1,7.0710678118654755,0\" style=\"fill: grey; stroke-width: 2; opacity: 0.7;\"></path><path transform=\"translate(375,207.85714285714283)\" d=\"M7.0710678118654755,0A7.0710678118654755,7.0710678118654755,0,1,1,-7.0710678118654755,0A7.0710678118654755,7.0710678118654755,0,1,1,7.0710678118654755,0\" style=\"fill: grey; stroke-width: 2; opacity: 0.7;\"></path><path transform=\"translate(187.5,220.71428571428572)\" d=\"M7.0710678118654755,0A7.0710678118654755,7.0710678118654755,0,1,1,-7.0710678118654755,0A7.0710678118654755,7.0710678118654755,0,1,1,7.0710678118654755,0\" style=\"fill: grey; stroke-width: 2; opacity: 0.7;\"></path><path transform=\"translate(437.5,218.57142857142858)\" d=\"M7.0710678118654755,0A7.0710678118654755,7.0710678118654755,0,1,1,-7.0710678118654755,0A7.0710678118654755,7.0710678118654755,0,1,1,7.0710678118654755,0\" style=\"fill: grey; stroke-width: 2; opacity: 0.7;\"></path><path transform=\"translate(250,205.71428571428572)\" d=\"M7.0710678118654755,0A7.0710678118654755,7.0710678118654755,0,1,1,-7.0710678118654755,0A7.0710678118654755,7.0710678118654755,0,1,1,7.0710678118654755,0\" style=\"fill: rgb(115, 178, 215); stroke-width: 2; opacity: 0.7;\"></path><path transform=\"translate(0,227.14285714285714)\" d=\"M7.0710678118654755,0A7.0710678118654755,7.0710678118654755,0,1,1,-7.0710678118654755,0A7.0710678118654755,7.0710678118654755,0,1,1,7.0710678118654755,0\" style=\"fill: grey; stroke-width: 2; opacity: 0.7;\"></path><path transform=\"translate(437.5,216.42857142857144)\" d=\"M7.0710678118654755,0A7.0710678118654755,7.0710678118654755,0,1,1,-7.0710678118654755,0A7.0710678118654755,7.0710678118654755,0,1,1,7.0710678118654755,0\" style=\"fill: grey; stroke-width: 2; opacity: 0.7;\"></path><path transform=\"translate(500,227.14285714285714)\" d=\"M7.0710678118654755,0A7.0710678118654755,7.0710678118654755,0,1,1,-7.0710678118654755,0A7.0710678118654755,7.0710678118654755,0,1,1,7.0710678118654755,0\" style=\"fill: grey; stroke-width: 2; opacity: 0.7;\"></path><path transform=\"translate(125,225)\" d=\"M7.0710678118654755,0A7.0710678118654755,7.0710678118654755,0,1,1,-7.0710678118654755,0A7.0710678118654755,7.0710678118654755,0,1,1,7.0710678118654755,0\" style=\"fill: grey; stroke-width: 2; opacity: 0.7;\"></path><path transform=\"translate(125,222.85714285714286)\" d=\"M7.0710678118654755,0A7.0710678118654755,7.0710678118654755,0,1,1,-7.0710678118654755,0A7.0710678118654755,7.0710678118654755,0,1,1,7.0710678118654755,0\" style=\"fill: grey; stroke-width: 2; opacity: 0.7;\"></path><path transform=\"translate(125,220.71428571428572)\" d=\"M7.0710678118654755,0A7.0710678118654755,7.0710678118654755,0,1,1,-7.0710678118654755,0A7.0710678118654755,7.0710678118654755,0,1,1,7.0710678118654755,0\" style=\"fill: grey; stroke-width: 2; opacity: 0.7;\"></path><path transform=\"translate(187.5,218.57142857142858)\" d=\"M7.0710678118654755,0A7.0710678118654755,7.0710678118654755,0,1,1,-7.0710678118654755,0A7.0710678118654755,7.0710678118654755,0,1,1,7.0710678118654755,0\" style=\"fill: grey; stroke-width: 2; opacity: 0.7;\"></path><path transform=\"translate(0,225)\" d=\"M7.0710678118654755,0A7.0710678118654755,7.0710678118654755,0,1,1,-7.0710678118654755,0A7.0710678118654755,7.0710678118654755,0,1,1,7.0710678118654755,0\" style=\"fill: grey; stroke-width: 2; opacity: 0.7;\"></path><path transform=\"translate(312.5,190.71428571428572)\" d=\"M7.0710678118654755,0A7.0710678118654755,7.0710678118654755,0,1,1,-7.0710678118654755,0A7.0710678118654755,7.0710678118654755,0,1,1,7.0710678118654755,0\" style=\"fill: grey; stroke-width: 2; opacity: 0.7;\"></path><path transform=\"translate(62.5,207.85714285714283)\" d=\"M7.0710678118654755,0A7.0710678118654755,7.0710678118654755,0,1,1,-7.0710678118654755,0A7.0710678118654755,7.0710678118654755,0,1,1,7.0710678118654755,0\" style=\"fill: grey; stroke-width: 2; opacity: 0.7;\"></path><path transform=\"translate(125,218.57142857142858)\" d=\"M7.0710678118654755,0A7.0710678118654755,7.0710678118654755,0,1,1,-7.0710678118654755,0A7.0710678118654755,7.0710678118654755,0,1,1,7.0710678118654755,0\" style=\"fill: grey; stroke-width: 2; opacity: 0.7;\"></path><path transform=\"translate(437.5,214.28571428571428)\" d=\"M7.0710678118654755,0A7.0710678118654755,7.0710678118654755,0,1,1,-7.0710678118654755,0A7.0710678118654755,7.0710678118654755,0,1,1,7.0710678118654755,0\" style=\"fill: grey; stroke-width: 2; opacity: 0.7;\"></path><path transform=\"translate(62.5,205.71428571428572)\" d=\"M7.0710678118654755,0A7.0710678118654755,7.0710678118654755,0,1,1,-7.0710678118654755,0A7.0710678118654755,7.0710678118654755,0,1,1,7.0710678118654755,0\" style=\"fill: grey; stroke-width: 2; opacity: 0.7;\"></path><path transform=\"translate(187.5,216.42857142857144)\" d=\"M7.0710678118654755,0A7.0710678118654755,7.0710678118654755,0,1,1,-7.0710678118654755,0A7.0710678118654755,7.0710678118654755,0,1,1,7.0710678118654755,0\" style=\"fill: grey; stroke-width: 2; opacity: 0.7;\"></path><path transform=\"translate(250,203.57142857142856)\" d=\"M7.0710678118654755,0A7.0710678118654755,7.0710678118654755,0,1,1,-7.0710678118654755,0A7.0710678118654755,7.0710678118654755,0,1,1,7.0710678118654755,0\" style=\"fill: rgb(81, 155, 203); stroke-width: 2; opacity: 0.7;\"></path><path transform=\"translate(312.5,188.57142857142856)\" d=\"M7.0710678118654755,0A7.0710678118654755,7.0710678118654755,0,1,1,-7.0710678118654755,0A7.0710678118654755,7.0710678118654755,0,1,1,7.0710678118654755,0\" style=\"fill: grey; stroke-width: 2; opacity: 0.7;\"></path><path transform=\"translate(312.5,186.42857142857144)\" d=\"M7.0710678118654755,0A7.0710678118654755,7.0710678118654755,0,1,1,-7.0710678118654755,0A7.0710678118654755,7.0710678118654755,0,1,1,7.0710678118654755,0\" style=\"fill: grey; stroke-width: 2; opacity: 0.7;\"></path><path transform=\"translate(437.5,212.14285714285714)\" d=\"M7.0710678118654755,0A7.0710678118654755,7.0710678118654755,0,1,1,-7.0710678118654755,0A7.0710678118654755,7.0710678118654755,0,1,1,7.0710678118654755,0\" style=\"fill: grey; stroke-width: 2; opacity: 0.7;\"></path><path transform=\"translate(500,225)\" d=\"M7.0710678118654755,0A7.0710678118654755,7.0710678118654755,0,1,1,-7.0710678118654755,0A7.0710678118654755,7.0710678118654755,0,1,1,7.0710678118654755,0\" style=\"fill: grey; stroke-width: 2; opacity: 0.7;\"></path><path transform=\"translate(62.5,203.57142857142856)\" d=\"M7.0710678118654755,0A7.0710678118654755,7.0710678118654755,0,1,1,-7.0710678118654755,0A7.0710678118654755,7.0710678118654755,0,1,1,7.0710678118654755,0\" style=\"fill: grey; stroke-width: 2; opacity: 0.7;\"></path><path transform=\"translate(375,205.71428571428572)\" d=\"M7.0710678118654755,0A7.0710678118654755,7.0710678118654755,0,1,1,-7.0710678118654755,0A7.0710678118654755,7.0710678118654755,0,1,1,7.0710678118654755,0\" style=\"fill: grey; stroke-width: 2; opacity: 0.7;\"></path><path transform=\"translate(437.5,210)\" d=\"M7.0710678118654755,0A7.0710678118654755,7.0710678118654755,0,1,1,-7.0710678118654755,0A7.0710678118654755,7.0710678118654755,0,1,1,7.0710678118654755,0\" style=\"fill: grey; stroke-width: 2; opacity: 0.7;\"></path><path transform=\"translate(187.5,214.28571428571428)\" d=\"M7.0710678118654755,0A7.0710678118654755,7.0710678118654755,0,1,1,-7.0710678118654755,0A7.0710678118654755,7.0710678118654755,0,1,1,7.0710678118654755,0\" style=\"fill: grey; stroke-width: 2; opacity: 0.7;\"></path><path transform=\"translate(250,201.42857142857144)\" d=\"M7.0710678118654755,0A7.0710678118654755,7.0710678118654755,0,1,1,-7.0710678118654755,0A7.0710678118654755,7.0710678118654755,0,1,1,7.0710678118654755,0\" style=\"fill: rgb(88, 160, 206); stroke-width: 2; opacity: 0.7;\"></path><path transform=\"translate(250,199.28571428571428)\" d=\"M7.0710678118654755,0A7.0710678118654755,7.0710678118654755,0,1,1,-7.0710678118654755,0A7.0710678118654755,7.0710678118654755,0,1,1,7.0710678118654755,0\" style=\"fill: rgb(99, 168, 210); stroke-width: 2; opacity: 0.7;\"></path><path transform=\"translate(437.5,207.85714285714283)\" d=\"M7.0710678118654755,0A7.0710678118654755,7.0710678118654755,0,1,1,-7.0710678118654755,0A7.0710678118654755,7.0710678118654755,0,1,1,7.0710678118654755,0\" style=\"fill: grey; stroke-width: 2; opacity: 0.7;\"></path><path transform=\"translate(437.5,205.71428571428572)\" d=\"M7.0710678118654755,0A7.0710678118654755,7.0710678118654755,0,1,1,-7.0710678118654755,0A7.0710678118654755,7.0710678118654755,0,1,1,7.0710678118654755,0\" style=\"fill: grey; stroke-width: 2; opacity: 0.7;\"></path><path transform=\"translate(62.5,201.42857142857144)\" d=\"M7.0710678118654755,0A7.0710678118654755,7.0710678118654755,0,1,1,-7.0710678118654755,0A7.0710678118654755,7.0710678118654755,0,1,1,7.0710678118654755,0\" style=\"fill: grey; stroke-width: 2; opacity: 0.7;\"></path><path transform=\"translate(437.5,203.57142857142856)\" d=\"M7.0710678118654755,0A7.0710678118654755,7.0710678118654755,0,1,1,-7.0710678118654755,0A7.0710678118654755,7.0710678118654755,0,1,1,7.0710678118654755,0\" style=\"fill: grey; stroke-width: 2; opacity: 0.7;\"></path><path transform=\"translate(250,197.14285714285714)\" d=\"M7.0710678118654755,0A7.0710678118654755,7.0710678118654755,0,1,1,-7.0710678118654755,0A7.0710678118654755,7.0710678118654755,0,1,1,7.0710678118654755,0\" style=\"fill: rgb(148, 196, 223); stroke-width: 2; opacity: 0.7;\"></path><path transform=\"translate(0,222.85714285714286)\" d=\"M7.0710678118654755,0A7.0710678118654755,7.0710678118654755,0,1,1,-7.0710678118654755,0A7.0710678118654755,7.0710678118654755,0,1,1,7.0710678118654755,0\" style=\"fill: grey; stroke-width: 2; opacity: 0.7;\"></path><path transform=\"translate(187.5,212.14285714285714)\" d=\"M7.0710678118654755,0A7.0710678118654755,7.0710678118654755,0,1,1,-7.0710678118654755,0A7.0710678118654755,7.0710678118654755,0,1,1,7.0710678118654755,0\" style=\"fill: grey; stroke-width: 2; opacity: 0.7;\"></path><path transform=\"translate(375,203.57142857142856)\" d=\"M7.0710678118654755,0A7.0710678118654755,7.0710678118654755,0,1,1,-7.0710678118654755,0A7.0710678118654755,7.0710678118654755,0,1,1,7.0710678118654755,0\" style=\"fill: grey; stroke-width: 2; opacity: 0.7;\"></path><path transform=\"translate(312.5,184.28571428571428)\" d=\"M7.0710678118654755,0A7.0710678118654755,7.0710678118654755,0,1,1,-7.0710678118654755,0A7.0710678118654755,7.0710678118654755,0,1,1,7.0710678118654755,0\" style=\"fill: grey; stroke-width: 2; opacity: 0.7;\"></path><path transform=\"translate(312.5,182.14285714285714)\" d=\"M7.0710678118654755,0A7.0710678118654755,7.0710678118654755,0,1,1,-7.0710678118654755,0A7.0710678118654755,7.0710678118654755,0,1,1,7.0710678118654755,0\" style=\"fill: grey; stroke-width: 2; opacity: 0.7;\"></path><path transform=\"translate(250,195)\" d=\"M7.0710678118654755,0A7.0710678118654755,7.0710678118654755,0,1,1,-7.0710678118654755,0A7.0710678118654755,7.0710678118654755,0,1,1,7.0710678118654755,0\" style=\"fill: rgb(127, 184, 218); stroke-width: 2; opacity: 0.7;\"></path><path transform=\"translate(375,201.42857142857144)\" d=\"M7.0710678118654755,0A7.0710678118654755,7.0710678118654755,0,1,1,-7.0710678118654755,0A7.0710678118654755,7.0710678118654755,0,1,1,7.0710678118654755,0\" style=\"fill: grey; stroke-width: 2; opacity: 0.7;\"></path><path transform=\"translate(500,222.85714285714286)\" d=\"M7.0710678118654755,0A7.0710678118654755,7.0710678118654755,0,1,1,-7.0710678118654755,0A7.0710678118654755,7.0710678118654755,0,1,1,7.0710678118654755,0\" style=\"fill: grey; stroke-width: 2; opacity: 0.7;\"></path><path transform=\"translate(375,199.28571428571428)\" d=\"M7.0710678118654755,0A7.0710678118654755,7.0710678118654755,0,1,1,-7.0710678118654755,0A7.0710678118654755,7.0710678118654755,0,1,1,7.0710678118654755,0\" style=\"fill: grey; stroke-width: 2; opacity: 0.7;\"></path><path transform=\"translate(500,220.71428571428572)\" d=\"M7.0710678118654755,0A7.0710678118654755,7.0710678118654755,0,1,1,-7.0710678118654755,0A7.0710678118654755,7.0710678118654755,0,1,1,7.0710678118654755,0\" style=\"fill: grey; stroke-width: 2; opacity: 0.7;\"></path><path transform=\"translate(0,220.71428571428572)\" d=\"M7.0710678118654755,0A7.0710678118654755,7.0710678118654755,0,1,1,-7.0710678118654755,0A7.0710678118654755,7.0710678118654755,0,1,1,7.0710678118654755,0\" style=\"fill: grey; stroke-width: 2; opacity: 0.7;\"></path><path transform=\"translate(125,216.42857142857144)\" d=\"M7.0710678118654755,0A7.0710678118654755,7.0710678118654755,0,1,1,-7.0710678118654755,0A7.0710678118654755,7.0710678118654755,0,1,1,7.0710678118654755,0\" style=\"fill: grey; stroke-width: 2; opacity: 0.7;\"></path><path transform=\"translate(312.5,180)\" d=\"M7.0710678118654755,0A7.0710678118654755,7.0710678118654755,0,1,1,-7.0710678118654755,0A7.0710678118654755,7.0710678118654755,0,1,1,7.0710678118654755,0\" style=\"fill: grey; stroke-width: 2; opacity: 0.7;\"></path><path transform=\"translate(0,218.57142857142858)\" d=\"M7.0710678118654755,0A7.0710678118654755,7.0710678118654755,0,1,1,-7.0710678118654755,0A7.0710678118654755,7.0710678118654755,0,1,1,7.0710678118654755,0\" style=\"fill: grey; stroke-width: 2; opacity: 0.7;\"></path><path transform=\"translate(500,218.57142857142858)\" d=\"M7.0710678118654755,0A7.0710678118654755,7.0710678118654755,0,1,1,-7.0710678118654755,0A7.0710678118654755,7.0710678118654755,0,1,1,7.0710678118654755,0\" style=\"fill: grey; stroke-width: 2; opacity: 0.7;\"></path><path transform=\"translate(375,197.14285714285714)\" d=\"M7.0710678118654755,0A7.0710678118654755,7.0710678118654755,0,1,1,-7.0710678118654755,0A7.0710678118654755,7.0710678118654755,0,1,1,7.0710678118654755,0\" style=\"fill: grey; stroke-width: 2; opacity: 0.7;\"></path><path transform=\"translate(0,216.42857142857144)\" d=\"M7.0710678118654755,0A7.0710678118654755,7.0710678118654755,0,1,1,-7.0710678118654755,0A7.0710678118654755,7.0710678118654755,0,1,1,7.0710678118654755,0\" style=\"fill: grey; stroke-width: 2; opacity: 0.7;\"></path><path transform=\"translate(312.5,177.85714285714286)\" d=\"M7.0710678118654755,0A7.0710678118654755,7.0710678118654755,0,1,1,-7.0710678118654755,0A7.0710678118654755,7.0710678118654755,0,1,1,7.0710678118654755,0\" style=\"fill: grey; stroke-width: 2; opacity: 0.7;\"></path><path transform=\"translate(187.5,210)\" d=\"M7.0710678118654755,0A7.0710678118654755,7.0710678118654755,0,1,1,-7.0710678118654755,0A7.0710678118654755,7.0710678118654755,0,1,1,7.0710678118654755,0\" style=\"fill: grey; stroke-width: 2; opacity: 0.7;\"></path><path transform=\"translate(125,214.28571428571428)\" d=\"M7.0710678118654755,0A7.0710678118654755,7.0710678118654755,0,1,1,-7.0710678118654755,0A7.0710678118654755,7.0710678118654755,0,1,1,7.0710678118654755,0\" style=\"fill: grey; stroke-width: 2; opacity: 0.7;\"></path><path transform=\"translate(437.5,201.42857142857144)\" d=\"M7.0710678118654755,0A7.0710678118654755,7.0710678118654755,0,1,1,-7.0710678118654755,0A7.0710678118654755,7.0710678118654755,0,1,1,7.0710678118654755,0\" style=\"fill: grey; stroke-width: 2; opacity: 0.7;\"></path><path transform=\"translate(312.5,175.71428571428572)\" d=\"M7.0710678118654755,0A7.0710678118654755,7.0710678118654755,0,1,1,-7.0710678118654755,0A7.0710678118654755,7.0710678118654755,0,1,1,7.0710678118654755,0\" style=\"fill: grey; stroke-width: 2; opacity: 0.7;\"></path><path transform=\"translate(437.5,199.28571428571428)\" d=\"M7.0710678118654755,0A7.0710678118654755,7.0710678118654755,0,1,1,-7.0710678118654755,0A7.0710678118654755,7.0710678118654755,0,1,1,7.0710678118654755,0\" style=\"fill: grey; stroke-width: 2; opacity: 0.7;\"></path><path transform=\"translate(500,216.42857142857144)\" d=\"M7.0710678118654755,0A7.0710678118654755,7.0710678118654755,0,1,1,-7.0710678118654755,0A7.0710678118654755,7.0710678118654755,0,1,1,7.0710678118654755,0\" style=\"fill: grey; stroke-width: 2; opacity: 0.7;\"></path><path transform=\"translate(187.5,207.85714285714283)\" d=\"M7.0710678118654755,0A7.0710678118654755,7.0710678118654755,0,1,1,-7.0710678118654755,0A7.0710678118654755,7.0710678118654755,0,1,1,7.0710678118654755,0\" style=\"fill: grey; stroke-width: 2; opacity: 0.7;\"></path><path transform=\"translate(500,214.28571428571428)\" d=\"M7.0710678118654755,0A7.0710678118654755,7.0710678118654755,0,1,1,-7.0710678118654755,0A7.0710678118654755,7.0710678118654755,0,1,1,7.0710678118654755,0\" style=\"fill: grey; stroke-width: 2; opacity: 0.7;\"></path><path transform=\"translate(250,192.85714285714286)\" d=\"M7.0710678118654755,0A7.0710678118654755,7.0710678118654755,0,1,1,-7.0710678118654755,0A7.0710678118654755,7.0710678118654755,0,1,1,7.0710678118654755,0\" style=\"fill: rgb(73, 149, 200); stroke-width: 2; opacity: 0.7;\"></path><path transform=\"translate(0,214.28571428571428)\" d=\"M7.0710678118654755,0A7.0710678118654755,7.0710678118654755,0,1,1,-7.0710678118654755,0A7.0710678118654755,7.0710678118654755,0,1,1,7.0710678118654755,0\" style=\"fill: grey; stroke-width: 2; opacity: 0.7;\"></path><path transform=\"translate(0,212.14285714285714)\" d=\"M7.0710678118654755,0A7.0710678118654755,7.0710678118654755,0,1,1,-7.0710678118654755,0A7.0710678118654755,7.0710678118654755,0,1,1,7.0710678118654755,0\" style=\"fill: grey; stroke-width: 2; opacity: 0.7;\"></path><path transform=\"translate(437.5,197.14285714285714)\" d=\"M7.0710678118654755,0A7.0710678118654755,7.0710678118654755,0,1,1,-7.0710678118654755,0A7.0710678118654755,7.0710678118654755,0,1,1,7.0710678118654755,0\" style=\"fill: grey; stroke-width: 2; opacity: 0.7;\"></path><path transform=\"translate(250,190.71428571428572)\" d=\"M7.0710678118654755,0A7.0710678118654755,7.0710678118654755,0,1,1,-7.0710678118654755,0A7.0710678118654755,7.0710678118654755,0,1,1,7.0710678118654755,0\" style=\"fill: rgb(90, 162, 207); stroke-width: 2; opacity: 0.7;\"></path><path transform=\"translate(312.5,173.57142857142856)\" d=\"M7.0710678118654755,0A7.0710678118654755,7.0710678118654755,0,1,1,-7.0710678118654755,0A7.0710678118654755,7.0710678118654755,0,1,1,7.0710678118654755,0\" style=\"fill: grey; stroke-width: 2; opacity: 0.7;\"></path><path transform=\"translate(312.5,171.42857142857144)\" d=\"M7.0710678118654755,0A7.0710678118654755,7.0710678118654755,0,1,1,-7.0710678118654755,0A7.0710678118654755,7.0710678118654755,0,1,1,7.0710678118654755,0\" style=\"fill: grey; stroke-width: 2; opacity: 0.7;\"></path><path transform=\"translate(0,210)\" d=\"M7.0710678118654755,0A7.0710678118654755,7.0710678118654755,0,1,1,-7.0710678118654755,0A7.0710678118654755,7.0710678118654755,0,1,1,7.0710678118654755,0\" style=\"fill: grey; stroke-width: 2; opacity: 0.7;\"></path><path transform=\"translate(312.5,169.28571428571428)\" d=\"M7.0710678118654755,0A7.0710678118654755,7.0710678118654755,0,1,1,-7.0710678118654755,0A7.0710678118654755,7.0710678118654755,0,1,1,7.0710678118654755,0\" style=\"fill: grey; stroke-width: 2; opacity: 0.7;\"></path><path transform=\"translate(62.5,199.28571428571428)\" d=\"M7.0710678118654755,0A7.0710678118654755,7.0710678118654755,0,1,1,-7.0710678118654755,0A7.0710678118654755,7.0710678118654755,0,1,1,7.0710678118654755,0\" style=\"fill: grey; stroke-width: 2; opacity: 0.7;\"></path><path transform=\"translate(125,212.14285714285714)\" d=\"M7.0710678118654755,0A7.0710678118654755,7.0710678118654755,0,1,1,-7.0710678118654755,0A7.0710678118654755,7.0710678118654755,0,1,1,7.0710678118654755,0\" style=\"fill: grey; stroke-width: 2; opacity: 0.7;\"></path><path transform=\"translate(437.5,195)\" d=\"M7.0710678118654755,0A7.0710678118654755,7.0710678118654755,0,1,1,-7.0710678118654755,0A7.0710678118654755,7.0710678118654755,0,1,1,7.0710678118654755,0\" style=\"fill: grey; stroke-width: 2; opacity: 0.7;\"></path><path transform=\"translate(62.5,197.14285714285714)\" d=\"M7.0710678118654755,0A7.0710678118654755,7.0710678118654755,0,1,1,-7.0710678118654755,0A7.0710678118654755,7.0710678118654755,0,1,1,7.0710678118654755,0\" style=\"fill: grey; stroke-width: 2; opacity: 0.7;\"></path><path transform=\"translate(125,210)\" d=\"M7.0710678118654755,0A7.0710678118654755,7.0710678118654755,0,1,1,-7.0710678118654755,0A7.0710678118654755,7.0710678118654755,0,1,1,7.0710678118654755,0\" style=\"fill: grey; stroke-width: 2; opacity: 0.7;\"></path><path transform=\"translate(187.5,205.71428571428572)\" d=\"M7.0710678118654755,0A7.0710678118654755,7.0710678118654755,0,1,1,-7.0710678118654755,0A7.0710678118654755,7.0710678118654755,0,1,1,7.0710678118654755,0\" style=\"fill: grey; stroke-width: 2; opacity: 0.7;\"></path><path transform=\"translate(437.5,192.85714285714286)\" d=\"M7.0710678118654755,0A7.0710678118654755,7.0710678118654755,0,1,1,-7.0710678118654755,0A7.0710678118654755,7.0710678118654755,0,1,1,7.0710678118654755,0\" style=\"fill: grey; stroke-width: 2; opacity: 0.7;\"></path><path transform=\"translate(437.5,190.71428571428572)\" d=\"M7.0710678118654755,0A7.0710678118654755,7.0710678118654755,0,1,1,-7.0710678118654755,0A7.0710678118654755,7.0710678118654755,0,1,1,7.0710678118654755,0\" style=\"fill: grey; stroke-width: 2; opacity: 0.7;\"></path><path transform=\"translate(375,195)\" d=\"M7.0710678118654755,0A7.0710678118654755,7.0710678118654755,0,1,1,-7.0710678118654755,0A7.0710678118654755,7.0710678118654755,0,1,1,7.0710678118654755,0\" style=\"fill: grey; stroke-width: 2; opacity: 0.7;\"></path><path transform=\"translate(250,188.57142857142856)\" d=\"M7.0710678118654755,0A7.0710678118654755,7.0710678118654755,0,1,1,-7.0710678118654755,0A7.0710678118654755,7.0710678118654755,0,1,1,7.0710678118654755,0\" style=\"fill: rgb(54, 133, 191); stroke-width: 2; opacity: 0.7;\"></path><path transform=\"translate(250,186.42857142857144)\" d=\"M7.0710678118654755,0A7.0710678118654755,7.0710678118654755,0,1,1,-7.0710678118654755,0A7.0710678118654755,7.0710678118654755,0,1,1,7.0710678118654755,0\" style=\"fill: rgb(72, 148, 199); stroke-width: 2; opacity: 0.7;\"></path><path transform=\"translate(62.5,195)\" d=\"M7.0710678118654755,0A7.0710678118654755,7.0710678118654755,0,1,1,-7.0710678118654755,0A7.0710678118654755,7.0710678118654755,0,1,1,7.0710678118654755,0\" style=\"fill: grey; stroke-width: 2; opacity: 0.7;\"></path><path transform=\"translate(250,184.28571428571428)\" d=\"M7.0710678118654755,0A7.0710678118654755,7.0710678118654755,0,1,1,-7.0710678118654755,0A7.0710678118654755,7.0710678118654755,0,1,1,7.0710678118654755,0\" style=\"fill: rgb(47, 127, 188); stroke-width: 2; opacity: 0.7;\"></path><path transform=\"translate(312.5,167.14285714285714)\" d=\"M7.0710678118654755,0A7.0710678118654755,7.0710678118654755,0,1,1,-7.0710678118654755,0A7.0710678118654755,7.0710678118654755,0,1,1,7.0710678118654755,0\" style=\"fill: grey; stroke-width: 2; opacity: 0.7;\"></path><path transform=\"translate(0,207.85714285714283)\" d=\"M7.0710678118654755,0A7.0710678118654755,7.0710678118654755,0,1,1,-7.0710678118654755,0A7.0710678118654755,7.0710678118654755,0,1,1,7.0710678118654755,0\" style=\"fill: grey; stroke-width: 2; opacity: 0.7;\"></path><path transform=\"translate(437.5,188.57142857142856)\" d=\"M7.0710678118654755,0A7.0710678118654755,7.0710678118654755,0,1,1,-7.0710678118654755,0A7.0710678118654755,7.0710678118654755,0,1,1,7.0710678118654755,0\" style=\"fill: grey; stroke-width: 2; opacity: 0.7;\"></path><path transform=\"translate(62.5,192.85714285714286)\" d=\"M7.0710678118654755,0A7.0710678118654755,7.0710678118654755,0,1,1,-7.0710678118654755,0A7.0710678118654755,7.0710678118654755,0,1,1,7.0710678118654755,0\" style=\"fill: grey; stroke-width: 2; opacity: 0.7;\"></path><path transform=\"translate(500,212.14285714285714)\" d=\"M7.0710678118654755,0A7.0710678118654755,7.0710678118654755,0,1,1,-7.0710678118654755,0A7.0710678118654755,7.0710678118654755,0,1,1,7.0710678118654755,0\" style=\"fill: grey; stroke-width: 2; opacity: 0.7;\"></path><path transform=\"translate(500,210)\" d=\"M7.0710678118654755,0A7.0710678118654755,7.0710678118654755,0,1,1,-7.0710678118654755,0A7.0710678118654755,7.0710678118654755,0,1,1,7.0710678118654755,0\" style=\"fill: grey; stroke-width: 2; opacity: 0.7;\"></path><path transform=\"translate(437.5,186.42857142857144)\" d=\"M7.0710678118654755,0A7.0710678118654755,7.0710678118654755,0,1,1,-7.0710678118654755,0A7.0710678118654755,7.0710678118654755,0,1,1,7.0710678118654755,0\" style=\"fill: grey; stroke-width: 2; opacity: 0.7;\"></path><path transform=\"translate(500,207.85714285714283)\" d=\"M7.0710678118654755,0A7.0710678118654755,7.0710678118654755,0,1,1,-7.0710678118654755,0A7.0710678118654755,7.0710678118654755,0,1,1,7.0710678118654755,0\" style=\"fill: grey; stroke-width: 2; opacity: 0.7;\"></path><path transform=\"translate(62.5,190.71428571428572)\" d=\"M7.0710678118654755,0A7.0710678118654755,7.0710678118654755,0,1,1,-7.0710678118654755,0A7.0710678118654755,7.0710678118654755,0,1,1,7.0710678118654755,0\" style=\"fill: grey; stroke-width: 2; opacity: 0.7;\"></path><path transform=\"translate(125,207.85714285714283)\" d=\"M7.0710678118654755,0A7.0710678118654755,7.0710678118654755,0,1,1,-7.0710678118654755,0A7.0710678118654755,7.0710678118654755,0,1,1,7.0710678118654755,0\" style=\"fill: grey; stroke-width: 2; opacity: 0.7;\"></path><path transform=\"translate(375,192.85714285714286)\" d=\"M7.0710678118654755,0A7.0710678118654755,7.0710678118654755,0,1,1,-7.0710678118654755,0A7.0710678118654755,7.0710678118654755,0,1,1,7.0710678118654755,0\" style=\"fill: grey; stroke-width: 2; opacity: 0.7;\"></path><path transform=\"translate(62.5,188.57142857142856)\" d=\"M7.0710678118654755,0A7.0710678118654755,7.0710678118654755,0,1,1,-7.0710678118654755,0A7.0710678118654755,7.0710678118654755,0,1,1,7.0710678118654755,0\" style=\"fill: grey; stroke-width: 2; opacity: 0.7;\"></path><path transform=\"translate(125,205.71428571428572)\" d=\"M7.0710678118654755,0A7.0710678118654755,7.0710678118654755,0,1,1,-7.0710678118654755,0A7.0710678118654755,7.0710678118654755,0,1,1,7.0710678118654755,0\" style=\"fill: grey; stroke-width: 2; opacity: 0.7;\"></path><path transform=\"translate(125,203.57142857142856)\" d=\"M7.0710678118654755,0A7.0710678118654755,7.0710678118654755,0,1,1,-7.0710678118654755,0A7.0710678118654755,7.0710678118654755,0,1,1,7.0710678118654755,0\" style=\"fill: grey; stroke-width: 2; opacity: 0.7;\"></path><path transform=\"translate(62.5,186.42857142857144)\" d=\"M7.0710678118654755,0A7.0710678118654755,7.0710678118654755,0,1,1,-7.0710678118654755,0A7.0710678118654755,7.0710678118654755,0,1,1,7.0710678118654755,0\" style=\"fill: grey; stroke-width: 2; opacity: 0.7;\"></path><path transform=\"translate(250,182.14285714285714)\" d=\"M7.0710678118654755,0A7.0710678118654755,7.0710678118654755,0,1,1,-7.0710678118654755,0A7.0710678118654755,7.0710678118654755,0,1,1,7.0710678118654755,0\" style=\"fill: rgb(63, 141, 195); stroke-width: 2; opacity: 0.7;\"></path><path transform=\"translate(187.5,203.57142857142856)\" d=\"M7.0710678118654755,0A7.0710678118654755,7.0710678118654755,0,1,1,-7.0710678118654755,0A7.0710678118654755,7.0710678118654755,0,1,1,7.0710678118654755,0\" style=\"fill: grey; stroke-width: 2; opacity: 0.7;\"></path><path transform=\"translate(500,205.71428571428572)\" d=\"M7.0710678118654755,0A7.0710678118654755,7.0710678118654755,0,1,1,-7.0710678118654755,0A7.0710678118654755,7.0710678118654755,0,1,1,7.0710678118654755,0\" style=\"fill: grey; stroke-width: 2; opacity: 0.7;\"></path><path transform=\"translate(437.5,184.28571428571428)\" d=\"M7.0710678118654755,0A7.0710678118654755,7.0710678118654755,0,1,1,-7.0710678118654755,0A7.0710678118654755,7.0710678118654755,0,1,1,7.0710678118654755,0\" style=\"fill: grey; stroke-width: 2; opacity: 0.7;\"></path><path transform=\"translate(375,190.71428571428572)\" d=\"M7.0710678118654755,0A7.0710678118654755,7.0710678118654755,0,1,1,-7.0710678118654755,0A7.0710678118654755,7.0710678118654755,0,1,1,7.0710678118654755,0\" style=\"fill: grey; stroke-width: 2; opacity: 0.7;\"></path><path transform=\"translate(62.5,184.28571428571428)\" d=\"M7.0710678118654755,0A7.0710678118654755,7.0710678118654755,0,1,1,-7.0710678118654755,0A7.0710678118654755,7.0710678118654755,0,1,1,7.0710678118654755,0\" style=\"fill: grey; stroke-width: 2; opacity: 0.7;\"></path><path transform=\"translate(0,205.71428571428572)\" d=\"M7.0710678118654755,0A7.0710678118654755,7.0710678118654755,0,1,1,-7.0710678118654755,0A7.0710678118654755,7.0710678118654755,0,1,1,7.0710678118654755,0\" style=\"fill: grey; stroke-width: 2; opacity: 0.7;\"></path><path transform=\"translate(312.5,165)\" d=\"M7.0710678118654755,0A7.0710678118654755,7.0710678118654755,0,1,1,-7.0710678118654755,0A7.0710678118654755,7.0710678118654755,0,1,1,7.0710678118654755,0\" style=\"fill: grey; stroke-width: 2; opacity: 0.7;\"></path><path transform=\"translate(250,180)\" d=\"M7.0710678118654755,0A7.0710678118654755,7.0710678118654755,0,1,1,-7.0710678118654755,0A7.0710678118654755,7.0710678118654755,0,1,1,7.0710678118654755,0\" style=\"fill: rgb(108, 173, 212); stroke-width: 2; opacity: 0.7;\"></path><path transform=\"translate(250,177.85714285714286)\" d=\"M7.0710678118654755,0A7.0710678118654755,7.0710678118654755,0,1,1,-7.0710678118654755,0A7.0710678118654755,7.0710678118654755,0,1,1,7.0710678118654755,0\" style=\"fill: rgb(41, 121, 184); stroke-width: 2; opacity: 0.7;\"></path><path transform=\"translate(187.5,201.42857142857144)\" d=\"M7.0710678118654755,0A7.0710678118654755,7.0710678118654755,0,1,1,-7.0710678118654755,0A7.0710678118654755,7.0710678118654755,0,1,1,7.0710678118654755,0\" style=\"fill: grey; stroke-width: 2; opacity: 0.7;\"></path><path transform=\"translate(250,175.71428571428572)\" d=\"M7.0710678118654755,0A7.0710678118654755,7.0710678118654755,0,1,1,-7.0710678118654755,0A7.0710678118654755,7.0710678118654755,0,1,1,7.0710678118654755,0\" style=\"fill: rgb(40, 120, 183); stroke-width: 2; opacity: 0.7;\"></path><path transform=\"translate(312.5,162.85714285714286)\" d=\"M7.0710678118654755,0A7.0710678118654755,7.0710678118654755,0,1,1,-7.0710678118654755,0A7.0710678118654755,7.0710678118654755,0,1,1,7.0710678118654755,0\" style=\"fill: grey; stroke-width: 2; opacity: 0.7;\"></path><path transform=\"translate(125,201.42857142857144)\" d=\"M7.0710678118654755,0A7.0710678118654755,7.0710678118654755,0,1,1,-7.0710678118654755,0A7.0710678118654755,7.0710678118654755,0,1,1,7.0710678118654755,0\" style=\"fill: grey; stroke-width: 2; opacity: 0.7;\"></path><path transform=\"translate(437.5,182.14285714285714)\" d=\"M7.0710678118654755,0A7.0710678118654755,7.0710678118654755,0,1,1,-7.0710678118654755,0A7.0710678118654755,7.0710678118654755,0,1,1,7.0710678118654755,0\" style=\"fill: grey; stroke-width: 2; opacity: 0.7;\"></path><path transform=\"translate(312.5,160.71428571428572)\" d=\"M7.0710678118654755,0A7.0710678118654755,7.0710678118654755,0,1,1,-7.0710678118654755,0A7.0710678118654755,7.0710678118654755,0,1,1,7.0710678118654755,0\" style=\"fill: grey; stroke-width: 2; opacity: 0.7;\"></path><path transform=\"translate(437.5,180)\" d=\"M7.0710678118654755,0A7.0710678118654755,7.0710678118654755,0,1,1,-7.0710678118654755,0A7.0710678118654755,7.0710678118654755,0,1,1,7.0710678118654755,0\" style=\"fill: grey; stroke-width: 2; opacity: 0.7;\"></path><path transform=\"translate(187.5,199.28571428571428)\" d=\"M7.0710678118654755,0A7.0710678118654755,7.0710678118654755,0,1,1,-7.0710678118654755,0A7.0710678118654755,7.0710678118654755,0,1,1,7.0710678118654755,0\" style=\"fill: grey; stroke-width: 2; opacity: 0.7;\"></path><path transform=\"translate(437.5,177.85714285714286)\" d=\"M7.0710678118654755,0A7.0710678118654755,7.0710678118654755,0,1,1,-7.0710678118654755,0A7.0710678118654755,7.0710678118654755,0,1,1,7.0710678118654755,0\" style=\"fill: grey; stroke-width: 2; opacity: 0.7;\"></path><path transform=\"translate(312.5,158.57142857142858)\" d=\"M7.0710678118654755,0A7.0710678118654755,7.0710678118654755,0,1,1,-7.0710678118654755,0A7.0710678118654755,7.0710678118654755,0,1,1,7.0710678118654755,0\" style=\"fill: grey; stroke-width: 2; opacity: 0.7;\"></path><path transform=\"translate(375,188.57142857142856)\" d=\"M7.0710678118654755,0A7.0710678118654755,7.0710678118654755,0,1,1,-7.0710678118654755,0A7.0710678118654755,7.0710678118654755,0,1,1,7.0710678118654755,0\" style=\"fill: grey; stroke-width: 2; opacity: 0.7;\"></path><path transform=\"translate(437.5,175.71428571428572)\" d=\"M7.0710678118654755,0A7.0710678118654755,7.0710678118654755,0,1,1,-7.0710678118654755,0A7.0710678118654755,7.0710678118654755,0,1,1,7.0710678118654755,0\" style=\"fill: grey; stroke-width: 2; opacity: 0.7;\"></path><path transform=\"translate(312.5,156.42857142857142)\" d=\"M7.0710678118654755,0A7.0710678118654755,7.0710678118654755,0,1,1,-7.0710678118654755,0A7.0710678118654755,7.0710678118654755,0,1,1,7.0710678118654755,0\" style=\"fill: grey; stroke-width: 2; opacity: 0.7;\"></path><path transform=\"translate(500,203.57142857142856)\" d=\"M7.0710678118654755,0A7.0710678118654755,7.0710678118654755,0,1,1,-7.0710678118654755,0A7.0710678118654755,7.0710678118654755,0,1,1,7.0710678118654755,0\" style=\"fill: grey; stroke-width: 2; opacity: 0.7;\"></path><path transform=\"translate(62.5,182.14285714285714)\" d=\"M7.0710678118654755,0A7.0710678118654755,7.0710678118654755,0,1,1,-7.0710678118654755,0A7.0710678118654755,7.0710678118654755,0,1,1,7.0710678118654755,0\" style=\"fill: grey; stroke-width: 2; opacity: 0.7;\"></path><path transform=\"translate(187.5,197.14285714285714)\" d=\"M7.0710678118654755,0A7.0710678118654755,7.0710678118654755,0,1,1,-7.0710678118654755,0A7.0710678118654755,7.0710678118654755,0,1,1,7.0710678118654755,0\" style=\"fill: grey; stroke-width: 2; opacity: 0.7;\"></path><path transform=\"translate(500,201.42857142857144)\" d=\"M7.0710678118654755,0A7.0710678118654755,7.0710678118654755,0,1,1,-7.0710678118654755,0A7.0710678118654755,7.0710678118654755,0,1,1,7.0710678118654755,0\" style=\"fill: grey; stroke-width: 2; opacity: 0.7;\"></path><path transform=\"translate(125,199.28571428571428)\" d=\"M7.0710678118654755,0A7.0710678118654755,7.0710678118654755,0,1,1,-7.0710678118654755,0A7.0710678118654755,7.0710678118654755,0,1,1,7.0710678118654755,0\" style=\"fill: grey; stroke-width: 2; opacity: 0.7;\"></path><path transform=\"translate(375,186.42857142857144)\" d=\"M7.0710678118654755,0A7.0710678118654755,7.0710678118654755,0,1,1,-7.0710678118654755,0A7.0710678118654755,7.0710678118654755,0,1,1,7.0710678118654755,0\" style=\"fill: grey; stroke-width: 2; opacity: 0.7;\"></path><path transform=\"translate(0,203.57142857142856)\" d=\"M7.0710678118654755,0A7.0710678118654755,7.0710678118654755,0,1,1,-7.0710678118654755,0A7.0710678118654755,7.0710678118654755,0,1,1,7.0710678118654755,0\" style=\"fill: grey; stroke-width: 2; opacity: 0.7;\"></path><path transform=\"translate(62.5,180)\" d=\"M7.0710678118654755,0A7.0710678118654755,7.0710678118654755,0,1,1,-7.0710678118654755,0A7.0710678118654755,7.0710678118654755,0,1,1,7.0710678118654755,0\" style=\"fill: grey; stroke-width: 2; opacity: 0.7;\"></path><path transform=\"translate(500,199.28571428571428)\" d=\"M7.0710678118654755,0A7.0710678118654755,7.0710678118654755,0,1,1,-7.0710678118654755,0A7.0710678118654755,7.0710678118654755,0,1,1,7.0710678118654755,0\" style=\"fill: grey; stroke-width: 2; opacity: 0.7;\"></path><path transform=\"translate(62.5,177.85714285714286)\" d=\"M7.0710678118654755,0A7.0710678118654755,7.0710678118654755,0,1,1,-7.0710678118654755,0A7.0710678118654755,7.0710678118654755,0,1,1,7.0710678118654755,0\" style=\"fill: grey; stroke-width: 2; opacity: 0.7;\"></path><path transform=\"translate(437.5,173.57142857142856)\" d=\"M7.0710678118654755,0A7.0710678118654755,7.0710678118654755,0,1,1,-7.0710678118654755,0A7.0710678118654755,7.0710678118654755,0,1,1,7.0710678118654755,0\" style=\"fill: grey; stroke-width: 2; opacity: 0.7;\"></path><path transform=\"translate(500,197.14285714285714)\" d=\"M7.0710678118654755,0A7.0710678118654755,7.0710678118654755,0,1,1,-7.0710678118654755,0A7.0710678118654755,7.0710678118654755,0,1,1,7.0710678118654755,0\" style=\"fill: grey; stroke-width: 2; opacity: 0.7;\"></path><path transform=\"translate(500,195)\" d=\"M7.0710678118654755,0A7.0710678118654755,7.0710678118654755,0,1,1,-7.0710678118654755,0A7.0710678118654755,7.0710678118654755,0,1,1,7.0710678118654755,0\" style=\"fill: grey; stroke-width: 2; opacity: 0.7;\"></path><path transform=\"translate(250,173.57142857142856)\" d=\"M7.0710678118654755,0A7.0710678118654755,7.0710678118654755,0,1,1,-7.0710678118654755,0A7.0710678118654755,7.0710678118654755,0,1,1,7.0710678118654755,0\" style=\"fill: rgb(83, 157, 204); stroke-width: 2; opacity: 0.7;\"></path><path transform=\"translate(437.5,171.42857142857144)\" d=\"M7.0710678118654755,0A7.0710678118654755,7.0710678118654755,0,1,1,-7.0710678118654755,0A7.0710678118654755,7.0710678118654755,0,1,1,7.0710678118654755,0\" style=\"fill: grey; stroke-width: 2; opacity: 0.7;\"></path><path transform=\"translate(62.5,175.71428571428572)\" d=\"M7.0710678118654755,0A7.0710678118654755,7.0710678118654755,0,1,1,-7.0710678118654755,0A7.0710678118654755,7.0710678118654755,0,1,1,7.0710678118654755,0\" style=\"fill: grey; stroke-width: 2; opacity: 0.7;\"></path><path transform=\"translate(312.5,154.28571428571428)\" d=\"M7.0710678118654755,0A7.0710678118654755,7.0710678118654755,0,1,1,-7.0710678118654755,0A7.0710678118654755,7.0710678118654755,0,1,1,7.0710678118654755,0\" style=\"fill: grey; stroke-width: 2; opacity: 0.7;\"></path><path transform=\"translate(187.5,195)\" d=\"M7.0710678118654755,0A7.0710678118654755,7.0710678118654755,0,1,1,-7.0710678118654755,0A7.0710678118654755,7.0710678118654755,0,1,1,7.0710678118654755,0\" style=\"fill: grey; stroke-width: 2; opacity: 0.7;\"></path><path transform=\"translate(125,197.14285714285714)\" d=\"M7.0710678118654755,0A7.0710678118654755,7.0710678118654755,0,1,1,-7.0710678118654755,0A7.0710678118654755,7.0710678118654755,0,1,1,7.0710678118654755,0\" style=\"fill: grey; stroke-width: 2; opacity: 0.7;\"></path><path transform=\"translate(500,192.85714285714286)\" d=\"M7.0710678118654755,0A7.0710678118654755,7.0710678118654755,0,1,1,-7.0710678118654755,0A7.0710678118654755,7.0710678118654755,0,1,1,7.0710678118654755,0\" style=\"fill: grey; stroke-width: 2; opacity: 0.7;\"></path><path transform=\"translate(0,201.42857142857144)\" d=\"M7.0710678118654755,0A7.0710678118654755,7.0710678118654755,0,1,1,-7.0710678118654755,0A7.0710678118654755,7.0710678118654755,0,1,1,7.0710678118654755,0\" style=\"fill: grey; stroke-width: 2; opacity: 0.7;\"></path><path transform=\"translate(437.5,169.28571428571428)\" d=\"M7.0710678118654755,0A7.0710678118654755,7.0710678118654755,0,1,1,-7.0710678118654755,0A7.0710678118654755,7.0710678118654755,0,1,1,7.0710678118654755,0\" style=\"fill: grey; stroke-width: 2; opacity: 0.7;\"></path><path transform=\"translate(375,184.28571428571428)\" d=\"M7.0710678118654755,0A7.0710678118654755,7.0710678118654755,0,1,1,-7.0710678118654755,0A7.0710678118654755,7.0710678118654755,0,1,1,7.0710678118654755,0\" style=\"fill: grey; stroke-width: 2; opacity: 0.7;\"></path><path transform=\"translate(250,171.42857142857144)\" d=\"M7.0710678118654755,0A7.0710678118654755,7.0710678118654755,0,1,1,-7.0710678118654755,0A7.0710678118654755,7.0710678118654755,0,1,1,7.0710678118654755,0\" style=\"fill: rgb(147, 195, 223); stroke-width: 2; opacity: 0.7;\"></path><path transform=\"translate(62.5,173.57142857142856)\" d=\"M7.0710678118654755,0A7.0710678118654755,7.0710678118654755,0,1,1,-7.0710678118654755,0A7.0710678118654755,7.0710678118654755,0,1,1,7.0710678118654755,0\" style=\"fill: grey; stroke-width: 2; opacity: 0.7;\"></path><path transform=\"translate(250,169.28571428571428)\" d=\"M7.0710678118654755,0A7.0710678118654755,7.0710678118654755,0,1,1,-7.0710678118654755,0A7.0710678118654755,7.0710678118654755,0,1,1,7.0710678118654755,0\" style=\"fill: rgb(77, 152, 201); stroke-width: 2; opacity: 0.7;\"></path><path transform=\"translate(375,182.14285714285714)\" d=\"M7.0710678118654755,0A7.0710678118654755,7.0710678118654755,0,1,1,-7.0710678118654755,0A7.0710678118654755,7.0710678118654755,0,1,1,7.0710678118654755,0\" style=\"fill: grey; stroke-width: 2; opacity: 0.7;\"></path><path transform=\"translate(250,167.14285714285714)\" d=\"M7.0710678118654755,0A7.0710678118654755,7.0710678118654755,0,1,1,-7.0710678118654755,0A7.0710678118654755,7.0710678118654755,0,1,1,7.0710678118654755,0\" style=\"fill: rgb(125, 183, 217); stroke-width: 2; opacity: 0.7;\"></path><path transform=\"translate(312.5,152.14285714285714)\" d=\"M7.0710678118654755,0A7.0710678118654755,7.0710678118654755,0,1,1,-7.0710678118654755,0A7.0710678118654755,7.0710678118654755,0,1,1,7.0710678118654755,0\" style=\"fill: grey; stroke-width: 2; opacity: 0.7;\"></path><path transform=\"translate(437.5,167.14285714285714)\" d=\"M7.0710678118654755,0A7.0710678118654755,7.0710678118654755,0,1,1,-7.0710678118654755,0A7.0710678118654755,7.0710678118654755,0,1,1,7.0710678118654755,0\" style=\"fill: grey; stroke-width: 2; opacity: 0.7;\"></path><path transform=\"translate(187.5,192.85714285714286)\" d=\"M7.0710678118654755,0A7.0710678118654755,7.0710678118654755,0,1,1,-7.0710678118654755,0A7.0710678118654755,7.0710678118654755,0,1,1,7.0710678118654755,0\" style=\"fill: grey; stroke-width: 2; opacity: 0.7;\"></path><path transform=\"translate(125,195)\" d=\"M7.0710678118654755,0A7.0710678118654755,7.0710678118654755,0,1,1,-7.0710678118654755,0A7.0710678118654755,7.0710678118654755,0,1,1,7.0710678118654755,0\" style=\"fill: grey; stroke-width: 2; opacity: 0.7;\"></path><path transform=\"translate(437.5,165)\" d=\"M7.0710678118654755,0A7.0710678118654755,7.0710678118654755,0,1,1,-7.0710678118654755,0A7.0710678118654755,7.0710678118654755,0,1,1,7.0710678118654755,0\" style=\"fill: grey; stroke-width: 2; opacity: 0.7;\"></path><path transform=\"translate(250,165)\" d=\"M7.0710678118654755,0A7.0710678118654755,7.0710678118654755,0,1,1,-7.0710678118654755,0A7.0710678118654755,7.0710678118654755,0,1,1,7.0710678118654755,0\" style=\"fill: rgb(150, 197, 224); stroke-width: 2; opacity: 0.7;\"></path><path transform=\"translate(500,190.71428571428572)\" d=\"M7.0710678118654755,0A7.0710678118654755,7.0710678118654755,0,1,1,-7.0710678118654755,0A7.0710678118654755,7.0710678118654755,0,1,1,7.0710678118654755,0\" style=\"fill: grey; stroke-width: 2; opacity: 0.7;\"></path><path transform=\"translate(437.5,162.85714285714286)\" d=\"M7.0710678118654755,0A7.0710678118654755,7.0710678118654755,0,1,1,-7.0710678118654755,0A7.0710678118654755,7.0710678118654755,0,1,1,7.0710678118654755,0\" style=\"fill: grey; stroke-width: 2; opacity: 0.7;\"></path><path transform=\"translate(0,199.28571428571428)\" d=\"M7.0710678118654755,0A7.0710678118654755,7.0710678118654755,0,1,1,-7.0710678118654755,0A7.0710678118654755,7.0710678118654755,0,1,1,7.0710678118654755,0\" style=\"fill: grey; stroke-width: 2; opacity: 0.7;\"></path><path transform=\"translate(437.5,160.71428571428572)\" d=\"M7.0710678118654755,0A7.0710678118654755,7.0710678118654755,0,1,1,-7.0710678118654755,0A7.0710678118654755,7.0710678118654755,0,1,1,7.0710678118654755,0\" style=\"fill: grey; stroke-width: 2; opacity: 0.7;\"></path><path transform=\"translate(125,192.85714285714286)\" d=\"M7.0710678118654755,0A7.0710678118654755,7.0710678118654755,0,1,1,-7.0710678118654755,0A7.0710678118654755,7.0710678118654755,0,1,1,7.0710678118654755,0\" style=\"fill: grey; stroke-width: 2; opacity: 0.7;\"></path><path transform=\"translate(187.5,190.71428571428572)\" d=\"M7.0710678118654755,0A7.0710678118654755,7.0710678118654755,0,1,1,-7.0710678118654755,0A7.0710678118654755,7.0710678118654755,0,1,1,7.0710678118654755,0\" style=\"fill: grey; stroke-width: 2; opacity: 0.7;\"></path><path transform=\"translate(437.5,158.57142857142858)\" d=\"M7.0710678118654755,0A7.0710678118654755,7.0710678118654755,0,1,1,-7.0710678118654755,0A7.0710678118654755,7.0710678118654755,0,1,1,7.0710678118654755,0\" style=\"fill: grey; stroke-width: 2; opacity: 0.7;\"></path><path transform=\"translate(187.5,188.57142857142856)\" d=\"M7.0710678118654755,0A7.0710678118654755,7.0710678118654755,0,1,1,-7.0710678118654755,0A7.0710678118654755,7.0710678118654755,0,1,1,7.0710678118654755,0\" style=\"fill: grey; stroke-width: 2; opacity: 0.7;\"></path><path transform=\"translate(62.5,171.42857142857144)\" d=\"M7.0710678118654755,0A7.0710678118654755,7.0710678118654755,0,1,1,-7.0710678118654755,0A7.0710678118654755,7.0710678118654755,0,1,1,7.0710678118654755,0\" style=\"fill: grey; stroke-width: 2; opacity: 0.7;\"></path><path transform=\"translate(500,188.57142857142856)\" d=\"M7.0710678118654755,0A7.0710678118654755,7.0710678118654755,0,1,1,-7.0710678118654755,0A7.0710678118654755,7.0710678118654755,0,1,1,7.0710678118654755,0\" style=\"fill: grey; stroke-width: 2; opacity: 0.7;\"></path><path transform=\"translate(500,186.42857142857144)\" d=\"M7.0710678118654755,0A7.0710678118654755,7.0710678118654755,0,1,1,-7.0710678118654755,0A7.0710678118654755,7.0710678118654755,0,1,1,7.0710678118654755,0\" style=\"fill: grey; stroke-width: 2; opacity: 0.7;\"></path><path transform=\"translate(500,184.28571428571428)\" d=\"M7.0710678118654755,0A7.0710678118654755,7.0710678118654755,0,1,1,-7.0710678118654755,0A7.0710678118654755,7.0710678118654755,0,1,1,7.0710678118654755,0\" style=\"fill: grey; stroke-width: 2; opacity: 0.7;\"></path><path transform=\"translate(250,162.85714285714286)\" d=\"M7.0710678118654755,0A7.0710678118654755,7.0710678118654755,0,1,1,-7.0710678118654755,0A7.0710678118654755,7.0710678118654755,0,1,1,7.0710678118654755,0\" style=\"fill: rgb(85, 159, 205); stroke-width: 2; opacity: 0.7;\"></path><path transform=\"translate(437.5,156.42857142857142)\" d=\"M7.0710678118654755,0A7.0710678118654755,7.0710678118654755,0,1,1,-7.0710678118654755,0A7.0710678118654755,7.0710678118654755,0,1,1,7.0710678118654755,0\" style=\"fill: grey; stroke-width: 2; opacity: 0.7;\"></path><path transform=\"translate(125,190.71428571428572)\" d=\"M7.0710678118654755,0A7.0710678118654755,7.0710678118654755,0,1,1,-7.0710678118654755,0A7.0710678118654755,7.0710678118654755,0,1,1,7.0710678118654755,0\" style=\"fill: grey; stroke-width: 2; opacity: 0.7;\"></path><path transform=\"translate(312.5,150)\" d=\"M7.0710678118654755,0A7.0710678118654755,7.0710678118654755,0,1,1,-7.0710678118654755,0A7.0710678118654755,7.0710678118654755,0,1,1,7.0710678118654755,0\" style=\"fill: grey; stroke-width: 2; opacity: 0.7;\"></path><path transform=\"translate(187.5,186.42857142857144)\" d=\"M7.0710678118654755,0A7.0710678118654755,7.0710678118654755,0,1,1,-7.0710678118654755,0A7.0710678118654755,7.0710678118654755,0,1,1,7.0710678118654755,0\" style=\"fill: grey; stroke-width: 2; opacity: 0.7;\"></path><path transform=\"translate(62.5,169.28571428571428)\" d=\"M7.0710678118654755,0A7.0710678118654755,7.0710678118654755,0,1,1,-7.0710678118654755,0A7.0710678118654755,7.0710678118654755,0,1,1,7.0710678118654755,0\" style=\"fill: grey; stroke-width: 2; opacity: 0.7;\"></path><path transform=\"translate(187.5,184.28571428571428)\" d=\"M7.0710678118654755,0A7.0710678118654755,7.0710678118654755,0,1,1,-7.0710678118654755,0A7.0710678118654755,7.0710678118654755,0,1,1,7.0710678118654755,0\" style=\"fill: grey; stroke-width: 2; opacity: 0.7;\"></path><path transform=\"translate(62.5,167.14285714285714)\" d=\"M7.0710678118654755,0A7.0710678118654755,7.0710678118654755,0,1,1,-7.0710678118654755,0A7.0710678118654755,7.0710678118654755,0,1,1,7.0710678118654755,0\" style=\"fill: grey; stroke-width: 2; opacity: 0.7;\"></path><path transform=\"translate(125,188.57142857142856)\" d=\"M7.0710678118654755,0A7.0710678118654755,7.0710678118654755,0,1,1,-7.0710678118654755,0A7.0710678118654755,7.0710678118654755,0,1,1,7.0710678118654755,0\" style=\"fill: grey; stroke-width: 2; opacity: 0.7;\"></path><path transform=\"translate(62.5,165)\" d=\"M7.0710678118654755,0A7.0710678118654755,7.0710678118654755,0,1,1,-7.0710678118654755,0A7.0710678118654755,7.0710678118654755,0,1,1,7.0710678118654755,0\" style=\"fill: grey; stroke-width: 2; opacity: 0.7;\"></path><path transform=\"translate(312.5,147.85714285714286)\" d=\"M7.0710678118654755,0A7.0710678118654755,7.0710678118654755,0,1,1,-7.0710678118654755,0A7.0710678118654755,7.0710678118654755,0,1,1,7.0710678118654755,0\" style=\"fill: grey; stroke-width: 2; opacity: 0.7;\"></path><path transform=\"translate(62.5,162.85714285714286)\" d=\"M7.0710678118654755,0A7.0710678118654755,7.0710678118654755,0,1,1,-7.0710678118654755,0A7.0710678118654755,7.0710678118654755,0,1,1,7.0710678118654755,0\" style=\"fill: grey; stroke-width: 2; opacity: 0.7;\"></path><path transform=\"translate(250,160.71428571428572)\" d=\"M7.0710678118654755,0A7.0710678118654755,7.0710678118654755,0,1,1,-7.0710678118654755,0A7.0710678118654755,7.0710678118654755,0,1,1,7.0710678118654755,0\" style=\"fill: rgb(43, 123, 185); stroke-width: 2; opacity: 0.7;\"></path><path transform=\"translate(187.5,182.14285714285714)\" d=\"M7.0710678118654755,0A7.0710678118654755,7.0710678118654755,0,1,1,-7.0710678118654755,0A7.0710678118654755,7.0710678118654755,0,1,1,7.0710678118654755,0\" style=\"fill: grey; stroke-width: 2; opacity: 0.7;\"></path><path transform=\"translate(312.5,145.71428571428572)\" d=\"M7.0710678118654755,0A7.0710678118654755,7.0710678118654755,0,1,1,-7.0710678118654755,0A7.0710678118654755,7.0710678118654755,0,1,1,7.0710678118654755,0\" style=\"fill: grey; stroke-width: 2; opacity: 0.7;\"></path><path transform=\"translate(125,186.42857142857144)\" d=\"M7.0710678118654755,0A7.0710678118654755,7.0710678118654755,0,1,1,-7.0710678118654755,0A7.0710678118654755,7.0710678118654755,0,1,1,7.0710678118654755,0\" style=\"fill: grey; stroke-width: 2; opacity: 0.7;\"></path><path transform=\"translate(0,197.14285714285714)\" d=\"M7.0710678118654755,0A7.0710678118654755,7.0710678118654755,0,1,1,-7.0710678118654755,0A7.0710678118654755,7.0710678118654755,0,1,1,7.0710678118654755,0\" style=\"fill: grey; stroke-width: 2; opacity: 0.7;\"></path><path transform=\"translate(125,184.28571428571428)\" d=\"M7.0710678118654755,0A7.0710678118654755,7.0710678118654755,0,1,1,-7.0710678118654755,0A7.0710678118654755,7.0710678118654755,0,1,1,7.0710678118654755,0\" style=\"fill: grey; stroke-width: 2; opacity: 0.7;\"></path><path transform=\"translate(500,182.14285714285714)\" d=\"M7.0710678118654755,0A7.0710678118654755,7.0710678118654755,0,1,1,-7.0710678118654755,0A7.0710678118654755,7.0710678118654755,0,1,1,7.0710678118654755,0\" style=\"fill: grey; stroke-width: 2; opacity: 0.7;\"></path><path transform=\"translate(250,158.57142857142858)\" d=\"M7.0710678118654755,0A7.0710678118654755,7.0710678118654755,0,1,1,-7.0710678118654755,0A7.0710678118654755,7.0710678118654755,0,1,1,7.0710678118654755,0\" style=\"fill: rgb(98, 167, 209); stroke-width: 2; opacity: 0.7;\"></path><path transform=\"translate(437.5,154.28571428571428)\" d=\"M7.0710678118654755,0A7.0710678118654755,7.0710678118654755,0,1,1,-7.0710678118654755,0A7.0710678118654755,7.0710678118654755,0,1,1,7.0710678118654755,0\" style=\"fill: grey; stroke-width: 2; opacity: 0.7;\"></path><path transform=\"translate(250,156.42857142857142)\" d=\"M7.0710678118654755,0A7.0710678118654755,7.0710678118654755,0,1,1,-7.0710678118654755,0A7.0710678118654755,7.0710678118654755,0,1,1,7.0710678118654755,0\" style=\"fill: rgb(114, 177, 214); stroke-width: 2; opacity: 0.7;\"></path><path transform=\"translate(62.5,160.71428571428572)\" d=\"M7.0710678118654755,0A7.0710678118654755,7.0710678118654755,0,1,1,-7.0710678118654755,0A7.0710678118654755,7.0710678118654755,0,1,1,7.0710678118654755,0\" style=\"fill: grey; stroke-width: 2; opacity: 0.7;\"></path><path transform=\"translate(437.5,152.14285714285714)\" d=\"M7.0710678118654755,0A7.0710678118654755,7.0710678118654755,0,1,1,-7.0710678118654755,0A7.0710678118654755,7.0710678118654755,0,1,1,7.0710678118654755,0\" style=\"fill: grey; stroke-width: 2; opacity: 0.7;\"></path><path transform=\"translate(0,195)\" d=\"M7.0710678118654755,0A7.0710678118654755,7.0710678118654755,0,1,1,-7.0710678118654755,0A7.0710678118654755,7.0710678118654755,0,1,1,7.0710678118654755,0\" style=\"fill: grey; stroke-width: 2; opacity: 0.7;\"></path><path transform=\"translate(375,180)\" d=\"M7.0710678118654755,0A7.0710678118654755,7.0710678118654755,0,1,1,-7.0710678118654755,0A7.0710678118654755,7.0710678118654755,0,1,1,7.0710678118654755,0\" style=\"fill: grey; stroke-width: 2; opacity: 0.7;\"></path><path transform=\"translate(437.5,150)\" d=\"M7.0710678118654755,0A7.0710678118654755,7.0710678118654755,0,1,1,-7.0710678118654755,0A7.0710678118654755,7.0710678118654755,0,1,1,7.0710678118654755,0\" style=\"fill: grey; stroke-width: 2; opacity: 0.7;\"></path><path transform=\"translate(312.5,143.57142857142856)\" d=\"M7.0710678118654755,0A7.0710678118654755,7.0710678118654755,0,1,1,-7.0710678118654755,0A7.0710678118654755,7.0710678118654755,0,1,1,7.0710678118654755,0\" style=\"fill: grey; stroke-width: 2; opacity: 0.7;\"></path><path transform=\"translate(250,154.28571428571428)\" d=\"M7.0710678118654755,0A7.0710678118654755,7.0710678118654755,0,1,1,-7.0710678118654755,0A7.0710678118654755,7.0710678118654755,0,1,1,7.0710678118654755,0\" style=\"fill: rgb(39, 118, 183); stroke-width: 2; opacity: 0.7;\"></path><path transform=\"translate(187.5,180)\" d=\"M7.0710678118654755,0A7.0710678118654755,7.0710678118654755,0,1,1,-7.0710678118654755,0A7.0710678118654755,7.0710678118654755,0,1,1,7.0710678118654755,0\" style=\"fill: grey; stroke-width: 2; opacity: 0.7;\"></path><path transform=\"translate(437.5,147.85714285714286)\" d=\"M7.0710678118654755,0A7.0710678118654755,7.0710678118654755,0,1,1,-7.0710678118654755,0A7.0710678118654755,7.0710678118654755,0,1,1,7.0710678118654755,0\" style=\"fill: grey; stroke-width: 2; opacity: 0.7;\"></path><path transform=\"translate(500,180)\" d=\"M7.0710678118654755,0A7.0710678118654755,7.0710678118654755,0,1,1,-7.0710678118654755,0A7.0710678118654755,7.0710678118654755,0,1,1,7.0710678118654755,0\" style=\"fill: grey; stroke-width: 2; opacity: 0.7;\"></path><path transform=\"translate(125,182.14285714285714)\" d=\"M7.0710678118654755,0A7.0710678118654755,7.0710678118654755,0,1,1,-7.0710678118654755,0A7.0710678118654755,7.0710678118654755,0,1,1,7.0710678118654755,0\" style=\"fill: grey; stroke-width: 2; opacity: 0.7;\"></path><path transform=\"translate(187.5,177.85714285714286)\" d=\"M7.0710678118654755,0A7.0710678118654755,7.0710678118654755,0,1,1,-7.0710678118654755,0A7.0710678118654755,7.0710678118654755,0,1,1,7.0710678118654755,0\" style=\"fill: grey; stroke-width: 2; opacity: 0.7;\"></path><path transform=\"translate(375,177.85714285714286)\" d=\"M7.0710678118654755,0A7.0710678118654755,7.0710678118654755,0,1,1,-7.0710678118654755,0A7.0710678118654755,7.0710678118654755,0,1,1,7.0710678118654755,0\" style=\"fill: grey; stroke-width: 2; opacity: 0.7;\"></path><path transform=\"translate(500,177.85714285714286)\" d=\"M7.0710678118654755,0A7.0710678118654755,7.0710678118654755,0,1,1,-7.0710678118654755,0A7.0710678118654755,7.0710678118654755,0,1,1,7.0710678118654755,0\" style=\"fill: grey; stroke-width: 2; opacity: 0.7;\"></path><path transform=\"translate(250,152.14285714285714)\" d=\"M7.0710678118654755,0A7.0710678118654755,7.0710678118654755,0,1,1,-7.0710678118654755,0A7.0710678118654755,7.0710678118654755,0,1,1,7.0710678118654755,0\" style=\"fill: rgb(78, 153, 202); stroke-width: 2; opacity: 0.7;\"></path><path transform=\"translate(187.5,175.71428571428572)\" d=\"M7.0710678118654755,0A7.0710678118654755,7.0710678118654755,0,1,1,-7.0710678118654755,0A7.0710678118654755,7.0710678118654755,0,1,1,7.0710678118654755,0\" style=\"fill: grey; stroke-width: 2; opacity: 0.7;\"></path><path transform=\"translate(500,175.71428571428572)\" d=\"M7.0710678118654755,0A7.0710678118654755,7.0710678118654755,0,1,1,-7.0710678118654755,0A7.0710678118654755,7.0710678118654755,0,1,1,7.0710678118654755,0\" style=\"fill: grey; stroke-width: 2; opacity: 0.7;\"></path><path transform=\"translate(375,175.71428571428572)\" d=\"M7.0710678118654755,0A7.0710678118654755,7.0710678118654755,0,1,1,-7.0710678118654755,0A7.0710678118654755,7.0710678118654755,0,1,1,7.0710678118654755,0\" style=\"fill: grey; stroke-width: 2; opacity: 0.7;\"></path><path transform=\"translate(437.5,145.71428571428572)\" d=\"M7.0710678118654755,0A7.0710678118654755,7.0710678118654755,0,1,1,-7.0710678118654755,0A7.0710678118654755,7.0710678118654755,0,1,1,7.0710678118654755,0\" style=\"fill: grey; stroke-width: 2; opacity: 0.7;\"></path><path transform=\"translate(62.5,158.57142857142858)\" d=\"M7.0710678118654755,0A7.0710678118654755,7.0710678118654755,0,1,1,-7.0710678118654755,0A7.0710678118654755,7.0710678118654755,0,1,1,7.0710678118654755,0\" style=\"fill: grey; stroke-width: 2; opacity: 0.7;\"></path><path transform=\"translate(250,150)\" d=\"M7.0710678118654755,0A7.0710678118654755,7.0710678118654755,0,1,1,-7.0710678118654755,0A7.0710678118654755,7.0710678118654755,0,1,1,7.0710678118654755,0\" style=\"fill: rgb(67, 144, 197); stroke-width: 2; opacity: 0.7;\"></path><path transform=\"translate(187.5,173.57142857142856)\" d=\"M7.0710678118654755,0A7.0710678118654755,7.0710678118654755,0,1,1,-7.0710678118654755,0A7.0710678118654755,7.0710678118654755,0,1,1,7.0710678118654755,0\" style=\"fill: grey; stroke-width: 2; opacity: 0.7;\"></path><path transform=\"translate(375,173.57142857142856)\" d=\"M7.0710678118654755,0A7.0710678118654755,7.0710678118654755,0,1,1,-7.0710678118654755,0A7.0710678118654755,7.0710678118654755,0,1,1,7.0710678118654755,0\" style=\"fill: grey; stroke-width: 2; opacity: 0.7;\"></path><path transform=\"translate(0,192.85714285714286)\" d=\"M7.0710678118654755,0A7.0710678118654755,7.0710678118654755,0,1,1,-7.0710678118654755,0A7.0710678118654755,7.0710678118654755,0,1,1,7.0710678118654755,0\" style=\"fill: grey; stroke-width: 2; opacity: 0.7;\"></path><path transform=\"translate(0,190.71428571428572)\" d=\"M7.0710678118654755,0A7.0710678118654755,7.0710678118654755,0,1,1,-7.0710678118654755,0A7.0710678118654755,7.0710678118654755,0,1,1,7.0710678118654755,0\" style=\"fill: grey; stroke-width: 2; opacity: 0.7;\"></path><path transform=\"translate(312.5,141.42857142857142)\" d=\"M7.0710678118654755,0A7.0710678118654755,7.0710678118654755,0,1,1,-7.0710678118654755,0A7.0710678118654755,7.0710678118654755,0,1,1,7.0710678118654755,0\" style=\"fill: grey; stroke-width: 2; opacity: 0.7;\"></path><path transform=\"translate(437.5,143.57142857142856)\" d=\"M7.0710678118654755,0A7.0710678118654755,7.0710678118654755,0,1,1,-7.0710678118654755,0A7.0710678118654755,7.0710678118654755,0,1,1,7.0710678118654755,0\" style=\"fill: grey; stroke-width: 2; opacity: 0.7;\"></path><path transform=\"translate(250,147.85714285714286)\" d=\"M7.0710678118654755,0A7.0710678118654755,7.0710678118654755,0,1,1,-7.0710678118654755,0A7.0710678118654755,7.0710678118654755,0,1,1,7.0710678118654755,0\" style=\"fill: rgb(162, 203, 227); stroke-width: 2; opacity: 0.7;\"></path><path transform=\"translate(62.5,156.42857142857142)\" d=\"M7.0710678118654755,0A7.0710678118654755,7.0710678118654755,0,1,1,-7.0710678118654755,0A7.0710678118654755,7.0710678118654755,0,1,1,7.0710678118654755,0\" style=\"fill: grey; stroke-width: 2; opacity: 0.7;\"></path><path transform=\"translate(250,145.71428571428572)\" d=\"M7.0710678118654755,0A7.0710678118654755,7.0710678118654755,0,1,1,-7.0710678118654755,0A7.0710678118654755,7.0710678118654755,0,1,1,7.0710678118654755,0\" style=\"fill: rgb(98, 167, 209); stroke-width: 2; opacity: 0.7;\"></path><path transform=\"translate(312.5,139.28571428571428)\" d=\"M7.0710678118654755,0A7.0710678118654755,7.0710678118654755,0,1,1,-7.0710678118654755,0A7.0710678118654755,7.0710678118654755,0,1,1,7.0710678118654755,0\" style=\"fill: grey; stroke-width: 2; opacity: 0.7;\"></path><path transform=\"translate(0,188.57142857142856)\" d=\"M7.0710678118654755,0A7.0710678118654755,7.0710678118654755,0,1,1,-7.0710678118654755,0A7.0710678118654755,7.0710678118654755,0,1,1,7.0710678118654755,0\" style=\"fill: grey; stroke-width: 2; opacity: 0.7;\"></path><path transform=\"translate(437.5,141.42857142857142)\" d=\"M7.0710678118654755,0A7.0710678118654755,7.0710678118654755,0,1,1,-7.0710678118654755,0A7.0710678118654755,7.0710678118654755,0,1,1,7.0710678118654755,0\" style=\"fill: grey; stroke-width: 2; opacity: 0.7;\"></path><path transform=\"translate(312.5,137.14285714285717)\" d=\"M7.0710678118654755,0A7.0710678118654755,7.0710678118654755,0,1,1,-7.0710678118654755,0A7.0710678118654755,7.0710678118654755,0,1,1,7.0710678118654755,0\" style=\"fill: grey; stroke-width: 2; opacity: 0.7;\"></path><path transform=\"translate(0,186.42857142857144)\" d=\"M7.0710678118654755,0A7.0710678118654755,7.0710678118654755,0,1,1,-7.0710678118654755,0A7.0710678118654755,7.0710678118654755,0,1,1,7.0710678118654755,0\" style=\"fill: grey; stroke-width: 2; opacity: 0.7;\"></path><path transform=\"translate(187.5,171.42857142857144)\" d=\"M7.0710678118654755,0A7.0710678118654755,7.0710678118654755,0,1,1,-7.0710678118654755,0A7.0710678118654755,7.0710678118654755,0,1,1,7.0710678118654755,0\" style=\"fill: grey; stroke-width: 2; opacity: 0.7;\"></path><path transform=\"translate(0,184.28571428571428)\" d=\"M7.0710678118654755,0A7.0710678118654755,7.0710678118654755,0,1,1,-7.0710678118654755,0A7.0710678118654755,7.0710678118654755,0,1,1,7.0710678118654755,0\" style=\"fill: grey; stroke-width: 2; opacity: 0.7;\"></path><path transform=\"translate(0,182.14285714285714)\" d=\"M7.0710678118654755,0A7.0710678118654755,7.0710678118654755,0,1,1,-7.0710678118654755,0A7.0710678118654755,7.0710678118654755,0,1,1,7.0710678118654755,0\" style=\"fill: grey; stroke-width: 2; opacity: 0.7;\"></path><path transform=\"translate(187.5,169.28571428571428)\" d=\"M7.0710678118654755,0A7.0710678118654755,7.0710678118654755,0,1,1,-7.0710678118654755,0A7.0710678118654755,7.0710678118654755,0,1,1,7.0710678118654755,0\" style=\"fill: grey; stroke-width: 2; opacity: 0.7;\"></path><path transform=\"translate(437.5,139.28571428571428)\" d=\"M7.0710678118654755,0A7.0710678118654755,7.0710678118654755,0,1,1,-7.0710678118654755,0A7.0710678118654755,7.0710678118654755,0,1,1,7.0710678118654755,0\" style=\"fill: grey; stroke-width: 2; opacity: 0.7;\"></path><path transform=\"translate(0,180)\" d=\"M7.0710678118654755,0A7.0710678118654755,7.0710678118654755,0,1,1,-7.0710678118654755,0A7.0710678118654755,7.0710678118654755,0,1,1,7.0710678118654755,0\" style=\"fill: grey; stroke-width: 2; opacity: 0.7;\"></path><path transform=\"translate(312.5,135)\" d=\"M7.0710678118654755,0A7.0710678118654755,7.0710678118654755,0,1,1,-7.0710678118654755,0A7.0710678118654755,7.0710678118654755,0,1,1,7.0710678118654755,0\" style=\"fill: grey; stroke-width: 2; opacity: 0.7;\"></path><path transform=\"translate(125,180)\" d=\"M7.0710678118654755,0A7.0710678118654755,7.0710678118654755,0,1,1,-7.0710678118654755,0A7.0710678118654755,7.0710678118654755,0,1,1,7.0710678118654755,0\" style=\"fill: grey; stroke-width: 2; opacity: 0.7;\"></path><path transform=\"translate(125,177.85714285714286)\" d=\"M7.0710678118654755,0A7.0710678118654755,7.0710678118654755,0,1,1,-7.0710678118654755,0A7.0710678118654755,7.0710678118654755,0,1,1,7.0710678118654755,0\" style=\"fill: grey; stroke-width: 2; opacity: 0.7;\"></path><path transform=\"translate(125,175.71428571428572)\" d=\"M7.0710678118654755,0A7.0710678118654755,7.0710678118654755,0,1,1,-7.0710678118654755,0A7.0710678118654755,7.0710678118654755,0,1,1,7.0710678118654755,0\" style=\"fill: grey; stroke-width: 2; opacity: 0.7;\"></path><path transform=\"translate(500,173.57142857142856)\" d=\"M7.0710678118654755,0A7.0710678118654755,7.0710678118654755,0,1,1,-7.0710678118654755,0A7.0710678118654755,7.0710678118654755,0,1,1,7.0710678118654755,0\" style=\"fill: grey; stroke-width: 2; opacity: 0.7;\"></path><path transform=\"translate(62.5,154.28571428571428)\" d=\"M7.0710678118654755,0A7.0710678118654755,7.0710678118654755,0,1,1,-7.0710678118654755,0A7.0710678118654755,7.0710678118654755,0,1,1,7.0710678118654755,0\" style=\"fill: grey; stroke-width: 2; opacity: 0.7;\"></path><path transform=\"translate(312.5,132.85714285714286)\" d=\"M7.0710678118654755,0A7.0710678118654755,7.0710678118654755,0,1,1,-7.0710678118654755,0A7.0710678118654755,7.0710678118654755,0,1,1,7.0710678118654755,0\" style=\"fill: grey; stroke-width: 2; opacity: 0.7;\"></path><path transform=\"translate(187.5,167.14285714285714)\" d=\"M7.0710678118654755,0A7.0710678118654755,7.0710678118654755,0,1,1,-7.0710678118654755,0A7.0710678118654755,7.0710678118654755,0,1,1,7.0710678118654755,0\" style=\"fill: grey; stroke-width: 2; opacity: 0.7;\"></path><path transform=\"translate(437.5,137.14285714285717)\" d=\"M7.0710678118654755,0A7.0710678118654755,7.0710678118654755,0,1,1,-7.0710678118654755,0A7.0710678118654755,7.0710678118654755,0,1,1,7.0710678118654755,0\" style=\"fill: grey; stroke-width: 2; opacity: 0.7;\"></path><path transform=\"translate(500,171.42857142857144)\" d=\"M7.0710678118654755,0A7.0710678118654755,7.0710678118654755,0,1,1,-7.0710678118654755,0A7.0710678118654755,7.0710678118654755,0,1,1,7.0710678118654755,0\" style=\"fill: grey; stroke-width: 2; opacity: 0.7;\"></path><path transform=\"translate(437.5,135)\" d=\"M7.0710678118654755,0A7.0710678118654755,7.0710678118654755,0,1,1,-7.0710678118654755,0A7.0710678118654755,7.0710678118654755,0,1,1,7.0710678118654755,0\" style=\"fill: grey; stroke-width: 2; opacity: 0.7;\"></path><path transform=\"translate(250,143.57142857142856)\" d=\"M7.0710678118654755,0A7.0710678118654755,7.0710678118654755,0,1,1,-7.0710678118654755,0A7.0710678118654755,7.0710678118654755,0,1,1,7.0710678118654755,0\" style=\"fill: rgb(39, 118, 182); stroke-width: 2; opacity: 0.7;\"></path><path transform=\"translate(62.5,152.14285714285714)\" d=\"M7.0710678118654755,0A7.0710678118654755,7.0710678118654755,0,1,1,-7.0710678118654755,0A7.0710678118654755,7.0710678118654755,0,1,1,7.0710678118654755,0\" style=\"fill: grey; stroke-width: 2; opacity: 0.7;\"></path><path transform=\"translate(375,171.42857142857144)\" d=\"M7.0710678118654755,0A7.0710678118654755,7.0710678118654755,0,1,1,-7.0710678118654755,0A7.0710678118654755,7.0710678118654755,0,1,1,7.0710678118654755,0\" style=\"fill: grey; stroke-width: 2; opacity: 0.7;\"></path><path transform=\"translate(312.5,130.71428571428572)\" d=\"M7.0710678118654755,0A7.0710678118654755,7.0710678118654755,0,1,1,-7.0710678118654755,0A7.0710678118654755,7.0710678118654755,0,1,1,7.0710678118654755,0\" style=\"fill: grey; stroke-width: 2; opacity: 0.7;\"></path><path transform=\"translate(312.5,128.57142857142858)\" d=\"M7.0710678118654755,0A7.0710678118654755,7.0710678118654755,0,1,1,-7.0710678118654755,0A7.0710678118654755,7.0710678118654755,0,1,1,7.0710678118654755,0\" style=\"fill: grey; stroke-width: 2; opacity: 0.7;\"></path><path transform=\"translate(500,169.28571428571428)\" d=\"M7.0710678118654755,0A7.0710678118654755,7.0710678118654755,0,1,1,-7.0710678118654755,0A7.0710678118654755,7.0710678118654755,0,1,1,7.0710678118654755,0\" style=\"fill: grey; stroke-width: 2; opacity: 0.7;\"></path><path transform=\"translate(0,177.85714285714286)\" d=\"M7.0710678118654755,0A7.0710678118654755,7.0710678118654755,0,1,1,-7.0710678118654755,0A7.0710678118654755,7.0710678118654755,0,1,1,7.0710678118654755,0\" style=\"fill: grey; stroke-width: 2; opacity: 0.7;\"></path><path transform=\"translate(187.5,165)\" d=\"M7.0710678118654755,0A7.0710678118654755,7.0710678118654755,0,1,1,-7.0710678118654755,0A7.0710678118654755,7.0710678118654755,0,1,1,7.0710678118654755,0\" style=\"fill: grey; stroke-width: 2; opacity: 0.7;\"></path><path transform=\"translate(187.5,162.85714285714286)\" d=\"M7.0710678118654755,0A7.0710678118654755,7.0710678118654755,0,1,1,-7.0710678118654755,0A7.0710678118654755,7.0710678118654755,0,1,1,7.0710678118654755,0\" style=\"fill: grey; stroke-width: 2; opacity: 0.7;\"></path><path transform=\"translate(125,173.57142857142856)\" d=\"M7.0710678118654755,0A7.0710678118654755,7.0710678118654755,0,1,1,-7.0710678118654755,0A7.0710678118654755,7.0710678118654755,0,1,1,7.0710678118654755,0\" style=\"fill: grey; stroke-width: 2; opacity: 0.7;\"></path><path transform=\"translate(250,141.42857142857142)\" d=\"M7.0710678118654755,0A7.0710678118654755,7.0710678118654755,0,1,1,-7.0710678118654755,0A7.0710678118654755,7.0710678118654755,0,1,1,7.0710678118654755,0\" style=\"fill: rgb(81, 155, 203); stroke-width: 2; opacity: 0.7;\"></path><path transform=\"translate(187.5,160.71428571428572)\" d=\"M7.0710678118654755,0A7.0710678118654755,7.0710678118654755,0,1,1,-7.0710678118654755,0A7.0710678118654755,7.0710678118654755,0,1,1,7.0710678118654755,0\" style=\"fill: grey; stroke-width: 2; opacity: 0.7;\"></path><path transform=\"translate(375,169.28571428571428)\" d=\"M7.0710678118654755,0A7.0710678118654755,7.0710678118654755,0,1,1,-7.0710678118654755,0A7.0710678118654755,7.0710678118654755,0,1,1,7.0710678118654755,0\" style=\"fill: grey; stroke-width: 2; opacity: 0.7;\"></path><path transform=\"translate(62.5,150)\" d=\"M7.0710678118654755,0A7.0710678118654755,7.0710678118654755,0,1,1,-7.0710678118654755,0A7.0710678118654755,7.0710678118654755,0,1,1,7.0710678118654755,0\" style=\"fill: grey; stroke-width: 2; opacity: 0.7;\"></path><path transform=\"translate(375,167.14285714285714)\" d=\"M7.0710678118654755,0A7.0710678118654755,7.0710678118654755,0,1,1,-7.0710678118654755,0A7.0710678118654755,7.0710678118654755,0,1,1,7.0710678118654755,0\" style=\"fill: grey; stroke-width: 2; opacity: 0.7;\"></path><path transform=\"translate(125,171.42857142857144)\" d=\"M7.0710678118654755,0A7.0710678118654755,7.0710678118654755,0,1,1,-7.0710678118654755,0A7.0710678118654755,7.0710678118654755,0,1,1,7.0710678118654755,0\" style=\"fill: grey; stroke-width: 2; opacity: 0.7;\"></path><path transform=\"translate(500,167.14285714285714)\" d=\"M7.0710678118654755,0A7.0710678118654755,7.0710678118654755,0,1,1,-7.0710678118654755,0A7.0710678118654755,7.0710678118654755,0,1,1,7.0710678118654755,0\" style=\"fill: grey; stroke-width: 2; opacity: 0.7;\"></path><path transform=\"translate(437.5,132.85714285714286)\" d=\"M7.0710678118654755,0A7.0710678118654755,7.0710678118654755,0,1,1,-7.0710678118654755,0A7.0710678118654755,7.0710678118654755,0,1,1,7.0710678118654755,0\" style=\"fill: grey; stroke-width: 2; opacity: 0.7;\"></path><path transform=\"translate(187.5,158.57142857142858)\" d=\"M7.0710678118654755,0A7.0710678118654755,7.0710678118654755,0,1,1,-7.0710678118654755,0A7.0710678118654755,7.0710678118654755,0,1,1,7.0710678118654755,0\" style=\"fill: grey; stroke-width: 2; opacity: 0.7;\"></path><path transform=\"translate(125,169.28571428571428)\" d=\"M7.0710678118654755,0A7.0710678118654755,7.0710678118654755,0,1,1,-7.0710678118654755,0A7.0710678118654755,7.0710678118654755,0,1,1,7.0710678118654755,0\" style=\"fill: grey; stroke-width: 2; opacity: 0.7;\"></path><path transform=\"translate(0,175.71428571428572)\" d=\"M7.0710678118654755,0A7.0710678118654755,7.0710678118654755,0,1,1,-7.0710678118654755,0A7.0710678118654755,7.0710678118654755,0,1,1,7.0710678118654755,0\" style=\"fill: grey; stroke-width: 2; opacity: 0.7;\"></path><path transform=\"translate(500,165)\" d=\"M7.0710678118654755,0A7.0710678118654755,7.0710678118654755,0,1,1,-7.0710678118654755,0A7.0710678118654755,7.0710678118654755,0,1,1,7.0710678118654755,0\" style=\"fill: grey; stroke-width: 2; opacity: 0.7;\"></path><path transform=\"translate(437.5,130.71428571428572)\" d=\"M7.0710678118654755,0A7.0710678118654755,7.0710678118654755,0,1,1,-7.0710678118654755,0A7.0710678118654755,7.0710678118654755,0,1,1,7.0710678118654755,0\" style=\"fill: grey; stroke-width: 2; opacity: 0.7;\"></path><path transform=\"translate(250,139.28571428571428)\" d=\"M7.0710678118654755,0A7.0710678118654755,7.0710678118654755,0,1,1,-7.0710678118654755,0A7.0710678118654755,7.0710678118654755,0,1,1,7.0710678118654755,0\" style=\"fill: rgb(162, 203, 227); stroke-width: 2; opacity: 0.7;\"></path><path transform=\"translate(312.5,126.42857142857142)\" d=\"M7.0710678118654755,0A7.0710678118654755,7.0710678118654755,0,1,1,-7.0710678118654755,0A7.0710678118654755,7.0710678118654755,0,1,1,7.0710678118654755,0\" style=\"fill: grey; stroke-width: 2; opacity: 0.7;\"></path><path transform=\"translate(312.5,124.28571428571428)\" d=\"M7.0710678118654755,0A7.0710678118654755,7.0710678118654755,0,1,1,-7.0710678118654755,0A7.0710678118654755,7.0710678118654755,0,1,1,7.0710678118654755,0\" style=\"fill: grey; stroke-width: 2; opacity: 0.7;\"></path><path transform=\"translate(375,165)\" d=\"M7.0710678118654755,0A7.0710678118654755,7.0710678118654755,0,1,1,-7.0710678118654755,0A7.0710678118654755,7.0710678118654755,0,1,1,7.0710678118654755,0\" style=\"fill: grey; stroke-width: 2; opacity: 0.7;\"></path><path transform=\"translate(125,167.14285714285714)\" d=\"M7.0710678118654755,0A7.0710678118654755,7.0710678118654755,0,1,1,-7.0710678118654755,0A7.0710678118654755,7.0710678118654755,0,1,1,7.0710678118654755,0\" style=\"fill: grey; stroke-width: 2; opacity: 0.7;\"></path><path transform=\"translate(62.5,147.85714285714286)\" d=\"M7.0710678118654755,0A7.0710678118654755,7.0710678118654755,0,1,1,-7.0710678118654755,0A7.0710678118654755,7.0710678118654755,0,1,1,7.0710678118654755,0\" style=\"fill: grey; stroke-width: 2; opacity: 0.7;\"></path><path transform=\"translate(437.5,128.57142857142858)\" d=\"M7.0710678118654755,0A7.0710678118654755,7.0710678118654755,0,1,1,-7.0710678118654755,0A7.0710678118654755,7.0710678118654755,0,1,1,7.0710678118654755,0\" style=\"fill: grey; stroke-width: 2; opacity: 0.7;\"></path><path transform=\"translate(125,165)\" d=\"M7.0710678118654755,0A7.0710678118654755,7.0710678118654755,0,1,1,-7.0710678118654755,0A7.0710678118654755,7.0710678118654755,0,1,1,7.0710678118654755,0\" style=\"fill: grey; stroke-width: 2; opacity: 0.7;\"></path><path transform=\"translate(312.5,122.14285714285714)\" d=\"M7.0710678118654755,0A7.0710678118654755,7.0710678118654755,0,1,1,-7.0710678118654755,0A7.0710678118654755,7.0710678118654755,0,1,1,7.0710678118654755,0\" style=\"fill: grey; stroke-width: 2; opacity: 0.7;\"></path><path transform=\"translate(62.5,145.71428571428572)\" d=\"M7.0710678118654755,0A7.0710678118654755,7.0710678118654755,0,1,1,-7.0710678118654755,0A7.0710678118654755,7.0710678118654755,0,1,1,7.0710678118654755,0\" style=\"fill: grey; stroke-width: 2; opacity: 0.7;\"></path><path transform=\"translate(0,173.57142857142856)\" d=\"M7.0710678118654755,0A7.0710678118654755,7.0710678118654755,0,1,1,-7.0710678118654755,0A7.0710678118654755,7.0710678118654755,0,1,1,7.0710678118654755,0\" style=\"fill: grey; stroke-width: 2; opacity: 0.7;\"></path><path transform=\"translate(187.5,156.42857142857142)\" d=\"M7.0710678118654755,0A7.0710678118654755,7.0710678118654755,0,1,1,-7.0710678118654755,0A7.0710678118654755,7.0710678118654755,0,1,1,7.0710678118654755,0\" style=\"fill: grey; stroke-width: 2; opacity: 0.7;\"></path><path transform=\"translate(62.5,143.57142857142856)\" d=\"M7.0710678118654755,0A7.0710678118654755,7.0710678118654755,0,1,1,-7.0710678118654755,0A7.0710678118654755,7.0710678118654755,0,1,1,7.0710678118654755,0\" style=\"fill: grey; stroke-width: 2; opacity: 0.7;\"></path><path transform=\"translate(500,162.85714285714286)\" d=\"M7.0710678118654755,0A7.0710678118654755,7.0710678118654755,0,1,1,-7.0710678118654755,0A7.0710678118654755,7.0710678118654755,0,1,1,7.0710678118654755,0\" style=\"fill: grey; stroke-width: 2; opacity: 0.7;\"></path><path transform=\"translate(500,160.71428571428572)\" d=\"M7.0710678118654755,0A7.0710678118654755,7.0710678118654755,0,1,1,-7.0710678118654755,0A7.0710678118654755,7.0710678118654755,0,1,1,7.0710678118654755,0\" style=\"fill: grey; stroke-width: 2; opacity: 0.7;\"></path><path transform=\"translate(437.5,126.42857142857142)\" d=\"M7.0710678118654755,0A7.0710678118654755,7.0710678118654755,0,1,1,-7.0710678118654755,0A7.0710678118654755,7.0710678118654755,0,1,1,7.0710678118654755,0\" style=\"fill: grey; stroke-width: 2; opacity: 0.7;\"></path><path transform=\"translate(0,171.42857142857144)\" d=\"M7.0710678118654755,0A7.0710678118654755,7.0710678118654755,0,1,1,-7.0710678118654755,0A7.0710678118654755,7.0710678118654755,0,1,1,7.0710678118654755,0\" style=\"fill: grey; stroke-width: 2; opacity: 0.7;\"></path><path transform=\"translate(0,169.28571428571428)\" d=\"M7.0710678118654755,0A7.0710678118654755,7.0710678118654755,0,1,1,-7.0710678118654755,0A7.0710678118654755,7.0710678118654755,0,1,1,7.0710678118654755,0\" style=\"fill: grey; stroke-width: 2; opacity: 0.7;\"></path><path transform=\"translate(187.5,154.28571428571428)\" d=\"M7.0710678118654755,0A7.0710678118654755,7.0710678118654755,0,1,1,-7.0710678118654755,0A7.0710678118654755,7.0710678118654755,0,1,1,7.0710678118654755,0\" style=\"fill: grey; stroke-width: 2; opacity: 0.7;\"></path><path transform=\"translate(0,167.14285714285714)\" d=\"M7.0710678118654755,0A7.0710678118654755,7.0710678118654755,0,1,1,-7.0710678118654755,0A7.0710678118654755,7.0710678118654755,0,1,1,7.0710678118654755,0\" style=\"fill: grey; stroke-width: 2; opacity: 0.7;\"></path><path transform=\"translate(62.5,141.42857142857142)\" d=\"M7.0710678118654755,0A7.0710678118654755,7.0710678118654755,0,1,1,-7.0710678118654755,0A7.0710678118654755,7.0710678118654755,0,1,1,7.0710678118654755,0\" style=\"fill: grey; stroke-width: 2; opacity: 0.7;\"></path><path transform=\"translate(125,162.85714285714286)\" d=\"M7.0710678118654755,0A7.0710678118654755,7.0710678118654755,0,1,1,-7.0710678118654755,0A7.0710678118654755,7.0710678118654755,0,1,1,7.0710678118654755,0\" style=\"fill: grey; stroke-width: 2; opacity: 0.7;\"></path><path transform=\"translate(250,137.14285714285717)\" d=\"M7.0710678118654755,0A7.0710678118654755,7.0710678118654755,0,1,1,-7.0710678118654755,0A7.0710678118654755,7.0710678118654755,0,1,1,7.0710678118654755,0\" style=\"fill: rgb(42, 122, 185); stroke-width: 2; opacity: 0.7;\"></path><path transform=\"translate(312.5,120)\" d=\"M7.0710678118654755,0A7.0710678118654755,7.0710678118654755,0,1,1,-7.0710678118654755,0A7.0710678118654755,7.0710678118654755,0,1,1,7.0710678118654755,0\" style=\"fill: grey; stroke-width: 2; opacity: 0.7;\"></path><path transform=\"translate(375,162.85714285714286)\" d=\"M7.0710678118654755,0A7.0710678118654755,7.0710678118654755,0,1,1,-7.0710678118654755,0A7.0710678118654755,7.0710678118654755,0,1,1,7.0710678118654755,0\" style=\"fill: grey; stroke-width: 2; opacity: 0.7;\"></path><path transform=\"translate(375,160.71428571428572)\" d=\"M7.0710678118654755,0A7.0710678118654755,7.0710678118654755,0,1,1,-7.0710678118654755,0A7.0710678118654755,7.0710678118654755,0,1,1,7.0710678118654755,0\" style=\"fill: grey; stroke-width: 2; opacity: 0.7;\"></path><path transform=\"translate(187.5,152.14285714285714)\" d=\"M7.0710678118654755,0A7.0710678118654755,7.0710678118654755,0,1,1,-7.0710678118654755,0A7.0710678118654755,7.0710678118654755,0,1,1,7.0710678118654755,0\" style=\"fill: grey; stroke-width: 2; opacity: 0.7;\"></path><path transform=\"translate(312.5,117.85714285714286)\" d=\"M7.0710678118654755,0A7.0710678118654755,7.0710678118654755,0,1,1,-7.0710678118654755,0A7.0710678118654755,7.0710678118654755,0,1,1,7.0710678118654755,0\" style=\"fill: grey; stroke-width: 2; opacity: 0.7;\"></path><path transform=\"translate(0,165)\" d=\"M7.0710678118654755,0A7.0710678118654755,7.0710678118654755,0,1,1,-7.0710678118654755,0A7.0710678118654755,7.0710678118654755,0,1,1,7.0710678118654755,0\" style=\"fill: grey; stroke-width: 2; opacity: 0.7;\"></path><path transform=\"translate(125,160.71428571428572)\" d=\"M7.0710678118654755,0A7.0710678118654755,7.0710678118654755,0,1,1,-7.0710678118654755,0A7.0710678118654755,7.0710678118654755,0,1,1,7.0710678118654755,0\" style=\"fill: grey; stroke-width: 2; opacity: 0.7;\"></path><path transform=\"translate(375,158.57142857142858)\" d=\"M7.0710678118654755,0A7.0710678118654755,7.0710678118654755,0,1,1,-7.0710678118654755,0A7.0710678118654755,7.0710678118654755,0,1,1,7.0710678118654755,0\" style=\"fill: grey; stroke-width: 2; opacity: 0.7;\"></path><path transform=\"translate(125,158.57142857142858)\" d=\"M7.0710678118654755,0A7.0710678118654755,7.0710678118654755,0,1,1,-7.0710678118654755,0A7.0710678118654755,7.0710678118654755,0,1,1,7.0710678118654755,0\" style=\"fill: grey; stroke-width: 2; opacity: 0.7;\"></path><path transform=\"translate(312.5,115.7142857142857)\" d=\"M7.0710678118654755,0A7.0710678118654755,7.0710678118654755,0,1,1,-7.0710678118654755,0A7.0710678118654755,7.0710678118654755,0,1,1,7.0710678118654755,0\" style=\"fill: grey; stroke-width: 2; opacity: 0.7;\"></path><path transform=\"translate(250,135)\" d=\"M7.0710678118654755,0A7.0710678118654755,7.0710678118654755,0,1,1,-7.0710678118654755,0A7.0710678118654755,7.0710678118654755,0,1,1,7.0710678118654755,0\" style=\"fill: rgb(67, 144, 197); stroke-width: 2; opacity: 0.7;\"></path><path transform=\"translate(187.5,150)\" d=\"M7.0710678118654755,0A7.0710678118654755,7.0710678118654755,0,1,1,-7.0710678118654755,0A7.0710678118654755,7.0710678118654755,0,1,1,7.0710678118654755,0\" style=\"fill: grey; stroke-width: 2; opacity: 0.7;\"></path><path transform=\"translate(0,162.85714285714286)\" d=\"M7.0710678118654755,0A7.0710678118654755,7.0710678118654755,0,1,1,-7.0710678118654755,0A7.0710678118654755,7.0710678118654755,0,1,1,7.0710678118654755,0\" style=\"fill: grey; stroke-width: 2; opacity: 0.7;\"></path><path transform=\"translate(125,156.42857142857142)\" d=\"M7.0710678118654755,0A7.0710678118654755,7.0710678118654755,0,1,1,-7.0710678118654755,0A7.0710678118654755,7.0710678118654755,0,1,1,7.0710678118654755,0\" style=\"fill: grey; stroke-width: 2; opacity: 0.7;\"></path><path transform=\"translate(437.5,124.28571428571428)\" d=\"M7.0710678118654755,0A7.0710678118654755,7.0710678118654755,0,1,1,-7.0710678118654755,0A7.0710678118654755,7.0710678118654755,0,1,1,7.0710678118654755,0\" style=\"fill: grey; stroke-width: 2; opacity: 0.7;\"></path><path transform=\"translate(312.5,113.57142857142856)\" d=\"M7.0710678118654755,0A7.0710678118654755,7.0710678118654755,0,1,1,-7.0710678118654755,0A7.0710678118654755,7.0710678118654755,0,1,1,7.0710678118654755,0\" style=\"fill: grey; stroke-width: 2; opacity: 0.7;\"></path><path transform=\"translate(0,160.71428571428572)\" d=\"M7.0710678118654755,0A7.0710678118654755,7.0710678118654755,0,1,1,-7.0710678118654755,0A7.0710678118654755,7.0710678118654755,0,1,1,7.0710678118654755,0\" style=\"fill: grey; stroke-width: 2; opacity: 0.7;\"></path><path transform=\"translate(62.5,139.28571428571428)\" d=\"M7.0710678118654755,0A7.0710678118654755,7.0710678118654755,0,1,1,-7.0710678118654755,0A7.0710678118654755,7.0710678118654755,0,1,1,7.0710678118654755,0\" style=\"fill: grey; stroke-width: 2; opacity: 0.7;\"></path><path transform=\"translate(500,158.57142857142858)\" d=\"M7.0710678118654755,0A7.0710678118654755,7.0710678118654755,0,1,1,-7.0710678118654755,0A7.0710678118654755,7.0710678118654755,0,1,1,7.0710678118654755,0\" style=\"fill: grey; stroke-width: 2; opacity: 0.7;\"></path><path transform=\"translate(62.5,137.14285714285717)\" d=\"M7.0710678118654755,0A7.0710678118654755,7.0710678118654755,0,1,1,-7.0710678118654755,0A7.0710678118654755,7.0710678118654755,0,1,1,7.0710678118654755,0\" style=\"fill: grey; stroke-width: 2; opacity: 0.7;\"></path><path transform=\"translate(125,154.28571428571428)\" d=\"M7.0710678118654755,0A7.0710678118654755,7.0710678118654755,0,1,1,-7.0710678118654755,0A7.0710678118654755,7.0710678118654755,0,1,1,7.0710678118654755,0\" style=\"fill: grey; stroke-width: 2; opacity: 0.7;\"></path><path transform=\"translate(437.5,122.14285714285714)\" d=\"M7.0710678118654755,0A7.0710678118654755,7.0710678118654755,0,1,1,-7.0710678118654755,0A7.0710678118654755,7.0710678118654755,0,1,1,7.0710678118654755,0\" style=\"fill: grey; stroke-width: 2; opacity: 0.7;\"></path><path transform=\"translate(0,158.57142857142858)\" d=\"M7.0710678118654755,0A7.0710678118654755,7.0710678118654755,0,1,1,-7.0710678118654755,0A7.0710678118654755,7.0710678118654755,0,1,1,7.0710678118654755,0\" style=\"fill: grey; stroke-width: 2; opacity: 0.7;\"></path><path transform=\"translate(187.5,147.85714285714286)\" d=\"M7.0710678118654755,0A7.0710678118654755,7.0710678118654755,0,1,1,-7.0710678118654755,0A7.0710678118654755,7.0710678118654755,0,1,1,7.0710678118654755,0\" style=\"fill: grey; stroke-width: 2; opacity: 0.7;\"></path><path transform=\"translate(375,156.42857142857142)\" d=\"M7.0710678118654755,0A7.0710678118654755,7.0710678118654755,0,1,1,-7.0710678118654755,0A7.0710678118654755,7.0710678118654755,0,1,1,7.0710678118654755,0\" style=\"fill: grey; stroke-width: 2; opacity: 0.7;\"></path><path transform=\"translate(437.5,120)\" d=\"M7.0710678118654755,0A7.0710678118654755,7.0710678118654755,0,1,1,-7.0710678118654755,0A7.0710678118654755,7.0710678118654755,0,1,1,7.0710678118654755,0\" style=\"fill: grey; stroke-width: 2; opacity: 0.7;\"></path><path transform=\"translate(500,156.42857142857142)\" d=\"M7.0710678118654755,0A7.0710678118654755,7.0710678118654755,0,1,1,-7.0710678118654755,0A7.0710678118654755,7.0710678118654755,0,1,1,7.0710678118654755,0\" style=\"fill: grey; stroke-width: 2; opacity: 0.7;\"></path><path transform=\"translate(187.5,145.71428571428572)\" d=\"M7.0710678118654755,0A7.0710678118654755,7.0710678118654755,0,1,1,-7.0710678118654755,0A7.0710678118654755,7.0710678118654755,0,1,1,7.0710678118654755,0\" style=\"fill: grey; stroke-width: 2; opacity: 0.7;\"></path><path transform=\"translate(250,132.85714285714286)\" d=\"M7.0710678118654755,0A7.0710678118654755,7.0710678118654755,0,1,1,-7.0710678118654755,0A7.0710678118654755,7.0710678118654755,0,1,1,7.0710678118654755,0\" style=\"fill: rgb(127, 184, 218); stroke-width: 2; opacity: 0.7;\"></path><path transform=\"translate(437.5,117.85714285714286)\" d=\"M7.0710678118654755,0A7.0710678118654755,7.0710678118654755,0,1,1,-7.0710678118654755,0A7.0710678118654755,7.0710678118654755,0,1,1,7.0710678118654755,0\" style=\"fill: grey; stroke-width: 2; opacity: 0.7;\"></path><path transform=\"translate(250,130.71428571428572)\" d=\"M7.0710678118654755,0A7.0710678118654755,7.0710678118654755,0,1,1,-7.0710678118654755,0A7.0710678118654755,7.0710678118654755,0,1,1,7.0710678118654755,0\" style=\"fill: rgb(95, 166, 208); stroke-width: 2; opacity: 0.7;\"></path><path transform=\"translate(500,154.28571428571428)\" d=\"M7.0710678118654755,0A7.0710678118654755,7.0710678118654755,0,1,1,-7.0710678118654755,0A7.0710678118654755,7.0710678118654755,0,1,1,7.0710678118654755,0\" style=\"fill: grey; stroke-width: 2; opacity: 0.7;\"></path><path transform=\"translate(437.5,115.7142857142857)\" d=\"M7.0710678118654755,0A7.0710678118654755,7.0710678118654755,0,1,1,-7.0710678118654755,0A7.0710678118654755,7.0710678118654755,0,1,1,7.0710678118654755,0\" style=\"fill: grey; stroke-width: 2; opacity: 0.7;\"></path><path transform=\"translate(375,154.28571428571428)\" d=\"M7.0710678118654755,0A7.0710678118654755,7.0710678118654755,0,1,1,-7.0710678118654755,0A7.0710678118654755,7.0710678118654755,0,1,1,7.0710678118654755,0\" style=\"fill: grey; stroke-width: 2; opacity: 0.7;\"></path><path transform=\"translate(500,152.14285714285714)\" d=\"M7.0710678118654755,0A7.0710678118654755,7.0710678118654755,0,1,1,-7.0710678118654755,0A7.0710678118654755,7.0710678118654755,0,1,1,7.0710678118654755,0\" style=\"fill: grey; stroke-width: 2; opacity: 0.7;\"></path><path transform=\"translate(500,150)\" d=\"M7.0710678118654755,0A7.0710678118654755,7.0710678118654755,0,1,1,-7.0710678118654755,0A7.0710678118654755,7.0710678118654755,0,1,1,7.0710678118654755,0\" style=\"fill: grey; stroke-width: 2; opacity: 0.7;\"></path><path transform=\"translate(312.5,111.42857142857144)\" d=\"M7.0710678118654755,0A7.0710678118654755,7.0710678118654755,0,1,1,-7.0710678118654755,0A7.0710678118654755,7.0710678118654755,0,1,1,7.0710678118654755,0\" style=\"fill: grey; stroke-width: 2; opacity: 0.7;\"></path><path transform=\"translate(250,128.57142857142858)\" d=\"M7.0710678118654755,0A7.0710678118654755,7.0710678118654755,0,1,1,-7.0710678118654755,0A7.0710678118654755,7.0710678118654755,0,1,1,7.0710678118654755,0\" style=\"fill: rgb(109, 174, 213); stroke-width: 2; opacity: 0.7;\"></path><path transform=\"translate(62.5,135)\" d=\"M7.0710678118654755,0A7.0710678118654755,7.0710678118654755,0,1,1,-7.0710678118654755,0A7.0710678118654755,7.0710678118654755,0,1,1,7.0710678118654755,0\" style=\"fill: grey; stroke-width: 2; opacity: 0.7;\"></path><path transform=\"translate(250,126.42857142857142)\" d=\"M7.0710678118654755,0A7.0710678118654755,7.0710678118654755,0,1,1,-7.0710678118654755,0A7.0710678118654755,7.0710678118654755,0,1,1,7.0710678118654755,0\" style=\"fill: rgb(57, 136, 193); stroke-width: 2; opacity: 0.7;\"></path><path transform=\"translate(312.5,109.2857142857143)\" d=\"M7.0710678118654755,0A7.0710678118654755,7.0710678118654755,0,1,1,-7.0710678118654755,0A7.0710678118654755,7.0710678118654755,0,1,1,7.0710678118654755,0\" style=\"fill: grey; stroke-width: 2; opacity: 0.7;\"></path><path transform=\"translate(125,152.14285714285714)\" d=\"M7.0710678118654755,0A7.0710678118654755,7.0710678118654755,0,1,1,-7.0710678118654755,0A7.0710678118654755,7.0710678118654755,0,1,1,7.0710678118654755,0\" style=\"fill: grey; stroke-width: 2; opacity: 0.7;\"></path><path transform=\"translate(437.5,113.57142857142856)\" d=\"M7.0710678118654755,0A7.0710678118654755,7.0710678118654755,0,1,1,-7.0710678118654755,0A7.0710678118654755,7.0710678118654755,0,1,1,7.0710678118654755,0\" style=\"fill: grey; stroke-width: 2; opacity: 0.7;\"></path><path transform=\"translate(500,147.85714285714286)\" d=\"M7.0710678118654755,0A7.0710678118654755,7.0710678118654755,0,1,1,-7.0710678118654755,0A7.0710678118654755,7.0710678118654755,0,1,1,7.0710678118654755,0\" style=\"fill: grey; stroke-width: 2; opacity: 0.7;\"></path><path transform=\"translate(62.5,132.85714285714286)\" d=\"M7.0710678118654755,0A7.0710678118654755,7.0710678118654755,0,1,1,-7.0710678118654755,0A7.0710678118654755,7.0710678118654755,0,1,1,7.0710678118654755,0\" style=\"fill: grey; stroke-width: 2; opacity: 0.7;\"></path><path transform=\"translate(62.5,130.71428571428572)\" d=\"M7.0710678118654755,0A7.0710678118654755,7.0710678118654755,0,1,1,-7.0710678118654755,0A7.0710678118654755,7.0710678118654755,0,1,1,7.0710678118654755,0\" style=\"fill: grey; stroke-width: 2; opacity: 0.7;\"></path><path transform=\"translate(500,145.71428571428572)\" d=\"M7.0710678118654755,0A7.0710678118654755,7.0710678118654755,0,1,1,-7.0710678118654755,0A7.0710678118654755,7.0710678118654755,0,1,1,7.0710678118654755,0\" style=\"fill: grey; stroke-width: 2; opacity: 0.7;\"></path><path transform=\"translate(375,152.14285714285714)\" d=\"M7.0710678118654755,0A7.0710678118654755,7.0710678118654755,0,1,1,-7.0710678118654755,0A7.0710678118654755,7.0710678118654755,0,1,1,7.0710678118654755,0\" style=\"fill: grey; stroke-width: 2; opacity: 0.7;\"></path><path transform=\"translate(375,150)\" d=\"M7.0710678118654755,0A7.0710678118654755,7.0710678118654755,0,1,1,-7.0710678118654755,0A7.0710678118654755,7.0710678118654755,0,1,1,7.0710678118654755,0\" style=\"fill: grey; stroke-width: 2; opacity: 0.7;\"></path><path transform=\"translate(312.5,107.14285714285714)\" d=\"M7.0710678118654755,0A7.0710678118654755,7.0710678118654755,0,1,1,-7.0710678118654755,0A7.0710678118654755,7.0710678118654755,0,1,1,7.0710678118654755,0\" style=\"fill: grey; stroke-width: 2; opacity: 0.7;\"></path><path transform=\"translate(250,124.28571428571428)\" d=\"M7.0710678118654755,0A7.0710678118654755,7.0710678118654755,0,1,1,-7.0710678118654755,0A7.0710678118654755,7.0710678118654755,0,1,1,7.0710678118654755,0\" style=\"fill: rgb(67, 144, 197); stroke-width: 2; opacity: 0.7;\"></path><path transform=\"translate(312.5,105)\" d=\"M7.0710678118654755,0A7.0710678118654755,7.0710678118654755,0,1,1,-7.0710678118654755,0A7.0710678118654755,7.0710678118654755,0,1,1,7.0710678118654755,0\" style=\"fill: grey; stroke-width: 2; opacity: 0.7;\"></path><path transform=\"translate(125,150)\" d=\"M7.0710678118654755,0A7.0710678118654755,7.0710678118654755,0,1,1,-7.0710678118654755,0A7.0710678118654755,7.0710678118654755,0,1,1,7.0710678118654755,0\" style=\"fill: grey; stroke-width: 2; opacity: 0.7;\"></path><path transform=\"translate(0,156.42857142857142)\" d=\"M7.0710678118654755,0A7.0710678118654755,7.0710678118654755,0,1,1,-7.0710678118654755,0A7.0710678118654755,7.0710678118654755,0,1,1,7.0710678118654755,0\" style=\"fill: grey; stroke-width: 2; opacity: 0.7;\"></path><path transform=\"translate(62.5,128.57142857142858)\" d=\"M7.0710678118654755,0A7.0710678118654755,7.0710678118654755,0,1,1,-7.0710678118654755,0A7.0710678118654755,7.0710678118654755,0,1,1,7.0710678118654755,0\" style=\"fill: grey; stroke-width: 2; opacity: 0.7;\"></path><path transform=\"translate(125,147.85714285714286)\" d=\"M7.0710678118654755,0A7.0710678118654755,7.0710678118654755,0,1,1,-7.0710678118654755,0A7.0710678118654755,7.0710678118654755,0,1,1,7.0710678118654755,0\" style=\"fill: grey; stroke-width: 2; opacity: 0.7;\"></path><path transform=\"translate(437.5,111.42857142857144)\" d=\"M7.0710678118654755,0A7.0710678118654755,7.0710678118654755,0,1,1,-7.0710678118654755,0A7.0710678118654755,7.0710678118654755,0,1,1,7.0710678118654755,0\" style=\"fill: grey; stroke-width: 2; opacity: 0.7;\"></path><path transform=\"translate(62.5,126.42857142857142)\" d=\"M7.0710678118654755,0A7.0710678118654755,7.0710678118654755,0,1,1,-7.0710678118654755,0A7.0710678118654755,7.0710678118654755,0,1,1,7.0710678118654755,0\" style=\"fill: grey; stroke-width: 2; opacity: 0.7;\"></path><path transform=\"translate(0,154.28571428571428)\" d=\"M7.0710678118654755,0A7.0710678118654755,7.0710678118654755,0,1,1,-7.0710678118654755,0A7.0710678118654755,7.0710678118654755,0,1,1,7.0710678118654755,0\" style=\"fill: grey; stroke-width: 2; opacity: 0.7;\"></path><path transform=\"translate(437.5,109.2857142857143)\" d=\"M7.0710678118654755,0A7.0710678118654755,7.0710678118654755,0,1,1,-7.0710678118654755,0A7.0710678118654755,7.0710678118654755,0,1,1,7.0710678118654755,0\" style=\"fill: grey; stroke-width: 2; opacity: 0.7;\"></path><path transform=\"translate(250,122.14285714285714)\" d=\"M7.0710678118654755,0A7.0710678118654755,7.0710678118654755,0,1,1,-7.0710678118654755,0A7.0710678118654755,7.0710678118654755,0,1,1,7.0710678118654755,0\" style=\"fill: rgb(54, 133, 191); stroke-width: 2; opacity: 0.7;\"></path><path transform=\"translate(250,120)\" d=\"M7.0710678118654755,0A7.0710678118654755,7.0710678118654755,0,1,1,-7.0710678118654755,0A7.0710678118654755,7.0710678118654755,0,1,1,7.0710678118654755,0\" style=\"fill: rgb(168, 206, 229); stroke-width: 2; opacity: 0.7;\"></path><path transform=\"translate(375,147.85714285714286)\" d=\"M7.0710678118654755,0A7.0710678118654755,7.0710678118654755,0,1,1,-7.0710678118654755,0A7.0710678118654755,7.0710678118654755,0,1,1,7.0710678118654755,0\" style=\"fill: grey; stroke-width: 2; opacity: 0.7;\"></path><path transform=\"translate(500,143.57142857142856)\" d=\"M7.0710678118654755,0A7.0710678118654755,7.0710678118654755,0,1,1,-7.0710678118654755,0A7.0710678118654755,7.0710678118654755,0,1,1,7.0710678118654755,0\" style=\"fill: grey; stroke-width: 2; opacity: 0.7;\"></path><path transform=\"translate(500,141.42857142857142)\" d=\"M7.0710678118654755,0A7.0710678118654755,7.0710678118654755,0,1,1,-7.0710678118654755,0A7.0710678118654755,7.0710678118654755,0,1,1,7.0710678118654755,0\" style=\"fill: grey; stroke-width: 2; opacity: 0.7;\"></path><path transform=\"translate(187.5,143.57142857142856)\" d=\"M7.0710678118654755,0A7.0710678118654755,7.0710678118654755,0,1,1,-7.0710678118654755,0A7.0710678118654755,7.0710678118654755,0,1,1,7.0710678118654755,0\" style=\"fill: grey; stroke-width: 2; opacity: 0.7;\"></path><path transform=\"translate(250,117.85714285714286)\" d=\"M7.0710678118654755,0A7.0710678118654755,7.0710678118654755,0,1,1,-7.0710678118654755,0A7.0710678118654755,7.0710678118654755,0,1,1,7.0710678118654755,0\" style=\"fill: rgb(137, 190, 220); stroke-width: 2; opacity: 0.7;\"></path><path transform=\"translate(0,152.14285714285714)\" d=\"M7.0710678118654755,0A7.0710678118654755,7.0710678118654755,0,1,1,-7.0710678118654755,0A7.0710678118654755,7.0710678118654755,0,1,1,7.0710678118654755,0\" style=\"fill: grey; stroke-width: 2; opacity: 0.7;\"></path><path transform=\"translate(375,145.71428571428572)\" d=\"M7.0710678118654755,0A7.0710678118654755,7.0710678118654755,0,1,1,-7.0710678118654755,0A7.0710678118654755,7.0710678118654755,0,1,1,7.0710678118654755,0\" style=\"fill: grey; stroke-width: 2; opacity: 0.7;\"></path><path transform=\"translate(125,145.71428571428572)\" d=\"M7.0710678118654755,0A7.0710678118654755,7.0710678118654755,0,1,1,-7.0710678118654755,0A7.0710678118654755,7.0710678118654755,0,1,1,7.0710678118654755,0\" style=\"fill: grey; stroke-width: 2; opacity: 0.7;\"></path><path transform=\"translate(437.5,107.14285714285714)\" d=\"M7.0710678118654755,0A7.0710678118654755,7.0710678118654755,0,1,1,-7.0710678118654755,0A7.0710678118654755,7.0710678118654755,0,1,1,7.0710678118654755,0\" style=\"fill: grey; stroke-width: 2; opacity: 0.7;\"></path><path transform=\"translate(0,150)\" d=\"M7.0710678118654755,0A7.0710678118654755,7.0710678118654755,0,1,1,-7.0710678118654755,0A7.0710678118654755,7.0710678118654755,0,1,1,7.0710678118654755,0\" style=\"fill: grey; stroke-width: 2; opacity: 0.7;\"></path><path transform=\"translate(375,143.57142857142856)\" d=\"M7.0710678118654755,0A7.0710678118654755,7.0710678118654755,0,1,1,-7.0710678118654755,0A7.0710678118654755,7.0710678118654755,0,1,1,7.0710678118654755,0\" style=\"fill: grey; stroke-width: 2; opacity: 0.7;\"></path><path transform=\"translate(312.5,102.85714285714286)\" d=\"M7.0710678118654755,0A7.0710678118654755,7.0710678118654755,0,1,1,-7.0710678118654755,0A7.0710678118654755,7.0710678118654755,0,1,1,7.0710678118654755,0\" style=\"fill: grey; stroke-width: 2; opacity: 0.7;\"></path><path transform=\"translate(0,147.85714285714286)\" d=\"M7.0710678118654755,0A7.0710678118654755,7.0710678118654755,0,1,1,-7.0710678118654755,0A7.0710678118654755,7.0710678118654755,0,1,1,7.0710678118654755,0\" style=\"fill: grey; stroke-width: 2; opacity: 0.7;\"></path><path transform=\"translate(125,143.57142857142856)\" d=\"M7.0710678118654755,0A7.0710678118654755,7.0710678118654755,0,1,1,-7.0710678118654755,0A7.0710678118654755,7.0710678118654755,0,1,1,7.0710678118654755,0\" style=\"fill: grey; stroke-width: 2; opacity: 0.7;\"></path><path transform=\"translate(0,145.71428571428572)\" d=\"M7.0710678118654755,0A7.0710678118654755,7.0710678118654755,0,1,1,-7.0710678118654755,0A7.0710678118654755,7.0710678118654755,0,1,1,7.0710678118654755,0\" style=\"fill: grey; stroke-width: 2; opacity: 0.7;\"></path><path transform=\"translate(500,139.28571428571428)\" d=\"M7.0710678118654755,0A7.0710678118654755,7.0710678118654755,0,1,1,-7.0710678118654755,0A7.0710678118654755,7.0710678118654755,0,1,1,7.0710678118654755,0\" style=\"fill: grey; stroke-width: 2; opacity: 0.7;\"></path><path transform=\"translate(437.5,105)\" d=\"M7.0710678118654755,0A7.0710678118654755,7.0710678118654755,0,1,1,-7.0710678118654755,0A7.0710678118654755,7.0710678118654755,0,1,1,7.0710678118654755,0\" style=\"fill: grey; stroke-width: 2; opacity: 0.7;\"></path><path transform=\"translate(62.5,124.28571428571428)\" d=\"M7.0710678118654755,0A7.0710678118654755,7.0710678118654755,0,1,1,-7.0710678118654755,0A7.0710678118654755,7.0710678118654755,0,1,1,7.0710678118654755,0\" style=\"fill: grey; stroke-width: 2; opacity: 0.7;\"></path><path transform=\"translate(250,115.7142857142857)\" d=\"M7.0710678118654755,0A7.0710678118654755,7.0710678118654755,0,1,1,-7.0710678118654755,0A7.0710678118654755,7.0710678118654755,0,1,1,7.0710678118654755,0\" style=\"fill: rgb(105, 172, 212); stroke-width: 2; opacity: 0.7;\"></path><path transform=\"translate(0,143.57142857142856)\" d=\"M7.0710678118654755,0A7.0710678118654755,7.0710678118654755,0,1,1,-7.0710678118654755,0A7.0710678118654755,7.0710678118654755,0,1,1,7.0710678118654755,0\" style=\"fill: grey; stroke-width: 2; opacity: 0.7;\"></path><path transform=\"translate(62.5,122.14285714285714)\" d=\"M7.0710678118654755,0A7.0710678118654755,7.0710678118654755,0,1,1,-7.0710678118654755,0A7.0710678118654755,7.0710678118654755,0,1,1,7.0710678118654755,0\" style=\"fill: grey; stroke-width: 2; opacity: 0.7;\"></path><path transform=\"translate(0,141.42857142857142)\" d=\"M7.0710678118654755,0A7.0710678118654755,7.0710678118654755,0,1,1,-7.0710678118654755,0A7.0710678118654755,7.0710678118654755,0,1,1,7.0710678118654755,0\" style=\"fill: grey; stroke-width: 2; opacity: 0.7;\"></path><path transform=\"translate(312.5,100.71428571428572)\" d=\"M7.0710678118654755,0A7.0710678118654755,7.0710678118654755,0,1,1,-7.0710678118654755,0A7.0710678118654755,7.0710678118654755,0,1,1,7.0710678118654755,0\" style=\"fill: grey; stroke-width: 2; opacity: 0.7;\"></path><path transform=\"translate(375,141.42857142857142)\" d=\"M7.0710678118654755,0A7.0710678118654755,7.0710678118654755,0,1,1,-7.0710678118654755,0A7.0710678118654755,7.0710678118654755,0,1,1,7.0710678118654755,0\" style=\"fill: grey; stroke-width: 2; opacity: 0.7;\"></path><path transform=\"translate(62.5,120)\" d=\"M7.0710678118654755,0A7.0710678118654755,7.0710678118654755,0,1,1,-7.0710678118654755,0A7.0710678118654755,7.0710678118654755,0,1,1,7.0710678118654755,0\" style=\"fill: grey; stroke-width: 2; opacity: 0.7;\"></path><path transform=\"translate(312.5,98.57142857142858)\" d=\"M7.0710678118654755,0A7.0710678118654755,7.0710678118654755,0,1,1,-7.0710678118654755,0A7.0710678118654755,7.0710678118654755,0,1,1,7.0710678118654755,0\" style=\"fill: grey; stroke-width: 2; opacity: 0.7;\"></path><path transform=\"translate(250,113.57142857142856)\" d=\"M7.0710678118654755,0A7.0710678118654755,7.0710678118654755,0,1,1,-7.0710678118654755,0A7.0710678118654755,7.0710678118654755,0,1,1,7.0710678118654755,0\" style=\"fill: rgb(124, 182, 217); stroke-width: 2; opacity: 0.7;\"></path><path transform=\"translate(312.5,96.42857142857142)\" d=\"M7.0710678118654755,0A7.0710678118654755,7.0710678118654755,0,1,1,-7.0710678118654755,0A7.0710678118654755,7.0710678118654755,0,1,1,7.0710678118654755,0\" style=\"fill: grey; stroke-width: 2; opacity: 0.7;\"></path><path transform=\"translate(375,139.28571428571428)\" d=\"M7.0710678118654755,0A7.0710678118654755,7.0710678118654755,0,1,1,-7.0710678118654755,0A7.0710678118654755,7.0710678118654755,0,1,1,7.0710678118654755,0\" style=\"fill: grey; stroke-width: 2; opacity: 0.7;\"></path><path transform=\"translate(312.5,94.28571428571428)\" d=\"M7.0710678118654755,0A7.0710678118654755,7.0710678118654755,0,1,1,-7.0710678118654755,0A7.0710678118654755,7.0710678118654755,0,1,1,7.0710678118654755,0\" style=\"fill: grey; stroke-width: 2; opacity: 0.7;\"></path><path transform=\"translate(62.5,117.85714285714286)\" d=\"M7.0710678118654755,0A7.0710678118654755,7.0710678118654755,0,1,1,-7.0710678118654755,0A7.0710678118654755,7.0710678118654755,0,1,1,7.0710678118654755,0\" style=\"fill: grey; stroke-width: 2; opacity: 0.7;\"></path><path transform=\"translate(0,139.28571428571428)\" d=\"M7.0710678118654755,0A7.0710678118654755,7.0710678118654755,0,1,1,-7.0710678118654755,0A7.0710678118654755,7.0710678118654755,0,1,1,7.0710678118654755,0\" style=\"fill: grey; stroke-width: 2; opacity: 0.7;\"></path><path transform=\"translate(437.5,102.85714285714286)\" d=\"M7.0710678118654755,0A7.0710678118654755,7.0710678118654755,0,1,1,-7.0710678118654755,0A7.0710678118654755,7.0710678118654755,0,1,1,7.0710678118654755,0\" style=\"fill: grey; stroke-width: 2; opacity: 0.7;\"></path><path transform=\"translate(250,111.42857142857144)\" d=\"M7.0710678118654755,0A7.0710678118654755,7.0710678118654755,0,1,1,-7.0710678118654755,0A7.0710678118654755,7.0710678118654755,0,1,1,7.0710678118654755,0\" style=\"fill: rgb(55, 134, 192); stroke-width: 2; opacity: 0.7;\"></path><path transform=\"translate(437.5,100.71428571428572)\" d=\"M7.0710678118654755,0A7.0710678118654755,7.0710678118654755,0,1,1,-7.0710678118654755,0A7.0710678118654755,7.0710678118654755,0,1,1,7.0710678118654755,0\" style=\"fill: grey; stroke-width: 2; opacity: 0.7;\"></path><path transform=\"translate(250,109.2857142857143)\" d=\"M7.0710678118654755,0A7.0710678118654755,7.0710678118654755,0,1,1,-7.0710678118654755,0A7.0710678118654755,7.0710678118654755,0,1,1,7.0710678118654755,0\" style=\"fill: rgb(114, 177, 214); stroke-width: 2; opacity: 0.7;\"></path><path transform=\"translate(62.5,115.7142857142857)\" d=\"M7.0710678118654755,0A7.0710678118654755,7.0710678118654755,0,1,1,-7.0710678118654755,0A7.0710678118654755,7.0710678118654755,0,1,1,7.0710678118654755,0\" style=\"fill: grey; stroke-width: 2; opacity: 0.7;\"></path><path transform=\"translate(312.5,92.14285714285714)\" d=\"M7.0710678118654755,0A7.0710678118654755,7.0710678118654755,0,1,1,-7.0710678118654755,0A7.0710678118654755,7.0710678118654755,0,1,1,7.0710678118654755,0\" style=\"fill: grey; stroke-width: 2; opacity: 0.7;\"></path><path transform=\"translate(312.5,90)\" d=\"M7.0710678118654755,0A7.0710678118654755,7.0710678118654755,0,1,1,-7.0710678118654755,0A7.0710678118654755,7.0710678118654755,0,1,1,7.0710678118654755,0\" style=\"fill: grey; stroke-width: 2; opacity: 0.7;\"></path><path transform=\"translate(125,141.42857142857142)\" d=\"M7.0710678118654755,0A7.0710678118654755,7.0710678118654755,0,1,1,-7.0710678118654755,0A7.0710678118654755,7.0710678118654755,0,1,1,7.0710678118654755,0\" style=\"fill: grey; stroke-width: 2; opacity: 0.7;\"></path><path transform=\"translate(62.5,113.57142857142856)\" d=\"M7.0710678118654755,0A7.0710678118654755,7.0710678118654755,0,1,1,-7.0710678118654755,0A7.0710678118654755,7.0710678118654755,0,1,1,7.0710678118654755,0\" style=\"fill: grey; stroke-width: 2; opacity: 0.7;\"></path><path transform=\"translate(312.5,87.85714285714283)\" d=\"M7.0710678118654755,0A7.0710678118654755,7.0710678118654755,0,1,1,-7.0710678118654755,0A7.0710678118654755,7.0710678118654755,0,1,1,7.0710678118654755,0\" style=\"fill: grey; stroke-width: 2; opacity: 0.7;\"></path><path transform=\"translate(62.5,111.42857142857144)\" d=\"M7.0710678118654755,0A7.0710678118654755,7.0710678118654755,0,1,1,-7.0710678118654755,0A7.0710678118654755,7.0710678118654755,0,1,1,7.0710678118654755,0\" style=\"fill: grey; stroke-width: 2; opacity: 0.7;\"></path><path transform=\"translate(312.5,85.71428571428572)\" d=\"M7.0710678118654755,0A7.0710678118654755,7.0710678118654755,0,1,1,-7.0710678118654755,0A7.0710678118654755,7.0710678118654755,0,1,1,7.0710678118654755,0\" style=\"fill: grey; stroke-width: 2; opacity: 0.7;\"></path><path transform=\"translate(250,107.14285714285714)\" d=\"M7.0710678118654755,0A7.0710678118654755,7.0710678118654755,0,1,1,-7.0710678118654755,0A7.0710678118654755,7.0710678118654755,0,1,1,7.0710678118654755,0\" style=\"fill: rgb(139, 191, 221); stroke-width: 2; opacity: 0.7;\"></path><path transform=\"translate(500,137.14285714285717)\" d=\"M7.0710678118654755,0A7.0710678118654755,7.0710678118654755,0,1,1,-7.0710678118654755,0A7.0710678118654755,7.0710678118654755,0,1,1,7.0710678118654755,0\" style=\"fill: grey; stroke-width: 2; opacity: 0.7;\"></path><path transform=\"translate(250,105)\" d=\"M7.0710678118654755,0A7.0710678118654755,7.0710678118654755,0,1,1,-7.0710678118654755,0A7.0710678118654755,7.0710678118654755,0,1,1,7.0710678118654755,0\" style=\"fill: rgb(54, 133, 191); stroke-width: 2; opacity: 0.7;\"></path><path transform=\"translate(437.5,98.57142857142858)\" d=\"M7.0710678118654755,0A7.0710678118654755,7.0710678118654755,0,1,1,-7.0710678118654755,0A7.0710678118654755,7.0710678118654755,0,1,1,7.0710678118654755,0\" style=\"fill: grey; stroke-width: 2; opacity: 0.7;\"></path><path transform=\"translate(437.5,96.42857142857142)\" d=\"M7.0710678118654755,0A7.0710678118654755,7.0710678118654755,0,1,1,-7.0710678118654755,0A7.0710678118654755,7.0710678118654755,0,1,1,7.0710678118654755,0\" style=\"fill: grey; stroke-width: 2; opacity: 0.7;\"></path><path transform=\"translate(125,139.28571428571428)\" d=\"M7.0710678118654755,0A7.0710678118654755,7.0710678118654755,0,1,1,-7.0710678118654755,0A7.0710678118654755,7.0710678118654755,0,1,1,7.0710678118654755,0\" style=\"fill: grey; stroke-width: 2; opacity: 0.7;\"></path><path transform=\"translate(0,137.14285714285717)\" d=\"M7.0710678118654755,0A7.0710678118654755,7.0710678118654755,0,1,1,-7.0710678118654755,0A7.0710678118654755,7.0710678118654755,0,1,1,7.0710678118654755,0\" style=\"fill: grey; stroke-width: 2; opacity: 0.7;\"></path><path transform=\"translate(187.5,141.42857142857142)\" d=\"M7.0710678118654755,0A7.0710678118654755,7.0710678118654755,0,1,1,-7.0710678118654755,0A7.0710678118654755,7.0710678118654755,0,1,1,7.0710678118654755,0\" style=\"fill: grey; stroke-width: 2; opacity: 0.7;\"></path><path transform=\"translate(437.5,94.28571428571428)\" d=\"M7.0710678118654755,0A7.0710678118654755,7.0710678118654755,0,1,1,-7.0710678118654755,0A7.0710678118654755,7.0710678118654755,0,1,1,7.0710678118654755,0\" style=\"fill: grey; stroke-width: 2; opacity: 0.7;\"></path><path transform=\"translate(0,135)\" d=\"M7.0710678118654755,0A7.0710678118654755,7.0710678118654755,0,1,1,-7.0710678118654755,0A7.0710678118654755,7.0710678118654755,0,1,1,7.0710678118654755,0\" style=\"fill: grey; stroke-width: 2; opacity: 0.7;\"></path><path transform=\"translate(312.5,83.57142857142858)\" d=\"M7.0710678118654755,0A7.0710678118654755,7.0710678118654755,0,1,1,-7.0710678118654755,0A7.0710678118654755,7.0710678118654755,0,1,1,7.0710678118654755,0\" style=\"fill: grey; stroke-width: 2; opacity: 0.7;\"></path><path transform=\"translate(250,102.85714285714286)\" d=\"M7.0710678118654755,0A7.0710678118654755,7.0710678118654755,0,1,1,-7.0710678118654755,0A7.0710678118654755,7.0710678118654755,0,1,1,7.0710678118654755,0\" style=\"fill: rgb(119, 180, 216); stroke-width: 2; opacity: 0.7;\"></path><path transform=\"translate(312.5,81.42857142857144)\" d=\"M7.0710678118654755,0A7.0710678118654755,7.0710678118654755,0,1,1,-7.0710678118654755,0A7.0710678118654755,7.0710678118654755,0,1,1,7.0710678118654755,0\" style=\"fill: grey; stroke-width: 2; opacity: 0.7;\"></path><path transform=\"translate(437.5,92.14285714285714)\" d=\"M7.0710678118654755,0A7.0710678118654755,7.0710678118654755,0,1,1,-7.0710678118654755,0A7.0710678118654755,7.0710678118654755,0,1,1,7.0710678118654755,0\" style=\"fill: grey; stroke-width: 2; opacity: 0.7;\"></path><path transform=\"translate(437.5,90)\" d=\"M7.0710678118654755,0A7.0710678118654755,7.0710678118654755,0,1,1,-7.0710678118654755,0A7.0710678118654755,7.0710678118654755,0,1,1,7.0710678118654755,0\" style=\"fill: grey; stroke-width: 2; opacity: 0.7;\"></path><path transform=\"translate(125,137.14285714285717)\" d=\"M7.0710678118654755,0A7.0710678118654755,7.0710678118654755,0,1,1,-7.0710678118654755,0A7.0710678118654755,7.0710678118654755,0,1,1,7.0710678118654755,0\" style=\"fill: grey; stroke-width: 2; opacity: 0.7;\"></path><path transform=\"translate(250,100.71428571428572)\" d=\"M7.0710678118654755,0A7.0710678118654755,7.0710678118654755,0,1,1,-7.0710678118654755,0A7.0710678118654755,7.0710678118654755,0,1,1,7.0710678118654755,0\" style=\"fill: rgb(48, 128, 188); stroke-width: 2; opacity: 0.7;\"></path><path transform=\"translate(250,98.57142857142858)\" d=\"M7.0710678118654755,0A7.0710678118654755,7.0710678118654755,0,1,1,-7.0710678118654755,0A7.0710678118654755,7.0710678118654755,0,1,1,7.0710678118654755,0\" style=\"fill: rgb(49, 129, 189); stroke-width: 2; opacity: 0.7;\"></path><path transform=\"translate(375,137.14285714285717)\" d=\"M7.0710678118654755,0A7.0710678118654755,7.0710678118654755,0,1,1,-7.0710678118654755,0A7.0710678118654755,7.0710678118654755,0,1,1,7.0710678118654755,0\" style=\"fill: grey; stroke-width: 2; opacity: 0.7;\"></path><path transform=\"translate(125,135)\" d=\"M7.0710678118654755,0A7.0710678118654755,7.0710678118654755,0,1,1,-7.0710678118654755,0A7.0710678118654755,7.0710678118654755,0,1,1,7.0710678118654755,0\" style=\"fill: grey; stroke-width: 2; opacity: 0.7;\"></path><path transform=\"translate(0,132.85714285714286)\" d=\"M7.0710678118654755,0A7.0710678118654755,7.0710678118654755,0,1,1,-7.0710678118654755,0A7.0710678118654755,7.0710678118654755,0,1,1,7.0710678118654755,0\" style=\"fill: grey; stroke-width: 2; opacity: 0.7;\"></path><path transform=\"translate(500,135)\" d=\"M7.0710678118654755,0A7.0710678118654755,7.0710678118654755,0,1,1,-7.0710678118654755,0A7.0710678118654755,7.0710678118654755,0,1,1,7.0710678118654755,0\" style=\"fill: grey; stroke-width: 2; opacity: 0.7;\"></path><path transform=\"translate(312.5,79.28571428571428)\" d=\"M7.0710678118654755,0A7.0710678118654755,7.0710678118654755,0,1,1,-7.0710678118654755,0A7.0710678118654755,7.0710678118654755,0,1,1,7.0710678118654755,0\" style=\"fill: grey; stroke-width: 2; opacity: 0.7;\"></path><path transform=\"translate(62.5,109.2857142857143)\" d=\"M7.0710678118654755,0A7.0710678118654755,7.0710678118654755,0,1,1,-7.0710678118654755,0A7.0710678118654755,7.0710678118654755,0,1,1,7.0710678118654755,0\" style=\"fill: grey; stroke-width: 2; opacity: 0.7;\"></path><path transform=\"translate(312.5,77.14285714285714)\" d=\"M7.0710678118654755,0A7.0710678118654755,7.0710678118654755,0,1,1,-7.0710678118654755,0A7.0710678118654755,7.0710678118654755,0,1,1,7.0710678118654755,0\" style=\"fill: grey; stroke-width: 2; opacity: 0.7;\"></path><path transform=\"translate(312.5,75)\" d=\"M7.0710678118654755,0A7.0710678118654755,7.0710678118654755,0,1,1,-7.0710678118654755,0A7.0710678118654755,7.0710678118654755,0,1,1,7.0710678118654755,0\" style=\"fill: grey; stroke-width: 2; opacity: 0.7;\"></path><path transform=\"translate(312.5,72.85714285714286)\" d=\"M7.0710678118654755,0A7.0710678118654755,7.0710678118654755,0,1,1,-7.0710678118654755,0A7.0710678118654755,7.0710678118654755,0,1,1,7.0710678118654755,0\" style=\"fill: grey; stroke-width: 2; opacity: 0.7;\"></path><path transform=\"translate(0,130.71428571428572)\" d=\"M7.0710678118654755,0A7.0710678118654755,7.0710678118654755,0,1,1,-7.0710678118654755,0A7.0710678118654755,7.0710678118654755,0,1,1,7.0710678118654755,0\" style=\"fill: grey; stroke-width: 2; opacity: 0.7;\"></path><path transform=\"translate(250,96.42857142857142)\" d=\"M7.0710678118654755,0A7.0710678118654755,7.0710678118654755,0,1,1,-7.0710678118654755,0A7.0710678118654755,7.0710678118654755,0,1,1,7.0710678118654755,0\" style=\"fill: rgb(47, 127, 188); stroke-width: 2; opacity: 0.7;\"></path><path transform=\"translate(0,128.57142857142858)\" d=\"M7.0710678118654755,0A7.0710678118654755,7.0710678118654755,0,1,1,-7.0710678118654755,0A7.0710678118654755,7.0710678118654755,0,1,1,7.0710678118654755,0\" style=\"fill: grey; stroke-width: 2; opacity: 0.7;\"></path><path transform=\"translate(0,126.42857142857142)\" d=\"M7.0710678118654755,0A7.0710678118654755,7.0710678118654755,0,1,1,-7.0710678118654755,0A7.0710678118654755,7.0710678118654755,0,1,1,7.0710678118654755,0\" style=\"fill: grey; stroke-width: 2; opacity: 0.7;\"></path><path transform=\"translate(375,135)\" d=\"M7.0710678118654755,0A7.0710678118654755,7.0710678118654755,0,1,1,-7.0710678118654755,0A7.0710678118654755,7.0710678118654755,0,1,1,7.0710678118654755,0\" style=\"fill: grey; stroke-width: 2; opacity: 0.7;\"></path><path transform=\"translate(375,132.85714285714286)\" d=\"M7.0710678118654755,0A7.0710678118654755,7.0710678118654755,0,1,1,-7.0710678118654755,0A7.0710678118654755,7.0710678118654755,0,1,1,7.0710678118654755,0\" style=\"fill: grey; stroke-width: 2; opacity: 0.7;\"></path><path transform=\"translate(62.5,107.14285714285714)\" d=\"M7.0710678118654755,0A7.0710678118654755,7.0710678118654755,0,1,1,-7.0710678118654755,0A7.0710678118654755,7.0710678118654755,0,1,1,7.0710678118654755,0\" style=\"fill: grey; stroke-width: 2; opacity: 0.7;\"></path><path transform=\"translate(312.5,70.71428571428572)\" d=\"M7.0710678118654755,0A7.0710678118654755,7.0710678118654755,0,1,1,-7.0710678118654755,0A7.0710678118654755,7.0710678118654755,0,1,1,7.0710678118654755,0\" style=\"fill: grey; stroke-width: 2; opacity: 0.7;\"></path><path transform=\"translate(500,132.85714285714286)\" d=\"M7.0710678118654755,0A7.0710678118654755,7.0710678118654755,0,1,1,-7.0710678118654755,0A7.0710678118654755,7.0710678118654755,0,1,1,7.0710678118654755,0\" style=\"fill: grey; stroke-width: 2; opacity: 0.7;\"></path><path transform=\"translate(0,124.28571428571428)\" d=\"M7.0710678118654755,0A7.0710678118654755,7.0710678118654755,0,1,1,-7.0710678118654755,0A7.0710678118654755,7.0710678118654755,0,1,1,7.0710678118654755,0\" style=\"fill: grey; stroke-width: 2; opacity: 0.7;\"></path><path transform=\"translate(500,130.71428571428572)\" d=\"M7.0710678118654755,0A7.0710678118654755,7.0710678118654755,0,1,1,-7.0710678118654755,0A7.0710678118654755,7.0710678118654755,0,1,1,7.0710678118654755,0\" style=\"fill: grey; stroke-width: 2; opacity: 0.7;\"></path><path transform=\"translate(375,130.71428571428572)\" d=\"M7.0710678118654755,0A7.0710678118654755,7.0710678118654755,0,1,1,-7.0710678118654755,0A7.0710678118654755,7.0710678118654755,0,1,1,7.0710678118654755,0\" style=\"fill: grey; stroke-width: 2; opacity: 0.7;\"></path><path transform=\"translate(437.5,87.85714285714283)\" d=\"M7.0710678118654755,0A7.0710678118654755,7.0710678118654755,0,1,1,-7.0710678118654755,0A7.0710678118654755,7.0710678118654755,0,1,1,7.0710678118654755,0\" style=\"fill: grey; stroke-width: 2; opacity: 0.7;\"></path><path transform=\"translate(250,94.28571428571428)\" d=\"M7.0710678118654755,0A7.0710678118654755,7.0710678118654755,0,1,1,-7.0710678118654755,0A7.0710678118654755,7.0710678118654755,0,1,1,7.0710678118654755,0\" style=\"fill: rgb(169, 206, 229); stroke-width: 2; opacity: 0.7;\"></path><path transform=\"translate(187.5,139.28571428571428)\" d=\"M7.0710678118654755,0A7.0710678118654755,7.0710678118654755,0,1,1,-7.0710678118654755,0A7.0710678118654755,7.0710678118654755,0,1,1,7.0710678118654755,0\" style=\"fill: grey; stroke-width: 2; opacity: 0.7;\"></path><path transform=\"translate(312.5,68.57142857142856)\" d=\"M7.0710678118654755,0A7.0710678118654755,7.0710678118654755,0,1,1,-7.0710678118654755,0A7.0710678118654755,7.0710678118654755,0,1,1,7.0710678118654755,0\" style=\"fill: grey; stroke-width: 2; opacity: 0.7;\"></path><path transform=\"translate(500,128.57142857142858)\" d=\"M7.0710678118654755,0A7.0710678118654755,7.0710678118654755,0,1,1,-7.0710678118654755,0A7.0710678118654755,7.0710678118654755,0,1,1,7.0710678118654755,0\" style=\"fill: grey; stroke-width: 2; opacity: 0.7;\"></path><path transform=\"translate(250,92.14285714285714)\" d=\"M7.0710678118654755,0A7.0710678118654755,7.0710678118654755,0,1,1,-7.0710678118654755,0A7.0710678118654755,7.0710678118654755,0,1,1,7.0710678118654755,0\" style=\"fill: rgb(81, 155, 203); stroke-width: 2; opacity: 0.7;\"></path><path transform=\"translate(125,132.85714285714286)\" d=\"M7.0710678118654755,0A7.0710678118654755,7.0710678118654755,0,1,1,-7.0710678118654755,0A7.0710678118654755,7.0710678118654755,0,1,1,7.0710678118654755,0\" style=\"fill: grey; stroke-width: 2; opacity: 0.7;\"></path><path transform=\"translate(312.5,66.42857142857142)\" d=\"M7.0710678118654755,0A7.0710678118654755,7.0710678118654755,0,1,1,-7.0710678118654755,0A7.0710678118654755,7.0710678118654755,0,1,1,7.0710678118654755,0\" style=\"fill: grey; stroke-width: 2; opacity: 0.7;\"></path><path transform=\"translate(187.5,137.14285714285717)\" d=\"M7.0710678118654755,0A7.0710678118654755,7.0710678118654755,0,1,1,-7.0710678118654755,0A7.0710678118654755,7.0710678118654755,0,1,1,7.0710678118654755,0\" style=\"fill: grey; stroke-width: 2; opacity: 0.7;\"></path><path transform=\"translate(0,122.14285714285714)\" d=\"M7.0710678118654755,0A7.0710678118654755,7.0710678118654755,0,1,1,-7.0710678118654755,0A7.0710678118654755,7.0710678118654755,0,1,1,7.0710678118654755,0\" style=\"fill: grey; stroke-width: 2; opacity: 0.7;\"></path><path transform=\"translate(0,120)\" d=\"M7.0710678118654755,0A7.0710678118654755,7.0710678118654755,0,1,1,-7.0710678118654755,0A7.0710678118654755,7.0710678118654755,0,1,1,7.0710678118654755,0\" style=\"fill: grey; stroke-width: 2; opacity: 0.7;\"></path><path transform=\"translate(312.5,64.28571428571428)\" d=\"M7.0710678118654755,0A7.0710678118654755,7.0710678118654755,0,1,1,-7.0710678118654755,0A7.0710678118654755,7.0710678118654755,0,1,1,7.0710678118654755,0\" style=\"fill: grey; stroke-width: 2; opacity: 0.7;\"></path><path transform=\"translate(0,117.85714285714286)\" d=\"M7.0710678118654755,0A7.0710678118654755,7.0710678118654755,0,1,1,-7.0710678118654755,0A7.0710678118654755,7.0710678118654755,0,1,1,7.0710678118654755,0\" style=\"fill: grey; stroke-width: 2; opacity: 0.7;\"></path><path transform=\"translate(312.5,62.14285714285717)\" d=\"M7.0710678118654755,0A7.0710678118654755,7.0710678118654755,0,1,1,-7.0710678118654755,0A7.0710678118654755,7.0710678118654755,0,1,1,7.0710678118654755,0\" style=\"fill: grey; stroke-width: 2; opacity: 0.7;\"></path><path transform=\"translate(500,126.42857142857142)\" d=\"M7.0710678118654755,0A7.0710678118654755,7.0710678118654755,0,1,1,-7.0710678118654755,0A7.0710678118654755,7.0710678118654755,0,1,1,7.0710678118654755,0\" style=\"fill: grey; stroke-width: 2; opacity: 0.7;\"></path><path transform=\"translate(500,124.28571428571428)\" d=\"M7.0710678118654755,0A7.0710678118654755,7.0710678118654755,0,1,1,-7.0710678118654755,0A7.0710678118654755,7.0710678118654755,0,1,1,7.0710678118654755,0\" style=\"fill: grey; stroke-width: 2; opacity: 0.7;\"></path><path transform=\"translate(62.5,105)\" d=\"M7.0710678118654755,0A7.0710678118654755,7.0710678118654755,0,1,1,-7.0710678118654755,0A7.0710678118654755,7.0710678118654755,0,1,1,7.0710678118654755,0\" style=\"fill: grey; stroke-width: 2; opacity: 0.7;\"></path><path transform=\"translate(375,128.57142857142858)\" d=\"M7.0710678118654755,0A7.0710678118654755,7.0710678118654755,0,1,1,-7.0710678118654755,0A7.0710678118654755,7.0710678118654755,0,1,1,7.0710678118654755,0\" style=\"fill: grey; stroke-width: 2; opacity: 0.7;\"></path><path transform=\"translate(375,126.42857142857142)\" d=\"M7.0710678118654755,0A7.0710678118654755,7.0710678118654755,0,1,1,-7.0710678118654755,0A7.0710678118654755,7.0710678118654755,0,1,1,7.0710678118654755,0\" style=\"fill: grey; stroke-width: 2; opacity: 0.7;\"></path><path transform=\"translate(437.5,85.71428571428572)\" d=\"M7.0710678118654755,0A7.0710678118654755,7.0710678118654755,0,1,1,-7.0710678118654755,0A7.0710678118654755,7.0710678118654755,0,1,1,7.0710678118654755,0\" style=\"fill: grey; stroke-width: 2; opacity: 0.7;\"></path><path transform=\"translate(437.5,83.57142857142858)\" d=\"M7.0710678118654755,0A7.0710678118654755,7.0710678118654755,0,1,1,-7.0710678118654755,0A7.0710678118654755,7.0710678118654755,0,1,1,7.0710678118654755,0\" style=\"fill: grey; stroke-width: 2; opacity: 0.7;\"></path><path transform=\"translate(187.5,135)\" d=\"M7.0710678118654755,0A7.0710678118654755,7.0710678118654755,0,1,1,-7.0710678118654755,0A7.0710678118654755,7.0710678118654755,0,1,1,7.0710678118654755,0\" style=\"fill: grey; stroke-width: 2; opacity: 0.7;\"></path><path transform=\"translate(375,124.28571428571428)\" d=\"M7.0710678118654755,0A7.0710678118654755,7.0710678118654755,0,1,1,-7.0710678118654755,0A7.0710678118654755,7.0710678118654755,0,1,1,7.0710678118654755,0\" style=\"fill: grey; stroke-width: 2; opacity: 0.7;\"></path><path transform=\"translate(0,115.7142857142857)\" d=\"M7.0710678118654755,0A7.0710678118654755,7.0710678118654755,0,1,1,-7.0710678118654755,0A7.0710678118654755,7.0710678118654755,0,1,1,7.0710678118654755,0\" style=\"fill: grey; stroke-width: 2; opacity: 0.7;\"></path><path transform=\"translate(187.5,132.85714285714286)\" d=\"M7.0710678118654755,0A7.0710678118654755,7.0710678118654755,0,1,1,-7.0710678118654755,0A7.0710678118654755,7.0710678118654755,0,1,1,7.0710678118654755,0\" style=\"fill: grey; stroke-width: 2; opacity: 0.7;\"></path><path transform=\"translate(437.5,81.42857142857144)\" d=\"M7.0710678118654755,0A7.0710678118654755,7.0710678118654755,0,1,1,-7.0710678118654755,0A7.0710678118654755,7.0710678118654755,0,1,1,7.0710678118654755,0\" style=\"fill: grey; stroke-width: 2; opacity: 0.7;\"></path><path transform=\"translate(312.5,60)\" d=\"M7.0710678118654755,0A7.0710678118654755,7.0710678118654755,0,1,1,-7.0710678118654755,0A7.0710678118654755,7.0710678118654755,0,1,1,7.0710678118654755,0\" style=\"fill: grey; stroke-width: 2; opacity: 0.7;\"></path><path transform=\"translate(187.5,130.71428571428572)\" d=\"M7.0710678118654755,0A7.0710678118654755,7.0710678118654755,0,1,1,-7.0710678118654755,0A7.0710678118654755,7.0710678118654755,0,1,1,7.0710678118654755,0\" style=\"fill: grey; stroke-width: 2; opacity: 0.7;\"></path><path transform=\"translate(125,130.71428571428572)\" d=\"M7.0710678118654755,0A7.0710678118654755,7.0710678118654755,0,1,1,-7.0710678118654755,0A7.0710678118654755,7.0710678118654755,0,1,1,7.0710678118654755,0\" style=\"fill: grey; stroke-width: 2; opacity: 0.7;\"></path><path transform=\"translate(125,128.57142857142858)\" d=\"M7.0710678118654755,0A7.0710678118654755,7.0710678118654755,0,1,1,-7.0710678118654755,0A7.0710678118654755,7.0710678118654755,0,1,1,7.0710678118654755,0\" style=\"fill: grey; stroke-width: 2; opacity: 0.7;\"></path><path transform=\"translate(62.5,102.85714285714286)\" d=\"M7.0710678118654755,0A7.0710678118654755,7.0710678118654755,0,1,1,-7.0710678118654755,0A7.0710678118654755,7.0710678118654755,0,1,1,7.0710678118654755,0\" style=\"fill: grey; stroke-width: 2; opacity: 0.7;\"></path><path transform=\"translate(375,122.14285714285714)\" d=\"M7.0710678118654755,0A7.0710678118654755,7.0710678118654755,0,1,1,-7.0710678118654755,0A7.0710678118654755,7.0710678118654755,0,1,1,7.0710678118654755,0\" style=\"fill: grey; stroke-width: 2; opacity: 0.7;\"></path><path transform=\"translate(312.5,57.85714285714286)\" d=\"M7.0710678118654755,0A7.0710678118654755,7.0710678118654755,0,1,1,-7.0710678118654755,0A7.0710678118654755,7.0710678118654755,0,1,1,7.0710678118654755,0\" style=\"fill: grey; stroke-width: 2; opacity: 0.7;\"></path><path transform=\"translate(187.5,128.57142857142858)\" d=\"M7.0710678118654755,0A7.0710678118654755,7.0710678118654755,0,1,1,-7.0710678118654755,0A7.0710678118654755,7.0710678118654755,0,1,1,7.0710678118654755,0\" style=\"fill: grey; stroke-width: 2; opacity: 0.7;\"></path><path transform=\"translate(375,120)\" d=\"M7.0710678118654755,0A7.0710678118654755,7.0710678118654755,0,1,1,-7.0710678118654755,0A7.0710678118654755,7.0710678118654755,0,1,1,7.0710678118654755,0\" style=\"fill: grey; stroke-width: 2; opacity: 0.7;\"></path><path transform=\"translate(187.5,126.42857142857142)\" d=\"M7.0710678118654755,0A7.0710678118654755,7.0710678118654755,0,1,1,-7.0710678118654755,0A7.0710678118654755,7.0710678118654755,0,1,1,7.0710678118654755,0\" style=\"fill: grey; stroke-width: 2; opacity: 0.7;\"></path><path transform=\"translate(187.5,124.28571428571428)\" d=\"M7.0710678118654755,0A7.0710678118654755,7.0710678118654755,0,1,1,-7.0710678118654755,0A7.0710678118654755,7.0710678118654755,0,1,1,7.0710678118654755,0\" style=\"fill: grey; stroke-width: 2; opacity: 0.7;\"></path><path transform=\"translate(375,117.85714285714286)\" d=\"M7.0710678118654755,0A7.0710678118654755,7.0710678118654755,0,1,1,-7.0710678118654755,0A7.0710678118654755,7.0710678118654755,0,1,1,7.0710678118654755,0\" style=\"fill: grey; stroke-width: 2; opacity: 0.7;\"></path><path transform=\"translate(500,122.14285714285714)\" d=\"M7.0710678118654755,0A7.0710678118654755,7.0710678118654755,0,1,1,-7.0710678118654755,0A7.0710678118654755,7.0710678118654755,0,1,1,7.0710678118654755,0\" style=\"fill: grey; stroke-width: 2; opacity: 0.7;\"></path><path transform=\"translate(250,90)\" d=\"M7.0710678118654755,0A7.0710678118654755,7.0710678118654755,0,1,1,-7.0710678118654755,0A7.0710678118654755,7.0710678118654755,0,1,1,7.0710678118654755,0\" style=\"fill: rgb(121, 181, 216); stroke-width: 2; opacity: 0.7;\"></path><path transform=\"translate(312.5,55.71428571428572)\" d=\"M7.0710678118654755,0A7.0710678118654755,7.0710678118654755,0,1,1,-7.0710678118654755,0A7.0710678118654755,7.0710678118654755,0,1,1,7.0710678118654755,0\" style=\"fill: grey; stroke-width: 2; opacity: 0.7;\"></path><path transform=\"translate(0,113.57142857142856)\" d=\"M7.0710678118654755,0A7.0710678118654755,7.0710678118654755,0,1,1,-7.0710678118654755,0A7.0710678118654755,7.0710678118654755,0,1,1,7.0710678118654755,0\" style=\"fill: grey; stroke-width: 2; opacity: 0.7;\"></path><path transform=\"translate(437.5,79.28571428571428)\" d=\"M7.0710678118654755,0A7.0710678118654755,7.0710678118654755,0,1,1,-7.0710678118654755,0A7.0710678118654755,7.0710678118654755,0,1,1,7.0710678118654755,0\" style=\"fill: grey; stroke-width: 2; opacity: 0.7;\"></path><path transform=\"translate(187.5,122.14285714285714)\" d=\"M7.0710678118654755,0A7.0710678118654755,7.0710678118654755,0,1,1,-7.0710678118654755,0A7.0710678118654755,7.0710678118654755,0,1,1,7.0710678118654755,0\" style=\"fill: grey; stroke-width: 2; opacity: 0.7;\"></path><path transform=\"translate(375,115.7142857142857)\" d=\"M7.0710678118654755,0A7.0710678118654755,7.0710678118654755,0,1,1,-7.0710678118654755,0A7.0710678118654755,7.0710678118654755,0,1,1,7.0710678118654755,0\" style=\"fill: grey; stroke-width: 2; opacity: 0.7;\"></path><path transform=\"translate(125,126.42857142857142)\" d=\"M7.0710678118654755,0A7.0710678118654755,7.0710678118654755,0,1,1,-7.0710678118654755,0A7.0710678118654755,7.0710678118654755,0,1,1,7.0710678118654755,0\" style=\"fill: grey; stroke-width: 2; opacity: 0.7;\"></path><path transform=\"translate(437.5,77.14285714285714)\" d=\"M7.0710678118654755,0A7.0710678118654755,7.0710678118654755,0,1,1,-7.0710678118654755,0A7.0710678118654755,7.0710678118654755,0,1,1,7.0710678118654755,0\" style=\"fill: grey; stroke-width: 2; opacity: 0.7;\"></path><path transform=\"translate(0,111.42857142857144)\" d=\"M7.0710678118654755,0A7.0710678118654755,7.0710678118654755,0,1,1,-7.0710678118654755,0A7.0710678118654755,7.0710678118654755,0,1,1,7.0710678118654755,0\" style=\"fill: grey; stroke-width: 2; opacity: 0.7;\"></path><path transform=\"translate(437.5,75)\" d=\"M7.0710678118654755,0A7.0710678118654755,7.0710678118654755,0,1,1,-7.0710678118654755,0A7.0710678118654755,7.0710678118654755,0,1,1,7.0710678118654755,0\" style=\"fill: grey; stroke-width: 2; opacity: 0.7;\"></path><path transform=\"translate(0,109.2857142857143)\" d=\"M7.0710678118654755,0A7.0710678118654755,7.0710678118654755,0,1,1,-7.0710678118654755,0A7.0710678118654755,7.0710678118654755,0,1,1,7.0710678118654755,0\" style=\"fill: grey; stroke-width: 2; opacity: 0.7;\"></path><path transform=\"translate(250,87.85714285714283)\" d=\"M7.0710678118654755,0A7.0710678118654755,7.0710678118654755,0,1,1,-7.0710678118654755,0A7.0710678118654755,7.0710678118654755,0,1,1,7.0710678118654755,0\" style=\"fill: rgb(135, 188, 220); stroke-width: 2; opacity: 0.7;\"></path><path transform=\"translate(62.5,100.71428571428572)\" d=\"M7.0710678118654755,0A7.0710678118654755,7.0710678118654755,0,1,1,-7.0710678118654755,0A7.0710678118654755,7.0710678118654755,0,1,1,7.0710678118654755,0\" style=\"fill: grey; stroke-width: 2; opacity: 0.7;\"></path><path transform=\"translate(375,113.57142857142856)\" d=\"M7.0710678118654755,0A7.0710678118654755,7.0710678118654755,0,1,1,-7.0710678118654755,0A7.0710678118654755,7.0710678118654755,0,1,1,7.0710678118654755,0\" style=\"fill: grey; stroke-width: 2; opacity: 0.7;\"></path><path transform=\"translate(125,124.28571428571428)\" d=\"M7.0710678118654755,0A7.0710678118654755,7.0710678118654755,0,1,1,-7.0710678118654755,0A7.0710678118654755,7.0710678118654755,0,1,1,7.0710678118654755,0\" style=\"fill: grey; stroke-width: 2; opacity: 0.7;\"></path><path transform=\"translate(500,120)\" d=\"M7.0710678118654755,0A7.0710678118654755,7.0710678118654755,0,1,1,-7.0710678118654755,0A7.0710678118654755,7.0710678118654755,0,1,1,7.0710678118654755,0\" style=\"fill: grey; stroke-width: 2; opacity: 0.7;\"></path><path transform=\"translate(437.5,72.85714285714286)\" d=\"M7.0710678118654755,0A7.0710678118654755,7.0710678118654755,0,1,1,-7.0710678118654755,0A7.0710678118654755,7.0710678118654755,0,1,1,7.0710678118654755,0\" style=\"fill: grey; stroke-width: 2; opacity: 0.7;\"></path><path transform=\"translate(375,111.42857142857144)\" d=\"M7.0710678118654755,0A7.0710678118654755,7.0710678118654755,0,1,1,-7.0710678118654755,0A7.0710678118654755,7.0710678118654755,0,1,1,7.0710678118654755,0\" style=\"fill: grey; stroke-width: 2; opacity: 0.7;\"></path><path transform=\"translate(312.5,53.571428571428584)\" d=\"M7.0710678118654755,0A7.0710678118654755,7.0710678118654755,0,1,1,-7.0710678118654755,0A7.0710678118654755,7.0710678118654755,0,1,1,7.0710678118654755,0\" style=\"fill: grey; stroke-width: 2; opacity: 0.7;\"></path><path transform=\"translate(375,109.2857142857143)\" d=\"M7.0710678118654755,0A7.0710678118654755,7.0710678118654755,0,1,1,-7.0710678118654755,0A7.0710678118654755,7.0710678118654755,0,1,1,7.0710678118654755,0\" style=\"fill: grey; stroke-width: 2; opacity: 0.7;\"></path><path transform=\"translate(125,122.14285714285714)\" d=\"M7.0710678118654755,0A7.0710678118654755,7.0710678118654755,0,1,1,-7.0710678118654755,0A7.0710678118654755,7.0710678118654755,0,1,1,7.0710678118654755,0\" style=\"fill: grey; stroke-width: 2; opacity: 0.7;\"></path><path transform=\"translate(500,117.85714285714286)\" d=\"M7.0710678118654755,0A7.0710678118654755,7.0710678118654755,0,1,1,-7.0710678118654755,0A7.0710678118654755,7.0710678118654755,0,1,1,7.0710678118654755,0\" style=\"fill: grey; stroke-width: 2; opacity: 0.7;\"></path><path transform=\"translate(312.5,51.428571428571416)\" d=\"M7.0710678118654755,0A7.0710678118654755,7.0710678118654755,0,1,1,-7.0710678118654755,0A7.0710678118654755,7.0710678118654755,0,1,1,7.0710678118654755,0\" style=\"fill: grey; stroke-width: 2; opacity: 0.7;\"></path><path transform=\"translate(187.5,120)\" d=\"M7.0710678118654755,0A7.0710678118654755,7.0710678118654755,0,1,1,-7.0710678118654755,0A7.0710678118654755,7.0710678118654755,0,1,1,7.0710678118654755,0\" style=\"fill: grey; stroke-width: 2; opacity: 0.7;\"></path><path transform=\"translate(250,85.71428571428572)\" d=\"M7.0710678118654755,0A7.0710678118654755,7.0710678118654755,0,1,1,-7.0710678118654755,0A7.0710678118654755,7.0710678118654755,0,1,1,7.0710678118654755,0\" style=\"fill: rgb(54, 133, 191); stroke-width: 2; opacity: 0.7;\"></path><path transform=\"translate(500,115.7142857142857)\" d=\"M7.0710678118654755,0A7.0710678118654755,7.0710678118654755,0,1,1,-7.0710678118654755,0A7.0710678118654755,7.0710678118654755,0,1,1,7.0710678118654755,0\" style=\"fill: grey; stroke-width: 2; opacity: 0.7;\"></path><path transform=\"translate(250,83.57142857142858)\" d=\"M7.0710678118654755,0A7.0710678118654755,7.0710678118654755,0,1,1,-7.0710678118654755,0A7.0710678118654755,7.0710678118654755,0,1,1,7.0710678118654755,0\" style=\"fill: rgb(179, 211, 232); stroke-width: 2; opacity: 0.7;\"></path><path transform=\"translate(125,120)\" d=\"M7.0710678118654755,0A7.0710678118654755,7.0710678118654755,0,1,1,-7.0710678118654755,0A7.0710678118654755,7.0710678118654755,0,1,1,7.0710678118654755,0\" style=\"fill: grey; stroke-width: 2; opacity: 0.7;\"></path><path transform=\"translate(62.5,98.57142857142858)\" d=\"M7.0710678118654755,0A7.0710678118654755,7.0710678118654755,0,1,1,-7.0710678118654755,0A7.0710678118654755,7.0710678118654755,0,1,1,7.0710678118654755,0\" style=\"fill: grey; stroke-width: 2; opacity: 0.7;\"></path><path transform=\"translate(187.5,117.85714285714286)\" d=\"M7.0710678118654755,0A7.0710678118654755,7.0710678118654755,0,1,1,-7.0710678118654755,0A7.0710678118654755,7.0710678118654755,0,1,1,7.0710678118654755,0\" style=\"fill: grey; stroke-width: 2; opacity: 0.7;\"></path><path transform=\"translate(125,117.85714285714286)\" d=\"M7.0710678118654755,0A7.0710678118654755,7.0710678118654755,0,1,1,-7.0710678118654755,0A7.0710678118654755,7.0710678118654755,0,1,1,7.0710678118654755,0\" style=\"fill: grey; stroke-width: 2; opacity: 0.7;\"></path><path transform=\"translate(312.5,49.28571428571428)\" d=\"M7.0710678118654755,0A7.0710678118654755,7.0710678118654755,0,1,1,-7.0710678118654755,0A7.0710678118654755,7.0710678118654755,0,1,1,7.0710678118654755,0\" style=\"fill: grey; stroke-width: 2; opacity: 0.7;\"></path><path transform=\"translate(187.5,115.7142857142857)\" d=\"M7.0710678118654755,0A7.0710678118654755,7.0710678118654755,0,1,1,-7.0710678118654755,0A7.0710678118654755,7.0710678118654755,0,1,1,7.0710678118654755,0\" style=\"fill: grey; stroke-width: 2; opacity: 0.7;\"></path><path transform=\"translate(375,107.14285714285714)\" d=\"M7.0710678118654755,0A7.0710678118654755,7.0710678118654755,0,1,1,-7.0710678118654755,0A7.0710678118654755,7.0710678118654755,0,1,1,7.0710678118654755,0\" style=\"fill: grey; stroke-width: 2; opacity: 0.7;\"></path><path transform=\"translate(187.5,113.57142857142856)\" d=\"M7.0710678118654755,0A7.0710678118654755,7.0710678118654755,0,1,1,-7.0710678118654755,0A7.0710678118654755,7.0710678118654755,0,1,1,7.0710678118654755,0\" style=\"fill: grey; stroke-width: 2; opacity: 0.7;\"></path><path transform=\"translate(500,113.57142857142856)\" d=\"M7.0710678118654755,0A7.0710678118654755,7.0710678118654755,0,1,1,-7.0710678118654755,0A7.0710678118654755,7.0710678118654755,0,1,1,7.0710678118654755,0\" style=\"fill: grey; stroke-width: 2; opacity: 0.7;\"></path><path transform=\"translate(312.5,47.14285714285714)\" d=\"M7.0710678118654755,0A7.0710678118654755,7.0710678118654755,0,1,1,-7.0710678118654755,0A7.0710678118654755,7.0710678118654755,0,1,1,7.0710678118654755,0\" style=\"fill: grey; stroke-width: 2; opacity: 0.7;\"></path><path transform=\"translate(250,81.42857142857144)\" d=\"M7.0710678118654755,0A7.0710678118654755,7.0710678118654755,0,1,1,-7.0710678118654755,0A7.0710678118654755,7.0710678118654755,0,1,1,7.0710678118654755,0\" style=\"fill: rgb(51, 130, 190); stroke-width: 2; opacity: 0.7;\"></path><path transform=\"translate(0,107.14285714285714)\" d=\"M7.0710678118654755,0A7.0710678118654755,7.0710678118654755,0,1,1,-7.0710678118654755,0A7.0710678118654755,7.0710678118654755,0,1,1,7.0710678118654755,0\" style=\"fill: grey; stroke-width: 2; opacity: 0.7;\"></path><path transform=\"translate(437.5,70.71428571428572)\" d=\"M7.0710678118654755,0A7.0710678118654755,7.0710678118654755,0,1,1,-7.0710678118654755,0A7.0710678118654755,7.0710678118654755,0,1,1,7.0710678118654755,0\" style=\"fill: grey; stroke-width: 2; opacity: 0.7;\"></path><path transform=\"translate(500,111.42857142857144)\" d=\"M7.0710678118654755,0A7.0710678118654755,7.0710678118654755,0,1,1,-7.0710678118654755,0A7.0710678118654755,7.0710678118654755,0,1,1,7.0710678118654755,0\" style=\"fill: grey; stroke-width: 2; opacity: 0.7;\"></path><path transform=\"translate(125,115.7142857142857)\" d=\"M7.0710678118654755,0A7.0710678118654755,7.0710678118654755,0,1,1,-7.0710678118654755,0A7.0710678118654755,7.0710678118654755,0,1,1,7.0710678118654755,0\" style=\"fill: grey; stroke-width: 2; opacity: 0.7;\"></path><path transform=\"translate(375,105)\" d=\"M7.0710678118654755,0A7.0710678118654755,7.0710678118654755,0,1,1,-7.0710678118654755,0A7.0710678118654755,7.0710678118654755,0,1,1,7.0710678118654755,0\" style=\"fill: grey; stroke-width: 2; opacity: 0.7;\"></path><path transform=\"translate(250,79.28571428571428)\" d=\"M7.0710678118654755,0A7.0710678118654755,7.0710678118654755,0,1,1,-7.0710678118654755,0A7.0710678118654755,7.0710678118654755,0,1,1,7.0710678118654755,0\" style=\"fill: rgb(126, 184, 218); stroke-width: 2; opacity: 0.7;\"></path><path transform=\"translate(187.5,111.42857142857144)\" d=\"M7.0710678118654755,0A7.0710678118654755,7.0710678118654755,0,1,1,-7.0710678118654755,0A7.0710678118654755,7.0710678118654755,0,1,1,7.0710678118654755,0\" style=\"fill: grey; stroke-width: 2; opacity: 0.7;\"></path><path transform=\"translate(62.5,96.42857142857142)\" d=\"M7.0710678118654755,0A7.0710678118654755,7.0710678118654755,0,1,1,-7.0710678118654755,0A7.0710678118654755,7.0710678118654755,0,1,1,7.0710678118654755,0\" style=\"fill: grey; stroke-width: 2; opacity: 0.7;\"></path><path transform=\"translate(500,109.2857142857143)\" d=\"M7.0710678118654755,0A7.0710678118654755,7.0710678118654755,0,1,1,-7.0710678118654755,0A7.0710678118654755,7.0710678118654755,0,1,1,7.0710678118654755,0\" style=\"fill: grey; stroke-width: 2; opacity: 0.7;\"></path><path transform=\"translate(0,105)\" d=\"M7.0710678118654755,0A7.0710678118654755,7.0710678118654755,0,1,1,-7.0710678118654755,0A7.0710678118654755,7.0710678118654755,0,1,1,7.0710678118654755,0\" style=\"fill: grey; stroke-width: 2; opacity: 0.7;\"></path><path transform=\"translate(187.5,109.2857142857143)\" d=\"M7.0710678118654755,0A7.0710678118654755,7.0710678118654755,0,1,1,-7.0710678118654755,0A7.0710678118654755,7.0710678118654755,0,1,1,7.0710678118654755,0\" style=\"fill: grey; stroke-width: 2; opacity: 0.7;\"></path><path transform=\"translate(437.5,68.57142857142856)\" d=\"M7.0710678118654755,0A7.0710678118654755,7.0710678118654755,0,1,1,-7.0710678118654755,0A7.0710678118654755,7.0710678118654755,0,1,1,7.0710678118654755,0\" style=\"fill: grey; stroke-width: 2; opacity: 0.7;\"></path><path transform=\"translate(187.5,107.14285714285714)\" d=\"M7.0710678118654755,0A7.0710678118654755,7.0710678118654755,0,1,1,-7.0710678118654755,0A7.0710678118654755,7.0710678118654755,0,1,1,7.0710678118654755,0\" style=\"fill: grey; stroke-width: 2; opacity: 0.7;\"></path><path transform=\"translate(187.5,105)\" d=\"M7.0710678118654755,0A7.0710678118654755,7.0710678118654755,0,1,1,-7.0710678118654755,0A7.0710678118654755,7.0710678118654755,0,1,1,7.0710678118654755,0\" style=\"fill: grey; stroke-width: 2; opacity: 0.7;\"></path><path transform=\"translate(250,77.14285714285714)\" d=\"M7.0710678118654755,0A7.0710678118654755,7.0710678118654755,0,1,1,-7.0710678118654755,0A7.0710678118654755,7.0710678118654755,0,1,1,7.0710678118654755,0\" style=\"fill: rgb(91, 163, 207); stroke-width: 2; opacity: 0.7;\"></path><path transform=\"translate(500,107.14285714285714)\" d=\"M7.0710678118654755,0A7.0710678118654755,7.0710678118654755,0,1,1,-7.0710678118654755,0A7.0710678118654755,7.0710678118654755,0,1,1,7.0710678118654755,0\" style=\"fill: grey; stroke-width: 2; opacity: 0.7;\"></path><path transform=\"translate(312.5,45)\" d=\"M7.0710678118654755,0A7.0710678118654755,7.0710678118654755,0,1,1,-7.0710678118654755,0A7.0710678118654755,7.0710678118654755,0,1,1,7.0710678118654755,0\" style=\"fill: grey; stroke-width: 2; opacity: 0.7;\"></path><path transform=\"translate(500,105)\" d=\"M7.0710678118654755,0A7.0710678118654755,7.0710678118654755,0,1,1,-7.0710678118654755,0A7.0710678118654755,7.0710678118654755,0,1,1,7.0710678118654755,0\" style=\"fill: grey; stroke-width: 2; opacity: 0.7;\"></path><path transform=\"translate(437.5,66.42857142857142)\" d=\"M7.0710678118654755,0A7.0710678118654755,7.0710678118654755,0,1,1,-7.0710678118654755,0A7.0710678118654755,7.0710678118654755,0,1,1,7.0710678118654755,0\" style=\"fill: grey; stroke-width: 2; opacity: 0.7;\"></path><path transform=\"translate(0,102.85714285714286)\" d=\"M7.0710678118654755,0A7.0710678118654755,7.0710678118654755,0,1,1,-7.0710678118654755,0A7.0710678118654755,7.0710678118654755,0,1,1,7.0710678118654755,0\" style=\"fill: grey; stroke-width: 2; opacity: 0.7;\"></path><path transform=\"translate(187.5,102.85714285714286)\" d=\"M7.0710678118654755,0A7.0710678118654755,7.0710678118654755,0,1,1,-7.0710678118654755,0A7.0710678118654755,7.0710678118654755,0,1,1,7.0710678118654755,0\" style=\"fill: grey; stroke-width: 2; opacity: 0.7;\"></path><path transform=\"translate(187.5,100.71428571428572)\" d=\"M7.0710678118654755,0A7.0710678118654755,7.0710678118654755,0,1,1,-7.0710678118654755,0A7.0710678118654755,7.0710678118654755,0,1,1,7.0710678118654755,0\" style=\"fill: grey; stroke-width: 2; opacity: 0.7;\"></path><path transform=\"translate(437.5,64.28571428571428)\" d=\"M7.0710678118654755,0A7.0710678118654755,7.0710678118654755,0,1,1,-7.0710678118654755,0A7.0710678118654755,7.0710678118654755,0,1,1,7.0710678118654755,0\" style=\"fill: grey; stroke-width: 2; opacity: 0.7;\"></path><path transform=\"translate(312.5,42.85714285714289)\" d=\"M7.0710678118654755,0A7.0710678118654755,7.0710678118654755,0,1,1,-7.0710678118654755,0A7.0710678118654755,7.0710678118654755,0,1,1,7.0710678118654755,0\" style=\"fill: grey; stroke-width: 2; opacity: 0.7;\"></path><path transform=\"translate(437.5,62.14285714285717)\" d=\"M7.0710678118654755,0A7.0710678118654755,7.0710678118654755,0,1,1,-7.0710678118654755,0A7.0710678118654755,7.0710678118654755,0,1,1,7.0710678118654755,0\" style=\"fill: grey; stroke-width: 2; opacity: 0.7;\"></path><path transform=\"translate(62.5,94.28571428571428)\" d=\"M7.0710678118654755,0A7.0710678118654755,7.0710678118654755,0,1,1,-7.0710678118654755,0A7.0710678118654755,7.0710678118654755,0,1,1,7.0710678118654755,0\" style=\"fill: grey; stroke-width: 2; opacity: 0.7;\"></path><path transform=\"translate(0,100.71428571428572)\" d=\"M7.0710678118654755,0A7.0710678118654755,7.0710678118654755,0,1,1,-7.0710678118654755,0A7.0710678118654755,7.0710678118654755,0,1,1,7.0710678118654755,0\" style=\"fill: grey; stroke-width: 2; opacity: 0.7;\"></path><path transform=\"translate(0,98.57142857142858)\" d=\"M7.0710678118654755,0A7.0710678118654755,7.0710678118654755,0,1,1,-7.0710678118654755,0A7.0710678118654755,7.0710678118654755,0,1,1,7.0710678118654755,0\" style=\"fill: grey; stroke-width: 2; opacity: 0.7;\"></path><path transform=\"translate(312.5,40.71428571428572)\" d=\"M7.0710678118654755,0A7.0710678118654755,7.0710678118654755,0,1,1,-7.0710678118654755,0A7.0710678118654755,7.0710678118654755,0,1,1,7.0710678118654755,0\" style=\"fill: grey; stroke-width: 2; opacity: 0.7;\"></path><path transform=\"translate(500,102.85714285714286)\" d=\"M7.0710678118654755,0A7.0710678118654755,7.0710678118654755,0,1,1,-7.0710678118654755,0A7.0710678118654755,7.0710678118654755,0,1,1,7.0710678118654755,0\" style=\"fill: grey; stroke-width: 2; opacity: 0.7;\"></path><path transform=\"translate(437.5,60)\" d=\"M7.0710678118654755,0A7.0710678118654755,7.0710678118654755,0,1,1,-7.0710678118654755,0A7.0710678118654755,7.0710678118654755,0,1,1,7.0710678118654755,0\" style=\"fill: grey; stroke-width: 2; opacity: 0.7;\"></path><path transform=\"translate(312.5,38.571428571428555)\" d=\"M7.0710678118654755,0A7.0710678118654755,7.0710678118654755,0,1,1,-7.0710678118654755,0A7.0710678118654755,7.0710678118654755,0,1,1,7.0710678118654755,0\" style=\"fill: grey; stroke-width: 2; opacity: 0.7;\"></path><path transform=\"translate(187.5,98.57142857142858)\" d=\"M7.0710678118654755,0A7.0710678118654755,7.0710678118654755,0,1,1,-7.0710678118654755,0A7.0710678118654755,7.0710678118654755,0,1,1,7.0710678118654755,0\" style=\"fill: grey; stroke-width: 2; opacity: 0.7;\"></path><path transform=\"translate(62.5,92.14285714285714)\" d=\"M7.0710678118654755,0A7.0710678118654755,7.0710678118654755,0,1,1,-7.0710678118654755,0A7.0710678118654755,7.0710678118654755,0,1,1,7.0710678118654755,0\" style=\"fill: grey; stroke-width: 2; opacity: 0.7;\"></path><path transform=\"translate(500,100.71428571428572)\" d=\"M7.0710678118654755,0A7.0710678118654755,7.0710678118654755,0,1,1,-7.0710678118654755,0A7.0710678118654755,7.0710678118654755,0,1,1,7.0710678118654755,0\" style=\"fill: grey; stroke-width: 2; opacity: 0.7;\"></path><path transform=\"translate(62.5,90)\" d=\"M7.0710678118654755,0A7.0710678118654755,7.0710678118654755,0,1,1,-7.0710678118654755,0A7.0710678118654755,7.0710678118654755,0,1,1,7.0710678118654755,0\" style=\"fill: grey; stroke-width: 2; opacity: 0.7;\"></path><path transform=\"translate(187.5,96.42857142857142)\" d=\"M7.0710678118654755,0A7.0710678118654755,7.0710678118654755,0,1,1,-7.0710678118654755,0A7.0710678118654755,7.0710678118654755,0,1,1,7.0710678118654755,0\" style=\"fill: grey; stroke-width: 2; opacity: 0.7;\"></path><path transform=\"translate(500,98.57142857142858)\" d=\"M7.0710678118654755,0A7.0710678118654755,7.0710678118654755,0,1,1,-7.0710678118654755,0A7.0710678118654755,7.0710678118654755,0,1,1,7.0710678118654755,0\" style=\"fill: grey; stroke-width: 2; opacity: 0.7;\"></path><path transform=\"translate(187.5,94.28571428571428)\" d=\"M7.0710678118654755,0A7.0710678118654755,7.0710678118654755,0,1,1,-7.0710678118654755,0A7.0710678118654755,7.0710678118654755,0,1,1,7.0710678118654755,0\" style=\"fill: grey; stroke-width: 2; opacity: 0.7;\"></path><path transform=\"translate(250,75)\" d=\"M7.0710678118654755,0A7.0710678118654755,7.0710678118654755,0,1,1,-7.0710678118654755,0A7.0710678118654755,7.0710678118654755,0,1,1,7.0710678118654755,0\" style=\"fill: rgb(67, 145, 197); stroke-width: 2; opacity: 0.7;\"></path><path transform=\"translate(0,96.42857142857142)\" d=\"M7.0710678118654755,0A7.0710678118654755,7.0710678118654755,0,1,1,-7.0710678118654755,0A7.0710678118654755,7.0710678118654755,0,1,1,7.0710678118654755,0\" style=\"fill: grey; stroke-width: 2; opacity: 0.7;\"></path><path transform=\"translate(125,113.57142857142856)\" d=\"M7.0710678118654755,0A7.0710678118654755,7.0710678118654755,0,1,1,-7.0710678118654755,0A7.0710678118654755,7.0710678118654755,0,1,1,7.0710678118654755,0\" style=\"fill: grey; stroke-width: 2; opacity: 0.7;\"></path><path transform=\"translate(62.5,87.85714285714283)\" d=\"M7.0710678118654755,0A7.0710678118654755,7.0710678118654755,0,1,1,-7.0710678118654755,0A7.0710678118654755,7.0710678118654755,0,1,1,7.0710678118654755,0\" style=\"fill: grey; stroke-width: 2; opacity: 0.7;\"></path><path transform=\"translate(0,94.28571428571428)\" d=\"M7.0710678118654755,0A7.0710678118654755,7.0710678118654755,0,1,1,-7.0710678118654755,0A7.0710678118654755,7.0710678118654755,0,1,1,7.0710678118654755,0\" style=\"fill: grey; stroke-width: 2; opacity: 0.7;\"></path><path transform=\"translate(312.5,36.428571428571445)\" d=\"M7.0710678118654755,0A7.0710678118654755,7.0710678118654755,0,1,1,-7.0710678118654755,0A7.0710678118654755,7.0710678118654755,0,1,1,7.0710678118654755,0\" style=\"fill: grey; stroke-width: 2; opacity: 0.7;\"></path><path transform=\"translate(500,96.42857142857142)\" d=\"M7.0710678118654755,0A7.0710678118654755,7.0710678118654755,0,1,1,-7.0710678118654755,0A7.0710678118654755,7.0710678118654755,0,1,1,7.0710678118654755,0\" style=\"fill: grey; stroke-width: 2; opacity: 0.7;\"></path><path transform=\"translate(187.5,92.14285714285714)\" d=\"M7.0710678118654755,0A7.0710678118654755,7.0710678118654755,0,1,1,-7.0710678118654755,0A7.0710678118654755,7.0710678118654755,0,1,1,7.0710678118654755,0\" style=\"fill: grey; stroke-width: 2; opacity: 0.7;\"></path><path transform=\"translate(125,111.42857142857144)\" d=\"M7.0710678118654755,0A7.0710678118654755,7.0710678118654755,0,1,1,-7.0710678118654755,0A7.0710678118654755,7.0710678118654755,0,1,1,7.0710678118654755,0\" style=\"fill: grey; stroke-width: 2; opacity: 0.7;\"></path><path transform=\"translate(62.5,85.71428571428572)\" d=\"M7.0710678118654755,0A7.0710678118654755,7.0710678118654755,0,1,1,-7.0710678118654755,0A7.0710678118654755,7.0710678118654755,0,1,1,7.0710678118654755,0\" style=\"fill: grey; stroke-width: 2; opacity: 0.7;\"></path><path transform=\"translate(500,94.28571428571428)\" d=\"M7.0710678118654755,0A7.0710678118654755,7.0710678118654755,0,1,1,-7.0710678118654755,0A7.0710678118654755,7.0710678118654755,0,1,1,7.0710678118654755,0\" style=\"fill: grey; stroke-width: 2; opacity: 0.7;\"></path><path transform=\"translate(312.5,34.28571428571428)\" d=\"M7.0710678118654755,0A7.0710678118654755,7.0710678118654755,0,1,1,-7.0710678118654755,0A7.0710678118654755,7.0710678118654755,0,1,1,7.0710678118654755,0\" style=\"fill: grey; stroke-width: 2; opacity: 0.7;\"></path><path transform=\"translate(437.5,57.85714285714286)\" d=\"M7.0710678118654755,0A7.0710678118654755,7.0710678118654755,0,1,1,-7.0710678118654755,0A7.0710678118654755,7.0710678118654755,0,1,1,7.0710678118654755,0\" style=\"fill: grey; stroke-width: 2; opacity: 0.7;\"></path><path transform=\"translate(62.5,83.57142857142858)\" d=\"M7.0710678118654755,0A7.0710678118654755,7.0710678118654755,0,1,1,-7.0710678118654755,0A7.0710678118654755,7.0710678118654755,0,1,1,7.0710678118654755,0\" style=\"fill: grey; stroke-width: 2; opacity: 0.7;\"></path><path transform=\"translate(187.5,90)\" d=\"M7.0710678118654755,0A7.0710678118654755,7.0710678118654755,0,1,1,-7.0710678118654755,0A7.0710678118654755,7.0710678118654755,0,1,1,7.0710678118654755,0\" style=\"fill: grey; stroke-width: 2; opacity: 0.7;\"></path><path transform=\"translate(250,72.85714285714286)\" d=\"M7.0710678118654755,0A7.0710678118654755,7.0710678118654755,0,1,1,-7.0710678118654755,0A7.0710678118654755,7.0710678118654755,0,1,1,7.0710678118654755,0\" style=\"fill: rgb(54, 133, 191); stroke-width: 2; opacity: 0.7;\"></path><path transform=\"translate(437.5,55.71428571428572)\" d=\"M7.0710678118654755,0A7.0710678118654755,7.0710678118654755,0,1,1,-7.0710678118654755,0A7.0710678118654755,7.0710678118654755,0,1,1,7.0710678118654755,0\" style=\"fill: grey; stroke-width: 2; opacity: 0.7;\"></path><path transform=\"translate(187.5,87.85714285714283)\" d=\"M7.0710678118654755,0A7.0710678118654755,7.0710678118654755,0,1,1,-7.0710678118654755,0A7.0710678118654755,7.0710678118654755,0,1,1,7.0710678118654755,0\" style=\"fill: grey; stroke-width: 2; opacity: 0.7;\"></path><path transform=\"translate(312.5,32.14285714285711)\" d=\"M7.0710678118654755,0A7.0710678118654755,7.0710678118654755,0,1,1,-7.0710678118654755,0A7.0710678118654755,7.0710678118654755,0,1,1,7.0710678118654755,0\" style=\"fill: grey; stroke-width: 2; opacity: 0.7;\"></path><path transform=\"translate(62.5,81.42857142857144)\" d=\"M7.0710678118654755,0A7.0710678118654755,7.0710678118654755,0,1,1,-7.0710678118654755,0A7.0710678118654755,7.0710678118654755,0,1,1,7.0710678118654755,0\" style=\"fill: grey; stroke-width: 2; opacity: 0.7;\"></path><path transform=\"translate(62.5,79.28571428571428)\" d=\"M7.0710678118654755,0A7.0710678118654755,7.0710678118654755,0,1,1,-7.0710678118654755,0A7.0710678118654755,7.0710678118654755,0,1,1,7.0710678118654755,0\" style=\"fill: grey; stroke-width: 2; opacity: 0.7;\"></path><path transform=\"translate(375,102.85714285714286)\" d=\"M7.0710678118654755,0A7.0710678118654755,7.0710678118654755,0,1,1,-7.0710678118654755,0A7.0710678118654755,7.0710678118654755,0,1,1,7.0710678118654755,0\" style=\"fill: grey; stroke-width: 2; opacity: 0.7;\"></path><path transform=\"translate(437.5,53.571428571428584)\" d=\"M7.0710678118654755,0A7.0710678118654755,7.0710678118654755,0,1,1,-7.0710678118654755,0A7.0710678118654755,7.0710678118654755,0,1,1,7.0710678118654755,0\" style=\"fill: grey; stroke-width: 2; opacity: 0.7;\"></path><path transform=\"translate(437.5,51.428571428571416)\" d=\"M7.0710678118654755,0A7.0710678118654755,7.0710678118654755,0,1,1,-7.0710678118654755,0A7.0710678118654755,7.0710678118654755,0,1,1,7.0710678118654755,0\" style=\"fill: grey; stroke-width: 2; opacity: 0.7;\"></path><path transform=\"translate(250,70.71428571428572)\" d=\"M7.0710678118654755,0A7.0710678118654755,7.0710678118654755,0,1,1,-7.0710678118654755,0A7.0710678118654755,7.0710678118654755,0,1,1,7.0710678118654755,0\" style=\"fill: rgb(101, 169, 210); stroke-width: 2; opacity: 0.7;\"></path><path transform=\"translate(437.5,49.28571428571428)\" d=\"M7.0710678118654755,0A7.0710678118654755,7.0710678118654755,0,1,1,-7.0710678118654755,0A7.0710678118654755,7.0710678118654755,0,1,1,7.0710678118654755,0\" style=\"fill: grey; stroke-width: 2; opacity: 0.7;\"></path><path transform=\"translate(125,109.2857142857143)\" d=\"M7.0710678118654755,0A7.0710678118654755,7.0710678118654755,0,1,1,-7.0710678118654755,0A7.0710678118654755,7.0710678118654755,0,1,1,7.0710678118654755,0\" style=\"fill: grey; stroke-width: 2; opacity: 0.7;\"></path><path transform=\"translate(187.5,85.71428571428572)\" d=\"M7.0710678118654755,0A7.0710678118654755,7.0710678118654755,0,1,1,-7.0710678118654755,0A7.0710678118654755,7.0710678118654755,0,1,1,7.0710678118654755,0\" style=\"fill: grey; stroke-width: 2; opacity: 0.7;\"></path><path transform=\"translate(312.5,30)\" d=\"M7.0710678118654755,0A7.0710678118654755,7.0710678118654755,0,1,1,-7.0710678118654755,0A7.0710678118654755,7.0710678118654755,0,1,1,7.0710678118654755,0\" style=\"fill: grey; stroke-width: 2; opacity: 0.7;\"></path><path transform=\"translate(437.5,47.14285714285714)\" d=\"M7.0710678118654755,0A7.0710678118654755,7.0710678118654755,0,1,1,-7.0710678118654755,0A7.0710678118654755,7.0710678118654755,0,1,1,7.0710678118654755,0\" style=\"fill: grey; stroke-width: 2; opacity: 0.7;\"></path><path transform=\"translate(125,107.14285714285714)\" d=\"M7.0710678118654755,0A7.0710678118654755,7.0710678118654755,0,1,1,-7.0710678118654755,0A7.0710678118654755,7.0710678118654755,0,1,1,7.0710678118654755,0\" style=\"fill: grey; stroke-width: 2; opacity: 0.7;\"></path><path transform=\"translate(125,105)\" d=\"M7.0710678118654755,0A7.0710678118654755,7.0710678118654755,0,1,1,-7.0710678118654755,0A7.0710678118654755,7.0710678118654755,0,1,1,7.0710678118654755,0\" style=\"fill: grey; stroke-width: 2; opacity: 0.7;\"></path><path transform=\"translate(437.5,45)\" d=\"M7.0710678118654755,0A7.0710678118654755,7.0710678118654755,0,1,1,-7.0710678118654755,0A7.0710678118654755,7.0710678118654755,0,1,1,7.0710678118654755,0\" style=\"fill: grey; stroke-width: 2; opacity: 0.7;\"></path><path transform=\"translate(125,102.85714285714286)\" d=\"M7.0710678118654755,0A7.0710678118654755,7.0710678118654755,0,1,1,-7.0710678118654755,0A7.0710678118654755,7.0710678118654755,0,1,1,7.0710678118654755,0\" style=\"fill: grey; stroke-width: 2; opacity: 0.7;\"></path><path transform=\"translate(500,92.14285714285714)\" d=\"M7.0710678118654755,0A7.0710678118654755,7.0710678118654755,0,1,1,-7.0710678118654755,0A7.0710678118654755,7.0710678118654755,0,1,1,7.0710678118654755,0\" style=\"fill: grey; stroke-width: 2; opacity: 0.7;\"></path><path transform=\"translate(250,68.57142857142856)\" d=\"M7.0710678118654755,0A7.0710678118654755,7.0710678118654755,0,1,1,-7.0710678118654755,0A7.0710678118654755,7.0710678118654755,0,1,1,7.0710678118654755,0\" style=\"fill: rgb(120, 180, 216); stroke-width: 2; opacity: 0.7;\"></path><path transform=\"translate(250,66.42857142857142)\" d=\"M7.0710678118654755,0A7.0710678118654755,7.0710678118654755,0,1,1,-7.0710678118654755,0A7.0710678118654755,7.0710678118654755,0,1,1,7.0710678118654755,0\" style=\"fill: rgb(160, 202, 227); stroke-width: 2; opacity: 0.7;\"></path><path transform=\"translate(187.5,83.57142857142858)\" d=\"M7.0710678118654755,0A7.0710678118654755,7.0710678118654755,0,1,1,-7.0710678118654755,0A7.0710678118654755,7.0710678118654755,0,1,1,7.0710678118654755,0\" style=\"fill: grey; stroke-width: 2; opacity: 0.7;\"></path><path transform=\"translate(250,64.28571428571428)\" d=\"M7.0710678118654755,0A7.0710678118654755,7.0710678118654755,0,1,1,-7.0710678118654755,0A7.0710678118654755,7.0710678118654755,0,1,1,7.0710678118654755,0\" style=\"fill: rgb(63, 141, 195); stroke-width: 2; opacity: 0.7;\"></path><path transform=\"translate(187.5,81.42857142857144)\" d=\"M7.0710678118654755,0A7.0710678118654755,7.0710678118654755,0,1,1,-7.0710678118654755,0A7.0710678118654755,7.0710678118654755,0,1,1,7.0710678118654755,0\" style=\"fill: grey; stroke-width: 2; opacity: 0.7;\"></path><path transform=\"translate(250,62.14285714285717)\" d=\"M7.0710678118654755,0A7.0710678118654755,7.0710678118654755,0,1,1,-7.0710678118654755,0A7.0710678118654755,7.0710678118654755,0,1,1,7.0710678118654755,0\" style=\"fill: rgb(130, 186, 219); stroke-width: 2; opacity: 0.7;\"></path><path transform=\"translate(500,90)\" d=\"M7.0710678118654755,0A7.0710678118654755,7.0710678118654755,0,1,1,-7.0710678118654755,0A7.0710678118654755,7.0710678118654755,0,1,1,7.0710678118654755,0\" style=\"fill: grey; stroke-width: 2; opacity: 0.7;\"></path><path transform=\"translate(500,87.85714285714283)\" d=\"M7.0710678118654755,0A7.0710678118654755,7.0710678118654755,0,1,1,-7.0710678118654755,0A7.0710678118654755,7.0710678118654755,0,1,1,7.0710678118654755,0\" style=\"fill: grey; stroke-width: 2; opacity: 0.7;\"></path><path transform=\"translate(187.5,79.28571428571428)\" d=\"M7.0710678118654755,0A7.0710678118654755,7.0710678118654755,0,1,1,-7.0710678118654755,0A7.0710678118654755,7.0710678118654755,0,1,1,7.0710678118654755,0\" style=\"fill: grey; stroke-width: 2; opacity: 0.7;\"></path><path transform=\"translate(250,60)\" d=\"M7.0710678118654755,0A7.0710678118654755,7.0710678118654755,0,1,1,-7.0710678118654755,0A7.0710678118654755,7.0710678118654755,0,1,1,7.0710678118654755,0\" style=\"fill: rgb(109, 174, 213); stroke-width: 2; opacity: 0.7;\"></path><path transform=\"translate(0,92.14285714285714)\" d=\"M7.0710678118654755,0A7.0710678118654755,7.0710678118654755,0,1,1,-7.0710678118654755,0A7.0710678118654755,7.0710678118654755,0,1,1,7.0710678118654755,0\" style=\"fill: grey; stroke-width: 2; opacity: 0.7;\"></path><path transform=\"translate(125,100.71428571428572)\" d=\"M7.0710678118654755,0A7.0710678118654755,7.0710678118654755,0,1,1,-7.0710678118654755,0A7.0710678118654755,7.0710678118654755,0,1,1,7.0710678118654755,0\" style=\"fill: grey; stroke-width: 2; opacity: 0.7;\"></path><path transform=\"translate(375,100.71428571428572)\" d=\"M7.0710678118654755,0A7.0710678118654755,7.0710678118654755,0,1,1,-7.0710678118654755,0A7.0710678118654755,7.0710678118654755,0,1,1,7.0710678118654755,0\" style=\"fill: grey; stroke-width: 2; opacity: 0.7;\"></path><path transform=\"translate(62.5,77.14285714285714)\" d=\"M7.0710678118654755,0A7.0710678118654755,7.0710678118654755,0,1,1,-7.0710678118654755,0A7.0710678118654755,7.0710678118654755,0,1,1,7.0710678118654755,0\" style=\"fill: grey; stroke-width: 2; opacity: 0.7;\"></path><path transform=\"translate(312.5,27.857142857142833)\" d=\"M7.0710678118654755,0A7.0710678118654755,7.0710678118654755,0,1,1,-7.0710678118654755,0A7.0710678118654755,7.0710678118654755,0,1,1,7.0710678118654755,0\" style=\"fill: grey; stroke-width: 2; opacity: 0.7;\"></path><path transform=\"translate(125,98.57142857142858)\" d=\"M7.0710678118654755,0A7.0710678118654755,7.0710678118654755,0,1,1,-7.0710678118654755,0A7.0710678118654755,7.0710678118654755,0,1,1,7.0710678118654755,0\" style=\"fill: grey; stroke-width: 2; opacity: 0.7;\"></path><path transform=\"translate(250,57.85714285714286)\" d=\"M7.0710678118654755,0A7.0710678118654755,7.0710678118654755,0,1,1,-7.0710678118654755,0A7.0710678118654755,7.0710678118654755,0,1,1,7.0710678118654755,0\" style=\"fill: rgb(107, 173, 212); stroke-width: 2; opacity: 0.7;\"></path><path transform=\"translate(312.5,25.714285714285722)\" d=\"M7.0710678118654755,0A7.0710678118654755,7.0710678118654755,0,1,1,-7.0710678118654755,0A7.0710678118654755,7.0710678118654755,0,1,1,7.0710678118654755,0\" style=\"fill: grey; stroke-width: 2; opacity: 0.7;\"></path><path transform=\"translate(437.5,42.85714285714289)\" d=\"M7.0710678118654755,0A7.0710678118654755,7.0710678118654755,0,1,1,-7.0710678118654755,0A7.0710678118654755,7.0710678118654755,0,1,1,7.0710678118654755,0\" style=\"fill: grey; stroke-width: 2; opacity: 0.7;\"></path><path transform=\"translate(375,98.57142857142858)\" d=\"M7.0710678118654755,0A7.0710678118654755,7.0710678118654755,0,1,1,-7.0710678118654755,0A7.0710678118654755,7.0710678118654755,0,1,1,7.0710678118654755,0\" style=\"fill: grey; stroke-width: 2; opacity: 0.7;\"></path><path transform=\"translate(500,85.71428571428572)\" d=\"M7.0710678118654755,0A7.0710678118654755,7.0710678118654755,0,1,1,-7.0710678118654755,0A7.0710678118654755,7.0710678118654755,0,1,1,7.0710678118654755,0\" style=\"fill: grey; stroke-width: 2; opacity: 0.7;\"></path><path transform=\"translate(375,96.42857142857142)\" d=\"M7.0710678118654755,0A7.0710678118654755,7.0710678118654755,0,1,1,-7.0710678118654755,0A7.0710678118654755,7.0710678118654755,0,1,1,7.0710678118654755,0\" style=\"fill: grey; stroke-width: 2; opacity: 0.7;\"></path><path transform=\"translate(437.5,40.71428571428572)\" d=\"M7.0710678118654755,0A7.0710678118654755,7.0710678118654755,0,1,1,-7.0710678118654755,0A7.0710678118654755,7.0710678118654755,0,1,1,7.0710678118654755,0\" style=\"fill: grey; stroke-width: 2; opacity: 0.7;\"></path><path transform=\"translate(187.5,77.14285714285714)\" d=\"M7.0710678118654755,0A7.0710678118654755,7.0710678118654755,0,1,1,-7.0710678118654755,0A7.0710678118654755,7.0710678118654755,0,1,1,7.0710678118654755,0\" style=\"fill: grey; stroke-width: 2; opacity: 0.7;\"></path><path transform=\"translate(375,94.28571428571428)\" d=\"M7.0710678118654755,0A7.0710678118654755,7.0710678118654755,0,1,1,-7.0710678118654755,0A7.0710678118654755,7.0710678118654755,0,1,1,7.0710678118654755,0\" style=\"fill: grey; stroke-width: 2; opacity: 0.7;\"></path><path transform=\"translate(62.5,75)\" d=\"M7.0710678118654755,0A7.0710678118654755,7.0710678118654755,0,1,1,-7.0710678118654755,0A7.0710678118654755,7.0710678118654755,0,1,1,7.0710678118654755,0\" style=\"fill: grey; stroke-width: 2; opacity: 0.7;\"></path><path transform=\"translate(250,55.71428571428572)\" d=\"M7.0710678118654755,0A7.0710678118654755,7.0710678118654755,0,1,1,-7.0710678118654755,0A7.0710678118654755,7.0710678118654755,0,1,1,7.0710678118654755,0\" style=\"fill: rgb(126, 183, 218); stroke-width: 2; opacity: 0.7;\"></path><path transform=\"translate(312.5,23.571428571428612)\" d=\"M7.0710678118654755,0A7.0710678118654755,7.0710678118654755,0,1,1,-7.0710678118654755,0A7.0710678118654755,7.0710678118654755,0,1,1,7.0710678118654755,0\" style=\"fill: grey; stroke-width: 2; opacity: 0.7;\"></path><path transform=\"translate(312.5,21.428571428571445)\" d=\"M7.0710678118654755,0A7.0710678118654755,7.0710678118654755,0,1,1,-7.0710678118654755,0A7.0710678118654755,7.0710678118654755,0,1,1,7.0710678118654755,0\" style=\"fill: grey; stroke-width: 2; opacity: 0.7;\"></path><path transform=\"translate(125,96.42857142857142)\" d=\"M7.0710678118654755,0A7.0710678118654755,7.0710678118654755,0,1,1,-7.0710678118654755,0A7.0710678118654755,7.0710678118654755,0,1,1,7.0710678118654755,0\" style=\"fill: grey; stroke-width: 2; opacity: 0.7;\"></path><path transform=\"translate(312.5,19.285714285714278)\" d=\"M7.0710678118654755,0A7.0710678118654755,7.0710678118654755,0,1,1,-7.0710678118654755,0A7.0710678118654755,7.0710678118654755,0,1,1,7.0710678118654755,0\" style=\"fill: grey; stroke-width: 2; opacity: 0.7;\"></path><path transform=\"translate(500,83.57142857142858)\" d=\"M7.0710678118654755,0A7.0710678118654755,7.0710678118654755,0,1,1,-7.0710678118654755,0A7.0710678118654755,7.0710678118654755,0,1,1,7.0710678118654755,0\" style=\"fill: grey; stroke-width: 2; opacity: 0.7;\"></path><path transform=\"translate(500,81.42857142857144)\" d=\"M7.0710678118654755,0A7.0710678118654755,7.0710678118654755,0,1,1,-7.0710678118654755,0A7.0710678118654755,7.0710678118654755,0,1,1,7.0710678118654755,0\" style=\"fill: grey; stroke-width: 2; opacity: 0.7;\"></path><path transform=\"translate(437.5,38.571428571428555)\" d=\"M7.0710678118654755,0A7.0710678118654755,7.0710678118654755,0,1,1,-7.0710678118654755,0A7.0710678118654755,7.0710678118654755,0,1,1,7.0710678118654755,0\" style=\"fill: grey; stroke-width: 2; opacity: 0.7;\"></path><path transform=\"translate(0,90)\" d=\"M7.0710678118654755,0A7.0710678118654755,7.0710678118654755,0,1,1,-7.0710678118654755,0A7.0710678118654755,7.0710678118654755,0,1,1,7.0710678118654755,0\" style=\"fill: grey; stroke-width: 2; opacity: 0.7;\"></path><path transform=\"translate(0,87.85714285714283)\" d=\"M7.0710678118654755,0A7.0710678118654755,7.0710678118654755,0,1,1,-7.0710678118654755,0A7.0710678118654755,7.0710678118654755,0,1,1,7.0710678118654755,0\" style=\"fill: grey; stroke-width: 2; opacity: 0.7;\"></path><path transform=\"translate(187.5,75)\" d=\"M7.0710678118654755,0A7.0710678118654755,7.0710678118654755,0,1,1,-7.0710678118654755,0A7.0710678118654755,7.0710678118654755,0,1,1,7.0710678118654755,0\" style=\"fill: grey; stroke-width: 2; opacity: 0.7;\"></path><path transform=\"translate(312.5,17.142857142857167)\" d=\"M7.0710678118654755,0A7.0710678118654755,7.0710678118654755,0,1,1,-7.0710678118654755,0A7.0710678118654755,7.0710678118654755,0,1,1,7.0710678118654755,0\" style=\"fill: grey; stroke-width: 2; opacity: 0.7;\"></path><path transform=\"translate(312.5,15)\" d=\"M7.0710678118654755,0A7.0710678118654755,7.0710678118654755,0,1,1,-7.0710678118654755,0A7.0710678118654755,7.0710678118654755,0,1,1,7.0710678118654755,0\" style=\"fill: grey; stroke-width: 2; opacity: 0.7;\"></path><path transform=\"translate(500,79.28571428571428)\" d=\"M7.0710678118654755,0A7.0710678118654755,7.0710678118654755,0,1,1,-7.0710678118654755,0A7.0710678118654755,7.0710678118654755,0,1,1,7.0710678118654755,0\" style=\"fill: grey; stroke-width: 2; opacity: 0.7;\"></path><path transform=\"translate(500,77.14285714285714)\" d=\"M7.0710678118654755,0A7.0710678118654755,7.0710678118654755,0,1,1,-7.0710678118654755,0A7.0710678118654755,7.0710678118654755,0,1,1,7.0710678118654755,0\" style=\"fill: grey; stroke-width: 2; opacity: 0.7;\"></path><path transform=\"translate(375,92.14285714285714)\" d=\"M7.0710678118654755,0A7.0710678118654755,7.0710678118654755,0,1,1,-7.0710678118654755,0A7.0710678118654755,7.0710678118654755,0,1,1,7.0710678118654755,0\" style=\"fill: grey; stroke-width: 2; opacity: 0.7;\"></path><path transform=\"translate(437.5,36.428571428571445)\" d=\"M7.0710678118654755,0A7.0710678118654755,7.0710678118654755,0,1,1,-7.0710678118654755,0A7.0710678118654755,7.0710678118654755,0,1,1,7.0710678118654755,0\" style=\"fill: grey; stroke-width: 2; opacity: 0.7;\"></path><path transform=\"translate(375,90)\" d=\"M7.0710678118654755,0A7.0710678118654755,7.0710678118654755,0,1,1,-7.0710678118654755,0A7.0710678118654755,7.0710678118654755,0,1,1,7.0710678118654755,0\" style=\"fill: grey; stroke-width: 2; opacity: 0.7;\"></path><path transform=\"translate(0,85.71428571428572)\" d=\"M7.0710678118654755,0A7.0710678118654755,7.0710678118654755,0,1,1,-7.0710678118654755,0A7.0710678118654755,7.0710678118654755,0,1,1,7.0710678118654755,0\" style=\"fill: grey; stroke-width: 2; opacity: 0.7;\"></path><path transform=\"translate(125,94.28571428571428)\" d=\"M7.0710678118654755,0A7.0710678118654755,7.0710678118654755,0,1,1,-7.0710678118654755,0A7.0710678118654755,7.0710678118654755,0,1,1,7.0710678118654755,0\" style=\"fill: grey; stroke-width: 2; opacity: 0.7;\"></path><path transform=\"translate(437.5,34.28571428571428)\" d=\"M7.0710678118654755,0A7.0710678118654755,7.0710678118654755,0,1,1,-7.0710678118654755,0A7.0710678118654755,7.0710678118654755,0,1,1,7.0710678118654755,0\" style=\"fill: grey; stroke-width: 2; opacity: 0.7;\"></path><path transform=\"translate(0,83.57142857142858)\" d=\"M7.0710678118654755,0A7.0710678118654755,7.0710678118654755,0,1,1,-7.0710678118654755,0A7.0710678118654755,7.0710678118654755,0,1,1,7.0710678118654755,0\" style=\"fill: grey; stroke-width: 2; opacity: 0.7;\"></path><path transform=\"translate(500,75)\" d=\"M7.0710678118654755,0A7.0710678118654755,7.0710678118654755,0,1,1,-7.0710678118654755,0A7.0710678118654755,7.0710678118654755,0,1,1,7.0710678118654755,0\" style=\"fill: grey; stroke-width: 2; opacity: 0.7;\"></path><path transform=\"translate(0,81.42857142857144)\" d=\"M7.0710678118654755,0A7.0710678118654755,7.0710678118654755,0,1,1,-7.0710678118654755,0A7.0710678118654755,7.0710678118654755,0,1,1,7.0710678118654755,0\" style=\"fill: grey; stroke-width: 2; opacity: 0.7;\"></path><path transform=\"translate(250,53.571428571428584)\" d=\"M7.0710678118654755,0A7.0710678118654755,7.0710678118654755,0,1,1,-7.0710678118654755,0A7.0710678118654755,7.0710678118654755,0,1,1,7.0710678118654755,0\" style=\"fill: rgb(80, 154, 202); stroke-width: 2; opacity: 0.7;\"></path><path transform=\"translate(62.5,72.85714285714286)\" d=\"M7.0710678118654755,0A7.0710678118654755,7.0710678118654755,0,1,1,-7.0710678118654755,0A7.0710678118654755,7.0710678118654755,0,1,1,7.0710678118654755,0\" style=\"fill: grey; stroke-width: 2; opacity: 0.7;\"></path><path transform=\"translate(500,72.85714285714286)\" d=\"M7.0710678118654755,0A7.0710678118654755,7.0710678118654755,0,1,1,-7.0710678118654755,0A7.0710678118654755,7.0710678118654755,0,1,1,7.0710678118654755,0\" style=\"fill: grey; stroke-width: 2; opacity: 0.7;\"></path><path transform=\"translate(500,70.71428571428572)\" d=\"M7.0710678118654755,0A7.0710678118654755,7.0710678118654755,0,1,1,-7.0710678118654755,0A7.0710678118654755,7.0710678118654755,0,1,1,7.0710678118654755,0\" style=\"fill: grey; stroke-width: 2; opacity: 0.7;\"></path><path transform=\"translate(500,68.57142857142856)\" d=\"M7.0710678118654755,0A7.0710678118654755,7.0710678118654755,0,1,1,-7.0710678118654755,0A7.0710678118654755,7.0710678118654755,0,1,1,7.0710678118654755,0\" style=\"fill: grey; stroke-width: 2; opacity: 0.7;\"></path><path transform=\"translate(125,92.14285714285714)\" d=\"M7.0710678118654755,0A7.0710678118654755,7.0710678118654755,0,1,1,-7.0710678118654755,0A7.0710678118654755,7.0710678118654755,0,1,1,7.0710678118654755,0\" style=\"fill: grey; stroke-width: 2; opacity: 0.7;\"></path><path transform=\"translate(250,51.428571428571416)\" d=\"M7.0710678118654755,0A7.0710678118654755,7.0710678118654755,0,1,1,-7.0710678118654755,0A7.0710678118654755,7.0710678118654755,0,1,1,7.0710678118654755,0\" style=\"fill: rgb(119, 179, 216); stroke-width: 2; opacity: 0.7;\"></path><path transform=\"translate(0,79.28571428571428)\" d=\"M7.0710678118654755,0A7.0710678118654755,7.0710678118654755,0,1,1,-7.0710678118654755,0A7.0710678118654755,7.0710678118654755,0,1,1,7.0710678118654755,0\" style=\"fill: grey; stroke-width: 2; opacity: 0.7;\"></path><path transform=\"translate(250,49.28571428571428)\" d=\"M7.0710678118654755,0A7.0710678118654755,7.0710678118654755,0,1,1,-7.0710678118654755,0A7.0710678118654755,7.0710678118654755,0,1,1,7.0710678118654755,0\" style=\"fill: rgb(51, 131, 190); stroke-width: 2; opacity: 0.7;\"></path><path transform=\"translate(437.5,32.14285714285711)\" d=\"M7.0710678118654755,0A7.0710678118654755,7.0710678118654755,0,1,1,-7.0710678118654755,0A7.0710678118654755,7.0710678118654755,0,1,1,7.0710678118654755,0\" style=\"fill: grey; stroke-width: 2; opacity: 0.7;\"></path><path transform=\"translate(375,87.85714285714283)\" d=\"M7.0710678118654755,0A7.0710678118654755,7.0710678118654755,0,1,1,-7.0710678118654755,0A7.0710678118654755,7.0710678118654755,0,1,1,7.0710678118654755,0\" style=\"fill: grey; stroke-width: 2; opacity: 0.7;\"></path><path transform=\"translate(437.5,30)\" d=\"M7.0710678118654755,0A7.0710678118654755,7.0710678118654755,0,1,1,-7.0710678118654755,0A7.0710678118654755,7.0710678118654755,0,1,1,7.0710678118654755,0\" style=\"fill: grey; stroke-width: 2; opacity: 0.7;\"></path><path transform=\"translate(250,47.14285714285714)\" d=\"M7.0710678118654755,0A7.0710678118654755,7.0710678118654755,0,1,1,-7.0710678118654755,0A7.0710678118654755,7.0710678118654755,0,1,1,7.0710678118654755,0\" style=\"fill: rgb(86, 159, 205); stroke-width: 2; opacity: 0.7;\"></path><path transform=\"translate(375,85.71428571428572)\" d=\"M7.0710678118654755,0A7.0710678118654755,7.0710678118654755,0,1,1,-7.0710678118654755,0A7.0710678118654755,7.0710678118654755,0,1,1,7.0710678118654755,0\" style=\"fill: grey; stroke-width: 2; opacity: 0.7;\"></path><path transform=\"translate(375,83.57142857142858)\" d=\"M7.0710678118654755,0A7.0710678118654755,7.0710678118654755,0,1,1,-7.0710678118654755,0A7.0710678118654755,7.0710678118654755,0,1,1,7.0710678118654755,0\" style=\"fill: grey; stroke-width: 2; opacity: 0.7;\"></path><path transform=\"translate(500,66.42857142857142)\" d=\"M7.0710678118654755,0A7.0710678118654755,7.0710678118654755,0,1,1,-7.0710678118654755,0A7.0710678118654755,7.0710678118654755,0,1,1,7.0710678118654755,0\" style=\"fill: grey; stroke-width: 2; opacity: 0.7;\"></path><path transform=\"translate(250,45)\" d=\"M7.0710678118654755,0A7.0710678118654755,7.0710678118654755,0,1,1,-7.0710678118654755,0A7.0710678118654755,7.0710678118654755,0,1,1,7.0710678118654755,0\" style=\"fill: rgb(79, 154, 202); stroke-width: 2; opacity: 0.7;\"></path><path transform=\"translate(312.5,12.857142857142833)\" d=\"M7.0710678118654755,0A7.0710678118654755,7.0710678118654755,0,1,1,-7.0710678118654755,0A7.0710678118654755,7.0710678118654755,0,1,1,7.0710678118654755,0\" style=\"fill: grey; stroke-width: 2; opacity: 0.7;\"></path></g><g class=\"mark-rect role-mark brush_brush\" clip-path=\"url(#clip2)\"><path d=\"M225,0h50v300h-50Z\" style=\"fill: none; stroke: white;\"></path></g><g class=\"mark-group role-axis\"><g transform=\"translate(0.5,300.5)\"><path class=\"background\" d=\"M0,0h0v0h0Z\" style=\"pointer-events: none; fill: none;\"></path><g><g class=\"mark-rule role-axis-tick\" style=\"pointer-events: none;\"><line transform=\"translate(0,0)\" x2=\"0\" y2=\"5\" style=\"fill: none; stroke: #888; stroke-width: 1; opacity: 1;\"></line><line transform=\"translate(31,0)\" x2=\"0\" y2=\"5\" style=\"fill: none; stroke: #888; stroke-width: 1; opacity: 1;\"></line><line transform=\"translate(63,0)\" x2=\"0\" y2=\"5\" style=\"fill: none; stroke: #888; stroke-width: 1; opacity: 1;\"></line><line transform=\"translate(94,0)\" x2=\"0\" y2=\"5\" style=\"fill: none; stroke: #888; stroke-width: 1; opacity: 1;\"></line><line transform=\"translate(125,0)\" x2=\"0\" y2=\"5\" style=\"fill: none; stroke: #888; stroke-width: 1; opacity: 1;\"></line><line transform=\"translate(156,0)\" x2=\"0\" y2=\"5\" style=\"fill: none; stroke: #888; stroke-width: 1; opacity: 1;\"></line><line transform=\"translate(188,0)\" x2=\"0\" y2=\"5\" style=\"fill: none; stroke: #888; stroke-width: 1; opacity: 1;\"></line><line transform=\"translate(219,0)\" x2=\"0\" y2=\"5\" style=\"fill: none; stroke: #888; stroke-width: 1; opacity: 1;\"></line><line transform=\"translate(250,0)\" x2=\"0\" y2=\"5\" style=\"fill: none; stroke: #888; stroke-width: 1; opacity: 1;\"></line><line transform=\"translate(281,0)\" x2=\"0\" y2=\"5\" style=\"fill: none; stroke: #888; stroke-width: 1; opacity: 1;\"></line><line transform=\"translate(313,0)\" x2=\"0\" y2=\"5\" style=\"fill: none; stroke: #888; stroke-width: 1; opacity: 1;\"></line><line transform=\"translate(344,0)\" x2=\"0\" y2=\"5\" style=\"fill: none; stroke: #888; stroke-width: 1; opacity: 1;\"></line><line transform=\"translate(375,0)\" x2=\"0\" y2=\"5\" style=\"fill: none; stroke: #888; stroke-width: 1; opacity: 1;\"></line><line transform=\"translate(406,0)\" x2=\"0\" y2=\"5\" style=\"fill: none; stroke: #888; stroke-width: 1; opacity: 1;\"></line><line transform=\"translate(438,0)\" x2=\"0\" y2=\"5\" style=\"fill: none; stroke: #888; stroke-width: 1; opacity: 1;\"></line><line transform=\"translate(469,0)\" x2=\"0\" y2=\"5\" style=\"fill: none; stroke: #888; stroke-width: 1; opacity: 1;\"></line><line transform=\"translate(500,0)\" x2=\"0\" y2=\"5\" style=\"fill: none; stroke: #888; stroke-width: 1; opacity: 1;\"></line></g><g class=\"mark-text role-axis-label\" style=\"pointer-events: none;\"><text text-anchor=\"start\" transform=\"translate(0,15)\" style=\"font-family: sans-serif; font-size: 10px; fill: #000; opacity: 1;\">0.0</text><text text-anchor=\"middle\" transform=\"translate(31.25,15)\" style=\"font-family: sans-serif; font-size: 10px; fill: #000; opacity: 1;\">0.5</text><text text-anchor=\"middle\" transform=\"translate(62.5,15)\" style=\"font-family: sans-serif; font-size: 10px; fill: #000; opacity: 1;\">1.0</text><text text-anchor=\"middle\" transform=\"translate(93.75,15)\" style=\"font-family: sans-serif; font-size: 10px; fill: #000; opacity: 1;\">1.5</text><text text-anchor=\"middle\" transform=\"translate(125,15)\" style=\"font-family: sans-serif; font-size: 10px; fill: #000; opacity: 1;\">2.0</text><text text-anchor=\"middle\" transform=\"translate(156.25,15)\" style=\"font-family: sans-serif; font-size: 10px; fill: #000; opacity: 1;\">2.5</text><text text-anchor=\"middle\" transform=\"translate(187.5,15)\" style=\"font-family: sans-serif; font-size: 10px; fill: #000; opacity: 1;\">3.0</text><text text-anchor=\"middle\" transform=\"translate(218.75,15)\" style=\"font-family: sans-serif; font-size: 10px; fill: #000; opacity: 1;\">3.5</text><text text-anchor=\"middle\" transform=\"translate(250,15)\" style=\"font-family: sans-serif; font-size: 10px; fill: #000; opacity: 1;\">4.0</text><text text-anchor=\"middle\" transform=\"translate(281.25,15)\" style=\"font-family: sans-serif; font-size: 10px; fill: #000; opacity: 1;\">4.5</text><text text-anchor=\"middle\" transform=\"translate(312.5,15)\" style=\"font-family: sans-serif; font-size: 10px; fill: #000; opacity: 1;\">5.0</text><text text-anchor=\"middle\" transform=\"translate(343.75,15)\" style=\"font-family: sans-serif; font-size: 10px; fill: #000; opacity: 1;\">5.5</text><text text-anchor=\"middle\" transform=\"translate(375,15)\" style=\"font-family: sans-serif; font-size: 10px; fill: #000; opacity: 1;\">6.0</text><text text-anchor=\"middle\" transform=\"translate(406.25,15)\" style=\"font-family: sans-serif; font-size: 10px; fill: #000; opacity: 1;\">6.5</text><text text-anchor=\"middle\" transform=\"translate(437.5,15)\" style=\"font-family: sans-serif; font-size: 10px; fill: #000; opacity: 1;\">7.0</text><text text-anchor=\"middle\" transform=\"translate(468.75,15)\" style=\"font-family: sans-serif; font-size: 10px; fill: #000; opacity: 1;\">7.5</text><text text-anchor=\"end\" transform=\"translate(500,15)\" style=\"font-family: sans-serif; font-size: 10px; fill: #000; opacity: 1;\">8.0</text></g><g class=\"mark-rule role-axis-domain\" style=\"pointer-events: none;\"><line transform=\"translate(0,0)\" x2=\"500\" y2=\"0\" style=\"fill: none; stroke: #888; stroke-width: 1; opacity: 1;\"></line></g><g class=\"mark-text role-axis-title\" style=\"pointer-events: none;\"><text text-anchor=\"middle\" transform=\"translate(250,30)\" style=\"font-family: sans-serif; font-size: 11px; font-weight: bold; fill: #000; opacity: 1;\">Samples</text></g></g></g></g></g></g></g><g class=\"mark-group role-scope concat_1_group\"><g transform=\"translate(563,0)\"><path class=\"background\" d=\"M0.5,0.5h500v300h-500Z\" style=\"fill: none; stroke: #ddd;\"></path><g><g class=\"mark-group role-axis\"><g transform=\"translate(0.5,0.5)\"><path class=\"background\" d=\"M0,0h0v0h0Z\" style=\"pointer-events: none; fill: none;\"></path><g><g class=\"mark-rule role-axis-grid\" style=\"pointer-events: none;\"><line transform=\"translate(0,300)\" x2=\"500\" y2=\"0\" style=\"fill: none; stroke: #ddd; stroke-width: 1; opacity: 1;\"></line><line transform=\"translate(0,133)\" x2=\"500\" y2=\"0\" style=\"fill: none; stroke: #ddd; stroke-width: 1; opacity: 1;\"></line><line transform=\"translate(0,267)\" x2=\"500\" y2=\"0\" style=\"fill: none; stroke: #ddd; stroke-width: 1; opacity: 1;\"></line><line transform=\"translate(0,233)\" x2=\"500\" y2=\"0\" style=\"fill: none; stroke: #ddd; stroke-width: 1; opacity: 1;\"></line><line transform=\"translate(0,200)\" x2=\"500\" y2=\"0\" style=\"fill: none; stroke: #ddd; stroke-width: 1; opacity: 1;\"></line><line transform=\"translate(0,167)\" x2=\"500\" y2=\"0\" style=\"fill: none; stroke: #ddd; stroke-width: 1; opacity: 1;\"></line><line transform=\"translate(0,100)\" x2=\"500\" y2=\"0\" style=\"fill: none; stroke: #ddd; stroke-width: 1; opacity: 1;\"></line><line transform=\"translate(0,67)\" x2=\"500\" y2=\"0\" style=\"fill: none; stroke: #ddd; stroke-width: 1; opacity: 1;\"></line><line transform=\"translate(0,33)\" x2=\"500\" y2=\"0\" style=\"fill: none; stroke: #ddd; stroke-width: 1; opacity: 1;\"></line><line transform=\"translate(0,0)\" x2=\"500\" y2=\"0\" style=\"fill: none; stroke: #ddd; stroke-width: 1; opacity: 1;\"></line></g></g></g></g><g class=\"mark-rect role-mark concat_1_layer_0_marks\"><path d=\"M201,116.66666666666666h24v183.33333333333334h-24Z\" style=\"fill: #4c78a8;\"></path><path d=\"M101,216.66666666666666h24v83.33333333333334h-24Z\" style=\"fill: #4c78a8;\"></path><path d=\"M251,83.33333333333334h24v216.66666666666666h-24Z\" style=\"fill: #4c78a8;\"></path><path d=\"M151.00000000000003,183.33333333333331h24.00000000000003v116.66666666666669h-24.00000000000003Z\" style=\"fill: #4c78a8;\"></path><path d=\"M301.00000000000006,183.33333333333331h24v116.66666666666669h-24Z\" style=\"fill: #4c78a8;\"></path><path d=\"M376,250h24v50h-24Z\" style=\"fill: #4c78a8;\"></path><path d=\"M401,283.3333333333333h24.000000000000057v16.666666666666686h-24.000000000000057Z\" style=\"fill: #4c78a8;\"></path><path d=\"M226,133.33333333333331h24v166.66666666666669h-24Z\" style=\"fill: #4c78a8;\"></path><path d=\"M176.00000000000003,16.666666666666686h23.99999999999997v283.3333333333333h-23.99999999999997Z\" style=\"fill: #4c78a8;\"></path><path d=\"M326,83.33333333333334h24.000000000000057v216.66666666666666h-24.000000000000057Z\" style=\"fill: #4c78a8;\"></path><path d=\"M276,66.66666666666666h24.000000000000057v233.33333333333334h-24.000000000000057Z\" style=\"fill: #4c78a8;\"></path><path d=\"M76.00000000000001,250h23.999999999999986v50h-23.999999999999986Z\" style=\"fill: #4c78a8;\"></path><path d=\"M126,233.33333333333334h24.00000000000003v66.66666666666666h-24.00000000000003Z\" style=\"fill: #4c78a8;\"></path><path d=\"M351.00000000000006,116.66666666666666h23.999999999999943v183.33333333333334h-23.999999999999943Z\" style=\"fill: #4c78a8;\"></path></g><g class=\"mark-group role-axis\"><g transform=\"translate(0.5,300.5)\"><path class=\"background\" d=\"M0,0h0v0h0Z\" style=\"pointer-events: none; fill: none;\"></path><g><g class=\"mark-rule role-axis-tick\" style=\"pointer-events: none;\"><line transform=\"translate(0,0)\" x2=\"0\" y2=\"5\" style=\"fill: none; stroke: #888; stroke-width: 1; opacity: 1;\"></line><line transform=\"translate(25,0)\" x2=\"0\" y2=\"5\" style=\"fill: none; stroke: #888; stroke-width: 1; opacity: 1;\"></line><line transform=\"translate(50,0)\" x2=\"0\" y2=\"5\" style=\"fill: none; stroke: #888; stroke-width: 1; opacity: 1;\"></line><line transform=\"translate(75,0)\" x2=\"0\" y2=\"5\" style=\"fill: none; stroke: #888; stroke-width: 1; opacity: 1;\"></line><line transform=\"translate(100,0)\" x2=\"0\" y2=\"5\" style=\"fill: none; stroke: #888; stroke-width: 1; opacity: 1;\"></line><line transform=\"translate(125,0)\" x2=\"0\" y2=\"5\" style=\"fill: none; stroke: #888; stroke-width: 1; opacity: 1;\"></line><line transform=\"translate(150,0)\" x2=\"0\" y2=\"5\" style=\"fill: none; stroke: #888; stroke-width: 1; opacity: 1;\"></line><line transform=\"translate(175,0)\" x2=\"0\" y2=\"5\" style=\"fill: none; stroke: #888; stroke-width: 1; opacity: 1;\"></line><line transform=\"translate(200,0)\" x2=\"0\" y2=\"5\" style=\"fill: none; stroke: #888; stroke-width: 1; opacity: 1;\"></line><line transform=\"translate(225,0)\" x2=\"0\" y2=\"5\" style=\"fill: none; stroke: #888; stroke-width: 1; opacity: 1;\"></line><line transform=\"translate(250,0)\" x2=\"0\" y2=\"5\" style=\"fill: none; stroke: #888; stroke-width: 1; opacity: 1;\"></line><line transform=\"translate(275,0)\" x2=\"0\" y2=\"5\" style=\"fill: none; stroke: #888; stroke-width: 1; opacity: 1;\"></line><line transform=\"translate(300,0)\" x2=\"0\" y2=\"5\" style=\"fill: none; stroke: #888; stroke-width: 1; opacity: 1;\"></line><line transform=\"translate(325,0)\" x2=\"0\" y2=\"5\" style=\"fill: none; stroke: #888; stroke-width: 1; opacity: 1;\"></line><line transform=\"translate(350,0)\" x2=\"0\" y2=\"5\" style=\"fill: none; stroke: #888; stroke-width: 1; opacity: 1;\"></line><line transform=\"translate(375,0)\" x2=\"0\" y2=\"5\" style=\"fill: none; stroke: #888; stroke-width: 1; opacity: 1;\"></line><line transform=\"translate(400,0)\" x2=\"0\" y2=\"5\" style=\"fill: none; stroke: #888; stroke-width: 1; opacity: 1;\"></line><line transform=\"translate(425,0)\" x2=\"0\" y2=\"5\" style=\"fill: none; stroke: #888; stroke-width: 1; opacity: 1;\"></line><line transform=\"translate(450,0)\" x2=\"0\" y2=\"5\" style=\"fill: none; stroke: #888; stroke-width: 1; opacity: 1;\"></line><line transform=\"translate(475,0)\" x2=\"0\" y2=\"5\" style=\"fill: none; stroke: #888; stroke-width: 1; opacity: 1;\"></line><line transform=\"translate(500,0)\" x2=\"0\" y2=\"5\" style=\"fill: none; stroke: #888; stroke-width: 1; opacity: 1;\"></line></g><g class=\"mark-text role-axis-label\" style=\"pointer-events: none;\"><text text-anchor=\"start\" transform=\"translate(0,15)\" style=\"font-family: sans-serif; font-size: 10px; fill: #000; opacity: 1;\">0.00</text><text text-anchor=\"middle\" transform=\"translate(25,15)\" style=\"font-family: sans-serif; font-size: 10px; fill: #000; opacity: 0;\">0.05</text><text text-anchor=\"middle\" transform=\"translate(50,15)\" style=\"font-family: sans-serif; font-size: 10px; fill: #000; opacity: 1;\">0.10</text><text text-anchor=\"middle\" transform=\"translate(75.00000000000001,15)\" style=\"font-family: sans-serif; font-size: 10px; fill: #000; opacity: 0;\">0.15</text><text text-anchor=\"middle\" transform=\"translate(100,15)\" style=\"font-family: sans-serif; font-size: 10px; fill: #000; opacity: 1;\">0.20</text><text text-anchor=\"middle\" transform=\"translate(125,15)\" style=\"font-family: sans-serif; font-size: 10px; fill: #000; opacity: 0;\">0.25</text><text text-anchor=\"middle\" transform=\"translate(150.00000000000003,15)\" style=\"font-family: sans-serif; font-size: 10px; fill: #000; opacity: 1;\">0.30</text><text text-anchor=\"middle\" transform=\"translate(175.00000000000003,15)\" style=\"font-family: sans-serif; font-size: 10px; fill: #000; opacity: 0;\">0.35</text><text text-anchor=\"middle\" transform=\"translate(200,15)\" style=\"font-family: sans-serif; font-size: 10px; fill: #000; opacity: 1;\">0.40</text><text text-anchor=\"middle\" transform=\"translate(225,15)\" style=\"font-family: sans-serif; font-size: 10px; fill: #000; opacity: 0;\">0.45</text><text text-anchor=\"middle\" transform=\"translate(250,15)\" style=\"font-family: sans-serif; font-size: 10px; fill: #000; opacity: 1;\">0.50</text><text text-anchor=\"middle\" transform=\"translate(275,15)\" style=\"font-family: sans-serif; font-size: 10px; fill: #000; opacity: 0;\">0.55</text><text text-anchor=\"middle\" transform=\"translate(300.00000000000006,15)\" style=\"font-family: sans-serif; font-size: 10px; fill: #000; opacity: 1;\">0.60</text><text text-anchor=\"middle\" transform=\"translate(325,15)\" style=\"font-family: sans-serif; font-size: 10px; fill: #000; opacity: 0;\">0.65</text><text text-anchor=\"middle\" transform=\"translate(350.00000000000006,15)\" style=\"font-family: sans-serif; font-size: 10px; fill: #000; opacity: 1;\">0.70</text><text text-anchor=\"middle\" transform=\"translate(375,15)\" style=\"font-family: sans-serif; font-size: 10px; fill: #000; opacity: 0;\">0.75</text><text text-anchor=\"middle\" transform=\"translate(400,15)\" style=\"font-family: sans-serif; font-size: 10px; fill: #000; opacity: 1;\">0.80</text><text text-anchor=\"middle\" transform=\"translate(425.00000000000006,15)\" style=\"font-family: sans-serif; font-size: 10px; fill: #000; opacity: 0;\">0.85</text><text text-anchor=\"middle\" transform=\"translate(450,15)\" style=\"font-family: sans-serif; font-size: 10px; fill: #000; opacity: 1;\">0.90</text><text text-anchor=\"middle\" transform=\"translate(475.00000000000006,15)\" style=\"font-family: sans-serif; font-size: 10px; fill: #000; opacity: 0;\">0.95</text><text text-anchor=\"end\" transform=\"translate(500,15)\" style=\"font-family: sans-serif; font-size: 10px; fill: #000; opacity: 1;\">1.00</text></g><g class=\"mark-rule role-axis-domain\" style=\"pointer-events: none;\"><line transform=\"translate(0,0)\" x2=\"500\" y2=\"0\" style=\"fill: none; stroke: #888; stroke-width: 1; opacity: 1;\"></line></g><g class=\"mark-text role-axis-title\" style=\"pointer-events: none;\"><text text-anchor=\"middle\" transform=\"translate(250,30)\" style=\"font-family: sans-serif; font-size: 11px; font-weight: bold; fill: #000; opacity: 1;\">x3 (binned)</text></g></g></g></g><g class=\"mark-group role-axis\"><g transform=\"translate(0.5,0.5)\"><path class=\"background\" d=\"M0,0h0v0h0Z\" style=\"pointer-events: none; fill: none;\"></path><g><g class=\"mark-rule role-axis-tick\" style=\"pointer-events: none;\"><line transform=\"translate(0,300)\" x2=\"-5\" y2=\"0\" style=\"fill: none; stroke: #888; stroke-width: 1; opacity: 1;\"></line><line transform=\"translate(0,133)\" x2=\"-5\" y2=\"0\" style=\"fill: none; stroke: #888; stroke-width: 1; opacity: 1;\"></line><line transform=\"translate(0,267)\" x2=\"-5\" y2=\"0\" style=\"fill: none; stroke: #888; stroke-width: 1; opacity: 1;\"></line><line transform=\"translate(0,233)\" x2=\"-5\" y2=\"0\" style=\"fill: none; stroke: #888; stroke-width: 1; opacity: 1;\"></line><line transform=\"translate(0,200)\" x2=\"-5\" y2=\"0\" style=\"fill: none; stroke: #888; stroke-width: 1; opacity: 1;\"></line><line transform=\"translate(0,167)\" x2=\"-5\" y2=\"0\" style=\"fill: none; stroke: #888; stroke-width: 1; opacity: 1;\"></line><line transform=\"translate(0,100)\" x2=\"-5\" y2=\"0\" style=\"fill: none; stroke: #888; stroke-width: 1; opacity: 1;\"></line><line transform=\"translate(0,67)\" x2=\"-5\" y2=\"0\" style=\"fill: none; stroke: #888; stroke-width: 1; opacity: 1;\"></line><line transform=\"translate(0,33)\" x2=\"-5\" y2=\"0\" style=\"fill: none; stroke: #888; stroke-width: 1; opacity: 1;\"></line><line transform=\"translate(0,0)\" x2=\"-5\" y2=\"0\" style=\"fill: none; stroke: #888; stroke-width: 1; opacity: 1;\"></line></g><g class=\"mark-text role-axis-label\" style=\"pointer-events: none;\"><text text-anchor=\"end\" transform=\"translate(-7,303)\" style=\"font-family: sans-serif; font-size: 10px; fill: #000; opacity: 1;\">0</text><text text-anchor=\"end\" transform=\"translate(-7,136.33333333333331)\" style=\"font-family: sans-serif; font-size: 10px; fill: #000; opacity: 1;\">10</text><text text-anchor=\"end\" transform=\"translate(-7,269.6666666666667)\" style=\"font-family: sans-serif; font-size: 10px; fill: #000; opacity: 1;\">2</text><text text-anchor=\"end\" transform=\"translate(-7,236.33333333333334)\" style=\"font-family: sans-serif; font-size: 10px; fill: #000; opacity: 1;\">4</text><text text-anchor=\"end\" transform=\"translate(-7,203)\" style=\"font-family: sans-serif; font-size: 10px; fill: #000; opacity: 1;\">6</text><text text-anchor=\"end\" transform=\"translate(-7,169.66666666666669)\" style=\"font-family: sans-serif; font-size: 10px; fill: #000; opacity: 1;\">8</text><text text-anchor=\"end\" transform=\"translate(-7,103)\" style=\"font-family: sans-serif; font-size: 10px; fill: #000; opacity: 1;\">12</text><text text-anchor=\"end\" transform=\"translate(-7,69.66666666666666)\" style=\"font-family: sans-serif; font-size: 10px; fill: #000; opacity: 1;\">14</text><text text-anchor=\"end\" transform=\"translate(-7,36.33333333333337)\" style=\"font-family: sans-serif; font-size: 10px; fill: #000; opacity: 1;\">16</text><text text-anchor=\"end\" transform=\"translate(-7,3)\" style=\"font-family: sans-serif; font-size: 10px; fill: #000; opacity: 1;\">18</text></g><g class=\"mark-rule role-axis-domain\" style=\"pointer-events: none;\"><line transform=\"translate(0,300)\" x2=\"0\" y2=\"-300\" style=\"fill: none; stroke: #888; stroke-width: 1; opacity: 1;\"></line></g><g class=\"mark-text role-axis-title\" style=\"pointer-events: none;\"><text text-anchor=\"middle\" transform=\"translate(-23,150) rotate(-90) translate(0,-2)\" style=\"font-family: sans-serif; font-size: 11px; font-weight: bold; fill: #000; opacity: 1;\">Count of Records</text></g></g></g></g></g></g></g><g class=\"mark-group role-legend\"><g transform=\"translate(1083,0)\"><path class=\"background\" d=\"M0,0h33v216h-33Z\" style=\"pointer-events: none; fill: none;\"></path><g><g class=\"mark-group role-legend-entry\"><g transform=\"translate(0,16)\"><path class=\"background\" d=\"M0,0h0v0h0Z\" style=\"pointer-events: none; fill: none;\"></path><g><g class=\"mark-rect role-legend-gradient\" style=\"pointer-events: none;\"><path d=\"M0,0h16v200h-16Z\" style=\"fill: url(#gradient_0); stroke: #ddd; stroke-width: 0; opacity: 0.7;\"></path></g><g class=\"mark-text role-legend-label\" style=\"pointer-events: none;\"><text text-anchor=\"start\" transform=\"translate(18,163.02169882768214)\" style=\"font-family: sans-serif; font-size: 10px; fill: #000; opacity: 1;\">0.2</text><text text-anchor=\"start\" transform=\"translate(18,122.96877125032266)\" style=\"font-family: sans-serif; font-size: 10px; fill: #000; opacity: 1;\">0.4</text><text text-anchor=\"start\" transform=\"translate(18,82.91584367296325)\" style=\"font-family: sans-serif; font-size: 10px; fill: #000; opacity: 1;\">0.6</text><text text-anchor=\"start\" transform=\"translate(18,42.862916095603794)\" style=\"font-family: sans-serif; font-size: 10px; fill: #000; opacity: 1;\">0.8</text></g></g></g></g><g class=\"mark-text role-legend-title\" style=\"pointer-events: none;\"><text text-anchor=\"start\" transform=\"translate(0,9)\" style=\"font-family: sans-serif; font-size: 11px; font-weight: bold; fill: #000; opacity: 1;\">x3</text></g></g></g></g></g></g></g></g></svg>"
      ],
      "text/plain": [
       "VegaLite.VLSpec{:plot}"
      ]
     },
     "execution_count": 171,
     "metadata": {},
     "output_type": "execute_result"
    },
    {
     "name": "stderr",
     "output_type": "stream",
     "text": [
      "WARN Can not resolve event source: window\n",
      "WARN Can not resolve event source: window\n",
      "WARN Can not resolve event source: window\n",
      "WARN Can not resolve event source: window\n"
     ]
    }
   ],
   "source": [
    "points = df |> vl\"\"\"\n",
    "{\n",
    "\"hconcat\" : [\n",
    "  {\n",
    "    \"view\":{\"stroke\" : null},\n",
    "    \"layer\": [{\n",
    "\n",
    "    \n",
    "    \"selection\": {\n",
    "      \"brush\": {\"type\": \"interval\",\"encodings\": [\"x\"],\"init\":{\"x\": [3.6, 4.4]}}\n",
    "    },\n",
    "    \"view\":{\"stroke\" : null},\n",
    "    \"width\": 500,\n",
    "    \"height\": 300,\n",
    "    \"mark\": \"circle\",\n",
    "    \"encoding\": {\n",
    "        \"x\": {\"field\": \"x1\", \"type\": \"quantitative\",\"axis\": {\"grid\":false, \"title\":\"Samples\"}},\n",
    "        \"y\": {\"field\": \"x2\", \"type\": \"quantitative\", \"axis\": null},\n",
    "        \"size\":{\"value\":200},\n",
    "        \"color\": {\n",
    "              \"condition\": {\"selection\": \"brush\", \"field\": \"x3\", \"type\": \"quantitative\"},\n",
    "              \"value\": \"grey\"\n",
    "            }\n",
    "        }\n",
    "}]},\n",
    "  {\n",
    "    \"layer\":[{\n",
    "    \"transform\": [\n",
    "      {\"filter\": {\"selection\": \"brush\"}}\n",
    "    ],\n",
    "    \"width\": 500,\n",
    "    \"height\": 300,\n",
    "    \"mark\": \"bar\",\n",
    "    \"encoding\": {\n",
    "    \"x\": {\n",
    "        \"bin\":{\"maxbins\":20},\n",
    "        \"field\": \"x3\",\n",
    "        \"type\": \"quantitative\"\n",
    "    },\n",
    "    \"y\": {\n",
    "        \"aggregate\": \"count\",\n",
    "        \"type\": \"quantitative\"\n",
    "      }\n",
    "    }}\n",
    "    ]\n",
    "}]\n",
    "}\n",
    "\"\"\""
   ]
  },
  {
   "cell_type": "code",
   "execution_count": 138,
   "metadata": {},
   "outputs": [],
   "source": [
    "hist = df |> vl\"\"\"{\n",
    "  \"mark\": \"bar\",\n",
    "  \"encoding\": {\n",
    "    \"x\": {\n",
    "      \"bin\": true,\n",
    "      \"field\": \"x3\",\n",
    "      \"type\": \"quantitative\"\n",
    "    },\n",
    "    \"y\": {\n",
    "      \"aggregate\": \"count\",\n",
    "      \"type\": \"quantitative\"\n",
    "    }\n",
    "  }\n",
    "}\"\"\"\n",
    "points = df |> vl\"\"\"\n",
    "{\n",
    "  \"mark\": \"circle\",\n",
    "  \"encoding\": {\n",
    "    \"x\": {\"field\": \"x1\", \"type\": \"quantitative\"},\n",
    "    \"y\": {\"field\": \"x2\", \"type\": \"quantitative\"}\n",
    "  }\n",
    "}\"\"\";"
   ]
  }
 ],
 "metadata": {
  "kernelspec": {
   "display_name": "Julia 1.0.5",
   "language": "julia",
   "name": "julia-1.0"
  },
  "language_info": {
   "file_extension": ".jl",
   "mimetype": "application/julia",
   "name": "julia",
   "version": "1.0.5"
  }
 },
 "nbformat": 4,
 "nbformat_minor": 4
}
