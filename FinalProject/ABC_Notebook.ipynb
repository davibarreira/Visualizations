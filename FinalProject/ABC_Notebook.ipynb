{
 "cells": [
  {
   "cell_type": "markdown",
   "metadata": {},
   "source": [
    "# Approximate Bayesian Computation"
   ]
  },
  {
   "cell_type": "code",
   "execution_count": 1,
   "metadata": {},
   "outputs": [
    {
     "data": {
      "text/plain": [
       "Plots.PyPlotBackend()"
      ]
     },
     "execution_count": 1,
     "metadata": {},
     "output_type": "execute_result"
    }
   ],
   "source": [
    "using Distributions, StatsPlots, Plots, StatsBase, LinearAlgebra\n",
    "using LaTeXStrings\n",
    "using SymPy\n",
    "using VegaLite\n",
    "using DataFrames\n",
    "pyplot()"
   ]
  },
  {
   "cell_type": "code",
   "execution_count": 2,
   "metadata": {},
   "outputs": [],
   "source": [
    "n, x = 8, 6\n",
    "N = 100\n",
    "\n",
    "# Sample θ' from prior π(θ)\n",
    "# Generate z from p(.|θ')\n",
    "theta_s = rand(Beta(1,1),N)\n",
    "z       = rand.(Binomial.(n,theta_s))\n",
    "theta_a = theta_s[z .== x];"
   ]
  },
  {
   "cell_type": "code",
   "execution_count": 3,
   "metadata": {},
   "outputs": [
    {
     "data": {
      "image/png": "[encoded data removed]"
     },
     "execution_count": 3,
     "metadata": {},
     "output_type": "execute_result"
    }
   ],
   "source": [
    "histogram(theta_a,normalize=true,alpha=0.5)\n",
    "plot!(Beta(x+1,n-x+1),label=L\"p(\\theta \\mid x)\")\n",
    "plot!(Beta(1,1), label =L\"\\pi(\\theta)\")"
   ]
  },
  {
   "cell_type": "code",
   "execution_count": 4,
   "metadata": {},
   "outputs": [],
   "source": [
    "cm = countmap(z)\n",
    "counter = zeros(length(cm))\n",
    "hdots = zeros(N)\n",
    "for (i,v) in enumerate(z)\n",
    "    counter[v+1]+=1\n",
    "    hdots[i] = counter[v+1]\n",
    "end\n",
    "\n"
   ]
  },
  {
   "cell_type": "code",
   "execution_count": 41,
   "metadata": {},
   "outputs": [],
   "source": [
    "df = DataFrame([z,hdots]);"
   ]
  },
  {
   "cell_type": "code",
   "execution_count": 43,
   "metadata": {},
   "outputs": [
    {
     "data": {
      "application/vnd.vegalite.v3+json": {
       "data": {
        "values": [
         {
          "x1": 6,
          "x2": 1
         },
         {
          "x1": 5,
          "x2": 1
         },
         {
          "x1": 5,
          "x2": 2
         },
         {
          "x1": 4,
          "x2": 1
         },
         {
          "x1": 2,
          "x2": 1
         },
         {
          "x1": 1,
          "x2": 1
         },
         {
          "x1": 4,
          "x2": 2
         },
         {
          "x1": 2,
          "x2": 2
         },
         {
          "x1": 8,
          "x2": 1
         },
         {
          "x1": 3,
          "x2": 1
         },
         {
          "x1": 1,
          "x2": 2
         },
         {
          "x1": 8,
          "x2": 2
         },
         {
          "x1": 1,
          "x2": 3
         },
         {
          "x1": 0,
          "x2": 1
         },
         {
          "x1": 8,
          "x2": 3
         },
         {
          "x1": 5,
          "x2": 3
         },
         {
          "x1": 2,
          "x2": 3
         },
         {
          "x1": 7,
          "x2": 1
         },
         {
          "x1": 1,
          "x2": 4
         },
         {
          "x1": 5,
          "x2": 4
         },
         {
          "x1": 5,
          "x2": 5
         },
         {
          "x1": 1,
          "x2": 5
         },
         {
          "x1": 2,
          "x2": 4
         },
         {
          "x1": 4,
          "x2": 3
         },
         {
          "x1": 2,
          "x2": 5
         },
         {
          "x1": 8,
          "x2": 4
         },
         {
          "x1": 7,
          "x2": 2
         },
         {
          "x1": 5,
          "x2": 6
         },
         {
          "x1": 8,
          "x2": 5
         },
         {
          "x1": 1,
          "x2": 6
         },
         {
          "x1": 3,
          "x2": 2
         },
         {
          "x1": 4,
          "x2": 4
         },
         {
          "x1": 0,
          "x2": 2
         },
         {
          "x1": 2,
          "x2": 6
         },
         {
          "x1": 2,
          "x2": 7
         },
         {
          "x1": 0,
          "x2": 3
         },
         {
          "x1": 3,
          "x2": 3
         },
         {
          "x1": 0,
          "x2": 4
         },
         {
          "x1": 1,
          "x2": 7
         },
         {
          "x1": 3,
          "x2": 4
         },
         {
          "x1": 7,
          "x2": 3
         },
         {
          "x1": 2,
          "x2": 8
         },
         {
          "x1": 1,
          "x2": 8
         },
         {
          "x1": 2,
          "x2": 9
         },
         {
          "x1": 1,
          "x2": 9
         },
         {
          "x1": 6,
          "x2": 2
         },
         {
          "x1": 3,
          "x2": 5
         },
         {
          "x1": 4,
          "x2": 5
         },
         {
          "x1": 2,
          "x2": 10
         },
         {
          "x1": 0,
          "x2": 5
         },
         {
          "x1": 4,
          "x2": 6
         },
         {
          "x1": 5,
          "x2": 7
         },
         {
          "x1": 7,
          "x2": 4
         },
         {
          "x1": 4,
          "x2": 7
         },
         {
          "x1": 0,
          "x2": 6
         },
         {
          "x1": 2,
          "x2": 11
         },
         {
          "x1": 6,
          "x2": 3
         },
         {
          "x1": 8,
          "x2": 6
         },
         {
          "x1": 7,
          "x2": 5
         },
         {
          "x1": 5,
          "x2": 8
         },
         {
          "x1": 4,
          "x2": 8
         },
         {
          "x1": 4,
          "x2": 9
         },
         {
          "x1": 5,
          "x2": 9
         },
         {
          "x1": 2,
          "x2": 12
         },
         {
          "x1": 0,
          "x2": 7
         },
         {
          "x1": 6,
          "x2": 4
         },
         {
          "x1": 0,
          "x2": 8
         },
         {
          "x1": 3,
          "x2": 6
         },
         {
          "x1": 3,
          "x2": 7
         },
         {
          "x1": 3,
          "x2": 8
         },
         {
          "x1": 8,
          "x2": 7
         },
         {
          "x1": 4,
          "x2": 10
         },
         {
          "x1": 7,
          "x2": 6
         },
         {
          "x1": 5,
          "x2": 10
         },
         {
          "x1": 6,
          "x2": 5
         },
         {
          "x1": 2,
          "x2": 13
         },
         {
          "x1": 3,
          "x2": 9
         },
         {
          "x1": 0,
          "x2": 9
         },
         {
          "x1": 4,
          "x2": 11
         },
         {
          "x1": 3,
          "x2": 10
         },
         {
          "x1": 3,
          "x2": 11
         },
         {
          "x1": 8,
          "x2": 8
         },
         {
          "x1": 8,
          "x2": 9
         },
         {
          "x1": 0,
          "x2": 10
         },
         {
          "x1": 0,
          "x2": 11
         },
         {
          "x1": 8,
          "x2": 10
         },
         {
          "x1": 6,
          "x2": 6
         },
         {
          "x1": 6,
          "x2": 7
         },
         {
          "x1": 6,
          "x2": 8
         },
         {
          "x1": 2,
          "x2": 14
         },
         {
          "x1": 3,
          "x2": 12
         },
         {
          "x1": 2,
          "x2": 15
         },
         {
          "x1": 2,
          "x2": 16
         },
         {
          "x1": 1,
          "x2": 10
         },
         {
          "x1": 5,
          "x2": 11
         },
         {
          "x1": 3,
          "x2": 13
         },
         {
          "x1": 3,
          "x2": 14
         },
         {
          "x1": 0,
          "x2": 12
         },
         {
          "x1": 2,
          "x2": 17
         },
         {
          "x1": 1,
          "x2": 11
         }
        ]
       },
       "encoding": {
        "x": {
         "bin": true,
         "field": "x1",
         "type": "quantitative"
        },
        "y": {
         "aggregate": "count",
         "type": "quantitative"
        }
       },
       "mark": "bar"
      },
      "image/png": "[encoded data removed]",
      "image/svg+xml": [
       "<svg class=\"marks\" width=\"245\" height=\"242\" viewBox=\"0 0 245 242\" version=\"1.1\" xmlns=\"http://www.w3.org/2000/svg\" xmlns:xlink=\"http://www.w3.org/1999/xlink\"><g transform=\"translate(39,5)\"><g class=\"mark-group role-frame root\"><g transform=\"translate(0,0)\"><path class=\"background\" d=\"M0.5,0.5h200v200h-200Z\" style=\"fill: none; stroke: #ddd;\"></path><g><g class=\"mark-group role-axis\"><g transform=\"translate(0.5,0.5)\"><path class=\"background\" d=\"M0,0h0v0h0Z\" style=\"pointer-events: none; fill: none;\"></path><g><g class=\"mark-rule role-axis-grid\" style=\"pointer-events: none;\"><line transform=\"translate(0,200)\" x2=\"200\" y2=\"0\" style=\"fill: none; stroke: #ddd; stroke-width: 1; opacity: 1;\"></line><line transform=\"translate(0,144)\" x2=\"200\" y2=\"0\" style=\"fill: none; stroke: #ddd; stroke-width: 1; opacity: 1;\"></line><line transform=\"translate(0,89)\" x2=\"200\" y2=\"0\" style=\"fill: none; stroke: #ddd; stroke-width: 1; opacity: 1;\"></line><line transform=\"translate(0,33)\" x2=\"200\" y2=\"0\" style=\"fill: none; stroke: #ddd; stroke-width: 1; opacity: 1;\"></line></g></g></g></g><g class=\"mark-rect role-mark marks\"><path d=\"M151,111.11111111111111h24v88.88888888888889h-24Z\" style=\"fill: #4c78a8;\"></path><path d=\"M126,77.77777777777777h24v122.22222222222223h-24Z\" style=\"fill: #4c78a8;\"></path><path d=\"M101,77.77777777777777h24v122.22222222222223h-24Z\" style=\"fill: #4c78a8;\"></path><path d=\"M51,11.111111111111114h24v188.88888888888889h-24Z\" style=\"fill: #4c78a8;\"></path><path d=\"M26,77.77777777777777h24v122.22222222222223h-24Z\" style=\"fill: #4c78a8;\"></path><path d=\"M176,22.22222222222223h24v177.77777777777777h-24Z\" style=\"fill: #4c78a8;\"></path><path d=\"M76,44.44444444444443h24v155.55555555555557h-24Z\" style=\"fill: #4c78a8;\"></path><path d=\"M1,66.66666666666669h24v133.33333333333331h-24Z\" style=\"fill: #4c78a8;\"></path></g><g class=\"mark-group role-axis\"><g transform=\"translate(0.5,200.5)\"><path class=\"background\" d=\"M0,0h0v0h0Z\" style=\"pointer-events: none; fill: none;\"></path><g><g class=\"mark-rule role-axis-tick\" style=\"pointer-events: none;\"><line transform=\"translate(0,0)\" x2=\"0\" y2=\"5\" style=\"fill: none; stroke: #888; stroke-width: 1; opacity: 1;\"></line><line transform=\"translate(25,0)\" x2=\"0\" y2=\"5\" style=\"fill: none; stroke: #888; stroke-width: 1; opacity: 1;\"></line><line transform=\"translate(50,0)\" x2=\"0\" y2=\"5\" style=\"fill: none; stroke: #888; stroke-width: 1; opacity: 1;\"></line><line transform=\"translate(75,0)\" x2=\"0\" y2=\"5\" style=\"fill: none; stroke: #888; stroke-width: 1; opacity: 1;\"></line><line transform=\"translate(100,0)\" x2=\"0\" y2=\"5\" style=\"fill: none; stroke: #888; stroke-width: 1; opacity: 1;\"></line><line transform=\"translate(125,0)\" x2=\"0\" y2=\"5\" style=\"fill: none; stroke: #888; stroke-width: 1; opacity: 1;\"></line><line transform=\"translate(150,0)\" x2=\"0\" y2=\"5\" style=\"fill: none; stroke: #888; stroke-width: 1; opacity: 1;\"></line><line transform=\"translate(175,0)\" x2=\"0\" y2=\"5\" style=\"fill: none; stroke: #888; stroke-width: 1; opacity: 1;\"></line><line transform=\"translate(200,0)\" x2=\"0\" y2=\"5\" style=\"fill: none; stroke: #888; stroke-width: 1; opacity: 1;\"></line></g><g class=\"mark-text role-axis-label\" style=\"pointer-events: none;\"><text text-anchor=\"start\" transform=\"translate(0,15)\" style=\"font-family: sans-serif; font-size: 10px; fill: #000; opacity: 1;\">0.0</text><text text-anchor=\"middle\" transform=\"translate(25,15)\" style=\"font-family: sans-serif; font-size: 10px; fill: #000; opacity: 1;\">1.0</text><text text-anchor=\"middle\" transform=\"translate(50,15)\" style=\"font-family: sans-serif; font-size: 10px; fill: #000; opacity: 1;\">2.0</text><text text-anchor=\"middle\" transform=\"translate(75,15)\" style=\"font-family: sans-serif; font-size: 10px; fill: #000; opacity: 1;\">3.0</text><text text-anchor=\"middle\" transform=\"translate(100,15)\" style=\"font-family: sans-serif; font-size: 10px; fill: #000; opacity: 1;\">4.0</text><text text-anchor=\"middle\" transform=\"translate(125,15)\" style=\"font-family: sans-serif; font-size: 10px; fill: #000; opacity: 1;\">5.0</text><text text-anchor=\"middle\" transform=\"translate(150,15)\" style=\"font-family: sans-serif; font-size: 10px; fill: #000; opacity: 1;\">6.0</text><text text-anchor=\"middle\" transform=\"translate(175,15)\" style=\"font-family: sans-serif; font-size: 10px; fill: #000; opacity: 1;\">7.0</text><text text-anchor=\"end\" transform=\"translate(200,15)\" style=\"font-family: sans-serif; font-size: 10px; fill: #000; opacity: 1;\">8.0</text></g><g class=\"mark-rule role-axis-domain\" style=\"pointer-events: none;\"><line transform=\"translate(0,0)\" x2=\"200\" y2=\"0\" style=\"fill: none; stroke: #888; stroke-width: 1; opacity: 1;\"></line></g><g class=\"mark-text role-axis-title\" style=\"pointer-events: none;\"><text text-anchor=\"middle\" transform=\"translate(100,30)\" style=\"font-family: sans-serif; font-size: 11px; font-weight: bold; fill: #000; opacity: 1;\">x1 (binned)</text></g></g></g></g><g class=\"mark-group role-axis\"><g transform=\"translate(0.5,0.5)\"><path class=\"background\" d=\"M0,0h0v0h0Z\" style=\"pointer-events: none; fill: none;\"></path><g><g class=\"mark-rule role-axis-tick\" style=\"pointer-events: none;\"><line transform=\"translate(0,200)\" x2=\"-5\" y2=\"0\" style=\"fill: none; stroke: #888; stroke-width: 1; opacity: 1;\"></line><line transform=\"translate(0,144)\" x2=\"-5\" y2=\"0\" style=\"fill: none; stroke: #888; stroke-width: 1; opacity: 1;\"></line><line transform=\"translate(0,89)\" x2=\"-5\" y2=\"0\" style=\"fill: none; stroke: #888; stroke-width: 1; opacity: 1;\"></line><line transform=\"translate(0,33)\" x2=\"-5\" y2=\"0\" style=\"fill: none; stroke: #888; stroke-width: 1; opacity: 1;\"></line></g><g class=\"mark-text role-axis-label\" style=\"pointer-events: none;\"><text text-anchor=\"end\" transform=\"translate(-7,203)\" style=\"font-family: sans-serif; font-size: 10px; fill: #000; opacity: 1;\">0</text><text text-anchor=\"end\" transform=\"translate(-7,147.44444444444446)\" style=\"font-family: sans-serif; font-size: 10px; fill: #000; opacity: 1;\">5</text><text text-anchor=\"end\" transform=\"translate(-7,91.88888888888889)\" style=\"font-family: sans-serif; font-size: 10px; fill: #000; opacity: 1;\">10</text><text text-anchor=\"end\" transform=\"translate(-7,36.333333333333314)\" style=\"font-family: sans-serif; font-size: 10px; fill: #000; opacity: 1;\">15</text></g><g class=\"mark-rule role-axis-domain\" style=\"pointer-events: none;\"><line transform=\"translate(0,200)\" x2=\"0\" y2=\"-200\" style=\"fill: none; stroke: #888; stroke-width: 1; opacity: 1;\"></line></g><g class=\"mark-text role-axis-title\" style=\"pointer-events: none;\"><text text-anchor=\"middle\" transform=\"translate(-23,100) rotate(-90) translate(0,-2)\" style=\"font-family: sans-serif; font-size: 11px; font-weight: bold; fill: #000; opacity: 1;\">Count of Records</text></g></g></g></g></g></g></g></g></svg>"
      ],
      "text/plain": [
       "VegaLite.VLSpec{:plot}"
      ]
     },
     "execution_count": 43,
     "metadata": {},
     "output_type": "execute_result"
    }
   ],
   "source": [
    "hist = df |> vl\"\"\"{\n",
    "  \"mark\": \"bar\",\n",
    "  \"encoding\": {\n",
    "    \"x\": {\n",
    "      \"bin\": true,\n",
    "      \"field\": \"x1\",\n",
    "      \"type\": \"quantitative\"\n",
    "    },\n",
    "    \"y\": {\n",
    "      \"aggregate\": \"count\",\n",
    "      \"type\": \"quantitative\"\n",
    "    }\n",
    "  }\n",
    "}\"\"\""
   ]
  },
  {
   "cell_type": "code",
   "execution_count": 44,
   "metadata": {},
   "outputs": [
    {
     "data": {
      "application/vnd.vegalite.v3+json": {
       "data": {
        "values": [
         {
          "x1": 6,
          "x2": 1
         },
         {
          "x1": 5,
          "x2": 1
         },
         {
          "x1": 5,
          "x2": 2
         },
         {
          "x1": 4,
          "x2": 1
         },
         {
          "x1": 2,
          "x2": 1
         },
         {
          "x1": 1,
          "x2": 1
         },
         {
          "x1": 4,
          "x2": 2
         },
         {
          "x1": 2,
          "x2": 2
         },
         {
          "x1": 8,
          "x2": 1
         },
         {
          "x1": 3,
          "x2": 1
         },
         {
          "x1": 1,
          "x2": 2
         },
         {
          "x1": 8,
          "x2": 2
         },
         {
          "x1": 1,
          "x2": 3
         },
         {
          "x1": 0,
          "x2": 1
         },
         {
          "x1": 8,
          "x2": 3
         },
         {
          "x1": 5,
          "x2": 3
         },
         {
          "x1": 2,
          "x2": 3
         },
         {
          "x1": 7,
          "x2": 1
         },
         {
          "x1": 1,
          "x2": 4
         },
         {
          "x1": 5,
          "x2": 4
         },
         {
          "x1": 5,
          "x2": 5
         },
         {
          "x1": 1,
          "x2": 5
         },
         {
          "x1": 2,
          "x2": 4
         },
         {
          "x1": 4,
          "x2": 3
         },
         {
          "x1": 2,
          "x2": 5
         },
         {
          "x1": 8,
          "x2": 4
         },
         {
          "x1": 7,
          "x2": 2
         },
         {
          "x1": 5,
          "x2": 6
         },
         {
          "x1": 8,
          "x2": 5
         },
         {
          "x1": 1,
          "x2": 6
         },
         {
          "x1": 3,
          "x2": 2
         },
         {
          "x1": 4,
          "x2": 4
         },
         {
          "x1": 0,
          "x2": 2
         },
         {
          "x1": 2,
          "x2": 6
         },
         {
          "x1": 2,
          "x2": 7
         },
         {
          "x1": 0,
          "x2": 3
         },
         {
          "x1": 3,
          "x2": 3
         },
         {
          "x1": 0,
          "x2": 4
         },
         {
          "x1": 1,
          "x2": 7
         },
         {
          "x1": 3,
          "x2": 4
         },
         {
          "x1": 7,
          "x2": 3
         },
         {
          "x1": 2,
          "x2": 8
         },
         {
          "x1": 1,
          "x2": 8
         },
         {
          "x1": 2,
          "x2": 9
         },
         {
          "x1": 1,
          "x2": 9
         },
         {
          "x1": 6,
          "x2": 2
         },
         {
          "x1": 3,
          "x2": 5
         },
         {
          "x1": 4,
          "x2": 5
         },
         {
          "x1": 2,
          "x2": 10
         },
         {
          "x1": 0,
          "x2": 5
         },
         {
          "x1": 4,
          "x2": 6
         },
         {
          "x1": 5,
          "x2": 7
         },
         {
          "x1": 7,
          "x2": 4
         },
         {
          "x1": 4,
          "x2": 7
         },
         {
          "x1": 0,
          "x2": 6
         },
         {
          "x1": 2,
          "x2": 11
         },
         {
          "x1": 6,
          "x2": 3
         },
         {
          "x1": 8,
          "x2": 6
         },
         {
          "x1": 7,
          "x2": 5
         },
         {
          "x1": 5,
          "x2": 8
         },
         {
          "x1": 4,
          "x2": 8
         },
         {
          "x1": 4,
          "x2": 9
         },
         {
          "x1": 5,
          "x2": 9
         },
         {
          "x1": 2,
          "x2": 12
         },
         {
          "x1": 0,
          "x2": 7
         },
         {
          "x1": 6,
          "x2": 4
         },
         {
          "x1": 0,
          "x2": 8
         },
         {
          "x1": 3,
          "x2": 6
         },
         {
          "x1": 3,
          "x2": 7
         },
         {
          "x1": 3,
          "x2": 8
         },
         {
          "x1": 8,
          "x2": 7
         },
         {
          "x1": 4,
          "x2": 10
         },
         {
          "x1": 7,
          "x2": 6
         },
         {
          "x1": 5,
          "x2": 10
         },
         {
          "x1": 6,
          "x2": 5
         },
         {
          "x1": 2,
          "x2": 13
         },
         {
          "x1": 3,
          "x2": 9
         },
         {
          "x1": 0,
          "x2": 9
         },
         {
          "x1": 4,
          "x2": 11
         },
         {
          "x1": 3,
          "x2": 10
         },
         {
          "x1": 3,
          "x2": 11
         },
         {
          "x1": 8,
          "x2": 8
         },
         {
          "x1": 8,
          "x2": 9
         },
         {
          "x1": 0,
          "x2": 10
         },
         {
          "x1": 0,
          "x2": 11
         },
         {
          "x1": 8,
          "x2": 10
         },
         {
          "x1": 6,
          "x2": 6
         },
         {
          "x1": 6,
          "x2": 7
         },
         {
          "x1": 6,
          "x2": 8
         },
         {
          "x1": 2,
          "x2": 14
         },
         {
          "x1": 3,
          "x2": 12
         },
         {
          "x1": 2,
          "x2": 15
         },
         {
          "x1": 2,
          "x2": 16
         },
         {
          "x1": 1,
          "x2": 10
         },
         {
          "x1": 5,
          "x2": 11
         },
         {
          "x1": 3,
          "x2": 13
         },
         {
          "x1": 3,
          "x2": 14
         },
         {
          "x1": 0,
          "x2": 12
         },
         {
          "x1": 2,
          "x2": 17
         },
         {
          "x1": 1,
          "x2": 11
         }
        ]
       },
       "encoding": {
        "x": {
         "field": "x1",
         "type": "quantitative"
        },
        "y": {
         "field": "x2",
         "type": "quantitative"
        }
       },
       "mark": "circle"
      },
      "image/png": "[encoded data removed]",
      "image/svg+xml": [
       "<svg class=\"marks\" width=\"247\" height=\"242\" viewBox=\"0 0 247 242\" version=\"1.1\" xmlns=\"http://www.w3.org/2000/svg\" xmlns:xlink=\"http://www.w3.org/1999/xlink\"><g transform=\"translate(39,5)\"><g class=\"mark-group role-frame root\"><g transform=\"translate(0,0)\"><path class=\"background\" d=\"M0.5,0.5h200v200h-200Z\" style=\"fill: none; stroke: #ddd;\"></path><g><g class=\"mark-group role-axis\"><g transform=\"translate(0.5,200.5)\"><path class=\"background\" d=\"M0,0h0v0h0Z\" style=\"pointer-events: none; fill: none;\"></path><g><g class=\"mark-rule role-axis-grid\" style=\"pointer-events: none;\"><line transform=\"translate(0,-200)\" x2=\"0\" y2=\"200\" style=\"fill: none; stroke: #ddd; stroke-width: 1; opacity: 1;\"></line><line transform=\"translate(50,-200)\" x2=\"0\" y2=\"200\" style=\"fill: none; stroke: #ddd; stroke-width: 1; opacity: 1;\"></line><line transform=\"translate(100,-200)\" x2=\"0\" y2=\"200\" style=\"fill: none; stroke: #ddd; stroke-width: 1; opacity: 1;\"></line><line transform=\"translate(150,-200)\" x2=\"0\" y2=\"200\" style=\"fill: none; stroke: #ddd; stroke-width: 1; opacity: 1;\"></line><line transform=\"translate(200,-200)\" x2=\"0\" y2=\"200\" style=\"fill: none; stroke: #ddd; stroke-width: 1; opacity: 1;\"></line></g></g></g></g><g class=\"mark-group role-axis\"><g transform=\"translate(0.5,0.5)\"><path class=\"background\" d=\"M0,0h0v0h0Z\" style=\"pointer-events: none; fill: none;\"></path><g><g class=\"mark-rule role-axis-grid\" style=\"pointer-events: none;\"><line transform=\"translate(0,200)\" x2=\"200\" y2=\"0\" style=\"fill: none; stroke: #ddd; stroke-width: 1; opacity: 1;\"></line><line transform=\"translate(0,144)\" x2=\"200\" y2=\"0\" style=\"fill: none; stroke: #ddd; stroke-width: 1; opacity: 1;\"></line><line transform=\"translate(0,89)\" x2=\"200\" y2=\"0\" style=\"fill: none; stroke: #ddd; stroke-width: 1; opacity: 1;\"></line><line transform=\"translate(0,33)\" x2=\"200\" y2=\"0\" style=\"fill: none; stroke: #ddd; stroke-width: 1; opacity: 1;\"></line></g></g></g></g><g class=\"mark-symbol role-mark marks\"><path transform=\"translate(150,188.88888888888889)\" d=\"M2.7386127875258306,0A2.7386127875258306,2.7386127875258306,0,1,1,-2.7386127875258306,0A2.7386127875258306,2.7386127875258306,0,1,1,2.7386127875258306,0\" style=\"fill: #4c78a8; stroke-width: 2; opacity: 0.7;\"></path><path transform=\"translate(125,188.88888888888889)\" d=\"M2.7386127875258306,0A2.7386127875258306,2.7386127875258306,0,1,1,-2.7386127875258306,0A2.7386127875258306,2.7386127875258306,0,1,1,2.7386127875258306,0\" style=\"fill: #4c78a8; stroke-width: 2; opacity: 0.7;\"></path><path transform=\"translate(125,177.77777777777777)\" d=\"M2.7386127875258306,0A2.7386127875258306,2.7386127875258306,0,1,1,-2.7386127875258306,0A2.7386127875258306,2.7386127875258306,0,1,1,2.7386127875258306,0\" style=\"fill: #4c78a8; stroke-width: 2; opacity: 0.7;\"></path><path transform=\"translate(100,188.88888888888889)\" d=\"M2.7386127875258306,0A2.7386127875258306,2.7386127875258306,0,1,1,-2.7386127875258306,0A2.7386127875258306,2.7386127875258306,0,1,1,2.7386127875258306,0\" style=\"fill: #4c78a8; stroke-width: 2; opacity: 0.7;\"></path><path transform=\"translate(50,188.88888888888889)\" d=\"M2.7386127875258306,0A2.7386127875258306,2.7386127875258306,0,1,1,-2.7386127875258306,0A2.7386127875258306,2.7386127875258306,0,1,1,2.7386127875258306,0\" style=\"fill: #4c78a8; stroke-width: 2; opacity: 0.7;\"></path><path transform=\"translate(25,188.88888888888889)\" d=\"M2.7386127875258306,0A2.7386127875258306,2.7386127875258306,0,1,1,-2.7386127875258306,0A2.7386127875258306,2.7386127875258306,0,1,1,2.7386127875258306,0\" style=\"fill: #4c78a8; stroke-width: 2; opacity: 0.7;\"></path><path transform=\"translate(100,177.77777777777777)\" d=\"M2.7386127875258306,0A2.7386127875258306,2.7386127875258306,0,1,1,-2.7386127875258306,0A2.7386127875258306,2.7386127875258306,0,1,1,2.7386127875258306,0\" style=\"fill: #4c78a8; stroke-width: 2; opacity: 0.7;\"></path><path transform=\"translate(50,177.77777777777777)\" d=\"M2.7386127875258306,0A2.7386127875258306,2.7386127875258306,0,1,1,-2.7386127875258306,0A2.7386127875258306,2.7386127875258306,0,1,1,2.7386127875258306,0\" style=\"fill: #4c78a8; stroke-width: 2; opacity: 0.7;\"></path><path transform=\"translate(200,188.88888888888889)\" d=\"M2.7386127875258306,0A2.7386127875258306,2.7386127875258306,0,1,1,-2.7386127875258306,0A2.7386127875258306,2.7386127875258306,0,1,1,2.7386127875258306,0\" style=\"fill: #4c78a8; stroke-width: 2; opacity: 0.7;\"></path><path transform=\"translate(75,188.88888888888889)\" d=\"M2.7386127875258306,0A2.7386127875258306,2.7386127875258306,0,1,1,-2.7386127875258306,0A2.7386127875258306,2.7386127875258306,0,1,1,2.7386127875258306,0\" style=\"fill: #4c78a8; stroke-width: 2; opacity: 0.7;\"></path><path transform=\"translate(25,177.77777777777777)\" d=\"M2.7386127875258306,0A2.7386127875258306,2.7386127875258306,0,1,1,-2.7386127875258306,0A2.7386127875258306,2.7386127875258306,0,1,1,2.7386127875258306,0\" style=\"fill: #4c78a8; stroke-width: 2; opacity: 0.7;\"></path><path transform=\"translate(200,177.77777777777777)\" d=\"M2.7386127875258306,0A2.7386127875258306,2.7386127875258306,0,1,1,-2.7386127875258306,0A2.7386127875258306,2.7386127875258306,0,1,1,2.7386127875258306,0\" style=\"fill: #4c78a8; stroke-width: 2; opacity: 0.7;\"></path><path transform=\"translate(25,166.66666666666669)\" d=\"M2.7386127875258306,0A2.7386127875258306,2.7386127875258306,0,1,1,-2.7386127875258306,0A2.7386127875258306,2.7386127875258306,0,1,1,2.7386127875258306,0\" style=\"fill: #4c78a8; stroke-width: 2; opacity: 0.7;\"></path><path transform=\"translate(0,188.88888888888889)\" d=\"M2.7386127875258306,0A2.7386127875258306,2.7386127875258306,0,1,1,-2.7386127875258306,0A2.7386127875258306,2.7386127875258306,0,1,1,2.7386127875258306,0\" style=\"fill: #4c78a8; stroke-width: 2; opacity: 0.7;\"></path><path transform=\"translate(200,166.66666666666669)\" d=\"M2.7386127875258306,0A2.7386127875258306,2.7386127875258306,0,1,1,-2.7386127875258306,0A2.7386127875258306,2.7386127875258306,0,1,1,2.7386127875258306,0\" style=\"fill: #4c78a8; stroke-width: 2; opacity: 0.7;\"></path><path transform=\"translate(125,166.66666666666669)\" d=\"M2.7386127875258306,0A2.7386127875258306,2.7386127875258306,0,1,1,-2.7386127875258306,0A2.7386127875258306,2.7386127875258306,0,1,1,2.7386127875258306,0\" style=\"fill: #4c78a8; stroke-width: 2; opacity: 0.7;\"></path><path transform=\"translate(50,166.66666666666669)\" d=\"M2.7386127875258306,0A2.7386127875258306,2.7386127875258306,0,1,1,-2.7386127875258306,0A2.7386127875258306,2.7386127875258306,0,1,1,2.7386127875258306,0\" style=\"fill: #4c78a8; stroke-width: 2; opacity: 0.7;\"></path><path transform=\"translate(175,188.88888888888889)\" d=\"M2.7386127875258306,0A2.7386127875258306,2.7386127875258306,0,1,1,-2.7386127875258306,0A2.7386127875258306,2.7386127875258306,0,1,1,2.7386127875258306,0\" style=\"fill: #4c78a8; stroke-width: 2; opacity: 0.7;\"></path><path transform=\"translate(25,155.55555555555554)\" d=\"M2.7386127875258306,0A2.7386127875258306,2.7386127875258306,0,1,1,-2.7386127875258306,0A2.7386127875258306,2.7386127875258306,0,1,1,2.7386127875258306,0\" style=\"fill: #4c78a8; stroke-width: 2; opacity: 0.7;\"></path><path transform=\"translate(125,155.55555555555554)\" d=\"M2.7386127875258306,0A2.7386127875258306,2.7386127875258306,0,1,1,-2.7386127875258306,0A2.7386127875258306,2.7386127875258306,0,1,1,2.7386127875258306,0\" style=\"fill: #4c78a8; stroke-width: 2; opacity: 0.7;\"></path><path transform=\"translate(125,144.44444444444446)\" d=\"M2.7386127875258306,0A2.7386127875258306,2.7386127875258306,0,1,1,-2.7386127875258306,0A2.7386127875258306,2.7386127875258306,0,1,1,2.7386127875258306,0\" style=\"fill: #4c78a8; stroke-width: 2; opacity: 0.7;\"></path><path transform=\"translate(25,144.44444444444446)\" d=\"M2.7386127875258306,0A2.7386127875258306,2.7386127875258306,0,1,1,-2.7386127875258306,0A2.7386127875258306,2.7386127875258306,0,1,1,2.7386127875258306,0\" style=\"fill: #4c78a8; stroke-width: 2; opacity: 0.7;\"></path><path transform=\"translate(50,155.55555555555554)\" d=\"M2.7386127875258306,0A2.7386127875258306,2.7386127875258306,0,1,1,-2.7386127875258306,0A2.7386127875258306,2.7386127875258306,0,1,1,2.7386127875258306,0\" style=\"fill: #4c78a8; stroke-width: 2; opacity: 0.7;\"></path><path transform=\"translate(100,166.66666666666669)\" d=\"M2.7386127875258306,0A2.7386127875258306,2.7386127875258306,0,1,1,-2.7386127875258306,0A2.7386127875258306,2.7386127875258306,0,1,1,2.7386127875258306,0\" style=\"fill: #4c78a8; stroke-width: 2; opacity: 0.7;\"></path><path transform=\"translate(50,144.44444444444446)\" d=\"M2.7386127875258306,0A2.7386127875258306,2.7386127875258306,0,1,1,-2.7386127875258306,0A2.7386127875258306,2.7386127875258306,0,1,1,2.7386127875258306,0\" style=\"fill: #4c78a8; stroke-width: 2; opacity: 0.7;\"></path><path transform=\"translate(200,155.55555555555554)\" d=\"M2.7386127875258306,0A2.7386127875258306,2.7386127875258306,0,1,1,-2.7386127875258306,0A2.7386127875258306,2.7386127875258306,0,1,1,2.7386127875258306,0\" style=\"fill: #4c78a8; stroke-width: 2; opacity: 0.7;\"></path><path transform=\"translate(175,177.77777777777777)\" d=\"M2.7386127875258306,0A2.7386127875258306,2.7386127875258306,0,1,1,-2.7386127875258306,0A2.7386127875258306,2.7386127875258306,0,1,1,2.7386127875258306,0\" style=\"fill: #4c78a8; stroke-width: 2; opacity: 0.7;\"></path><path transform=\"translate(125,133.33333333333334)\" d=\"M2.7386127875258306,0A2.7386127875258306,2.7386127875258306,0,1,1,-2.7386127875258306,0A2.7386127875258306,2.7386127875258306,0,1,1,2.7386127875258306,0\" style=\"fill: #4c78a8; stroke-width: 2; opacity: 0.7;\"></path><path transform=\"translate(200,144.44444444444446)\" d=\"M2.7386127875258306,0A2.7386127875258306,2.7386127875258306,0,1,1,-2.7386127875258306,0A2.7386127875258306,2.7386127875258306,0,1,1,2.7386127875258306,0\" style=\"fill: #4c78a8; stroke-width: 2; opacity: 0.7;\"></path><path transform=\"translate(25,133.33333333333334)\" d=\"M2.7386127875258306,0A2.7386127875258306,2.7386127875258306,0,1,1,-2.7386127875258306,0A2.7386127875258306,2.7386127875258306,0,1,1,2.7386127875258306,0\" style=\"fill: #4c78a8; stroke-width: 2; opacity: 0.7;\"></path><path transform=\"translate(75,177.77777777777777)\" d=\"M2.7386127875258306,0A2.7386127875258306,2.7386127875258306,0,1,1,-2.7386127875258306,0A2.7386127875258306,2.7386127875258306,0,1,1,2.7386127875258306,0\" style=\"fill: #4c78a8; stroke-width: 2; opacity: 0.7;\"></path><path transform=\"translate(100,155.55555555555554)\" d=\"M2.7386127875258306,0A2.7386127875258306,2.7386127875258306,0,1,1,-2.7386127875258306,0A2.7386127875258306,2.7386127875258306,0,1,1,2.7386127875258306,0\" style=\"fill: #4c78a8; stroke-width: 2; opacity: 0.7;\"></path><path transform=\"translate(0,177.77777777777777)\" d=\"M2.7386127875258306,0A2.7386127875258306,2.7386127875258306,0,1,1,-2.7386127875258306,0A2.7386127875258306,2.7386127875258306,0,1,1,2.7386127875258306,0\" style=\"fill: #4c78a8; stroke-width: 2; opacity: 0.7;\"></path><path transform=\"translate(50,133.33333333333334)\" d=\"M2.7386127875258306,0A2.7386127875258306,2.7386127875258306,0,1,1,-2.7386127875258306,0A2.7386127875258306,2.7386127875258306,0,1,1,2.7386127875258306,0\" style=\"fill: #4c78a8; stroke-width: 2; opacity: 0.7;\"></path><path transform=\"translate(50,122.22222222222221)\" d=\"M2.7386127875258306,0A2.7386127875258306,2.7386127875258306,0,1,1,-2.7386127875258306,0A2.7386127875258306,2.7386127875258306,0,1,1,2.7386127875258306,0\" style=\"fill: #4c78a8; stroke-width: 2; opacity: 0.7;\"></path><path transform=\"translate(0,166.66666666666669)\" d=\"M2.7386127875258306,0A2.7386127875258306,2.7386127875258306,0,1,1,-2.7386127875258306,0A2.7386127875258306,2.7386127875258306,0,1,1,2.7386127875258306,0\" style=\"fill: #4c78a8; stroke-width: 2; opacity: 0.7;\"></path><path transform=\"translate(75,166.66666666666669)\" d=\"M2.7386127875258306,0A2.7386127875258306,2.7386127875258306,0,1,1,-2.7386127875258306,0A2.7386127875258306,2.7386127875258306,0,1,1,2.7386127875258306,0\" style=\"fill: #4c78a8; stroke-width: 2; opacity: 0.7;\"></path><path transform=\"translate(0,155.55555555555554)\" d=\"M2.7386127875258306,0A2.7386127875258306,2.7386127875258306,0,1,1,-2.7386127875258306,0A2.7386127875258306,2.7386127875258306,0,1,1,2.7386127875258306,0\" style=\"fill: #4c78a8; stroke-width: 2; opacity: 0.7;\"></path><path transform=\"translate(25,122.22222222222221)\" d=\"M2.7386127875258306,0A2.7386127875258306,2.7386127875258306,0,1,1,-2.7386127875258306,0A2.7386127875258306,2.7386127875258306,0,1,1,2.7386127875258306,0\" style=\"fill: #4c78a8; stroke-width: 2; opacity: 0.7;\"></path><path transform=\"translate(75,155.55555555555554)\" d=\"M2.7386127875258306,0A2.7386127875258306,2.7386127875258306,0,1,1,-2.7386127875258306,0A2.7386127875258306,2.7386127875258306,0,1,1,2.7386127875258306,0\" style=\"fill: #4c78a8; stroke-width: 2; opacity: 0.7;\"></path><path transform=\"translate(175,166.66666666666669)\" d=\"M2.7386127875258306,0A2.7386127875258306,2.7386127875258306,0,1,1,-2.7386127875258306,0A2.7386127875258306,2.7386127875258306,0,1,1,2.7386127875258306,0\" style=\"fill: #4c78a8; stroke-width: 2; opacity: 0.7;\"></path><path transform=\"translate(50,111.11111111111111)\" d=\"M2.7386127875258306,0A2.7386127875258306,2.7386127875258306,0,1,1,-2.7386127875258306,0A2.7386127875258306,2.7386127875258306,0,1,1,2.7386127875258306,0\" style=\"fill: #4c78a8; stroke-width: 2; opacity: 0.7;\"></path><path transform=\"translate(25,111.11111111111111)\" d=\"M2.7386127875258306,0A2.7386127875258306,2.7386127875258306,0,1,1,-2.7386127875258306,0A2.7386127875258306,2.7386127875258306,0,1,1,2.7386127875258306,0\" style=\"fill: #4c78a8; stroke-width: 2; opacity: 0.7;\"></path><path transform=\"translate(50,100)\" d=\"M2.7386127875258306,0A2.7386127875258306,2.7386127875258306,0,1,1,-2.7386127875258306,0A2.7386127875258306,2.7386127875258306,0,1,1,2.7386127875258306,0\" style=\"fill: #4c78a8; stroke-width: 2; opacity: 0.7;\"></path><path transform=\"translate(25,100)\" d=\"M2.7386127875258306,0A2.7386127875258306,2.7386127875258306,0,1,1,-2.7386127875258306,0A2.7386127875258306,2.7386127875258306,0,1,1,2.7386127875258306,0\" style=\"fill: #4c78a8; stroke-width: 2; opacity: 0.7;\"></path><path transform=\"translate(150,177.77777777777777)\" d=\"M2.7386127875258306,0A2.7386127875258306,2.7386127875258306,0,1,1,-2.7386127875258306,0A2.7386127875258306,2.7386127875258306,0,1,1,2.7386127875258306,0\" style=\"fill: #4c78a8; stroke-width: 2; opacity: 0.7;\"></path><path transform=\"translate(75,144.44444444444446)\" d=\"M2.7386127875258306,0A2.7386127875258306,2.7386127875258306,0,1,1,-2.7386127875258306,0A2.7386127875258306,2.7386127875258306,0,1,1,2.7386127875258306,0\" style=\"fill: #4c78a8; stroke-width: 2; opacity: 0.7;\"></path><path transform=\"translate(100,144.44444444444446)\" d=\"M2.7386127875258306,0A2.7386127875258306,2.7386127875258306,0,1,1,-2.7386127875258306,0A2.7386127875258306,2.7386127875258306,0,1,1,2.7386127875258306,0\" style=\"fill: #4c78a8; stroke-width: 2; opacity: 0.7;\"></path><path transform=\"translate(50,88.88888888888889)\" d=\"M2.7386127875258306,0A2.7386127875258306,2.7386127875258306,0,1,1,-2.7386127875258306,0A2.7386127875258306,2.7386127875258306,0,1,1,2.7386127875258306,0\" style=\"fill: #4c78a8; stroke-width: 2; opacity: 0.7;\"></path><path transform=\"translate(0,144.44444444444446)\" d=\"M2.7386127875258306,0A2.7386127875258306,2.7386127875258306,0,1,1,-2.7386127875258306,0A2.7386127875258306,2.7386127875258306,0,1,1,2.7386127875258306,0\" style=\"fill: #4c78a8; stroke-width: 2; opacity: 0.7;\"></path><path transform=\"translate(100,133.33333333333334)\" d=\"M2.7386127875258306,0A2.7386127875258306,2.7386127875258306,0,1,1,-2.7386127875258306,0A2.7386127875258306,2.7386127875258306,0,1,1,2.7386127875258306,0\" style=\"fill: #4c78a8; stroke-width: 2; opacity: 0.7;\"></path><path transform=\"translate(125,122.22222222222221)\" d=\"M2.7386127875258306,0A2.7386127875258306,2.7386127875258306,0,1,1,-2.7386127875258306,0A2.7386127875258306,2.7386127875258306,0,1,1,2.7386127875258306,0\" style=\"fill: #4c78a8; stroke-width: 2; opacity: 0.7;\"></path><path transform=\"translate(175,155.55555555555554)\" d=\"M2.7386127875258306,0A2.7386127875258306,2.7386127875258306,0,1,1,-2.7386127875258306,0A2.7386127875258306,2.7386127875258306,0,1,1,2.7386127875258306,0\" style=\"fill: #4c78a8; stroke-width: 2; opacity: 0.7;\"></path><path transform=\"translate(100,122.22222222222221)\" d=\"M2.7386127875258306,0A2.7386127875258306,2.7386127875258306,0,1,1,-2.7386127875258306,0A2.7386127875258306,2.7386127875258306,0,1,1,2.7386127875258306,0\" style=\"fill: #4c78a8; stroke-width: 2; opacity: 0.7;\"></path><path transform=\"translate(0,133.33333333333334)\" d=\"M2.7386127875258306,0A2.7386127875258306,2.7386127875258306,0,1,1,-2.7386127875258306,0A2.7386127875258306,2.7386127875258306,0,1,1,2.7386127875258306,0\" style=\"fill: #4c78a8; stroke-width: 2; opacity: 0.7;\"></path><path transform=\"translate(50,77.77777777777777)\" d=\"M2.7386127875258306,0A2.7386127875258306,2.7386127875258306,0,1,1,-2.7386127875258306,0A2.7386127875258306,2.7386127875258306,0,1,1,2.7386127875258306,0\" style=\"fill: #4c78a8; stroke-width: 2; opacity: 0.7;\"></path><path transform=\"translate(150,166.66666666666669)\" d=\"M2.7386127875258306,0A2.7386127875258306,2.7386127875258306,0,1,1,-2.7386127875258306,0A2.7386127875258306,2.7386127875258306,0,1,1,2.7386127875258306,0\" style=\"fill: #4c78a8; stroke-width: 2; opacity: 0.7;\"></path><path transform=\"translate(200,133.33333333333334)\" d=\"M2.7386127875258306,0A2.7386127875258306,2.7386127875258306,0,1,1,-2.7386127875258306,0A2.7386127875258306,2.7386127875258306,0,1,1,2.7386127875258306,0\" style=\"fill: #4c78a8; stroke-width: 2; opacity: 0.7;\"></path><path transform=\"translate(175,144.44444444444446)\" d=\"M2.7386127875258306,0A2.7386127875258306,2.7386127875258306,0,1,1,-2.7386127875258306,0A2.7386127875258306,2.7386127875258306,0,1,1,2.7386127875258306,0\" style=\"fill: #4c78a8; stroke-width: 2; opacity: 0.7;\"></path><path transform=\"translate(125,111.11111111111111)\" d=\"M2.7386127875258306,0A2.7386127875258306,2.7386127875258306,0,1,1,-2.7386127875258306,0A2.7386127875258306,2.7386127875258306,0,1,1,2.7386127875258306,0\" style=\"fill: #4c78a8; stroke-width: 2; opacity: 0.7;\"></path><path transform=\"translate(100,111.11111111111111)\" d=\"M2.7386127875258306,0A2.7386127875258306,2.7386127875258306,0,1,1,-2.7386127875258306,0A2.7386127875258306,2.7386127875258306,0,1,1,2.7386127875258306,0\" style=\"fill: #4c78a8; stroke-width: 2; opacity: 0.7;\"></path><path transform=\"translate(100,100)\" d=\"M2.7386127875258306,0A2.7386127875258306,2.7386127875258306,0,1,1,-2.7386127875258306,0A2.7386127875258306,2.7386127875258306,0,1,1,2.7386127875258306,0\" style=\"fill: #4c78a8; stroke-width: 2; opacity: 0.7;\"></path><path transform=\"translate(125,100)\" d=\"M2.7386127875258306,0A2.7386127875258306,2.7386127875258306,0,1,1,-2.7386127875258306,0A2.7386127875258306,2.7386127875258306,0,1,1,2.7386127875258306,0\" style=\"fill: #4c78a8; stroke-width: 2; opacity: 0.7;\"></path><path transform=\"translate(50,66.66666666666669)\" d=\"M2.7386127875258306,0A2.7386127875258306,2.7386127875258306,0,1,1,-2.7386127875258306,0A2.7386127875258306,2.7386127875258306,0,1,1,2.7386127875258306,0\" style=\"fill: #4c78a8; stroke-width: 2; opacity: 0.7;\"></path><path transform=\"translate(0,122.22222222222221)\" d=\"M2.7386127875258306,0A2.7386127875258306,2.7386127875258306,0,1,1,-2.7386127875258306,0A2.7386127875258306,2.7386127875258306,0,1,1,2.7386127875258306,0\" style=\"fill: #4c78a8; stroke-width: 2; opacity: 0.7;\"></path><path transform=\"translate(150,155.55555555555554)\" d=\"M2.7386127875258306,0A2.7386127875258306,2.7386127875258306,0,1,1,-2.7386127875258306,0A2.7386127875258306,2.7386127875258306,0,1,1,2.7386127875258306,0\" style=\"fill: #4c78a8; stroke-width: 2; opacity: 0.7;\"></path><path transform=\"translate(0,111.11111111111111)\" d=\"M2.7386127875258306,0A2.7386127875258306,2.7386127875258306,0,1,1,-2.7386127875258306,0A2.7386127875258306,2.7386127875258306,0,1,1,2.7386127875258306,0\" style=\"fill: #4c78a8; stroke-width: 2; opacity: 0.7;\"></path><path transform=\"translate(75,133.33333333333334)\" d=\"M2.7386127875258306,0A2.7386127875258306,2.7386127875258306,0,1,1,-2.7386127875258306,0A2.7386127875258306,2.7386127875258306,0,1,1,2.7386127875258306,0\" style=\"fill: #4c78a8; stroke-width: 2; opacity: 0.7;\"></path><path transform=\"translate(75,122.22222222222221)\" d=\"M2.7386127875258306,0A2.7386127875258306,2.7386127875258306,0,1,1,-2.7386127875258306,0A2.7386127875258306,2.7386127875258306,0,1,1,2.7386127875258306,0\" style=\"fill: #4c78a8; stroke-width: 2; opacity: 0.7;\"></path><path transform=\"translate(75,111.11111111111111)\" d=\"M2.7386127875258306,0A2.7386127875258306,2.7386127875258306,0,1,1,-2.7386127875258306,0A2.7386127875258306,2.7386127875258306,0,1,1,2.7386127875258306,0\" style=\"fill: #4c78a8; stroke-width: 2; opacity: 0.7;\"></path><path transform=\"translate(200,122.22222222222221)\" d=\"M2.7386127875258306,0A2.7386127875258306,2.7386127875258306,0,1,1,-2.7386127875258306,0A2.7386127875258306,2.7386127875258306,0,1,1,2.7386127875258306,0\" style=\"fill: #4c78a8; stroke-width: 2; opacity: 0.7;\"></path><path transform=\"translate(100,88.88888888888889)\" d=\"M2.7386127875258306,0A2.7386127875258306,2.7386127875258306,0,1,1,-2.7386127875258306,0A2.7386127875258306,2.7386127875258306,0,1,1,2.7386127875258306,0\" style=\"fill: #4c78a8; stroke-width: 2; opacity: 0.7;\"></path><path transform=\"translate(175,133.33333333333334)\" d=\"M2.7386127875258306,0A2.7386127875258306,2.7386127875258306,0,1,1,-2.7386127875258306,0A2.7386127875258306,2.7386127875258306,0,1,1,2.7386127875258306,0\" style=\"fill: #4c78a8; stroke-width: 2; opacity: 0.7;\"></path><path transform=\"translate(125,88.88888888888889)\" d=\"M2.7386127875258306,0A2.7386127875258306,2.7386127875258306,0,1,1,-2.7386127875258306,0A2.7386127875258306,2.7386127875258306,0,1,1,2.7386127875258306,0\" style=\"fill: #4c78a8; stroke-width: 2; opacity: 0.7;\"></path><path transform=\"translate(150,144.44444444444446)\" d=\"M2.7386127875258306,0A2.7386127875258306,2.7386127875258306,0,1,1,-2.7386127875258306,0A2.7386127875258306,2.7386127875258306,0,1,1,2.7386127875258306,0\" style=\"fill: #4c78a8; stroke-width: 2; opacity: 0.7;\"></path><path transform=\"translate(50,55.55555555555557)\" d=\"M2.7386127875258306,0A2.7386127875258306,2.7386127875258306,0,1,1,-2.7386127875258306,0A2.7386127875258306,2.7386127875258306,0,1,1,2.7386127875258306,0\" style=\"fill: #4c78a8; stroke-width: 2; opacity: 0.7;\"></path><path transform=\"translate(75,100)\" d=\"M2.7386127875258306,0A2.7386127875258306,2.7386127875258306,0,1,1,-2.7386127875258306,0A2.7386127875258306,2.7386127875258306,0,1,1,2.7386127875258306,0\" style=\"fill: #4c78a8; stroke-width: 2; opacity: 0.7;\"></path><path transform=\"translate(0,100)\" d=\"M2.7386127875258306,0A2.7386127875258306,2.7386127875258306,0,1,1,-2.7386127875258306,0A2.7386127875258306,2.7386127875258306,0,1,1,2.7386127875258306,0\" style=\"fill: #4c78a8; stroke-width: 2; opacity: 0.7;\"></path><path transform=\"translate(100,77.77777777777777)\" d=\"M2.7386127875258306,0A2.7386127875258306,2.7386127875258306,0,1,1,-2.7386127875258306,0A2.7386127875258306,2.7386127875258306,0,1,1,2.7386127875258306,0\" style=\"fill: #4c78a8; stroke-width: 2; opacity: 0.7;\"></path><path transform=\"translate(75,88.88888888888889)\" d=\"M2.7386127875258306,0A2.7386127875258306,2.7386127875258306,0,1,1,-2.7386127875258306,0A2.7386127875258306,2.7386127875258306,0,1,1,2.7386127875258306,0\" style=\"fill: #4c78a8; stroke-width: 2; opacity: 0.7;\"></path><path transform=\"translate(75,77.77777777777777)\" d=\"M2.7386127875258306,0A2.7386127875258306,2.7386127875258306,0,1,1,-2.7386127875258306,0A2.7386127875258306,2.7386127875258306,0,1,1,2.7386127875258306,0\" style=\"fill: #4c78a8; stroke-width: 2; opacity: 0.7;\"></path><path transform=\"translate(200,111.11111111111111)\" d=\"M2.7386127875258306,0A2.7386127875258306,2.7386127875258306,0,1,1,-2.7386127875258306,0A2.7386127875258306,2.7386127875258306,0,1,1,2.7386127875258306,0\" style=\"fill: #4c78a8; stroke-width: 2; opacity: 0.7;\"></path><path transform=\"translate(200,100)\" d=\"M2.7386127875258306,0A2.7386127875258306,2.7386127875258306,0,1,1,-2.7386127875258306,0A2.7386127875258306,2.7386127875258306,0,1,1,2.7386127875258306,0\" style=\"fill: #4c78a8; stroke-width: 2; opacity: 0.7;\"></path><path transform=\"translate(0,88.88888888888889)\" d=\"M2.7386127875258306,0A2.7386127875258306,2.7386127875258306,0,1,1,-2.7386127875258306,0A2.7386127875258306,2.7386127875258306,0,1,1,2.7386127875258306,0\" style=\"fill: #4c78a8; stroke-width: 2; opacity: 0.7;\"></path><path transform=\"translate(0,77.77777777777777)\" d=\"M2.7386127875258306,0A2.7386127875258306,2.7386127875258306,0,1,1,-2.7386127875258306,0A2.7386127875258306,2.7386127875258306,0,1,1,2.7386127875258306,0\" style=\"fill: #4c78a8; stroke-width: 2; opacity: 0.7;\"></path><path transform=\"translate(200,88.88888888888889)\" d=\"M2.7386127875258306,0A2.7386127875258306,2.7386127875258306,0,1,1,-2.7386127875258306,0A2.7386127875258306,2.7386127875258306,0,1,1,2.7386127875258306,0\" style=\"fill: #4c78a8; stroke-width: 2; opacity: 0.7;\"></path><path transform=\"translate(150,133.33333333333334)\" d=\"M2.7386127875258306,0A2.7386127875258306,2.7386127875258306,0,1,1,-2.7386127875258306,0A2.7386127875258306,2.7386127875258306,0,1,1,2.7386127875258306,0\" style=\"fill: #4c78a8; stroke-width: 2; opacity: 0.7;\"></path><path transform=\"translate(150,122.22222222222221)\" d=\"M2.7386127875258306,0A2.7386127875258306,2.7386127875258306,0,1,1,-2.7386127875258306,0A2.7386127875258306,2.7386127875258306,0,1,1,2.7386127875258306,0\" style=\"fill: #4c78a8; stroke-width: 2; opacity: 0.7;\"></path><path transform=\"translate(150,111.11111111111111)\" d=\"M2.7386127875258306,0A2.7386127875258306,2.7386127875258306,0,1,1,-2.7386127875258306,0A2.7386127875258306,2.7386127875258306,0,1,1,2.7386127875258306,0\" style=\"fill: #4c78a8; stroke-width: 2; opacity: 0.7;\"></path><path transform=\"translate(50,44.44444444444443)\" d=\"M2.7386127875258306,0A2.7386127875258306,2.7386127875258306,0,1,1,-2.7386127875258306,0A2.7386127875258306,2.7386127875258306,0,1,1,2.7386127875258306,0\" style=\"fill: #4c78a8; stroke-width: 2; opacity: 0.7;\"></path><path transform=\"translate(75,66.66666666666669)\" d=\"M2.7386127875258306,0A2.7386127875258306,2.7386127875258306,0,1,1,-2.7386127875258306,0A2.7386127875258306,2.7386127875258306,0,1,1,2.7386127875258306,0\" style=\"fill: #4c78a8; stroke-width: 2; opacity: 0.7;\"></path><path transform=\"translate(50,33.333333333333314)\" d=\"M2.7386127875258306,0A2.7386127875258306,2.7386127875258306,0,1,1,-2.7386127875258306,0A2.7386127875258306,2.7386127875258306,0,1,1,2.7386127875258306,0\" style=\"fill: #4c78a8; stroke-width: 2; opacity: 0.7;\"></path><path transform=\"translate(50,22.22222222222223)\" d=\"M2.7386127875258306,0A2.7386127875258306,2.7386127875258306,0,1,1,-2.7386127875258306,0A2.7386127875258306,2.7386127875258306,0,1,1,2.7386127875258306,0\" style=\"fill: #4c78a8; stroke-width: 2; opacity: 0.7;\"></path><path transform=\"translate(25,88.88888888888889)\" d=\"M2.7386127875258306,0A2.7386127875258306,2.7386127875258306,0,1,1,-2.7386127875258306,0A2.7386127875258306,2.7386127875258306,0,1,1,2.7386127875258306,0\" style=\"fill: #4c78a8; stroke-width: 2; opacity: 0.7;\"></path><path transform=\"translate(125,77.77777777777777)\" d=\"M2.7386127875258306,0A2.7386127875258306,2.7386127875258306,0,1,1,-2.7386127875258306,0A2.7386127875258306,2.7386127875258306,0,1,1,2.7386127875258306,0\" style=\"fill: #4c78a8; stroke-width: 2; opacity: 0.7;\"></path><path transform=\"translate(75,55.55555555555557)\" d=\"M2.7386127875258306,0A2.7386127875258306,2.7386127875258306,0,1,1,-2.7386127875258306,0A2.7386127875258306,2.7386127875258306,0,1,1,2.7386127875258306,0\" style=\"fill: #4c78a8; stroke-width: 2; opacity: 0.7;\"></path><path transform=\"translate(75,44.44444444444443)\" d=\"M2.7386127875258306,0A2.7386127875258306,2.7386127875258306,0,1,1,-2.7386127875258306,0A2.7386127875258306,2.7386127875258306,0,1,1,2.7386127875258306,0\" style=\"fill: #4c78a8; stroke-width: 2; opacity: 0.7;\"></path><path transform=\"translate(0,66.66666666666669)\" d=\"M2.7386127875258306,0A2.7386127875258306,2.7386127875258306,0,1,1,-2.7386127875258306,0A2.7386127875258306,2.7386127875258306,0,1,1,2.7386127875258306,0\" style=\"fill: #4c78a8; stroke-width: 2; opacity: 0.7;\"></path><path transform=\"translate(50,11.111111111111114)\" d=\"M2.7386127875258306,0A2.7386127875258306,2.7386127875258306,0,1,1,-2.7386127875258306,0A2.7386127875258306,2.7386127875258306,0,1,1,2.7386127875258306,0\" style=\"fill: #4c78a8; stroke-width: 2; opacity: 0.7;\"></path><path transform=\"translate(25,77.77777777777777)\" d=\"M2.7386127875258306,0A2.7386127875258306,2.7386127875258306,0,1,1,-2.7386127875258306,0A2.7386127875258306,2.7386127875258306,0,1,1,2.7386127875258306,0\" style=\"fill: #4c78a8; stroke-width: 2; opacity: 0.7;\"></path></g><g class=\"mark-group role-axis\"><g transform=\"translate(0.5,200.5)\"><path class=\"background\" d=\"M0,0h0v0h0Z\" style=\"pointer-events: none; fill: none;\"></path><g><g class=\"mark-rule role-axis-tick\" style=\"pointer-events: none;\"><line transform=\"translate(0,0)\" x2=\"0\" y2=\"5\" style=\"fill: none; stroke: #888; stroke-width: 1; opacity: 1;\"></line><line transform=\"translate(50,0)\" x2=\"0\" y2=\"5\" style=\"fill: none; stroke: #888; stroke-width: 1; opacity: 1;\"></line><line transform=\"translate(100,0)\" x2=\"0\" y2=\"5\" style=\"fill: none; stroke: #888; stroke-width: 1; opacity: 1;\"></line><line transform=\"translate(150,0)\" x2=\"0\" y2=\"5\" style=\"fill: none; stroke: #888; stroke-width: 1; opacity: 1;\"></line><line transform=\"translate(200,0)\" x2=\"0\" y2=\"5\" style=\"fill: none; stroke: #888; stroke-width: 1; opacity: 1;\"></line></g><g class=\"mark-text role-axis-label\" style=\"pointer-events: none;\"><text text-anchor=\"start\" transform=\"translate(0,15)\" style=\"font-family: sans-serif; font-size: 10px; fill: #000; opacity: 1;\">0</text><text text-anchor=\"middle\" transform=\"translate(50,15)\" style=\"font-family: sans-serif; font-size: 10px; fill: #000; opacity: 1;\">2</text><text text-anchor=\"middle\" transform=\"translate(100,15)\" style=\"font-family: sans-serif; font-size: 10px; fill: #000; opacity: 1;\">4</text><text text-anchor=\"middle\" transform=\"translate(150,15)\" style=\"font-family: sans-serif; font-size: 10px; fill: #000; opacity: 1;\">6</text><text text-anchor=\"end\" transform=\"translate(200,15)\" style=\"font-family: sans-serif; font-size: 10px; fill: #000; opacity: 1;\">8</text></g><g class=\"mark-rule role-axis-domain\" style=\"pointer-events: none;\"><line transform=\"translate(0,0)\" x2=\"200\" y2=\"0\" style=\"fill: none; stroke: #888; stroke-width: 1; opacity: 1;\"></line></g><g class=\"mark-text role-axis-title\" style=\"pointer-events: none;\"><text text-anchor=\"middle\" transform=\"translate(100,30)\" style=\"font-family: sans-serif; font-size: 11px; font-weight: bold; fill: #000; opacity: 1;\">x1</text></g></g></g></g><g class=\"mark-group role-axis\"><g transform=\"translate(0.5,0.5)\"><path class=\"background\" d=\"M0,0h0v0h0Z\" style=\"pointer-events: none; fill: none;\"></path><g><g class=\"mark-rule role-axis-tick\" style=\"pointer-events: none;\"><line transform=\"translate(0,200)\" x2=\"-5\" y2=\"0\" style=\"fill: none; stroke: #888; stroke-width: 1; opacity: 1;\"></line><line transform=\"translate(0,144)\" x2=\"-5\" y2=\"0\" style=\"fill: none; stroke: #888; stroke-width: 1; opacity: 1;\"></line><line transform=\"translate(0,89)\" x2=\"-5\" y2=\"0\" style=\"fill: none; stroke: #888; stroke-width: 1; opacity: 1;\"></line><line transform=\"translate(0,33)\" x2=\"-5\" y2=\"0\" style=\"fill: none; stroke: #888; stroke-width: 1; opacity: 1;\"></line></g><g class=\"mark-text role-axis-label\" style=\"pointer-events: none;\"><text text-anchor=\"end\" transform=\"translate(-7,203)\" style=\"font-family: sans-serif; font-size: 10px; fill: #000; opacity: 1;\">0</text><text text-anchor=\"end\" transform=\"translate(-7,147.44444444444446)\" style=\"font-family: sans-serif; font-size: 10px; fill: #000; opacity: 1;\">5</text><text text-anchor=\"end\" transform=\"translate(-7,91.88888888888889)\" style=\"font-family: sans-serif; font-size: 10px; fill: #000; opacity: 1;\">10</text><text text-anchor=\"end\" transform=\"translate(-7,36.333333333333314)\" style=\"font-family: sans-serif; font-size: 10px; fill: #000; opacity: 1;\">15</text></g><g class=\"mark-rule role-axis-domain\" style=\"pointer-events: none;\"><line transform=\"translate(0,200)\" x2=\"0\" y2=\"-200\" style=\"fill: none; stroke: #888; stroke-width: 1; opacity: 1;\"></line></g><g class=\"mark-text role-axis-title\" style=\"pointer-events: none;\"><text text-anchor=\"middle\" transform=\"translate(-23,100) rotate(-90) translate(0,-2)\" style=\"font-family: sans-serif; font-size: 11px; font-weight: bold; fill: #000; opacity: 1;\">x2</text></g></g></g></g></g></g></g></g></svg>"
      ],
      "text/plain": [
       "VegaLite.VLSpec{:plot}"
      ]
     },
     "execution_count": 44,
     "metadata": {},
     "output_type": "execute_result"
    }
   ],
   "source": [
    "points = df |> vl\"\"\"\n",
    "{\n",
    "  \"mark\": \"circle\",\n",
    "  \"encoding\": {\n",
    "    \"x\": {\"field\": \"x1\", \"type\": \"quantitative\"},\n",
    "    \"y\": {\"field\": \"x2\", \"type\": \"quantitative\"}\n",
    "  }\n",
    "}\"\"\""
   ]
  },
  {
   "cell_type": "code",
   "execution_count": 47,
   "metadata": {},
   "outputs": [
    {
     "data": {
      "application/vnd.vegalite.v3+json": {
       "data": {
        "values": [
         {
          "x1": 6,
          "x2": 1
         },
         {
          "x1": 5,
          "x2": 1
         },
         {
          "x1": 5,
          "x2": 2
         },
         {
          "x1": 4,
          "x2": 1
         },
         {
          "x1": 2,
          "x2": 1
         },
         {
          "x1": 1,
          "x2": 1
         },
         {
          "x1": 4,
          "x2": 2
         },
         {
          "x1": 2,
          "x2": 2
         },
         {
          "x1": 8,
          "x2": 1
         },
         {
          "x1": 3,
          "x2": 1
         },
         {
          "x1": 1,
          "x2": 2
         },
         {
          "x1": 8,
          "x2": 2
         },
         {
          "x1": 1,
          "x2": 3
         },
         {
          "x1": 0,
          "x2": 1
         },
         {
          "x1": 8,
          "x2": 3
         },
         {
          "x1": 5,
          "x2": 3
         },
         {
          "x1": 2,
          "x2": 3
         },
         {
          "x1": 7,
          "x2": 1
         },
         {
          "x1": 1,
          "x2": 4
         },
         {
          "x1": 5,
          "x2": 4
         },
         {
          "x1": 5,
          "x2": 5
         },
         {
          "x1": 1,
          "x2": 5
         },
         {
          "x1": 2,
          "x2": 4
         },
         {
          "x1": 4,
          "x2": 3
         },
         {
          "x1": 2,
          "x2": 5
         },
         {
          "x1": 8,
          "x2": 4
         },
         {
          "x1": 7,
          "x2": 2
         },
         {
          "x1": 5,
          "x2": 6
         },
         {
          "x1": 8,
          "x2": 5
         },
         {
          "x1": 1,
          "x2": 6
         },
         {
          "x1": 3,
          "x2": 2
         },
         {
          "x1": 4,
          "x2": 4
         },
         {
          "x1": 0,
          "x2": 2
         },
         {
          "x1": 2,
          "x2": 6
         },
         {
          "x1": 2,
          "x2": 7
         },
         {
          "x1": 0,
          "x2": 3
         },
         {
          "x1": 3,
          "x2": 3
         },
         {
          "x1": 0,
          "x2": 4
         },
         {
          "x1": 1,
          "x2": 7
         },
         {
          "x1": 3,
          "x2": 4
         },
         {
          "x1": 7,
          "x2": 3
         },
         {
          "x1": 2,
          "x2": 8
         },
         {
          "x1": 1,
          "x2": 8
         },
         {
          "x1": 2,
          "x2": 9
         },
         {
          "x1": 1,
          "x2": 9
         },
         {
          "x1": 6,
          "x2": 2
         },
         {
          "x1": 3,
          "x2": 5
         },
         {
          "x1": 4,
          "x2": 5
         },
         {
          "x1": 2,
          "x2": 10
         },
         {
          "x1": 0,
          "x2": 5
         },
         {
          "x1": 4,
          "x2": 6
         },
         {
          "x1": 5,
          "x2": 7
         },
         {
          "x1": 7,
          "x2": 4
         },
         {
          "x1": 4,
          "x2": 7
         },
         {
          "x1": 0,
          "x2": 6
         },
         {
          "x1": 2,
          "x2": 11
         },
         {
          "x1": 6,
          "x2": 3
         },
         {
          "x1": 8,
          "x2": 6
         },
         {
          "x1": 7,
          "x2": 5
         },
         {
          "x1": 5,
          "x2": 8
         },
         {
          "x1": 4,
          "x2": 8
         },
         {
          "x1": 4,
          "x2": 9
         },
         {
          "x1": 5,
          "x2": 9
         },
         {
          "x1": 2,
          "x2": 12
         },
         {
          "x1": 0,
          "x2": 7
         },
         {
          "x1": 6,
          "x2": 4
         },
         {
          "x1": 0,
          "x2": 8
         },
         {
          "x1": 3,
          "x2": 6
         },
         {
          "x1": 3,
          "x2": 7
         },
         {
          "x1": 3,
          "x2": 8
         },
         {
          "x1": 8,
          "x2": 7
         },
         {
          "x1": 4,
          "x2": 10
         },
         {
          "x1": 7,
          "x2": 6
         },
         {
          "x1": 5,
          "x2": 10
         },
         {
          "x1": 6,
          "x2": 5
         },
         {
          "x1": 2,
          "x2": 13
         },
         {
          "x1": 3,
          "x2": 9
         },
         {
          "x1": 0,
          "x2": 9
         },
         {
          "x1": 4,
          "x2": 11
         },
         {
          "x1": 3,
          "x2": 10
         },
         {
          "x1": 3,
          "x2": 11
         },
         {
          "x1": 8,
          "x2": 8
         },
         {
          "x1": 8,
          "x2": 9
         },
         {
          "x1": 0,
          "x2": 10
         },
         {
          "x1": 0,
          "x2": 11
         },
         {
          "x1": 8,
          "x2": 10
         },
         {
          "x1": 6,
          "x2": 6
         },
         {
          "x1": 6,
          "x2": 7
         },
         {
          "x1": 6,
          "x2": 8
         },
         {
          "x1": 2,
          "x2": 14
         },
         {
          "x1": 3,
          "x2": 12
         },
         {
          "x1": 2,
          "x2": 15
         },
         {
          "x1": 2,
          "x2": 16
         },
         {
          "x1": 1,
          "x2": 10
         },
         {
          "x1": 5,
          "x2": 11
         },
         {
          "x1": 3,
          "x2": 13
         },
         {
          "x1": 3,
          "x2": 14
         },
         {
          "x1": 0,
          "x2": 12
         },
         {
          "x1": 2,
          "x2": 17
         },
         {
          "x1": 1,
          "x2": 11
         }
        ]
       },
       "hconcat": [
        {
         "encoding": {
          "x": {
           "field": "x1",
           "type": "quantitative"
          },
          "y": {
           "field": "x2",
           "type": "quantitative"
          }
         },
         "mark": "circle"
        },
        {
         "encoding": {
          "x": {
           "bin": true,
           "field": "x1",
           "type": "quantitative"
          },
          "y": {
           "aggregate": "count",
           "type": "quantitative"
          }
         },
         "mark": "bar"
        }
       ]
      },
      "image/png": "[encoded data removed]",
      "image/svg+xml": [
       "<svg class=\"marks\" width=\"506\" height=\"244\" viewBox=\"0 0 506 244\" version=\"1.1\" xmlns=\"http://www.w3.org/2000/svg\" xmlns:xlink=\"http://www.w3.org/1999/xlink\"><g transform=\"translate(40,6)\"><g class=\"mark-group role-frame root\"><g transform=\"translate(0,0)\"><path class=\"background\" d=\"M0,0h0v200h0Z\" style=\"fill: none;\"></path><g><g class=\"mark-group role-scope concat_0_group\"><g transform=\"translate(0,0)\"><path class=\"background\" d=\"M0.5,0.5h200v200h-200Z\" style=\"fill: none; stroke: #ddd;\"></path><g><g class=\"mark-group role-axis\"><g transform=\"translate(0.5,200.5)\"><path class=\"background\" d=\"M0,0h0v0h0Z\" style=\"pointer-events: none; fill: none;\"></path><g><g class=\"mark-rule role-axis-grid\" style=\"pointer-events: none;\"><line transform=\"translate(0,-200)\" x2=\"0\" y2=\"200\" style=\"fill: none; stroke: #ddd; stroke-width: 1; opacity: 1;\"></line><line transform=\"translate(50,-200)\" x2=\"0\" y2=\"200\" style=\"fill: none; stroke: #ddd; stroke-width: 1; opacity: 1;\"></line><line transform=\"translate(100,-200)\" x2=\"0\" y2=\"200\" style=\"fill: none; stroke: #ddd; stroke-width: 1; opacity: 1;\"></line><line transform=\"translate(150,-200)\" x2=\"0\" y2=\"200\" style=\"fill: none; stroke: #ddd; stroke-width: 1; opacity: 1;\"></line><line transform=\"translate(200,-200)\" x2=\"0\" y2=\"200\" style=\"fill: none; stroke: #ddd; stroke-width: 1; opacity: 1;\"></line></g></g></g></g><g class=\"mark-group role-axis\"><g transform=\"translate(0.5,0.5)\"><path class=\"background\" d=\"M0,0h0v0h0Z\" style=\"pointer-events: none; fill: none;\"></path><g><g class=\"mark-rule role-axis-grid\" style=\"pointer-events: none;\"><line transform=\"translate(0,200)\" x2=\"200\" y2=\"0\" style=\"fill: none; stroke: #ddd; stroke-width: 1; opacity: 1;\"></line><line transform=\"translate(0,144)\" x2=\"200\" y2=\"0\" style=\"fill: none; stroke: #ddd; stroke-width: 1; opacity: 1;\"></line><line transform=\"translate(0,89)\" x2=\"200\" y2=\"0\" style=\"fill: none; stroke: #ddd; stroke-width: 1; opacity: 1;\"></line><line transform=\"translate(0,33)\" x2=\"200\" y2=\"0\" style=\"fill: none; stroke: #ddd; stroke-width: 1; opacity: 1;\"></line></g></g></g></g><g class=\"mark-symbol role-mark concat_0_marks\"><path transform=\"translate(150,188.88888888888889)\" d=\"M2.7386127875258306,0A2.7386127875258306,2.7386127875258306,0,1,1,-2.7386127875258306,0A2.7386127875258306,2.7386127875258306,0,1,1,2.7386127875258306,0\" style=\"fill: #4c78a8; stroke-width: 2; opacity: 0.7;\"></path><path transform=\"translate(125,188.88888888888889)\" d=\"M2.7386127875258306,0A2.7386127875258306,2.7386127875258306,0,1,1,-2.7386127875258306,0A2.7386127875258306,2.7386127875258306,0,1,1,2.7386127875258306,0\" style=\"fill: #4c78a8; stroke-width: 2; opacity: 0.7;\"></path><path transform=\"translate(125,177.77777777777777)\" d=\"M2.7386127875258306,0A2.7386127875258306,2.7386127875258306,0,1,1,-2.7386127875258306,0A2.7386127875258306,2.7386127875258306,0,1,1,2.7386127875258306,0\" style=\"fill: #4c78a8; stroke-width: 2; opacity: 0.7;\"></path><path transform=\"translate(100,188.88888888888889)\" d=\"M2.7386127875258306,0A2.7386127875258306,2.7386127875258306,0,1,1,-2.7386127875258306,0A2.7386127875258306,2.7386127875258306,0,1,1,2.7386127875258306,0\" style=\"fill: #4c78a8; stroke-width: 2; opacity: 0.7;\"></path><path transform=\"translate(50,188.88888888888889)\" d=\"M2.7386127875258306,0A2.7386127875258306,2.7386127875258306,0,1,1,-2.7386127875258306,0A2.7386127875258306,2.7386127875258306,0,1,1,2.7386127875258306,0\" style=\"fill: #4c78a8; stroke-width: 2; opacity: 0.7;\"></path><path transform=\"translate(25,188.88888888888889)\" d=\"M2.7386127875258306,0A2.7386127875258306,2.7386127875258306,0,1,1,-2.7386127875258306,0A2.7386127875258306,2.7386127875258306,0,1,1,2.7386127875258306,0\" style=\"fill: #4c78a8; stroke-width: 2; opacity: 0.7;\"></path><path transform=\"translate(100,177.77777777777777)\" d=\"M2.7386127875258306,0A2.7386127875258306,2.7386127875258306,0,1,1,-2.7386127875258306,0A2.7386127875258306,2.7386127875258306,0,1,1,2.7386127875258306,0\" style=\"fill: #4c78a8; stroke-width: 2; opacity: 0.7;\"></path><path transform=\"translate(50,177.77777777777777)\" d=\"M2.7386127875258306,0A2.7386127875258306,2.7386127875258306,0,1,1,-2.7386127875258306,0A2.7386127875258306,2.7386127875258306,0,1,1,2.7386127875258306,0\" style=\"fill: #4c78a8; stroke-width: 2; opacity: 0.7;\"></path><path transform=\"translate(200,188.88888888888889)\" d=\"M2.7386127875258306,0A2.7386127875258306,2.7386127875258306,0,1,1,-2.7386127875258306,0A2.7386127875258306,2.7386127875258306,0,1,1,2.7386127875258306,0\" style=\"fill: #4c78a8; stroke-width: 2; opacity: 0.7;\"></path><path transform=\"translate(75,188.88888888888889)\" d=\"M2.7386127875258306,0A2.7386127875258306,2.7386127875258306,0,1,1,-2.7386127875258306,0A2.7386127875258306,2.7386127875258306,0,1,1,2.7386127875258306,0\" style=\"fill: #4c78a8; stroke-width: 2; opacity: 0.7;\"></path><path transform=\"translate(25,177.77777777777777)\" d=\"M2.7386127875258306,0A2.7386127875258306,2.7386127875258306,0,1,1,-2.7386127875258306,0A2.7386127875258306,2.7386127875258306,0,1,1,2.7386127875258306,0\" style=\"fill: #4c78a8; stroke-width: 2; opacity: 0.7;\"></path><path transform=\"translate(200,177.77777777777777)\" d=\"M2.7386127875258306,0A2.7386127875258306,2.7386127875258306,0,1,1,-2.7386127875258306,0A2.7386127875258306,2.7386127875258306,0,1,1,2.7386127875258306,0\" style=\"fill: #4c78a8; stroke-width: 2; opacity: 0.7;\"></path><path transform=\"translate(25,166.66666666666669)\" d=\"M2.7386127875258306,0A2.7386127875258306,2.7386127875258306,0,1,1,-2.7386127875258306,0A2.7386127875258306,2.7386127875258306,0,1,1,2.7386127875258306,0\" style=\"fill: #4c78a8; stroke-width: 2; opacity: 0.7;\"></path><path transform=\"translate(0,188.88888888888889)\" d=\"M2.7386127875258306,0A2.7386127875258306,2.7386127875258306,0,1,1,-2.7386127875258306,0A2.7386127875258306,2.7386127875258306,0,1,1,2.7386127875258306,0\" style=\"fill: #4c78a8; stroke-width: 2; opacity: 0.7;\"></path><path transform=\"translate(200,166.66666666666669)\" d=\"M2.7386127875258306,0A2.7386127875258306,2.7386127875258306,0,1,1,-2.7386127875258306,0A2.7386127875258306,2.7386127875258306,0,1,1,2.7386127875258306,0\" style=\"fill: #4c78a8; stroke-width: 2; opacity: 0.7;\"></path><path transform=\"translate(125,166.66666666666669)\" d=\"M2.7386127875258306,0A2.7386127875258306,2.7386127875258306,0,1,1,-2.7386127875258306,0A2.7386127875258306,2.7386127875258306,0,1,1,2.7386127875258306,0\" style=\"fill: #4c78a8; stroke-width: 2; opacity: 0.7;\"></path><path transform=\"translate(50,166.66666666666669)\" d=\"M2.7386127875258306,0A2.7386127875258306,2.7386127875258306,0,1,1,-2.7386127875258306,0A2.7386127875258306,2.7386127875258306,0,1,1,2.7386127875258306,0\" style=\"fill: #4c78a8; stroke-width: 2; opacity: 0.7;\"></path><path transform=\"translate(175,188.88888888888889)\" d=\"M2.7386127875258306,0A2.7386127875258306,2.7386127875258306,0,1,1,-2.7386127875258306,0A2.7386127875258306,2.7386127875258306,0,1,1,2.7386127875258306,0\" style=\"fill: #4c78a8; stroke-width: 2; opacity: 0.7;\"></path><path transform=\"translate(25,155.55555555555554)\" d=\"M2.7386127875258306,0A2.7386127875258306,2.7386127875258306,0,1,1,-2.7386127875258306,0A2.7386127875258306,2.7386127875258306,0,1,1,2.7386127875258306,0\" style=\"fill: #4c78a8; stroke-width: 2; opacity: 0.7;\"></path><path transform=\"translate(125,155.55555555555554)\" d=\"M2.7386127875258306,0A2.7386127875258306,2.7386127875258306,0,1,1,-2.7386127875258306,0A2.7386127875258306,2.7386127875258306,0,1,1,2.7386127875258306,0\" style=\"fill: #4c78a8; stroke-width: 2; opacity: 0.7;\"></path><path transform=\"translate(125,144.44444444444446)\" d=\"M2.7386127875258306,0A2.7386127875258306,2.7386127875258306,0,1,1,-2.7386127875258306,0A2.7386127875258306,2.7386127875258306,0,1,1,2.7386127875258306,0\" style=\"fill: #4c78a8; stroke-width: 2; opacity: 0.7;\"></path><path transform=\"translate(25,144.44444444444446)\" d=\"M2.7386127875258306,0A2.7386127875258306,2.7386127875258306,0,1,1,-2.7386127875258306,0A2.7386127875258306,2.7386127875258306,0,1,1,2.7386127875258306,0\" style=\"fill: #4c78a8; stroke-width: 2; opacity: 0.7;\"></path><path transform=\"translate(50,155.55555555555554)\" d=\"M2.7386127875258306,0A2.7386127875258306,2.7386127875258306,0,1,1,-2.7386127875258306,0A2.7386127875258306,2.7386127875258306,0,1,1,2.7386127875258306,0\" style=\"fill: #4c78a8; stroke-width: 2; opacity: 0.7;\"></path><path transform=\"translate(100,166.66666666666669)\" d=\"M2.7386127875258306,0A2.7386127875258306,2.7386127875258306,0,1,1,-2.7386127875258306,0A2.7386127875258306,2.7386127875258306,0,1,1,2.7386127875258306,0\" style=\"fill: #4c78a8; stroke-width: 2; opacity: 0.7;\"></path><path transform=\"translate(50,144.44444444444446)\" d=\"M2.7386127875258306,0A2.7386127875258306,2.7386127875258306,0,1,1,-2.7386127875258306,0A2.7386127875258306,2.7386127875258306,0,1,1,2.7386127875258306,0\" style=\"fill: #4c78a8; stroke-width: 2; opacity: 0.7;\"></path><path transform=\"translate(200,155.55555555555554)\" d=\"M2.7386127875258306,0A2.7386127875258306,2.7386127875258306,0,1,1,-2.7386127875258306,0A2.7386127875258306,2.7386127875258306,0,1,1,2.7386127875258306,0\" style=\"fill: #4c78a8; stroke-width: 2; opacity: 0.7;\"></path><path transform=\"translate(175,177.77777777777777)\" d=\"M2.7386127875258306,0A2.7386127875258306,2.7386127875258306,0,1,1,-2.7386127875258306,0A2.7386127875258306,2.7386127875258306,0,1,1,2.7386127875258306,0\" style=\"fill: #4c78a8; stroke-width: 2; opacity: 0.7;\"></path><path transform=\"translate(125,133.33333333333334)\" d=\"M2.7386127875258306,0A2.7386127875258306,2.7386127875258306,0,1,1,-2.7386127875258306,0A2.7386127875258306,2.7386127875258306,0,1,1,2.7386127875258306,0\" style=\"fill: #4c78a8; stroke-width: 2; opacity: 0.7;\"></path><path transform=\"translate(200,144.44444444444446)\" d=\"M2.7386127875258306,0A2.7386127875258306,2.7386127875258306,0,1,1,-2.7386127875258306,0A2.7386127875258306,2.7386127875258306,0,1,1,2.7386127875258306,0\" style=\"fill: #4c78a8; stroke-width: 2; opacity: 0.7;\"></path><path transform=\"translate(25,133.33333333333334)\" d=\"M2.7386127875258306,0A2.7386127875258306,2.7386127875258306,0,1,1,-2.7386127875258306,0A2.7386127875258306,2.7386127875258306,0,1,1,2.7386127875258306,0\" style=\"fill: #4c78a8; stroke-width: 2; opacity: 0.7;\"></path><path transform=\"translate(75,177.77777777777777)\" d=\"M2.7386127875258306,0A2.7386127875258306,2.7386127875258306,0,1,1,-2.7386127875258306,0A2.7386127875258306,2.7386127875258306,0,1,1,2.7386127875258306,0\" style=\"fill: #4c78a8; stroke-width: 2; opacity: 0.7;\"></path><path transform=\"translate(100,155.55555555555554)\" d=\"M2.7386127875258306,0A2.7386127875258306,2.7386127875258306,0,1,1,-2.7386127875258306,0A2.7386127875258306,2.7386127875258306,0,1,1,2.7386127875258306,0\" style=\"fill: #4c78a8; stroke-width: 2; opacity: 0.7;\"></path><path transform=\"translate(0,177.77777777777777)\" d=\"M2.7386127875258306,0A2.7386127875258306,2.7386127875258306,0,1,1,-2.7386127875258306,0A2.7386127875258306,2.7386127875258306,0,1,1,2.7386127875258306,0\" style=\"fill: #4c78a8; stroke-width: 2; opacity: 0.7;\"></path><path transform=\"translate(50,133.33333333333334)\" d=\"M2.7386127875258306,0A2.7386127875258306,2.7386127875258306,0,1,1,-2.7386127875258306,0A2.7386127875258306,2.7386127875258306,0,1,1,2.7386127875258306,0\" style=\"fill: #4c78a8; stroke-width: 2; opacity: 0.7;\"></path><path transform=\"translate(50,122.22222222222221)\" d=\"M2.7386127875258306,0A2.7386127875258306,2.7386127875258306,0,1,1,-2.7386127875258306,0A2.7386127875258306,2.7386127875258306,0,1,1,2.7386127875258306,0\" style=\"fill: #4c78a8; stroke-width: 2; opacity: 0.7;\"></path><path transform=\"translate(0,166.66666666666669)\" d=\"M2.7386127875258306,0A2.7386127875258306,2.7386127875258306,0,1,1,-2.7386127875258306,0A2.7386127875258306,2.7386127875258306,0,1,1,2.7386127875258306,0\" style=\"fill: #4c78a8; stroke-width: 2; opacity: 0.7;\"></path><path transform=\"translate(75,166.66666666666669)\" d=\"M2.7386127875258306,0A2.7386127875258306,2.7386127875258306,0,1,1,-2.7386127875258306,0A2.7386127875258306,2.7386127875258306,0,1,1,2.7386127875258306,0\" style=\"fill: #4c78a8; stroke-width: 2; opacity: 0.7;\"></path><path transform=\"translate(0,155.55555555555554)\" d=\"M2.7386127875258306,0A2.7386127875258306,2.7386127875258306,0,1,1,-2.7386127875258306,0A2.7386127875258306,2.7386127875258306,0,1,1,2.7386127875258306,0\" style=\"fill: #4c78a8; stroke-width: 2; opacity: 0.7;\"></path><path transform=\"translate(25,122.22222222222221)\" d=\"M2.7386127875258306,0A2.7386127875258306,2.7386127875258306,0,1,1,-2.7386127875258306,0A2.7386127875258306,2.7386127875258306,0,1,1,2.7386127875258306,0\" style=\"fill: #4c78a8; stroke-width: 2; opacity: 0.7;\"></path><path transform=\"translate(75,155.55555555555554)\" d=\"M2.7386127875258306,0A2.7386127875258306,2.7386127875258306,0,1,1,-2.7386127875258306,0A2.7386127875258306,2.7386127875258306,0,1,1,2.7386127875258306,0\" style=\"fill: #4c78a8; stroke-width: 2; opacity: 0.7;\"></path><path transform=\"translate(175,166.66666666666669)\" d=\"M2.7386127875258306,0A2.7386127875258306,2.7386127875258306,0,1,1,-2.7386127875258306,0A2.7386127875258306,2.7386127875258306,0,1,1,2.7386127875258306,0\" style=\"fill: #4c78a8; stroke-width: 2; opacity: 0.7;\"></path><path transform=\"translate(50,111.11111111111111)\" d=\"M2.7386127875258306,0A2.7386127875258306,2.7386127875258306,0,1,1,-2.7386127875258306,0A2.7386127875258306,2.7386127875258306,0,1,1,2.7386127875258306,0\" style=\"fill: #4c78a8; stroke-width: 2; opacity: 0.7;\"></path><path transform=\"translate(25,111.11111111111111)\" d=\"M2.7386127875258306,0A2.7386127875258306,2.7386127875258306,0,1,1,-2.7386127875258306,0A2.7386127875258306,2.7386127875258306,0,1,1,2.7386127875258306,0\" style=\"fill: #4c78a8; stroke-width: 2; opacity: 0.7;\"></path><path transform=\"translate(50,100)\" d=\"M2.7386127875258306,0A2.7386127875258306,2.7386127875258306,0,1,1,-2.7386127875258306,0A2.7386127875258306,2.7386127875258306,0,1,1,2.7386127875258306,0\" style=\"fill: #4c78a8; stroke-width: 2; opacity: 0.7;\"></path><path transform=\"translate(25,100)\" d=\"M2.7386127875258306,0A2.7386127875258306,2.7386127875258306,0,1,1,-2.7386127875258306,0A2.7386127875258306,2.7386127875258306,0,1,1,2.7386127875258306,0\" style=\"fill: #4c78a8; stroke-width: 2; opacity: 0.7;\"></path><path transform=\"translate(150,177.77777777777777)\" d=\"M2.7386127875258306,0A2.7386127875258306,2.7386127875258306,0,1,1,-2.7386127875258306,0A2.7386127875258306,2.7386127875258306,0,1,1,2.7386127875258306,0\" style=\"fill: #4c78a8; stroke-width: 2; opacity: 0.7;\"></path><path transform=\"translate(75,144.44444444444446)\" d=\"M2.7386127875258306,0A2.7386127875258306,2.7386127875258306,0,1,1,-2.7386127875258306,0A2.7386127875258306,2.7386127875258306,0,1,1,2.7386127875258306,0\" style=\"fill: #4c78a8; stroke-width: 2; opacity: 0.7;\"></path><path transform=\"translate(100,144.44444444444446)\" d=\"M2.7386127875258306,0A2.7386127875258306,2.7386127875258306,0,1,1,-2.7386127875258306,0A2.7386127875258306,2.7386127875258306,0,1,1,2.7386127875258306,0\" style=\"fill: #4c78a8; stroke-width: 2; opacity: 0.7;\"></path><path transform=\"translate(50,88.88888888888889)\" d=\"M2.7386127875258306,0A2.7386127875258306,2.7386127875258306,0,1,1,-2.7386127875258306,0A2.7386127875258306,2.7386127875258306,0,1,1,2.7386127875258306,0\" style=\"fill: #4c78a8; stroke-width: 2; opacity: 0.7;\"></path><path transform=\"translate(0,144.44444444444446)\" d=\"M2.7386127875258306,0A2.7386127875258306,2.7386127875258306,0,1,1,-2.7386127875258306,0A2.7386127875258306,2.7386127875258306,0,1,1,2.7386127875258306,0\" style=\"fill: #4c78a8; stroke-width: 2; opacity: 0.7;\"></path><path transform=\"translate(100,133.33333333333334)\" d=\"M2.7386127875258306,0A2.7386127875258306,2.7386127875258306,0,1,1,-2.7386127875258306,0A2.7386127875258306,2.7386127875258306,0,1,1,2.7386127875258306,0\" style=\"fill: #4c78a8; stroke-width: 2; opacity: 0.7;\"></path><path transform=\"translate(125,122.22222222222221)\" d=\"M2.7386127875258306,0A2.7386127875258306,2.7386127875258306,0,1,1,-2.7386127875258306,0A2.7386127875258306,2.7386127875258306,0,1,1,2.7386127875258306,0\" style=\"fill: #4c78a8; stroke-width: 2; opacity: 0.7;\"></path><path transform=\"translate(175,155.55555555555554)\" d=\"M2.7386127875258306,0A2.7386127875258306,2.7386127875258306,0,1,1,-2.7386127875258306,0A2.7386127875258306,2.7386127875258306,0,1,1,2.7386127875258306,0\" style=\"fill: #4c78a8; stroke-width: 2; opacity: 0.7;\"></path><path transform=\"translate(100,122.22222222222221)\" d=\"M2.7386127875258306,0A2.7386127875258306,2.7386127875258306,0,1,1,-2.7386127875258306,0A2.7386127875258306,2.7386127875258306,0,1,1,2.7386127875258306,0\" style=\"fill: #4c78a8; stroke-width: 2; opacity: 0.7;\"></path><path transform=\"translate(0,133.33333333333334)\" d=\"M2.7386127875258306,0A2.7386127875258306,2.7386127875258306,0,1,1,-2.7386127875258306,0A2.7386127875258306,2.7386127875258306,0,1,1,2.7386127875258306,0\" style=\"fill: #4c78a8; stroke-width: 2; opacity: 0.7;\"></path><path transform=\"translate(50,77.77777777777777)\" d=\"M2.7386127875258306,0A2.7386127875258306,2.7386127875258306,0,1,1,-2.7386127875258306,0A2.7386127875258306,2.7386127875258306,0,1,1,2.7386127875258306,0\" style=\"fill: #4c78a8; stroke-width: 2; opacity: 0.7;\"></path><path transform=\"translate(150,166.66666666666669)\" d=\"M2.7386127875258306,0A2.7386127875258306,2.7386127875258306,0,1,1,-2.7386127875258306,0A2.7386127875258306,2.7386127875258306,0,1,1,2.7386127875258306,0\" style=\"fill: #4c78a8; stroke-width: 2; opacity: 0.7;\"></path><path transform=\"translate(200,133.33333333333334)\" d=\"M2.7386127875258306,0A2.7386127875258306,2.7386127875258306,0,1,1,-2.7386127875258306,0A2.7386127875258306,2.7386127875258306,0,1,1,2.7386127875258306,0\" style=\"fill: #4c78a8; stroke-width: 2; opacity: 0.7;\"></path><path transform=\"translate(175,144.44444444444446)\" d=\"M2.7386127875258306,0A2.7386127875258306,2.7386127875258306,0,1,1,-2.7386127875258306,0A2.7386127875258306,2.7386127875258306,0,1,1,2.7386127875258306,0\" style=\"fill: #4c78a8; stroke-width: 2; opacity: 0.7;\"></path><path transform=\"translate(125,111.11111111111111)\" d=\"M2.7386127875258306,0A2.7386127875258306,2.7386127875258306,0,1,1,-2.7386127875258306,0A2.7386127875258306,2.7386127875258306,0,1,1,2.7386127875258306,0\" style=\"fill: #4c78a8; stroke-width: 2; opacity: 0.7;\"></path><path transform=\"translate(100,111.11111111111111)\" d=\"M2.7386127875258306,0A2.7386127875258306,2.7386127875258306,0,1,1,-2.7386127875258306,0A2.7386127875258306,2.7386127875258306,0,1,1,2.7386127875258306,0\" style=\"fill: #4c78a8; stroke-width: 2; opacity: 0.7;\"></path><path transform=\"translate(100,100)\" d=\"M2.7386127875258306,0A2.7386127875258306,2.7386127875258306,0,1,1,-2.7386127875258306,0A2.7386127875258306,2.7386127875258306,0,1,1,2.7386127875258306,0\" style=\"fill: #4c78a8; stroke-width: 2; opacity: 0.7;\"></path><path transform=\"translate(125,100)\" d=\"M2.7386127875258306,0A2.7386127875258306,2.7386127875258306,0,1,1,-2.7386127875258306,0A2.7386127875258306,2.7386127875258306,0,1,1,2.7386127875258306,0\" style=\"fill: #4c78a8; stroke-width: 2; opacity: 0.7;\"></path><path transform=\"translate(50,66.66666666666669)\" d=\"M2.7386127875258306,0A2.7386127875258306,2.7386127875258306,0,1,1,-2.7386127875258306,0A2.7386127875258306,2.7386127875258306,0,1,1,2.7386127875258306,0\" style=\"fill: #4c78a8; stroke-width: 2; opacity: 0.7;\"></path><path transform=\"translate(0,122.22222222222221)\" d=\"M2.7386127875258306,0A2.7386127875258306,2.7386127875258306,0,1,1,-2.7386127875258306,0A2.7386127875258306,2.7386127875258306,0,1,1,2.7386127875258306,0\" style=\"fill: #4c78a8; stroke-width: 2; opacity: 0.7;\"></path><path transform=\"translate(150,155.55555555555554)\" d=\"M2.7386127875258306,0A2.7386127875258306,2.7386127875258306,0,1,1,-2.7386127875258306,0A2.7386127875258306,2.7386127875258306,0,1,1,2.7386127875258306,0\" style=\"fill: #4c78a8; stroke-width: 2; opacity: 0.7;\"></path><path transform=\"translate(0,111.11111111111111)\" d=\"M2.7386127875258306,0A2.7386127875258306,2.7386127875258306,0,1,1,-2.7386127875258306,0A2.7386127875258306,2.7386127875258306,0,1,1,2.7386127875258306,0\" style=\"fill: #4c78a8; stroke-width: 2; opacity: 0.7;\"></path><path transform=\"translate(75,133.33333333333334)\" d=\"M2.7386127875258306,0A2.7386127875258306,2.7386127875258306,0,1,1,-2.7386127875258306,0A2.7386127875258306,2.7386127875258306,0,1,1,2.7386127875258306,0\" style=\"fill: #4c78a8; stroke-width: 2; opacity: 0.7;\"></path><path transform=\"translate(75,122.22222222222221)\" d=\"M2.7386127875258306,0A2.7386127875258306,2.7386127875258306,0,1,1,-2.7386127875258306,0A2.7386127875258306,2.7386127875258306,0,1,1,2.7386127875258306,0\" style=\"fill: #4c78a8; stroke-width: 2; opacity: 0.7;\"></path><path transform=\"translate(75,111.11111111111111)\" d=\"M2.7386127875258306,0A2.7386127875258306,2.7386127875258306,0,1,1,-2.7386127875258306,0A2.7386127875258306,2.7386127875258306,0,1,1,2.7386127875258306,0\" style=\"fill: #4c78a8; stroke-width: 2; opacity: 0.7;\"></path><path transform=\"translate(200,122.22222222222221)\" d=\"M2.7386127875258306,0A2.7386127875258306,2.7386127875258306,0,1,1,-2.7386127875258306,0A2.7386127875258306,2.7386127875258306,0,1,1,2.7386127875258306,0\" style=\"fill: #4c78a8; stroke-width: 2; opacity: 0.7;\"></path><path transform=\"translate(100,88.88888888888889)\" d=\"M2.7386127875258306,0A2.7386127875258306,2.7386127875258306,0,1,1,-2.7386127875258306,0A2.7386127875258306,2.7386127875258306,0,1,1,2.7386127875258306,0\" style=\"fill: #4c78a8; stroke-width: 2; opacity: 0.7;\"></path><path transform=\"translate(175,133.33333333333334)\" d=\"M2.7386127875258306,0A2.7386127875258306,2.7386127875258306,0,1,1,-2.7386127875258306,0A2.7386127875258306,2.7386127875258306,0,1,1,2.7386127875258306,0\" style=\"fill: #4c78a8; stroke-width: 2; opacity: 0.7;\"></path><path transform=\"translate(125,88.88888888888889)\" d=\"M2.7386127875258306,0A2.7386127875258306,2.7386127875258306,0,1,1,-2.7386127875258306,0A2.7386127875258306,2.7386127875258306,0,1,1,2.7386127875258306,0\" style=\"fill: #4c78a8; stroke-width: 2; opacity: 0.7;\"></path><path transform=\"translate(150,144.44444444444446)\" d=\"M2.7386127875258306,0A2.7386127875258306,2.7386127875258306,0,1,1,-2.7386127875258306,0A2.7386127875258306,2.7386127875258306,0,1,1,2.7386127875258306,0\" style=\"fill: #4c78a8; stroke-width: 2; opacity: 0.7;\"></path><path transform=\"translate(50,55.55555555555557)\" d=\"M2.7386127875258306,0A2.7386127875258306,2.7386127875258306,0,1,1,-2.7386127875258306,0A2.7386127875258306,2.7386127875258306,0,1,1,2.7386127875258306,0\" style=\"fill: #4c78a8; stroke-width: 2; opacity: 0.7;\"></path><path transform=\"translate(75,100)\" d=\"M2.7386127875258306,0A2.7386127875258306,2.7386127875258306,0,1,1,-2.7386127875258306,0A2.7386127875258306,2.7386127875258306,0,1,1,2.7386127875258306,0\" style=\"fill: #4c78a8; stroke-width: 2; opacity: 0.7;\"></path><path transform=\"translate(0,100)\" d=\"M2.7386127875258306,0A2.7386127875258306,2.7386127875258306,0,1,1,-2.7386127875258306,0A2.7386127875258306,2.7386127875258306,0,1,1,2.7386127875258306,0\" style=\"fill: #4c78a8; stroke-width: 2; opacity: 0.7;\"></path><path transform=\"translate(100,77.77777777777777)\" d=\"M2.7386127875258306,0A2.7386127875258306,2.7386127875258306,0,1,1,-2.7386127875258306,0A2.7386127875258306,2.7386127875258306,0,1,1,2.7386127875258306,0\" style=\"fill: #4c78a8; stroke-width: 2; opacity: 0.7;\"></path><path transform=\"translate(75,88.88888888888889)\" d=\"M2.7386127875258306,0A2.7386127875258306,2.7386127875258306,0,1,1,-2.7386127875258306,0A2.7386127875258306,2.7386127875258306,0,1,1,2.7386127875258306,0\" style=\"fill: #4c78a8; stroke-width: 2; opacity: 0.7;\"></path><path transform=\"translate(75,77.77777777777777)\" d=\"M2.7386127875258306,0A2.7386127875258306,2.7386127875258306,0,1,1,-2.7386127875258306,0A2.7386127875258306,2.7386127875258306,0,1,1,2.7386127875258306,0\" style=\"fill: #4c78a8; stroke-width: 2; opacity: 0.7;\"></path><path transform=\"translate(200,111.11111111111111)\" d=\"M2.7386127875258306,0A2.7386127875258306,2.7386127875258306,0,1,1,-2.7386127875258306,0A2.7386127875258306,2.7386127875258306,0,1,1,2.7386127875258306,0\" style=\"fill: #4c78a8; stroke-width: 2; opacity: 0.7;\"></path><path transform=\"translate(200,100)\" d=\"M2.7386127875258306,0A2.7386127875258306,2.7386127875258306,0,1,1,-2.7386127875258306,0A2.7386127875258306,2.7386127875258306,0,1,1,2.7386127875258306,0\" style=\"fill: #4c78a8; stroke-width: 2; opacity: 0.7;\"></path><path transform=\"translate(0,88.88888888888889)\" d=\"M2.7386127875258306,0A2.7386127875258306,2.7386127875258306,0,1,1,-2.7386127875258306,0A2.7386127875258306,2.7386127875258306,0,1,1,2.7386127875258306,0\" style=\"fill: #4c78a8; stroke-width: 2; opacity: 0.7;\"></path><path transform=\"translate(0,77.77777777777777)\" d=\"M2.7386127875258306,0A2.7386127875258306,2.7386127875258306,0,1,1,-2.7386127875258306,0A2.7386127875258306,2.7386127875258306,0,1,1,2.7386127875258306,0\" style=\"fill: #4c78a8; stroke-width: 2; opacity: 0.7;\"></path><path transform=\"translate(200,88.88888888888889)\" d=\"M2.7386127875258306,0A2.7386127875258306,2.7386127875258306,0,1,1,-2.7386127875258306,0A2.7386127875258306,2.7386127875258306,0,1,1,2.7386127875258306,0\" style=\"fill: #4c78a8; stroke-width: 2; opacity: 0.7;\"></path><path transform=\"translate(150,133.33333333333334)\" d=\"M2.7386127875258306,0A2.7386127875258306,2.7386127875258306,0,1,1,-2.7386127875258306,0A2.7386127875258306,2.7386127875258306,0,1,1,2.7386127875258306,0\" style=\"fill: #4c78a8; stroke-width: 2; opacity: 0.7;\"></path><path transform=\"translate(150,122.22222222222221)\" d=\"M2.7386127875258306,0A2.7386127875258306,2.7386127875258306,0,1,1,-2.7386127875258306,0A2.7386127875258306,2.7386127875258306,0,1,1,2.7386127875258306,0\" style=\"fill: #4c78a8; stroke-width: 2; opacity: 0.7;\"></path><path transform=\"translate(150,111.11111111111111)\" d=\"M2.7386127875258306,0A2.7386127875258306,2.7386127875258306,0,1,1,-2.7386127875258306,0A2.7386127875258306,2.7386127875258306,0,1,1,2.7386127875258306,0\" style=\"fill: #4c78a8; stroke-width: 2; opacity: 0.7;\"></path><path transform=\"translate(50,44.44444444444443)\" d=\"M2.7386127875258306,0A2.7386127875258306,2.7386127875258306,0,1,1,-2.7386127875258306,0A2.7386127875258306,2.7386127875258306,0,1,1,2.7386127875258306,0\" style=\"fill: #4c78a8; stroke-width: 2; opacity: 0.7;\"></path><path transform=\"translate(75,66.66666666666669)\" d=\"M2.7386127875258306,0A2.7386127875258306,2.7386127875258306,0,1,1,-2.7386127875258306,0A2.7386127875258306,2.7386127875258306,0,1,1,2.7386127875258306,0\" style=\"fill: #4c78a8; stroke-width: 2; opacity: 0.7;\"></path><path transform=\"translate(50,33.333333333333314)\" d=\"M2.7386127875258306,0A2.7386127875258306,2.7386127875258306,0,1,1,-2.7386127875258306,0A2.7386127875258306,2.7386127875258306,0,1,1,2.7386127875258306,0\" style=\"fill: #4c78a8; stroke-width: 2; opacity: 0.7;\"></path><path transform=\"translate(50,22.22222222222223)\" d=\"M2.7386127875258306,0A2.7386127875258306,2.7386127875258306,0,1,1,-2.7386127875258306,0A2.7386127875258306,2.7386127875258306,0,1,1,2.7386127875258306,0\" style=\"fill: #4c78a8; stroke-width: 2; opacity: 0.7;\"></path><path transform=\"translate(25,88.88888888888889)\" d=\"M2.7386127875258306,0A2.7386127875258306,2.7386127875258306,0,1,1,-2.7386127875258306,0A2.7386127875258306,2.7386127875258306,0,1,1,2.7386127875258306,0\" style=\"fill: #4c78a8; stroke-width: 2; opacity: 0.7;\"></path><path transform=\"translate(125,77.77777777777777)\" d=\"M2.7386127875258306,0A2.7386127875258306,2.7386127875258306,0,1,1,-2.7386127875258306,0A2.7386127875258306,2.7386127875258306,0,1,1,2.7386127875258306,0\" style=\"fill: #4c78a8; stroke-width: 2; opacity: 0.7;\"></path><path transform=\"translate(75,55.55555555555557)\" d=\"M2.7386127875258306,0A2.7386127875258306,2.7386127875258306,0,1,1,-2.7386127875258306,0A2.7386127875258306,2.7386127875258306,0,1,1,2.7386127875258306,0\" style=\"fill: #4c78a8; stroke-width: 2; opacity: 0.7;\"></path><path transform=\"translate(75,44.44444444444443)\" d=\"M2.7386127875258306,0A2.7386127875258306,2.7386127875258306,0,1,1,-2.7386127875258306,0A2.7386127875258306,2.7386127875258306,0,1,1,2.7386127875258306,0\" style=\"fill: #4c78a8; stroke-width: 2; opacity: 0.7;\"></path><path transform=\"translate(0,66.66666666666669)\" d=\"M2.7386127875258306,0A2.7386127875258306,2.7386127875258306,0,1,1,-2.7386127875258306,0A2.7386127875258306,2.7386127875258306,0,1,1,2.7386127875258306,0\" style=\"fill: #4c78a8; stroke-width: 2; opacity: 0.7;\"></path><path transform=\"translate(50,11.111111111111114)\" d=\"M2.7386127875258306,0A2.7386127875258306,2.7386127875258306,0,1,1,-2.7386127875258306,0A2.7386127875258306,2.7386127875258306,0,1,1,2.7386127875258306,0\" style=\"fill: #4c78a8; stroke-width: 2; opacity: 0.7;\"></path><path transform=\"translate(25,77.77777777777777)\" d=\"M2.7386127875258306,0A2.7386127875258306,2.7386127875258306,0,1,1,-2.7386127875258306,0A2.7386127875258306,2.7386127875258306,0,1,1,2.7386127875258306,0\" style=\"fill: #4c78a8; stroke-width: 2; opacity: 0.7;\"></path></g><g class=\"mark-group role-axis\"><g transform=\"translate(0.5,200.5)\"><path class=\"background\" d=\"M0,0h0v0h0Z\" style=\"pointer-events: none; fill: none;\"></path><g><g class=\"mark-rule role-axis-tick\" style=\"pointer-events: none;\"><line transform=\"translate(0,0)\" x2=\"0\" y2=\"5\" style=\"fill: none; stroke: #888; stroke-width: 1; opacity: 1;\"></line><line transform=\"translate(50,0)\" x2=\"0\" y2=\"5\" style=\"fill: none; stroke: #888; stroke-width: 1; opacity: 1;\"></line><line transform=\"translate(100,0)\" x2=\"0\" y2=\"5\" style=\"fill: none; stroke: #888; stroke-width: 1; opacity: 1;\"></line><line transform=\"translate(150,0)\" x2=\"0\" y2=\"5\" style=\"fill: none; stroke: #888; stroke-width: 1; opacity: 1;\"></line><line transform=\"translate(200,0)\" x2=\"0\" y2=\"5\" style=\"fill: none; stroke: #888; stroke-width: 1; opacity: 1;\"></line></g><g class=\"mark-text role-axis-label\" style=\"pointer-events: none;\"><text text-anchor=\"start\" transform=\"translate(0,15)\" style=\"font-family: sans-serif; font-size: 10px; fill: #000; opacity: 1;\">0</text><text text-anchor=\"middle\" transform=\"translate(50,15)\" style=\"font-family: sans-serif; font-size: 10px; fill: #000; opacity: 1;\">2</text><text text-anchor=\"middle\" transform=\"translate(100,15)\" style=\"font-family: sans-serif; font-size: 10px; fill: #000; opacity: 1;\">4</text><text text-anchor=\"middle\" transform=\"translate(150,15)\" style=\"font-family: sans-serif; font-size: 10px; fill: #000; opacity: 1;\">6</text><text text-anchor=\"end\" transform=\"translate(200,15)\" style=\"font-family: sans-serif; font-size: 10px; fill: #000; opacity: 1;\">8</text></g><g class=\"mark-rule role-axis-domain\" style=\"pointer-events: none;\"><line transform=\"translate(0,0)\" x2=\"200\" y2=\"0\" style=\"fill: none; stroke: #888; stroke-width: 1; opacity: 1;\"></line></g><g class=\"mark-text role-axis-title\" style=\"pointer-events: none;\"><text text-anchor=\"middle\" transform=\"translate(100,30)\" style=\"font-family: sans-serif; font-size: 11px; font-weight: bold; fill: #000; opacity: 1;\">x1</text></g></g></g></g><g class=\"mark-group role-axis\"><g transform=\"translate(0.5,0.5)\"><path class=\"background\" d=\"M0,0h0v0h0Z\" style=\"pointer-events: none; fill: none;\"></path><g><g class=\"mark-rule role-axis-tick\" style=\"pointer-events: none;\"><line transform=\"translate(0,200)\" x2=\"-5\" y2=\"0\" style=\"fill: none; stroke: #888; stroke-width: 1; opacity: 1;\"></line><line transform=\"translate(0,144)\" x2=\"-5\" y2=\"0\" style=\"fill: none; stroke: #888; stroke-width: 1; opacity: 1;\"></line><line transform=\"translate(0,89)\" x2=\"-5\" y2=\"0\" style=\"fill: none; stroke: #888; stroke-width: 1; opacity: 1;\"></line><line transform=\"translate(0,33)\" x2=\"-5\" y2=\"0\" style=\"fill: none; stroke: #888; stroke-width: 1; opacity: 1;\"></line></g><g class=\"mark-text role-axis-label\" style=\"pointer-events: none;\"><text text-anchor=\"end\" transform=\"translate(-7,203)\" style=\"font-family: sans-serif; font-size: 10px; fill: #000; opacity: 1;\">0</text><text text-anchor=\"end\" transform=\"translate(-7,147.44444444444446)\" style=\"font-family: sans-serif; font-size: 10px; fill: #000; opacity: 1;\">5</text><text text-anchor=\"end\" transform=\"translate(-7,91.88888888888889)\" style=\"font-family: sans-serif; font-size: 10px; fill: #000; opacity: 1;\">10</text><text text-anchor=\"end\" transform=\"translate(-7,36.333333333333314)\" style=\"font-family: sans-serif; font-size: 10px; fill: #000; opacity: 1;\">15</text></g><g class=\"mark-rule role-axis-domain\" style=\"pointer-events: none;\"><line transform=\"translate(0,200)\" x2=\"0\" y2=\"-200\" style=\"fill: none; stroke: #888; stroke-width: 1; opacity: 1;\"></line></g><g class=\"mark-text role-axis-title\" style=\"pointer-events: none;\"><text text-anchor=\"middle\" transform=\"translate(-23,100) rotate(-90) translate(0,-2)\" style=\"font-family: sans-serif; font-size: 11px; font-weight: bold; fill: #000; opacity: 1;\">x2</text></g></g></g></g></g></g></g><g class=\"mark-group role-scope concat_1_group\"><g transform=\"translate(259,0)\"><path class=\"background\" d=\"M0.5,0.5h200v200h-200Z\" style=\"fill: none; stroke: #ddd;\"></path><g><g class=\"mark-group role-axis\"><g transform=\"translate(0.5,0.5)\"><path class=\"background\" d=\"M0,0h0v0h0Z\" style=\"pointer-events: none; fill: none;\"></path><g><g class=\"mark-rule role-axis-grid\" style=\"pointer-events: none;\"><line transform=\"translate(0,200)\" x2=\"200\" y2=\"0\" style=\"fill: none; stroke: #ddd; stroke-width: 1; opacity: 1;\"></line><line transform=\"translate(0,144)\" x2=\"200\" y2=\"0\" style=\"fill: none; stroke: #ddd; stroke-width: 1; opacity: 1;\"></line><line transform=\"translate(0,89)\" x2=\"200\" y2=\"0\" style=\"fill: none; stroke: #ddd; stroke-width: 1; opacity: 1;\"></line><line transform=\"translate(0,33)\" x2=\"200\" y2=\"0\" style=\"fill: none; stroke: #ddd; stroke-width: 1; opacity: 1;\"></line></g></g></g></g><g class=\"mark-rect role-mark concat_1_marks\"><path d=\"M151,111.11111111111111h24v88.88888888888889h-24Z\" style=\"fill: #4c78a8;\"></path><path d=\"M126,77.77777777777777h24v122.22222222222223h-24Z\" style=\"fill: #4c78a8;\"></path><path d=\"M101,77.77777777777777h24v122.22222222222223h-24Z\" style=\"fill: #4c78a8;\"></path><path d=\"M51,11.111111111111114h24v188.88888888888889h-24Z\" style=\"fill: #4c78a8;\"></path><path d=\"M26,77.77777777777777h24v122.22222222222223h-24Z\" style=\"fill: #4c78a8;\"></path><path d=\"M176,22.22222222222223h24v177.77777777777777h-24Z\" style=\"fill: #4c78a8;\"></path><path d=\"M76,44.44444444444443h24v155.55555555555557h-24Z\" style=\"fill: #4c78a8;\"></path><path d=\"M1,66.66666666666669h24v133.33333333333331h-24Z\" style=\"fill: #4c78a8;\"></path></g><g class=\"mark-group role-axis\"><g transform=\"translate(0.5,200.5)\"><path class=\"background\" d=\"M0,0h0v0h0Z\" style=\"pointer-events: none; fill: none;\"></path><g><g class=\"mark-rule role-axis-tick\" style=\"pointer-events: none;\"><line transform=\"translate(0,0)\" x2=\"0\" y2=\"5\" style=\"fill: none; stroke: #888; stroke-width: 1; opacity: 1;\"></line><line transform=\"translate(25,0)\" x2=\"0\" y2=\"5\" style=\"fill: none; stroke: #888; stroke-width: 1; opacity: 1;\"></line><line transform=\"translate(50,0)\" x2=\"0\" y2=\"5\" style=\"fill: none; stroke: #888; stroke-width: 1; opacity: 1;\"></line><line transform=\"translate(75,0)\" x2=\"0\" y2=\"5\" style=\"fill: none; stroke: #888; stroke-width: 1; opacity: 1;\"></line><line transform=\"translate(100,0)\" x2=\"0\" y2=\"5\" style=\"fill: none; stroke: #888; stroke-width: 1; opacity: 1;\"></line><line transform=\"translate(125,0)\" x2=\"0\" y2=\"5\" style=\"fill: none; stroke: #888; stroke-width: 1; opacity: 1;\"></line><line transform=\"translate(150,0)\" x2=\"0\" y2=\"5\" style=\"fill: none; stroke: #888; stroke-width: 1; opacity: 1;\"></line><line transform=\"translate(175,0)\" x2=\"0\" y2=\"5\" style=\"fill: none; stroke: #888; stroke-width: 1; opacity: 1;\"></line><line transform=\"translate(200,0)\" x2=\"0\" y2=\"5\" style=\"fill: none; stroke: #888; stroke-width: 1; opacity: 1;\"></line></g><g class=\"mark-text role-axis-label\" style=\"pointer-events: none;\"><text text-anchor=\"start\" transform=\"translate(0,15)\" style=\"font-family: sans-serif; font-size: 10px; fill: #000; opacity: 1;\">0.0</text><text text-anchor=\"middle\" transform=\"translate(25,15)\" style=\"font-family: sans-serif; font-size: 10px; fill: #000; opacity: 1;\">1.0</text><text text-anchor=\"middle\" transform=\"translate(50,15)\" style=\"font-family: sans-serif; font-size: 10px; fill: #000; opacity: 1;\">2.0</text><text text-anchor=\"middle\" transform=\"translate(75,15)\" style=\"font-family: sans-serif; font-size: 10px; fill: #000; opacity: 1;\">3.0</text><text text-anchor=\"middle\" transform=\"translate(100,15)\" style=\"font-family: sans-serif; font-size: 10px; fill: #000; opacity: 1;\">4.0</text><text text-anchor=\"middle\" transform=\"translate(125,15)\" style=\"font-family: sans-serif; font-size: 10px; fill: #000; opacity: 1;\">5.0</text><text text-anchor=\"middle\" transform=\"translate(150,15)\" style=\"font-family: sans-serif; font-size: 10px; fill: #000; opacity: 1;\">6.0</text><text text-anchor=\"middle\" transform=\"translate(175,15)\" style=\"font-family: sans-serif; font-size: 10px; fill: #000; opacity: 1;\">7.0</text><text text-anchor=\"end\" transform=\"translate(200,15)\" style=\"font-family: sans-serif; font-size: 10px; fill: #000; opacity: 1;\">8.0</text></g><g class=\"mark-rule role-axis-domain\" style=\"pointer-events: none;\"><line transform=\"translate(0,0)\" x2=\"200\" y2=\"0\" style=\"fill: none; stroke: #888; stroke-width: 1; opacity: 1;\"></line></g><g class=\"mark-text role-axis-title\" style=\"pointer-events: none;\"><text text-anchor=\"middle\" transform=\"translate(100,30)\" style=\"font-family: sans-serif; font-size: 11px; font-weight: bold; fill: #000; opacity: 1;\">x1 (binned)</text></g></g></g></g><g class=\"mark-group role-axis\"><g transform=\"translate(0.5,0.5)\"><path class=\"background\" d=\"M0,0h0v0h0Z\" style=\"pointer-events: none; fill: none;\"></path><g><g class=\"mark-rule role-axis-tick\" style=\"pointer-events: none;\"><line transform=\"translate(0,200)\" x2=\"-5\" y2=\"0\" style=\"fill: none; stroke: #888; stroke-width: 1; opacity: 1;\"></line><line transform=\"translate(0,144)\" x2=\"-5\" y2=\"0\" style=\"fill: none; stroke: #888; stroke-width: 1; opacity: 1;\"></line><line transform=\"translate(0,89)\" x2=\"-5\" y2=\"0\" style=\"fill: none; stroke: #888; stroke-width: 1; opacity: 1;\"></line><line transform=\"translate(0,33)\" x2=\"-5\" y2=\"0\" style=\"fill: none; stroke: #888; stroke-width: 1; opacity: 1;\"></line></g><g class=\"mark-text role-axis-label\" style=\"pointer-events: none;\"><text text-anchor=\"end\" transform=\"translate(-7,203)\" style=\"font-family: sans-serif; font-size: 10px; fill: #000; opacity: 1;\">0</text><text text-anchor=\"end\" transform=\"translate(-7,147.44444444444446)\" style=\"font-family: sans-serif; font-size: 10px; fill: #000; opacity: 1;\">5</text><text text-anchor=\"end\" transform=\"translate(-7,91.88888888888889)\" style=\"font-family: sans-serif; font-size: 10px; fill: #000; opacity: 1;\">10</text><text text-anchor=\"end\" transform=\"translate(-7,36.333333333333314)\" style=\"font-family: sans-serif; font-size: 10px; fill: #000; opacity: 1;\">15</text></g><g class=\"mark-rule role-axis-domain\" style=\"pointer-events: none;\"><line transform=\"translate(0,200)\" x2=\"0\" y2=\"-200\" style=\"fill: none; stroke: #888; stroke-width: 1; opacity: 1;\"></line></g><g class=\"mark-text role-axis-title\" style=\"pointer-events: none;\"><text text-anchor=\"middle\" transform=\"translate(-23,100) rotate(-90) translate(0,-2)\" style=\"font-family: sans-serif; font-size: 11px; font-weight: bold; fill: #000; opacity: 1;\">Count of Records</text></g></g></g></g></g></g></g></g></g></g></g></svg>"
      ],
      "text/plain": [
       "VegaLite.VLSpec{:plot}"
      ]
     },
     "execution_count": 47,
     "metadata": {},
     "output_type": "execute_result"
    }
   ],
   "source": [
    "points = df |> vl\"\"\"\n",
    "{\n",
    "\n",
    "\"hconcat\" : [\n",
    "  {\n",
    "  \"mark\": \"circle\",\n",
    "  \"encoding\": {\n",
    "    \"x\": {\"field\": \"x1\", \"type\": \"quantitative\"},\n",
    "    \"y\": {\"field\": \"x2\", \"type\": \"quantitative\"}\n",
    "    }\n",
    "  },\n",
    "  {\n",
    "  \"mark\": \"bar\",\n",
    "  \"encoding\": {\n",
    "    \"x\": {\n",
    "      \"bin\": true,\n",
    "      \"field\": \"x1\",\n",
    "      \"type\": \"quantitative\"\n",
    "    },\n",
    "    \"y\": {\n",
    "      \"aggregate\": \"count\",\n",
    "      \"type\": \"quantitative\"\n",
    "      }\n",
    "     }\n",
    "  }\n",
    "]\n",
    "}\n",
    "\"\"\""
   ]
  },
  {
   "cell_type": "code",
   "execution_count": 24,
   "metadata": {},
   "outputs": [
    {
     "data": {
      "application/vnd.vegalite.v3+json": {
       "data": {
        "values": [
         {
          "x1": 6,
          "x2": 1
         },
         {
          "x1": 5,
          "x2": 1
         },
         {
          "x1": 5,
          "x2": 2
         },
         {
          "x1": 4,
          "x2": 1
         },
         {
          "x1": 2,
          "x2": 1
         },
         {
          "x1": 1,
          "x2": 1
         },
         {
          "x1": 4,
          "x2": 2
         },
         {
          "x1": 2,
          "x2": 2
         },
         {
          "x1": 8,
          "x2": 1
         },
         {
          "x1": 3,
          "x2": 1
         },
         {
          "x1": 1,
          "x2": 2
         },
         {
          "x1": 8,
          "x2": 2
         },
         {
          "x1": 1,
          "x2": 3
         },
         {
          "x1": 0,
          "x2": 1
         },
         {
          "x1": 8,
          "x2": 3
         },
         {
          "x1": 5,
          "x2": 3
         },
         {
          "x1": 2,
          "x2": 3
         },
         {
          "x1": 7,
          "x2": 1
         },
         {
          "x1": 1,
          "x2": 4
         },
         {
          "x1": 5,
          "x2": 4
         },
         {
          "x1": 5,
          "x2": 5
         },
         {
          "x1": 1,
          "x2": 5
         },
         {
          "x1": 2,
          "x2": 4
         },
         {
          "x1": 4,
          "x2": 3
         },
         {
          "x1": 2,
          "x2": 5
         },
         {
          "x1": 8,
          "x2": 4
         },
         {
          "x1": 7,
          "x2": 2
         },
         {
          "x1": 5,
          "x2": 6
         },
         {
          "x1": 8,
          "x2": 5
         },
         {
          "x1": 1,
          "x2": 6
         },
         {
          "x1": 3,
          "x2": 2
         },
         {
          "x1": 4,
          "x2": 4
         },
         {
          "x1": 0,
          "x2": 2
         },
         {
          "x1": 2,
          "x2": 6
         },
         {
          "x1": 2,
          "x2": 7
         },
         {
          "x1": 0,
          "x2": 3
         },
         {
          "x1": 3,
          "x2": 3
         },
         {
          "x1": 0,
          "x2": 4
         },
         {
          "x1": 1,
          "x2": 7
         },
         {
          "x1": 3,
          "x2": 4
         },
         {
          "x1": 7,
          "x2": 3
         },
         {
          "x1": 2,
          "x2": 8
         },
         {
          "x1": 1,
          "x2": 8
         },
         {
          "x1": 2,
          "x2": 9
         },
         {
          "x1": 1,
          "x2": 9
         },
         {
          "x1": 6,
          "x2": 2
         },
         {
          "x1": 3,
          "x2": 5
         },
         {
          "x1": 4,
          "x2": 5
         },
         {
          "x1": 2,
          "x2": 10
         },
         {
          "x1": 0,
          "x2": 5
         },
         {
          "x1": 4,
          "x2": 6
         },
         {
          "x1": 5,
          "x2": 7
         },
         {
          "x1": 7,
          "x2": 4
         },
         {
          "x1": 4,
          "x2": 7
         },
         {
          "x1": 0,
          "x2": 6
         },
         {
          "x1": 2,
          "x2": 11
         },
         {
          "x1": 6,
          "x2": 3
         },
         {
          "x1": 8,
          "x2": 6
         },
         {
          "x1": 7,
          "x2": 5
         },
         {
          "x1": 5,
          "x2": 8
         },
         {
          "x1": 4,
          "x2": 8
         },
         {
          "x1": 4,
          "x2": 9
         },
         {
          "x1": 5,
          "x2": 9
         },
         {
          "x1": 2,
          "x2": 12
         },
         {
          "x1": 0,
          "x2": 7
         },
         {
          "x1": 6,
          "x2": 4
         },
         {
          "x1": 0,
          "x2": 8
         },
         {
          "x1": 3,
          "x2": 6
         },
         {
          "x1": 3,
          "x2": 7
         },
         {
          "x1": 3,
          "x2": 8
         },
         {
          "x1": 8,
          "x2": 7
         },
         {
          "x1": 4,
          "x2": 10
         },
         {
          "x1": 7,
          "x2": 6
         },
         {
          "x1": 5,
          "x2": 10
         },
         {
          "x1": 6,
          "x2": 5
         },
         {
          "x1": 2,
          "x2": 13
         },
         {
          "x1": 3,
          "x2": 9
         },
         {
          "x1": 0,
          "x2": 9
         },
         {
          "x1": 4,
          "x2": 11
         },
         {
          "x1": 3,
          "x2": 10
         },
         {
          "x1": 3,
          "x2": 11
         },
         {
          "x1": 8,
          "x2": 8
         },
         {
          "x1": 8,
          "x2": 9
         },
         {
          "x1": 0,
          "x2": 10
         },
         {
          "x1": 0,
          "x2": 11
         },
         {
          "x1": 8,
          "x2": 10
         },
         {
          "x1": 6,
          "x2": 6
         },
         {
          "x1": 6,
          "x2": 7
         },
         {
          "x1": 6,
          "x2": 8
         },
         {
          "x1": 2,
          "x2": 14
         },
         {
          "x1": 3,
          "x2": 12
         },
         {
          "x1": 2,
          "x2": 15
         },
         {
          "x1": 2,
          "x2": 16
         },
         {
          "x1": 1,
          "x2": 10
         },
         {
          "x1": 5,
          "x2": 11
         },
         {
          "x1": 3,
          "x2": 13
         },
         {
          "x1": 3,
          "x2": 14
         },
         {
          "x1": 0,
          "x2": 12
         },
         {
          "x1": 2,
          "x2": 17
         },
         {
          "x1": 1,
          "x2": 11
         }
        ]
       },
       "encoding": {
        "x": {
         "bin": true,
         "field": "x1",
         "type": "quantitative"
        },
        "y": {
         "aggregate": "count",
         "type": "quantitative"
        }
       },
       "mark": "bar"
      },
      "image/png": "[encoded data removed]",
      "image/svg+xml": [
       "<svg class=\"marks\" width=\"245\" height=\"242\" viewBox=\"0 0 245 242\" version=\"1.1\" xmlns=\"http://www.w3.org/2000/svg\" xmlns:xlink=\"http://www.w3.org/1999/xlink\"><g transform=\"translate(39,5)\"><g class=\"mark-group role-frame root\"><g transform=\"translate(0,0)\"><path class=\"background\" d=\"M0.5,0.5h200v200h-200Z\" style=\"fill: none; stroke: #ddd;\"></path><g><g class=\"mark-group role-axis\"><g transform=\"translate(0.5,0.5)\"><path class=\"background\" d=\"M0,0h0v0h0Z\" style=\"pointer-events: none; fill: none;\"></path><g><g class=\"mark-rule role-axis-grid\" style=\"pointer-events: none;\"><line transform=\"translate(0,200)\" x2=\"200\" y2=\"0\" style=\"fill: none; stroke: #ddd; stroke-width: 1; opacity: 1;\"></line><line transform=\"translate(0,144)\" x2=\"200\" y2=\"0\" style=\"fill: none; stroke: #ddd; stroke-width: 1; opacity: 1;\"></line><line transform=\"translate(0,89)\" x2=\"200\" y2=\"0\" style=\"fill: none; stroke: #ddd; stroke-width: 1; opacity: 1;\"></line><line transform=\"translate(0,33)\" x2=\"200\" y2=\"0\" style=\"fill: none; stroke: #ddd; stroke-width: 1; opacity: 1;\"></line></g></g></g></g><g class=\"mark-rect role-mark marks\"><path d=\"M151,111.11111111111111h24v88.88888888888889h-24Z\" style=\"fill: #4c78a8;\"></path><path d=\"M126,77.77777777777777h24v122.22222222222223h-24Z\" style=\"fill: #4c78a8;\"></path><path d=\"M101,77.77777777777777h24v122.22222222222223h-24Z\" style=\"fill: #4c78a8;\"></path><path d=\"M51,11.111111111111114h24v188.88888888888889h-24Z\" style=\"fill: #4c78a8;\"></path><path d=\"M26,77.77777777777777h24v122.22222222222223h-24Z\" style=\"fill: #4c78a8;\"></path><path d=\"M176,22.22222222222223h24v177.77777777777777h-24Z\" style=\"fill: #4c78a8;\"></path><path d=\"M76,44.44444444444443h24v155.55555555555557h-24Z\" style=\"fill: #4c78a8;\"></path><path d=\"M1,66.66666666666669h24v133.33333333333331h-24Z\" style=\"fill: #4c78a8;\"></path></g><g class=\"mark-group role-axis\"><g transform=\"translate(0.5,200.5)\"><path class=\"background\" d=\"M0,0h0v0h0Z\" style=\"pointer-events: none; fill: none;\"></path><g><g class=\"mark-rule role-axis-tick\" style=\"pointer-events: none;\"><line transform=\"translate(0,0)\" x2=\"0\" y2=\"5\" style=\"fill: none; stroke: #888; stroke-width: 1; opacity: 1;\"></line><line transform=\"translate(25,0)\" x2=\"0\" y2=\"5\" style=\"fill: none; stroke: #888; stroke-width: 1; opacity: 1;\"></line><line transform=\"translate(50,0)\" x2=\"0\" y2=\"5\" style=\"fill: none; stroke: #888; stroke-width: 1; opacity: 1;\"></line><line transform=\"translate(75,0)\" x2=\"0\" y2=\"5\" style=\"fill: none; stroke: #888; stroke-width: 1; opacity: 1;\"></line><line transform=\"translate(100,0)\" x2=\"0\" y2=\"5\" style=\"fill: none; stroke: #888; stroke-width: 1; opacity: 1;\"></line><line transform=\"translate(125,0)\" x2=\"0\" y2=\"5\" style=\"fill: none; stroke: #888; stroke-width: 1; opacity: 1;\"></line><line transform=\"translate(150,0)\" x2=\"0\" y2=\"5\" style=\"fill: none; stroke: #888; stroke-width: 1; opacity: 1;\"></line><line transform=\"translate(175,0)\" x2=\"0\" y2=\"5\" style=\"fill: none; stroke: #888; stroke-width: 1; opacity: 1;\"></line><line transform=\"translate(200,0)\" x2=\"0\" y2=\"5\" style=\"fill: none; stroke: #888; stroke-width: 1; opacity: 1;\"></line></g><g class=\"mark-text role-axis-label\" style=\"pointer-events: none;\"><text text-anchor=\"start\" transform=\"translate(0,15)\" style=\"font-family: sans-serif; font-size: 10px; fill: #000; opacity: 1;\">0.0</text><text text-anchor=\"middle\" transform=\"translate(25,15)\" style=\"font-family: sans-serif; font-size: 10px; fill: #000; opacity: 1;\">1.0</text><text text-anchor=\"middle\" transform=\"translate(50,15)\" style=\"font-family: sans-serif; font-size: 10px; fill: #000; opacity: 1;\">2.0</text><text text-anchor=\"middle\" transform=\"translate(75,15)\" style=\"font-family: sans-serif; font-size: 10px; fill: #000; opacity: 1;\">3.0</text><text text-anchor=\"middle\" transform=\"translate(100,15)\" style=\"font-family: sans-serif; font-size: 10px; fill: #000; opacity: 1;\">4.0</text><text text-anchor=\"middle\" transform=\"translate(125,15)\" style=\"font-family: sans-serif; font-size: 10px; fill: #000; opacity: 1;\">5.0</text><text text-anchor=\"middle\" transform=\"translate(150,15)\" style=\"font-family: sans-serif; font-size: 10px; fill: #000; opacity: 1;\">6.0</text><text text-anchor=\"middle\" transform=\"translate(175,15)\" style=\"font-family: sans-serif; font-size: 10px; fill: #000; opacity: 1;\">7.0</text><text text-anchor=\"end\" transform=\"translate(200,15)\" style=\"font-family: sans-serif; font-size: 10px; fill: #000; opacity: 1;\">8.0</text></g><g class=\"mark-rule role-axis-domain\" style=\"pointer-events: none;\"><line transform=\"translate(0,0)\" x2=\"200\" y2=\"0\" style=\"fill: none; stroke: #888; stroke-width: 1; opacity: 1;\"></line></g><g class=\"mark-text role-axis-title\" style=\"pointer-events: none;\"><text text-anchor=\"middle\" transform=\"translate(100,30)\" style=\"font-family: sans-serif; font-size: 11px; font-weight: bold; fill: #000; opacity: 1;\">x1 (binned)</text></g></g></g></g><g class=\"mark-group role-axis\"><g transform=\"translate(0.5,0.5)\"><path class=\"background\" d=\"M0,0h0v0h0Z\" style=\"pointer-events: none; fill: none;\"></path><g><g class=\"mark-rule role-axis-tick\" style=\"pointer-events: none;\"><line transform=\"translate(0,200)\" x2=\"-5\" y2=\"0\" style=\"fill: none; stroke: #888; stroke-width: 1; opacity: 1;\"></line><line transform=\"translate(0,144)\" x2=\"-5\" y2=\"0\" style=\"fill: none; stroke: #888; stroke-width: 1; opacity: 1;\"></line><line transform=\"translate(0,89)\" x2=\"-5\" y2=\"0\" style=\"fill: none; stroke: #888; stroke-width: 1; opacity: 1;\"></line><line transform=\"translate(0,33)\" x2=\"-5\" y2=\"0\" style=\"fill: none; stroke: #888; stroke-width: 1; opacity: 1;\"></line></g><g class=\"mark-text role-axis-label\" style=\"pointer-events: none;\"><text text-anchor=\"end\" transform=\"translate(-7,203)\" style=\"font-family: sans-serif; font-size: 10px; fill: #000; opacity: 1;\">0</text><text text-anchor=\"end\" transform=\"translate(-7,147.44444444444446)\" style=\"font-family: sans-serif; font-size: 10px; fill: #000; opacity: 1;\">5</text><text text-anchor=\"end\" transform=\"translate(-7,91.88888888888889)\" style=\"font-family: sans-serif; font-size: 10px; fill: #000; opacity: 1;\">10</text><text text-anchor=\"end\" transform=\"translate(-7,36.333333333333314)\" style=\"font-family: sans-serif; font-size: 10px; fill: #000; opacity: 1;\">15</text></g><g class=\"mark-rule role-axis-domain\" style=\"pointer-events: none;\"><line transform=\"translate(0,200)\" x2=\"0\" y2=\"-200\" style=\"fill: none; stroke: #888; stroke-width: 1; opacity: 1;\"></line></g><g class=\"mark-text role-axis-title\" style=\"pointer-events: none;\"><text text-anchor=\"middle\" transform=\"translate(-23,100) rotate(-90) translate(0,-2)\" style=\"font-family: sans-serif; font-size: 11px; font-weight: bold; fill: #000; opacity: 1;\">Count of Records</text></g></g></g></g></g></g></g></g></svg>"
      ],
      "text/plain": [
       "VegaLite.VLSpec{:plot}"
      ]
     },
     "execution_count": 24,
     "metadata": {},
     "output_type": "execute_result"
    }
   ],
   "source": [
    "spec = [\n",
    "@vlplot(width=800, height=300, view={stroke=nothing}) + \n",
    "@vlplot(\n",
    "    data={values={\"start\"=5.7,\"finish\"=6.3, \"Event\"=\"Acceptance Region\"}},\n",
    "    mark={:rect, color=:green},\n",
    "    x={\"start:q\",axis={title=\"\"}},\n",
    "    x2=\"finish:q\",\n",
    "    y={value=1,axis={ticks=false}},\n",
    "    color={\"Event:n\",scale={range=[\"green\"]}},\n",
    "    opacity={value=0.3})+\n",
    "@vlplot(\n",
    "    data=df,\n",
    "    mark={:circle,strokeWidth=1,stroke=:black,clip=false},\n",
    "    size={value=200},\n",
    "    color={value=\"#4682b4\"},\n",
    "    x={\"x1:q\",axis={title=\"Sample Values\",grid=false}},\n",
    "#     y={\"x2:q\",axis={title=\"count\",ticks=false,grid=false}})\n",
    "    y={\"x2:q\",axis=nothing})\n",
    "\n",
    "]\n",
    "histog = @vlplot(data=df,:bar, x={:x1, bin=true}, y=\"count()\")\n"
   ]
  },
  {
   "cell_type": "code",
   "execution_count": 459,
   "metadata": {},
   "outputs": [
    {
     "data": {
      "application/vnd.vegalite.v3+json": {
       "data": {
        "values": [
         {
          "x1": 0,
          "x2": 1
         },
         {
          "x1": 6,
          "x2": 1
         },
         {
          "x1": 8,
          "x2": 1
         },
         {
          "x1": 4,
          "x2": 1
         },
         {
          "x1": 1,
          "x2": 1
         },
         {
          "x1": 8,
          "x2": 2
         },
         {
          "x1": 4,
          "x2": 2
         },
         {
          "x1": 2,
          "x2": 1
         },
         {
          "x1": 0,
          "x2": 2
         },
         {
          "x1": 7,
          "x2": 1
         },
         {
          "x1": 6,
          "x2": 2
         },
         {
          "x1": 7,
          "x2": 2
         },
         {
          "x1": 0,
          "x2": 3
         },
         {
          "x1": 6,
          "x2": 3
         },
         {
          "x1": 8,
          "x2": 3
         },
         {
          "x1": 6,
          "x2": 4
         },
         {
          "x1": 3,
          "x2": 1
         },
         {
          "x1": 8,
          "x2": 4
         },
         {
          "x1": 5,
          "x2": 1
         },
         {
          "x1": 0,
          "x2": 4
         },
         {
          "x1": 6,
          "x2": 5
         },
         {
          "x1": 0,
          "x2": 5
         },
         {
          "x1": 4,
          "x2": 3
         },
         {
          "x1": 8,
          "x2": 5
         },
         {
          "x1": 8,
          "x2": 6
         },
         {
          "x1": 4,
          "x2": 4
         },
         {
          "x1": 1,
          "x2": 2
         },
         {
          "x1": 0,
          "x2": 6
         },
         {
          "x1": 6,
          "x2": 6
         },
         {
          "x1": 7,
          "x2": 3
         },
         {
          "x1": 6,
          "x2": 7
         },
         {
          "x1": 8,
          "x2": 7
         },
         {
          "x1": 3,
          "x2": 2
         },
         {
          "x1": 4,
          "x2": 5
         },
         {
          "x1": 5,
          "x2": 2
         },
         {
          "x1": 4,
          "x2": 6
         },
         {
          "x1": 6,
          "x2": 8
         },
         {
          "x1": 3,
          "x2": 3
         },
         {
          "x1": 5,
          "x2": 3
         },
         {
          "x1": 3,
          "x2": 4
         },
         {
          "x1": 4,
          "x2": 7
         },
         {
          "x1": 0,
          "x2": 7
         },
         {
          "x1": 3,
          "x2": 5
         },
         {
          "x1": 1,
          "x2": 3
         },
         {
          "x1": 1,
          "x2": 4
         },
         {
          "x1": 6,
          "x2": 9
         },
         {
          "x1": 8,
          "x2": 8
         },
         {
          "x1": 6,
          "x2": 10
         },
         {
          "x1": 2,
          "x2": 2
         },
         {
          "x1": 0,
          "x2": 8
         },
         {
          "x1": 1,
          "x2": 5
         },
         {
          "x1": 4,
          "x2": 8
         },
         {
          "x1": 3,
          "x2": 6
         },
         {
          "x1": 0,
          "x2": 9
         },
         {
          "x1": 3,
          "x2": 7
         },
         {
          "x1": 6,
          "x2": 11
         },
         {
          "x1": 7,
          "x2": 4
         },
         {
          "x1": 3,
          "x2": 8
         },
         {
          "x1": 6,
          "x2": 12
         },
         {
          "x1": 5,
          "x2": 4
         },
         {
          "x1": 4,
          "x2": 9
         },
         {
          "x1": 1,
          "x2": 6
         },
         {
          "x1": 8,
          "x2": 9
         },
         {
          "x1": 8,
          "x2": 10
         },
         {
          "x1": 5,
          "x2": 5
         },
         {
          "x1": 0,
          "x2": 10
         },
         {
          "x1": 0,
          "x2": 11
         },
         {
          "x1": 0,
          "x2": 12
         },
         {
          "x1": 2,
          "x2": 3
         },
         {
          "x1": 6,
          "x2": 13
         },
         {
          "x1": 7,
          "x2": 5
         },
         {
          "x1": 3,
          "x2": 9
         },
         {
          "x1": 8,
          "x2": 11
         },
         {
          "x1": 8,
          "x2": 12
         },
         {
          "x1": 4,
          "x2": 10
         },
         {
          "x1": 8,
          "x2": 13
         },
         {
          "x1": 2,
          "x2": 4
         },
         {
          "x1": 7,
          "x2": 6
         },
         {
          "x1": 5,
          "x2": 6
         },
         {
          "x1": 6,
          "x2": 14
         },
         {
          "x1": 8,
          "x2": 14
         },
         {
          "x1": 3,
          "x2": 10
         },
         {
          "x1": 1,
          "x2": 7
         },
         {
          "x1": 5,
          "x2": 7
         },
         {
          "x1": 8,
          "x2": 15
         },
         {
          "x1": 6,
          "x2": 15
         },
         {
          "x1": 4,
          "x2": 11
         },
         {
          "x1": 5,
          "x2": 8
         },
         {
          "x1": 7,
          "x2": 7
         },
         {
          "x1": 3,
          "x2": 11
         },
         {
          "x1": 4,
          "x2": 12
         },
         {
          "x1": 8,
          "x2": 16
         },
         {
          "x1": 7,
          "x2": 8
         },
         {
          "x1": 7,
          "x2": 9
         },
         {
          "x1": 2,
          "x2": 5
         },
         {
          "x1": 6,
          "x2": 16
         },
         {
          "x1": 2,
          "x2": 6
         },
         {
          "x1": 4,
          "x2": 13
         },
         {
          "x1": 1,
          "x2": 8
         },
         {
          "x1": 1,
          "x2": 9
         }
        ]
       },
       "encoding": {
        "x": {
         "field": "x1",
         "type": "ordinal"
        },
        "y": {
         "axis": "null",
         "field": "id",
         "sort": "descending",
         "type": "ordinal"
        }
       },
       "mark": {
        "type": "circle"
       },
       "transform": [
        {
         "groupby": [
          "x1"
         ],
         "window": [
          {
           "as": "id",
           "op": "rank"
          }
         ]
        }
       ]
      },
      "image/png": "[encoded data removed]",
      "image/svg+xml": [
       "<svg class=\"marks\" width=\"224\" height=\"358\" viewBox=\"0 0 224 358\" version=\"1.1\" xmlns=\"http://www.w3.org/2000/svg\" xmlns:xlink=\"http://www.w3.org/1999/xlink\"><g transform=\"translate(39,5)\"><g class=\"mark-group role-frame root\"><g transform=\"translate(0,0)\"><path class=\"background\" d=\"M0.5,0.5h180v320h-180Z\" style=\"fill: none; stroke: #ddd;\"></path><g><g class=\"mark-symbol role-mark marks\"><path transform=\"translate(10,310)\" d=\"M2.7386127875258306,0A2.7386127875258306,2.7386127875258306,0,1,1,-2.7386127875258306,0A2.7386127875258306,2.7386127875258306,0,1,1,2.7386127875258306,0\" style=\"fill: #4c78a8; stroke-width: 2; opacity: 0.7;\"></path><path transform=\"translate(130,310)\" d=\"M2.7386127875258306,0A2.7386127875258306,2.7386127875258306,0,1,1,-2.7386127875258306,0A2.7386127875258306,2.7386127875258306,0,1,1,2.7386127875258306,0\" style=\"fill: #4c78a8; stroke-width: 2; opacity: 0.7;\"></path><path transform=\"translate(170,310)\" d=\"M2.7386127875258306,0A2.7386127875258306,2.7386127875258306,0,1,1,-2.7386127875258306,0A2.7386127875258306,2.7386127875258306,0,1,1,2.7386127875258306,0\" style=\"fill: #4c78a8; stroke-width: 2; opacity: 0.7;\"></path><path transform=\"translate(90,310)\" d=\"M2.7386127875258306,0A2.7386127875258306,2.7386127875258306,0,1,1,-2.7386127875258306,0A2.7386127875258306,2.7386127875258306,0,1,1,2.7386127875258306,0\" style=\"fill: #4c78a8; stroke-width: 2; opacity: 0.7;\"></path><path transform=\"translate(30,310)\" d=\"M2.7386127875258306,0A2.7386127875258306,2.7386127875258306,0,1,1,-2.7386127875258306,0A2.7386127875258306,2.7386127875258306,0,1,1,2.7386127875258306,0\" style=\"fill: #4c78a8; stroke-width: 2; opacity: 0.7;\"></path><path transform=\"translate(170,290)\" d=\"M2.7386127875258306,0A2.7386127875258306,2.7386127875258306,0,1,1,-2.7386127875258306,0A2.7386127875258306,2.7386127875258306,0,1,1,2.7386127875258306,0\" style=\"fill: #4c78a8; stroke-width: 2; opacity: 0.7;\"></path><path transform=\"translate(90,290)\" d=\"M2.7386127875258306,0A2.7386127875258306,2.7386127875258306,0,1,1,-2.7386127875258306,0A2.7386127875258306,2.7386127875258306,0,1,1,2.7386127875258306,0\" style=\"fill: #4c78a8; stroke-width: 2; opacity: 0.7;\"></path><path transform=\"translate(50,310)\" d=\"M2.7386127875258306,0A2.7386127875258306,2.7386127875258306,0,1,1,-2.7386127875258306,0A2.7386127875258306,2.7386127875258306,0,1,1,2.7386127875258306,0\" style=\"fill: #4c78a8; stroke-width: 2; opacity: 0.7;\"></path><path transform=\"translate(10,290)\" d=\"M2.7386127875258306,0A2.7386127875258306,2.7386127875258306,0,1,1,-2.7386127875258306,0A2.7386127875258306,2.7386127875258306,0,1,1,2.7386127875258306,0\" style=\"fill: #4c78a8; stroke-width: 2; opacity: 0.7;\"></path><path transform=\"translate(150,310)\" d=\"M2.7386127875258306,0A2.7386127875258306,2.7386127875258306,0,1,1,-2.7386127875258306,0A2.7386127875258306,2.7386127875258306,0,1,1,2.7386127875258306,0\" style=\"fill: #4c78a8; stroke-width: 2; opacity: 0.7;\"></path><path transform=\"translate(130,290)\" d=\"M2.7386127875258306,0A2.7386127875258306,2.7386127875258306,0,1,1,-2.7386127875258306,0A2.7386127875258306,2.7386127875258306,0,1,1,2.7386127875258306,0\" style=\"fill: #4c78a8; stroke-width: 2; opacity: 0.7;\"></path><path transform=\"translate(150,290)\" d=\"M2.7386127875258306,0A2.7386127875258306,2.7386127875258306,0,1,1,-2.7386127875258306,0A2.7386127875258306,2.7386127875258306,0,1,1,2.7386127875258306,0\" style=\"fill: #4c78a8; stroke-width: 2; opacity: 0.7;\"></path><path transform=\"translate(10,270)\" d=\"M2.7386127875258306,0A2.7386127875258306,2.7386127875258306,0,1,1,-2.7386127875258306,0A2.7386127875258306,2.7386127875258306,0,1,1,2.7386127875258306,0\" style=\"fill: #4c78a8; stroke-width: 2; opacity: 0.7;\"></path><path transform=\"translate(130,270)\" d=\"M2.7386127875258306,0A2.7386127875258306,2.7386127875258306,0,1,1,-2.7386127875258306,0A2.7386127875258306,2.7386127875258306,0,1,1,2.7386127875258306,0\" style=\"fill: #4c78a8; stroke-width: 2; opacity: 0.7;\"></path><path transform=\"translate(170,270)\" d=\"M2.7386127875258306,0A2.7386127875258306,2.7386127875258306,0,1,1,-2.7386127875258306,0A2.7386127875258306,2.7386127875258306,0,1,1,2.7386127875258306,0\" style=\"fill: #4c78a8; stroke-width: 2; opacity: 0.7;\"></path><path transform=\"translate(130,250)\" d=\"M2.7386127875258306,0A2.7386127875258306,2.7386127875258306,0,1,1,-2.7386127875258306,0A2.7386127875258306,2.7386127875258306,0,1,1,2.7386127875258306,0\" style=\"fill: #4c78a8; stroke-width: 2; opacity: 0.7;\"></path><path transform=\"translate(70,310)\" d=\"M2.7386127875258306,0A2.7386127875258306,2.7386127875258306,0,1,1,-2.7386127875258306,0A2.7386127875258306,2.7386127875258306,0,1,1,2.7386127875258306,0\" style=\"fill: #4c78a8; stroke-width: 2; opacity: 0.7;\"></path><path transform=\"translate(170,250)\" d=\"M2.7386127875258306,0A2.7386127875258306,2.7386127875258306,0,1,1,-2.7386127875258306,0A2.7386127875258306,2.7386127875258306,0,1,1,2.7386127875258306,0\" style=\"fill: #4c78a8; stroke-width: 2; opacity: 0.7;\"></path><path transform=\"translate(110,310)\" d=\"M2.7386127875258306,0A2.7386127875258306,2.7386127875258306,0,1,1,-2.7386127875258306,0A2.7386127875258306,2.7386127875258306,0,1,1,2.7386127875258306,0\" style=\"fill: #4c78a8; stroke-width: 2; opacity: 0.7;\"></path><path transform=\"translate(10,250)\" d=\"M2.7386127875258306,0A2.7386127875258306,2.7386127875258306,0,1,1,-2.7386127875258306,0A2.7386127875258306,2.7386127875258306,0,1,1,2.7386127875258306,0\" style=\"fill: #4c78a8; stroke-width: 2; opacity: 0.7;\"></path><path transform=\"translate(130,230)\" d=\"M2.7386127875258306,0A2.7386127875258306,2.7386127875258306,0,1,1,-2.7386127875258306,0A2.7386127875258306,2.7386127875258306,0,1,1,2.7386127875258306,0\" style=\"fill: #4c78a8; stroke-width: 2; opacity: 0.7;\"></path><path transform=\"translate(10,230)\" d=\"M2.7386127875258306,0A2.7386127875258306,2.7386127875258306,0,1,1,-2.7386127875258306,0A2.7386127875258306,2.7386127875258306,0,1,1,2.7386127875258306,0\" style=\"fill: #4c78a8; stroke-width: 2; opacity: 0.7;\"></path><path transform=\"translate(90,270)\" d=\"M2.7386127875258306,0A2.7386127875258306,2.7386127875258306,0,1,1,-2.7386127875258306,0A2.7386127875258306,2.7386127875258306,0,1,1,2.7386127875258306,0\" style=\"fill: #4c78a8; stroke-width: 2; opacity: 0.7;\"></path><path transform=\"translate(170,230)\" d=\"M2.7386127875258306,0A2.7386127875258306,2.7386127875258306,0,1,1,-2.7386127875258306,0A2.7386127875258306,2.7386127875258306,0,1,1,2.7386127875258306,0\" style=\"fill: #4c78a8; stroke-width: 2; opacity: 0.7;\"></path><path transform=\"translate(170,210)\" d=\"M2.7386127875258306,0A2.7386127875258306,2.7386127875258306,0,1,1,-2.7386127875258306,0A2.7386127875258306,2.7386127875258306,0,1,1,2.7386127875258306,0\" style=\"fill: #4c78a8; stroke-width: 2; opacity: 0.7;\"></path><path transform=\"translate(90,250)\" d=\"M2.7386127875258306,0A2.7386127875258306,2.7386127875258306,0,1,1,-2.7386127875258306,0A2.7386127875258306,2.7386127875258306,0,1,1,2.7386127875258306,0\" style=\"fill: #4c78a8; stroke-width: 2; opacity: 0.7;\"></path><path transform=\"translate(30,290)\" d=\"M2.7386127875258306,0A2.7386127875258306,2.7386127875258306,0,1,1,-2.7386127875258306,0A2.7386127875258306,2.7386127875258306,0,1,1,2.7386127875258306,0\" style=\"fill: #4c78a8; stroke-width: 2; opacity: 0.7;\"></path><path transform=\"translate(10,210)\" d=\"M2.7386127875258306,0A2.7386127875258306,2.7386127875258306,0,1,1,-2.7386127875258306,0A2.7386127875258306,2.7386127875258306,0,1,1,2.7386127875258306,0\" style=\"fill: #4c78a8; stroke-width: 2; opacity: 0.7;\"></path><path transform=\"translate(130,210)\" d=\"M2.7386127875258306,0A2.7386127875258306,2.7386127875258306,0,1,1,-2.7386127875258306,0A2.7386127875258306,2.7386127875258306,0,1,1,2.7386127875258306,0\" style=\"fill: #4c78a8; stroke-width: 2; opacity: 0.7;\"></path><path transform=\"translate(150,270)\" d=\"M2.7386127875258306,0A2.7386127875258306,2.7386127875258306,0,1,1,-2.7386127875258306,0A2.7386127875258306,2.7386127875258306,0,1,1,2.7386127875258306,0\" style=\"fill: #4c78a8; stroke-width: 2; opacity: 0.7;\"></path><path transform=\"translate(130,190)\" d=\"M2.7386127875258306,0A2.7386127875258306,2.7386127875258306,0,1,1,-2.7386127875258306,0A2.7386127875258306,2.7386127875258306,0,1,1,2.7386127875258306,0\" style=\"fill: #4c78a8; stroke-width: 2; opacity: 0.7;\"></path><path transform=\"translate(170,190)\" d=\"M2.7386127875258306,0A2.7386127875258306,2.7386127875258306,0,1,1,-2.7386127875258306,0A2.7386127875258306,2.7386127875258306,0,1,1,2.7386127875258306,0\" style=\"fill: #4c78a8; stroke-width: 2; opacity: 0.7;\"></path><path transform=\"translate(70,290)\" d=\"M2.7386127875258306,0A2.7386127875258306,2.7386127875258306,0,1,1,-2.7386127875258306,0A2.7386127875258306,2.7386127875258306,0,1,1,2.7386127875258306,0\" style=\"fill: #4c78a8; stroke-width: 2; opacity: 0.7;\"></path><path transform=\"translate(90,230)\" d=\"M2.7386127875258306,0A2.7386127875258306,2.7386127875258306,0,1,1,-2.7386127875258306,0A2.7386127875258306,2.7386127875258306,0,1,1,2.7386127875258306,0\" style=\"fill: #4c78a8; stroke-width: 2; opacity: 0.7;\"></path><path transform=\"translate(110,290)\" d=\"M2.7386127875258306,0A2.7386127875258306,2.7386127875258306,0,1,1,-2.7386127875258306,0A2.7386127875258306,2.7386127875258306,0,1,1,2.7386127875258306,0\" style=\"fill: #4c78a8; stroke-width: 2; opacity: 0.7;\"></path><path transform=\"translate(90,210)\" d=\"M2.7386127875258306,0A2.7386127875258306,2.7386127875258306,0,1,1,-2.7386127875258306,0A2.7386127875258306,2.7386127875258306,0,1,1,2.7386127875258306,0\" style=\"fill: #4c78a8; stroke-width: 2; opacity: 0.7;\"></path><path transform=\"translate(130,170)\" d=\"M2.7386127875258306,0A2.7386127875258306,2.7386127875258306,0,1,1,-2.7386127875258306,0A2.7386127875258306,2.7386127875258306,0,1,1,2.7386127875258306,0\" style=\"fill: #4c78a8; stroke-width: 2; opacity: 0.7;\"></path><path transform=\"translate(70,270)\" d=\"M2.7386127875258306,0A2.7386127875258306,2.7386127875258306,0,1,1,-2.7386127875258306,0A2.7386127875258306,2.7386127875258306,0,1,1,2.7386127875258306,0\" style=\"fill: #4c78a8; stroke-width: 2; opacity: 0.7;\"></path><path transform=\"translate(110,270)\" d=\"M2.7386127875258306,0A2.7386127875258306,2.7386127875258306,0,1,1,-2.7386127875258306,0A2.7386127875258306,2.7386127875258306,0,1,1,2.7386127875258306,0\" style=\"fill: #4c78a8; stroke-width: 2; opacity: 0.7;\"></path><path transform=\"translate(70,250)\" d=\"M2.7386127875258306,0A2.7386127875258306,2.7386127875258306,0,1,1,-2.7386127875258306,0A2.7386127875258306,2.7386127875258306,0,1,1,2.7386127875258306,0\" style=\"fill: #4c78a8; stroke-width: 2; opacity: 0.7;\"></path><path transform=\"translate(90,190)\" d=\"M2.7386127875258306,0A2.7386127875258306,2.7386127875258306,0,1,1,-2.7386127875258306,0A2.7386127875258306,2.7386127875258306,0,1,1,2.7386127875258306,0\" style=\"fill: #4c78a8; stroke-width: 2; opacity: 0.7;\"></path><path transform=\"translate(10,190)\" d=\"M2.7386127875258306,0A2.7386127875258306,2.7386127875258306,0,1,1,-2.7386127875258306,0A2.7386127875258306,2.7386127875258306,0,1,1,2.7386127875258306,0\" style=\"fill: #4c78a8; stroke-width: 2; opacity: 0.7;\"></path><path transform=\"translate(70,230)\" d=\"M2.7386127875258306,0A2.7386127875258306,2.7386127875258306,0,1,1,-2.7386127875258306,0A2.7386127875258306,2.7386127875258306,0,1,1,2.7386127875258306,0\" style=\"fill: #4c78a8; stroke-width: 2; opacity: 0.7;\"></path><path transform=\"translate(30,270)\" d=\"M2.7386127875258306,0A2.7386127875258306,2.7386127875258306,0,1,1,-2.7386127875258306,0A2.7386127875258306,2.7386127875258306,0,1,1,2.7386127875258306,0\" style=\"fill: #4c78a8; stroke-width: 2; opacity: 0.7;\"></path><path transform=\"translate(30,250)\" d=\"M2.7386127875258306,0A2.7386127875258306,2.7386127875258306,0,1,1,-2.7386127875258306,0A2.7386127875258306,2.7386127875258306,0,1,1,2.7386127875258306,0\" style=\"fill: #4c78a8; stroke-width: 2; opacity: 0.7;\"></path><path transform=\"translate(130,150)\" d=\"M2.7386127875258306,0A2.7386127875258306,2.7386127875258306,0,1,1,-2.7386127875258306,0A2.7386127875258306,2.7386127875258306,0,1,1,2.7386127875258306,0\" style=\"fill: #4c78a8; stroke-width: 2; opacity: 0.7;\"></path><path transform=\"translate(170,170)\" d=\"M2.7386127875258306,0A2.7386127875258306,2.7386127875258306,0,1,1,-2.7386127875258306,0A2.7386127875258306,2.7386127875258306,0,1,1,2.7386127875258306,0\" style=\"fill: #4c78a8; stroke-width: 2; opacity: 0.7;\"></path><path transform=\"translate(130,130)\" d=\"M2.7386127875258306,0A2.7386127875258306,2.7386127875258306,0,1,1,-2.7386127875258306,0A2.7386127875258306,2.7386127875258306,0,1,1,2.7386127875258306,0\" style=\"fill: #4c78a8; stroke-width: 2; opacity: 0.7;\"></path><path transform=\"translate(50,290)\" d=\"M2.7386127875258306,0A2.7386127875258306,2.7386127875258306,0,1,1,-2.7386127875258306,0A2.7386127875258306,2.7386127875258306,0,1,1,2.7386127875258306,0\" style=\"fill: #4c78a8; stroke-width: 2; opacity: 0.7;\"></path><path transform=\"translate(10,170)\" d=\"M2.7386127875258306,0A2.7386127875258306,2.7386127875258306,0,1,1,-2.7386127875258306,0A2.7386127875258306,2.7386127875258306,0,1,1,2.7386127875258306,0\" style=\"fill: #4c78a8; stroke-width: 2; opacity: 0.7;\"></path><path transform=\"translate(30,230)\" d=\"M2.7386127875258306,0A2.7386127875258306,2.7386127875258306,0,1,1,-2.7386127875258306,0A2.7386127875258306,2.7386127875258306,0,1,1,2.7386127875258306,0\" style=\"fill: #4c78a8; stroke-width: 2; opacity: 0.7;\"></path><path transform=\"translate(90,170)\" d=\"M2.7386127875258306,0A2.7386127875258306,2.7386127875258306,0,1,1,-2.7386127875258306,0A2.7386127875258306,2.7386127875258306,0,1,1,2.7386127875258306,0\" style=\"fill: #4c78a8; stroke-width: 2; opacity: 0.7;\"></path><path transform=\"translate(70,210)\" d=\"M2.7386127875258306,0A2.7386127875258306,2.7386127875258306,0,1,1,-2.7386127875258306,0A2.7386127875258306,2.7386127875258306,0,1,1,2.7386127875258306,0\" style=\"fill: #4c78a8; stroke-width: 2; opacity: 0.7;\"></path><path transform=\"translate(10,150)\" d=\"M2.7386127875258306,0A2.7386127875258306,2.7386127875258306,0,1,1,-2.7386127875258306,0A2.7386127875258306,2.7386127875258306,0,1,1,2.7386127875258306,0\" style=\"fill: #4c78a8; stroke-width: 2; opacity: 0.7;\"></path><path transform=\"translate(70,190)\" d=\"M2.7386127875258306,0A2.7386127875258306,2.7386127875258306,0,1,1,-2.7386127875258306,0A2.7386127875258306,2.7386127875258306,0,1,1,2.7386127875258306,0\" style=\"fill: #4c78a8; stroke-width: 2; opacity: 0.7;\"></path><path transform=\"translate(130,110)\" d=\"M2.7386127875258306,0A2.7386127875258306,2.7386127875258306,0,1,1,-2.7386127875258306,0A2.7386127875258306,2.7386127875258306,0,1,1,2.7386127875258306,0\" style=\"fill: #4c78a8; stroke-width: 2; opacity: 0.7;\"></path><path transform=\"translate(150,250)\" d=\"M2.7386127875258306,0A2.7386127875258306,2.7386127875258306,0,1,1,-2.7386127875258306,0A2.7386127875258306,2.7386127875258306,0,1,1,2.7386127875258306,0\" style=\"fill: #4c78a8; stroke-width: 2; opacity: 0.7;\"></path><path transform=\"translate(70,170)\" d=\"M2.7386127875258306,0A2.7386127875258306,2.7386127875258306,0,1,1,-2.7386127875258306,0A2.7386127875258306,2.7386127875258306,0,1,1,2.7386127875258306,0\" style=\"fill: #4c78a8; stroke-width: 2; opacity: 0.7;\"></path><path transform=\"translate(130,90)\" d=\"M2.7386127875258306,0A2.7386127875258306,2.7386127875258306,0,1,1,-2.7386127875258306,0A2.7386127875258306,2.7386127875258306,0,1,1,2.7386127875258306,0\" style=\"fill: #4c78a8; stroke-width: 2; opacity: 0.7;\"></path><path transform=\"translate(110,250)\" d=\"M2.7386127875258306,0A2.7386127875258306,2.7386127875258306,0,1,1,-2.7386127875258306,0A2.7386127875258306,2.7386127875258306,0,1,1,2.7386127875258306,0\" style=\"fill: #4c78a8; stroke-width: 2; opacity: 0.7;\"></path><path transform=\"translate(90,150)\" d=\"M2.7386127875258306,0A2.7386127875258306,2.7386127875258306,0,1,1,-2.7386127875258306,0A2.7386127875258306,2.7386127875258306,0,1,1,2.7386127875258306,0\" style=\"fill: #4c78a8; stroke-width: 2; opacity: 0.7;\"></path><path transform=\"translate(30,210)\" d=\"M2.7386127875258306,0A2.7386127875258306,2.7386127875258306,0,1,1,-2.7386127875258306,0A2.7386127875258306,2.7386127875258306,0,1,1,2.7386127875258306,0\" style=\"fill: #4c78a8; stroke-width: 2; opacity: 0.7;\"></path><path transform=\"translate(170,150)\" d=\"M2.7386127875258306,0A2.7386127875258306,2.7386127875258306,0,1,1,-2.7386127875258306,0A2.7386127875258306,2.7386127875258306,0,1,1,2.7386127875258306,0\" style=\"fill: #4c78a8; stroke-width: 2; opacity: 0.7;\"></path><path transform=\"translate(170,130)\" d=\"M2.7386127875258306,0A2.7386127875258306,2.7386127875258306,0,1,1,-2.7386127875258306,0A2.7386127875258306,2.7386127875258306,0,1,1,2.7386127875258306,0\" style=\"fill: #4c78a8; stroke-width: 2; opacity: 0.7;\"></path><path transform=\"translate(110,230)\" d=\"M2.7386127875258306,0A2.7386127875258306,2.7386127875258306,0,1,1,-2.7386127875258306,0A2.7386127875258306,2.7386127875258306,0,1,1,2.7386127875258306,0\" style=\"fill: #4c78a8; stroke-width: 2; opacity: 0.7;\"></path><path transform=\"translate(10,130)\" d=\"M2.7386127875258306,0A2.7386127875258306,2.7386127875258306,0,1,1,-2.7386127875258306,0A2.7386127875258306,2.7386127875258306,0,1,1,2.7386127875258306,0\" style=\"fill: #4c78a8; stroke-width: 2; opacity: 0.7;\"></path><path transform=\"translate(10,110)\" d=\"M2.7386127875258306,0A2.7386127875258306,2.7386127875258306,0,1,1,-2.7386127875258306,0A2.7386127875258306,2.7386127875258306,0,1,1,2.7386127875258306,0\" style=\"fill: #4c78a8; stroke-width: 2; opacity: 0.7;\"></path><path transform=\"translate(10,90)\" d=\"M2.7386127875258306,0A2.7386127875258306,2.7386127875258306,0,1,1,-2.7386127875258306,0A2.7386127875258306,2.7386127875258306,0,1,1,2.7386127875258306,0\" style=\"fill: #4c78a8; stroke-width: 2; opacity: 0.7;\"></path><path transform=\"translate(50,270)\" d=\"M2.7386127875258306,0A2.7386127875258306,2.7386127875258306,0,1,1,-2.7386127875258306,0A2.7386127875258306,2.7386127875258306,0,1,1,2.7386127875258306,0\" style=\"fill: #4c78a8; stroke-width: 2; opacity: 0.7;\"></path><path transform=\"translate(130,70)\" d=\"M2.7386127875258306,0A2.7386127875258306,2.7386127875258306,0,1,1,-2.7386127875258306,0A2.7386127875258306,2.7386127875258306,0,1,1,2.7386127875258306,0\" style=\"fill: #4c78a8; stroke-width: 2; opacity: 0.7;\"></path><path transform=\"translate(150,230)\" d=\"M2.7386127875258306,0A2.7386127875258306,2.7386127875258306,0,1,1,-2.7386127875258306,0A2.7386127875258306,2.7386127875258306,0,1,1,2.7386127875258306,0\" style=\"fill: #4c78a8; stroke-width: 2; opacity: 0.7;\"></path><path transform=\"translate(70,150)\" d=\"M2.7386127875258306,0A2.7386127875258306,2.7386127875258306,0,1,1,-2.7386127875258306,0A2.7386127875258306,2.7386127875258306,0,1,1,2.7386127875258306,0\" style=\"fill: #4c78a8; stroke-width: 2; opacity: 0.7;\"></path><path transform=\"translate(170,110)\" d=\"M2.7386127875258306,0A2.7386127875258306,2.7386127875258306,0,1,1,-2.7386127875258306,0A2.7386127875258306,2.7386127875258306,0,1,1,2.7386127875258306,0\" style=\"fill: #4c78a8; stroke-width: 2; opacity: 0.7;\"></path><path transform=\"translate(170,90)\" d=\"M2.7386127875258306,0A2.7386127875258306,2.7386127875258306,0,1,1,-2.7386127875258306,0A2.7386127875258306,2.7386127875258306,0,1,1,2.7386127875258306,0\" style=\"fill: #4c78a8; stroke-width: 2; opacity: 0.7;\"></path><path transform=\"translate(90,130)\" d=\"M2.7386127875258306,0A2.7386127875258306,2.7386127875258306,0,1,1,-2.7386127875258306,0A2.7386127875258306,2.7386127875258306,0,1,1,2.7386127875258306,0\" style=\"fill: #4c78a8; stroke-width: 2; opacity: 0.7;\"></path><path transform=\"translate(170,70)\" d=\"M2.7386127875258306,0A2.7386127875258306,2.7386127875258306,0,1,1,-2.7386127875258306,0A2.7386127875258306,2.7386127875258306,0,1,1,2.7386127875258306,0\" style=\"fill: #4c78a8; stroke-width: 2; opacity: 0.7;\"></path><path transform=\"translate(50,250)\" d=\"M2.7386127875258306,0A2.7386127875258306,2.7386127875258306,0,1,1,-2.7386127875258306,0A2.7386127875258306,2.7386127875258306,0,1,1,2.7386127875258306,0\" style=\"fill: #4c78a8; stroke-width: 2; opacity: 0.7;\"></path><path transform=\"translate(150,210)\" d=\"M2.7386127875258306,0A2.7386127875258306,2.7386127875258306,0,1,1,-2.7386127875258306,0A2.7386127875258306,2.7386127875258306,0,1,1,2.7386127875258306,0\" style=\"fill: #4c78a8; stroke-width: 2; opacity: 0.7;\"></path><path transform=\"translate(110,210)\" d=\"M2.7386127875258306,0A2.7386127875258306,2.7386127875258306,0,1,1,-2.7386127875258306,0A2.7386127875258306,2.7386127875258306,0,1,1,2.7386127875258306,0\" style=\"fill: #4c78a8; stroke-width: 2; opacity: 0.7;\"></path><path transform=\"translate(130,50)\" d=\"M2.7386127875258306,0A2.7386127875258306,2.7386127875258306,0,1,1,-2.7386127875258306,0A2.7386127875258306,2.7386127875258306,0,1,1,2.7386127875258306,0\" style=\"fill: #4c78a8; stroke-width: 2; opacity: 0.7;\"></path><path transform=\"translate(170,50)\" d=\"M2.7386127875258306,0A2.7386127875258306,2.7386127875258306,0,1,1,-2.7386127875258306,0A2.7386127875258306,2.7386127875258306,0,1,1,2.7386127875258306,0\" style=\"fill: #4c78a8; stroke-width: 2; opacity: 0.7;\"></path><path transform=\"translate(70,130)\" d=\"M2.7386127875258306,0A2.7386127875258306,2.7386127875258306,0,1,1,-2.7386127875258306,0A2.7386127875258306,2.7386127875258306,0,1,1,2.7386127875258306,0\" style=\"fill: #4c78a8; stroke-width: 2; opacity: 0.7;\"></path><path transform=\"translate(30,190)\" d=\"M2.7386127875258306,0A2.7386127875258306,2.7386127875258306,0,1,1,-2.7386127875258306,0A2.7386127875258306,2.7386127875258306,0,1,1,2.7386127875258306,0\" style=\"fill: #4c78a8; stroke-width: 2; opacity: 0.7;\"></path><path transform=\"translate(110,190)\" d=\"M2.7386127875258306,0A2.7386127875258306,2.7386127875258306,0,1,1,-2.7386127875258306,0A2.7386127875258306,2.7386127875258306,0,1,1,2.7386127875258306,0\" style=\"fill: #4c78a8; stroke-width: 2; opacity: 0.7;\"></path><path transform=\"translate(170,30)\" d=\"M2.7386127875258306,0A2.7386127875258306,2.7386127875258306,0,1,1,-2.7386127875258306,0A2.7386127875258306,2.7386127875258306,0,1,1,2.7386127875258306,0\" style=\"fill: #4c78a8; stroke-width: 2; opacity: 0.7;\"></path><path transform=\"translate(130,30)\" d=\"M2.7386127875258306,0A2.7386127875258306,2.7386127875258306,0,1,1,-2.7386127875258306,0A2.7386127875258306,2.7386127875258306,0,1,1,2.7386127875258306,0\" style=\"fill: #4c78a8; stroke-width: 2; opacity: 0.7;\"></path><path transform=\"translate(90,110)\" d=\"M2.7386127875258306,0A2.7386127875258306,2.7386127875258306,0,1,1,-2.7386127875258306,0A2.7386127875258306,2.7386127875258306,0,1,1,2.7386127875258306,0\" style=\"fill: #4c78a8; stroke-width: 2; opacity: 0.7;\"></path><path transform=\"translate(110,170)\" d=\"M2.7386127875258306,0A2.7386127875258306,2.7386127875258306,0,1,1,-2.7386127875258306,0A2.7386127875258306,2.7386127875258306,0,1,1,2.7386127875258306,0\" style=\"fill: #4c78a8; stroke-width: 2; opacity: 0.7;\"></path><path transform=\"translate(150,190)\" d=\"M2.7386127875258306,0A2.7386127875258306,2.7386127875258306,0,1,1,-2.7386127875258306,0A2.7386127875258306,2.7386127875258306,0,1,1,2.7386127875258306,0\" style=\"fill: #4c78a8; stroke-width: 2; opacity: 0.7;\"></path><path transform=\"translate(70,110)\" d=\"M2.7386127875258306,0A2.7386127875258306,2.7386127875258306,0,1,1,-2.7386127875258306,0A2.7386127875258306,2.7386127875258306,0,1,1,2.7386127875258306,0\" style=\"fill: #4c78a8; stroke-width: 2; opacity: 0.7;\"></path><path transform=\"translate(90,90)\" d=\"M2.7386127875258306,0A2.7386127875258306,2.7386127875258306,0,1,1,-2.7386127875258306,0A2.7386127875258306,2.7386127875258306,0,1,1,2.7386127875258306,0\" style=\"fill: #4c78a8; stroke-width: 2; opacity: 0.7;\"></path><path transform=\"translate(170,10)\" d=\"M2.7386127875258306,0A2.7386127875258306,2.7386127875258306,0,1,1,-2.7386127875258306,0A2.7386127875258306,2.7386127875258306,0,1,1,2.7386127875258306,0\" style=\"fill: #4c78a8; stroke-width: 2; opacity: 0.7;\"></path><path transform=\"translate(150,170)\" d=\"M2.7386127875258306,0A2.7386127875258306,2.7386127875258306,0,1,1,-2.7386127875258306,0A2.7386127875258306,2.7386127875258306,0,1,1,2.7386127875258306,0\" style=\"fill: #4c78a8; stroke-width: 2; opacity: 0.7;\"></path><path transform=\"translate(150,150)\" d=\"M2.7386127875258306,0A2.7386127875258306,2.7386127875258306,0,1,1,-2.7386127875258306,0A2.7386127875258306,2.7386127875258306,0,1,1,2.7386127875258306,0\" style=\"fill: #4c78a8; stroke-width: 2; opacity: 0.7;\"></path><path transform=\"translate(50,230)\" d=\"M2.7386127875258306,0A2.7386127875258306,2.7386127875258306,0,1,1,-2.7386127875258306,0A2.7386127875258306,2.7386127875258306,0,1,1,2.7386127875258306,0\" style=\"fill: #4c78a8; stroke-width: 2; opacity: 0.7;\"></path><path transform=\"translate(130,10)\" d=\"M2.7386127875258306,0A2.7386127875258306,2.7386127875258306,0,1,1,-2.7386127875258306,0A2.7386127875258306,2.7386127875258306,0,1,1,2.7386127875258306,0\" style=\"fill: #4c78a8; stroke-width: 2; opacity: 0.7;\"></path><path transform=\"translate(50,210)\" d=\"M2.7386127875258306,0A2.7386127875258306,2.7386127875258306,0,1,1,-2.7386127875258306,0A2.7386127875258306,2.7386127875258306,0,1,1,2.7386127875258306,0\" style=\"fill: #4c78a8; stroke-width: 2; opacity: 0.7;\"></path><path transform=\"translate(90,70)\" d=\"M2.7386127875258306,0A2.7386127875258306,2.7386127875258306,0,1,1,-2.7386127875258306,0A2.7386127875258306,2.7386127875258306,0,1,1,2.7386127875258306,0\" style=\"fill: #4c78a8; stroke-width: 2; opacity: 0.7;\"></path><path transform=\"translate(30,170)\" d=\"M2.7386127875258306,0A2.7386127875258306,2.7386127875258306,0,1,1,-2.7386127875258306,0A2.7386127875258306,2.7386127875258306,0,1,1,2.7386127875258306,0\" style=\"fill: #4c78a8; stroke-width: 2; opacity: 0.7;\"></path><path transform=\"translate(30,150)\" d=\"M2.7386127875258306,0A2.7386127875258306,2.7386127875258306,0,1,1,-2.7386127875258306,0A2.7386127875258306,2.7386127875258306,0,1,1,2.7386127875258306,0\" style=\"fill: #4c78a8; stroke-width: 2; opacity: 0.7;\"></path></g><g class=\"mark-group role-axis\"><g transform=\"translate(0.5,320.5)\"><path class=\"background\" d=\"M0,0h0v0h0Z\" style=\"pointer-events: none; fill: none;\"></path><g><g class=\"mark-rule role-axis-tick\" style=\"pointer-events: none;\"><line transform=\"translate(10,0)\" x2=\"0\" y2=\"5\" style=\"fill: none; stroke: #888; stroke-width: 1; opacity: 1;\"></line><line transform=\"translate(30,0)\" x2=\"0\" y2=\"5\" style=\"fill: none; stroke: #888; stroke-width: 1; opacity: 1;\"></line><line transform=\"translate(50,0)\" x2=\"0\" y2=\"5\" style=\"fill: none; stroke: #888; stroke-width: 1; opacity: 1;\"></line><line transform=\"translate(70,0)\" x2=\"0\" y2=\"5\" style=\"fill: none; stroke: #888; stroke-width: 1; opacity: 1;\"></line><line transform=\"translate(90,0)\" x2=\"0\" y2=\"5\" style=\"fill: none; stroke: #888; stroke-width: 1; opacity: 1;\"></line><line transform=\"translate(110,0)\" x2=\"0\" y2=\"5\" style=\"fill: none; stroke: #888; stroke-width: 1; opacity: 1;\"></line><line transform=\"translate(130,0)\" x2=\"0\" y2=\"5\" style=\"fill: none; stroke: #888; stroke-width: 1; opacity: 1;\"></line><line transform=\"translate(150,0)\" x2=\"0\" y2=\"5\" style=\"fill: none; stroke: #888; stroke-width: 1; opacity: 1;\"></line><line transform=\"translate(170,0)\" x2=\"0\" y2=\"5\" style=\"fill: none; stroke: #888; stroke-width: 1; opacity: 1;\"></line></g><g class=\"mark-text role-axis-label\" style=\"pointer-events: none;\"><text text-anchor=\"end\" transform=\"translate(10,7) rotate(270) translate(0,3)\" style=\"font-family: sans-serif; font-size: 10px; fill: #000; opacity: 1;\">0</text><text text-anchor=\"end\" transform=\"translate(30,7) rotate(270) translate(0,3)\" style=\"font-family: sans-serif; font-size: 10px; fill: #000; opacity: 1;\">1</text><text text-anchor=\"end\" transform=\"translate(50,7) rotate(270) translate(0,3)\" style=\"font-family: sans-serif; font-size: 10px; fill: #000; opacity: 1;\">2</text><text text-anchor=\"end\" transform=\"translate(70,7) rotate(270) translate(0,3)\" style=\"font-family: sans-serif; font-size: 10px; fill: #000; opacity: 1;\">3</text><text text-anchor=\"end\" transform=\"translate(90,7) rotate(270) translate(0,3)\" style=\"font-family: sans-serif; font-size: 10px; fill: #000; opacity: 1;\">4</text><text text-anchor=\"end\" transform=\"translate(110,7) rotate(270) translate(0,3)\" style=\"font-family: sans-serif; font-size: 10px; fill: #000; opacity: 1;\">5</text><text text-anchor=\"end\" transform=\"translate(130,7) rotate(270) translate(0,3)\" style=\"font-family: sans-serif; font-size: 10px; fill: #000; opacity: 1;\">6</text><text text-anchor=\"end\" transform=\"translate(150,7) rotate(270) translate(0,3)\" style=\"font-family: sans-serif; font-size: 10px; fill: #000; opacity: 1;\">7</text><text text-anchor=\"end\" transform=\"translate(170,7) rotate(270) translate(0,3)\" style=\"font-family: sans-serif; font-size: 10px; fill: #000; opacity: 1;\">8</text></g><g class=\"mark-rule role-axis-domain\" style=\"pointer-events: none;\"><line transform=\"translate(0,0)\" x2=\"180\" y2=\"0\" style=\"fill: none; stroke: #888; stroke-width: 1; opacity: 1;\"></line></g><g class=\"mark-text role-axis-title\" style=\"pointer-events: none;\"><text text-anchor=\"middle\" transform=\"translate(90,26)\" style=\"font-family: sans-serif; font-size: 11px; font-weight: bold; fill: #000; opacity: 1;\">x1</text></g></g></g></g><g class=\"mark-group role-axis\"><g transform=\"translate(0.5,0.5)\"><path class=\"background\" d=\"M0,0h0v0h0Z\" style=\"pointer-events: none; fill: none;\"></path><g><g class=\"mark-rule role-axis-tick\" style=\"pointer-events: none;\"><line transform=\"translate(0,10)\" x2=\"-5\" y2=\"0\" style=\"fill: none; stroke: #888; stroke-width: 1; opacity: 1;\"></line><line transform=\"translate(0,30)\" x2=\"-5\" y2=\"0\" style=\"fill: none; stroke: #888; stroke-width: 1; opacity: 1;\"></line><line transform=\"translate(0,50)\" x2=\"-5\" y2=\"0\" style=\"fill: none; stroke: #888; stroke-width: 1; opacity: 1;\"></line><line transform=\"translate(0,70)\" x2=\"-5\" y2=\"0\" style=\"fill: none; stroke: #888; stroke-width: 1; opacity: 1;\"></line><line transform=\"translate(0,90)\" x2=\"-5\" y2=\"0\" style=\"fill: none; stroke: #888; stroke-width: 1; opacity: 1;\"></line><line transform=\"translate(0,110)\" x2=\"-5\" y2=\"0\" style=\"fill: none; stroke: #888; stroke-width: 1; opacity: 1;\"></line><line transform=\"translate(0,130)\" x2=\"-5\" y2=\"0\" style=\"fill: none; stroke: #888; stroke-width: 1; opacity: 1;\"></line><line transform=\"translate(0,150)\" x2=\"-5\" y2=\"0\" style=\"fill: none; stroke: #888; stroke-width: 1; opacity: 1;\"></line><line transform=\"translate(0,170)\" x2=\"-5\" y2=\"0\" style=\"fill: none; stroke: #888; stroke-width: 1; opacity: 1;\"></line><line transform=\"translate(0,190)\" x2=\"-5\" y2=\"0\" style=\"fill: none; stroke: #888; stroke-width: 1; opacity: 1;\"></line><line transform=\"translate(0,210)\" x2=\"-5\" y2=\"0\" style=\"fill: none; stroke: #888; stroke-width: 1; opacity: 1;\"></line><line transform=\"translate(0,230)\" x2=\"-5\" y2=\"0\" style=\"fill: none; stroke: #888; stroke-width: 1; opacity: 1;\"></line><line transform=\"translate(0,250)\" x2=\"-5\" y2=\"0\" style=\"fill: none; stroke: #888; stroke-width: 1; opacity: 1;\"></line><line transform=\"translate(0,270)\" x2=\"-5\" y2=\"0\" style=\"fill: none; stroke: #888; stroke-width: 1; opacity: 1;\"></line><line transform=\"translate(0,290)\" x2=\"-5\" y2=\"0\" style=\"fill: none; stroke: #888; stroke-width: 1; opacity: 1;\"></line><line transform=\"translate(0,310)\" x2=\"-5\" y2=\"0\" style=\"fill: none; stroke: #888; stroke-width: 1; opacity: 1;\"></line></g><g class=\"mark-text role-axis-label\" style=\"pointer-events: none;\"><text text-anchor=\"end\" transform=\"translate(-7,13)\" style=\"font-family: sans-serif; font-size: 10px; fill: #000; opacity: 1;\">16</text><text text-anchor=\"end\" transform=\"translate(-7,33)\" style=\"font-family: sans-serif; font-size: 10px; fill: #000; opacity: 1;\">15</text><text text-anchor=\"end\" transform=\"translate(-7,53)\" style=\"font-family: sans-serif; font-size: 10px; fill: #000; opacity: 1;\">14</text><text text-anchor=\"end\" transform=\"translate(-7,73)\" style=\"font-family: sans-serif; font-size: 10px; fill: #000; opacity: 1;\">13</text><text text-anchor=\"end\" transform=\"translate(-7,93)\" style=\"font-family: sans-serif; font-size: 10px; fill: #000; opacity: 1;\">12</text><text text-anchor=\"end\" transform=\"translate(-7,113)\" style=\"font-family: sans-serif; font-size: 10px; fill: #000; opacity: 1;\">11</text><text text-anchor=\"end\" transform=\"translate(-7,133)\" style=\"font-family: sans-serif; font-size: 10px; fill: #000; opacity: 1;\">10</text><text text-anchor=\"end\" transform=\"translate(-7,153)\" style=\"font-family: sans-serif; font-size: 10px; fill: #000; opacity: 1;\">9</text><text text-anchor=\"end\" transform=\"translate(-7,173)\" style=\"font-family: sans-serif; font-size: 10px; fill: #000; opacity: 1;\">8</text><text text-anchor=\"end\" transform=\"translate(-7,193)\" style=\"font-family: sans-serif; font-size: 10px; fill: #000; opacity: 1;\">7</text><text text-anchor=\"end\" transform=\"translate(-7,213)\" style=\"font-family: sans-serif; font-size: 10px; fill: #000; opacity: 1;\">6</text><text text-anchor=\"end\" transform=\"translate(-7,233)\" style=\"font-family: sans-serif; font-size: 10px; fill: #000; opacity: 1;\">5</text><text text-anchor=\"end\" transform=\"translate(-7,253)\" style=\"font-family: sans-serif; font-size: 10px; fill: #000; opacity: 1;\">4</text><text text-anchor=\"end\" transform=\"translate(-7,273)\" style=\"font-family: sans-serif; font-size: 10px; fill: #000; opacity: 1;\">3</text><text text-anchor=\"end\" transform=\"translate(-7,293)\" style=\"font-family: sans-serif; font-size: 10px; fill: #000; opacity: 1;\">2</text><text text-anchor=\"end\" transform=\"translate(-7,313)\" style=\"font-family: sans-serif; font-size: 10px; fill: #000; opacity: 1;\">1</text></g><g class=\"mark-rule role-axis-domain\" style=\"pointer-events: none;\"><line transform=\"translate(0,0)\" x2=\"0\" y2=\"320\" style=\"fill: none; stroke: #888; stroke-width: 1; opacity: 1;\"></line></g><g class=\"mark-text role-axis-title\" style=\"pointer-events: none;\"><text text-anchor=\"middle\" transform=\"translate(-23,160) rotate(-90) translate(0,-2)\" style=\"font-family: sans-serif; font-size: 11px; font-weight: bold; fill: #000; opacity: 1;\">id</text></g></g></g></g></g></g></g></g></svg>"
      ],
      "text/plain": [
       "VegaLite.VLSpec{:plot}"
      ]
     },
     "execution_count": 459,
     "metadata": {},
     "output_type": "execute_result"
    }
   ],
   "source": [
    "@vlplot(\n",
    "    data=df,\n",
    "    transform=[{\n",
    "        window=[{op=\"rank\",\"as\"=\"id\"}],\n",
    "        groupby=[\"x1\"]\n",
    "    }],\n",
    "    mark={:circle},\n",
    "    encoding={\n",
    "        x=\"x1:o\",\n",
    "        y={\"id:o\", \"axis\"=:null, \"sort\"=\"descending\"}\n",
    "    }\n",
    "    )\n"
   ]
  },
  {
   "cell_type": "code",
   "execution_count": 2,
   "metadata": {},
   "outputs": [
    {
     "data": {
      "application/vnd.dataresource+json": {
       "data": [
        {
         "Acceleration": 12,
         "Cylinders": 8,
         "Displacement": 307,
         "Horsepower": 130,
         "Miles_per_Gallon": 18,
         "Name": "chevrolet chevelle malibu",
         "Origin": "USA",
         "Weight_in_lbs": 3504,
         "Year": "1970-01-01"
        },
        {
         "Acceleration": 11.5,
         "Cylinders": 8,
         "Displacement": 350,
         "Horsepower": 165,
         "Miles_per_Gallon": 15,
         "Name": "buick skylark 320",
         "Origin": "USA",
         "Weight_in_lbs": 3693,
         "Year": "1970-01-01"
        },
        {
         "Acceleration": 11,
         "Cylinders": 8,
         "Displacement": 318,
         "Horsepower": 150,
         "Miles_per_Gallon": 18,
         "Name": "plymouth satellite",
         "Origin": "USA",
         "Weight_in_lbs": 3436,
         "Year": "1970-01-01"
        },
        {
         "Acceleration": 12,
         "Cylinders": 8,
         "Displacement": 304,
         "Horsepower": 150,
         "Miles_per_Gallon": 16,
         "Name": "amc rebel sst",
         "Origin": "USA",
         "Weight_in_lbs": 3433,
         "Year": "1970-01-01"
        },
        {
         "Acceleration": 10.5,
         "Cylinders": 8,
         "Displacement": 302,
         "Horsepower": 140,
         "Miles_per_Gallon": 17,
         "Name": "ford torino",
         "Origin": "USA",
         "Weight_in_lbs": 3449,
         "Year": "1970-01-01"
        },
        {
         "Acceleration": 10,
         "Cylinders": 8,
         "Displacement": 429,
         "Horsepower": 198,
         "Miles_per_Gallon": 15,
         "Name": "ford galaxie 500",
         "Origin": "USA",
         "Weight_in_lbs": 4341,
         "Year": "1970-01-01"
        },
        {
         "Acceleration": 9,
         "Cylinders": 8,
         "Displacement": 454,
         "Horsepower": 220,
         "Miles_per_Gallon": 14,
         "Name": "chevrolet impala",
         "Origin": "USA",
         "Weight_in_lbs": 4354,
         "Year": "1970-01-01"
        },
        {
         "Acceleration": 8.5,
         "Cylinders": 8,
         "Displacement": 440,
         "Horsepower": 215,
         "Miles_per_Gallon": 14,
         "Name": "plymouth fury iii",
         "Origin": "USA",
         "Weight_in_lbs": 4312,
         "Year": "1970-01-01"
        },
        {
         "Acceleration": 10,
         "Cylinders": 8,
         "Displacement": 455,
         "Horsepower": 225,
         "Miles_per_Gallon": 14,
         "Name": "pontiac catalina",
         "Origin": "USA",
         "Weight_in_lbs": 4425,
         "Year": "1970-01-01"
        },
        {
         "Acceleration": 8.5,
         "Cylinders": 8,
         "Displacement": 390,
         "Horsepower": 190,
         "Miles_per_Gallon": 15,
         "Name": "amc ambassador dpl",
         "Origin": "USA",
         "Weight_in_lbs": 3850,
         "Year": "1970-01-01"
        },
        {
         "Acceleration": 17.5,
         "Cylinders": 4,
         "Displacement": 133,
         "Horsepower": 115,
         "Miles_per_Gallon": null,
         "Name": "citroen ds-21 pallas",
         "Origin": "Europe",
         "Weight_in_lbs": 3090,
         "Year": "1970-01-01"
        },
        {
         "Acceleration": 11.5,
         "Cylinders": 8,
         "Displacement": 350,
         "Horsepower": 165,
         "Miles_per_Gallon": null,
         "Name": "chevrolet chevelle concours (sw)",
         "Origin": "USA",
         "Weight_in_lbs": 4142,
         "Year": "1970-01-01"
        },
        {
         "Acceleration": 11,
         "Cylinders": 8,
         "Displacement": 351,
         "Horsepower": 153,
         "Miles_per_Gallon": null,
         "Name": "ford torino (sw)",
         "Origin": "USA",
         "Weight_in_lbs": 4034,
         "Year": "1970-01-01"
        },
        {
         "Acceleration": 10.5,
         "Cylinders": 8,
         "Displacement": 383,
         "Horsepower": 175,
         "Miles_per_Gallon": null,
         "Name": "plymouth satellite (sw)",
         "Origin": "USA",
         "Weight_in_lbs": 4166,
         "Year": "1970-01-01"
        },
        {
         "Acceleration": 11,
         "Cylinders": 8,
         "Displacement": 360,
         "Horsepower": 175,
         "Miles_per_Gallon": null,
         "Name": "amc rebel sst (sw)",
         "Origin": "USA",
         "Weight_in_lbs": 3850,
         "Year": "1970-01-01"
        },
        {
         "Acceleration": 10,
         "Cylinders": 8,
         "Displacement": 383,
         "Horsepower": 170,
         "Miles_per_Gallon": 15,
         "Name": "dodge challenger se",
         "Origin": "USA",
         "Weight_in_lbs": 3563,
         "Year": "1970-01-01"
        },
        {
         "Acceleration": 8,
         "Cylinders": 8,
         "Displacement": 340,
         "Horsepower": 160,
         "Miles_per_Gallon": 14,
         "Name": "plymouth 'cuda 340",
         "Origin": "USA",
         "Weight_in_lbs": 3609,
         "Year": "1970-01-01"
        },
        {
         "Acceleration": 8,
         "Cylinders": 8,
         "Displacement": 302,
         "Horsepower": 140,
         "Miles_per_Gallon": null,
         "Name": "ford mustang boss 302",
         "Origin": "USA",
         "Weight_in_lbs": 3353,
         "Year": "1970-01-01"
        },
        {
         "Acceleration": 9.5,
         "Cylinders": 8,
         "Displacement": 400,
         "Horsepower": 150,
         "Miles_per_Gallon": 15,
         "Name": "chevrolet monte carlo",
         "Origin": "USA",
         "Weight_in_lbs": 3761,
         "Year": "1970-01-01"
        },
        {
         "Acceleration": 10,
         "Cylinders": 8,
         "Displacement": 455,
         "Horsepower": 225,
         "Miles_per_Gallon": 14,
         "Name": "buick estate wagon (sw)",
         "Origin": "USA",
         "Weight_in_lbs": 3086,
         "Year": "1970-01-01"
        },
        {
         "Acceleration": 15,
         "Cylinders": 4,
         "Displacement": 113,
         "Horsepower": 95,
         "Miles_per_Gallon": 24,
         "Name": "toyota corona mark ii",
         "Origin": "Japan",
         "Weight_in_lbs": 2372,
         "Year": "1970-01-01"
        },
        {
         "Acceleration": 15.5,
         "Cylinders": 6,
         "Displacement": 198,
         "Horsepower": 95,
         "Miles_per_Gallon": 22,
         "Name": "plymouth duster",
         "Origin": "USA",
         "Weight_in_lbs": 2833,
         "Year": "1970-01-01"
        },
        {
         "Acceleration": 15.5,
         "Cylinders": 6,
         "Displacement": 199,
         "Horsepower": 97,
         "Miles_per_Gallon": 18,
         "Name": "amc hornet",
         "Origin": "USA",
         "Weight_in_lbs": 2774,
         "Year": "1970-01-01"
        },
        {
         "Acceleration": 16,
         "Cylinders": 6,
         "Displacement": 200,
         "Horsepower": 85,
         "Miles_per_Gallon": 21,
         "Name": "ford maverick",
         "Origin": "USA",
         "Weight_in_lbs": 2587,
         "Year": "1970-01-01"
        },
        {
         "Acceleration": 14.5,
         "Cylinders": 4,
         "Displacement": 97,
         "Horsepower": 88,
         "Miles_per_Gallon": 27,
         "Name": "datsun pl510",
         "Origin": "Japan",
         "Weight_in_lbs": 2130,
         "Year": "1970-01-01"
        },
        {
         "Acceleration": 20.5,
         "Cylinders": 4,
         "Displacement": 97,
         "Horsepower": 46,
         "Miles_per_Gallon": 26,
         "Name": "volkswagen 1131 deluxe sedan",
         "Origin": "Europe",
         "Weight_in_lbs": 1835,
         "Year": "1970-01-01"
        },
        {
         "Acceleration": 17.5,
         "Cylinders": 4,
         "Displacement": 110,
         "Horsepower": 87,
         "Miles_per_Gallon": 25,
         "Name": "peugeot 504",
         "Origin": "Europe",
         "Weight_in_lbs": 2672,
         "Year": "1970-01-01"
        },
        {
         "Acceleration": 14.5,
         "Cylinders": 4,
         "Displacement": 107,
         "Horsepower": 90,
         "Miles_per_Gallon": 24,
         "Name": "audi 100 ls",
         "Origin": "Europe",
         "Weight_in_lbs": 2430,
         "Year": "1970-01-01"
        },
        {
         "Acceleration": 17.5,
         "Cylinders": 4,
         "Displacement": 104,
         "Horsepower": 95,
         "Miles_per_Gallon": 25,
         "Name": "saab 99e",
         "Origin": "Europe",
         "Weight_in_lbs": 2375,
         "Year": "1970-01-01"
        },
        {
         "Acceleration": 12.5,
         "Cylinders": 4,
         "Displacement": 121,
         "Horsepower": 113,
         "Miles_per_Gallon": 26,
         "Name": "bmw 2002",
         "Origin": "Europe",
         "Weight_in_lbs": 2234,
         "Year": "1970-01-01"
        },
        {
         "Acceleration": 15,
         "Cylinders": 6,
         "Displacement": 199,
         "Horsepower": 90,
         "Miles_per_Gallon": 21,
         "Name": "amc gremlin",
         "Origin": "USA",
         "Weight_in_lbs": 2648,
         "Year": "1970-01-01"
        },
        {
         "Acceleration": 14,
         "Cylinders": 8,
         "Displacement": 360,
         "Horsepower": 215,
         "Miles_per_Gallon": 10,
         "Name": "ford f250",
         "Origin": "USA",
         "Weight_in_lbs": 4615,
         "Year": "1970-01-01"
        },
        {
         "Acceleration": 15,
         "Cylinders": 8,
         "Displacement": 307,
         "Horsepower": 200,
         "Miles_per_Gallon": 10,
         "Name": "chevy c20",
         "Origin": "USA",
         "Weight_in_lbs": 4376,
         "Year": "1970-01-01"
        },
        {
         "Acceleration": 13.5,
         "Cylinders": 8,
         "Displacement": 318,
         "Horsepower": 210,
         "Miles_per_Gallon": 11,
         "Name": "dodge d200",
         "Origin": "USA",
         "Weight_in_lbs": 4382,
         "Year": "1970-01-01"
        },
        {
         "Acceleration": 18.5,
         "Cylinders": 8,
         "Displacement": 304,
         "Horsepower": 193,
         "Miles_per_Gallon": 9,
         "Name": "hi 1200d",
         "Origin": "USA",
         "Weight_in_lbs": 4732,
         "Year": "1970-01-01"
        },
        {
         "Acceleration": 14.5,
         "Cylinders": 4,
         "Displacement": 97,
         "Horsepower": 88,
         "Miles_per_Gallon": 27,
         "Name": "datsun pl510",
         "Origin": "Japan",
         "Weight_in_lbs": 2130,
         "Year": "1971-01-01"
        },
        {
         "Acceleration": 15.5,
         "Cylinders": 4,
         "Displacement": 140,
         "Horsepower": 90,
         "Miles_per_Gallon": 28,
         "Name": "chevrolet vega 2300",
         "Origin": "USA",
         "Weight_in_lbs": 2264,
         "Year": "1971-01-01"
        },
        {
         "Acceleration": 14,
         "Cylinders": 4,
         "Displacement": 113,
         "Horsepower": 95,
         "Miles_per_Gallon": 25,
         "Name": "toyota corona",
         "Origin": "Japan",
         "Weight_in_lbs": 2228,
         "Year": "1971-01-01"
        },
        {
         "Acceleration": 19,
         "Cylinders": 4,
         "Displacement": 98,
         "Horsepower": null,
         "Miles_per_Gallon": 25,
         "Name": "ford pinto",
         "Origin": "USA",
         "Weight_in_lbs": 2046,
         "Year": "1971-01-01"
        },
        {
         "Acceleration": 20,
         "Cylinders": 4,
         "Displacement": 97,
         "Horsepower": 48,
         "Miles_per_Gallon": null,
         "Name": "volkswagen super beetle 117",
         "Origin": "Europe",
         "Weight_in_lbs": 1978,
         "Year": "1971-01-01"
        },
        {
         "Acceleration": 13,
         "Cylinders": 6,
         "Displacement": 232,
         "Horsepower": 100,
         "Miles_per_Gallon": 19,
         "Name": "amc gremlin",
         "Origin": "USA",
         "Weight_in_lbs": 2634,
         "Year": "1971-01-01"
        },
        {
         "Acceleration": 15.5,
         "Cylinders": 6,
         "Displacement": 225,
         "Horsepower": 105,
         "Miles_per_Gallon": 16,
         "Name": "plymouth satellite custom",
         "Origin": "USA",
         "Weight_in_lbs": 3439,
         "Year": "1971-01-01"
        },
        {
         "Acceleration": 15.5,
         "Cylinders": 6,
         "Displacement": 250,
         "Horsepower": 100,
         "Miles_per_Gallon": 17,
         "Name": "chevrolet chevelle malibu",
         "Origin": "USA",
         "Weight_in_lbs": 3329,
         "Year": "1971-01-01"
        },
        {
         "Acceleration": 15.5,
         "Cylinders": 6,
         "Displacement": 250,
         "Horsepower": 88,
         "Miles_per_Gallon": 19,
         "Name": "ford torino 500",
         "Origin": "USA",
         "Weight_in_lbs": 3302,
         "Year": "1971-01-01"
        },
        {
         "Acceleration": 15.5,
         "Cylinders": 6,
         "Displacement": 232,
         "Horsepower": 100,
         "Miles_per_Gallon": 18,
         "Name": "amc matador",
         "Origin": "USA",
         "Weight_in_lbs": 3288,
         "Year": "1971-01-01"
        },
        {
         "Acceleration": 12,
         "Cylinders": 8,
         "Displacement": 350,
         "Horsepower": 165,
         "Miles_per_Gallon": 14,
         "Name": "chevrolet impala",
         "Origin": "USA",
         "Weight_in_lbs": 4209,
         "Year": "1971-01-01"
        },
        {
         "Acceleration": 11.5,
         "Cylinders": 8,
         "Displacement": 400,
         "Horsepower": 175,
         "Miles_per_Gallon": 14,
         "Name": "pontiac catalina brougham",
         "Origin": "USA",
         "Weight_in_lbs": 4464,
         "Year": "1971-01-01"
        },
        {
         "Acceleration": 13.5,
         "Cylinders": 8,
         "Displacement": 351,
         "Horsepower": 153,
         "Miles_per_Gallon": 14,
         "Name": "ford galaxie 500",
         "Origin": "USA",
         "Weight_in_lbs": 4154,
         "Year": "1971-01-01"
        },
        {
         "Acceleration": 13,
         "Cylinders": 8,
         "Displacement": 318,
         "Horsepower": 150,
         "Miles_per_Gallon": 14,
         "Name": "plymouth fury iii",
         "Origin": "USA",
         "Weight_in_lbs": 4096,
         "Year": "1971-01-01"
        },
        {
         "Acceleration": 11.5,
         "Cylinders": 8,
         "Displacement": 383,
         "Horsepower": 180,
         "Miles_per_Gallon": 12,
         "Name": "dodge monaco (sw)",
         "Origin": "USA",
         "Weight_in_lbs": 4955,
         "Year": "1971-01-01"
        },
        {
         "Acceleration": 12,
         "Cylinders": 8,
         "Displacement": 400,
         "Horsepower": 170,
         "Miles_per_Gallon": 13,
         "Name": "ford country squire (sw)",
         "Origin": "USA",
         "Weight_in_lbs": 4746,
         "Year": "1971-01-01"
        },
        {
         "Acceleration": 12,
         "Cylinders": 8,
         "Displacement": 400,
         "Horsepower": 175,
         "Miles_per_Gallon": 13,
         "Name": "pontiac safari (sw)",
         "Origin": "USA",
         "Weight_in_lbs": 5140,
         "Year": "1971-01-01"
        },
        {
         "Acceleration": 13.5,
         "Cylinders": 6,
         "Displacement": 258,
         "Horsepower": 110,
         "Miles_per_Gallon": 18,
         "Name": "amc hornet sportabout (sw)",
         "Origin": "USA",
         "Weight_in_lbs": 2962,
         "Year": "1971-01-01"
        },
        {
         "Acceleration": 19,
         "Cylinders": 4,
         "Displacement": 140,
         "Horsepower": 72,
         "Miles_per_Gallon": 22,
         "Name": "chevrolet vega (sw)",
         "Origin": "USA",
         "Weight_in_lbs": 2408,
         "Year": "1971-01-01"
        },
        {
         "Acceleration": 15,
         "Cylinders": 6,
         "Displacement": 250,
         "Horsepower": 100,
         "Miles_per_Gallon": 19,
         "Name": "pontiac firebird",
         "Origin": "USA",
         "Weight_in_lbs": 3282,
         "Year": "1971-01-01"
        },
        {
         "Acceleration": 14.5,
         "Cylinders": 6,
         "Displacement": 250,
         "Horsepower": 88,
         "Miles_per_Gallon": 18,
         "Name": "ford mustang",
         "Origin": "USA",
         "Weight_in_lbs": 3139,
         "Year": "1971-01-01"
        },
        {
         "Acceleration": 14,
         "Cylinders": 4,
         "Displacement": 122,
         "Horsepower": 86,
         "Miles_per_Gallon": 23,
         "Name": "mercury capri 2000",
         "Origin": "USA",
         "Weight_in_lbs": 2220,
         "Year": "1971-01-01"
        },
        {
         "Acceleration": 14,
         "Cylinders": 4,
         "Displacement": 116,
         "Horsepower": 90,
         "Miles_per_Gallon": 28,
         "Name": "opel 1900",
         "Origin": "Europe",
         "Weight_in_lbs": 2123,
         "Year": "1971-01-01"
        },
        {
         "Acceleration": 19.5,
         "Cylinders": 4,
         "Displacement": 79,
         "Horsepower": 70,
         "Miles_per_Gallon": 30,
         "Name": "peugeot 304",
         "Origin": "Europe",
         "Weight_in_lbs": 2074,
         "Year": "1971-01-01"
        },
        {
         "Acceleration": 14.5,
         "Cylinders": 4,
         "Displacement": 88,
         "Horsepower": 76,
         "Miles_per_Gallon": 30,
         "Name": "fiat 124b",
         "Origin": "Europe",
         "Weight_in_lbs": 2065,
         "Year": "1971-01-01"
        },
        {
         "Acceleration": 19,
         "Cylinders": 4,
         "Displacement": 71,
         "Horsepower": 65,
         "Miles_per_Gallon": 31,
         "Name": "toyota corolla 1200",
         "Origin": "Japan",
         "Weight_in_lbs": 1773,
         "Year": "1971-01-01"
        },
        {
         "Acceleration": 18,
         "Cylinders": 4,
         "Displacement": 72,
         "Horsepower": 69,
         "Miles_per_Gallon": 35,
         "Name": "datsun 1200",
         "Origin": "Japan",
         "Weight_in_lbs": 1613,
         "Year": "1971-01-01"
        },
        {
         "Acceleration": 19,
         "Cylinders": 4,
         "Displacement": 97,
         "Horsepower": 60,
         "Miles_per_Gallon": 27,
         "Name": "volkswagen model 111",
         "Origin": "Europe",
         "Weight_in_lbs": 1834,
         "Year": "1971-01-01"
        },
        {
         "Acceleration": 20.5,
         "Cylinders": 4,
         "Displacement": 91,
         "Horsepower": 70,
         "Miles_per_Gallon": 26,
         "Name": "plymouth cricket",
         "Origin": "USA",
         "Weight_in_lbs": 1955,
         "Year": "1971-01-01"
        },
        {
         "Acceleration": 15.5,
         "Cylinders": 4,
         "Displacement": 113,
         "Horsepower": 95,
         "Miles_per_Gallon": 24,
         "Name": "toyota corona hardtop",
         "Origin": "Japan",
         "Weight_in_lbs": 2278,
         "Year": "1972-01-01"
        },
        {
         "Acceleration": 17,
         "Cylinders": 4,
         "Displacement": 97.5,
         "Horsepower": 80,
         "Miles_per_Gallon": 25,
         "Name": "dodge colt hardtop",
         "Origin": "USA",
         "Weight_in_lbs": 2126,
         "Year": "1972-01-01"
        },
        {
         "Acceleration": 23.5,
         "Cylinders": 4,
         "Displacement": 97,
         "Horsepower": 54,
         "Miles_per_Gallon": 23,
         "Name": "volkswagen type 3",
         "Origin": "Europe",
         "Weight_in_lbs": 2254,
         "Year": "1972-01-01"
        },
        {
         "Acceleration": 19.5,
         "Cylinders": 4,
         "Displacement": 140,
         "Horsepower": 90,
         "Miles_per_Gallon": 20,
         "Name": "chevrolet vega",
         "Origin": "USA",
         "Weight_in_lbs": 2408,
         "Year": "1972-01-01"
        },
        {
         "Acceleration": 16.5,
         "Cylinders": 4,
         "Displacement": 122,
         "Horsepower": 86,
         "Miles_per_Gallon": 21,
         "Name": "ford pinto runabout",
         "Origin": "USA",
         "Weight_in_lbs": 2226,
         "Year": "1972-01-01"
        },
        {
         "Acceleration": 12,
         "Cylinders": 8,
         "Displacement": 350,
         "Horsepower": 165,
         "Miles_per_Gallon": 13,
         "Name": "chevrolet impala",
         "Origin": "USA",
         "Weight_in_lbs": 4274,
         "Year": "1972-01-01"
        },
        {
         "Acceleration": 12,
         "Cylinders": 8,
         "Displacement": 400,
         "Horsepower": 175,
         "Miles_per_Gallon": 14,
         "Name": "pontiac catalina",
         "Origin": "USA",
         "Weight_in_lbs": 4385,
         "Year": "1972-01-01"
        },
        {
         "Acceleration": 13.5,
         "Cylinders": 8,
         "Displacement": 318,
         "Horsepower": 150,
         "Miles_per_Gallon": 15,
         "Name": "plymouth fury iii",
         "Origin": "USA",
         "Weight_in_lbs": 4135,
         "Year": "1972-01-01"
        },
        {
         "Acceleration": 13,
         "Cylinders": 8,
         "Displacement": 351,
         "Horsepower": 153,
         "Miles_per_Gallon": 14,
         "Name": "ford galaxie 500",
         "Origin": "USA",
         "Weight_in_lbs": 4129,
         "Year": "1972-01-01"
        },
        {
         "Acceleration": 11.5,
         "Cylinders": 8,
         "Displacement": 304,
         "Horsepower": 150,
         "Miles_per_Gallon": 17,
         "Name": "amc ambassador sst",
         "Origin": "USA",
         "Weight_in_lbs": 3672,
         "Year": "1972-01-01"
        },
        {
         "Acceleration": 11,
         "Cylinders": 8,
         "Displacement": 429,
         "Horsepower": 208,
         "Miles_per_Gallon": 11,
         "Name": "mercury marquis",
         "Origin": "USA",
         "Weight_in_lbs": 4633,
         "Year": "1972-01-01"
        },
        {
         "Acceleration": 13.5,
         "Cylinders": 8,
         "Displacement": 350,
         "Horsepower": 155,
         "Miles_per_Gallon": 13,
         "Name": "buick lesabre custom",
         "Origin": "USA",
         "Weight_in_lbs": 4502,
         "Year": "1972-01-01"
        },
        {
         "Acceleration": 13.5,
         "Cylinders": 8,
         "Displacement": 350,
         "Horsepower": 160,
         "Miles_per_Gallon": 12,
         "Name": "oldsmobile delta 88 royale",
         "Origin": "USA",
         "Weight_in_lbs": 4456,
         "Year": "1972-01-01"
        },
        {
         "Acceleration": 12.5,
         "Cylinders": 8,
         "Displacement": 400,
         "Horsepower": 190,
         "Miles_per_Gallon": 13,
         "Name": "chrysler newport royal",
         "Origin": "USA",
         "Weight_in_lbs": 4422,
         "Year": "1972-01-01"
        },
        {
         "Acceleration": 13.5,
         "Cylinders": 3,
         "Displacement": 70,
         "Horsepower": 97,
         "Miles_per_Gallon": 19,
         "Name": "mazda rx2 coupe",
         "Origin": "Japan",
         "Weight_in_lbs": 2330,
         "Year": "1972-01-01"
        },
        {
         "Acceleration": 12.5,
         "Cylinders": 8,
         "Displacement": 304,
         "Horsepower": 150,
         "Miles_per_Gallon": 15,
         "Name": "amc matador (sw)",
         "Origin": "USA",
         "Weight_in_lbs": 3892,
         "Year": "1972-01-01"
        },
        {
         "Acceleration": 14,
         "Cylinders": 8,
         "Displacement": 307,
         "Horsepower": 130,
         "Miles_per_Gallon": 13,
         "Name": "chevrolet chevelle concours (sw)",
         "Origin": "USA",
         "Weight_in_lbs": 4098,
         "Year": "1972-01-01"
        },
        {
         "Acceleration": 16,
         "Cylinders": 8,
         "Displacement": 302,
         "Horsepower": 140,
         "Miles_per_Gallon": 13,
         "Name": "ford gran torino (sw)",
         "Origin": "USA",
         "Weight_in_lbs": 4294,
         "Year": "1972-01-01"
        },
        {
         "Acceleration": 14,
         "Cylinders": 8,
         "Displacement": 318,
         "Horsepower": 150,
         "Miles_per_Gallon": 14,
         "Name": "plymouth satellite custom (sw)",
         "Origin": "USA",
         "Weight_in_lbs": 4077,
         "Year": "1972-01-01"
        },
        {
         "Acceleration": 14.5,
         "Cylinders": 4,
         "Displacement": 121,
         "Horsepower": 112,
         "Miles_per_Gallon": 18,
         "Name": "volvo 145e (sw)",
         "Origin": "Europe",
         "Weight_in_lbs": 2933,
         "Year": "1972-01-01"
        },
        {
         "Acceleration": 18,
         "Cylinders": 4,
         "Displacement": 121,
         "Horsepower": 76,
         "Miles_per_Gallon": 22,
         "Name": "volkswagen 411 (sw)",
         "Origin": "Europe",
         "Weight_in_lbs": 2511,
         "Year": "1972-01-01"
        },
        {
         "Acceleration": 19.5,
         "Cylinders": 4,
         "Displacement": 120,
         "Horsepower": 87,
         "Miles_per_Gallon": 21,
         "Name": "peugeot 504 (sw)",
         "Origin": "Europe",
         "Weight_in_lbs": 2979,
         "Year": "1972-01-01"
        },
        {
         "Acceleration": 18,
         "Cylinders": 4,
         "Displacement": 96,
         "Horsepower": 69,
         "Miles_per_Gallon": 26,
         "Name": "renault 12 (sw)",
         "Origin": "Europe",
         "Weight_in_lbs": 2189,
         "Year": "1972-01-01"
        },
        {
         "Acceleration": 16,
         "Cylinders": 4,
         "Displacement": 122,
         "Horsepower": 86,
         "Miles_per_Gallon": 22,
         "Name": "ford pinto (sw)",
         "Origin": "USA",
         "Weight_in_lbs": 2395,
         "Year": "1972-01-01"
        },
        {
         "Acceleration": 17,
         "Cylinders": 4,
         "Displacement": 97,
         "Horsepower": 92,
         "Miles_per_Gallon": 28,
         "Name": "datsun 510 (sw)",
         "Origin": "Japan",
         "Weight_in_lbs": 2288,
         "Year": "1972-01-01"
        },
        {
         "Acceleration": 14.5,
         "Cylinders": 4,
         "Displacement": 120,
         "Horsepower": 97,
         "Miles_per_Gallon": 23,
         "Name": "toyouta corona mark ii (sw)",
         "Origin": "Japan",
         "Weight_in_lbs": 2506,
         "Year": "1972-01-01"
        },
        {
         "Acceleration": 15,
         "Cylinders": 4,
         "Displacement": 98,
         "Horsepower": 80,
         "Miles_per_Gallon": 28,
         "Name": "dodge colt (sw)",
         "Origin": "USA",
         "Weight_in_lbs": 2164,
         "Year": "1972-01-01"
        },
        {
         "Acceleration": 16.5,
         "Cylinders": 4,
         "Displacement": 97,
         "Horsepower": 88,
         "Miles_per_Gallon": 27,
         "Name": "toyota corolla 1600 (sw)",
         "Origin": "Japan",
         "Weight_in_lbs": 2100,
         "Year": "1972-01-01"
        },
        {
         "Acceleration": 13,
         "Cylinders": 8,
         "Displacement": 350,
         "Horsepower": 175,
         "Miles_per_Gallon": 13,
         "Name": "buick century 350",
         "Origin": "USA",
         "Weight_in_lbs": 4100,
         "Year": "1973-01-01"
        },
        {
         "Acceleration": 11.5,
         "Cylinders": 8,
         "Displacement": 304,
         "Horsepower": 150,
         "Miles_per_Gallon": 14,
         "Name": "amc matador",
         "Origin": "USA",
         "Weight_in_lbs": 3672,
         "Year": "1973-01-01"
        },
        {
         "Acceleration": 13,
         "Cylinders": 8,
         "Displacement": 350,
         "Horsepower": 145,
         "Miles_per_Gallon": 13,
         "Name": "chevrolet malibu",
         "Origin": "USA",
         "Weight_in_lbs": 3988,
         "Year": "1973-01-01"
        },
        {
         "Acceleration": 14.5,
         "Cylinders": 8,
         "Displacement": 302,
         "Horsepower": 137,
         "Miles_per_Gallon": 14,
         "Name": "ford gran torino",
         "Origin": "USA",
         "Weight_in_lbs": 4042,
         "Year": "1973-01-01"
        },
        {
         "Acceleration": 12.5,
         "Cylinders": 8,
         "Displacement": 318,
         "Horsepower": 150,
         "Miles_per_Gallon": 15,
         "Name": "dodge coronet custom",
         "Origin": "USA",
         "Weight_in_lbs": 3777,
         "Year": "1973-01-01"
        },
        {
         "Acceleration": 11.5,
         "Cylinders": 8,
         "Displacement": 429,
         "Horsepower": 198,
         "Miles_per_Gallon": 12,
         "Name": "mercury marquis brougham",
         "Origin": "USA",
         "Weight_in_lbs": 4952,
         "Year": "1973-01-01"
        },
        {
         "Acceleration": 12,
         "Cylinders": 8,
         "Displacement": 400,
         "Horsepower": 150,
         "Miles_per_Gallon": 13,
         "Name": "chevrolet caprice classic",
         "Origin": "USA",
         "Weight_in_lbs": 4464,
         "Year": "1973-01-01"
        },
        {
         "Acceleration": 13,
         "Cylinders": 8,
         "Displacement": 351,
         "Horsepower": 158,
         "Miles_per_Gallon": 13,
         "Name": "ford ltd",
         "Origin": "USA",
         "Weight_in_lbs": 4363,
         "Year": "1973-01-01"
        },
        {
         "Acceleration": 14.5,
         "Cylinders": 8,
         "Displacement": 318,
         "Horsepower": 150,
         "Miles_per_Gallon": 14,
         "Name": "plymouth fury gran sedan",
         "Origin": "USA",
         "Weight_in_lbs": 4237,
         "Year": "1973-01-01"
        },
        {
         "Acceleration": 11,
         "Cylinders": 8,
         "Displacement": 440,
         "Horsepower": 215,
         "Miles_per_Gallon": 13,
         "Name": "chrysler new yorker brougham",
         "Origin": "USA",
         "Weight_in_lbs": 4735,
         "Year": "1973-01-01"
        },
        {
         "Acceleration": 11,
         "Cylinders": 8,
         "Displacement": 455,
         "Horsepower": 225,
         "Miles_per_Gallon": 12,
         "Name": "buick electra 225 custom",
         "Origin": "USA",
         "Weight_in_lbs": 4951,
         "Year": "1973-01-01"
        },
        {
         "Acceleration": 11,
         "Cylinders": 8,
         "Displacement": 360,
         "Horsepower": 175,
         "Miles_per_Gallon": 13,
         "Name": "amc ambassador brougham",
         "Origin": "USA",
         "Weight_in_lbs": 3821,
         "Year": "1973-01-01"
        },
        {
         "Acceleration": 16.5,
         "Cylinders": 6,
         "Displacement": 225,
         "Horsepower": 105,
         "Miles_per_Gallon": 18,
         "Name": "plymouth valiant",
         "Origin": "USA",
         "Weight_in_lbs": 3121,
         "Year": "1973-01-01"
        },
        {
         "Acceleration": 18,
         "Cylinders": 6,
         "Displacement": 250,
         "Horsepower": 100,
         "Miles_per_Gallon": 16,
         "Name": "chevrolet nova custom",
         "Origin": "USA",
         "Weight_in_lbs": 3278,
         "Year": "1973-01-01"
        },
        {
         "Acceleration": 16,
         "Cylinders": 6,
         "Displacement": 232,
         "Horsepower": 100,
         "Miles_per_Gallon": 18,
         "Name": "amc hornet",
         "Origin": "USA",
         "Weight_in_lbs": 2945,
         "Year": "1973-01-01"
        },
        {
         "Acceleration": 16.5,
         "Cylinders": 6,
         "Displacement": 250,
         "Horsepower": 88,
         "Miles_per_Gallon": 18,
         "Name": "ford maverick",
         "Origin": "USA",
         "Weight_in_lbs": 3021,
         "Year": "1973-01-01"
        },
        {
         "Acceleration": 16,
         "Cylinders": 6,
         "Displacement": 198,
         "Horsepower": 95,
         "Miles_per_Gallon": 23,
         "Name": "plymouth duster",
         "Origin": "USA",
         "Weight_in_lbs": 2904,
         "Year": "1973-01-01"
        },
        {
         "Acceleration": 21,
         "Cylinders": 4,
         "Displacement": 97,
         "Horsepower": 46,
         "Miles_per_Gallon": 26,
         "Name": "volkswagen super beetle",
         "Origin": "Europe",
         "Weight_in_lbs": 1950,
         "Year": "1973-01-01"
        },
        {
         "Acceleration": 14,
         "Cylinders": 8,
         "Displacement": 400,
         "Horsepower": 150,
         "Miles_per_Gallon": 11,
         "Name": "chevrolet impala",
         "Origin": "USA",
         "Weight_in_lbs": 4997,
         "Year": "1973-01-01"
        },
        {
         "Acceleration": 12.5,
         "Cylinders": 8,
         "Displacement": 400,
         "Horsepower": 167,
         "Miles_per_Gallon": 12,
         "Name": "ford country",
         "Origin": "USA",
         "Weight_in_lbs": 4906,
         "Year": "1973-01-01"
        },
        {
         "Acceleration": 13,
         "Cylinders": 8,
         "Displacement": 360,
         "Horsepower": 170,
         "Miles_per_Gallon": 13,
         "Name": "plymouth custom suburb",
         "Origin": "USA",
         "Weight_in_lbs": 4654,
         "Year": "1973-01-01"
        },
        {
         "Acceleration": 12.5,
         "Cylinders": 8,
         "Displacement": 350,
         "Horsepower": 180,
         "Miles_per_Gallon": 12,
         "Name": "oldsmobile vista cruiser",
         "Origin": "USA",
         "Weight_in_lbs": 4499,
         "Year": "1973-01-01"
        },
        {
         "Acceleration": 15,
         "Cylinders": 6,
         "Displacement": 232,
         "Horsepower": 100,
         "Miles_per_Gallon": 18,
         "Name": "amc gremlin",
         "Origin": "USA",
         "Weight_in_lbs": 2789,
         "Year": "1973-01-01"
        },
        {
         "Acceleration": 19,
         "Cylinders": 4,
         "Displacement": 97,
         "Horsepower": 88,
         "Miles_per_Gallon": 20,
         "Name": "toyota carina",
         "Origin": "Japan",
         "Weight_in_lbs": 2279,
         "Year": "1973-01-01"
        },
        {
         "Acceleration": 19.5,
         "Cylinders": 4,
         "Displacement": 140,
         "Horsepower": 72,
         "Miles_per_Gallon": 21,
         "Name": "chevrolet vega",
         "Origin": "USA",
         "Weight_in_lbs": 2401,
         "Year": "1973-01-01"
        },
        {
         "Acceleration": 16.5,
         "Cylinders": 4,
         "Displacement": 108,
         "Horsepower": 94,
         "Miles_per_Gallon": 22,
         "Name": "datsun 610",
         "Origin": "Japan",
         "Weight_in_lbs": 2379,
         "Year": "1973-01-01"
        },
        {
         "Acceleration": 13.5,
         "Cylinders": 3,
         "Displacement": 70,
         "Horsepower": 90,
         "Miles_per_Gallon": 18,
         "Name": "maxda rx3",
         "Origin": "Japan",
         "Weight_in_lbs": 2124,
         "Year": "1973-01-01"
        },
        {
         "Acceleration": 18.5,
         "Cylinders": 4,
         "Displacement": 122,
         "Horsepower": 85,
         "Miles_per_Gallon": 19,
         "Name": "ford pinto",
         "Origin": "USA",
         "Weight_in_lbs": 2310,
         "Year": "1973-01-01"
        },
        {
         "Acceleration": 14,
         "Cylinders": 6,
         "Displacement": 155,
         "Horsepower": 107,
         "Miles_per_Gallon": 21,
         "Name": "mercury capri v6",
         "Origin": "USA",
         "Weight_in_lbs": 2472,
         "Year": "1973-01-01"
        },
        {
         "Acceleration": 15.5,
         "Cylinders": 4,
         "Displacement": 98,
         "Horsepower": 90,
         "Miles_per_Gallon": 26,
         "Name": "fiat 124 sport coupe",
         "Origin": "Europe",
         "Weight_in_lbs": 2265,
         "Year": "1973-01-01"
        },
        {
         "Acceleration": 13,
         "Cylinders": 8,
         "Displacement": 350,
         "Horsepower": 145,
         "Miles_per_Gallon": 15,
         "Name": "chevrolet monte carlo s",
         "Origin": "USA",
         "Weight_in_lbs": 4082,
         "Year": "1973-01-01"
        },
        {
         "Acceleration": 9.5,
         "Cylinders": 8,
         "Displacement": 400,
         "Horsepower": 230,
         "Miles_per_Gallon": 16,
         "Name": "pontiac grand prix",
         "Origin": "USA",
         "Weight_in_lbs": 4278,
         "Year": "1973-01-01"
        },
        {
         "Acceleration": 19.5,
         "Cylinders": 4,
         "Displacement": 68,
         "Horsepower": 49,
         "Miles_per_Gallon": 29,
         "Name": "fiat 128",
         "Origin": "Europe",
         "Weight_in_lbs": 1867,
         "Year": "1973-01-01"
        },
        {
         "Acceleration": 15.5,
         "Cylinders": 4,
         "Displacement": 116,
         "Horsepower": 75,
         "Miles_per_Gallon": 24,
         "Name": "opel manta",
         "Origin": "Europe",
         "Weight_in_lbs": 2158,
         "Year": "1973-01-01"
        },
        {
         "Acceleration": 14,
         "Cylinders": 4,
         "Displacement": 114,
         "Horsepower": 91,
         "Miles_per_Gallon": 20,
         "Name": "audi 100ls",
         "Origin": "Europe",
         "Weight_in_lbs": 2582,
         "Year": "1973-01-01"
        },
        {
         "Acceleration": 15.5,
         "Cylinders": 4,
         "Displacement": 121,
         "Horsepower": 112,
         "Miles_per_Gallon": 19,
         "Name": "volvo 144ea",
         "Origin": "Europe",
         "Weight_in_lbs": 2868,
         "Year": "1973-01-01"
        },
        {
         "Acceleration": 11,
         "Cylinders": 8,
         "Displacement": 318,
         "Horsepower": 150,
         "Miles_per_Gallon": 15,
         "Name": "dodge dart custom",
         "Origin": "USA",
         "Weight_in_lbs": 3399,
         "Year": "1973-01-01"
        },
        {
         "Acceleration": 14,
         "Cylinders": 4,
         "Displacement": 121,
         "Horsepower": 110,
         "Miles_per_Gallon": 24,
         "Name": "saab 99le",
         "Origin": "Europe",
         "Weight_in_lbs": 2660,
         "Year": "1973-01-01"
        },
        {
         "Acceleration": 13.5,
         "Cylinders": 6,
         "Displacement": 156,
         "Horsepower": 122,
         "Miles_per_Gallon": 20,
         "Name": "toyota mark ii",
         "Origin": "Japan",
         "Weight_in_lbs": 2807,
         "Year": "1973-01-01"
        },
        {
         "Acceleration": 11,
         "Cylinders": 8,
         "Displacement": 350,
         "Horsepower": 180,
         "Miles_per_Gallon": 11,
         "Name": "oldsmobile omega",
         "Origin": "USA",
         "Weight_in_lbs": 3664,
         "Year": "1973-01-01"
        },
        {
         "Acceleration": 16.5,
         "Cylinders": 6,
         "Displacement": 198,
         "Horsepower": 95,
         "Miles_per_Gallon": 20,
         "Name": "plymouth duster",
         "Origin": "USA",
         "Weight_in_lbs": 3102,
         "Year": "1974-01-01"
        },
        {
         "Acceleration": 17,
         "Cylinders": 6,
         "Displacement": 200,
         "Horsepower": null,
         "Miles_per_Gallon": 21,
         "Name": "ford maverick",
         "Origin": "USA",
         "Weight_in_lbs": 2875,
         "Year": "1974-01-01"
        },
        {
         "Acceleration": 16,
         "Cylinders": 6,
         "Displacement": 232,
         "Horsepower": 100,
         "Miles_per_Gallon": 19,
         "Name": "amc hornet",
         "Origin": "USA",
         "Weight_in_lbs": 2901,
         "Year": "1974-01-01"
        },
        {
         "Acceleration": 17,
         "Cylinders": 6,
         "Displacement": 250,
         "Horsepower": 100,
         "Miles_per_Gallon": 15,
         "Name": "chevrolet nova",
         "Origin": "USA",
         "Weight_in_lbs": 3336,
         "Year": "1974-01-01"
        },
        {
         "Acceleration": 19,
         "Cylinders": 4,
         "Displacement": 79,
         "Horsepower": 67,
         "Miles_per_Gallon": 31,
         "Name": "datsun b210",
         "Origin": "Japan",
         "Weight_in_lbs": 1950,
         "Year": "1974-01-01"
        },
        {
         "Acceleration": 16.5,
         "Cylinders": 4,
         "Displacement": 122,
         "Horsepower": 80,
         "Miles_per_Gallon": 26,
         "Name": "ford pinto",
         "Origin": "USA",
         "Weight_in_lbs": 2451,
         "Year": "1974-01-01"
        },
        {
         "Acceleration": 21,
         "Cylinders": 4,
         "Displacement": 71,
         "Horsepower": 65,
         "Miles_per_Gallon": 32,
         "Name": "toyota corolla 1200",
         "Origin": "Japan",
         "Weight_in_lbs": 1836,
         "Year": "1974-01-01"
        },
        {
         "Acceleration": 17,
         "Cylinders": 4,
         "Displacement": 140,
         "Horsepower": 75,
         "Miles_per_Gallon": 25,
         "Name": "chevrolet vega",
         "Origin": "USA",
         "Weight_in_lbs": 2542,
         "Year": "1974-01-01"
        },
        {
         "Acceleration": 17,
         "Cylinders": 6,
         "Displacement": 250,
         "Horsepower": 100,
         "Miles_per_Gallon": 16,
         "Name": "chevrolet chevelle malibu classic",
         "Origin": "USA",
         "Weight_in_lbs": 3781,
         "Year": "1974-01-01"
        },
        {
         "Acceleration": 18,
         "Cylinders": 6,
         "Displacement": 258,
         "Horsepower": 110,
         "Miles_per_Gallon": 16,
         "Name": "amc matador",
         "Origin": "USA",
         "Weight_in_lbs": 3632,
         "Year": "1974-01-01"
        },
        {
         "Acceleration": 16.5,
         "Cylinders": 6,
         "Displacement": 225,
         "Horsepower": 105,
         "Miles_per_Gallon": 18,
         "Name": "plymouth satellite sebring",
         "Origin": "USA",
         "Weight_in_lbs": 3613,
         "Year": "1974-01-01"
        },
        {
         "Acceleration": 14,
         "Cylinders": 8,
         "Displacement": 302,
         "Horsepower": 140,
         "Miles_per_Gallon": 16,
         "Name": "ford gran torino",
         "Origin": "USA",
         "Weight_in_lbs": 4141,
         "Year": "1974-01-01"
        },
        {
         "Acceleration": 14.5,
         "Cylinders": 8,
         "Displacement": 350,
         "Horsepower": 150,
         "Miles_per_Gallon": 13,
         "Name": "buick century luxus (sw)",
         "Origin": "USA",
         "Weight_in_lbs": 4699,
         "Year": "1974-01-01"
        },
        {
         "Acceleration": 13.5,
         "Cylinders": 8,
         "Displacement": 318,
         "Horsepower": 150,
         "Miles_per_Gallon": 14,
         "Name": "dodge coronet custom (sw)",
         "Origin": "USA",
         "Weight_in_lbs": 4457,
         "Year": "1974-01-01"
        },
        {
         "Acceleration": 16,
         "Cylinders": 8,
         "Displacement": 302,
         "Horsepower": 140,
         "Miles_per_Gallon": 14,
         "Name": "ford gran torino (sw)",
         "Origin": "USA",
         "Weight_in_lbs": 4638,
         "Year": "1974-01-01"
        },
        {
         "Acceleration": 15.5,
         "Cylinders": 8,
         "Displacement": 304,
         "Horsepower": 150,
         "Miles_per_Gallon": 14,
         "Name": "amc matador (sw)",
         "Origin": "USA",
         "Weight_in_lbs": 4257,
         "Year": "1974-01-01"
        },
        {
         "Acceleration": 16.5,
         "Cylinders": 4,
         "Displacement": 98,
         "Horsepower": 83,
         "Miles_per_Gallon": 29,
         "Name": "audi fox",
         "Origin": "Europe",
         "Weight_in_lbs": 2219,
         "Year": "1974-01-01"
        },
        {
         "Acceleration": 15.5,
         "Cylinders": 4,
         "Displacement": 79,
         "Horsepower": 67,
         "Miles_per_Gallon": 26,
         "Name": "volkswagen dasher",
         "Origin": "Europe",
         "Weight_in_lbs": 1963,
         "Year": "1974-01-01"
        },
        {
         "Acceleration": 14.5,
         "Cylinders": 4,
         "Displacement": 97,
         "Horsepower": 78,
         "Miles_per_Gallon": 26,
         "Name": "opel manta",
         "Origin": "Europe",
         "Weight_in_lbs": 2300,
         "Year": "1974-01-01"
        },
        {
         "Acceleration": 16.5,
         "Cylinders": 4,
         "Displacement": 76,
         "Horsepower": 52,
         "Miles_per_Gallon": 31,
         "Name": "toyota corona",
         "Origin": "Japan",
         "Weight_in_lbs": 1649,
         "Year": "1974-01-01"
        },
        {
         "Acceleration": 19,
         "Cylinders": 4,
         "Displacement": 83,
         "Horsepower": 61,
         "Miles_per_Gallon": 32,
         "Name": "datsun 710",
         "Origin": "Japan",
         "Weight_in_lbs": 2003,
         "Year": "1974-01-01"
        },
        {
         "Acceleration": 14.5,
         "Cylinders": 4,
         "Displacement": 90,
         "Horsepower": 75,
         "Miles_per_Gallon": 28,
         "Name": "dodge colt",
         "Origin": "USA",
         "Weight_in_lbs": 2125,
         "Year": "1974-01-01"
        },
        {
         "Acceleration": 15.5,
         "Cylinders": 4,
         "Displacement": 90,
         "Horsepower": 75,
         "Miles_per_Gallon": 24,
         "Name": "fiat 128",
         "Origin": "Europe",
         "Weight_in_lbs": 2108,
         "Year": "1974-01-01"
        },
        {
         "Acceleration": 14,
         "Cylinders": 4,
         "Displacement": 116,
         "Horsepower": 75,
         "Miles_per_Gallon": 26,
         "Name": "fiat 124 tc",
         "Origin": "Europe",
         "Weight_in_lbs": 2246,
         "Year": "1974-01-01"
        },
        {
         "Acceleration": 15,
         "Cylinders": 4,
         "Displacement": 120,
         "Horsepower": 97,
         "Miles_per_Gallon": 24,
         "Name": "honda civic",
         "Origin": "Japan",
         "Weight_in_lbs": 2489,
         "Year": "1974-01-01"
        },
        {
         "Acceleration": 15.5,
         "Cylinders": 4,
         "Displacement": 108,
         "Horsepower": 93,
         "Miles_per_Gallon": 26,
         "Name": "subaru",
         "Origin": "Japan",
         "Weight_in_lbs": 2391,
         "Year": "1974-01-01"
        },
        {
         "Acceleration": 16,
         "Cylinders": 4,
         "Displacement": 79,
         "Horsepower": 67,
         "Miles_per_Gallon": 31,
         "Name": "fiat x1.9",
         "Origin": "Europe",
         "Weight_in_lbs": 2000,
         "Year": "1974-01-01"
        },
        {
         "Acceleration": 16,
         "Cylinders": 6,
         "Displacement": 225,
         "Horsepower": 95,
         "Miles_per_Gallon": 19,
         "Name": "plymouth valiant custom",
         "Origin": "USA",
         "Weight_in_lbs": 3264,
         "Year": "1975-01-01"
        },
        {
         "Acceleration": 16,
         "Cylinders": 6,
         "Displacement": 250,
         "Horsepower": 105,
         "Miles_per_Gallon": 18,
         "Name": "chevrolet nova",
         "Origin": "USA",
         "Weight_in_lbs": 3459,
         "Year": "1975-01-01"
        },
        {
         "Acceleration": 21,
         "Cylinders": 6,
         "Displacement": 250,
         "Horsepower": 72,
         "Miles_per_Gallon": 15,
         "Name": "mercury monarch",
         "Origin": "USA",
         "Weight_in_lbs": 3432,
         "Year": "1975-01-01"
        },
        {
         "Acceleration": 19.5,
         "Cylinders": 6,
         "Displacement": 250,
         "Horsepower": 72,
         "Miles_per_Gallon": 15,
         "Name": "ford maverick",
         "Origin": "USA",
         "Weight_in_lbs": 3158,
         "Year": "1975-01-01"
        },
        {
         "Acceleration": 11.5,
         "Cylinders": 8,
         "Displacement": 400,
         "Horsepower": 170,
         "Miles_per_Gallon": 16,
         "Name": "pontiac catalina",
         "Origin": "USA",
         "Weight_in_lbs": 4668,
         "Year": "1975-01-01"
        },
        {
         "Acceleration": 14,
         "Cylinders": 8,
         "Displacement": 350,
         "Horsepower": 145,
         "Miles_per_Gallon": 15,
         "Name": "chevrolet bel air",
         "Origin": "USA",
         "Weight_in_lbs": 4440,
         "Year": "1975-01-01"
        },
        {
         "Acceleration": 14.5,
         "Cylinders": 8,
         "Displacement": 318,
         "Horsepower": 150,
         "Miles_per_Gallon": 16,
         "Name": "plymouth grand fury",
         "Origin": "USA",
         "Weight_in_lbs": 4498,
         "Year": "1975-01-01"
        },
        {
         "Acceleration": 13.5,
         "Cylinders": 8,
         "Displacement": 351,
         "Horsepower": 148,
         "Miles_per_Gallon": 14,
         "Name": "ford ltd",
         "Origin": "USA",
         "Weight_in_lbs": 4657,
         "Year": "1975-01-01"
        },
        {
         "Acceleration": 21,
         "Cylinders": 6,
         "Displacement": 231,
         "Horsepower": 110,
         "Miles_per_Gallon": 17,
         "Name": "buick century",
         "Origin": "USA",
         "Weight_in_lbs": 3907,
         "Year": "1975-01-01"
        },
        {
         "Acceleration": 18.5,
         "Cylinders": 6,
         "Displacement": 250,
         "Horsepower": 105,
         "Miles_per_Gallon": 16,
         "Name": "chevroelt chevelle malibu",
         "Origin": "USA",
         "Weight_in_lbs": 3897,
         "Year": "1975-01-01"
        },
        {
         "Acceleration": 19,
         "Cylinders": 6,
         "Displacement": 258,
         "Horsepower": 110,
         "Miles_per_Gallon": 15,
         "Name": "amc matador",
         "Origin": "USA",
         "Weight_in_lbs": 3730,
         "Year": "1975-01-01"
        },
        {
         "Acceleration": 19,
         "Cylinders": 6,
         "Displacement": 225,
         "Horsepower": 95,
         "Miles_per_Gallon": 18,
         "Name": "plymouth fury",
         "Origin": "USA",
         "Weight_in_lbs": 3785,
         "Year": "1975-01-01"
        },
        {
         "Acceleration": 15,
         "Cylinders": 6,
         "Displacement": 231,
         "Horsepower": 110,
         "Miles_per_Gallon": 21,
         "Name": "buick skyhawk",
         "Origin": "USA",
         "Weight_in_lbs": 3039,
         "Year": "1975-01-01"
        },
        {
         "Acceleration": 13.5,
         "Cylinders": 8,
         "Displacement": 262,
         "Horsepower": 110,
         "Miles_per_Gallon": 20,
         "Name": "chevrolet monza 2+2",
         "Origin": "USA",
         "Weight_in_lbs": 3221,
         "Year": "1975-01-01"
        },
        {
         "Acceleration": 12,
         "Cylinders": 8,
         "Displacement": 302,
         "Horsepower": 129,
         "Miles_per_Gallon": 13,
         "Name": "ford mustang ii",
         "Origin": "USA",
         "Weight_in_lbs": 3169,
         "Year": "1975-01-01"
        },
        {
         "Acceleration": 16,
         "Cylinders": 4,
         "Displacement": 97,
         "Horsepower": 75,
         "Miles_per_Gallon": 29,
         "Name": "toyota corolla",
         "Origin": "Japan",
         "Weight_in_lbs": 2171,
         "Year": "1975-01-01"
        },
        {
         "Acceleration": 17,
         "Cylinders": 4,
         "Displacement": 140,
         "Horsepower": 83,
         "Miles_per_Gallon": 23,
         "Name": "ford pinto",
         "Origin": "USA",
         "Weight_in_lbs": 2639,
         "Year": "1975-01-01"
        },
        {
         "Acceleration": 16,
         "Cylinders": 6,
         "Displacement": 232,
         "Horsepower": 100,
         "Miles_per_Gallon": 20,
         "Name": "amc gremlin",
         "Origin": "USA",
         "Weight_in_lbs": 2914,
         "Year": "1975-01-01"
        },
        {
         "Acceleration": 18.5,
         "Cylinders": 4,
         "Displacement": 140,
         "Horsepower": 78,
         "Miles_per_Gallon": 23,
         "Name": "pontiac astro",
         "Origin": "USA",
         "Weight_in_lbs": 2592,
         "Year": "1975-01-01"
        },
        {
         "Acceleration": 13.5,
         "Cylinders": 4,
         "Displacement": 134,
         "Horsepower": 96,
         "Miles_per_Gallon": 24,
         "Name": "toyota corona",
         "Origin": "Japan",
         "Weight_in_lbs": 2702,
         "Year": "1975-01-01"
        },
        {
         "Acceleration": 16.5,
         "Cylinders": 4,
         "Displacement": 90,
         "Horsepower": 71,
         "Miles_per_Gallon": 25,
         "Name": "volkswagen dasher",
         "Origin": "Europe",
         "Weight_in_lbs": 2223,
         "Year": "1975-01-01"
        },
        {
         "Acceleration": 17,
         "Cylinders": 4,
         "Displacement": 119,
         "Horsepower": 97,
         "Miles_per_Gallon": 24,
         "Name": "datsun 710",
         "Origin": "Japan",
         "Weight_in_lbs": 2545,
         "Year": "1975-01-01"
        },
        {
         "Acceleration": 14.5,
         "Cylinders": 6,
         "Displacement": 171,
         "Horsepower": 97,
         "Miles_per_Gallon": 18,
         "Name": "ford pinto",
         "Origin": "USA",
         "Weight_in_lbs": 2984,
         "Year": "1975-01-01"
        },
        {
         "Acceleration": 14,
         "Cylinders": 4,
         "Displacement": 90,
         "Horsepower": 70,
         "Miles_per_Gallon": 29,
         "Name": "volkswagen rabbit",
         "Origin": "Europe",
         "Weight_in_lbs": 1937,
         "Year": "1975-01-01"
        },
        {
         "Acceleration": 17,
         "Cylinders": 6,
         "Displacement": 232,
         "Horsepower": 90,
         "Miles_per_Gallon": 19,
         "Name": "amc pacer",
         "Origin": "USA",
         "Weight_in_lbs": 3211,
         "Year": "1975-01-01"
        },
        {
         "Acceleration": 15,
         "Cylinders": 4,
         "Displacement": 115,
         "Horsepower": 95,
         "Miles_per_Gallon": 23,
         "Name": "audi 100ls",
         "Origin": "Europe",
         "Weight_in_lbs": 2694,
         "Year": "1975-01-01"
        },
        {
         "Acceleration": 17,
         "Cylinders": 4,
         "Displacement": 120,
         "Horsepower": 88,
         "Miles_per_Gallon": 23,
         "Name": "peugeot 504",
         "Origin": "Europe",
         "Weight_in_lbs": 2957,
         "Year": "1975-01-01"
        },
        {
         "Acceleration": 14.5,
         "Cylinders": 4,
         "Displacement": 121,
         "Horsepower": 98,
         "Miles_per_Gallon": 22,
         "Name": "volvo 244dl",
         "Origin": "Europe",
         "Weight_in_lbs": 2945,
         "Year": "1975-01-01"
        },
        {
         "Acceleration": 13.5,
         "Cylinders": 4,
         "Displacement": 121,
         "Horsepower": 115,
         "Miles_per_Gallon": 25,
         "Name": "saab 99le",
         "Origin": "Europe",
         "Weight_in_lbs": 2671,
         "Year": "1975-01-01"
        },
        {
         "Acceleration": 17.5,
         "Cylinders": 4,
         "Displacement": 91,
         "Horsepower": 53,
         "Miles_per_Gallon": 33,
         "Name": "honda civic cvcc",
         "Origin": "Japan",
         "Weight_in_lbs": 1795,
         "Year": "1975-01-01"
        },
        {
         "Acceleration": 15.5,
         "Cylinders": 4,
         "Displacement": 107,
         "Horsepower": 86,
         "Miles_per_Gallon": 28,
         "Name": "fiat 131",
         "Origin": "Europe",
         "Weight_in_lbs": 2464,
         "Year": "1976-01-01"
        },
        {
         "Acceleration": 16.9,
         "Cylinders": 4,
         "Displacement": 116,
         "Horsepower": 81,
         "Miles_per_Gallon": 25,
         "Name": "opel 1900",
         "Origin": "Europe",
         "Weight_in_lbs": 2220,
         "Year": "1976-01-01"
        },
        {
         "Acceleration": 14.9,
         "Cylinders": 4,
         "Displacement": 140,
         "Horsepower": 92,
         "Miles_per_Gallon": 25,
         "Name": "capri ii",
         "Origin": "USA",
         "Weight_in_lbs": 2572,
         "Year": "1976-01-01"
        },
        {
         "Acceleration": 17.7,
         "Cylinders": 4,
         "Displacement": 98,
         "Horsepower": 79,
         "Miles_per_Gallon": 26,
         "Name": "dodge colt",
         "Origin": "USA",
         "Weight_in_lbs": 2255,
         "Year": "1976-01-01"
        },
        {
         "Acceleration": 15.3,
         "Cylinders": 4,
         "Displacement": 101,
         "Horsepower": 83,
         "Miles_per_Gallon": 27,
         "Name": "renault 12tl",
         "Origin": "Europe",
         "Weight_in_lbs": 2202,
         "Year": "1976-01-01"
        },
        {
         "Acceleration": 13,
         "Cylinders": 8,
         "Displacement": 305,
         "Horsepower": 140,
         "Miles_per_Gallon": 17.5,
         "Name": "chevrolet chevelle malibu classic",
         "Origin": "USA",
         "Weight_in_lbs": 4215,
         "Year": "1976-01-01"
        },
        {
         "Acceleration": 13,
         "Cylinders": 8,
         "Displacement": 318,
         "Horsepower": 150,
         "Miles_per_Gallon": 16,
         "Name": "dodge coronet brougham",
         "Origin": "USA",
         "Weight_in_lbs": 4190,
         "Year": "1976-01-01"
        },
        {
         "Acceleration": 13.9,
         "Cylinders": 8,
         "Displacement": 304,
         "Horsepower": 120,
         "Miles_per_Gallon": 15.5,
         "Name": "amc matador",
         "Origin": "USA",
         "Weight_in_lbs": 3962,
         "Year": "1976-01-01"
        },
        {
         "Acceleration": 12.8,
         "Cylinders": 8,
         "Displacement": 351,
         "Horsepower": 152,
         "Miles_per_Gallon": 14.5,
         "Name": "ford gran torino",
         "Origin": "USA",
         "Weight_in_lbs": 4215,
         "Year": "1976-01-01"
        },
        {
         "Acceleration": 15.4,
         "Cylinders": 6,
         "Displacement": 225,
         "Horsepower": 100,
         "Miles_per_Gallon": 22,
         "Name": "plymouth valiant",
         "Origin": "USA",
         "Weight_in_lbs": 3233,
         "Year": "1976-01-01"
        },
        {
         "Acceleration": 14.5,
         "Cylinders": 6,
         "Displacement": 250,
         "Horsepower": 105,
         "Miles_per_Gallon": 22,
         "Name": "chevrolet nova",
         "Origin": "USA",
         "Weight_in_lbs": 3353,
         "Year": "1976-01-01"
        },
        {
         "Acceleration": 17.6,
         "Cylinders": 6,
         "Displacement": 200,
         "Horsepower": 81,
         "Miles_per_Gallon": 24,
         "Name": "ford maverick",
         "Origin": "USA",
         "Weight_in_lbs": 3012,
         "Year": "1976-01-01"
        },
        {
         "Acceleration": 17.6,
         "Cylinders": 6,
         "Displacement": 232,
         "Horsepower": 90,
         "Miles_per_Gallon": 22.5,
         "Name": "amc hornet",
         "Origin": "USA",
         "Weight_in_lbs": 3085,
         "Year": "1976-01-01"
        },
        {
         "Acceleration": 22.2,
         "Cylinders": 4,
         "Displacement": 85,
         "Horsepower": 52,
         "Miles_per_Gallon": 29,
         "Name": "chevrolet chevette",
         "Origin": "USA",
         "Weight_in_lbs": 2035,
         "Year": "1976-01-01"
        },
        {
         "Acceleration": 22.1,
         "Cylinders": 4,
         "Displacement": 98,
         "Horsepower": 60,
         "Miles_per_Gallon": 24.5,
         "Name": "chevrolet woody",
         "Origin": "USA",
         "Weight_in_lbs": 2164,
         "Year": "1976-01-01"
        },
        {
         "Acceleration": 14.2,
         "Cylinders": 4,
         "Displacement": 90,
         "Horsepower": 70,
         "Miles_per_Gallon": 29,
         "Name": "vw rabbit",
         "Origin": "Europe",
         "Weight_in_lbs": 1937,
         "Year": "1976-01-01"
        },
        {
         "Acceleration": 17.4,
         "Cylinders": 4,
         "Displacement": 91,
         "Horsepower": 53,
         "Miles_per_Gallon": 33,
         "Name": "honda civic",
         "Origin": "Japan",
         "Weight_in_lbs": 1795,
         "Year": "1976-01-01"
        },
        {
         "Acceleration": 17.7,
         "Cylinders": 6,
         "Displacement": 225,
         "Horsepower": 100,
         "Miles_per_Gallon": 20,
         "Name": "dodge aspen se",
         "Origin": "USA",
         "Weight_in_lbs": 3651,
         "Year": "1976-01-01"
        },
        {
         "Acceleration": 21,
         "Cylinders": 6,
         "Displacement": 250,
         "Horsepower": 78,
         "Miles_per_Gallon": 18,
         "Name": "ford granada ghia",
         "Origin": "USA",
         "Weight_in_lbs": 3574,
         "Year": "1976-01-01"
        },
        {
         "Acceleration": 16.2,
         "Cylinders": 6,
         "Displacement": 250,
         "Horsepower": 110,
         "Miles_per_Gallon": 18.5,
         "Name": "pontiac ventura sj",
         "Origin": "USA",
         "Weight_in_lbs": 3645,
         "Year": "1976-01-01"
        },
        {
         "Acceleration": 17.8,
         "Cylinders": 6,
         "Displacement": 258,
         "Horsepower": 95,
         "Miles_per_Gallon": 17.5,
         "Name": "amc pacer d/l",
         "Origin": "USA",
         "Weight_in_lbs": 3193,
         "Year": "1976-01-01"
        },
        {
         "Acceleration": 12.2,
         "Cylinders": 4,
         "Displacement": 97,
         "Horsepower": 71,
         "Miles_per_Gallon": 29.5,
         "Name": "volkswagen rabbit",
         "Origin": "Europe",
         "Weight_in_lbs": 1825,
         "Year": "1976-01-01"
        },
        {
         "Acceleration": 17,
         "Cylinders": 4,
         "Displacement": 85,
         "Horsepower": 70,
         "Miles_per_Gallon": 32,
         "Name": "datsun b-210",
         "Origin": "Japan",
         "Weight_in_lbs": 1990,
         "Year": "1976-01-01"
        },
        {
         "Acceleration": 16.4,
         "Cylinders": 4,
         "Displacement": 97,
         "Horsepower": 75,
         "Miles_per_Gallon": 28,
         "Name": "toyota corolla",
         "Origin": "Japan",
         "Weight_in_lbs": 2155,
         "Year": "1976-01-01"
        },
        {
         "Acceleration": 13.6,
         "Cylinders": 4,
         "Displacement": 140,
         "Horsepower": 72,
         "Miles_per_Gallon": 26.5,
         "Name": "ford pinto",
         "Origin": "USA",
         "Weight_in_lbs": 2565,
         "Year": "1976-01-01"
        },
        {
         "Acceleration": 15.7,
         "Cylinders": 4,
         "Displacement": 130,
         "Horsepower": 102,
         "Miles_per_Gallon": 20,
         "Name": "volvo 245",
         "Origin": "Europe",
         "Weight_in_lbs": 3150,
         "Year": "1976-01-01"
        },
        {
         "Acceleration": 13.2,
         "Cylinders": 8,
         "Displacement": 318,
         "Horsepower": 150,
         "Miles_per_Gallon": 13,
         "Name": "plymouth volare premier v8",
         "Origin": "USA",
         "Weight_in_lbs": 3940,
         "Year": "1976-01-01"
        },
        {
         "Acceleration": 21.9,
         "Cylinders": 4,
         "Displacement": 120,
         "Horsepower": 88,
         "Miles_per_Gallon": 19,
         "Name": "peugeot 504",
         "Origin": "Europe",
         "Weight_in_lbs": 3270,
         "Year": "1976-01-01"
        },
        {
         "Acceleration": 15.5,
         "Cylinders": 6,
         "Displacement": 156,
         "Horsepower": 108,
         "Miles_per_Gallon": 19,
         "Name": "toyota mark ii",
         "Origin": "Japan",
         "Weight_in_lbs": 2930,
         "Year": "1976-01-01"
        },
        {
         "Acceleration": 16.7,
         "Cylinders": 6,
         "Displacement": 168,
         "Horsepower": 120,
         "Miles_per_Gallon": 16.5,
         "Name": "mercedes-benz 280s",
         "Origin": "Europe",
         "Weight_in_lbs": 3820,
         "Year": "1976-01-01"
        },
        {
         "Acceleration": 12.1,
         "Cylinders": 8,
         "Displacement": 350,
         "Horsepower": 180,
         "Miles_per_Gallon": 16.5,
         "Name": "cadillac seville",
         "Origin": "USA",
         "Weight_in_lbs": 4380,
         "Year": "1976-01-01"
        },
        {
         "Acceleration": 12,
         "Cylinders": 8,
         "Displacement": 350,
         "Horsepower": 145,
         "Miles_per_Gallon": 13,
         "Name": "chevy c10",
         "Origin": "USA",
         "Weight_in_lbs": 4055,
         "Year": "1976-01-01"
        },
        {
         "Acceleration": 15,
         "Cylinders": 8,
         "Displacement": 302,
         "Horsepower": 130,
         "Miles_per_Gallon": 13,
         "Name": "ford f108",
         "Origin": "USA",
         "Weight_in_lbs": 3870,
         "Year": "1976-01-01"
        },
        {
         "Acceleration": 14,
         "Cylinders": 8,
         "Displacement": 318,
         "Horsepower": 150,
         "Miles_per_Gallon": 13,
         "Name": "dodge d100",
         "Origin": "USA",
         "Weight_in_lbs": 3755,
         "Year": "1976-01-01"
        },
        {
         "Acceleration": 18.5,
         "Cylinders": 4,
         "Displacement": 98,
         "Horsepower": 68,
         "Miles_per_Gallon": 31.5,
         "Name": "honda Accelerationord cvcc",
         "Origin": "Japan",
         "Weight_in_lbs": 2045,
         "Year": "1977-01-01"
        },
        {
         "Acceleration": 14.8,
         "Cylinders": 4,
         "Displacement": 111,
         "Horsepower": 80,
         "Miles_per_Gallon": 30,
         "Name": "buick opel isuzu deluxe",
         "Origin": "USA",
         "Weight_in_lbs": 2155,
         "Year": "1977-01-01"
        },
        {
         "Acceleration": 18.6,
         "Cylinders": 4,
         "Displacement": 79,
         "Horsepower": 58,
         "Miles_per_Gallon": 36,
         "Name": "renault 5 gtl",
         "Origin": "Europe",
         "Weight_in_lbs": 1825,
         "Year": "1977-01-01"
        },
        {
         "Acceleration": 15.5,
         "Cylinders": 4,
         "Displacement": 122,
         "Horsepower": 96,
         "Miles_per_Gallon": 25.5,
         "Name": "plymouth arrow gs",
         "Origin": "USA",
         "Weight_in_lbs": 2300,
         "Year": "1977-01-01"
        },
        {
         "Acceleration": 16.8,
         "Cylinders": 4,
         "Displacement": 85,
         "Horsepower": 70,
         "Miles_per_Gallon": 33.5,
         "Name": "datsun f-10 hatchback",
         "Origin": "Japan",
         "Weight_in_lbs": 1945,
         "Year": "1977-01-01"
        },
        {
         "Acceleration": 12.5,
         "Cylinders": 8,
         "Displacement": 305,
         "Horsepower": 145,
         "Miles_per_Gallon": 17.5,
         "Name": "chevrolet caprice classic",
         "Origin": "USA",
         "Weight_in_lbs": 3880,
         "Year": "1977-01-01"
        },
        {
         "Acceleration": 19,
         "Cylinders": 8,
         "Displacement": 260,
         "Horsepower": 110,
         "Miles_per_Gallon": 17,
         "Name": "oldsmobile cutlass supreme",
         "Origin": "USA",
         "Weight_in_lbs": 4060,
         "Year": "1977-01-01"
        },
        {
         "Acceleration": 13.7,
         "Cylinders": 8,
         "Displacement": 318,
         "Horsepower": 145,
         "Miles_per_Gallon": 15.5,
         "Name": "dodge monaco brougham",
         "Origin": "USA",
         "Weight_in_lbs": 4140,
         "Year": "1977-01-01"
        },
        {
         "Acceleration": 14.9,
         "Cylinders": 8,
         "Displacement": 302,
         "Horsepower": 130,
         "Miles_per_Gallon": 15,
         "Name": "mercury cougar brougham",
         "Origin": "USA",
         "Weight_in_lbs": 4295,
         "Year": "1977-01-01"
        },
        {
         "Acceleration": 16.4,
         "Cylinders": 6,
         "Displacement": 250,
         "Horsepower": 110,
         "Miles_per_Gallon": 17.5,
         "Name": "chevrolet concours",
         "Origin": "USA",
         "Weight_in_lbs": 3520,
         "Year": "1977-01-01"
        },
        {
         "Acceleration": 16.9,
         "Cylinders": 6,
         "Displacement": 231,
         "Horsepower": 105,
         "Miles_per_Gallon": 20.5,
         "Name": "buick skylark",
         "Origin": "USA",
         "Weight_in_lbs": 3425,
         "Year": "1977-01-01"
        },
        {
         "Acceleration": 17.7,
         "Cylinders": 6,
         "Displacement": 225,
         "Horsepower": 100,
         "Miles_per_Gallon": 19,
         "Name": "plymouth volare custom",
         "Origin": "USA",
         "Weight_in_lbs": 3630,
         "Year": "1977-01-01"
        },
        {
         "Acceleration": 19,
         "Cylinders": 6,
         "Displacement": 250,
         "Horsepower": 98,
         "Miles_per_Gallon": 18.5,
         "Name": "ford granada",
         "Origin": "USA",
         "Weight_in_lbs": 3525,
         "Year": "1977-01-01"
        },
        {
         "Acceleration": 11.1,
         "Cylinders": 8,
         "Displacement": 400,
         "Horsepower": 180,
         "Miles_per_Gallon": 16,
         "Name": "pontiac grand prix lj",
         "Origin": "USA",
         "Weight_in_lbs": 4220,
         "Year": "1977-01-01"
        },
        {
         "Acceleration": 11.4,
         "Cylinders": 8,
         "Displacement": 350,
         "Horsepower": 170,
         "Miles_per_Gallon": 15.5,
         "Name": "chevrolet monte carlo landau",
         "Origin": "USA",
         "Weight_in_lbs": 4165,
         "Year": "1977-01-01"
        },
        {
         "Acceleration": 12.2,
         "Cylinders": 8,
         "Displacement": 400,
         "Horsepower": 190,
         "Miles_per_Gallon": 15.5,
         "Name": "chrysler cordoba",
         "Origin": "USA",
         "Weight_in_lbs": 4325,
         "Year": "1977-01-01"
        },
        {
         "Acceleration": 14.5,
         "Cylinders": 8,
         "Displacement": 351,
         "Horsepower": 149,
         "Miles_per_Gallon": 16,
         "Name": "ford thunderbird",
         "Origin": "USA",
         "Weight_in_lbs": 4335,
         "Year": "1977-01-01"
        },
        {
         "Acceleration": 14.5,
         "Cylinders": 4,
         "Displacement": 97,
         "Horsepower": 78,
         "Miles_per_Gallon": 29,
         "Name": "volkswagen rabbit custom",
         "Origin": "Europe",
         "Weight_in_lbs": 1940,
         "Year": "1977-01-01"
        },
        {
         "Acceleration": 16,
         "Cylinders": 4,
         "Displacement": 151,
         "Horsepower": 88,
         "Miles_per_Gallon": 24.5,
         "Name": "pontiac sunbird coupe",
         "Origin": "USA",
         "Weight_in_lbs": 2740,
         "Year": "1977-01-01"
        },
        {
         "Acceleration": 18.2,
         "Cylinders": 4,
         "Displacement": 97,
         "Horsepower": 75,
         "Miles_per_Gallon": 26,
         "Name": "toyota corolla liftback",
         "Origin": "Japan",
         "Weight_in_lbs": 2265,
         "Year": "1977-01-01"
        },
        {
         "Acceleration": 15.8,
         "Cylinders": 4,
         "Displacement": 140,
         "Horsepower": 89,
         "Miles_per_Gallon": 25.5,
         "Name": "ford mustang ii 2+2",
         "Origin": "USA",
         "Weight_in_lbs": 2755,
         "Year": "1977-01-01"
        },
        {
         "Acceleration": 17,
         "Cylinders": 4,
         "Displacement": 98,
         "Horsepower": 63,
         "Miles_per_Gallon": 30.5,
         "Name": "chevrolet chevette",
         "Origin": "USA",
         "Weight_in_lbs": 2051,
         "Year": "1977-01-01"
        },
        {
         "Acceleration": 15.9,
         "Cylinders": 4,
         "Displacement": 98,
         "Horsepower": 83,
         "Miles_per_Gallon": 33.5,
         "Name": "dodge colt m/m",
         "Origin": "USA",
         "Weight_in_lbs": 2075,
         "Year": "1977-01-01"
        },
        {
         "Acceleration": 16.4,
         "Cylinders": 4,
         "Displacement": 97,
         "Horsepower": 67,
         "Miles_per_Gallon": 30,
         "Name": "subaru dl",
         "Origin": "Japan",
         "Weight_in_lbs": 1985,
         "Year": "1977-01-01"
        },
        {
         "Acceleration": 14.1,
         "Cylinders": 4,
         "Displacement": 97,
         "Horsepower": 78,
         "Miles_per_Gallon": 30.5,
         "Name": "volkswagen dasher",
         "Origin": "Europe",
         "Weight_in_lbs": 2190,
         "Year": "1977-01-01"
        },
        {
         "Acceleration": 14.5,
         "Cylinders": 6,
         "Displacement": 146,
         "Horsepower": 97,
         "Miles_per_Gallon": 22,
         "Name": "datsun 810",
         "Origin": "Japan",
         "Weight_in_lbs": 2815,
         "Year": "1977-01-01"
        },
        {
         "Acceleration": 12.8,
         "Cylinders": 4,
         "Displacement": 121,
         "Horsepower": 110,
         "Miles_per_Gallon": 21.5,
         "Name": "bmw 320i",
         "Origin": "Europe",
         "Weight_in_lbs": 2600,
         "Year": "1977-01-01"
        },
        {
         "Acceleration": 13.5,
         "Cylinders": 3,
         "Displacement": 80,
         "Horsepower": 110,
         "Miles_per_Gallon": 21.5,
         "Name": "mazda rx-4",
         "Origin": "Japan",
         "Weight_in_lbs": 2720,
         "Year": "1977-01-01"
        },
        {
         "Acceleration": 21.5,
         "Cylinders": 4,
         "Displacement": 90,
         "Horsepower": 48,
         "Miles_per_Gallon": 43.1,
         "Name": "volkswagen rabbit custom diesel",
         "Origin": "Europe",
         "Weight_in_lbs": 1985,
         "Year": "1978-01-01"
        },
        {
         "Acceleration": 14.4,
         "Cylinders": 4,
         "Displacement": 98,
         "Horsepower": 66,
         "Miles_per_Gallon": 36.1,
         "Name": "ford fiesta",
         "Origin": "USA",
         "Weight_in_lbs": 1800,
         "Year": "1978-01-01"
        },
        {
         "Acceleration": 19.4,
         "Cylinders": 4,
         "Displacement": 78,
         "Horsepower": 52,
         "Miles_per_Gallon": 32.8,
         "Name": "mazda glc deluxe",
         "Origin": "Japan",
         "Weight_in_lbs": 1985,
         "Year": "1978-01-01"
        },
        {
         "Acceleration": 18.6,
         "Cylinders": 4,
         "Displacement": 85,
         "Horsepower": 70,
         "Miles_per_Gallon": 39.4,
         "Name": "datsun b210 gx",
         "Origin": "Japan",
         "Weight_in_lbs": 2070,
         "Year": "1978-01-01"
        },
        {
         "Acceleration": 16.4,
         "Cylinders": 4,
         "Displacement": 91,
         "Horsepower": 60,
         "Miles_per_Gallon": 36.1,
         "Name": "honda civic cvcc",
         "Origin": "Japan",
         "Weight_in_lbs": 1800,
         "Year": "1978-01-01"
        },
        {
         "Acceleration": 15.5,
         "Cylinders": 8,
         "Displacement": 260,
         "Horsepower": 110,
         "Miles_per_Gallon": 19.9,
         "Name": "oldsmobile cutlass salon brougham",
         "Origin": "USA",
         "Weight_in_lbs": 3365,
         "Year": "1978-01-01"
        },
        {
         "Acceleration": 13.2,
         "Cylinders": 8,
         "Displacement": 318,
         "Horsepower": 140,
         "Miles_per_Gallon": 19.4,
         "Name": "dodge diplomat",
         "Origin": "USA",
         "Weight_in_lbs": 3735,
         "Year": "1978-01-01"
        },
        {
         "Acceleration": 12.8,
         "Cylinders": 8,
         "Displacement": 302,
         "Horsepower": 139,
         "Miles_per_Gallon": 20.2,
         "Name": "mercury monarch ghia",
         "Origin": "USA",
         "Weight_in_lbs": 3570,
         "Year": "1978-01-01"
        },
        {
         "Acceleration": 19.2,
         "Cylinders": 6,
         "Displacement": 231,
         "Horsepower": 105,
         "Miles_per_Gallon": 19.2,
         "Name": "pontiac phoenix lj",
         "Origin": "USA",
         "Weight_in_lbs": 3535,
         "Year": "1978-01-01"
        },
        {
         "Acceleration": 18.2,
         "Cylinders": 6,
         "Displacement": 200,
         "Horsepower": 95,
         "Miles_per_Gallon": 20.5,
         "Name": "chevrolet malibu",
         "Origin": "USA",
         "Weight_in_lbs": 3155,
         "Year": "1978-01-01"
        },
        {
         "Acceleration": 15.8,
         "Cylinders": 6,
         "Displacement": 200,
         "Horsepower": 85,
         "Miles_per_Gallon": 20.2,
         "Name": "ford fairmont (auto)",
         "Origin": "USA",
         "Weight_in_lbs": 2965,
         "Year": "1978-01-01"
        },
        {
         "Acceleration": 15.4,
         "Cylinders": 4,
         "Displacement": 140,
         "Horsepower": 88,
         "Miles_per_Gallon": 25.1,
         "Name": "ford fairmont (man)",
         "Origin": "USA",
         "Weight_in_lbs": 2720,
         "Year": "1978-01-01"
        },
        {
         "Acceleration": 17.2,
         "Cylinders": 6,
         "Displacement": 225,
         "Horsepower": 100,
         "Miles_per_Gallon": 20.5,
         "Name": "plymouth volare",
         "Origin": "USA",
         "Weight_in_lbs": 3430,
         "Year": "1978-01-01"
        },
        {
         "Acceleration": 17.2,
         "Cylinders": 6,
         "Displacement": 232,
         "Horsepower": 90,
         "Miles_per_Gallon": 19.4,
         "Name": "amc concord",
         "Origin": "USA",
         "Weight_in_lbs": 3210,
         "Year": "1978-01-01"
        },
        {
         "Acceleration": 15.8,
         "Cylinders": 6,
         "Displacement": 231,
         "Horsepower": 105,
         "Miles_per_Gallon": 20.6,
         "Name": "buick century special",
         "Origin": "USA",
         "Weight_in_lbs": 3380,
         "Year": "1978-01-01"
        },
        {
         "Acceleration": 16.7,
         "Cylinders": 6,
         "Displacement": 200,
         "Horsepower": 85,
         "Miles_per_Gallon": 20.8,
         "Name": "mercury zephyr",
         "Origin": "USA",
         "Weight_in_lbs": 3070,
         "Year": "1978-01-01"
        },
        {
         "Acceleration": 18.7,
         "Cylinders": 6,
         "Displacement": 225,
         "Horsepower": 110,
         "Miles_per_Gallon": 18.6,
         "Name": "dodge aspen",
         "Origin": "USA",
         "Weight_in_lbs": 3620,
         "Year": "1978-01-01"
        },
        {
         "Acceleration": 15.1,
         "Cylinders": 6,
         "Displacement": 258,
         "Horsepower": 120,
         "Miles_per_Gallon": 18.1,
         "Name": "amc concord d/l",
         "Origin": "USA",
         "Weight_in_lbs": 3410,
         "Year": "1978-01-01"
        },
        {
         "Acceleration": 13.2,
         "Cylinders": 8,
         "Displacement": 305,
         "Horsepower": 145,
         "Miles_per_Gallon": 19.2,
         "Name": "chevrolet monte carlo landau",
         "Origin": "USA",
         "Weight_in_lbs": 3425,
         "Year": "1978-01-01"
        },
        {
         "Acceleration": 13.4,
         "Cylinders": 6,
         "Displacement": 231,
         "Horsepower": 165,
         "Miles_per_Gallon": 17.7,
         "Name": "buick regal sport coupe (turbo)",
         "Origin": "USA",
         "Weight_in_lbs": 3445,
         "Year": "1978-01-01"
        },
        {
         "Acceleration": 11.2,
         "Cylinders": 8,
         "Displacement": 302,
         "Horsepower": 139,
         "Miles_per_Gallon": 18.1,
         "Name": "ford futura",
         "Origin": "USA",
         "Weight_in_lbs": 3205,
         "Year": "1978-01-01"
        },
        {
         "Acceleration": 13.7,
         "Cylinders": 8,
         "Displacement": 318,
         "Horsepower": 140,
         "Miles_per_Gallon": 17.5,
         "Name": "dodge magnum xe",
         "Origin": "USA",
         "Weight_in_lbs": 4080,
         "Year": "1978-01-01"
        },
        {
         "Acceleration": 16.5,
         "Cylinders": 4,
         "Displacement": 98,
         "Horsepower": 68,
         "Miles_per_Gallon": 30,
         "Name": "chevrolet chevette",
         "Origin": "USA",
         "Weight_in_lbs": 2155,
         "Year": "1978-01-01"
        },
        {
         "Acceleration": 14.2,
         "Cylinders": 4,
         "Displacement": 134,
         "Horsepower": 95,
         "Miles_per_Gallon": 27.5,
         "Name": "toyota corona",
         "Origin": "Japan",
         "Weight_in_lbs": 2560,
         "Year": "1978-01-01"
        },
        {
         "Acceleration": 14.7,
         "Cylinders": 4,
         "Displacement": 119,
         "Horsepower": 97,
         "Miles_per_Gallon": 27.2,
         "Name": "datsun 510",
         "Origin": "Japan",
         "Weight_in_lbs": 2300,
         "Year": "1978-01-01"
        },
        {
         "Acceleration": 14.5,
         "Cylinders": 4,
         "Displacement": 105,
         "Horsepower": 75,
         "Miles_per_Gallon": 30.9,
         "Name": "dodge omni",
         "Origin": "USA",
         "Weight_in_lbs": 2230,
         "Year": "1978-01-01"
        },
        {
         "Acceleration": 14.8,
         "Cylinders": 4,
         "Displacement": 134,
         "Horsepower": 95,
         "Miles_per_Gallon": 21.1,
         "Name": "toyota celica gt liftback",
         "Origin": "Japan",
         "Weight_in_lbs": 2515,
         "Year": "1978-01-01"
        },
        {
         "Acceleration": 16.7,
         "Cylinders": 4,
         "Displacement": 156,
         "Horsepower": 105,
         "Miles_per_Gallon": 23.2,
         "Name": "plymouth sapporo",
         "Origin": "USA",
         "Weight_in_lbs": 2745,
         "Year": "1978-01-01"
        },
        {
         "Acceleration": 17.6,
         "Cylinders": 4,
         "Displacement": 151,
         "Horsepower": 85,
         "Miles_per_Gallon": 23.8,
         "Name": "oldsmobile starfire sx",
         "Origin": "USA",
         "Weight_in_lbs": 2855,
         "Year": "1978-01-01"
        },
        {
         "Acceleration": 14.9,
         "Cylinders": 4,
         "Displacement": 119,
         "Horsepower": 97,
         "Miles_per_Gallon": 23.9,
         "Name": "datsun 200-sx",
         "Origin": "Japan",
         "Weight_in_lbs": 2405,
         "Year": "1978-01-01"
        },
        {
         "Acceleration": 15.9,
         "Cylinders": 5,
         "Displacement": 131,
         "Horsepower": 103,
         "Miles_per_Gallon": 20.3,
         "Name": "audi 5000",
         "Origin": "Europe",
         "Weight_in_lbs": 2830,
         "Year": "1978-01-01"
        },
        {
         "Acceleration": 13.6,
         "Cylinders": 6,
         "Displacement": 163,
         "Horsepower": 125,
         "Miles_per_Gallon": 17,
         "Name": "volvo 264gl",
         "Origin": "Europe",
         "Weight_in_lbs": 3140,
         "Year": "1978-01-01"
        },
        {
         "Acceleration": 15.7,
         "Cylinders": 4,
         "Displacement": 121,
         "Horsepower": 115,
         "Miles_per_Gallon": 21.6,
         "Name": "saab 99gle",
         "Origin": "Europe",
         "Weight_in_lbs": 2795,
         "Year": "1978-01-01"
        },
        {
         "Acceleration": 15.8,
         "Cylinders": 6,
         "Displacement": 163,
         "Horsepower": 133,
         "Miles_per_Gallon": 16.2,
         "Name": "peugeot 604sl",
         "Origin": "Europe",
         "Weight_in_lbs": 3410,
         "Year": "1978-01-01"
        },
        {
         "Acceleration": 14.9,
         "Cylinders": 4,
         "Displacement": 89,
         "Horsepower": 71,
         "Miles_per_Gallon": 31.5,
         "Name": "volkswagen scirocco",
         "Origin": "Europe",
         "Weight_in_lbs": 1990,
         "Year": "1978-01-01"
        },
        {
         "Acceleration": 16.6,
         "Cylinders": 4,
         "Displacement": 98,
         "Horsepower": 68,
         "Miles_per_Gallon": 29.5,
         "Name": "honda Accelerationord lx",
         "Origin": "Japan",
         "Weight_in_lbs": 2135,
         "Year": "1978-01-01"
        },
        {
         "Acceleration": 15.4,
         "Cylinders": 6,
         "Displacement": 231,
         "Horsepower": 115,
         "Miles_per_Gallon": 21.5,
         "Name": "pontiac lemans v6",
         "Origin": "USA",
         "Weight_in_lbs": 3245,
         "Year": "1979-01-01"
        },
        {
         "Acceleration": 18.2,
         "Cylinders": 6,
         "Displacement": 200,
         "Horsepower": 85,
         "Miles_per_Gallon": 19.8,
         "Name": "mercury zephyr 6",
         "Origin": "USA",
         "Weight_in_lbs": 2990,
         "Year": "1979-01-01"
        },
        {
         "Acceleration": 17.3,
         "Cylinders": 4,
         "Displacement": 140,
         "Horsepower": 88,
         "Miles_per_Gallon": 22.3,
         "Name": "ford fairmont 4",
         "Origin": "USA",
         "Weight_in_lbs": 2890,
         "Year": "1979-01-01"
        },
        {
         "Acceleration": 18.2,
         "Cylinders": 6,
         "Displacement": 232,
         "Horsepower": 90,
         "Miles_per_Gallon": 20.2,
         "Name": "amc concord dl 6",
         "Origin": "USA",
         "Weight_in_lbs": 3265,
         "Year": "1979-01-01"
        },
        {
         "Acceleration": 16.6,
         "Cylinders": 6,
         "Displacement": 225,
         "Horsepower": 110,
         "Miles_per_Gallon": 20.6,
         "Name": "dodge aspen 6",
         "Origin": "USA",
         "Weight_in_lbs": 3360,
         "Year": "1979-01-01"
        },
        {
         "Acceleration": 15.4,
         "Cylinders": 8,
         "Displacement": 305,
         "Horsepower": 130,
         "Miles_per_Gallon": 17,
         "Name": "chevrolet caprice classic",
         "Origin": "USA",
         "Weight_in_lbs": 3840,
         "Year": "1979-01-01"
        },
        {
         "Acceleration": 13.4,
         "Cylinders": 8,
         "Displacement": 302,
         "Horsepower": 129,
         "Miles_per_Gallon": 17.6,
         "Name": "ford ltd landau",
         "Origin": "USA",
         "Weight_in_lbs": 3725,
         "Year": "1979-01-01"
        },
        {
         "Acceleration": 13.2,
         "Cylinders": 8,
         "Displacement": 351,
         "Horsepower": 138,
         "Miles_per_Gallon": 16.5,
         "Name": "mercury grand marquis",
         "Origin": "USA",
         "Weight_in_lbs": 3955,
         "Year": "1979-01-01"
        },
        {
         "Acceleration": 15.2,
         "Cylinders": 8,
         "Displacement": 318,
         "Horsepower": 135,
         "Miles_per_Gallon": 18.2,
         "Name": "dodge st. regis",
         "Origin": "USA",
         "Weight_in_lbs": 3830,
         "Year": "1979-01-01"
        },
        {
         "Acceleration": 14.9,
         "Cylinders": 8,
         "Displacement": 350,
         "Horsepower": 155,
         "Miles_per_Gallon": 16.9,
         "Name": "buick estate wagon (sw)",
         "Origin": "USA",
         "Weight_in_lbs": 4360,
         "Year": "1979-01-01"
        },
        {
         "Acceleration": 14.3,
         "Cylinders": 8,
         "Displacement": 351,
         "Horsepower": 142,
         "Miles_per_Gallon": 15.5,
         "Name": "ford country squire (sw)",
         "Origin": "USA",
         "Weight_in_lbs": 4054,
         "Year": "1979-01-01"
        },
        {
         "Acceleration": 15,
         "Cylinders": 8,
         "Displacement": 267,
         "Horsepower": 125,
         "Miles_per_Gallon": 19.2,
         "Name": "chevrolet malibu classic (sw)",
         "Origin": "USA",
         "Weight_in_lbs": 3605,
         "Year": "1979-01-01"
        },
        {
         "Acceleration": 13,
         "Cylinders": 8,
         "Displacement": 360,
         "Horsepower": 150,
         "Miles_per_Gallon": 18.5,
         "Name": "chrysler lebaron town @ country (sw)",
         "Origin": "USA",
         "Weight_in_lbs": 3940,
         "Year": "1979-01-01"
        },
        {
         "Acceleration": 14,
         "Cylinders": 4,
         "Displacement": 89,
         "Horsepower": 71,
         "Miles_per_Gallon": 31.9,
         "Name": "vw rabbit custom",
         "Origin": "Europe",
         "Weight_in_lbs": 1925,
         "Year": "1979-01-01"
        },
        {
         "Acceleration": 15.2,
         "Cylinders": 4,
         "Displacement": 86,
         "Horsepower": 65,
         "Miles_per_Gallon": 34.1,
         "Name": "maxda glc deluxe",
         "Origin": "Japan",
         "Weight_in_lbs": 1975,
         "Year": "1979-01-01"
        },
        {
         "Acceleration": 14.4,
         "Cylinders": 4,
         "Displacement": 98,
         "Horsepower": 80,
         "Miles_per_Gallon": 35.7,
         "Name": "dodge colt hatchback custom",
         "Origin": "USA",
         "Weight_in_lbs": 1915,
         "Year": "1979-01-01"
        },
        {
         "Acceleration": 15,
         "Cylinders": 4,
         "Displacement": 121,
         "Horsepower": 80,
         "Miles_per_Gallon": 27.4,
         "Name": "amc spirit dl",
         "Origin": "USA",
         "Weight_in_lbs": 2670,
         "Year": "1979-01-01"
        },
        {
         "Acceleration": 20.1,
         "Cylinders": 5,
         "Displacement": 183,
         "Horsepower": 77,
         "Miles_per_Gallon": 25.4,
         "Name": "mercedes benz 300d",
         "Origin": "Europe",
         "Weight_in_lbs": 3530,
         "Year": "1979-01-01"
        },
        {
         "Acceleration": 17.4,
         "Cylinders": 8,
         "Displacement": 350,
         "Horsepower": 125,
         "Miles_per_Gallon": 23,
         "Name": "cadillac eldorado",
         "Origin": "USA",
         "Weight_in_lbs": 3900,
         "Year": "1979-01-01"
        },
        {
         "Acceleration": 24.8,
         "Cylinders": 4,
         "Displacement": 141,
         "Horsepower": 71,
         "Miles_per_Gallon": 27.2,
         "Name": "peugeot 504",
         "Origin": "Europe",
         "Weight_in_lbs": 3190,
         "Year": "1979-01-01"
        },
        {
         "Acceleration": 22.2,
         "Cylinders": 8,
         "Displacement": 260,
         "Horsepower": 90,
         "Miles_per_Gallon": 23.9,
         "Name": "oldsmobile cutlass salon brougham",
         "Origin": "USA",
         "Weight_in_lbs": 3420,
         "Year": "1979-01-01"
        },
        {
         "Acceleration": 13.2,
         "Cylinders": 4,
         "Displacement": 105,
         "Horsepower": 70,
         "Miles_per_Gallon": 34.2,
         "Name": "plymouth horizon",
         "Origin": "USA",
         "Weight_in_lbs": 2200,
         "Year": "1979-01-01"
        },
        {
         "Acceleration": 14.9,
         "Cylinders": 4,
         "Displacement": 105,
         "Horsepower": 70,
         "Miles_per_Gallon": 34.5,
         "Name": "plymouth horizon tc3",
         "Origin": "USA",
         "Weight_in_lbs": 2150,
         "Year": "1979-01-01"
        },
        {
         "Acceleration": 19.2,
         "Cylinders": 4,
         "Displacement": 85,
         "Horsepower": 65,
         "Miles_per_Gallon": 31.8,
         "Name": "datsun 210",
         "Origin": "Japan",
         "Weight_in_lbs": 2020,
         "Year": "1979-01-01"
        },
        {
         "Acceleration": 14.7,
         "Cylinders": 4,
         "Displacement": 91,
         "Horsepower": 69,
         "Miles_per_Gallon": 37.3,
         "Name": "fiat strada custom",
         "Origin": "Europe",
         "Weight_in_lbs": 2130,
         "Year": "1979-01-01"
        },
        {
         "Acceleration": 16,
         "Cylinders": 4,
         "Displacement": 151,
         "Horsepower": 90,
         "Miles_per_Gallon": 28.4,
         "Name": "buick skylark limited",
         "Origin": "USA",
         "Weight_in_lbs": 2670,
         "Year": "1979-01-01"
        },
        {
         "Acceleration": 11.3,
         "Cylinders": 6,
         "Displacement": 173,
         "Horsepower": 115,
         "Miles_per_Gallon": 28.8,
         "Name": "chevrolet citation",
         "Origin": "USA",
         "Weight_in_lbs": 2595,
         "Year": "1979-01-01"
        },
        {
         "Acceleration": 12.9,
         "Cylinders": 6,
         "Displacement": 173,
         "Horsepower": 115,
         "Miles_per_Gallon": 26.8,
         "Name": "oldsmobile omega brougham",
         "Origin": "USA",
         "Weight_in_lbs": 2700,
         "Year": "1979-01-01"
        },
        {
         "Acceleration": 13.2,
         "Cylinders": 4,
         "Displacement": 151,
         "Horsepower": 90,
         "Miles_per_Gallon": 33.5,
         "Name": "pontiac phoenix",
         "Origin": "USA",
         "Weight_in_lbs": 2556,
         "Year": "1979-01-01"
        },
        {
         "Acceleration": 14.7,
         "Cylinders": 4,
         "Displacement": 98,
         "Horsepower": 76,
         "Miles_per_Gallon": 41.5,
         "Name": "vw rabbit",
         "Origin": "Europe",
         "Weight_in_lbs": 2144,
         "Year": "1980-01-01"
        },
        {
         "Acceleration": 18.8,
         "Cylinders": 4,
         "Displacement": 89,
         "Horsepower": 60,
         "Miles_per_Gallon": 38.1,
         "Name": "toyota corolla tercel",
         "Origin": "Japan",
         "Weight_in_lbs": 1968,
         "Year": "1980-01-01"
        },
        {
         "Acceleration": 15.5,
         "Cylinders": 4,
         "Displacement": 98,
         "Horsepower": 70,
         "Miles_per_Gallon": 32.1,
         "Name": "chevrolet chevette",
         "Origin": "USA",
         "Weight_in_lbs": 2120,
         "Year": "1980-01-01"
        },
        {
         "Acceleration": 16.4,
         "Cylinders": 4,
         "Displacement": 86,
         "Horsepower": 65,
         "Miles_per_Gallon": 37.2,
         "Name": "datsun 310",
         "Origin": "Japan",
         "Weight_in_lbs": 2019,
         "Year": "1980-01-01"
        },
        {
         "Acceleration": 16.5,
         "Cylinders": 4,
         "Displacement": 151,
         "Horsepower": 90,
         "Miles_per_Gallon": 28,
         "Name": "chevrolet citation",
         "Origin": "USA",
         "Weight_in_lbs": 2678,
         "Year": "1980-01-01"
        },
        {
         "Acceleration": 18.1,
         "Cylinders": 4,
         "Displacement": 140,
         "Horsepower": 88,
         "Miles_per_Gallon": 26.4,
         "Name": "ford fairmont",
         "Origin": "USA",
         "Weight_in_lbs": 2870,
         "Year": "1980-01-01"
        },
        {
         "Acceleration": 20.1,
         "Cylinders": 4,
         "Displacement": 151,
         "Horsepower": 90,
         "Miles_per_Gallon": 24.3,
         "Name": "amc concord",
         "Origin": "USA",
         "Weight_in_lbs": 3003,
         "Year": "1980-01-01"
        },
        {
         "Acceleration": 18.7,
         "Cylinders": 6,
         "Displacement": 225,
         "Horsepower": 90,
         "Miles_per_Gallon": 19.1,
         "Name": "dodge aspen",
         "Origin": "USA",
         "Weight_in_lbs": 3381,
         "Year": "1980-01-01"
        },
        {
         "Acceleration": 15.8,
         "Cylinders": 4,
         "Displacement": 97,
         "Horsepower": 78,
         "Miles_per_Gallon": 34.3,
         "Name": "audi 4000",
         "Origin": "Europe",
         "Weight_in_lbs": 2188,
         "Year": "1980-01-01"
        },
        {
         "Acceleration": 15.5,
         "Cylinders": 4,
         "Displacement": 134,
         "Horsepower": 90,
         "Miles_per_Gallon": 29.8,
         "Name": "toyota corona liftback",
         "Origin": "Japan",
         "Weight_in_lbs": 2711,
         "Year": "1980-01-01"
        },
        {
         "Acceleration": 17.5,
         "Cylinders": 4,
         "Displacement": 120,
         "Horsepower": 75,
         "Miles_per_Gallon": 31.3,
         "Name": "mazda 626",
         "Origin": "Japan",
         "Weight_in_lbs": 2542,
         "Year": "1980-01-01"
        },
        {
         "Acceleration": 15,
         "Cylinders": 4,
         "Displacement": 119,
         "Horsepower": 92,
         "Miles_per_Gallon": 37,
         "Name": "datsun 510 hatchback",
         "Origin": "Japan",
         "Weight_in_lbs": 2434,
         "Year": "1980-01-01"
        },
        {
         "Acceleration": 15.2,
         "Cylinders": 4,
         "Displacement": 108,
         "Horsepower": 75,
         "Miles_per_Gallon": 32.2,
         "Name": "toyota corolla",
         "Origin": "Japan",
         "Weight_in_lbs": 2265,
         "Year": "1980-01-01"
        },
        {
         "Acceleration": 17.9,
         "Cylinders": 4,
         "Displacement": 86,
         "Horsepower": 65,
         "Miles_per_Gallon": 46.6,
         "Name": "mazda glc",
         "Origin": "Japan",
         "Weight_in_lbs": 2110,
         "Year": "1980-01-01"
        },
        {
         "Acceleration": 14.4,
         "Cylinders": 4,
         "Displacement": 156,
         "Horsepower": 105,
         "Miles_per_Gallon": 27.9,
         "Name": "dodge colt",
         "Origin": "USA",
         "Weight_in_lbs": 2800,
         "Year": "1980-01-01"
        },
        {
         "Acceleration": 19.2,
         "Cylinders": 4,
         "Displacement": 85,
         "Horsepower": 65,
         "Miles_per_Gallon": 40.8,
         "Name": "datsun 210",
         "Origin": "Japan",
         "Weight_in_lbs": 2110,
         "Year": "1980-01-01"
        },
        {
         "Acceleration": 21.7,
         "Cylinders": 4,
         "Displacement": 90,
         "Horsepower": 48,
         "Miles_per_Gallon": 44.3,
         "Name": "vw rabbit c (diesel)",
         "Origin": "Europe",
         "Weight_in_lbs": 2085,
         "Year": "1980-01-01"
        },
        {
         "Acceleration": 23.7,
         "Cylinders": 4,
         "Displacement": 90,
         "Horsepower": 48,
         "Miles_per_Gallon": 43.4,
         "Name": "vw dasher (diesel)",
         "Origin": "Europe",
         "Weight_in_lbs": 2335,
         "Year": "1980-01-01"
        },
        {
         "Acceleration": 19.9,
         "Cylinders": 5,
         "Displacement": 121,
         "Horsepower": 67,
         "Miles_per_Gallon": 36.4,
         "Name": "audi 5000s (diesel)",
         "Origin": "Europe",
         "Weight_in_lbs": 2950,
         "Year": "1980-01-01"
        },
        {
         "Acceleration": 21.8,
         "Cylinders": 4,
         "Displacement": 146,
         "Horsepower": 67,
         "Miles_per_Gallon": 30,
         "Name": "mercedes-benz 240d",
         "Origin": "Europe",
         "Weight_in_lbs": 3250,
         "Year": "1980-01-01"
        },
        {
         "Acceleration": 13.8,
         "Cylinders": 4,
         "Displacement": 91,
         "Horsepower": 67,
         "Miles_per_Gallon": 44.6,
         "Name": "honda civic 1500 gl",
         "Origin": "Japan",
         "Weight_in_lbs": 1850,
         "Year": "1980-01-01"
        },
        {
         "Acceleration": 17.3,
         "Cylinders": 4,
         "Displacement": 85,
         "Horsepower": null,
         "Miles_per_Gallon": 40.9,
         "Name": "renault lecar deluxe",
         "Origin": "Europe",
         "Weight_in_lbs": 1835,
         "Year": "1980-01-01"
        },
        {
         "Acceleration": 18,
         "Cylinders": 4,
         "Displacement": 97,
         "Horsepower": 67,
         "Miles_per_Gallon": 33.8,
         "Name": "subaru dl",
         "Origin": "Japan",
         "Weight_in_lbs": 2145,
         "Year": "1980-01-01"
        },
        {
         "Acceleration": 15.3,
         "Cylinders": 4,
         "Displacement": 89,
         "Horsepower": 62,
         "Miles_per_Gallon": 29.8,
         "Name": "vokswagen rabbit",
         "Origin": "Europe",
         "Weight_in_lbs": 1845,
         "Year": "1980-01-01"
        },
        {
         "Acceleration": 11.4,
         "Cylinders": 6,
         "Displacement": 168,
         "Horsepower": 132,
         "Miles_per_Gallon": 32.7,
         "Name": "datsun 280-zx",
         "Origin": "Japan",
         "Weight_in_lbs": 2910,
         "Year": "1980-01-01"
        },
        {
         "Acceleration": 12.5,
         "Cylinders": 3,
         "Displacement": 70,
         "Horsepower": 100,
         "Miles_per_Gallon": 23.7,
         "Name": "mazda rx-7 gs",
         "Origin": "Japan",
         "Weight_in_lbs": 2420,
         "Year": "1980-01-01"
        },
        {
         "Acceleration": 15.1,
         "Cylinders": 4,
         "Displacement": 122,
         "Horsepower": 88,
         "Miles_per_Gallon": 35,
         "Name": "triumph tr7 coupe",
         "Origin": "Europe",
         "Weight_in_lbs": 2500,
         "Year": "1980-01-01"
        },
        {
         "Acceleration": 14.3,
         "Cylinders": 4,
         "Displacement": 140,
         "Horsepower": null,
         "Miles_per_Gallon": 23.6,
         "Name": "ford mustang cobra",
         "Origin": "USA",
         "Weight_in_lbs": 2905,
         "Year": "1980-01-01"
        },
        {
         "Acceleration": 17,
         "Cylinders": 4,
         "Displacement": 107,
         "Horsepower": 72,
         "Miles_per_Gallon": 32.4,
         "Name": "honda Accelerationord",
         "Origin": "Japan",
         "Weight_in_lbs": 2290,
         "Year": "1980-01-01"
        },
        {
         "Acceleration": 15.7,
         "Cylinders": 4,
         "Displacement": 135,
         "Horsepower": 84,
         "Miles_per_Gallon": 27.2,
         "Name": "plymouth reliant",
         "Origin": "USA",
         "Weight_in_lbs": 2490,
         "Year": "1982-01-01"
        },
        {
         "Acceleration": 16.4,
         "Cylinders": 4,
         "Displacement": 151,
         "Horsepower": 84,
         "Miles_per_Gallon": 26.6,
         "Name": "buick skylark",
         "Origin": "USA",
         "Weight_in_lbs": 2635,
         "Year": "1982-01-01"
        },
        {
         "Acceleration": 14.4,
         "Cylinders": 4,
         "Displacement": 156,
         "Horsepower": 92,
         "Miles_per_Gallon": 25.8,
         "Name": "dodge aries wagon (sw)",
         "Origin": "USA",
         "Weight_in_lbs": 2620,
         "Year": "1982-01-01"
        },
        {
         "Acceleration": 12.6,
         "Cylinders": 6,
         "Displacement": 173,
         "Horsepower": 110,
         "Miles_per_Gallon": 23.5,
         "Name": "chevrolet citation",
         "Origin": "USA",
         "Weight_in_lbs": 2725,
         "Year": "1982-01-01"
        },
        {
         "Acceleration": 12.9,
         "Cylinders": 4,
         "Displacement": 135,
         "Horsepower": 84,
         "Miles_per_Gallon": 30,
         "Name": "plymouth reliant",
         "Origin": "USA",
         "Weight_in_lbs": 2385,
         "Year": "1982-01-01"
        },
        {
         "Acceleration": 16.9,
         "Cylinders": 4,
         "Displacement": 79,
         "Horsepower": 58,
         "Miles_per_Gallon": 39.1,
         "Name": "toyota starlet",
         "Origin": "Japan",
         "Weight_in_lbs": 1755,
         "Year": "1982-01-01"
        },
        {
         "Acceleration": 16.4,
         "Cylinders": 4,
         "Displacement": 86,
         "Horsepower": 64,
         "Miles_per_Gallon": 39,
         "Name": "plymouth champ",
         "Origin": "USA",
         "Weight_in_lbs": 1875,
         "Year": "1982-01-01"
        },
        {
         "Acceleration": 16.1,
         "Cylinders": 4,
         "Displacement": 81,
         "Horsepower": 60,
         "Miles_per_Gallon": 35.1,
         "Name": "honda civic 1300",
         "Origin": "Japan",
         "Weight_in_lbs": 1760,
         "Year": "1982-01-01"
        },
        {
         "Acceleration": 17.8,
         "Cylinders": 4,
         "Displacement": 97,
         "Horsepower": 67,
         "Miles_per_Gallon": 32.3,
         "Name": "subaru",
         "Origin": "Japan",
         "Weight_in_lbs": 2065,
         "Year": "1982-01-01"
        },
        {
         "Acceleration": 19.4,
         "Cylinders": 4,
         "Displacement": 85,
         "Horsepower": 65,
         "Miles_per_Gallon": 37,
         "Name": "datsun 210",
         "Origin": "Japan",
         "Weight_in_lbs": 1975,
         "Year": "1982-01-01"
        },
        {
         "Acceleration": 17.3,
         "Cylinders": 4,
         "Displacement": 89,
         "Horsepower": 62,
         "Miles_per_Gallon": 37.7,
         "Name": "toyota tercel",
         "Origin": "Japan",
         "Weight_in_lbs": 2050,
         "Year": "1982-01-01"
        },
        {
         "Acceleration": 16,
         "Cylinders": 4,
         "Displacement": 91,
         "Horsepower": 68,
         "Miles_per_Gallon": 34.1,
         "Name": "mazda glc 4",
         "Origin": "Japan",
         "Weight_in_lbs": 1985,
         "Year": "1982-01-01"
        },
        {
         "Acceleration": 14.9,
         "Cylinders": 4,
         "Displacement": 105,
         "Horsepower": 63,
         "Miles_per_Gallon": 34.7,
         "Name": "plymouth horizon 4",
         "Origin": "USA",
         "Weight_in_lbs": 2215,
         "Year": "1982-01-01"
        },
        {
         "Acceleration": 16.2,
         "Cylinders": 4,
         "Displacement": 98,
         "Horsepower": 65,
         "Miles_per_Gallon": 34.4,
         "Name": "ford escort 4w",
         "Origin": "USA",
         "Weight_in_lbs": 2045,
         "Year": "1982-01-01"
        },
        {
         "Acceleration": 20.7,
         "Cylinders": 4,
         "Displacement": 98,
         "Horsepower": 65,
         "Miles_per_Gallon": 29.9,
         "Name": "ford escort 2h",
         "Origin": "USA",
         "Weight_in_lbs": 2380,
         "Year": "1982-01-01"
        },
        {
         "Acceleration": 14.2,
         "Cylinders": 4,
         "Displacement": 105,
         "Horsepower": 74,
         "Miles_per_Gallon": 33,
         "Name": "volkswagen jetta",
         "Origin": "Europe",
         "Weight_in_lbs": 2190,
         "Year": "1982-01-01"
        },
        {
         "Acceleration": 15.8,
         "Cylinders": 4,
         "Displacement": 100,
         "Horsepower": null,
         "Miles_per_Gallon": 34.5,
         "Name": "renault 18i",
         "Origin": "Europe",
         "Weight_in_lbs": 2320,
         "Year": "1982-01-01"
        },
        {
         "Acceleration": 14.4,
         "Cylinders": 4,
         "Displacement": 107,
         "Horsepower": 75,
         "Miles_per_Gallon": 33.7,
         "Name": "honda prelude",
         "Origin": "Japan",
         "Weight_in_lbs": 2210,
         "Year": "1982-01-01"
        },
        {
         "Acceleration": 16.8,
         "Cylinders": 4,
         "Displacement": 108,
         "Horsepower": 75,
         "Miles_per_Gallon": 32.4,
         "Name": "toyota corolla",
         "Origin": "Japan",
         "Weight_in_lbs": 2350,
         "Year": "1982-01-01"
        },
        {
         "Acceleration": 14.8,
         "Cylinders": 4,
         "Displacement": 119,
         "Horsepower": 100,
         "Miles_per_Gallon": 32.9,
         "Name": "datsun 200sx",
         "Origin": "Japan",
         "Weight_in_lbs": 2615,
         "Year": "1982-01-01"
        },
        {
         "Acceleration": 18.3,
         "Cylinders": 4,
         "Displacement": 120,
         "Horsepower": 74,
         "Miles_per_Gallon": 31.6,
         "Name": "mazda 626",
         "Origin": "Japan",
         "Weight_in_lbs": 2635,
         "Year": "1982-01-01"
        },
        {
         "Acceleration": 20.4,
         "Cylinders": 4,
         "Displacement": 141,
         "Horsepower": 80,
         "Miles_per_Gallon": 28.1,
         "Name": "peugeot 505s turbo diesel",
         "Origin": "Europe",
         "Weight_in_lbs": 3230,
         "Year": "1982-01-01"
        },
        {
         "Acceleration": 15.4,
         "Cylinders": 4,
         "Displacement": 121,
         "Horsepower": 110,
         "Miles_per_Gallon": null,
         "Name": "saab 900s",
         "Origin": "Europe",
         "Weight_in_lbs": 2800,
         "Year": "1982-01-01"
        },
        {
         "Acceleration": 19.6,
         "Cylinders": 6,
         "Displacement": 145,
         "Horsepower": 76,
         "Miles_per_Gallon": 30.7,
         "Name": "volvo diesel",
         "Origin": "Europe",
         "Weight_in_lbs": 3160,
         "Year": "1982-01-01"
        },
        {
         "Acceleration": 12.6,
         "Cylinders": 6,
         "Displacement": 168,
         "Horsepower": 116,
         "Miles_per_Gallon": 25.4,
         "Name": "toyota cressida",
         "Origin": "Japan",
         "Weight_in_lbs": 2900,
         "Year": "1982-01-01"
        },
        {
         "Acceleration": 13.8,
         "Cylinders": 6,
         "Displacement": 146,
         "Horsepower": 120,
         "Miles_per_Gallon": 24.2,
         "Name": "datsun 810 maxima",
         "Origin": "Japan",
         "Weight_in_lbs": 2930,
         "Year": "1982-01-01"
        },
        {
         "Acceleration": 15.8,
         "Cylinders": 6,
         "Displacement": 231,
         "Horsepower": 110,
         "Miles_per_Gallon": 22.4,
         "Name": "buick century",
         "Origin": "USA",
         "Weight_in_lbs": 3415,
         "Year": "1982-01-01"
        },
        {
         "Acceleration": 19,
         "Cylinders": 8,
         "Displacement": 350,
         "Horsepower": 105,
         "Miles_per_Gallon": 26.6,
         "Name": "oldsmobile cutlass ls",
         "Origin": "USA",
         "Weight_in_lbs": 3725,
         "Year": "1982-01-01"
        },
        {
         "Acceleration": 17.1,
         "Cylinders": 6,
         "Displacement": 200,
         "Horsepower": 88,
         "Miles_per_Gallon": 20.2,
         "Name": "ford granada gl",
         "Origin": "USA",
         "Weight_in_lbs": 3060,
         "Year": "1982-01-01"
        },
        {
         "Acceleration": 16.6,
         "Cylinders": 6,
         "Displacement": 225,
         "Horsepower": 85,
         "Miles_per_Gallon": 17.6,
         "Name": "chrysler lebaron salon",
         "Origin": "USA",
         "Weight_in_lbs": 3465,
         "Year": "1982-01-01"
        },
        {
         "Acceleration": 19.6,
         "Cylinders": 4,
         "Displacement": 112,
         "Horsepower": 88,
         "Miles_per_Gallon": 28,
         "Name": "chevrolet cavalier",
         "Origin": "USA",
         "Weight_in_lbs": 2605,
         "Year": "1982-01-01"
        },
        {
         "Acceleration": 18.6,
         "Cylinders": 4,
         "Displacement": 112,
         "Horsepower": 88,
         "Miles_per_Gallon": 27,
         "Name": "chevrolet cavalier wagon",
         "Origin": "USA",
         "Weight_in_lbs": 2640,
         "Year": "1982-01-01"
        },
        {
         "Acceleration": 18,
         "Cylinders": 4,
         "Displacement": 112,
         "Horsepower": 88,
         "Miles_per_Gallon": 34,
         "Name": "chevrolet cavalier 2-door",
         "Origin": "USA",
         "Weight_in_lbs": 2395,
         "Year": "1982-01-01"
        },
        {
         "Acceleration": 16.2,
         "Cylinders": 4,
         "Displacement": 112,
         "Horsepower": 85,
         "Miles_per_Gallon": 31,
         "Name": "pontiac j2000 se hatchback",
         "Origin": "USA",
         "Weight_in_lbs": 2575,
         "Year": "1982-01-01"
        },
        {
         "Acceleration": 16,
         "Cylinders": 4,
         "Displacement": 135,
         "Horsepower": 84,
         "Miles_per_Gallon": 29,
         "Name": "dodge aries se",
         "Origin": "USA",
         "Weight_in_lbs": 2525,
         "Year": "1982-01-01"
        },
        {
         "Acceleration": 18,
         "Cylinders": 4,
         "Displacement": 151,
         "Horsepower": 90,
         "Miles_per_Gallon": 27,
         "Name": "pontiac phoenix",
         "Origin": "USA",
         "Weight_in_lbs": 2735,
         "Year": "1982-01-01"
        },
        {
         "Acceleration": 16.4,
         "Cylinders": 4,
         "Displacement": 140,
         "Horsepower": 92,
         "Miles_per_Gallon": 24,
         "Name": "ford fairmont futura",
         "Origin": "USA",
         "Weight_in_lbs": 2865,
         "Year": "1982-01-01"
        },
        {
         "Acceleration": 20.5,
         "Cylinders": 4,
         "Displacement": 151,
         "Horsepower": null,
         "Miles_per_Gallon": 23,
         "Name": "amc concord dl",
         "Origin": "USA",
         "Weight_in_lbs": 3035,
         "Year": "1982-01-01"
        },
        {
         "Acceleration": 15.3,
         "Cylinders": 4,
         "Displacement": 105,
         "Horsepower": 74,
         "Miles_per_Gallon": 36,
         "Name": "volkswagen rabbit l",
         "Origin": "Europe",
         "Weight_in_lbs": 1980,
         "Year": "1982-01-01"
        },
        {
         "Acceleration": 18.2,
         "Cylinders": 4,
         "Displacement": 91,
         "Horsepower": 68,
         "Miles_per_Gallon": 37,
         "Name": "mazda glc custom l",
         "Origin": "Japan",
         "Weight_in_lbs": 2025,
         "Year": "1982-01-01"
        },
        {
         "Acceleration": 17.6,
         "Cylinders": 4,
         "Displacement": 91,
         "Horsepower": 68,
         "Miles_per_Gallon": 31,
         "Name": "mazda glc custom",
         "Origin": "Japan",
         "Weight_in_lbs": 1970,
         "Year": "1982-01-01"
        },
        {
         "Acceleration": 14.7,
         "Cylinders": 4,
         "Displacement": 105,
         "Horsepower": 63,
         "Miles_per_Gallon": 38,
         "Name": "plymouth horizon miser",
         "Origin": "USA",
         "Weight_in_lbs": 2125,
         "Year": "1982-01-01"
        },
        {
         "Acceleration": 17.3,
         "Cylinders": 4,
         "Displacement": 98,
         "Horsepower": 70,
         "Miles_per_Gallon": 36,
         "Name": "mercury lynx l",
         "Origin": "USA",
         "Weight_in_lbs": 2125,
         "Year": "1982-01-01"
        },
        {
         "Acceleration": 14.5,
         "Cylinders": 4,
         "Displacement": 120,
         "Horsepower": 88,
         "Miles_per_Gallon": 36,
         "Name": "nissan stanza xe",
         "Origin": "Japan",
         "Weight_in_lbs": 2160,
         "Year": "1982-01-01"
        },
        {
         "Acceleration": 14.5,
         "Cylinders": 4,
         "Displacement": 107,
         "Horsepower": 75,
         "Miles_per_Gallon": 36,
         "Name": "honda Accelerationord",
         "Origin": "Japan",
         "Weight_in_lbs": 2205,
         "Year": "1982-01-01"
        },
        {
         "Acceleration": 16.9,
         "Cylinders": 4,
         "Displacement": 108,
         "Horsepower": 70,
         "Miles_per_Gallon": 34,
         "Name": "toyota corolla",
         "Origin": "Japan",
         "Weight_in_lbs": 2245,
         "Year": "1982-01-01"
        },
        {
         "Acceleration": 15,
         "Cylinders": 4,
         "Displacement": 91,
         "Horsepower": 67,
         "Miles_per_Gallon": 38,
         "Name": "honda civic",
         "Origin": "Japan",
         "Weight_in_lbs": 1965,
         "Year": "1982-01-01"
        },
        {
         "Acceleration": 15.7,
         "Cylinders": 4,
         "Displacement": 91,
         "Horsepower": 67,
         "Miles_per_Gallon": 32,
         "Name": "honda civic (auto)",
         "Origin": "Japan",
         "Weight_in_lbs": 1965,
         "Year": "1982-01-01"
        },
        {
         "Acceleration": 16.2,
         "Cylinders": 4,
         "Displacement": 91,
         "Horsepower": 67,
         "Miles_per_Gallon": 38,
         "Name": "datsun 310 gx",
         "Origin": "Japan",
         "Weight_in_lbs": 1995,
         "Year": "1982-01-01"
        },
        {
         "Acceleration": 16.4,
         "Cylinders": 6,
         "Displacement": 181,
         "Horsepower": 110,
         "Miles_per_Gallon": 25,
         "Name": "buick century limited",
         "Origin": "USA",
         "Weight_in_lbs": 2945,
         "Year": "1982-01-01"
        },
        {
         "Acceleration": 17,
         "Cylinders": 6,
         "Displacement": 262,
         "Horsepower": 85,
         "Miles_per_Gallon": 38,
         "Name": "oldsmobile cutlass ciera (diesel)",
         "Origin": "USA",
         "Weight_in_lbs": 3015,
         "Year": "1982-01-01"
        },
        {
         "Acceleration": 14.5,
         "Cylinders": 4,
         "Displacement": 156,
         "Horsepower": 92,
         "Miles_per_Gallon": 26,
         "Name": "chrysler lebaron medallion",
         "Origin": "USA",
         "Weight_in_lbs": 2585,
         "Year": "1982-01-01"
        },
        {
         "Acceleration": 14.7,
         "Cylinders": 6,
         "Displacement": 232,
         "Horsepower": 112,
         "Miles_per_Gallon": 22,
         "Name": "ford granada l",
         "Origin": "USA",
         "Weight_in_lbs": 2835,
         "Year": "1982-01-01"
        },
        {
         "Acceleration": 13.9,
         "Cylinders": 4,
         "Displacement": 144,
         "Horsepower": 96,
         "Miles_per_Gallon": 32,
         "Name": "toyota celica gt",
         "Origin": "Japan",
         "Weight_in_lbs": 2665,
         "Year": "1982-01-01"
        },
        {
         "Acceleration": 13,
         "Cylinders": 4,
         "Displacement": 135,
         "Horsepower": 84,
         "Miles_per_Gallon": 36,
         "Name": "dodge charger 2.2",
         "Origin": "USA",
         "Weight_in_lbs": 2370,
         "Year": "1982-01-01"
        },
        {
         "Acceleration": 17.3,
         "Cylinders": 4,
         "Displacement": 151,
         "Horsepower": 90,
         "Miles_per_Gallon": 27,
         "Name": "chevrolet camaro",
         "Origin": "USA",
         "Weight_in_lbs": 2950,
         "Year": "1982-01-01"
        },
        {
         "Acceleration": 15.6,
         "Cylinders": 4,
         "Displacement": 140,
         "Horsepower": 86,
         "Miles_per_Gallon": 27,
         "Name": "ford mustang gl",
         "Origin": "USA",
         "Weight_in_lbs": 2790,
         "Year": "1982-01-01"
        },
        {
         "Acceleration": 24.6,
         "Cylinders": 4,
         "Displacement": 97,
         "Horsepower": 52,
         "Miles_per_Gallon": 44,
         "Name": "vw pickup",
         "Origin": "Europe",
         "Weight_in_lbs": 2130,
         "Year": "1982-01-01"
        },
        {
         "Acceleration": 11.6,
         "Cylinders": 4,
         "Displacement": 135,
         "Horsepower": 84,
         "Miles_per_Gallon": 32,
         "Name": "dodge rampage",
         "Origin": "USA",
         "Weight_in_lbs": 2295,
         "Year": "1982-01-01"
        },
        {
         "Acceleration": 18.6,
         "Cylinders": 4,
         "Displacement": 120,
         "Horsepower": 79,
         "Miles_per_Gallon": 28,
         "Name": "ford ranger",
         "Origin": "USA",
         "Weight_in_lbs": 2625,
         "Year": "1982-01-01"
        },
        {
         "Acceleration": 19.4,
         "Cylinders": 4,
         "Displacement": 119,
         "Horsepower": 82,
         "Miles_per_Gallon": 31,
         "Name": "chevy s-10",
         "Origin": "USA",
         "Weight_in_lbs": 2720,
         "Year": "1982-01-01"
        }
       ],
       "schema": {
        "fields": [
         {
          "name": "Name",
          "type": "string"
         },
         {
          "name": "Miles_per_Gallon",
          "type": "number"
         },
         {
          "name": "Cylinders",
          "type": "integer"
         },
         {
          "name": "Displacement",
          "type": "number"
         },
         {
          "name": "Horsepower",
          "type": "integer"
         },
         {
          "name": "Weight_in_lbs",
          "type": "integer"
         },
         {
          "name": "Acceleration",
          "type": "number"
         },
         {
          "name": "Year",
          "type": "string"
         },
         {
          "name": "Origin",
          "type": "string"
         }
        ]
       }
      },
      "text/html": [
       "<table><thead><tr><th>Name</th><th>Miles_per_Gallon</th><th>Cylinders</th><th>Displacement</th><th>Horsepower</th><th>Weight_in_lbs</th><th>Acceleration</th><th>Year</th><th>Origin</th></tr></thead><tbody><tr><td>&quot;chevrolet chevelle malibu&quot;</td><td>18.0</td><td>8</td><td>307.0</td><td>130</td><td>3504</td><td>12.0</td><td>&quot;1970-01-01&quot;</td><td>&quot;USA&quot;</td></tr><tr><td>&quot;buick skylark 320&quot;</td><td>15.0</td><td>8</td><td>350.0</td><td>165</td><td>3693</td><td>11.5</td><td>&quot;1970-01-01&quot;</td><td>&quot;USA&quot;</td></tr><tr><td>&quot;plymouth satellite&quot;</td><td>18.0</td><td>8</td><td>318.0</td><td>150</td><td>3436</td><td>11.0</td><td>&quot;1970-01-01&quot;</td><td>&quot;USA&quot;</td></tr><tr><td>&quot;amc rebel sst&quot;</td><td>16.0</td><td>8</td><td>304.0</td><td>150</td><td>3433</td><td>12.0</td><td>&quot;1970-01-01&quot;</td><td>&quot;USA&quot;</td></tr><tr><td>&quot;ford torino&quot;</td><td>17.0</td><td>8</td><td>302.0</td><td>140</td><td>3449</td><td>10.5</td><td>&quot;1970-01-01&quot;</td><td>&quot;USA&quot;</td></tr><tr><td>&quot;ford galaxie 500&quot;</td><td>15.0</td><td>8</td><td>429.0</td><td>198</td><td>4341</td><td>10.0</td><td>&quot;1970-01-01&quot;</td><td>&quot;USA&quot;</td></tr><tr><td>&quot;chevrolet impala&quot;</td><td>14.0</td><td>8</td><td>454.0</td><td>220</td><td>4354</td><td>9.0</td><td>&quot;1970-01-01&quot;</td><td>&quot;USA&quot;</td></tr><tr><td>&quot;plymouth fury iii&quot;</td><td>14.0</td><td>8</td><td>440.0</td><td>215</td><td>4312</td><td>8.5</td><td>&quot;1970-01-01&quot;</td><td>&quot;USA&quot;</td></tr><tr><td>&quot;pontiac catalina&quot;</td><td>14.0</td><td>8</td><td>455.0</td><td>225</td><td>4425</td><td>10.0</td><td>&quot;1970-01-01&quot;</td><td>&quot;USA&quot;</td></tr><tr><td>&quot;amc ambassador dpl&quot;</td><td>15.0</td><td>8</td><td>390.0</td><td>190</td><td>3850</td><td>8.5</td><td>&quot;1970-01-01&quot;</td><td>&quot;USA&quot;</td></tr><tr><td>&vellip;</td><td>&vellip;</td><td>&vellip;</td><td>&vellip;</td><td>&vellip;</td><td>&vellip;</td><td>&vellip;</td><td>&vellip;</td><td>&vellip;</td></tr></tbody></table><p>... with 396 more rows.</p>"
      ],
      "text/plain": [
       "406x9 Vega dataset\n",
       "Name                      │ Miles_per_Gallon │ Cylinders │ Displacement\n",
       "──────────────────────────┼──────────────────┼───────────┼─────────────\n",
       "chevrolet chevelle malibu │ 18.0             │ 8         │ 307.0       \n",
       "buick skylark 320         │ 15.0             │ 8         │ 350.0       \n",
       "plymouth satellite        │ 18.0             │ 8         │ 318.0       \n",
       "amc rebel sst             │ 16.0             │ 8         │ 304.0       \n",
       "ford torino               │ 17.0             │ 8         │ 302.0       \n",
       "ford galaxie 500          │ 15.0             │ 8         │ 429.0       \n",
       "chevrolet impala          │ 14.0             │ 8         │ 454.0       \n",
       "plymouth fury iii         │ 14.0             │ 8         │ 440.0       \n",
       "pontiac catalina          │ 14.0             │ 8         │ 455.0       \n",
       "amc ambassador dpl        │ 15.0             │ 8         │ 390.0       \n",
       "... with 396 more rows, and 5 more columns: Horsepower, Weight_in_lbs, Acceleration, Year, Origin"
      ]
     },
     "execution_count": 2,
     "metadata": {},
     "output_type": "execute_result"
    }
   ],
   "source": [
    "using VegaDatasets\n",
    "df = dataset(\"cars\")"
   ]
  },
  {
   "cell_type": "code",
   "execution_count": 3,
   "metadata": {},
   "outputs": [
    {
     "ename": "LoadError",
     "evalue": "UndefVarError: @vl_str not defined",
     "output_type": "error",
     "traceback": [
      "UndefVarError: @vl_str not defined",
      ""
     ]
    }
   ],
   "source": [
    "df |> vl\"\"\"{\n",
    "  \"transform\": [{\"calculate\": \"year(datum.Year)\", \"as\": \"Year\"}],\n",
    "  \"layer\": [{\n",
    "    \"selection\": {\n",
    "      \"CylYr\": {\n",
    "        \"type\": \"single\", \"fields\": [\"Cylinders\", \"Year\"],\n",
    "        \"init\": {\"Cylinders\": 4, \"Year\": 1977},\n",
    "        \"bind\": {\n",
    "          \"Cylinders\": {\"input\": \"range\", \"min\": 3, \"max\": 8, \"step\": 1},\n",
    "          \"Year\": {\"input\": \"range\", \"min\": 1969, \"max\": 1981, \"step\": 1}\n",
    "        }\n",
    "      }\n",
    "    },\n",
    "    \"mark\": \"circle\",\n",
    "    \"encoding\": {\n",
    "      \"x\": {\"field\": \"Horsepower\", \"type\": \"quantitative\"},\n",
    "      \"y\": {\"field\": \"Miles_per_Gallon\", \"type\": \"quantitative\"},\n",
    "      \"color\": {\n",
    "        \"condition\": {\"selection\": \"CylYr\", \"field\": \"Origin\", \"type\": \"nominal\"},\n",
    "        \"value\": \"grey\"\n",
    "      }\n",
    "    }\n",
    "  }, {\n",
    "    \"transform\": [{\"filter\": {\"selection\": \"CylYr\"}}],\n",
    "    \"mark\": \"circle\",\n",
    "    \"encoding\": {\n",
    "      \"x\": {\"field\": \"Horsepower\", \"type\": \"quantitative\"},\n",
    "      \"y\": {\"field\": \"Miles_per_Gallon\", \"type\": \"quantitative\"},\n",
    "      \"color\": {\"field\": \"Origin\", \"type\": \"nominal\"},\n",
    "      \"size\": {\"value\": 100}\n",
    "    }\n",
    "  }]\n",
    "}\n",
    "\"\"\""
   ]
  },
  {
   "cell_type": "code",
   "execution_count": null,
   "metadata": {},
   "outputs": [],
   "source": []
  }
 ],
 "metadata": {
  "kernelspec": {
   "display_name": "Julia 1.0.5",
   "language": "julia",
   "name": "julia-1.0"
  },
  "language_info": {
   "file_extension": ".jl",
   "mimetype": "application/julia",
   "name": "julia",
   "version": "1.0.5"
  }
 },
 "nbformat": 4,
 "nbformat_minor": 4
}
