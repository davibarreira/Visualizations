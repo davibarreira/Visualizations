{
 "cells": [
  {
   "cell_type": "markdown",
   "metadata": {},
   "source": [
    "# Approximate Bayesian Computation"
   ]
  },
  {
   "cell_type": "code",
   "execution_count": 440,
   "metadata": {},
   "outputs": [
    {
     "data": {
      "text/plain": [
       "Plots.PyPlotBackend()"
      ]
     },
     "execution_count": 440,
     "metadata": {},
     "output_type": "execute_result"
    }
   ],
   "source": [
    "using Distributions, StatsPlots, Plots, StatsBase, LinearAlgebra\n",
    "using LaTeXStrings\n",
    "using SymPy\n",
    "using VegaLite\n",
    "using DataFrames\n",
    "pyplot()"
   ]
  },
  {
   "cell_type": "code",
   "execution_count": 454,
   "metadata": {},
   "outputs": [],
   "source": [
    "n, x = 8, 6\n",
    "N = 100\n",
    "\n",
    "# Sample θ' from prior π(θ)\n",
    "# Generate z from p(.|θ')\n",
    "theta_s = rand(Beta(1,1),N)\n",
    "z       = rand.(Binomial.(n,theta_s))\n",
    "theta_a = theta_s[z .== x];"
   ]
  },
  {
   "cell_type": "code",
   "execution_count": 455,
   "metadata": {},
   "outputs": [
    {
     "data": {
      "image/png": "[encoded data removed]"
     },
     "execution_count": 455,
     "metadata": {},
     "output_type": "execute_result"
    }
   ],
   "source": [
    "histogram(theta_a,normalize=true,alpha=0.5)\n",
    "plot!(Beta(x+1,n-x+1),label=L\"p(\\theta \\mid x)\")\n",
    "plot!(Beta(1,1), label =L\"\\pi(\\theta)\")"
   ]
  },
  {
   "cell_type": "code",
   "execution_count": 456,
   "metadata": {},
   "outputs": [],
   "source": [
    "cm = countmap(z)\n",
    "counter = zeros(length(cm))\n",
    "hdots = zeros(N)\n",
    "for (i,v) in enumerate(z)\n",
    "    counter[v+1]+=1\n",
    "    hdots[i] = counter[v+1]\n",
    "end\n",
    "\n"
   ]
  },
  {
   "cell_type": "code",
   "execution_count": 457,
   "metadata": {},
   "outputs": [],
   "source": [
    "df = DataFrame([z,hdots]);"
   ]
  },
  {
   "cell_type": "code",
   "execution_count": 477,
   "metadata": {},
   "outputs": [
    {
     "data": {
      "application/vnd.vegalite.v3+json": {
       "data": {
        "values": [
         {
          "x1": 0,
          "x2": 1
         },
         {
          "x1": 6,
          "x2": 1
         },
         {
          "x1": 8,
          "x2": 1
         },
         {
          "x1": 4,
          "x2": 1
         },
         {
          "x1": 1,
          "x2": 1
         },
         {
          "x1": 8,
          "x2": 2
         },
         {
          "x1": 4,
          "x2": 2
         },
         {
          "x1": 2,
          "x2": 1
         },
         {
          "x1": 0,
          "x2": 2
         },
         {
          "x1": 7,
          "x2": 1
         },
         {
          "x1": 6,
          "x2": 2
         },
         {
          "x1": 7,
          "x2": 2
         },
         {
          "x1": 0,
          "x2": 3
         },
         {
          "x1": 6,
          "x2": 3
         },
         {
          "x1": 8,
          "x2": 3
         },
         {
          "x1": 6,
          "x2": 4
         },
         {
          "x1": 3,
          "x2": 1
         },
         {
          "x1": 8,
          "x2": 4
         },
         {
          "x1": 5,
          "x2": 1
         },
         {
          "x1": 0,
          "x2": 4
         },
         {
          "x1": 6,
          "x2": 5
         },
         {
          "x1": 0,
          "x2": 5
         },
         {
          "x1": 4,
          "x2": 3
         },
         {
          "x1": 8,
          "x2": 5
         },
         {
          "x1": 8,
          "x2": 6
         },
         {
          "x1": 4,
          "x2": 4
         },
         {
          "x1": 1,
          "x2": 2
         },
         {
          "x1": 0,
          "x2": 6
         },
         {
          "x1": 6,
          "x2": 6
         },
         {
          "x1": 7,
          "x2": 3
         },
         {
          "x1": 6,
          "x2": 7
         },
         {
          "x1": 8,
          "x2": 7
         },
         {
          "x1": 3,
          "x2": 2
         },
         {
          "x1": 4,
          "x2": 5
         },
         {
          "x1": 5,
          "x2": 2
         },
         {
          "x1": 4,
          "x2": 6
         },
         {
          "x1": 6,
          "x2": 8
         },
         {
          "x1": 3,
          "x2": 3
         },
         {
          "x1": 5,
          "x2": 3
         },
         {
          "x1": 3,
          "x2": 4
         },
         {
          "x1": 4,
          "x2": 7
         },
         {
          "x1": 0,
          "x2": 7
         },
         {
          "x1": 3,
          "x2": 5
         },
         {
          "x1": 1,
          "x2": 3
         },
         {
          "x1": 1,
          "x2": 4
         },
         {
          "x1": 6,
          "x2": 9
         },
         {
          "x1": 8,
          "x2": 8
         },
         {
          "x1": 6,
          "x2": 10
         },
         {
          "x1": 2,
          "x2": 2
         },
         {
          "x1": 0,
          "x2": 8
         },
         {
          "x1": 1,
          "x2": 5
         },
         {
          "x1": 4,
          "x2": 8
         },
         {
          "x1": 3,
          "x2": 6
         },
         {
          "x1": 0,
          "x2": 9
         },
         {
          "x1": 3,
          "x2": 7
         },
         {
          "x1": 6,
          "x2": 11
         },
         {
          "x1": 7,
          "x2": 4
         },
         {
          "x1": 3,
          "x2": 8
         },
         {
          "x1": 6,
          "x2": 12
         },
         {
          "x1": 5,
          "x2": 4
         },
         {
          "x1": 4,
          "x2": 9
         },
         {
          "x1": 1,
          "x2": 6
         },
         {
          "x1": 8,
          "x2": 9
         },
         {
          "x1": 8,
          "x2": 10
         },
         {
          "x1": 5,
          "x2": 5
         },
         {
          "x1": 0,
          "x2": 10
         },
         {
          "x1": 0,
          "x2": 11
         },
         {
          "x1": 0,
          "x2": 12
         },
         {
          "x1": 2,
          "x2": 3
         },
         {
          "x1": 6,
          "x2": 13
         },
         {
          "x1": 7,
          "x2": 5
         },
         {
          "x1": 3,
          "x2": 9
         },
         {
          "x1": 8,
          "x2": 11
         },
         {
          "x1": 8,
          "x2": 12
         },
         {
          "x1": 4,
          "x2": 10
         },
         {
          "x1": 8,
          "x2": 13
         },
         {
          "x1": 2,
          "x2": 4
         },
         {
          "x1": 7,
          "x2": 6
         },
         {
          "x1": 5,
          "x2": 6
         },
         {
          "x1": 6,
          "x2": 14
         },
         {
          "x1": 8,
          "x2": 14
         },
         {
          "x1": 3,
          "x2": 10
         },
         {
          "x1": 1,
          "x2": 7
         },
         {
          "x1": 5,
          "x2": 7
         },
         {
          "x1": 8,
          "x2": 15
         },
         {
          "x1": 6,
          "x2": 15
         },
         {
          "x1": 4,
          "x2": 11
         },
         {
          "x1": 5,
          "x2": 8
         },
         {
          "x1": 7,
          "x2": 7
         },
         {
          "x1": 3,
          "x2": 11
         },
         {
          "x1": 4,
          "x2": 12
         },
         {
          "x1": 8,
          "x2": 16
         },
         {
          "x1": 7,
          "x2": 8
         },
         {
          "x1": 7,
          "x2": 9
         },
         {
          "x1": 2,
          "x2": 5
         },
         {
          "x1": 6,
          "x2": 16
         },
         {
          "x1": 2,
          "x2": 6
         },
         {
          "x1": 4,
          "x2": 13
         },
         {
          "x1": 1,
          "x2": 8
         },
         {
          "x1": 1,
          "x2": 9
         }
        ]
       },
       "encoding": {
        "x": {
         "bin": true,
         "field": "x1",
         "type": "quantitative"
        },
        "y": {
         "aggregate": "count",
         "type": "quantitative"
        }
       },
       "mark": "bar"
      },
      "image/png": "[encoded data removed]",
      "image/svg+xml": [
       "<svg class=\"marks\" width=\"245\" height=\"242\" viewBox=\"0 0 245 242\" version=\"1.1\" xmlns=\"http://www.w3.org/2000/svg\" xmlns:xlink=\"http://www.w3.org/1999/xlink\"><g transform=\"translate(39,5)\"><g class=\"mark-group role-frame root\"><g transform=\"translate(0,0)\"><path class=\"background\" d=\"M0.5,0.5h200v200h-200Z\" style=\"fill: none; stroke: #ddd;\"></path><g><g class=\"mark-group role-axis\"><g transform=\"translate(0.5,0.5)\"><path class=\"background\" d=\"M0,0h0v0h0Z\" style=\"pointer-events: none; fill: none;\"></path><g><g class=\"mark-rule role-axis-grid\" style=\"pointer-events: none;\"><line transform=\"translate(0,200)\" x2=\"200\" y2=\"0\" style=\"fill: none; stroke: #ddd; stroke-width: 1; opacity: 1;\"></line><line transform=\"translate(0,162)\" x2=\"200\" y2=\"0\" style=\"fill: none; stroke: #ddd; stroke-width: 1; opacity: 1;\"></line><line transform=\"translate(0,123)\" x2=\"200\" y2=\"0\" style=\"fill: none; stroke: #ddd; stroke-width: 1; opacity: 1;\"></line><line transform=\"translate(0,85)\" x2=\"200\" y2=\"0\" style=\"fill: none; stroke: #ddd; stroke-width: 1; opacity: 1;\"></line><line transform=\"translate(0,46)\" x2=\"200\" y2=\"0\" style=\"fill: none; stroke: #ddd; stroke-width: 1; opacity: 1;\"></line><line transform=\"translate(0,8)\" x2=\"200\" y2=\"0\" style=\"fill: none; stroke: #ddd; stroke-width: 1; opacity: 1;\"></line></g></g></g></g><g class=\"mark-rect role-mark marks\"><path d=\"M1,107.6923076923077h24v92.3076923076923h-24Z\" style=\"fill: #4c78a8;\"></path><path d=\"M151,76.92307692307692h24v123.07692307692308h-24Z\" style=\"fill: #4c78a8;\"></path><path d=\"M176,7.692307692307679h24v192.30769230769232h-24Z\" style=\"fill: #4c78a8;\"></path><path d=\"M101,100h24v100h-24Z\" style=\"fill: #4c78a8;\"></path><path d=\"M26,130.76923076923077h24v69.23076923076923h-24Z\" style=\"fill: #4c78a8;\"></path><path d=\"M51,153.84615384615384h24v46.15384615384616h-24Z\" style=\"fill: #4c78a8;\"></path><path d=\"M76,115.38461538461539h24v84.61538461538461h-24Z\" style=\"fill: #4c78a8;\"></path><path d=\"M126,138.46153846153845h24v61.53846153846155h-24Z\" style=\"fill: #4c78a8;\"></path></g><g class=\"mark-group role-axis\"><g transform=\"translate(0.5,200.5)\"><path class=\"background\" d=\"M0,0h0v0h0Z\" style=\"pointer-events: none; fill: none;\"></path><g><g class=\"mark-rule role-axis-tick\" style=\"pointer-events: none;\"><line transform=\"translate(0,0)\" x2=\"0\" y2=\"5\" style=\"fill: none; stroke: #888; stroke-width: 1; opacity: 1;\"></line><line transform=\"translate(25,0)\" x2=\"0\" y2=\"5\" style=\"fill: none; stroke: #888; stroke-width: 1; opacity: 1;\"></line><line transform=\"translate(50,0)\" x2=\"0\" y2=\"5\" style=\"fill: none; stroke: #888; stroke-width: 1; opacity: 1;\"></line><line transform=\"translate(75,0)\" x2=\"0\" y2=\"5\" style=\"fill: none; stroke: #888; stroke-width: 1; opacity: 1;\"></line><line transform=\"translate(100,0)\" x2=\"0\" y2=\"5\" style=\"fill: none; stroke: #888; stroke-width: 1; opacity: 1;\"></line><line transform=\"translate(125,0)\" x2=\"0\" y2=\"5\" style=\"fill: none; stroke: #888; stroke-width: 1; opacity: 1;\"></line><line transform=\"translate(150,0)\" x2=\"0\" y2=\"5\" style=\"fill: none; stroke: #888; stroke-width: 1; opacity: 1;\"></line><line transform=\"translate(175,0)\" x2=\"0\" y2=\"5\" style=\"fill: none; stroke: #888; stroke-width: 1; opacity: 1;\"></line><line transform=\"translate(200,0)\" x2=\"0\" y2=\"5\" style=\"fill: none; stroke: #888; stroke-width: 1; opacity: 1;\"></line></g><g class=\"mark-text role-axis-label\" style=\"pointer-events: none;\"><text text-anchor=\"start\" transform=\"translate(0,15)\" style=\"font-family: sans-serif; font-size: 10px; fill: #000; opacity: 1;\">0.0</text><text text-anchor=\"middle\" transform=\"translate(25,15)\" style=\"font-family: sans-serif; font-size: 10px; fill: #000; opacity: 1;\">1.0</text><text text-anchor=\"middle\" transform=\"translate(50,15)\" style=\"font-family: sans-serif; font-size: 10px; fill: #000; opacity: 1;\">2.0</text><text text-anchor=\"middle\" transform=\"translate(75,15)\" style=\"font-family: sans-serif; font-size: 10px; fill: #000; opacity: 1;\">3.0</text><text text-anchor=\"middle\" transform=\"translate(100,15)\" style=\"font-family: sans-serif; font-size: 10px; fill: #000; opacity: 1;\">4.0</text><text text-anchor=\"middle\" transform=\"translate(125,15)\" style=\"font-family: sans-serif; font-size: 10px; fill: #000; opacity: 1;\">5.0</text><text text-anchor=\"middle\" transform=\"translate(150,15)\" style=\"font-family: sans-serif; font-size: 10px; fill: #000; opacity: 1;\">6.0</text><text text-anchor=\"middle\" transform=\"translate(175,15)\" style=\"font-family: sans-serif; font-size: 10px; fill: #000; opacity: 1;\">7.0</text><text text-anchor=\"end\" transform=\"translate(200,15)\" style=\"font-family: sans-serif; font-size: 10px; fill: #000; opacity: 1;\">8.0</text></g><g class=\"mark-rule role-axis-domain\" style=\"pointer-events: none;\"><line transform=\"translate(0,0)\" x2=\"200\" y2=\"0\" style=\"fill: none; stroke: #888; stroke-width: 1; opacity: 1;\"></line></g><g class=\"mark-text role-axis-title\" style=\"pointer-events: none;\"><text text-anchor=\"middle\" transform=\"translate(100,30)\" style=\"font-family: sans-serif; font-size: 11px; font-weight: bold; fill: #000; opacity: 1;\">x1 (binned)</text></g></g></g></g><g class=\"mark-group role-axis\"><g transform=\"translate(0.5,0.5)\"><path class=\"background\" d=\"M0,0h0v0h0Z\" style=\"pointer-events: none; fill: none;\"></path><g><g class=\"mark-rule role-axis-tick\" style=\"pointer-events: none;\"><line transform=\"translate(0,200)\" x2=\"-5\" y2=\"0\" style=\"fill: none; stroke: #888; stroke-width: 1; opacity: 1;\"></line><line transform=\"translate(0,162)\" x2=\"-5\" y2=\"0\" style=\"fill: none; stroke: #888; stroke-width: 1; opacity: 1;\"></line><line transform=\"translate(0,123)\" x2=\"-5\" y2=\"0\" style=\"fill: none; stroke: #888; stroke-width: 1; opacity: 1;\"></line><line transform=\"translate(0,85)\" x2=\"-5\" y2=\"0\" style=\"fill: none; stroke: #888; stroke-width: 1; opacity: 1;\"></line><line transform=\"translate(0,46)\" x2=\"-5\" y2=\"0\" style=\"fill: none; stroke: #888; stroke-width: 1; opacity: 1;\"></line><line transform=\"translate(0,8)\" x2=\"-5\" y2=\"0\" style=\"fill: none; stroke: #888; stroke-width: 1; opacity: 1;\"></line></g><g class=\"mark-text role-axis-label\" style=\"pointer-events: none;\"><text text-anchor=\"end\" transform=\"translate(-7,203)\" style=\"font-family: sans-serif; font-size: 10px; fill: #000; opacity: 1;\">0</text><text text-anchor=\"end\" transform=\"translate(-7,164.53846153846155)\" style=\"font-family: sans-serif; font-size: 10px; fill: #000; opacity: 1;\">5</text><text text-anchor=\"end\" transform=\"translate(-7,126.07692307692307)\" style=\"font-family: sans-serif; font-size: 10px; fill: #000; opacity: 1;\">10</text><text text-anchor=\"end\" transform=\"translate(-7,87.61538461538463)\" style=\"font-family: sans-serif; font-size: 10px; fill: #000; opacity: 1;\">15</text><text text-anchor=\"end\" transform=\"translate(-7,49.15384615384613)\" style=\"font-family: sans-serif; font-size: 10px; fill: #000; opacity: 1;\">20</text><text text-anchor=\"end\" transform=\"translate(-7,10.69230769230768)\" style=\"font-family: sans-serif; font-size: 10px; fill: #000; opacity: 1;\">25</text></g><g class=\"mark-rule role-axis-domain\" style=\"pointer-events: none;\"><line transform=\"translate(0,200)\" x2=\"0\" y2=\"-200\" style=\"fill: none; stroke: #888; stroke-width: 1; opacity: 1;\"></line></g><g class=\"mark-text role-axis-title\" style=\"pointer-events: none;\"><text text-anchor=\"middle\" transform=\"translate(-23,100) rotate(-90) translate(0,-2)\" style=\"font-family: sans-serif; font-size: 11px; font-weight: bold; fill: #000; opacity: 1;\">Count of Records</text></g></g></g></g></g></g></g></g></svg>"
      ],
      "text/plain": [
       "VegaLite.VLSpec{:plot}"
      ]
     },
     "execution_count": 477,
     "metadata": {},
     "output_type": "execute_result"
    }
   ],
   "source": [
    "@vlplot(data=df,:bar, x={:x1, bin=true}, y=\"count()\")"
   ]
  },
  {
   "cell_type": "code",
   "execution_count": 534,
   "metadata": {},
   "outputs": [
    {
     "data": {
      "application/vnd.vegalite.v3+json": {
       "vconcat": [
        {
         "vconcat": [
          {
           "height": 300,
           "layer": [
            {
             "data": {
              "values": {
               "Event": "Acceptance Region",
               "finish": 6.3,
               "start": 5.7
              }
             },
             "encoding": {
              "color": {
               "field": "Event",
               "scale": {
                "range": [
                 "green"
                ]
               },
               "type": "nominal"
              },
              "opacity": {
               "value": 0.3
              },
              "x": {
               "axis": {
                "title": ""
               },
               "field": "start",
               "type": "quantitative"
              },
              "x2": {
               "field": "finish",
               "type": "quantitative"
              },
              "y": {
               "axis": {
                "ticks": false
               },
               "value": 1
              }
             },
             "mark": {
              "color": "green",
              "type": "rect"
             }
            },
            {
             "data": {
              "values": [
               {
                "x1": 0,
                "x2": 1
               },
               {
                "x1": 6,
                "x2": 1
               },
               {
                "x1": 8,
                "x2": 1
               },
               {
                "x1": 4,
                "x2": 1
               },
               {
                "x1": 1,
                "x2": 1
               },
               {
                "x1": 8,
                "x2": 2
               },
               {
                "x1": 4,
                "x2": 2
               },
               {
                "x1": 2,
                "x2": 1
               },
               {
                "x1": 0,
                "x2": 2
               },
               {
                "x1": 7,
                "x2": 1
               },
               {
                "x1": 6,
                "x2": 2
               },
               {
                "x1": 7,
                "x2": 2
               },
               {
                "x1": 0,
                "x2": 3
               },
               {
                "x1": 6,
                "x2": 3
               },
               {
                "x1": 8,
                "x2": 3
               },
               {
                "x1": 6,
                "x2": 4
               },
               {
                "x1": 3,
                "x2": 1
               },
               {
                "x1": 8,
                "x2": 4
               },
               {
                "x1": 5,
                "x2": 1
               },
               {
                "x1": 0,
                "x2": 4
               },
               {
                "x1": 6,
                "x2": 5
               },
               {
                "x1": 0,
                "x2": 5
               },
               {
                "x1": 4,
                "x2": 3
               },
               {
                "x1": 8,
                "x2": 5
               },
               {
                "x1": 8,
                "x2": 6
               },
               {
                "x1": 4,
                "x2": 4
               },
               {
                "x1": 1,
                "x2": 2
               },
               {
                "x1": 0,
                "x2": 6
               },
               {
                "x1": 6,
                "x2": 6
               },
               {
                "x1": 7,
                "x2": 3
               },
               {
                "x1": 6,
                "x2": 7
               },
               {
                "x1": 8,
                "x2": 7
               },
               {
                "x1": 3,
                "x2": 2
               },
               {
                "x1": 4,
                "x2": 5
               },
               {
                "x1": 5,
                "x2": 2
               },
               {
                "x1": 4,
                "x2": 6
               },
               {
                "x1": 6,
                "x2": 8
               },
               {
                "x1": 3,
                "x2": 3
               },
               {
                "x1": 5,
                "x2": 3
               },
               {
                "x1": 3,
                "x2": 4
               },
               {
                "x1": 4,
                "x2": 7
               },
               {
                "x1": 0,
                "x2": 7
               },
               {
                "x1": 3,
                "x2": 5
               },
               {
                "x1": 1,
                "x2": 3
               },
               {
                "x1": 1,
                "x2": 4
               },
               {
                "x1": 6,
                "x2": 9
               },
               {
                "x1": 8,
                "x2": 8
               },
               {
                "x1": 6,
                "x2": 10
               },
               {
                "x1": 2,
                "x2": 2
               },
               {
                "x1": 0,
                "x2": 8
               },
               {
                "x1": 1,
                "x2": 5
               },
               {
                "x1": 4,
                "x2": 8
               },
               {
                "x1": 3,
                "x2": 6
               },
               {
                "x1": 0,
                "x2": 9
               },
               {
                "x1": 3,
                "x2": 7
               },
               {
                "x1": 6,
                "x2": 11
               },
               {
                "x1": 7,
                "x2": 4
               },
               {
                "x1": 3,
                "x2": 8
               },
               {
                "x1": 6,
                "x2": 12
               },
               {
                "x1": 5,
                "x2": 4
               },
               {
                "x1": 4,
                "x2": 9
               },
               {
                "x1": 1,
                "x2": 6
               },
               {
                "x1": 8,
                "x2": 9
               },
               {
                "x1": 8,
                "x2": 10
               },
               {
                "x1": 5,
                "x2": 5
               },
               {
                "x1": 0,
                "x2": 10
               },
               {
                "x1": 0,
                "x2": 11
               },
               {
                "x1": 0,
                "x2": 12
               },
               {
                "x1": 2,
                "x2": 3
               },
               {
                "x1": 6,
                "x2": 13
               },
               {
                "x1": 7,
                "x2": 5
               },
               {
                "x1": 3,
                "x2": 9
               },
               {
                "x1": 8,
                "x2": 11
               },
               {
                "x1": 8,
                "x2": 12
               },
               {
                "x1": 4,
                "x2": 10
               },
               {
                "x1": 8,
                "x2": 13
               },
               {
                "x1": 2,
                "x2": 4
               },
               {
                "x1": 7,
                "x2": 6
               },
               {
                "x1": 5,
                "x2": 6
               },
               {
                "x1": 6,
                "x2": 14
               },
               {
                "x1": 8,
                "x2": 14
               },
               {
                "x1": 3,
                "x2": 10
               },
               {
                "x1": 1,
                "x2": 7
               },
               {
                "x1": 5,
                "x2": 7
               },
               {
                "x1": 8,
                "x2": 15
               },
               {
                "x1": 6,
                "x2": 15
               },
               {
                "x1": 4,
                "x2": 11
               },
               {
                "x1": 5,
                "x2": 8
               },
               {
                "x1": 7,
                "x2": 7
               },
               {
                "x1": 3,
                "x2": 11
               },
               {
                "x1": 4,
                "x2": 12
               },
               {
                "x1": 8,
                "x2": 16
               },
               {
                "x1": 7,
                "x2": 8
               },
               {
                "x1": 7,
                "x2": 9
               },
               {
                "x1": 2,
                "x2": 5
               },
               {
                "x1": 6,
                "x2": 16
               },
               {
                "x1": 2,
                "x2": 6
               },
               {
                "x1": 4,
                "x2": 13
               },
               {
                "x1": 1,
                "x2": 8
               },
               {
                "x1": 1,
                "x2": 9
               }
              ]
             },
             "encoding": {
              "color": {
               "value": "#4682b4"
              },
              "size": {
               "value": 200
              },
              "x": {
               "axis": {
                "grid": false,
                "title": "Sample Values"
               },
               "field": "x1",
               "type": "quantitative"
              },
              "y": {
               "axis": null,
               "field": "x2",
               "type": "quantitative"
              }
             },
             "mark": {
              "clip": false,
              "stroke": "black",
              "strokeWidth": 1,
              "type": "circle"
             }
            }
           ],
           "view": {
            "stroke": null
           },
           "width": 800
          }
         ]
        },
        {
         "data": {
          "values": [
           {
            "x1": 0,
            "x2": 1
           },
           {
            "x1": 6,
            "x2": 1
           },
           {
            "x1": 8,
            "x2": 1
           },
           {
            "x1": 4,
            "x2": 1
           },
           {
            "x1": 1,
            "x2": 1
           },
           {
            "x1": 8,
            "x2": 2
           },
           {
            "x1": 4,
            "x2": 2
           },
           {
            "x1": 2,
            "x2": 1
           },
           {
            "x1": 0,
            "x2": 2
           },
           {
            "x1": 7,
            "x2": 1
           },
           {
            "x1": 6,
            "x2": 2
           },
           {
            "x1": 7,
            "x2": 2
           },
           {
            "x1": 0,
            "x2": 3
           },
           {
            "x1": 6,
            "x2": 3
           },
           {
            "x1": 8,
            "x2": 3
           },
           {
            "x1": 6,
            "x2": 4
           },
           {
            "x1": 3,
            "x2": 1
           },
           {
            "x1": 8,
            "x2": 4
           },
           {
            "x1": 5,
            "x2": 1
           },
           {
            "x1": 0,
            "x2": 4
           },
           {
            "x1": 6,
            "x2": 5
           },
           {
            "x1": 0,
            "x2": 5
           },
           {
            "x1": 4,
            "x2": 3
           },
           {
            "x1": 8,
            "x2": 5
           },
           {
            "x1": 8,
            "x2": 6
           },
           {
            "x1": 4,
            "x2": 4
           },
           {
            "x1": 1,
            "x2": 2
           },
           {
            "x1": 0,
            "x2": 6
           },
           {
            "x1": 6,
            "x2": 6
           },
           {
            "x1": 7,
            "x2": 3
           },
           {
            "x1": 6,
            "x2": 7
           },
           {
            "x1": 8,
            "x2": 7
           },
           {
            "x1": 3,
            "x2": 2
           },
           {
            "x1": 4,
            "x2": 5
           },
           {
            "x1": 5,
            "x2": 2
           },
           {
            "x1": 4,
            "x2": 6
           },
           {
            "x1": 6,
            "x2": 8
           },
           {
            "x1": 3,
            "x2": 3
           },
           {
            "x1": 5,
            "x2": 3
           },
           {
            "x1": 3,
            "x2": 4
           },
           {
            "x1": 4,
            "x2": 7
           },
           {
            "x1": 0,
            "x2": 7
           },
           {
            "x1": 3,
            "x2": 5
           },
           {
            "x1": 1,
            "x2": 3
           },
           {
            "x1": 1,
            "x2": 4
           },
           {
            "x1": 6,
            "x2": 9
           },
           {
            "x1": 8,
            "x2": 8
           },
           {
            "x1": 6,
            "x2": 10
           },
           {
            "x1": 2,
            "x2": 2
           },
           {
            "x1": 0,
            "x2": 8
           },
           {
            "x1": 1,
            "x2": 5
           },
           {
            "x1": 4,
            "x2": 8
           },
           {
            "x1": 3,
            "x2": 6
           },
           {
            "x1": 0,
            "x2": 9
           },
           {
            "x1": 3,
            "x2": 7
           },
           {
            "x1": 6,
            "x2": 11
           },
           {
            "x1": 7,
            "x2": 4
           },
           {
            "x1": 3,
            "x2": 8
           },
           {
            "x1": 6,
            "x2": 12
           },
           {
            "x1": 5,
            "x2": 4
           },
           {
            "x1": 4,
            "x2": 9
           },
           {
            "x1": 1,
            "x2": 6
           },
           {
            "x1": 8,
            "x2": 9
           },
           {
            "x1": 8,
            "x2": 10
           },
           {
            "x1": 5,
            "x2": 5
           },
           {
            "x1": 0,
            "x2": 10
           },
           {
            "x1": 0,
            "x2": 11
           },
           {
            "x1": 0,
            "x2": 12
           },
           {
            "x1": 2,
            "x2": 3
           },
           {
            "x1": 6,
            "x2": 13
           },
           {
            "x1": 7,
            "x2": 5
           },
           {
            "x1": 3,
            "x2": 9
           },
           {
            "x1": 8,
            "x2": 11
           },
           {
            "x1": 8,
            "x2": 12
           },
           {
            "x1": 4,
            "x2": 10
           },
           {
            "x1": 8,
            "x2": 13
           },
           {
            "x1": 2,
            "x2": 4
           },
           {
            "x1": 7,
            "x2": 6
           },
           {
            "x1": 5,
            "x2": 6
           },
           {
            "x1": 6,
            "x2": 14
           },
           {
            "x1": 8,
            "x2": 14
           },
           {
            "x1": 3,
            "x2": 10
           },
           {
            "x1": 1,
            "x2": 7
           },
           {
            "x1": 5,
            "x2": 7
           },
           {
            "x1": 8,
            "x2": 15
           },
           {
            "x1": 6,
            "x2": 15
           },
           {
            "x1": 4,
            "x2": 11
           },
           {
            "x1": 5,
            "x2": 8
           },
           {
            "x1": 7,
            "x2": 7
           },
           {
            "x1": 3,
            "x2": 11
           },
           {
            "x1": 4,
            "x2": 12
           },
           {
            "x1": 8,
            "x2": 16
           },
           {
            "x1": 7,
            "x2": 8
           },
           {
            "x1": 7,
            "x2": 9
           },
           {
            "x1": 2,
            "x2": 5
           },
           {
            "x1": 6,
            "x2": 16
           },
           {
            "x1": 2,
            "x2": 6
           },
           {
            "x1": 4,
            "x2": 13
           },
           {
            "x1": 1,
            "x2": 8
           },
           {
            "x1": 1,
            "x2": 9
           }
          ]
         },
         "encoding": {
          "x": {
           "bin": true,
           "field": "x1",
           "type": "quantitative"
          },
          "y": {
           "aggregate": "count",
           "type": "quantitative"
          }
         },
         "mark": "bar"
        }
       ]
      },
      "image/png": "[encoded data removed]",
      "image/svg+xml": [
       "<svg class=\"marks\" width=\"984\" height=\"605\" viewBox=\"0 0 984 605\" version=\"1.1\" xmlns=\"http://www.w3.org/2000/svg\" xmlns:xlink=\"http://www.w3.org/1999/xlink\"><g transform=\"translate(40,14)\"><g class=\"mark-group role-frame root\"><g transform=\"translate(0,0)\"><path class=\"background\" d=\"M0,0h0v0h0Z\" style=\"fill: none;\"></path><g><g class=\"mark-group role-scope concat_0_group\"><g transform=\"translate(0,0)\"><path class=\"background\" d=\"M0,0h0v0h0Z\" style=\"fill: none;\"></path><g><g class=\"mark-group role-scope concat_0_concat_0_group\"><g transform=\"translate(0,0)\"><path class=\"background\" d=\"M0,0h800v300h-800Z\" style=\"fill: none;\"></path><g><g class=\"mark-rect role-mark concat_0_concat_0_layer_0_marks\"><path d=\"M570,1h60v299h-60Z\" style=\"fill: green; opacity: 0.3;\"></path></g><g class=\"mark-symbol role-mark concat_0_concat_0_layer_1_marks\"><path transform=\"translate(0,281.25)\" d=\"M7.0710678118654755,0A7.0710678118654755,7.0710678118654755,0,1,1,-7.0710678118654755,0A7.0710678118654755,7.0710678118654755,0,1,1,7.0710678118654755,0\" style=\"fill: #4682b4; stroke: black; stroke-width: 1; opacity: 0.7;\"></path><path transform=\"translate(600,281.25)\" d=\"M7.0710678118654755,0A7.0710678118654755,7.0710678118654755,0,1,1,-7.0710678118654755,0A7.0710678118654755,7.0710678118654755,0,1,1,7.0710678118654755,0\" style=\"fill: #4682b4; stroke: black; stroke-width: 1; opacity: 0.7;\"></path><path transform=\"translate(800,281.25)\" d=\"M7.0710678118654755,0A7.0710678118654755,7.0710678118654755,0,1,1,-7.0710678118654755,0A7.0710678118654755,7.0710678118654755,0,1,1,7.0710678118654755,0\" style=\"fill: #4682b4; stroke: black; stroke-width: 1; opacity: 0.7;\"></path><path transform=\"translate(400,281.25)\" d=\"M7.0710678118654755,0A7.0710678118654755,7.0710678118654755,0,1,1,-7.0710678118654755,0A7.0710678118654755,7.0710678118654755,0,1,1,7.0710678118654755,0\" style=\"fill: #4682b4; stroke: black; stroke-width: 1; opacity: 0.7;\"></path><path transform=\"translate(100,281.25)\" d=\"M7.0710678118654755,0A7.0710678118654755,7.0710678118654755,0,1,1,-7.0710678118654755,0A7.0710678118654755,7.0710678118654755,0,1,1,7.0710678118654755,0\" style=\"fill: #4682b4; stroke: black; stroke-width: 1; opacity: 0.7;\"></path><path transform=\"translate(800,262.5)\" d=\"M7.0710678118654755,0A7.0710678118654755,7.0710678118654755,0,1,1,-7.0710678118654755,0A7.0710678118654755,7.0710678118654755,0,1,1,7.0710678118654755,0\" style=\"fill: #4682b4; stroke: black; stroke-width: 1; opacity: 0.7;\"></path><path transform=\"translate(400,262.5)\" d=\"M7.0710678118654755,0A7.0710678118654755,7.0710678118654755,0,1,1,-7.0710678118654755,0A7.0710678118654755,7.0710678118654755,0,1,1,7.0710678118654755,0\" style=\"fill: #4682b4; stroke: black; stroke-width: 1; opacity: 0.7;\"></path><path transform=\"translate(200,281.25)\" d=\"M7.0710678118654755,0A7.0710678118654755,7.0710678118654755,0,1,1,-7.0710678118654755,0A7.0710678118654755,7.0710678118654755,0,1,1,7.0710678118654755,0\" style=\"fill: #4682b4; stroke: black; stroke-width: 1; opacity: 0.7;\"></path><path transform=\"translate(0,262.5)\" d=\"M7.0710678118654755,0A7.0710678118654755,7.0710678118654755,0,1,1,-7.0710678118654755,0A7.0710678118654755,7.0710678118654755,0,1,1,7.0710678118654755,0\" style=\"fill: #4682b4; stroke: black; stroke-width: 1; opacity: 0.7;\"></path><path transform=\"translate(700,281.25)\" d=\"M7.0710678118654755,0A7.0710678118654755,7.0710678118654755,0,1,1,-7.0710678118654755,0A7.0710678118654755,7.0710678118654755,0,1,1,7.0710678118654755,0\" style=\"fill: #4682b4; stroke: black; stroke-width: 1; opacity: 0.7;\"></path><path transform=\"translate(600,262.5)\" d=\"M7.0710678118654755,0A7.0710678118654755,7.0710678118654755,0,1,1,-7.0710678118654755,0A7.0710678118654755,7.0710678118654755,0,1,1,7.0710678118654755,0\" style=\"fill: #4682b4; stroke: black; stroke-width: 1; opacity: 0.7;\"></path><path transform=\"translate(700,262.5)\" d=\"M7.0710678118654755,0A7.0710678118654755,7.0710678118654755,0,1,1,-7.0710678118654755,0A7.0710678118654755,7.0710678118654755,0,1,1,7.0710678118654755,0\" style=\"fill: #4682b4; stroke: black; stroke-width: 1; opacity: 0.7;\"></path><path transform=\"translate(0,243.75)\" d=\"M7.0710678118654755,0A7.0710678118654755,7.0710678118654755,0,1,1,-7.0710678118654755,0A7.0710678118654755,7.0710678118654755,0,1,1,7.0710678118654755,0\" style=\"fill: #4682b4; stroke: black; stroke-width: 1; opacity: 0.7;\"></path><path transform=\"translate(600,243.75)\" d=\"M7.0710678118654755,0A7.0710678118654755,7.0710678118654755,0,1,1,-7.0710678118654755,0A7.0710678118654755,7.0710678118654755,0,1,1,7.0710678118654755,0\" style=\"fill: #4682b4; stroke: black; stroke-width: 1; opacity: 0.7;\"></path><path transform=\"translate(800,243.75)\" d=\"M7.0710678118654755,0A7.0710678118654755,7.0710678118654755,0,1,1,-7.0710678118654755,0A7.0710678118654755,7.0710678118654755,0,1,1,7.0710678118654755,0\" style=\"fill: #4682b4; stroke: black; stroke-width: 1; opacity: 0.7;\"></path><path transform=\"translate(600,225)\" d=\"M7.0710678118654755,0A7.0710678118654755,7.0710678118654755,0,1,1,-7.0710678118654755,0A7.0710678118654755,7.0710678118654755,0,1,1,7.0710678118654755,0\" style=\"fill: #4682b4; stroke: black; stroke-width: 1; opacity: 0.7;\"></path><path transform=\"translate(300,281.25)\" d=\"M7.0710678118654755,0A7.0710678118654755,7.0710678118654755,0,1,1,-7.0710678118654755,0A7.0710678118654755,7.0710678118654755,0,1,1,7.0710678118654755,0\" style=\"fill: #4682b4; stroke: black; stroke-width: 1; opacity: 0.7;\"></path><path transform=\"translate(800,225)\" d=\"M7.0710678118654755,0A7.0710678118654755,7.0710678118654755,0,1,1,-7.0710678118654755,0A7.0710678118654755,7.0710678118654755,0,1,1,7.0710678118654755,0\" style=\"fill: #4682b4; stroke: black; stroke-width: 1; opacity: 0.7;\"></path><path transform=\"translate(500,281.25)\" d=\"M7.0710678118654755,0A7.0710678118654755,7.0710678118654755,0,1,1,-7.0710678118654755,0A7.0710678118654755,7.0710678118654755,0,1,1,7.0710678118654755,0\" style=\"fill: #4682b4; stroke: black; stroke-width: 1; opacity: 0.7;\"></path><path transform=\"translate(0,225)\" d=\"M7.0710678118654755,0A7.0710678118654755,7.0710678118654755,0,1,1,-7.0710678118654755,0A7.0710678118654755,7.0710678118654755,0,1,1,7.0710678118654755,0\" style=\"fill: #4682b4; stroke: black; stroke-width: 1; opacity: 0.7;\"></path><path transform=\"translate(600,206.25)\" d=\"M7.0710678118654755,0A7.0710678118654755,7.0710678118654755,0,1,1,-7.0710678118654755,0A7.0710678118654755,7.0710678118654755,0,1,1,7.0710678118654755,0\" style=\"fill: #4682b4; stroke: black; stroke-width: 1; opacity: 0.7;\"></path><path transform=\"translate(0,206.25)\" d=\"M7.0710678118654755,0A7.0710678118654755,7.0710678118654755,0,1,1,-7.0710678118654755,0A7.0710678118654755,7.0710678118654755,0,1,1,7.0710678118654755,0\" style=\"fill: #4682b4; stroke: black; stroke-width: 1; opacity: 0.7;\"></path><path transform=\"translate(400,243.75)\" d=\"M7.0710678118654755,0A7.0710678118654755,7.0710678118654755,0,1,1,-7.0710678118654755,0A7.0710678118654755,7.0710678118654755,0,1,1,7.0710678118654755,0\" style=\"fill: #4682b4; stroke: black; stroke-width: 1; opacity: 0.7;\"></path><path transform=\"translate(800,206.25)\" d=\"M7.0710678118654755,0A7.0710678118654755,7.0710678118654755,0,1,1,-7.0710678118654755,0A7.0710678118654755,7.0710678118654755,0,1,1,7.0710678118654755,0\" style=\"fill: #4682b4; stroke: black; stroke-width: 1; opacity: 0.7;\"></path><path transform=\"translate(800,187.5)\" d=\"M7.0710678118654755,0A7.0710678118654755,7.0710678118654755,0,1,1,-7.0710678118654755,0A7.0710678118654755,7.0710678118654755,0,1,1,7.0710678118654755,0\" style=\"fill: #4682b4; stroke: black; stroke-width: 1; opacity: 0.7;\"></path><path transform=\"translate(400,225)\" d=\"M7.0710678118654755,0A7.0710678118654755,7.0710678118654755,0,1,1,-7.0710678118654755,0A7.0710678118654755,7.0710678118654755,0,1,1,7.0710678118654755,0\" style=\"fill: #4682b4; stroke: black; stroke-width: 1; opacity: 0.7;\"></path><path transform=\"translate(100,262.5)\" d=\"M7.0710678118654755,0A7.0710678118654755,7.0710678118654755,0,1,1,-7.0710678118654755,0A7.0710678118654755,7.0710678118654755,0,1,1,7.0710678118654755,0\" style=\"fill: #4682b4; stroke: black; stroke-width: 1; opacity: 0.7;\"></path><path transform=\"translate(0,187.5)\" d=\"M7.0710678118654755,0A7.0710678118654755,7.0710678118654755,0,1,1,-7.0710678118654755,0A7.0710678118654755,7.0710678118654755,0,1,1,7.0710678118654755,0\" style=\"fill: #4682b4; stroke: black; stroke-width: 1; opacity: 0.7;\"></path><path transform=\"translate(600,187.5)\" d=\"M7.0710678118654755,0A7.0710678118654755,7.0710678118654755,0,1,1,-7.0710678118654755,0A7.0710678118654755,7.0710678118654755,0,1,1,7.0710678118654755,0\" style=\"fill: #4682b4; stroke: black; stroke-width: 1; opacity: 0.7;\"></path><path transform=\"translate(700,243.75)\" d=\"M7.0710678118654755,0A7.0710678118654755,7.0710678118654755,0,1,1,-7.0710678118654755,0A7.0710678118654755,7.0710678118654755,0,1,1,7.0710678118654755,0\" style=\"fill: #4682b4; stroke: black; stroke-width: 1; opacity: 0.7;\"></path><path transform=\"translate(600,168.75)\" d=\"M7.0710678118654755,0A7.0710678118654755,7.0710678118654755,0,1,1,-7.0710678118654755,0A7.0710678118654755,7.0710678118654755,0,1,1,7.0710678118654755,0\" style=\"fill: #4682b4; stroke: black; stroke-width: 1; opacity: 0.7;\"></path><path transform=\"translate(800,168.75)\" d=\"M7.0710678118654755,0A7.0710678118654755,7.0710678118654755,0,1,1,-7.0710678118654755,0A7.0710678118654755,7.0710678118654755,0,1,1,7.0710678118654755,0\" style=\"fill: #4682b4; stroke: black; stroke-width: 1; opacity: 0.7;\"></path><path transform=\"translate(300,262.5)\" d=\"M7.0710678118654755,0A7.0710678118654755,7.0710678118654755,0,1,1,-7.0710678118654755,0A7.0710678118654755,7.0710678118654755,0,1,1,7.0710678118654755,0\" style=\"fill: #4682b4; stroke: black; stroke-width: 1; opacity: 0.7;\"></path><path transform=\"translate(400,206.25)\" d=\"M7.0710678118654755,0A7.0710678118654755,7.0710678118654755,0,1,1,-7.0710678118654755,0A7.0710678118654755,7.0710678118654755,0,1,1,7.0710678118654755,0\" style=\"fill: #4682b4; stroke: black; stroke-width: 1; opacity: 0.7;\"></path><path transform=\"translate(500,262.5)\" d=\"M7.0710678118654755,0A7.0710678118654755,7.0710678118654755,0,1,1,-7.0710678118654755,0A7.0710678118654755,7.0710678118654755,0,1,1,7.0710678118654755,0\" style=\"fill: #4682b4; stroke: black; stroke-width: 1; opacity: 0.7;\"></path><path transform=\"translate(400,187.5)\" d=\"M7.0710678118654755,0A7.0710678118654755,7.0710678118654755,0,1,1,-7.0710678118654755,0A7.0710678118654755,7.0710678118654755,0,1,1,7.0710678118654755,0\" style=\"fill: #4682b4; stroke: black; stroke-width: 1; opacity: 0.7;\"></path><path transform=\"translate(600,150)\" d=\"M7.0710678118654755,0A7.0710678118654755,7.0710678118654755,0,1,1,-7.0710678118654755,0A7.0710678118654755,7.0710678118654755,0,1,1,7.0710678118654755,0\" style=\"fill: #4682b4; stroke: black; stroke-width: 1; opacity: 0.7;\"></path><path transform=\"translate(300,243.75)\" d=\"M7.0710678118654755,0A7.0710678118654755,7.0710678118654755,0,1,1,-7.0710678118654755,0A7.0710678118654755,7.0710678118654755,0,1,1,7.0710678118654755,0\" style=\"fill: #4682b4; stroke: black; stroke-width: 1; opacity: 0.7;\"></path><path transform=\"translate(500,243.75)\" d=\"M7.0710678118654755,0A7.0710678118654755,7.0710678118654755,0,1,1,-7.0710678118654755,0A7.0710678118654755,7.0710678118654755,0,1,1,7.0710678118654755,0\" style=\"fill: #4682b4; stroke: black; stroke-width: 1; opacity: 0.7;\"></path><path transform=\"translate(300,225)\" d=\"M7.0710678118654755,0A7.0710678118654755,7.0710678118654755,0,1,1,-7.0710678118654755,0A7.0710678118654755,7.0710678118654755,0,1,1,7.0710678118654755,0\" style=\"fill: #4682b4; stroke: black; stroke-width: 1; opacity: 0.7;\"></path><path transform=\"translate(400,168.75)\" d=\"M7.0710678118654755,0A7.0710678118654755,7.0710678118654755,0,1,1,-7.0710678118654755,0A7.0710678118654755,7.0710678118654755,0,1,1,7.0710678118654755,0\" style=\"fill: #4682b4; stroke: black; stroke-width: 1; opacity: 0.7;\"></path><path transform=\"translate(0,168.75)\" d=\"M7.0710678118654755,0A7.0710678118654755,7.0710678118654755,0,1,1,-7.0710678118654755,0A7.0710678118654755,7.0710678118654755,0,1,1,7.0710678118654755,0\" style=\"fill: #4682b4; stroke: black; stroke-width: 1; opacity: 0.7;\"></path><path transform=\"translate(300,206.25)\" d=\"M7.0710678118654755,0A7.0710678118654755,7.0710678118654755,0,1,1,-7.0710678118654755,0A7.0710678118654755,7.0710678118654755,0,1,1,7.0710678118654755,0\" style=\"fill: #4682b4; stroke: black; stroke-width: 1; opacity: 0.7;\"></path><path transform=\"translate(100,243.75)\" d=\"M7.0710678118654755,0A7.0710678118654755,7.0710678118654755,0,1,1,-7.0710678118654755,0A7.0710678118654755,7.0710678118654755,0,1,1,7.0710678118654755,0\" style=\"fill: #4682b4; stroke: black; stroke-width: 1; opacity: 0.7;\"></path><path transform=\"translate(100,225)\" d=\"M7.0710678118654755,0A7.0710678118654755,7.0710678118654755,0,1,1,-7.0710678118654755,0A7.0710678118654755,7.0710678118654755,0,1,1,7.0710678118654755,0\" style=\"fill: #4682b4; stroke: black; stroke-width: 1; opacity: 0.7;\"></path><path transform=\"translate(600,131.25)\" d=\"M7.0710678118654755,0A7.0710678118654755,7.0710678118654755,0,1,1,-7.0710678118654755,0A7.0710678118654755,7.0710678118654755,0,1,1,7.0710678118654755,0\" style=\"fill: #4682b4; stroke: black; stroke-width: 1; opacity: 0.7;\"></path><path transform=\"translate(800,150)\" d=\"M7.0710678118654755,0A7.0710678118654755,7.0710678118654755,0,1,1,-7.0710678118654755,0A7.0710678118654755,7.0710678118654755,0,1,1,7.0710678118654755,0\" style=\"fill: #4682b4; stroke: black; stroke-width: 1; opacity: 0.7;\"></path><path transform=\"translate(600,112.5)\" d=\"M7.0710678118654755,0A7.0710678118654755,7.0710678118654755,0,1,1,-7.0710678118654755,0A7.0710678118654755,7.0710678118654755,0,1,1,7.0710678118654755,0\" style=\"fill: #4682b4; stroke: black; stroke-width: 1; opacity: 0.7;\"></path><path transform=\"translate(200,262.5)\" d=\"M7.0710678118654755,0A7.0710678118654755,7.0710678118654755,0,1,1,-7.0710678118654755,0A7.0710678118654755,7.0710678118654755,0,1,1,7.0710678118654755,0\" style=\"fill: #4682b4; stroke: black; stroke-width: 1; opacity: 0.7;\"></path><path transform=\"translate(0,150)\" d=\"M7.0710678118654755,0A7.0710678118654755,7.0710678118654755,0,1,1,-7.0710678118654755,0A7.0710678118654755,7.0710678118654755,0,1,1,7.0710678118654755,0\" style=\"fill: #4682b4; stroke: black; stroke-width: 1; opacity: 0.7;\"></path><path transform=\"translate(100,206.25)\" d=\"M7.0710678118654755,0A7.0710678118654755,7.0710678118654755,0,1,1,-7.0710678118654755,0A7.0710678118654755,7.0710678118654755,0,1,1,7.0710678118654755,0\" style=\"fill: #4682b4; stroke: black; stroke-width: 1; opacity: 0.7;\"></path><path transform=\"translate(400,150)\" d=\"M7.0710678118654755,0A7.0710678118654755,7.0710678118654755,0,1,1,-7.0710678118654755,0A7.0710678118654755,7.0710678118654755,0,1,1,7.0710678118654755,0\" style=\"fill: #4682b4; stroke: black; stroke-width: 1; opacity: 0.7;\"></path><path transform=\"translate(300,187.5)\" d=\"M7.0710678118654755,0A7.0710678118654755,7.0710678118654755,0,1,1,-7.0710678118654755,0A7.0710678118654755,7.0710678118654755,0,1,1,7.0710678118654755,0\" style=\"fill: #4682b4; stroke: black; stroke-width: 1; opacity: 0.7;\"></path><path transform=\"translate(0,131.25)\" d=\"M7.0710678118654755,0A7.0710678118654755,7.0710678118654755,0,1,1,-7.0710678118654755,0A7.0710678118654755,7.0710678118654755,0,1,1,7.0710678118654755,0\" style=\"fill: #4682b4; stroke: black; stroke-width: 1; opacity: 0.7;\"></path><path transform=\"translate(300,168.75)\" d=\"M7.0710678118654755,0A7.0710678118654755,7.0710678118654755,0,1,1,-7.0710678118654755,0A7.0710678118654755,7.0710678118654755,0,1,1,7.0710678118654755,0\" style=\"fill: #4682b4; stroke: black; stroke-width: 1; opacity: 0.7;\"></path><path transform=\"translate(600,93.75)\" d=\"M7.0710678118654755,0A7.0710678118654755,7.0710678118654755,0,1,1,-7.0710678118654755,0A7.0710678118654755,7.0710678118654755,0,1,1,7.0710678118654755,0\" style=\"fill: #4682b4; stroke: black; stroke-width: 1; opacity: 0.7;\"></path><path transform=\"translate(700,225)\" d=\"M7.0710678118654755,0A7.0710678118654755,7.0710678118654755,0,1,1,-7.0710678118654755,0A7.0710678118654755,7.0710678118654755,0,1,1,7.0710678118654755,0\" style=\"fill: #4682b4; stroke: black; stroke-width: 1; opacity: 0.7;\"></path><path transform=\"translate(300,150)\" d=\"M7.0710678118654755,0A7.0710678118654755,7.0710678118654755,0,1,1,-7.0710678118654755,0A7.0710678118654755,7.0710678118654755,0,1,1,7.0710678118654755,0\" style=\"fill: #4682b4; stroke: black; stroke-width: 1; opacity: 0.7;\"></path><path transform=\"translate(600,75)\" d=\"M7.0710678118654755,0A7.0710678118654755,7.0710678118654755,0,1,1,-7.0710678118654755,0A7.0710678118654755,7.0710678118654755,0,1,1,7.0710678118654755,0\" style=\"fill: #4682b4; stroke: black; stroke-width: 1; opacity: 0.7;\"></path><path transform=\"translate(500,225)\" d=\"M7.0710678118654755,0A7.0710678118654755,7.0710678118654755,0,1,1,-7.0710678118654755,0A7.0710678118654755,7.0710678118654755,0,1,1,7.0710678118654755,0\" style=\"fill: #4682b4; stroke: black; stroke-width: 1; opacity: 0.7;\"></path><path transform=\"translate(400,131.25)\" d=\"M7.0710678118654755,0A7.0710678118654755,7.0710678118654755,0,1,1,-7.0710678118654755,0A7.0710678118654755,7.0710678118654755,0,1,1,7.0710678118654755,0\" style=\"fill: #4682b4; stroke: black; stroke-width: 1; opacity: 0.7;\"></path><path transform=\"translate(100,187.5)\" d=\"M7.0710678118654755,0A7.0710678118654755,7.0710678118654755,0,1,1,-7.0710678118654755,0A7.0710678118654755,7.0710678118654755,0,1,1,7.0710678118654755,0\" style=\"fill: #4682b4; stroke: black; stroke-width: 1; opacity: 0.7;\"></path><path transform=\"translate(800,131.25)\" d=\"M7.0710678118654755,0A7.0710678118654755,7.0710678118654755,0,1,1,-7.0710678118654755,0A7.0710678118654755,7.0710678118654755,0,1,1,7.0710678118654755,0\" style=\"fill: #4682b4; stroke: black; stroke-width: 1; opacity: 0.7;\"></path><path transform=\"translate(800,112.5)\" d=\"M7.0710678118654755,0A7.0710678118654755,7.0710678118654755,0,1,1,-7.0710678118654755,0A7.0710678118654755,7.0710678118654755,0,1,1,7.0710678118654755,0\" style=\"fill: #4682b4; stroke: black; stroke-width: 1; opacity: 0.7;\"></path><path transform=\"translate(500,206.25)\" d=\"M7.0710678118654755,0A7.0710678118654755,7.0710678118654755,0,1,1,-7.0710678118654755,0A7.0710678118654755,7.0710678118654755,0,1,1,7.0710678118654755,0\" style=\"fill: #4682b4; stroke: black; stroke-width: 1; opacity: 0.7;\"></path><path transform=\"translate(0,112.5)\" d=\"M7.0710678118654755,0A7.0710678118654755,7.0710678118654755,0,1,1,-7.0710678118654755,0A7.0710678118654755,7.0710678118654755,0,1,1,7.0710678118654755,0\" style=\"fill: #4682b4; stroke: black; stroke-width: 1; opacity: 0.7;\"></path><path transform=\"translate(0,93.75)\" d=\"M7.0710678118654755,0A7.0710678118654755,7.0710678118654755,0,1,1,-7.0710678118654755,0A7.0710678118654755,7.0710678118654755,0,1,1,7.0710678118654755,0\" style=\"fill: #4682b4; stroke: black; stroke-width: 1; opacity: 0.7;\"></path><path transform=\"translate(0,75)\" d=\"M7.0710678118654755,0A7.0710678118654755,7.0710678118654755,0,1,1,-7.0710678118654755,0A7.0710678118654755,7.0710678118654755,0,1,1,7.0710678118654755,0\" style=\"fill: #4682b4; stroke: black; stroke-width: 1; opacity: 0.7;\"></path><path transform=\"translate(200,243.75)\" d=\"M7.0710678118654755,0A7.0710678118654755,7.0710678118654755,0,1,1,-7.0710678118654755,0A7.0710678118654755,7.0710678118654755,0,1,1,7.0710678118654755,0\" style=\"fill: #4682b4; stroke: black; stroke-width: 1; opacity: 0.7;\"></path><path transform=\"translate(600,56.25)\" d=\"M7.0710678118654755,0A7.0710678118654755,7.0710678118654755,0,1,1,-7.0710678118654755,0A7.0710678118654755,7.0710678118654755,0,1,1,7.0710678118654755,0\" style=\"fill: #4682b4; stroke: black; stroke-width: 1; opacity: 0.7;\"></path><path transform=\"translate(700,206.25)\" d=\"M7.0710678118654755,0A7.0710678118654755,7.0710678118654755,0,1,1,-7.0710678118654755,0A7.0710678118654755,7.0710678118654755,0,1,1,7.0710678118654755,0\" style=\"fill: #4682b4; stroke: black; stroke-width: 1; opacity: 0.7;\"></path><path transform=\"translate(300,131.25)\" d=\"M7.0710678118654755,0A7.0710678118654755,7.0710678118654755,0,1,1,-7.0710678118654755,0A7.0710678118654755,7.0710678118654755,0,1,1,7.0710678118654755,0\" style=\"fill: #4682b4; stroke: black; stroke-width: 1; opacity: 0.7;\"></path><path transform=\"translate(800,93.75)\" d=\"M7.0710678118654755,0A7.0710678118654755,7.0710678118654755,0,1,1,-7.0710678118654755,0A7.0710678118654755,7.0710678118654755,0,1,1,7.0710678118654755,0\" style=\"fill: #4682b4; stroke: black; stroke-width: 1; opacity: 0.7;\"></path><path transform=\"translate(800,75)\" d=\"M7.0710678118654755,0A7.0710678118654755,7.0710678118654755,0,1,1,-7.0710678118654755,0A7.0710678118654755,7.0710678118654755,0,1,1,7.0710678118654755,0\" style=\"fill: #4682b4; stroke: black; stroke-width: 1; opacity: 0.7;\"></path><path transform=\"translate(400,112.5)\" d=\"M7.0710678118654755,0A7.0710678118654755,7.0710678118654755,0,1,1,-7.0710678118654755,0A7.0710678118654755,7.0710678118654755,0,1,1,7.0710678118654755,0\" style=\"fill: #4682b4; stroke: black; stroke-width: 1; opacity: 0.7;\"></path><path transform=\"translate(800,56.25)\" d=\"M7.0710678118654755,0A7.0710678118654755,7.0710678118654755,0,1,1,-7.0710678118654755,0A7.0710678118654755,7.0710678118654755,0,1,1,7.0710678118654755,0\" style=\"fill: #4682b4; stroke: black; stroke-width: 1; opacity: 0.7;\"></path><path transform=\"translate(200,225)\" d=\"M7.0710678118654755,0A7.0710678118654755,7.0710678118654755,0,1,1,-7.0710678118654755,0A7.0710678118654755,7.0710678118654755,0,1,1,7.0710678118654755,0\" style=\"fill: #4682b4; stroke: black; stroke-width: 1; opacity: 0.7;\"></path><path transform=\"translate(700,187.5)\" d=\"M7.0710678118654755,0A7.0710678118654755,7.0710678118654755,0,1,1,-7.0710678118654755,0A7.0710678118654755,7.0710678118654755,0,1,1,7.0710678118654755,0\" style=\"fill: #4682b4; stroke: black; stroke-width: 1; opacity: 0.7;\"></path><path transform=\"translate(500,187.5)\" d=\"M7.0710678118654755,0A7.0710678118654755,7.0710678118654755,0,1,1,-7.0710678118654755,0A7.0710678118654755,7.0710678118654755,0,1,1,7.0710678118654755,0\" style=\"fill: #4682b4; stroke: black; stroke-width: 1; opacity: 0.7;\"></path><path transform=\"translate(600,37.5)\" d=\"M7.0710678118654755,0A7.0710678118654755,7.0710678118654755,0,1,1,-7.0710678118654755,0A7.0710678118654755,7.0710678118654755,0,1,1,7.0710678118654755,0\" style=\"fill: #4682b4; stroke: black; stroke-width: 1; opacity: 0.7;\"></path><path transform=\"translate(800,37.5)\" d=\"M7.0710678118654755,0A7.0710678118654755,7.0710678118654755,0,1,1,-7.0710678118654755,0A7.0710678118654755,7.0710678118654755,0,1,1,7.0710678118654755,0\" style=\"fill: #4682b4; stroke: black; stroke-width: 1; opacity: 0.7;\"></path><path transform=\"translate(300,112.5)\" d=\"M7.0710678118654755,0A7.0710678118654755,7.0710678118654755,0,1,1,-7.0710678118654755,0A7.0710678118654755,7.0710678118654755,0,1,1,7.0710678118654755,0\" style=\"fill: #4682b4; stroke: black; stroke-width: 1; opacity: 0.7;\"></path><path transform=\"translate(100,168.75)\" d=\"M7.0710678118654755,0A7.0710678118654755,7.0710678118654755,0,1,1,-7.0710678118654755,0A7.0710678118654755,7.0710678118654755,0,1,1,7.0710678118654755,0\" style=\"fill: #4682b4; stroke: black; stroke-width: 1; opacity: 0.7;\"></path><path transform=\"translate(500,168.75)\" d=\"M7.0710678118654755,0A7.0710678118654755,7.0710678118654755,0,1,1,-7.0710678118654755,0A7.0710678118654755,7.0710678118654755,0,1,1,7.0710678118654755,0\" style=\"fill: #4682b4; stroke: black; stroke-width: 1; opacity: 0.7;\"></path><path transform=\"translate(800,18.75)\" d=\"M7.0710678118654755,0A7.0710678118654755,7.0710678118654755,0,1,1,-7.0710678118654755,0A7.0710678118654755,7.0710678118654755,0,1,1,7.0710678118654755,0\" style=\"fill: #4682b4; stroke: black; stroke-width: 1; opacity: 0.7;\"></path><path transform=\"translate(600,18.75)\" d=\"M7.0710678118654755,0A7.0710678118654755,7.0710678118654755,0,1,1,-7.0710678118654755,0A7.0710678118654755,7.0710678118654755,0,1,1,7.0710678118654755,0\" style=\"fill: #4682b4; stroke: black; stroke-width: 1; opacity: 0.7;\"></path><path transform=\"translate(400,93.75)\" d=\"M7.0710678118654755,0A7.0710678118654755,7.0710678118654755,0,1,1,-7.0710678118654755,0A7.0710678118654755,7.0710678118654755,0,1,1,7.0710678118654755,0\" style=\"fill: #4682b4; stroke: black; stroke-width: 1; opacity: 0.7;\"></path><path transform=\"translate(500,150)\" d=\"M7.0710678118654755,0A7.0710678118654755,7.0710678118654755,0,1,1,-7.0710678118654755,0A7.0710678118654755,7.0710678118654755,0,1,1,7.0710678118654755,0\" style=\"fill: #4682b4; stroke: black; stroke-width: 1; opacity: 0.7;\"></path><path transform=\"translate(700,168.75)\" d=\"M7.0710678118654755,0A7.0710678118654755,7.0710678118654755,0,1,1,-7.0710678118654755,0A7.0710678118654755,7.0710678118654755,0,1,1,7.0710678118654755,0\" style=\"fill: #4682b4; stroke: black; stroke-width: 1; opacity: 0.7;\"></path><path transform=\"translate(300,93.75)\" d=\"M7.0710678118654755,0A7.0710678118654755,7.0710678118654755,0,1,1,-7.0710678118654755,0A7.0710678118654755,7.0710678118654755,0,1,1,7.0710678118654755,0\" style=\"fill: #4682b4; stroke: black; stroke-width: 1; opacity: 0.7;\"></path><path transform=\"translate(400,75)\" d=\"M7.0710678118654755,0A7.0710678118654755,7.0710678118654755,0,1,1,-7.0710678118654755,0A7.0710678118654755,7.0710678118654755,0,1,1,7.0710678118654755,0\" style=\"fill: #4682b4; stroke: black; stroke-width: 1; opacity: 0.7;\"></path><path transform=\"translate(800,0)\" d=\"M7.0710678118654755,0A7.0710678118654755,7.0710678118654755,0,1,1,-7.0710678118654755,0A7.0710678118654755,7.0710678118654755,0,1,1,7.0710678118654755,0\" style=\"fill: #4682b4; stroke: black; stroke-width: 1; opacity: 0.7;\"></path><path transform=\"translate(700,150)\" d=\"M7.0710678118654755,0A7.0710678118654755,7.0710678118654755,0,1,1,-7.0710678118654755,0A7.0710678118654755,7.0710678118654755,0,1,1,7.0710678118654755,0\" style=\"fill: #4682b4; stroke: black; stroke-width: 1; opacity: 0.7;\"></path><path transform=\"translate(700,131.25)\" d=\"M7.0710678118654755,0A7.0710678118654755,7.0710678118654755,0,1,1,-7.0710678118654755,0A7.0710678118654755,7.0710678118654755,0,1,1,7.0710678118654755,0\" style=\"fill: #4682b4; stroke: black; stroke-width: 1; opacity: 0.7;\"></path><path transform=\"translate(200,206.25)\" d=\"M7.0710678118654755,0A7.0710678118654755,7.0710678118654755,0,1,1,-7.0710678118654755,0A7.0710678118654755,7.0710678118654755,0,1,1,7.0710678118654755,0\" style=\"fill: #4682b4; stroke: black; stroke-width: 1; opacity: 0.7;\"></path><path transform=\"translate(600,0)\" d=\"M7.0710678118654755,0A7.0710678118654755,7.0710678118654755,0,1,1,-7.0710678118654755,0A7.0710678118654755,7.0710678118654755,0,1,1,7.0710678118654755,0\" style=\"fill: #4682b4; stroke: black; stroke-width: 1; opacity: 0.7;\"></path><path transform=\"translate(200,187.5)\" d=\"M7.0710678118654755,0A7.0710678118654755,7.0710678118654755,0,1,1,-7.0710678118654755,0A7.0710678118654755,7.0710678118654755,0,1,1,7.0710678118654755,0\" style=\"fill: #4682b4; stroke: black; stroke-width: 1; opacity: 0.7;\"></path><path transform=\"translate(400,56.25)\" d=\"M7.0710678118654755,0A7.0710678118654755,7.0710678118654755,0,1,1,-7.0710678118654755,0A7.0710678118654755,7.0710678118654755,0,1,1,7.0710678118654755,0\" style=\"fill: #4682b4; stroke: black; stroke-width: 1; opacity: 0.7;\"></path><path transform=\"translate(100,150)\" d=\"M7.0710678118654755,0A7.0710678118654755,7.0710678118654755,0,1,1,-7.0710678118654755,0A7.0710678118654755,7.0710678118654755,0,1,1,7.0710678118654755,0\" style=\"fill: #4682b4; stroke: black; stroke-width: 1; opacity: 0.7;\"></path><path transform=\"translate(100,131.25)\" d=\"M7.0710678118654755,0A7.0710678118654755,7.0710678118654755,0,1,1,-7.0710678118654755,0A7.0710678118654755,7.0710678118654755,0,1,1,7.0710678118654755,0\" style=\"fill: #4682b4; stroke: black; stroke-width: 1; opacity: 0.7;\"></path></g><g class=\"mark-group role-axis\"><g transform=\"translate(0.5,300.5)\"><path class=\"background\" d=\"M0,0h0v0h0Z\" style=\"pointer-events: none; fill: none;\"></path><g><g class=\"mark-rule role-axis-tick\" style=\"pointer-events: none;\"><line transform=\"translate(0,0)\" x2=\"0\" y2=\"5\" style=\"fill: none; stroke: #888; stroke-width: 1; opacity: 1;\"></line><line transform=\"translate(50,0)\" x2=\"0\" y2=\"5\" style=\"fill: none; stroke: #888; stroke-width: 1; opacity: 1;\"></line><line transform=\"translate(100,0)\" x2=\"0\" y2=\"5\" style=\"fill: none; stroke: #888; stroke-width: 1; opacity: 1;\"></line><line transform=\"translate(150,0)\" x2=\"0\" y2=\"5\" style=\"fill: none; stroke: #888; stroke-width: 1; opacity: 1;\"></line><line transform=\"translate(200,0)\" x2=\"0\" y2=\"5\" style=\"fill: none; stroke: #888; stroke-width: 1; opacity: 1;\"></line><line transform=\"translate(250,0)\" x2=\"0\" y2=\"5\" style=\"fill: none; stroke: #888; stroke-width: 1; opacity: 1;\"></line><line transform=\"translate(300,0)\" x2=\"0\" y2=\"5\" style=\"fill: none; stroke: #888; stroke-width: 1; opacity: 1;\"></line><line transform=\"translate(350,0)\" x2=\"0\" y2=\"5\" style=\"fill: none; stroke: #888; stroke-width: 1; opacity: 1;\"></line><line transform=\"translate(400,0)\" x2=\"0\" y2=\"5\" style=\"fill: none; stroke: #888; stroke-width: 1; opacity: 1;\"></line><line transform=\"translate(450,0)\" x2=\"0\" y2=\"5\" style=\"fill: none; stroke: #888; stroke-width: 1; opacity: 1;\"></line><line transform=\"translate(500,0)\" x2=\"0\" y2=\"5\" style=\"fill: none; stroke: #888; stroke-width: 1; opacity: 1;\"></line><line transform=\"translate(550,0)\" x2=\"0\" y2=\"5\" style=\"fill: none; stroke: #888; stroke-width: 1; opacity: 1;\"></line><line transform=\"translate(600,0)\" x2=\"0\" y2=\"5\" style=\"fill: none; stroke: #888; stroke-width: 1; opacity: 1;\"></line><line transform=\"translate(650,0)\" x2=\"0\" y2=\"5\" style=\"fill: none; stroke: #888; stroke-width: 1; opacity: 1;\"></line><line transform=\"translate(700,0)\" x2=\"0\" y2=\"5\" style=\"fill: none; stroke: #888; stroke-width: 1; opacity: 1;\"></line><line transform=\"translate(750,0)\" x2=\"0\" y2=\"5\" style=\"fill: none; stroke: #888; stroke-width: 1; opacity: 1;\"></line><line transform=\"translate(800,0)\" x2=\"0\" y2=\"5\" style=\"fill: none; stroke: #888; stroke-width: 1; opacity: 1;\"></line></g><g class=\"mark-text role-axis-label\" style=\"pointer-events: none;\"><text text-anchor=\"start\" transform=\"translate(0,15)\" style=\"font-family: sans-serif; font-size: 10px; fill: #000; opacity: 1;\">0.0</text><text text-anchor=\"middle\" transform=\"translate(50,15)\" style=\"font-family: sans-serif; font-size: 10px; fill: #000; opacity: 1;\">0.5</text><text text-anchor=\"middle\" transform=\"translate(100,15)\" style=\"font-family: sans-serif; font-size: 10px; fill: #000; opacity: 1;\">1.0</text><text text-anchor=\"middle\" transform=\"translate(150,15)\" style=\"font-family: sans-serif; font-size: 10px; fill: #000; opacity: 1;\">1.5</text><text text-anchor=\"middle\" transform=\"translate(200,15)\" style=\"font-family: sans-serif; font-size: 10px; fill: #000; opacity: 1;\">2.0</text><text text-anchor=\"middle\" transform=\"translate(250,15)\" style=\"font-family: sans-serif; font-size: 10px; fill: #000; opacity: 1;\">2.5</text><text text-anchor=\"middle\" transform=\"translate(300,15)\" style=\"font-family: sans-serif; font-size: 10px; fill: #000; opacity: 1;\">3.0</text><text text-anchor=\"middle\" transform=\"translate(350,15)\" style=\"font-family: sans-serif; font-size: 10px; fill: #000; opacity: 1;\">3.5</text><text text-anchor=\"middle\" transform=\"translate(400,15)\" style=\"font-family: sans-serif; font-size: 10px; fill: #000; opacity: 1;\">4.0</text><text text-anchor=\"middle\" transform=\"translate(450,15)\" style=\"font-family: sans-serif; font-size: 10px; fill: #000; opacity: 1;\">4.5</text><text text-anchor=\"middle\" transform=\"translate(500,15)\" style=\"font-family: sans-serif; font-size: 10px; fill: #000; opacity: 1;\">5.0</text><text text-anchor=\"middle\" transform=\"translate(550,15)\" style=\"font-family: sans-serif; font-size: 10px; fill: #000; opacity: 1;\">5.5</text><text text-anchor=\"middle\" transform=\"translate(600,15)\" style=\"font-family: sans-serif; font-size: 10px; fill: #000; opacity: 1;\">6.0</text><text text-anchor=\"middle\" transform=\"translate(650,15)\" style=\"font-family: sans-serif; font-size: 10px; fill: #000; opacity: 1;\">6.5</text><text text-anchor=\"middle\" transform=\"translate(700,15)\" style=\"font-family: sans-serif; font-size: 10px; fill: #000; opacity: 1;\">7.0</text><text text-anchor=\"middle\" transform=\"translate(750,15)\" style=\"font-family: sans-serif; font-size: 10px; fill: #000; opacity: 1;\">7.5</text><text text-anchor=\"end\" transform=\"translate(800,15)\" style=\"font-family: sans-serif; font-size: 10px; fill: #000; opacity: 1;\">8.0</text></g><g class=\"mark-rule role-axis-domain\" style=\"pointer-events: none;\"><line transform=\"translate(0,0)\" x2=\"800\" y2=\"0\" style=\"fill: none; stroke: #888; stroke-width: 1; opacity: 1;\"></line></g><g class=\"mark-text role-axis-title\" style=\"pointer-events: none;\"><text text-anchor=\"middle\" transform=\"translate(400,30)\" style=\"font-family: sans-serif; font-size: 11px; font-weight: bold; fill: #000; opacity: 1;\">Sample Values</text></g></g></g></g></g></g></g></g></g></g><g class=\"mark-group role-scope concat_1_group\"><g transform=\"translate(0,353)\"><path class=\"background\" d=\"M0.5,0.5h200v200h-200Z\" style=\"fill: none; stroke: #ddd;\"></path><g><g class=\"mark-group role-axis\"><g transform=\"translate(0.5,0.5)\"><path class=\"background\" d=\"M0,0h0v0h0Z\" style=\"pointer-events: none; fill: none;\"></path><g><g class=\"mark-rule role-axis-grid\" style=\"pointer-events: none;\"><line transform=\"translate(0,200)\" x2=\"200\" y2=\"0\" style=\"fill: none; stroke: #ddd; stroke-width: 1; opacity: 1;\"></line><line transform=\"translate(0,162)\" x2=\"200\" y2=\"0\" style=\"fill: none; stroke: #ddd; stroke-width: 1; opacity: 1;\"></line><line transform=\"translate(0,123)\" x2=\"200\" y2=\"0\" style=\"fill: none; stroke: #ddd; stroke-width: 1; opacity: 1;\"></line><line transform=\"translate(0,85)\" x2=\"200\" y2=\"0\" style=\"fill: none; stroke: #ddd; stroke-width: 1; opacity: 1;\"></line><line transform=\"translate(0,46)\" x2=\"200\" y2=\"0\" style=\"fill: none; stroke: #ddd; stroke-width: 1; opacity: 1;\"></line><line transform=\"translate(0,8)\" x2=\"200\" y2=\"0\" style=\"fill: none; stroke: #ddd; stroke-width: 1; opacity: 1;\"></line></g></g></g></g><g class=\"mark-rect role-mark concat_1_marks\"><path d=\"M1,107.6923076923077h24v92.3076923076923h-24Z\" style=\"fill: #4c78a8;\"></path><path d=\"M151,76.92307692307692h24v123.07692307692308h-24Z\" style=\"fill: #4c78a8;\"></path><path d=\"M176,7.692307692307679h24v192.30769230769232h-24Z\" style=\"fill: #4c78a8;\"></path><path d=\"M101,100h24v100h-24Z\" style=\"fill: #4c78a8;\"></path><path d=\"M26,130.76923076923077h24v69.23076923076923h-24Z\" style=\"fill: #4c78a8;\"></path><path d=\"M51,153.84615384615384h24v46.15384615384616h-24Z\" style=\"fill: #4c78a8;\"></path><path d=\"M76,115.38461538461539h24v84.61538461538461h-24Z\" style=\"fill: #4c78a8;\"></path><path d=\"M126,138.46153846153845h24v61.53846153846155h-24Z\" style=\"fill: #4c78a8;\"></path></g><g class=\"mark-group role-axis\"><g transform=\"translate(0.5,200.5)\"><path class=\"background\" d=\"M0,0h0v0h0Z\" style=\"pointer-events: none; fill: none;\"></path><g><g class=\"mark-rule role-axis-tick\" style=\"pointer-events: none;\"><line transform=\"translate(0,0)\" x2=\"0\" y2=\"5\" style=\"fill: none; stroke: #888; stroke-width: 1; opacity: 1;\"></line><line transform=\"translate(25,0)\" x2=\"0\" y2=\"5\" style=\"fill: none; stroke: #888; stroke-width: 1; opacity: 1;\"></line><line transform=\"translate(50,0)\" x2=\"0\" y2=\"5\" style=\"fill: none; stroke: #888; stroke-width: 1; opacity: 1;\"></line><line transform=\"translate(75,0)\" x2=\"0\" y2=\"5\" style=\"fill: none; stroke: #888; stroke-width: 1; opacity: 1;\"></line><line transform=\"translate(100,0)\" x2=\"0\" y2=\"5\" style=\"fill: none; stroke: #888; stroke-width: 1; opacity: 1;\"></line><line transform=\"translate(125,0)\" x2=\"0\" y2=\"5\" style=\"fill: none; stroke: #888; stroke-width: 1; opacity: 1;\"></line><line transform=\"translate(150,0)\" x2=\"0\" y2=\"5\" style=\"fill: none; stroke: #888; stroke-width: 1; opacity: 1;\"></line><line transform=\"translate(175,0)\" x2=\"0\" y2=\"5\" style=\"fill: none; stroke: #888; stroke-width: 1; opacity: 1;\"></line><line transform=\"translate(200,0)\" x2=\"0\" y2=\"5\" style=\"fill: none; stroke: #888; stroke-width: 1; opacity: 1;\"></line></g><g class=\"mark-text role-axis-label\" style=\"pointer-events: none;\"><text text-anchor=\"start\" transform=\"translate(0,15)\" style=\"font-family: sans-serif; font-size: 10px; fill: #000; opacity: 1;\">0.0</text><text text-anchor=\"middle\" transform=\"translate(25,15)\" style=\"font-family: sans-serif; font-size: 10px; fill: #000; opacity: 1;\">1.0</text><text text-anchor=\"middle\" transform=\"translate(50,15)\" style=\"font-family: sans-serif; font-size: 10px; fill: #000; opacity: 1;\">2.0</text><text text-anchor=\"middle\" transform=\"translate(75,15)\" style=\"font-family: sans-serif; font-size: 10px; fill: #000; opacity: 1;\">3.0</text><text text-anchor=\"middle\" transform=\"translate(100,15)\" style=\"font-family: sans-serif; font-size: 10px; fill: #000; opacity: 1;\">4.0</text><text text-anchor=\"middle\" transform=\"translate(125,15)\" style=\"font-family: sans-serif; font-size: 10px; fill: #000; opacity: 1;\">5.0</text><text text-anchor=\"middle\" transform=\"translate(150,15)\" style=\"font-family: sans-serif; font-size: 10px; fill: #000; opacity: 1;\">6.0</text><text text-anchor=\"middle\" transform=\"translate(175,15)\" style=\"font-family: sans-serif; font-size: 10px; fill: #000; opacity: 1;\">7.0</text><text text-anchor=\"end\" transform=\"translate(200,15)\" style=\"font-family: sans-serif; font-size: 10px; fill: #000; opacity: 1;\">8.0</text></g><g class=\"mark-rule role-axis-domain\" style=\"pointer-events: none;\"><line transform=\"translate(0,0)\" x2=\"200\" y2=\"0\" style=\"fill: none; stroke: #888; stroke-width: 1; opacity: 1;\"></line></g><g class=\"mark-text role-axis-title\" style=\"pointer-events: none;\"><text text-anchor=\"middle\" transform=\"translate(100,30)\" style=\"font-family: sans-serif; font-size: 11px; font-weight: bold; fill: #000; opacity: 1;\">x1 (binned)</text></g></g></g></g><g class=\"mark-group role-axis\"><g transform=\"translate(0.5,0.5)\"><path class=\"background\" d=\"M0,0h0v0h0Z\" style=\"pointer-events: none; fill: none;\"></path><g><g class=\"mark-rule role-axis-tick\" style=\"pointer-events: none;\"><line transform=\"translate(0,200)\" x2=\"-5\" y2=\"0\" style=\"fill: none; stroke: #888; stroke-width: 1; opacity: 1;\"></line><line transform=\"translate(0,162)\" x2=\"-5\" y2=\"0\" style=\"fill: none; stroke: #888; stroke-width: 1; opacity: 1;\"></line><line transform=\"translate(0,123)\" x2=\"-5\" y2=\"0\" style=\"fill: none; stroke: #888; stroke-width: 1; opacity: 1;\"></line><line transform=\"translate(0,85)\" x2=\"-5\" y2=\"0\" style=\"fill: none; stroke: #888; stroke-width: 1; opacity: 1;\"></line><line transform=\"translate(0,46)\" x2=\"-5\" y2=\"0\" style=\"fill: none; stroke: #888; stroke-width: 1; opacity: 1;\"></line><line transform=\"translate(0,8)\" x2=\"-5\" y2=\"0\" style=\"fill: none; stroke: #888; stroke-width: 1; opacity: 1;\"></line></g><g class=\"mark-text role-axis-label\" style=\"pointer-events: none;\"><text text-anchor=\"end\" transform=\"translate(-7,203)\" style=\"font-family: sans-serif; font-size: 10px; fill: #000; opacity: 1;\">0</text><text text-anchor=\"end\" transform=\"translate(-7,164.53846153846155)\" style=\"font-family: sans-serif; font-size: 10px; fill: #000; opacity: 1;\">5</text><text text-anchor=\"end\" transform=\"translate(-7,126.07692307692307)\" style=\"font-family: sans-serif; font-size: 10px; fill: #000; opacity: 1;\">10</text><text text-anchor=\"end\" transform=\"translate(-7,87.61538461538463)\" style=\"font-family: sans-serif; font-size: 10px; fill: #000; opacity: 1;\">15</text><text text-anchor=\"end\" transform=\"translate(-7,49.15384615384613)\" style=\"font-family: sans-serif; font-size: 10px; fill: #000; opacity: 1;\">20</text><text text-anchor=\"end\" transform=\"translate(-7,10.69230769230768)\" style=\"font-family: sans-serif; font-size: 10px; fill: #000; opacity: 1;\">25</text></g><g class=\"mark-rule role-axis-domain\" style=\"pointer-events: none;\"><line transform=\"translate(0,200)\" x2=\"0\" y2=\"-200\" style=\"fill: none; stroke: #888; stroke-width: 1; opacity: 1;\"></line></g><g class=\"mark-text role-axis-title\" style=\"pointer-events: none;\"><text text-anchor=\"middle\" transform=\"translate(-23,100) rotate(-90) translate(0,-2)\" style=\"font-family: sans-serif; font-size: 11px; font-weight: bold; fill: #000; opacity: 1;\">Count of Records</text></g></g></g></g></g></g></g><g class=\"mark-group role-legend\"><g transform=\"translate(827,0)\"><path class=\"background\" d=\"M0,0h112v27h-112Z\" style=\"pointer-events: none; fill: none;\"></path><g><g class=\"mark-group role-legend-entry\"><g transform=\"translate(0,16)\"><path class=\"background\" d=\"M0,0h0v0h0Z\" style=\"pointer-events: none; fill: none;\"></path><g><g class=\"mark-group role-scope\"><g transform=\"translate(0,0)\"><path class=\"background\" d=\"M0,0h112v11h-112Z\" style=\"pointer-events: none; fill: none; opacity: 1;\"></path><g><g class=\"mark-symbol role-legend-symbol\" style=\"pointer-events: none;\"><path transform=\"translate(6,6)\" d=\"M5,0A5,5,0,1,1,-5,0A5,5,0,1,1,5,0\" style=\"fill: green; stroke-width: 1.5; opacity: 0.3;\"></path></g><g class=\"mark-text role-legend-label\" style=\"pointer-events: none;\"><text text-anchor=\"start\" transform=\"translate(16,9)\" style=\"font-family: sans-serif; font-size: 10px; fill: #000; opacity: 1;\">Acceptance Region</text></g></g></g></g></g></g></g><g class=\"mark-text role-legend-title\" style=\"pointer-events: none;\"><text text-anchor=\"start\" transform=\"translate(0,9)\" style=\"font-family: sans-serif; font-size: 11px; font-weight: bold; fill: #000; opacity: 1;\">Event</text></g></g></g></g></g></g></g></g></svg>"
      ],
      "text/plain": [
       "VegaLite.VLSpec{:plot}"
      ]
     },
     "execution_count": 534,
     "metadata": {},
     "output_type": "execute_result"
    }
   ],
   "source": [
    "spec = [\n",
    "@vlplot(width=800, height=300, view={stroke=nothing}) + \n",
    "@vlplot(\n",
    "    data={values={\"start\"=5.7,\"finish\"=6.3, \"Event\"=\"Acceptance Region\"}},\n",
    "    mark={:rect, color=:green},\n",
    "    x={\"start:q\",axis={title=\"\"}},\n",
    "    x2=\"finish:q\",\n",
    "    y={value=1,axis={ticks=false}},\n",
    "    color={\"Event:n\",scale={range=[\"green\"]}},\n",
    "    opacity={value=0.3})+\n",
    "@vlplot(\n",
    "    data=df,\n",
    "    mark={:circle,strokeWidth=1,stroke=:black,clip=false},\n",
    "    size={value=200},\n",
    "    color={value=\"#4682b4\"},\n",
    "    x={\"x1:q\",axis={title=\"Sample Values\",grid=false}},\n",
    "#     y={\"x2:q\",axis={title=\"count\",ticks=false,grid=false}})\n",
    "    y={\"x2:q\",axis=nothing})\n",
    "\n",
    "]\n",
    "\n",
    "[spec ; @vlplot(data=df,:bar, x={:x1, bin=true}, y=\"count()\")]"
   ]
  },
  {
   "cell_type": "code",
   "execution_count": 459,
   "metadata": {},
   "outputs": [
    {
     "data": {
      "application/vnd.vegalite.v3+json": {
       "data": {
        "values": [
         {
          "x1": 0,
          "x2": 1
         },
         {
          "x1": 6,
          "x2": 1
         },
         {
          "x1": 8,
          "x2": 1
         },
         {
          "x1": 4,
          "x2": 1
         },
         {
          "x1": 1,
          "x2": 1
         },
         {
          "x1": 8,
          "x2": 2
         },
         {
          "x1": 4,
          "x2": 2
         },
         {
          "x1": 2,
          "x2": 1
         },
         {
          "x1": 0,
          "x2": 2
         },
         {
          "x1": 7,
          "x2": 1
         },
         {
          "x1": 6,
          "x2": 2
         },
         {
          "x1": 7,
          "x2": 2
         },
         {
          "x1": 0,
          "x2": 3
         },
         {
          "x1": 6,
          "x2": 3
         },
         {
          "x1": 8,
          "x2": 3
         },
         {
          "x1": 6,
          "x2": 4
         },
         {
          "x1": 3,
          "x2": 1
         },
         {
          "x1": 8,
          "x2": 4
         },
         {
          "x1": 5,
          "x2": 1
         },
         {
          "x1": 0,
          "x2": 4
         },
         {
          "x1": 6,
          "x2": 5
         },
         {
          "x1": 0,
          "x2": 5
         },
         {
          "x1": 4,
          "x2": 3
         },
         {
          "x1": 8,
          "x2": 5
         },
         {
          "x1": 8,
          "x2": 6
         },
         {
          "x1": 4,
          "x2": 4
         },
         {
          "x1": 1,
          "x2": 2
         },
         {
          "x1": 0,
          "x2": 6
         },
         {
          "x1": 6,
          "x2": 6
         },
         {
          "x1": 7,
          "x2": 3
         },
         {
          "x1": 6,
          "x2": 7
         },
         {
          "x1": 8,
          "x2": 7
         },
         {
          "x1": 3,
          "x2": 2
         },
         {
          "x1": 4,
          "x2": 5
         },
         {
          "x1": 5,
          "x2": 2
         },
         {
          "x1": 4,
          "x2": 6
         },
         {
          "x1": 6,
          "x2": 8
         },
         {
          "x1": 3,
          "x2": 3
         },
         {
          "x1": 5,
          "x2": 3
         },
         {
          "x1": 3,
          "x2": 4
         },
         {
          "x1": 4,
          "x2": 7
         },
         {
          "x1": 0,
          "x2": 7
         },
         {
          "x1": 3,
          "x2": 5
         },
         {
          "x1": 1,
          "x2": 3
         },
         {
          "x1": 1,
          "x2": 4
         },
         {
          "x1": 6,
          "x2": 9
         },
         {
          "x1": 8,
          "x2": 8
         },
         {
          "x1": 6,
          "x2": 10
         },
         {
          "x1": 2,
          "x2": 2
         },
         {
          "x1": 0,
          "x2": 8
         },
         {
          "x1": 1,
          "x2": 5
         },
         {
          "x1": 4,
          "x2": 8
         },
         {
          "x1": 3,
          "x2": 6
         },
         {
          "x1": 0,
          "x2": 9
         },
         {
          "x1": 3,
          "x2": 7
         },
         {
          "x1": 6,
          "x2": 11
         },
         {
          "x1": 7,
          "x2": 4
         },
         {
          "x1": 3,
          "x2": 8
         },
         {
          "x1": 6,
          "x2": 12
         },
         {
          "x1": 5,
          "x2": 4
         },
         {
          "x1": 4,
          "x2": 9
         },
         {
          "x1": 1,
          "x2": 6
         },
         {
          "x1": 8,
          "x2": 9
         },
         {
          "x1": 8,
          "x2": 10
         },
         {
          "x1": 5,
          "x2": 5
         },
         {
          "x1": 0,
          "x2": 10
         },
         {
          "x1": 0,
          "x2": 11
         },
         {
          "x1": 0,
          "x2": 12
         },
         {
          "x1": 2,
          "x2": 3
         },
         {
          "x1": 6,
          "x2": 13
         },
         {
          "x1": 7,
          "x2": 5
         },
         {
          "x1": 3,
          "x2": 9
         },
         {
          "x1": 8,
          "x2": 11
         },
         {
          "x1": 8,
          "x2": 12
         },
         {
          "x1": 4,
          "x2": 10
         },
         {
          "x1": 8,
          "x2": 13
         },
         {
          "x1": 2,
          "x2": 4
         },
         {
          "x1": 7,
          "x2": 6
         },
         {
          "x1": 5,
          "x2": 6
         },
         {
          "x1": 6,
          "x2": 14
         },
         {
          "x1": 8,
          "x2": 14
         },
         {
          "x1": 3,
          "x2": 10
         },
         {
          "x1": 1,
          "x2": 7
         },
         {
          "x1": 5,
          "x2": 7
         },
         {
          "x1": 8,
          "x2": 15
         },
         {
          "x1": 6,
          "x2": 15
         },
         {
          "x1": 4,
          "x2": 11
         },
         {
          "x1": 5,
          "x2": 8
         },
         {
          "x1": 7,
          "x2": 7
         },
         {
          "x1": 3,
          "x2": 11
         },
         {
          "x1": 4,
          "x2": 12
         },
         {
          "x1": 8,
          "x2": 16
         },
         {
          "x1": 7,
          "x2": 8
         },
         {
          "x1": 7,
          "x2": 9
         },
         {
          "x1": 2,
          "x2": 5
         },
         {
          "x1": 6,
          "x2": 16
         },
         {
          "x1": 2,
          "x2": 6
         },
         {
          "x1": 4,
          "x2": 13
         },
         {
          "x1": 1,
          "x2": 8
         },
         {
          "x1": 1,
          "x2": 9
         }
        ]
       },
       "encoding": {
        "x": {
         "field": "x1",
         "type": "ordinal"
        },
        "y": {
         "axis": "null",
         "field": "id",
         "sort": "descending",
         "type": "ordinal"
        }
       },
       "mark": {
        "type": "circle"
       },
       "transform": [
        {
         "groupby": [
          "x1"
         ],
         "window": [
          {
           "as": "id",
           "op": "rank"
          }
         ]
        }
       ]
      },
      "image/png": "[encoded data removed]",
      "image/svg+xml": [
       "<svg class=\"marks\" width=\"224\" height=\"358\" viewBox=\"0 0 224 358\" version=\"1.1\" xmlns=\"http://www.w3.org/2000/svg\" xmlns:xlink=\"http://www.w3.org/1999/xlink\"><g transform=\"translate(39,5)\"><g class=\"mark-group role-frame root\"><g transform=\"translate(0,0)\"><path class=\"background\" d=\"M0.5,0.5h180v320h-180Z\" style=\"fill: none; stroke: #ddd;\"></path><g><g class=\"mark-symbol role-mark marks\"><path transform=\"translate(10,310)\" d=\"M2.7386127875258306,0A2.7386127875258306,2.7386127875258306,0,1,1,-2.7386127875258306,0A2.7386127875258306,2.7386127875258306,0,1,1,2.7386127875258306,0\" style=\"fill: #4c78a8; stroke-width: 2; opacity: 0.7;\"></path><path transform=\"translate(130,310)\" d=\"M2.7386127875258306,0A2.7386127875258306,2.7386127875258306,0,1,1,-2.7386127875258306,0A2.7386127875258306,2.7386127875258306,0,1,1,2.7386127875258306,0\" style=\"fill: #4c78a8; stroke-width: 2; opacity: 0.7;\"></path><path transform=\"translate(170,310)\" d=\"M2.7386127875258306,0A2.7386127875258306,2.7386127875258306,0,1,1,-2.7386127875258306,0A2.7386127875258306,2.7386127875258306,0,1,1,2.7386127875258306,0\" style=\"fill: #4c78a8; stroke-width: 2; opacity: 0.7;\"></path><path transform=\"translate(90,310)\" d=\"M2.7386127875258306,0A2.7386127875258306,2.7386127875258306,0,1,1,-2.7386127875258306,0A2.7386127875258306,2.7386127875258306,0,1,1,2.7386127875258306,0\" style=\"fill: #4c78a8; stroke-width: 2; opacity: 0.7;\"></path><path transform=\"translate(30,310)\" d=\"M2.7386127875258306,0A2.7386127875258306,2.7386127875258306,0,1,1,-2.7386127875258306,0A2.7386127875258306,2.7386127875258306,0,1,1,2.7386127875258306,0\" style=\"fill: #4c78a8; stroke-width: 2; opacity: 0.7;\"></path><path transform=\"translate(170,290)\" d=\"M2.7386127875258306,0A2.7386127875258306,2.7386127875258306,0,1,1,-2.7386127875258306,0A2.7386127875258306,2.7386127875258306,0,1,1,2.7386127875258306,0\" style=\"fill: #4c78a8; stroke-width: 2; opacity: 0.7;\"></path><path transform=\"translate(90,290)\" d=\"M2.7386127875258306,0A2.7386127875258306,2.7386127875258306,0,1,1,-2.7386127875258306,0A2.7386127875258306,2.7386127875258306,0,1,1,2.7386127875258306,0\" style=\"fill: #4c78a8; stroke-width: 2; opacity: 0.7;\"></path><path transform=\"translate(50,310)\" d=\"M2.7386127875258306,0A2.7386127875258306,2.7386127875258306,0,1,1,-2.7386127875258306,0A2.7386127875258306,2.7386127875258306,0,1,1,2.7386127875258306,0\" style=\"fill: #4c78a8; stroke-width: 2; opacity: 0.7;\"></path><path transform=\"translate(10,290)\" d=\"M2.7386127875258306,0A2.7386127875258306,2.7386127875258306,0,1,1,-2.7386127875258306,0A2.7386127875258306,2.7386127875258306,0,1,1,2.7386127875258306,0\" style=\"fill: #4c78a8; stroke-width: 2; opacity: 0.7;\"></path><path transform=\"translate(150,310)\" d=\"M2.7386127875258306,0A2.7386127875258306,2.7386127875258306,0,1,1,-2.7386127875258306,0A2.7386127875258306,2.7386127875258306,0,1,1,2.7386127875258306,0\" style=\"fill: #4c78a8; stroke-width: 2; opacity: 0.7;\"></path><path transform=\"translate(130,290)\" d=\"M2.7386127875258306,0A2.7386127875258306,2.7386127875258306,0,1,1,-2.7386127875258306,0A2.7386127875258306,2.7386127875258306,0,1,1,2.7386127875258306,0\" style=\"fill: #4c78a8; stroke-width: 2; opacity: 0.7;\"></path><path transform=\"translate(150,290)\" d=\"M2.7386127875258306,0A2.7386127875258306,2.7386127875258306,0,1,1,-2.7386127875258306,0A2.7386127875258306,2.7386127875258306,0,1,1,2.7386127875258306,0\" style=\"fill: #4c78a8; stroke-width: 2; opacity: 0.7;\"></path><path transform=\"translate(10,270)\" d=\"M2.7386127875258306,0A2.7386127875258306,2.7386127875258306,0,1,1,-2.7386127875258306,0A2.7386127875258306,2.7386127875258306,0,1,1,2.7386127875258306,0\" style=\"fill: #4c78a8; stroke-width: 2; opacity: 0.7;\"></path><path transform=\"translate(130,270)\" d=\"M2.7386127875258306,0A2.7386127875258306,2.7386127875258306,0,1,1,-2.7386127875258306,0A2.7386127875258306,2.7386127875258306,0,1,1,2.7386127875258306,0\" style=\"fill: #4c78a8; stroke-width: 2; opacity: 0.7;\"></path><path transform=\"translate(170,270)\" d=\"M2.7386127875258306,0A2.7386127875258306,2.7386127875258306,0,1,1,-2.7386127875258306,0A2.7386127875258306,2.7386127875258306,0,1,1,2.7386127875258306,0\" style=\"fill: #4c78a8; stroke-width: 2; opacity: 0.7;\"></path><path transform=\"translate(130,250)\" d=\"M2.7386127875258306,0A2.7386127875258306,2.7386127875258306,0,1,1,-2.7386127875258306,0A2.7386127875258306,2.7386127875258306,0,1,1,2.7386127875258306,0\" style=\"fill: #4c78a8; stroke-width: 2; opacity: 0.7;\"></path><path transform=\"translate(70,310)\" d=\"M2.7386127875258306,0A2.7386127875258306,2.7386127875258306,0,1,1,-2.7386127875258306,0A2.7386127875258306,2.7386127875258306,0,1,1,2.7386127875258306,0\" style=\"fill: #4c78a8; stroke-width: 2; opacity: 0.7;\"></path><path transform=\"translate(170,250)\" d=\"M2.7386127875258306,0A2.7386127875258306,2.7386127875258306,0,1,1,-2.7386127875258306,0A2.7386127875258306,2.7386127875258306,0,1,1,2.7386127875258306,0\" style=\"fill: #4c78a8; stroke-width: 2; opacity: 0.7;\"></path><path transform=\"translate(110,310)\" d=\"M2.7386127875258306,0A2.7386127875258306,2.7386127875258306,0,1,1,-2.7386127875258306,0A2.7386127875258306,2.7386127875258306,0,1,1,2.7386127875258306,0\" style=\"fill: #4c78a8; stroke-width: 2; opacity: 0.7;\"></path><path transform=\"translate(10,250)\" d=\"M2.7386127875258306,0A2.7386127875258306,2.7386127875258306,0,1,1,-2.7386127875258306,0A2.7386127875258306,2.7386127875258306,0,1,1,2.7386127875258306,0\" style=\"fill: #4c78a8; stroke-width: 2; opacity: 0.7;\"></path><path transform=\"translate(130,230)\" d=\"M2.7386127875258306,0A2.7386127875258306,2.7386127875258306,0,1,1,-2.7386127875258306,0A2.7386127875258306,2.7386127875258306,0,1,1,2.7386127875258306,0\" style=\"fill: #4c78a8; stroke-width: 2; opacity: 0.7;\"></path><path transform=\"translate(10,230)\" d=\"M2.7386127875258306,0A2.7386127875258306,2.7386127875258306,0,1,1,-2.7386127875258306,0A2.7386127875258306,2.7386127875258306,0,1,1,2.7386127875258306,0\" style=\"fill: #4c78a8; stroke-width: 2; opacity: 0.7;\"></path><path transform=\"translate(90,270)\" d=\"M2.7386127875258306,0A2.7386127875258306,2.7386127875258306,0,1,1,-2.7386127875258306,0A2.7386127875258306,2.7386127875258306,0,1,1,2.7386127875258306,0\" style=\"fill: #4c78a8; stroke-width: 2; opacity: 0.7;\"></path><path transform=\"translate(170,230)\" d=\"M2.7386127875258306,0A2.7386127875258306,2.7386127875258306,0,1,1,-2.7386127875258306,0A2.7386127875258306,2.7386127875258306,0,1,1,2.7386127875258306,0\" style=\"fill: #4c78a8; stroke-width: 2; opacity: 0.7;\"></path><path transform=\"translate(170,210)\" d=\"M2.7386127875258306,0A2.7386127875258306,2.7386127875258306,0,1,1,-2.7386127875258306,0A2.7386127875258306,2.7386127875258306,0,1,1,2.7386127875258306,0\" style=\"fill: #4c78a8; stroke-width: 2; opacity: 0.7;\"></path><path transform=\"translate(90,250)\" d=\"M2.7386127875258306,0A2.7386127875258306,2.7386127875258306,0,1,1,-2.7386127875258306,0A2.7386127875258306,2.7386127875258306,0,1,1,2.7386127875258306,0\" style=\"fill: #4c78a8; stroke-width: 2; opacity: 0.7;\"></path><path transform=\"translate(30,290)\" d=\"M2.7386127875258306,0A2.7386127875258306,2.7386127875258306,0,1,1,-2.7386127875258306,0A2.7386127875258306,2.7386127875258306,0,1,1,2.7386127875258306,0\" style=\"fill: #4c78a8; stroke-width: 2; opacity: 0.7;\"></path><path transform=\"translate(10,210)\" d=\"M2.7386127875258306,0A2.7386127875258306,2.7386127875258306,0,1,1,-2.7386127875258306,0A2.7386127875258306,2.7386127875258306,0,1,1,2.7386127875258306,0\" style=\"fill: #4c78a8; stroke-width: 2; opacity: 0.7;\"></path><path transform=\"translate(130,210)\" d=\"M2.7386127875258306,0A2.7386127875258306,2.7386127875258306,0,1,1,-2.7386127875258306,0A2.7386127875258306,2.7386127875258306,0,1,1,2.7386127875258306,0\" style=\"fill: #4c78a8; stroke-width: 2; opacity: 0.7;\"></path><path transform=\"translate(150,270)\" d=\"M2.7386127875258306,0A2.7386127875258306,2.7386127875258306,0,1,1,-2.7386127875258306,0A2.7386127875258306,2.7386127875258306,0,1,1,2.7386127875258306,0\" style=\"fill: #4c78a8; stroke-width: 2; opacity: 0.7;\"></path><path transform=\"translate(130,190)\" d=\"M2.7386127875258306,0A2.7386127875258306,2.7386127875258306,0,1,1,-2.7386127875258306,0A2.7386127875258306,2.7386127875258306,0,1,1,2.7386127875258306,0\" style=\"fill: #4c78a8; stroke-width: 2; opacity: 0.7;\"></path><path transform=\"translate(170,190)\" d=\"M2.7386127875258306,0A2.7386127875258306,2.7386127875258306,0,1,1,-2.7386127875258306,0A2.7386127875258306,2.7386127875258306,0,1,1,2.7386127875258306,0\" style=\"fill: #4c78a8; stroke-width: 2; opacity: 0.7;\"></path><path transform=\"translate(70,290)\" d=\"M2.7386127875258306,0A2.7386127875258306,2.7386127875258306,0,1,1,-2.7386127875258306,0A2.7386127875258306,2.7386127875258306,0,1,1,2.7386127875258306,0\" style=\"fill: #4c78a8; stroke-width: 2; opacity: 0.7;\"></path><path transform=\"translate(90,230)\" d=\"M2.7386127875258306,0A2.7386127875258306,2.7386127875258306,0,1,1,-2.7386127875258306,0A2.7386127875258306,2.7386127875258306,0,1,1,2.7386127875258306,0\" style=\"fill: #4c78a8; stroke-width: 2; opacity: 0.7;\"></path><path transform=\"translate(110,290)\" d=\"M2.7386127875258306,0A2.7386127875258306,2.7386127875258306,0,1,1,-2.7386127875258306,0A2.7386127875258306,2.7386127875258306,0,1,1,2.7386127875258306,0\" style=\"fill: #4c78a8; stroke-width: 2; opacity: 0.7;\"></path><path transform=\"translate(90,210)\" d=\"M2.7386127875258306,0A2.7386127875258306,2.7386127875258306,0,1,1,-2.7386127875258306,0A2.7386127875258306,2.7386127875258306,0,1,1,2.7386127875258306,0\" style=\"fill: #4c78a8; stroke-width: 2; opacity: 0.7;\"></path><path transform=\"translate(130,170)\" d=\"M2.7386127875258306,0A2.7386127875258306,2.7386127875258306,0,1,1,-2.7386127875258306,0A2.7386127875258306,2.7386127875258306,0,1,1,2.7386127875258306,0\" style=\"fill: #4c78a8; stroke-width: 2; opacity: 0.7;\"></path><path transform=\"translate(70,270)\" d=\"M2.7386127875258306,0A2.7386127875258306,2.7386127875258306,0,1,1,-2.7386127875258306,0A2.7386127875258306,2.7386127875258306,0,1,1,2.7386127875258306,0\" style=\"fill: #4c78a8; stroke-width: 2; opacity: 0.7;\"></path><path transform=\"translate(110,270)\" d=\"M2.7386127875258306,0A2.7386127875258306,2.7386127875258306,0,1,1,-2.7386127875258306,0A2.7386127875258306,2.7386127875258306,0,1,1,2.7386127875258306,0\" style=\"fill: #4c78a8; stroke-width: 2; opacity: 0.7;\"></path><path transform=\"translate(70,250)\" d=\"M2.7386127875258306,0A2.7386127875258306,2.7386127875258306,0,1,1,-2.7386127875258306,0A2.7386127875258306,2.7386127875258306,0,1,1,2.7386127875258306,0\" style=\"fill: #4c78a8; stroke-width: 2; opacity: 0.7;\"></path><path transform=\"translate(90,190)\" d=\"M2.7386127875258306,0A2.7386127875258306,2.7386127875258306,0,1,1,-2.7386127875258306,0A2.7386127875258306,2.7386127875258306,0,1,1,2.7386127875258306,0\" style=\"fill: #4c78a8; stroke-width: 2; opacity: 0.7;\"></path><path transform=\"translate(10,190)\" d=\"M2.7386127875258306,0A2.7386127875258306,2.7386127875258306,0,1,1,-2.7386127875258306,0A2.7386127875258306,2.7386127875258306,0,1,1,2.7386127875258306,0\" style=\"fill: #4c78a8; stroke-width: 2; opacity: 0.7;\"></path><path transform=\"translate(70,230)\" d=\"M2.7386127875258306,0A2.7386127875258306,2.7386127875258306,0,1,1,-2.7386127875258306,0A2.7386127875258306,2.7386127875258306,0,1,1,2.7386127875258306,0\" style=\"fill: #4c78a8; stroke-width: 2; opacity: 0.7;\"></path><path transform=\"translate(30,270)\" d=\"M2.7386127875258306,0A2.7386127875258306,2.7386127875258306,0,1,1,-2.7386127875258306,0A2.7386127875258306,2.7386127875258306,0,1,1,2.7386127875258306,0\" style=\"fill: #4c78a8; stroke-width: 2; opacity: 0.7;\"></path><path transform=\"translate(30,250)\" d=\"M2.7386127875258306,0A2.7386127875258306,2.7386127875258306,0,1,1,-2.7386127875258306,0A2.7386127875258306,2.7386127875258306,0,1,1,2.7386127875258306,0\" style=\"fill: #4c78a8; stroke-width: 2; opacity: 0.7;\"></path><path transform=\"translate(130,150)\" d=\"M2.7386127875258306,0A2.7386127875258306,2.7386127875258306,0,1,1,-2.7386127875258306,0A2.7386127875258306,2.7386127875258306,0,1,1,2.7386127875258306,0\" style=\"fill: #4c78a8; stroke-width: 2; opacity: 0.7;\"></path><path transform=\"translate(170,170)\" d=\"M2.7386127875258306,0A2.7386127875258306,2.7386127875258306,0,1,1,-2.7386127875258306,0A2.7386127875258306,2.7386127875258306,0,1,1,2.7386127875258306,0\" style=\"fill: #4c78a8; stroke-width: 2; opacity: 0.7;\"></path><path transform=\"translate(130,130)\" d=\"M2.7386127875258306,0A2.7386127875258306,2.7386127875258306,0,1,1,-2.7386127875258306,0A2.7386127875258306,2.7386127875258306,0,1,1,2.7386127875258306,0\" style=\"fill: #4c78a8; stroke-width: 2; opacity: 0.7;\"></path><path transform=\"translate(50,290)\" d=\"M2.7386127875258306,0A2.7386127875258306,2.7386127875258306,0,1,1,-2.7386127875258306,0A2.7386127875258306,2.7386127875258306,0,1,1,2.7386127875258306,0\" style=\"fill: #4c78a8; stroke-width: 2; opacity: 0.7;\"></path><path transform=\"translate(10,170)\" d=\"M2.7386127875258306,0A2.7386127875258306,2.7386127875258306,0,1,1,-2.7386127875258306,0A2.7386127875258306,2.7386127875258306,0,1,1,2.7386127875258306,0\" style=\"fill: #4c78a8; stroke-width: 2; opacity: 0.7;\"></path><path transform=\"translate(30,230)\" d=\"M2.7386127875258306,0A2.7386127875258306,2.7386127875258306,0,1,1,-2.7386127875258306,0A2.7386127875258306,2.7386127875258306,0,1,1,2.7386127875258306,0\" style=\"fill: #4c78a8; stroke-width: 2; opacity: 0.7;\"></path><path transform=\"translate(90,170)\" d=\"M2.7386127875258306,0A2.7386127875258306,2.7386127875258306,0,1,1,-2.7386127875258306,0A2.7386127875258306,2.7386127875258306,0,1,1,2.7386127875258306,0\" style=\"fill: #4c78a8; stroke-width: 2; opacity: 0.7;\"></path><path transform=\"translate(70,210)\" d=\"M2.7386127875258306,0A2.7386127875258306,2.7386127875258306,0,1,1,-2.7386127875258306,0A2.7386127875258306,2.7386127875258306,0,1,1,2.7386127875258306,0\" style=\"fill: #4c78a8; stroke-width: 2; opacity: 0.7;\"></path><path transform=\"translate(10,150)\" d=\"M2.7386127875258306,0A2.7386127875258306,2.7386127875258306,0,1,1,-2.7386127875258306,0A2.7386127875258306,2.7386127875258306,0,1,1,2.7386127875258306,0\" style=\"fill: #4c78a8; stroke-width: 2; opacity: 0.7;\"></path><path transform=\"translate(70,190)\" d=\"M2.7386127875258306,0A2.7386127875258306,2.7386127875258306,0,1,1,-2.7386127875258306,0A2.7386127875258306,2.7386127875258306,0,1,1,2.7386127875258306,0\" style=\"fill: #4c78a8; stroke-width: 2; opacity: 0.7;\"></path><path transform=\"translate(130,110)\" d=\"M2.7386127875258306,0A2.7386127875258306,2.7386127875258306,0,1,1,-2.7386127875258306,0A2.7386127875258306,2.7386127875258306,0,1,1,2.7386127875258306,0\" style=\"fill: #4c78a8; stroke-width: 2; opacity: 0.7;\"></path><path transform=\"translate(150,250)\" d=\"M2.7386127875258306,0A2.7386127875258306,2.7386127875258306,0,1,1,-2.7386127875258306,0A2.7386127875258306,2.7386127875258306,0,1,1,2.7386127875258306,0\" style=\"fill: #4c78a8; stroke-width: 2; opacity: 0.7;\"></path><path transform=\"translate(70,170)\" d=\"M2.7386127875258306,0A2.7386127875258306,2.7386127875258306,0,1,1,-2.7386127875258306,0A2.7386127875258306,2.7386127875258306,0,1,1,2.7386127875258306,0\" style=\"fill: #4c78a8; stroke-width: 2; opacity: 0.7;\"></path><path transform=\"translate(130,90)\" d=\"M2.7386127875258306,0A2.7386127875258306,2.7386127875258306,0,1,1,-2.7386127875258306,0A2.7386127875258306,2.7386127875258306,0,1,1,2.7386127875258306,0\" style=\"fill: #4c78a8; stroke-width: 2; opacity: 0.7;\"></path><path transform=\"translate(110,250)\" d=\"M2.7386127875258306,0A2.7386127875258306,2.7386127875258306,0,1,1,-2.7386127875258306,0A2.7386127875258306,2.7386127875258306,0,1,1,2.7386127875258306,0\" style=\"fill: #4c78a8; stroke-width: 2; opacity: 0.7;\"></path><path transform=\"translate(90,150)\" d=\"M2.7386127875258306,0A2.7386127875258306,2.7386127875258306,0,1,1,-2.7386127875258306,0A2.7386127875258306,2.7386127875258306,0,1,1,2.7386127875258306,0\" style=\"fill: #4c78a8; stroke-width: 2; opacity: 0.7;\"></path><path transform=\"translate(30,210)\" d=\"M2.7386127875258306,0A2.7386127875258306,2.7386127875258306,0,1,1,-2.7386127875258306,0A2.7386127875258306,2.7386127875258306,0,1,1,2.7386127875258306,0\" style=\"fill: #4c78a8; stroke-width: 2; opacity: 0.7;\"></path><path transform=\"translate(170,150)\" d=\"M2.7386127875258306,0A2.7386127875258306,2.7386127875258306,0,1,1,-2.7386127875258306,0A2.7386127875258306,2.7386127875258306,0,1,1,2.7386127875258306,0\" style=\"fill: #4c78a8; stroke-width: 2; opacity: 0.7;\"></path><path transform=\"translate(170,130)\" d=\"M2.7386127875258306,0A2.7386127875258306,2.7386127875258306,0,1,1,-2.7386127875258306,0A2.7386127875258306,2.7386127875258306,0,1,1,2.7386127875258306,0\" style=\"fill: #4c78a8; stroke-width: 2; opacity: 0.7;\"></path><path transform=\"translate(110,230)\" d=\"M2.7386127875258306,0A2.7386127875258306,2.7386127875258306,0,1,1,-2.7386127875258306,0A2.7386127875258306,2.7386127875258306,0,1,1,2.7386127875258306,0\" style=\"fill: #4c78a8; stroke-width: 2; opacity: 0.7;\"></path><path transform=\"translate(10,130)\" d=\"M2.7386127875258306,0A2.7386127875258306,2.7386127875258306,0,1,1,-2.7386127875258306,0A2.7386127875258306,2.7386127875258306,0,1,1,2.7386127875258306,0\" style=\"fill: #4c78a8; stroke-width: 2; opacity: 0.7;\"></path><path transform=\"translate(10,110)\" d=\"M2.7386127875258306,0A2.7386127875258306,2.7386127875258306,0,1,1,-2.7386127875258306,0A2.7386127875258306,2.7386127875258306,0,1,1,2.7386127875258306,0\" style=\"fill: #4c78a8; stroke-width: 2; opacity: 0.7;\"></path><path transform=\"translate(10,90)\" d=\"M2.7386127875258306,0A2.7386127875258306,2.7386127875258306,0,1,1,-2.7386127875258306,0A2.7386127875258306,2.7386127875258306,0,1,1,2.7386127875258306,0\" style=\"fill: #4c78a8; stroke-width: 2; opacity: 0.7;\"></path><path transform=\"translate(50,270)\" d=\"M2.7386127875258306,0A2.7386127875258306,2.7386127875258306,0,1,1,-2.7386127875258306,0A2.7386127875258306,2.7386127875258306,0,1,1,2.7386127875258306,0\" style=\"fill: #4c78a8; stroke-width: 2; opacity: 0.7;\"></path><path transform=\"translate(130,70)\" d=\"M2.7386127875258306,0A2.7386127875258306,2.7386127875258306,0,1,1,-2.7386127875258306,0A2.7386127875258306,2.7386127875258306,0,1,1,2.7386127875258306,0\" style=\"fill: #4c78a8; stroke-width: 2; opacity: 0.7;\"></path><path transform=\"translate(150,230)\" d=\"M2.7386127875258306,0A2.7386127875258306,2.7386127875258306,0,1,1,-2.7386127875258306,0A2.7386127875258306,2.7386127875258306,0,1,1,2.7386127875258306,0\" style=\"fill: #4c78a8; stroke-width: 2; opacity: 0.7;\"></path><path transform=\"translate(70,150)\" d=\"M2.7386127875258306,0A2.7386127875258306,2.7386127875258306,0,1,1,-2.7386127875258306,0A2.7386127875258306,2.7386127875258306,0,1,1,2.7386127875258306,0\" style=\"fill: #4c78a8; stroke-width: 2; opacity: 0.7;\"></path><path transform=\"translate(170,110)\" d=\"M2.7386127875258306,0A2.7386127875258306,2.7386127875258306,0,1,1,-2.7386127875258306,0A2.7386127875258306,2.7386127875258306,0,1,1,2.7386127875258306,0\" style=\"fill: #4c78a8; stroke-width: 2; opacity: 0.7;\"></path><path transform=\"translate(170,90)\" d=\"M2.7386127875258306,0A2.7386127875258306,2.7386127875258306,0,1,1,-2.7386127875258306,0A2.7386127875258306,2.7386127875258306,0,1,1,2.7386127875258306,0\" style=\"fill: #4c78a8; stroke-width: 2; opacity: 0.7;\"></path><path transform=\"translate(90,130)\" d=\"M2.7386127875258306,0A2.7386127875258306,2.7386127875258306,0,1,1,-2.7386127875258306,0A2.7386127875258306,2.7386127875258306,0,1,1,2.7386127875258306,0\" style=\"fill: #4c78a8; stroke-width: 2; opacity: 0.7;\"></path><path transform=\"translate(170,70)\" d=\"M2.7386127875258306,0A2.7386127875258306,2.7386127875258306,0,1,1,-2.7386127875258306,0A2.7386127875258306,2.7386127875258306,0,1,1,2.7386127875258306,0\" style=\"fill: #4c78a8; stroke-width: 2; opacity: 0.7;\"></path><path transform=\"translate(50,250)\" d=\"M2.7386127875258306,0A2.7386127875258306,2.7386127875258306,0,1,1,-2.7386127875258306,0A2.7386127875258306,2.7386127875258306,0,1,1,2.7386127875258306,0\" style=\"fill: #4c78a8; stroke-width: 2; opacity: 0.7;\"></path><path transform=\"translate(150,210)\" d=\"M2.7386127875258306,0A2.7386127875258306,2.7386127875258306,0,1,1,-2.7386127875258306,0A2.7386127875258306,2.7386127875258306,0,1,1,2.7386127875258306,0\" style=\"fill: #4c78a8; stroke-width: 2; opacity: 0.7;\"></path><path transform=\"translate(110,210)\" d=\"M2.7386127875258306,0A2.7386127875258306,2.7386127875258306,0,1,1,-2.7386127875258306,0A2.7386127875258306,2.7386127875258306,0,1,1,2.7386127875258306,0\" style=\"fill: #4c78a8; stroke-width: 2; opacity: 0.7;\"></path><path transform=\"translate(130,50)\" d=\"M2.7386127875258306,0A2.7386127875258306,2.7386127875258306,0,1,1,-2.7386127875258306,0A2.7386127875258306,2.7386127875258306,0,1,1,2.7386127875258306,0\" style=\"fill: #4c78a8; stroke-width: 2; opacity: 0.7;\"></path><path transform=\"translate(170,50)\" d=\"M2.7386127875258306,0A2.7386127875258306,2.7386127875258306,0,1,1,-2.7386127875258306,0A2.7386127875258306,2.7386127875258306,0,1,1,2.7386127875258306,0\" style=\"fill: #4c78a8; stroke-width: 2; opacity: 0.7;\"></path><path transform=\"translate(70,130)\" d=\"M2.7386127875258306,0A2.7386127875258306,2.7386127875258306,0,1,1,-2.7386127875258306,0A2.7386127875258306,2.7386127875258306,0,1,1,2.7386127875258306,0\" style=\"fill: #4c78a8; stroke-width: 2; opacity: 0.7;\"></path><path transform=\"translate(30,190)\" d=\"M2.7386127875258306,0A2.7386127875258306,2.7386127875258306,0,1,1,-2.7386127875258306,0A2.7386127875258306,2.7386127875258306,0,1,1,2.7386127875258306,0\" style=\"fill: #4c78a8; stroke-width: 2; opacity: 0.7;\"></path><path transform=\"translate(110,190)\" d=\"M2.7386127875258306,0A2.7386127875258306,2.7386127875258306,0,1,1,-2.7386127875258306,0A2.7386127875258306,2.7386127875258306,0,1,1,2.7386127875258306,0\" style=\"fill: #4c78a8; stroke-width: 2; opacity: 0.7;\"></path><path transform=\"translate(170,30)\" d=\"M2.7386127875258306,0A2.7386127875258306,2.7386127875258306,0,1,1,-2.7386127875258306,0A2.7386127875258306,2.7386127875258306,0,1,1,2.7386127875258306,0\" style=\"fill: #4c78a8; stroke-width: 2; opacity: 0.7;\"></path><path transform=\"translate(130,30)\" d=\"M2.7386127875258306,0A2.7386127875258306,2.7386127875258306,0,1,1,-2.7386127875258306,0A2.7386127875258306,2.7386127875258306,0,1,1,2.7386127875258306,0\" style=\"fill: #4c78a8; stroke-width: 2; opacity: 0.7;\"></path><path transform=\"translate(90,110)\" d=\"M2.7386127875258306,0A2.7386127875258306,2.7386127875258306,0,1,1,-2.7386127875258306,0A2.7386127875258306,2.7386127875258306,0,1,1,2.7386127875258306,0\" style=\"fill: #4c78a8; stroke-width: 2; opacity: 0.7;\"></path><path transform=\"translate(110,170)\" d=\"M2.7386127875258306,0A2.7386127875258306,2.7386127875258306,0,1,1,-2.7386127875258306,0A2.7386127875258306,2.7386127875258306,0,1,1,2.7386127875258306,0\" style=\"fill: #4c78a8; stroke-width: 2; opacity: 0.7;\"></path><path transform=\"translate(150,190)\" d=\"M2.7386127875258306,0A2.7386127875258306,2.7386127875258306,0,1,1,-2.7386127875258306,0A2.7386127875258306,2.7386127875258306,0,1,1,2.7386127875258306,0\" style=\"fill: #4c78a8; stroke-width: 2; opacity: 0.7;\"></path><path transform=\"translate(70,110)\" d=\"M2.7386127875258306,0A2.7386127875258306,2.7386127875258306,0,1,1,-2.7386127875258306,0A2.7386127875258306,2.7386127875258306,0,1,1,2.7386127875258306,0\" style=\"fill: #4c78a8; stroke-width: 2; opacity: 0.7;\"></path><path transform=\"translate(90,90)\" d=\"M2.7386127875258306,0A2.7386127875258306,2.7386127875258306,0,1,1,-2.7386127875258306,0A2.7386127875258306,2.7386127875258306,0,1,1,2.7386127875258306,0\" style=\"fill: #4c78a8; stroke-width: 2; opacity: 0.7;\"></path><path transform=\"translate(170,10)\" d=\"M2.7386127875258306,0A2.7386127875258306,2.7386127875258306,0,1,1,-2.7386127875258306,0A2.7386127875258306,2.7386127875258306,0,1,1,2.7386127875258306,0\" style=\"fill: #4c78a8; stroke-width: 2; opacity: 0.7;\"></path><path transform=\"translate(150,170)\" d=\"M2.7386127875258306,0A2.7386127875258306,2.7386127875258306,0,1,1,-2.7386127875258306,0A2.7386127875258306,2.7386127875258306,0,1,1,2.7386127875258306,0\" style=\"fill: #4c78a8; stroke-width: 2; opacity: 0.7;\"></path><path transform=\"translate(150,150)\" d=\"M2.7386127875258306,0A2.7386127875258306,2.7386127875258306,0,1,1,-2.7386127875258306,0A2.7386127875258306,2.7386127875258306,0,1,1,2.7386127875258306,0\" style=\"fill: #4c78a8; stroke-width: 2; opacity: 0.7;\"></path><path transform=\"translate(50,230)\" d=\"M2.7386127875258306,0A2.7386127875258306,2.7386127875258306,0,1,1,-2.7386127875258306,0A2.7386127875258306,2.7386127875258306,0,1,1,2.7386127875258306,0\" style=\"fill: #4c78a8; stroke-width: 2; opacity: 0.7;\"></path><path transform=\"translate(130,10)\" d=\"M2.7386127875258306,0A2.7386127875258306,2.7386127875258306,0,1,1,-2.7386127875258306,0A2.7386127875258306,2.7386127875258306,0,1,1,2.7386127875258306,0\" style=\"fill: #4c78a8; stroke-width: 2; opacity: 0.7;\"></path><path transform=\"translate(50,210)\" d=\"M2.7386127875258306,0A2.7386127875258306,2.7386127875258306,0,1,1,-2.7386127875258306,0A2.7386127875258306,2.7386127875258306,0,1,1,2.7386127875258306,0\" style=\"fill: #4c78a8; stroke-width: 2; opacity: 0.7;\"></path><path transform=\"translate(90,70)\" d=\"M2.7386127875258306,0A2.7386127875258306,2.7386127875258306,0,1,1,-2.7386127875258306,0A2.7386127875258306,2.7386127875258306,0,1,1,2.7386127875258306,0\" style=\"fill: #4c78a8; stroke-width: 2; opacity: 0.7;\"></path><path transform=\"translate(30,170)\" d=\"M2.7386127875258306,0A2.7386127875258306,2.7386127875258306,0,1,1,-2.7386127875258306,0A2.7386127875258306,2.7386127875258306,0,1,1,2.7386127875258306,0\" style=\"fill: #4c78a8; stroke-width: 2; opacity: 0.7;\"></path><path transform=\"translate(30,150)\" d=\"M2.7386127875258306,0A2.7386127875258306,2.7386127875258306,0,1,1,-2.7386127875258306,0A2.7386127875258306,2.7386127875258306,0,1,1,2.7386127875258306,0\" style=\"fill: #4c78a8; stroke-width: 2; opacity: 0.7;\"></path></g><g class=\"mark-group role-axis\"><g transform=\"translate(0.5,320.5)\"><path class=\"background\" d=\"M0,0h0v0h0Z\" style=\"pointer-events: none; fill: none;\"></path><g><g class=\"mark-rule role-axis-tick\" style=\"pointer-events: none;\"><line transform=\"translate(10,0)\" x2=\"0\" y2=\"5\" style=\"fill: none; stroke: #888; stroke-width: 1; opacity: 1;\"></line><line transform=\"translate(30,0)\" x2=\"0\" y2=\"5\" style=\"fill: none; stroke: #888; stroke-width: 1; opacity: 1;\"></line><line transform=\"translate(50,0)\" x2=\"0\" y2=\"5\" style=\"fill: none; stroke: #888; stroke-width: 1; opacity: 1;\"></line><line transform=\"translate(70,0)\" x2=\"0\" y2=\"5\" style=\"fill: none; stroke: #888; stroke-width: 1; opacity: 1;\"></line><line transform=\"translate(90,0)\" x2=\"0\" y2=\"5\" style=\"fill: none; stroke: #888; stroke-width: 1; opacity: 1;\"></line><line transform=\"translate(110,0)\" x2=\"0\" y2=\"5\" style=\"fill: none; stroke: #888; stroke-width: 1; opacity: 1;\"></line><line transform=\"translate(130,0)\" x2=\"0\" y2=\"5\" style=\"fill: none; stroke: #888; stroke-width: 1; opacity: 1;\"></line><line transform=\"translate(150,0)\" x2=\"0\" y2=\"5\" style=\"fill: none; stroke: #888; stroke-width: 1; opacity: 1;\"></line><line transform=\"translate(170,0)\" x2=\"0\" y2=\"5\" style=\"fill: none; stroke: #888; stroke-width: 1; opacity: 1;\"></line></g><g class=\"mark-text role-axis-label\" style=\"pointer-events: none;\"><text text-anchor=\"end\" transform=\"translate(10,7) rotate(270) translate(0,3)\" style=\"font-family: sans-serif; font-size: 10px; fill: #000; opacity: 1;\">0</text><text text-anchor=\"end\" transform=\"translate(30,7) rotate(270) translate(0,3)\" style=\"font-family: sans-serif; font-size: 10px; fill: #000; opacity: 1;\">1</text><text text-anchor=\"end\" transform=\"translate(50,7) rotate(270) translate(0,3)\" style=\"font-family: sans-serif; font-size: 10px; fill: #000; opacity: 1;\">2</text><text text-anchor=\"end\" transform=\"translate(70,7) rotate(270) translate(0,3)\" style=\"font-family: sans-serif; font-size: 10px; fill: #000; opacity: 1;\">3</text><text text-anchor=\"end\" transform=\"translate(90,7) rotate(270) translate(0,3)\" style=\"font-family: sans-serif; font-size: 10px; fill: #000; opacity: 1;\">4</text><text text-anchor=\"end\" transform=\"translate(110,7) rotate(270) translate(0,3)\" style=\"font-family: sans-serif; font-size: 10px; fill: #000; opacity: 1;\">5</text><text text-anchor=\"end\" transform=\"translate(130,7) rotate(270) translate(0,3)\" style=\"font-family: sans-serif; font-size: 10px; fill: #000; opacity: 1;\">6</text><text text-anchor=\"end\" transform=\"translate(150,7) rotate(270) translate(0,3)\" style=\"font-family: sans-serif; font-size: 10px; fill: #000; opacity: 1;\">7</text><text text-anchor=\"end\" transform=\"translate(170,7) rotate(270) translate(0,3)\" style=\"font-family: sans-serif; font-size: 10px; fill: #000; opacity: 1;\">8</text></g><g class=\"mark-rule role-axis-domain\" style=\"pointer-events: none;\"><line transform=\"translate(0,0)\" x2=\"180\" y2=\"0\" style=\"fill: none; stroke: #888; stroke-width: 1; opacity: 1;\"></line></g><g class=\"mark-text role-axis-title\" style=\"pointer-events: none;\"><text text-anchor=\"middle\" transform=\"translate(90,26)\" style=\"font-family: sans-serif; font-size: 11px; font-weight: bold; fill: #000; opacity: 1;\">x1</text></g></g></g></g><g class=\"mark-group role-axis\"><g transform=\"translate(0.5,0.5)\"><path class=\"background\" d=\"M0,0h0v0h0Z\" style=\"pointer-events: none; fill: none;\"></path><g><g class=\"mark-rule role-axis-tick\" style=\"pointer-events: none;\"><line transform=\"translate(0,10)\" x2=\"-5\" y2=\"0\" style=\"fill: none; stroke: #888; stroke-width: 1; opacity: 1;\"></line><line transform=\"translate(0,30)\" x2=\"-5\" y2=\"0\" style=\"fill: none; stroke: #888; stroke-width: 1; opacity: 1;\"></line><line transform=\"translate(0,50)\" x2=\"-5\" y2=\"0\" style=\"fill: none; stroke: #888; stroke-width: 1; opacity: 1;\"></line><line transform=\"translate(0,70)\" x2=\"-5\" y2=\"0\" style=\"fill: none; stroke: #888; stroke-width: 1; opacity: 1;\"></line><line transform=\"translate(0,90)\" x2=\"-5\" y2=\"0\" style=\"fill: none; stroke: #888; stroke-width: 1; opacity: 1;\"></line><line transform=\"translate(0,110)\" x2=\"-5\" y2=\"0\" style=\"fill: none; stroke: #888; stroke-width: 1; opacity: 1;\"></line><line transform=\"translate(0,130)\" x2=\"-5\" y2=\"0\" style=\"fill: none; stroke: #888; stroke-width: 1; opacity: 1;\"></line><line transform=\"translate(0,150)\" x2=\"-5\" y2=\"0\" style=\"fill: none; stroke: #888; stroke-width: 1; opacity: 1;\"></line><line transform=\"translate(0,170)\" x2=\"-5\" y2=\"0\" style=\"fill: none; stroke: #888; stroke-width: 1; opacity: 1;\"></line><line transform=\"translate(0,190)\" x2=\"-5\" y2=\"0\" style=\"fill: none; stroke: #888; stroke-width: 1; opacity: 1;\"></line><line transform=\"translate(0,210)\" x2=\"-5\" y2=\"0\" style=\"fill: none; stroke: #888; stroke-width: 1; opacity: 1;\"></line><line transform=\"translate(0,230)\" x2=\"-5\" y2=\"0\" style=\"fill: none; stroke: #888; stroke-width: 1; opacity: 1;\"></line><line transform=\"translate(0,250)\" x2=\"-5\" y2=\"0\" style=\"fill: none; stroke: #888; stroke-width: 1; opacity: 1;\"></line><line transform=\"translate(0,270)\" x2=\"-5\" y2=\"0\" style=\"fill: none; stroke: #888; stroke-width: 1; opacity: 1;\"></line><line transform=\"translate(0,290)\" x2=\"-5\" y2=\"0\" style=\"fill: none; stroke: #888; stroke-width: 1; opacity: 1;\"></line><line transform=\"translate(0,310)\" x2=\"-5\" y2=\"0\" style=\"fill: none; stroke: #888; stroke-width: 1; opacity: 1;\"></line></g><g class=\"mark-text role-axis-label\" style=\"pointer-events: none;\"><text text-anchor=\"end\" transform=\"translate(-7,13)\" style=\"font-family: sans-serif; font-size: 10px; fill: #000; opacity: 1;\">16</text><text text-anchor=\"end\" transform=\"translate(-7,33)\" style=\"font-family: sans-serif; font-size: 10px; fill: #000; opacity: 1;\">15</text><text text-anchor=\"end\" transform=\"translate(-7,53)\" style=\"font-family: sans-serif; font-size: 10px; fill: #000; opacity: 1;\">14</text><text text-anchor=\"end\" transform=\"translate(-7,73)\" style=\"font-family: sans-serif; font-size: 10px; fill: #000; opacity: 1;\">13</text><text text-anchor=\"end\" transform=\"translate(-7,93)\" style=\"font-family: sans-serif; font-size: 10px; fill: #000; opacity: 1;\">12</text><text text-anchor=\"end\" transform=\"translate(-7,113)\" style=\"font-family: sans-serif; font-size: 10px; fill: #000; opacity: 1;\">11</text><text text-anchor=\"end\" transform=\"translate(-7,133)\" style=\"font-family: sans-serif; font-size: 10px; fill: #000; opacity: 1;\">10</text><text text-anchor=\"end\" transform=\"translate(-7,153)\" style=\"font-family: sans-serif; font-size: 10px; fill: #000; opacity: 1;\">9</text><text text-anchor=\"end\" transform=\"translate(-7,173)\" style=\"font-family: sans-serif; font-size: 10px; fill: #000; opacity: 1;\">8</text><text text-anchor=\"end\" transform=\"translate(-7,193)\" style=\"font-family: sans-serif; font-size: 10px; fill: #000; opacity: 1;\">7</text><text text-anchor=\"end\" transform=\"translate(-7,213)\" style=\"font-family: sans-serif; font-size: 10px; fill: #000; opacity: 1;\">6</text><text text-anchor=\"end\" transform=\"translate(-7,233)\" style=\"font-family: sans-serif; font-size: 10px; fill: #000; opacity: 1;\">5</text><text text-anchor=\"end\" transform=\"translate(-7,253)\" style=\"font-family: sans-serif; font-size: 10px; fill: #000; opacity: 1;\">4</text><text text-anchor=\"end\" transform=\"translate(-7,273)\" style=\"font-family: sans-serif; font-size: 10px; fill: #000; opacity: 1;\">3</text><text text-anchor=\"end\" transform=\"translate(-7,293)\" style=\"font-family: sans-serif; font-size: 10px; fill: #000; opacity: 1;\">2</text><text text-anchor=\"end\" transform=\"translate(-7,313)\" style=\"font-family: sans-serif; font-size: 10px; fill: #000; opacity: 1;\">1</text></g><g class=\"mark-rule role-axis-domain\" style=\"pointer-events: none;\"><line transform=\"translate(0,0)\" x2=\"0\" y2=\"320\" style=\"fill: none; stroke: #888; stroke-width: 1; opacity: 1;\"></line></g><g class=\"mark-text role-axis-title\" style=\"pointer-events: none;\"><text text-anchor=\"middle\" transform=\"translate(-23,160) rotate(-90) translate(0,-2)\" style=\"font-family: sans-serif; font-size: 11px; font-weight: bold; fill: #000; opacity: 1;\">id</text></g></g></g></g></g></g></g></g></svg>"
      ],
      "text/plain": [
       "VegaLite.VLSpec{:plot}"
      ]
     },
     "execution_count": 459,
     "metadata": {},
     "output_type": "execute_result"
    }
   ],
   "source": [
    "@vlplot(\n",
    "    data=df,\n",
    "    transform=[{\n",
    "        window=[{op=\"rank\",\"as\"=\"id\"}],\n",
    "        groupby=[\"x1\"]\n",
    "    }],\n",
    "    mark={:circle},\n",
    "    encoding={\n",
    "        x=\"x1:o\",\n",
    "        y={\"id:o\", \"axis\"=:null, \"sort\"=\"descending\"}\n",
    "    }\n",
    "    )\n"
   ]
  },
  {
   "cell_type": "code",
   "execution_count": null,
   "metadata": {},
   "outputs": [
    {
     "name": "stderr",
     "output_type": "stream",
     "text": [
      "┌ Info: Precompiling VegaDatasets [0ae4a718-28b7-58ec-9efb-cded64d6d5b4]\n",
      "└ @ Base loading.jl:1192\n"
     ]
    }
   ],
   "source": [
    "using VegaDatasets\n",
    "vl\"\"\"{\n",
    "  \"$schema\": \"https://vega.github.io/schema/vega-lite/v4.json\",\n",
    "  \"description\": \"Drag the sliders to highlight points.\",\n",
    "  \"data\": {\"url\": \"data/cars.json\"},\n",
    "  \"transform\": [{\"calculate\": \"year(datum.Year)\", \"as\": \"Year\"}],\n",
    "  \"layer\": [{\n",
    "    \"selection\": {\n",
    "      \"CylYr\": {\n",
    "        \"type\": \"single\", \"fields\": [\"Cylinders\", \"Year\"],\n",
    "        \"init\": {\"Cylinders\": 4, \"Year\": 1977},\n",
    "        \"bind\": {\n",
    "          \"Cylinders\": {\"input\": \"range\", \"min\": 3, \"max\": 8, \"step\": 1},\n",
    "          \"Year\": {\"input\": \"range\", \"min\": 1969, \"max\": 1981, \"step\": 1}\n",
    "        }\n",
    "      }\n",
    "    },\n",
    "    \"mark\": \"circle\",\n",
    "    \"encoding\": {\n",
    "      \"x\": {\"field\": \"Horsepower\", \"type\": \"quantitative\"},\n",
    "      \"y\": {\"field\": \"Miles_per_Gallon\", \"type\": \"quantitative\"},\n",
    "      \"color\": {\n",
    "        \"condition\": {\"selection\": \"CylYr\", \"field\": \"Origin\", \"type\": \"nominal\"},\n",
    "        \"value\": \"grey\"\n",
    "      }\n",
    "    }\n",
    "  }, {\n",
    "    \"transform\": [{\"filter\": {\"selection\": \"CylYr\"}}],\n",
    "    \"mark\": \"circle\",\n",
    "    \"encoding\": {\n",
    "      \"x\": {\"field\": \"Horsepower\", \"type\": \"quantitative\"},\n",
    "      \"y\": {\"field\": \"Miles_per_Gallon\", \"type\": \"quantitative\"},\n",
    "      \"color\": {\"field\": \"Origin\", \"type\": \"nominal\"},\n",
    "      \"size\": {\"value\": 100}\n",
    "    }\n",
    "  }]\n",
    "}\n",
    "\"\"\""
   ]
  },
  {
   "cell_type": "code",
   "execution_count": null,
   "metadata": {},
   "outputs": [],
   "source": []
  }
 ],
 "metadata": {
  "kernelspec": {
   "display_name": "Julia 1.0.5",
   "language": "julia",
   "name": "julia-1.0"
  },
  "language_info": {
   "file_extension": ".jl",
   "mimetype": "application/julia",
   "name": "julia",
   "version": "1.0.5"
  }
 },
 "nbformat": 4,
 "nbformat_minor": 4
}
