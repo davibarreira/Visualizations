{
 "cells": [
  {
   "cell_type": "markdown",
   "metadata": {},
   "source": [
    "# Amazing Graphs "
   ]
  },
  {
   "cell_type": "code",
   "execution_count": 47,
   "metadata": {},
   "outputs": [
    {
     "data": {
      "text/plain": [
       "Plots.PyPlotBackend()"
      ]
     },
     "execution_count": 47,
     "metadata": {},
     "output_type": "execute_result"
    }
   ],
   "source": [
    "using Distributions, StatsPlots, Plots, StatsBase, LinearAlgebra\n",
    "using SymPy\n",
    "using LaTeXStrings\n",
    "using SymPy\n",
    "using VegaLite\n",
    "using DataFrames\n",
    "pyplot()"
   ]
  },
  {
   "cell_type": "markdown",
   "metadata": {},
   "source": [
    "### Balanced Ternary\n",
    "You write your number in base 3 and replace all the 2's to -1."
   ]
  },
  {
   "cell_type": "code",
   "execution_count": 134,
   "metadata": {},
   "outputs": [],
   "source": [
    "function Balanced_Ternary(n)\n",
    "    if n==0\n",
    "        return 0\n",
    "    end\n",
    "    if n%3 == 0\n",
    "        return 3*Balanced_Ternary(n/3)\n",
    "    elseif n%3 == 1\n",
    "        return 3*Balanced_Ternary((n-1)/3)+1\n",
    "    else\n",
    "        return 3*Balanced_Ternary((n-2)/3) -1\n",
    "    end\n",
    "end\n",
    "size = 300\n",
    "bt = DataFrame(ID = collect(1:size),S = Balanced_Ternary.(collect(1:size)));"
   ]
  },
  {
   "cell_type": "markdown",
   "metadata": {},
   "source": [
    "Play with different types of marks (e.g: area, line, circle), and see what changes.\n",
    "Also, play with the colors."
   ]
  },
  {
   "cell_type": "code",
   "execution_count": 136,
   "metadata": {},
   "outputs": [
    {
     "name": "stderr",
     "output_type": "stream",
     "text": [
      "WARN Can not resolve event source: window\n",
      "WARN Can not resolve event source: window\n",
      "WARN Can not resolve event source: window\n",
      "WARN Can not resolve event source: window\n",
      "WARN Can not resolve event source: window\n",
      "WARN Can not resolve event source: window\n",
      "WARN Can not resolve event source: window\n",
      "WARN Can not resolve event source: window\n"
     ]
    },
    {
     "data": {
      "application/vnd.vegalite.v3+json": {
       "data": {
        "values": [
         {
          "ID": 1,
          "S": 1
         },
         {
          "ID": 2,
          "S": -1
         },
         {
          "ID": 3,
          "S": 3
         },
         {
          "ID": 4,
          "S": 4
         },
         {
          "ID": 5,
          "S": 2
         },
         {
          "ID": 6,
          "S": -3
         },
         {
          "ID": 7,
          "S": -2
         },
         {
          "ID": 8,
          "S": -4
         },
         {
          "ID": 9,
          "S": 9
         },
         {
          "ID": 10,
          "S": 10
         },
         {
          "ID": 11,
          "S": 8
         },
         {
          "ID": 12,
          "S": 12
         },
         {
          "ID": 13,
          "S": 13
         },
         {
          "ID": 14,
          "S": 11
         },
         {
          "ID": 15,
          "S": 6
         },
         {
          "ID": 16,
          "S": 7
         },
         {
          "ID": 17,
          "S": 5
         },
         {
          "ID": 18,
          "S": -9
         },
         {
          "ID": 19,
          "S": -8
         },
         {
          "ID": 20,
          "S": -10
         },
         {
          "ID": 21,
          "S": -6
         },
         {
          "ID": 22,
          "S": -5
         },
         {
          "ID": 23,
          "S": -7
         },
         {
          "ID": 24,
          "S": -12
         },
         {
          "ID": 25,
          "S": -11
         },
         {
          "ID": 26,
          "S": -13
         },
         {
          "ID": 27,
          "S": 27
         },
         {
          "ID": 28,
          "S": 28
         },
         {
          "ID": 29,
          "S": 26
         },
         {
          "ID": 30,
          "S": 30
         },
         {
          "ID": 31,
          "S": 31
         },
         {
          "ID": 32,
          "S": 29
         },
         {
          "ID": 33,
          "S": 24
         },
         {
          "ID": 34,
          "S": 25
         },
         {
          "ID": 35,
          "S": 23
         },
         {
          "ID": 36,
          "S": 36
         },
         {
          "ID": 37,
          "S": 37
         },
         {
          "ID": 38,
          "S": 35
         },
         {
          "ID": 39,
          "S": 39
         },
         {
          "ID": 40,
          "S": 40
         },
         {
          "ID": 41,
          "S": 38
         },
         {
          "ID": 42,
          "S": 33
         },
         {
          "ID": 43,
          "S": 34
         },
         {
          "ID": 44,
          "S": 32
         },
         {
          "ID": 45,
          "S": 18
         },
         {
          "ID": 46,
          "S": 19
         },
         {
          "ID": 47,
          "S": 17
         },
         {
          "ID": 48,
          "S": 21
         },
         {
          "ID": 49,
          "S": 22
         },
         {
          "ID": 50,
          "S": 20
         },
         {
          "ID": 51,
          "S": 15
         },
         {
          "ID": 52,
          "S": 16
         },
         {
          "ID": 53,
          "S": 14
         },
         {
          "ID": 54,
          "S": -27
         },
         {
          "ID": 55,
          "S": -26
         },
         {
          "ID": 56,
          "S": -28
         },
         {
          "ID": 57,
          "S": -24
         },
         {
          "ID": 58,
          "S": -23
         },
         {
          "ID": 59,
          "S": -25
         },
         {
          "ID": 60,
          "S": -30
         },
         {
          "ID": 61,
          "S": -29
         },
         {
          "ID": 62,
          "S": -31
         },
         {
          "ID": 63,
          "S": -18
         },
         {
          "ID": 64,
          "S": -17
         },
         {
          "ID": 65,
          "S": -19
         },
         {
          "ID": 66,
          "S": -15
         },
         {
          "ID": 67,
          "S": -14
         },
         {
          "ID": 68,
          "S": -16
         },
         {
          "ID": 69,
          "S": -21
         },
         {
          "ID": 70,
          "S": -20
         },
         {
          "ID": 71,
          "S": -22
         },
         {
          "ID": 72,
          "S": -36
         },
         {
          "ID": 73,
          "S": -35
         },
         {
          "ID": 74,
          "S": -37
         },
         {
          "ID": 75,
          "S": -33
         },
         {
          "ID": 76,
          "S": -32
         },
         {
          "ID": 77,
          "S": -34
         },
         {
          "ID": 78,
          "S": -39
         },
         {
          "ID": 79,
          "S": -38
         },
         {
          "ID": 80,
          "S": -40
         },
         {
          "ID": 81,
          "S": 81
         },
         {
          "ID": 82,
          "S": 82
         },
         {
          "ID": 83,
          "S": 80
         },
         {
          "ID": 84,
          "S": 84
         },
         {
          "ID": 85,
          "S": 85
         },
         {
          "ID": 86,
          "S": 83
         },
         {
          "ID": 87,
          "S": 78
         },
         {
          "ID": 88,
          "S": 79
         },
         {
          "ID": 89,
          "S": 77
         },
         {
          "ID": 90,
          "S": 90
         },
         {
          "ID": 91,
          "S": 91
         },
         {
          "ID": 92,
          "S": 89
         },
         {
          "ID": 93,
          "S": 93
         },
         {
          "ID": 94,
          "S": 94
         },
         {
          "ID": 95,
          "S": 92
         },
         {
          "ID": 96,
          "S": 87
         },
         {
          "ID": 97,
          "S": 88
         },
         {
          "ID": 98,
          "S": 86
         },
         {
          "ID": 99,
          "S": 72
         },
         {
          "ID": 100,
          "S": 73
         },
         {
          "ID": 101,
          "S": 71
         },
         {
          "ID": 102,
          "S": 75
         },
         {
          "ID": 103,
          "S": 76
         },
         {
          "ID": 104,
          "S": 74
         },
         {
          "ID": 105,
          "S": 69
         },
         {
          "ID": 106,
          "S": 70
         },
         {
          "ID": 107,
          "S": 68
         },
         {
          "ID": 108,
          "S": 108
         },
         {
          "ID": 109,
          "S": 109
         },
         {
          "ID": 110,
          "S": 107
         },
         {
          "ID": 111,
          "S": 111
         },
         {
          "ID": 112,
          "S": 112
         },
         {
          "ID": 113,
          "S": 110
         },
         {
          "ID": 114,
          "S": 105
         },
         {
          "ID": 115,
          "S": 106
         },
         {
          "ID": 116,
          "S": 104
         },
         {
          "ID": 117,
          "S": 117
         },
         {
          "ID": 118,
          "S": 118
         },
         {
          "ID": 119,
          "S": 116
         },
         {
          "ID": 120,
          "S": 120
         },
         {
          "ID": 121,
          "S": 121
         },
         {
          "ID": 122,
          "S": 119
         },
         {
          "ID": 123,
          "S": 114
         },
         {
          "ID": 124,
          "S": 115
         },
         {
          "ID": 125,
          "S": 113
         },
         {
          "ID": 126,
          "S": 99
         },
         {
          "ID": 127,
          "S": 100
         },
         {
          "ID": 128,
          "S": 98
         },
         {
          "ID": 129,
          "S": 102
         },
         {
          "ID": 130,
          "S": 103
         },
         {
          "ID": 131,
          "S": 101
         },
         {
          "ID": 132,
          "S": 96
         },
         {
          "ID": 133,
          "S": 97
         },
         {
          "ID": 134,
          "S": 95
         },
         {
          "ID": 135,
          "S": 54
         },
         {
          "ID": 136,
          "S": 55
         },
         {
          "ID": 137,
          "S": 53
         },
         {
          "ID": 138,
          "S": 57
         },
         {
          "ID": 139,
          "S": 58
         },
         {
          "ID": 140,
          "S": 56
         },
         {
          "ID": 141,
          "S": 51
         },
         {
          "ID": 142,
          "S": 52
         },
         {
          "ID": 143,
          "S": 50
         },
         {
          "ID": 144,
          "S": 63
         },
         {
          "ID": 145,
          "S": 64
         },
         {
          "ID": 146,
          "S": 62
         },
         {
          "ID": 147,
          "S": 66
         },
         {
          "ID": 148,
          "S": 67
         },
         {
          "ID": 149,
          "S": 65
         },
         {
          "ID": 150,
          "S": 60
         },
         {
          "ID": 151,
          "S": 61
         },
         {
          "ID": 152,
          "S": 59
         },
         {
          "ID": 153,
          "S": 45
         },
         {
          "ID": 154,
          "S": 46
         },
         {
          "ID": 155,
          "S": 44
         },
         {
          "ID": 156,
          "S": 48
         },
         {
          "ID": 157,
          "S": 49
         },
         {
          "ID": 158,
          "S": 47
         },
         {
          "ID": 159,
          "S": 42
         },
         {
          "ID": 160,
          "S": 43
         },
         {
          "ID": 161,
          "S": 41
         },
         {
          "ID": 162,
          "S": -81
         },
         {
          "ID": 163,
          "S": -80
         },
         {
          "ID": 164,
          "S": -82
         },
         {
          "ID": 165,
          "S": -78
         },
         {
          "ID": 166,
          "S": -77
         },
         {
          "ID": 167,
          "S": -79
         },
         {
          "ID": 168,
          "S": -84
         },
         {
          "ID": 169,
          "S": -83
         },
         {
          "ID": 170,
          "S": -85
         },
         {
          "ID": 171,
          "S": -72
         },
         {
          "ID": 172,
          "S": -71
         },
         {
          "ID": 173,
          "S": -73
         },
         {
          "ID": 174,
          "S": -69
         },
         {
          "ID": 175,
          "S": -68
         },
         {
          "ID": 176,
          "S": -70
         },
         {
          "ID": 177,
          "S": -75
         },
         {
          "ID": 178,
          "S": -74
         },
         {
          "ID": 179,
          "S": -76
         },
         {
          "ID": 180,
          "S": -90
         },
         {
          "ID": 181,
          "S": -89
         },
         {
          "ID": 182,
          "S": -91
         },
         {
          "ID": 183,
          "S": -87
         },
         {
          "ID": 184,
          "S": -86
         },
         {
          "ID": 185,
          "S": -88
         },
         {
          "ID": 186,
          "S": -93
         },
         {
          "ID": 187,
          "S": -92
         },
         {
          "ID": 188,
          "S": -94
         },
         {
          "ID": 189,
          "S": -54
         },
         {
          "ID": 190,
          "S": -53
         },
         {
          "ID": 191,
          "S": -55
         },
         {
          "ID": 192,
          "S": -51
         },
         {
          "ID": 193,
          "S": -50
         },
         {
          "ID": 194,
          "S": -52
         },
         {
          "ID": 195,
          "S": -57
         },
         {
          "ID": 196,
          "S": -56
         },
         {
          "ID": 197,
          "S": -58
         },
         {
          "ID": 198,
          "S": -45
         },
         {
          "ID": 199,
          "S": -44
         },
         {
          "ID": 200,
          "S": -46
         },
         {
          "ID": 201,
          "S": -42
         },
         {
          "ID": 202,
          "S": -41
         },
         {
          "ID": 203,
          "S": -43
         },
         {
          "ID": 204,
          "S": -48
         },
         {
          "ID": 205,
          "S": -47
         },
         {
          "ID": 206,
          "S": -49
         },
         {
          "ID": 207,
          "S": -63
         },
         {
          "ID": 208,
          "S": -62
         },
         {
          "ID": 209,
          "S": -64
         },
         {
          "ID": 210,
          "S": -60
         },
         {
          "ID": 211,
          "S": -59
         },
         {
          "ID": 212,
          "S": -61
         },
         {
          "ID": 213,
          "S": -66
         },
         {
          "ID": 214,
          "S": -65
         },
         {
          "ID": 215,
          "S": -67
         },
         {
          "ID": 216,
          "S": -108
         },
         {
          "ID": 217,
          "S": -107
         },
         {
          "ID": 218,
          "S": -109
         },
         {
          "ID": 219,
          "S": -105
         },
         {
          "ID": 220,
          "S": -104
         },
         {
          "ID": 221,
          "S": -106
         },
         {
          "ID": 222,
          "S": -111
         },
         {
          "ID": 223,
          "S": -110
         },
         {
          "ID": 224,
          "S": -112
         },
         {
          "ID": 225,
          "S": -99
         },
         {
          "ID": 226,
          "S": -98
         },
         {
          "ID": 227,
          "S": -100
         },
         {
          "ID": 228,
          "S": -96
         },
         {
          "ID": 229,
          "S": -95
         },
         {
          "ID": 230,
          "S": -97
         },
         {
          "ID": 231,
          "S": -102
         },
         {
          "ID": 232,
          "S": -101
         },
         {
          "ID": 233,
          "S": -103
         },
         {
          "ID": 234,
          "S": -117
         },
         {
          "ID": 235,
          "S": -116
         },
         {
          "ID": 236,
          "S": -118
         },
         {
          "ID": 237,
          "S": -114
         },
         {
          "ID": 238,
          "S": -113
         },
         {
          "ID": 239,
          "S": -115
         },
         {
          "ID": 240,
          "S": -120
         },
         {
          "ID": 241,
          "S": -119
         },
         {
          "ID": 242,
          "S": -121
         },
         {
          "ID": 243,
          "S": 243
         },
         {
          "ID": 244,
          "S": 244
         },
         {
          "ID": 245,
          "S": 242
         },
         {
          "ID": 246,
          "S": 246
         },
         {
          "ID": 247,
          "S": 247
         },
         {
          "ID": 248,
          "S": 245
         },
         {
          "ID": 249,
          "S": 240
         },
         {
          "ID": 250,
          "S": 241
         },
         {
          "ID": 251,
          "S": 239
         },
         {
          "ID": 252,
          "S": 252
         },
         {
          "ID": 253,
          "S": 253
         },
         {
          "ID": 254,
          "S": 251
         },
         {
          "ID": 255,
          "S": 255
         },
         {
          "ID": 256,
          "S": 256
         },
         {
          "ID": 257,
          "S": 254
         },
         {
          "ID": 258,
          "S": 249
         },
         {
          "ID": 259,
          "S": 250
         },
         {
          "ID": 260,
          "S": 248
         },
         {
          "ID": 261,
          "S": 234
         },
         {
          "ID": 262,
          "S": 235
         },
         {
          "ID": 263,
          "S": 233
         },
         {
          "ID": 264,
          "S": 237
         },
         {
          "ID": 265,
          "S": 238
         },
         {
          "ID": 266,
          "S": 236
         },
         {
          "ID": 267,
          "S": 231
         },
         {
          "ID": 268,
          "S": 232
         },
         {
          "ID": 269,
          "S": 230
         },
         {
          "ID": 270,
          "S": 270
         },
         {
          "ID": 271,
          "S": 271
         },
         {
          "ID": 272,
          "S": 269
         },
         {
          "ID": 273,
          "S": 273
         },
         {
          "ID": 274,
          "S": 274
         },
         {
          "ID": 275,
          "S": 272
         },
         {
          "ID": 276,
          "S": 267
         },
         {
          "ID": 277,
          "S": 268
         },
         {
          "ID": 278,
          "S": 266
         },
         {
          "ID": 279,
          "S": 279
         },
         {
          "ID": 280,
          "S": 280
         },
         {
          "ID": 281,
          "S": 278
         },
         {
          "ID": 282,
          "S": 282
         },
         {
          "ID": 283,
          "S": 283
         },
         {
          "ID": 284,
          "S": 281
         },
         {
          "ID": 285,
          "S": 276
         },
         {
          "ID": 286,
          "S": 277
         },
         {
          "ID": 287,
          "S": 275
         },
         {
          "ID": 288,
          "S": 261
         },
         {
          "ID": 289,
          "S": 262
         },
         {
          "ID": 290,
          "S": 260
         },
         {
          "ID": 291,
          "S": 264
         },
         {
          "ID": 292,
          "S": 265
         },
         {
          "ID": 293,
          "S": 263
         },
         {
          "ID": 294,
          "S": 258
         },
         {
          "ID": 295,
          "S": 259
         },
         {
          "ID": 296,
          "S": 257
         },
         {
          "ID": 297,
          "S": 216
         },
         {
          "ID": 298,
          "S": 217
         },
         {
          "ID": 299,
          "S": 215
         },
         {
          "ID": 300,
          "S": 219
         }
        ]
       },
       "hconcat": [
        {
         "encoding": {
          "color": {
           "value": "black"
          },
          "x": {
           "axis": {
            "grid": false
           },
           "field": "ID",
           "type": "quantitative"
          },
          "y": {
           "axis": {
            "grid": false
           },
           "field": "S",
           "type": "quantitative"
          }
         },
         "height": 400,
         "mark": "line",
         "selection": {
          "grid": {
           "bind": "scales",
           "type": "interval"
          }
         },
         "width": 600
        },
        {
         "encoding": {
          "color": {
           "field": "S",
           "scale": {
            "scheme": "inferno",
            "type": "quantize",
            "zero": true
           },
           "type": "quantitative"
          },
          "x": {
           "axis": {
            "grid": false
           },
           "field": "ID",
           "type": "quantitative"
          },
          "y": {
           "axis": {
            "grid": false
           },
           "field": "S",
           "type": "quantitative"
          }
         },
         "height": 400,
         "mark": {
          "filled": true,
          "shape": "triangle-down",
          "type": "point"
         },
         "selection": {
          "grid": {
           "bind": "scales",
           "type": "interval"
          }
         },
         "width": 600
        }
       ]
      },
      "image/png": "[encoded data removed]",
      "image/svg+xml": [
       "<svg class=\"marks\" width=\"1378\" height=\"449\" viewBox=\"0 0 1378 449\" version=\"1.1\" xmlns=\"http://www.w3.org/2000/svg\" xmlns:xlink=\"http://www.w3.org/1999/xlink\"><defs><clipPath id=\"clip1\"><rect x=\"0\" y=\"0\" width=\"600\" height=\"400\"></rect></clipPath><clipPath id=\"clip2\"><rect x=\"0\" y=\"0\" width=\"600\" height=\"400\"></rect></clipPath></defs><g transform=\"translate(50,11)\"><g class=\"mark-group role-frame root\"><g transform=\"translate(0,0)\"><path class=\"background\" d=\"M0,0h0v400h0Z\" style=\"fill: none;\"></path><g><g class=\"mark-group role-scope concat_0_group\"><g transform=\"translate(0,0)\"><path class=\"background\" d=\"M0.5,0.5h600v400h-600Z\" style=\"fill: none; stroke: #ddd;\"></path><g><g class=\"mark-line role-mark concat_0_marks\" clip-path=\"url(#clip1)\"><path d=\"M600,72L598,75.55555555555554L596,73.77777777777777L594,74.66666666666669L592,38.22222222222223L590,36.44444444444446L588,37.33333333333337L586,32.88888888888886L584,31.111111111111086L582,32L580,35.55555555555554L578,33.77777777777777L576,34.666666666666686L574,22.22222222222223L572,20.444444444444457L570,21.333333333333314L568,16.888888888888914L566,15.111111111111143L564,16L562,19.555555555555543L560,17.77777777777777L558,18.66666666666663L556,30.22222222222223L554,28.444444444444457L552,29.33333333333337L550,24.888888888888857L548,23.111111111111143L546,24L544,27.555555555555543L542,25.77777777777777L540,26.666666666666686L538,62.22222222222223L536,60.44444444444446L534,61.333333333333314L532,56.888888888888914L530,55.111111111111086L528,56L526,59.55555555555554L524,57.77777777777777L522,58.66666666666663L520,46.22222222222223L518,44.44444444444446L516,45.333333333333314L514,40.888888888888914L512,39.111111111111086L510,40L508,43.55555555555554L506,41.77777777777777L504,42.666666666666686L502,54.22222222222223L500,52.4444444444444L498,53.333333333333314L496,48.888888888888914L494,47.111111111111086L491.99999999999994,48L490,51.5555555555556L488,49.77777777777777L486.00000000000006,50.666666666666686L484,374.22222222222223L482,372.44444444444446L480,373.3333333333333L478,368.8888888888889L476,367.1111111111111L474,368L472,371.55555555555554L470,369.77777777777777L468,370.6666666666667L465.99999999999994,358.22222222222223L464,356.44444444444446L462,357.3333333333333L460.00000000000006,352.8888888888889L458,351.1111111111111L456,352L454,355.55555555555554L452,353.77777777777777L450,354.6666666666667L448,366.22222222222223L446,364.44444444444446L444,365.3333333333333L442,360.8888888888889L439.99999999999994,359.1111111111111L438,360L436,363.55555555555554L434.00000000000006,361.77777777777777L432,362.6666666666667L430,326.22222222222223L428,324.44444444444446L426,325.3333333333333L424,320.8888888888889L422,319.1111111111111L420,320L418,323.55555555555554L416,321.77777777777777L413.99999999999994,322.6666666666667L412,310.22222222222223L410,308.44444444444446L408.00000000000006,309.33333333333337L406,304.8888888888889L404,303.1111111111111L402,304L400,307.55555555555554L398,305.77777777777777L396,306.6666666666667L394,318.22222222222223L392,316.44444444444446L390,317.3333333333333L387.99999999999994,312.8888888888889L386,311.1111111111111L384,312L382,315.55555555555554L380,313.77777777777777L378,314.66666666666663L376,350.22222222222223L374,348.44444444444446L372,349.3333333333333L370,344.8888888888889L368,343.1111111111111L366,344L364,347.55555555555554L362.00000000000006,345.77777777777777L360,346.6666666666667L358,334.22222222222223L356,332.44444444444446L354,333.33333333333337L352,328.8888888888889L350,327.1111111111111L348,328L346,331.55555555555554L344,329.77777777777777L341.99999999999994,330.66666666666663L340,342.22222222222223L338,340.44444444444446L336.00000000000006,341.3333333333333L334,336.8888888888889L332,335.1111111111111L330,336L328,339.55555555555554L326,337.77777777777777L324,338.6666666666667L322,230.22222222222223L320,228.44444444444446L318,229.33333333333331L315.99999999999994,224.88888888888889L314,223.11111111111111L312,224L310.00000000000006,227.55555555555554L308,225.7777777777778L306,226.66666666666666L304,214.22222222222223L302,212.44444444444443L300,213.33333333333334L298,208.88888888888889L296,207.11111111111111L294,208L292,211.55555555555557L290,209.77777777777777L288,210.66666666666666L286,222.22222222222223L284,220.44444444444446L282,221.33333333333334L280,216.88888888888889L278,215.11111111111111L276,216L274,219.55555555555554L272,217.77777777777777L270,218.66666666666669L268,182.22222222222223L266,180.44444444444446L264,181.33333333333334L262,176.88888888888889L260,175.11111111111114L258,175.99999999999997L256,179.55555555555554L254,177.77777777777777L252,178.66666666666666L250,166.22222222222223L248,164.44444444444443L245.99999999999997,165.33333333333334L244,160.8888888888889L242,159.11111111111111L240,160L238,163.55555555555554L236,161.7777777777778L234,162.66666666666666L232,174.22222222222223L230.00000000000003,172.44444444444446L228,173.33333333333334L226,168.8888888888889L224,167.11111111111111L222,168.00000000000003L219.99999999999997,171.55555555555554L218,169.77777777777777L216,170.66666666666666L214,206.22222222222223L212,204.44444444444446L210,205.33333333333331L208,200.88888888888889L206,199.11111111111111L204.00000000000003,200L202,203.55555555555554L200,201.77777777777777L198,202.66666666666666L196,190.2222222222222L193.99999999999997,188.44444444444446L192,189.33333333333334L190,184.88888888888889L188,183.1111111111111L186,184L184,187.55555555555557L182,185.77777777777777L180,186.66666666666666L178,198.2222222222222L176,196.44444444444446L174,197.33333333333331L172,192.88888888888889L170,191.1111111111111L168.00000000000003,192L166,195.55555555555557L164,193.77777777777777L162,194.66666666666669L160,302.22222222222223L157.99999999999997,300.44444444444446L156,301.3333333333333L154,296.8888888888889L152,295.1111111111111L150,296L148,299.55555555555554L146,297.77777777777777L144,298.66666666666663L142,286.22222222222223L140,284.44444444444446L138,285.3333333333333L136,280.8888888888889L134,279.1111111111111L132,280L130,283.55555555555554L128,281.77777777777777L126,282.6666666666667L124,294.22222222222223L122,292.44444444444446L120,293.3333333333333L118,288.8888888888889L116,287.1111111111111L114,288L112,291.55555555555554L109.99999999999999,289.77777777777777L108,290.6666666666667L106,254.22222222222223L104,252.44444444444446L102.00000000000001,253.33333333333334L100,248.88888888888889L98,247.11111111111111L96,248L94,251.55555555555554L92,249.7777777777778L90,250.66666666666666L88,238.22222222222223L86,236.44444444444443L84.00000000000001,237.33333333333334L82,232.88888888888889L80,231.11111111111111L78,232L76,235.55555555555557L74,233.77777777777777L72,234.66666666666666L70,246.22222222222223L68,244.44444444444443L66,245.33333333333334L64,240.88888888888889L62,239.11111111111111L60,240L58,243.55555555555554L56,241.77777777777777L54,242.66666666666669L52,278.22222222222223L50,276.44444444444446L48,277.33333333333337L46,272.8888888888889L44,271.1111111111111L42.00000000000001,272L40,275.55555555555554L38,273.77777777777777L36,274.66666666666663L34,262.22222222222223L32,260.44444444444446L30,261.3333333333333L28,256.8888888888889L26,255.11111111111111L24,256L22,259.55555555555554L20,257.77777777777777L18,258.66666666666663L16,270.22222222222223L14,268.44444444444446L12,269.33333333333337L10,264.8888888888889L8,263.1111111111111L6,264L4,267.55555555555554L2,265.77777777777777\" style=\"fill: none; stroke: black; stroke-width: 2;\"></path></g><g class=\"mark-group role-axis\"><g transform=\"translate(0.5,400.5)\"><path class=\"background\" d=\"M0,0h0v0h0Z\" style=\"pointer-events: none; fill: none;\"></path><g><g class=\"mark-rule role-axis-tick\" style=\"pointer-events: none;\"><line transform=\"translate(0,0)\" x2=\"0\" y2=\"5\" style=\"fill: none; stroke: #888; stroke-width: 1; opacity: 1;\"></line><line transform=\"translate(40,0)\" x2=\"0\" y2=\"5\" style=\"fill: none; stroke: #888; stroke-width: 1; opacity: 1;\"></line><line transform=\"translate(80,0)\" x2=\"0\" y2=\"5\" style=\"fill: none; stroke: #888; stroke-width: 1; opacity: 1;\"></line><line transform=\"translate(120,0)\" x2=\"0\" y2=\"5\" style=\"fill: none; stroke: #888; stroke-width: 1; opacity: 1;\"></line><line transform=\"translate(160,0)\" x2=\"0\" y2=\"5\" style=\"fill: none; stroke: #888; stroke-width: 1; opacity: 1;\"></line><line transform=\"translate(200,0)\" x2=\"0\" y2=\"5\" style=\"fill: none; stroke: #888; stroke-width: 1; opacity: 1;\"></line><line transform=\"translate(240,0)\" x2=\"0\" y2=\"5\" style=\"fill: none; stroke: #888; stroke-width: 1; opacity: 1;\"></line><line transform=\"translate(280,0)\" x2=\"0\" y2=\"5\" style=\"fill: none; stroke: #888; stroke-width: 1; opacity: 1;\"></line><line transform=\"translate(320,0)\" x2=\"0\" y2=\"5\" style=\"fill: none; stroke: #888; stroke-width: 1; opacity: 1;\"></line><line transform=\"translate(360,0)\" x2=\"0\" y2=\"5\" style=\"fill: none; stroke: #888; stroke-width: 1; opacity: 1;\"></line><line transform=\"translate(400,0)\" x2=\"0\" y2=\"5\" style=\"fill: none; stroke: #888; stroke-width: 1; opacity: 1;\"></line><line transform=\"translate(440,0)\" x2=\"0\" y2=\"5\" style=\"fill: none; stroke: #888; stroke-width: 1; opacity: 1;\"></line><line transform=\"translate(480,0)\" x2=\"0\" y2=\"5\" style=\"fill: none; stroke: #888; stroke-width: 1; opacity: 1;\"></line><line transform=\"translate(520,0)\" x2=\"0\" y2=\"5\" style=\"fill: none; stroke: #888; stroke-width: 1; opacity: 1;\"></line><line transform=\"translate(560,0)\" x2=\"0\" y2=\"5\" style=\"fill: none; stroke: #888; stroke-width: 1; opacity: 1;\"></line><line transform=\"translate(600,0)\" x2=\"0\" y2=\"5\" style=\"fill: none; stroke: #888; stroke-width: 1; opacity: 1;\"></line></g><g class=\"mark-text role-axis-label\" style=\"pointer-events: none;\"><text text-anchor=\"start\" transform=\"translate(0,15)\" style=\"font-family: sans-serif; font-size: 10px; fill: #000; opacity: 1;\">0</text><text text-anchor=\"middle\" transform=\"translate(40,15)\" style=\"font-family: sans-serif; font-size: 10px; fill: #000; opacity: 1;\">20</text><text text-anchor=\"middle\" transform=\"translate(80,15)\" style=\"font-family: sans-serif; font-size: 10px; fill: #000; opacity: 1;\">40</text><text text-anchor=\"middle\" transform=\"translate(120,15)\" style=\"font-family: sans-serif; font-size: 10px; fill: #000; opacity: 1;\">60</text><text text-anchor=\"middle\" transform=\"translate(160,15)\" style=\"font-family: sans-serif; font-size: 10px; fill: #000; opacity: 1;\">80</text><text text-anchor=\"middle\" transform=\"translate(200,15)\" style=\"font-family: sans-serif; font-size: 10px; fill: #000; opacity: 1;\">100</text><text text-anchor=\"middle\" transform=\"translate(240,15)\" style=\"font-family: sans-serif; font-size: 10px; fill: #000; opacity: 1;\">120</text><text text-anchor=\"middle\" transform=\"translate(280,15)\" style=\"font-family: sans-serif; font-size: 10px; fill: #000; opacity: 1;\">140</text><text text-anchor=\"middle\" transform=\"translate(320,15)\" style=\"font-family: sans-serif; font-size: 10px; fill: #000; opacity: 1;\">160</text><text text-anchor=\"middle\" transform=\"translate(360,15)\" style=\"font-family: sans-serif; font-size: 10px; fill: #000; opacity: 1;\">180</text><text text-anchor=\"middle\" transform=\"translate(400,15)\" style=\"font-family: sans-serif; font-size: 10px; fill: #000; opacity: 1;\">200</text><text text-anchor=\"middle\" transform=\"translate(439.99999999999994,15)\" style=\"font-family: sans-serif; font-size: 10px; fill: #000; opacity: 1;\">220</text><text text-anchor=\"middle\" transform=\"translate(480,15)\" style=\"font-family: sans-serif; font-size: 10px; fill: #000; opacity: 1;\">240</text><text text-anchor=\"middle\" transform=\"translate(520,15)\" style=\"font-family: sans-serif; font-size: 10px; fill: #000; opacity: 1;\">260</text><text text-anchor=\"middle\" transform=\"translate(560,15)\" style=\"font-family: sans-serif; font-size: 10px; fill: #000; opacity: 1;\">280</text><text text-anchor=\"end\" transform=\"translate(600,15)\" style=\"font-family: sans-serif; font-size: 10px; fill: #000; opacity: 1;\">300</text></g><g class=\"mark-rule role-axis-domain\" style=\"pointer-events: none;\"><line transform=\"translate(0,0)\" x2=\"600\" y2=\"0\" style=\"fill: none; stroke: #888; stroke-width: 1; opacity: 1;\"></line></g><g class=\"mark-text role-axis-title\" style=\"pointer-events: none;\"><text text-anchor=\"middle\" transform=\"translate(300,30)\" style=\"font-family: sans-serif; font-size: 11px; font-weight: bold; fill: #000; opacity: 1;\">ID</text></g></g></g></g><g class=\"mark-group role-axis\"><g transform=\"translate(0.5,0.5)\"><path class=\"background\" d=\"M0,0h0v0h0Z\" style=\"pointer-events: none; fill: none;\"></path><g><g class=\"mark-rule role-axis-tick\" style=\"pointer-events: none;\"><line transform=\"translate(0,400)\" x2=\"-5\" y2=\"0\" style=\"fill: none; stroke: #888; stroke-width: 1; opacity: 1;\"></line><line transform=\"translate(0,356)\" x2=\"-5\" y2=\"0\" style=\"fill: none; stroke: #888; stroke-width: 1; opacity: 1;\"></line><line transform=\"translate(0,311)\" x2=\"-5\" y2=\"0\" style=\"fill: none; stroke: #888; stroke-width: 1; opacity: 1;\"></line><line transform=\"translate(0,267)\" x2=\"-5\" y2=\"0\" style=\"fill: none; stroke: #888; stroke-width: 1; opacity: 1;\"></line><line transform=\"translate(0,222)\" x2=\"-5\" y2=\"0\" style=\"fill: none; stroke: #888; stroke-width: 1; opacity: 1;\"></line><line transform=\"translate(0,178)\" x2=\"-5\" y2=\"0\" style=\"fill: none; stroke: #888; stroke-width: 1; opacity: 1;\"></line><line transform=\"translate(0,133)\" x2=\"-5\" y2=\"0\" style=\"fill: none; stroke: #888; stroke-width: 1; opacity: 1;\"></line><line transform=\"translate(0,89)\" x2=\"-5\" y2=\"0\" style=\"fill: none; stroke: #888; stroke-width: 1; opacity: 1;\"></line><line transform=\"translate(0,44)\" x2=\"-5\" y2=\"0\" style=\"fill: none; stroke: #888; stroke-width: 1; opacity: 1;\"></line><line transform=\"translate(0,0)\" x2=\"-5\" y2=\"0\" style=\"fill: none; stroke: #888; stroke-width: 1; opacity: 1;\"></line></g><g class=\"mark-text role-axis-label\" style=\"pointer-events: none;\"><text text-anchor=\"end\" transform=\"translate(-7,403)\" style=\"font-family: sans-serif; font-size: 10px; fill: #000; opacity: 1;\">-150</text><text text-anchor=\"end\" transform=\"translate(-7,358.55555555555554)\" style=\"font-family: sans-serif; font-size: 10px; fill: #000; opacity: 1;\">-100</text><text text-anchor=\"end\" transform=\"translate(-7,314.1111111111111)\" style=\"font-family: sans-serif; font-size: 10px; fill: #000; opacity: 1;\">-50</text><text text-anchor=\"end\" transform=\"translate(-7,269.6666666666667)\" style=\"font-family: sans-serif; font-size: 10px; fill: #000; opacity: 1;\">0</text><text text-anchor=\"end\" transform=\"translate(-7,225.22222222222223)\" style=\"font-family: sans-serif; font-size: 10px; fill: #000; opacity: 1;\">50</text><text text-anchor=\"end\" transform=\"translate(-7,180.77777777777777)\" style=\"font-family: sans-serif; font-size: 10px; fill: #000; opacity: 1;\">100</text><text text-anchor=\"end\" transform=\"translate(-7,136.33333333333337)\" style=\"font-family: sans-serif; font-size: 10px; fill: #000; opacity: 1;\">150</text><text text-anchor=\"end\" transform=\"translate(-7,91.88888888888886)\" style=\"font-family: sans-serif; font-size: 10px; fill: #000; opacity: 1;\">200</text><text text-anchor=\"end\" transform=\"translate(-7,47.44444444444446)\" style=\"font-family: sans-serif; font-size: 10px; fill: #000; opacity: 1;\">250</text><text text-anchor=\"end\" transform=\"translate(-7,3)\" style=\"font-family: sans-serif; font-size: 10px; fill: #000; opacity: 1;\">300</text></g><g class=\"mark-rule role-axis-domain\" style=\"pointer-events: none;\"><line transform=\"translate(0,400)\" x2=\"0\" y2=\"-400\" style=\"fill: none; stroke: #888; stroke-width: 1; opacity: 1;\"></line></g><g class=\"mark-text role-axis-title\" style=\"pointer-events: none;\"><text text-anchor=\"middle\" transform=\"translate(-33,200) rotate(-90) translate(0,-2)\" style=\"font-family: sans-serif; font-size: 11px; font-weight: bold; fill: #000; opacity: 1;\">S</text></g></g></g></g></g></g></g><g class=\"mark-group role-scope concat_1_group\"><g transform=\"translate(667,0)\"><path class=\"background\" d=\"M0.5,0.5h600v400h-600Z\" style=\"fill: none; stroke: #ddd;\"></path><g><g class=\"mark-symbol role-mark concat_1_marks\" clip-path=\"url(#clip2)\"><path transform=\"translate(2,265.77777777777777)\" d=\"M0,2.3717082451262845L-2.7386127875258306,-2.3717082451262845L2.7386127875258306,-2.3717082451262845Z\" style=\"fill: rgb(120, 28, 109); stroke-width: 2; opacity: 0.7;\"></path><path transform=\"translate(4,267.55555555555554)\" d=\"M0,2.3717082451262845L-2.7386127875258306,-2.3717082451262845L2.7386127875258306,-2.3717082451262845Z\" style=\"fill: rgb(120, 28, 109); stroke-width: 2; opacity: 0.7;\"></path><path transform=\"translate(6,264)\" d=\"M0,2.3717082451262845L-2.7386127875258306,-2.3717082451262845L2.7386127875258306,-2.3717082451262845Z\" style=\"fill: rgb(120, 28, 109); stroke-width: 2; opacity: 0.7;\"></path><path transform=\"translate(8,263.1111111111111)\" d=\"M0,2.3717082451262845L-2.7386127875258306,-2.3717082451262845L2.7386127875258306,-2.3717082451262845Z\" style=\"fill: rgb(120, 28, 109); stroke-width: 2; opacity: 0.7;\"></path><path transform=\"translate(10,264.8888888888889)\" d=\"M0,2.3717082451262845L-2.7386127875258306,-2.3717082451262845L2.7386127875258306,-2.3717082451262845Z\" style=\"fill: rgb(120, 28, 109); stroke-width: 2; opacity: 0.7;\"></path><path transform=\"translate(12,269.33333333333337)\" d=\"M0,2.3717082451262845L-2.7386127875258306,-2.3717082451262845L2.7386127875258306,-2.3717082451262845Z\" style=\"fill: rgb(120, 28, 109); stroke-width: 2; opacity: 0.7;\"></path><path transform=\"translate(14,268.44444444444446)\" d=\"M0,2.3717082451262845L-2.7386127875258306,-2.3717082451262845L2.7386127875258306,-2.3717082451262845Z\" style=\"fill: rgb(120, 28, 109); stroke-width: 2; opacity: 0.7;\"></path><path transform=\"translate(16,270.22222222222223)\" d=\"M0,2.3717082451262845L-2.7386127875258306,-2.3717082451262845L2.7386127875258306,-2.3717082451262845Z\" style=\"fill: rgb(120, 28, 109); stroke-width: 2; opacity: 0.7;\"></path><path transform=\"translate(18,258.66666666666663)\" d=\"M0,2.3717082451262845L-2.7386127875258306,-2.3717082451262845L2.7386127875258306,-2.3717082451262845Z\" style=\"fill: rgb(120, 28, 109); stroke-width: 2; opacity: 0.7;\"></path><path transform=\"translate(20,257.77777777777777)\" d=\"M0,2.3717082451262845L-2.7386127875258306,-2.3717082451262845L2.7386127875258306,-2.3717082451262845Z\" style=\"fill: rgb(120, 28, 109); stroke-width: 2; opacity: 0.7;\"></path><path transform=\"translate(22,259.55555555555554)\" d=\"M0,2.3717082451262845L-2.7386127875258306,-2.3717082451262845L2.7386127875258306,-2.3717082451262845Z\" style=\"fill: rgb(120, 28, 109); stroke-width: 2; opacity: 0.7;\"></path><path transform=\"translate(24,256)\" d=\"M0,2.3717082451262845L-2.7386127875258306,-2.3717082451262845L2.7386127875258306,-2.3717082451262845Z\" style=\"fill: rgb(120, 28, 109); stroke-width: 2; opacity: 0.7;\"></path><path transform=\"translate(26,255.11111111111111)\" d=\"M0,2.3717082451262845L-2.7386127875258306,-2.3717082451262845L2.7386127875258306,-2.3717082451262845Z\" style=\"fill: rgb(120, 28, 109); stroke-width: 2; opacity: 0.7;\"></path><path transform=\"translate(28,256.8888888888889)\" d=\"M0,2.3717082451262845L-2.7386127875258306,-2.3717082451262845L2.7386127875258306,-2.3717082451262845Z\" style=\"fill: rgb(120, 28, 109); stroke-width: 2; opacity: 0.7;\"></path><path transform=\"translate(30,261.3333333333333)\" d=\"M0,2.3717082451262845L-2.7386127875258306,-2.3717082451262845L2.7386127875258306,-2.3717082451262845Z\" style=\"fill: rgb(120, 28, 109); stroke-width: 2; opacity: 0.7;\"></path><path transform=\"translate(32,260.44444444444446)\" d=\"M0,2.3717082451262845L-2.7386127875258306,-2.3717082451262845L2.7386127875258306,-2.3717082451262845Z\" style=\"fill: rgb(120, 28, 109); stroke-width: 2; opacity: 0.7;\"></path><path transform=\"translate(34,262.22222222222223)\" d=\"M0,2.3717082451262845L-2.7386127875258306,-2.3717082451262845L2.7386127875258306,-2.3717082451262845Z\" style=\"fill: rgb(120, 28, 109); stroke-width: 2; opacity: 0.7;\"></path><path transform=\"translate(36,274.66666666666663)\" d=\"M0,2.3717082451262845L-2.7386127875258306,-2.3717082451262845L2.7386127875258306,-2.3717082451262845Z\" style=\"fill: rgb(120, 28, 109); stroke-width: 2; opacity: 0.7;\"></path><path transform=\"translate(38,273.77777777777777)\" d=\"M0,2.3717082451262845L-2.7386127875258306,-2.3717082451262845L2.7386127875258306,-2.3717082451262845Z\" style=\"fill: rgb(120, 28, 109); stroke-width: 2; opacity: 0.7;\"></path><path transform=\"translate(40,275.55555555555554)\" d=\"M0,2.3717082451262845L-2.7386127875258306,-2.3717082451262845L2.7386127875258306,-2.3717082451262845Z\" style=\"fill: rgb(120, 28, 109); stroke-width: 2; opacity: 0.7;\"></path><path transform=\"translate(42.00000000000001,272)\" d=\"M0,2.3717082451262845L-2.7386127875258306,-2.3717082451262845L2.7386127875258306,-2.3717082451262845Z\" style=\"fill: rgb(120, 28, 109); stroke-width: 2; opacity: 0.7;\"></path><path transform=\"translate(44,271.1111111111111)\" d=\"M0,2.3717082451262845L-2.7386127875258306,-2.3717082451262845L2.7386127875258306,-2.3717082451262845Z\" style=\"fill: rgb(120, 28, 109); stroke-width: 2; opacity: 0.7;\"></path><path transform=\"translate(46,272.8888888888889)\" d=\"M0,2.3717082451262845L-2.7386127875258306,-2.3717082451262845L2.7386127875258306,-2.3717082451262845Z\" style=\"fill: rgb(120, 28, 109); stroke-width: 2; opacity: 0.7;\"></path><path transform=\"translate(48,277.33333333333337)\" d=\"M0,2.3717082451262845L-2.7386127875258306,-2.3717082451262845L2.7386127875258306,-2.3717082451262845Z\" style=\"fill: rgb(120, 28, 109); stroke-width: 2; opacity: 0.7;\"></path><path transform=\"translate(50,276.44444444444446)\" d=\"M0,2.3717082451262845L-2.7386127875258306,-2.3717082451262845L2.7386127875258306,-2.3717082451262845Z\" style=\"fill: rgb(120, 28, 109); stroke-width: 2; opacity: 0.7;\"></path><path transform=\"translate(52,278.22222222222223)\" d=\"M0,2.3717082451262845L-2.7386127875258306,-2.3717082451262845L2.7386127875258306,-2.3717082451262845Z\" style=\"fill: rgb(120, 28, 109); stroke-width: 2; opacity: 0.7;\"></path><path transform=\"translate(54,242.66666666666669)\" d=\"M0,2.3717082451262845L-2.7386127875258306,-2.3717082451262845L2.7386127875258306,-2.3717082451262845Z\" style=\"fill: rgb(120, 28, 109); stroke-width: 2; opacity: 0.7;\"></path><path transform=\"translate(56,241.77777777777777)\" d=\"M0,2.3717082451262845L-2.7386127875258306,-2.3717082451262845L2.7386127875258306,-2.3717082451262845Z\" style=\"fill: rgb(120, 28, 109); stroke-width: 2; opacity: 0.7;\"></path><path transform=\"translate(58,243.55555555555554)\" d=\"M0,2.3717082451262845L-2.7386127875258306,-2.3717082451262845L2.7386127875258306,-2.3717082451262845Z\" style=\"fill: rgb(120, 28, 109); stroke-width: 2; opacity: 0.7;\"></path><path transform=\"translate(60,240)\" d=\"M0,2.3717082451262845L-2.7386127875258306,-2.3717082451262845L2.7386127875258306,-2.3717082451262845Z\" style=\"fill: rgb(120, 28, 109); stroke-width: 2; opacity: 0.7;\"></path><path transform=\"translate(62,239.11111111111111)\" d=\"M0,2.3717082451262845L-2.7386127875258306,-2.3717082451262845L2.7386127875258306,-2.3717082451262845Z\" style=\"fill: rgb(120, 28, 109); stroke-width: 2; opacity: 0.7;\"></path><path transform=\"translate(64,240.88888888888889)\" d=\"M0,2.3717082451262845L-2.7386127875258306,-2.3717082451262845L2.7386127875258306,-2.3717082451262845Z\" style=\"fill: rgb(120, 28, 109); stroke-width: 2; opacity: 0.7;\"></path><path transform=\"translate(66,245.33333333333334)\" d=\"M0,2.3717082451262845L-2.7386127875258306,-2.3717082451262845L2.7386127875258306,-2.3717082451262845Z\" style=\"fill: rgb(120, 28, 109); stroke-width: 2; opacity: 0.7;\"></path><path transform=\"translate(68,244.44444444444443)\" d=\"M0,2.3717082451262845L-2.7386127875258306,-2.3717082451262845L2.7386127875258306,-2.3717082451262845Z\" style=\"fill: rgb(120, 28, 109); stroke-width: 2; opacity: 0.7;\"></path><path transform=\"translate(70,246.22222222222223)\" d=\"M0,2.3717082451262845L-2.7386127875258306,-2.3717082451262845L2.7386127875258306,-2.3717082451262845Z\" style=\"fill: rgb(120, 28, 109); stroke-width: 2; opacity: 0.7;\"></path><path transform=\"translate(72,234.66666666666666)\" d=\"M0,2.3717082451262845L-2.7386127875258306,-2.3717082451262845L2.7386127875258306,-2.3717082451262845Z\" style=\"fill: rgb(120, 28, 109); stroke-width: 2; opacity: 0.7;\"></path><path transform=\"translate(74,233.77777777777777)\" d=\"M0,2.3717082451262845L-2.7386127875258306,-2.3717082451262845L2.7386127875258306,-2.3717082451262845Z\" style=\"fill: rgb(120, 28, 109); stroke-width: 2; opacity: 0.7;\"></path><path transform=\"translate(76,235.55555555555557)\" d=\"M0,2.3717082451262845L-2.7386127875258306,-2.3717082451262845L2.7386127875258306,-2.3717082451262845Z\" style=\"fill: rgb(120, 28, 109); stroke-width: 2; opacity: 0.7;\"></path><path transform=\"translate(78,232)\" d=\"M0,2.3717082451262845L-2.7386127875258306,-2.3717082451262845L2.7386127875258306,-2.3717082451262845Z\" style=\"fill: rgb(120, 28, 109); stroke-width: 2; opacity: 0.7;\"></path><path transform=\"translate(80,231.11111111111111)\" d=\"M0,2.3717082451262845L-2.7386127875258306,-2.3717082451262845L2.7386127875258306,-2.3717082451262845Z\" style=\"fill: rgb(120, 28, 109); stroke-width: 2; opacity: 0.7;\"></path><path transform=\"translate(82,232.88888888888889)\" d=\"M0,2.3717082451262845L-2.7386127875258306,-2.3717082451262845L2.7386127875258306,-2.3717082451262845Z\" style=\"fill: rgb(120, 28, 109); stroke-width: 2; opacity: 0.7;\"></path><path transform=\"translate(84.00000000000001,237.33333333333334)\" d=\"M0,2.3717082451262845L-2.7386127875258306,-2.3717082451262845L2.7386127875258306,-2.3717082451262845Z\" style=\"fill: rgb(120, 28, 109); stroke-width: 2; opacity: 0.7;\"></path><path transform=\"translate(86,236.44444444444443)\" d=\"M0,2.3717082451262845L-2.7386127875258306,-2.3717082451262845L2.7386127875258306,-2.3717082451262845Z\" style=\"fill: rgb(120, 28, 109); stroke-width: 2; opacity: 0.7;\"></path><path transform=\"translate(88,238.22222222222223)\" d=\"M0,2.3717082451262845L-2.7386127875258306,-2.3717082451262845L2.7386127875258306,-2.3717082451262845Z\" style=\"fill: rgb(120, 28, 109); stroke-width: 2; opacity: 0.7;\"></path><path transform=\"translate(90,250.66666666666666)\" d=\"M0,2.3717082451262845L-2.7386127875258306,-2.3717082451262845L2.7386127875258306,-2.3717082451262845Z\" style=\"fill: rgb(120, 28, 109); stroke-width: 2; opacity: 0.7;\"></path><path transform=\"translate(92,249.7777777777778)\" d=\"M0,2.3717082451262845L-2.7386127875258306,-2.3717082451262845L2.7386127875258306,-2.3717082451262845Z\" style=\"fill: rgb(120, 28, 109); stroke-width: 2; opacity: 0.7;\"></path><path transform=\"translate(94,251.55555555555554)\" d=\"M0,2.3717082451262845L-2.7386127875258306,-2.3717082451262845L2.7386127875258306,-2.3717082451262845Z\" style=\"fill: rgb(120, 28, 109); stroke-width: 2; opacity: 0.7;\"></path><path transform=\"translate(96,248)\" d=\"M0,2.3717082451262845L-2.7386127875258306,-2.3717082451262845L2.7386127875258306,-2.3717082451262845Z\" style=\"fill: rgb(120, 28, 109); stroke-width: 2; opacity: 0.7;\"></path><path transform=\"translate(98,247.11111111111111)\" d=\"M0,2.3717082451262845L-2.7386127875258306,-2.3717082451262845L2.7386127875258306,-2.3717082451262845Z\" style=\"fill: rgb(120, 28, 109); stroke-width: 2; opacity: 0.7;\"></path><path transform=\"translate(100,248.88888888888889)\" d=\"M0,2.3717082451262845L-2.7386127875258306,-2.3717082451262845L2.7386127875258306,-2.3717082451262845Z\" style=\"fill: rgb(120, 28, 109); stroke-width: 2; opacity: 0.7;\"></path><path transform=\"translate(102.00000000000001,253.33333333333334)\" d=\"M0,2.3717082451262845L-2.7386127875258306,-2.3717082451262845L2.7386127875258306,-2.3717082451262845Z\" style=\"fill: rgb(120, 28, 109); stroke-width: 2; opacity: 0.7;\"></path><path transform=\"translate(104,252.44444444444446)\" d=\"M0,2.3717082451262845L-2.7386127875258306,-2.3717082451262845L2.7386127875258306,-2.3717082451262845Z\" style=\"fill: rgb(120, 28, 109); stroke-width: 2; opacity: 0.7;\"></path><path transform=\"translate(106,254.22222222222223)\" d=\"M0,2.3717082451262845L-2.7386127875258306,-2.3717082451262845L2.7386127875258306,-2.3717082451262845Z\" style=\"fill: rgb(120, 28, 109); stroke-width: 2; opacity: 0.7;\"></path><path transform=\"translate(108,290.6666666666667)\" d=\"M0,2.3717082451262845L-2.7386127875258306,-2.3717082451262845L2.7386127875258306,-2.3717082451262845Z\" style=\"fill: rgb(120, 28, 109); stroke-width: 2; opacity: 0.7;\"></path><path transform=\"translate(109.99999999999999,289.77777777777777)\" d=\"M0,2.3717082451262845L-2.7386127875258306,-2.3717082451262845L2.7386127875258306,-2.3717082451262845Z\" style=\"fill: rgb(120, 28, 109); stroke-width: 2; opacity: 0.7;\"></path><path transform=\"translate(112,291.55555555555554)\" d=\"M0,2.3717082451262845L-2.7386127875258306,-2.3717082451262845L2.7386127875258306,-2.3717082451262845Z\" style=\"fill: rgb(120, 28, 109); stroke-width: 2; opacity: 0.7;\"></path><path transform=\"translate(114,288)\" d=\"M0,2.3717082451262845L-2.7386127875258306,-2.3717082451262845L2.7386127875258306,-2.3717082451262845Z\" style=\"fill: rgb(120, 28, 109); stroke-width: 2; opacity: 0.7;\"></path><path transform=\"translate(116,287.1111111111111)\" d=\"M0,2.3717082451262845L-2.7386127875258306,-2.3717082451262845L2.7386127875258306,-2.3717082451262845Z\" style=\"fill: rgb(120, 28, 109); stroke-width: 2; opacity: 0.7;\"></path><path transform=\"translate(118,288.8888888888889)\" d=\"M0,2.3717082451262845L-2.7386127875258306,-2.3717082451262845L2.7386127875258306,-2.3717082451262845Z\" style=\"fill: rgb(120, 28, 109); stroke-width: 2; opacity: 0.7;\"></path><path transform=\"translate(120,293.3333333333333)\" d=\"M0,2.3717082451262845L-2.7386127875258306,-2.3717082451262845L2.7386127875258306,-2.3717082451262845Z\" style=\"fill: rgb(120, 28, 109); stroke-width: 2; opacity: 0.7;\"></path><path transform=\"translate(122,292.44444444444446)\" d=\"M0,2.3717082451262845L-2.7386127875258306,-2.3717082451262845L2.7386127875258306,-2.3717082451262845Z\" style=\"fill: rgb(120, 28, 109); stroke-width: 2; opacity: 0.7;\"></path><path transform=\"translate(124,294.22222222222223)\" d=\"M0,2.3717082451262845L-2.7386127875258306,-2.3717082451262845L2.7386127875258306,-2.3717082451262845Z\" style=\"fill: rgb(120, 28, 109); stroke-width: 2; opacity: 0.7;\"></path><path transform=\"translate(126,282.6666666666667)\" d=\"M0,2.3717082451262845L-2.7386127875258306,-2.3717082451262845L2.7386127875258306,-2.3717082451262845Z\" style=\"fill: rgb(120, 28, 109); stroke-width: 2; opacity: 0.7;\"></path><path transform=\"translate(128,281.77777777777777)\" d=\"M0,2.3717082451262845L-2.7386127875258306,-2.3717082451262845L2.7386127875258306,-2.3717082451262845Z\" style=\"fill: rgb(120, 28, 109); stroke-width: 2; opacity: 0.7;\"></path><path transform=\"translate(130,283.55555555555554)\" d=\"M0,2.3717082451262845L-2.7386127875258306,-2.3717082451262845L2.7386127875258306,-2.3717082451262845Z\" style=\"fill: rgb(120, 28, 109); stroke-width: 2; opacity: 0.7;\"></path><path transform=\"translate(132,280)\" d=\"M0,2.3717082451262845L-2.7386127875258306,-2.3717082451262845L2.7386127875258306,-2.3717082451262845Z\" style=\"fill: rgb(120, 28, 109); stroke-width: 2; opacity: 0.7;\"></path><path transform=\"translate(134,279.1111111111111)\" d=\"M0,2.3717082451262845L-2.7386127875258306,-2.3717082451262845L2.7386127875258306,-2.3717082451262845Z\" style=\"fill: rgb(120, 28, 109); stroke-width: 2; opacity: 0.7;\"></path><path transform=\"translate(136,280.8888888888889)\" d=\"M0,2.3717082451262845L-2.7386127875258306,-2.3717082451262845L2.7386127875258306,-2.3717082451262845Z\" style=\"fill: rgb(120, 28, 109); stroke-width: 2; opacity: 0.7;\"></path><path transform=\"translate(138,285.3333333333333)\" d=\"M0,2.3717082451262845L-2.7386127875258306,-2.3717082451262845L2.7386127875258306,-2.3717082451262845Z\" style=\"fill: rgb(120, 28, 109); stroke-width: 2; opacity: 0.7;\"></path><path transform=\"translate(140,284.44444444444446)\" d=\"M0,2.3717082451262845L-2.7386127875258306,-2.3717082451262845L2.7386127875258306,-2.3717082451262845Z\" style=\"fill: rgb(120, 28, 109); stroke-width: 2; opacity: 0.7;\"></path><path transform=\"translate(142,286.22222222222223)\" d=\"M0,2.3717082451262845L-2.7386127875258306,-2.3717082451262845L2.7386127875258306,-2.3717082451262845Z\" style=\"fill: rgb(120, 28, 109); stroke-width: 2; opacity: 0.7;\"></path><path transform=\"translate(144,298.66666666666663)\" d=\"M0,2.3717082451262845L-2.7386127875258306,-2.3717082451262845L2.7386127875258306,-2.3717082451262845Z\" style=\"fill: rgb(120, 28, 109); stroke-width: 2; opacity: 0.7;\"></path><path transform=\"translate(146,297.77777777777777)\" d=\"M0,2.3717082451262845L-2.7386127875258306,-2.3717082451262845L2.7386127875258306,-2.3717082451262845Z\" style=\"fill: rgb(120, 28, 109); stroke-width: 2; opacity: 0.7;\"></path><path transform=\"translate(148,299.55555555555554)\" d=\"M0,2.3717082451262845L-2.7386127875258306,-2.3717082451262845L2.7386127875258306,-2.3717082451262845Z\" style=\"fill: rgb(120, 28, 109); stroke-width: 2; opacity: 0.7;\"></path><path transform=\"translate(150,296)\" d=\"M0,2.3717082451262845L-2.7386127875258306,-2.3717082451262845L2.7386127875258306,-2.3717082451262845Z\" style=\"fill: rgb(120, 28, 109); stroke-width: 2; opacity: 0.7;\"></path><path transform=\"translate(152,295.1111111111111)\" d=\"M0,2.3717082451262845L-2.7386127875258306,-2.3717082451262845L2.7386127875258306,-2.3717082451262845Z\" style=\"fill: rgb(120, 28, 109); stroke-width: 2; opacity: 0.7;\"></path><path transform=\"translate(154,296.8888888888889)\" d=\"M0,2.3717082451262845L-2.7386127875258306,-2.3717082451262845L2.7386127875258306,-2.3717082451262845Z\" style=\"fill: rgb(120, 28, 109); stroke-width: 2; opacity: 0.7;\"></path><path transform=\"translate(156,301.3333333333333)\" d=\"M0,2.3717082451262845L-2.7386127875258306,-2.3717082451262845L2.7386127875258306,-2.3717082451262845Z\" style=\"fill: rgb(120, 28, 109); stroke-width: 2; opacity: 0.7;\"></path><path transform=\"translate(157.99999999999997,300.44444444444446)\" d=\"M0,2.3717082451262845L-2.7386127875258306,-2.3717082451262845L2.7386127875258306,-2.3717082451262845Z\" style=\"fill: rgb(120, 28, 109); stroke-width: 2; opacity: 0.7;\"></path><path transform=\"translate(160,302.22222222222223)\" d=\"M0,2.3717082451262845L-2.7386127875258306,-2.3717082451262845L2.7386127875258306,-2.3717082451262845Z\" style=\"fill: rgb(120, 28, 109); stroke-width: 2; opacity: 0.7;\"></path><path transform=\"translate(162,194.66666666666669)\" d=\"M0,2.3717082451262845L-2.7386127875258306,-2.3717082451262845L2.7386127875258306,-2.3717082451262845Z\" style=\"fill: rgb(187, 55, 85); stroke-width: 2; opacity: 0.7;\"></path><path transform=\"translate(164,193.77777777777777)\" d=\"M0,2.3717082451262845L-2.7386127875258306,-2.3717082451262845L2.7386127875258306,-2.3717082451262845Z\" style=\"fill: rgb(187, 55, 85); stroke-width: 2; opacity: 0.7;\"></path><path transform=\"translate(166,195.55555555555557)\" d=\"M0,2.3717082451262845L-2.7386127875258306,-2.3717082451262845L2.7386127875258306,-2.3717082451262845Z\" style=\"fill: rgb(187, 55, 85); stroke-width: 2; opacity: 0.7;\"></path><path transform=\"translate(168.00000000000003,192)\" d=\"M0,2.3717082451262845L-2.7386127875258306,-2.3717082451262845L2.7386127875258306,-2.3717082451262845Z\" style=\"fill: rgb(187, 55, 85); stroke-width: 2; opacity: 0.7;\"></path><path transform=\"translate(170,191.1111111111111)\" d=\"M0,2.3717082451262845L-2.7386127875258306,-2.3717082451262845L2.7386127875258306,-2.3717082451262845Z\" style=\"fill: rgb(187, 55, 85); stroke-width: 2; opacity: 0.7;\"></path><path transform=\"translate(172,192.88888888888889)\" d=\"M0,2.3717082451262845L-2.7386127875258306,-2.3717082451262845L2.7386127875258306,-2.3717082451262845Z\" style=\"fill: rgb(187, 55, 85); stroke-width: 2; opacity: 0.7;\"></path><path transform=\"translate(174,197.33333333333331)\" d=\"M0,2.3717082451262845L-2.7386127875258306,-2.3717082451262845L2.7386127875258306,-2.3717082451262845Z\" style=\"fill: rgb(187, 55, 85); stroke-width: 2; opacity: 0.7;\"></path><path transform=\"translate(176,196.44444444444446)\" d=\"M0,2.3717082451262845L-2.7386127875258306,-2.3717082451262845L2.7386127875258306,-2.3717082451262845Z\" style=\"fill: rgb(187, 55, 85); stroke-width: 2; opacity: 0.7;\"></path><path transform=\"translate(178,198.2222222222222)\" d=\"M0,2.3717082451262845L-2.7386127875258306,-2.3717082451262845L2.7386127875258306,-2.3717082451262845Z\" style=\"fill: rgb(187, 55, 85); stroke-width: 2; opacity: 0.7;\"></path><path transform=\"translate(180,186.66666666666666)\" d=\"M0,2.3717082451262845L-2.7386127875258306,-2.3717082451262845L2.7386127875258306,-2.3717082451262845Z\" style=\"fill: rgb(187, 55, 85); stroke-width: 2; opacity: 0.7;\"></path><path transform=\"translate(182,185.77777777777777)\" d=\"M0,2.3717082451262845L-2.7386127875258306,-2.3717082451262845L2.7386127875258306,-2.3717082451262845Z\" style=\"fill: rgb(187, 55, 85); stroke-width: 2; opacity: 0.7;\"></path><path transform=\"translate(184,187.55555555555557)\" d=\"M0,2.3717082451262845L-2.7386127875258306,-2.3717082451262845L2.7386127875258306,-2.3717082451262845Z\" style=\"fill: rgb(187, 55, 85); stroke-width: 2; opacity: 0.7;\"></path><path transform=\"translate(186,184)\" d=\"M0,2.3717082451262845L-2.7386127875258306,-2.3717082451262845L2.7386127875258306,-2.3717082451262845Z\" style=\"fill: rgb(187, 55, 85); stroke-width: 2; opacity: 0.7;\"></path><path transform=\"translate(188,183.1111111111111)\" d=\"M0,2.3717082451262845L-2.7386127875258306,-2.3717082451262845L2.7386127875258306,-2.3717082451262845Z\" style=\"fill: rgb(187, 55, 85); stroke-width: 2; opacity: 0.7;\"></path><path transform=\"translate(190,184.88888888888889)\" d=\"M0,2.3717082451262845L-2.7386127875258306,-2.3717082451262845L2.7386127875258306,-2.3717082451262845Z\" style=\"fill: rgb(187, 55, 85); stroke-width: 2; opacity: 0.7;\"></path><path transform=\"translate(192,189.33333333333334)\" d=\"M0,2.3717082451262845L-2.7386127875258306,-2.3717082451262845L2.7386127875258306,-2.3717082451262845Z\" style=\"fill: rgb(187, 55, 85); stroke-width: 2; opacity: 0.7;\"></path><path transform=\"translate(193.99999999999997,188.44444444444446)\" d=\"M0,2.3717082451262845L-2.7386127875258306,-2.3717082451262845L2.7386127875258306,-2.3717082451262845Z\" style=\"fill: rgb(187, 55, 85); stroke-width: 2; opacity: 0.7;\"></path><path transform=\"translate(196,190.2222222222222)\" d=\"M0,2.3717082451262845L-2.7386127875258306,-2.3717082451262845L2.7386127875258306,-2.3717082451262845Z\" style=\"fill: rgb(187, 55, 85); stroke-width: 2; opacity: 0.7;\"></path><path transform=\"translate(198,202.66666666666666)\" d=\"M0,2.3717082451262845L-2.7386127875258306,-2.3717082451262845L2.7386127875258306,-2.3717082451262845Z\" style=\"fill: rgb(187, 55, 85); stroke-width: 2; opacity: 0.7;\"></path><path transform=\"translate(200,201.77777777777777)\" d=\"M0,2.3717082451262845L-2.7386127875258306,-2.3717082451262845L2.7386127875258306,-2.3717082451262845Z\" style=\"fill: rgb(187, 55, 85); stroke-width: 2; opacity: 0.7;\"></path><path transform=\"translate(202,203.55555555555554)\" d=\"M0,2.3717082451262845L-2.7386127875258306,-2.3717082451262845L2.7386127875258306,-2.3717082451262845Z\" style=\"fill: rgb(187, 55, 85); stroke-width: 2; opacity: 0.7;\"></path><path transform=\"translate(204.00000000000003,200)\" d=\"M0,2.3717082451262845L-2.7386127875258306,-2.3717082451262845L2.7386127875258306,-2.3717082451262845Z\" style=\"fill: rgb(187, 55, 85); stroke-width: 2; opacity: 0.7;\"></path><path transform=\"translate(206,199.11111111111111)\" d=\"M0,2.3717082451262845L-2.7386127875258306,-2.3717082451262845L2.7386127875258306,-2.3717082451262845Z\" style=\"fill: rgb(187, 55, 85); stroke-width: 2; opacity: 0.7;\"></path><path transform=\"translate(208,200.88888888888889)\" d=\"M0,2.3717082451262845L-2.7386127875258306,-2.3717082451262845L2.7386127875258306,-2.3717082451262845Z\" style=\"fill: rgb(187, 55, 85); stroke-width: 2; opacity: 0.7;\"></path><path transform=\"translate(210,205.33333333333331)\" d=\"M0,2.3717082451262845L-2.7386127875258306,-2.3717082451262845L2.7386127875258306,-2.3717082451262845Z\" style=\"fill: rgb(187, 55, 85); stroke-width: 2; opacity: 0.7;\"></path><path transform=\"translate(212,204.44444444444446)\" d=\"M0,2.3717082451262845L-2.7386127875258306,-2.3717082451262845L2.7386127875258306,-2.3717082451262845Z\" style=\"fill: rgb(187, 55, 85); stroke-width: 2; opacity: 0.7;\"></path><path transform=\"translate(214,206.22222222222223)\" d=\"M0,2.3717082451262845L-2.7386127875258306,-2.3717082451262845L2.7386127875258306,-2.3717082451262845Z\" style=\"fill: rgb(187, 55, 85); stroke-width: 2; opacity: 0.7;\"></path><path transform=\"translate(216,170.66666666666666)\" d=\"M0,2.3717082451262845L-2.7386127875258306,-2.3717082451262845L2.7386127875258306,-2.3717082451262845Z\" style=\"fill: rgb(187, 55, 85); stroke-width: 2; opacity: 0.7;\"></path><path transform=\"translate(218,169.77777777777777)\" d=\"M0,2.3717082451262845L-2.7386127875258306,-2.3717082451262845L2.7386127875258306,-2.3717082451262845Z\" style=\"fill: rgb(187, 55, 85); stroke-width: 2; opacity: 0.7;\"></path><path transform=\"translate(219.99999999999997,171.55555555555554)\" d=\"M0,2.3717082451262845L-2.7386127875258306,-2.3717082451262845L2.7386127875258306,-2.3717082451262845Z\" style=\"fill: rgb(187, 55, 85); stroke-width: 2; opacity: 0.7;\"></path><path transform=\"translate(222,168.00000000000003)\" d=\"M0,2.3717082451262845L-2.7386127875258306,-2.3717082451262845L2.7386127875258306,-2.3717082451262845Z\" style=\"fill: rgb(187, 55, 85); stroke-width: 2; opacity: 0.7;\"></path><path transform=\"translate(224,167.11111111111111)\" d=\"M0,2.3717082451262845L-2.7386127875258306,-2.3717082451262845L2.7386127875258306,-2.3717082451262845Z\" style=\"fill: rgb(187, 55, 85); stroke-width: 2; opacity: 0.7;\"></path><path transform=\"translate(226,168.8888888888889)\" d=\"M0,2.3717082451262845L-2.7386127875258306,-2.3717082451262845L2.7386127875258306,-2.3717082451262845Z\" style=\"fill: rgb(187, 55, 85); stroke-width: 2; opacity: 0.7;\"></path><path transform=\"translate(228,173.33333333333334)\" d=\"M0,2.3717082451262845L-2.7386127875258306,-2.3717082451262845L2.7386127875258306,-2.3717082451262845Z\" style=\"fill: rgb(187, 55, 85); stroke-width: 2; opacity: 0.7;\"></path><path transform=\"translate(230.00000000000003,172.44444444444446)\" d=\"M0,2.3717082451262845L-2.7386127875258306,-2.3717082451262845L2.7386127875258306,-2.3717082451262845Z\" style=\"fill: rgb(187, 55, 85); stroke-width: 2; opacity: 0.7;\"></path><path transform=\"translate(232,174.22222222222223)\" d=\"M0,2.3717082451262845L-2.7386127875258306,-2.3717082451262845L2.7386127875258306,-2.3717082451262845Z\" style=\"fill: rgb(187, 55, 85); stroke-width: 2; opacity: 0.7;\"></path><path transform=\"translate(234,162.66666666666666)\" d=\"M0,2.3717082451262845L-2.7386127875258306,-2.3717082451262845L2.7386127875258306,-2.3717082451262845Z\" style=\"fill: rgb(187, 55, 85); stroke-width: 2; opacity: 0.7;\"></path><path transform=\"translate(236,161.7777777777778)\" d=\"M0,2.3717082451262845L-2.7386127875258306,-2.3717082451262845L2.7386127875258306,-2.3717082451262845Z\" style=\"fill: rgb(187, 55, 85); stroke-width: 2; opacity: 0.7;\"></path><path transform=\"translate(238,163.55555555555554)\" d=\"M0,2.3717082451262845L-2.7386127875258306,-2.3717082451262845L2.7386127875258306,-2.3717082451262845Z\" style=\"fill: rgb(187, 55, 85); stroke-width: 2; opacity: 0.7;\"></path><path transform=\"translate(240,160)\" d=\"M0,2.3717082451262845L-2.7386127875258306,-2.3717082451262845L2.7386127875258306,-2.3717082451262845Z\" style=\"fill: rgb(187, 55, 85); stroke-width: 2; opacity: 0.7;\"></path><path transform=\"translate(242,159.11111111111111)\" d=\"M0,2.3717082451262845L-2.7386127875258306,-2.3717082451262845L2.7386127875258306,-2.3717082451262845Z\" style=\"fill: rgb(187, 55, 85); stroke-width: 2; opacity: 0.7;\"></path><path transform=\"translate(244,160.8888888888889)\" d=\"M0,2.3717082451262845L-2.7386127875258306,-2.3717082451262845L2.7386127875258306,-2.3717082451262845Z\" style=\"fill: rgb(187, 55, 85); stroke-width: 2; opacity: 0.7;\"></path><path transform=\"translate(245.99999999999997,165.33333333333334)\" d=\"M0,2.3717082451262845L-2.7386127875258306,-2.3717082451262845L2.7386127875258306,-2.3717082451262845Z\" style=\"fill: rgb(187, 55, 85); stroke-width: 2; opacity: 0.7;\"></path><path transform=\"translate(248,164.44444444444443)\" d=\"M0,2.3717082451262845L-2.7386127875258306,-2.3717082451262845L2.7386127875258306,-2.3717082451262845Z\" style=\"fill: rgb(187, 55, 85); stroke-width: 2; opacity: 0.7;\"></path><path transform=\"translate(250,166.22222222222223)\" d=\"M0,2.3717082451262845L-2.7386127875258306,-2.3717082451262845L2.7386127875258306,-2.3717082451262845Z\" style=\"fill: rgb(187, 55, 85); stroke-width: 2; opacity: 0.7;\"></path><path transform=\"translate(252,178.66666666666666)\" d=\"M0,2.3717082451262845L-2.7386127875258306,-2.3717082451262845L2.7386127875258306,-2.3717082451262845Z\" style=\"fill: rgb(187, 55, 85); stroke-width: 2; opacity: 0.7;\"></path><path transform=\"translate(254,177.77777777777777)\" d=\"M0,2.3717082451262845L-2.7386127875258306,-2.3717082451262845L2.7386127875258306,-2.3717082451262845Z\" style=\"fill: rgb(187, 55, 85); stroke-width: 2; opacity: 0.7;\"></path><path transform=\"translate(256,179.55555555555554)\" d=\"M0,2.3717082451262845L-2.7386127875258306,-2.3717082451262845L2.7386127875258306,-2.3717082451262845Z\" style=\"fill: rgb(187, 55, 85); stroke-width: 2; opacity: 0.7;\"></path><path transform=\"translate(258,175.99999999999997)\" d=\"M0,2.3717082451262845L-2.7386127875258306,-2.3717082451262845L2.7386127875258306,-2.3717082451262845Z\" style=\"fill: rgb(187, 55, 85); stroke-width: 2; opacity: 0.7;\"></path><path transform=\"translate(260,175.11111111111114)\" d=\"M0,2.3717082451262845L-2.7386127875258306,-2.3717082451262845L2.7386127875258306,-2.3717082451262845Z\" style=\"fill: rgb(187, 55, 85); stroke-width: 2; opacity: 0.7;\"></path><path transform=\"translate(262,176.88888888888889)\" d=\"M0,2.3717082451262845L-2.7386127875258306,-2.3717082451262845L2.7386127875258306,-2.3717082451262845Z\" style=\"fill: rgb(187, 55, 85); stroke-width: 2; opacity: 0.7;\"></path><path transform=\"translate(264,181.33333333333334)\" d=\"M0,2.3717082451262845L-2.7386127875258306,-2.3717082451262845L2.7386127875258306,-2.3717082451262845Z\" style=\"fill: rgb(187, 55, 85); stroke-width: 2; opacity: 0.7;\"></path><path transform=\"translate(266,180.44444444444446)\" d=\"M0,2.3717082451262845L-2.7386127875258306,-2.3717082451262845L2.7386127875258306,-2.3717082451262845Z\" style=\"fill: rgb(187, 55, 85); stroke-width: 2; opacity: 0.7;\"></path><path transform=\"translate(268,182.22222222222223)\" d=\"M0,2.3717082451262845L-2.7386127875258306,-2.3717082451262845L2.7386127875258306,-2.3717082451262845Z\" style=\"fill: rgb(187, 55, 85); stroke-width: 2; opacity: 0.7;\"></path><path transform=\"translate(270,218.66666666666669)\" d=\"M0,2.3717082451262845L-2.7386127875258306,-2.3717082451262845L2.7386127875258306,-2.3717082451262845Z\" style=\"fill: rgb(187, 55, 85); stroke-width: 2; opacity: 0.7;\"></path><path transform=\"translate(272,217.77777777777777)\" d=\"M0,2.3717082451262845L-2.7386127875258306,-2.3717082451262845L2.7386127875258306,-2.3717082451262845Z\" style=\"fill: rgb(187, 55, 85); stroke-width: 2; opacity: 0.7;\"></path><path transform=\"translate(274,219.55555555555554)\" d=\"M0,2.3717082451262845L-2.7386127875258306,-2.3717082451262845L2.7386127875258306,-2.3717082451262845Z\" style=\"fill: rgb(187, 55, 85); stroke-width: 2; opacity: 0.7;\"></path><path transform=\"translate(276,216)\" d=\"M0,2.3717082451262845L-2.7386127875258306,-2.3717082451262845L2.7386127875258306,-2.3717082451262845Z\" style=\"fill: rgb(187, 55, 85); stroke-width: 2; opacity: 0.7;\"></path><path transform=\"translate(278,215.11111111111111)\" d=\"M0,2.3717082451262845L-2.7386127875258306,-2.3717082451262845L2.7386127875258306,-2.3717082451262845Z\" style=\"fill: rgb(187, 55, 85); stroke-width: 2; opacity: 0.7;\"></path><path transform=\"translate(280,216.88888888888889)\" d=\"M0,2.3717082451262845L-2.7386127875258306,-2.3717082451262845L2.7386127875258306,-2.3717082451262845Z\" style=\"fill: rgb(187, 55, 85); stroke-width: 2; opacity: 0.7;\"></path><path transform=\"translate(282,221.33333333333334)\" d=\"M0,2.3717082451262845L-2.7386127875258306,-2.3717082451262845L2.7386127875258306,-2.3717082451262845Z\" style=\"fill: rgb(187, 55, 85); stroke-width: 2; opacity: 0.7;\"></path><path transform=\"translate(284,220.44444444444446)\" d=\"M0,2.3717082451262845L-2.7386127875258306,-2.3717082451262845L2.7386127875258306,-2.3717082451262845Z\" style=\"fill: rgb(187, 55, 85); stroke-width: 2; opacity: 0.7;\"></path><path transform=\"translate(286,222.22222222222223)\" d=\"M0,2.3717082451262845L-2.7386127875258306,-2.3717082451262845L2.7386127875258306,-2.3717082451262845Z\" style=\"fill: rgb(187, 55, 85); stroke-width: 2; opacity: 0.7;\"></path><path transform=\"translate(288,210.66666666666666)\" d=\"M0,2.3717082451262845L-2.7386127875258306,-2.3717082451262845L2.7386127875258306,-2.3717082451262845Z\" style=\"fill: rgb(187, 55, 85); stroke-width: 2; opacity: 0.7;\"></path><path transform=\"translate(290,209.77777777777777)\" d=\"M0,2.3717082451262845L-2.7386127875258306,-2.3717082451262845L2.7386127875258306,-2.3717082451262845Z\" style=\"fill: rgb(187, 55, 85); stroke-width: 2; opacity: 0.7;\"></path><path transform=\"translate(292,211.55555555555557)\" d=\"M0,2.3717082451262845L-2.7386127875258306,-2.3717082451262845L2.7386127875258306,-2.3717082451262845Z\" style=\"fill: rgb(187, 55, 85); stroke-width: 2; opacity: 0.7;\"></path><path transform=\"translate(294,208)\" d=\"M0,2.3717082451262845L-2.7386127875258306,-2.3717082451262845L2.7386127875258306,-2.3717082451262845Z\" style=\"fill: rgb(187, 55, 85); stroke-width: 2; opacity: 0.7;\"></path><path transform=\"translate(296,207.11111111111111)\" d=\"M0,2.3717082451262845L-2.7386127875258306,-2.3717082451262845L2.7386127875258306,-2.3717082451262845Z\" style=\"fill: rgb(187, 55, 85); stroke-width: 2; opacity: 0.7;\"></path><path transform=\"translate(298,208.88888888888889)\" d=\"M0,2.3717082451262845L-2.7386127875258306,-2.3717082451262845L2.7386127875258306,-2.3717082451262845Z\" style=\"fill: rgb(187, 55, 85); stroke-width: 2; opacity: 0.7;\"></path><path transform=\"translate(300,213.33333333333334)\" d=\"M0,2.3717082451262845L-2.7386127875258306,-2.3717082451262845L2.7386127875258306,-2.3717082451262845Z\" style=\"fill: rgb(187, 55, 85); stroke-width: 2; opacity: 0.7;\"></path><path transform=\"translate(302,212.44444444444443)\" d=\"M0,2.3717082451262845L-2.7386127875258306,-2.3717082451262845L2.7386127875258306,-2.3717082451262845Z\" style=\"fill: rgb(187, 55, 85); stroke-width: 2; opacity: 0.7;\"></path><path transform=\"translate(304,214.22222222222223)\" d=\"M0,2.3717082451262845L-2.7386127875258306,-2.3717082451262845L2.7386127875258306,-2.3717082451262845Z\" style=\"fill: rgb(187, 55, 85); stroke-width: 2; opacity: 0.7;\"></path><path transform=\"translate(306,226.66666666666666)\" d=\"M0,2.3717082451262845L-2.7386127875258306,-2.3717082451262845L2.7386127875258306,-2.3717082451262845Z\" style=\"fill: rgb(187, 55, 85); stroke-width: 2; opacity: 0.7;\"></path><path transform=\"translate(308,225.7777777777778)\" d=\"M0,2.3717082451262845L-2.7386127875258306,-2.3717082451262845L2.7386127875258306,-2.3717082451262845Z\" style=\"fill: rgb(187, 55, 85); stroke-width: 2; opacity: 0.7;\"></path><path transform=\"translate(310.00000000000006,227.55555555555554)\" d=\"M0,2.3717082451262845L-2.7386127875258306,-2.3717082451262845L2.7386127875258306,-2.3717082451262845Z\" style=\"fill: rgb(187, 55, 85); stroke-width: 2; opacity: 0.7;\"></path><path transform=\"translate(312,224)\" d=\"M0,2.3717082451262845L-2.7386127875258306,-2.3717082451262845L2.7386127875258306,-2.3717082451262845Z\" style=\"fill: rgb(187, 55, 85); stroke-width: 2; opacity: 0.7;\"></path><path transform=\"translate(314,223.11111111111111)\" d=\"M0,2.3717082451262845L-2.7386127875258306,-2.3717082451262845L2.7386127875258306,-2.3717082451262845Z\" style=\"fill: rgb(187, 55, 85); stroke-width: 2; opacity: 0.7;\"></path><path transform=\"translate(315.99999999999994,224.88888888888889)\" d=\"M0,2.3717082451262845L-2.7386127875258306,-2.3717082451262845L2.7386127875258306,-2.3717082451262845Z\" style=\"fill: rgb(187, 55, 85); stroke-width: 2; opacity: 0.7;\"></path><path transform=\"translate(318,229.33333333333331)\" d=\"M0,2.3717082451262845L-2.7386127875258306,-2.3717082451262845L2.7386127875258306,-2.3717082451262845Z\" style=\"fill: rgb(187, 55, 85); stroke-width: 2; opacity: 0.7;\"></path><path transform=\"translate(320,228.44444444444446)\" d=\"M0,2.3717082451262845L-2.7386127875258306,-2.3717082451262845L2.7386127875258306,-2.3717082451262845Z\" style=\"fill: rgb(187, 55, 85); stroke-width: 2; opacity: 0.7;\"></path><path transform=\"translate(322,230.22222222222223)\" d=\"M0,2.3717082451262845L-2.7386127875258306,-2.3717082451262845L2.7386127875258306,-2.3717082451262845Z\" style=\"fill: rgb(187, 55, 85); stroke-width: 2; opacity: 0.7;\"></path><path transform=\"translate(324,338.6666666666667)\" d=\"M0,2.3717082451262845L-2.7386127875258306,-2.3717082451262845L2.7386127875258306,-2.3717082451262845Z\" style=\"fill: rgb(51, 10, 95); stroke-width: 2; opacity: 0.7;\"></path><path transform=\"translate(326,337.77777777777777)\" d=\"M0,2.3717082451262845L-2.7386127875258306,-2.3717082451262845L2.7386127875258306,-2.3717082451262845Z\" style=\"fill: rgb(51, 10, 95); stroke-width: 2; opacity: 0.7;\"></path><path transform=\"translate(328,339.55555555555554)\" d=\"M0,2.3717082451262845L-2.7386127875258306,-2.3717082451262845L2.7386127875258306,-2.3717082451262845Z\" style=\"fill: rgb(51, 10, 95); stroke-width: 2; opacity: 0.7;\"></path><path transform=\"translate(330,336)\" d=\"M0,2.3717082451262845L-2.7386127875258306,-2.3717082451262845L2.7386127875258306,-2.3717082451262845Z\" style=\"fill: rgb(51, 10, 95); stroke-width: 2; opacity: 0.7;\"></path><path transform=\"translate(332,335.1111111111111)\" d=\"M0,2.3717082451262845L-2.7386127875258306,-2.3717082451262845L2.7386127875258306,-2.3717082451262845Z\" style=\"fill: rgb(51, 10, 95); stroke-width: 2; opacity: 0.7;\"></path><path transform=\"translate(334,336.8888888888889)\" d=\"M0,2.3717082451262845L-2.7386127875258306,-2.3717082451262845L2.7386127875258306,-2.3717082451262845Z\" style=\"fill: rgb(51, 10, 95); stroke-width: 2; opacity: 0.7;\"></path><path transform=\"translate(336.00000000000006,341.3333333333333)\" d=\"M0,2.3717082451262845L-2.7386127875258306,-2.3717082451262845L2.7386127875258306,-2.3717082451262845Z\" style=\"fill: rgb(51, 10, 95); stroke-width: 2; opacity: 0.7;\"></path><path transform=\"translate(338,340.44444444444446)\" d=\"M0,2.3717082451262845L-2.7386127875258306,-2.3717082451262845L2.7386127875258306,-2.3717082451262845Z\" style=\"fill: rgb(51, 10, 95); stroke-width: 2; opacity: 0.7;\"></path><path transform=\"translate(340,342.22222222222223)\" d=\"M0,2.3717082451262845L-2.7386127875258306,-2.3717082451262845L2.7386127875258306,-2.3717082451262845Z\" style=\"fill: rgb(51, 10, 95); stroke-width: 2; opacity: 0.7;\"></path><path transform=\"translate(341.99999999999994,330.66666666666663)\" d=\"M0,2.3717082451262845L-2.7386127875258306,-2.3717082451262845L2.7386127875258306,-2.3717082451262845Z\" style=\"fill: rgb(51, 10, 95); stroke-width: 2; opacity: 0.7;\"></path><path transform=\"translate(344,329.77777777777777)\" d=\"M0,2.3717082451262845L-2.7386127875258306,-2.3717082451262845L2.7386127875258306,-2.3717082451262845Z\" style=\"fill: rgb(51, 10, 95); stroke-width: 2; opacity: 0.7;\"></path><path transform=\"translate(346,331.55555555555554)\" d=\"M0,2.3717082451262845L-2.7386127875258306,-2.3717082451262845L2.7386127875258306,-2.3717082451262845Z\" style=\"fill: rgb(51, 10, 95); stroke-width: 2; opacity: 0.7;\"></path><path transform=\"translate(348,328)\" d=\"M0,2.3717082451262845L-2.7386127875258306,-2.3717082451262845L2.7386127875258306,-2.3717082451262845Z\" style=\"fill: rgb(51, 10, 95); stroke-width: 2; opacity: 0.7;\"></path><path transform=\"translate(350,327.1111111111111)\" d=\"M0,2.3717082451262845L-2.7386127875258306,-2.3717082451262845L2.7386127875258306,-2.3717082451262845Z\" style=\"fill: rgb(51, 10, 95); stroke-width: 2; opacity: 0.7;\"></path><path transform=\"translate(352,328.8888888888889)\" d=\"M0,2.3717082451262845L-2.7386127875258306,-2.3717082451262845L2.7386127875258306,-2.3717082451262845Z\" style=\"fill: rgb(51, 10, 95); stroke-width: 2; opacity: 0.7;\"></path><path transform=\"translate(354,333.33333333333337)\" d=\"M0,2.3717082451262845L-2.7386127875258306,-2.3717082451262845L2.7386127875258306,-2.3717082451262845Z\" style=\"fill: rgb(51, 10, 95); stroke-width: 2; opacity: 0.7;\"></path><path transform=\"translate(356,332.44444444444446)\" d=\"M0,2.3717082451262845L-2.7386127875258306,-2.3717082451262845L2.7386127875258306,-2.3717082451262845Z\" style=\"fill: rgb(51, 10, 95); stroke-width: 2; opacity: 0.7;\"></path><path transform=\"translate(358,334.22222222222223)\" d=\"M0,2.3717082451262845L-2.7386127875258306,-2.3717082451262845L2.7386127875258306,-2.3717082451262845Z\" style=\"fill: rgb(51, 10, 95); stroke-width: 2; opacity: 0.7;\"></path><path transform=\"translate(360,346.6666666666667)\" d=\"M0,2.3717082451262845L-2.7386127875258306,-2.3717082451262845L2.7386127875258306,-2.3717082451262845Z\" style=\"fill: rgb(51, 10, 95); stroke-width: 2; opacity: 0.7;\"></path><path transform=\"translate(362.00000000000006,345.77777777777777)\" d=\"M0,2.3717082451262845L-2.7386127875258306,-2.3717082451262845L2.7386127875258306,-2.3717082451262845Z\" style=\"fill: rgb(51, 10, 95); stroke-width: 2; opacity: 0.7;\"></path><path transform=\"translate(364,347.55555555555554)\" d=\"M0,2.3717082451262845L-2.7386127875258306,-2.3717082451262845L2.7386127875258306,-2.3717082451262845Z\" style=\"fill: rgb(51, 10, 95); stroke-width: 2; opacity: 0.7;\"></path><path transform=\"translate(366,344)\" d=\"M0,2.3717082451262845L-2.7386127875258306,-2.3717082451262845L2.7386127875258306,-2.3717082451262845Z\" style=\"fill: rgb(51, 10, 95); stroke-width: 2; opacity: 0.7;\"></path><path transform=\"translate(368,343.1111111111111)\" d=\"M0,2.3717082451262845L-2.7386127875258306,-2.3717082451262845L2.7386127875258306,-2.3717082451262845Z\" style=\"fill: rgb(51, 10, 95); stroke-width: 2; opacity: 0.7;\"></path><path transform=\"translate(370,344.8888888888889)\" d=\"M0,2.3717082451262845L-2.7386127875258306,-2.3717082451262845L2.7386127875258306,-2.3717082451262845Z\" style=\"fill: rgb(51, 10, 95); stroke-width: 2; opacity: 0.7;\"></path><path transform=\"translate(372,349.3333333333333)\" d=\"M0,2.3717082451262845L-2.7386127875258306,-2.3717082451262845L2.7386127875258306,-2.3717082451262845Z\" style=\"fill: rgb(51, 10, 95); stroke-width: 2; opacity: 0.7;\"></path><path transform=\"translate(374,348.44444444444446)\" d=\"M0,2.3717082451262845L-2.7386127875258306,-2.3717082451262845L2.7386127875258306,-2.3717082451262845Z\" style=\"fill: rgb(51, 10, 95); stroke-width: 2; opacity: 0.7;\"></path><path transform=\"translate(376,350.22222222222223)\" d=\"M0,2.3717082451262845L-2.7386127875258306,-2.3717082451262845L2.7386127875258306,-2.3717082451262845Z\" style=\"fill: rgb(51, 10, 95); stroke-width: 2; opacity: 0.7;\"></path><path transform=\"translate(378,314.66666666666663)\" d=\"M0,2.3717082451262845L-2.7386127875258306,-2.3717082451262845L2.7386127875258306,-2.3717082451262845Z\" style=\"fill: rgb(51, 10, 95); stroke-width: 2; opacity: 0.7;\"></path><path transform=\"translate(380,313.77777777777777)\" d=\"M0,2.3717082451262845L-2.7386127875258306,-2.3717082451262845L2.7386127875258306,-2.3717082451262845Z\" style=\"fill: rgb(51, 10, 95); stroke-width: 2; opacity: 0.7;\"></path><path transform=\"translate(382,315.55555555555554)\" d=\"M0,2.3717082451262845L-2.7386127875258306,-2.3717082451262845L2.7386127875258306,-2.3717082451262845Z\" style=\"fill: rgb(51, 10, 95); stroke-width: 2; opacity: 0.7;\"></path><path transform=\"translate(384,312)\" d=\"M0,2.3717082451262845L-2.7386127875258306,-2.3717082451262845L2.7386127875258306,-2.3717082451262845Z\" style=\"fill: rgb(51, 10, 95); stroke-width: 2; opacity: 0.7;\"></path><path transform=\"translate(386,311.1111111111111)\" d=\"M0,2.3717082451262845L-2.7386127875258306,-2.3717082451262845L2.7386127875258306,-2.3717082451262845Z\" style=\"fill: rgb(51, 10, 95); stroke-width: 2; opacity: 0.7;\"></path><path transform=\"translate(387.99999999999994,312.8888888888889)\" d=\"M0,2.3717082451262845L-2.7386127875258306,-2.3717082451262845L2.7386127875258306,-2.3717082451262845Z\" style=\"fill: rgb(51, 10, 95); stroke-width: 2; opacity: 0.7;\"></path><path transform=\"translate(390,317.3333333333333)\" d=\"M0,2.3717082451262845L-2.7386127875258306,-2.3717082451262845L2.7386127875258306,-2.3717082451262845Z\" style=\"fill: rgb(51, 10, 95); stroke-width: 2; opacity: 0.7;\"></path><path transform=\"translate(392,316.44444444444446)\" d=\"M0,2.3717082451262845L-2.7386127875258306,-2.3717082451262845L2.7386127875258306,-2.3717082451262845Z\" style=\"fill: rgb(51, 10, 95); stroke-width: 2; opacity: 0.7;\"></path><path transform=\"translate(394,318.22222222222223)\" d=\"M0,2.3717082451262845L-2.7386127875258306,-2.3717082451262845L2.7386127875258306,-2.3717082451262845Z\" style=\"fill: rgb(51, 10, 95); stroke-width: 2; opacity: 0.7;\"></path><path transform=\"translate(396,306.6666666666667)\" d=\"M0,2.3717082451262845L-2.7386127875258306,-2.3717082451262845L2.7386127875258306,-2.3717082451262845Z\" style=\"fill: rgb(51, 10, 95); stroke-width: 2; opacity: 0.7;\"></path><path transform=\"translate(398,305.77777777777777)\" d=\"M0,2.3717082451262845L-2.7386127875258306,-2.3717082451262845L2.7386127875258306,-2.3717082451262845Z\" style=\"fill: rgb(51, 10, 95); stroke-width: 2; opacity: 0.7;\"></path><path transform=\"translate(400,307.55555555555554)\" d=\"M0,2.3717082451262845L-2.7386127875258306,-2.3717082451262845L2.7386127875258306,-2.3717082451262845Z\" style=\"fill: rgb(51, 10, 95); stroke-width: 2; opacity: 0.7;\"></path><path transform=\"translate(402,304)\" d=\"M0,2.3717082451262845L-2.7386127875258306,-2.3717082451262845L2.7386127875258306,-2.3717082451262845Z\" style=\"fill: rgb(51, 10, 95); stroke-width: 2; opacity: 0.7;\"></path><path transform=\"translate(404,303.1111111111111)\" d=\"M0,2.3717082451262845L-2.7386127875258306,-2.3717082451262845L2.7386127875258306,-2.3717082451262845Z\" style=\"fill: rgb(51, 10, 95); stroke-width: 2; opacity: 0.7;\"></path><path transform=\"translate(406,304.8888888888889)\" d=\"M0,2.3717082451262845L-2.7386127875258306,-2.3717082451262845L2.7386127875258306,-2.3717082451262845Z\" style=\"fill: rgb(51, 10, 95); stroke-width: 2; opacity: 0.7;\"></path><path transform=\"translate(408.00000000000006,309.33333333333337)\" d=\"M0,2.3717082451262845L-2.7386127875258306,-2.3717082451262845L2.7386127875258306,-2.3717082451262845Z\" style=\"fill: rgb(51, 10, 95); stroke-width: 2; opacity: 0.7;\"></path><path transform=\"translate(410,308.44444444444446)\" d=\"M0,2.3717082451262845L-2.7386127875258306,-2.3717082451262845L2.7386127875258306,-2.3717082451262845Z\" style=\"fill: rgb(51, 10, 95); stroke-width: 2; opacity: 0.7;\"></path><path transform=\"translate(412,310.22222222222223)\" d=\"M0,2.3717082451262845L-2.7386127875258306,-2.3717082451262845L2.7386127875258306,-2.3717082451262845Z\" style=\"fill: rgb(51, 10, 95); stroke-width: 2; opacity: 0.7;\"></path><path transform=\"translate(413.99999999999994,322.6666666666667)\" d=\"M0,2.3717082451262845L-2.7386127875258306,-2.3717082451262845L2.7386127875258306,-2.3717082451262845Z\" style=\"fill: rgb(51, 10, 95); stroke-width: 2; opacity: 0.7;\"></path><path transform=\"translate(416,321.77777777777777)\" d=\"M0,2.3717082451262845L-2.7386127875258306,-2.3717082451262845L2.7386127875258306,-2.3717082451262845Z\" style=\"fill: rgb(51, 10, 95); stroke-width: 2; opacity: 0.7;\"></path><path transform=\"translate(418,323.55555555555554)\" d=\"M0,2.3717082451262845L-2.7386127875258306,-2.3717082451262845L2.7386127875258306,-2.3717082451262845Z\" style=\"fill: rgb(51, 10, 95); stroke-width: 2; opacity: 0.7;\"></path><path transform=\"translate(420,320)\" d=\"M0,2.3717082451262845L-2.7386127875258306,-2.3717082451262845L2.7386127875258306,-2.3717082451262845Z\" style=\"fill: rgb(51, 10, 95); stroke-width: 2; opacity: 0.7;\"></path><path transform=\"translate(422,319.1111111111111)\" d=\"M0,2.3717082451262845L-2.7386127875258306,-2.3717082451262845L2.7386127875258306,-2.3717082451262845Z\" style=\"fill: rgb(51, 10, 95); stroke-width: 2; opacity: 0.7;\"></path><path transform=\"translate(424,320.8888888888889)\" d=\"M0,2.3717082451262845L-2.7386127875258306,-2.3717082451262845L2.7386127875258306,-2.3717082451262845Z\" style=\"fill: rgb(51, 10, 95); stroke-width: 2; opacity: 0.7;\"></path><path transform=\"translate(426,325.3333333333333)\" d=\"M0,2.3717082451262845L-2.7386127875258306,-2.3717082451262845L2.7386127875258306,-2.3717082451262845Z\" style=\"fill: rgb(51, 10, 95); stroke-width: 2; opacity: 0.7;\"></path><path transform=\"translate(428,324.44444444444446)\" d=\"M0,2.3717082451262845L-2.7386127875258306,-2.3717082451262845L2.7386127875258306,-2.3717082451262845Z\" style=\"fill: rgb(51, 10, 95); stroke-width: 2; opacity: 0.7;\"></path><path transform=\"translate(430,326.22222222222223)\" d=\"M0,2.3717082451262845L-2.7386127875258306,-2.3717082451262845L2.7386127875258306,-2.3717082451262845Z\" style=\"fill: rgb(51, 10, 95); stroke-width: 2; opacity: 0.7;\"></path><path transform=\"translate(432,362.6666666666667)\" d=\"M0,2.3717082451262845L-2.7386127875258306,-2.3717082451262845L2.7386127875258306,-2.3717082451262845Z\" style=\"fill: rgb(51, 10, 95); stroke-width: 2; opacity: 0.7;\"></path><path transform=\"translate(434.00000000000006,361.77777777777777)\" d=\"M0,2.3717082451262845L-2.7386127875258306,-2.3717082451262845L2.7386127875258306,-2.3717082451262845Z\" style=\"fill: rgb(51, 10, 95); stroke-width: 2; opacity: 0.7;\"></path><path transform=\"translate(436,363.55555555555554)\" d=\"M0,2.3717082451262845L-2.7386127875258306,-2.3717082451262845L2.7386127875258306,-2.3717082451262845Z\" style=\"fill: rgb(51, 10, 95); stroke-width: 2; opacity: 0.7;\"></path><path transform=\"translate(438,360)\" d=\"M0,2.3717082451262845L-2.7386127875258306,-2.3717082451262845L2.7386127875258306,-2.3717082451262845Z\" style=\"fill: rgb(51, 10, 95); stroke-width: 2; opacity: 0.7;\"></path><path transform=\"translate(439.99999999999994,359.1111111111111)\" d=\"M0,2.3717082451262845L-2.7386127875258306,-2.3717082451262845L2.7386127875258306,-2.3717082451262845Z\" style=\"fill: rgb(51, 10, 95); stroke-width: 2; opacity: 0.7;\"></path><path transform=\"translate(442,360.8888888888889)\" d=\"M0,2.3717082451262845L-2.7386127875258306,-2.3717082451262845L2.7386127875258306,-2.3717082451262845Z\" style=\"fill: rgb(51, 10, 95); stroke-width: 2; opacity: 0.7;\"></path><path transform=\"translate(444,365.3333333333333)\" d=\"M0,2.3717082451262845L-2.7386127875258306,-2.3717082451262845L2.7386127875258306,-2.3717082451262845Z\" style=\"fill: rgb(51, 10, 95); stroke-width: 2; opacity: 0.7;\"></path><path transform=\"translate(446,364.44444444444446)\" d=\"M0,2.3717082451262845L-2.7386127875258306,-2.3717082451262845L2.7386127875258306,-2.3717082451262845Z\" style=\"fill: rgb(51, 10, 95); stroke-width: 2; opacity: 0.7;\"></path><path transform=\"translate(448,366.22222222222223)\" d=\"M0,2.3717082451262845L-2.7386127875258306,-2.3717082451262845L2.7386127875258306,-2.3717082451262845Z\" style=\"fill: rgb(51, 10, 95); stroke-width: 2; opacity: 0.7;\"></path><path transform=\"translate(450,354.6666666666667)\" d=\"M0,2.3717082451262845L-2.7386127875258306,-2.3717082451262845L2.7386127875258306,-2.3717082451262845Z\" style=\"fill: rgb(51, 10, 95); stroke-width: 2; opacity: 0.7;\"></path><path transform=\"translate(452,353.77777777777777)\" d=\"M0,2.3717082451262845L-2.7386127875258306,-2.3717082451262845L2.7386127875258306,-2.3717082451262845Z\" style=\"fill: rgb(51, 10, 95); stroke-width: 2; opacity: 0.7;\"></path><path transform=\"translate(454,355.55555555555554)\" d=\"M0,2.3717082451262845L-2.7386127875258306,-2.3717082451262845L2.7386127875258306,-2.3717082451262845Z\" style=\"fill: rgb(51, 10, 95); stroke-width: 2; opacity: 0.7;\"></path><path transform=\"translate(456,352)\" d=\"M0,2.3717082451262845L-2.7386127875258306,-2.3717082451262845L2.7386127875258306,-2.3717082451262845Z\" style=\"fill: rgb(51, 10, 95); stroke-width: 2; opacity: 0.7;\"></path><path transform=\"translate(458,351.1111111111111)\" d=\"M0,2.3717082451262845L-2.7386127875258306,-2.3717082451262845L2.7386127875258306,-2.3717082451262845Z\" style=\"fill: rgb(51, 10, 95); stroke-width: 2; opacity: 0.7;\"></path><path transform=\"translate(460.00000000000006,352.8888888888889)\" d=\"M0,2.3717082451262845L-2.7386127875258306,-2.3717082451262845L2.7386127875258306,-2.3717082451262845Z\" style=\"fill: rgb(51, 10, 95); stroke-width: 2; opacity: 0.7;\"></path><path transform=\"translate(462,357.3333333333333)\" d=\"M0,2.3717082451262845L-2.7386127875258306,-2.3717082451262845L2.7386127875258306,-2.3717082451262845Z\" style=\"fill: rgb(51, 10, 95); stroke-width: 2; opacity: 0.7;\"></path><path transform=\"translate(464,356.44444444444446)\" d=\"M0,2.3717082451262845L-2.7386127875258306,-2.3717082451262845L2.7386127875258306,-2.3717082451262845Z\" style=\"fill: rgb(51, 10, 95); stroke-width: 2; opacity: 0.7;\"></path><path transform=\"translate(465.99999999999994,358.22222222222223)\" d=\"M0,2.3717082451262845L-2.7386127875258306,-2.3717082451262845L2.7386127875258306,-2.3717082451262845Z\" style=\"fill: rgb(51, 10, 95); stroke-width: 2; opacity: 0.7;\"></path><path transform=\"translate(468,370.6666666666667)\" d=\"M0,2.3717082451262845L-2.7386127875258306,-2.3717082451262845L2.7386127875258306,-2.3717082451262845Z\" style=\"fill: rgb(51, 10, 95); stroke-width: 2; opacity: 0.7;\"></path><path transform=\"translate(470,369.77777777777777)\" d=\"M0,2.3717082451262845L-2.7386127875258306,-2.3717082451262845L2.7386127875258306,-2.3717082451262845Z\" style=\"fill: rgb(51, 10, 95); stroke-width: 2; opacity: 0.7;\"></path><path transform=\"translate(472,371.55555555555554)\" d=\"M0,2.3717082451262845L-2.7386127875258306,-2.3717082451262845L2.7386127875258306,-2.3717082451262845Z\" style=\"fill: rgb(51, 10, 95); stroke-width: 2; opacity: 0.7;\"></path><path transform=\"translate(474,368)\" d=\"M0,2.3717082451262845L-2.7386127875258306,-2.3717082451262845L2.7386127875258306,-2.3717082451262845Z\" style=\"fill: rgb(51, 10, 95); stroke-width: 2; opacity: 0.7;\"></path><path transform=\"translate(476,367.1111111111111)\" d=\"M0,2.3717082451262845L-2.7386127875258306,-2.3717082451262845L2.7386127875258306,-2.3717082451262845Z\" style=\"fill: rgb(51, 10, 95); stroke-width: 2; opacity: 0.7;\"></path><path transform=\"translate(478,368.8888888888889)\" d=\"M0,2.3717082451262845L-2.7386127875258306,-2.3717082451262845L2.7386127875258306,-2.3717082451262845Z\" style=\"fill: rgb(51, 10, 95); stroke-width: 2; opacity: 0.7;\"></path><path transform=\"translate(480,373.3333333333333)\" d=\"M0,2.3717082451262845L-2.7386127875258306,-2.3717082451262845L2.7386127875258306,-2.3717082451262845Z\" style=\"fill: rgb(51, 10, 95); stroke-width: 2; opacity: 0.7;\"></path><path transform=\"translate(482,372.44444444444446)\" d=\"M0,2.3717082451262845L-2.7386127875258306,-2.3717082451262845L2.7386127875258306,-2.3717082451262845Z\" style=\"fill: rgb(51, 10, 95); stroke-width: 2; opacity: 0.7;\"></path><path transform=\"translate(484,374.22222222222223)\" d=\"M0,2.3717082451262845L-2.7386127875258306,-2.3717082451262845L2.7386127875258306,-2.3717082451262845Z\" style=\"fill: rgb(51, 10, 95); stroke-width: 2; opacity: 0.7;\"></path><path transform=\"translate(486.00000000000006,50.666666666666686)\" d=\"M0,2.3717082451262845L-2.7386127875258306,-2.3717082451262845L2.7386127875258306,-2.3717082451262845Z\" style=\"fill: rgb(252, 181, 25); stroke-width: 2; opacity: 0.7;\"></path><path transform=\"translate(488,49.77777777777777)\" d=\"M0,2.3717082451262845L-2.7386127875258306,-2.3717082451262845L2.7386127875258306,-2.3717082451262845Z\" style=\"fill: rgb(252, 181, 25); stroke-width: 2; opacity: 0.7;\"></path><path transform=\"translate(490,51.5555555555556)\" d=\"M0,2.3717082451262845L-2.7386127875258306,-2.3717082451262845L2.7386127875258306,-2.3717082451262845Z\" style=\"fill: rgb(252, 181, 25); stroke-width: 2; opacity: 0.7;\"></path><path transform=\"translate(491.99999999999994,48)\" d=\"M0,2.3717082451262845L-2.7386127875258306,-2.3717082451262845L2.7386127875258306,-2.3717082451262845Z\" style=\"fill: rgb(252, 181, 25); stroke-width: 2; opacity: 0.7;\"></path><path transform=\"translate(494,47.111111111111086)\" d=\"M0,2.3717082451262845L-2.7386127875258306,-2.3717082451262845L2.7386127875258306,-2.3717082451262845Z\" style=\"fill: rgb(252, 181, 25); stroke-width: 2; opacity: 0.7;\"></path><path transform=\"translate(496,48.888888888888914)\" d=\"M0,2.3717082451262845L-2.7386127875258306,-2.3717082451262845L2.7386127875258306,-2.3717082451262845Z\" style=\"fill: rgb(252, 181, 25); stroke-width: 2; opacity: 0.7;\"></path><path transform=\"translate(498,53.333333333333314)\" d=\"M0,2.3717082451262845L-2.7386127875258306,-2.3717082451262845L2.7386127875258306,-2.3717082451262845Z\" style=\"fill: rgb(252, 181, 25); stroke-width: 2; opacity: 0.7;\"></path><path transform=\"translate(500,52.4444444444444)\" d=\"M0,2.3717082451262845L-2.7386127875258306,-2.3717082451262845L2.7386127875258306,-2.3717082451262845Z\" style=\"fill: rgb(252, 181, 25); stroke-width: 2; opacity: 0.7;\"></path><path transform=\"translate(502,54.22222222222223)\" d=\"M0,2.3717082451262845L-2.7386127875258306,-2.3717082451262845L2.7386127875258306,-2.3717082451262845Z\" style=\"fill: rgb(252, 181, 25); stroke-width: 2; opacity: 0.7;\"></path><path transform=\"translate(504,42.666666666666686)\" d=\"M0,2.3717082451262845L-2.7386127875258306,-2.3717082451262845L2.7386127875258306,-2.3717082451262845Z\" style=\"fill: rgb(252, 181, 25); stroke-width: 2; opacity: 0.7;\"></path><path transform=\"translate(506,41.77777777777777)\" d=\"M0,2.3717082451262845L-2.7386127875258306,-2.3717082451262845L2.7386127875258306,-2.3717082451262845Z\" style=\"fill: rgb(252, 181, 25); stroke-width: 2; opacity: 0.7;\"></path><path transform=\"translate(508,43.55555555555554)\" d=\"M0,2.3717082451262845L-2.7386127875258306,-2.3717082451262845L2.7386127875258306,-2.3717082451262845Z\" style=\"fill: rgb(252, 181, 25); stroke-width: 2; opacity: 0.7;\"></path><path transform=\"translate(510,40)\" d=\"M0,2.3717082451262845L-2.7386127875258306,-2.3717082451262845L2.7386127875258306,-2.3717082451262845Z\" style=\"fill: rgb(252, 181, 25); stroke-width: 2; opacity: 0.7;\"></path><path transform=\"translate(512,39.111111111111086)\" d=\"M0,2.3717082451262845L-2.7386127875258306,-2.3717082451262845L2.7386127875258306,-2.3717082451262845Z\" style=\"fill: rgb(252, 181, 25); stroke-width: 2; opacity: 0.7;\"></path><path transform=\"translate(514,40.888888888888914)\" d=\"M0,2.3717082451262845L-2.7386127875258306,-2.3717082451262845L2.7386127875258306,-2.3717082451262845Z\" style=\"fill: rgb(252, 181, 25); stroke-width: 2; opacity: 0.7;\"></path><path transform=\"translate(516,45.333333333333314)\" d=\"M0,2.3717082451262845L-2.7386127875258306,-2.3717082451262845L2.7386127875258306,-2.3717082451262845Z\" style=\"fill: rgb(252, 181, 25); stroke-width: 2; opacity: 0.7;\"></path><path transform=\"translate(518,44.44444444444446)\" d=\"M0,2.3717082451262845L-2.7386127875258306,-2.3717082451262845L2.7386127875258306,-2.3717082451262845Z\" style=\"fill: rgb(252, 181, 25); stroke-width: 2; opacity: 0.7;\"></path><path transform=\"translate(520,46.22222222222223)\" d=\"M0,2.3717082451262845L-2.7386127875258306,-2.3717082451262845L2.7386127875258306,-2.3717082451262845Z\" style=\"fill: rgb(252, 181, 25); stroke-width: 2; opacity: 0.7;\"></path><path transform=\"translate(522,58.66666666666663)\" d=\"M0,2.3717082451262845L-2.7386127875258306,-2.3717082451262845L2.7386127875258306,-2.3717082451262845Z\" style=\"fill: rgb(252, 181, 25); stroke-width: 2; opacity: 0.7;\"></path><path transform=\"translate(524,57.77777777777777)\" d=\"M0,2.3717082451262845L-2.7386127875258306,-2.3717082451262845L2.7386127875258306,-2.3717082451262845Z\" style=\"fill: rgb(252, 181, 25); stroke-width: 2; opacity: 0.7;\"></path><path transform=\"translate(526,59.55555555555554)\" d=\"M0,2.3717082451262845L-2.7386127875258306,-2.3717082451262845L2.7386127875258306,-2.3717082451262845Z\" style=\"fill: rgb(252, 181, 25); stroke-width: 2; opacity: 0.7;\"></path><path transform=\"translate(528,56)\" d=\"M0,2.3717082451262845L-2.7386127875258306,-2.3717082451262845L2.7386127875258306,-2.3717082451262845Z\" style=\"fill: rgb(252, 181, 25); stroke-width: 2; opacity: 0.7;\"></path><path transform=\"translate(530,55.111111111111086)\" d=\"M0,2.3717082451262845L-2.7386127875258306,-2.3717082451262845L2.7386127875258306,-2.3717082451262845Z\" style=\"fill: rgb(252, 181, 25); stroke-width: 2; opacity: 0.7;\"></path><path transform=\"translate(532,56.888888888888914)\" d=\"M0,2.3717082451262845L-2.7386127875258306,-2.3717082451262845L2.7386127875258306,-2.3717082451262845Z\" style=\"fill: rgb(252, 181, 25); stroke-width: 2; opacity: 0.7;\"></path><path transform=\"translate(534,61.333333333333314)\" d=\"M0,2.3717082451262845L-2.7386127875258306,-2.3717082451262845L2.7386127875258306,-2.3717082451262845Z\" style=\"fill: rgb(252, 181, 25); stroke-width: 2; opacity: 0.7;\"></path><path transform=\"translate(536,60.44444444444446)\" d=\"M0,2.3717082451262845L-2.7386127875258306,-2.3717082451262845L2.7386127875258306,-2.3717082451262845Z\" style=\"fill: rgb(252, 181, 25); stroke-width: 2; opacity: 0.7;\"></path><path transform=\"translate(538,62.22222222222223)\" d=\"M0,2.3717082451262845L-2.7386127875258306,-2.3717082451262845L2.7386127875258306,-2.3717082451262845Z\" style=\"fill: rgb(252, 181, 25); stroke-width: 2; opacity: 0.7;\"></path><path transform=\"translate(540,26.666666666666686)\" d=\"M0,2.3717082451262845L-2.7386127875258306,-2.3717082451262845L2.7386127875258306,-2.3717082451262845Z\" style=\"fill: rgb(252, 181, 25); stroke-width: 2; opacity: 0.7;\"></path><path transform=\"translate(542,25.77777777777777)\" d=\"M0,2.3717082451262845L-2.7386127875258306,-2.3717082451262845L2.7386127875258306,-2.3717082451262845Z\" style=\"fill: rgb(252, 181, 25); stroke-width: 2; opacity: 0.7;\"></path><path transform=\"translate(544,27.555555555555543)\" d=\"M0,2.3717082451262845L-2.7386127875258306,-2.3717082451262845L2.7386127875258306,-2.3717082451262845Z\" style=\"fill: rgb(252, 181, 25); stroke-width: 2; opacity: 0.7;\"></path><path transform=\"translate(546,24)\" d=\"M0,2.3717082451262845L-2.7386127875258306,-2.3717082451262845L2.7386127875258306,-2.3717082451262845Z\" style=\"fill: rgb(252, 181, 25); stroke-width: 2; opacity: 0.7;\"></path><path transform=\"translate(548,23.111111111111143)\" d=\"M0,2.3717082451262845L-2.7386127875258306,-2.3717082451262845L2.7386127875258306,-2.3717082451262845Z\" style=\"fill: rgb(252, 181, 25); stroke-width: 2; opacity: 0.7;\"></path><path transform=\"translate(550,24.888888888888857)\" d=\"M0,2.3717082451262845L-2.7386127875258306,-2.3717082451262845L2.7386127875258306,-2.3717082451262845Z\" style=\"fill: rgb(252, 181, 25); stroke-width: 2; opacity: 0.7;\"></path><path transform=\"translate(552,29.33333333333337)\" d=\"M0,2.3717082451262845L-2.7386127875258306,-2.3717082451262845L2.7386127875258306,-2.3717082451262845Z\" style=\"fill: rgb(252, 181, 25); stroke-width: 2; opacity: 0.7;\"></path><path transform=\"translate(554,28.444444444444457)\" d=\"M0,2.3717082451262845L-2.7386127875258306,-2.3717082451262845L2.7386127875258306,-2.3717082451262845Z\" style=\"fill: rgb(252, 181, 25); stroke-width: 2; opacity: 0.7;\"></path><path transform=\"translate(556,30.22222222222223)\" d=\"M0,2.3717082451262845L-2.7386127875258306,-2.3717082451262845L2.7386127875258306,-2.3717082451262845Z\" style=\"fill: rgb(252, 181, 25); stroke-width: 2; opacity: 0.7;\"></path><path transform=\"translate(558,18.66666666666663)\" d=\"M0,2.3717082451262845L-2.7386127875258306,-2.3717082451262845L2.7386127875258306,-2.3717082451262845Z\" style=\"fill: rgb(252, 181, 25); stroke-width: 2; opacity: 0.7;\"></path><path transform=\"translate(560,17.77777777777777)\" d=\"M0,2.3717082451262845L-2.7386127875258306,-2.3717082451262845L2.7386127875258306,-2.3717082451262845Z\" style=\"fill: rgb(252, 181, 25); stroke-width: 2; opacity: 0.7;\"></path><path transform=\"translate(562,19.555555555555543)\" d=\"M0,2.3717082451262845L-2.7386127875258306,-2.3717082451262845L2.7386127875258306,-2.3717082451262845Z\" style=\"fill: rgb(252, 181, 25); stroke-width: 2; opacity: 0.7;\"></path><path transform=\"translate(564,16)\" d=\"M0,2.3717082451262845L-2.7386127875258306,-2.3717082451262845L2.7386127875258306,-2.3717082451262845Z\" style=\"fill: rgb(252, 181, 25); stroke-width: 2; opacity: 0.7;\"></path><path transform=\"translate(566,15.111111111111143)\" d=\"M0,2.3717082451262845L-2.7386127875258306,-2.3717082451262845L2.7386127875258306,-2.3717082451262845Z\" style=\"fill: rgb(252, 181, 25); stroke-width: 2; opacity: 0.7;\"></path><path transform=\"translate(568,16.888888888888914)\" d=\"M0,2.3717082451262845L-2.7386127875258306,-2.3717082451262845L2.7386127875258306,-2.3717082451262845Z\" style=\"fill: rgb(252, 181, 25); stroke-width: 2; opacity: 0.7;\"></path><path transform=\"translate(570,21.333333333333314)\" d=\"M0,2.3717082451262845L-2.7386127875258306,-2.3717082451262845L2.7386127875258306,-2.3717082451262845Z\" style=\"fill: rgb(252, 181, 25); stroke-width: 2; opacity: 0.7;\"></path><path transform=\"translate(572,20.444444444444457)\" d=\"M0,2.3717082451262845L-2.7386127875258306,-2.3717082451262845L2.7386127875258306,-2.3717082451262845Z\" style=\"fill: rgb(252, 181, 25); stroke-width: 2; opacity: 0.7;\"></path><path transform=\"translate(574,22.22222222222223)\" d=\"M0,2.3717082451262845L-2.7386127875258306,-2.3717082451262845L2.7386127875258306,-2.3717082451262845Z\" style=\"fill: rgb(252, 181, 25); stroke-width: 2; opacity: 0.7;\"></path><path transform=\"translate(576,34.666666666666686)\" d=\"M0,2.3717082451262845L-2.7386127875258306,-2.3717082451262845L2.7386127875258306,-2.3717082451262845Z\" style=\"fill: rgb(252, 181, 25); stroke-width: 2; opacity: 0.7;\"></path><path transform=\"translate(578,33.77777777777777)\" d=\"M0,2.3717082451262845L-2.7386127875258306,-2.3717082451262845L2.7386127875258306,-2.3717082451262845Z\" style=\"fill: rgb(252, 181, 25); stroke-width: 2; opacity: 0.7;\"></path><path transform=\"translate(580,35.55555555555554)\" d=\"M0,2.3717082451262845L-2.7386127875258306,-2.3717082451262845L2.7386127875258306,-2.3717082451262845Z\" style=\"fill: rgb(252, 181, 25); stroke-width: 2; opacity: 0.7;\"></path><path transform=\"translate(582,32)\" d=\"M0,2.3717082451262845L-2.7386127875258306,-2.3717082451262845L2.7386127875258306,-2.3717082451262845Z\" style=\"fill: rgb(252, 181, 25); stroke-width: 2; opacity: 0.7;\"></path><path transform=\"translate(584,31.111111111111086)\" d=\"M0,2.3717082451262845L-2.7386127875258306,-2.3717082451262845L2.7386127875258306,-2.3717082451262845Z\" style=\"fill: rgb(252, 181, 25); stroke-width: 2; opacity: 0.7;\"></path><path transform=\"translate(586,32.88888888888886)\" d=\"M0,2.3717082451262845L-2.7386127875258306,-2.3717082451262845L2.7386127875258306,-2.3717082451262845Z\" style=\"fill: rgb(252, 181, 25); stroke-width: 2; opacity: 0.7;\"></path><path transform=\"translate(588,37.33333333333337)\" d=\"M0,2.3717082451262845L-2.7386127875258306,-2.3717082451262845L2.7386127875258306,-2.3717082451262845Z\" style=\"fill: rgb(252, 181, 25); stroke-width: 2; opacity: 0.7;\"></path><path transform=\"translate(590,36.44444444444446)\" d=\"M0,2.3717082451262845L-2.7386127875258306,-2.3717082451262845L2.7386127875258306,-2.3717082451262845Z\" style=\"fill: rgb(252, 181, 25); stroke-width: 2; opacity: 0.7;\"></path><path transform=\"translate(592,38.22222222222223)\" d=\"M0,2.3717082451262845L-2.7386127875258306,-2.3717082451262845L2.7386127875258306,-2.3717082451262845Z\" style=\"fill: rgb(252, 181, 25); stroke-width: 2; opacity: 0.7;\"></path><path transform=\"translate(594,74.66666666666669)\" d=\"M0,2.3717082451262845L-2.7386127875258306,-2.3717082451262845L2.7386127875258306,-2.3717082451262845Z\" style=\"fill: rgb(252, 181, 25); stroke-width: 2; opacity: 0.7;\"></path><path transform=\"translate(596,73.77777777777777)\" d=\"M0,2.3717082451262845L-2.7386127875258306,-2.3717082451262845L2.7386127875258306,-2.3717082451262845Z\" style=\"fill: rgb(252, 181, 25); stroke-width: 2; opacity: 0.7;\"></path><path transform=\"translate(598,75.55555555555554)\" d=\"M0,2.3717082451262845L-2.7386127875258306,-2.3717082451262845L2.7386127875258306,-2.3717082451262845Z\" style=\"fill: rgb(252, 181, 25); stroke-width: 2; opacity: 0.7;\"></path><path transform=\"translate(600,72)\" d=\"M0,2.3717082451262845L-2.7386127875258306,-2.3717082451262845L2.7386127875258306,-2.3717082451262845Z\" style=\"fill: rgb(252, 181, 25); stroke-width: 2; opacity: 0.7;\"></path></g><g class=\"mark-group role-axis\"><g transform=\"translate(0.5,400.5)\"><path class=\"background\" d=\"M0,0h0v0h0Z\" style=\"pointer-events: none; fill: none;\"></path><g><g class=\"mark-rule role-axis-tick\" style=\"pointer-events: none;\"><line transform=\"translate(0,0)\" x2=\"0\" y2=\"5\" style=\"fill: none; stroke: #888; stroke-width: 1; opacity: 1;\"></line><line transform=\"translate(40,0)\" x2=\"0\" y2=\"5\" style=\"fill: none; stroke: #888; stroke-width: 1; opacity: 1;\"></line><line transform=\"translate(80,0)\" x2=\"0\" y2=\"5\" style=\"fill: none; stroke: #888; stroke-width: 1; opacity: 1;\"></line><line transform=\"translate(120,0)\" x2=\"0\" y2=\"5\" style=\"fill: none; stroke: #888; stroke-width: 1; opacity: 1;\"></line><line transform=\"translate(160,0)\" x2=\"0\" y2=\"5\" style=\"fill: none; stroke: #888; stroke-width: 1; opacity: 1;\"></line><line transform=\"translate(200,0)\" x2=\"0\" y2=\"5\" style=\"fill: none; stroke: #888; stroke-width: 1; opacity: 1;\"></line><line transform=\"translate(240,0)\" x2=\"0\" y2=\"5\" style=\"fill: none; stroke: #888; stroke-width: 1; opacity: 1;\"></line><line transform=\"translate(280,0)\" x2=\"0\" y2=\"5\" style=\"fill: none; stroke: #888; stroke-width: 1; opacity: 1;\"></line><line transform=\"translate(320,0)\" x2=\"0\" y2=\"5\" style=\"fill: none; stroke: #888; stroke-width: 1; opacity: 1;\"></line><line transform=\"translate(360,0)\" x2=\"0\" y2=\"5\" style=\"fill: none; stroke: #888; stroke-width: 1; opacity: 1;\"></line><line transform=\"translate(400,0)\" x2=\"0\" y2=\"5\" style=\"fill: none; stroke: #888; stroke-width: 1; opacity: 1;\"></line><line transform=\"translate(440,0)\" x2=\"0\" y2=\"5\" style=\"fill: none; stroke: #888; stroke-width: 1; opacity: 1;\"></line><line transform=\"translate(480,0)\" x2=\"0\" y2=\"5\" style=\"fill: none; stroke: #888; stroke-width: 1; opacity: 1;\"></line><line transform=\"translate(520,0)\" x2=\"0\" y2=\"5\" style=\"fill: none; stroke: #888; stroke-width: 1; opacity: 1;\"></line><line transform=\"translate(560,0)\" x2=\"0\" y2=\"5\" style=\"fill: none; stroke: #888; stroke-width: 1; opacity: 1;\"></line><line transform=\"translate(600,0)\" x2=\"0\" y2=\"5\" style=\"fill: none; stroke: #888; stroke-width: 1; opacity: 1;\"></line></g><g class=\"mark-text role-axis-label\" style=\"pointer-events: none;\"><text text-anchor=\"start\" transform=\"translate(0,15)\" style=\"font-family: sans-serif; font-size: 10px; fill: #000; opacity: 1;\">0</text><text text-anchor=\"middle\" transform=\"translate(40,15)\" style=\"font-family: sans-serif; font-size: 10px; fill: #000; opacity: 1;\">20</text><text text-anchor=\"middle\" transform=\"translate(80,15)\" style=\"font-family: sans-serif; font-size: 10px; fill: #000; opacity: 1;\">40</text><text text-anchor=\"middle\" transform=\"translate(120,15)\" style=\"font-family: sans-serif; font-size: 10px; fill: #000; opacity: 1;\">60</text><text text-anchor=\"middle\" transform=\"translate(160,15)\" style=\"font-family: sans-serif; font-size: 10px; fill: #000; opacity: 1;\">80</text><text text-anchor=\"middle\" transform=\"translate(200,15)\" style=\"font-family: sans-serif; font-size: 10px; fill: #000; opacity: 1;\">100</text><text text-anchor=\"middle\" transform=\"translate(240,15)\" style=\"font-family: sans-serif; font-size: 10px; fill: #000; opacity: 1;\">120</text><text text-anchor=\"middle\" transform=\"translate(280,15)\" style=\"font-family: sans-serif; font-size: 10px; fill: #000; opacity: 1;\">140</text><text text-anchor=\"middle\" transform=\"translate(320,15)\" style=\"font-family: sans-serif; font-size: 10px; fill: #000; opacity: 1;\">160</text><text text-anchor=\"middle\" transform=\"translate(360,15)\" style=\"font-family: sans-serif; font-size: 10px; fill: #000; opacity: 1;\">180</text><text text-anchor=\"middle\" transform=\"translate(400,15)\" style=\"font-family: sans-serif; font-size: 10px; fill: #000; opacity: 1;\">200</text><text text-anchor=\"middle\" transform=\"translate(439.99999999999994,15)\" style=\"font-family: sans-serif; font-size: 10px; fill: #000; opacity: 1;\">220</text><text text-anchor=\"middle\" transform=\"translate(480,15)\" style=\"font-family: sans-serif; font-size: 10px; fill: #000; opacity: 1;\">240</text><text text-anchor=\"middle\" transform=\"translate(520,15)\" style=\"font-family: sans-serif; font-size: 10px; fill: #000; opacity: 1;\">260</text><text text-anchor=\"middle\" transform=\"translate(560,15)\" style=\"font-family: sans-serif; font-size: 10px; fill: #000; opacity: 1;\">280</text><text text-anchor=\"end\" transform=\"translate(600,15)\" style=\"font-family: sans-serif; font-size: 10px; fill: #000; opacity: 1;\">300</text></g><g class=\"mark-rule role-axis-domain\" style=\"pointer-events: none;\"><line transform=\"translate(0,0)\" x2=\"600\" y2=\"0\" style=\"fill: none; stroke: #888; stroke-width: 1; opacity: 1;\"></line></g><g class=\"mark-text role-axis-title\" style=\"pointer-events: none;\"><text text-anchor=\"middle\" transform=\"translate(300,30)\" style=\"font-family: sans-serif; font-size: 11px; font-weight: bold; fill: #000; opacity: 1;\">ID</text></g></g></g></g><g class=\"mark-group role-axis\"><g transform=\"translate(0.5,0.5)\"><path class=\"background\" d=\"M0,0h0v0h0Z\" style=\"pointer-events: none; fill: none;\"></path><g><g class=\"mark-rule role-axis-tick\" style=\"pointer-events: none;\"><line transform=\"translate(0,400)\" x2=\"-5\" y2=\"0\" style=\"fill: none; stroke: #888; stroke-width: 1; opacity: 1;\"></line><line transform=\"translate(0,356)\" x2=\"-5\" y2=\"0\" style=\"fill: none; stroke: #888; stroke-width: 1; opacity: 1;\"></line><line transform=\"translate(0,311)\" x2=\"-5\" y2=\"0\" style=\"fill: none; stroke: #888; stroke-width: 1; opacity: 1;\"></line><line transform=\"translate(0,267)\" x2=\"-5\" y2=\"0\" style=\"fill: none; stroke: #888; stroke-width: 1; opacity: 1;\"></line><line transform=\"translate(0,222)\" x2=\"-5\" y2=\"0\" style=\"fill: none; stroke: #888; stroke-width: 1; opacity: 1;\"></line><line transform=\"translate(0,178)\" x2=\"-5\" y2=\"0\" style=\"fill: none; stroke: #888; stroke-width: 1; opacity: 1;\"></line><line transform=\"translate(0,133)\" x2=\"-5\" y2=\"0\" style=\"fill: none; stroke: #888; stroke-width: 1; opacity: 1;\"></line><line transform=\"translate(0,89)\" x2=\"-5\" y2=\"0\" style=\"fill: none; stroke: #888; stroke-width: 1; opacity: 1;\"></line><line transform=\"translate(0,44)\" x2=\"-5\" y2=\"0\" style=\"fill: none; stroke: #888; stroke-width: 1; opacity: 1;\"></line><line transform=\"translate(0,0)\" x2=\"-5\" y2=\"0\" style=\"fill: none; stroke: #888; stroke-width: 1; opacity: 1;\"></line></g><g class=\"mark-text role-axis-label\" style=\"pointer-events: none;\"><text text-anchor=\"end\" transform=\"translate(-7,403)\" style=\"font-family: sans-serif; font-size: 10px; fill: #000; opacity: 1;\">-150</text><text text-anchor=\"end\" transform=\"translate(-7,358.55555555555554)\" style=\"font-family: sans-serif; font-size: 10px; fill: #000; opacity: 1;\">-100</text><text text-anchor=\"end\" transform=\"translate(-7,314.1111111111111)\" style=\"font-family: sans-serif; font-size: 10px; fill: #000; opacity: 1;\">-50</text><text text-anchor=\"end\" transform=\"translate(-7,269.6666666666667)\" style=\"font-family: sans-serif; font-size: 10px; fill: #000; opacity: 1;\">0</text><text text-anchor=\"end\" transform=\"translate(-7,225.22222222222223)\" style=\"font-family: sans-serif; font-size: 10px; fill: #000; opacity: 1;\">50</text><text text-anchor=\"end\" transform=\"translate(-7,180.77777777777777)\" style=\"font-family: sans-serif; font-size: 10px; fill: #000; opacity: 1;\">100</text><text text-anchor=\"end\" transform=\"translate(-7,136.33333333333337)\" style=\"font-family: sans-serif; font-size: 10px; fill: #000; opacity: 1;\">150</text><text text-anchor=\"end\" transform=\"translate(-7,91.88888888888886)\" style=\"font-family: sans-serif; font-size: 10px; fill: #000; opacity: 1;\">200</text><text text-anchor=\"end\" transform=\"translate(-7,47.44444444444446)\" style=\"font-family: sans-serif; font-size: 10px; fill: #000; opacity: 1;\">250</text><text text-anchor=\"end\" transform=\"translate(-7,3)\" style=\"font-family: sans-serif; font-size: 10px; fill: #000; opacity: 1;\">300</text></g><g class=\"mark-rule role-axis-domain\" style=\"pointer-events: none;\"><line transform=\"translate(0,400)\" x2=\"0\" y2=\"-400\" style=\"fill: none; stroke: #888; stroke-width: 1; opacity: 1;\"></line></g><g class=\"mark-text role-axis-title\" style=\"pointer-events: none;\"><text text-anchor=\"middle\" transform=\"translate(-33,200) rotate(-90) translate(0,-2)\" style=\"font-family: sans-serif; font-size: 11px; font-weight: bold; fill: #000; opacity: 1;\">S</text></g></g></g></g></g></g></g><g class=\"mark-group role-legend\"><g transform=\"translate(1287,0)\"><path class=\"background\" d=\"M0,0h36v216h-36Z\" style=\"pointer-events: none; fill: none;\"></path><g><g class=\"mark-group role-legend-entry\"><g transform=\"translate(0,16)\"><path class=\"background\" d=\"M0,0h0v0h0Z\" style=\"pointer-events: none; fill: none;\"></path><g><g class=\"mark-rect role-legend-band\" style=\"pointer-events: none;\"><path d=\"M0,160h16v40h-16Z\" style=\"fill: rgb(51, 10, 95); stroke: #ddd; stroke-width: 0; opacity: 1;\"></path><path d=\"M0,120.00000000000001h16v39.999999999999986h-16Z\" style=\"fill: rgb(120, 28, 109); stroke: #ddd; stroke-width: 0; opacity: 1;\"></path><path d=\"M0,80h16v40.000000000000014h-16Z\" style=\"fill: rgb(187, 55, 85); stroke: #ddd; stroke-width: 0; opacity: 1;\"></path><path d=\"M0,40.000000000000014h16v39.999999999999986h-16Z\" style=\"fill: rgb(237, 105, 37); stroke: #ddd; stroke-width: 0; opacity: 1;\"></path><path d=\"M0,0h16v40.000000000000014h-16Z\" style=\"fill: rgb(252, 181, 25); stroke: #ddd; stroke-width: 0; opacity: 1;\"></path></g><g class=\"mark-text role-legend-label\" style=\"pointer-events: none;\"><text text-anchor=\"start\" transform=\"translate(18,198)\" style=\"font-family: sans-serif; font-size: 10px; fill: #000; opacity: 1;\"></text><text text-anchor=\"start\" transform=\"translate(18,163)\" style=\"font-family: sans-serif; font-size: 10px; fill: #000; opacity: 1;\">-40</text><text text-anchor=\"start\" transform=\"translate(18,123.00000000000001)\" style=\"font-family: sans-serif; font-size: 10px; fill: #000; opacity: 1;\">41</text><text text-anchor=\"start\" transform=\"translate(18,83)\" style=\"font-family: sans-serif; font-size: 10px; fill: #000; opacity: 1;\">121</text><text text-anchor=\"start\" transform=\"translate(18,43.000000000000014)\" style=\"font-family: sans-serif; font-size: 10px; fill: #000; opacity: 1;\">202</text></g></g></g></g><g class=\"mark-text role-legend-title\" style=\"pointer-events: none;\"><text text-anchor=\"start\" transform=\"translate(0,9)\" style=\"font-family: sans-serif; font-size: 11px; font-weight: bold; fill: #000; opacity: 1;\">S</text></g></g></g></g></g></g></g></g></svg>"
      ],
      "text/plain": [
       "VegaLite.VLSpec{:plot}"
      ]
     },
     "execution_count": 136,
     "metadata": {},
     "output_type": "execute_result"
    }
   ],
   "source": [
    "bt |> vl\"\"\"\n",
    "{\n",
    "\"hconcat\":[{\n",
    "\n",
    "  \"selection\": {\n",
    "    \"grid\": {\n",
    "      \"type\": \"interval\", \"bind\": \"scales\"\n",
    "    }},\n",
    "  \"mark\": \"line\",\n",
    "  \"width\": 600,\n",
    "  \"height\": 400,\n",
    "  \"encoding\": {\n",
    "    \"x\": {\"field\": \"ID\", \"type\": \"quantitative\", \"axis\": {\"grid\":false}},\n",
    "    \"y\": {\"field\": \"S\", \"type\": \"quantitative\", \"axis\":{\"grid\":false}},\n",
    "    \"color\": {\n",
    "      \"value\": \"black\"\n",
    "    }\n",
    "  }\n",
    "\n",
    "},\n",
    "{\n",
    "  \"selection\": {\n",
    "    \"grid\": {\n",
    "      \"type\": \"interval\", \"bind\": \"scales\"\n",
    "    }},\n",
    "  \"mark\": {\"type\": \"point\", \"shape\":\"triangle-down\", \"filled\":true},\n",
    "  \"width\": 600,\n",
    "  \"height\": 400,\n",
    "  \"encoding\": {\n",
    "    \"x\": {\"field\": \"ID\", \"type\": \"quantitative\", \"axis\": {\"grid\":false}},\n",
    "    \"y\": {\"field\": \"S\", \"type\": \"quantitative\", \"axis\":{\"grid\":false}},\n",
    "    \"color\": {\n",
    "      \"field\": \"S\", \"type\":\"quantitative\",\n",
    "      \"scale\": {\"type\": \"quantize\",\"zero\": true,\"scheme\": \"inferno\"}\n",
    "    }\n",
    "  }\n",
    "}\n",
    "]\n",
    "}\n",
    "\"\"\""
   ]
  },
  {
   "cell_type": "markdown",
   "metadata": {},
   "source": [
    "### Stern's diatomic series (or Stern-Brocot sequence):\n",
    "a(0) = 0, a(1) = 1; for n > 0: a(2*n) = a(n), a(2*n+1) = a(n) + a(n+1). "
   ]
  },
  {
   "cell_type": "code",
   "execution_count": null,
   "metadata": {},
   "outputs": [],
   "source": []
  },
  {
   "cell_type": "code",
   "execution_count": null,
   "metadata": {},
   "outputs": [],
   "source": []
  }
 ],
 "metadata": {
  "kernelspec": {
   "display_name": "Julia 1.0.5",
   "language": "julia",
   "name": "julia-1.0"
  },
  "language_info": {
   "file_extension": ".jl",
   "mimetype": "application/julia",
   "name": "julia",
   "version": "1.0.5"
  }
 },
 "nbformat": 4,
 "nbformat_minor": 4
}
